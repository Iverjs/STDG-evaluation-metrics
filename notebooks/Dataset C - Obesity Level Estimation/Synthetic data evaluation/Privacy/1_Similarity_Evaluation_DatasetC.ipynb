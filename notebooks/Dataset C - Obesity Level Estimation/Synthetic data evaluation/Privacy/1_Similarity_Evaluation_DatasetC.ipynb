{
 "cells": [
  {
   "cell_type": "markdown",
   "metadata": {},
   "source": [
    "# Similarity Evaluation Analysis (SEA) Dataset C"
   ]
  },
  {
   "cell_type": "code",
   "execution_count": 1,
   "metadata": {},
   "outputs": [
    {
     "name": "stdout",
     "output_type": "stream",
     "text": [
      "Libraries imported!!\n"
     ]
    }
   ],
   "source": [
    "#import libraries\n",
    "import warnings\n",
    "warnings.filterwarnings(\"ignore\")\n",
    "import numpy as np\n",
    "import pandas as pd\n",
    "from matplotlib import pyplot as plt\n",
    "import seaborn as sns\n",
    "import os\n",
    "print('Libraries imported!!')"
   ]
  },
  {
   "cell_type": "code",
   "execution_count": 2,
   "metadata": {},
   "outputs": [
    {
     "name": "stdout",
     "output_type": "stream",
     "text": [
      "Functions imported!!\n"
     ]
    }
   ],
   "source": [
    "#define directory of functions and actual directory\n",
    "HOME_PATH = '' #home path of the project\n",
    "FUNCTIONS_DIR = 'EVALUATION FUNCTIONS/PRIVACY'\n",
    "ACTUAL_DIR = os.getcwd()\n",
    "\n",
    "#change directory to functions directory\n",
    "os.chdir(HOME_PATH + FUNCTIONS_DIR)\n",
    "\n",
    "#import functions for univariate resemblance analisys\n",
    "from similarity_evaluation import scale_data\n",
    "from similarity_evaluation import pairwise_euclidean_distance\n",
    "from similarity_evaluation import hausdorff_distance\n",
    "from similarity_evaluation import rts_similarity\n",
    "\n",
    "#change directory to actual directory\n",
    "os.chdir(ACTUAL_DIR)\n",
    "print('Functions imported!!')"
   ]
  },
  {
   "cell_type": "markdown",
   "metadata": {},
   "source": [
    "## 1. Read real and synthetic datasets\n",
    "In this part real and synthetic datasets are read."
   ]
  },
  {
   "cell_type": "code",
   "execution_count": 3,
   "metadata": {},
   "outputs": [],
   "source": [
    "#Define global variables\n",
    "DATA_TYPES = ['Real','GM','SDV','CTGAN','WGANGP']\n",
    "SYNTHESIZERS = ['GM','SDV','CTGAN','WGANGP']\n",
    "FILEPATHS = {'Real' : HOME_PATH + 'REAL DATASETS/TRAIN DATASETS/C_Obesity_Data_Real_Train.csv',\n",
    "            'GM' : HOME_PATH + 'SYNTHETIC DATASETS/GM/C_Obesity_Data_Synthetic_GM.csv',\n",
    "            'SDV' : HOME_PATH + 'SYNTHETIC DATASETS/SDV/C_Obesity_Data_Synthetic_SDV.csv',\n",
    "            'CTGAN' : HOME_PATH + 'SYNTHETIC DATASETS/CTGAN/C_Obesity_Data_Synthetic_CTGAN.csv',\n",
    "            'WGANGP' : HOME_PATH + 'SYNTHETIC DATASETS/WGANGP/C_Obesity_Data_Synthetic_WGANGP.csv'}\n",
    "categorical_columns = ['Gender','family_history_with_overweight','FAVC','CAEC','SMOKE','SCC','CALC','MTRANS','Obesity_level']\n",
    "data = dict()"
   ]
  },
  {
   "cell_type": "code",
   "execution_count": 4,
   "metadata": {},
   "outputs": [
    {
     "data": {
      "text/plain": [
       "{'Real':       Gender  Age  Height  Weight  family_history_with_overweight  FAVC  \\\n",
       " 0          0   21    1.63   60.00                               1     1   \n",
       " 1          0   21    1.75  133.62                               1     1   \n",
       " 2          0   23    1.66   82.60                               1     1   \n",
       " 3          0   22    1.59   44.24                               0     0   \n",
       " 4          1   26    1.81  106.04                               1     1   \n",
       " ...      ...  ...     ...     ...                             ...   ...   \n",
       " 1683       1   32    1.75  120.10                               1     1   \n",
       " 1684       1   23    1.72   81.67                               1     1   \n",
       " 1685       0   23    1.65   80.00                               1     1   \n",
       " 1686       0   23    1.63   84.50                               1     1   \n",
       " 1687       1   20    1.82   85.00                               1     1   \n",
       " \n",
       "           FCVC       NCP  CAEC  SMOKE      CH2O  SCC       FAF       TUE  \\\n",
       " 0     3.000000  3.000000     0      1  2.000000    0  2.000000  0.000000   \n",
       " 1     3.000000  3.000000     2      0  2.887659    0  1.480919  0.779641   \n",
       " 2     1.203754  1.355354     2      0  2.765593    0  0.128342  1.659476   \n",
       " 3     3.000000  1.696080     1      0  2.550307    0  1.098862  0.000000   \n",
       " 4     3.000000  3.000000     2      0  2.858171    0  1.813318  0.680215   \n",
       " ...        ...       ...   ...    ...       ...  ...       ...       ...   \n",
       " 1683  2.967300  3.000000     2      0  2.530035    0  0.955317  1.339232   \n",
       " 1684  2.000000  1.729553     2      0  1.400247    0  0.887923  1.011983   \n",
       " 1685  2.000000  3.000000     2      0  2.000000    0  0.146919  2.000000   \n",
       " 1686  2.058687  2.962004     2      0  2.010596    0  0.851059  0.630866   \n",
       " 1687  2.951180  3.000000     2      0  3.000000    0  2.433918  0.561602   \n",
       " \n",
       "       CALC  MTRANS  Obesity_level  \n",
       " 0        2       3              1  \n",
       " 1        2       3              4  \n",
       " 2        2       3              2  \n",
       " 3        3       3              0  \n",
       " 4        2       3              2  \n",
       " ...    ...     ...            ...  \n",
       " 1683     2       0              3  \n",
       " 1684     2       3              6  \n",
       " 1685     3       3              6  \n",
       " 1686     3       3              2  \n",
       " 1687     2       3              5  \n",
       " \n",
       " [1688 rows x 17 columns],\n",
       " 'GM':       Gender  Age    Height      Weight  family_history_with_overweight  FAVC  \\\n",
       " 0          0   21  1.736983   96.575084                               1     1   \n",
       " 1          1   27  1.791849  132.568140                               1     1   \n",
       " 2          1   16  1.849836   80.521419                               0     1   \n",
       " 3          1   20  1.753469  107.888290                               1     1   \n",
       " 4          0   33  1.616082  112.720873                               1     1   \n",
       " ...      ...  ...       ...         ...                             ...   ...   \n",
       " 1683       1   23  1.729979  107.686391                               1     1   \n",
       " 1684       1   24  1.722470  122.682563                               1     1   \n",
       " 1685       0   26  1.761826   88.618928                               1     1   \n",
       " 1686       0   21  1.508331  102.850821                               1     1   \n",
       " 1687       0   25  1.587326  131.071269                               1     1   \n",
       " \n",
       "           FCVC       NCP  CAEC  SMOKE      CH2O  SCC       FAF       TUE  \\\n",
       " 0     3.043926  3.229494     2      0  2.767918    0  0.559224  0.723408   \n",
       " 1     2.743510  3.213367     2      0  2.543950    0 -0.718087  0.050567   \n",
       " 2     2.474037  2.287594     1      0  3.005978    0  0.120772  1.338905   \n",
       " 3     2.575027  2.686841     2      0  2.198808    0  1.113582  0.739439   \n",
       " 4     2.779278  1.335992     2      0  2.765885    0  1.447929  1.321864   \n",
       " ...        ...       ...   ...    ...       ...  ...       ...       ...   \n",
       " 1683  3.038139  3.429195     2      0  1.447293    0  0.157166  0.764616   \n",
       " 1684  2.556549  3.763153     2      0  2.444046    0  2.250645  0.188289   \n",
       " 1685  2.240721  3.604517     2      0  2.886618    0  0.781996  0.615303   \n",
       " 1686  2.048591  1.967142     2      0  2.308040    0 -0.629877 -0.509730   \n",
       " 1687  2.548532  1.763349     2      0  1.135346    0  1.327956  1.790538   \n",
       " \n",
       "       CALC  MTRANS  Obesity_level  \n",
       " 0        1       3              0  \n",
       " 1        1       3              3  \n",
       " 2        1       3              5  \n",
       " 3        1       3              6  \n",
       " 4        1       3              2  \n",
       " ...    ...     ...            ...  \n",
       " 1683     1       0              4  \n",
       " 1684     1       3              4  \n",
       " 1685     1       0              2  \n",
       " 1686     1       3              2  \n",
       " 1687     2       3              4  \n",
       " \n",
       " [1688 rows x 17 columns],\n",
       " 'SDV':       Gender  Age  Height  Weight  family_history_with_overweight  FAVC  \\\n",
       " 0          1   28    1.76  123.43                               1     1   \n",
       " 1          1   12    1.69   40.75                               1     1   \n",
       " 2          0   18    1.63   94.78                               1     1   \n",
       " 3          1   21    1.82  137.00                               0     1   \n",
       " 4          0   38    1.65   84.02                               1     1   \n",
       " ...      ...  ...     ...     ...                             ...   ...   \n",
       " 1683       1   31    1.48   76.02                               1     1   \n",
       " 1684       0   21    1.67   45.28                               1     1   \n",
       " 1685       1   32    1.69  103.85                               1     1   \n",
       " 1686       1   22    1.77  115.65                               1     1   \n",
       " 1687       0   30    1.56   80.21                               1     1   \n",
       " \n",
       "           FCVC       NCP  CAEC  SMOKE      CH2O  SCC       FAF       TUE  \\\n",
       " 0     3.205596  2.903116     2      0  1.904073    0  0.448286  0.313930   \n",
       " 1     2.239509  2.653353     2      0  2.042313    0  0.645014  0.601065   \n",
       " 2     3.094983  3.169795     2      0  2.692556    0  1.037283  0.856946   \n",
       " 3     2.095592  3.177185     2      0  2.276122    0  1.221715  0.845391   \n",
       " 4     2.726584  1.015046     2      0  0.278486    0  1.055731  0.248985   \n",
       " ...        ...       ...   ...    ...       ...  ...       ...       ...   \n",
       " 1683  2.602491  3.355760     2      0  2.240679    0  1.903530  0.172436   \n",
       " 1684  2.534703  3.542202     2      0  1.935781    0 -0.184959  0.306923   \n",
       " 1685  2.682470  2.334944     2      0  3.093748    0  1.181994  0.758202   \n",
       " 1686  3.076754  3.583925     2      0  2.792898    0  1.703388  1.141771   \n",
       " 1687  2.743709  3.437653     2      0  2.086823    0  0.345362  0.778831   \n",
       " \n",
       "       CALC  MTRANS  Obesity_level  \n",
       " 0        1       2              3  \n",
       " 1        2       2              5  \n",
       " 2        1       2              5  \n",
       " 3        1       2              2  \n",
       " 4        2       2              3  \n",
       " ...    ...     ...            ...  \n",
       " 1683     1       2              6  \n",
       " 1684     1       2              1  \n",
       " 1685     1       2              2  \n",
       " 1686     1       2              3  \n",
       " 1687     1       2              4  \n",
       " \n",
       " [1688 rows x 17 columns],\n",
       " 'CTGAN':       Gender  Age    Height     Weight  family_history_with_overweight  FAVC  \\\n",
       " 0          1   22  1.615909  70.916647                               0     1   \n",
       " 1          1   19  1.627690  38.963229                               1     1   \n",
       " 2          0   23  1.651837  39.270701                               1     0   \n",
       " 3          1   39  1.599153  53.385542                               1     1   \n",
       " 4          1   25  1.772736  37.032741                               1     1   \n",
       " ...      ...  ...       ...        ...                             ...   ...   \n",
       " 1683       1   24  1.655055  59.147433                               1     1   \n",
       " 1684       1   26  1.471980  39.273362                               1     1   \n",
       " 1685       1   26  1.757607  73.089889                               0     1   \n",
       " 1686       0   25  1.843430  88.362564                               0     1   \n",
       " 1687       1   22  1.661903  57.925314                               0     1   \n",
       " \n",
       "           FCVC       NCP  CAEC  SMOKE      CH2O  SCC       FAF       TUE  \\\n",
       " 0     2.941627  0.969111     2      0  0.913025    0  1.421292  1.960299   \n",
       " 1     1.482722  3.557708     2      0  1.172519    0  0.823106  0.074333   \n",
       " 2     2.277436  3.104416     1      0  2.970412    0  0.830696  0.817655   \n",
       " 3     2.000000  2.925327     2      0  1.171034    0  1.566050  0.743011   \n",
       " 4     2.244654  2.937739     2      0  1.965131    0  0.050090  1.020689   \n",
       " ...        ...       ...   ...    ...       ...  ...       ...       ...   \n",
       " 1683  2.000000  2.984288     2      0  1.860131    0 -0.009217  1.041798   \n",
       " 1684  3.000000  2.958333     2      0  1.931936    0  0.845779  0.178117   \n",
       " 1685  2.886260  3.000137     3      0  1.888656    0 -0.001930  0.126523   \n",
       " 1686  2.000000  2.934632     2      0  1.722676    0  2.120414  0.069274   \n",
       " 1687  3.000000  3.012509     2      0  1.934231    0  0.784658  0.034025   \n",
       " \n",
       "       CALC  MTRANS  Obesity_level  \n",
       " 0        1       3              6  \n",
       " 1        2       1              5  \n",
       " 2        2       0              3  \n",
       " 3        3       0              5  \n",
       " 4        2       3              1  \n",
       " ...    ...     ...            ...  \n",
       " 1683     2       0              0  \n",
       " 1684     2       3              3  \n",
       " 1685     2       3              0  \n",
       " 1686     2       3              0  \n",
       " 1687     2       3              6  \n",
       " \n",
       " [1688 rows x 17 columns],\n",
       " 'WGANGP':       Gender  Age    Height      Weight  family_history_with_overweight  FAVC  \\\n",
       " 0          1   31  1.774028  100.827728                               1     1   \n",
       " 1          1   22  1.719011   82.635063                               1     1   \n",
       " 2          1   30  1.751132  108.815437                               1     1   \n",
       " 3          1   28  1.768594  100.235626                               1     1   \n",
       " 4          1   29  1.744278  111.000862                               1     1   \n",
       " ...      ...  ...       ...         ...                             ...   ...   \n",
       " 1683       1   26  1.742536   89.363373                               1     1   \n",
       " 1684       1   20  1.697380   78.367531                               1     1   \n",
       " 1685       1   24  1.795337  110.383942                               1     1   \n",
       " 1686       1   31  1.773441  103.902313                               1     1   \n",
       " 1687       1   28  1.731874  104.368866                               1     1   \n",
       " \n",
       "           FCVC       NCP  CAEC  SMOKE      CH2O  SCC       FAF       TUE  \\\n",
       " 0     2.770020  1.840005     0      0  2.494596    0  1.851650  0.544157   \n",
       " 1     1.985443  2.986817     0      0  1.982735    0  0.267224  1.005532   \n",
       " 2     2.796478  2.576155     0      0  2.314283    0  1.149067  1.171446   \n",
       " 3     2.624398  2.058709     0      0  2.456661    0  1.412450  0.436580   \n",
       " 4     2.770572  2.764187     0      0  2.263590    0  0.947327  1.286068   \n",
       " ...        ...       ...   ...    ...       ...  ...       ...       ...   \n",
       " 1683  2.364491  2.421633     0      0  2.243913    0  0.923321  0.777661   \n",
       " 1684  2.008032  3.014109     0      0  1.808209    0  0.259624  0.618169   \n",
       " 1685  2.308867  2.913846     0      0  1.972949    0  1.225658  0.197648   \n",
       " 1686  2.864049  1.925579     0      0  2.499006    0  1.868067  0.669731   \n",
       " 1687  2.465705  2.979183     0      0  2.170086    0  0.774197  1.252955   \n",
       " \n",
       "       CALC  MTRANS  Obesity_level  \n",
       " 0        0       0              2  \n",
       " 1        0       1              5  \n",
       " 2        0       0              3  \n",
       " 3        0       0              2  \n",
       " 4        0       0              3  \n",
       " ...    ...     ...            ...  \n",
       " 1683     0       1              2  \n",
       " 1684     1       1              2  \n",
       " 1685     0       1              3  \n",
       " 1686     0       0              2  \n",
       " 1687     0       0              3  \n",
       " \n",
       " [1688 rows x 17 columns]}"
      ]
     },
     "execution_count": 4,
     "metadata": {},
     "output_type": "execute_result"
    }
   ],
   "source": [
    "#iterate over all datasets filepaths and read each dataset\n",
    "for name, path in FILEPATHS.items() :\n",
    "    data[name] = pd.read_csv(path)\n",
    "    for col in categorical_columns :\n",
    "        data[name][col] = data[name][col].astype('category').cat.codes\n",
    "data"
   ]
  },
  {
   "cell_type": "markdown",
   "metadata": {},
   "source": [
    "## 2. Normalize data"
   ]
  },
  {
   "cell_type": "code",
   "execution_count": 5,
   "metadata": {},
   "outputs": [
    {
     "data": {
      "text/plain": [
       "{'Real':            Age    Height    Weight      FCVC       NCP      CH2O       FAF  \\\n",
       " 0     0.148936  0.339623  0.156716  1.000000  0.666667  0.500000  0.666667   \n",
       " 1     0.148936  0.566038  0.706119  1.000000  0.666667  0.943830  0.493640   \n",
       " 2     0.191489  0.396226  0.325373  0.101877  0.118451  0.882796  0.042781   \n",
       " 3     0.170213  0.264151  0.039104  1.000000  0.232027  0.775154  0.366287   \n",
       " 4     0.255319  0.679245  0.500299  1.000000  0.666667  0.929086  0.604439   \n",
       " ...        ...       ...       ...       ...       ...       ...       ...   \n",
       " 1683  0.382979  0.566038  0.605224  0.983650  0.666667  0.765017  0.318439   \n",
       " 1684  0.191489  0.509434  0.318433  0.500000  0.243184  0.200124  0.295974   \n",
       " 1685  0.191489  0.377358  0.305970  0.500000  0.666667  0.500000  0.048973   \n",
       " 1686  0.191489  0.339623  0.339552  0.529343  0.654001  0.505298  0.283686   \n",
       " 1687  0.127660  0.698113  0.343284  0.975590  0.666667  1.000000  0.811306   \n",
       " \n",
       "            TUE  \n",
       " 0     0.000000  \n",
       " 1     0.389821  \n",
       " 2     0.829738  \n",
       " 3     0.000000  \n",
       " 4     0.340108  \n",
       " ...        ...  \n",
       " 1683  0.669616  \n",
       " 1684  0.505992  \n",
       " 1685  1.000000  \n",
       " 1686  0.315433  \n",
       " 1687  0.280801  \n",
       " \n",
       " [1688 rows x 8 columns],\n",
       " 'GM':        Age    Height    Weight      FCVC       NCP      CH2O       FAF  \\\n",
       " 0     0.20  0.544404  0.489268  0.639281  0.743509  0.808638  0.403596   \n",
       " 1     0.32  0.642182  0.748029  0.557768  0.738122  0.725691  0.146929   \n",
       " 2     0.10  0.745524  0.373856  0.484652  0.428853  0.896803  0.315492   \n",
       " 3     0.18  0.573783  0.570601  0.512054  0.562227  0.597868  0.514991   \n",
       " 4     0.44  0.328941  0.605344  0.567473  0.110955  0.807885  0.582176   \n",
       " ...    ...       ...       ...       ...       ...       ...       ...   \n",
       " 1683  0.24  0.531922  0.569150  0.637711  0.810223  0.319545  0.322805   \n",
       " 1684  0.26  0.518539  0.676960  0.507040  0.921787  0.688692  0.743477   \n",
       " 1685  0.30  0.588678  0.432070  0.421346  0.868792  0.852598  0.448361   \n",
       " 1686  0.20  0.136914  0.534386  0.369215  0.321801  0.638322  0.164654   \n",
       " 1687  0.28  0.277695  0.737268  0.504865  0.253720  0.204016  0.558068   \n",
       " \n",
       "            TUE  \n",
       " 0     0.520650  \n",
       " 1     0.337970  \n",
       " 2     0.687761  \n",
       " 3     0.525003  \n",
       " 4     0.683134  \n",
       " ...        ...  \n",
       " 1683  0.531838  \n",
       " 1684  0.375362  \n",
       " 1685  0.491299  \n",
       " 1686  0.185847  \n",
       " 1687  0.810381  \n",
       " \n",
       " [1688 rows x 8 columns],\n",
       " 'SDV':         Age    Height    Weight      FCVC       NCP      CH2O       FAF  \\\n",
       " 0     0.575  0.583333  0.692998  0.725156  0.552029  0.514062  0.375725   \n",
       " 1     0.175  0.466667  0.181554  0.461343  0.506395  0.549211  0.407419   \n",
       " 2     0.325  0.366667  0.515774  0.694950  0.600754  0.714546  0.470617   \n",
       " 3     0.400  0.683333  0.776939  0.422042  0.602104  0.608661  0.500330   \n",
       " 4     0.825  0.400000  0.449214  0.594350  0.207060  0.100731  0.473589   \n",
       " ...     ...       ...       ...       ...       ...       ...       ...   \n",
       " 1683  0.650  0.116667  0.399728  0.560463  0.634731  0.599649  0.610175   \n",
       " 1684  0.400  0.433333  0.209576  0.541952  0.668796  0.522124  0.273705   \n",
       " 1685  0.675  0.466667  0.571879  0.582303  0.448218  0.816555  0.493930   \n",
       " 1686  0.425  0.600000  0.644872  0.689972  0.676419  0.740059  0.577930   \n",
       " 1687  0.625  0.250000  0.425646  0.599026  0.649694  0.560529  0.359144   \n",
       " \n",
       "            TUE  \n",
       " 0     0.422611  \n",
       " 1     0.494309  \n",
       " 2     0.558202  \n",
       " 3     0.555316  \n",
       " 4     0.406394  \n",
       " ...        ...  \n",
       " 1683  0.387280  \n",
       " 1684  0.420861  \n",
       " 1685  0.533545  \n",
       " 1686  0.629322  \n",
       " 1687  0.538697  \n",
       " \n",
       " [1688 rows x 8 columns],\n",
       " 'CTGAN':            Age    Height    Weight      FCVC       NCP      CH2O       FAF  \\\n",
       " 0     0.133333  0.409466  0.386847  0.970813  0.113347  0.110045  0.508465   \n",
       " 1     0.083333  0.432586  0.139477  0.241361  0.820239  0.211289  0.343945   \n",
       " 2     0.150000  0.479974  0.141858  0.638718  0.696454  0.912754  0.346032   \n",
       " 3     0.416667  0.376585  0.251129  0.500000  0.647549  0.210709  0.548279   \n",
       " 4     0.183333  0.717226  0.124532  0.622327  0.650938  0.520534  0.131340   \n",
       " ...        ...       ...       ...       ...       ...       ...       ...   \n",
       " 1683  0.166667  0.486288  0.295735  0.500000  0.663650  0.479567  0.115028   \n",
       " 1684  0.200000  0.127020  0.141878  1.000000  0.656562  0.507583  0.350180   \n",
       " 1685  0.200000  0.687537  0.403671  0.943130  0.667978  0.490697  0.117033   \n",
       " 1686  0.183333  0.855957  0.521905  0.500000  0.650090  0.425938  0.700747   \n",
       " 1687  0.133333  0.499726  0.286274  1.000000  0.671356  0.508478  0.333370   \n",
       " \n",
       "            TUE  \n",
       " 0     0.784324  \n",
       " 1     0.096055  \n",
       " 2     0.367325  \n",
       " 3     0.340084  \n",
       " 4     0.441420  \n",
       " ...        ...  \n",
       " 1683  0.449124  \n",
       " 1684  0.133930  \n",
       " 1685  0.115101  \n",
       " 1686  0.094209  \n",
       " 1687  0.081345  \n",
       " \n",
       " [1688 rows x 8 columns],\n",
       " 'WGANGP':            Age    Height    Weight      FCVC       NCP      CH2O       FAF  \\\n",
       " 0     0.928571  0.587867  0.657675  0.722627  0.077782  0.954161  0.903948   \n",
       " 1     0.285714  0.362970  0.374088  0.202042  0.858164  0.638062  0.135437   \n",
       " 2     0.857143  0.494273  0.782188  0.740182  0.578718  0.842809  0.563166   \n",
       " 3     0.714286  0.565654  0.648446  0.626004  0.226606  0.930734  0.690918   \n",
       " 4     0.785714  0.466257  0.816254  0.722993  0.706669  0.811504  0.465314   \n",
       " ...        ...       ...       ...       ...       ...       ...       ...   \n",
       " 1683  0.571429  0.459135  0.478969  0.453550  0.473569  0.799352  0.453671   \n",
       " 1684  0.142857  0.274546  0.307565  0.217031  0.876736  0.530284  0.131751   \n",
       " 1685  0.428571  0.674974  0.806638  0.416641  0.808509  0.632018  0.600316   \n",
       " 1686  0.928571  0.585469  0.705602  0.785018  0.136014  0.956884  0.911910   \n",
       " 1687  0.714286  0.415550  0.712875  0.520707  0.852970  0.753760  0.381339   \n",
       " \n",
       "            TUE  \n",
       " 0     0.386404  \n",
       " 1     0.657623  \n",
       " 2     0.755155  \n",
       " 3     0.323165  \n",
       " 4     0.822535  \n",
       " ...        ...  \n",
       " 1683  0.523669  \n",
       " 1684  0.429912  \n",
       " 1685  0.182709  \n",
       " 1686  0.460223  \n",
       " 1687  0.803070  \n",
       " \n",
       " [1688 rows x 8 columns]}"
      ]
     },
     "execution_count": 5,
     "metadata": {},
     "output_type": "execute_result"
    }
   ],
   "source": [
    "#Scale the data\n",
    "num_cols = (data['Real'].select_dtypes(include=['int64','float64'])).columns\n",
    "scaled_data = dict()\n",
    "for name in DATA_TYPES :\n",
    "    scaled_data[name] = scale_data(data[name][num_cols])\n",
    "scaled_data"
   ]
  },
  {
   "cell_type": "markdown",
   "metadata": {},
   "source": [
    "## 3. Calculate the Euclidean distances between each pair of values"
   ]
  },
  {
   "cell_type": "code",
   "execution_count": 6,
   "metadata": {},
   "outputs": [
    {
     "data": {
      "text/plain": [
       "{'GM': '0.9171 ± 0.2255',\n",
       " 'SDV': '0.9007 ± 0.2035',\n",
       " 'CTGAN': '0.8999 ± 0.237',\n",
       " 'WGANGP': '1.1071 ± 0.2559'}"
      ]
     },
     "execution_count": 6,
     "metadata": {},
     "output_type": "execute_result"
    }
   ],
   "source": [
    "distances_values = dict()\n",
    "\n",
    "for name in SYNTHESIZERS :\n",
    "    #distances = distance.cdist(scaled_data[name].values, real_data_scaled, 'euclidean')\n",
    "    distances_values[name] = pairwise_euclidean_distance(scaled_data[name].values, scaled_data['Real'].values)\n",
    "    \n",
    "distances_values"
   ]
  },
  {
   "cell_type": "markdown",
   "metadata": {},
   "source": [
    "## 4. Calculate the Hausdorff distance between synthetic data and real data"
   ]
  },
  {
   "cell_type": "code",
   "execution_count": 7,
   "metadata": {},
   "outputs": [
    {
     "data": {
      "text/plain": [
       "{'GM': 0.7162, 'SDV': 0.6705, 'CTGAN': 0.6604, 'WGANGP': 0.7129}"
      ]
     },
     "execution_count": 7,
     "metadata": {},
     "output_type": "execute_result"
    }
   ],
   "source": [
    "hausdorff_values = dict()\n",
    "\n",
    "for name in SYNTHESIZERS :\n",
    "    hausdorff_values[name] = hausdorff_distance(scaled_data[name].values, scaled_data['Real'].values)\n",
    "    \n",
    "hausdorff_values"
   ]
  },
  {
   "cell_type": "markdown",
   "metadata": {},
   "source": [
    "## 5. Calculate maximum RTS similarity"
   ]
  },
  {
   "cell_type": "code",
   "execution_count": 8,
   "metadata": {},
   "outputs": [
    {
     "data": {
      "text/plain": [
       "{'GM': {'min': 0.0554, 'mean': 0.8038, 'max': 0.9994},\n",
       " 'SDV': {'min': 0.1096, 'mean': 0.8161, 'max': 0.9977},\n",
       " 'CTGAN': {'min': 0.0242, 'mean': 0.8023, 'max': 0.9992},\n",
       " 'WGANGP': {'min': 0.0331, 'mean': 0.7968, 'max': 0.9955}}"
      ]
     },
     "execution_count": 8,
     "metadata": {},
     "output_type": "execute_result"
    }
   ],
   "source": [
    "str_values = dict()\n",
    "\n",
    "for name in SYNTHESIZERS :\n",
    "    str_values[name] = rts_similarity(scaled_data[name].values, scaled_data['Real'].values)\n",
    "    \n",
    "str_values"
   ]
  },
  {
   "cell_type": "code",
   "execution_count": null,
   "metadata": {},
   "outputs": [],
   "source": []
  }
 ],
 "metadata": {
  "kernelspec": {
   "display_name": "Python 3",
   "language": "python",
   "name": "python3"
  },
  "language_info": {
   "codemirror_mode": {
    "name": "ipython",
    "version": 3
   },
   "file_extension": ".py",
   "mimetype": "text/x-python",
   "name": "python",
   "nbconvert_exporter": "python",
   "pygments_lexer": "ipython3",
   "version": "3.8.5"
  }
 },
 "nbformat": 4,
 "nbformat_minor": 4
}
