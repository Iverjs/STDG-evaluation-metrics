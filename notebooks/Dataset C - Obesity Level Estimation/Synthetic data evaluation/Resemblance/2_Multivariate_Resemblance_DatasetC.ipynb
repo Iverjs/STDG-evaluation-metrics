{
 "cells": [
  {
   "cell_type": "markdown",
   "metadata": {},
   "source": [
    "# Multivariate Resemblance Analysis (MRA) Dataset C"
   ]
  },
  {
   "cell_type": "code",
   "execution_count": 1,
   "metadata": {},
   "outputs": [
    {
     "name": "stdout",
     "output_type": "stream",
     "text": [
      "Libraries imported!!\n"
     ]
    }
   ],
   "source": [
    "#import libraries\n",
    "import warnings\n",
    "warnings.filterwarnings(\"ignore\")\n",
    "import numpy as np\n",
    "import pandas as pd\n",
    "from matplotlib import pyplot as plt\n",
    "import os\n",
    "print('Libraries imported!!')"
   ]
  },
  {
   "cell_type": "code",
   "execution_count": 2,
   "metadata": {},
   "outputs": [
    {
     "name": "stdout",
     "output_type": "stream",
     "text": [
      "Functions imported!!\n"
     ]
    }
   ],
   "source": [
    "#define directory of functions and actual directory\n",
    "HOME_PATH = '' #home path of the project\n",
    "FUNCTIONS_DIR = 'EVALUATION FUNCTIONS/RESEMBLANCE'\n",
    "ACTUAL_DIR = os.getcwd()\n",
    "\n",
    "#change directory to functions directory\n",
    "os.chdir(HOME_PATH + FUNCTIONS_DIR)\n",
    "\n",
    "#import functions for univariate resemblance analisys\n",
    "from multivariate_resemblance import get_numerical_correlations\n",
    "from multivariate_resemblance import plot_correlations\n",
    "from multivariate_resemblance import get_categorical_correlations\n",
    "from multivariate_resemblance import compute_mra_score\n",
    "\n",
    "#change directory to actual directory\n",
    "os.chdir(ACTUAL_DIR)\n",
    "print('Functions imported!!')"
   ]
  },
  {
   "cell_type": "markdown",
   "metadata": {},
   "source": [
    "## 1. Read real and synthetic datasets\n",
    "In this part real and synthetic datasets are read."
   ]
  },
  {
   "cell_type": "code",
   "execution_count": 3,
   "metadata": {},
   "outputs": [],
   "source": [
    "#Define global variables\n",
    "DATA_TYPES = ['Real','GM','SDV','CTGAN','WGANGP']\n",
    "SYNTHESIZERS = ['GM','SDV','CTGAN','WGANGP']\n",
    "FILEPATHS = {'Real' : HOME_PATH + 'REAL DATASETS/TRAIN DATASETS/C_Obesity_Data_Real_Train.csv',\n",
    "            'GM' : HOME_PATH + 'SYNTHETIC DATASETS/GM/C_Obesity_Data_Synthetic_GM.csv',\n",
    "            'SDV' : HOME_PATH + 'SYNTHETIC DATASETS/SDV/C_Obesity_Data_Synthetic_SDV.csv',\n",
    "            'CTGAN' : HOME_PATH + 'SYNTHETIC DATASETS/CTGAN/C_Obesity_Data_Synthetic_CTGAN.csv',\n",
    "            'WGANGP' : HOME_PATH + 'SYNTHETIC DATASETS/WGANGP/C_Obesity_Data_Synthetic_WGANGP.csv'}\n",
    "categorical_columns = ['Gender','family_history_with_overweight','FAVC','CAEC','SMOKE','SCC','CALC','MTRANS','Obesity_level']\n",
    "data = dict()"
   ]
  },
  {
   "cell_type": "code",
   "execution_count": 4,
   "metadata": {},
   "outputs": [
    {
     "data": {
      "text/plain": [
       "{'Real':       Gender  Age  Height  Weight family_history_with_overweight FAVC  \\\n",
       " 0     Female   21    1.63   60.00                            yes  yes   \n",
       " 1     Female   21    1.75  133.62                            yes  yes   \n",
       " 2     Female   23    1.66   82.60                            yes  yes   \n",
       " 3     Female   22    1.59   44.24                             no   no   \n",
       " 4       Male   26    1.81  106.04                            yes  yes   \n",
       " ...      ...  ...     ...     ...                            ...  ...   \n",
       " 1683    Male   32    1.75  120.10                            yes  yes   \n",
       " 1684    Male   23    1.72   81.67                            yes  yes   \n",
       " 1685  Female   23    1.65   80.00                            yes  yes   \n",
       " 1686  Female   23    1.63   84.50                            yes  yes   \n",
       " 1687    Male   20    1.82   85.00                            yes  yes   \n",
       " \n",
       "           FCVC       NCP        CAEC SMOKE      CH2O SCC       FAF       TUE  \\\n",
       " 0     3.000000  3.000000      Always   yes  2.000000  no  2.000000  0.000000   \n",
       " 1     3.000000  3.000000   Sometimes    no  2.887659  no  1.480919  0.779641   \n",
       " 2     1.203754  1.355354   Sometimes    no  2.765593  no  0.128342  1.659476   \n",
       " 3     3.000000  1.696080  Frequently    no  2.550307  no  1.098862  0.000000   \n",
       " 4     3.000000  3.000000   Sometimes    no  2.858171  no  1.813318  0.680215   \n",
       " ...        ...       ...         ...   ...       ...  ..       ...       ...   \n",
       " 1683  2.967300  3.000000   Sometimes    no  2.530035  no  0.955317  1.339232   \n",
       " 1684  2.000000  1.729553   Sometimes    no  1.400247  no  0.887923  1.011983   \n",
       " 1685  2.000000  3.000000   Sometimes    no  2.000000  no  0.146919  2.000000   \n",
       " 1686  2.058687  2.962004   Sometimes    no  2.010596  no  0.851059  0.630866   \n",
       " 1687  2.951180  3.000000   Sometimes    no  3.000000  no  2.433918  0.561602   \n",
       " \n",
       "            CALC                 MTRANS        Obesity_level  \n",
       " 0     Sometimes  Public_Transportation        Normal_Weight  \n",
       " 1     Sometimes  Public_Transportation     Obesity_Type_III  \n",
       " 2     Sometimes  Public_Transportation       Obesity_Type_I  \n",
       " 3            no  Public_Transportation  Insufficient_Weight  \n",
       " 4     Sometimes  Public_Transportation       Obesity_Type_I  \n",
       " ...         ...                    ...                  ...  \n",
       " 1683  Sometimes             Automobile      Obesity_Type_II  \n",
       " 1684  Sometimes  Public_Transportation  Overweight_Level_II  \n",
       " 1685         no  Public_Transportation  Overweight_Level_II  \n",
       " 1686         no  Public_Transportation       Obesity_Type_I  \n",
       " 1687  Sometimes  Public_Transportation   Overweight_Level_I  \n",
       " \n",
       " [1688 rows x 17 columns],\n",
       " 'GM':       Gender  Age    Height      Weight family_history_with_overweight FAVC  \\\n",
       " 0     Female   21  1.736983   96.575084                            yes  yes   \n",
       " 1       Male   27  1.791849  132.568140                            yes  yes   \n",
       " 2       Male   16  1.849836   80.521419                             no  yes   \n",
       " 3       Male   20  1.753469  107.888290                            yes  yes   \n",
       " 4     Female   33  1.616082  112.720873                            yes  yes   \n",
       " ...      ...  ...       ...         ...                            ...  ...   \n",
       " 1683    Male   23  1.729979  107.686391                            yes  yes   \n",
       " 1684    Male   24  1.722470  122.682563                            yes  yes   \n",
       " 1685  Female   26  1.761826   88.618928                            yes  yes   \n",
       " 1686  Female   21  1.508331  102.850821                            yes  yes   \n",
       " 1687  Female   25  1.587326  131.071269                            yes  yes   \n",
       " \n",
       "           FCVC       NCP        CAEC SMOKE      CH2O SCC       FAF       TUE  \\\n",
       " 0     3.043926  3.229494   Sometimes    no  2.767918  no  0.559224  0.723408   \n",
       " 1     2.743510  3.213367   Sometimes    no  2.543950  no -0.718087  0.050567   \n",
       " 2     2.474037  2.287594  Frequently    no  3.005978  no  0.120772  1.338905   \n",
       " 3     2.575027  2.686841   Sometimes    no  2.198808  no  1.113582  0.739439   \n",
       " 4     2.779278  1.335992   Sometimes    no  2.765885  no  1.447929  1.321864   \n",
       " ...        ...       ...         ...   ...       ...  ..       ...       ...   \n",
       " 1683  3.038139  3.429195   Sometimes    no  1.447293  no  0.157166  0.764616   \n",
       " 1684  2.556549  3.763153   Sometimes    no  2.444046  no  2.250645  0.188289   \n",
       " 1685  2.240721  3.604517   Sometimes    no  2.886618  no  0.781996  0.615303   \n",
       " 1686  2.048591  1.967142   Sometimes    no  2.308040  no -0.629877 -0.509730   \n",
       " 1687  2.548532  1.763349   Sometimes    no  1.135346  no  1.327956  1.790538   \n",
       " \n",
       "            CALC                 MTRANS        Obesity_level  \n",
       " 0     Sometimes  Public_Transportation  Insufficient_Weight  \n",
       " 1     Sometimes  Public_Transportation      Obesity_Type_II  \n",
       " 2     Sometimes  Public_Transportation   Overweight_Level_I  \n",
       " 3     Sometimes  Public_Transportation  Overweight_Level_II  \n",
       " 4     Sometimes  Public_Transportation       Obesity_Type_I  \n",
       " ...         ...                    ...                  ...  \n",
       " 1683  Sometimes             Automobile     Obesity_Type_III  \n",
       " 1684  Sometimes  Public_Transportation     Obesity_Type_III  \n",
       " 1685  Sometimes             Automobile       Obesity_Type_I  \n",
       " 1686  Sometimes  Public_Transportation       Obesity_Type_I  \n",
       " 1687         no  Public_Transportation     Obesity_Type_III  \n",
       " \n",
       " [1688 rows x 17 columns],\n",
       " 'SDV':       Gender  Age  Height  Weight family_history_with_overweight FAVC  \\\n",
       " 0       Male   28    1.76  123.43                            yes  yes   \n",
       " 1       Male   12    1.69   40.75                            yes  yes   \n",
       " 2     Female   18    1.63   94.78                            yes  yes   \n",
       " 3       Male   21    1.82  137.00                             no  yes   \n",
       " 4     Female   38    1.65   84.02                            yes  yes   \n",
       " ...      ...  ...     ...     ...                            ...  ...   \n",
       " 1683    Male   31    1.48   76.02                            yes  yes   \n",
       " 1684  Female   21    1.67   45.28                            yes  yes   \n",
       " 1685    Male   32    1.69  103.85                            yes  yes   \n",
       " 1686    Male   22    1.77  115.65                            yes  yes   \n",
       " 1687  Female   30    1.56   80.21                            yes  yes   \n",
       " \n",
       "           FCVC       NCP       CAEC SMOKE      CH2O SCC       FAF       TUE  \\\n",
       " 0     3.205596  2.903116  Sometimes    no  1.904073  no  0.448286  0.313930   \n",
       " 1     2.239509  2.653353  Sometimes    no  2.042313  no  0.645014  0.601065   \n",
       " 2     3.094983  3.169795  Sometimes    no  2.692556  no  1.037283  0.856946   \n",
       " 3     2.095592  3.177185  Sometimes    no  2.276122  no  1.221715  0.845391   \n",
       " 4     2.726584  1.015046  Sometimes    no  0.278486  no  1.055731  0.248985   \n",
       " ...        ...       ...        ...   ...       ...  ..       ...       ...   \n",
       " 1683  2.602491  3.355760  Sometimes    no  2.240679  no  1.903530  0.172436   \n",
       " 1684  2.534703  3.542202  Sometimes    no  1.935781  no -0.184959  0.306923   \n",
       " 1685  2.682470  2.334944  Sometimes    no  3.093748  no  1.181994  0.758202   \n",
       " 1686  3.076754  3.583925  Sometimes    no  2.792898  no  1.703388  1.141771   \n",
       " 1687  2.743709  3.437653  Sometimes    no  2.086823  no  0.345362  0.778831   \n",
       " \n",
       "            CALC                 MTRANS        Obesity_level  \n",
       " 0     Sometimes  Public_Transportation      Obesity_Type_II  \n",
       " 1            no  Public_Transportation   Overweight_Level_I  \n",
       " 2     Sometimes  Public_Transportation   Overweight_Level_I  \n",
       " 3     Sometimes  Public_Transportation       Obesity_Type_I  \n",
       " 4            no  Public_Transportation      Obesity_Type_II  \n",
       " ...         ...                    ...                  ...  \n",
       " 1683  Sometimes  Public_Transportation  Overweight_Level_II  \n",
       " 1684  Sometimes  Public_Transportation        Normal_Weight  \n",
       " 1685  Sometimes  Public_Transportation       Obesity_Type_I  \n",
       " 1686  Sometimes  Public_Transportation      Obesity_Type_II  \n",
       " 1687  Sometimes  Public_Transportation     Obesity_Type_III  \n",
       " \n",
       " [1688 rows x 17 columns],\n",
       " 'CTGAN':       Gender  Age    Height     Weight family_history_with_overweight FAVC  \\\n",
       " 0       Male   22  1.615909  70.916647                             no  yes   \n",
       " 1       Male   19  1.627690  38.963229                            yes  yes   \n",
       " 2     Female   23  1.651837  39.270701                            yes   no   \n",
       " 3       Male   39  1.599153  53.385542                            yes  yes   \n",
       " 4       Male   25  1.772736  37.032741                            yes  yes   \n",
       " ...      ...  ...       ...        ...                            ...  ...   \n",
       " 1683    Male   24  1.655055  59.147433                            yes  yes   \n",
       " 1684    Male   26  1.471980  39.273362                            yes  yes   \n",
       " 1685    Male   26  1.757607  73.089889                             no  yes   \n",
       " 1686  Female   25  1.843430  88.362564                             no  yes   \n",
       " 1687    Male   22  1.661903  57.925314                             no  yes   \n",
       " \n",
       "           FCVC       NCP        CAEC SMOKE      CH2O SCC       FAF       TUE  \\\n",
       " 0     2.941627  0.969111   Sometimes    no  0.913025  no  1.421292  1.960299   \n",
       " 1     1.482722  3.557708   Sometimes    no  1.172519  no  0.823106  0.074333   \n",
       " 2     2.277436  3.104416  Frequently    no  2.970412  no  0.830696  0.817655   \n",
       " 3     2.000000  2.925327   Sometimes    no  1.171034  no  1.566050  0.743011   \n",
       " 4     2.244654  2.937739   Sometimes    no  1.965131  no  0.050090  1.020689   \n",
       " ...        ...       ...         ...   ...       ...  ..       ...       ...   \n",
       " 1683  2.000000  2.984288   Sometimes    no  1.860131  no -0.009217  1.041798   \n",
       " 1684  3.000000  2.958333   Sometimes    no  1.931936  no  0.845779  0.178117   \n",
       " 1685  2.886260  3.000137          no    no  1.888656  no -0.001930  0.126523   \n",
       " 1686  2.000000  2.934632   Sometimes    no  1.722676  no  2.120414  0.069274   \n",
       " 1687  3.000000  3.012509   Sometimes    no  1.934231  no  0.784658  0.034025   \n",
       " \n",
       "             CALC                 MTRANS        Obesity_level  \n",
       " 0     Frequently  Public_Transportation  Overweight_Level_II  \n",
       " 1      Sometimes                   Bike   Overweight_Level_I  \n",
       " 2      Sometimes             Automobile      Obesity_Type_II  \n",
       " 3             no             Automobile   Overweight_Level_I  \n",
       " 4      Sometimes  Public_Transportation        Normal_Weight  \n",
       " ...          ...                    ...                  ...  \n",
       " 1683   Sometimes             Automobile  Insufficient_Weight  \n",
       " 1684   Sometimes  Public_Transportation      Obesity_Type_II  \n",
       " 1685   Sometimes  Public_Transportation  Insufficient_Weight  \n",
       " 1686   Sometimes  Public_Transportation  Insufficient_Weight  \n",
       " 1687   Sometimes  Public_Transportation  Overweight_Level_II  \n",
       " \n",
       " [1688 rows x 17 columns],\n",
       " 'WGANGP':      Gender  Age    Height      Weight family_history_with_overweight FAVC  \\\n",
       " 0      Male   31  1.774028  100.827728                            yes  yes   \n",
       " 1      Male   22  1.719011   82.635063                            yes  yes   \n",
       " 2      Male   30  1.751132  108.815437                            yes  yes   \n",
       " 3      Male   28  1.768594  100.235626                            yes  yes   \n",
       " 4      Male   29  1.744278  111.000862                            yes  yes   \n",
       " ...     ...  ...       ...         ...                            ...  ...   \n",
       " 1683   Male   26  1.742536   89.363373                            yes  yes   \n",
       " 1684   Male   20  1.697380   78.367531                            yes  yes   \n",
       " 1685   Male   24  1.795337  110.383942                            yes  yes   \n",
       " 1686   Male   31  1.773441  103.902313                            yes  yes   \n",
       " 1687   Male   28  1.731874  104.368866                            yes  yes   \n",
       " \n",
       "           FCVC       NCP       CAEC SMOKE      CH2O SCC       FAF       TUE  \\\n",
       " 0     2.770020  1.840005  Sometimes    no  2.494596  no  1.851650  0.544157   \n",
       " 1     1.985443  2.986817  Sometimes    no  1.982735  no  0.267224  1.005532   \n",
       " 2     2.796478  2.576155  Sometimes    no  2.314283  no  1.149067  1.171446   \n",
       " 3     2.624398  2.058709  Sometimes    no  2.456661  no  1.412450  0.436580   \n",
       " 4     2.770572  2.764187  Sometimes    no  2.263590  no  0.947327  1.286068   \n",
       " ...        ...       ...        ...   ...       ...  ..       ...       ...   \n",
       " 1683  2.364491  2.421633  Sometimes    no  2.243913  no  0.923321  0.777661   \n",
       " 1684  2.008032  3.014109  Sometimes    no  1.808209  no  0.259624  0.618169   \n",
       " 1685  2.308867  2.913846  Sometimes    no  1.972949  no  1.225658  0.197648   \n",
       " 1686  2.864049  1.925579  Sometimes    no  2.499006  no  1.868067  0.669731   \n",
       " 1687  2.465705  2.979183  Sometimes    no  2.170086  no  0.774197  1.252955   \n",
       " \n",
       "            CALC                 MTRANS       Obesity_level  \n",
       " 0     Sometimes             Automobile      Obesity_Type_I  \n",
       " 1     Sometimes  Public_Transportation  Overweight_Level_I  \n",
       " 2     Sometimes             Automobile     Obesity_Type_II  \n",
       " 3     Sometimes             Automobile      Obesity_Type_I  \n",
       " 4     Sometimes             Automobile     Obesity_Type_II  \n",
       " ...         ...                    ...                 ...  \n",
       " 1683  Sometimes  Public_Transportation      Obesity_Type_I  \n",
       " 1684         no  Public_Transportation      Obesity_Type_I  \n",
       " 1685  Sometimes  Public_Transportation     Obesity_Type_II  \n",
       " 1686  Sometimes             Automobile      Obesity_Type_I  \n",
       " 1687  Sometimes             Automobile     Obesity_Type_II  \n",
       " \n",
       " [1688 rows x 17 columns]}"
      ]
     },
     "execution_count": 4,
     "metadata": {},
     "output_type": "execute_result"
    }
   ],
   "source": [
    "#iterate over all datasets filepaths and read each dataset\n",
    "for name, path in FILEPATHS.items() :\n",
    "    data[name] = pd.read_csv(path)\n",
    "    for col in categorical_columns :\n",
    "        data[name][col] = data[name][col].astype('category')\n",
    "data"
   ]
  },
  {
   "cell_type": "markdown",
   "metadata": {},
   "source": [
    "## 2. Plot PPC matrixes and calculate matrixes norms"
   ]
  },
  {
   "cell_type": "code",
   "execution_count": 5,
   "metadata": {},
   "outputs": [
    {
     "data": {
      "text/plain": [
       "{'Real': 3.0756, 'GM': 3.0818, 'SDV': 3.0716, 'CTGAN': 2.836, 'WGANGP': 4.8225}"
      ]
     },
     "execution_count": 5,
     "metadata": {},
     "output_type": "execute_result"
    }
   ],
   "source": [
    "#compute correlation matrixes for all datasets\n",
    "cors_numerical = dict()\n",
    "norms_numerical = dict()\n",
    "for name in DATA_TYPES :\n",
    "    cors_numerical[name], norms_numerical[name] = get_numerical_correlations(data[name])\n",
    "norms_numerical"
   ]
  },
  {
   "cell_type": "code",
   "execution_count": 6,
   "metadata": {},
   "outputs": [
    {
     "data": {
      "image/png": "[encoded data removed]",
      "text/plain": [
       "<Figure size 1080x180 with 6 Axes>"
      ]
     },
     "metadata": {
      "needs_background": "light"
     },
     "output_type": "display_data"
    }
   ],
   "source": [
    "fig, axs = plt.subplots(nrows=1, ncols=5, figsize=(15, 2.5))\n",
    "axs_idxs = range(6)\n",
    "idx = dict(zip(DATA_TYPES,axs_idxs))\n",
    "\n",
    "for name_idx, name in enumerate(DATA_TYPES) :\n",
    "    ax = axs[idx[name]]\n",
    "    matrix = cors_numerical[name]\n",
    "    \n",
    "    if name_idx != len(DATA_TYPES) - 1:\n",
    "        plot_correlations(matrix, ax, color_bar=False)\n",
    "    else:\n",
    "        plot_correlations(matrix, ax, color_bar=True)\n",
    "    \n",
    "    if name_idx > 0:\n",
    "        ax.set_yticks([])    \n",
    "    \n",
    "    if name == 'Real' :\n",
    "        ax.set_title(name)\n",
    "    else :\n",
    "        score = compute_mra_score(cors_numerical['Real'], matrix)\n",
    "        ax.set_title(name + ' (' + str(score) + ')')\n",
    "    \n",
    "fig.savefig('MULTIVARIATE RESEMBLANCE RESULTS/PPC_Matrices.svg', bbox_inches='tight')"
   ]
  },
  {
   "cell_type": "markdown",
   "metadata": {},
   "source": [
    "## 3. Plot correlations for categorical variables and calculate matrixes norms"
   ]
  },
  {
   "cell_type": "code",
   "execution_count": 7,
   "metadata": {},
   "outputs": [
    {
     "data": {
      "text/plain": [
       "{'Real': 2.3376,\n",
       " 'GM': 1.9032,\n",
       " 'SDV': 2.6217,\n",
       " 'CTGAN': 2.3365,\n",
       " 'WGANGP': 3.0898}"
      ]
     },
     "execution_count": 7,
     "metadata": {},
     "output_type": "execute_result"
    }
   ],
   "source": [
    "#compute correlation matrixes for all datasets\n",
    "cors_categorical = dict()\n",
    "norms_categorical = dict()\n",
    "for name in DATA_TYPES :\n",
    "    cors_categorical[name], norms_categorical[name] = get_categorical_correlations(data[name])\n",
    "norms_categorical"
   ]
  },
  {
   "cell_type": "code",
   "execution_count": 13,
   "metadata": {},
   "outputs": [
    {
     "data": {
      "image/png": "[encoded data removed]",
      "text/plain": [
       "<Figure size 1080x180 with 6 Axes>"
      ]
     },
     "metadata": {
      "needs_background": "light"
     },
     "output_type": "display_data"
    }
   ],
   "source": [
    "fig, axs = plt.subplots(nrows=1, ncols=5, figsize=(15, 2.5))\n",
    "axs_idxs = range(6)\n",
    "idx = dict(zip(DATA_TYPES,axs_idxs))\n",
    "first = True\n",
    "\n",
    "for name_idx, name in enumerate(DATA_TYPES) :\n",
    "    ax = axs[idx[name]]\n",
    "    matrix = cors_categorical[name]\n",
    "    \n",
    "    if name_idx != len(DATA_TYPES) - 1:\n",
    "        plot_correlations(matrix, ax, color_bar=False)\n",
    "    else:\n",
    "        plot_correlations(matrix, ax, color_bar=True)\n",
    "    \n",
    "    if name_idx > 0:\n",
    "        ax.set_yticks([])    \n",
    "\n",
    "    if name == 'Real' :\n",
    "        ax.set_title(name)\n",
    "    else :\n",
    "        score = compute_mra_score(cors_categorical['Real'], matrix)\n",
    "        ax.set_title(name + ' (' + str(score) + ')')\n",
    "        \n",
    "fig.savefig('MULTIVARIATE RESEMBLANCE RESULTS/Categorical_Matrices.svg', bbox_inches='tight')"
   ]
  },
  {
   "cell_type": "markdown",
   "metadata": {},
   "source": [
    "## 4. Explore the results"
   ]
  },
  {
   "cell_type": "code",
   "execution_count": 9,
   "metadata": {},
   "outputs": [
    {
     "data": {
      "text/plain": [
       "{'Real': 3.0756, 'GM': 3.0818, 'SDV': 3.0716, 'CTGAN': 2.836, 'WGANGP': 4.8225}"
      ]
     },
     "execution_count": 9,
     "metadata": {},
     "output_type": "execute_result"
    }
   ],
   "source": [
    "norms_numerical"
   ]
  },
  {
   "cell_type": "code",
   "execution_count": 10,
   "metadata": {
    "scrolled": true
   },
   "outputs": [
    {
     "data": {
      "text/plain": [
       "{'Real': 2.3376,\n",
       " 'GM': 1.9032,\n",
       " 'SDV': 2.6217,\n",
       " 'CTGAN': 2.3365,\n",
       " 'WGANGP': 3.0898}"
      ]
     },
     "execution_count": 10,
     "metadata": {},
     "output_type": "execute_result"
    }
   ],
   "source": [
    "norms_categorical"
   ]
  },
  {
   "cell_type": "code",
   "execution_count": 11,
   "metadata": {},
   "outputs": [
    {
     "data": {
      "text/html": [
       "<div>\n",
       "<style scoped>\n",
       "    .dataframe tbody tr th:only-of-type {\n",
       "        vertical-align: middle;\n",
       "    }\n",
       "\n",
       "    .dataframe tbody tr th {\n",
       "        vertical-align: top;\n",
       "    }\n",
       "\n",
       "    .dataframe thead th {\n",
       "        text-align: right;\n",
       "    }\n",
       "</style>\n",
       "<table border=\"1\" class=\"dataframe\">\n",
       "  <thead>\n",
       "    <tr style=\"text-align: right;\">\n",
       "      <th></th>\n",
       "      <th>Real</th>\n",
       "      <th>GM</th>\n",
       "      <th>SDV</th>\n",
       "      <th>CTGAN</th>\n",
       "      <th>WGANGP</th>\n",
       "    </tr>\n",
       "  </thead>\n",
       "  <tbody>\n",
       "    <tr>\n",
       "      <th>PPC_MATRIX_NORMS</th>\n",
       "      <td>3.0756</td>\n",
       "      <td>3.0818</td>\n",
       "      <td>3.0716</td>\n",
       "      <td>2.8360</td>\n",
       "      <td>4.8225</td>\n",
       "    </tr>\n",
       "    <tr>\n",
       "      <th>CATEGORICAL_CORS_MATRIX_NORMS</th>\n",
       "      <td>2.3376</td>\n",
       "      <td>1.9032</td>\n",
       "      <td>2.6217</td>\n",
       "      <td>2.3365</td>\n",
       "      <td>3.0898</td>\n",
       "    </tr>\n",
       "  </tbody>\n",
       "</table>\n",
       "</div>"
      ],
      "text/plain": [
       "                                 Real      GM     SDV   CTGAN  WGANGP\n",
       "PPC_MATRIX_NORMS               3.0756  3.0818  3.0716  2.8360  4.8225\n",
       "CATEGORICAL_CORS_MATRIX_NORMS  2.3376  1.9032  2.6217  2.3365  3.0898"
      ]
     },
     "execution_count": 11,
     "metadata": {},
     "output_type": "execute_result"
    }
   ],
   "source": [
    "norms_data = [np.asarray(list(norms_numerical.values())), np.asarray(list(norms_categorical.values()))]\n",
    "df_norms = pd.DataFrame(data=norms_data, columns=DATA_TYPES, index=['PPC_MATRIX_NORMS','CATEGORICAL_CORS_MATRIX_NORMS'])\n",
    "df_norms.to_csv('MULTIVARIATE RESEMBLANCE RESULTS/Correlation_Matrix_Norms.csv')\n",
    "df_norms"
   ]
  },
  {
   "cell_type": "code",
   "execution_count": null,
   "metadata": {},
   "outputs": [],
   "source": []
  }
 ],
 "metadata": {
  "kernelspec": {
   "display_name": "Python 3",
   "language": "python",
   "name": "python3"
  },
  "language_info": {
   "codemirror_mode": {
    "name": "ipython",
    "version": 3
   },
   "file_extension": ".py",
   "mimetype": "text/x-python",
   "name": "python",
   "nbconvert_exporter": "python",
   "pygments_lexer": "ipython3",
   "version": "3.8.5"
  }
 },
 "nbformat": 4,
 "nbformat_minor": 5
}
