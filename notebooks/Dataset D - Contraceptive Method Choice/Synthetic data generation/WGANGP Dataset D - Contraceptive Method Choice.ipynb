{
 "cells": [
  {
   "cell_type": "code",
   "execution_count": 1,
   "metadata": {},
   "outputs": [],
   "source": [
    "import os\n",
    "import numpy as np\n",
    "from sklearn.preprocessing import LabelEncoder, OneHotEncoder\n",
    "from numpy import asarray\n",
    "from sklearn.model_selection import train_test_split\n",
    "from sklearn.preprocessing import StandardScaler\n",
    "import pandas as pd\n",
    "\n",
    "import matplotlib.pyplot as plt"
   ]
  },
  {
   "cell_type": "code",
   "execution_count": 2,
   "metadata": {},
   "outputs": [],
   "source": [
    "HOME_PATH = '' #home path of the project\n",
    "TRAIN_FILE = 'REAL DATASETS/TRAIN DATASETS/D_ContraceptiveMethod_Real_Train.csv'\n",
    "SYNTHETIC_FILE = 'SYNTHETIC DATASETS/WGANGP/D_ContraceptiveMethod_Synthetic_WGANGP.csv'"
   ]
  },
  {
   "cell_type": "code",
   "execution_count": 3,
   "metadata": {},
   "outputs": [
    {
     "name": "stdout",
     "output_type": "stream",
     "text": [
      "Functions imported!!\n"
     ]
    }
   ],
   "source": [
    "#define directory of functions and actual directory\n",
    "FUNCTIONS_DIR = HOME_PATH + 'STDG APPROACHES'\n",
    "ACTUAL_DIR = os.getcwd()\n",
    "\n",
    "#change directory to functions directory\n",
    "os.chdir(FUNCTIONS_DIR)\n",
    "\n",
    "#import functions for univariate resemblance analisys\n",
    "from preprocessing import DataPreProcessor\n",
    "\n",
    "#change directory to actual directory\n",
    "os.chdir(ACTUAL_DIR)\n",
    "\n",
    "from ydata_synthetic.synthesizers.regular import WGAN_GP\n",
    "print('Functions imported!!')"
   ]
  },
  {
   "cell_type": "markdown",
   "metadata": {},
   "source": [
    "## Data Preprocessing"
   ]
  },
  {
   "cell_type": "code",
   "execution_count": 4,
   "metadata": {},
   "outputs": [
    {
     "data": {
      "text/html": [
       "<div>\n",
       "<style scoped>\n",
       "    .dataframe tbody tr th:only-of-type {\n",
       "        vertical-align: middle;\n",
       "    }\n",
       "\n",
       "    .dataframe tbody tr th {\n",
       "        vertical-align: top;\n",
       "    }\n",
       "\n",
       "    .dataframe thead th {\n",
       "        text-align: right;\n",
       "    }\n",
       "</style>\n",
       "<table border=\"1\" class=\"dataframe\">\n",
       "  <thead>\n",
       "    <tr style=\"text-align: right;\">\n",
       "      <th></th>\n",
       "      <th>wife_age</th>\n",
       "      <th>wife_education</th>\n",
       "      <th>husband_education</th>\n",
       "      <th>children</th>\n",
       "      <th>wife_religion</th>\n",
       "      <th>wife_working</th>\n",
       "      <th>husband_occupation</th>\n",
       "      <th>standard_of_living_index</th>\n",
       "      <th>media_exposure</th>\n",
       "      <th>contraceptive_method_used</th>\n",
       "    </tr>\n",
       "  </thead>\n",
       "  <tbody>\n",
       "    <tr>\n",
       "      <th>0</th>\n",
       "      <td>36</td>\n",
       "      <td>2</td>\n",
       "      <td>4</td>\n",
       "      <td>11</td>\n",
       "      <td>1</td>\n",
       "      <td>1</td>\n",
       "      <td>1</td>\n",
       "      <td>4</td>\n",
       "      <td>1</td>\n",
       "      <td>3</td>\n",
       "    </tr>\n",
       "    <tr>\n",
       "      <th>1</th>\n",
       "      <td>48</td>\n",
       "      <td>1</td>\n",
       "      <td>3</td>\n",
       "      <td>4</td>\n",
       "      <td>1</td>\n",
       "      <td>1</td>\n",
       "      <td>3</td>\n",
       "      <td>3</td>\n",
       "      <td>1</td>\n",
       "      <td>1</td>\n",
       "    </tr>\n",
       "    <tr>\n",
       "      <th>2</th>\n",
       "      <td>38</td>\n",
       "      <td>1</td>\n",
       "      <td>2</td>\n",
       "      <td>8</td>\n",
       "      <td>1</td>\n",
       "      <td>1</td>\n",
       "      <td>3</td>\n",
       "      <td>3</td>\n",
       "      <td>1</td>\n",
       "      <td>1</td>\n",
       "    </tr>\n",
       "    <tr>\n",
       "      <th>3</th>\n",
       "      <td>27</td>\n",
       "      <td>2</td>\n",
       "      <td>2</td>\n",
       "      <td>5</td>\n",
       "      <td>1</td>\n",
       "      <td>1</td>\n",
       "      <td>3</td>\n",
       "      <td>1</td>\n",
       "      <td>0</td>\n",
       "      <td>3</td>\n",
       "    </tr>\n",
       "    <tr>\n",
       "      <th>4</th>\n",
       "      <td>26</td>\n",
       "      <td>3</td>\n",
       "      <td>2</td>\n",
       "      <td>4</td>\n",
       "      <td>1</td>\n",
       "      <td>1</td>\n",
       "      <td>3</td>\n",
       "      <td>4</td>\n",
       "      <td>0</td>\n",
       "      <td>3</td>\n",
       "    </tr>\n",
       "    <tr>\n",
       "      <th>...</th>\n",
       "      <td>...</td>\n",
       "      <td>...</td>\n",
       "      <td>...</td>\n",
       "      <td>...</td>\n",
       "      <td>...</td>\n",
       "      <td>...</td>\n",
       "      <td>...</td>\n",
       "      <td>...</td>\n",
       "      <td>...</td>\n",
       "      <td>...</td>\n",
       "    </tr>\n",
       "    <tr>\n",
       "      <th>1173</th>\n",
       "      <td>34</td>\n",
       "      <td>2</td>\n",
       "      <td>4</td>\n",
       "      <td>6</td>\n",
       "      <td>1</td>\n",
       "      <td>0</td>\n",
       "      <td>3</td>\n",
       "      <td>4</td>\n",
       "      <td>0</td>\n",
       "      <td>1</td>\n",
       "    </tr>\n",
       "    <tr>\n",
       "      <th>1174</th>\n",
       "      <td>23</td>\n",
       "      <td>4</td>\n",
       "      <td>4</td>\n",
       "      <td>1</td>\n",
       "      <td>1</td>\n",
       "      <td>0</td>\n",
       "      <td>3</td>\n",
       "      <td>4</td>\n",
       "      <td>0</td>\n",
       "      <td>2</td>\n",
       "    </tr>\n",
       "    <tr>\n",
       "      <th>1175</th>\n",
       "      <td>29</td>\n",
       "      <td>3</td>\n",
       "      <td>4</td>\n",
       "      <td>3</td>\n",
       "      <td>1</td>\n",
       "      <td>1</td>\n",
       "      <td>3</td>\n",
       "      <td>2</td>\n",
       "      <td>0</td>\n",
       "      <td>3</td>\n",
       "    </tr>\n",
       "    <tr>\n",
       "      <th>1176</th>\n",
       "      <td>37</td>\n",
       "      <td>4</td>\n",
       "      <td>4</td>\n",
       "      <td>5</td>\n",
       "      <td>0</td>\n",
       "      <td>0</td>\n",
       "      <td>2</td>\n",
       "      <td>4</td>\n",
       "      <td>0</td>\n",
       "      <td>3</td>\n",
       "    </tr>\n",
       "    <tr>\n",
       "      <th>1177</th>\n",
       "      <td>31</td>\n",
       "      <td>4</td>\n",
       "      <td>4</td>\n",
       "      <td>2</td>\n",
       "      <td>1</td>\n",
       "      <td>1</td>\n",
       "      <td>1</td>\n",
       "      <td>2</td>\n",
       "      <td>0</td>\n",
       "      <td>1</td>\n",
       "    </tr>\n",
       "  </tbody>\n",
       "</table>\n",
       "<p>1178 rows × 10 columns</p>\n",
       "</div>"
      ],
      "text/plain": [
       "      wife_age wife_education husband_education  children wife_religion  \\\n",
       "0           36              2                 4        11             1   \n",
       "1           48              1                 3         4             1   \n",
       "2           38              1                 2         8             1   \n",
       "3           27              2                 2         5             1   \n",
       "4           26              3                 2         4             1   \n",
       "...        ...            ...               ...       ...           ...   \n",
       "1173        34              2                 4         6             1   \n",
       "1174        23              4                 4         1             1   \n",
       "1175        29              3                 4         3             1   \n",
       "1176        37              4                 4         5             0   \n",
       "1177        31              4                 4         2             1   \n",
       "\n",
       "     wife_working husband_occupation standard_of_living_index media_exposure  \\\n",
       "0               1                  1                        4              1   \n",
       "1               1                  3                        3              1   \n",
       "2               1                  3                        3              1   \n",
       "3               1                  3                        1              0   \n",
       "4               1                  3                        4              0   \n",
       "...           ...                ...                      ...            ...   \n",
       "1173            0                  3                        4              0   \n",
       "1174            0                  3                        4              0   \n",
       "1175            1                  3                        2              0   \n",
       "1176            0                  2                        4              0   \n",
       "1177            1                  1                        2              0   \n",
       "\n",
       "     contraceptive_method_used  \n",
       "0                            3  \n",
       "1                            1  \n",
       "2                            1  \n",
       "3                            3  \n",
       "4                            3  \n",
       "...                        ...  \n",
       "1173                         1  \n",
       "1174                         2  \n",
       "1175                         3  \n",
       "1176                         3  \n",
       "1177                         1  \n",
       "\n",
       "[1178 rows x 10 columns]"
      ]
     },
     "execution_count": 4,
     "metadata": {},
     "output_type": "execute_result"
    }
   ],
   "source": [
    "#read real dataset\n",
    "real_data = pd.read_csv(HOME_PATH + TRAIN_FILE)\n",
    "categorical_columns = ['wife_education','husband_education','wife_religion','wife_working','husband_occupation',\n",
    "                        'standard_of_living_index','media_exposure','contraceptive_method_used']\n",
    "for col in categorical_columns :\n",
    "    real_data[col] = real_data[col].astype('category')\n",
    "data_train = real_data\n",
    "real_data"
   ]
  },
  {
   "cell_type": "code",
   "execution_count": 5,
   "metadata": {},
   "outputs": [
    {
     "data": {
      "text/html": [
       "<div>\n",
       "<style scoped>\n",
       "    .dataframe tbody tr th:only-of-type {\n",
       "        vertical-align: middle;\n",
       "    }\n",
       "\n",
       "    .dataframe tbody tr th {\n",
       "        vertical-align: top;\n",
       "    }\n",
       "\n",
       "    .dataframe thead th {\n",
       "        text-align: right;\n",
       "    }\n",
       "</style>\n",
       "<table border=\"1\" class=\"dataframe\">\n",
       "  <thead>\n",
       "    <tr style=\"text-align: right;\">\n",
       "      <th></th>\n",
       "      <th>wife_age</th>\n",
       "      <th>children</th>\n",
       "      <th>wife_education0</th>\n",
       "      <th>wife_education1</th>\n",
       "      <th>wife_education2</th>\n",
       "      <th>wife_education3</th>\n",
       "      <th>husband_education0</th>\n",
       "      <th>husband_education1</th>\n",
       "      <th>husband_education2</th>\n",
       "      <th>husband_education3</th>\n",
       "      <th>...</th>\n",
       "      <th>husband_occupation3</th>\n",
       "      <th>standard_of_living_index0</th>\n",
       "      <th>standard_of_living_index1</th>\n",
       "      <th>standard_of_living_index2</th>\n",
       "      <th>standard_of_living_index3</th>\n",
       "      <th>media_exposure0</th>\n",
       "      <th>media_exposure1</th>\n",
       "      <th>contraceptive_method_used0</th>\n",
       "      <th>contraceptive_method_used1</th>\n",
       "      <th>contraceptive_method_used2</th>\n",
       "    </tr>\n",
       "  </thead>\n",
       "  <tbody>\n",
       "    <tr>\n",
       "      <th>0</th>\n",
       "      <td>0.380654</td>\n",
       "      <td>3.157177</td>\n",
       "      <td>-0.336781</td>\n",
       "      <td>1.888357</td>\n",
       "      <td>-0.635651</td>\n",
       "      <td>-0.801846</td>\n",
       "      <td>-0.174989</td>\n",
       "      <td>-0.380527</td>\n",
       "      <td>-0.551852</td>\n",
       "      <td>0.798991</td>\n",
       "      <td>...</td>\n",
       "      <td>-0.13142</td>\n",
       "      <td>-0.302905</td>\n",
       "      <td>-0.427470</td>\n",
       "      <td>-0.638285</td>\n",
       "      <td>1.057689</td>\n",
       "      <td>-3.395867</td>\n",
       "      <td>3.395867</td>\n",
       "      <td>-0.857266</td>\n",
       "      <td>-0.534814</td>\n",
       "      <td>1.350903</td>\n",
       "    </tr>\n",
       "    <tr>\n",
       "      <th>1</th>\n",
       "      <td>1.821331</td>\n",
       "      <td>0.269955</td>\n",
       "      <td>2.969287</td>\n",
       "      <td>-0.529561</td>\n",
       "      <td>-0.635651</td>\n",
       "      <td>-0.801846</td>\n",
       "      <td>-0.174989</td>\n",
       "      <td>-0.380527</td>\n",
       "      <td>1.812081</td>\n",
       "      <td>-1.251579</td>\n",
       "      <td>...</td>\n",
       "      <td>-0.13142</td>\n",
       "      <td>-0.302905</td>\n",
       "      <td>-0.427470</td>\n",
       "      <td>1.566699</td>\n",
       "      <td>-0.945458</td>\n",
       "      <td>-3.395867</td>\n",
       "      <td>3.395867</td>\n",
       "      <td>1.166500</td>\n",
       "      <td>-0.534814</td>\n",
       "      <td>-0.740245</td>\n",
       "    </tr>\n",
       "    <tr>\n",
       "      <th>2</th>\n",
       "      <td>0.620767</td>\n",
       "      <td>1.919796</td>\n",
       "      <td>2.969287</td>\n",
       "      <td>-0.529561</td>\n",
       "      <td>-0.635651</td>\n",
       "      <td>-0.801846</td>\n",
       "      <td>-0.174989</td>\n",
       "      <td>2.627935</td>\n",
       "      <td>-0.551852</td>\n",
       "      <td>-1.251579</td>\n",
       "      <td>...</td>\n",
       "      <td>-0.13142</td>\n",
       "      <td>-0.302905</td>\n",
       "      <td>-0.427470</td>\n",
       "      <td>1.566699</td>\n",
       "      <td>-0.945458</td>\n",
       "      <td>-3.395867</td>\n",
       "      <td>3.395867</td>\n",
       "      <td>1.166500</td>\n",
       "      <td>-0.534814</td>\n",
       "      <td>-0.740245</td>\n",
       "    </tr>\n",
       "    <tr>\n",
       "      <th>3</th>\n",
       "      <td>-0.699853</td>\n",
       "      <td>0.682415</td>\n",
       "      <td>-0.336781</td>\n",
       "      <td>1.888357</td>\n",
       "      <td>-0.635651</td>\n",
       "      <td>-0.801846</td>\n",
       "      <td>-0.174989</td>\n",
       "      <td>2.627935</td>\n",
       "      <td>-0.551852</td>\n",
       "      <td>-1.251579</td>\n",
       "      <td>...</td>\n",
       "      <td>-0.13142</td>\n",
       "      <td>3.301362</td>\n",
       "      <td>-0.427470</td>\n",
       "      <td>-0.638285</td>\n",
       "      <td>-0.945458</td>\n",
       "      <td>0.294476</td>\n",
       "      <td>-0.294476</td>\n",
       "      <td>-0.857266</td>\n",
       "      <td>-0.534814</td>\n",
       "      <td>1.350903</td>\n",
       "    </tr>\n",
       "    <tr>\n",
       "      <th>4</th>\n",
       "      <td>-0.819910</td>\n",
       "      <td>0.269955</td>\n",
       "      <td>-0.336781</td>\n",
       "      <td>-0.529561</td>\n",
       "      <td>1.573190</td>\n",
       "      <td>-0.801846</td>\n",
       "      <td>-0.174989</td>\n",
       "      <td>2.627935</td>\n",
       "      <td>-0.551852</td>\n",
       "      <td>-1.251579</td>\n",
       "      <td>...</td>\n",
       "      <td>-0.13142</td>\n",
       "      <td>-0.302905</td>\n",
       "      <td>-0.427470</td>\n",
       "      <td>-0.638285</td>\n",
       "      <td>1.057689</td>\n",
       "      <td>0.294476</td>\n",
       "      <td>-0.294476</td>\n",
       "      <td>-0.857266</td>\n",
       "      <td>-0.534814</td>\n",
       "      <td>1.350903</td>\n",
       "    </tr>\n",
       "    <tr>\n",
       "      <th>...</th>\n",
       "      <td>...</td>\n",
       "      <td>...</td>\n",
       "      <td>...</td>\n",
       "      <td>...</td>\n",
       "      <td>...</td>\n",
       "      <td>...</td>\n",
       "      <td>...</td>\n",
       "      <td>...</td>\n",
       "      <td>...</td>\n",
       "      <td>...</td>\n",
       "      <td>...</td>\n",
       "      <td>...</td>\n",
       "      <td>...</td>\n",
       "      <td>...</td>\n",
       "      <td>...</td>\n",
       "      <td>...</td>\n",
       "      <td>...</td>\n",
       "      <td>...</td>\n",
       "      <td>...</td>\n",
       "      <td>...</td>\n",
       "      <td>...</td>\n",
       "    </tr>\n",
       "    <tr>\n",
       "      <th>1173</th>\n",
       "      <td>0.140541</td>\n",
       "      <td>1.094876</td>\n",
       "      <td>-0.336781</td>\n",
       "      <td>1.888357</td>\n",
       "      <td>-0.635651</td>\n",
       "      <td>-0.801846</td>\n",
       "      <td>-0.174989</td>\n",
       "      <td>-0.380527</td>\n",
       "      <td>-0.551852</td>\n",
       "      <td>0.798991</td>\n",
       "      <td>...</td>\n",
       "      <td>-0.13142</td>\n",
       "      <td>-0.302905</td>\n",
       "      <td>-0.427470</td>\n",
       "      <td>-0.638285</td>\n",
       "      <td>1.057689</td>\n",
       "      <td>0.294476</td>\n",
       "      <td>-0.294476</td>\n",
       "      <td>1.166500</td>\n",
       "      <td>-0.534814</td>\n",
       "      <td>-0.740245</td>\n",
       "    </tr>\n",
       "    <tr>\n",
       "      <th>1174</th>\n",
       "      <td>-1.180079</td>\n",
       "      <td>-0.967426</td>\n",
       "      <td>-0.336781</td>\n",
       "      <td>-0.529561</td>\n",
       "      <td>-0.635651</td>\n",
       "      <td>1.247123</td>\n",
       "      <td>-0.174989</td>\n",
       "      <td>-0.380527</td>\n",
       "      <td>-0.551852</td>\n",
       "      <td>0.798991</td>\n",
       "      <td>...</td>\n",
       "      <td>-0.13142</td>\n",
       "      <td>-0.302905</td>\n",
       "      <td>-0.427470</td>\n",
       "      <td>-0.638285</td>\n",
       "      <td>1.057689</td>\n",
       "      <td>0.294476</td>\n",
       "      <td>-0.294476</td>\n",
       "      <td>-0.857266</td>\n",
       "      <td>1.869808</td>\n",
       "      <td>-0.740245</td>\n",
       "    </tr>\n",
       "    <tr>\n",
       "      <th>1175</th>\n",
       "      <td>-0.459741</td>\n",
       "      <td>-0.142505</td>\n",
       "      <td>-0.336781</td>\n",
       "      <td>-0.529561</td>\n",
       "      <td>1.573190</td>\n",
       "      <td>-0.801846</td>\n",
       "      <td>-0.174989</td>\n",
       "      <td>-0.380527</td>\n",
       "      <td>-0.551852</td>\n",
       "      <td>0.798991</td>\n",
       "      <td>...</td>\n",
       "      <td>-0.13142</td>\n",
       "      <td>-0.302905</td>\n",
       "      <td>2.339343</td>\n",
       "      <td>-0.638285</td>\n",
       "      <td>-0.945458</td>\n",
       "      <td>0.294476</td>\n",
       "      <td>-0.294476</td>\n",
       "      <td>-0.857266</td>\n",
       "      <td>-0.534814</td>\n",
       "      <td>1.350903</td>\n",
       "    </tr>\n",
       "    <tr>\n",
       "      <th>1176</th>\n",
       "      <td>0.500711</td>\n",
       "      <td>0.682415</td>\n",
       "      <td>-0.336781</td>\n",
       "      <td>-0.529561</td>\n",
       "      <td>-0.635651</td>\n",
       "      <td>1.247123</td>\n",
       "      <td>-0.174989</td>\n",
       "      <td>-0.380527</td>\n",
       "      <td>-0.551852</td>\n",
       "      <td>0.798991</td>\n",
       "      <td>...</td>\n",
       "      <td>-0.13142</td>\n",
       "      <td>-0.302905</td>\n",
       "      <td>-0.427470</td>\n",
       "      <td>-0.638285</td>\n",
       "      <td>1.057689</td>\n",
       "      <td>0.294476</td>\n",
       "      <td>-0.294476</td>\n",
       "      <td>-0.857266</td>\n",
       "      <td>-0.534814</td>\n",
       "      <td>1.350903</td>\n",
       "    </tr>\n",
       "    <tr>\n",
       "      <th>1177</th>\n",
       "      <td>-0.219628</td>\n",
       "      <td>-0.554966</td>\n",
       "      <td>-0.336781</td>\n",
       "      <td>-0.529561</td>\n",
       "      <td>-0.635651</td>\n",
       "      <td>1.247123</td>\n",
       "      <td>-0.174989</td>\n",
       "      <td>-0.380527</td>\n",
       "      <td>-0.551852</td>\n",
       "      <td>0.798991</td>\n",
       "      <td>...</td>\n",
       "      <td>-0.13142</td>\n",
       "      <td>-0.302905</td>\n",
       "      <td>2.339343</td>\n",
       "      <td>-0.638285</td>\n",
       "      <td>-0.945458</td>\n",
       "      <td>0.294476</td>\n",
       "      <td>-0.294476</td>\n",
       "      <td>1.166500</td>\n",
       "      <td>-0.534814</td>\n",
       "      <td>-0.740245</td>\n",
       "    </tr>\n",
       "  </tbody>\n",
       "</table>\n",
       "<p>1178 rows × 27 columns</p>\n",
       "</div>"
      ],
      "text/plain": [
       "      wife_age  children  wife_education0  wife_education1  wife_education2  \\\n",
       "0     0.380654  3.157177        -0.336781         1.888357        -0.635651   \n",
       "1     1.821331  0.269955         2.969287        -0.529561        -0.635651   \n",
       "2     0.620767  1.919796         2.969287        -0.529561        -0.635651   \n",
       "3    -0.699853  0.682415        -0.336781         1.888357        -0.635651   \n",
       "4    -0.819910  0.269955        -0.336781        -0.529561         1.573190   \n",
       "...        ...       ...              ...              ...              ...   \n",
       "1173  0.140541  1.094876        -0.336781         1.888357        -0.635651   \n",
       "1174 -1.180079 -0.967426        -0.336781        -0.529561        -0.635651   \n",
       "1175 -0.459741 -0.142505        -0.336781        -0.529561         1.573190   \n",
       "1176  0.500711  0.682415        -0.336781        -0.529561        -0.635651   \n",
       "1177 -0.219628 -0.554966        -0.336781        -0.529561        -0.635651   \n",
       "\n",
       "      wife_education3  husband_education0  husband_education1  \\\n",
       "0           -0.801846           -0.174989           -0.380527   \n",
       "1           -0.801846           -0.174989           -0.380527   \n",
       "2           -0.801846           -0.174989            2.627935   \n",
       "3           -0.801846           -0.174989            2.627935   \n",
       "4           -0.801846           -0.174989            2.627935   \n",
       "...               ...                 ...                 ...   \n",
       "1173        -0.801846           -0.174989           -0.380527   \n",
       "1174         1.247123           -0.174989           -0.380527   \n",
       "1175        -0.801846           -0.174989           -0.380527   \n",
       "1176         1.247123           -0.174989           -0.380527   \n",
       "1177         1.247123           -0.174989           -0.380527   \n",
       "\n",
       "      husband_education2  husband_education3  ...  husband_occupation3  \\\n",
       "0              -0.551852            0.798991  ...             -0.13142   \n",
       "1               1.812081           -1.251579  ...             -0.13142   \n",
       "2              -0.551852           -1.251579  ...             -0.13142   \n",
       "3              -0.551852           -1.251579  ...             -0.13142   \n",
       "4              -0.551852           -1.251579  ...             -0.13142   \n",
       "...                  ...                 ...  ...                  ...   \n",
       "1173           -0.551852            0.798991  ...             -0.13142   \n",
       "1174           -0.551852            0.798991  ...             -0.13142   \n",
       "1175           -0.551852            0.798991  ...             -0.13142   \n",
       "1176           -0.551852            0.798991  ...             -0.13142   \n",
       "1177           -0.551852            0.798991  ...             -0.13142   \n",
       "\n",
       "      standard_of_living_index0  standard_of_living_index1  \\\n",
       "0                     -0.302905                  -0.427470   \n",
       "1                     -0.302905                  -0.427470   \n",
       "2                     -0.302905                  -0.427470   \n",
       "3                      3.301362                  -0.427470   \n",
       "4                     -0.302905                  -0.427470   \n",
       "...                         ...                        ...   \n",
       "1173                  -0.302905                  -0.427470   \n",
       "1174                  -0.302905                  -0.427470   \n",
       "1175                  -0.302905                   2.339343   \n",
       "1176                  -0.302905                  -0.427470   \n",
       "1177                  -0.302905                   2.339343   \n",
       "\n",
       "      standard_of_living_index2  standard_of_living_index3  media_exposure0  \\\n",
       "0                     -0.638285                   1.057689        -3.395867   \n",
       "1                      1.566699                  -0.945458        -3.395867   \n",
       "2                      1.566699                  -0.945458        -3.395867   \n",
       "3                     -0.638285                  -0.945458         0.294476   \n",
       "4                     -0.638285                   1.057689         0.294476   \n",
       "...                         ...                        ...              ...   \n",
       "1173                  -0.638285                   1.057689         0.294476   \n",
       "1174                  -0.638285                   1.057689         0.294476   \n",
       "1175                  -0.638285                  -0.945458         0.294476   \n",
       "1176                  -0.638285                   1.057689         0.294476   \n",
       "1177                  -0.638285                  -0.945458         0.294476   \n",
       "\n",
       "      media_exposure1  contraceptive_method_used0  contraceptive_method_used1  \\\n",
       "0            3.395867                   -0.857266                   -0.534814   \n",
       "1            3.395867                    1.166500                   -0.534814   \n",
       "2            3.395867                    1.166500                   -0.534814   \n",
       "3           -0.294476                   -0.857266                   -0.534814   \n",
       "4           -0.294476                   -0.857266                   -0.534814   \n",
       "...               ...                         ...                         ...   \n",
       "1173        -0.294476                    1.166500                   -0.534814   \n",
       "1174        -0.294476                   -0.857266                    1.869808   \n",
       "1175        -0.294476                   -0.857266                   -0.534814   \n",
       "1176        -0.294476                   -0.857266                   -0.534814   \n",
       "1177        -0.294476                    1.166500                   -0.534814   \n",
       "\n",
       "      contraceptive_method_used2  \n",
       "0                       1.350903  \n",
       "1                      -0.740245  \n",
       "2                      -0.740245  \n",
       "3                       1.350903  \n",
       "4                       1.350903  \n",
       "...                          ...  \n",
       "1173                   -0.740245  \n",
       "1174                   -0.740245  \n",
       "1175                    1.350903  \n",
       "1176                    1.350903  \n",
       "1177                   -0.740245  \n",
       "\n",
       "[1178 rows x 27 columns]"
      ]
     },
     "execution_count": 5,
     "metadata": {},
     "output_type": "execute_result"
    }
   ],
   "source": [
    "# data configuration\n",
    "preprocessor = DataPreProcessor(data_train)\n",
    "data_train = preprocessor.preprocess_train_data()\n",
    "data_train"
   ]
  },
  {
   "cell_type": "markdown",
   "metadata": {},
   "source": [
    "## Train the Model\n",
    "\n",
    "Next, lets define the neural network for generating synthetic data. We will be using a [GAN](https://www.wikiwand.com/en/Generative_adversarial_network) network that comprises of an generator and discriminator that tries to beat each other and in the process learns the vector embedding for the data. \n",
    "\n",
    "The model was taken from a [Github repository](https://github.com/ydataai/gan-playground) where it is used to generate synthetic data on credit card fraud data. "
   ]
  },
  {
   "cell_type": "code",
   "execution_count": 44,
   "metadata": {},
   "outputs": [
    {
     "name": "stdout",
     "output_type": "stream",
     "text": [
      "Shape of data:  (1178, 27)\n"
     ]
    }
   ],
   "source": [
    "# training configuration\n",
    "noise_dim = 32\n",
    "dim = 128\n",
    "batch_size = 32\n",
    "\n",
    "log_step = 200\n",
    "epochs = 5000+1\n",
    "learning_rate = 5e-4\n",
    "\n",
    "beta_1 = 0.5\n",
    "beta_2 = 0.9\n",
    "\n",
    "models_dir = 'my_model_datasetD/'\n",
    "\n",
    "data_dim = data_train.shape[1]\n",
    "print('Shape of data: ', data_train.shape)"
   ]
  },
  {
   "cell_type": "code",
   "execution_count": 45,
   "metadata": {},
   "outputs": [],
   "source": [
    "#Define the GAN and training parameters\n",
    "gan_args = [batch_size, learning_rate, beta_1, beta_2, noise_dim, data_dim, dim]\n",
    "train_args = ['', epochs, log_step]"
   ]
  },
  {
   "cell_type": "markdown",
   "metadata": {},
   "source": [
    "Finally, let's run the training and see if the model is able to learn something."
   ]
  },
  {
   "cell_type": "code",
   "execution_count": 46,
   "metadata": {},
   "outputs": [
    {
     "name": "stdout",
     "output_type": "stream",
     "text": [
      "mkdir: cannot create directory ‘my_model_datasetD’: File exists\n",
      "mkdir: cannot create directory ‘my_model_datasetD/gan’: File exists\n",
      "mkdir: cannot create directory ‘my_model_datasetD/gan/saved’: File exists\n"
     ]
    }
   ],
   "source": [
    "!mkdir my_model_datasetD\n",
    "!mkdir my_model_datasetD/gan\n",
    "!mkdir my_model_datasetD/gan/saved"
   ]
  },
  {
   "cell_type": "code",
   "execution_count": 47,
   "metadata": {},
   "outputs": [
    {
     "name": "stderr",
     "output_type": "stream",
     "text": [
      "  0%|          | 12/5001 [00:01<07:22, 11.28it/s] "
     ]
    },
    {
     "name": "stdout",
     "output_type": "stream",
     "text": [
      "Iteration: 0 | disc_loss: -0.21101100742816925 | gen_loss: -0.028182052075862885\n",
      "Iteration: 1 | disc_loss: -0.4077967703342438 | gen_loss: -0.05015607178211212\n",
      "Iteration: 2 | disc_loss: -0.45417818427085876 | gen_loss: -0.04101138934493065\n",
      "Iteration: 3 | disc_loss: -0.5176681280136108 | gen_loss: -0.040627457201480865\n",
      "Iteration: 4 | disc_loss: -0.5637476444244385 | gen_loss: -0.04577416181564331\n",
      "Iteration: 5 | disc_loss: -0.5912602543830872 | gen_loss: -0.020370416343212128\n",
      "Iteration: 6 | disc_loss: -0.5314205884933472 | gen_loss: -0.026378734037280083\n",
      "Iteration: 7 | disc_loss: -0.5925151109695435 | gen_loss: -0.022526580840349197\n",
      "Iteration: 8 | disc_loss: -0.6029710173606873 | gen_loss: -0.005167032591998577\n",
      "Iteration: 9 | disc_loss: -0.6419973969459534 | gen_loss: -0.048582524061203\n",
      "Iteration: 10 | disc_loss: -0.6013356447219849 | gen_loss: -0.045248791575431824\n",
      "Iteration: 11 | disc_loss: -0.6439535617828369 | gen_loss: -0.028537781909108162\n",
      "Iteration: 12 | disc_loss: -0.6701971888542175 | gen_loss: -0.03698454797267914\n",
      "Iteration: 13 | disc_loss: -0.6495586037635803 | gen_loss: -0.023859888315200806\n",
      "Iteration: 14 | disc_loss: -0.6289283633232117 | gen_loss: -0.04591032862663269\n",
      "Iteration: 15 | disc_loss: -0.6665778160095215 | gen_loss: -0.010832805186510086\n",
      "Iteration: 16 | disc_loss: -0.6199043989181519 | gen_loss: -0.030412543565034866\n",
      "Iteration: 17 | disc_loss: -0.6178364157676697 | gen_loss: -0.04062368720769882\n",
      "Iteration: 18 | disc_loss: -0.6469844579696655 | gen_loss: -0.02282552421092987\n",
      "Iteration: 19 | disc_loss: -0.6756382584571838 | gen_loss: -0.06096171587705612\n"
     ]
    },
    {
     "name": "stderr",
     "output_type": "stream",
     "text": [
      "  1%|          | 36/5001 [00:01<02:11, 37.62it/s]"
     ]
    },
    {
     "name": "stdout",
     "output_type": "stream",
     "text": [
      "Iteration: 20 | disc_loss: -0.6174685955047607 | gen_loss: -0.006442205514758825\n",
      "Iteration: 21 | disc_loss: -0.47838521003723145 | gen_loss: -0.008318822830915451\n",
      "Iteration: 22 | disc_loss: -0.6006088256835938 | gen_loss: -0.004045175388455391\n",
      "Iteration: 23 | disc_loss: -0.6443213820457458 | gen_loss: -0.011099874041974545\n",
      "Iteration: 24 | disc_loss: -0.6257116794586182 | gen_loss: -0.009255233220756054\n",
      "Iteration: 25 | disc_loss: -0.6718072295188904 | gen_loss: -0.018742971122264862\n",
      "Iteration: 26 | disc_loss: -0.7160374522209167 | gen_loss: -0.014532480388879776\n",
      "Iteration: 27 | disc_loss: -0.4645621180534363 | gen_loss: -0.003403017297387123\n",
      "Iteration: 28 | disc_loss: -0.5076243877410889 | gen_loss: -0.016156138852238655\n",
      "Iteration: 29 | disc_loss: -0.6323258280754089 | gen_loss: -0.01814068853855133\n",
      "Iteration: 30 | disc_loss: -0.5974440574645996 | gen_loss: -0.03865319490432739\n",
      "Iteration: 31 | disc_loss: -0.6171214580535889 | gen_loss: -0.015415490604937077\n",
      "Iteration: 32 | disc_loss: -0.6046000123023987 | gen_loss: -0.007838639430701733\n",
      "Iteration: 33 | disc_loss: -0.6469491124153137 | gen_loss: -0.04890747368335724\n",
      "Iteration: 34 | disc_loss: -0.652016282081604 | gen_loss: 0.015056449919939041\n",
      "Iteration: 35 | disc_loss: -0.6486622095108032 | gen_loss: 0.027071893215179443\n",
      "Iteration: 36 | disc_loss: -0.6524212956428528 | gen_loss: 0.03247905150055885\n",
      "Iteration: 37 | disc_loss: -0.6847593784332275 | gen_loss: -0.014307434670627117\n",
      "Iteration: 38 | disc_loss: -0.6219807863235474 | gen_loss: 0.03952954337000847\n",
      "Iteration: 39 | disc_loss: -0.7194610834121704 | gen_loss: -0.029119782149791718\n",
      "Iteration: 40 | disc_loss: -0.6780725121498108 | gen_loss: 0.02191733941435814\n",
      "Iteration: 41 | disc_loss: -0.5680127143859863 | gen_loss: 0.03652583062648773\n",
      "Iteration: 42 | disc_loss: -0.6179606914520264 | gen_loss: 0.015663137659430504"
     ]
    },
    {
     "name": "stderr",
     "output_type": "stream",
     "text": [
      "  1%|          | 56/5001 [00:01<01:25, 58.02it/s]"
     ]
    },
    {
     "name": "stdout",
     "output_type": "stream",
     "text": [
      "\n",
      "Iteration: 43 | disc_loss: -0.5843195915222168 | gen_loss: -0.01684478670358658\n",
      "Iteration: 44 | disc_loss: -0.6668808460235596 | gen_loss: -0.034666672348976135\n",
      "Iteration: 45 | disc_loss: -0.6368669867515564 | gen_loss: 0.039081476628780365\n",
      "Iteration: 46 | disc_loss: -0.656771719455719 | gen_loss: -0.0076225013472139835\n",
      "Iteration: 47 | disc_loss: -0.5535974502563477 | gen_loss: 0.04405448958277702\n",
      "Iteration: 48 | disc_loss: -0.6942534446716309 | gen_loss: 0.04902137070894241\n",
      "Iteration: 49 | disc_loss: -0.6714830994606018 | gen_loss: 0.09936539083719254\n",
      "Iteration: 50 | disc_loss: -0.6400308609008789 | gen_loss: 0.0521080419421196\n",
      "Iteration: 51 | disc_loss: -0.522028923034668 | gen_loss: 0.05412086844444275\n",
      "Iteration: 52 | disc_loss: -0.6438819766044617 | gen_loss: 0.007546663749963045\n",
      "Iteration: 53 | disc_loss: -0.6890891790390015 | gen_loss: -0.0075866468250751495\n",
      "Iteration: 54 | disc_loss: -0.7192620635032654 | gen_loss: 0.008288716897368431\n",
      "Iteration: 55 | disc_loss: -0.6429990530014038 | gen_loss: 0.08143399655818939\n",
      "Iteration: 56 | disc_loss: -0.6614876985549927 | gen_loss: 0.0043162135407328606\n",
      "Iteration: 57 | disc_loss: -0.5224177837371826 | gen_loss: 0.05828232690691948\n",
      "Iteration: 58 | disc_loss: -0.7012926340103149 | gen_loss: -0.03525029122829437\n",
      "Iteration: 59 | disc_loss: -0.6810224652290344 | gen_loss: 0.03174386918544769\n",
      "Iteration: 60 | disc_loss: -0.6424121856689453 | gen_loss: 0.06401219964027405\n",
      "Iteration: 61 | disc_loss: -0.5828868746757507 | gen_loss: 0.07607878744602203\n",
      "Iteration: 62 | disc_loss: -0.6736744046211243 | gen_loss: 0.017540620639920235\n"
     ]
    },
    {
     "name": "stderr",
     "output_type": "stream",
     "text": [
      "  2%|▏         | 81/5001 [00:02<00:58, 83.66it/s]"
     ]
    },
    {
     "name": "stdout",
     "output_type": "stream",
     "text": [
      "Iteration: 63 | disc_loss: -0.5284479260444641 | gen_loss: 0.1119312047958374\n",
      "Iteration: 64 | disc_loss: -0.6332581639289856 | gen_loss: 0.017684655264019966\n",
      "Iteration: 65 | disc_loss: -0.532826840877533 | gen_loss: 0.07681944966316223\n",
      "Iteration: 66 | disc_loss: -0.6394770741462708 | gen_loss: 0.01913078874349594\n",
      "Iteration: 67 | disc_loss: -0.740917980670929 | gen_loss: -0.008840917609632015\n",
      "Iteration: 68 | disc_loss: -0.6809155941009521 | gen_loss: 0.09947178512811661\n",
      "Iteration: 69 | disc_loss: -0.6600965857505798 | gen_loss: 0.03665849193930626\n",
      "Iteration: 70 | disc_loss: -0.6753519773483276 | gen_loss: 0.010721944272518158\n",
      "Iteration: 71 | disc_loss: -0.637513279914856 | gen_loss: 0.006940045394003391\n",
      "Iteration: 72 | disc_loss: -0.616473913192749 | gen_loss: 0.02217688597738743\n",
      "Iteration: 73 | disc_loss: -0.6652536392211914 | gen_loss: 0.07335200905799866\n",
      "Iteration: 74 | disc_loss: -0.648282527923584 | gen_loss: 0.06433803588151932\n",
      "Iteration: 75 | disc_loss: -0.6873349547386169 | gen_loss: 0.018941717222332954\n",
      "Iteration: 76 | disc_loss: -0.7180641889572144 | gen_loss: -0.010550122708082199\n",
      "Iteration: 77 | disc_loss: -0.6464211344718933 | gen_loss: -0.008885773830115795\n",
      "Iteration: 78 | disc_loss: -0.6884000301361084 | gen_loss: -0.02232164889574051\n",
      "Iteration: 79 | disc_loss: -0.630532443523407 | gen_loss: 0.10319715738296509\n",
      "Iteration: 80 | disc_loss: -0.6575300097465515 | gen_loss: 0.00974923837929964\n",
      "Iteration: 81 | disc_loss: -0.5607937574386597 | gen_loss: 0.03739602863788605\n",
      "Iteration: 82 | disc_loss: -0.6907390356063843 | gen_loss: 0.04782695323228836\n",
      "Iteration: 83 | disc_loss: -0.6819391846656799 | gen_loss: 0.04094789922237396\n",
      "Iteration: 84 | disc_loss: -0.6793484687805176 | gen_loss: 0.07136598229408264\n",
      "Iteration: 85 | disc_loss: -0.6036815643310547 | gen_loss: 0.04406384006142616\n",
      "Iteration: 86 | disc_loss: -0.6865620017051697 | gen_loss: 0.02366817370057106\n"
     ]
    },
    {
     "name": "stderr",
     "output_type": "stream",
     "text": [
      "  2%|▏         | 103/5001 [00:02<00:53, 92.14it/s]"
     ]
    },
    {
     "name": "stdout",
     "output_type": "stream",
     "text": [
      "Iteration: 87 | disc_loss: -0.6516222357749939 | gen_loss: 0.057249896228313446\n",
      "Iteration: 88 | disc_loss: -0.6531654000282288 | gen_loss: 0.0008897408843040466\n",
      "Iteration: 89 | disc_loss: -0.6553623676300049 | gen_loss: 0.04321759566664696\n",
      "Iteration: 90 | disc_loss: -0.5926232933998108 | gen_loss: 0.03330804780125618\n",
      "Iteration: 91 | disc_loss: -0.6402184963226318 | gen_loss: 0.07870154082775116\n",
      "Iteration: 92 | disc_loss: -0.6775951981544495 | gen_loss: 0.04219238832592964\n",
      "Iteration: 93 | disc_loss: -0.6983817219734192 | gen_loss: -0.000609569251537323\n",
      "Iteration: 94 | disc_loss: -0.6400840282440186 | gen_loss: 0.07803463190793991\n",
      "Iteration: 95 | disc_loss: -0.5857034921646118 | gen_loss: 0.07151100784540176\n",
      "Iteration: 96 | disc_loss: -0.6608552932739258 | gen_loss: 0.0559801384806633\n",
      "Iteration: 97 | disc_loss: -0.6938340067863464 | gen_loss: -0.07674479484558105\n",
      "Iteration: 98 | disc_loss: -0.6486525535583496 | gen_loss: 0.09314490854740143\n",
      "Iteration: 99 | disc_loss: -0.589288055896759 | gen_loss: 0.10218849778175354\n",
      "Iteration: 100 | disc_loss: -0.5306204557418823 | gen_loss: 0.12087370455265045\n",
      "Iteration: 101 | disc_loss: -0.6202415823936462 | gen_loss: 0.04656144231557846\n",
      "Iteration: 102 | disc_loss: -0.684434711933136 | gen_loss: -0.032409459352493286\n",
      "Iteration: 103 | disc_loss: -0.6679474115371704 | gen_loss: 0.0025455730501562357\n",
      "Iteration: 104 | disc_loss: -0.6498239040374756 | gen_loss: 0.09337831288576126\n",
      "Iteration: 105 | disc_loss: -0.622557520866394 | gen_loss: 0.09846287965774536\n",
      "Iteration: 106 | disc_loss: -0.5715494155883789 | gen_loss: 0.05534613877534866\n",
      "Iteration: 107 | disc_loss: -0.6382628679275513 | gen_loss: -0.028204303234815598\n"
     ]
    },
    {
     "name": "stderr",
     "output_type": "stream",
     "text": [
      "  2%|▏         | 125/5001 [00:02<00:49, 98.84it/s]"
     ]
    },
    {
     "name": "stdout",
     "output_type": "stream",
     "text": [
      "Iteration: 108 | disc_loss: -0.6228269338607788 | gen_loss: 0.09911514818668365\n",
      "Iteration: 109 | disc_loss: -0.6078763008117676 | gen_loss: 0.06192493811249733\n",
      "Iteration: 110 | disc_loss: -0.6335341334342957 | gen_loss: 0.05918315798044205\n",
      "Iteration: 111 | disc_loss: -0.6841309666633606 | gen_loss: -0.014403781853616238\n",
      "Iteration: 112 | disc_loss: -0.6199129223823547 | gen_loss: 0.06419087201356888\n",
      "Iteration: 113 | disc_loss: -0.6353646516799927 | gen_loss: 0.09505036473274231\n",
      "Iteration: 114 | disc_loss: -0.5633953809738159 | gen_loss: 0.09865879267454147\n",
      "Iteration: 115 | disc_loss: -0.5483902096748352 | gen_loss: 0.16663217544555664\n",
      "Iteration: 116 | disc_loss: -0.6618038415908813 | gen_loss: 0.07233420014381409\n",
      "Iteration: 117 | disc_loss: -0.6837947964668274 | gen_loss: 0.012428130954504013\n",
      "Iteration: 118 | disc_loss: -0.6289802193641663 | gen_loss: 0.01715303212404251\n",
      "Iteration: 119 | disc_loss: -0.6800459623336792 | gen_loss: 0.08875232934951782\n",
      "Iteration: 120 | disc_loss: -0.6761770844459534 | gen_loss: 0.07652510702610016\n",
      "Iteration: 121 | disc_loss: -0.6560279726982117 | gen_loss: 0.060206301510334015\n",
      "Iteration: 122 | disc_loss: -0.6234445571899414 | gen_loss: 0.056559257209300995\n",
      "Iteration: 123 | disc_loss: -0.6085881590843201 | gen_loss: 0.016510792076587677\n",
      "Iteration: 124 | disc_loss: -0.6390865445137024 | gen_loss: 0.06145152822136879\n",
      "Iteration: 125 | disc_loss: -0.622958242893219 | gen_loss: 0.03806871175765991\n",
      "Iteration: 126 | disc_loss: -0.6137840151786804 | gen_loss: 0.035546112805604935\n",
      "Iteration: 127 | disc_loss: -0.6703722476959229 | gen_loss: -0.008699089288711548\n",
      "Iteration: 128 | disc_loss: -0.5882534980773926 | gen_loss: 0.07292254269123077\n",
      "Iteration: 129 | disc_loss: -0.6338598132133484 | gen_loss: 0.03677880018949509\n"
     ]
    },
    {
     "name": "stderr",
     "output_type": "stream",
     "text": [
      "  3%|▎         | 148/5001 [00:02<00:46, 104.94it/s]"
     ]
    },
    {
     "name": "stdout",
     "output_type": "stream",
     "text": [
      "Iteration: 130 | disc_loss: -0.6556780338287354 | gen_loss: 0.0286458320915699\n",
      "Iteration: 131 | disc_loss: -0.6328434348106384 | gen_loss: 0.036669693887233734\n",
      "Iteration: 132 | disc_loss: -0.7047218680381775 | gen_loss: 0.029653752222657204\n",
      "Iteration: 133 | disc_loss: -0.6218196749687195 | gen_loss: 0.0788147896528244\n",
      "Iteration: 134 | disc_loss: -0.6581810712814331 | gen_loss: 0.08517758548259735\n",
      "Iteration: 135 | disc_loss: -0.6544527411460876 | gen_loss: 0.10013534128665924\n",
      "Iteration: 136 | disc_loss: -0.6478102803230286 | gen_loss: 0.10506971180438995\n",
      "Iteration: 137 | disc_loss: -0.7133601307868958 | gen_loss: -0.0023385565727949142\n",
      "Iteration: 138 | disc_loss: -0.6220362186431885 | gen_loss: 0.125907301902771\n",
      "Iteration: 139 | disc_loss: -0.6461021304130554 | gen_loss: 0.11073131114244461\n",
      "Iteration: 140 | disc_loss: -0.6227940320968628 | gen_loss: 0.0958375409245491\n",
      "Iteration: 141 | disc_loss: -0.606044590473175 | gen_loss: 0.029202859848737717\n",
      "Iteration: 142 | disc_loss: -0.6466745138168335 | gen_loss: 0.07935379445552826\n",
      "Iteration: 143 | disc_loss: -0.5257415771484375 | gen_loss: 0.10877572745084763\n",
      "Iteration: 144 | disc_loss: -0.658496618270874 | gen_loss: 0.016578372567892075\n",
      "Iteration: 145 | disc_loss: -0.5940810441970825 | gen_loss: 0.022083910182118416\n",
      "Iteration: 146 | disc_loss: -0.5527025461196899 | gen_loss: 0.08758655190467834\n",
      "Iteration: 147 | disc_loss: -0.6742109656333923 | gen_loss: 0.04000690579414368\n",
      "Iteration: 148 | disc_loss: -0.6771519184112549 | gen_loss: 0.043437592685222626\n",
      "Iteration: 149 | disc_loss: -0.7318803071975708 | gen_loss: -0.022809568792581558\n",
      "Iteration: 150 | disc_loss: -0.6729711294174194 | gen_loss: 0.11298651993274689\n",
      "Iteration: 151 | disc_loss: -0.6797583699226379 | gen_loss: 0.14301061630249023\n",
      "Iteration: 152 | disc_loss: -0.6071872115135193 | gen_loss: 0.09297977387905121\n",
      "Iteration: 153 | disc_loss: -0.6082772016525269 | gen_loss: 0.07790800929069519\n"
     ]
    },
    {
     "name": "stderr",
     "output_type": "stream",
     "text": [
      "  3%|▎         | 171/5001 [00:02<00:45, 106.10it/s]"
     ]
    },
    {
     "name": "stdout",
     "output_type": "stream",
     "text": [
      "Iteration: 154 | disc_loss: -0.6326223611831665 | gen_loss: 0.07137874513864517\n",
      "Iteration: 155 | disc_loss: -0.541998565196991 | gen_loss: 0.1040935218334198\n",
      "Iteration: 156 | disc_loss: -0.6215303540229797 | gen_loss: 0.024572240188717842\n",
      "Iteration: 157 | disc_loss: -0.6862393617630005 | gen_loss: 0.02518640086054802\n",
      "Iteration: 158 | disc_loss: -0.6618508100509644 | gen_loss: 0.03310007229447365\n",
      "Iteration: 159 | disc_loss: -0.5875816345214844 | gen_loss: 0.11383340507745743\n",
      "Iteration: 160 | disc_loss: -0.5992163419723511 | gen_loss: 0.09819254279136658\n",
      "Iteration: 161 | disc_loss: -0.6486594676971436 | gen_loss: 0.07137993723154068\n",
      "Iteration: 162 | disc_loss: -0.6290648579597473 | gen_loss: 0.060186631977558136\n",
      "Iteration: 163 | disc_loss: -0.5628896951675415 | gen_loss: 0.0940445065498352\n",
      "Iteration: 164 | disc_loss: -0.6222771406173706 | gen_loss: 0.044221825897693634\n",
      "Iteration: 165 | disc_loss: -0.6454742550849915 | gen_loss: 0.03055766597390175\n",
      "Iteration: 166 | disc_loss: -0.6133242249488831 | gen_loss: 0.11889351904392242\n",
      "Iteration: 167 | disc_loss: -0.5900582671165466 | gen_loss: 0.08657021820545197\n",
      "Iteration: 168 | disc_loss: -0.5189552307128906 | gen_loss: 0.06858855485916138\n",
      "Iteration: 169 | disc_loss: -0.6308258175849915 | gen_loss: 0.024189483374357224\n",
      "Iteration: 170 | disc_loss: -0.6451870203018188 | gen_loss: 0.05886887386441231\n",
      "Iteration: 171 | disc_loss: -0.6594587564468384 | gen_loss: -0.047011762857437134\n",
      "Iteration: 172 | disc_loss: -0.6772101521492004 | gen_loss: 0.029291503131389618\n",
      "Iteration: 173 | disc_loss: -0.6341724395751953 | gen_loss: 0.1016370877623558\n",
      "Iteration: 174 | disc_loss: -0.6217465400695801 | gen_loss: 0.11410404741764069\n",
      "Iteration: 175 | disc_loss: -0.7121134400367737 | gen_loss: 0.003988797310739756\n"
     ]
    },
    {
     "name": "stderr",
     "output_type": "stream",
     "text": [
      "  4%|▍         | 195/5001 [00:03<00:43, 110.58it/s]"
     ]
    },
    {
     "name": "stdout",
     "output_type": "stream",
     "text": [
      "Iteration: 176 | disc_loss: -0.43817371129989624 | gen_loss: 0.05448022484779358\n",
      "Iteration: 177 | disc_loss: -0.5595340132713318 | gen_loss: 0.13517692685127258\n",
      "Iteration: 178 | disc_loss: -0.5928193926811218 | gen_loss: 0.1300085037946701\n",
      "Iteration: 179 | disc_loss: -0.6726227402687073 | gen_loss: 0.049026668071746826\n",
      "Iteration: 180 | disc_loss: -0.6909466981887817 | gen_loss: 0.03527068346738815\n",
      "Iteration: 181 | disc_loss: -0.6438672542572021 | gen_loss: 0.07127834111452103\n",
      "Iteration: 182 | disc_loss: -0.6341066360473633 | gen_loss: 0.001994912512600422\n",
      "Iteration: 183 | disc_loss: -0.5353541970252991 | gen_loss: -0.0004873983561992645\n",
      "Iteration: 184 | disc_loss: -0.5680739879608154 | gen_loss: 0.08818773925304413\n",
      "Iteration: 185 | disc_loss: -0.5872057676315308 | gen_loss: 0.08889402449131012\n",
      "Iteration: 186 | disc_loss: -0.6395823955535889 | gen_loss: 0.09224903583526611\n",
      "Iteration: 187 | disc_loss: -0.6314991116523743 | gen_loss: 0.019443191587924957\n",
      "Iteration: 188 | disc_loss: -0.6833140850067139 | gen_loss: -0.018134448677301407\n",
      "Iteration: 189 | disc_loss: -0.6399024724960327 | gen_loss: 0.04085235670208931\n",
      "Iteration: 190 | disc_loss: -0.6130761504173279 | gen_loss: 0.055500924587249756\n",
      "Iteration: 191 | disc_loss: -0.6148066520690918 | gen_loss: -0.00392572907730937\n",
      "Iteration: 192 | disc_loss: -0.6253315806388855 | gen_loss: 0.008899259380996227\n",
      "Iteration: 193 | disc_loss: -0.7023628354072571 | gen_loss: -0.05344397947192192\n",
      "Iteration: 194 | disc_loss: -0.510789155960083 | gen_loss: 0.11446821689605713\n",
      "Iteration: 195 | disc_loss: -0.6196648478507996 | gen_loss: 0.08505731076002121\n",
      "Iteration: 196 | disc_loss: -0.6617370843887329 | gen_loss: -0.043587490916252136\n",
      "Iteration: 197 | disc_loss: -0.6214231848716736 | gen_loss: -0.051121145486831665\n",
      "Iteration: 198 | disc_loss: -0.5805968642234802 | gen_loss: 0.08452454954385757\n"
     ]
    },
    {
     "name": "stderr",
     "output_type": "stream",
     "text": [
      "  4%|▍         | 218/5001 [00:03<00:47, 101.73it/s]"
     ]
    },
    {
     "name": "stdout",
     "output_type": "stream",
     "text": [
      "Iteration: 199 | disc_loss: -0.5069140195846558 | gen_loss: 0.11062800884246826\n",
      "Iteration: 200 | disc_loss: -0.6464346647262573 | gen_loss: 0.0833364799618721\n",
      "Iteration: 201 | disc_loss: -0.6299989223480225 | gen_loss: 0.09954549372196198\n",
      "Iteration: 202 | disc_loss: -0.6626316905021667 | gen_loss: 0.06844305992126465\n",
      "Iteration: 203 | disc_loss: -0.64229416847229 | gen_loss: 0.09690942615270615\n",
      "Iteration: 204 | disc_loss: -0.5617319345474243 | gen_loss: 0.10039947926998138\n",
      "Iteration: 205 | disc_loss: -0.6408399939537048 | gen_loss: 0.054457977414131165\n",
      "Iteration: 206 | disc_loss: -0.6669174432754517 | gen_loss: 0.025957541540265083\n",
      "Iteration: 207 | disc_loss: -0.6266796588897705 | gen_loss: 0.08723855763673782\n",
      "Iteration: 208 | disc_loss: -0.5911887288093567 | gen_loss: 0.024727554991841316\n",
      "Iteration: 209 | disc_loss: -0.45373356342315674 | gen_loss: 0.10414648056030273\n",
      "Iteration: 210 | disc_loss: -0.5559256672859192 | gen_loss: 0.07059188187122345\n",
      "Iteration: 211 | disc_loss: -0.604799747467041 | gen_loss: 0.01367703452706337\n",
      "Iteration: 212 | disc_loss: -0.6631673574447632 | gen_loss: 0.09685039520263672\n",
      "Iteration: 213 | disc_loss: -0.6017152667045593 | gen_loss: 0.049100011587142944\n",
      "Iteration: 214 | disc_loss: -0.6080799102783203 | gen_loss: 0.05134080350399017\n",
      "Iteration: 215 | disc_loss: -0.5530858039855957 | gen_loss: 0.09761670976877213\n",
      "Iteration: 216 | disc_loss: -0.5950567126274109 | gen_loss: 0.05585784837603569\n",
      "Iteration: 217 | disc_loss: -0.5267115831375122 | gen_loss: 0.07073821127414703\n"
     ]
    },
    {
     "name": "stderr",
     "output_type": "stream",
     "text": [
      "  5%|▍         | 229/5001 [00:03<00:48, 97.93it/s] "
     ]
    },
    {
     "name": "stdout",
     "output_type": "stream",
     "text": [
      "Iteration: 218 | disc_loss: -0.5961978435516357 | gen_loss: 0.048503436148166656\n",
      "Iteration: 219 | disc_loss: -0.6519487500190735 | gen_loss: -0.006528118159621954\n",
      "Iteration: 220 | disc_loss: -0.653211236000061 | gen_loss: -0.030672617256641388\n",
      "Iteration: 221 | disc_loss: -0.5816457271575928 | gen_loss: 0.09214422106742859\n",
      "Iteration: 222 | disc_loss: -0.6302776336669922 | gen_loss: 0.17461566627025604\n",
      "Iteration: 223 | disc_loss: -0.5633377432823181 | gen_loss: 0.09221567213535309\n",
      "Iteration: 224 | disc_loss: -0.6403433680534363 | gen_loss: 0.027821743860840797\n",
      "Iteration: 225 | disc_loss: -0.5952504873275757 | gen_loss: 0.05944577232003212\n",
      "Iteration: 226 | disc_loss: -0.6454957127571106 | gen_loss: 0.06357252597808838\n",
      "Iteration: 227 | disc_loss: -0.6041698455810547 | gen_loss: 0.0730665773153305\n",
      "Iteration: 228 | disc_loss: -0.5439849495887756 | gen_loss: 0.03529864177107811\n",
      "Iteration: 229 | disc_loss: -0.5406163930892944 | gen_loss: 0.10980398952960968\n",
      "Iteration: 230 | disc_loss: -0.6108539700508118 | gen_loss: 0.000791759230196476\n",
      "Iteration: 231 | disc_loss: -0.41699153184890747 | gen_loss: 0.061167359352111816\n",
      "Iteration: 232 | disc_loss: -0.630016028881073 | gen_loss: 0.04128704220056534\n",
      "Iteration: 233 | disc_loss: -0.6305921077728271 | gen_loss: -0.025276418775320053\n",
      "Iteration: 234 | disc_loss: -0.36757946014404297 | gen_loss: 0.02377692051231861\n",
      "Iteration: 235 | disc_loss: -0.6042048931121826 | gen_loss: 0.08360561728477478\n",
      "Iteration: 236 | disc_loss: -0.5795665979385376 | gen_loss: 0.023354796692728996\n",
      "Iteration: 237 | disc_loss: -0.3802177309989929 | gen_loss: 0.02338472008705139\n"
     ]
    },
    {
     "name": "stderr",
     "output_type": "stream",
     "text": [
      "  5%|▌         | 252/5001 [00:03<00:45, 103.86it/s]"
     ]
    },
    {
     "name": "stdout",
     "output_type": "stream",
     "text": [
      "Iteration: 238 | disc_loss: -0.5532651543617249 | gen_loss: 0.06826025992631912\n",
      "Iteration: 239 | disc_loss: -0.6246477961540222 | gen_loss: -0.056013427674770355\n",
      "Iteration: 240 | disc_loss: -0.6333571076393127 | gen_loss: 0.009640001691877842\n",
      "Iteration: 241 | disc_loss: -0.6212238073348999 | gen_loss: 0.07313172519207001\n",
      "Iteration: 242 | disc_loss: -0.61928391456604 | gen_loss: -0.0320579819381237\n",
      "Iteration: 243 | disc_loss: -0.6307843923568726 | gen_loss: 0.08548997342586517\n",
      "Iteration: 244 | disc_loss: -0.5986337661743164 | gen_loss: 0.05752239376306534\n",
      "Iteration: 245 | disc_loss: -0.6145122051239014 | gen_loss: 0.056536126881837845\n",
      "Iteration: 246 | disc_loss: -0.5064027905464172 | gen_loss: 0.051381245255470276\n",
      "Iteration: 247 | disc_loss: -0.5877849459648132 | gen_loss: 0.06060672923922539\n",
      "Iteration: 248 | disc_loss: -0.5064562559127808 | gen_loss: 0.09450258314609528\n",
      "Iteration: 249 | disc_loss: -0.5696355700492859 | gen_loss: 0.05303995683789253\n",
      "Iteration: 250 | disc_loss: -0.6403266191482544 | gen_loss: -0.01648220419883728\n",
      "Iteration: 251 | disc_loss: -0.5621300339698792 | gen_loss: 0.024890437722206116\n",
      "Iteration: 252 | disc_loss: -0.6241199970245361 | gen_loss: 0.026872575283050537\n",
      "Iteration: 253 | disc_loss: -0.5524044036865234 | gen_loss: 0.047061219811439514\n",
      "Iteration: 254 | disc_loss: -0.6459735631942749 | gen_loss: 0.05785628408193588\n",
      "Iteration: 255 | disc_loss: -0.6067696213722229 | gen_loss: 0.048021942377090454\n",
      "Iteration: 256 | disc_loss: -0.6045594215393066 | gen_loss: 0.1568300724029541\n",
      "Iteration: 257 | disc_loss: -0.5914775729179382 | gen_loss: 0.15549570322036743\n",
      "Iteration: 258 | disc_loss: -0.5218067169189453 | gen_loss: 0.09984993934631348\n",
      "Iteration: 259 | disc_loss: -0.5246025323867798 | gen_loss: 0.12063957005739212\n"
     ]
    },
    {
     "name": "stderr",
     "output_type": "stream",
     "text": [
      "  5%|▌         | 274/5001 [00:03<00:45, 103.63it/s]"
     ]
    },
    {
     "name": "stdout",
     "output_type": "stream",
     "text": [
      "Iteration: 260 | disc_loss: -0.5796930193901062 | gen_loss: -0.012082592584192753\n",
      "Iteration: 261 | disc_loss: -0.5579516887664795 | gen_loss: 0.07387897372245789\n",
      "Iteration: 262 | disc_loss: -0.6298616528511047 | gen_loss: -0.05949951708316803\n",
      "Iteration: 263 | disc_loss: -0.5867566466331482 | gen_loss: -0.0006230659782886505\n",
      "Iteration: 264 | disc_loss: -0.5904809832572937 | gen_loss: 0.04294048249721527\n",
      "Iteration: 265 | disc_loss: -0.5667353272438049 | gen_loss: 0.10072775930166245\n",
      "Iteration: 266 | disc_loss: -0.5995803475379944 | gen_loss: 0.03306986764073372\n",
      "Iteration: 267 | disc_loss: -0.6283077001571655 | gen_loss: 0.009530605748295784\n",
      "Iteration: 268 | disc_loss: -0.5647865533828735 | gen_loss: 0.04088208079338074\n",
      "Iteration: 269 | disc_loss: -0.5999631881713867 | gen_loss: 0.06794650852680206\n",
      "Iteration: 270 | disc_loss: -0.5545452237129211 | gen_loss: 0.06374534964561462\n",
      "Iteration: 271 | disc_loss: -0.5913853645324707 | gen_loss: 0.03957799822092056\n",
      "Iteration: 272 | disc_loss: -0.6200645565986633 | gen_loss: -0.007471876218914986\n",
      "Iteration: 273 | disc_loss: -0.26175063848495483 | gen_loss: 0.0612950325012207\n",
      "Iteration: 274 | disc_loss: -0.46806004643440247 | gen_loss: 0.08224736899137497\n",
      "Iteration: 275 | disc_loss: -0.5874487161636353 | gen_loss: 0.025492681190371513\n",
      "Iteration: 276 | disc_loss: -0.5853434205055237 | gen_loss: 0.04485519975423813\n",
      "Iteration: 277 | disc_loss: -0.5740025043487549 | gen_loss: 0.1226252019405365\n",
      "Iteration: 278 | disc_loss: -0.5841506719589233 | gen_loss: 0.08218514919281006\n",
      "Iteration: 279 | disc_loss: -0.6210065484046936 | gen_loss: 0.07484568655490875\n",
      "Iteration: 280 | disc_loss: -0.5320518016815186 | gen_loss: 0.11940450221300125\n"
     ]
    },
    {
     "name": "stderr",
     "output_type": "stream",
     "text": [
      "  6%|▌         | 296/5001 [00:04<00:46, 100.27it/s]"
     ]
    },
    {
     "name": "stdout",
     "output_type": "stream",
     "text": [
      "Iteration: 281 | disc_loss: -0.5935516357421875 | gen_loss: 0.05488941818475723\n",
      "Iteration: 282 | disc_loss: -0.6151028871536255 | gen_loss: -0.006774316541850567\n",
      "Iteration: 283 | disc_loss: -0.5043017864227295 | gen_loss: 0.019972724840044975\n",
      "Iteration: 284 | disc_loss: -0.6291854381561279 | gen_loss: -0.00083960872143507\n",
      "Iteration: 285 | disc_loss: -0.6145011782646179 | gen_loss: 0.0363750085234642\n",
      "Iteration: 286 | disc_loss: -0.591317892074585 | gen_loss: 0.09914238005876541\n",
      "Iteration: 287 | disc_loss: -0.5899752974510193 | gen_loss: 0.026984214782714844\n",
      "Iteration: 288 | disc_loss: -0.5770052075386047 | gen_loss: 0.09377894550561905\n",
      "Iteration: 289 | disc_loss: -0.6211624145507812 | gen_loss: 0.06524242460727692\n",
      "Iteration: 290 | disc_loss: -0.5940963625907898 | gen_loss: 0.11248710751533508\n",
      "Iteration: 291 | disc_loss: -0.550625205039978 | gen_loss: 0.0863490104675293\n",
      "Iteration: 292 | disc_loss: -0.5689938068389893 | gen_loss: 0.020454537123441696\n",
      "Iteration: 293 | disc_loss: -0.6291975378990173 | gen_loss: -0.012309899553656578\n",
      "Iteration: 294 | disc_loss: -0.5369018912315369 | gen_loss: 0.06894830614328384\n",
      "Iteration: 295 | disc_loss: -0.5813252329826355 | gen_loss: 0.08346179872751236\n",
      "Iteration: 296 | disc_loss: -0.6388343572616577 | gen_loss: 0.02132461592555046\n",
      "Iteration: 297 | disc_loss: -0.5296648144721985 | gen_loss: 0.06363385915756226\n",
      "Iteration: 298 | disc_loss: -0.5127057433128357 | gen_loss: 0.09771053493022919\n",
      "Iteration: 299 | disc_loss: -0.615573525428772 | gen_loss: 0.09097106009721756\n",
      "Iteration: 300 | disc_loss: -0.6076974272727966 | gen_loss: 0.05815108120441437\n",
      "Iteration: 301 | disc_loss: -0.6699618697166443 | gen_loss: -0.061076126992702484\n"
     ]
    },
    {
     "name": "stderr",
     "output_type": "stream",
     "text": [
      "  6%|▋         | 318/5001 [00:04<00:45, 102.01it/s]"
     ]
    },
    {
     "name": "stdout",
     "output_type": "stream",
     "text": [
      "Iteration: 302 | disc_loss: -0.6177886724472046 | gen_loss: 0.11146067082881927\n",
      "Iteration: 303 | disc_loss: -0.5843834280967712 | gen_loss: 0.0926809310913086\n",
      "Iteration: 304 | disc_loss: -0.5920416712760925 | gen_loss: 0.06367434561252594\n",
      "Iteration: 305 | disc_loss: -0.4573041796684265 | gen_loss: 0.023954730480909348\n",
      "Iteration: 306 | disc_loss: -0.5836645364761353 | gen_loss: 0.04292120039463043\n",
      "Iteration: 307 | disc_loss: -0.5912402272224426 | gen_loss: -0.00238976813852787\n",
      "Iteration: 308 | disc_loss: -0.6062204241752625 | gen_loss: 0.026266690343618393\n",
      "Iteration: 309 | disc_loss: -0.5895971655845642 | gen_loss: -0.02932552620768547\n",
      "Iteration: 310 | disc_loss: -0.5377742052078247 | gen_loss: 0.023681845515966415\n",
      "Iteration: 311 | disc_loss: -0.503371000289917 | gen_loss: 0.11007118225097656\n",
      "Iteration: 312 | disc_loss: -0.5480198860168457 | gen_loss: 0.10472168773412704\n",
      "Iteration: 313 | disc_loss: -0.4653934836387634 | gen_loss: 0.11501146852970123\n",
      "Iteration: 314 | disc_loss: -0.5916653871536255 | gen_loss: 0.1172218918800354\n",
      "Iteration: 315 | disc_loss: -0.5998027920722961 | gen_loss: 0.05241330713033676\n",
      "Iteration: 316 | disc_loss: -0.6122760772705078 | gen_loss: 0.034363314509391785\n",
      "Iteration: 317 | disc_loss: -0.6164261102676392 | gen_loss: 0.2039998173713684\n",
      "Iteration: 318 | disc_loss: -0.5626745820045471 | gen_loss: 0.11564763635396957\n",
      "Iteration: 319 | disc_loss: -0.6161454916000366 | gen_loss: 0.08582450449466705\n",
      "Iteration: 320 | disc_loss: -0.6686992049217224 | gen_loss: 0.057558659464120865\n",
      "Iteration: 321 | disc_loss: -0.4726344347000122 | gen_loss: 0.0990922823548317\n",
      "Iteration: 322 | disc_loss: -0.5500928163528442 | gen_loss: 0.14624428749084473\n"
     ]
    },
    {
     "name": "stderr",
     "output_type": "stream",
     "text": [
      "  7%|▋         | 341/5001 [00:04<00:43, 107.99it/s]"
     ]
    },
    {
     "name": "stdout",
     "output_type": "stream",
     "text": [
      "Iteration: 323 | disc_loss: -0.5638461112976074 | gen_loss: 0.09869813919067383\n",
      "Iteration: 324 | disc_loss: -0.5699699521064758 | gen_loss: 0.03187917172908783\n",
      "Iteration: 325 | disc_loss: -0.5895105600357056 | gen_loss: 0.03925711289048195\n",
      "Iteration: 326 | disc_loss: -0.566862165927887 | gen_loss: 0.0893293023109436\n",
      "Iteration: 327 | disc_loss: -0.5417561531066895 | gen_loss: 0.03378966450691223\n",
      "Iteration: 328 | disc_loss: -0.42580321431159973 | gen_loss: 0.09335728734731674\n",
      "Iteration: 329 | disc_loss: -0.5082244873046875 | gen_loss: 0.07313120365142822\n",
      "Iteration: 330 | disc_loss: -0.5258230566978455 | gen_loss: -0.02238815650343895\n",
      "Iteration: 331 | disc_loss: -0.3320869505405426 | gen_loss: 0.05566238611936569\n",
      "Iteration: 332 | disc_loss: -0.5188644528388977 | gen_loss: 0.06551320850849152\n",
      "Iteration: 333 | disc_loss: -0.5955467820167542 | gen_loss: 0.01153475046157837\n",
      "Iteration: 334 | disc_loss: -0.5684646368026733 | gen_loss: -0.04164378345012665\n",
      "Iteration: 335 | disc_loss: -0.47218310832977295 | gen_loss: 0.08244209736585617\n",
      "Iteration: 336 | disc_loss: -0.5632052421569824 | gen_loss: 0.08157055824995041\n",
      "Iteration: 337 | disc_loss: -0.5008566975593567 | gen_loss: 0.06221099570393562\n",
      "Iteration: 338 | disc_loss: -0.45311039686203003 | gen_loss: 0.0813276618719101\n",
      "Iteration: 339 | disc_loss: -0.6018034815788269 | gen_loss: 0.020693659782409668\n",
      "Iteration: 340 | disc_loss: -0.5484291315078735 | gen_loss: 0.1662558615207672\n",
      "Iteration: 341 | disc_loss: -0.5465065836906433 | gen_loss: 0.0633385181427002\n",
      "Iteration: 342 | disc_loss: -0.5626660585403442 | gen_loss: 0.10320372879505157\n",
      "Iteration: 343 | disc_loss: -0.6358085870742798 | gen_loss: 0.05075416713953018\n",
      "Iteration: 344 | disc_loss: -0.6030895709991455 | gen_loss: -0.012896282598376274\n",
      "Iteration: 345 | disc_loss: -0.6234498023986816 | gen_loss: 0.07179443538188934\n",
      "Iteration: 346 | disc_loss: -0.5309475064277649 | gen_loss: 0.09523162245750427\n",
      "Iteration: 347 | disc_loss: -0.6188293099403381 | gen_loss: 0.06255219876766205\n"
     ]
    },
    {
     "name": "stderr",
     "output_type": "stream",
     "text": [
      "  7%|▋         | 368/5001 [00:04<00:38, 119.04it/s]"
     ]
    },
    {
     "name": "stdout",
     "output_type": "stream",
     "text": [
      "Iteration: 348 | disc_loss: -0.5630777478218079 | gen_loss: 0.06893344968557358\n",
      "Iteration: 349 | disc_loss: -0.5791218280792236 | gen_loss: -0.005748216062784195\n",
      "Iteration: 350 | disc_loss: -0.5375754833221436 | gen_loss: 0.09246006608009338\n",
      "Iteration: 351 | disc_loss: -0.5507362484931946 | gen_loss: 0.07217319309711456\n",
      "Iteration: 352 | disc_loss: -0.6309599876403809 | gen_loss: 0.028979824855923653\n",
      "Iteration: 353 | disc_loss: -0.5450266599655151 | gen_loss: 0.030532032251358032\n",
      "Iteration: 354 | disc_loss: -0.6114044785499573 | gen_loss: 0.1879243552684784\n",
      "Iteration: 355 | disc_loss: -0.616473913192749 | gen_loss: 0.1598309874534607\n",
      "Iteration: 356 | disc_loss: -0.515846848487854 | gen_loss: 0.11592629551887512\n",
      "Iteration: 357 | disc_loss: -0.6066249012947083 | gen_loss: 0.021738113835453987\n",
      "Iteration: 358 | disc_loss: -0.5637239813804626 | gen_loss: 0.0452379509806633\n",
      "Iteration: 359 | disc_loss: -0.5333588719367981 | gen_loss: 0.07924088835716248\n",
      "Iteration: 360 | disc_loss: -0.5839739441871643 | gen_loss: 0.05029269680380821\n",
      "Iteration: 361 | disc_loss: -0.5773293972015381 | gen_loss: 0.040284164249897\n",
      "Iteration: 362 | disc_loss: -0.614170253276825 | gen_loss: -0.02939853072166443\n",
      "Iteration: 363 | disc_loss: -0.6281095743179321 | gen_loss: 0.01877034269273281\n",
      "Iteration: 364 | disc_loss: -0.5333799719810486 | gen_loss: 0.03460632637143135\n",
      "Iteration: 365 | disc_loss: -0.5760141015052795 | gen_loss: 0.10709215700626373\n",
      "Iteration: 366 | disc_loss: -0.6299881935119629 | gen_loss: 0.0025660013779997826\n",
      "Iteration: 367 | disc_loss: -0.6041087508201599 | gen_loss: 0.11923527717590332\n",
      "Iteration: 368 | disc_loss: -0.5395441055297852 | gen_loss: 0.13418708741664886\n",
      "Iteration: 369 | disc_loss: -0.5405017137527466 | gen_loss: 0.09475797414779663\n",
      "Iteration: 370 | disc_loss: -0.5316693186759949 | gen_loss: 0.050974223762750626\n",
      "Iteration: 371 | disc_loss: -0.4631710946559906 | gen_loss: 0.03721878305077553\n",
      "Iteration: 372 | disc_loss: -0.6269301772117615 | gen_loss: 0.035976339131593704\n"
     ]
    },
    {
     "name": "stderr",
     "output_type": "stream",
     "text": [
      "  8%|▊         | 392/5001 [00:04<00:41, 111.01it/s]"
     ]
    },
    {
     "name": "stdout",
     "output_type": "stream",
     "text": [
      "Iteration: 373 | disc_loss: -0.616961658000946 | gen_loss: 0.035697415471076965\n",
      "Iteration: 374 | disc_loss: -0.5911035537719727 | gen_loss: 0.08437822759151459\n",
      "Iteration: 375 | disc_loss: -0.575899064540863 | gen_loss: 0.04599691182374954\n",
      "Iteration: 376 | disc_loss: -0.6066892743110657 | gen_loss: -0.06795898079872131\n",
      "Iteration: 377 | disc_loss: -0.560941219329834 | gen_loss: 0.09172559529542923\n",
      "Iteration: 378 | disc_loss: -0.6160032749176025 | gen_loss: 0.05927475169301033\n",
      "Iteration: 379 | disc_loss: -0.5335071086883545 | gen_loss: 0.04951542615890503\n",
      "Iteration: 380 | disc_loss: -0.5381790399551392 | gen_loss: -0.0480700358748436\n",
      "Iteration: 381 | disc_loss: -0.6103156805038452 | gen_loss: 0.02152760699391365\n",
      "Iteration: 382 | disc_loss: -0.6006466150283813 | gen_loss: 0.12907811999320984\n",
      "Iteration: 383 | disc_loss: -0.4428902864456177 | gen_loss: 0.07965746521949768\n",
      "Iteration: 384 | disc_loss: -0.38185417652130127 | gen_loss: 0.08349723368883133\n",
      "Iteration: 385 | disc_loss: -0.5553246140480042 | gen_loss: 0.12275683879852295\n",
      "Iteration: 386 | disc_loss: -0.5594711303710938 | gen_loss: 0.07716832309961319\n",
      "Iteration: 387 | disc_loss: -0.562425434589386 | gen_loss: 0.010432293638586998\n",
      "Iteration: 388 | disc_loss: -0.5828549265861511 | gen_loss: 0.029225550591945648\n",
      "Iteration: 389 | disc_loss: -0.5043052434921265 | gen_loss: 0.07277679443359375\n",
      "Iteration: 390 | disc_loss: -0.5803869962692261 | gen_loss: 0.08840382099151611\n",
      "Iteration: 391 | disc_loss: -0.59452223777771 | gen_loss: 0.04143339395523071\n",
      "Iteration: 392 | disc_loss: -0.5165441632270813 | gen_loss: 0.12155746668577194\n",
      "Iteration: 393 | disc_loss: -0.4971534013748169 | gen_loss: 0.10536866635084152\n"
     ]
    },
    {
     "name": "stderr",
     "output_type": "stream",
     "text": [
      "  8%|▊         | 404/5001 [00:05<00:44, 104.00it/s]"
     ]
    },
    {
     "name": "stdout",
     "output_type": "stream",
     "text": [
      "Iteration: 394 | disc_loss: -0.625214159488678 | gen_loss: 0.04601854830980301\n",
      "Iteration: 395 | disc_loss: -0.5663267970085144 | gen_loss: 0.10629691183567047\n",
      "Iteration: 396 | disc_loss: -0.5994215607643127 | gen_loss: 0.08498615026473999\n",
      "Iteration: 397 | disc_loss: -0.5819815993309021 | gen_loss: 0.07863310724496841\n",
      "Iteration: 398 | disc_loss: -0.6206297874450684 | gen_loss: 0.01602780446410179\n",
      "Iteration: 399 | disc_loss: -0.5720484256744385 | gen_loss: 0.07961324602365494\n",
      "Iteration: 400 | disc_loss: -0.576640784740448 | gen_loss: 0.08203663676977158\n",
      "Iteration: 401 | disc_loss: -0.6088694930076599 | gen_loss: 0.014888374134898186\n",
      "Iteration: 402 | disc_loss: -0.5808525681495667 | gen_loss: 0.061334192752838135\n",
      "Iteration: 403 | disc_loss: -0.5006544589996338 | gen_loss: 0.13114652037620544\n",
      "Iteration: 404 | disc_loss: -0.5631535649299622 | gen_loss: 0.02319294959306717\n",
      "Iteration: 405 | disc_loss: -0.5584316849708557 | gen_loss: 0.09318903088569641\n",
      "Iteration: 406 | disc_loss: -0.5502020120620728 | gen_loss: 0.10004900395870209\n",
      "Iteration: 407 | disc_loss: -0.5638210773468018 | gen_loss: 0.07459916174411774\n",
      "Iteration: 408 | disc_loss: -0.5743350982666016 | gen_loss: 0.04229963570833206\n",
      "Iteration: 409 | disc_loss: -0.5497570037841797 | gen_loss: -0.0179680734872818\n",
      "Iteration: 410 | disc_loss: -0.6039871573448181 | gen_loss: 0.055178165435791016\n",
      "Iteration: 411 | disc_loss: -0.5551222562789917 | gen_loss: 0.08012298494577408\n",
      "Iteration: 412 | disc_loss: -0.5553051829338074 | gen_loss: 0.13960561156272888\n"
     ]
    },
    {
     "name": "stderr",
     "output_type": "stream",
     "text": [
      "  9%|▊         | 426/5001 [00:05<00:44, 103.17it/s]"
     ]
    },
    {
     "name": "stdout",
     "output_type": "stream",
     "text": [
      "Iteration: 413 | disc_loss: -0.5117737054824829 | gen_loss: 0.10381654649972916\n",
      "Iteration: 414 | disc_loss: -0.5840721726417542 | gen_loss: 0.021543502807617188\n",
      "Iteration: 415 | disc_loss: -0.5301971435546875 | gen_loss: 0.052757471799850464\n",
      "Iteration: 416 | disc_loss: -0.5300166606903076 | gen_loss: 0.18639367818832397\n",
      "Iteration: 417 | disc_loss: -0.5016822814941406 | gen_loss: 0.12031015753746033\n",
      "Iteration: 418 | disc_loss: -0.5847370028495789 | gen_loss: 0.05284150689840317\n",
      "Iteration: 419 | disc_loss: -0.47601282596588135 | gen_loss: 0.04095468670129776\n",
      "Iteration: 420 | disc_loss: -0.5275698304176331 | gen_loss: 0.050404153764247894\n",
      "Iteration: 421 | disc_loss: -0.5012432932853699 | gen_loss: 0.07822815328836441\n",
      "Iteration: 422 | disc_loss: -0.627910852432251 | gen_loss: 0.097291961312294\n",
      "Iteration: 423 | disc_loss: -0.44272178411483765 | gen_loss: 0.03199998289346695\n",
      "Iteration: 424 | disc_loss: -0.5174776315689087 | gen_loss: 0.030455583706498146\n",
      "Iteration: 425 | disc_loss: -0.6087609529495239 | gen_loss: 0.043484412133693695\n",
      "Iteration: 426 | disc_loss: -0.5663015246391296 | gen_loss: 0.039866477251052856\n",
      "Iteration: 427 | disc_loss: -0.329130619764328 | gen_loss: 0.07426054775714874\n",
      "Iteration: 428 | disc_loss: -0.5390275716781616 | gen_loss: 0.14304368197917938\n",
      "Iteration: 429 | disc_loss: -0.5957193970680237 | gen_loss: 0.18659809231758118\n",
      "Iteration: 430 | disc_loss: -0.5764869451522827 | gen_loss: 0.1756812036037445\n",
      "Iteration: 431 | disc_loss: -0.5464255213737488 | gen_loss: 0.1291695386171341\n",
      "Iteration: 432 | disc_loss: -0.42647406458854675 | gen_loss: 0.1517580896615982\n",
      "Iteration: 433 | disc_loss: -0.5430393815040588 | gen_loss: 0.11856628954410553\n",
      "Iteration: 434 | disc_loss: -0.5029824376106262 | gen_loss: 0.11286672204732895\n"
     ]
    },
    {
     "name": "stderr",
     "output_type": "stream",
     "text": [
      "  9%|▉         | 449/5001 [00:05<00:42, 106.18it/s]"
     ]
    },
    {
     "name": "stdout",
     "output_type": "stream",
     "text": [
      "Iteration: 435 | disc_loss: -0.4422837495803833 | gen_loss: 0.0697321891784668\n",
      "Iteration: 436 | disc_loss: -0.5398694276809692 | gen_loss: 0.10424420982599258\n",
      "Iteration: 437 | disc_loss: -0.5565639734268188 | gen_loss: -0.05252876877784729\n",
      "Iteration: 438 | disc_loss: -0.5137047171592712 | gen_loss: 0.08685801923274994\n",
      "Iteration: 439 | disc_loss: -0.5285285711288452 | gen_loss: 0.05717631056904793\n",
      "Iteration: 440 | disc_loss: -0.5552880167961121 | gen_loss: 0.05462927371263504\n",
      "Iteration: 441 | disc_loss: -0.5074821710586548 | gen_loss: 0.04232163727283478\n",
      "Iteration: 442 | disc_loss: -0.48266124725341797 | gen_loss: 0.028216522186994553\n",
      "Iteration: 443 | disc_loss: -0.5353003740310669 | gen_loss: 0.08561426401138306\n",
      "Iteration: 444 | disc_loss: -0.5532528162002563 | gen_loss: 0.12627069652080536\n",
      "Iteration: 445 | disc_loss: -0.5637572407722473 | gen_loss: 0.09049974381923676\n",
      "Iteration: 446 | disc_loss: -0.5241168141365051 | gen_loss: 0.043416041880846024\n",
      "Iteration: 447 | disc_loss: -0.5676605105400085 | gen_loss: 0.10252101719379425\n",
      "Iteration: 448 | disc_loss: -0.5130159854888916 | gen_loss: 0.15010777115821838\n",
      "Iteration: 449 | disc_loss: -0.6268728971481323 | gen_loss: 0.05321688950061798\n",
      "Iteration: 450 | disc_loss: -0.6727158427238464 | gen_loss: 0.020081449300050735\n",
      "Iteration: 451 | disc_loss: -0.6037086844444275 | gen_loss: 0.1649390310049057\n",
      "Iteration: 452 | disc_loss: -0.5852989554405212 | gen_loss: 0.09480185806751251\n",
      "Iteration: 453 | disc_loss: -0.49129727482795715 | gen_loss: 0.09790277481079102\n",
      "Iteration: 454 | disc_loss: -0.5463977456092834 | gen_loss: 0.15452757477760315\n",
      "Iteration: 455 | disc_loss: -0.5648528933525085 | gen_loss: 0.14723168313503265\n"
     ]
    },
    {
     "name": "stderr",
     "output_type": "stream",
     "text": [
      "  9%|▉         | 471/5001 [00:05<00:43, 103.19it/s]"
     ]
    },
    {
     "name": "stdout",
     "output_type": "stream",
     "text": [
      "Iteration: 456 | disc_loss: -0.48612308502197266 | gen_loss: 0.17695453763008118\n",
      "Iteration: 457 | disc_loss: -0.558466911315918 | gen_loss: 0.09707871079444885\n",
      "Iteration: 458 | disc_loss: -0.6048054099082947 | gen_loss: -0.009043676778674126\n",
      "Iteration: 459 | disc_loss: -0.27236485481262207 | gen_loss: 0.023286134004592896\n",
      "Iteration: 460 | disc_loss: -0.5921865105628967 | gen_loss: 0.09296345710754395\n",
      "Iteration: 461 | disc_loss: -0.6014770865440369 | gen_loss: -0.023446129634976387\n",
      "Iteration: 462 | disc_loss: -0.5355047583580017 | gen_loss: 0.08698295801877975\n",
      "Iteration: 463 | disc_loss: -0.554650068283081 | gen_loss: 0.08578121662139893\n",
      "Iteration: 464 | disc_loss: -0.5071913599967957 | gen_loss: 0.059238772839307785\n",
      "Iteration: 465 | disc_loss: -0.5151476263999939 | gen_loss: 0.022822849452495575\n",
      "Iteration: 466 | disc_loss: -0.5123487710952759 | gen_loss: 0.19139359891414642\n",
      "Iteration: 467 | disc_loss: -0.6403696537017822 | gen_loss: 0.29375219345092773\n",
      "Iteration: 468 | disc_loss: -0.5549257397651672 | gen_loss: 0.16184274852275848\n",
      "Iteration: 469 | disc_loss: -0.4909735321998596 | gen_loss: 0.1320822536945343\n",
      "Iteration: 470 | disc_loss: -0.5318633317947388 | gen_loss: 0.01795770227909088\n",
      "Iteration: 471 | disc_loss: -0.48483583331108093 | gen_loss: 0.06109907478094101\n",
      "Iteration: 472 | disc_loss: -0.5036122798919678 | gen_loss: 0.106772780418396\n",
      "Iteration: 473 | disc_loss: -0.6044010519981384 | gen_loss: 0.04523370787501335\n",
      "Iteration: 474 | disc_loss: -0.5634902119636536 | gen_loss: 0.08050735294818878\n",
      "Iteration: 475 | disc_loss: -0.5443228483200073 | gen_loss: 0.05066331848502159\n",
      "Iteration: 476 | disc_loss: -0.597758948802948 | gen_loss: -0.02526380494236946\n"
     ]
    },
    {
     "name": "stderr",
     "output_type": "stream",
     "text": [
      " 10%|▉         | 493/5001 [00:05<00:44, 101.90it/s]"
     ]
    },
    {
     "name": "stdout",
     "output_type": "stream",
     "text": [
      "Iteration: 477 | disc_loss: -0.5005937218666077 | gen_loss: 0.0752573311328888\n",
      "Iteration: 478 | disc_loss: -0.426702618598938 | gen_loss: 0.08964000642299652\n",
      "Iteration: 479 | disc_loss: -0.534178614616394 | gen_loss: 0.05981980264186859\n",
      "Iteration: 480 | disc_loss: -0.031826943159103394 | gen_loss: 0.11707981675863266\n",
      "Iteration: 481 | disc_loss: -0.47527942061424255 | gen_loss: 0.13202722370624542\n",
      "Iteration: 482 | disc_loss: -0.5489906072616577 | gen_loss: 0.11767009645700455\n",
      "Iteration: 483 | disc_loss: -0.5635659694671631 | gen_loss: 0.13179317116737366\n",
      "Iteration: 484 | disc_loss: -0.4995984137058258 | gen_loss: 0.08745843917131424\n",
      "Iteration: 485 | disc_loss: -0.4873790740966797 | gen_loss: 0.07900947332382202\n",
      "Iteration: 486 | disc_loss: -0.5613742470741272 | gen_loss: 0.060021545737981796\n",
      "Iteration: 487 | disc_loss: -0.5843381881713867 | gen_loss: 0.05885659158229828\n",
      "Iteration: 488 | disc_loss: -0.5603765845298767 | gen_loss: 0.04497336596250534\n",
      "Iteration: 489 | disc_loss: -0.556598424911499 | gen_loss: 0.023781554773449898\n",
      "Iteration: 490 | disc_loss: -0.5332851409912109 | gen_loss: 0.014767599292099476\n",
      "Iteration: 491 | disc_loss: -0.5127044916152954 | gen_loss: 0.10969184339046478\n",
      "Iteration: 492 | disc_loss: -0.5479254722595215 | gen_loss: 0.08680848777294159\n",
      "Iteration: 493 | disc_loss: -0.5697653889656067 | gen_loss: 0.023860491812229156\n",
      "Iteration: 494 | disc_loss: -0.5789533853530884 | gen_loss: 0.062125369906425476\n",
      "Iteration: 495 | disc_loss: -0.5582746863365173 | gen_loss: 0.12543150782585144\n",
      "Iteration: 496 | disc_loss: -0.5521337389945984 | gen_loss: 0.10003270953893661\n",
      "Iteration: 497 | disc_loss: -0.3852914571762085 | gen_loss: 0.2104966789484024\n"
     ]
    },
    {
     "name": "stderr",
     "output_type": "stream",
     "text": [
      " 10%|█         | 519/5001 [00:06<00:39, 113.98it/s]"
     ]
    },
    {
     "name": "stdout",
     "output_type": "stream",
     "text": [
      "Iteration: 498 | disc_loss: -0.596459686756134 | gen_loss: 0.1092156171798706\n",
      "Iteration: 499 | disc_loss: -0.5105276703834534 | gen_loss: -0.01959851011633873\n",
      "Iteration: 500 | disc_loss: -0.5708890557289124 | gen_loss: 0.13922324776649475\n",
      "Iteration: 501 | disc_loss: -0.6152862310409546 | gen_loss: 0.13231348991394043\n",
      "Iteration: 502 | disc_loss: -0.5334821939468384 | gen_loss: 0.09037530422210693\n",
      "Iteration: 503 | disc_loss: -0.47677844762802124 | gen_loss: 0.16279180347919464\n",
      "Iteration: 504 | disc_loss: -0.5487062335014343 | gen_loss: 0.11104267835617065\n",
      "Iteration: 505 | disc_loss: -0.4647386968135834 | gen_loss: 0.18095162510871887\n",
      "Iteration: 506 | disc_loss: -0.49251142144203186 | gen_loss: 0.2154158353805542\n",
      "Iteration: 507 | disc_loss: -0.5031691789627075 | gen_loss: 0.1378326416015625\n",
      "Iteration: 508 | disc_loss: -0.5022799372673035 | gen_loss: 0.12662652134895325\n",
      "Iteration: 509 | disc_loss: -0.5118482708930969 | gen_loss: 0.11143127828836441\n",
      "Iteration: 510 | disc_loss: -0.5366761088371277 | gen_loss: 0.1566324532032013\n",
      "Iteration: 511 | disc_loss: -0.5164739489555359 | gen_loss: 0.09946384280920029\n",
      "Iteration: 512 | disc_loss: -0.5798989534378052 | gen_loss: 0.041649483144283295\n",
      "Iteration: 513 | disc_loss: -0.5676550269126892 | gen_loss: 0.1013050526380539\n",
      "Iteration: 514 | disc_loss: -0.5176251530647278 | gen_loss: 0.03818729519844055\n",
      "Iteration: 515 | disc_loss: -0.4549078047275543 | gen_loss: 0.10719145089387894\n",
      "Iteration: 516 | disc_loss: -0.49469223618507385 | gen_loss: 0.1664423644542694\n",
      "Iteration: 517 | disc_loss: -0.36722785234451294 | gen_loss: 0.1332586109638214\n",
      "Iteration: 518 | disc_loss: -0.5854625105857849 | gen_loss: 0.1449171006679535\n",
      "Iteration: 519 | disc_loss: -0.5226602554321289 | gen_loss: 0.12034474313259125\n",
      "Iteration: 520 | disc_loss: -0.5499343872070312 | gen_loss: 0.14495477080345154\n",
      "Iteration: 521 | disc_loss: -0.4730057120323181 | gen_loss: 0.07788325846195221\n",
      "Iteration: 522 | disc_loss: -0.4808424711227417 | gen_loss: 0.09555648267269135\n",
      "Iteration: 523 | disc_loss: -0.5117366909980774 | gen_loss: 0.12919403612613678\n",
      "Iteration: 524 | disc_loss: -0.5148270130157471 | gen_loss: 0.08877306431531906\n"
     ]
    },
    {
     "name": "stderr",
     "output_type": "stream",
     "text": [
      " 11%|█         | 544/5001 [00:06<00:38, 116.41it/s]"
     ]
    },
    {
     "name": "stdout",
     "output_type": "stream",
     "text": [
      "Iteration: 525 | disc_loss: -0.5400363802909851 | gen_loss: 0.07017070800065994\n",
      "Iteration: 526 | disc_loss: -0.5554368495941162 | gen_loss: 0.09042295813560486\n",
      "Iteration: 527 | disc_loss: -0.5210312008857727 | gen_loss: 0.08998072147369385\n",
      "Iteration: 528 | disc_loss: -0.5850605964660645 | gen_loss: 0.021677691489458084\n",
      "Iteration: 529 | disc_loss: -0.447066992521286 | gen_loss: 0.18377333879470825\n",
      "Iteration: 530 | disc_loss: -0.4294149875640869 | gen_loss: 0.11987403780221939\n",
      "Iteration: 531 | disc_loss: -0.5763213634490967 | gen_loss: -0.044709462672472\n",
      "Iteration: 532 | disc_loss: -0.5606561303138733 | gen_loss: -0.00853832345455885\n",
      "Iteration: 533 | disc_loss: -0.5780808329582214 | gen_loss: 0.21135714650154114\n",
      "Iteration: 534 | disc_loss: -0.5588721632957458 | gen_loss: 0.1740192472934723\n",
      "Iteration: 535 | disc_loss: -0.5191112160682678 | gen_loss: 0.14523616433143616\n",
      "Iteration: 536 | disc_loss: -0.5589722394943237 | gen_loss: 0.09419253468513489\n",
      "Iteration: 537 | disc_loss: -0.6043106317520142 | gen_loss: 0.11847785115242004\n",
      "Iteration: 538 | disc_loss: -0.4736187756061554 | gen_loss: 0.17438489198684692\n",
      "Iteration: 539 | disc_loss: -0.538640558719635 | gen_loss: 0.13611552119255066\n",
      "Iteration: 540 | disc_loss: -0.5682169795036316 | gen_loss: 0.11774815618991852\n",
      "Iteration: 541 | disc_loss: -0.5843347907066345 | gen_loss: 0.06727682054042816\n",
      "Iteration: 542 | disc_loss: -0.5782195329666138 | gen_loss: 0.17503349483013153\n",
      "Iteration: 543 | disc_loss: -0.5121821165084839 | gen_loss: 0.1611076146364212\n",
      "Iteration: 544 | disc_loss: -0.5904542207717896 | gen_loss: 0.2156640887260437\n",
      "Iteration: 545 | disc_loss: -0.5303897261619568 | gen_loss: 0.12230107188224792\n",
      "Iteration: 546 | disc_loss: -0.6207518577575684 | gen_loss: 0.08151178061962128\n",
      "Iteration: 547 | disc_loss: -0.4208412766456604 | gen_loss: 0.12632809579372406\n",
      "Iteration: 548 | disc_loss: -0.5517910718917847 | gen_loss: 0.11996323615312576"
     ]
    },
    {
     "name": "stderr",
     "output_type": "stream",
     "text": [
      " 11%|█▏        | 568/5001 [00:06<00:39, 112.23it/s]"
     ]
    },
    {
     "name": "stdout",
     "output_type": "stream",
     "text": [
      "\n",
      "Iteration: 549 | disc_loss: -0.4567805826663971 | gen_loss: 0.07953248172998428\n",
      "Iteration: 550 | disc_loss: -0.5604923963546753 | gen_loss: 0.022972162812948227\n",
      "Iteration: 551 | disc_loss: -0.5527019500732422 | gen_loss: 0.06963345408439636\n",
      "Iteration: 552 | disc_loss: -0.5091413855552673 | gen_loss: 0.03113916516304016\n",
      "Iteration: 553 | disc_loss: -0.550658106803894 | gen_loss: 0.01096281222999096\n",
      "Iteration: 554 | disc_loss: -0.4537412226200104 | gen_loss: 0.11827795207500458\n",
      "Iteration: 555 | disc_loss: -0.46145883202552795 | gen_loss: 0.09042589366436005\n",
      "Iteration: 556 | disc_loss: -0.5420763492584229 | gen_loss: 0.05614669248461723\n",
      "Iteration: 557 | disc_loss: -0.5270540118217468 | gen_loss: 0.07944775372743607\n",
      "Iteration: 558 | disc_loss: -0.4516679048538208 | gen_loss: 0.12398779392242432\n",
      "Iteration: 559 | disc_loss: -0.5414049625396729 | gen_loss: 0.03464861959218979\n",
      "Iteration: 560 | disc_loss: -0.5968378782272339 | gen_loss: 0.011857859790325165\n",
      "Iteration: 561 | disc_loss: -0.501819372177124 | gen_loss: 0.08736762404441833\n",
      "Iteration: 562 | disc_loss: -0.4774650037288666 | gen_loss: 0.12393872439861298\n",
      "Iteration: 563 | disc_loss: -0.48543867468833923 | gen_loss: 0.10527241230010986\n",
      "Iteration: 564 | disc_loss: -0.5322312116622925 | gen_loss: 0.135138601064682\n",
      "Iteration: 565 | disc_loss: -0.5501075983047485 | gen_loss: 0.15963178873062134\n",
      "Iteration: 566 | disc_loss: -0.5119466185569763 | gen_loss: 0.15552905201911926\n",
      "Iteration: 567 | disc_loss: -0.5535185933113098 | gen_loss: 0.05563250184059143\n",
      "Iteration: 568 | disc_loss: -0.5123910307884216 | gen_loss: 0.1170155256986618\n",
      "Iteration: 569 | disc_loss: -0.49941739439964294 | gen_loss: 0.1486595869064331\n",
      "Iteration: 570 | disc_loss: -0.5950945615768433 | gen_loss: 0.09495659172534943\n"
     ]
    },
    {
     "name": "stderr",
     "output_type": "stream",
     "text": [
      " 12%|█▏        | 592/5001 [00:06<00:38, 113.65it/s]"
     ]
    },
    {
     "name": "stdout",
     "output_type": "stream",
     "text": [
      "Iteration: 571 | disc_loss: -0.5468518733978271 | gen_loss: 0.08881919831037521\n",
      "Iteration: 572 | disc_loss: -0.5229604244232178 | gen_loss: 0.12384212017059326\n",
      "Iteration: 573 | disc_loss: -0.5542075634002686 | gen_loss: 0.0734090805053711\n",
      "Iteration: 574 | disc_loss: -0.49944812059402466 | gen_loss: 0.10830892622470856\n",
      "Iteration: 575 | disc_loss: -0.5367084741592407 | gen_loss: 0.07521266490221024\n",
      "Iteration: 576 | disc_loss: -0.5159755349159241 | gen_loss: 0.08586607128381729\n",
      "Iteration: 577 | disc_loss: -0.5341500639915466 | gen_loss: 0.07564880698919296\n",
      "Iteration: 578 | disc_loss: -0.534932553768158 | gen_loss: 0.1330060511827469\n",
      "Iteration: 579 | disc_loss: -0.5520583987236023 | gen_loss: 0.052055858075618744\n",
      "Iteration: 580 | disc_loss: -0.5802453756332397 | gen_loss: -0.07271990180015564\n",
      "Iteration: 581 | disc_loss: -0.4916028082370758 | gen_loss: 0.06299057602882385\n",
      "Iteration: 582 | disc_loss: -0.556974470615387 | gen_loss: -0.022717749699950218\n",
      "Iteration: 583 | disc_loss: -0.4230998754501343 | gen_loss: 0.13007356226444244\n",
      "Iteration: 584 | disc_loss: -0.4447077810764313 | gen_loss: 0.2150266319513321\n",
      "Iteration: 585 | disc_loss: -0.5178874731063843 | gen_loss: 0.16677270829677582\n",
      "Iteration: 586 | disc_loss: -0.5030783414840698 | gen_loss: 0.07005267590284348\n",
      "Iteration: 587 | disc_loss: -0.46288353204727173 | gen_loss: 0.11615852266550064\n",
      "Iteration: 588 | disc_loss: -0.4825144410133362 | gen_loss: 0.16894236207008362\n",
      "Iteration: 589 | disc_loss: -0.5121280550956726 | gen_loss: 0.12499198317527771\n",
      "Iteration: 590 | disc_loss: -0.5338290929794312 | gen_loss: 0.1931617259979248\n",
      "Iteration: 591 | disc_loss: -0.4748745858669281 | gen_loss: 0.27850764989852905\n",
      "Iteration: 592 | disc_loss: -0.43210530281066895 | gen_loss: 0.17750117182731628\n",
      "Iteration: 593 | disc_loss: -0.5203022360801697 | gen_loss: 0.09252984821796417\n"
     ]
    },
    {
     "name": "stderr",
     "output_type": "stream",
     "text": [
      " 12%|█▏        | 604/5001 [00:06<00:42, 103.84it/s]"
     ]
    },
    {
     "name": "stdout",
     "output_type": "stream",
     "text": [
      "Iteration: 594 | disc_loss: -0.5092538595199585 | gen_loss: 0.1052669957280159\n",
      "Iteration: 595 | disc_loss: -0.5204804539680481 | gen_loss: 0.1263134479522705\n",
      "Iteration: 596 | disc_loss: -0.4341130256652832 | gen_loss: 0.03214582800865173\n",
      "Iteration: 597 | disc_loss: -0.523754894733429 | gen_loss: 0.064924456179142\n",
      "Iteration: 598 | disc_loss: -0.5166046023368835 | gen_loss: 0.06851030886173248\n",
      "Iteration: 599 | disc_loss: -0.544693648815155 | gen_loss: 0.10885932296514511\n",
      "Iteration: 600 | disc_loss: -0.5691865682601929 | gen_loss: 0.10181571543216705\n",
      "Iteration: 601 | disc_loss: -0.4832872748374939 | gen_loss: 0.11996954679489136\n",
      "Iteration: 602 | disc_loss: -0.5617225766181946 | gen_loss: 0.07178498059511185\n",
      "Iteration: 603 | disc_loss: -0.5454682111740112 | gen_loss: 0.08123686909675598\n",
      "Iteration: 604 | disc_loss: -0.46611693501472473 | gen_loss: 0.12093828618526459\n",
      "Iteration: 605 | disc_loss: -0.5384897589683533 | gen_loss: 0.10431821644306183\n",
      "Iteration: 606 | disc_loss: -0.38222751021385193 | gen_loss: 0.07207388430833817\n",
      "Iteration: 607 | disc_loss: -0.5298544764518738 | gen_loss: 0.11886423826217651\n",
      "Iteration: 608 | disc_loss: -0.44169333577156067 | gen_loss: 0.04883091151714325\n",
      "Iteration: 609 | disc_loss: -0.49714064598083496 | gen_loss: 0.16646751761436462\n",
      "Iteration: 610 | disc_loss: -0.5222179293632507 | gen_loss: 0.16728241741657257\n",
      "Iteration: 611 | disc_loss: -0.541172206401825 | gen_loss: 0.15552376210689545\n",
      "Iteration: 612 | disc_loss: -0.49560949206352234 | gen_loss: 0.22073513269424438\n"
     ]
    },
    {
     "name": "stderr",
     "output_type": "stream",
     "text": [
      " 13%|█▎        | 626/5001 [00:07<00:42, 103.79it/s]"
     ]
    },
    {
     "name": "stdout",
     "output_type": "stream",
     "text": [
      "Iteration: 613 | disc_loss: -0.5586692094802856 | gen_loss: 0.19943174719810486\n",
      "Iteration: 614 | disc_loss: -0.6009137630462646 | gen_loss: 0.17499509453773499\n",
      "Iteration: 615 | disc_loss: -0.5607451796531677 | gen_loss: 0.16048753261566162\n",
      "Iteration: 616 | disc_loss: -0.310089111328125 | gen_loss: 0.14008405804634094\n",
      "Iteration: 617 | disc_loss: -0.5226380228996277 | gen_loss: 0.11759563535451889\n",
      "Iteration: 618 | disc_loss: -0.5532892942428589 | gen_loss: 0.05577543377876282\n",
      "Iteration: 619 | disc_loss: -0.44832298159599304 | gen_loss: 0.10663606226444244\n",
      "Iteration: 620 | disc_loss: -0.4759884774684906 | gen_loss: 0.153498113155365\n",
      "Iteration: 621 | disc_loss: -0.504604160785675 | gen_loss: 0.16726434230804443\n",
      "Iteration: 622 | disc_loss: -0.5282024145126343 | gen_loss: 0.10576838999986649\n",
      "Iteration: 623 | disc_loss: -0.3679960370063782 | gen_loss: 0.12795400619506836\n",
      "Iteration: 624 | disc_loss: -0.5439198613166809 | gen_loss: 0.08459912240505219\n",
      "Iteration: 625 | disc_loss: -0.598173201084137 | gen_loss: 0.020508447661995888\n",
      "Iteration: 626 | disc_loss: -0.5207430124282837 | gen_loss: 0.131499782204628\n",
      "Iteration: 627 | disc_loss: -0.5570685267448425 | gen_loss: 0.04238567128777504\n",
      "Iteration: 628 | disc_loss: -0.48315000534057617 | gen_loss: 0.13825805485248566\n",
      "Iteration: 629 | disc_loss: -0.4957062602043152 | gen_loss: 0.11689311265945435\n",
      "Iteration: 630 | disc_loss: -0.5951708555221558 | gen_loss: 0.06593265384435654\n",
      "Iteration: 631 | disc_loss: -0.6043967604637146 | gen_loss: 0.03673972189426422\n",
      "Iteration: 632 | disc_loss: -0.5758830308914185 | gen_loss: 0.12635019421577454\n",
      "Iteration: 633 | disc_loss: -0.5812646150588989 | gen_loss: 0.025521181523799896\n",
      "Iteration: 634 | disc_loss: -0.5525559782981873 | gen_loss: 0.0555134043097496\n"
     ]
    },
    {
     "name": "stderr",
     "output_type": "stream",
     "text": [
      " 13%|█▎        | 650/5001 [00:07<00:40, 108.58it/s]"
     ]
    },
    {
     "name": "stdout",
     "output_type": "stream",
     "text": [
      "Iteration: 635 | disc_loss: -0.5553114414215088 | gen_loss: 0.14858251810073853\n",
      "Iteration: 636 | disc_loss: -0.3149576783180237 | gen_loss: 0.20731210708618164\n",
      "Iteration: 637 | disc_loss: -0.33016371726989746 | gen_loss: 0.11843013018369675\n",
      "Iteration: 638 | disc_loss: -0.5248754024505615 | gen_loss: 0.0934644415974617\n",
      "Iteration: 639 | disc_loss: -0.31719744205474854 | gen_loss: 0.09640301764011383\n",
      "Iteration: 640 | disc_loss: -0.5258432030677795 | gen_loss: 0.09109930694103241\n",
      "Iteration: 641 | disc_loss: -0.5426642894744873 | gen_loss: 0.0912352055311203\n",
      "Iteration: 642 | disc_loss: -0.47709202766418457 | gen_loss: 0.13602584600448608\n",
      "Iteration: 643 | disc_loss: -0.4351966381072998 | gen_loss: 0.012528827413916588\n",
      "Iteration: 644 | disc_loss: -0.5236791372299194 | gen_loss: 0.17249169945716858\n",
      "Iteration: 645 | disc_loss: -0.5619235038757324 | gen_loss: 0.12470374256372452\n",
      "Iteration: 646 | disc_loss: -0.40298718214035034 | gen_loss: 0.14293670654296875\n",
      "Iteration: 647 | disc_loss: -0.532778263092041 | gen_loss: 0.1391465663909912\n",
      "Iteration: 648 | disc_loss: -0.5859729051589966 | gen_loss: 0.2223648726940155\n",
      "Iteration: 649 | disc_loss: -0.5331409573554993 | gen_loss: 0.22205591201782227\n",
      "Iteration: 650 | disc_loss: -0.48097318410873413 | gen_loss: 0.24429672956466675\n",
      "Iteration: 651 | disc_loss: -0.48371729254722595 | gen_loss: 0.14083117246627808\n",
      "Iteration: 652 | disc_loss: -0.5413190722465515 | gen_loss: 0.202859565615654\n",
      "Iteration: 653 | disc_loss: -0.5095604062080383 | gen_loss: 0.07907107472419739\n",
      "Iteration: 654 | disc_loss: -0.5451530814170837 | gen_loss: 0.08769608289003372\n",
      "Iteration: 655 | disc_loss: -0.5605354309082031 | gen_loss: 0.14998486638069153\n",
      "Iteration: 656 | disc_loss: -0.48652851581573486 | gen_loss: 0.1851862668991089\n"
     ]
    },
    {
     "name": "stderr",
     "output_type": "stream",
     "text": [
      " 13%|█▎        | 672/5001 [00:07<00:42, 100.93it/s]"
     ]
    },
    {
     "name": "stdout",
     "output_type": "stream",
     "text": [
      "Iteration: 657 | disc_loss: -0.5379862785339355 | gen_loss: 0.2564965784549713\n",
      "Iteration: 658 | disc_loss: -0.48756176233291626 | gen_loss: 0.182312473654747\n",
      "Iteration: 659 | disc_loss: -0.5000684261322021 | gen_loss: 0.1474478393793106\n",
      "Iteration: 660 | disc_loss: -0.38016995787620544 | gen_loss: 0.11984802037477493\n",
      "Iteration: 661 | disc_loss: -0.547828197479248 | gen_loss: 0.08371131122112274\n",
      "Iteration: 662 | disc_loss: -0.27675753831863403 | gen_loss: 0.09313704818487167\n",
      "Iteration: 663 | disc_loss: -0.41470643877983093 | gen_loss: 0.10953013598918915\n",
      "Iteration: 664 | disc_loss: -0.557592511177063 | gen_loss: 0.05765485018491745\n",
      "Iteration: 665 | disc_loss: -0.5697596073150635 | gen_loss: 0.034424759447574615\n",
      "Iteration: 666 | disc_loss: -0.5692307353019714 | gen_loss: 0.06576754152774811\n",
      "Iteration: 667 | disc_loss: -0.5325965881347656 | gen_loss: 0.1544540822505951\n",
      "Iteration: 668 | disc_loss: -0.46814119815826416 | gen_loss: 0.09955547749996185\n",
      "Iteration: 669 | disc_loss: -0.5927575826644897 | gen_loss: 0.0010322441812604666\n",
      "Iteration: 670 | disc_loss: -0.24561211466789246 | gen_loss: 0.17369510233402252\n",
      "Iteration: 671 | disc_loss: -0.43091338872909546 | gen_loss: 0.1833067536354065\n",
      "Iteration: 672 | disc_loss: -0.5369196534156799 | gen_loss: 0.1491807997226715\n",
      "Iteration: 673 | disc_loss: -0.5319244861602783 | gen_loss: 0.06985457241535187\n",
      "Iteration: 674 | disc_loss: -0.5343159437179565 | gen_loss: 0.17987701296806335\n",
      "Iteration: 675 | disc_loss: -0.49652430415153503 | gen_loss: 0.07692989706993103\n",
      "Iteration: 676 | disc_loss: -0.569184422492981 | gen_loss: 0.13097137212753296\n",
      "Iteration: 677 | disc_loss: -0.5607194304466248 | gen_loss: 0.1509222686290741\n"
     ]
    },
    {
     "name": "stderr",
     "output_type": "stream",
     "text": [
      " 14%|█▍        | 695/5001 [00:07<00:40, 106.59it/s]"
     ]
    },
    {
     "name": "stdout",
     "output_type": "stream",
     "text": [
      "Iteration: 678 | disc_loss: -0.48589998483657837 | gen_loss: 0.25349676609039307\n",
      "Iteration: 679 | disc_loss: -0.38517940044403076 | gen_loss: 0.1777791827917099\n",
      "Iteration: 680 | disc_loss: -0.5007426738739014 | gen_loss: 0.11384588479995728\n",
      "Iteration: 681 | disc_loss: -0.3981475234031677 | gen_loss: 0.19078753888607025\n",
      "Iteration: 682 | disc_loss: -0.5414280891418457 | gen_loss: 0.0793285220861435\n",
      "Iteration: 683 | disc_loss: -0.40279144048690796 | gen_loss: 0.13699916005134583\n",
      "Iteration: 684 | disc_loss: -0.4899952709674835 | gen_loss: 0.07807134836912155\n",
      "Iteration: 685 | disc_loss: -0.4783732295036316 | gen_loss: 0.08112291246652603\n",
      "Iteration: 686 | disc_loss: -0.5274563431739807 | gen_loss: 0.13924147188663483\n",
      "Iteration: 687 | disc_loss: -0.5630812048912048 | gen_loss: 0.10860059410333633\n",
      "Iteration: 688 | disc_loss: -0.5601903200149536 | gen_loss: -0.008048290386795998\n",
      "Iteration: 689 | disc_loss: -0.5046542882919312 | gen_loss: 0.03316850960254669\n",
      "Iteration: 690 | disc_loss: -0.49051475524902344 | gen_loss: 0.16010859608650208\n",
      "Iteration: 691 | disc_loss: -0.5219921469688416 | gen_loss: 0.2117428183555603\n",
      "Iteration: 692 | disc_loss: -0.5572683811187744 | gen_loss: 0.18051151931285858\n",
      "Iteration: 693 | disc_loss: -0.5341336131095886 | gen_loss: 0.15445584058761597\n",
      "Iteration: 694 | disc_loss: -0.5948337316513062 | gen_loss: 0.021888308227062225\n",
      "Iteration: 695 | disc_loss: -0.5796266794204712 | gen_loss: 0.010451029986143112\n",
      "Iteration: 696 | disc_loss: -0.43980467319488525 | gen_loss: 0.017336826771497726\n",
      "Iteration: 697 | disc_loss: -0.5052670836448669 | gen_loss: 0.08531370759010315\n",
      "Iteration: 698 | disc_loss: -0.5100743174552917 | gen_loss: 0.1559581756591797\n",
      "Iteration: 699 | disc_loss: -0.5542972683906555 | gen_loss: 0.15336620807647705\n",
      "Iteration: 700 | disc_loss: -0.5642362236976624 | gen_loss: 0.09235350787639618\n"
     ]
    },
    {
     "name": "stderr",
     "output_type": "stream",
     "text": [
      " 14%|█▍        | 718/5001 [00:08<00:40, 106.62it/s]"
     ]
    },
    {
     "name": "stdout",
     "output_type": "stream",
     "text": [
      "Iteration: 701 | disc_loss: -0.393562912940979 | gen_loss: 0.19881385564804077\n",
      "Iteration: 702 | disc_loss: -0.4746834337711334 | gen_loss: 0.10526733845472336\n",
      "Iteration: 703 | disc_loss: -0.5773606300354004 | gen_loss: -0.010173628106713295\n",
      "Iteration: 704 | disc_loss: -0.5250738859176636 | gen_loss: 0.04662840813398361\n",
      "Iteration: 705 | disc_loss: -0.4966173768043518 | gen_loss: 0.11431816220283508\n",
      "Iteration: 706 | disc_loss: -0.5022168159484863 | gen_loss: 0.04591963812708855\n",
      "Iteration: 707 | disc_loss: -0.5130586624145508 | gen_loss: 0.059011779725551605\n",
      "Iteration: 708 | disc_loss: -0.5335676670074463 | gen_loss: 0.11876752972602844\n",
      "Iteration: 709 | disc_loss: -0.5094513297080994 | gen_loss: 0.1271505057811737\n",
      "Iteration: 710 | disc_loss: -0.5409107208251953 | gen_loss: 0.10186657309532166\n",
      "Iteration: 711 | disc_loss: -0.5654763579368591 | gen_loss: 0.10462862253189087\n",
      "Iteration: 712 | disc_loss: -0.5317683219909668 | gen_loss: 0.037524838000535965\n",
      "Iteration: 713 | disc_loss: -0.4740736782550812 | gen_loss: 0.005564356222748756\n",
      "Iteration: 714 | disc_loss: -0.4936651587486267 | gen_loss: 0.11147309839725494\n",
      "Iteration: 715 | disc_loss: -0.460443913936615 | gen_loss: 0.12597239017486572\n",
      "Iteration: 716 | disc_loss: -0.5251144170761108 | gen_loss: 0.11199964582920074\n",
      "Iteration: 717 | disc_loss: -0.5185372233390808 | gen_loss: 0.14931030571460724\n",
      "Iteration: 718 | disc_loss: -0.5546905994415283 | gen_loss: 0.13156059384346008\n",
      "Iteration: 719 | disc_loss: -0.5719953775405884 | gen_loss: 0.20150785148143768\n",
      "Iteration: 720 | disc_loss: -0.544253408908844 | gen_loss: 0.19476576149463654\n",
      "Iteration: 721 | disc_loss: -0.5042558908462524 | gen_loss: 0.15954412519931793\n",
      "Iteration: 722 | disc_loss: -0.5231212973594666 | gen_loss: 0.1601811796426773\n",
      "Iteration: 723 | disc_loss: -0.5506008267402649 | gen_loss: 0.06910009682178497\n"
     ]
    },
    {
     "name": "stderr",
     "output_type": "stream",
     "text": [
      " 15%|█▍        | 742/5001 [00:08<00:38, 111.52it/s]"
     ]
    },
    {
     "name": "stdout",
     "output_type": "stream",
     "text": [
      "Iteration: 724 | disc_loss: -0.5324580669403076 | gen_loss: 0.1288585662841797\n",
      "Iteration: 725 | disc_loss: -0.469435453414917 | gen_loss: 0.16962891817092896\n",
      "Iteration: 726 | disc_loss: -0.42684757709503174 | gen_loss: 0.13987505435943604\n",
      "Iteration: 727 | disc_loss: -0.5093606114387512 | gen_loss: 0.016621362417936325\n",
      "Iteration: 728 | disc_loss: -0.5444116592407227 | gen_loss: -0.006491400301456451\n",
      "Iteration: 729 | disc_loss: -0.4396575391292572 | gen_loss: 0.18733642995357513\n",
      "Iteration: 730 | disc_loss: -0.5361000895500183 | gen_loss: 0.10900529474020004\n",
      "Iteration: 731 | disc_loss: -0.4983558654785156 | gen_loss: 0.10631614178419113\n",
      "Iteration: 732 | disc_loss: -0.4820791482925415 | gen_loss: 0.12930507957935333\n",
      "Iteration: 733 | disc_loss: -0.519122838973999 | gen_loss: 0.0707707554101944\n",
      "Iteration: 734 | disc_loss: -0.5224719643592834 | gen_loss: 0.038591913878917694\n",
      "Iteration: 735 | disc_loss: -0.4369645118713379 | gen_loss: 0.11986009776592255\n",
      "Iteration: 736 | disc_loss: -0.4924391508102417 | gen_loss: 0.19652512669563293\n",
      "Iteration: 737 | disc_loss: -0.4723797142505646 | gen_loss: 0.20672577619552612\n",
      "Iteration: 738 | disc_loss: -0.4553022086620331 | gen_loss: 0.12820036709308624\n",
      "Iteration: 739 | disc_loss: -0.5500404834747314 | gen_loss: 0.16131532192230225\n",
      "Iteration: 740 | disc_loss: -0.46826398372650146 | gen_loss: 0.13581816852092743\n",
      "Iteration: 741 | disc_loss: -0.5299738049507141 | gen_loss: 0.14904221892356873\n",
      "Iteration: 742 | disc_loss: -0.46585577726364136 | gen_loss: 0.16663843393325806\n",
      "Iteration: 743 | disc_loss: -0.43248581886291504 | gen_loss: 0.12500673532485962\n",
      "Iteration: 744 | disc_loss: -0.48608067631721497 | gen_loss: 0.10327553749084473\n",
      "Iteration: 745 | disc_loss: -0.5363737344741821 | gen_loss: -0.016128676012158394\n",
      "Iteration: 746 | disc_loss: -0.4619404673576355 | gen_loss: 0.01823674514889717\n"
     ]
    },
    {
     "name": "stderr",
     "output_type": "stream",
     "text": [
      " 15%|█▌        | 766/5001 [00:08<00:38, 110.23it/s]"
     ]
    },
    {
     "name": "stdout",
     "output_type": "stream",
     "text": [
      "Iteration: 747 | disc_loss: -0.5775138139724731 | gen_loss: 0.11530017107725143\n",
      "Iteration: 748 | disc_loss: -0.5411942005157471 | gen_loss: 0.10705628991127014\n",
      "Iteration: 749 | disc_loss: -0.49615880846977234 | gen_loss: 0.1610843390226364\n",
      "Iteration: 750 | disc_loss: -0.39523211121559143 | gen_loss: 0.18799233436584473\n",
      "Iteration: 751 | disc_loss: -0.5071399807929993 | gen_loss: 0.08646668493747711\n",
      "Iteration: 752 | disc_loss: -0.5259339809417725 | gen_loss: -0.01838914304971695\n",
      "Iteration: 753 | disc_loss: -0.5439062714576721 | gen_loss: 0.15038645267486572\n",
      "Iteration: 754 | disc_loss: -0.4757162928581238 | gen_loss: 0.17188283801078796\n",
      "Iteration: 755 | disc_loss: -0.5306318402290344 | gen_loss: 0.15361934900283813\n",
      "Iteration: 756 | disc_loss: -0.47811153531074524 | gen_loss: 0.08913521468639374\n",
      "Iteration: 757 | disc_loss: -0.5016142129898071 | gen_loss: 0.16141504049301147\n",
      "Iteration: 758 | disc_loss: -0.5392404198646545 | gen_loss: 0.031185515224933624\n",
      "Iteration: 759 | disc_loss: -0.3805892765522003 | gen_loss: 0.02104562148451805\n",
      "Iteration: 760 | disc_loss: -0.4968889057636261 | gen_loss: 0.11858808994293213\n",
      "Iteration: 761 | disc_loss: -0.5907299518585205 | gen_loss: 0.13996584713459015\n",
      "Iteration: 762 | disc_loss: -0.39204883575439453 | gen_loss: 0.05782962217926979\n",
      "Iteration: 763 | disc_loss: -0.47263211011886597 | gen_loss: 0.14558234810829163\n",
      "Iteration: 764 | disc_loss: -0.5040916204452515 | gen_loss: -0.01739983819425106\n",
      "Iteration: 765 | disc_loss: -0.5269827842712402 | gen_loss: 0.06259946525096893\n",
      "Iteration: 766 | disc_loss: -0.4833507239818573 | gen_loss: 0.16756804287433624\n",
      "Iteration: 767 | disc_loss: -0.5579543113708496 | gen_loss: 0.137863889336586\n",
      "Iteration: 768 | disc_loss: -0.5074179172515869 | gen_loss: 0.21923094987869263\n"
     ]
    },
    {
     "name": "stderr",
     "output_type": "stream",
     "text": [
      " 16%|█▌        | 789/5001 [00:08<00:38, 108.17it/s]"
     ]
    },
    {
     "name": "stdout",
     "output_type": "stream",
     "text": [
      "Iteration: 769 | disc_loss: -0.4891793131828308 | gen_loss: 0.19887512922286987\n",
      "Iteration: 770 | disc_loss: -0.5083105564117432 | gen_loss: 0.2587282657623291\n",
      "Iteration: 771 | disc_loss: -0.4831671714782715 | gen_loss: 0.1684223860502243\n",
      "Iteration: 772 | disc_loss: -0.4848621189594269 | gen_loss: 0.163930743932724\n",
      "Iteration: 773 | disc_loss: -0.4637625217437744 | gen_loss: 0.12108150124549866\n",
      "Iteration: 774 | disc_loss: -0.5489031672477722 | gen_loss: 0.05512452870607376\n",
      "Iteration: 775 | disc_loss: -0.4934665560722351 | gen_loss: 0.12789903581142426\n",
      "Iteration: 776 | disc_loss: -0.4210050106048584 | gen_loss: 0.1613653004169464\n",
      "Iteration: 777 | disc_loss: -0.5382358431816101 | gen_loss: 0.11445809155702591\n",
      "Iteration: 778 | disc_loss: -0.5011357665061951 | gen_loss: 0.04834144189953804\n",
      "Iteration: 779 | disc_loss: -0.4674965739250183 | gen_loss: 0.1411033570766449\n",
      "Iteration: 780 | disc_loss: -0.43566930294036865 | gen_loss: 0.03304310888051987\n",
      "Iteration: 781 | disc_loss: -0.390145868062973 | gen_loss: 0.10896626114845276\n",
      "Iteration: 782 | disc_loss: -0.5215756297111511 | gen_loss: 0.13370373845100403\n",
      "Iteration: 783 | disc_loss: -0.34514400362968445 | gen_loss: 0.06543933600187302\n",
      "Iteration: 784 | disc_loss: -0.4779764711856842 | gen_loss: 0.11709413677453995\n",
      "Iteration: 785 | disc_loss: -0.40889453887939453 | gen_loss: 0.0959763154387474\n",
      "Iteration: 786 | disc_loss: -0.48112550377845764 | gen_loss: 0.16799232363700867\n",
      "Iteration: 787 | disc_loss: -0.5340009331703186 | gen_loss: 0.10949830710887909\n",
      "Iteration: 788 | disc_loss: -0.5129019021987915 | gen_loss: 0.04927360638976097\n",
      "Iteration: 789 | disc_loss: -0.5405752658843994 | gen_loss: 0.04707147926092148\n",
      "Iteration: 790 | disc_loss: -0.36964404582977295 | gen_loss: 0.1048751249909401\n",
      "Iteration: 791 | disc_loss: -0.35092031955718994 | gen_loss: 0.15790200233459473\n"
     ]
    },
    {
     "name": "stderr",
     "output_type": "stream",
     "text": [
      " 16%|█▌        | 811/5001 [00:08<00:41, 100.03it/s]"
     ]
    },
    {
     "name": "stdout",
     "output_type": "stream",
     "text": [
      "Iteration: 792 | disc_loss: -0.45624881982803345 | gen_loss: 0.13863947987556458\n",
      "Iteration: 793 | disc_loss: -0.446148544549942 | gen_loss: 0.1597994565963745\n",
      "Iteration: 794 | disc_loss: -0.42567628622055054 | gen_loss: 0.12736079096794128\n",
      "Iteration: 795 | disc_loss: -0.4774693250656128 | gen_loss: 0.15399891138076782\n",
      "Iteration: 796 | disc_loss: -0.5488759875297546 | gen_loss: 0.1745452582836151\n",
      "Iteration: 797 | disc_loss: -0.5050016641616821 | gen_loss: 0.06834942102432251\n",
      "Iteration: 798 | disc_loss: -0.5378545522689819 | gen_loss: 0.05074170231819153\n",
      "Iteration: 799 | disc_loss: -0.463093638420105 | gen_loss: 0.07158638536930084\n",
      "Iteration: 800 | disc_loss: -0.5229781866073608 | gen_loss: 0.13162636756896973\n",
      "Iteration: 801 | disc_loss: -0.26524943113327026 | gen_loss: -0.03516782075166702\n",
      "Iteration: 802 | disc_loss: -0.5495192408561707 | gen_loss: 0.07009857892990112\n",
      "Iteration: 803 | disc_loss: -0.5242389440536499 | gen_loss: 0.09588156640529633\n",
      "Iteration: 804 | disc_loss: -0.5308660864830017 | gen_loss: 0.01960930787026882\n",
      "Iteration: 805 | disc_loss: -0.5506966710090637 | gen_loss: 0.11128026247024536\n",
      "Iteration: 806 | disc_loss: -0.4924471080303192 | gen_loss: 0.06990610063076019\n",
      "Iteration: 807 | disc_loss: -0.6035892367362976 | gen_loss: 0.038486748933792114\n",
      "Iteration: 808 | disc_loss: -0.5528044700622559 | gen_loss: 0.07843945920467377\n",
      "Iteration: 809 | disc_loss: -0.5385459065437317 | gen_loss: 0.13531172275543213\n",
      "Iteration: 810 | disc_loss: -0.3824259340763092 | gen_loss: 0.14576272666454315\n"
     ]
    },
    {
     "name": "stderr",
     "output_type": "stream",
     "text": [
      " 17%|█▋        | 833/5001 [00:09<00:41, 101.36it/s]"
     ]
    },
    {
     "name": "stdout",
     "output_type": "stream",
     "text": [
      "Iteration: 811 | disc_loss: -0.4974556565284729 | gen_loss: 0.15239951014518738\n",
      "Iteration: 812 | disc_loss: -0.26989635825157166 | gen_loss: 0.10890492796897888\n",
      "Iteration: 813 | disc_loss: -0.4950156509876251 | gen_loss: 0.13003391027450562\n",
      "Iteration: 814 | disc_loss: -0.4894527196884155 | gen_loss: 0.06327689439058304\n",
      "Iteration: 815 | disc_loss: -0.5616488456726074 | gen_loss: 0.10504989326000214\n",
      "Iteration: 816 | disc_loss: -0.5273666381835938 | gen_loss: 0.10222239792346954\n",
      "Iteration: 817 | disc_loss: -0.4713432490825653 | gen_loss: 0.035203151404857635\n",
      "Iteration: 818 | disc_loss: -0.5392687916755676 | gen_loss: 0.10352665185928345\n",
      "Iteration: 819 | disc_loss: -0.528502345085144 | gen_loss: 0.05958385765552521\n",
      "Iteration: 820 | disc_loss: -0.49199798703193665 | gen_loss: 0.13161012530326843\n",
      "Iteration: 821 | disc_loss: -0.5262876152992249 | gen_loss: 0.07894980162382126\n",
      "Iteration: 822 | disc_loss: -0.48380011320114136 | gen_loss: 0.037598781287670135\n",
      "Iteration: 823 | disc_loss: -0.4613376259803772 | gen_loss: 0.07943420112133026\n",
      "Iteration: 824 | disc_loss: -0.4618283808231354 | gen_loss: 0.13450169563293457\n",
      "Iteration: 825 | disc_loss: -0.4955759048461914 | gen_loss: 0.07012777775526047\n",
      "Iteration: 826 | disc_loss: -0.5174857974052429 | gen_loss: 0.1279626190662384\n",
      "Iteration: 827 | disc_loss: -0.5082608461380005 | gen_loss: 0.16600731015205383\n",
      "Iteration: 828 | disc_loss: -0.48177289962768555 | gen_loss: 0.1099078580737114\n",
      "Iteration: 829 | disc_loss: -0.5048239231109619 | gen_loss: 0.10663463175296783\n",
      "Iteration: 830 | disc_loss: -0.4829931855201721 | gen_loss: 0.07479603588581085\n",
      "Iteration: 831 | disc_loss: -0.5068986415863037 | gen_loss: 0.04996784031391144\n",
      "Iteration: 832 | disc_loss: -0.5000507831573486 | gen_loss: 0.10766645520925522\n"
     ]
    },
    {
     "name": "stderr",
     "output_type": "stream",
     "text": [
      " 17%|█▋        | 855/5001 [00:09<00:40, 102.73it/s]"
     ]
    },
    {
     "name": "stdout",
     "output_type": "stream",
     "text": [
      "Iteration: 833 | disc_loss: -0.4806879162788391 | gen_loss: -0.028553878888487816\n",
      "Iteration: 834 | disc_loss: -0.5159163475036621 | gen_loss: 0.06608328968286514\n",
      "Iteration: 835 | disc_loss: -0.4936521053314209 | gen_loss: -0.04897904396057129\n",
      "Iteration: 836 | disc_loss: -0.5948461294174194 | gen_loss: -0.06047219783067703\n",
      "Iteration: 837 | disc_loss: -0.5089945197105408 | gen_loss: 0.016977068036794662\n",
      "Iteration: 838 | disc_loss: -0.5248717069625854 | gen_loss: 0.10416057705879211\n",
      "Iteration: 839 | disc_loss: -0.47965359687805176 | gen_loss: 0.15119394659996033\n",
      "Iteration: 840 | disc_loss: -0.47172391414642334 | gen_loss: 0.166145458817482\n",
      "Iteration: 841 | disc_loss: -0.5406079888343811 | gen_loss: 0.08128843456506729\n",
      "Iteration: 842 | disc_loss: -0.4907931089401245 | gen_loss: 0.14843878149986267\n",
      "Iteration: 843 | disc_loss: -0.46307602524757385 | gen_loss: 0.1379370093345642\n",
      "Iteration: 844 | disc_loss: -0.48449140787124634 | gen_loss: 0.1788700670003891\n",
      "Iteration: 845 | disc_loss: -0.4291698634624481 | gen_loss: 0.0589473731815815\n",
      "Iteration: 846 | disc_loss: -0.5698379278182983 | gen_loss: 0.03961816802620888\n",
      "Iteration: 847 | disc_loss: -0.511463463306427 | gen_loss: 0.09872666001319885\n",
      "Iteration: 848 | disc_loss: -0.3572693467140198 | gen_loss: 0.1061546802520752\n",
      "Iteration: 849 | disc_loss: -0.4817223846912384 | gen_loss: 0.2064434289932251\n",
      "Iteration: 850 | disc_loss: -0.5288330316543579 | gen_loss: 0.17080578207969666\n",
      "Iteration: 851 | disc_loss: -0.4124929904937744 | gen_loss: 0.1721278429031372\n",
      "Iteration: 852 | disc_loss: -0.46276843547821045 | gen_loss: 0.14137354493141174\n",
      "Iteration: 853 | disc_loss: -0.4731302857398987 | gen_loss: 0.12330378592014313\n",
      "Iteration: 854 | disc_loss: -0.47317367792129517 | gen_loss: 0.040474168956279755\n"
     ]
    },
    {
     "name": "stderr",
     "output_type": "stream",
     "text": [
      " 17%|█▋        | 867/5001 [00:09<00:39, 104.43it/s]"
     ]
    },
    {
     "name": "stdout",
     "output_type": "stream",
     "text": [
      "Iteration: 855 | disc_loss: -0.4900643229484558 | gen_loss: 0.06445331126451492\n",
      "Iteration: 856 | disc_loss: -0.46407565474510193 | gen_loss: 0.08879980444908142\n",
      "Iteration: 857 | disc_loss: -0.506476104259491 | gen_loss: -0.0020094243809580803\n",
      "Iteration: 858 | disc_loss: -0.5239847898483276 | gen_loss: 0.10958608984947205\n",
      "Iteration: 859 | disc_loss: -0.47631919384002686 | gen_loss: 0.14097414910793304\n",
      "Iteration: 860 | disc_loss: -0.529058575630188 | gen_loss: 0.15323609113693237\n",
      "Iteration: 861 | disc_loss: -0.4740549921989441 | gen_loss: 0.1024993509054184\n",
      "Iteration: 862 | disc_loss: -0.5018883347511292 | gen_loss: 0.030300728976726532\n",
      "Iteration: 863 | disc_loss: -0.5164520740509033 | gen_loss: 0.03539974242448807\n",
      "Iteration: 864 | disc_loss: -0.5027151107788086 | gen_loss: 0.14106446504592896\n",
      "Iteration: 865 | disc_loss: -0.43393293023109436 | gen_loss: 0.11869996041059494\n",
      "Iteration: 866 | disc_loss: -0.4256364107131958 | gen_loss: 0.15049020946025848\n",
      "Iteration: 867 | disc_loss: -0.46709153056144714 | gen_loss: 0.09346925467252731\n",
      "Iteration: 868 | disc_loss: -0.5446437001228333 | gen_loss: 0.031033489853143692\n",
      "Iteration: 869 | disc_loss: -0.3774926960468292 | gen_loss: 0.10694408416748047\n",
      "Iteration: 870 | disc_loss: -0.4499543309211731 | gen_loss: 0.08882904052734375\n",
      "Iteration: 871 | disc_loss: -0.4601595103740692 | gen_loss: 0.04512043297290802\n",
      "Iteration: 872 | disc_loss: -0.3989771008491516 | gen_loss: 0.08022186160087585\n",
      "Iteration: 873 | disc_loss: -0.4247041642665863 | gen_loss: 0.04514322802424431\n",
      "Iteration: 874 | disc_loss: -0.4683743119239807 | gen_loss: 0.024154843762516975\n",
      "Iteration: 875 | disc_loss: -0.34808290004730225 | gen_loss: 0.10335565358400345\n",
      "Iteration: 876 | disc_loss: -0.4894033670425415 | gen_loss: 0.1885964274406433\n",
      "Iteration: 877 | disc_loss: -0.5219271183013916 | gen_loss: 0.08885933458805084\n"
     ]
    },
    {
     "name": "stderr",
     "output_type": "stream",
     "text": [
      " 18%|█▊        | 890/5001 [00:09<00:38, 105.81it/s]"
     ]
    },
    {
     "name": "stdout",
     "output_type": "stream",
     "text": [
      "Iteration: 878 | disc_loss: -0.3688405752182007 | gen_loss: 0.10081209987401962\n",
      "Iteration: 879 | disc_loss: -0.49640920758247375 | gen_loss: 0.09800709784030914\n",
      "Iteration: 880 | disc_loss: -0.4425528943538666 | gen_loss: 0.07116876542568207\n",
      "Iteration: 881 | disc_loss: -0.3779591917991638 | gen_loss: 0.037610314786434174\n",
      "Iteration: 882 | disc_loss: -0.5251023769378662 | gen_loss: -0.0055678850039839745\n",
      "Iteration: 883 | disc_loss: -0.4861144721508026 | gen_loss: 0.13488559424877167\n",
      "Iteration: 884 | disc_loss: -0.4921209216117859 | gen_loss: 0.10862424969673157\n",
      "Iteration: 885 | disc_loss: -0.503317654132843 | gen_loss: 0.04299450293183327\n",
      "Iteration: 886 | disc_loss: -0.31322020292282104 | gen_loss: 0.054789621382951736\n",
      "Iteration: 887 | disc_loss: -0.510111391544342 | gen_loss: 0.12670733034610748\n",
      "Iteration: 888 | disc_loss: -0.48765647411346436 | gen_loss: 0.1443609744310379\n",
      "Iteration: 889 | disc_loss: -0.5163435935974121 | gen_loss: 0.10391061753034592\n",
      "Iteration: 890 | disc_loss: -0.5135143995285034 | gen_loss: 0.10676068067550659\n",
      "Iteration: 891 | disc_loss: -0.41013795137405396 | gen_loss: 0.125681072473526\n",
      "Iteration: 892 | disc_loss: -0.45334285497665405 | gen_loss: 0.07394758611917496\n",
      "Iteration: 893 | disc_loss: -0.5106508731842041 | gen_loss: 0.1763840615749359\n",
      "Iteration: 894 | disc_loss: -0.43240535259246826 | gen_loss: 0.10307802259922028\n",
      "Iteration: 895 | disc_loss: -0.5166339874267578 | gen_loss: 0.1617121398448944\n",
      "Iteration: 896 | disc_loss: -0.5094799399375916 | gen_loss: 0.0979669839143753\n",
      "Iteration: 897 | disc_loss: -0.4683610498905182 | gen_loss: 0.11984191834926605\n",
      "Iteration: 898 | disc_loss: -0.4520683288574219 | gen_loss: 0.1527288258075714\n",
      "Iteration: 899 | disc_loss: -0.45344647765159607 | gen_loss: 0.08389047533273697\n",
      "Iteration: 900 | disc_loss: -0.4383169710636139 | gen_loss: 0.019439946860074997\n"
     ]
    },
    {
     "name": "stderr",
     "output_type": "stream",
     "text": [
      " 18%|█▊        | 915/5001 [00:09<00:36, 113.09it/s]"
     ]
    },
    {
     "name": "stdout",
     "output_type": "stream",
     "text": [
      "Iteration: 901 | disc_loss: -0.5178604125976562 | gen_loss: 0.06230975687503815\n",
      "Iteration: 902 | disc_loss: -0.43999654054641724 | gen_loss: 0.022006943821907043\n",
      "Iteration: 903 | disc_loss: -0.48879072070121765 | gen_loss: 0.05078526586294174\n",
      "Iteration: 904 | disc_loss: -0.5661051273345947 | gen_loss: 0.06675581634044647\n",
      "Iteration: 905 | disc_loss: -0.48615625500679016 | gen_loss: -0.01231420785188675\n",
      "Iteration: 906 | disc_loss: -0.48139169812202454 | gen_loss: 0.04981569945812225\n",
      "Iteration: 907 | disc_loss: -0.5601863861083984 | gen_loss: 0.03585857152938843\n",
      "Iteration: 908 | disc_loss: -0.5059954524040222 | gen_loss: 0.08260791748762131\n",
      "Iteration: 909 | disc_loss: -0.49542877078056335 | gen_loss: 0.07624427229166031\n",
      "Iteration: 910 | disc_loss: -0.5658654570579529 | gen_loss: 0.026334725320339203\n",
      "Iteration: 911 | disc_loss: -0.3619552552700043 | gen_loss: 0.04604174941778183\n",
      "Iteration: 912 | disc_loss: -0.31655943393707275 | gen_loss: 0.05257834494113922\n",
      "Iteration: 913 | disc_loss: -0.44261112809181213 | gen_loss: 0.060068584978580475\n",
      "Iteration: 914 | disc_loss: -0.546207845211029 | gen_loss: 0.033033277839422226\n",
      "Iteration: 915 | disc_loss: -0.4909343123435974 | gen_loss: -0.0013659866526722908\n",
      "Iteration: 916 | disc_loss: -0.4724661409854889 | gen_loss: -0.08997228741645813\n",
      "Iteration: 917 | disc_loss: -0.4841061234474182 | gen_loss: 0.07753878831863403\n",
      "Iteration: 918 | disc_loss: -0.43842464685440063 | gen_loss: -0.047312505543231964\n",
      "Iteration: 919 | disc_loss: -0.5472568273544312 | gen_loss: 0.0013872003182768822\n",
      "Iteration: 920 | disc_loss: -0.48886677622795105 | gen_loss: 0.0861295759677887\n",
      "Iteration: 921 | disc_loss: -0.3555710017681122 | gen_loss: 0.1926964819431305\n",
      "Iteration: 922 | disc_loss: -0.5130296945571899 | gen_loss: 0.16280591487884521\n",
      "Iteration: 923 | disc_loss: -0.4497756063938141 | gen_loss: 0.22283416986465454\n",
      "Iteration: 924 | disc_loss: -0.6311535239219666 | gen_loss: 0.25758498907089233\n",
      "Iteration: 925 | disc_loss: -0.43406781554222107 | gen_loss: 0.12668773531913757\n"
     ]
    },
    {
     "name": "stderr",
     "output_type": "stream",
     "text": [
      " 19%|█▉        | 939/5001 [00:10<00:35, 113.34it/s]"
     ]
    },
    {
     "name": "stdout",
     "output_type": "stream",
     "text": [
      "Iteration: 926 | disc_loss: -0.5864117741584778 | gen_loss: 0.20939114689826965\n",
      "Iteration: 927 | disc_loss: -0.4629315733909607 | gen_loss: 0.1562606692314148\n",
      "Iteration: 928 | disc_loss: -0.3958849310874939 | gen_loss: 0.17264801263809204\n",
      "Iteration: 929 | disc_loss: -0.43419697880744934 | gen_loss: 0.03997097909450531\n",
      "Iteration: 930 | disc_loss: -0.5373483896255493 | gen_loss: 0.03450164198875427\n",
      "Iteration: 931 | disc_loss: -0.5580852031707764 | gen_loss: 0.05684559792280197\n",
      "Iteration: 932 | disc_loss: -0.4795173108577728 | gen_loss: 0.09234600514173508\n",
      "Iteration: 933 | disc_loss: -0.5133493542671204 | gen_loss: 0.11397027969360352\n",
      "Iteration: 934 | disc_loss: -0.4467766284942627 | gen_loss: 0.11133937537670135\n",
      "Iteration: 935 | disc_loss: -0.47088760137557983 | gen_loss: 0.03903878107666969\n",
      "Iteration: 936 | disc_loss: -0.516746461391449 | gen_loss: 0.08058811724185944\n",
      "Iteration: 937 | disc_loss: -0.46007010340690613 | gen_loss: 0.11582247912883759\n",
      "Iteration: 938 | disc_loss: -0.5242792963981628 | gen_loss: 0.041312508285045624\n",
      "Iteration: 939 | disc_loss: -0.4822355806827545 | gen_loss: 0.083835169672966\n",
      "Iteration: 940 | disc_loss: -0.4264952838420868 | gen_loss: 0.1702580451965332\n",
      "Iteration: 941 | disc_loss: -0.3297114074230194 | gen_loss: 0.06300662457942963\n",
      "Iteration: 942 | disc_loss: -0.5447582602500916 | gen_loss: 0.053144462406635284\n",
      "Iteration: 943 | disc_loss: -0.4254102408885956 | gen_loss: 0.11230520159006119\n",
      "Iteration: 944 | disc_loss: -0.44971975684165955 | gen_loss: 0.08933889120817184\n",
      "Iteration: 945 | disc_loss: -0.5024371147155762 | gen_loss: 0.01743997260928154\n",
      "Iteration: 946 | disc_loss: -0.5269923210144043 | gen_loss: 0.07476378977298737\n",
      "Iteration: 947 | disc_loss: -0.4494975805282593 | gen_loss: 0.08142974972724915\n",
      "Iteration: 948 | disc_loss: -0.4611191749572754 | gen_loss: 0.07378944754600525\n",
      "Iteration: 949 | disc_loss: -0.46488961577415466 | gen_loss: 0.07232117652893066\n"
     ]
    },
    {
     "name": "stderr",
     "output_type": "stream",
     "text": [
      " 19%|█▉        | 965/5001 [00:10<00:34, 118.65it/s]"
     ]
    },
    {
     "name": "stdout",
     "output_type": "stream",
     "text": [
      "Iteration: 950 | disc_loss: -0.4466264247894287 | gen_loss: 0.05535408481955528\n",
      "Iteration: 951 | disc_loss: -0.5374031662940979 | gen_loss: 0.06641783565282822\n",
      "Iteration: 952 | disc_loss: -0.3759094476699829 | gen_loss: -0.024055596441030502\n",
      "Iteration: 953 | disc_loss: -0.38266703486442566 | gen_loss: 0.01892813667654991\n",
      "Iteration: 954 | disc_loss: -0.518730640411377 | gen_loss: 0.05588270351290703\n",
      "Iteration: 955 | disc_loss: -0.481937438249588 | gen_loss: 0.06600378453731537\n",
      "Iteration: 956 | disc_loss: -0.5133453011512756 | gen_loss: 0.08527779579162598\n",
      "Iteration: 957 | disc_loss: -0.4714489281177521 | gen_loss: 0.08596646785736084\n",
      "Iteration: 958 | disc_loss: -0.5309464335441589 | gen_loss: -0.08564121276140213\n",
      "Iteration: 959 | disc_loss: -0.500757098197937 | gen_loss: -0.08204594254493713\n",
      "Iteration: 960 | disc_loss: -0.36802077293395996 | gen_loss: 0.01785782352089882\n",
      "Iteration: 961 | disc_loss: -0.4603625535964966 | gen_loss: 0.09646303951740265\n",
      "Iteration: 962 | disc_loss: -0.5043895244598389 | gen_loss: 0.056482668966054916\n",
      "Iteration: 963 | disc_loss: -0.43392932415008545 | gen_loss: 0.1729450821876526\n",
      "Iteration: 964 | disc_loss: -0.4401746094226837 | gen_loss: 0.1450980007648468\n",
      "Iteration: 965 | disc_loss: -0.49297258257865906 | gen_loss: 0.05372045934200287\n",
      "Iteration: 966 | disc_loss: -0.542612612247467 | gen_loss: -0.012977037578821182\n",
      "Iteration: 967 | disc_loss: -0.5020425915718079 | gen_loss: 0.06897494196891785\n",
      "Iteration: 968 | disc_loss: -0.4825080931186676 | gen_loss: 0.1378539502620697\n",
      "Iteration: 969 | disc_loss: -0.44739195704460144 | gen_loss: 0.08402714133262634\n",
      "Iteration: 970 | disc_loss: -0.39823830127716064 | gen_loss: 0.0704708993434906\n",
      "Iteration: 971 | disc_loss: -0.39094123244285583 | gen_loss: 0.14756670594215393\n",
      "Iteration: 972 | disc_loss: -0.5356085300445557 | gen_loss: 0.015120631083846092\n",
      "Iteration: 973 | disc_loss: -0.4913628399372101 | gen_loss: 0.11945250630378723\n",
      "Iteration: 974 | disc_loss: -0.4501713514328003 | gen_loss: 0.111859992146492\n"
     ]
    },
    {
     "name": "stderr",
     "output_type": "stream",
     "text": [
      " 20%|█▉        | 989/5001 [00:10<00:34, 115.61it/s]"
     ]
    },
    {
     "name": "stdout",
     "output_type": "stream",
     "text": [
      "Iteration: 975 | disc_loss: -0.5270013213157654 | gen_loss: 0.0687270238995552\n",
      "Iteration: 976 | disc_loss: -0.4860975444316864 | gen_loss: 0.09390275925397873\n",
      "Iteration: 977 | disc_loss: -0.5330437421798706 | gen_loss: 0.10976849496364594\n",
      "Iteration: 978 | disc_loss: -0.4731857180595398 | gen_loss: 0.03729742020368576\n",
      "Iteration: 979 | disc_loss: -0.4974377155303955 | gen_loss: 0.037914857268333435\n",
      "Iteration: 980 | disc_loss: -0.49188387393951416 | gen_loss: 0.10914000868797302\n",
      "Iteration: 981 | disc_loss: -0.5316267609596252 | gen_loss: 0.0801885724067688\n",
      "Iteration: 982 | disc_loss: -0.41718101501464844 | gen_loss: 0.013364512473344803\n",
      "Iteration: 983 | disc_loss: -0.5208649635314941 | gen_loss: -0.022617079317569733\n",
      "Iteration: 984 | disc_loss: -0.43437427282333374 | gen_loss: 0.06482104957103729\n",
      "Iteration: 985 | disc_loss: -0.4098614752292633 | gen_loss: 0.04822907969355583\n",
      "Iteration: 986 | disc_loss: -0.4607287347316742 | gen_loss: 0.04620951786637306\n",
      "Iteration: 987 | disc_loss: -0.44624948501586914 | gen_loss: 0.11490444839000702\n",
      "Iteration: 988 | disc_loss: -0.40238291025161743 | gen_loss: 0.1407366693019867\n",
      "Iteration: 989 | disc_loss: -0.494579553604126 | gen_loss: 0.02801293134689331\n",
      "Iteration: 990 | disc_loss: -0.3577013611793518 | gen_loss: 0.10475431382656097\n",
      "Iteration: 991 | disc_loss: -0.33178839087486267 | gen_loss: 0.08575348556041718\n",
      "Iteration: 992 | disc_loss: -0.37579476833343506 | gen_loss: 0.039569318294525146\n",
      "Iteration: 993 | disc_loss: -0.5239179134368896 | gen_loss: 0.07101932913064957\n",
      "Iteration: 994 | disc_loss: -0.30715492367744446 | gen_loss: 0.06243513152003288\n",
      "Iteration: 995 | disc_loss: -0.49648186564445496 | gen_loss: 0.08889569342136383\n",
      "Iteration: 996 | disc_loss: -0.4087653160095215 | gen_loss: -0.009496958926320076\n"
     ]
    },
    {
     "name": "stderr",
     "output_type": "stream",
     "text": [
      " 20%|██        | 1012/5001 [00:10<00:37, 106.96it/s]"
     ]
    },
    {
     "name": "stdout",
     "output_type": "stream",
     "text": [
      "Iteration: 997 | disc_loss: -0.4803239703178406 | gen_loss: -0.045498333871364594\n",
      "Iteration: 998 | disc_loss: -0.42072126269340515 | gen_loss: 0.014235172420740128\n",
      "Iteration: 999 | disc_loss: -0.44738200306892395 | gen_loss: 0.1480424404144287\n",
      "Iteration: 1000 | disc_loss: -0.48627233505249023 | gen_loss: 0.11636673659086227\n",
      "Iteration: 1001 | disc_loss: -0.43013641238212585 | gen_loss: 0.1489182412624359\n",
      "Iteration: 1002 | disc_loss: -0.3738633096218109 | gen_loss: 0.0254253838211298\n",
      "Iteration: 1003 | disc_loss: -0.4591163098812103 | gen_loss: 0.06594274938106537\n",
      "Iteration: 1004 | disc_loss: -0.35972920060157776 | gen_loss: 0.03285572677850723\n",
      "Iteration: 1005 | disc_loss: -0.5018202066421509 | gen_loss: 0.024549560621380806\n",
      "Iteration: 1006 | disc_loss: -0.4544769823551178 | gen_loss: 0.03764132782816887\n",
      "Iteration: 1007 | disc_loss: -0.4496002793312073 | gen_loss: -0.0005388392601162195\n",
      "Iteration: 1008 | disc_loss: -0.4723566472530365 | gen_loss: 0.06010528653860092\n",
      "Iteration: 1009 | disc_loss: -0.47458046674728394 | gen_loss: 0.07463114708662033\n",
      "Iteration: 1010 | disc_loss: -0.48967742919921875 | gen_loss: 0.05244908854365349\n",
      "Iteration: 1011 | disc_loss: -0.4837183654308319 | gen_loss: 0.113345205783844\n",
      "Iteration: 1012 | disc_loss: -0.49024564027786255 | gen_loss: 0.10515923798084259\n",
      "Iteration: 1013 | disc_loss: -0.4821925759315491 | gen_loss: 0.060525134205818176\n",
      "Iteration: 1014 | disc_loss: -0.3783372640609741 | gen_loss: 0.04090671241283417\n",
      "Iteration: 1015 | disc_loss: -0.4080783724784851 | gen_loss: 0.04004063829779625\n",
      "Iteration: 1016 | disc_loss: -0.43293091654777527 | gen_loss: 0.014593763276934624\n"
     ]
    },
    {
     "name": "stderr",
     "output_type": "stream",
     "text": [
      " 21%|██        | 1034/5001 [00:10<00:38, 103.03it/s]"
     ]
    },
    {
     "name": "stdout",
     "output_type": "stream",
     "text": [
      "Iteration: 1017 | disc_loss: -0.46960753202438354 | gen_loss: 0.05796352028846741\n",
      "Iteration: 1018 | disc_loss: -0.43949368596076965 | gen_loss: -0.019220538437366486\n",
      "Iteration: 1019 | disc_loss: -0.45285487174987793 | gen_loss: 0.02444816753268242\n",
      "Iteration: 1020 | disc_loss: -0.445385217666626 | gen_loss: 0.07157785445451736\n",
      "Iteration: 1021 | disc_loss: -0.41625338792800903 | gen_loss: 0.03876449912786484\n",
      "Iteration: 1022 | disc_loss: -0.4541076421737671 | gen_loss: 0.04257108271121979\n",
      "Iteration: 1023 | disc_loss: -0.5044101476669312 | gen_loss: 0.04852696508169174\n",
      "Iteration: 1024 | disc_loss: -0.2554858922958374 | gen_loss: 0.10367416590452194\n",
      "Iteration: 1025 | disc_loss: -0.3125825524330139 | gen_loss: 0.056678496301174164\n",
      "Iteration: 1026 | disc_loss: -0.423979252576828 | gen_loss: -0.0009513655677437782\n",
      "Iteration: 1027 | disc_loss: -0.3558066785335541 | gen_loss: 0.06814491003751755\n",
      "Iteration: 1028 | disc_loss: -0.5012844800949097 | gen_loss: 0.17210251092910767\n",
      "Iteration: 1029 | disc_loss: -0.4067564606666565 | gen_loss: 0.08202871680259705\n",
      "Iteration: 1030 | disc_loss: -0.4791141450405121 | gen_loss: 0.06743704527616501\n",
      "Iteration: 1031 | disc_loss: -0.38904619216918945 | gen_loss: 0.11246078461408615\n",
      "Iteration: 1032 | disc_loss: -0.27784180641174316 | gen_loss: 0.12480675429105759\n",
      "Iteration: 1033 | disc_loss: -0.45411860942840576 | gen_loss: 0.056267816573381424\n",
      "Iteration: 1034 | disc_loss: -0.5096941590309143 | gen_loss: 0.1054316982626915\n",
      "Iteration: 1035 | disc_loss: -0.45592302083969116 | gen_loss: 0.08121803402900696\n",
      "Iteration: 1036 | disc_loss: -0.5001461505889893 | gen_loss: 0.09823945164680481\n",
      "Iteration: 1037 | disc_loss: -0.4349238872528076 | gen_loss: 0.04504842311143875\n",
      "Iteration: 1038 | disc_loss: -0.5039458274841309 | gen_loss: 0.11176063865423203\n"
     ]
    },
    {
     "name": "stderr",
     "output_type": "stream",
     "text": [
      " 21%|██        | 1056/5001 [00:11<00:37, 104.73it/s]"
     ]
    },
    {
     "name": "stdout",
     "output_type": "stream",
     "text": [
      "Iteration: 1039 | disc_loss: -0.366654634475708 | gen_loss: 0.05957968905568123\n",
      "Iteration: 1040 | disc_loss: -0.5187212228775024 | gen_loss: 0.14188778400421143\n",
      "Iteration: 1041 | disc_loss: -0.37555167078971863 | gen_loss: 0.14346355199813843\n",
      "Iteration: 1042 | disc_loss: -0.3846813440322876 | gen_loss: 0.14981912076473236\n",
      "Iteration: 1043 | disc_loss: -0.4452185332775116 | gen_loss: 0.10566435754299164\n",
      "Iteration: 1044 | disc_loss: -0.4910998046398163 | gen_loss: 0.059774477034807205\n",
      "Iteration: 1045 | disc_loss: -0.4692242741584778 | gen_loss: 0.051176805049180984\n",
      "Iteration: 1046 | disc_loss: -0.44331449270248413 | gen_loss: -0.011385458521544933\n",
      "Iteration: 1047 | disc_loss: -0.45002275705337524 | gen_loss: 0.05128617212176323\n",
      "Iteration: 1048 | disc_loss: -0.46689414978027344 | gen_loss: 0.10164052248001099\n",
      "Iteration: 1049 | disc_loss: -0.4626891613006592 | gen_loss: 0.03556794673204422\n",
      "Iteration: 1050 | disc_loss: -0.5317293405532837 | gen_loss: -0.034056540578603745\n",
      "Iteration: 1051 | disc_loss: -0.4751788079738617 | gen_loss: 0.020359236747026443\n",
      "Iteration: 1052 | disc_loss: -0.468533992767334 | gen_loss: 0.002461398020386696\n",
      "Iteration: 1053 | disc_loss: -0.5169068574905396 | gen_loss: -0.004740587435662746\n",
      "Iteration: 1054 | disc_loss: -0.5090519785881042 | gen_loss: 0.015876326709985733\n",
      "Iteration: 1055 | disc_loss: -0.5128899216651917 | gen_loss: -0.010838460177183151\n",
      "Iteration: 1056 | disc_loss: -0.5203802585601807 | gen_loss: -0.016941100358963013\n",
      "Iteration: 1057 | disc_loss: -0.4456992447376251 | gen_loss: 0.0735277384519577\n",
      "Iteration: 1058 | disc_loss: -0.41565650701522827 | gen_loss: 0.05853867530822754\n",
      "Iteration: 1059 | disc_loss: -0.4869482219219208 | gen_loss: 0.05664750188589096\n"
     ]
    },
    {
     "name": "stderr",
     "output_type": "stream",
     "text": [
      " 22%|██▏       | 1078/5001 [00:11<00:37, 104.12it/s]"
     ]
    },
    {
     "name": "stdout",
     "output_type": "stream",
     "text": [
      "Iteration: 1060 | disc_loss: -0.5216325521469116 | gen_loss: 0.010574450716376305\n",
      "Iteration: 1061 | disc_loss: -0.49777311086654663 | gen_loss: 0.07731480896472931\n",
      "Iteration: 1062 | disc_loss: -0.523281455039978 | gen_loss: 0.013575720600783825\n",
      "Iteration: 1063 | disc_loss: -0.38642874360084534 | gen_loss: 0.07965121418237686\n",
      "Iteration: 1064 | disc_loss: -0.47061365842819214 | gen_loss: 0.027789020910859108\n",
      "Iteration: 1065 | disc_loss: -0.4477725028991699 | gen_loss: 0.038997527211904526\n",
      "Iteration: 1066 | disc_loss: -0.4984845817089081 | gen_loss: 0.0709884762763977\n",
      "Iteration: 1067 | disc_loss: -0.37178197503089905 | gen_loss: 0.11008858680725098\n",
      "Iteration: 1068 | disc_loss: -0.46296051144599915 | gen_loss: 0.09656873345375061\n",
      "Iteration: 1069 | disc_loss: -0.5057598948478699 | gen_loss: 0.07943378388881683\n",
      "Iteration: 1070 | disc_loss: -0.47253501415252686 | gen_loss: 0.1690891534090042\n",
      "Iteration: 1071 | disc_loss: -0.37851977348327637 | gen_loss: 0.10038305819034576\n",
      "Iteration: 1072 | disc_loss: -0.39067378640174866 | gen_loss: 0.09664680808782578\n",
      "Iteration: 1073 | disc_loss: -0.3384009599685669 | gen_loss: 0.06828787922859192\n",
      "Iteration: 1074 | disc_loss: -0.48431068658828735 | gen_loss: 0.05953678488731384\n",
      "Iteration: 1075 | disc_loss: -0.4580067992210388 | gen_loss: 0.04205480217933655\n",
      "Iteration: 1076 | disc_loss: -0.48115208745002747 | gen_loss: 0.0889807716012001\n",
      "Iteration: 1077 | disc_loss: -0.42290249466896057 | gen_loss: 0.05555024370551109\n",
      "Iteration: 1078 | disc_loss: -0.479341983795166 | gen_loss: 0.029847590252757072\n",
      "Iteration: 1079 | disc_loss: -0.31490248441696167 | gen_loss: 0.02555045858025551\n"
     ]
    },
    {
     "name": "stderr",
     "output_type": "stream",
     "text": [
      " 22%|██▏       | 1100/5001 [00:11<00:37, 104.04it/s]"
     ]
    },
    {
     "name": "stdout",
     "output_type": "stream",
     "text": [
      "Iteration: 1080 | disc_loss: -0.4495454430580139 | gen_loss: 0.055179163813591\n",
      "Iteration: 1081 | disc_loss: -0.46709784865379333 | gen_loss: 0.06656323373317719\n",
      "Iteration: 1082 | disc_loss: -0.4186471104621887 | gen_loss: 0.08095534145832062\n",
      "Iteration: 1083 | disc_loss: -0.48833635449409485 | gen_loss: 0.050882235169410706\n",
      "Iteration: 1084 | disc_loss: -0.40047967433929443 | gen_loss: -0.006786946207284927\n",
      "Iteration: 1085 | disc_loss: -0.48611101508140564 | gen_loss: 0.08968334645032883\n",
      "Iteration: 1086 | disc_loss: -0.4636158347129822 | gen_loss: 0.04815162718296051\n",
      "Iteration: 1087 | disc_loss: -0.4841046929359436 | gen_loss: 0.08967480808496475\n",
      "Iteration: 1088 | disc_loss: -0.47883906960487366 | gen_loss: 0.0679921805858612\n",
      "Iteration: 1089 | disc_loss: -0.4568939208984375 | gen_loss: 0.012845773249864578\n",
      "Iteration: 1090 | disc_loss: -0.45528823137283325 | gen_loss: 0.028365928679704666\n",
      "Iteration: 1091 | disc_loss: -0.45510435104370117 | gen_loss: -0.046132899820804596\n",
      "Iteration: 1092 | disc_loss: -0.38018763065338135 | gen_loss: 0.02632918953895569\n",
      "Iteration: 1093 | disc_loss: -0.41437771916389465 | gen_loss: 0.036860138177871704\n",
      "Iteration: 1094 | disc_loss: -0.5189014077186584 | gen_loss: -0.12839965522289276\n",
      "Iteration: 1095 | disc_loss: -0.41450271010398865 | gen_loss: -0.04894421994686127\n",
      "Iteration: 1096 | disc_loss: -0.4340952932834625 | gen_loss: 0.05934062600135803\n",
      "Iteration: 1097 | disc_loss: -0.49817052483558655 | gen_loss: 0.08238023519515991\n",
      "Iteration: 1098 | disc_loss: -0.32173585891723633 | gen_loss: 0.04966766759753227\n",
      "Iteration: 1099 | disc_loss: -0.4897138476371765 | gen_loss: 0.05246766656637192\n",
      "Iteration: 1100 | disc_loss: -0.4862290322780609 | gen_loss: 0.018794890493154526\n",
      "Iteration: 1101 | disc_loss: -0.507149338722229 | gen_loss: -0.042229026556015015\n",
      "Iteration: 1102 | disc_loss: -0.4086812138557434 | gen_loss: -0.008401691913604736\n"
     ]
    },
    {
     "name": "stderr",
     "output_type": "stream",
     "text": [
      " 22%|██▏       | 1122/5001 [00:11<00:38, 101.68it/s]"
     ]
    },
    {
     "name": "stdout",
     "output_type": "stream",
     "text": [
      "Iteration: 1103 | disc_loss: -0.46977564692497253 | gen_loss: 0.07331778854131699\n",
      "Iteration: 1104 | disc_loss: -0.44153934717178345 | gen_loss: 0.062485471367836\n",
      "Iteration: 1105 | disc_loss: -0.4138212203979492 | gen_loss: 0.08370162546634674\n",
      "Iteration: 1106 | disc_loss: -0.5256081223487854 | gen_loss: 0.04006390646100044\n",
      "Iteration: 1107 | disc_loss: -0.291339248418808 | gen_loss: 0.08333340287208557\n",
      "Iteration: 1108 | disc_loss: -0.4541205167770386 | gen_loss: 0.1355283260345459\n",
      "Iteration: 1109 | disc_loss: -0.4256311357021332 | gen_loss: 0.06486211717128754\n",
      "Iteration: 1110 | disc_loss: -0.4819888770580292 | gen_loss: 0.03561295568943024\n",
      "Iteration: 1111 | disc_loss: -0.48928001523017883 | gen_loss: 0.0066518038511276245\n",
      "Iteration: 1112 | disc_loss: -0.4620319902896881 | gen_loss: 0.08652102947235107\n",
      "Iteration: 1113 | disc_loss: -0.4723026156425476 | gen_loss: 0.08746855705976486\n",
      "Iteration: 1114 | disc_loss: -0.4785483777523041 | gen_loss: 0.0475490503013134\n",
      "Iteration: 1115 | disc_loss: -0.4436935484409332 | gen_loss: 0.044679637998342514\n",
      "Iteration: 1116 | disc_loss: -0.5093406438827515 | gen_loss: -0.041336506605148315\n",
      "Iteration: 1117 | disc_loss: -0.3242553174495697 | gen_loss: 0.12488125264644623\n",
      "Iteration: 1118 | disc_loss: -0.3971920609474182 | gen_loss: 0.09446687251329422\n",
      "Iteration: 1119 | disc_loss: -0.46001607179641724 | gen_loss: 0.018778353929519653\n",
      "Iteration: 1120 | disc_loss: -0.4883025884628296 | gen_loss: 0.024125803261995316\n",
      "Iteration: 1121 | disc_loss: -0.5169769525527954 | gen_loss: 0.0944216325879097\n",
      "Iteration: 1122 | disc_loss: -0.34131568670272827 | gen_loss: 0.10312680900096893\n",
      "Iteration: 1123 | disc_loss: -0.38785332441329956 | gen_loss: -0.047562018036842346\n"
     ]
    },
    {
     "name": "stderr",
     "output_type": "stream",
     "text": [
      " 23%|██▎       | 1146/5001 [00:12<00:35, 107.58it/s]"
     ]
    },
    {
     "name": "stdout",
     "output_type": "stream",
     "text": [
      "Iteration: 1124 | disc_loss: -0.4622197151184082 | gen_loss: 0.011634577065706253\n",
      "Iteration: 1125 | disc_loss: -0.48378974199295044 | gen_loss: -0.008805494755506516\n",
      "Iteration: 1126 | disc_loss: -0.4207859933376312 | gen_loss: 0.020126821473240852\n",
      "Iteration: 1127 | disc_loss: -0.466854065656662 | gen_loss: 0.07600563764572144\n",
      "Iteration: 1128 | disc_loss: -0.5173928141593933 | gen_loss: -0.051954999566078186\n",
      "Iteration: 1129 | disc_loss: -0.39087069034576416 | gen_loss: 0.029149269685149193\n",
      "Iteration: 1130 | disc_loss: -0.39082401990890503 | gen_loss: 0.029733451083302498\n",
      "Iteration: 1131 | disc_loss: -0.4836300015449524 | gen_loss: -0.06870194524526596\n",
      "Iteration: 1132 | disc_loss: -0.3428148627281189 | gen_loss: 0.14135420322418213\n",
      "Iteration: 1133 | disc_loss: -0.4370906949043274 | gen_loss: 0.11864088475704193\n",
      "Iteration: 1134 | disc_loss: -0.44616198539733887 | gen_loss: 0.10691404342651367\n",
      "Iteration: 1135 | disc_loss: -0.47174543142318726 | gen_loss: 0.05177432298660278\n",
      "Iteration: 1136 | disc_loss: -0.4258250892162323 | gen_loss: 0.09353828430175781\n",
      "Iteration: 1137 | disc_loss: -0.4728947579860687 | gen_loss: 0.13388226926326752\n",
      "Iteration: 1138 | disc_loss: -0.42215967178344727 | gen_loss: 0.06918008625507355\n",
      "Iteration: 1139 | disc_loss: -0.46184059977531433 | gen_loss: 0.04128635674715042\n",
      "Iteration: 1140 | disc_loss: -0.4825384318828583 | gen_loss: -0.01940865069627762\n",
      "Iteration: 1141 | disc_loss: -0.3645774722099304 | gen_loss: 0.08574391901493073\n",
      "Iteration: 1142 | disc_loss: -0.4151418209075928 | gen_loss: 0.044718801975250244\n",
      "Iteration: 1143 | disc_loss: -0.4711996912956238 | gen_loss: 0.03349825739860535\n",
      "Iteration: 1144 | disc_loss: -0.49321892857551575 | gen_loss: -0.00902769435197115\n",
      "Iteration: 1145 | disc_loss: -0.49116507172584534 | gen_loss: -0.05226970836520195\n",
      "Iteration: 1146 | disc_loss: -0.29022639989852905 | gen_loss: -0.019794652238488197\n",
      "Iteration: 1147 | disc_loss: -0.4020806550979614 | gen_loss: 0.04793588072061539\n"
     ]
    },
    {
     "name": "stderr",
     "output_type": "stream",
     "text": [
      " 23%|██▎       | 1169/5001 [00:12<00:35, 108.28it/s]"
     ]
    },
    {
     "name": "stdout",
     "output_type": "stream",
     "text": [
      "Iteration: 1148 | disc_loss: -0.34198737144470215 | gen_loss: -0.021791093051433563\n",
      "Iteration: 1149 | disc_loss: -0.4504520297050476 | gen_loss: -0.05914543569087982\n",
      "Iteration: 1150 | disc_loss: -0.48140162229537964 | gen_loss: -0.017238082364201546\n",
      "Iteration: 1151 | disc_loss: -0.4787598252296448 | gen_loss: -0.012224390171468258\n",
      "Iteration: 1152 | disc_loss: -0.4161880314350128 | gen_loss: 0.006672252900898457\n",
      "Iteration: 1153 | disc_loss: -0.40780186653137207 | gen_loss: 0.07698751986026764\n",
      "Iteration: 1154 | disc_loss: -0.4493323862552643 | gen_loss: 0.0359610989689827\n",
      "Iteration: 1155 | disc_loss: -0.4097334146499634 | gen_loss: 0.10077346116304398\n",
      "Iteration: 1156 | disc_loss: -0.38009148836135864 | gen_loss: 0.07588943839073181\n",
      "Iteration: 1157 | disc_loss: -0.5048646330833435 | gen_loss: 0.017049647867679596\n",
      "Iteration: 1158 | disc_loss: -0.4903832972049713 | gen_loss: 0.11365616321563721\n",
      "Iteration: 1159 | disc_loss: -0.4100559949874878 | gen_loss: 0.0387369841337204\n",
      "Iteration: 1160 | disc_loss: -0.4837678074836731 | gen_loss: -0.03572313115000725\n",
      "Iteration: 1161 | disc_loss: -0.44244903326034546 | gen_loss: 0.010671108961105347\n",
      "Iteration: 1162 | disc_loss: -0.5096781253814697 | gen_loss: -0.027254026383161545\n",
      "Iteration: 1163 | disc_loss: -0.38939154148101807 | gen_loss: 0.000120481476187706\n",
      "Iteration: 1164 | disc_loss: -0.3914245367050171 | gen_loss: 0.022367998957633972\n",
      "Iteration: 1165 | disc_loss: -0.5061781406402588 | gen_loss: -0.04216481000185013\n",
      "Iteration: 1166 | disc_loss: -0.465939462184906 | gen_loss: -0.019618608057498932\n",
      "Iteration: 1167 | disc_loss: -0.44570687413215637 | gen_loss: 0.023373302072286606\n",
      "Iteration: 1168 | disc_loss: -0.41624218225479126 | gen_loss: -0.07241326570510864\n",
      "Iteration: 1169 | disc_loss: -0.37830424308776855 | gen_loss: -0.022914864122867584\n",
      "Iteration: 1170 | disc_loss: -0.46651604771614075 | gen_loss: -0.07390858232975006\n"
     ]
    },
    {
     "name": "stderr",
     "output_type": "stream",
     "text": [
      " 24%|██▍       | 1192/5001 [00:12<00:34, 109.34it/s]"
     ]
    },
    {
     "name": "stdout",
     "output_type": "stream",
     "text": [
      "Iteration: 1171 | disc_loss: -0.4959160387516022 | gen_loss: -0.014871848747134209\n",
      "Iteration: 1172 | disc_loss: -0.4470524489879608 | gen_loss: 0.0313684418797493\n",
      "Iteration: 1173 | disc_loss: -0.4164312779903412 | gen_loss: -0.012426153756678104\n",
      "Iteration: 1174 | disc_loss: -0.40526875853538513 | gen_loss: -0.02250327356159687\n",
      "Iteration: 1175 | disc_loss: -0.38779646158218384 | gen_loss: 0.017344016581773758\n",
      "Iteration: 1176 | disc_loss: -0.43090614676475525 | gen_loss: -0.012908644042909145\n",
      "Iteration: 1177 | disc_loss: -0.511213481426239 | gen_loss: 0.017916763201355934\n",
      "Iteration: 1178 | disc_loss: -0.4434259533882141 | gen_loss: 0.03385572135448456\n",
      "Iteration: 1179 | disc_loss: -0.2898077964782715 | gen_loss: 0.03902309387922287\n",
      "Iteration: 1180 | disc_loss: -0.3969030976295471 | gen_loss: -0.03140702098608017\n",
      "Iteration: 1181 | disc_loss: -0.5449895262718201 | gen_loss: -0.04335012286901474\n",
      "Iteration: 1182 | disc_loss: -0.34028372168540955 | gen_loss: 0.001709835371002555\n",
      "Iteration: 1183 | disc_loss: -0.4884645342826843 | gen_loss: 0.05784696340560913\n",
      "Iteration: 1184 | disc_loss: -0.4222382605075836 | gen_loss: 0.09625639766454697\n",
      "Iteration: 1185 | disc_loss: -0.36549919843673706 | gen_loss: 0.02848382294178009\n",
      "Iteration: 1186 | disc_loss: -0.4413660168647766 | gen_loss: 0.1165250837802887\n",
      "Iteration: 1187 | disc_loss: -0.4018740952014923 | gen_loss: 0.11544246971607208\n",
      "Iteration: 1188 | disc_loss: -0.48180636763572693 | gen_loss: -0.0017874985933303833\n",
      "Iteration: 1189 | disc_loss: -0.41038432717323303 | gen_loss: 0.08777853101491928\n",
      "Iteration: 1190 | disc_loss: -0.4505234360694885 | gen_loss: -0.011239772662520409\n",
      "Iteration: 1191 | disc_loss: -0.5105472803115845 | gen_loss: 0.034461356699466705\n",
      "Iteration: 1192 | disc_loss: -0.4866046607494354 | gen_loss: -0.08547048270702362\n",
      "Iteration: 1193 | disc_loss: -0.3107394576072693 | gen_loss: 0.09276106208562851\n"
     ]
    },
    {
     "name": "stderr",
     "output_type": "stream",
     "text": [
      " 24%|██▍       | 1203/5001 [00:12<00:36, 104.76it/s]"
     ]
    },
    {
     "name": "stdout",
     "output_type": "stream",
     "text": [
      "Iteration: 1194 | disc_loss: -0.3900142312049866 | gen_loss: 0.025308948010206223\n",
      "Iteration: 1195 | disc_loss: -0.38651758432388306 | gen_loss: 0.0824519619345665\n",
      "Iteration: 1196 | disc_loss: -0.4630771279335022 | gen_loss: 0.05299821496009827\n",
      "Iteration: 1197 | disc_loss: -0.51935875415802 | gen_loss: -0.01640353910624981\n",
      "Iteration: 1198 | disc_loss: -0.4595407545566559 | gen_loss: -0.01949993707239628\n",
      "Iteration: 1199 | disc_loss: -0.4570000171661377 | gen_loss: -0.008066785521805286\n",
      "Iteration: 1200 | disc_loss: -0.41768258810043335 | gen_loss: 0.016248036175966263\n",
      "Iteration: 1201 | disc_loss: -0.26387542486190796 | gen_loss: 0.016353445127606392\n",
      "Iteration: 1202 | disc_loss: -0.35054564476013184 | gen_loss: -0.02501683682203293\n",
      "Iteration: 1203 | disc_loss: -0.500537097454071 | gen_loss: 0.03302755579352379\n",
      "Iteration: 1204 | disc_loss: -0.45048338174819946 | gen_loss: -0.021151430904865265\n",
      "Iteration: 1205 | disc_loss: -0.49939030408859253 | gen_loss: -0.10036551207304001\n",
      "Iteration: 1206 | disc_loss: -0.5057177543640137 | gen_loss: -0.05428208410739899\n",
      "Iteration: 1207 | disc_loss: -0.5032110214233398 | gen_loss: -0.027269933372735977\n",
      "Iteration: 1208 | disc_loss: -0.3983416259288788 | gen_loss: 0.03347713127732277\n",
      "Iteration: 1209 | disc_loss: -0.489153653383255 | gen_loss: 0.01584451273083687\n",
      "Iteration: 1210 | disc_loss: -0.5466643571853638 | gen_loss: 0.045949459075927734\n",
      "Iteration: 1211 | disc_loss: -0.35760244727134705 | gen_loss: 0.08855415135622025\n",
      "Iteration: 1212 | disc_loss: -0.3966105580329895 | gen_loss: 0.001089559867978096\n"
     ]
    },
    {
     "name": "stderr",
     "output_type": "stream",
     "text": [
      " 24%|██▍       | 1225/5001 [00:12<00:37, 101.38it/s]"
     ]
    },
    {
     "name": "stdout",
     "output_type": "stream",
     "text": [
      "Iteration: 1213 | disc_loss: -0.44179120659828186 | gen_loss: 0.052631497383117676\n",
      "Iteration: 1214 | disc_loss: -0.4277805685997009 | gen_loss: 0.06646590679883957\n",
      "Iteration: 1215 | disc_loss: -0.39437127113342285 | gen_loss: 0.003263697028160095\n",
      "Iteration: 1216 | disc_loss: -0.3794572055339813 | gen_loss: 0.04942997172474861\n",
      "Iteration: 1217 | disc_loss: -0.43366390466690063 | gen_loss: 0.005318717565387487\n",
      "Iteration: 1218 | disc_loss: -0.4259273409843445 | gen_loss: 0.04088399559259415\n",
      "Iteration: 1219 | disc_loss: -0.4516637325286865 | gen_loss: -0.05049898102879524\n",
      "Iteration: 1220 | disc_loss: -0.4634683430194855 | gen_loss: 0.019491590559482574\n",
      "Iteration: 1221 | disc_loss: -0.5124313831329346 | gen_loss: -0.020383339375257492\n",
      "Iteration: 1222 | disc_loss: -0.3584420084953308 | gen_loss: 0.03979440778493881\n",
      "Iteration: 1223 | disc_loss: -0.4707932770252228 | gen_loss: -0.012048492208123207\n",
      "Iteration: 1224 | disc_loss: -0.42557743191719055 | gen_loss: 0.014158867299556732\n",
      "Iteration: 1225 | disc_loss: -0.48033779859542847 | gen_loss: -0.022419966757297516\n",
      "Iteration: 1226 | disc_loss: -0.4355071485042572 | gen_loss: 0.018641315400600433\n",
      "Iteration: 1227 | disc_loss: -0.4650138318538666 | gen_loss: -0.027796054258942604\n",
      "Iteration: 1228 | disc_loss: -0.48483359813690186 | gen_loss: -0.006968432106077671\n",
      "Iteration: 1229 | disc_loss: -0.46657654643058777 | gen_loss: -0.001630835235118866\n",
      "Iteration: 1230 | disc_loss: -0.36215728521347046 | gen_loss: -0.07149212807416916\n",
      "Iteration: 1231 | disc_loss: -0.39125970005989075 | gen_loss: -0.08883102983236313\n",
      "Iteration: 1232 | disc_loss: -0.47621142864227295 | gen_loss: -0.051342546939849854\n",
      "Iteration: 1233 | disc_loss: -0.5051199793815613 | gen_loss: -0.08317113667726517\n",
      "Iteration: 1234 | disc_loss: -0.1345749944448471 | gen_loss: 0.05240681394934654\n"
     ]
    },
    {
     "name": "stderr",
     "output_type": "stream",
     "text": [
      " 25%|██▍       | 1248/5001 [00:13<00:35, 106.68it/s]"
     ]
    },
    {
     "name": "stdout",
     "output_type": "stream",
     "text": [
      "Iteration: 1235 | disc_loss: -0.4496177136898041 | gen_loss: 0.0548241101205349\n",
      "Iteration: 1236 | disc_loss: -0.35173994302749634 | gen_loss: -0.04362809658050537\n",
      "Iteration: 1237 | disc_loss: -0.3743304908275604 | gen_loss: -0.043135106563568115\n",
      "Iteration: 1238 | disc_loss: -0.3111621141433716 | gen_loss: 0.06800167262554169\n",
      "Iteration: 1239 | disc_loss: -0.4713623821735382 | gen_loss: -0.028891723603010178\n",
      "Iteration: 1240 | disc_loss: -0.4208969473838806 | gen_loss: -0.009050429798662663\n",
      "Iteration: 1241 | disc_loss: -0.3713254928588867 | gen_loss: 0.12950420379638672\n",
      "Iteration: 1242 | disc_loss: -0.3898748755455017 | gen_loss: 0.06107630580663681\n",
      "Iteration: 1243 | disc_loss: -0.3916965126991272 | gen_loss: 0.11589350551366806\n",
      "Iteration: 1244 | disc_loss: -0.41495972871780396 | gen_loss: -0.013722224161028862\n",
      "Iteration: 1245 | disc_loss: -0.5085861682891846 | gen_loss: 0.02611559070646763\n",
      "Iteration: 1246 | disc_loss: -0.4731563329696655 | gen_loss: -0.006924242712557316\n",
      "Iteration: 1247 | disc_loss: -0.46164044737815857 | gen_loss: 0.022784681990742683\n",
      "Iteration: 1248 | disc_loss: -0.31618285179138184 | gen_loss: 0.026723653078079224\n",
      "Iteration: 1249 | disc_loss: -0.47733691334724426 | gen_loss: 0.016125768423080444\n",
      "Iteration: 1250 | disc_loss: -0.4305509924888611 | gen_loss: 0.010878121480345726\n",
      "Iteration: 1251 | disc_loss: -0.4648837149143219 | gen_loss: 0.06163644790649414\n",
      "Iteration: 1252 | disc_loss: -0.4504804313182831 | gen_loss: 0.14857035875320435\n",
      "Iteration: 1253 | disc_loss: -0.39839351177215576 | gen_loss: 0.06224323436617851\n",
      "Iteration: 1254 | disc_loss: -0.4005700945854187 | gen_loss: 0.04782918095588684\n",
      "Iteration: 1255 | disc_loss: -0.43573158979415894 | gen_loss: -0.00421535037457943\n",
      "Iteration: 1256 | disc_loss: -0.5178049206733704 | gen_loss: -0.008983736857771873\n",
      "Iteration: 1257 | disc_loss: -0.4377124011516571 | gen_loss: 0.010327385738492012\n",
      "Iteration: 1258 | disc_loss: -0.4052569270133972 | gen_loss: -0.008132175542414188\n"
     ]
    },
    {
     "name": "stderr",
     "output_type": "stream",
     "text": [
      " 25%|██▌       | 1272/5001 [00:13<00:34, 108.12it/s]"
     ]
    },
    {
     "name": "stdout",
     "output_type": "stream",
     "text": [
      "Iteration: 1259 | disc_loss: -0.47142648696899414 | gen_loss: 0.03494739532470703\n",
      "Iteration: 1260 | disc_loss: -0.33238881826400757 | gen_loss: -0.00012844987213611603\n",
      "Iteration: 1261 | disc_loss: -0.5042265057563782 | gen_loss: -0.0004513254389166832\n",
      "Iteration: 1262 | disc_loss: -0.406023770570755 | gen_loss: 0.07183442264795303\n",
      "Iteration: 1263 | disc_loss: -0.45455458760261536 | gen_loss: 0.10953754186630249\n",
      "Iteration: 1264 | disc_loss: -0.3893481194972992 | gen_loss: 0.0431249774992466\n",
      "Iteration: 1265 | disc_loss: -0.4530292749404907 | gen_loss: 0.14891977608203888\n",
      "Iteration: 1266 | disc_loss: -0.4159461557865143 | gen_loss: 0.04202225059270859\n",
      "Iteration: 1267 | disc_loss: -0.4682719111442566 | gen_loss: -0.04027038440108299\n",
      "Iteration: 1268 | disc_loss: -0.1382085680961609 | gen_loss: 0.08150134980678558\n",
      "Iteration: 1269 | disc_loss: -0.487793505191803 | gen_loss: 0.03308848291635513\n",
      "Iteration: 1270 | disc_loss: -0.42820075154304504 | gen_loss: 0.04445146769285202\n",
      "Iteration: 1271 | disc_loss: -0.4263727068901062 | gen_loss: 0.0644746869802475\n",
      "Iteration: 1272 | disc_loss: -0.47621825337409973 | gen_loss: -0.0155482841655612\n",
      "Iteration: 1273 | disc_loss: -0.4486720860004425 | gen_loss: -0.03642448037862778\n",
      "Iteration: 1274 | disc_loss: -0.31358927488327026 | gen_loss: 0.007577258162200451\n",
      "Iteration: 1275 | disc_loss: -0.4315204918384552 | gen_loss: 0.07509315013885498\n",
      "Iteration: 1276 | disc_loss: -0.45760515332221985 | gen_loss: -0.004695109091699123\n",
      "Iteration: 1277 | disc_loss: -0.4128514528274536 | gen_loss: 0.022778304293751717\n",
      "Iteration: 1278 | disc_loss: -0.451358437538147 | gen_loss: -0.03067234717309475\n",
      "Iteration: 1279 | disc_loss: -0.4074804186820984 | gen_loss: -0.07228057831525803\n",
      "Iteration: 1280 | disc_loss: -0.4486254155635834 | gen_loss: 0.08765794336795807\n",
      "Iteration: 1281 | disc_loss: -0.4336703419685364 | gen_loss: 0.033589862287044525\n",
      "Iteration: 1282 | disc_loss: -0.47513750195503235 | gen_loss: 0.04887518659234047\n"
     ]
    },
    {
     "name": "stderr",
     "output_type": "stream",
     "text": [
      " 26%|██▌       | 1300/5001 [00:13<00:30, 119.79it/s]"
     ]
    },
    {
     "name": "stdout",
     "output_type": "stream",
     "text": [
      "Iteration: 1283 | disc_loss: -0.4876265823841095 | gen_loss: -0.010955004021525383\n",
      "Iteration: 1284 | disc_loss: -0.501910924911499 | gen_loss: 0.02749675326049328\n",
      "Iteration: 1285 | disc_loss: -0.39965444803237915 | gen_loss: 0.0039031202904880047\n",
      "Iteration: 1286 | disc_loss: -0.4850956201553345 | gen_loss: 0.01915914937853813\n",
      "Iteration: 1287 | disc_loss: -0.44488146901130676 | gen_loss: -0.003873668611049652\n",
      "Iteration: 1288 | disc_loss: -0.40606755018234253 | gen_loss: 0.00038306042551994324\n",
      "Iteration: 1289 | disc_loss: -0.4259127378463745 | gen_loss: -0.005632733926177025\n",
      "Iteration: 1290 | disc_loss: -0.4441406726837158 | gen_loss: -0.06663604825735092\n",
      "Iteration: 1291 | disc_loss: -0.4731135368347168 | gen_loss: 0.040628865361213684\n",
      "Iteration: 1292 | disc_loss: -0.4496634006500244 | gen_loss: 0.054583411663770676\n",
      "Iteration: 1293 | disc_loss: -0.46572065353393555 | gen_loss: -0.06578484922647476\n",
      "Iteration: 1294 | disc_loss: -0.3880150318145752 | gen_loss: 0.0830942839384079\n",
      "Iteration: 1295 | disc_loss: -0.45189547538757324 | gen_loss: -0.003540639765560627\n",
      "Iteration: 1296 | disc_loss: -0.3630991578102112 | gen_loss: 0.05032211169600487\n",
      "Iteration: 1297 | disc_loss: -0.44709670543670654 | gen_loss: 0.09715360403060913\n",
      "Iteration: 1298 | disc_loss: -0.40715286135673523 | gen_loss: 0.0019337348639965057\n",
      "Iteration: 1299 | disc_loss: -0.49794408679008484 | gen_loss: -0.07106214761734009\n",
      "Iteration: 1300 | disc_loss: -0.367189884185791 | gen_loss: 0.06803332269191742\n",
      "Iteration: 1301 | disc_loss: -0.4571342468261719 | gen_loss: 0.1290430724620819\n",
      "Iteration: 1302 | disc_loss: -0.42122071981430054 | gen_loss: 0.08916740119457245\n",
      "Iteration: 1303 | disc_loss: -0.4418587386608124 | gen_loss: -0.0074661653488874435\n",
      "Iteration: 1304 | disc_loss: -0.5099614262580872 | gen_loss: -0.02089601568877697\n",
      "Iteration: 1305 | disc_loss: -0.36517998576164246 | gen_loss: -0.010854294523596764\n",
      "Iteration: 1306 | disc_loss: -0.3992586135864258 | gen_loss: 0.02094222418963909\n",
      "Iteration: 1307 | disc_loss: -0.44875094294548035 | gen_loss: -0.014620321802794933\n"
     ]
    },
    {
     "name": "stderr",
     "output_type": "stream",
     "text": [
      " 27%|██▋       | 1326/5001 [00:13<00:31, 118.01it/s]"
     ]
    },
    {
     "name": "stdout",
     "output_type": "stream",
     "text": [
      "Iteration: 1308 | disc_loss: -0.36905139684677124 | gen_loss: 0.058772362768650055\n",
      "Iteration: 1309 | disc_loss: -0.4712124764919281 | gen_loss: 0.005883913487195969\n",
      "Iteration: 1310 | disc_loss: -0.34458473324775696 | gen_loss: -0.03676678612828255\n",
      "Iteration: 1311 | disc_loss: -0.5116469860076904 | gen_loss: -0.03722656890749931\n",
      "Iteration: 1312 | disc_loss: -0.3211684226989746 | gen_loss: -0.0707337036728859\n",
      "Iteration: 1313 | disc_loss: -0.4522276520729065 | gen_loss: -0.022478921338915825\n",
      "Iteration: 1314 | disc_loss: -0.42892777919769287 | gen_loss: -0.011838697828352451\n",
      "Iteration: 1315 | disc_loss: -0.30135780572891235 | gen_loss: -0.039745721966028214\n",
      "Iteration: 1316 | disc_loss: -0.45210975408554077 | gen_loss: -0.04794633388519287\n",
      "Iteration: 1317 | disc_loss: -0.4102681875228882 | gen_loss: 0.022795535624027252\n",
      "Iteration: 1318 | disc_loss: -0.4583877921104431 | gen_loss: 0.05317866429686546\n",
      "Iteration: 1319 | disc_loss: -0.47809934616088867 | gen_loss: 0.05214400216937065\n",
      "Iteration: 1320 | disc_loss: -0.47562175989151 | gen_loss: 0.053134482353925705\n",
      "Iteration: 1321 | disc_loss: -0.45157185196876526 | gen_loss: 0.005839459132403135\n",
      "Iteration: 1322 | disc_loss: -0.4368751347064972 | gen_loss: -0.007923324592411518\n",
      "Iteration: 1323 | disc_loss: -0.35194072127342224 | gen_loss: -0.08138008415699005\n",
      "Iteration: 1324 | disc_loss: -0.49487391114234924 | gen_loss: -0.03877236321568489\n",
      "Iteration: 1325 | disc_loss: -0.3485017716884613 | gen_loss: 0.031727373600006104\n",
      "Iteration: 1326 | disc_loss: -0.29739639163017273 | gen_loss: -0.048427920788526535\n",
      "Iteration: 1327 | disc_loss: -0.4577488601207733 | gen_loss: -0.00868752971291542\n",
      "Iteration: 1328 | disc_loss: -0.5051057934761047 | gen_loss: -0.009500104933977127\n",
      "Iteration: 1329 | disc_loss: -0.4165324568748474 | gen_loss: -0.030653443187475204\n",
      "Iteration: 1330 | disc_loss: -0.4216734766960144 | gen_loss: 0.008730935864150524\n",
      "Iteration: 1331 | disc_loss: -0.40769538283348083 | gen_loss: -0.043386392295360565\n"
     ]
    },
    {
     "name": "stderr",
     "output_type": "stream",
     "text": [
      " 27%|██▋       | 1350/5001 [00:13<00:33, 110.05it/s]"
     ]
    },
    {
     "name": "stdout",
     "output_type": "stream",
     "text": [
      "Iteration: 1332 | disc_loss: -0.4451224207878113 | gen_loss: 0.03798012435436249\n",
      "Iteration: 1333 | disc_loss: -0.41007089614868164 | gen_loss: 0.045636728405952454\n",
      "Iteration: 1334 | disc_loss: -0.3943931758403778 | gen_loss: 0.016116410493850708\n",
      "Iteration: 1335 | disc_loss: -0.4970482885837555 | gen_loss: -0.08977896720170975\n",
      "Iteration: 1336 | disc_loss: -0.48627394437789917 | gen_loss: -0.05608414113521576\n",
      "Iteration: 1337 | disc_loss: -0.43854814767837524 | gen_loss: 0.09211795032024384\n",
      "Iteration: 1338 | disc_loss: -0.3851308226585388 | gen_loss: 0.06227583438158035\n",
      "Iteration: 1339 | disc_loss: -0.33293798565864563 | gen_loss: 0.02656867727637291\n",
      "Iteration: 1340 | disc_loss: -0.4117248058319092 | gen_loss: 0.06705563515424728\n",
      "Iteration: 1341 | disc_loss: -0.42111238837242126 | gen_loss: -0.03345416113734245\n",
      "Iteration: 1342 | disc_loss: -0.4700474441051483 | gen_loss: 0.008786304853856564\n",
      "Iteration: 1343 | disc_loss: -0.4241141676902771 | gen_loss: -0.057287853211164474\n",
      "Iteration: 1344 | disc_loss: -0.47442626953125 | gen_loss: 0.08177298307418823\n",
      "Iteration: 1345 | disc_loss: -0.3684192895889282 | gen_loss: 0.14266711473464966\n",
      "Iteration: 1346 | disc_loss: -0.40743255615234375 | gen_loss: 0.08469775319099426\n",
      "Iteration: 1347 | disc_loss: -0.41299334168434143 | gen_loss: 0.13526782393455505\n",
      "Iteration: 1348 | disc_loss: -0.37902897596359253 | gen_loss: 0.04968676343560219\n",
      "Iteration: 1349 | disc_loss: -0.30696913599967957 | gen_loss: 0.08218416571617126\n",
      "Iteration: 1350 | disc_loss: -0.4201572835445404 | gen_loss: 0.007706210017204285\n",
      "Iteration: 1351 | disc_loss: -0.3657006323337555 | gen_loss: 0.0024216631427407265\n",
      "Iteration: 1352 | disc_loss: -0.43603602051734924 | gen_loss: 0.04026167094707489\n"
     ]
    },
    {
     "name": "stderr",
     "output_type": "stream",
     "text": [
      " 27%|██▋       | 1374/5001 [00:14<00:32, 112.83it/s]"
     ]
    },
    {
     "name": "stdout",
     "output_type": "stream",
     "text": [
      "Iteration: 1353 | disc_loss: -0.4059624671936035 | gen_loss: -0.051799315959215164\n",
      "Iteration: 1354 | disc_loss: -0.3484932780265808 | gen_loss: 0.03199443966150284\n",
      "Iteration: 1355 | disc_loss: -0.486383318901062 | gen_loss: 0.047897860407829285\n",
      "Iteration: 1356 | disc_loss: -0.48301565647125244 | gen_loss: -0.007267829030752182\n",
      "Iteration: 1357 | disc_loss: -0.39415794610977173 | gen_loss: 0.04296901822090149\n",
      "Iteration: 1358 | disc_loss: -0.4039650559425354 | gen_loss: 0.024001596495509148\n",
      "Iteration: 1359 | disc_loss: -0.35209500789642334 | gen_loss: -0.06045909598469734\n",
      "Iteration: 1360 | disc_loss: -0.4263039827346802 | gen_loss: -0.05263972282409668\n",
      "Iteration: 1361 | disc_loss: -0.4933321475982666 | gen_loss: -0.01280741486698389\n",
      "Iteration: 1362 | disc_loss: -0.38831377029418945 | gen_loss: -0.009876467287540436\n",
      "Iteration: 1363 | disc_loss: -0.4444059133529663 | gen_loss: -0.05573983117938042\n",
      "Iteration: 1364 | disc_loss: -0.4046036899089813 | gen_loss: -0.06749469041824341\n",
      "Iteration: 1365 | disc_loss: -0.4486589729785919 | gen_loss: 0.05645732209086418\n",
      "Iteration: 1366 | disc_loss: -0.43987539410591125 | gen_loss: 0.02208748459815979\n",
      "Iteration: 1367 | disc_loss: -0.4010220766067505 | gen_loss: -0.020152287557721138\n",
      "Iteration: 1368 | disc_loss: -0.4561402499675751 | gen_loss: -0.005174209829419851\n",
      "Iteration: 1369 | disc_loss: -0.4168109893798828 | gen_loss: -0.042055435478687286\n",
      "Iteration: 1370 | disc_loss: -0.37509453296661377 | gen_loss: 0.0024080201983451843\n",
      "Iteration: 1371 | disc_loss: -0.4574669897556305 | gen_loss: 0.011743955314159393\n",
      "Iteration: 1372 | disc_loss: -0.4554113447666168 | gen_loss: -0.10579893738031387\n",
      "Iteration: 1373 | disc_loss: -0.43050041794776917 | gen_loss: -0.06253925710916519\n",
      "Iteration: 1374 | disc_loss: -0.44866111874580383 | gen_loss: -0.00447674747556448\n",
      "Iteration: 1375 | disc_loss: -0.45015063881874084 | gen_loss: 0.020182477310299873\n",
      "Iteration: 1376 | disc_loss: -0.469634473323822 | gen_loss: -0.02524273842573166\n",
      "Iteration: 1377 | disc_loss: -0.41028714179992676 | gen_loss: -0.02075883559882641\n"
     ]
    },
    {
     "name": "stderr",
     "output_type": "stream",
     "text": [
      " 28%|██▊       | 1398/5001 [00:14<00:31, 114.04it/s]"
     ]
    },
    {
     "name": "stdout",
     "output_type": "stream",
     "text": [
      "Iteration: 1378 | disc_loss: -0.5022616982460022 | gen_loss: -0.0493818074464798\n",
      "Iteration: 1379 | disc_loss: -0.49162787199020386 | gen_loss: -0.06764192134141922\n",
      "Iteration: 1380 | disc_loss: -0.525350034236908 | gen_loss: -0.05408843979239464\n",
      "Iteration: 1381 | disc_loss: -0.45557042956352234 | gen_loss: -0.10421598702669144\n",
      "Iteration: 1382 | disc_loss: -0.40187591314315796 | gen_loss: 0.012271392159163952\n",
      "Iteration: 1383 | disc_loss: -0.45313823223114014 | gen_loss: 0.01853858307003975\n",
      "Iteration: 1384 | disc_loss: -0.4119507670402527 | gen_loss: -0.057224176824092865\n",
      "Iteration: 1385 | disc_loss: -0.45152121782302856 | gen_loss: -0.026595380157232285\n",
      "Iteration: 1386 | disc_loss: -0.4765738248825073 | gen_loss: 0.041543617844581604\n",
      "Iteration: 1387 | disc_loss: -0.4691656529903412 | gen_loss: -0.002421541139483452\n",
      "Iteration: 1388 | disc_loss: -0.49251478910446167 | gen_loss: -0.15389704704284668\n",
      "Iteration: 1389 | disc_loss: -0.43458521366119385 | gen_loss: -0.12033356726169586\n",
      "Iteration: 1390 | disc_loss: -0.46951910853385925 | gen_loss: -0.10486291348934174\n",
      "Iteration: 1391 | disc_loss: -0.2968638837337494 | gen_loss: -0.040588364005088806\n",
      "Iteration: 1392 | disc_loss: -0.3539765775203705 | gen_loss: -0.023911958560347557\n",
      "Iteration: 1393 | disc_loss: -0.458114355802536 | gen_loss: 0.010164260864257812\n",
      "Iteration: 1394 | disc_loss: -0.39207780361175537 | gen_loss: 0.0032925717532634735\n",
      "Iteration: 1395 | disc_loss: -0.46155819296836853 | gen_loss: -0.04395461454987526\n",
      "Iteration: 1396 | disc_loss: -0.3176100254058838 | gen_loss: -0.03391730785369873\n",
      "Iteration: 1397 | disc_loss: -0.28782719373703003 | gen_loss: 0.01912936568260193\n",
      "Iteration: 1398 | disc_loss: -0.4780901372432709 | gen_loss: 0.019778862595558167\n",
      "Iteration: 1399 | disc_loss: -0.43690401315689087 | gen_loss: -0.02097851037979126\n",
      "Iteration: 1400 | disc_loss: -0.4378087520599365 | gen_loss: -0.04291560873389244\n"
     ]
    },
    {
     "name": "stderr",
     "output_type": "stream",
     "text": [
      " 28%|██▊       | 1421/5001 [00:14<00:34, 104.34it/s]"
     ]
    },
    {
     "name": "stdout",
     "output_type": "stream",
     "text": [
      "Iteration: 1401 | disc_loss: -0.4521735906600952 | gen_loss: -0.015339702367782593\n",
      "Iteration: 1402 | disc_loss: -0.4032425582408905 | gen_loss: -0.023696545511484146\n",
      "Iteration: 1403 | disc_loss: -0.46733230352401733 | gen_loss: -0.046903375536203384\n",
      "Iteration: 1404 | disc_loss: -0.46145039796829224 | gen_loss: -0.058350346982479095\n",
      "Iteration: 1405 | disc_loss: -0.4990149438381195 | gen_loss: -0.05380353704094887\n",
      "Iteration: 1406 | disc_loss: -0.4822137653827667 | gen_loss: -0.009805028326809406\n",
      "Iteration: 1407 | disc_loss: -0.31407490372657776 | gen_loss: 0.016397956758737564\n",
      "Iteration: 1408 | disc_loss: -0.41201525926589966 | gen_loss: 0.07222983241081238\n",
      "Iteration: 1409 | disc_loss: -0.33817869424819946 | gen_loss: 0.04864341393113136\n",
      "Iteration: 1410 | disc_loss: -0.45793014764785767 | gen_loss: -0.0417647510766983\n",
      "Iteration: 1411 | disc_loss: -0.4707757532596588 | gen_loss: -0.03306160122156143\n",
      "Iteration: 1412 | disc_loss: -0.44482749700546265 | gen_loss: -0.018156856298446655\n",
      "Iteration: 1413 | disc_loss: -0.4895937740802765 | gen_loss: -0.04330744594335556\n",
      "Iteration: 1414 | disc_loss: -0.3958168923854828 | gen_loss: -0.043077316135168076\n",
      "Iteration: 1415 | disc_loss: -0.43694883584976196 | gen_loss: -0.06097522750496864\n",
      "Iteration: 1416 | disc_loss: -0.48950904607772827 | gen_loss: -0.010470010340213776\n",
      "Iteration: 1417 | disc_loss: -0.45134273171424866 | gen_loss: -0.001470380462706089\n",
      "Iteration: 1418 | disc_loss: -0.4887905716896057 | gen_loss: -0.027135267853736877\n",
      "Iteration: 1419 | disc_loss: -0.40251031517982483 | gen_loss: -0.01179790124297142\n",
      "Iteration: 1420 | disc_loss: -0.4643835723400116 | gen_loss: -0.0030082836747169495\n",
      "Iteration: 1421 | disc_loss: -0.4190329313278198 | gen_loss: -0.043327316641807556\n"
     ]
    },
    {
     "name": "stderr",
     "output_type": "stream",
     "text": [
      " 29%|██▉       | 1444/5001 [00:14<00:33, 106.50it/s]"
     ]
    },
    {
     "name": "stdout",
     "output_type": "stream",
     "text": [
      "Iteration: 1422 | disc_loss: -0.48367002606391907 | gen_loss: -0.05290858447551727\n",
      "Iteration: 1423 | disc_loss: -0.5107587575912476 | gen_loss: -0.08574601262807846\n",
      "Iteration: 1424 | disc_loss: -0.38566702604293823 | gen_loss: -0.007078957743942738\n",
      "Iteration: 1425 | disc_loss: -0.3699718415737152 | gen_loss: 0.003470197319984436\n",
      "Iteration: 1426 | disc_loss: -0.3870849311351776 | gen_loss: 0.050469569861888885\n",
      "Iteration: 1427 | disc_loss: -0.488358736038208 | gen_loss: 0.036638058722019196\n",
      "Iteration: 1428 | disc_loss: -0.4159747362136841 | gen_loss: 0.01975249871611595\n",
      "Iteration: 1429 | disc_loss: -0.46210306882858276 | gen_loss: 0.007294787093997002\n",
      "Iteration: 1430 | disc_loss: -0.47496819496154785 | gen_loss: -0.05817478150129318\n",
      "Iteration: 1431 | disc_loss: -0.4351319372653961 | gen_loss: -0.02075391821563244\n",
      "Iteration: 1432 | disc_loss: -0.4447867274284363 | gen_loss: -0.04018281400203705\n",
      "Iteration: 1433 | disc_loss: -0.5123140811920166 | gen_loss: -0.056121453642845154\n",
      "Iteration: 1434 | disc_loss: -0.40808960795402527 | gen_loss: -0.062032461166381836\n",
      "Iteration: 1435 | disc_loss: -0.42218533158302307 | gen_loss: -0.0016157967038452625\n",
      "Iteration: 1436 | disc_loss: -0.36867883801460266 | gen_loss: -0.017644446343183517\n",
      "Iteration: 1437 | disc_loss: -0.42855823040008545 | gen_loss: -0.0006088782101869583\n",
      "Iteration: 1438 | disc_loss: -0.409915953874588 | gen_loss: -0.03236139565706253\n",
      "Iteration: 1439 | disc_loss: -0.4450446665287018 | gen_loss: 0.0005679030437022448\n",
      "Iteration: 1440 | disc_loss: -0.36358046531677246 | gen_loss: -0.13823877274990082\n",
      "Iteration: 1441 | disc_loss: -0.3544662892818451 | gen_loss: -0.06818196177482605\n",
      "Iteration: 1442 | disc_loss: -0.45134663581848145 | gen_loss: -0.10414916276931763\n",
      "Iteration: 1443 | disc_loss: -0.4192664325237274 | gen_loss: -0.02452847734093666\n"
     ]
    },
    {
     "name": "stderr",
     "output_type": "stream",
     "text": [
      " 29%|██▉       | 1455/5001 [00:14<00:35, 100.58it/s]"
     ]
    },
    {
     "name": "stdout",
     "output_type": "stream",
     "text": [
      "Iteration: 1444 | disc_loss: -0.4628959596157074 | gen_loss: -0.029392369091510773\n",
      "Iteration: 1445 | disc_loss: -0.001951664686203003 | gen_loss: -0.005638589151203632\n",
      "Iteration: 1446 | disc_loss: -0.5183325409889221 | gen_loss: 0.0060264673084020615\n",
      "Iteration: 1447 | disc_loss: -0.45688602328300476 | gen_loss: -0.04297645762562752\n",
      "Iteration: 1448 | disc_loss: -0.41910701990127563 | gen_loss: 0.0017116181552410126\n",
      "Iteration: 1449 | disc_loss: -0.4500958025455475 | gen_loss: -0.0064663658849895\n",
      "Iteration: 1450 | disc_loss: -0.4458273947238922 | gen_loss: 0.003206332214176655\n",
      "Iteration: 1451 | disc_loss: -0.46006089448928833 | gen_loss: 0.021130669862031937\n",
      "Iteration: 1452 | disc_loss: -0.46224501729011536 | gen_loss: 0.029161177575588226\n",
      "Iteration: 1453 | disc_loss: -0.4709780812263489 | gen_loss: -0.011426305398344994\n",
      "Iteration: 1454 | disc_loss: -0.4355405569076538 | gen_loss: 0.02211555652320385\n",
      "Iteration: 1455 | disc_loss: -0.48308035731315613 | gen_loss: -0.006267485208809376\n",
      "Iteration: 1456 | disc_loss: -0.40142571926116943 | gen_loss: -0.04827046021819115\n",
      "Iteration: 1457 | disc_loss: -0.4665013253688812 | gen_loss: 0.03659628704190254\n",
      "Iteration: 1458 | disc_loss: -0.35360878705978394 | gen_loss: 0.016977015882730484\n",
      "Iteration: 1459 | disc_loss: -0.443416029214859 | gen_loss: 0.0194853525608778\n",
      "Iteration: 1460 | disc_loss: -0.537179708480835 | gen_loss: 0.0793440192937851\n",
      "Iteration: 1461 | disc_loss: -0.35914304852485657 | gen_loss: 0.1023339331150055\n",
      "Iteration: 1462 | disc_loss: -0.5057435035705566 | gen_loss: -0.0203752052038908\n",
      "Iteration: 1463 | disc_loss: -0.11110296845436096 | gen_loss: -0.002979814540594816\n",
      "Iteration: 1464 | disc_loss: -0.34405842423439026 | gen_loss: -0.03625950589776039\n",
      "Iteration: 1465 | disc_loss: -0.4484003186225891 | gen_loss: 0.004575781524181366\n",
      "Iteration: 1466 | disc_loss: -0.294579416513443 | gen_loss: -0.0028442945331335068\n"
     ]
    },
    {
     "name": "stderr",
     "output_type": "stream",
     "text": [
      " 30%|██▉       | 1480/5001 [00:15<00:31, 110.52it/s]"
     ]
    },
    {
     "name": "stdout",
     "output_type": "stream",
     "text": [
      "Iteration: 1467 | disc_loss: -0.2794538736343384 | gen_loss: -0.005365157499909401\n",
      "Iteration: 1468 | disc_loss: -0.4527049660682678 | gen_loss: -0.04890429973602295\n",
      "Iteration: 1469 | disc_loss: -0.39124491810798645 | gen_loss: -0.07519585639238358\n",
      "Iteration: 1470 | disc_loss: -0.4538721740245819 | gen_loss: -0.0917331725358963\n",
      "Iteration: 1471 | disc_loss: -0.49942076206207275 | gen_loss: -0.029487265273928642\n",
      "Iteration: 1472 | disc_loss: -0.41689589619636536 | gen_loss: -0.023184463381767273\n",
      "Iteration: 1473 | disc_loss: -0.4647176265716553 | gen_loss: -0.04716099798679352\n",
      "Iteration: 1474 | disc_loss: -0.3937763273715973 | gen_loss: -0.01835664175450802\n",
      "Iteration: 1475 | disc_loss: -0.37130993604660034 | gen_loss: -0.09278947114944458\n",
      "Iteration: 1476 | disc_loss: -0.43086013197898865 | gen_loss: 0.00846068374812603\n",
      "Iteration: 1477 | disc_loss: -0.47911596298217773 | gen_loss: -0.011513208970427513\n",
      "Iteration: 1478 | disc_loss: -0.41717323660850525 | gen_loss: -0.09692271798849106\n",
      "Iteration: 1479 | disc_loss: -0.31045255064964294 | gen_loss: -0.04572314769029617\n",
      "Iteration: 1480 | disc_loss: -0.4447699189186096 | gen_loss: -0.018120095133781433\n",
      "Iteration: 1481 | disc_loss: -0.4434329569339752 | gen_loss: 0.011104699224233627\n",
      "Iteration: 1482 | disc_loss: -0.4617573320865631 | gen_loss: -0.1131061315536499\n",
      "Iteration: 1483 | disc_loss: -0.41494864225387573 | gen_loss: -0.04077501967549324\n",
      "Iteration: 1484 | disc_loss: -0.40411055088043213 | gen_loss: -0.07352887839078903\n",
      "Iteration: 1485 | disc_loss: -0.4727873206138611 | gen_loss: -0.020874114707112312\n",
      "Iteration: 1486 | disc_loss: -0.3377324044704437 | gen_loss: -0.21414029598236084\n",
      "Iteration: 1487 | disc_loss: -0.42868295311927795 | gen_loss: -0.06992831081151962\n",
      "Iteration: 1488 | disc_loss: -0.4940358102321625 | gen_loss: -0.12025942653417587\n"
     ]
    },
    {
     "name": "stderr",
     "output_type": "stream",
     "text": [
      " 30%|███       | 1503/5001 [00:15<00:33, 105.57it/s]"
     ]
    },
    {
     "name": "stdout",
     "output_type": "stream",
     "text": [
      "Iteration: 1489 | disc_loss: -0.4587785303592682 | gen_loss: -0.07066991925239563\n",
      "Iteration: 1490 | disc_loss: -0.2883707880973816 | gen_loss: -0.08230733126401901\n",
      "Iteration: 1491 | disc_loss: -0.3987760841846466 | gen_loss: 0.04104248806834221\n",
      "Iteration: 1492 | disc_loss: -0.4424383342266083 | gen_loss: -0.0883309543132782\n",
      "Iteration: 1493 | disc_loss: -0.45956823229789734 | gen_loss: -0.07887156307697296\n",
      "Iteration: 1494 | disc_loss: -0.3307999074459076 | gen_loss: -0.010920306667685509\n",
      "Iteration: 1495 | disc_loss: -0.3995419442653656 | gen_loss: -0.0663682147860527\n",
      "Iteration: 1496 | disc_loss: -0.45870909094810486 | gen_loss: -0.03985511511564255\n",
      "Iteration: 1497 | disc_loss: -0.48946937918663025 | gen_loss: 0.017015209421515465\n",
      "Iteration: 1498 | disc_loss: -0.486626535654068 | gen_loss: -0.039778515696525574\n",
      "Iteration: 1499 | disc_loss: -0.3988168239593506 | gen_loss: 0.026344768702983856\n",
      "Iteration: 1500 | disc_loss: -0.43114417791366577 | gen_loss: -0.013671761378645897\n",
      "Iteration: 1501 | disc_loss: -0.3373866677284241 | gen_loss: -0.03145039454102516\n",
      "Iteration: 1502 | disc_loss: -0.38991233706474304 | gen_loss: 0.03638637065887451\n",
      "Iteration: 1503 | disc_loss: -0.43484145402908325 | gen_loss: 0.03263150528073311\n",
      "Iteration: 1504 | disc_loss: -0.37189704179763794 | gen_loss: -0.014974183402955532\n",
      "Iteration: 1505 | disc_loss: -0.43570300936698914 | gen_loss: 0.012450773268938065\n",
      "Iteration: 1506 | disc_loss: -0.44568386673927307 | gen_loss: -0.039638228714466095\n",
      "Iteration: 1507 | disc_loss: -0.4850710332393646 | gen_loss: -0.03523750603199005\n",
      "Iteration: 1508 | disc_loss: -0.27733445167541504 | gen_loss: -0.04695780202746391\n",
      "Iteration: 1509 | disc_loss: -0.43074411153793335 | gen_loss: 0.040594883263111115\n"
     ]
    },
    {
     "name": "stderr",
     "output_type": "stream",
     "text": [
      " 30%|███       | 1525/5001 [00:15<00:32, 105.58it/s]"
     ]
    },
    {
     "name": "stdout",
     "output_type": "stream",
     "text": [
      "Iteration: 1510 | disc_loss: -0.4263059198856354 | gen_loss: -0.08674062788486481\n",
      "Iteration: 1511 | disc_loss: -0.4341793954372406 | gen_loss: -0.12732411921024323\n",
      "Iteration: 1512 | disc_loss: -0.46611714363098145 | gen_loss: -0.022613568231463432\n",
      "Iteration: 1513 | disc_loss: -0.4251886308193207 | gen_loss: -0.10455615073442459\n",
      "Iteration: 1514 | disc_loss: -0.27268916368484497 | gen_loss: -0.055689889937639236\n",
      "Iteration: 1515 | disc_loss: -0.46117082238197327 | gen_loss: -0.02214731089770794\n",
      "Iteration: 1516 | disc_loss: -0.4058172404766083 | gen_loss: 0.007301998324692249\n",
      "Iteration: 1517 | disc_loss: -0.2676319479942322 | gen_loss: -0.008685625158250332\n",
      "Iteration: 1518 | disc_loss: -0.4372023940086365 | gen_loss: -0.09635334461927414\n",
      "Iteration: 1519 | disc_loss: -0.4345220923423767 | gen_loss: -0.013746600598096848\n",
      "Iteration: 1520 | disc_loss: -0.4051200747489929 | gen_loss: -0.05963904410600662\n",
      "Iteration: 1521 | disc_loss: -0.429717093706131 | gen_loss: -0.05000826343894005\n",
      "Iteration: 1522 | disc_loss: -0.48039671778678894 | gen_loss: 0.041131824254989624\n",
      "Iteration: 1523 | disc_loss: -0.3749006390571594 | gen_loss: 0.08516455441713333\n",
      "Iteration: 1524 | disc_loss: -0.45643630623817444 | gen_loss: 0.0005238233134150505\n",
      "Iteration: 1525 | disc_loss: -0.4301601052284241 | gen_loss: -0.025430772453546524\n",
      "Iteration: 1526 | disc_loss: -0.4340316951274872 | gen_loss: -0.05552159994840622\n",
      "Iteration: 1527 | disc_loss: -0.3294987678527832 | gen_loss: 0.00807100534439087\n",
      "Iteration: 1528 | disc_loss: -0.34813210368156433 | gen_loss: 0.02508634701371193\n",
      "Iteration: 1529 | disc_loss: -0.41559043526649475 | gen_loss: -0.04510567709803581\n",
      "Iteration: 1530 | disc_loss: -0.4680139720439911 | gen_loss: -0.00939580425620079\n",
      "Iteration: 1531 | disc_loss: -0.4410416781902313 | gen_loss: -0.04629667103290558\n",
      "Iteration: 1532 | disc_loss: -0.46842876076698303 | gen_loss: -0.05581359565258026\n"
     ]
    },
    {
     "name": "stderr",
     "output_type": "stream",
     "text": [
      " 31%|███       | 1549/5001 [00:15<00:31, 110.25it/s]"
     ]
    },
    {
     "name": "stdout",
     "output_type": "stream",
     "text": [
      "Iteration: 1533 | disc_loss: -0.433320552110672 | gen_loss: -0.061188872903585434\n",
      "Iteration: 1534 | disc_loss: -0.37183770537376404 | gen_loss: -0.0506427064538002\n",
      "Iteration: 1535 | disc_loss: -0.49241673946380615 | gen_loss: 0.030871320515871048\n",
      "Iteration: 1536 | disc_loss: -0.3288459777832031 | gen_loss: -0.009004936553537846\n",
      "Iteration: 1537 | disc_loss: -0.42206329107284546 | gen_loss: -0.05957290530204773\n",
      "Iteration: 1538 | disc_loss: -0.46399369835853577 | gen_loss: -0.07750584185123444\n",
      "Iteration: 1539 | disc_loss: -0.4137834310531616 | gen_loss: 0.0024980520829558372\n",
      "Iteration: 1540 | disc_loss: -0.4077131748199463 | gen_loss: -0.00033627357333898544\n",
      "Iteration: 1541 | disc_loss: -0.4334477484226227 | gen_loss: -0.034957874566316605\n",
      "Iteration: 1542 | disc_loss: -0.4397118389606476 | gen_loss: -0.005756521597504616\n",
      "Iteration: 1543 | disc_loss: -0.37506362795829773 | gen_loss: -0.054383497685194016\n",
      "Iteration: 1544 | disc_loss: -0.384880006313324 | gen_loss: -0.062396340072155\n",
      "Iteration: 1545 | disc_loss: -0.42099687457084656 | gen_loss: -0.14937971532344818\n",
      "Iteration: 1546 | disc_loss: -0.3737412095069885 | gen_loss: -0.10577304661273956\n",
      "Iteration: 1547 | disc_loss: -0.34250423312187195 | gen_loss: 0.003997656516730785\n",
      "Iteration: 1548 | disc_loss: -0.30809736251831055 | gen_loss: -0.08795659244060516\n",
      "Iteration: 1549 | disc_loss: -0.416241317987442 | gen_loss: -0.13256052136421204\n",
      "Iteration: 1550 | disc_loss: -0.46258386969566345 | gen_loss: -0.11303606629371643\n",
      "Iteration: 1551 | disc_loss: -0.43107956647872925 | gen_loss: 0.015022415667772293\n",
      "Iteration: 1552 | disc_loss: -0.3068462610244751 | gen_loss: -0.00031415466219186783\n",
      "Iteration: 1553 | disc_loss: -0.4200389087200165 | gen_loss: -0.06089179590344429\n",
      "Iteration: 1554 | disc_loss: -0.4149531424045563 | gen_loss: -0.05505111441016197\n"
     ]
    },
    {
     "name": "stderr",
     "output_type": "stream",
     "text": [
      " 31%|███▏      | 1572/5001 [00:15<00:32, 105.12it/s]"
     ]
    },
    {
     "name": "stdout",
     "output_type": "stream",
     "text": [
      "Iteration: 1555 | disc_loss: -0.3141615688800812 | gen_loss: -0.06897001713514328\n",
      "Iteration: 1556 | disc_loss: -0.43332862854003906 | gen_loss: -0.03668161854147911\n",
      "Iteration: 1557 | disc_loss: -0.3145003318786621 | gen_loss: -0.04369926452636719\n",
      "Iteration: 1558 | disc_loss: -0.4406527280807495 | gen_loss: 0.020461145788431168\n",
      "Iteration: 1559 | disc_loss: -0.34288784861564636 | gen_loss: -0.05505676567554474\n",
      "Iteration: 1560 | disc_loss: -0.3087804615497589 | gen_loss: 0.015685459598898888\n",
      "Iteration: 1561 | disc_loss: -0.3919602632522583 | gen_loss: 0.04234743490815163\n",
      "Iteration: 1562 | disc_loss: -0.283169150352478 | gen_loss: 0.032041676342487335\n",
      "Iteration: 1563 | disc_loss: -0.4117603003978729 | gen_loss: -0.005272886715829372\n",
      "Iteration: 1564 | disc_loss: -0.42602086067199707 | gen_loss: -0.019038468599319458\n",
      "Iteration: 1565 | disc_loss: -0.437748521566391 | gen_loss: -0.012542426586151123\n",
      "Iteration: 1566 | disc_loss: -0.4242226183414459 | gen_loss: -0.04053531959652901\n",
      "Iteration: 1567 | disc_loss: -0.42956557869911194 | gen_loss: -0.061065301299095154\n",
      "Iteration: 1568 | disc_loss: -0.3786410689353943 | gen_loss: -0.03420913964509964\n",
      "Iteration: 1569 | disc_loss: -0.3819180727005005 | gen_loss: -0.0457150898873806\n",
      "Iteration: 1570 | disc_loss: -0.4649164378643036 | gen_loss: -0.03351232409477234\n",
      "Iteration: 1571 | disc_loss: -0.37935352325439453 | gen_loss: 0.030967988073825836\n",
      "Iteration: 1572 | disc_loss: -0.3522222638130188 | gen_loss: -0.043990373611450195\n",
      "Iteration: 1573 | disc_loss: -0.20260529220104218 | gen_loss: -0.06511008739471436\n",
      "Iteration: 1574 | disc_loss: -0.5003500580787659 | gen_loss: -0.07075751572847366\n",
      "Iteration: 1575 | disc_loss: -0.4686395525932312 | gen_loss: -0.022757340222597122\n"
     ]
    },
    {
     "name": "stderr",
     "output_type": "stream",
     "text": [
      " 32%|███▏      | 1596/5001 [00:16<00:30, 110.73it/s]"
     ]
    },
    {
     "name": "stdout",
     "output_type": "stream",
     "text": [
      "Iteration: 1576 | disc_loss: -0.5193185210227966 | gen_loss: -0.05407239496707916\n",
      "Iteration: 1577 | disc_loss: -0.41992709040641785 | gen_loss: -0.08990438282489777\n",
      "Iteration: 1578 | disc_loss: -0.3413054049015045 | gen_loss: -0.017386583611369133\n",
      "Iteration: 1579 | disc_loss: -0.4204125702381134 | gen_loss: -0.05281975865364075\n",
      "Iteration: 1580 | disc_loss: -0.4169754683971405 | gen_loss: -0.07086238265037537\n",
      "Iteration: 1581 | disc_loss: -0.41857314109802246 | gen_loss: 0.010139457881450653\n",
      "Iteration: 1582 | disc_loss: -0.40343040227890015 | gen_loss: -0.039631977677345276\n",
      "Iteration: 1583 | disc_loss: -0.4259040951728821 | gen_loss: -0.13134314119815826\n",
      "Iteration: 1584 | disc_loss: -0.4250946640968323 | gen_loss: -0.012625235132873058\n",
      "Iteration: 1585 | disc_loss: -0.4258192479610443 | gen_loss: -0.10010550916194916\n",
      "Iteration: 1586 | disc_loss: -0.38997361063957214 | gen_loss: -0.02595503255724907\n",
      "Iteration: 1587 | disc_loss: -0.4610123932361603 | gen_loss: -0.017233585938811302\n",
      "Iteration: 1588 | disc_loss: -0.3081110715866089 | gen_loss: -0.07326683402061462\n",
      "Iteration: 1589 | disc_loss: -0.44376108050346375 | gen_loss: -0.0059613753110170364\n",
      "Iteration: 1590 | disc_loss: -0.37164396047592163 | gen_loss: 0.017705408856272697\n",
      "Iteration: 1591 | disc_loss: -0.3380582928657532 | gen_loss: -0.036890722811222076\n",
      "Iteration: 1592 | disc_loss: -0.4812493920326233 | gen_loss: -0.06978064775466919\n",
      "Iteration: 1593 | disc_loss: -0.3955974578857422 | gen_loss: 0.010392757132649422\n",
      "Iteration: 1594 | disc_loss: -0.39416635036468506 | gen_loss: -0.0678333044052124\n",
      "Iteration: 1595 | disc_loss: -0.5031640529632568 | gen_loss: 0.05752003937959671\n",
      "Iteration: 1596 | disc_loss: -0.3919893503189087 | gen_loss: -0.041587356477975845\n",
      "Iteration: 1597 | disc_loss: -0.39489808678627014 | gen_loss: -0.014106309972703457\n",
      "Iteration: 1598 | disc_loss: -0.4592163860797882 | gen_loss: -0.01635788381099701\n",
      "Iteration: 1599 | disc_loss: -0.38846269249916077 | gen_loss: -0.07386250048875809\n",
      "Iteration: 1600 | disc_loss: -0.3621266782283783 | gen_loss: -0.1000596135854721"
     ]
    },
    {
     "name": "stderr",
     "output_type": "stream",
     "text": [
      " 32%|███▏      | 1619/5001 [00:16<00:32, 104.64it/s]"
     ]
    },
    {
     "name": "stdout",
     "output_type": "stream",
     "text": [
      "\n",
      "Iteration: 1601 | disc_loss: -0.3941693902015686 | gen_loss: -0.005271449685096741\n",
      "Iteration: 1602 | disc_loss: -0.3925153613090515 | gen_loss: -0.060896292328834534\n",
      "Iteration: 1603 | disc_loss: -0.44720694422721863 | gen_loss: -0.03718019649386406\n",
      "Iteration: 1604 | disc_loss: -0.44281673431396484 | gen_loss: 0.03658335283398628\n",
      "Iteration: 1605 | disc_loss: -0.42038869857788086 | gen_loss: -0.016118885949254036\n",
      "Iteration: 1606 | disc_loss: -0.3854888081550598 | gen_loss: -0.015716087073087692\n",
      "Iteration: 1607 | disc_loss: -0.40602895617485046 | gen_loss: 0.037781309336423874\n",
      "Iteration: 1608 | disc_loss: -0.42680585384368896 | gen_loss: 0.0015644468367099762\n",
      "Iteration: 1609 | disc_loss: -0.39413759112358093 | gen_loss: -0.002785375341773033\n",
      "Iteration: 1610 | disc_loss: -0.4419627785682678 | gen_loss: 0.032169781625270844\n",
      "Iteration: 1611 | disc_loss: -0.41682079434394836 | gen_loss: -0.02260744385421276\n",
      "Iteration: 1612 | disc_loss: -0.4567891061306 | gen_loss: -0.0741463154554367\n",
      "Iteration: 1613 | disc_loss: -0.38228487968444824 | gen_loss: -0.07041323184967041\n",
      "Iteration: 1614 | disc_loss: -0.44551748037338257 | gen_loss: -0.0059013101272284985\n",
      "Iteration: 1615 | disc_loss: -0.46946871280670166 | gen_loss: -0.0028146961703896523\n",
      "Iteration: 1616 | disc_loss: -0.4038538336753845 | gen_loss: -0.07224276661872864\n",
      "Iteration: 1617 | disc_loss: -0.47507187724113464 | gen_loss: -0.07844235748052597\n",
      "Iteration: 1618 | disc_loss: -0.4178065061569214 | gen_loss: -0.03284231200814247\n",
      "Iteration: 1619 | disc_loss: -0.4234699606895447 | gen_loss: 0.022492719814181328\n"
     ]
    },
    {
     "name": "stderr",
     "output_type": "stream",
     "text": [
      " 33%|███▎      | 1642/5001 [00:16<00:31, 107.48it/s]"
     ]
    },
    {
     "name": "stdout",
     "output_type": "stream",
     "text": [
      "Iteration: 1620 | disc_loss: -0.39847177267074585 | gen_loss: 0.007109968923032284\n",
      "Iteration: 1621 | disc_loss: -0.40004390478134155 | gen_loss: -0.023636074736714363\n",
      "Iteration: 1622 | disc_loss: -0.42192715406417847 | gen_loss: -0.030012154951691628\n",
      "Iteration: 1623 | disc_loss: -0.2825811505317688 | gen_loss: -0.039645761251449585\n",
      "Iteration: 1624 | disc_loss: -0.4173043966293335 | gen_loss: -0.10822561383247375\n",
      "Iteration: 1625 | disc_loss: -0.43713611364364624 | gen_loss: -0.040574394166469574\n",
      "Iteration: 1626 | disc_loss: -0.4435708522796631 | gen_loss: -0.061775196343660355\n",
      "Iteration: 1627 | disc_loss: -0.40224525332450867 | gen_loss: -0.10161074995994568\n",
      "Iteration: 1628 | disc_loss: -0.3185120224952698 | gen_loss: -0.017092064023017883\n",
      "Iteration: 1629 | disc_loss: -0.4621608257293701 | gen_loss: -0.0017106933519244194\n",
      "Iteration: 1630 | disc_loss: -0.3822280764579773 | gen_loss: 0.022769981995224953\n",
      "Iteration: 1631 | disc_loss: -0.21595880389213562 | gen_loss: 0.05596097931265831\n",
      "Iteration: 1632 | disc_loss: -0.26486730575561523 | gen_loss: 0.026713315397500992\n",
      "Iteration: 1633 | disc_loss: -0.46942850947380066 | gen_loss: -0.09380485117435455\n",
      "Iteration: 1634 | disc_loss: -0.32373932003974915 | gen_loss: -0.04656410962343216\n",
      "Iteration: 1635 | disc_loss: -0.44170576333999634 | gen_loss: -0.017483510076999664\n",
      "Iteration: 1636 | disc_loss: -0.4062651991844177 | gen_loss: -0.05679146945476532\n",
      "Iteration: 1637 | disc_loss: -0.4710775315761566 | gen_loss: 0.04246481508016586\n",
      "Iteration: 1638 | disc_loss: -0.39617234468460083 | gen_loss: 0.0064024413004517555\n",
      "Iteration: 1639 | disc_loss: -0.414603590965271 | gen_loss: 0.02034100517630577\n",
      "Iteration: 1640 | disc_loss: -0.45969444513320923 | gen_loss: 0.0009331759065389633\n",
      "Iteration: 1641 | disc_loss: -0.5054779648780823 | gen_loss: -0.047921355813741684\n",
      "Iteration: 1642 | disc_loss: -0.421872615814209 | gen_loss: 0.00771208293735981\n"
     ]
    },
    {
     "name": "stderr",
     "output_type": "stream",
     "text": [
      " 33%|███▎      | 1655/5001 [00:16<00:29, 113.09it/s]"
     ]
    },
    {
     "name": "stdout",
     "output_type": "stream",
     "text": [
      "Iteration: 1643 | disc_loss: -0.39063215255737305 | gen_loss: -0.055998679250478745\n",
      "Iteration: 1644 | disc_loss: -0.5085488557815552 | gen_loss: -0.07018700242042542\n",
      "Iteration: 1645 | disc_loss: -0.42225685715675354 | gen_loss: -0.10549037158489227\n",
      "Iteration: 1646 | disc_loss: -0.3771473169326782 | gen_loss: 0.011585992760956287\n",
      "Iteration: 1647 | disc_loss: -0.37574097514152527 | gen_loss: 0.016964644193649292\n",
      "Iteration: 1648 | disc_loss: -0.3426835834980011 | gen_loss: -0.029131345450878143\n",
      "Iteration: 1649 | disc_loss: -0.4338819086551666 | gen_loss: -0.06156591325998306\n",
      "Iteration: 1650 | disc_loss: -0.40979355573654175 | gen_loss: -0.10108257830142975\n",
      "Iteration: 1651 | disc_loss: -0.40938085317611694 | gen_loss: -0.05667274445295334\n",
      "Iteration: 1652 | disc_loss: -0.4440014362335205 | gen_loss: -0.13264626264572144\n",
      "Iteration: 1653 | disc_loss: -0.4838058054447174 | gen_loss: -0.10364391654729843\n",
      "Iteration: 1654 | disc_loss: -0.48339876532554626 | gen_loss: -0.15507245063781738\n",
      "Iteration: 1655 | disc_loss: -0.42454639077186584 | gen_loss: -0.11848188191652298\n",
      "Iteration: 1656 | disc_loss: -0.45161789655685425 | gen_loss: 0.04116702079772949\n",
      "Iteration: 1657 | disc_loss: -0.41271552443504333 | gen_loss: 1.3485085219144821e-05\n",
      "Iteration: 1658 | disc_loss: -0.4177374243736267 | gen_loss: -0.0058472780510783195\n",
      "Iteration: 1659 | disc_loss: -0.3672798275947571 | gen_loss: -0.069634810090065\n",
      "Iteration: 1660 | disc_loss: -0.40725234150886536 | gen_loss: -0.044274959713220596\n",
      "Iteration: 1661 | disc_loss: -0.3364068269729614 | gen_loss: -0.0009080320596694946\n",
      "Iteration: 1662 | disc_loss: -0.43882861733436584 | gen_loss: -0.020853232592344284\n",
      "Iteration: 1663 | disc_loss: -0.4297422766685486 | gen_loss: 0.029569588601589203\n",
      "Iteration: 1664 | disc_loss: -0.36026230454444885 | gen_loss: -0.010850117541849613\n",
      "Iteration: 1665 | disc_loss: -0.45647671818733215 | gen_loss: -0.018132831901311874\n",
      "Iteration: 1666 | disc_loss: -0.44172340631484985 | gen_loss: -0.055860765278339386\n"
     ]
    },
    {
     "name": "stderr",
     "output_type": "stream",
     "text": [
      " 34%|███▎      | 1679/5001 [00:16<00:29, 112.53it/s]"
     ]
    },
    {
     "name": "stdout",
     "output_type": "stream",
     "text": [
      "Iteration: 1667 | disc_loss: -0.37254926562309265 | gen_loss: -0.08695328235626221\n",
      "Iteration: 1668 | disc_loss: -0.48783037066459656 | gen_loss: -0.053184594959020615\n",
      "Iteration: 1669 | disc_loss: -0.41246989369392395 | gen_loss: -0.036190301179885864\n",
      "Iteration: 1670 | disc_loss: -0.42786523699760437 | gen_loss: 0.03825897350907326\n",
      "Iteration: 1671 | disc_loss: -0.44029611349105835 | gen_loss: -0.01925722509622574\n",
      "Iteration: 1672 | disc_loss: -0.4260684549808502 | gen_loss: -0.11493393778800964\n",
      "Iteration: 1673 | disc_loss: -0.3307862877845764 | gen_loss: -0.015379507094621658\n",
      "Iteration: 1674 | disc_loss: -0.46098792552948 | gen_loss: -0.11836594343185425\n",
      "Iteration: 1675 | disc_loss: -0.39750051498413086 | gen_loss: -0.09351985156536102\n",
      "Iteration: 1676 | disc_loss: -0.3855554163455963 | gen_loss: -0.05636493116617203\n",
      "Iteration: 1677 | disc_loss: -0.4400825500488281 | gen_loss: -0.1405024230480194\n",
      "Iteration: 1678 | disc_loss: -0.4675377309322357 | gen_loss: -0.060670919716358185\n",
      "Iteration: 1679 | disc_loss: -0.446733295917511 | gen_loss: -0.0682130679488182\n",
      "Iteration: 1680 | disc_loss: -0.42518144845962524 | gen_loss: -0.032408349215984344\n",
      "Iteration: 1681 | disc_loss: -0.35271015763282776 | gen_loss: 0.017773792147636414\n",
      "Iteration: 1682 | disc_loss: -0.35962745547294617 | gen_loss: -0.11425641179084778\n",
      "Iteration: 1683 | disc_loss: -0.42838913202285767 | gen_loss: -0.03591681644320488\n",
      "Iteration: 1684 | disc_loss: -0.4134143888950348 | gen_loss: -0.029283415526151657\n",
      "Iteration: 1685 | disc_loss: -0.4515354037284851 | gen_loss: -0.02889852784574032\n",
      "Iteration: 1686 | disc_loss: -0.41062939167022705 | gen_loss: -0.06490354239940643\n",
      "Iteration: 1687 | disc_loss: -0.3965390920639038 | gen_loss: -0.08711506426334381\n",
      "Iteration: 1688 | disc_loss: -0.4130007326602936 | gen_loss: -0.10843907296657562\n",
      "Iteration: 1689 | disc_loss: -0.386459618806839 | gen_loss: -0.057699255645275116\n"
     ]
    },
    {
     "name": "stderr",
     "output_type": "stream",
     "text": [
      " 34%|███▍      | 1703/5001 [00:17<00:32, 102.13it/s]"
     ]
    },
    {
     "name": "stdout",
     "output_type": "stream",
     "text": [
      "Iteration: 1690 | disc_loss: -0.3963364362716675 | gen_loss: -0.049521997570991516\n",
      "Iteration: 1691 | disc_loss: -0.4446318745613098 | gen_loss: -0.035398710519075394\n",
      "Iteration: 1692 | disc_loss: -0.46181270480155945 | gen_loss: -0.054061148315668106\n",
      "Iteration: 1693 | disc_loss: -0.4242028594017029 | gen_loss: 0.008816780522465706\n",
      "Iteration: 1694 | disc_loss: -0.47902733087539673 | gen_loss: -0.05725456401705742\n",
      "Iteration: 1695 | disc_loss: -0.3722701072692871 | gen_loss: -0.12784643471240997\n",
      "Iteration: 1696 | disc_loss: -0.5121768712997437 | gen_loss: -0.10745253413915634\n",
      "Iteration: 1697 | disc_loss: -0.4370490610599518 | gen_loss: -0.09147194027900696\n",
      "Iteration: 1698 | disc_loss: -0.42894402146339417 | gen_loss: -0.06861041486263275\n",
      "Iteration: 1699 | disc_loss: -0.44990435242652893 | gen_loss: -0.07542158663272858\n",
      "Iteration: 1700 | disc_loss: -0.39734768867492676 | gen_loss: -0.08095347881317139\n",
      "Iteration: 1701 | disc_loss: -0.43491965532302856 | gen_loss: -0.017830222845077515\n",
      "Iteration: 1702 | disc_loss: -0.3291836380958557 | gen_loss: -0.07022891193628311\n",
      "Iteration: 1703 | disc_loss: -0.39045965671539307 | gen_loss: -0.12760025262832642\n",
      "Iteration: 1704 | disc_loss: -0.39963385462760925 | gen_loss: -0.11139190942049026\n",
      "Iteration: 1705 | disc_loss: -0.4494078457355499 | gen_loss: -0.0722479373216629\n",
      "Iteration: 1706 | disc_loss: -0.4620632529258728 | gen_loss: -0.11516883224248886\n",
      "Iteration: 1707 | disc_loss: -0.389560341835022 | gen_loss: -0.08659633994102478\n",
      "Iteration: 1708 | disc_loss: -0.4572674036026001 | gen_loss: -0.2105642706155777\n"
     ]
    },
    {
     "name": "stderr",
     "output_type": "stream",
     "text": [
      " 34%|███▍      | 1725/5001 [00:17<00:32, 99.39it/s] "
     ]
    },
    {
     "name": "stdout",
     "output_type": "stream",
     "text": [
      "Iteration: 1709 | disc_loss: -0.42141956090927124 | gen_loss: -0.1553076058626175\n",
      "Iteration: 1710 | disc_loss: -0.45681998133659363 | gen_loss: -0.03732861578464508\n",
      "Iteration: 1711 | disc_loss: -0.4077029228210449 | gen_loss: 0.001775721088051796\n",
      "Iteration: 1712 | disc_loss: -0.4043269753456116 | gen_loss: -0.08401951938867569\n",
      "Iteration: 1713 | disc_loss: -0.5181825160980225 | gen_loss: -0.059125494211912155\n",
      "Iteration: 1714 | disc_loss: -0.22274616360664368 | gen_loss: -0.07761211693286896\n",
      "Iteration: 1715 | disc_loss: -0.27998608350753784 | gen_loss: -0.02525690197944641\n",
      "Iteration: 1716 | disc_loss: -0.4035051763057709 | gen_loss: 0.009706903249025345\n",
      "Iteration: 1717 | disc_loss: -0.4271748960018158 | gen_loss: 0.012583593837916851\n",
      "Iteration: 1718 | disc_loss: -0.36033380031585693 | gen_loss: -0.031726665794849396\n",
      "Iteration: 1719 | disc_loss: -0.4242857098579407 | gen_loss: -0.001549161970615387\n",
      "Iteration: 1720 | disc_loss: -0.387851357460022 | gen_loss: -0.03695657104253769\n",
      "Iteration: 1721 | disc_loss: -0.4788520634174347 | gen_loss: -0.05775073543190956\n",
      "Iteration: 1722 | disc_loss: -0.4427589774131775 | gen_loss: -0.039539650082588196\n",
      "Iteration: 1723 | disc_loss: -0.35622596740722656 | gen_loss: -0.08095815777778625\n",
      "Iteration: 1724 | disc_loss: -0.3931048512458801 | gen_loss: 0.02115098387002945\n",
      "Iteration: 1725 | disc_loss: -0.30684226751327515 | gen_loss: -0.057993173599243164\n",
      "Iteration: 1726 | disc_loss: -0.3945983052253723 | gen_loss: -0.007966069504618645\n",
      "Iteration: 1727 | disc_loss: -0.39410701394081116 | gen_loss: -0.035157620906829834\n",
      "Iteration: 1728 | disc_loss: -0.43573588132858276 | gen_loss: -0.18198946118354797\n",
      "Iteration: 1729 | disc_loss: -0.39449554681777954 | gen_loss: -0.09037410467863083\n"
     ]
    },
    {
     "name": "stderr",
     "output_type": "stream",
     "text": [
      " 35%|███▍      | 1748/5001 [00:17<00:31, 103.67it/s]"
     ]
    },
    {
     "name": "stdout",
     "output_type": "stream",
     "text": [
      "Iteration: 1730 | disc_loss: -0.27849262952804565 | gen_loss: -0.0742119550704956\n",
      "Iteration: 1731 | disc_loss: -0.40259695053100586 | gen_loss: -0.07390736788511276\n",
      "Iteration: 1732 | disc_loss: -0.43047672510147095 | gen_loss: -0.0035780230537056923\n",
      "Iteration: 1733 | disc_loss: -0.4122326970100403 | gen_loss: -0.09492291510105133\n",
      "Iteration: 1734 | disc_loss: -0.2328825294971466 | gen_loss: -0.034790877252817154\n",
      "Iteration: 1735 | disc_loss: -0.4118250012397766 | gen_loss: -0.08787050098180771\n",
      "Iteration: 1736 | disc_loss: -0.4115543067455292 | gen_loss: -0.1409490555524826\n",
      "Iteration: 1737 | disc_loss: -0.4792567789554596 | gen_loss: -0.1053324043750763\n",
      "Iteration: 1738 | disc_loss: -0.4429289698600769 | gen_loss: -0.1553780734539032\n",
      "Iteration: 1739 | disc_loss: -0.44874146580696106 | gen_loss: -0.15110088884830475\n",
      "Iteration: 1740 | disc_loss: -0.39897090196609497 | gen_loss: -0.026052886620163918\n",
      "Iteration: 1741 | disc_loss: -0.3945828676223755 | gen_loss: -0.09213729202747345\n",
      "Iteration: 1742 | disc_loss: -0.4348472058773041 | gen_loss: -0.13229218125343323\n",
      "Iteration: 1743 | disc_loss: -0.4043702185153961 | gen_loss: -0.1025838702917099\n",
      "Iteration: 1744 | disc_loss: -0.4020792543888092 | gen_loss: -0.06676744669675827\n",
      "Iteration: 1745 | disc_loss: -0.4321957230567932 | gen_loss: -0.1347314715385437\n",
      "Iteration: 1746 | disc_loss: -0.3266589641571045 | gen_loss: -0.04929719120264053\n",
      "Iteration: 1747 | disc_loss: -0.47878074645996094 | gen_loss: 0.05629165470600128\n",
      "Iteration: 1748 | disc_loss: -0.3189917206764221 | gen_loss: -0.06535413861274719\n",
      "Iteration: 1749 | disc_loss: -0.5253626108169556 | gen_loss: -0.08946406841278076\n",
      "Iteration: 1750 | disc_loss: -0.4339447319507599 | gen_loss: -0.03168012946844101\n",
      "Iteration: 1751 | disc_loss: -0.4561918079853058 | gen_loss: 0.011505409143865108\n",
      "Iteration: 1752 | disc_loss: -0.43388137221336365 | gen_loss: 0.05377264320850372\n"
     ]
    },
    {
     "name": "stderr",
     "output_type": "stream",
     "text": [
      " 35%|███▌      | 1771/5001 [00:17<00:31, 101.41it/s]"
     ]
    },
    {
     "name": "stdout",
     "output_type": "stream",
     "text": [
      "Iteration: 1753 | disc_loss: -0.3478555679321289 | gen_loss: -0.05842254310846329\n",
      "Iteration: 1754 | disc_loss: -0.26072606444358826 | gen_loss: -0.1098390519618988\n",
      "Iteration: 1755 | disc_loss: -0.41779282689094543 | gen_loss: -0.10656027495861053\n",
      "Iteration: 1756 | disc_loss: -0.4470115900039673 | gen_loss: 0.010183937847614288\n",
      "Iteration: 1757 | disc_loss: -0.4268805980682373 | gen_loss: -0.06804338842630386\n",
      "Iteration: 1758 | disc_loss: -0.4317198693752289 | gen_loss: -0.0943068265914917\n",
      "Iteration: 1759 | disc_loss: -0.3819243311882019 | gen_loss: -0.062249138951301575\n",
      "Iteration: 1760 | disc_loss: -0.266848087310791 | gen_loss: -0.05120434612035751\n",
      "Iteration: 1761 | disc_loss: -0.4251764416694641 | gen_loss: -0.0680554136633873\n",
      "Iteration: 1762 | disc_loss: -0.40691453218460083 | gen_loss: -0.05716899037361145\n",
      "Iteration: 1763 | disc_loss: -0.38933873176574707 | gen_loss: -0.10233809798955917\n",
      "Iteration: 1764 | disc_loss: -0.4595058560371399 | gen_loss: -0.11224202066659927\n",
      "Iteration: 1765 | disc_loss: -0.3588372468948364 | gen_loss: -0.10518130660057068\n",
      "Iteration: 1766 | disc_loss: -0.3641951382160187 | gen_loss: -0.07893353700637817\n",
      "Iteration: 1767 | disc_loss: -0.4119241237640381 | gen_loss: -0.0889325961470604\n",
      "Iteration: 1768 | disc_loss: -0.24781884253025055 | gen_loss: -0.13406473398208618\n",
      "Iteration: 1769 | disc_loss: -0.39503782987594604 | gen_loss: -0.05843374505639076\n",
      "Iteration: 1770 | disc_loss: -0.4546360671520233 | gen_loss: -0.08532210439443588\n",
      "Iteration: 1771 | disc_loss: -0.3858632445335388 | gen_loss: -0.06421667337417603\n",
      "Iteration: 1772 | disc_loss: -0.3951846659183502 | gen_loss: -0.15306124091148376\n"
     ]
    },
    {
     "name": "stderr",
     "output_type": "stream",
     "text": [
      " 36%|███▌      | 1795/5001 [00:18<00:29, 108.86it/s]"
     ]
    },
    {
     "name": "stdout",
     "output_type": "stream",
     "text": [
      "Iteration: 1773 | disc_loss: -0.5128489136695862 | gen_loss: -0.08922256529331207\n",
      "Iteration: 1774 | disc_loss: -0.43679237365722656 | gen_loss: -0.07771081477403641\n",
      "Iteration: 1775 | disc_loss: -0.4498422145843506 | gen_loss: -0.08044801652431488\n",
      "Iteration: 1776 | disc_loss: -0.34807687997817993 | gen_loss: -0.061987388879060745\n",
      "Iteration: 1777 | disc_loss: -0.35996657609939575 | gen_loss: -0.053075600415468216\n",
      "Iteration: 1778 | disc_loss: -0.3623034954071045 | gen_loss: -0.10716748982667923\n",
      "Iteration: 1779 | disc_loss: -0.38718661665916443 | gen_loss: -0.12346998602151871\n",
      "Iteration: 1780 | disc_loss: -0.4073643982410431 | gen_loss: -0.05789284408092499\n",
      "Iteration: 1781 | disc_loss: -0.4181167781352997 | gen_loss: -0.05809773504734039\n",
      "Iteration: 1782 | disc_loss: -0.42197826504707336 | gen_loss: -0.09702633321285248\n",
      "Iteration: 1783 | disc_loss: -0.40886837244033813 | gen_loss: -0.12528714537620544\n",
      "Iteration: 1784 | disc_loss: -0.38098734617233276 | gen_loss: -0.019356390461325645\n",
      "Iteration: 1785 | disc_loss: -0.47002363204956055 | gen_loss: -0.03470418602228165\n",
      "Iteration: 1786 | disc_loss: -0.4304695427417755 | gen_loss: -0.010855314321815968\n",
      "Iteration: 1787 | disc_loss: -0.39948731660842896 | gen_loss: -0.0007316656410694122\n",
      "Iteration: 1788 | disc_loss: -0.3391593098640442 | gen_loss: -0.03838152810931206\n",
      "Iteration: 1789 | disc_loss: -0.40144574642181396 | gen_loss: -0.02477416582405567\n",
      "Iteration: 1790 | disc_loss: -0.42994633316993713 | gen_loss: -0.07518365234136581\n",
      "Iteration: 1791 | disc_loss: -0.3563215732574463 | gen_loss: 0.022419609129428864\n",
      "Iteration: 1792 | disc_loss: -0.27703818678855896 | gen_loss: -0.011450279504060745\n",
      "Iteration: 1793 | disc_loss: -0.3463398814201355 | gen_loss: 0.1854730099439621\n",
      "Iteration: 1794 | disc_loss: -0.34028002619743347 | gen_loss: 0.19279471039772034\n",
      "Iteration: 1795 | disc_loss: -0.37818554043769836 | gen_loss: 0.0355004146695137\n",
      "Iteration: 1796 | disc_loss: -0.37484902143478394 | gen_loss: -0.10753856599330902\n"
     ]
    },
    {
     "name": "stderr",
     "output_type": "stream",
     "text": [
      " 36%|███▌      | 1806/5001 [00:18<00:31, 101.52it/s]"
     ]
    },
    {
     "name": "stdout",
     "output_type": "stream",
     "text": [
      "Iteration: 1797 | disc_loss: -0.4160914421081543 | gen_loss: -0.07895983755588531\n",
      "Iteration: 1798 | disc_loss: -0.4003826975822449 | gen_loss: -0.06456736475229263\n",
      "Iteration: 1799 | disc_loss: -0.37152737379074097 | gen_loss: -0.01743820682168007\n",
      "Iteration: 1800 | disc_loss: -0.34752529859542847 | gen_loss: -0.01448185183107853\n",
      "Iteration: 1801 | disc_loss: -0.38085949420928955 | gen_loss: -0.05027645826339722\n",
      "Iteration: 1802 | disc_loss: -0.4106612205505371 | gen_loss: -0.06441835314035416\n",
      "Iteration: 1803 | disc_loss: -0.25822579860687256 | gen_loss: -0.03222997859120369\n",
      "Iteration: 1804 | disc_loss: -0.37156638503074646 | gen_loss: -0.0867147371172905\n",
      "Iteration: 1805 | disc_loss: -0.4616789221763611 | gen_loss: -0.08800707757472992\n",
      "Iteration: 1806 | disc_loss: -0.3539796471595764 | gen_loss: -0.029121235013008118\n",
      "Iteration: 1807 | disc_loss: -0.38990679383277893 | gen_loss: -0.022268354892730713\n",
      "Iteration: 1808 | disc_loss: -0.40306952595710754 | gen_loss: -0.08028420060873032\n",
      "Iteration: 1809 | disc_loss: -0.4458003342151642 | gen_loss: -0.08962064981460571\n",
      "Iteration: 1810 | disc_loss: -0.4271591007709503 | gen_loss: -0.1156567931175232\n",
      "Iteration: 1811 | disc_loss: -0.47652769088745117 | gen_loss: -0.11288116872310638\n",
      "Iteration: 1812 | disc_loss: -0.4297679364681244 | gen_loss: -0.10111310333013535\n",
      "Iteration: 1813 | disc_loss: -0.43761321902275085 | gen_loss: -0.10132839530706406\n",
      "Iteration: 1814 | disc_loss: -0.3624057471752167 | gen_loss: -0.1780371516942978\n",
      "Iteration: 1815 | disc_loss: -0.44524964690208435 | gen_loss: -0.13291026651859283\n",
      "Iteration: 1816 | disc_loss: -0.3822665214538574 | gen_loss: -0.03376605734229088\n"
     ]
    },
    {
     "name": "stderr",
     "output_type": "stream",
     "text": [
      " 37%|███▋      | 1829/5001 [00:18<00:31, 100.95it/s]"
     ]
    },
    {
     "name": "stdout",
     "output_type": "stream",
     "text": [
      "Iteration: 1817 | disc_loss: -0.42804113030433655 | gen_loss: -0.07164233922958374\n",
      "Iteration: 1818 | disc_loss: -0.40237975120544434 | gen_loss: -0.013160201720893383\n",
      "Iteration: 1819 | disc_loss: -0.38878118991851807 | gen_loss: -0.08914327621459961\n",
      "Iteration: 1820 | disc_loss: -0.41408973932266235 | gen_loss: -0.014365311712026596\n",
      "Iteration: 1821 | disc_loss: -0.38418617844581604 | gen_loss: -0.006485564634203911\n",
      "Iteration: 1822 | disc_loss: -0.3961029350757599 | gen_loss: 0.011946918442845345\n",
      "Iteration: 1823 | disc_loss: -0.4354543089866638 | gen_loss: -0.051366981118917465\n",
      "Iteration: 1824 | disc_loss: -0.44730257987976074 | gen_loss: -0.021164143458008766\n",
      "Iteration: 1825 | disc_loss: -0.3823097050189972 | gen_loss: -0.07836587727069855\n",
      "Iteration: 1826 | disc_loss: -0.40306204557418823 | gen_loss: -0.011259625665843487\n",
      "Iteration: 1827 | disc_loss: -0.40591898560523987 | gen_loss: -0.10479136556386948\n",
      "Iteration: 1828 | disc_loss: -0.4086432456970215 | gen_loss: -0.022982951253652573\n",
      "Iteration: 1829 | disc_loss: -0.40531352162361145 | gen_loss: -0.05495437979698181\n",
      "Iteration: 1830 | disc_loss: -0.3542596101760864 | gen_loss: -0.09224031865596771\n",
      "Iteration: 1831 | disc_loss: -0.43921440839767456 | gen_loss: -0.06606096029281616\n",
      "Iteration: 1832 | disc_loss: -0.3990812301635742 | gen_loss: -0.12839844822883606\n",
      "Iteration: 1833 | disc_loss: -0.4325677156448364 | gen_loss: -0.05117609351873398\n",
      "Iteration: 1834 | disc_loss: -0.43021994829177856 | gen_loss: -0.003761471249163151\n",
      "Iteration: 1835 | disc_loss: -0.30637434124946594 | gen_loss: -0.05926933512091637\n"
     ]
    },
    {
     "name": "stderr",
     "output_type": "stream",
     "text": [
      " 37%|███▋      | 1851/5001 [00:18<00:31, 99.74it/s] "
     ]
    },
    {
     "name": "stdout",
     "output_type": "stream",
     "text": [
      "Iteration: 1836 | disc_loss: -0.3964109420776367 | gen_loss: -0.21189913153648376\n",
      "Iteration: 1837 | disc_loss: -0.4667895436286926 | gen_loss: -0.18678897619247437\n",
      "Iteration: 1838 | disc_loss: -0.31220144033432007 | gen_loss: -0.1475093811750412\n",
      "Iteration: 1839 | disc_loss: -0.463656485080719 | gen_loss: -0.03375367075204849\n",
      "Iteration: 1840 | disc_loss: -0.3781507611274719 | gen_loss: -0.05395275354385376\n",
      "Iteration: 1841 | disc_loss: -0.41901254653930664 | gen_loss: -0.003345356322824955\n",
      "Iteration: 1842 | disc_loss: -0.4908778965473175 | gen_loss: 0.04701221361756325\n",
      "Iteration: 1843 | disc_loss: -0.3986159563064575 | gen_loss: -0.002359934151172638\n",
      "Iteration: 1844 | disc_loss: -0.4706379771232605 | gen_loss: -0.0010113921016454697\n",
      "Iteration: 1845 | disc_loss: -0.3814812898635864 | gen_loss: -0.04457644745707512\n",
      "Iteration: 1846 | disc_loss: -0.4010864198207855 | gen_loss: -0.04320777952671051\n",
      "Iteration: 1847 | disc_loss: -0.2782161235809326 | gen_loss: -0.07519359886646271\n",
      "Iteration: 1848 | disc_loss: -0.38573089241981506 | gen_loss: 0.053310852497816086\n",
      "Iteration: 1849 | disc_loss: -0.3660942614078522 | gen_loss: 0.00269349105656147\n",
      "Iteration: 1850 | disc_loss: -0.3819265067577362 | gen_loss: -0.0565827414393425\n",
      "Iteration: 1851 | disc_loss: -0.42044612765312195 | gen_loss: -0.068621426820755\n",
      "Iteration: 1852 | disc_loss: -0.320145845413208 | gen_loss: -0.05640929937362671\n",
      "Iteration: 1853 | disc_loss: -0.4262433350086212 | gen_loss: -0.03550313040614128\n",
      "Iteration: 1854 | disc_loss: -0.38697269558906555 | gen_loss: 0.047918692231178284\n",
      "Iteration: 1855 | disc_loss: -0.4626327455043793 | gen_loss: 0.01390896551311016\n",
      "Iteration: 1856 | disc_loss: -0.4235280752182007 | gen_loss: -0.051959965378046036\n",
      "Iteration: 1857 | disc_loss: -0.3919115960597992 | gen_loss: -0.020487487316131592\n"
     ]
    },
    {
     "name": "stderr",
     "output_type": "stream",
     "text": [
      " 37%|███▋      | 1872/5001 [00:18<00:31, 98.66it/s]"
     ]
    },
    {
     "name": "stdout",
     "output_type": "stream",
     "text": [
      "Iteration: 1858 | disc_loss: -0.3751206398010254 | gen_loss: -0.002286408096551895\n",
      "Iteration: 1859 | disc_loss: -0.3363085687160492 | gen_loss: 0.01429981179535389\n",
      "Iteration: 1860 | disc_loss: -0.3747291564941406 | gen_loss: 0.0304243266582489\n",
      "Iteration: 1861 | disc_loss: -0.28139621019363403 | gen_loss: -0.058735575526952744\n",
      "Iteration: 1862 | disc_loss: -0.461963415145874 | gen_loss: -0.0322851687669754\n",
      "Iteration: 1863 | disc_loss: -0.3595861792564392 | gen_loss: -0.13615497946739197\n",
      "Iteration: 1864 | disc_loss: -0.41524186730384827 | gen_loss: 0.026488369330763817\n",
      "Iteration: 1865 | disc_loss: -0.39568230509757996 | gen_loss: -0.0032352227717638016\n",
      "Iteration: 1866 | disc_loss: -0.47216758131980896 | gen_loss: -0.09264114499092102\n",
      "Iteration: 1867 | disc_loss: -0.49626681208610535 | gen_loss: -0.04966678097844124\n",
      "Iteration: 1868 | disc_loss: -0.4201362431049347 | gen_loss: -0.02682543732225895\n",
      "Iteration: 1869 | disc_loss: -0.389615535736084 | gen_loss: -0.023950103670358658\n",
      "Iteration: 1870 | disc_loss: -0.31604328751564026 | gen_loss: -0.034303419291973114\n",
      "Iteration: 1871 | disc_loss: -0.46397531032562256 | gen_loss: -0.09723818302154541\n",
      "Iteration: 1872 | disc_loss: -0.37701112031936646 | gen_loss: -0.058228492736816406\n",
      "Iteration: 1873 | disc_loss: -0.46252256631851196 | gen_loss: -0.07444034516811371\n",
      "Iteration: 1874 | disc_loss: -0.4481091797351837 | gen_loss: -0.13241218030452728\n",
      "Iteration: 1875 | disc_loss: -0.45260512828826904 | gen_loss: -0.07930518686771393\n",
      "Iteration: 1876 | disc_loss: -0.33240729570388794 | gen_loss: -0.06649108231067657\n",
      "Iteration: 1877 | disc_loss: -0.407539427280426 | gen_loss: -0.11005174368619919\n"
     ]
    },
    {
     "name": "stderr",
     "output_type": "stream",
     "text": [
      " 38%|███▊      | 1896/5001 [00:19<00:28, 107.67it/s]"
     ]
    },
    {
     "name": "stdout",
     "output_type": "stream",
     "text": [
      "Iteration: 1878 | disc_loss: -0.36332008242607117 | gen_loss: -0.1333652138710022\n",
      "Iteration: 1879 | disc_loss: -0.4214972257614136 | gen_loss: -0.03050212562084198\n",
      "Iteration: 1880 | disc_loss: -0.3019545376300812 | gen_loss: -0.11875031143426895\n",
      "Iteration: 1881 | disc_loss: -0.35085269808769226 | gen_loss: -0.09823717921972275\n",
      "Iteration: 1882 | disc_loss: -0.42407751083374023 | gen_loss: -0.00019846111536026\n",
      "Iteration: 1883 | disc_loss: -0.41798174381256104 | gen_loss: -0.041071441024541855\n",
      "Iteration: 1884 | disc_loss: -0.44799840450286865 | gen_loss: -0.07543820142745972\n",
      "Iteration: 1885 | disc_loss: -0.44815054535865784 | gen_loss: -0.04903004318475723\n",
      "Iteration: 1886 | disc_loss: -0.3899874985218048 | gen_loss: -0.03961339592933655\n",
      "Iteration: 1887 | disc_loss: -0.20638252794742584 | gen_loss: -0.024915609508752823\n",
      "Iteration: 1888 | disc_loss: -0.272419810295105 | gen_loss: -0.05715228244662285\n",
      "Iteration: 1889 | disc_loss: -0.49203523993492126 | gen_loss: -0.09698190540075302\n",
      "Iteration: 1890 | disc_loss: -0.3473644554615021 | gen_loss: -0.048387374728918076\n",
      "Iteration: 1891 | disc_loss: -0.4240116477012634 | gen_loss: -0.06788402795791626\n",
      "Iteration: 1892 | disc_loss: -0.3895934820175171 | gen_loss: -0.0010154284536838531\n",
      "Iteration: 1893 | disc_loss: -0.4275400936603546 | gen_loss: -0.04483332484960556\n",
      "Iteration: 1894 | disc_loss: -0.3989381492137909 | gen_loss: -0.07299835979938507\n",
      "Iteration: 1895 | disc_loss: -0.3213173747062683 | gen_loss: -0.07886558026075363\n",
      "Iteration: 1896 | disc_loss: -0.4014473557472229 | gen_loss: -0.04606351628899574\n",
      "Iteration: 1897 | disc_loss: -0.32102862000465393 | gen_loss: -0.06831048429012299\n",
      "Iteration: 1898 | disc_loss: -0.4163644313812256 | gen_loss: -0.06301581859588623\n",
      "Iteration: 1899 | disc_loss: -0.46029695868492126 | gen_loss: -0.0648469626903534\n",
      "Iteration: 1900 | disc_loss: -0.40735960006713867 | gen_loss: -0.06338626146316528\n",
      "Iteration: 1901 | disc_loss: -0.4198835790157318 | gen_loss: -0.1105959564447403\n",
      "Iteration: 1902 | disc_loss: -0.4228794276714325 | gen_loss: -0.08199933171272278\n"
     ]
    },
    {
     "name": "stderr",
     "output_type": "stream",
     "text": [
      " 38%|███▊      | 1921/5001 [00:19<00:27, 111.98it/s]"
     ]
    },
    {
     "name": "stdout",
     "output_type": "stream",
     "text": [
      "Iteration: 1903 | disc_loss: -0.4004170298576355 | gen_loss: -0.10513795912265778\n",
      "Iteration: 1904 | disc_loss: -0.39079034328460693 | gen_loss: -0.05868680775165558\n",
      "Iteration: 1905 | disc_loss: -0.36523208022117615 | gen_loss: -0.06854385137557983\n",
      "Iteration: 1906 | disc_loss: -0.4456144869327545 | gen_loss: -0.11380106210708618\n",
      "Iteration: 1907 | disc_loss: -0.4080328047275543 | gen_loss: -0.019933536648750305\n",
      "Iteration: 1908 | disc_loss: -0.4168958365917206 | gen_loss: -0.013219792395830154\n",
      "Iteration: 1909 | disc_loss: -0.46246910095214844 | gen_loss: -0.053931839764118195\n",
      "Iteration: 1910 | disc_loss: -0.40656349062919617 | gen_loss: -0.05551927164196968\n",
      "Iteration: 1911 | disc_loss: -0.4840884804725647 | gen_loss: -0.13633179664611816\n",
      "Iteration: 1912 | disc_loss: -0.44798874855041504 | gen_loss: -0.12412341684103012\n",
      "Iteration: 1913 | disc_loss: -0.3963116705417633 | gen_loss: -0.09586793184280396\n",
      "Iteration: 1914 | disc_loss: -0.4524872303009033 | gen_loss: -0.028729170560836792\n",
      "Iteration: 1915 | disc_loss: -0.4229382574558258 | gen_loss: -0.09812833368778229\n",
      "Iteration: 1916 | disc_loss: -0.29567867517471313 | gen_loss: -0.16169297695159912\n",
      "Iteration: 1917 | disc_loss: -0.36332839727401733 | gen_loss: -0.14024977385997772\n",
      "Iteration: 1918 | disc_loss: -0.3631894886493683 | gen_loss: -0.0845257043838501\n",
      "Iteration: 1919 | disc_loss: -0.41590726375579834 | gen_loss: -0.06851337850093842\n",
      "Iteration: 1920 | disc_loss: -0.43108323216438293 | gen_loss: -0.17494958639144897\n",
      "Iteration: 1921 | disc_loss: -0.20713412761688232 | gen_loss: -0.11876009404659271\n",
      "Iteration: 1922 | disc_loss: -0.39356616139411926 | gen_loss: -0.09426234662532806\n",
      "Iteration: 1923 | disc_loss: -0.3949377238750458 | gen_loss: -0.0914095938205719\n",
      "Iteration: 1924 | disc_loss: -0.3172840476036072 | gen_loss: -0.04164765030145645\n",
      "Iteration: 1925 | disc_loss: -0.41801220178604126 | gen_loss: -0.04426902160048485\n"
     ]
    },
    {
     "name": "stderr",
     "output_type": "stream",
     "text": [
      " 39%|███▉      | 1945/5001 [00:19<00:27, 110.76it/s]"
     ]
    },
    {
     "name": "stdout",
     "output_type": "stream",
     "text": [
      "Iteration: 1926 | disc_loss: -0.4619980752468109 | gen_loss: -0.17841622233390808\n",
      "Iteration: 1927 | disc_loss: -0.1974734663963318 | gen_loss: -0.22135043144226074\n",
      "Iteration: 1928 | disc_loss: -0.39551016688346863 | gen_loss: -0.09123101085424423\n",
      "Iteration: 1929 | disc_loss: -0.36718425154685974 | gen_loss: -0.07565197348594666\n",
      "Iteration: 1930 | disc_loss: -0.3511517643928528 | gen_loss: -0.13956421613693237\n",
      "Iteration: 1931 | disc_loss: -0.41950273513793945 | gen_loss: -0.11884239315986633\n",
      "Iteration: 1932 | disc_loss: -0.4126971662044525 | gen_loss: -0.001028686761856079\n",
      "Iteration: 1933 | disc_loss: -0.3366272747516632 | gen_loss: -0.041568271815776825\n",
      "Iteration: 1934 | disc_loss: -0.308271586894989 | gen_loss: -0.13231545686721802\n",
      "Iteration: 1935 | disc_loss: -0.36429229378700256 | gen_loss: -0.08087894320487976\n",
      "Iteration: 1936 | disc_loss: -0.3525248169898987 | gen_loss: 0.007997427135705948\n",
      "Iteration: 1937 | disc_loss: -0.37538036704063416 | gen_loss: -0.07194960117340088\n",
      "Iteration: 1938 | disc_loss: -0.45085012912750244 | gen_loss: -0.03695189207792282\n",
      "Iteration: 1939 | disc_loss: -0.4562484323978424 | gen_loss: -0.04181184247136116\n",
      "Iteration: 1940 | disc_loss: -0.42567241191864014 | gen_loss: -0.05913379043340683\n",
      "Iteration: 1941 | disc_loss: -0.4280204176902771 | gen_loss: -0.0013968129642307758\n",
      "Iteration: 1942 | disc_loss: -0.4382649064064026 | gen_loss: -0.020497018471360207\n",
      "Iteration: 1943 | disc_loss: -0.4066685140132904 | gen_loss: -0.106538325548172\n",
      "Iteration: 1944 | disc_loss: -0.4482012093067169 | gen_loss: -0.03678585961461067\n",
      "Iteration: 1945 | disc_loss: -0.4310271441936493 | gen_loss: -0.04689832776784897\n",
      "Iteration: 1946 | disc_loss: -0.43542927503585815 | gen_loss: -0.047681570053100586\n",
      "Iteration: 1947 | disc_loss: -0.38327735662460327 | gen_loss: -0.16715800762176514\n",
      "Iteration: 1948 | disc_loss: -0.3600853979587555 | gen_loss: -0.1176275908946991\n"
     ]
    },
    {
     "name": "stderr",
     "output_type": "stream",
     "text": [
      " 39%|███▉      | 1969/5001 [00:19<00:26, 114.12it/s]"
     ]
    },
    {
     "name": "stdout",
     "output_type": "stream",
     "text": [
      "Iteration: 1949 | disc_loss: -0.41437795758247375 | gen_loss: -0.11798512935638428\n",
      "Iteration: 1950 | disc_loss: -0.4670668840408325 | gen_loss: -0.1419416069984436\n",
      "Iteration: 1951 | disc_loss: -0.41796278953552246 | gen_loss: -0.17095708847045898\n",
      "Iteration: 1952 | disc_loss: -0.36163222789764404 | gen_loss: -0.10338780283927917\n",
      "Iteration: 1953 | disc_loss: -0.33927851915359497 | gen_loss: -0.05833997577428818\n",
      "Iteration: 1954 | disc_loss: -0.3483272194862366 | gen_loss: -0.13931477069854736\n",
      "Iteration: 1955 | disc_loss: -0.3431333899497986 | gen_loss: -0.10129719227552414\n",
      "Iteration: 1956 | disc_loss: -0.4668321907520294 | gen_loss: -0.09227968007326126\n",
      "Iteration: 1957 | disc_loss: -0.4042869508266449 | gen_loss: -0.1274489462375641\n",
      "Iteration: 1958 | disc_loss: -0.32813018560409546 | gen_loss: -0.08697130531072617\n",
      "Iteration: 1959 | disc_loss: -0.46570637822151184 | gen_loss: -0.1757134348154068\n",
      "Iteration: 1960 | disc_loss: -0.46405935287475586 | gen_loss: -0.11762084066867828\n",
      "Iteration: 1961 | disc_loss: -0.3240547776222229 | gen_loss: -0.014037780463695526\n",
      "Iteration: 1962 | disc_loss: -0.3437651991844177 | gen_loss: -0.011881101876497269\n",
      "Iteration: 1963 | disc_loss: -0.43657386302948 | gen_loss: -0.06789934635162354\n",
      "Iteration: 1964 | disc_loss: -0.26953423023223877 | gen_loss: -0.07850900292396545\n",
      "Iteration: 1965 | disc_loss: -0.39139240980148315 | gen_loss: -0.004773914348334074\n",
      "Iteration: 1966 | disc_loss: -0.31352195143699646 | gen_loss: -0.09854409098625183\n",
      "Iteration: 1967 | disc_loss: -0.4196849465370178 | gen_loss: -0.07453694939613342\n",
      "Iteration: 1968 | disc_loss: -0.3808082044124603 | gen_loss: -0.03772086277604103\n",
      "Iteration: 1969 | disc_loss: -0.43164297938346863 | gen_loss: -0.06836213171482086\n",
      "Iteration: 1970 | disc_loss: -0.4015454649925232 | gen_loss: -0.09326261281967163\n",
      "Iteration: 1971 | disc_loss: -0.3527294397354126 | gen_loss: -0.0462396964430809\n",
      "Iteration: 1972 | disc_loss: -0.3895977735519409 | gen_loss: -0.04162728786468506\n"
     ]
    },
    {
     "name": "stderr",
     "output_type": "stream",
     "text": [
      " 40%|███▉      | 1993/5001 [00:19<00:27, 111.34it/s]"
     ]
    },
    {
     "name": "stdout",
     "output_type": "stream",
     "text": [
      "Iteration: 1973 | disc_loss: -0.38990771770477295 | gen_loss: -0.04488397017121315\n",
      "Iteration: 1974 | disc_loss: -0.39387235045433044 | gen_loss: -0.05464274808764458\n",
      "Iteration: 1975 | disc_loss: -0.37769490480422974 | gen_loss: -0.07730065286159515\n",
      "Iteration: 1976 | disc_loss: -0.4591517448425293 | gen_loss: -0.04139505699276924\n",
      "Iteration: 1977 | disc_loss: -0.33250507712364197 | gen_loss: -0.0021301466040313244\n",
      "Iteration: 1978 | disc_loss: -0.35005122423171997 | gen_loss: -0.07472643256187439\n",
      "Iteration: 1979 | disc_loss: -0.4740912616252899 | gen_loss: -0.06925022602081299\n",
      "Iteration: 1980 | disc_loss: -0.4329839050769806 | gen_loss: -0.00609983317553997\n",
      "Iteration: 1981 | disc_loss: -0.33102622628211975 | gen_loss: 0.04297240450978279\n",
      "Iteration: 1982 | disc_loss: -0.35947680473327637 | gen_loss: 0.07257097959518433\n",
      "Iteration: 1983 | disc_loss: -0.406623899936676 | gen_loss: -0.07126676291227341\n",
      "Iteration: 1984 | disc_loss: -0.4253770112991333 | gen_loss: -0.10115192830562592\n",
      "Iteration: 1985 | disc_loss: -0.3579283058643341 | gen_loss: -0.04707156866788864\n",
      "Iteration: 1986 | disc_loss: -0.27556437253952026 | gen_loss: -0.12016391009092331\n",
      "Iteration: 1987 | disc_loss: -0.4091279208660126 | gen_loss: -0.08197993040084839\n",
      "Iteration: 1988 | disc_loss: -0.4362134039402008 | gen_loss: -0.09961368143558502\n",
      "Iteration: 1989 | disc_loss: -0.322189062833786 | gen_loss: -0.05136041343212128\n",
      "Iteration: 1990 | disc_loss: -0.46422988176345825 | gen_loss: -0.10405533760786057\n",
      "Iteration: 1991 | disc_loss: -0.387622594833374 | gen_loss: -0.09143654257059097\n",
      "Iteration: 1992 | disc_loss: -0.34008005261421204 | gen_loss: -0.043811582028865814\n",
      "Iteration: 1993 | disc_loss: -0.34894034266471863 | gen_loss: -0.05855396389961243\n",
      "Iteration: 1994 | disc_loss: -0.35355767607688904 | gen_loss: -0.034324415028095245\n",
      "Iteration: 1995 | disc_loss: -0.35308223962783813 | gen_loss: -0.051773544400930405\n"
     ]
    },
    {
     "name": "stderr",
     "output_type": "stream",
     "text": [
      " 40%|████      | 2017/5001 [00:20<00:27, 108.52it/s]"
     ]
    },
    {
     "name": "stdout",
     "output_type": "stream",
     "text": [
      "Iteration: 1996 | disc_loss: -0.35070979595184326 | gen_loss: -0.04937639832496643\n",
      "Iteration: 1997 | disc_loss: -0.35855406522750854 | gen_loss: -0.09171125292778015\n",
      "Iteration: 1998 | disc_loss: -0.3907294273376465 | gen_loss: -0.0621052011847496\n",
      "Iteration: 1999 | disc_loss: -0.44308632612228394 | gen_loss: -0.0632433146238327\n",
      "Iteration: 2000 | disc_loss: -0.3572901487350464 | gen_loss: -0.1427125483751297\n",
      "Iteration: 2001 | disc_loss: -0.44318893551826477 | gen_loss: -0.029230615124106407\n",
      "Iteration: 2002 | disc_loss: -0.36390912532806396 | gen_loss: -0.08947928249835968\n",
      "Iteration: 2003 | disc_loss: -0.3380749225616455 | gen_loss: 0.042949482798576355\n",
      "Iteration: 2004 | disc_loss: -0.3527088463306427 | gen_loss: -0.022914467379450798\n",
      "Iteration: 2005 | disc_loss: -0.4231749475002289 | gen_loss: -0.06067438796162605\n",
      "Iteration: 2006 | disc_loss: -0.45205220580101013 | gen_loss: -0.031795427203178406\n",
      "Iteration: 2007 | disc_loss: -0.3512563705444336 | gen_loss: -0.04829695448279381\n",
      "Iteration: 2008 | disc_loss: -0.37647122144699097 | gen_loss: -0.023401310667395592\n",
      "Iteration: 2009 | disc_loss: -0.3977789282798767 | gen_loss: -0.1252312958240509\n",
      "Iteration: 2010 | disc_loss: -0.3240338861942291 | gen_loss: -0.11653502285480499\n",
      "Iteration: 2011 | disc_loss: -0.3748425841331482 | gen_loss: -0.05425305292010307\n",
      "Iteration: 2012 | disc_loss: -0.39494431018829346 | gen_loss: -0.07951672375202179\n",
      "Iteration: 2013 | disc_loss: -0.3580496311187744 | gen_loss: -0.08108600229024887\n",
      "Iteration: 2014 | disc_loss: -0.36846601963043213 | gen_loss: -0.1002931222319603\n",
      "Iteration: 2015 | disc_loss: -0.5000612139701843 | gen_loss: -0.13344436883926392\n",
      "Iteration: 2016 | disc_loss: -0.4142671525478363 | gen_loss: -0.10590530186891556\n"
     ]
    },
    {
     "name": "stderr",
     "output_type": "stream",
     "text": [
      " 41%|████      | 2043/5001 [00:20<00:25, 116.65it/s]"
     ]
    },
    {
     "name": "stdout",
     "output_type": "stream",
     "text": [
      "Iteration: 2017 | disc_loss: -0.4194607138633728 | gen_loss: -0.13162089884281158\n",
      "Iteration: 2018 | disc_loss: -0.4195803105831146 | gen_loss: -0.09833836555480957\n",
      "Iteration: 2019 | disc_loss: -0.4133411645889282 | gen_loss: -0.06702234596014023\n",
      "Iteration: 2020 | disc_loss: -0.26252713799476624 | gen_loss: -0.17178156971931458\n",
      "Iteration: 2021 | disc_loss: -0.2922094464302063 | gen_loss: -0.09370976686477661\n",
      "Iteration: 2022 | disc_loss: -0.22545123100280762 | gen_loss: -0.10546824336051941\n",
      "Iteration: 2023 | disc_loss: -0.3783172070980072 | gen_loss: -0.18675994873046875\n",
      "Iteration: 2024 | disc_loss: -0.34385746717453003 | gen_loss: -0.12176147103309631\n",
      "Iteration: 2025 | disc_loss: -0.3739117383956909 | gen_loss: -0.11240684241056442\n",
      "Iteration: 2026 | disc_loss: -0.37796640396118164 | gen_loss: -0.03757725656032562\n",
      "Iteration: 2027 | disc_loss: -0.3851171135902405 | gen_loss: -0.10512255132198334\n",
      "Iteration: 2028 | disc_loss: -0.4263670742511749 | gen_loss: -0.10979059338569641\n",
      "Iteration: 2029 | disc_loss: -0.45617589354515076 | gen_loss: -0.06851202249526978\n",
      "Iteration: 2030 | disc_loss: -0.40985944867134094 | gen_loss: -0.05531831830739975\n",
      "Iteration: 2031 | disc_loss: -0.3251400291919708 | gen_loss: -0.07895233482122421\n",
      "Iteration: 2032 | disc_loss: -0.4052945077419281 | gen_loss: -0.09668732434511185\n",
      "Iteration: 2033 | disc_loss: -0.3800901770591736 | gen_loss: -0.14987823367118835\n",
      "Iteration: 2034 | disc_loss: -0.32810336351394653 | gen_loss: -0.06342165917158127\n",
      "Iteration: 2035 | disc_loss: -0.43774980306625366 | gen_loss: -0.07873835414648056\n",
      "Iteration: 2036 | disc_loss: -0.3340897560119629 | gen_loss: -0.06758015602827072\n",
      "Iteration: 2037 | disc_loss: -0.403827428817749 | gen_loss: -0.046238645911216736\n",
      "Iteration: 2038 | disc_loss: -0.38621118664741516 | gen_loss: -0.16304877400398254\n",
      "Iteration: 2039 | disc_loss: -0.3943063020706177 | gen_loss: -0.03257538750767708\n",
      "Iteration: 2040 | disc_loss: -0.37935423851013184 | gen_loss: -0.026399191468954086\n",
      "Iteration: 2041 | disc_loss: -0.3650713264942169 | gen_loss: -0.10017292946577072\n",
      "Iteration: 2042 | disc_loss: -0.3949657082557678 | gen_loss: -0.04494435340166092\n"
     ]
    },
    {
     "name": "stderr",
     "output_type": "stream",
     "text": [
      " 41%|████      | 2055/5001 [00:20<00:26, 113.01it/s]"
     ]
    },
    {
     "name": "stdout",
     "output_type": "stream",
     "text": [
      "Iteration: 2043 | disc_loss: -0.3771657943725586 | gen_loss: -0.14359086751937866\n",
      "Iteration: 2044 | disc_loss: -0.45860522985458374 | gen_loss: -0.17799383401870728\n",
      "Iteration: 2045 | disc_loss: -0.3633929491043091 | gen_loss: -0.09221620857715607\n",
      "Iteration: 2046 | disc_loss: -0.3350040316581726 | gen_loss: -0.02432798407971859\n",
      "Iteration: 2047 | disc_loss: -0.4259405732154846 | gen_loss: -0.051337920129299164\n",
      "Iteration: 2048 | disc_loss: -0.23418879508972168 | gen_loss: -0.12952646613121033\n",
      "Iteration: 2049 | disc_loss: -0.28074899315834045 | gen_loss: -0.05157245695590973\n",
      "Iteration: 2050 | disc_loss: -0.36708688735961914 | gen_loss: -0.14694589376449585\n",
      "Iteration: 2051 | disc_loss: -0.36781588196754456 | gen_loss: -0.1278354823589325\n",
      "Iteration: 2052 | disc_loss: -0.4118744134902954 | gen_loss: -0.05931270122528076\n",
      "Iteration: 2053 | disc_loss: -0.28642043471336365 | gen_loss: -0.056311801075935364\n",
      "Iteration: 2054 | disc_loss: -0.34335464239120483 | gen_loss: -0.03204275667667389\n",
      "Iteration: 2055 | disc_loss: -0.4067808985710144 | gen_loss: -0.08250761777162552\n",
      "Iteration: 2056 | disc_loss: -0.41872596740722656 | gen_loss: -0.16912493109703064\n",
      "Iteration: 2057 | disc_loss: -0.31027594208717346 | gen_loss: -0.10669612139463425\n",
      "Iteration: 2058 | disc_loss: -0.3004925847053528 | gen_loss: -0.05635513737797737\n",
      "Iteration: 2059 | disc_loss: -0.34447863698005676 | gen_loss: -0.042063158005476\n",
      "Iteration: 2060 | disc_loss: -0.3146545886993408 | gen_loss: -0.08088163286447525\n",
      "Iteration: 2061 | disc_loss: -0.417523592710495 | gen_loss: -0.12426964938640594\n",
      "Iteration: 2062 | disc_loss: -0.3731165826320648 | gen_loss: -0.04874182492494583\n",
      "Iteration: 2063 | disc_loss: -0.37393221259117126 | gen_loss: -0.048107556998729706\n",
      "Iteration: 2064 | disc_loss: -0.4403351843357086 | gen_loss: -0.08876501023769379\n"
     ]
    },
    {
     "name": "stderr",
     "output_type": "stream",
     "text": [
      " 42%|████▏     | 2079/5001 [00:20<00:26, 110.62it/s]"
     ]
    },
    {
     "name": "stdout",
     "output_type": "stream",
     "text": [
      "Iteration: 2065 | disc_loss: -0.45289182662963867 | gen_loss: -0.22984716296195984\n",
      "Iteration: 2066 | disc_loss: -0.09201735258102417 | gen_loss: -0.1270691454410553\n",
      "Iteration: 2067 | disc_loss: -0.41173335909843445 | gen_loss: -0.18825212121009827\n",
      "Iteration: 2068 | disc_loss: -0.139297753572464 | gen_loss: -0.1452122926712036\n",
      "Iteration: 2069 | disc_loss: -0.32537826895713806 | gen_loss: -0.07912584394216537\n",
      "Iteration: 2070 | disc_loss: -0.42136383056640625 | gen_loss: -0.19560015201568604\n",
      "Iteration: 2071 | disc_loss: -0.4407181143760681 | gen_loss: -0.12460543215274811\n",
      "Iteration: 2072 | disc_loss: -0.44395413994789124 | gen_loss: -0.1265448033809662\n",
      "Iteration: 2073 | disc_loss: -0.4693142771720886 | gen_loss: -0.13426761329174042\n",
      "Iteration: 2074 | disc_loss: -0.43721911311149597 | gen_loss: -0.02422236278653145\n",
      "Iteration: 2075 | disc_loss: -0.3949907422065735 | gen_loss: -0.0936986654996872\n",
      "Iteration: 2076 | disc_loss: -0.3942113518714905 | gen_loss: -0.1460191011428833\n",
      "Iteration: 2077 | disc_loss: -0.45211049914360046 | gen_loss: -0.05187968164682388\n",
      "Iteration: 2078 | disc_loss: -0.4051312506198883 | gen_loss: -0.026784881949424744\n",
      "Iteration: 2079 | disc_loss: -0.3248814046382904 | gen_loss: -0.06819795072078705\n",
      "Iteration: 2080 | disc_loss: -0.3982616066932678 | gen_loss: -0.12859641015529633\n",
      "Iteration: 2081 | disc_loss: -0.3131193518638611 | gen_loss: -0.17621982097625732\n",
      "Iteration: 2082 | disc_loss: -0.46335917711257935 | gen_loss: -0.08260466158390045\n",
      "Iteration: 2083 | disc_loss: -0.41260626912117004 | gen_loss: -0.13358646631240845\n",
      "Iteration: 2084 | disc_loss: -0.42862948775291443 | gen_loss: -0.1028757318854332\n",
      "Iteration: 2085 | disc_loss: -0.3632354438304901 | gen_loss: -0.05819237604737282\n",
      "Iteration: 2086 | disc_loss: -0.39482489228248596 | gen_loss: -0.058599814772605896\n",
      "Iteration: 2087 | disc_loss: -0.38267990946769714 | gen_loss: -0.032106928527355194\n"
     ]
    },
    {
     "name": "stderr",
     "output_type": "stream",
     "text": [
      " 42%|████▏     | 2104/5001 [00:20<00:25, 113.63it/s]"
     ]
    },
    {
     "name": "stdout",
     "output_type": "stream",
     "text": [
      "Iteration: 2088 | disc_loss: -0.3956006169319153 | gen_loss: -0.04980282112956047\n",
      "Iteration: 2089 | disc_loss: -0.3554392158985138 | gen_loss: -0.07578828185796738\n",
      "Iteration: 2090 | disc_loss: -0.3741191625595093 | gen_loss: -0.0945250540971756\n",
      "Iteration: 2091 | disc_loss: -0.36556997895240784 | gen_loss: -0.08667013049125671\n",
      "Iteration: 2092 | disc_loss: -0.4222792983055115 | gen_loss: -0.11371953040361404\n",
      "Iteration: 2093 | disc_loss: -0.4075884222984314 | gen_loss: -0.11474214494228363\n",
      "Iteration: 2094 | disc_loss: -0.3637334704399109 | gen_loss: -0.2083418220281601\n",
      "Iteration: 2095 | disc_loss: -0.45499178767204285 | gen_loss: -0.12641900777816772\n",
      "Iteration: 2096 | disc_loss: -0.426030695438385 | gen_loss: -0.09036842733621597\n",
      "Iteration: 2097 | disc_loss: -0.3017755150794983 | gen_loss: -0.0913027822971344\n",
      "Iteration: 2098 | disc_loss: -0.3761836886405945 | gen_loss: -0.11700168251991272\n",
      "Iteration: 2099 | disc_loss: -0.37162598967552185 | gen_loss: -0.09509039670228958\n",
      "Iteration: 2100 | disc_loss: -0.3802439868450165 | gen_loss: -0.10187456011772156\n",
      "Iteration: 2101 | disc_loss: -0.361355185508728 | gen_loss: -0.11876250803470612\n",
      "Iteration: 2102 | disc_loss: -0.34429770708084106 | gen_loss: -0.17126139998435974\n",
      "Iteration: 2103 | disc_loss: -0.3397979140281677 | gen_loss: -0.0767621248960495\n",
      "Iteration: 2104 | disc_loss: -0.29777559638023376 | gen_loss: -0.10061261802911758\n",
      "Iteration: 2105 | disc_loss: -0.42089971899986267 | gen_loss: -0.11502883583307266\n",
      "Iteration: 2106 | disc_loss: -0.4187746047973633 | gen_loss: -0.15263645350933075\n",
      "Iteration: 2107 | disc_loss: -0.46415966749191284 | gen_loss: -0.1292824149131775\n",
      "Iteration: 2108 | disc_loss: -0.4382437467575073 | gen_loss: -0.11008192598819733\n",
      "Iteration: 2109 | disc_loss: -0.39893829822540283 | gen_loss: -0.022980686277151108\n",
      "Iteration: 2110 | disc_loss: -0.3353899121284485 | gen_loss: -0.012392211705446243\n",
      "Iteration: 2111 | disc_loss: -0.3871307969093323 | gen_loss: -0.02612072043120861\n",
      "Iteration: 2112 | disc_loss: -0.38421908020973206 | gen_loss: -0.10133560746908188\n"
     ]
    },
    {
     "name": "stderr",
     "output_type": "stream",
     "text": [
      " 43%|████▎     | 2129/5001 [00:21<00:24, 116.65it/s]"
     ]
    },
    {
     "name": "stdout",
     "output_type": "stream",
     "text": [
      "Iteration: 2113 | disc_loss: -0.4180893898010254 | gen_loss: -0.08737396448850632\n",
      "Iteration: 2114 | disc_loss: -0.36796069145202637 | gen_loss: -0.08654599636793137\n",
      "Iteration: 2115 | disc_loss: -0.35488635301589966 | gen_loss: -0.06082367151975632\n",
      "Iteration: 2116 | disc_loss: -0.35564422607421875 | gen_loss: -0.03968042880296707\n",
      "Iteration: 2117 | disc_loss: -0.4225931465625763 | gen_loss: -0.11579018831253052\n",
      "Iteration: 2118 | disc_loss: -0.44309866428375244 | gen_loss: -0.1268269121646881\n",
      "Iteration: 2119 | disc_loss: -0.45120078325271606 | gen_loss: -0.13631048798561096\n",
      "Iteration: 2120 | disc_loss: -0.3235134184360504 | gen_loss: -0.10504327714443207\n",
      "Iteration: 2121 | disc_loss: -0.4032040238380432 | gen_loss: -0.13384488224983215\n",
      "Iteration: 2122 | disc_loss: -0.43720296025276184 | gen_loss: -0.11806291341781616\n",
      "Iteration: 2123 | disc_loss: -0.37577053904533386 | gen_loss: -0.15288521349430084\n",
      "Iteration: 2124 | disc_loss: -0.4527616798877716 | gen_loss: -0.06538346409797668\n",
      "Iteration: 2125 | disc_loss: -0.34962865710258484 | gen_loss: -0.11358904093503952\n",
      "Iteration: 2126 | disc_loss: -0.2812502086162567 | gen_loss: -0.1669827699661255\n",
      "Iteration: 2127 | disc_loss: -0.2856910228729248 | gen_loss: -0.14026027917861938\n",
      "Iteration: 2128 | disc_loss: -0.3884950280189514 | gen_loss: -0.09656217694282532\n",
      "Iteration: 2129 | disc_loss: -0.48055925965309143 | gen_loss: -0.2379438281059265\n",
      "Iteration: 2130 | disc_loss: -0.4349483251571655 | gen_loss: -0.16749367117881775\n",
      "Iteration: 2131 | disc_loss: -0.4514789581298828 | gen_loss: -0.13341546058654785\n",
      "Iteration: 2132 | disc_loss: -0.40277114510536194 | gen_loss: -0.1637544333934784\n",
      "Iteration: 2133 | disc_loss: -0.3883766531944275 | gen_loss: -0.243871808052063\n",
      "Iteration: 2134 | disc_loss: -0.3379255533218384 | gen_loss: -0.04775220528244972\n",
      "Iteration: 2135 | disc_loss: -0.3593519330024719 | gen_loss: -0.1054651141166687"
     ]
    },
    {
     "name": "stderr",
     "output_type": "stream",
     "text": [
      " 43%|████▎     | 2153/5001 [00:21<00:26, 107.56it/s]"
     ]
    },
    {
     "name": "stdout",
     "output_type": "stream",
     "text": [
      "\n",
      "Iteration: 2136 | disc_loss: -0.42726877331733704 | gen_loss: -0.11782771348953247\n",
      "Iteration: 2137 | disc_loss: -0.42309504747390747 | gen_loss: -0.103641077876091\n",
      "Iteration: 2138 | disc_loss: -0.36354729533195496 | gen_loss: -0.08584948629140854\n",
      "Iteration: 2139 | disc_loss: -0.38429567217826843 | gen_loss: -0.09888771176338196\n",
      "Iteration: 2140 | disc_loss: -0.39097604155540466 | gen_loss: -0.05273941904306412\n",
      "Iteration: 2141 | disc_loss: -0.34529462456703186 | gen_loss: -0.04994966834783554\n",
      "Iteration: 2142 | disc_loss: -0.36594441533088684 | gen_loss: -0.14661234617233276\n",
      "Iteration: 2143 | disc_loss: -0.46199455857276917 | gen_loss: -0.07360151410102844\n",
      "Iteration: 2144 | disc_loss: -0.3857172727584839 | gen_loss: -0.05482807382941246\n",
      "Iteration: 2145 | disc_loss: -0.36455321311950684 | gen_loss: -0.1538333296775818\n",
      "Iteration: 2146 | disc_loss: -0.38705340027809143 | gen_loss: -0.11258107423782349\n",
      "Iteration: 2147 | disc_loss: -0.32205337285995483 | gen_loss: -0.09473106265068054\n",
      "Iteration: 2148 | disc_loss: -0.30939367413520813 | gen_loss: -0.08526255190372467\n",
      "Iteration: 2149 | disc_loss: -0.45722028613090515 | gen_loss: -0.05777435004711151\n",
      "Iteration: 2150 | disc_loss: -0.3600473701953888 | gen_loss: -0.010276278480887413\n",
      "Iteration: 2151 | disc_loss: -0.3788085877895355 | gen_loss: -0.08504217863082886\n",
      "Iteration: 2152 | disc_loss: -0.3691178560256958 | gen_loss: -0.0723816379904747\n",
      "Iteration: 2153 | disc_loss: -0.3337528109550476 | gen_loss: -0.1953568458557129\n",
      "Iteration: 2154 | disc_loss: -0.40188318490982056 | gen_loss: -0.10299893468618393\n",
      "Iteration: 2155 | disc_loss: -0.43964889645576477 | gen_loss: -0.12362967431545258\n"
     ]
    },
    {
     "name": "stderr",
     "output_type": "stream",
     "text": [
      " 44%|████▎     | 2177/5001 [00:21<00:26, 107.64it/s]"
     ]
    },
    {
     "name": "stdout",
     "output_type": "stream",
     "text": [
      "Iteration: 2156 | disc_loss: -0.4178476929664612 | gen_loss: -0.1510741114616394\n",
      "Iteration: 2157 | disc_loss: -0.44047194719314575 | gen_loss: -0.1687067598104477\n",
      "Iteration: 2158 | disc_loss: -0.45572131872177124 | gen_loss: -0.12550686299800873\n",
      "Iteration: 2159 | disc_loss: -0.29140031337738037 | gen_loss: -0.03924433887004852\n",
      "Iteration: 2160 | disc_loss: -0.2958700358867645 | gen_loss: -0.06940847635269165\n",
      "Iteration: 2161 | disc_loss: -0.4094354808330536 | gen_loss: -0.11092378199100494\n",
      "Iteration: 2162 | disc_loss: -0.356417179107666 | gen_loss: -0.11306290328502655\n",
      "Iteration: 2163 | disc_loss: -0.37893837690353394 | gen_loss: -0.14190185070037842\n",
      "Iteration: 2164 | disc_loss: -0.3156189024448395 | gen_loss: -0.10142402350902557\n",
      "Iteration: 2165 | disc_loss: -0.4165768027305603 | gen_loss: -0.1315765678882599\n",
      "Iteration: 2166 | disc_loss: -0.39412257075309753 | gen_loss: -0.15192104876041412\n",
      "Iteration: 2167 | disc_loss: -0.4339219629764557 | gen_loss: -0.12692737579345703\n",
      "Iteration: 2168 | disc_loss: -0.4462202787399292 | gen_loss: -0.09801705181598663\n",
      "Iteration: 2169 | disc_loss: -0.3392789363861084 | gen_loss: -0.13244560360908508\n",
      "Iteration: 2170 | disc_loss: -0.3985441327095032 | gen_loss: -0.16922613978385925\n",
      "Iteration: 2171 | disc_loss: -0.2848750948905945 | gen_loss: -0.1102636456489563\n",
      "Iteration: 2172 | disc_loss: -0.3579901158809662 | gen_loss: -0.11420048773288727\n",
      "Iteration: 2173 | disc_loss: -0.4051140248775482 | gen_loss: -0.11527690291404724\n",
      "Iteration: 2174 | disc_loss: -0.404299259185791 | gen_loss: -0.13516801595687866\n",
      "Iteration: 2175 | disc_loss: -0.38987815380096436 | gen_loss: -0.22011971473693848\n",
      "Iteration: 2176 | disc_loss: -0.3974900543689728 | gen_loss: -0.23591192066669464\n",
      "Iteration: 2177 | disc_loss: -0.38237276673316956 | gen_loss: -0.1144610047340393\n"
     ]
    },
    {
     "name": "stderr",
     "output_type": "stream",
     "text": [
      " 44%|████▍     | 2201/5001 [00:21<00:25, 110.58it/s]"
     ]
    },
    {
     "name": "stdout",
     "output_type": "stream",
     "text": [
      "Iteration: 2178 | disc_loss: -0.24918816983699799 | gen_loss: -0.028558995574712753\n",
      "Iteration: 2179 | disc_loss: -0.3849828839302063 | gen_loss: -0.11973041296005249\n",
      "Iteration: 2180 | disc_loss: -0.44177281856536865 | gen_loss: -0.11304638534784317\n",
      "Iteration: 2181 | disc_loss: -0.38379642367362976 | gen_loss: -0.07692474871873856\n",
      "Iteration: 2182 | disc_loss: -0.36189863085746765 | gen_loss: -0.06416002660989761\n",
      "Iteration: 2183 | disc_loss: -0.4089806079864502 | gen_loss: -0.08750926703214645\n",
      "Iteration: 2184 | disc_loss: -0.28812524676322937 | gen_loss: -0.17183342576026917\n",
      "Iteration: 2185 | disc_loss: -0.4146887958049774 | gen_loss: -0.1553211808204651\n",
      "Iteration: 2186 | disc_loss: -0.3536044955253601 | gen_loss: -0.1548731029033661\n",
      "Iteration: 2187 | disc_loss: -0.33035609126091003 | gen_loss: -0.1290673017501831\n",
      "Iteration: 2188 | disc_loss: -0.33919569849967957 | gen_loss: -0.14400333166122437\n",
      "Iteration: 2189 | disc_loss: -0.40183982253074646 | gen_loss: -0.17351429164409637\n",
      "Iteration: 2190 | disc_loss: -0.3777524530887604 | gen_loss: -0.12570856511592865\n",
      "Iteration: 2191 | disc_loss: -0.41153424978256226 | gen_loss: -0.07662484794855118\n",
      "Iteration: 2192 | disc_loss: -0.21081039309501648 | gen_loss: -0.15847104787826538\n",
      "Iteration: 2193 | disc_loss: -0.36975598335266113 | gen_loss: -0.06571224331855774\n",
      "Iteration: 2194 | disc_loss: -0.3585579991340637 | gen_loss: -0.09677909314632416\n",
      "Iteration: 2195 | disc_loss: -0.3506907820701599 | gen_loss: -0.09030761569738388\n",
      "Iteration: 2196 | disc_loss: -0.4518376588821411 | gen_loss: -0.07421352714300156\n",
      "Iteration: 2197 | disc_loss: -0.3965403139591217 | gen_loss: -0.11868380010128021\n",
      "Iteration: 2198 | disc_loss: -0.39863571524620056 | gen_loss: -0.07144495099782944\n",
      "Iteration: 2199 | disc_loss: -0.24269942939281464 | gen_loss: -0.07855548709630966\n",
      "Iteration: 2200 | disc_loss: -0.390758752822876 | gen_loss: -0.08732970058917999\n"
     ]
    },
    {
     "name": "stderr",
     "output_type": "stream",
     "text": [
      " 45%|████▍     | 2226/5001 [00:22<00:23, 115.99it/s]"
     ]
    },
    {
     "name": "stdout",
     "output_type": "stream",
     "text": [
      "Iteration: 2201 | disc_loss: -0.37290215492248535 | gen_loss: -0.1355796903371811\n",
      "Iteration: 2202 | disc_loss: -0.3833981454372406 | gen_loss: -0.11691795289516449\n",
      "Iteration: 2203 | disc_loss: -0.33946388959884644 | gen_loss: -0.09008370339870453\n",
      "Iteration: 2204 | disc_loss: -0.41059643030166626 | gen_loss: -0.10867582261562347\n",
      "Iteration: 2205 | disc_loss: -0.3773653507232666 | gen_loss: -0.06038755923509598\n",
      "Iteration: 2206 | disc_loss: -0.3874904215335846 | gen_loss: -0.05420823022723198\n",
      "Iteration: 2207 | disc_loss: -0.40980005264282227 | gen_loss: -0.05363394320011139\n",
      "Iteration: 2208 | disc_loss: -0.360130250453949 | gen_loss: -0.0989927127957344\n",
      "Iteration: 2209 | disc_loss: -0.3977739214897156 | gen_loss: -0.13652832806110382\n",
      "Iteration: 2210 | disc_loss: -0.36645111441612244 | gen_loss: -0.09152179956436157\n",
      "Iteration: 2211 | disc_loss: -0.3991442322731018 | gen_loss: -0.08129717409610748\n",
      "Iteration: 2212 | disc_loss: -0.41172903776168823 | gen_loss: -0.16538435220718384\n",
      "Iteration: 2213 | disc_loss: -0.3244101107120514 | gen_loss: -0.16935759782791138\n",
      "Iteration: 2214 | disc_loss: -0.3898228704929352 | gen_loss: -0.12670841813087463\n",
      "Iteration: 2215 | disc_loss: -0.2020973414182663 | gen_loss: -0.10212945938110352\n",
      "Iteration: 2216 | disc_loss: -0.38952916860580444 | gen_loss: -0.06036139279603958\n",
      "Iteration: 2217 | disc_loss: -0.3827175199985504 | gen_loss: -0.1273222267627716\n",
      "Iteration: 2218 | disc_loss: -0.3278069794178009 | gen_loss: -0.09899300336837769\n",
      "Iteration: 2219 | disc_loss: -0.4149695932865143 | gen_loss: -0.03894203156232834\n",
      "Iteration: 2220 | disc_loss: -0.41241127252578735 | gen_loss: -0.09720446169376373\n",
      "Iteration: 2221 | disc_loss: -0.40963083505630493 | gen_loss: -0.15816587209701538\n",
      "Iteration: 2222 | disc_loss: -0.18474571406841278 | gen_loss: -0.0718221664428711\n",
      "Iteration: 2223 | disc_loss: -0.4136417806148529 | gen_loss: -0.09387992322444916\n",
      "Iteration: 2224 | disc_loss: -0.32022523880004883 | gen_loss: -0.058745741844177246\n",
      "Iteration: 2225 | disc_loss: -0.4026491940021515 | gen_loss: -0.06865748763084412\n",
      "Iteration: 2226 | disc_loss: -0.27995792031288147 | gen_loss: -0.05682777613401413\n",
      "Iteration: 2227 | disc_loss: -0.4495677649974823 | gen_loss: -0.06753695756196976\n"
     ]
    },
    {
     "name": "stderr",
     "output_type": "stream",
     "text": [
      " 45%|████▌     | 2255/5001 [00:22<00:21, 128.33it/s]"
     ]
    },
    {
     "name": "stdout",
     "output_type": "stream",
     "text": [
      "Iteration: 2228 | disc_loss: -0.41400232911109924 | gen_loss: 0.010793326422572136\n",
      "Iteration: 2229 | disc_loss: -0.3179432153701782 | gen_loss: -0.08871589601039886\n",
      "Iteration: 2230 | disc_loss: -0.42381447553634644 | gen_loss: -0.17303112149238586\n",
      "Iteration: 2231 | disc_loss: -0.2565975487232208 | gen_loss: -0.21211165189743042\n",
      "Iteration: 2232 | disc_loss: -0.4111579954624176 | gen_loss: -0.10664390027523041\n",
      "Iteration: 2233 | disc_loss: -0.4222063720226288 | gen_loss: -0.19528138637542725\n",
      "Iteration: 2234 | disc_loss: -0.4593178927898407 | gen_loss: -0.11152355372905731\n",
      "Iteration: 2235 | disc_loss: -0.34399843215942383 | gen_loss: -0.07246372103691101\n",
      "Iteration: 2236 | disc_loss: -0.3355473279953003 | gen_loss: -0.06657542288303375\n",
      "Iteration: 2237 | disc_loss: -0.3967180550098419 | gen_loss: -0.03439577668905258\n",
      "Iteration: 2238 | disc_loss: -0.44212231040000916 | gen_loss: -0.06865116953849792\n",
      "Iteration: 2239 | disc_loss: -0.2661326229572296 | gen_loss: -0.12118551880121231\n",
      "Iteration: 2240 | disc_loss: -0.39063549041748047 | gen_loss: -0.10938826203346252\n",
      "Iteration: 2241 | disc_loss: -0.36892029643058777 | gen_loss: -0.13899759948253632\n",
      "Iteration: 2242 | disc_loss: -0.3335047662258148 | gen_loss: -0.060441918671131134\n",
      "Iteration: 2243 | disc_loss: -0.4097031354904175 | gen_loss: -0.12460079789161682\n",
      "Iteration: 2244 | disc_loss: -0.3241574168205261 | gen_loss: -0.09834100306034088\n",
      "Iteration: 2245 | disc_loss: -0.3421850800514221 | gen_loss: -0.04929640516638756\n",
      "Iteration: 2246 | disc_loss: -0.4337739944458008 | gen_loss: -0.13284805417060852\n",
      "Iteration: 2247 | disc_loss: -0.4110514521598816 | gen_loss: -0.140616774559021\n",
      "Iteration: 2248 | disc_loss: -0.4016422629356384 | gen_loss: -0.14526012539863586\n",
      "Iteration: 2249 | disc_loss: -0.3883492648601532 | gen_loss: -0.13388189673423767\n",
      "Iteration: 2250 | disc_loss: -0.39285844564437866 | gen_loss: -0.056351352483034134\n",
      "Iteration: 2251 | disc_loss: -0.45879244804382324 | gen_loss: 0.15200060606002808\n",
      "Iteration: 2252 | disc_loss: -0.32825666666030884 | gen_loss: -0.03715718537569046\n",
      "Iteration: 2253 | disc_loss: -0.4173029959201813 | gen_loss: -0.04591621458530426\n",
      "Iteration: 2254 | disc_loss: -0.36619338393211365 | gen_loss: 0.020091623067855835\n",
      "Iteration: 2255 | disc_loss: -0.36568620800971985 | gen_loss: -0.040231816470623016\n",
      "Iteration: 2256 | disc_loss: -0.2729618549346924 | gen_loss: -0.0972164198756218\n"
     ]
    },
    {
     "name": "stderr",
     "output_type": "stream",
     "text": [
      " 45%|████▌     | 2268/5001 [00:22<00:21, 125.88it/s]"
     ]
    },
    {
     "name": "stdout",
     "output_type": "stream",
     "text": [
      "Iteration: 2257 | disc_loss: -0.24204351007938385 | gen_loss: -0.02064475789666176\n",
      "Iteration: 2258 | disc_loss: -0.3994121551513672 | gen_loss: -0.047269556671381\n",
      "Iteration: 2259 | disc_loss: -0.4130321145057678 | gen_loss: -0.0014537908136844635\n",
      "Iteration: 2260 | disc_loss: -0.2588663101196289 | gen_loss: -0.09534718096256256\n",
      "Iteration: 2261 | disc_loss: -0.2752942442893982 | gen_loss: -0.02806609496474266\n",
      "Iteration: 2262 | disc_loss: -0.32969745993614197 | gen_loss: -0.10882487893104553\n",
      "Iteration: 2263 | disc_loss: -0.37978309392929077 | gen_loss: -0.12164024263620377\n",
      "Iteration: 2264 | disc_loss: -0.32139286398887634 | gen_loss: -0.044180963188409805\n",
      "Iteration: 2265 | disc_loss: -0.3354494571685791 | gen_loss: -0.14603212475776672\n",
      "Iteration: 2266 | disc_loss: -0.3997069299221039 | gen_loss: -0.10130090266466141\n",
      "Iteration: 2267 | disc_loss: -0.446178138256073 | gen_loss: -0.15756256878376007\n",
      "Iteration: 2268 | disc_loss: -0.4430401027202606 | gen_loss: -0.1031191498041153\n",
      "Iteration: 2269 | disc_loss: -0.36623063683509827 | gen_loss: 0.011380568146705627\n",
      "Iteration: 2270 | disc_loss: -0.31291234493255615 | gen_loss: -0.06474599987268448\n",
      "Iteration: 2271 | disc_loss: -0.368466317653656 | gen_loss: -0.03790650516748428\n",
      "Iteration: 2272 | disc_loss: -0.4018050730228424 | gen_loss: -0.008378120139241219\n",
      "Iteration: 2273 | disc_loss: -0.3257157504558563 | gen_loss: -0.06683772057294846\n",
      "Iteration: 2274 | disc_loss: -0.36372509598731995 | gen_loss: -0.12354776263237\n",
      "Iteration: 2275 | disc_loss: -0.3803650438785553 | gen_loss: -0.10116241872310638\n",
      "Iteration: 2276 | disc_loss: -0.32156652212142944 | gen_loss: -0.08930835127830505\n",
      "Iteration: 2277 | disc_loss: -0.40373703837394714 | gen_loss: -0.07493489235639572\n",
      "Iteration: 2278 | disc_loss: -0.4315575957298279 | gen_loss: -0.1991034746170044\n",
      "Iteration: 2279 | disc_loss: -0.30249640345573425 | gen_loss: -0.12720000743865967\n"
     ]
    },
    {
     "name": "stderr",
     "output_type": "stream",
     "text": [
      " 46%|████▌     | 2294/5001 [00:22<00:24, 112.66it/s]"
     ]
    },
    {
     "name": "stdout",
     "output_type": "stream",
     "text": [
      "Iteration: 2280 | disc_loss: -0.3762809634208679 | gen_loss: -0.09179042279720306\n",
      "Iteration: 2281 | disc_loss: -0.44390320777893066 | gen_loss: -0.19108034670352936\n",
      "Iteration: 2282 | disc_loss: -0.445688396692276 | gen_loss: -0.14147919416427612\n",
      "Iteration: 2283 | disc_loss: -0.2543105483055115 | gen_loss: -0.12194913625717163\n",
      "Iteration: 2284 | disc_loss: -0.3954986333847046 | gen_loss: -0.11207323521375656\n",
      "Iteration: 2285 | disc_loss: -0.3210931718349457 | gen_loss: -0.1370941549539566\n",
      "Iteration: 2286 | disc_loss: -0.4325631558895111 | gen_loss: -0.14586184918880463\n",
      "Iteration: 2287 | disc_loss: -0.23145289719104767 | gen_loss: -0.034443482756614685\n",
      "Iteration: 2288 | disc_loss: -0.4194636642932892 | gen_loss: -0.055426545441150665\n",
      "Iteration: 2289 | disc_loss: -0.37332117557525635 | gen_loss: -0.09001438319683075\n",
      "Iteration: 2290 | disc_loss: -0.3339499533176422 | gen_loss: -0.08588096499443054\n",
      "Iteration: 2291 | disc_loss: -0.41538339853286743 | gen_loss: -0.03664625436067581\n",
      "Iteration: 2292 | disc_loss: -0.40210288763046265 | gen_loss: -0.08356708288192749\n",
      "Iteration: 2293 | disc_loss: -0.04289746284484863 | gen_loss: -0.09677496552467346\n",
      "Iteration: 2294 | disc_loss: -0.3685939311981201 | gen_loss: -0.09457674622535706\n",
      "Iteration: 2295 | disc_loss: -0.39196449518203735 | gen_loss: -0.13472533226013184\n",
      "Iteration: 2296 | disc_loss: -0.3975091576576233 | gen_loss: -0.1704891324043274\n",
      "Iteration: 2297 | disc_loss: -0.36880025267601013 | gen_loss: -0.09073855727910995\n",
      "Iteration: 2298 | disc_loss: -0.39345619082450867 | gen_loss: -0.08752605319023132\n",
      "Iteration: 2299 | disc_loss: -0.3224400281906128 | gen_loss: -0.08366727828979492\n",
      "Iteration: 2300 | disc_loss: -0.3540504276752472 | gen_loss: -0.08214441686868668\n"
     ]
    },
    {
     "name": "stderr",
     "output_type": "stream",
     "text": [
      " 46%|████▋     | 2318/5001 [00:22<00:24, 110.41it/s]"
     ]
    },
    {
     "name": "stdout",
     "output_type": "stream",
     "text": [
      "Iteration: 2301 | disc_loss: -0.26229923963546753 | gen_loss: -0.04759818688035011\n",
      "Iteration: 2302 | disc_loss: -0.2581711709499359 | gen_loss: -0.07230634987354279\n",
      "Iteration: 2303 | disc_loss: -0.3831271231174469 | gen_loss: -0.05714523792266846\n",
      "Iteration: 2304 | disc_loss: -0.38208678364753723 | gen_loss: -0.04483407363295555\n",
      "Iteration: 2305 | disc_loss: -0.41582685708999634 | gen_loss: -0.1306987702846527\n",
      "Iteration: 2306 | disc_loss: -0.2894197106361389 | gen_loss: -0.10510626435279846\n",
      "Iteration: 2307 | disc_loss: -0.35565048456192017 | gen_loss: -0.11179976165294647\n",
      "Iteration: 2308 | disc_loss: -0.4275209605693817 | gen_loss: -0.06908847391605377\n",
      "Iteration: 2309 | disc_loss: -0.3644162714481354 | gen_loss: -0.018265483900904655\n",
      "Iteration: 2310 | disc_loss: -0.32554712891578674 | gen_loss: -0.06917234510183334\n",
      "Iteration: 2311 | disc_loss: -0.37303850054740906 | gen_loss: -0.11249929666519165\n",
      "Iteration: 2312 | disc_loss: -0.24376028776168823 | gen_loss: -0.1402985006570816\n",
      "Iteration: 2313 | disc_loss: -0.41113847494125366 | gen_loss: -0.05355134978890419\n",
      "Iteration: 2314 | disc_loss: -0.36503085494041443 | gen_loss: -0.07648414373397827\n",
      "Iteration: 2315 | disc_loss: -0.4061868190765381 | gen_loss: -0.08594924956560135\n",
      "Iteration: 2316 | disc_loss: -0.4061795473098755 | gen_loss: -0.09915491938591003\n",
      "Iteration: 2317 | disc_loss: -0.3823711574077606 | gen_loss: -0.13805744051933289\n",
      "Iteration: 2318 | disc_loss: -0.3743947148323059 | gen_loss: -0.123050756752491\n",
      "Iteration: 2319 | disc_loss: -0.2993680238723755 | gen_loss: -0.07608500123023987\n",
      "Iteration: 2320 | disc_loss: -0.35786810517311096 | gen_loss: -0.09737631678581238\n",
      "Iteration: 2321 | disc_loss: -0.36557310819625854 | gen_loss: -0.057916246354579926\n",
      "Iteration: 2322 | disc_loss: -0.37354740500450134 | gen_loss: -0.09173661470413208\n"
     ]
    },
    {
     "name": "stderr",
     "output_type": "stream",
     "text": [
      " 47%|████▋     | 2342/5001 [00:23<00:25, 103.95it/s]"
     ]
    },
    {
     "name": "stdout",
     "output_type": "stream",
     "text": [
      "Iteration: 2323 | disc_loss: -0.3888814151287079 | gen_loss: -0.12546801567077637\n",
      "Iteration: 2324 | disc_loss: -0.21679551899433136 | gen_loss: -0.1850779950618744\n",
      "Iteration: 2325 | disc_loss: -0.29734933376312256 | gen_loss: -0.07683596760034561\n",
      "Iteration: 2326 | disc_loss: -0.3823873698711395 | gen_loss: -0.15027296543121338\n",
      "Iteration: 2327 | disc_loss: -0.26932764053344727 | gen_loss: -0.0458410382270813\n",
      "Iteration: 2328 | disc_loss: -0.39387765526771545 | gen_loss: -0.05952652543783188\n",
      "Iteration: 2329 | disc_loss: -0.3947804272174835 | gen_loss: -0.05418843775987625\n",
      "Iteration: 2330 | disc_loss: -0.4128221571445465 | gen_loss: -0.14416798949241638\n",
      "Iteration: 2331 | disc_loss: -0.39637520909309387 | gen_loss: -0.10455100238323212\n",
      "Iteration: 2332 | disc_loss: -0.3886953294277191 | gen_loss: -0.0734223872423172\n",
      "Iteration: 2333 | disc_loss: -0.3421069085597992 | gen_loss: -0.10977532714605331\n",
      "Iteration: 2334 | disc_loss: -0.4223215878009796 | gen_loss: -0.12797367572784424\n",
      "Iteration: 2335 | disc_loss: -0.354880154132843 | gen_loss: -0.14310014247894287\n",
      "Iteration: 2336 | disc_loss: -0.3111564815044403 | gen_loss: -0.10184008628129959\n",
      "Iteration: 2337 | disc_loss: -0.3052434027194977 | gen_loss: -0.10078982263803482\n",
      "Iteration: 2338 | disc_loss: -0.3132297694683075 | gen_loss: -0.11537390947341919\n",
      "Iteration: 2339 | disc_loss: -0.3646647036075592 | gen_loss: -0.1529855877161026\n",
      "Iteration: 2340 | disc_loss: -0.35894131660461426 | gen_loss: -0.10551717877388\n",
      "Iteration: 2341 | disc_loss: -0.44143861532211304 | gen_loss: -0.15563863515853882\n",
      "Iteration: 2342 | disc_loss: -0.24497535824775696 | gen_loss: -0.0819425880908966\n",
      "Iteration: 2343 | disc_loss: -0.3212280571460724 | gen_loss: -0.05720830708742142\n"
     ]
    },
    {
     "name": "stderr",
     "output_type": "stream",
     "text": [
      " 47%|████▋     | 2369/5001 [00:23<00:22, 116.11it/s]"
     ]
    },
    {
     "name": "stdout",
     "output_type": "stream",
     "text": [
      "Iteration: 2344 | disc_loss: -0.3078652024269104 | gen_loss: -0.0965140163898468\n",
      "Iteration: 2345 | disc_loss: -0.3729032874107361 | gen_loss: -0.0974009558558464\n",
      "Iteration: 2346 | disc_loss: -0.40439245104789734 | gen_loss: -0.13174772262573242\n",
      "Iteration: 2347 | disc_loss: -0.41451483964920044 | gen_loss: -0.10564011335372925\n",
      "Iteration: 2348 | disc_loss: -0.4299596846103668 | gen_loss: -0.16926655173301697\n",
      "Iteration: 2349 | disc_loss: -0.3903696537017822 | gen_loss: -0.1580856442451477\n",
      "Iteration: 2350 | disc_loss: -0.3902607262134552 | gen_loss: -0.16158607602119446\n",
      "Iteration: 2351 | disc_loss: -0.3865988254547119 | gen_loss: -0.14659351110458374\n",
      "Iteration: 2352 | disc_loss: -0.36416804790496826 | gen_loss: -0.19325578212738037\n",
      "Iteration: 2353 | disc_loss: -0.3015623092651367 | gen_loss: -0.13007082045078278\n",
      "Iteration: 2354 | disc_loss: -0.3961172103881836 | gen_loss: -0.12119519710540771\n",
      "Iteration: 2355 | disc_loss: -0.3471946716308594 | gen_loss: -0.09659437835216522\n",
      "Iteration: 2356 | disc_loss: -0.3680655062198639 | gen_loss: -0.13511300086975098\n",
      "Iteration: 2357 | disc_loss: -0.2991531789302826 | gen_loss: -0.20904134213924408\n",
      "Iteration: 2358 | disc_loss: -0.379498153924942 | gen_loss: -0.16456203162670135\n",
      "Iteration: 2359 | disc_loss: -0.32890966534614563 | gen_loss: -0.09299871325492859\n",
      "Iteration: 2360 | disc_loss: -0.3599240183830261 | gen_loss: -0.11619345843791962\n",
      "Iteration: 2361 | disc_loss: -0.37751466035842896 | gen_loss: -0.07539819926023483\n",
      "Iteration: 2362 | disc_loss: -0.3812442719936371 | gen_loss: -0.08841172605752945\n",
      "Iteration: 2363 | disc_loss: -0.3489856719970703 | gen_loss: -0.10687604546546936\n",
      "Iteration: 2364 | disc_loss: -0.34009796380996704 | gen_loss: -0.10150007903575897\n",
      "Iteration: 2365 | disc_loss: -0.34114477038383484 | gen_loss: -0.06617166846990585\n",
      "Iteration: 2366 | disc_loss: -0.2668454051017761 | gen_loss: -0.05507778376340866\n",
      "Iteration: 2367 | disc_loss: -0.2683848738670349 | gen_loss: -0.06433624774217606\n",
      "Iteration: 2368 | disc_loss: -0.3403700590133667 | gen_loss: -0.11805111169815063\n",
      "Iteration: 2369 | disc_loss: -0.4120042622089386 | gen_loss: -0.012076114304363728\n",
      "Iteration: 2370 | disc_loss: -0.3899131715297699 | gen_loss: -0.12683507800102234\n"
     ]
    },
    {
     "name": "stderr",
     "output_type": "stream",
     "text": [
      " 48%|████▊     | 2395/5001 [00:23<00:21, 120.82it/s]"
     ]
    },
    {
     "name": "stdout",
     "output_type": "stream",
     "text": [
      "Iteration: 2371 | disc_loss: -0.377188503742218 | gen_loss: -0.08533785492181778\n",
      "Iteration: 2372 | disc_loss: -0.34373804926872253 | gen_loss: 0.027359437197446823\n",
      "Iteration: 2373 | disc_loss: -0.36165931820869446 | gen_loss: 0.10689513385295868\n",
      "Iteration: 2374 | disc_loss: -0.38144439458847046 | gen_loss: -0.12928380072116852\n",
      "Iteration: 2375 | disc_loss: -0.37300780415534973 | gen_loss: -0.0999719649553299\n",
      "Iteration: 2376 | disc_loss: -0.46324622631073 | gen_loss: -0.08579172939062119\n",
      "Iteration: 2377 | disc_loss: -0.4341268539428711 | gen_loss: -0.05940621718764305\n",
      "Iteration: 2378 | disc_loss: -0.37112030386924744 | gen_loss: -0.0175571758300066\n",
      "Iteration: 2379 | disc_loss: -0.39298996329307556 | gen_loss: -0.10969424992799759\n",
      "Iteration: 2380 | disc_loss: -0.3473418056964874 | gen_loss: -0.04138265550136566\n",
      "Iteration: 2381 | disc_loss: -0.3675096035003662 | gen_loss: -0.1244773119688034\n",
      "Iteration: 2382 | disc_loss: -0.40345633029937744 | gen_loss: -0.05168059468269348\n",
      "Iteration: 2383 | disc_loss: -0.31372666358947754 | gen_loss: -0.13163526356220245\n",
      "Iteration: 2384 | disc_loss: -0.41974207758903503 | gen_loss: -0.10134659707546234\n",
      "Iteration: 2385 | disc_loss: -0.41272878646850586 | gen_loss: -0.10808467119932175\n",
      "Iteration: 2386 | disc_loss: -0.36279597878456116 | gen_loss: -0.12066289037466049\n",
      "Iteration: 2387 | disc_loss: -0.2990214228630066 | gen_loss: -0.19547046720981598\n",
      "Iteration: 2388 | disc_loss: -0.36842766404151917 | gen_loss: -0.09877115488052368\n",
      "Iteration: 2389 | disc_loss: -0.39591875672340393 | gen_loss: -0.17594408988952637\n",
      "Iteration: 2390 | disc_loss: -0.31691259145736694 | gen_loss: -0.1294936239719391\n",
      "Iteration: 2391 | disc_loss: -0.3982703983783722 | gen_loss: -0.16293063759803772\n",
      "Iteration: 2392 | disc_loss: -0.4128229320049286 | gen_loss: -0.07881170511245728\n",
      "Iteration: 2393 | disc_loss: -0.3712029457092285 | gen_loss: 0.028037430718541145\n",
      "Iteration: 2394 | disc_loss: -0.3675319254398346 | gen_loss: -0.07312428951263428\n",
      "Iteration: 2395 | disc_loss: -0.38885557651519775 | gen_loss: -0.0961509421467781\n"
     ]
    },
    {
     "name": "stderr",
     "output_type": "stream",
     "text": [
      " 48%|████▊     | 2408/5001 [00:23<00:23, 112.74it/s]"
     ]
    },
    {
     "name": "stdout",
     "output_type": "stream",
     "text": [
      "Iteration: 2396 | disc_loss: -0.3565180003643036 | gen_loss: -0.10244463384151459\n",
      "Iteration: 2397 | disc_loss: -0.364895761013031 | gen_loss: -0.11015971004962921\n",
      "Iteration: 2398 | disc_loss: -0.3482227921485901 | gen_loss: -0.12553128600120544\n",
      "Iteration: 2399 | disc_loss: -0.4005742371082306 | gen_loss: -0.1310320496559143\n",
      "Iteration: 2400 | disc_loss: -0.11405220627784729 | gen_loss: -0.05704557150602341\n",
      "Iteration: 2401 | disc_loss: -0.3518485128879547 | gen_loss: -0.03942732512950897\n",
      "Iteration: 2402 | disc_loss: -0.3482479155063629 | gen_loss: -0.05015763267874718\n",
      "Iteration: 2403 | disc_loss: -0.3791707754135132 | gen_loss: -0.02516752853989601\n",
      "Iteration: 2404 | disc_loss: -0.382534921169281 | gen_loss: -0.11724261194467545\n",
      "Iteration: 2405 | disc_loss: -0.43338871002197266 | gen_loss: -0.16675904393196106\n",
      "Iteration: 2406 | disc_loss: -0.4164731204509735 | gen_loss: -0.21422696113586426\n",
      "Iteration: 2407 | disc_loss: -0.3690410554409027 | gen_loss: -0.08161412924528122\n",
      "Iteration: 2408 | disc_loss: -0.1562562882900238 | gen_loss: -0.0950755774974823\n",
      "Iteration: 2409 | disc_loss: -0.337790846824646 | gen_loss: -0.0864860787987709\n",
      "Iteration: 2410 | disc_loss: -0.3152225613594055 | gen_loss: -0.06403765827417374\n",
      "Iteration: 2411 | disc_loss: -0.4042426645755768 | gen_loss: -0.08911820501089096\n",
      "Iteration: 2412 | disc_loss: -0.21002113819122314 | gen_loss: -0.11380214989185333\n",
      "Iteration: 2413 | disc_loss: -0.36001020669937134 | gen_loss: -0.08170908689498901\n",
      "Iteration: 2414 | disc_loss: -0.3935706317424774 | gen_loss: -0.07915601134300232\n",
      "Iteration: 2415 | disc_loss: -0.38663384318351746 | gen_loss: -0.03926445171236992\n",
      "Iteration: 2416 | disc_loss: -0.3863662779331207 | gen_loss: -0.11186350882053375\n"
     ]
    },
    {
     "name": "stderr",
     "output_type": "stream",
     "text": [
      " 49%|████▊     | 2432/5001 [00:23<00:23, 111.37it/s]"
     ]
    },
    {
     "name": "stdout",
     "output_type": "stream",
     "text": [
      "Iteration: 2417 | disc_loss: -0.33013486862182617 | gen_loss: 0.03854238614439964\n",
      "Iteration: 2418 | disc_loss: -0.3940429091453552 | gen_loss: -0.07186602056026459\n",
      "Iteration: 2419 | disc_loss: -0.4281117022037506 | gen_loss: -0.08547857403755188\n",
      "Iteration: 2420 | disc_loss: -0.28000879287719727 | gen_loss: -0.09559856355190277\n",
      "Iteration: 2421 | disc_loss: -0.37330788373947144 | gen_loss: -0.10231047123670578\n",
      "Iteration: 2422 | disc_loss: -0.3650193214416504 | gen_loss: -0.04593740031123161\n",
      "Iteration: 2423 | disc_loss: -0.2905304729938507 | gen_loss: -0.02657146379351616\n",
      "Iteration: 2424 | disc_loss: -0.30908510088920593 | gen_loss: -0.05564916878938675\n",
      "Iteration: 2425 | disc_loss: -0.4423646330833435 | gen_loss: -0.007152065634727478\n",
      "Iteration: 2426 | disc_loss: -0.3477950692176819 | gen_loss: -0.07600264251232147\n",
      "Iteration: 2427 | disc_loss: -0.4374854862689972 | gen_loss: -0.12614008784294128\n",
      "Iteration: 2428 | disc_loss: -0.3704714775085449 | gen_loss: -0.08804236352443695\n",
      "Iteration: 2429 | disc_loss: -0.40797120332717896 | gen_loss: -0.07596680521965027\n",
      "Iteration: 2430 | disc_loss: -0.37270230054855347 | gen_loss: -0.06133449822664261\n",
      "Iteration: 2431 | disc_loss: -0.3887580335140228 | gen_loss: -0.1103949174284935\n",
      "Iteration: 2432 | disc_loss: -0.09408897161483765 | gen_loss: -0.07178433239459991\n",
      "Iteration: 2433 | disc_loss: -0.3915897011756897 | gen_loss: -0.06957332789897919\n",
      "Iteration: 2434 | disc_loss: -0.3766932189464569 | gen_loss: -0.08759592473506927\n",
      "Iteration: 2435 | disc_loss: -0.397171288728714 | gen_loss: -0.08394685387611389\n",
      "Iteration: 2436 | disc_loss: -0.4025248885154724 | gen_loss: -0.12591436505317688\n",
      "Iteration: 2437 | disc_loss: -0.3889100253582001 | gen_loss: -0.09740427136421204\n",
      "Iteration: 2438 | disc_loss: -0.37417319416999817 | gen_loss: -0.10305741429328918\n"
     ]
    },
    {
     "name": "stderr",
     "output_type": "stream",
     "text": [
      " 49%|████▉     | 2455/5001 [00:24<00:23, 108.16it/s]"
     ]
    },
    {
     "name": "stdout",
     "output_type": "stream",
     "text": [
      "Iteration: 2439 | disc_loss: -0.25534549355506897 | gen_loss: -0.0737961009144783\n",
      "Iteration: 2440 | disc_loss: -0.3522435426712036 | gen_loss: -0.13136500120162964\n",
      "Iteration: 2441 | disc_loss: -0.3815932273864746 | gen_loss: -0.1159946471452713\n",
      "Iteration: 2442 | disc_loss: -0.3741641342639923 | gen_loss: -0.024021700024604797\n",
      "Iteration: 2443 | disc_loss: -0.44501182436943054 | gen_loss: -0.13028666377067566\n",
      "Iteration: 2444 | disc_loss: -0.38204070925712585 | gen_loss: -0.05538363754749298\n",
      "Iteration: 2445 | disc_loss: -0.42758455872535706 | gen_loss: -0.12230220437049866\n",
      "Iteration: 2446 | disc_loss: -0.4014998972415924 | gen_loss: -0.08480887115001678\n",
      "Iteration: 2447 | disc_loss: -0.34207242727279663 | gen_loss: -0.11358560621738434\n",
      "Iteration: 2448 | disc_loss: -0.35214462876319885 | gen_loss: -0.02284049615263939\n",
      "Iteration: 2449 | disc_loss: -0.3335448205471039 | gen_loss: -0.07267458736896515\n",
      "Iteration: 2450 | disc_loss: -0.4306512475013733 | gen_loss: -0.0871223658323288\n",
      "Iteration: 2451 | disc_loss: -0.32317054271698 | gen_loss: -0.09050977230072021\n",
      "Iteration: 2452 | disc_loss: -0.3547840714454651 | gen_loss: -0.09311289340257645\n",
      "Iteration: 2453 | disc_loss: -0.3438436985015869 | gen_loss: -0.06496664136648178\n",
      "Iteration: 2454 | disc_loss: -0.36113879084587097 | gen_loss: -0.1254088580608368\n",
      "Iteration: 2455 | disc_loss: -0.4255966246128082 | gen_loss: -0.050324782729148865\n",
      "Iteration: 2456 | disc_loss: -0.38774868845939636 | gen_loss: -0.07944890856742859\n",
      "Iteration: 2457 | disc_loss: -0.4414125382900238 | gen_loss: -0.12061768025159836\n",
      "Iteration: 2458 | disc_loss: -0.3851185142993927 | gen_loss: -0.10501771420240402\n",
      "Iteration: 2459 | disc_loss: -0.34564101696014404 | gen_loss: -0.02671729400753975\n"
     ]
    },
    {
     "name": "stderr",
     "output_type": "stream",
     "text": [
      " 50%|████▉     | 2477/5001 [00:24<00:23, 107.39it/s]"
     ]
    },
    {
     "name": "stdout",
     "output_type": "stream",
     "text": [
      "Iteration: 2460 | disc_loss: -0.3457238972187042 | gen_loss: -0.06572306901216507\n",
      "Iteration: 2461 | disc_loss: -0.40016770362854004 | gen_loss: -0.10939426720142365\n",
      "Iteration: 2462 | disc_loss: -0.4531846344470978 | gen_loss: -0.03515634685754776\n",
      "Iteration: 2463 | disc_loss: -0.3852878510951996 | gen_loss: 0.009891590103507042\n",
      "Iteration: 2464 | disc_loss: -0.44767940044403076 | gen_loss: -0.05401323735713959\n",
      "Iteration: 2465 | disc_loss: -0.3531753420829773 | gen_loss: -0.07296629995107651\n",
      "Iteration: 2466 | disc_loss: -0.3166733384132385 | gen_loss: -0.09686984121799469\n",
      "Iteration: 2467 | disc_loss: -0.3278766870498657 | gen_loss: -0.07778678834438324\n",
      "Iteration: 2468 | disc_loss: -0.389169842004776 | gen_loss: -0.031214218586683273\n",
      "Iteration: 2469 | disc_loss: -0.2836001515388489 | gen_loss: -0.06396353244781494\n",
      "Iteration: 2470 | disc_loss: -0.34160786867141724 | gen_loss: -0.02304106578230858\n",
      "Iteration: 2471 | disc_loss: -0.28957363963127136 | gen_loss: -0.08032335340976715\n",
      "Iteration: 2472 | disc_loss: -0.3885003328323364 | gen_loss: -0.14755931496620178\n",
      "Iteration: 2473 | disc_loss: -0.3777989149093628 | gen_loss: -0.08790699392557144\n",
      "Iteration: 2474 | disc_loss: -0.4644876718521118 | gen_loss: -0.13005384802818298\n",
      "Iteration: 2475 | disc_loss: -0.4278448820114136 | gen_loss: -0.09933795034885406\n",
      "Iteration: 2476 | disc_loss: -0.3459019362926483 | gen_loss: -0.08155076205730438\n",
      "Iteration: 2477 | disc_loss: -0.36044564843177795 | gen_loss: -0.07161996513605118\n",
      "Iteration: 2478 | disc_loss: -0.37580808997154236 | gen_loss: -0.13002783060073853\n",
      "Iteration: 2479 | disc_loss: -0.2811209261417389 | gen_loss: -0.06901231408119202\n",
      "Iteration: 2480 | disc_loss: -0.4386744499206543 | gen_loss: -0.09299613535404205\n",
      "Iteration: 2481 | disc_loss: -0.4148634970188141 | gen_loss: -0.058645397424697876\n",
      "Iteration: 2482 | disc_loss: -0.2986070215702057 | gen_loss: -0.049955517053604126\n"
     ]
    },
    {
     "name": "stderr",
     "output_type": "stream",
     "text": [
      " 50%|████▉     | 2500/5001 [00:24<00:23, 108.40it/s]"
     ]
    },
    {
     "name": "stdout",
     "output_type": "stream",
     "text": [
      "Iteration: 2483 | disc_loss: -0.3143458366394043 | gen_loss: -0.014453379437327385\n",
      "Iteration: 2484 | disc_loss: -0.3679080009460449 | gen_loss: -0.04974932223558426\n",
      "Iteration: 2485 | disc_loss: -0.2895122170448303 | gen_loss: -0.12465396523475647\n",
      "Iteration: 2486 | disc_loss: -0.3973262906074524 | gen_loss: -0.14111845195293427\n",
      "Iteration: 2487 | disc_loss: -0.33146220445632935 | gen_loss: -0.1362176090478897\n",
      "Iteration: 2488 | disc_loss: -0.37135863304138184 | gen_loss: -0.08542260527610779\n",
      "Iteration: 2489 | disc_loss: -0.3909546136856079 | gen_loss: -0.1938193440437317\n",
      "Iteration: 2490 | disc_loss: -0.4026910960674286 | gen_loss: -0.11266810446977615\n",
      "Iteration: 2491 | disc_loss: -0.416445791721344 | gen_loss: -0.08700941503047943\n",
      "Iteration: 2492 | disc_loss: -0.3312303423881531 | gen_loss: -0.07129676640033722\n",
      "Iteration: 2493 | disc_loss: -0.33451756834983826 | gen_loss: -0.056909553706645966\n",
      "Iteration: 2494 | disc_loss: -0.36735600233078003 | gen_loss: -0.06009110063314438\n",
      "Iteration: 2495 | disc_loss: -0.3564804792404175 | gen_loss: -0.07690693438053131\n",
      "Iteration: 2496 | disc_loss: -0.3707079589366913 | gen_loss: -0.17248737812042236\n",
      "Iteration: 2497 | disc_loss: -0.38213956356048584 | gen_loss: -0.20857582986354828\n",
      "Iteration: 2498 | disc_loss: -0.050772517919540405 | gen_loss: -0.09646095335483551\n",
      "Iteration: 2499 | disc_loss: -0.36568450927734375 | gen_loss: -0.05119214951992035\n",
      "Iteration: 2500 | disc_loss: -0.3585343360900879 | gen_loss: -0.04292820394039154\n",
      "Iteration: 2501 | disc_loss: -0.39615923166275024 | gen_loss: -0.04116548225283623\n",
      "Iteration: 2502 | disc_loss: -0.3208036720752716 | gen_loss: -0.13480046391487122\n",
      "Iteration: 2503 | disc_loss: -0.4355164170265198 | gen_loss: -0.02662711776793003\n",
      "Iteration: 2504 | disc_loss: -0.3538748323917389 | gen_loss: -0.036836422979831696\n",
      "Iteration: 2505 | disc_loss: -0.20855408906936646 | gen_loss: -0.11844480782747269\n"
     ]
    },
    {
     "name": "stderr",
     "output_type": "stream",
     "text": [
      " 50%|█████     | 2522/5001 [00:24<00:23, 103.55it/s]"
     ]
    },
    {
     "name": "stdout",
     "output_type": "stream",
     "text": [
      "Iteration: 2506 | disc_loss: -0.45970049500465393 | gen_loss: -0.1467815339565277\n",
      "Iteration: 2507 | disc_loss: -0.3285650908946991 | gen_loss: -0.12066018581390381\n",
      "Iteration: 2508 | disc_loss: -0.36967697739601135 | gen_loss: -0.13551169633865356\n",
      "Iteration: 2509 | disc_loss: -0.3492966890335083 | gen_loss: -0.07684099674224854\n",
      "Iteration: 2510 | disc_loss: -0.309438556432724 | gen_loss: -0.10880068689584732\n",
      "Iteration: 2511 | disc_loss: -0.33064329624176025 | gen_loss: -0.05073635280132294\n",
      "Iteration: 2512 | disc_loss: -0.3126814663410187 | gen_loss: -0.1793181598186493\n",
      "Iteration: 2513 | disc_loss: -0.4105127155780792 | gen_loss: -0.08059102296829224\n",
      "Iteration: 2514 | disc_loss: -0.35919880867004395 | gen_loss: -0.111787348985672\n",
      "Iteration: 2515 | disc_loss: -0.41775012016296387 | gen_loss: -0.11557789146900177\n",
      "Iteration: 2516 | disc_loss: -0.4401639997959137 | gen_loss: -0.07290410250425339\n",
      "Iteration: 2517 | disc_loss: -0.4175119400024414 | gen_loss: -0.04951005056500435\n",
      "Iteration: 2518 | disc_loss: -0.3606530725955963 | gen_loss: -0.01478421688079834\n",
      "Iteration: 2519 | disc_loss: -0.4197595417499542 | gen_loss: -0.08075731992721558\n",
      "Iteration: 2520 | disc_loss: -0.35790500044822693 | gen_loss: -0.06540311127901077\n",
      "Iteration: 2521 | disc_loss: -0.29167938232421875 | gen_loss: 0.043634384870529175\n",
      "Iteration: 2522 | disc_loss: -0.25552451610565186 | gen_loss: -0.09803506731987\n",
      "Iteration: 2523 | disc_loss: -0.35269713401794434 | gen_loss: -0.06497813016176224\n",
      "Iteration: 2524 | disc_loss: -0.4004281163215637 | gen_loss: -0.10008016228675842\n",
      "Iteration: 2525 | disc_loss: -0.4202966094017029 | gen_loss: -0.12024258077144623\n"
     ]
    },
    {
     "name": "stderr",
     "output_type": "stream",
     "text": [
      " 51%|█████     | 2544/5001 [00:24<00:23, 103.54it/s]"
     ]
    },
    {
     "name": "stdout",
     "output_type": "stream",
     "text": [
      "Iteration: 2526 | disc_loss: -0.289520263671875 | gen_loss: -0.11481574922800064\n",
      "Iteration: 2527 | disc_loss: -0.38918066024780273 | gen_loss: -0.04998854175209999\n",
      "Iteration: 2528 | disc_loss: -0.36463508009910583 | gen_loss: -0.061409108340740204\n",
      "Iteration: 2529 | disc_loss: -0.23670804500579834 | gen_loss: -0.04800788313150406\n",
      "Iteration: 2530 | disc_loss: -0.38469499349594116 | gen_loss: -0.07539896667003632\n",
      "Iteration: 2531 | disc_loss: -0.4360021948814392 | gen_loss: -0.07052363455295563\n",
      "Iteration: 2532 | disc_loss: -0.36177870631217957 | gen_loss: -0.12182595580816269\n",
      "Iteration: 2533 | disc_loss: -0.3196042776107788 | gen_loss: -0.07464778423309326\n",
      "Iteration: 2534 | disc_loss: -0.40125560760498047 | gen_loss: -0.19202569127082825\n",
      "Iteration: 2535 | disc_loss: -0.4170824885368347 | gen_loss: -0.17045070230960846\n",
      "Iteration: 2536 | disc_loss: -0.38608819246292114 | gen_loss: -0.08996538817882538\n",
      "Iteration: 2537 | disc_loss: -0.3537980020046234 | gen_loss: -0.05570187792181969\n",
      "Iteration: 2538 | disc_loss: -0.3273214101791382 | gen_loss: -0.01866675727069378\n",
      "Iteration: 2539 | disc_loss: -0.3149658739566803 | gen_loss: -0.034376926720142365\n",
      "Iteration: 2540 | disc_loss: -0.3293616473674774 | gen_loss: -0.11655103415250778\n",
      "Iteration: 2541 | disc_loss: -0.3152201771736145 | gen_loss: -0.11881864815950394\n",
      "Iteration: 2542 | disc_loss: -0.38464775681495667 | gen_loss: -0.07756192237138748\n",
      "Iteration: 2543 | disc_loss: -0.32945215702056885 | gen_loss: -0.08664771914482117\n",
      "Iteration: 2544 | disc_loss: -0.3258509337902069 | gen_loss: -0.023484941571950912\n",
      "Iteration: 2545 | disc_loss: -0.4187580645084381 | gen_loss: -0.09977699816226959\n",
      "Iteration: 2546 | disc_loss: -0.26264941692352295 | gen_loss: -0.12778334319591522\n"
     ]
    },
    {
     "name": "stderr",
     "output_type": "stream",
     "text": [
      " 51%|█████     | 2555/5001 [00:25<00:24, 100.24it/s]"
     ]
    },
    {
     "name": "stdout",
     "output_type": "stream",
     "text": [
      "Iteration: 2547 | disc_loss: -0.3863145112991333 | gen_loss: -0.12029658257961273\n",
      "Iteration: 2548 | disc_loss: -0.35770663619041443 | gen_loss: -0.07748240232467651\n",
      "Iteration: 2549 | disc_loss: -0.38171902298927307 | gen_loss: -0.06275948882102966\n",
      "Iteration: 2550 | disc_loss: -0.3750639855861664 | gen_loss: -0.17465092241764069\n",
      "Iteration: 2551 | disc_loss: -0.3227596580982208 | gen_loss: -0.12220447510480881\n",
      "Iteration: 2552 | disc_loss: -0.2445191591978073 | gen_loss: -0.04894881695508957\n",
      "Iteration: 2553 | disc_loss: -0.24305543303489685 | gen_loss: -0.030979223549365997\n",
      "Iteration: 2554 | disc_loss: -0.38271528482437134 | gen_loss: -0.10075773298740387\n",
      "Iteration: 2555 | disc_loss: -0.30039656162261963 | gen_loss: -0.1706792265176773\n",
      "Iteration: 2556 | disc_loss: -0.11919200420379639 | gen_loss: -0.12435094267129898\n",
      "Iteration: 2557 | disc_loss: -0.36897873878479004 | gen_loss: -0.10971137881278992\n",
      "Iteration: 2558 | disc_loss: -0.23199552297592163 | gen_loss: -0.04914770647883415\n",
      "Iteration: 2559 | disc_loss: -0.2376074492931366 | gen_loss: -0.05011573061347008\n",
      "Iteration: 2560 | disc_loss: -0.31966298818588257 | gen_loss: -0.0493786558508873\n",
      "Iteration: 2561 | disc_loss: -0.36157363653182983 | gen_loss: -0.13437692821025848\n",
      "Iteration: 2562 | disc_loss: -0.4182049632072449 | gen_loss: -0.15186148881912231\n",
      "Iteration: 2563 | disc_loss: -0.4295176863670349 | gen_loss: -0.08303599059581757\n",
      "Iteration: 2564 | disc_loss: -0.34945785999298096 | gen_loss: -0.10977359861135483\n",
      "Iteration: 2565 | disc_loss: -0.3361126482486725 | gen_loss: -0.0639394000172615\n"
     ]
    },
    {
     "name": "stderr",
     "output_type": "stream",
     "text": [
      " 52%|█████▏    | 2578/5001 [00:25<00:24, 99.76it/s] "
     ]
    },
    {
     "name": "stdout",
     "output_type": "stream",
     "text": [
      "Iteration: 2566 | disc_loss: -0.36396923661231995 | gen_loss: -0.03357599675655365\n",
      "Iteration: 2567 | disc_loss: -0.3519302308559418 | gen_loss: -0.08739209175109863\n",
      "Iteration: 2568 | disc_loss: -0.3515182137489319 | gen_loss: -0.10488992929458618\n",
      "Iteration: 2569 | disc_loss: -0.3767354488372803 | gen_loss: -0.10254237055778503\n",
      "Iteration: 2570 | disc_loss: -0.3540762662887573 | gen_loss: -0.10153444856405258\n",
      "Iteration: 2571 | disc_loss: -0.39372166991233826 | gen_loss: -0.10998694598674774\n",
      "Iteration: 2572 | disc_loss: -0.3822769522666931 | gen_loss: -0.10704842209815979\n",
      "Iteration: 2573 | disc_loss: -0.3697625696659088 | gen_loss: -0.06313928961753845\n",
      "Iteration: 2574 | disc_loss: -0.39691847562789917 | gen_loss: -0.12039022147655487\n",
      "Iteration: 2575 | disc_loss: -0.33713021874427795 | gen_loss: -0.07598390430212021\n",
      "Iteration: 2576 | disc_loss: -0.4112240970134735 | gen_loss: -0.14141692221164703\n",
      "Iteration: 2577 | disc_loss: -0.3473013639450073 | gen_loss: -0.10265021026134491\n",
      "Iteration: 2578 | disc_loss: -0.4500543475151062 | gen_loss: -0.04838751256465912\n",
      "Iteration: 2579 | disc_loss: -0.4291980266571045 | gen_loss: -0.2367894947528839\n",
      "Iteration: 2580 | disc_loss: -0.37981662154197693 | gen_loss: -0.17064917087554932\n",
      "Iteration: 2581 | disc_loss: -0.37904495000839233 | gen_loss: -0.15511229634284973\n",
      "Iteration: 2582 | disc_loss: -0.35599929094314575 | gen_loss: -0.15897636115550995\n",
      "Iteration: 2583 | disc_loss: -0.4019550085067749 | gen_loss: -0.1985829919576645\n",
      "Iteration: 2584 | disc_loss: -0.06247740983963013 | gen_loss: -0.06543751806020737\n",
      "Iteration: 2585 | disc_loss: -0.30033475160598755 | gen_loss: -0.11412011831998825\n",
      "Iteration: 2586 | disc_loss: -0.2901557385921478 | gen_loss: -0.12487497925758362\n",
      "Iteration: 2587 | disc_loss: -0.41827869415283203 | gen_loss: -0.062002673745155334\n"
     ]
    },
    {
     "name": "stderr",
     "output_type": "stream",
     "text": [
      " 52%|█████▏    | 2600/5001 [00:25<00:23, 102.38it/s]"
     ]
    },
    {
     "name": "stdout",
     "output_type": "stream",
     "text": [
      "Iteration: 2588 | disc_loss: -0.3858988583087921 | gen_loss: -0.06904435902833939\n",
      "Iteration: 2589 | disc_loss: -0.41559675335884094 | gen_loss: -0.10756784677505493\n",
      "Iteration: 2590 | disc_loss: -0.37668660283088684 | gen_loss: -0.0973878726363182\n",
      "Iteration: 2591 | disc_loss: -0.3334868252277374 | gen_loss: -0.056068986654281616\n",
      "Iteration: 2592 | disc_loss: -0.2724139094352722 | gen_loss: -0.12381187081336975\n",
      "Iteration: 2593 | disc_loss: -0.4200086295604706 | gen_loss: -0.049776434898376465\n",
      "Iteration: 2594 | disc_loss: -0.3875337541103363 | gen_loss: -0.099517323076725\n",
      "Iteration: 2595 | disc_loss: -0.38847169280052185 | gen_loss: -0.12039439380168915\n",
      "Iteration: 2596 | disc_loss: -0.3705402910709381 | gen_loss: -0.13347399234771729\n",
      "Iteration: 2597 | disc_loss: -0.439987450838089 | gen_loss: -0.0805586576461792\n",
      "Iteration: 2598 | disc_loss: -0.2858594059944153 | gen_loss: -0.10449744015932083\n",
      "Iteration: 2599 | disc_loss: -0.40442559123039246 | gen_loss: -0.07273659855127335\n",
      "Iteration: 2600 | disc_loss: -0.27608805894851685 | gen_loss: -0.13146427273750305\n",
      "Iteration: 2601 | disc_loss: -0.34208765625953674 | gen_loss: -0.1712067574262619\n",
      "Iteration: 2602 | disc_loss: -0.3705909550189972 | gen_loss: -0.11707399040460587\n",
      "Iteration: 2603 | disc_loss: -0.42074090242385864 | gen_loss: -0.10407011210918427\n",
      "Iteration: 2604 | disc_loss: -0.3299228549003601 | gen_loss: -0.0841972604393959\n",
      "Iteration: 2605 | disc_loss: -0.3441994786262512 | gen_loss: -0.04556041583418846\n",
      "Iteration: 2606 | disc_loss: -0.34698355197906494 | gen_loss: -0.10499443858861923\n",
      "Iteration: 2607 | disc_loss: -0.3123384714126587 | gen_loss: -0.015386957675218582\n"
     ]
    },
    {
     "name": "stderr",
     "output_type": "stream",
     "text": [
      " 52%|█████▏    | 2623/5001 [00:25<00:22, 103.63it/s]"
     ]
    },
    {
     "name": "stdout",
     "output_type": "stream",
     "text": [
      "Iteration: 2608 | disc_loss: -0.3358595073223114 | gen_loss: -0.08967635780572891\n",
      "Iteration: 2609 | disc_loss: -0.1973472237586975 | gen_loss: -0.035742685198783875\n",
      "Iteration: 2610 | disc_loss: -0.34755927324295044 | gen_loss: -0.04056423902511597\n",
      "Iteration: 2611 | disc_loss: -0.37651678919792175 | gen_loss: -0.1378636658191681\n",
      "Iteration: 2612 | disc_loss: -0.37354445457458496 | gen_loss: -0.08931173384189606\n",
      "Iteration: 2613 | disc_loss: -0.4629491865634918 | gen_loss: -0.12866093218326569\n",
      "Iteration: 2614 | disc_loss: -0.30618005990982056 | gen_loss: -0.012120842933654785\n",
      "Iteration: 2615 | disc_loss: -0.2919577360153198 | gen_loss: -0.09198278933763504\n",
      "Iteration: 2616 | disc_loss: -0.3554009199142456 | gen_loss: -0.07840625941753387\n",
      "Iteration: 2617 | disc_loss: -0.30918088555336 | gen_loss: -0.11310936510562897\n",
      "Iteration: 2618 | disc_loss: -0.3799518644809723 | gen_loss: -0.057630836963653564\n",
      "Iteration: 2619 | disc_loss: -0.34507495164871216 | gen_loss: -0.12048336118459702\n",
      "Iteration: 2620 | disc_loss: -0.38867831230163574 | gen_loss: -0.15506888926029205\n",
      "Iteration: 2621 | disc_loss: -0.3838714063167572 | gen_loss: -0.0415763333439827\n",
      "Iteration: 2622 | disc_loss: -0.30340075492858887 | gen_loss: -0.06501816213130951\n",
      "Iteration: 2623 | disc_loss: -0.2704109251499176 | gen_loss: -0.08394628763198853\n",
      "Iteration: 2624 | disc_loss: -0.3425736427307129 | gen_loss: -0.14733055233955383\n",
      "Iteration: 2625 | disc_loss: -0.36450332403182983 | gen_loss: -0.0714493915438652\n",
      "Iteration: 2626 | disc_loss: -0.33195844292640686 | gen_loss: -0.10080645233392715\n",
      "Iteration: 2627 | disc_loss: -0.4091460704803467 | gen_loss: -0.09419392049312592\n",
      "Iteration: 2628 | disc_loss: -0.35408976674079895 | gen_loss: -0.0705081894993782\n",
      "Iteration: 2629 | disc_loss: -0.3560398519039154 | gen_loss: -0.07702536880970001\n"
     ]
    },
    {
     "name": "stderr",
     "output_type": "stream",
     "text": [
      " 53%|█████▎    | 2645/5001 [00:25<00:23, 101.93it/s]"
     ]
    },
    {
     "name": "stdout",
     "output_type": "stream",
     "text": [
      "Iteration: 2630 | disc_loss: -0.37608054280281067 | gen_loss: -0.028273751959204674\n",
      "Iteration: 2631 | disc_loss: -0.31190651655197144 | gen_loss: -0.08062838017940521\n",
      "Iteration: 2632 | disc_loss: -0.379946768283844 | gen_loss: -0.11241061985492706\n",
      "Iteration: 2633 | disc_loss: -0.3899917006492615 | gen_loss: -0.09996365755796432\n",
      "Iteration: 2634 | disc_loss: -0.39152345061302185 | gen_loss: -0.11475218832492828\n",
      "Iteration: 2635 | disc_loss: -0.3952612280845642 | gen_loss: -0.13884833455085754\n",
      "Iteration: 2636 | disc_loss: -0.3872643709182739 | gen_loss: -0.1365477293729782\n",
      "Iteration: 2637 | disc_loss: -0.2939678728580475 | gen_loss: -0.10298265516757965\n",
      "Iteration: 2638 | disc_loss: -0.2976195812225342 | gen_loss: -0.16382122039794922\n",
      "Iteration: 2639 | disc_loss: -0.22991490364074707 | gen_loss: -0.14927807450294495\n",
      "Iteration: 2640 | disc_loss: -0.3317500054836273 | gen_loss: -0.06645423918962479\n",
      "Iteration: 2641 | disc_loss: -0.410958856344223 | gen_loss: -0.12746945023536682\n",
      "Iteration: 2642 | disc_loss: -0.4249870777130127 | gen_loss: -0.1465529054403305\n",
      "Iteration: 2643 | disc_loss: -0.41665491461753845 | gen_loss: -0.03930819779634476\n",
      "Iteration: 2644 | disc_loss: -0.35128727555274963 | gen_loss: -0.11412571370601654\n",
      "Iteration: 2645 | disc_loss: -0.3090897500514984 | gen_loss: -0.06527165323495865\n",
      "Iteration: 2646 | disc_loss: -0.33386874198913574 | gen_loss: -0.026663918048143387\n",
      "Iteration: 2647 | disc_loss: -0.3255116939544678 | gen_loss: -0.22426152229309082\n",
      "Iteration: 2648 | disc_loss: -0.394491970539093 | gen_loss: -0.060005903244018555\n",
      "Iteration: 2649 | disc_loss: -0.22559186816215515 | gen_loss: -0.08316925168037415\n",
      "Iteration: 2650 | disc_loss: -0.38742026686668396 | gen_loss: -0.10160207748413086\n",
      "Iteration: 2651 | disc_loss: -0.3504646420478821 | gen_loss: -0.15048137307167053\n"
     ]
    },
    {
     "name": "stderr",
     "output_type": "stream",
     "text": [
      " 53%|█████▎    | 2667/5001 [00:26<00:23, 97.38it/s] "
     ]
    },
    {
     "name": "stdout",
     "output_type": "stream",
     "text": [
      "Iteration: 2652 | disc_loss: -0.38287970423698425 | gen_loss: -0.1615772694349289\n",
      "Iteration: 2653 | disc_loss: -0.34998199343681335 | gen_loss: -0.10688817501068115\n",
      "Iteration: 2654 | disc_loss: -0.3683321177959442 | gen_loss: -0.047236159443855286\n",
      "Iteration: 2655 | disc_loss: -0.3381195366382599 | gen_loss: -0.09282813966274261\n",
      "Iteration: 2656 | disc_loss: -0.3797663748264313 | gen_loss: -0.1626741886138916\n",
      "Iteration: 2657 | disc_loss: -0.37380337715148926 | gen_loss: -0.10575059056282043\n",
      "Iteration: 2658 | disc_loss: -0.31232714653015137 | gen_loss: -0.1147395446896553\n",
      "Iteration: 2659 | disc_loss: -0.33685174584388733 | gen_loss: -0.09096686542034149\n",
      "Iteration: 2660 | disc_loss: -0.3912670910358429 | gen_loss: -0.12315252423286438\n",
      "Iteration: 2661 | disc_loss: -0.3639092743396759 | gen_loss: -0.0839630663394928\n",
      "Iteration: 2662 | disc_loss: -0.40241163969039917 | gen_loss: -0.1109541729092598\n",
      "Iteration: 2663 | disc_loss: -0.3991602957248688 | gen_loss: -0.10793254524469376\n",
      "Iteration: 2664 | disc_loss: -0.359823077917099 | gen_loss: -0.07789070904254913\n",
      "Iteration: 2665 | disc_loss: -0.3333386778831482 | gen_loss: -0.12042324244976044\n",
      "Iteration: 2666 | disc_loss: -0.3060433268547058 | gen_loss: -0.06021006405353546\n",
      "Iteration: 2667 | disc_loss: -0.3046826422214508 | gen_loss: -0.09856970608234406\n",
      "Iteration: 2668 | disc_loss: -0.4117695391178131 | gen_loss: -0.12392328679561615\n",
      "Iteration: 2669 | disc_loss: -0.40488871932029724 | gen_loss: -0.17662297189235687\n",
      "Iteration: 2670 | disc_loss: -0.4065566658973694 | gen_loss: -0.20169004797935486\n"
     ]
    },
    {
     "name": "stderr",
     "output_type": "stream",
     "text": [
      " 54%|█████▍    | 2690/5001 [00:26<00:22, 102.71it/s]"
     ]
    },
    {
     "name": "stdout",
     "output_type": "stream",
     "text": [
      "Iteration: 2671 | disc_loss: -0.3831520974636078 | gen_loss: -0.1819170117378235\n",
      "Iteration: 2672 | disc_loss: -0.41872647404670715 | gen_loss: -0.14374102652072906\n",
      "Iteration: 2673 | disc_loss: -0.313935786485672 | gen_loss: -0.10323090851306915\n",
      "Iteration: 2674 | disc_loss: -0.16865456104278564 | gen_loss: -0.0365455262362957\n",
      "Iteration: 2675 | disc_loss: -0.34448665380477905 | gen_loss: -0.08579502254724503\n",
      "Iteration: 2676 | disc_loss: -0.24997854232788086 | gen_loss: -0.1763240098953247\n",
      "Iteration: 2677 | disc_loss: -0.36087939143180847 | gen_loss: -0.21324017643928528\n",
      "Iteration: 2678 | disc_loss: -0.36923474073410034 | gen_loss: -0.12598161399364471\n",
      "Iteration: 2679 | disc_loss: -0.2450369894504547 | gen_loss: -0.06157398968935013\n",
      "Iteration: 2680 | disc_loss: -0.38130152225494385 | gen_loss: -0.11355163902044296\n",
      "Iteration: 2681 | disc_loss: -0.3437797725200653 | gen_loss: -0.1408286839723587\n",
      "Iteration: 2682 | disc_loss: -0.3402741849422455 | gen_loss: -0.14244607090950012\n",
      "Iteration: 2683 | disc_loss: -0.3209758400917053 | gen_loss: -0.03832034766674042\n",
      "Iteration: 2684 | disc_loss: -0.19485415518283844 | gen_loss: -0.17167583107948303\n",
      "Iteration: 2685 | disc_loss: -0.369638592004776 | gen_loss: -0.10443805158138275\n",
      "Iteration: 2686 | disc_loss: -0.30974334478378296 | gen_loss: -0.10957503318786621\n",
      "Iteration: 2687 | disc_loss: -0.3567224144935608 | gen_loss: -0.0697530210018158\n",
      "Iteration: 2688 | disc_loss: -0.3677470088005066 | gen_loss: -0.13589224219322205\n",
      "Iteration: 2689 | disc_loss: -0.3230518400669098 | gen_loss: -0.09965145587921143\n",
      "Iteration: 2690 | disc_loss: -0.39552563428878784 | gen_loss: -0.12030220031738281\n",
      "Iteration: 2691 | disc_loss: -0.32535260915756226 | gen_loss: -0.08708088099956512\n",
      "Iteration: 2692 | disc_loss: -0.43295180797576904 | gen_loss: -0.12152686715126038\n"
     ]
    },
    {
     "name": "stderr",
     "output_type": "stream",
     "text": [
      " 54%|█████▍    | 2712/5001 [00:26<00:22, 103.42it/s]"
     ]
    },
    {
     "name": "stdout",
     "output_type": "stream",
     "text": [
      "Iteration: 2693 | disc_loss: -0.3704933822154999 | gen_loss: -0.09669406712055206\n",
      "Iteration: 2694 | disc_loss: -0.33990928530693054 | gen_loss: -0.11250181496143341\n",
      "Iteration: 2695 | disc_loss: -0.3013541102409363 | gen_loss: -0.14682242274284363\n",
      "Iteration: 2696 | disc_loss: -0.4018735885620117 | gen_loss: -0.1680765450000763\n",
      "Iteration: 2697 | disc_loss: -0.4015813171863556 | gen_loss: -0.09139595180749893\n",
      "Iteration: 2698 | disc_loss: -0.33311760425567627 | gen_loss: -0.03579450398683548\n",
      "Iteration: 2699 | disc_loss: -0.36340251564979553 | gen_loss: -0.08567159622907639\n",
      "Iteration: 2700 | disc_loss: -0.25097593665122986 | gen_loss: -0.07107959687709808\n",
      "Iteration: 2701 | disc_loss: -0.3704093396663666 | gen_loss: -0.1317000538110733\n",
      "Iteration: 2702 | disc_loss: -0.31294405460357666 | gen_loss: -0.08987399935722351\n",
      "Iteration: 2703 | disc_loss: -0.3686105012893677 | gen_loss: -0.06131346523761749\n",
      "Iteration: 2704 | disc_loss: -0.22263969480991364 | gen_loss: -0.04127039760351181\n",
      "Iteration: 2705 | disc_loss: -0.32797157764434814 | gen_loss: -0.10361386835575104\n",
      "Iteration: 2706 | disc_loss: -0.3164890706539154 | gen_loss: -0.07628173381090164\n",
      "Iteration: 2707 | disc_loss: -0.407736599445343 | gen_loss: -0.08682546019554138\n",
      "Iteration: 2708 | disc_loss: -0.4066009521484375 | gen_loss: -0.05739409476518631\n",
      "Iteration: 2709 | disc_loss: -0.2707286477088928 | gen_loss: -0.09114609658718109\n",
      "Iteration: 2710 | disc_loss: -0.2915949523448944 | gen_loss: -0.07151101529598236\n",
      "Iteration: 2711 | disc_loss: -0.14309780299663544 | gen_loss: -0.08228999376296997\n",
      "Iteration: 2712 | disc_loss: -0.2817363739013672 | gen_loss: -0.08551578223705292\n",
      "Iteration: 2713 | disc_loss: -0.2722722887992859 | gen_loss: -0.17162743210792542\n"
     ]
    },
    {
     "name": "stderr",
     "output_type": "stream",
     "text": [
      " 55%|█████▍    | 2734/5001 [00:26<00:22, 102.15it/s]"
     ]
    },
    {
     "name": "stdout",
     "output_type": "stream",
     "text": [
      "Iteration: 2714 | disc_loss: -0.3873525857925415 | gen_loss: -0.061950523406267166\n",
      "Iteration: 2715 | disc_loss: -0.35472142696380615 | gen_loss: -0.16399513185024261\n",
      "Iteration: 2716 | disc_loss: -0.2905053496360779 | gen_loss: -0.1001320332288742\n",
      "Iteration: 2717 | disc_loss: -0.3254801034927368 | gen_loss: -0.13072000443935394\n",
      "Iteration: 2718 | disc_loss: -0.37515437602996826 | gen_loss: -0.04858018457889557\n",
      "Iteration: 2719 | disc_loss: -0.3233376145362854 | gen_loss: -0.14741460978984833\n",
      "Iteration: 2720 | disc_loss: -0.3977447748184204 | gen_loss: -0.1743468940258026\n",
      "Iteration: 2721 | disc_loss: -0.34838810563087463 | gen_loss: -0.07766851037740707\n",
      "Iteration: 2722 | disc_loss: -0.3755558133125305 | gen_loss: -0.11630593985319138\n",
      "Iteration: 2723 | disc_loss: -0.367887407541275 | gen_loss: -0.1533641815185547\n",
      "Iteration: 2724 | disc_loss: -0.3638952970504761 | gen_loss: -0.16871842741966248\n",
      "Iteration: 2725 | disc_loss: -0.37965473532676697 | gen_loss: -0.15567314624786377\n",
      "Iteration: 2726 | disc_loss: -0.37053126096725464 | gen_loss: -0.1054348275065422\n",
      "Iteration: 2727 | disc_loss: -0.44088318943977356 | gen_loss: -0.13083499670028687\n",
      "Iteration: 2728 | disc_loss: -0.3639760911464691 | gen_loss: -0.23015978932380676\n",
      "Iteration: 2729 | disc_loss: -0.4324623644351959 | gen_loss: -0.09707669913768768\n",
      "Iteration: 2730 | disc_loss: -0.3267252445220947 | gen_loss: -0.05248284339904785\n",
      "Iteration: 2731 | disc_loss: -0.4164552688598633 | gen_loss: -0.17639875411987305\n",
      "Iteration: 2732 | disc_loss: -0.36547815799713135 | gen_loss: -0.0987170934677124\n",
      "Iteration: 2733 | disc_loss: -0.40015897154808044 | gen_loss: -0.14607255160808563\n",
      "Iteration: 2734 | disc_loss: -0.35431644320487976 | gen_loss: -0.06717726588249207\n"
     ]
    },
    {
     "name": "stderr",
     "output_type": "stream",
     "text": [
      " 55%|█████▌    | 2756/5001 [00:26<00:21, 104.19it/s]"
     ]
    },
    {
     "name": "stdout",
     "output_type": "stream",
     "text": [
      "Iteration: 2735 | disc_loss: -0.33717676997184753 | gen_loss: -0.10447277128696442\n",
      "Iteration: 2736 | disc_loss: -0.38841187953948975 | gen_loss: -0.10330301523208618\n",
      "Iteration: 2737 | disc_loss: -0.4016355574131012 | gen_loss: -0.14395615458488464\n",
      "Iteration: 2738 | disc_loss: -0.2684779763221741 | gen_loss: -0.074204221367836\n",
      "Iteration: 2739 | disc_loss: -0.4003121554851532 | gen_loss: -0.13830657303333282\n",
      "Iteration: 2740 | disc_loss: -0.3245904743671417 | gen_loss: -0.021233756095170975\n",
      "Iteration: 2741 | disc_loss: -0.34169435501098633 | gen_loss: -0.10265954583883286\n",
      "Iteration: 2742 | disc_loss: -0.3754897713661194 | gen_loss: -0.08914221078157425\n",
      "Iteration: 2743 | disc_loss: -0.38172677159309387 | gen_loss: -0.04974695295095444\n",
      "Iteration: 2744 | disc_loss: -0.3810628652572632 | gen_loss: -0.12267429381608963\n",
      "Iteration: 2745 | disc_loss: -0.387429803609848 | gen_loss: -0.10791325569152832\n",
      "Iteration: 2746 | disc_loss: -0.3494342267513275 | gen_loss: -0.04485223442316055\n",
      "Iteration: 2747 | disc_loss: -0.412984699010849 | gen_loss: -0.10674363374710083\n",
      "Iteration: 2748 | disc_loss: -0.34123659133911133 | gen_loss: -0.06012537702918053\n",
      "Iteration: 2749 | disc_loss: -0.3607174754142761 | gen_loss: -0.07306896150112152\n",
      "Iteration: 2750 | disc_loss: -0.2379647046327591 | gen_loss: -0.16310757398605347\n",
      "Iteration: 2751 | disc_loss: -0.3868608772754669 | gen_loss: -0.19944870471954346\n",
      "Iteration: 2752 | disc_loss: -0.34420034289360046 | gen_loss: -0.11994464695453644\n",
      "Iteration: 2753 | disc_loss: -0.38420364260673523 | gen_loss: -0.09495018422603607\n",
      "Iteration: 2754 | disc_loss: -0.4297510087490082 | gen_loss: -0.08570960909128189\n",
      "Iteration: 2755 | disc_loss: -0.24797219038009644 | gen_loss: -0.1482575535774231\n",
      "Iteration: 2756 | disc_loss: -0.39944660663604736 | gen_loss: -0.14146991074085236\n"
     ]
    },
    {
     "name": "stderr",
     "output_type": "stream",
     "text": [
      " 56%|█████▌    | 2778/5001 [00:27<00:21, 102.99it/s]"
     ]
    },
    {
     "name": "stdout",
     "output_type": "stream",
     "text": [
      "Iteration: 2757 | disc_loss: -0.3968592882156372 | gen_loss: -0.12125644832849503\n",
      "Iteration: 2758 | disc_loss: -0.27148330211639404 | gen_loss: -0.10638582706451416\n",
      "Iteration: 2759 | disc_loss: -0.36089998483657837 | gen_loss: -0.1377488225698471\n",
      "Iteration: 2760 | disc_loss: -0.29891350865364075 | gen_loss: -0.1273539662361145\n",
      "Iteration: 2761 | disc_loss: -0.2976289689540863 | gen_loss: -0.17746630311012268\n",
      "Iteration: 2762 | disc_loss: -0.3326548635959625 | gen_loss: -0.228063702583313\n",
      "Iteration: 2763 | disc_loss: -0.23632729053497314 | gen_loss: -0.14025405049324036\n",
      "Iteration: 2764 | disc_loss: -0.3526674211025238 | gen_loss: -0.03132480010390282\n",
      "Iteration: 2765 | disc_loss: -0.3242724537849426 | gen_loss: -0.10549965500831604\n",
      "Iteration: 2766 | disc_loss: -0.33105674386024475 | gen_loss: -0.09912700951099396\n",
      "Iteration: 2767 | disc_loss: -0.3276650011539459 | gen_loss: -0.013305087573826313\n",
      "Iteration: 2768 | disc_loss: -0.37894681096076965 | gen_loss: -0.13343803584575653\n",
      "Iteration: 2769 | disc_loss: -0.3634037673473358 | gen_loss: -0.04603949189186096\n",
      "Iteration: 2770 | disc_loss: -0.3895058333873749 | gen_loss: -0.14392204582691193\n",
      "Iteration: 2771 | disc_loss: -0.3869990110397339 | gen_loss: -0.18615689873695374\n",
      "Iteration: 2772 | disc_loss: -0.3296624422073364 | gen_loss: -0.11605355888605118\n",
      "Iteration: 2773 | disc_loss: -0.3145647644996643 | gen_loss: -0.10014043748378754\n",
      "Iteration: 2774 | disc_loss: -0.42077675461769104 | gen_loss: -0.16928155720233917\n",
      "Iteration: 2775 | disc_loss: -0.21347279846668243 | gen_loss: -0.09423254430294037\n",
      "Iteration: 2776 | disc_loss: -0.3126431405544281 | gen_loss: -0.10354495048522949\n",
      "Iteration: 2777 | disc_loss: -0.3216705918312073 | gen_loss: -0.09911353886127472\n"
     ]
    },
    {
     "name": "stderr",
     "output_type": "stream",
     "text": [
      " 56%|█████▌    | 2789/5001 [00:27<00:21, 101.98it/s]"
     ]
    },
    {
     "name": "stdout",
     "output_type": "stream",
     "text": [
      "Iteration: 2778 | disc_loss: -0.3215404748916626 | gen_loss: -0.1659190058708191\n",
      "Iteration: 2779 | disc_loss: -0.2292972356081009 | gen_loss: -0.14867526292800903\n",
      "Iteration: 2780 | disc_loss: -0.2991469204425812 | gen_loss: -0.07774727791547775\n",
      "Iteration: 2781 | disc_loss: -0.3381250500679016 | gen_loss: -0.07978439331054688\n",
      "Iteration: 2782 | disc_loss: -0.34224173426628113 | gen_loss: -0.027277447283267975\n",
      "Iteration: 2783 | disc_loss: -0.33225077390670776 | gen_loss: -0.056450217962265015\n",
      "Iteration: 2784 | disc_loss: -0.29394763708114624 | gen_loss: -0.11963000148534775\n",
      "Iteration: 2785 | disc_loss: -0.33887723088264465 | gen_loss: -0.15767672657966614\n",
      "Iteration: 2786 | disc_loss: -0.39392200112342834 | gen_loss: -0.1046258881688118\n",
      "Iteration: 2787 | disc_loss: -0.34161385893821716 | gen_loss: -0.11068183928728104\n",
      "Iteration: 2788 | disc_loss: -0.3261623680591583 | gen_loss: -0.09932956099510193\n",
      "Iteration: 2789 | disc_loss: -0.3640191853046417 | gen_loss: -0.1294211894273758\n",
      "Iteration: 2790 | disc_loss: -0.33163920044898987 | gen_loss: -0.11329621076583862\n",
      "Iteration: 2791 | disc_loss: -0.41297638416290283 | gen_loss: -0.14741431176662445\n",
      "Iteration: 2792 | disc_loss: -0.36562037467956543 | gen_loss: -0.10151413083076477\n",
      "Iteration: 2793 | disc_loss: -0.35275009274482727 | gen_loss: -0.14021489024162292\n",
      "Iteration: 2794 | disc_loss: -0.3519984185695648 | gen_loss: -0.1587895154953003\n",
      "Iteration: 2795 | disc_loss: -0.3499009311199188 | gen_loss: -0.15046201646327972\n",
      "Iteration: 2796 | disc_loss: -0.4257853627204895 | gen_loss: -0.11685184389352798\n",
      "Iteration: 2797 | disc_loss: -0.28797203302383423 | gen_loss: -0.11403334140777588\n",
      "Iteration: 2798 | disc_loss: -0.3007408380508423 | gen_loss: -0.020967457443475723\n",
      "Iteration: 2799 | disc_loss: -0.38431447744369507 | gen_loss: -0.08248074352741241\n"
     ]
    },
    {
     "name": "stderr",
     "output_type": "stream",
     "text": [
      " 56%|█████▌    | 2813/5001 [00:27<00:20, 105.04it/s]"
     ]
    },
    {
     "name": "stdout",
     "output_type": "stream",
     "text": [
      "Iteration: 2800 | disc_loss: -0.34198302030563354 | gen_loss: -0.13528862595558167\n",
      "Iteration: 2801 | disc_loss: -0.3626774847507477 | gen_loss: -0.08267069607973099\n",
      "Iteration: 2802 | disc_loss: -0.3312322497367859 | gen_loss: -0.034073468297719955\n",
      "Iteration: 2803 | disc_loss: -0.3844887316226959 | gen_loss: -0.05425060912966728\n",
      "Iteration: 2804 | disc_loss: -0.4025229215621948 | gen_loss: -0.0959240049123764\n",
      "Iteration: 2805 | disc_loss: -0.21768608689308167 | gen_loss: -0.02789239026606083\n",
      "Iteration: 2806 | disc_loss: -0.2923150360584259 | gen_loss: 0.002202427014708519\n",
      "Iteration: 2807 | disc_loss: -0.34729477763175964 | gen_loss: -0.08185044676065445\n",
      "Iteration: 2808 | disc_loss: -0.3287157416343689 | gen_loss: -0.06412841379642487\n",
      "Iteration: 2809 | disc_loss: -0.3784478008747101 | gen_loss: -0.14624550938606262\n",
      "Iteration: 2810 | disc_loss: -0.41542866826057434 | gen_loss: -0.15006889402866364\n",
      "Iteration: 2811 | disc_loss: -0.15323318541049957 | gen_loss: -0.1253078728914261\n",
      "Iteration: 2812 | disc_loss: -0.2611194849014282 | gen_loss: -0.03136742487549782\n",
      "Iteration: 2813 | disc_loss: -0.397797167301178 | gen_loss: -0.12675052881240845\n",
      "Iteration: 2814 | disc_loss: -0.3311896026134491 | gen_loss: -0.09631150960922241\n",
      "Iteration: 2815 | disc_loss: -0.3445836901664734 | gen_loss: -0.12114185094833374\n",
      "Iteration: 2816 | disc_loss: -0.38326549530029297 | gen_loss: -0.03823212534189224\n",
      "Iteration: 2817 | disc_loss: -0.328168660402298 | gen_loss: -0.07718880474567413\n",
      "Iteration: 2818 | disc_loss: -0.42878371477127075 | gen_loss: -0.0670621320605278\n",
      "Iteration: 2819 | disc_loss: -0.427276074886322 | gen_loss: -0.1294323205947876\n",
      "Iteration: 2820 | disc_loss: -0.2678643763065338 | gen_loss: -0.10616802424192429\n",
      "Iteration: 2821 | disc_loss: -0.2823774814605713 | gen_loss: -0.14939537644386292\n"
     ]
    },
    {
     "name": "stderr",
     "output_type": "stream",
     "text": [
      " 57%|█████▋    | 2836/5001 [00:27<00:20, 106.00it/s]"
     ]
    },
    {
     "name": "stdout",
     "output_type": "stream",
     "text": [
      "Iteration: 2822 | disc_loss: -0.34999552369117737 | gen_loss: -0.1581859290599823\n",
      "Iteration: 2823 | disc_loss: -0.33563825488090515 | gen_loss: -0.12269843369722366\n",
      "Iteration: 2824 | disc_loss: -0.34141331911087036 | gen_loss: -0.16014203429222107\n",
      "Iteration: 2825 | disc_loss: -0.3409379720687866 | gen_loss: -0.14406242966651917\n",
      "Iteration: 2826 | disc_loss: -0.45335501432418823 | gen_loss: -0.1475592702627182\n",
      "Iteration: 2827 | disc_loss: -0.4172596037387848 | gen_loss: -0.11668629944324493\n",
      "Iteration: 2828 | disc_loss: -0.36967960000038147 | gen_loss: -0.13527600467205048\n",
      "Iteration: 2829 | disc_loss: -0.3725183308124542 | gen_loss: -0.16082650423049927\n",
      "Iteration: 2830 | disc_loss: -0.3842851221561432 | gen_loss: -0.1510479897260666\n",
      "Iteration: 2831 | disc_loss: -0.3030601143836975 | gen_loss: -0.11200222373008728\n",
      "Iteration: 2832 | disc_loss: -0.3951717019081116 | gen_loss: -0.18587026000022888\n",
      "Iteration: 2833 | disc_loss: -0.3871934711933136 | gen_loss: -0.16053518652915955\n",
      "Iteration: 2834 | disc_loss: -0.3057892918586731 | gen_loss: -0.034839168190956116\n",
      "Iteration: 2835 | disc_loss: -0.3586856722831726 | gen_loss: -0.08848229050636292\n",
      "Iteration: 2836 | disc_loss: -0.3209635019302368 | gen_loss: -0.08166893571615219\n",
      "Iteration: 2837 | disc_loss: -0.35705187916755676 | gen_loss: -0.09183409810066223\n",
      "Iteration: 2838 | disc_loss: -0.45779675245285034 | gen_loss: -0.17384326457977295\n",
      "Iteration: 2839 | disc_loss: -0.3666369616985321 | gen_loss: -0.08425785601139069\n",
      "Iteration: 2840 | disc_loss: -0.3584549129009247 | gen_loss: -0.12532930076122284\n",
      "Iteration: 2841 | disc_loss: -0.38301560282707214 | gen_loss: -0.09866267442703247\n",
      "Iteration: 2842 | disc_loss: -0.3913039267063141 | gen_loss: -0.11276384443044662\n"
     ]
    },
    {
     "name": "stderr",
     "output_type": "stream",
     "text": [
      " 57%|█████▋    | 2859/5001 [00:27<00:20, 105.85it/s]"
     ]
    },
    {
     "name": "stdout",
     "output_type": "stream",
     "text": [
      "Iteration: 2843 | disc_loss: -0.3702554404735565 | gen_loss: -0.09366747736930847\n",
      "Iteration: 2844 | disc_loss: -0.32847487926483154 | gen_loss: -0.12146414816379547\n",
      "Iteration: 2845 | disc_loss: -0.36085429787635803 | gen_loss: -0.011479956097900867\n",
      "Iteration: 2846 | disc_loss: -0.3419337272644043 | gen_loss: -0.1138690784573555\n",
      "Iteration: 2847 | disc_loss: -0.36692139506340027 | gen_loss: -0.16147074103355408\n",
      "Iteration: 2848 | disc_loss: -0.3383072018623352 | gen_loss: -0.10375374555587769\n",
      "Iteration: 2849 | disc_loss: -0.30369114875793457 | gen_loss: -0.06980491429567337\n",
      "Iteration: 2850 | disc_loss: -0.36085250973701477 | gen_loss: -0.005329441279172897\n",
      "Iteration: 2851 | disc_loss: -0.4350767731666565 | gen_loss: -0.09950321912765503\n",
      "Iteration: 2852 | disc_loss: -0.2773565649986267 | gen_loss: -0.1515657603740692\n",
      "Iteration: 2853 | disc_loss: -0.31391778588294983 | gen_loss: -0.11774000525474548\n",
      "Iteration: 2854 | disc_loss: -0.21353870630264282 | gen_loss: -0.14498242735862732\n",
      "Iteration: 2855 | disc_loss: -0.3554576337337494 | gen_loss: -0.0745687484741211\n",
      "Iteration: 2856 | disc_loss: -0.20299340784549713 | gen_loss: -0.13319703936576843\n",
      "Iteration: 2857 | disc_loss: -0.42753785848617554 | gen_loss: -0.06354733556509018\n",
      "Iteration: 2858 | disc_loss: -0.39922767877578735 | gen_loss: -0.06787239015102386\n",
      "Iteration: 2859 | disc_loss: -0.3699210584163666 | gen_loss: -0.05995716527104378\n",
      "Iteration: 2860 | disc_loss: -0.36592862010002136 | gen_loss: -0.09182946383953094\n",
      "Iteration: 2861 | disc_loss: -0.3005478084087372 | gen_loss: -0.14425987005233765\n",
      "Iteration: 2862 | disc_loss: -0.3737867474555969 | gen_loss: -0.17659366130828857\n",
      "Iteration: 2863 | disc_loss: -0.15478108823299408 | gen_loss: -0.13147228956222534\n",
      "Iteration: 2864 | disc_loss: -0.38269174098968506 | gen_loss: -0.1272304356098175\n",
      "Iteration: 2865 | disc_loss: -0.311915785074234 | gen_loss: -0.08091074228286743\n"
     ]
    },
    {
     "name": "stderr",
     "output_type": "stream",
     "text": [
      " 58%|█████▊    | 2881/5001 [00:28<00:20, 104.08it/s]"
     ]
    },
    {
     "name": "stdout",
     "output_type": "stream",
     "text": [
      "Iteration: 2866 | disc_loss: -0.292667955160141 | gen_loss: -0.05164880305528641\n",
      "Iteration: 2867 | disc_loss: -0.3002398908138275 | gen_loss: -0.14877966046333313\n",
      "Iteration: 2868 | disc_loss: -0.36878129839897156 | gen_loss: -0.10195581614971161\n",
      "Iteration: 2869 | disc_loss: -0.41683489084243774 | gen_loss: -0.200030118227005\n",
      "Iteration: 2870 | disc_loss: -0.3210464417934418 | gen_loss: -0.11619792133569717\n",
      "Iteration: 2871 | disc_loss: -0.3905331492424011 | gen_loss: -0.1415605992078781\n",
      "Iteration: 2872 | disc_loss: -0.361359179019928 | gen_loss: -0.12759394943714142\n",
      "Iteration: 2873 | disc_loss: -0.3939909338951111 | gen_loss: -0.12358668446540833\n",
      "Iteration: 2874 | disc_loss: -0.37159574031829834 | gen_loss: -0.08963926881551743\n",
      "Iteration: 2875 | disc_loss: -0.2453557550907135 | gen_loss: -0.09044459462165833\n",
      "Iteration: 2876 | disc_loss: -0.26158925890922546 | gen_loss: -0.14839661121368408\n",
      "Iteration: 2877 | disc_loss: -0.34446924924850464 | gen_loss: -0.18109606206417084\n",
      "Iteration: 2878 | disc_loss: -0.19312593340873718 | gen_loss: -0.18070267140865326\n",
      "Iteration: 2879 | disc_loss: -0.3210354447364807 | gen_loss: -0.15432387590408325\n",
      "Iteration: 2880 | disc_loss: -0.3924672603607178 | gen_loss: -0.0796063169836998\n",
      "Iteration: 2881 | disc_loss: -0.3935241997241974 | gen_loss: -0.11171268671751022\n",
      "Iteration: 2882 | disc_loss: -0.3852752149105072 | gen_loss: -0.11824487149715424\n",
      "Iteration: 2883 | disc_loss: -0.4222673773765564 | gen_loss: -0.10727369785308838\n",
      "Iteration: 2884 | disc_loss: -0.3592538833618164 | gen_loss: -0.08600372821092606\n",
      "Iteration: 2885 | disc_loss: -0.40870100259780884 | gen_loss: -0.18971237540245056\n",
      "Iteration: 2886 | disc_loss: -0.3477189838886261 | gen_loss: -0.19036656618118286\n",
      "Iteration: 2887 | disc_loss: -0.4005349278450012 | gen_loss: -0.1750001311302185\n",
      "Iteration: 2888 | disc_loss: -0.29658299684524536 | gen_loss: -0.1120987981557846\n"
     ]
    },
    {
     "name": "stderr",
     "output_type": "stream",
     "text": [
      " 58%|█████▊    | 2906/5001 [00:28<00:19, 107.44it/s]"
     ]
    },
    {
     "name": "stdout",
     "output_type": "stream",
     "text": [
      "Iteration: 2889 | disc_loss: -0.32677963376045227 | gen_loss: -0.0736694410443306\n",
      "Iteration: 2890 | disc_loss: -0.38761958479881287 | gen_loss: -0.17789867520332336\n",
      "Iteration: 2891 | disc_loss: -0.3924200236797333 | gen_loss: -0.17847473919391632\n",
      "Iteration: 2892 | disc_loss: -0.3120175898075104 | gen_loss: -0.13679246604442596\n",
      "Iteration: 2893 | disc_loss: -0.40475884079933167 | gen_loss: -0.12327028810977936\n",
      "Iteration: 2894 | disc_loss: -0.31622880697250366 | gen_loss: -0.15112704038619995\n",
      "Iteration: 2895 | disc_loss: -0.3154214024543762 | gen_loss: -0.11965949833393097\n",
      "Iteration: 2896 | disc_loss: -0.3409464657306671 | gen_loss: -0.16440458595752716\n",
      "Iteration: 2897 | disc_loss: -0.29916730523109436 | gen_loss: -0.08531039953231812\n",
      "Iteration: 2898 | disc_loss: -0.37510815262794495 | gen_loss: -0.10012274980545044\n",
      "Iteration: 2899 | disc_loss: -0.3879730999469757 | gen_loss: -0.12755879759788513\n",
      "Iteration: 2900 | disc_loss: -0.4242115318775177 | gen_loss: -0.12061035633087158\n",
      "Iteration: 2901 | disc_loss: -0.3051801323890686 | gen_loss: -0.11790771037340164\n",
      "Iteration: 2902 | disc_loss: -0.12768523395061493 | gen_loss: -0.08658593893051147\n",
      "Iteration: 2903 | disc_loss: -0.33279949426651 | gen_loss: -0.08642837405204773\n",
      "Iteration: 2904 | disc_loss: -0.4685644209384918 | gen_loss: -0.07788849622011185\n",
      "Iteration: 2905 | disc_loss: -0.4101375341415405 | gen_loss: 0.08553802222013474\n",
      "Iteration: 2906 | disc_loss: -0.28852730989456177 | gen_loss: -0.09336347877979279\n",
      "Iteration: 2907 | disc_loss: -0.2862307131290436 | gen_loss: -0.13534381985664368\n",
      "Iteration: 2908 | disc_loss: -0.4175761640071869 | gen_loss: -0.06517450511455536\n",
      "Iteration: 2909 | disc_loss: -0.2482263296842575 | gen_loss: -0.17290538549423218\n",
      "Iteration: 2910 | disc_loss: -0.3998465836048126 | gen_loss: -0.17760850489139557\n"
     ]
    },
    {
     "name": "stderr",
     "output_type": "stream",
     "text": [
      " 59%|█████▊    | 2929/5001 [00:28<00:19, 103.64it/s]"
     ]
    },
    {
     "name": "stdout",
     "output_type": "stream",
     "text": [
      "Iteration: 2911 | disc_loss: -0.34882450103759766 | gen_loss: -0.14713917672634125\n",
      "Iteration: 2912 | disc_loss: -0.30101606249809265 | gen_loss: -0.04441870003938675\n",
      "Iteration: 2913 | disc_loss: -0.31567662954330444 | gen_loss: -0.08554936200380325\n",
      "Iteration: 2914 | disc_loss: -0.31966307759284973 | gen_loss: -0.15482544898986816\n",
      "Iteration: 2915 | disc_loss: -0.3381005823612213 | gen_loss: -0.15284964442253113\n",
      "Iteration: 2916 | disc_loss: -0.3538176715373993 | gen_loss: -0.04956544190645218\n",
      "Iteration: 2917 | disc_loss: -0.37735602259635925 | gen_loss: -0.07758259028196335\n",
      "Iteration: 2918 | disc_loss: -0.3131024241447449 | gen_loss: -0.07240381836891174\n",
      "Iteration: 2919 | disc_loss: -0.3110814690589905 | gen_loss: -0.1593979001045227\n",
      "Iteration: 2920 | disc_loss: -0.3914363980293274 | gen_loss: -0.2412538230419159\n",
      "Iteration: 2921 | disc_loss: -0.1450294852256775 | gen_loss: -0.031071737408638\n",
      "Iteration: 2922 | disc_loss: -0.2761251628398895 | gen_loss: -0.10061313211917877\n",
      "Iteration: 2923 | disc_loss: -0.3460264801979065 | gen_loss: -0.10943049192428589\n",
      "Iteration: 2924 | disc_loss: -0.355757474899292 | gen_loss: -0.1510767638683319\n",
      "Iteration: 2925 | disc_loss: -0.35834091901779175 | gen_loss: -0.07605348527431488\n",
      "Iteration: 2926 | disc_loss: -0.38607579469680786 | gen_loss: -0.11248968541622162\n",
      "Iteration: 2927 | disc_loss: -0.36115512251853943 | gen_loss: -0.06576064974069595\n",
      "Iteration: 2928 | disc_loss: -0.32979756593704224 | gen_loss: -0.1328297257423401\n",
      "Iteration: 2929 | disc_loss: -0.2706005573272705 | gen_loss: -0.0971960723400116\n",
      "Iteration: 2930 | disc_loss: -0.35394731163978577 | gen_loss: -0.13381552696228027\n",
      "Iteration: 2931 | disc_loss: -0.315742164850235 | gen_loss: -0.13643699884414673\n"
     ]
    },
    {
     "name": "stderr",
     "output_type": "stream",
     "text": [
      " 59%|█████▉    | 2955/5001 [00:28<00:18, 111.78it/s]"
     ]
    },
    {
     "name": "stdout",
     "output_type": "stream",
     "text": [
      "Iteration: 2932 | disc_loss: -0.3802613615989685 | gen_loss: -0.14646625518798828\n",
      "Iteration: 2933 | disc_loss: -0.318630188703537 | gen_loss: -0.08695909380912781\n",
      "Iteration: 2934 | disc_loss: -0.332416296005249 | gen_loss: -0.14807787537574768\n",
      "Iteration: 2935 | disc_loss: -0.41883665323257446 | gen_loss: -0.13453519344329834\n",
      "Iteration: 2936 | disc_loss: -0.3475128412246704 | gen_loss: -0.0693635642528534\n",
      "Iteration: 2937 | disc_loss: -0.4100798964500427 | gen_loss: -0.07391594350337982\n",
      "Iteration: 2938 | disc_loss: -0.16993480920791626 | gen_loss: -0.05920664221048355\n",
      "Iteration: 2939 | disc_loss: -0.3527137041091919 | gen_loss: -0.096318319439888\n",
      "Iteration: 2940 | disc_loss: -0.36709436774253845 | gen_loss: -0.08409057557582855\n",
      "Iteration: 2941 | disc_loss: -0.16635870933532715 | gen_loss: -0.07037848234176636\n",
      "Iteration: 2942 | disc_loss: -0.34598395228385925 | gen_loss: -0.042347513139247894\n",
      "Iteration: 2943 | disc_loss: -0.3602755069732666 | gen_loss: -0.04234214127063751\n",
      "Iteration: 2944 | disc_loss: -0.3844612240791321 | gen_loss: -0.09079402685165405\n",
      "Iteration: 2945 | disc_loss: -0.33987653255462646 | gen_loss: -0.056443363428115845\n",
      "Iteration: 2946 | disc_loss: -0.3452379107475281 | gen_loss: -0.07324442267417908\n",
      "Iteration: 2947 | disc_loss: -0.34967681765556335 | gen_loss: -0.031543612480163574\n",
      "Iteration: 2948 | disc_loss: -0.3524251878261566 | gen_loss: -0.09892268478870392\n",
      "Iteration: 2949 | disc_loss: -0.19253621995449066 | gen_loss: -0.06709592044353485\n",
      "Iteration: 2950 | disc_loss: -0.34425774216651917 | gen_loss: -0.08915305137634277\n",
      "Iteration: 2951 | disc_loss: -0.2138054519891739 | gen_loss: -0.08865533769130707\n",
      "Iteration: 2952 | disc_loss: -0.2881135940551758 | gen_loss: -0.13848160207271576\n",
      "Iteration: 2953 | disc_loss: -0.37012672424316406 | gen_loss: -0.06870122253894806\n",
      "Iteration: 2954 | disc_loss: -0.3271298110485077 | gen_loss: -0.11836749315261841\n",
      "Iteration: 2955 | disc_loss: -0.32253506779670715 | gen_loss: -0.07117657363414764\n"
     ]
    },
    {
     "name": "stderr",
     "output_type": "stream",
     "text": [
      " 59%|█████▉    | 2967/5001 [00:28<00:18, 110.66it/s]"
     ]
    },
    {
     "name": "stdout",
     "output_type": "stream",
     "text": [
      "Iteration: 2956 | disc_loss: -0.31753307580947876 | gen_loss: -0.15454700589179993\n",
      "Iteration: 2957 | disc_loss: -0.3577919006347656 | gen_loss: -0.0908825471997261\n",
      "Iteration: 2958 | disc_loss: -0.3290659189224243 | gen_loss: -0.1323404163122177\n",
      "Iteration: 2959 | disc_loss: -0.29159674048423767 | gen_loss: -0.07667572051286697\n",
      "Iteration: 2960 | disc_loss: -0.35322076082229614 | gen_loss: -0.12684491276741028\n",
      "Iteration: 2961 | disc_loss: -0.38232266902923584 | gen_loss: -0.16257044672966003\n",
      "Iteration: 2962 | disc_loss: -0.3607536852359772 | gen_loss: -0.1585419923067093\n",
      "Iteration: 2963 | disc_loss: -0.4009293019771576 | gen_loss: -0.1399983912706375\n",
      "Iteration: 2964 | disc_loss: -0.2587050497531891 | gen_loss: -0.18632477521896362\n",
      "Iteration: 2965 | disc_loss: -0.31785354018211365 | gen_loss: -0.07903320342302322\n",
      "Iteration: 2966 | disc_loss: -0.36046844720840454 | gen_loss: -0.15253552794456482\n",
      "Iteration: 2967 | disc_loss: -0.33905476331710815 | gen_loss: -0.2023153007030487\n",
      "Iteration: 2968 | disc_loss: -0.37087002396583557 | gen_loss: -0.12642522156238556\n",
      "Iteration: 2969 | disc_loss: -0.31366419792175293 | gen_loss: -0.15951743721961975\n",
      "Iteration: 2970 | disc_loss: -0.35002002120018005 | gen_loss: -0.18038558959960938\n",
      "Iteration: 2971 | disc_loss: -0.36515650153160095 | gen_loss: -0.07828087359666824\n",
      "Iteration: 2972 | disc_loss: -0.32981327176094055 | gen_loss: -0.0699067935347557\n",
      "Iteration: 2973 | disc_loss: -0.3661028742790222 | gen_loss: -0.18918275833129883\n",
      "Iteration: 2974 | disc_loss: -0.36889034509658813 | gen_loss: -0.15790387988090515\n",
      "Iteration: 2975 | disc_loss: -0.3287365138530731 | gen_loss: -0.15255187451839447\n",
      "Iteration: 2976 | disc_loss: -0.22087395191192627 | gen_loss: -0.17876842617988586\n",
      "Iteration: 2977 | disc_loss: -0.26814326643943787 | gen_loss: -0.09322094917297363\n"
     ]
    },
    {
     "name": "stderr",
     "output_type": "stream",
     "text": [
      " 60%|█████▉    | 2990/5001 [00:29<00:18, 108.41it/s]"
     ]
    },
    {
     "name": "stdout",
     "output_type": "stream",
     "text": [
      "Iteration: 2978 | disc_loss: -0.40261077880859375 | gen_loss: -0.13824652135372162\n",
      "Iteration: 2979 | disc_loss: -0.3695186376571655 | gen_loss: -0.07849297672510147\n",
      "Iteration: 2980 | disc_loss: -0.39296093583106995 | gen_loss: -0.13512170314788818\n",
      "Iteration: 2981 | disc_loss: -0.34439995884895325 | gen_loss: -0.14003433287143707\n",
      "Iteration: 2982 | disc_loss: -0.3407517075538635 | gen_loss: -0.1789967268705368\n",
      "Iteration: 2983 | disc_loss: -0.35247376561164856 | gen_loss: -0.2521686851978302\n",
      "Iteration: 2984 | disc_loss: -0.3661350607872009 | gen_loss: -0.13152027130126953\n",
      "Iteration: 2985 | disc_loss: -0.34838104248046875 | gen_loss: -0.10861444473266602\n",
      "Iteration: 2986 | disc_loss: -0.3390941023826599 | gen_loss: -0.11550197005271912\n",
      "Iteration: 2987 | disc_loss: -0.304384708404541 | gen_loss: -0.20436131954193115\n",
      "Iteration: 2988 | disc_loss: -0.3741908669471741 | gen_loss: -0.05931796506047249\n",
      "Iteration: 2989 | disc_loss: -0.2923128604888916 | gen_loss: -0.18168455362319946\n",
      "Iteration: 2990 | disc_loss: -0.3210091292858124 | gen_loss: -0.04165871441364288\n",
      "Iteration: 2991 | disc_loss: -0.3396685719490051 | gen_loss: -0.1612720489501953\n",
      "Iteration: 2992 | disc_loss: -0.306850790977478 | gen_loss: -0.06683478504419327\n",
      "Iteration: 2993 | disc_loss: -0.3314956724643707 | gen_loss: -0.09666498005390167\n",
      "Iteration: 2994 | disc_loss: -0.20858921110630035 | gen_loss: -0.19887040555477142\n",
      "Iteration: 2995 | disc_loss: -0.3247734606266022 | gen_loss: -0.17296162247657776\n",
      "Iteration: 2996 | disc_loss: -0.32589638233184814 | gen_loss: -0.13492459058761597\n",
      "Iteration: 2997 | disc_loss: -0.3143436312675476 | gen_loss: -0.14290466904640198\n",
      "Iteration: 2998 | disc_loss: -0.3352331221103668 | gen_loss: -0.07998962700366974\n",
      "Iteration: 2999 | disc_loss: -0.32111403346061707 | gen_loss: -0.19951649010181427\n",
      "Iteration: 3000 | disc_loss: -0.4563111662864685 | gen_loss: -0.10091890394687653\n"
     ]
    },
    {
     "name": "stderr",
     "output_type": "stream",
     "text": [
      " 60%|██████    | 3024/5001 [00:29<00:18, 109.16it/s]"
     ]
    },
    {
     "name": "stdout",
     "output_type": "stream",
     "text": [
      "Iteration: 3001 | disc_loss: -0.45471280813217163 | gen_loss: -0.08591406047344208\n",
      "Iteration: 3002 | disc_loss: -0.34957677125930786 | gen_loss: -0.11847800016403198\n",
      "Iteration: 3003 | disc_loss: -0.28773584961891174 | gen_loss: -0.1193031370639801\n",
      "Iteration: 3004 | disc_loss: -0.3218090236186981 | gen_loss: -0.10843347012996674\n",
      "Iteration: 3005 | disc_loss: -0.35568660497665405 | gen_loss: -0.15440073609352112\n",
      "Iteration: 3006 | disc_loss: -0.2854015827178955 | gen_loss: -0.18965651094913483\n",
      "Iteration: 3007 | disc_loss: -0.3263881206512451 | gen_loss: -0.113839291036129\n",
      "Iteration: 3008 | disc_loss: -0.2751116454601288 | gen_loss: -0.11750265955924988\n",
      "Iteration: 3009 | disc_loss: -0.39353111386299133 | gen_loss: -0.12028717249631882\n",
      "Iteration: 3010 | disc_loss: -0.3482581377029419 | gen_loss: -0.1159449890255928\n",
      "Iteration: 3011 | disc_loss: -0.24826988577842712 | gen_loss: -0.08594073355197906\n",
      "Iteration: 3012 | disc_loss: -0.1894465684890747 | gen_loss: -0.1278923749923706\n",
      "Iteration: 3013 | disc_loss: -0.28514623641967773 | gen_loss: -0.059503767639398575\n",
      "Iteration: 3014 | disc_loss: -0.3775598406791687 | gen_loss: -0.010632503777742386\n",
      "Iteration: 3015 | disc_loss: -0.38218238949775696 | gen_loss: -0.14252875745296478\n",
      "Iteration: 3016 | disc_loss: 0.18909713625907898 | gen_loss: -0.15665766596794128\n",
      "Iteration: 3017 | disc_loss: -0.33344224095344543 | gen_loss: -0.10706015676259995\n",
      "Iteration: 3018 | disc_loss: -0.2804981768131256 | gen_loss: -0.10152945667505264\n",
      "Iteration: 3019 | disc_loss: -0.32629522681236267 | gen_loss: -0.129341721534729\n",
      "Iteration: 3020 | disc_loss: -0.3201175630092621 | gen_loss: -0.10027153789997101\n",
      "Iteration: 3021 | disc_loss: -0.3934917449951172 | gen_loss: -0.09248407185077667\n",
      "Iteration: 3022 | disc_loss: -0.36740440130233765 | gen_loss: -0.2122354358434677\n",
      "Iteration: 3023 | disc_loss: -0.2510848641395569 | gen_loss: -0.048190586268901825\n"
     ]
    },
    {
     "name": "stderr",
     "output_type": "stream",
     "text": [
      " 61%|██████    | 3036/5001 [00:29<00:17, 110.35it/s]"
     ]
    },
    {
     "name": "stdout",
     "output_type": "stream",
     "text": [
      "Iteration: 3024 | disc_loss: -0.26462322473526 | gen_loss: -0.058711882680654526\n",
      "Iteration: 3025 | disc_loss: -0.35661664605140686 | gen_loss: -0.1321128010749817\n",
      "Iteration: 3026 | disc_loss: -0.36786025762557983 | gen_loss: -0.14888736605644226\n",
      "Iteration: 3027 | disc_loss: -0.36371979117393494 | gen_loss: -0.17541787028312683\n",
      "Iteration: 3028 | disc_loss: -0.30374419689178467 | gen_loss: -0.16261085867881775\n",
      "Iteration: 3029 | disc_loss: -0.36786922812461853 | gen_loss: -0.24703150987625122\n",
      "Iteration: 3030 | disc_loss: -0.22145682573318481 | gen_loss: -0.16928812861442566\n",
      "Iteration: 3031 | disc_loss: -0.3170102834701538 | gen_loss: -0.1628221571445465\n",
      "Iteration: 3032 | disc_loss: -0.3994901478290558 | gen_loss: -0.1738860309123993\n",
      "Iteration: 3033 | disc_loss: -0.33143123984336853 | gen_loss: -0.14516428112983704\n",
      "Iteration: 3034 | disc_loss: -0.34168288111686707 | gen_loss: -0.1961674690246582\n",
      "Iteration: 3035 | disc_loss: -0.3916589319705963 | gen_loss: -0.20667728781700134\n",
      "Iteration: 3036 | disc_loss: -0.2868618369102478 | gen_loss: -0.2051163613796234\n",
      "Iteration: 3037 | disc_loss: -0.3094903528690338 | gen_loss: -0.09437315911054611\n",
      "Iteration: 3038 | disc_loss: -0.19865381717681885 | gen_loss: -0.10720038414001465\n",
      "Iteration: 3039 | disc_loss: -0.3578140437602997 | gen_loss: -0.15664726495742798\n",
      "Iteration: 3040 | disc_loss: -0.3624049127101898 | gen_loss: -0.16012418270111084\n",
      "Iteration: 3041 | disc_loss: -0.38122209906578064 | gen_loss: -0.1969619244337082\n",
      "Iteration: 3042 | disc_loss: -0.3327066898345947 | gen_loss: -0.1680377721786499\n",
      "Iteration: 3043 | disc_loss: -0.38456758856773376 | gen_loss: -0.19811122119426727\n",
      "Iteration: 3044 | disc_loss: -0.3771419823169708 | gen_loss: -0.1850711703300476\n",
      "Iteration: 3045 | disc_loss: -0.3116130530834198 | gen_loss: -0.1166890561580658\n",
      "Iteration: 3046 | disc_loss: -0.42679446935653687 | gen_loss: -0.22451496124267578\n"
     ]
    },
    {
     "name": "stderr",
     "output_type": "stream",
     "text": [
      " 61%|██████    | 3059/5001 [00:29<00:17, 108.27it/s]"
     ]
    },
    {
     "name": "stdout",
     "output_type": "stream",
     "text": [
      "Iteration: 3047 | disc_loss: -0.26326143741607666 | gen_loss: -0.1905994415283203\n",
      "Iteration: 3048 | disc_loss: -0.316010981798172 | gen_loss: -0.13923130929470062\n",
      "Iteration: 3049 | disc_loss: -0.250158429145813 | gen_loss: -0.1445627063512802\n",
      "Iteration: 3050 | disc_loss: -0.3318067491054535 | gen_loss: -0.04664019122719765\n",
      "Iteration: 3051 | disc_loss: -0.37854427099227905 | gen_loss: -0.1531979739665985\n",
      "Iteration: 3052 | disc_loss: -0.32758885622024536 | gen_loss: -0.20372550189495087\n",
      "Iteration: 3053 | disc_loss: -0.41103148460388184 | gen_loss: -0.19678860902786255\n",
      "Iteration: 3054 | disc_loss: -0.32769256830215454 | gen_loss: -0.12750086188316345\n",
      "Iteration: 3055 | disc_loss: -0.3613555431365967 | gen_loss: -0.13829797506332397\n",
      "Iteration: 3056 | disc_loss: -0.27098533511161804 | gen_loss: -0.03302697464823723\n",
      "Iteration: 3057 | disc_loss: -0.23650549352169037 | gen_loss: -0.10363966971635818\n",
      "Iteration: 3058 | disc_loss: -0.39374232292175293 | gen_loss: -0.12625578045845032\n",
      "Iteration: 3059 | disc_loss: -0.40734782814979553 | gen_loss: -0.14938083291053772\n",
      "Iteration: 3060 | disc_loss: -0.3663843870162964 | gen_loss: -0.15024638175964355\n",
      "Iteration: 3061 | disc_loss: -0.3522169888019562 | gen_loss: -0.22572088241577148\n",
      "Iteration: 3062 | disc_loss: -0.36416271328926086 | gen_loss: -0.12081475555896759\n",
      "Iteration: 3063 | disc_loss: -0.3538823127746582 | gen_loss: -0.16177214682102203\n",
      "Iteration: 3064 | disc_loss: -0.3578214943408966 | gen_loss: -0.05625748261809349\n",
      "Iteration: 3065 | disc_loss: -0.37422651052474976 | gen_loss: -0.12294787913560867\n",
      "Iteration: 3066 | disc_loss: -0.2689169645309448 | gen_loss: -0.17246772348880768\n",
      "Iteration: 3067 | disc_loss: -0.31523340940475464 | gen_loss: -0.18627773225307465\n"
     ]
    },
    {
     "name": "stderr",
     "output_type": "stream",
     "text": [
      " 62%|██████▏   | 3082/5001 [00:30<00:17, 107.52it/s]"
     ]
    },
    {
     "name": "stdout",
     "output_type": "stream",
     "text": [
      "Iteration: 3068 | disc_loss: -0.36641010642051697 | gen_loss: -0.05552349612116814\n",
      "Iteration: 3069 | disc_loss: -0.3613186776638031 | gen_loss: -0.1577485203742981\n",
      "Iteration: 3070 | disc_loss: -0.24143636226654053 | gen_loss: -0.13488444685935974\n",
      "Iteration: 3071 | disc_loss: -0.32397711277008057 | gen_loss: -0.11594129353761673\n",
      "Iteration: 3072 | disc_loss: -0.3655689060688019 | gen_loss: -0.18872904777526855\n",
      "Iteration: 3073 | disc_loss: -0.387729287147522 | gen_loss: -0.20148521661758423\n",
      "Iteration: 3074 | disc_loss: -0.3625488579273224 | gen_loss: -0.158212810754776\n",
      "Iteration: 3075 | disc_loss: -0.27717265486717224 | gen_loss: -0.17904627323150635\n",
      "Iteration: 3076 | disc_loss: -0.34061428904533386 | gen_loss: -0.16891053318977356\n",
      "Iteration: 3077 | disc_loss: -0.28308379650115967 | gen_loss: -0.13826918601989746\n",
      "Iteration: 3078 | disc_loss: -0.3533742129802704 | gen_loss: -0.21072329580783844\n",
      "Iteration: 3079 | disc_loss: -0.3910985291004181 | gen_loss: -0.1262805163860321\n",
      "Iteration: 3080 | disc_loss: -0.35101377964019775 | gen_loss: -0.13577589392662048\n",
      "Iteration: 3081 | disc_loss: -0.38646385073661804 | gen_loss: -0.1109587550163269\n",
      "Iteration: 3082 | disc_loss: -0.3238656222820282 | gen_loss: -0.10586167871952057\n",
      "Iteration: 3083 | disc_loss: -0.312717080116272 | gen_loss: -0.013451240956783295\n",
      "Iteration: 3084 | disc_loss: -0.13403090834617615 | gen_loss: -0.06402555108070374\n",
      "Iteration: 3085 | disc_loss: -0.24602088332176208 | gen_loss: -0.11089673638343811\n",
      "Iteration: 3086 | disc_loss: -0.3179694712162018 | gen_loss: -0.1233433410525322\n",
      "Iteration: 3087 | disc_loss: -0.22502464056015015 | gen_loss: -0.1415351927280426\n",
      "Iteration: 3088 | disc_loss: -0.19259797036647797 | gen_loss: -0.1707160770893097\n",
      "Iteration: 3089 | disc_loss: -0.3272038400173187 | gen_loss: -0.12108344584703445\n",
      "Iteration: 3090 | disc_loss: -0.31736916303634644 | gen_loss: -0.11778705567121506\n"
     ]
    },
    {
     "name": "stderr",
     "output_type": "stream",
     "text": [
      " 62%|██████▏   | 3106/5001 [00:30<00:16, 111.82it/s]"
     ]
    },
    {
     "name": "stdout",
     "output_type": "stream",
     "text": [
      "Iteration: 3091 | disc_loss: -0.3558233976364136 | gen_loss: -0.14309650659561157\n",
      "Iteration: 3092 | disc_loss: -0.30684757232666016 | gen_loss: -0.12067624926567078\n",
      "Iteration: 3093 | disc_loss: -0.3819243907928467 | gen_loss: -0.12163405865430832\n",
      "Iteration: 3094 | disc_loss: -0.3214719891548157 | gen_loss: -0.2311273217201233\n",
      "Iteration: 3095 | disc_loss: -0.2429703027009964 | gen_loss: -0.11479038000106812\n",
      "Iteration: 3096 | disc_loss: -0.32374584674835205 | gen_loss: -0.10911083221435547\n",
      "Iteration: 3097 | disc_loss: -0.38093820214271545 | gen_loss: -0.20010653138160706\n",
      "Iteration: 3098 | disc_loss: -0.3334862291812897 | gen_loss: -0.1860329806804657\n",
      "Iteration: 3099 | disc_loss: -0.3361947238445282 | gen_loss: -0.12313094735145569\n",
      "Iteration: 3100 | disc_loss: -0.2898601293563843 | gen_loss: -0.16858336329460144\n",
      "Iteration: 3101 | disc_loss: -0.35137537121772766 | gen_loss: -0.12922866642475128\n",
      "Iteration: 3102 | disc_loss: -0.3708716034889221 | gen_loss: -0.09365026652812958\n",
      "Iteration: 3103 | disc_loss: -0.3150453567504883 | gen_loss: -0.21567998826503754\n",
      "Iteration: 3104 | disc_loss: -0.33136603236198425 | gen_loss: -0.17636123299598694\n",
      "Iteration: 3105 | disc_loss: -0.3491382598876953 | gen_loss: -0.1159762591123581\n",
      "Iteration: 3106 | disc_loss: -0.36851808428764343 | gen_loss: -0.10803013294935226\n",
      "Iteration: 3107 | disc_loss: -0.3159697353839874 | gen_loss: -0.1453195959329605\n",
      "Iteration: 3108 | disc_loss: -0.37756964564323425 | gen_loss: -0.18882733583450317\n",
      "Iteration: 3109 | disc_loss: -0.3394909203052521 | gen_loss: -0.1072075217962265\n",
      "Iteration: 3110 | disc_loss: -0.38072362542152405 | gen_loss: -0.12168709933757782\n",
      "Iteration: 3111 | disc_loss: -0.27337437868118286 | gen_loss: -0.16512702405452728\n",
      "Iteration: 3112 | disc_loss: -0.38350677490234375 | gen_loss: -0.16012033820152283\n",
      "Iteration: 3113 | disc_loss: -0.26859378814697266 | gen_loss: -0.14885970950126648\n",
      "Iteration: 3114 | disc_loss: -0.2650008499622345 | gen_loss: -0.1403132677078247\n",
      "Iteration: 3115 | disc_loss: -0.3105127513408661 | gen_loss: -0.07070917636156082\n"
     ]
    },
    {
     "name": "stderr",
     "output_type": "stream",
     "text": [
      " 63%|██████▎   | 3131/5001 [00:30<00:16, 112.84it/s]"
     ]
    },
    {
     "name": "stdout",
     "output_type": "stream",
     "text": [
      "Iteration: 3116 | disc_loss: -0.30523860454559326 | gen_loss: -0.10298553854227066\n",
      "Iteration: 3117 | disc_loss: -0.3542127013206482 | gen_loss: -0.09029703587293625\n",
      "Iteration: 3118 | disc_loss: -0.3112143874168396 | gen_loss: -0.1438387930393219\n",
      "Iteration: 3119 | disc_loss: -0.34191545844078064 | gen_loss: -0.115659199655056\n",
      "Iteration: 3120 | disc_loss: -0.4193968176841736 | gen_loss: -0.11456453055143356\n",
      "Iteration: 3121 | disc_loss: -0.32433831691741943 | gen_loss: -0.1773817390203476\n",
      "Iteration: 3122 | disc_loss: -0.3962423801422119 | gen_loss: -0.16064056754112244\n",
      "Iteration: 3123 | disc_loss: -0.30012238025665283 | gen_loss: -0.13190940022468567\n",
      "Iteration: 3124 | disc_loss: -0.3900429308414459 | gen_loss: -0.16882160305976868\n",
      "Iteration: 3125 | disc_loss: -0.3171655535697937 | gen_loss: -0.194306880235672\n",
      "Iteration: 3126 | disc_loss: -0.30111563205718994 | gen_loss: -0.11304733157157898\n",
      "Iteration: 3127 | disc_loss: -0.3778964579105377 | gen_loss: -0.16637305915355682\n",
      "Iteration: 3128 | disc_loss: -0.34851744771003723 | gen_loss: -0.10595838725566864\n",
      "Iteration: 3129 | disc_loss: -0.35289883613586426 | gen_loss: -0.1420375108718872\n",
      "Iteration: 3130 | disc_loss: -0.48780736327171326 | gen_loss: -0.19523735344409943\n",
      "Iteration: 3131 | disc_loss: -0.35836711525917053 | gen_loss: -0.1589830219745636\n",
      "Iteration: 3132 | disc_loss: -0.36357393860816956 | gen_loss: -0.13633057475090027\n",
      "Iteration: 3133 | disc_loss: -0.3793357014656067 | gen_loss: -0.11758330464363098\n",
      "Iteration: 3134 | disc_loss: -0.34106501936912537 | gen_loss: -0.12187577039003372\n",
      "Iteration: 3135 | disc_loss: -0.2008761167526245 | gen_loss: -0.19303959608078003\n",
      "Iteration: 3136 | disc_loss: -0.22580236196517944 | gen_loss: -0.15742149949073792\n",
      "Iteration: 3137 | disc_loss: -0.3232229948043823 | gen_loss: -0.08323810994625092\n"
     ]
    },
    {
     "name": "stderr",
     "output_type": "stream",
     "text": [
      " 63%|██████▎   | 3154/5001 [00:30<00:17, 108.04it/s]"
     ]
    },
    {
     "name": "stdout",
     "output_type": "stream",
     "text": [
      "Iteration: 3138 | disc_loss: -0.2773761451244354 | gen_loss: -0.11597640812397003\n",
      "Iteration: 3139 | disc_loss: -0.3301481604576111 | gen_loss: -0.1529320627450943\n",
      "Iteration: 3140 | disc_loss: -0.37511733174324036 | gen_loss: -0.16529309749603271\n",
      "Iteration: 3141 | disc_loss: -0.29823118448257446 | gen_loss: -0.16218560934066772\n",
      "Iteration: 3142 | disc_loss: -0.291412889957428 | gen_loss: -0.17449969053268433\n",
      "Iteration: 3143 | disc_loss: -0.2878831923007965 | gen_loss: -0.1745751053094864\n",
      "Iteration: 3144 | disc_loss: -0.2919667065143585 | gen_loss: -0.10853451490402222\n",
      "Iteration: 3145 | disc_loss: -0.3593641221523285 | gen_loss: -0.11062248051166534\n",
      "Iteration: 3146 | disc_loss: -0.42021995782852173 | gen_loss: -0.20165789127349854\n",
      "Iteration: 3147 | disc_loss: -0.3739771544933319 | gen_loss: -0.1832185834646225\n",
      "Iteration: 3148 | disc_loss: -0.2849387526512146 | gen_loss: -0.15637169778347015\n",
      "Iteration: 3149 | disc_loss: -0.3411574065685272 | gen_loss: -0.10247866064310074\n",
      "Iteration: 3150 | disc_loss: -0.3088392913341522 | gen_loss: -0.2462570071220398\n",
      "Iteration: 3151 | disc_loss: -0.44537878036499023 | gen_loss: -0.17144575715065002\n",
      "Iteration: 3152 | disc_loss: -0.29758378863334656 | gen_loss: -0.17434270679950714\n",
      "Iteration: 3153 | disc_loss: -0.37891820073127747 | gen_loss: -0.14486601948738098\n",
      "Iteration: 3154 | disc_loss: -0.4245634973049164 | gen_loss: -0.21414649486541748\n",
      "Iteration: 3155 | disc_loss: -0.34145575761795044 | gen_loss: -0.16406379640102386\n",
      "Iteration: 3156 | disc_loss: -0.3801317512989044 | gen_loss: -0.1730595827102661\n",
      "Iteration: 3157 | disc_loss: -0.14663344621658325 | gen_loss: -0.15374577045440674\n",
      "Iteration: 3158 | disc_loss: -0.3649618923664093 | gen_loss: -0.08897927403450012\n",
      "Iteration: 3159 | disc_loss: -0.34544482827186584 | gen_loss: -0.1115509420633316\n",
      "Iteration: 3160 | disc_loss: -0.2953816056251526 | gen_loss: -0.09544982761144638\n"
     ]
    },
    {
     "name": "stderr",
     "output_type": "stream",
     "text": [
      " 64%|██████▎   | 3177/5001 [00:30<00:17, 107.16it/s]"
     ]
    },
    {
     "name": "stdout",
     "output_type": "stream",
     "text": [
      "Iteration: 3161 | disc_loss: -0.3738388419151306 | gen_loss: -0.21324872970581055\n",
      "Iteration: 3162 | disc_loss: -0.25950345396995544 | gen_loss: -0.12264666706323624\n",
      "Iteration: 3163 | disc_loss: -0.3241457939147949 | gen_loss: -0.11191657185554504\n",
      "Iteration: 3164 | disc_loss: -0.3328273296356201 | gen_loss: -0.1839684396982193\n",
      "Iteration: 3165 | disc_loss: -0.4491901397705078 | gen_loss: -0.18059593439102173\n",
      "Iteration: 3166 | disc_loss: -0.29897981882095337 | gen_loss: -0.1933518648147583\n",
      "Iteration: 3167 | disc_loss: -0.3541177213191986 | gen_loss: -0.12469034641981125\n",
      "Iteration: 3168 | disc_loss: -0.2484523355960846 | gen_loss: -0.22994115948677063\n",
      "Iteration: 3169 | disc_loss: -0.3088393807411194 | gen_loss: -0.15575575828552246\n",
      "Iteration: 3170 | disc_loss: -0.3641854226589203 | gen_loss: -0.21280261874198914\n",
      "Iteration: 3171 | disc_loss: -0.32873523235321045 | gen_loss: -0.2203086018562317\n",
      "Iteration: 3172 | disc_loss: -0.41447561979293823 | gen_loss: -0.15512841939926147\n",
      "Iteration: 3173 | disc_loss: -0.354190856218338 | gen_loss: -0.13163237273693085\n",
      "Iteration: 3174 | disc_loss: -0.25632357597351074 | gen_loss: -0.16650089621543884\n",
      "Iteration: 3175 | disc_loss: -0.3748028576374054 | gen_loss: -0.13852736353874207\n",
      "Iteration: 3176 | disc_loss: -0.37710973620414734 | gen_loss: -0.23169997334480286\n",
      "Iteration: 3177 | disc_loss: -0.33580493927001953 | gen_loss: -0.2108869105577469\n",
      "Iteration: 3178 | disc_loss: -0.27154961228370667 | gen_loss: -0.1523679494857788\n",
      "Iteration: 3179 | disc_loss: -0.33162713050842285 | gen_loss: -0.16916246712207794\n",
      "Iteration: 3180 | disc_loss: -0.3466194272041321 | gen_loss: -0.11088874936103821\n",
      "Iteration: 3181 | disc_loss: -0.3973175585269928 | gen_loss: -0.1472732126712799\n",
      "Iteration: 3182 | disc_loss: -0.36650580167770386 | gen_loss: -0.17571410536766052\n"
     ]
    },
    {
     "name": "stderr",
     "output_type": "stream",
     "text": [
      " 64%|██████▍   | 3199/5001 [00:31<00:16, 107.00it/s]"
     ]
    },
    {
     "name": "stdout",
     "output_type": "stream",
     "text": [
      "Iteration: 3183 | disc_loss: -0.3478905260562897 | gen_loss: -0.10929130017757416\n",
      "Iteration: 3184 | disc_loss: -0.3233849108219147 | gen_loss: -0.12018109858036041\n",
      "Iteration: 3185 | disc_loss: -0.3628793954849243 | gen_loss: -0.17268311977386475\n",
      "Iteration: 3186 | disc_loss: -0.06344872713088989 | gen_loss: -0.12181524187326431\n",
      "Iteration: 3187 | disc_loss: -0.25606435537338257 | gen_loss: -0.10589805245399475\n",
      "Iteration: 3188 | disc_loss: -0.2848895192146301 | gen_loss: -0.04896057769656181\n",
      "Iteration: 3189 | disc_loss: -0.2638331651687622 | gen_loss: -0.14862962067127228\n",
      "Iteration: 3190 | disc_loss: -0.20808547735214233 | gen_loss: -0.07126158475875854\n",
      "Iteration: 3191 | disc_loss: -0.3716351389884949 | gen_loss: -0.07678170502185822\n",
      "Iteration: 3192 | disc_loss: -0.30093079805374146 | gen_loss: -0.17880994081497192\n",
      "Iteration: 3193 | disc_loss: -0.32235854864120483 | gen_loss: -0.10372181236743927\n",
      "Iteration: 3194 | disc_loss: -0.3854207694530487 | gen_loss: -0.15810707211494446\n",
      "Iteration: 3195 | disc_loss: -0.345302551984787 | gen_loss: 0.039841730147600174\n",
      "Iteration: 3196 | disc_loss: -0.38971132040023804 | gen_loss: -0.1212439239025116\n",
      "Iteration: 3197 | disc_loss: -0.41650646924972534 | gen_loss: -0.14852526783943176\n",
      "Iteration: 3198 | disc_loss: -0.36818549036979675 | gen_loss: -0.17235980927944183\n",
      "Iteration: 3199 | disc_loss: -0.381646066904068 | gen_loss: -0.1697961986064911\n",
      "Iteration: 3200 | disc_loss: -0.3679259121417999 | gen_loss: -0.17556962370872498\n",
      "Iteration: 3201 | disc_loss: -0.42337316274642944 | gen_loss: -0.15409016609191895\n",
      "Iteration: 3202 | disc_loss: -0.38324007391929626 | gen_loss: -0.08907364308834076\n"
     ]
    },
    {
     "name": "stderr",
     "output_type": "stream",
     "text": [
      " 64%|██████▍   | 3222/5001 [00:31<00:16, 105.88it/s]"
     ]
    },
    {
     "name": "stdout",
     "output_type": "stream",
     "text": [
      "Iteration: 3203 | disc_loss: -0.40044280886650085 | gen_loss: -0.13092857599258423\n",
      "Iteration: 3204 | disc_loss: -0.3798045217990875 | gen_loss: -0.13098442554473877\n",
      "Iteration: 3205 | disc_loss: -0.35675689578056335 | gen_loss: -0.16410419344902039\n",
      "Iteration: 3206 | disc_loss: -0.3380126953125 | gen_loss: -0.08840018510818481\n",
      "Iteration: 3207 | disc_loss: -0.36685216426849365 | gen_loss: -0.13478222489356995\n",
      "Iteration: 3208 | disc_loss: -0.3760959506034851 | gen_loss: -0.12052720040082932\n",
      "Iteration: 3209 | disc_loss: -0.37670809030532837 | gen_loss: -0.1897217184305191\n",
      "Iteration: 3210 | disc_loss: -0.3748101592063904 | gen_loss: -0.07542796432971954\n",
      "Iteration: 3211 | disc_loss: -0.42722609639167786 | gen_loss: -0.1615149974822998\n",
      "Iteration: 3212 | disc_loss: -0.3502194881439209 | gen_loss: -0.18391044437885284\n",
      "Iteration: 3213 | disc_loss: -0.3772468864917755 | gen_loss: -0.12411509454250336\n",
      "Iteration: 3214 | disc_loss: -0.31172072887420654 | gen_loss: -0.13180895149707794\n",
      "Iteration: 3215 | disc_loss: -0.316084623336792 | gen_loss: -0.13705196976661682\n",
      "Iteration: 3216 | disc_loss: -0.32680246233940125 | gen_loss: -0.14852455258369446\n",
      "Iteration: 3217 | disc_loss: -0.3632999360561371 | gen_loss: -0.18244363367557526\n",
      "Iteration: 3218 | disc_loss: -0.39191731810569763 | gen_loss: -0.1428426206111908\n",
      "Iteration: 3219 | disc_loss: -0.16638416051864624 | gen_loss: -0.10698458552360535\n",
      "Iteration: 3220 | disc_loss: -0.37820467352867126 | gen_loss: -0.13603611290454865\n",
      "Iteration: 3221 | disc_loss: -0.31060996651649475 | gen_loss: -0.14966470003128052\n",
      "Iteration: 3222 | disc_loss: -0.38691234588623047 | gen_loss: -0.19895723462104797\n",
      "Iteration: 3223 | disc_loss: -0.29437124729156494 | gen_loss: -0.1965966522693634\n",
      "Iteration: 3224 | disc_loss: -0.3691149353981018 | gen_loss: -0.1185966283082962\n",
      "Iteration: 3225 | disc_loss: -0.32367852330207825 | gen_loss: -0.14646698534488678\n"
     ]
    },
    {
     "name": "stderr",
     "output_type": "stream",
     "text": [
      " 65%|██████▍   | 3245/5001 [00:31<00:16, 108.87it/s]"
     ]
    },
    {
     "name": "stdout",
     "output_type": "stream",
     "text": [
      "Iteration: 3226 | disc_loss: -0.366353839635849 | gen_loss: -0.21724216639995575\n",
      "Iteration: 3227 | disc_loss: -0.3008454442024231 | gen_loss: -0.10821162164211273\n",
      "Iteration: 3228 | disc_loss: -0.3364437222480774 | gen_loss: -0.1763686239719391\n",
      "Iteration: 3229 | disc_loss: -0.3434756398200989 | gen_loss: -0.16949231922626495\n",
      "Iteration: 3230 | disc_loss: -0.3063966929912567 | gen_loss: -0.16275706887245178\n",
      "Iteration: 3231 | disc_loss: -0.3614162504673004 | gen_loss: -0.1647816002368927\n",
      "Iteration: 3232 | disc_loss: -0.30273255705833435 | gen_loss: -0.1990329772233963\n",
      "Iteration: 3233 | disc_loss: -0.3408188223838806 | gen_loss: -0.11042726039886475\n",
      "Iteration: 3234 | disc_loss: -0.33359211683273315 | gen_loss: -0.0746835395693779\n",
      "Iteration: 3235 | disc_loss: -0.3392026424407959 | gen_loss: -0.14307931065559387\n",
      "Iteration: 3236 | disc_loss: -0.43168914318084717 | gen_loss: -0.07907474040985107\n",
      "Iteration: 3237 | disc_loss: -0.2835927903652191 | gen_loss: -0.12981800734996796\n",
      "Iteration: 3238 | disc_loss: -0.4046631157398224 | gen_loss: -0.15177983045578003\n",
      "Iteration: 3239 | disc_loss: -0.22988706827163696 | gen_loss: -0.20573729276657104\n",
      "Iteration: 3240 | disc_loss: -0.27023208141326904 | gen_loss: -0.1706135869026184\n",
      "Iteration: 3241 | disc_loss: -0.40226781368255615 | gen_loss: -0.14997293055057526\n",
      "Iteration: 3242 | disc_loss: -0.33868104219436646 | gen_loss: -0.11691633611917496\n",
      "Iteration: 3243 | disc_loss: -0.3045148253440857 | gen_loss: -0.09830868244171143\n",
      "Iteration: 3244 | disc_loss: -0.3741944134235382 | gen_loss: -0.1008778065443039\n",
      "Iteration: 3245 | disc_loss: -0.4128687381744385 | gen_loss: -0.11365637183189392\n",
      "Iteration: 3246 | disc_loss: -0.3808153569698334 | gen_loss: -0.14379248023033142\n",
      "Iteration: 3247 | disc_loss: -0.2592870593070984 | gen_loss: -0.04466491937637329\n",
      "Iteration: 3248 | disc_loss: -0.3893822133541107 | gen_loss: -0.05177225172519684\n",
      "Iteration: 3249 | disc_loss: -0.34643399715423584 | gen_loss: -0.08350338041782379\n"
     ]
    },
    {
     "name": "stderr",
     "output_type": "stream",
     "text": [
      " 65%|██████▌   | 3271/5001 [00:31<00:14, 117.46it/s]"
     ]
    },
    {
     "name": "stdout",
     "output_type": "stream",
     "text": [
      "Iteration: 3250 | disc_loss: -0.20391252636909485 | gen_loss: -0.07913683354854584\n",
      "Iteration: 3251 | disc_loss: -0.34314391016960144 | gen_loss: -0.09416621923446655\n",
      "Iteration: 3252 | disc_loss: -0.37592393159866333 | gen_loss: -0.16774000227451324\n",
      "Iteration: 3253 | disc_loss: -0.32636913657188416 | gen_loss: -0.14405353367328644\n",
      "Iteration: 3254 | disc_loss: -0.3692704439163208 | gen_loss: -0.15413713455200195\n",
      "Iteration: 3255 | disc_loss: -0.29869192838668823 | gen_loss: -0.11951102316379547\n",
      "Iteration: 3256 | disc_loss: -0.3893176317214966 | gen_loss: -0.0880078598856926\n",
      "Iteration: 3257 | disc_loss: -0.3490215539932251 | gen_loss: -0.15185219049453735\n",
      "Iteration: 3258 | disc_loss: -0.3372339904308319 | gen_loss: -0.1393333077430725\n",
      "Iteration: 3259 | disc_loss: -0.3639984726905823 | gen_loss: -0.18566106259822845\n",
      "Iteration: 3260 | disc_loss: -0.36950749158859253 | gen_loss: -0.18604658544063568\n",
      "Iteration: 3261 | disc_loss: -0.33522000908851624 | gen_loss: -0.18365806341171265\n",
      "Iteration: 3262 | disc_loss: -0.20059841871261597 | gen_loss: -0.16076844930648804\n",
      "Iteration: 3263 | disc_loss: -0.3376781940460205 | gen_loss: -0.21136626601219177\n",
      "Iteration: 3264 | disc_loss: -0.23275180160999298 | gen_loss: -0.1811833679676056\n",
      "Iteration: 3265 | disc_loss: -0.34155333042144775 | gen_loss: -0.16010257601737976\n",
      "Iteration: 3266 | disc_loss: -0.3545636832714081 | gen_loss: -0.15906181931495667\n",
      "Iteration: 3267 | disc_loss: -0.33323195576667786 | gen_loss: -0.16016316413879395\n",
      "Iteration: 3268 | disc_loss: -0.3353053331375122 | gen_loss: -0.12437024712562561\n",
      "Iteration: 3269 | disc_loss: -0.4576435089111328 | gen_loss: -0.183732271194458\n",
      "Iteration: 3270 | disc_loss: -0.2940851151943207 | gen_loss: -0.10721738636493683\n",
      "Iteration: 3271 | disc_loss: -0.325230211019516 | gen_loss: -0.22204595804214478\n",
      "Iteration: 3272 | disc_loss: -0.32833802700042725 | gen_loss: -0.17881926894187927\n",
      "Iteration: 3273 | disc_loss: -0.3463364839553833 | gen_loss: -0.12788493931293488\n",
      "Iteration: 3274 | disc_loss: -0.3843076229095459 | gen_loss: -0.09551161527633667\n",
      "Iteration: 3275 | disc_loss: -0.2732268273830414 | gen_loss: -0.146930992603302\n",
      "Iteration: 3276 | disc_loss: -0.3565281629562378 | gen_loss: -0.09790743142366409\n"
     ]
    },
    {
     "name": "stderr",
     "output_type": "stream",
     "text": [
      " 66%|██████▌   | 3298/5001 [00:31<00:14, 116.87it/s]"
     ]
    },
    {
     "name": "stdout",
     "output_type": "stream",
     "text": [
      "Iteration: 3277 | disc_loss: -0.38284826278686523 | gen_loss: -0.12193751335144043\n",
      "Iteration: 3278 | disc_loss: -0.40131819248199463 | gen_loss: -0.11202023923397064\n",
      "Iteration: 3279 | disc_loss: -0.4026842415332794 | gen_loss: -0.16478851437568665\n",
      "Iteration: 3280 | disc_loss: -0.22446613013744354 | gen_loss: -0.10288825631141663\n",
      "Iteration: 3281 | disc_loss: -0.22281448543071747 | gen_loss: -0.11198142170906067\n",
      "Iteration: 3282 | disc_loss: -0.3305538296699524 | gen_loss: -0.13769757747650146\n",
      "Iteration: 3283 | disc_loss: -0.2961122989654541 | gen_loss: -0.17553165555000305\n",
      "Iteration: 3284 | disc_loss: -0.3283461630344391 | gen_loss: -0.2048790156841278\n",
      "Iteration: 3285 | disc_loss: -0.32959648966789246 | gen_loss: -0.18486705422401428\n",
      "Iteration: 3286 | disc_loss: -0.2516252100467682 | gen_loss: -0.19814413785934448\n",
      "Iteration: 3287 | disc_loss: -0.30268651247024536 | gen_loss: -0.14811640977859497\n",
      "Iteration: 3288 | disc_loss: -0.31935837864875793 | gen_loss: -0.1991576999425888\n",
      "Iteration: 3289 | disc_loss: -0.26291635632514954 | gen_loss: -0.14668673276901245\n",
      "Iteration: 3290 | disc_loss: -0.2880762219429016 | gen_loss: -0.148651584982872\n",
      "Iteration: 3291 | disc_loss: -0.32101890444755554 | gen_loss: -0.2393931746482849\n",
      "Iteration: 3292 | disc_loss: -0.2717365324497223 | gen_loss: -0.19745184481143951\n",
      "Iteration: 3293 | disc_loss: -0.38507142663002014 | gen_loss: -0.1542239487171173\n",
      "Iteration: 3294 | disc_loss: -0.42738115787506104 | gen_loss: -0.14434731006622314\n",
      "Iteration: 3295 | disc_loss: -0.3611345589160919 | gen_loss: -0.1723346710205078\n",
      "Iteration: 3296 | disc_loss: -0.2926309108734131 | gen_loss: -0.12978817522525787\n",
      "Iteration: 3297 | disc_loss: -0.4234277307987213 | gen_loss: -0.18925002217292786\n",
      "Iteration: 3298 | disc_loss: -0.3336248993873596 | gen_loss: -0.2177850604057312\n",
      "Iteration: 3299 | disc_loss: -0.31780898571014404 | gen_loss: -0.12013670057058334\n"
     ]
    },
    {
     "name": "stderr",
     "output_type": "stream",
     "text": [
      " 66%|██████▋   | 3322/5001 [00:32<00:15, 110.63it/s]"
     ]
    },
    {
     "name": "stdout",
     "output_type": "stream",
     "text": [
      "Iteration: 3300 | disc_loss: -0.3311987817287445 | gen_loss: -0.16166752576828003\n",
      "Iteration: 3301 | disc_loss: -0.21261601150035858 | gen_loss: -0.23092040419578552\n",
      "Iteration: 3302 | disc_loss: -0.4422135651111603 | gen_loss: -0.27491292357444763\n",
      "Iteration: 3303 | disc_loss: -0.31112828850746155 | gen_loss: -0.18918776512145996\n",
      "Iteration: 3304 | disc_loss: -0.37812745571136475 | gen_loss: -0.21390070021152496\n",
      "Iteration: 3305 | disc_loss: -0.3398638963699341 | gen_loss: -0.19845999777317047\n",
      "Iteration: 3306 | disc_loss: -0.31591206789016724 | gen_loss: -0.13668379187583923\n",
      "Iteration: 3307 | disc_loss: -0.37869566679000854 | gen_loss: -0.09248058497905731\n",
      "Iteration: 3308 | disc_loss: -0.400789737701416 | gen_loss: -0.16790306568145752\n",
      "Iteration: 3309 | disc_loss: -0.3100438714027405 | gen_loss: -0.15584585070610046\n",
      "Iteration: 3310 | disc_loss: -0.38067319989204407 | gen_loss: -0.21596969664096832\n",
      "Iteration: 3311 | disc_loss: -0.3329813480377197 | gen_loss: -0.12822511792182922\n",
      "Iteration: 3312 | disc_loss: -0.32292357087135315 | gen_loss: -0.1619720757007599\n",
      "Iteration: 3313 | disc_loss: -0.31494227051734924 | gen_loss: -0.13472750782966614\n",
      "Iteration: 3314 | disc_loss: -0.36089378595352173 | gen_loss: -0.20515260100364685\n",
      "Iteration: 3315 | disc_loss: -0.36008524894714355 | gen_loss: -0.1626860797405243\n",
      "Iteration: 3316 | disc_loss: -0.283641517162323 | gen_loss: -0.16920094192028046\n",
      "Iteration: 3317 | disc_loss: -0.17797981202602386 | gen_loss: -0.1759759485721588\n",
      "Iteration: 3318 | disc_loss: -0.2938004732131958 | gen_loss: -0.17429594695568085\n",
      "Iteration: 3319 | disc_loss: -0.32421955466270447 | gen_loss: -0.16258269548416138\n",
      "Iteration: 3320 | disc_loss: -0.4322173595428467 | gen_loss: -0.21646568179130554\n",
      "Iteration: 3321 | disc_loss: -0.36151015758514404 | gen_loss: -0.20104190707206726\n"
     ]
    },
    {
     "name": "stderr",
     "output_type": "stream",
     "text": [
      " 67%|██████▋   | 3335/5001 [00:32<00:14, 113.62it/s]"
     ]
    },
    {
     "name": "stdout",
     "output_type": "stream",
     "text": [
      "Iteration: 3322 | disc_loss: -0.3288956880569458 | gen_loss: -0.21749798953533173\n",
      "Iteration: 3323 | disc_loss: -0.41841816902160645 | gen_loss: -0.21316669881343842\n",
      "Iteration: 3324 | disc_loss: -0.2905786335468292 | gen_loss: -0.16792410612106323\n",
      "Iteration: 3325 | disc_loss: -0.38128769397735596 | gen_loss: -0.27454695105552673\n",
      "Iteration: 3326 | disc_loss: -0.38035452365875244 | gen_loss: -0.21658681333065033\n",
      "Iteration: 3327 | disc_loss: -0.35808271169662476 | gen_loss: -0.16039925813674927\n",
      "Iteration: 3328 | disc_loss: -0.29386472702026367 | gen_loss: -0.11407950520515442\n",
      "Iteration: 3329 | disc_loss: -0.305881142616272 | gen_loss: -0.18380457162857056\n",
      "Iteration: 3330 | disc_loss: -0.3273748755455017 | gen_loss: -0.09314434230327606\n",
      "Iteration: 3331 | disc_loss: -0.31934887170791626 | gen_loss: -0.14969728887081146\n",
      "Iteration: 3332 | disc_loss: -0.25918424129486084 | gen_loss: -0.16346953809261322\n",
      "Iteration: 3333 | disc_loss: -0.28933438658714294 | gen_loss: -0.11450362205505371\n",
      "Iteration: 3334 | disc_loss: -0.32403135299682617 | gen_loss: -0.20318740606307983\n",
      "Iteration: 3335 | disc_loss: -0.3464754819869995 | gen_loss: -0.20564299821853638\n",
      "Iteration: 3336 | disc_loss: -0.42278048396110535 | gen_loss: -0.2560986876487732\n",
      "Iteration: 3337 | disc_loss: -0.2723935842514038 | gen_loss: -0.2297912985086441\n",
      "Iteration: 3338 | disc_loss: -0.30548644065856934 | gen_loss: -0.2523018419742584\n",
      "Iteration: 3339 | disc_loss: -0.3386867344379425 | gen_loss: -0.21016713976860046\n",
      "Iteration: 3340 | disc_loss: -0.3448113799095154 | gen_loss: -0.2485922873020172\n",
      "Iteration: 3341 | disc_loss: -0.28764209151268005 | gen_loss: -0.19570118188858032\n",
      "Iteration: 3342 | disc_loss: -0.41185417771339417 | gen_loss: -0.16767582297325134\n",
      "Iteration: 3343 | disc_loss: -0.3484995663166046 | gen_loss: -0.16273975372314453\n",
      "Iteration: 3344 | disc_loss: -0.33665087819099426 | gen_loss: -0.2155195027589798\n",
      "Iteration: 3345 | disc_loss: -0.3819626271724701 | gen_loss: -0.22577105462551117\n"
     ]
    },
    {
     "name": "stderr",
     "output_type": "stream",
     "text": [
      " 67%|██████▋   | 3359/5001 [00:32<00:14, 111.09it/s]"
     ]
    },
    {
     "name": "stdout",
     "output_type": "stream",
     "text": [
      "Iteration: 3346 | disc_loss: -0.23646968603134155 | gen_loss: -0.13958916068077087\n",
      "Iteration: 3347 | disc_loss: -0.234476238489151 | gen_loss: -0.1466345340013504\n",
      "Iteration: 3348 | disc_loss: -0.32002705335617065 | gen_loss: -0.18918278813362122\n",
      "Iteration: 3349 | disc_loss: -0.24147385358810425 | gen_loss: -0.17987999320030212\n",
      "Iteration: 3350 | disc_loss: -0.3569486141204834 | gen_loss: -0.16081945598125458\n",
      "Iteration: 3351 | disc_loss: -0.4122229218482971 | gen_loss: -0.21606793999671936\n",
      "Iteration: 3352 | disc_loss: -0.3985423743724823 | gen_loss: -0.1506820023059845\n",
      "Iteration: 3353 | disc_loss: -0.37063273787498474 | gen_loss: -0.2167869508266449\n",
      "Iteration: 3354 | disc_loss: -0.30610400438308716 | gen_loss: -0.22328394651412964\n",
      "Iteration: 3355 | disc_loss: -0.34166568517684937 | gen_loss: -0.18445895612239838\n",
      "Iteration: 3356 | disc_loss: -0.25740551948547363 | gen_loss: -0.10543792694807053\n",
      "Iteration: 3357 | disc_loss: -0.3126087486743927 | gen_loss: -0.20068170130252838\n",
      "Iteration: 3358 | disc_loss: -0.3631030321121216 | gen_loss: -0.1381775140762329\n",
      "Iteration: 3359 | disc_loss: -0.34944504499435425 | gen_loss: -0.14297352731227875\n",
      "Iteration: 3360 | disc_loss: -0.28583651781082153 | gen_loss: -0.13059554994106293\n",
      "Iteration: 3361 | disc_loss: -0.3443186581134796 | gen_loss: -0.18130283057689667\n",
      "Iteration: 3362 | disc_loss: -0.3277670741081238 | gen_loss: -0.15703530609607697\n",
      "Iteration: 3363 | disc_loss: -0.3483898937702179 | gen_loss: -0.18580465018749237\n",
      "Iteration: 3364 | disc_loss: -0.40413984656333923 | gen_loss: -0.13332918286323547\n",
      "Iteration: 3365 | disc_loss: -0.2833055555820465 | gen_loss: -0.22984221577644348\n",
      "Iteration: 3366 | disc_loss: -0.3234875798225403 | gen_loss: -0.06718134135007858\n",
      "Iteration: 3367 | disc_loss: -0.3664591312408447 | gen_loss: -0.10575377941131592\n"
     ]
    },
    {
     "name": "stderr",
     "output_type": "stream",
     "text": [
      " 68%|██████▊   | 3384/5001 [00:32<00:14, 112.47it/s]"
     ]
    },
    {
     "name": "stdout",
     "output_type": "stream",
     "text": [
      "Iteration: 3368 | disc_loss: -0.44275519251823425 | gen_loss: -0.04095403105020523\n",
      "Iteration: 3369 | disc_loss: -0.1256359964609146 | gen_loss: -0.1565740406513214\n",
      "Iteration: 3370 | disc_loss: -0.2665199935436249 | gen_loss: -0.1350380778312683\n",
      "Iteration: 3371 | disc_loss: -0.27115416526794434 | gen_loss: -0.1635238528251648\n",
      "Iteration: 3372 | disc_loss: -0.39277321100234985 | gen_loss: -0.13175156712532043\n",
      "Iteration: 3373 | disc_loss: -0.39933428168296814 | gen_loss: -0.1450168937444687\n",
      "Iteration: 3374 | disc_loss: -0.3090220093727112 | gen_loss: -0.1360238790512085\n",
      "Iteration: 3375 | disc_loss: -0.13680070638656616 | gen_loss: -0.16718369722366333\n",
      "Iteration: 3376 | disc_loss: -0.3637441098690033 | gen_loss: -0.08002254366874695\n",
      "Iteration: 3377 | disc_loss: -0.30746138095855713 | gen_loss: -0.08497770130634308\n",
      "Iteration: 3378 | disc_loss: -0.2972499132156372 | gen_loss: -0.07753870636224747\n",
      "Iteration: 3379 | disc_loss: -0.3531718850135803 | gen_loss: -0.10667654871940613\n",
      "Iteration: 3380 | disc_loss: -0.3481873869895935 | gen_loss: -0.07654015719890594\n",
      "Iteration: 3381 | disc_loss: -0.3760652542114258 | gen_loss: -0.14818847179412842\n",
      "Iteration: 3382 | disc_loss: -0.35919439792633057 | gen_loss: -0.15490859746932983\n",
      "Iteration: 3383 | disc_loss: -0.3317815661430359 | gen_loss: -0.1547837257385254\n",
      "Iteration: 3384 | disc_loss: -0.32534006237983704 | gen_loss: -0.14330172538757324\n",
      "Iteration: 3385 | disc_loss: -0.29237768054008484 | gen_loss: -0.13269232213497162\n",
      "Iteration: 3386 | disc_loss: -0.34681808948516846 | gen_loss: -0.10851860791444778\n",
      "Iteration: 3387 | disc_loss: -0.07219886779785156 | gen_loss: -0.15178973972797394\n",
      "Iteration: 3388 | disc_loss: -0.3274466395378113 | gen_loss: -0.2693656086921692\n",
      "Iteration: 3389 | disc_loss: -0.22926396131515503 | gen_loss: -0.20864401757717133\n",
      "Iteration: 3390 | disc_loss: -0.32281461358070374 | gen_loss: -0.12678179144859314\n",
      "Iteration: 3391 | disc_loss: -0.3071431517601013 | gen_loss: -0.20150776207447052\n"
     ]
    },
    {
     "name": "stderr",
     "output_type": "stream",
     "text": [
      " 68%|██████▊   | 3408/5001 [00:32<00:15, 104.67it/s]"
     ]
    },
    {
     "name": "stdout",
     "output_type": "stream",
     "text": [
      "Iteration: 3392 | disc_loss: -0.3640598654747009 | gen_loss: -0.17049604654312134\n",
      "Iteration: 3393 | disc_loss: -0.24829870462417603 | gen_loss: -0.1664503514766693\n",
      "Iteration: 3394 | disc_loss: -0.31270548701286316 | gen_loss: -0.14059960842132568\n",
      "Iteration: 3395 | disc_loss: -0.3500744104385376 | gen_loss: -0.15398505330085754\n",
      "Iteration: 3396 | disc_loss: -0.34703999757766724 | gen_loss: -0.15391916036605835\n",
      "Iteration: 3397 | disc_loss: -0.35041698813438416 | gen_loss: -0.24320870637893677\n",
      "Iteration: 3398 | disc_loss: -0.2934342622756958 | gen_loss: -0.17037570476531982\n",
      "Iteration: 3399 | disc_loss: -0.3403931260108948 | gen_loss: -0.10956297814846039\n",
      "Iteration: 3400 | disc_loss: -0.3256755471229553 | gen_loss: -0.17700856924057007\n",
      "Iteration: 3401 | disc_loss: -0.2971774637699127 | gen_loss: -0.2242596596479416\n",
      "Iteration: 3402 | disc_loss: -0.290945827960968 | gen_loss: -0.14343658089637756\n",
      "Iteration: 3403 | disc_loss: -0.36967936158180237 | gen_loss: -0.09572020173072815\n",
      "Iteration: 3404 | disc_loss: -0.30439138412475586 | gen_loss: -0.17211270332336426\n",
      "Iteration: 3405 | disc_loss: -0.27187663316726685 | gen_loss: -0.05086260661482811\n",
      "Iteration: 3406 | disc_loss: -0.2910332679748535 | gen_loss: -0.22385460138320923\n",
      "Iteration: 3407 | disc_loss: -0.40781283378601074 | gen_loss: -0.13090531527996063\n",
      "Iteration: 3408 | disc_loss: -0.3800891637802124 | gen_loss: -0.16772323846817017\n",
      "Iteration: 3409 | disc_loss: -0.35207539796829224 | gen_loss: -0.12789860367774963\n",
      "Iteration: 3410 | disc_loss: -0.39014050364494324 | gen_loss: -0.13580957055091858\n",
      "Iteration: 3411 | disc_loss: -0.2521499991416931 | gen_loss: -0.1670292615890503\n"
     ]
    },
    {
     "name": "stderr",
     "output_type": "stream",
     "text": [
      " 69%|██████▊   | 3431/5001 [00:33<00:14, 108.60it/s]"
     ]
    },
    {
     "name": "stdout",
     "output_type": "stream",
     "text": [
      "Iteration: 3412 | disc_loss: -0.36843666434288025 | gen_loss: -0.2189495712518692\n",
      "Iteration: 3413 | disc_loss: -0.2558010220527649 | gen_loss: -0.15518704056739807\n",
      "Iteration: 3414 | disc_loss: -0.34709927439689636 | gen_loss: -0.12926548719406128\n",
      "Iteration: 3415 | disc_loss: -0.39598438143730164 | gen_loss: -0.20469379425048828\n",
      "Iteration: 3416 | disc_loss: -0.18508760631084442 | gen_loss: -0.20889660716056824\n",
      "Iteration: 3417 | disc_loss: -0.36064720153808594 | gen_loss: -0.17348584532737732\n",
      "Iteration: 3418 | disc_loss: -0.30300456285476685 | gen_loss: -0.21631120145320892\n",
      "Iteration: 3419 | disc_loss: -0.33889907598495483 | gen_loss: -0.2309059500694275\n",
      "Iteration: 3420 | disc_loss: -0.34941259026527405 | gen_loss: -0.09765470027923584\n",
      "Iteration: 3421 | disc_loss: -0.27657651901245117 | gen_loss: -0.16565009951591492\n",
      "Iteration: 3422 | disc_loss: -0.35391706228256226 | gen_loss: -0.07472222298383713\n",
      "Iteration: 3423 | disc_loss: -0.27458205819129944 | gen_loss: -0.09339433908462524\n",
      "Iteration: 3424 | disc_loss: -0.235105961561203 | gen_loss: -0.21247121691703796\n",
      "Iteration: 3425 | disc_loss: -0.3673045337200165 | gen_loss: -0.08054735511541367\n",
      "Iteration: 3426 | disc_loss: -0.32271286845207214 | gen_loss: -0.08452987670898438\n",
      "Iteration: 3427 | disc_loss: -0.39085718989372253 | gen_loss: -0.10594741255044937\n",
      "Iteration: 3428 | disc_loss: -0.37458014488220215 | gen_loss: -0.16100431978702545\n",
      "Iteration: 3429 | disc_loss: -0.38838210701942444 | gen_loss: -0.1982100009918213\n",
      "Iteration: 3430 | disc_loss: -0.328642338514328 | gen_loss: -0.09732197970151901\n",
      "Iteration: 3431 | disc_loss: -0.30013710260391235 | gen_loss: -0.19077545404434204\n",
      "Iteration: 3432 | disc_loss: -0.3639325499534607 | gen_loss: -0.1291525512933731\n",
      "Iteration: 3433 | disc_loss: -0.27801573276519775 | gen_loss: -0.11269776523113251\n",
      "Iteration: 3434 | disc_loss: -0.3943063020706177 | gen_loss: -0.13250374794006348\n"
     ]
    },
    {
     "name": "stderr",
     "output_type": "stream",
     "text": [
      " 69%|██████▉   | 3453/5001 [00:33<00:14, 106.69it/s]"
     ]
    },
    {
     "name": "stdout",
     "output_type": "stream",
     "text": [
      "Iteration: 3435 | disc_loss: -0.35320574045181274 | gen_loss: -0.14781585335731506\n",
      "Iteration: 3436 | disc_loss: -0.317208856344223 | gen_loss: -0.14734970033168793\n",
      "Iteration: 3437 | disc_loss: -0.3528023660182953 | gen_loss: -0.16676554083824158\n",
      "Iteration: 3438 | disc_loss: -0.35292670130729675 | gen_loss: -0.1546667516231537\n",
      "Iteration: 3439 | disc_loss: -0.34105023741722107 | gen_loss: -0.1179443895816803\n",
      "Iteration: 3440 | disc_loss: -0.2662550210952759 | gen_loss: -0.14680318534374237\n",
      "Iteration: 3441 | disc_loss: -0.3363439738750458 | gen_loss: -0.13554587960243225\n",
      "Iteration: 3442 | disc_loss: -0.3535104990005493 | gen_loss: -0.18833348155021667\n",
      "Iteration: 3443 | disc_loss: -0.35497045516967773 | gen_loss: -0.19513574242591858\n",
      "Iteration: 3444 | disc_loss: -0.26417118310928345 | gen_loss: -0.18889999389648438\n",
      "Iteration: 3445 | disc_loss: -0.3260841965675354 | gen_loss: -0.15557941794395447\n",
      "Iteration: 3446 | disc_loss: -0.3464645743370056 | gen_loss: -0.2209591269493103\n",
      "Iteration: 3447 | disc_loss: -0.20368552207946777 | gen_loss: -0.18534055352210999\n",
      "Iteration: 3448 | disc_loss: -0.30151015520095825 | gen_loss: -0.08458887785673141\n",
      "Iteration: 3449 | disc_loss: -0.35942378640174866 | gen_loss: -0.16440284252166748\n",
      "Iteration: 3450 | disc_loss: -0.2938062846660614 | gen_loss: -0.15527772903442383\n",
      "Iteration: 3451 | disc_loss: -0.30689096450805664 | gen_loss: -0.26535212993621826\n",
      "Iteration: 3452 | disc_loss: -0.32655808329582214 | gen_loss: -0.18889619410037994\n",
      "Iteration: 3453 | disc_loss: -0.33867502212524414 | gen_loss: -0.16900885105133057\n",
      "Iteration: 3454 | disc_loss: -0.307952344417572 | gen_loss: -0.17349447309970856\n",
      "Iteration: 3455 | disc_loss: -0.3029356896877289 | gen_loss: -0.2464144229888916\n",
      "Iteration: 3456 | disc_loss: -0.3273884057998657 | gen_loss: -0.23322445154190063\n"
     ]
    },
    {
     "name": "stderr",
     "output_type": "stream",
     "text": [
      " 70%|██████▉   | 3476/5001 [00:33<00:14, 108.79it/s]"
     ]
    },
    {
     "name": "stdout",
     "output_type": "stream",
     "text": [
      "Iteration: 3457 | disc_loss: -0.4219825267791748 | gen_loss: -0.17466777563095093\n",
      "Iteration: 3458 | disc_loss: -0.22371727228164673 | gen_loss: -0.19253022968769073\n",
      "Iteration: 3459 | disc_loss: -0.34599509835243225 | gen_loss: -0.25402069091796875\n",
      "Iteration: 3460 | disc_loss: -0.24131904542446136 | gen_loss: -0.15282976627349854\n",
      "Iteration: 3461 | disc_loss: -0.34957170486450195 | gen_loss: -0.0599859319627285\n",
      "Iteration: 3462 | disc_loss: -0.2779695391654968 | gen_loss: -0.1286933571100235\n",
      "Iteration: 3463 | disc_loss: -0.38362351059913635 | gen_loss: -0.16637957096099854\n",
      "Iteration: 3464 | disc_loss: -0.015989243984222412 | gen_loss: -0.11667416244745255\n",
      "Iteration: 3465 | disc_loss: -0.29105299711227417 | gen_loss: -0.1333504021167755\n",
      "Iteration: 3466 | disc_loss: -0.3421981930732727 | gen_loss: -0.09257614612579346\n",
      "Iteration: 3467 | disc_loss: -0.3890106976032257 | gen_loss: -0.20449478924274445\n",
      "Iteration: 3468 | disc_loss: -0.35891181230545044 | gen_loss: -0.18088847398757935\n",
      "Iteration: 3469 | disc_loss: -0.35186827182769775 | gen_loss: -0.19590263068675995\n",
      "Iteration: 3470 | disc_loss: -0.3737352192401886 | gen_loss: -0.24729904532432556\n",
      "Iteration: 3471 | disc_loss: -0.4171772003173828 | gen_loss: -0.17274321615695953\n",
      "Iteration: 3472 | disc_loss: -0.34479665756225586 | gen_loss: -0.2209041267633438\n",
      "Iteration: 3473 | disc_loss: -0.31502193212509155 | gen_loss: -0.07174095511436462\n",
      "Iteration: 3474 | disc_loss: -0.3589204251766205 | gen_loss: -0.17056679725646973\n",
      "Iteration: 3475 | disc_loss: -0.3022875189781189 | gen_loss: -0.19970500469207764\n",
      "Iteration: 3476 | disc_loss: -0.29953810572624207 | gen_loss: -0.16250552237033844\n",
      "Iteration: 3477 | disc_loss: -0.35088157653808594 | gen_loss: -0.10532931983470917\n",
      "Iteration: 3478 | disc_loss: -0.2911301851272583 | gen_loss: -0.06997563689947128\n"
     ]
    },
    {
     "name": "stderr",
     "output_type": "stream",
     "text": [
      " 70%|██████▉   | 3498/5001 [00:33<00:14, 105.59it/s]"
     ]
    },
    {
     "name": "stdout",
     "output_type": "stream",
     "text": [
      "Iteration: 3479 | disc_loss: -0.3150433301925659 | gen_loss: -0.1229395866394043\n",
      "Iteration: 3480 | disc_loss: -0.4268172085285187 | gen_loss: -0.2026696801185608\n",
      "Iteration: 3481 | disc_loss: -0.4186905324459076 | gen_loss: -0.26751595735549927\n",
      "Iteration: 3482 | disc_loss: -0.338072806596756 | gen_loss: -0.16061808168888092\n",
      "Iteration: 3483 | disc_loss: -0.3362361192703247 | gen_loss: -0.23804467916488647\n",
      "Iteration: 3484 | disc_loss: -0.30086326599121094 | gen_loss: -0.15986321866512299\n",
      "Iteration: 3485 | disc_loss: -0.22463054955005646 | gen_loss: -0.11828063428401947\n",
      "Iteration: 3486 | disc_loss: -0.2517513036727905 | gen_loss: -0.12487976253032684\n",
      "Iteration: 3487 | disc_loss: -0.2935080826282501 | gen_loss: -0.1378832906484604\n",
      "Iteration: 3488 | disc_loss: -0.34680038690567017 | gen_loss: -0.1370677649974823\n",
      "Iteration: 3489 | disc_loss: -0.3306235373020172 | gen_loss: -0.05863192677497864\n",
      "Iteration: 3490 | disc_loss: -0.31287360191345215 | gen_loss: -0.12343418598175049\n",
      "Iteration: 3491 | disc_loss: -0.3619699478149414 | gen_loss: -0.18089106678962708\n",
      "Iteration: 3492 | disc_loss: -0.31581905484199524 | gen_loss: -0.21062973141670227\n",
      "Iteration: 3493 | disc_loss: -0.3239705562591553 | gen_loss: -0.15180546045303345\n",
      "Iteration: 3494 | disc_loss: -0.3174569010734558 | gen_loss: -0.15235963463783264\n",
      "Iteration: 3495 | disc_loss: -0.29986661672592163 | gen_loss: -0.22652974724769592\n",
      "Iteration: 3496 | disc_loss: -0.3332497477531433 | gen_loss: -0.10280892997980118\n",
      "Iteration: 3497 | disc_loss: -0.3428112864494324 | gen_loss: -0.18150493502616882\n",
      "Iteration: 3498 | disc_loss: -0.20374634861946106 | gen_loss: -0.20696809887886047\n",
      "Iteration: 3499 | disc_loss: -0.3670596182346344 | gen_loss: -0.0849912241101265\n"
     ]
    },
    {
     "name": "stderr",
     "output_type": "stream",
     "text": [
      " 70%|███████   | 3520/5001 [00:34<00:14, 104.19it/s]"
     ]
    },
    {
     "name": "stdout",
     "output_type": "stream",
     "text": [
      "Iteration: 3500 | disc_loss: -0.34088462591171265 | gen_loss: -0.15923595428466797\n",
      "Iteration: 3501 | disc_loss: -0.19836097955703735 | gen_loss: -0.13165529072284698\n",
      "Iteration: 3502 | disc_loss: -0.23436957597732544 | gen_loss: -0.11538484692573547\n",
      "Iteration: 3503 | disc_loss: -0.3554500639438629 | gen_loss: -0.1965840458869934\n",
      "Iteration: 3504 | disc_loss: -0.3345027267932892 | gen_loss: -0.1650393307209015\n",
      "Iteration: 3505 | disc_loss: -0.29916059970855713 | gen_loss: -0.18064025044441223\n",
      "Iteration: 3506 | disc_loss: -0.290458083152771 | gen_loss: -0.15969392657279968\n",
      "Iteration: 3507 | disc_loss: -0.3510119318962097 | gen_loss: -0.2037345916032791\n",
      "Iteration: 3508 | disc_loss: -0.3152478337287903 | gen_loss: -0.1079861968755722\n",
      "Iteration: 3509 | disc_loss: -0.31531447172164917 | gen_loss: -0.09899179637432098\n",
      "Iteration: 3510 | disc_loss: -0.31197190284729004 | gen_loss: -0.16011503338813782\n",
      "Iteration: 3511 | disc_loss: -0.3248257040977478 | gen_loss: -0.13318447768688202\n",
      "Iteration: 3512 | disc_loss: -0.32725632190704346 | gen_loss: -0.22510749101638794\n",
      "Iteration: 3513 | disc_loss: -0.3707374036312103 | gen_loss: -0.15937387943267822\n",
      "Iteration: 3514 | disc_loss: -0.1806047409772873 | gen_loss: -0.18072280287742615\n",
      "Iteration: 3515 | disc_loss: -0.349863737821579 | gen_loss: -0.11755874007940292\n",
      "Iteration: 3516 | disc_loss: -0.34442397952079773 | gen_loss: -0.08063225448131561\n",
      "Iteration: 3517 | disc_loss: -0.3175857365131378 | gen_loss: -0.10361608862876892\n",
      "Iteration: 3518 | disc_loss: -0.4063924252986908 | gen_loss: -0.12382544577121735\n",
      "Iteration: 3519 | disc_loss: -0.3809989094734192 | gen_loss: -0.18853352963924408\n",
      "Iteration: 3520 | disc_loss: -0.4098684787750244 | gen_loss: -0.19345375895500183\n",
      "Iteration: 3521 | disc_loss: -0.35954970121383667 | gen_loss: -0.1571255922317505\n"
     ]
    },
    {
     "name": "stderr",
     "output_type": "stream",
     "text": [
      " 71%|███████   | 3544/5001 [00:34<00:13, 109.11it/s]"
     ]
    },
    {
     "name": "stdout",
     "output_type": "stream",
     "text": [
      "Iteration: 3522 | disc_loss: -0.3183231055736542 | gen_loss: -0.16010552644729614\n",
      "Iteration: 3523 | disc_loss: -0.38006967306137085 | gen_loss: -0.19166778028011322\n",
      "Iteration: 3524 | disc_loss: -0.21222364902496338 | gen_loss: -0.20669624209403992\n",
      "Iteration: 3525 | disc_loss: -0.30761241912841797 | gen_loss: -0.14496329426765442\n",
      "Iteration: 3526 | disc_loss: -0.24957804381847382 | gen_loss: -0.11403675377368927\n",
      "Iteration: 3527 | disc_loss: -0.25451794266700745 | gen_loss: -0.17023028433322906\n",
      "Iteration: 3528 | disc_loss: -0.381051242351532 | gen_loss: -0.07776643335819244\n",
      "Iteration: 3529 | disc_loss: -0.3602084815502167 | gen_loss: -0.114700548350811\n",
      "Iteration: 3530 | disc_loss: -0.30052679777145386 | gen_loss: -0.1582995355129242\n",
      "Iteration: 3531 | disc_loss: -0.24767020344734192 | gen_loss: -0.11353695392608643\n",
      "Iteration: 3532 | disc_loss: -0.355802446603775 | gen_loss: -0.13994044065475464\n",
      "Iteration: 3533 | disc_loss: -0.3419334590435028 | gen_loss: -0.23660217225551605\n",
      "Iteration: 3534 | disc_loss: -0.3522370755672455 | gen_loss: -0.3529253304004669\n",
      "Iteration: 3535 | disc_loss: -0.4018322825431824 | gen_loss: -0.21403637528419495\n",
      "Iteration: 3536 | disc_loss: -0.41803640127182007 | gen_loss: -0.1708604097366333\n",
      "Iteration: 3537 | disc_loss: -0.36730706691741943 | gen_loss: -0.19320744276046753\n",
      "Iteration: 3538 | disc_loss: -0.2621269226074219 | gen_loss: -0.1821349561214447\n",
      "Iteration: 3539 | disc_loss: -0.43850547075271606 | gen_loss: -0.19062261283397675\n",
      "Iteration: 3540 | disc_loss: -0.35610753297805786 | gen_loss: -0.2527170777320862\n",
      "Iteration: 3541 | disc_loss: -0.3385699987411499 | gen_loss: -0.16177569329738617\n",
      "Iteration: 3542 | disc_loss: -0.4314207434654236 | gen_loss: -0.2004452496767044\n",
      "Iteration: 3543 | disc_loss: -0.30950018763542175 | gen_loss: -0.11224207282066345\n",
      "Iteration: 3544 | disc_loss: -0.3288372755050659 | gen_loss: -0.07220655679702759\n",
      "Iteration: 3545 | disc_loss: -0.3487433195114136 | gen_loss: -0.29125985503196716\n"
     ]
    },
    {
     "name": "stderr",
     "output_type": "stream",
     "text": [
      " 71%|███████▏  | 3569/5001 [00:34<00:12, 110.67it/s]"
     ]
    },
    {
     "name": "stdout",
     "output_type": "stream",
     "text": [
      "Iteration: 3546 | disc_loss: -0.3951079845428467 | gen_loss: -0.18754544854164124\n",
      "Iteration: 3547 | disc_loss: -0.3353894054889679 | gen_loss: -0.26084667444229126\n",
      "Iteration: 3548 | disc_loss: -0.37328654527664185 | gen_loss: -0.1760970950126648\n",
      "Iteration: 3549 | disc_loss: -0.310504674911499 | gen_loss: -0.12168212980031967\n",
      "Iteration: 3550 | disc_loss: -0.2029523253440857 | gen_loss: -0.16115453839302063\n",
      "Iteration: 3551 | disc_loss: -0.2899242341518402 | gen_loss: -0.20144252479076385\n",
      "Iteration: 3552 | disc_loss: -0.32648470997810364 | gen_loss: -0.10698112100362778\n",
      "Iteration: 3553 | disc_loss: -0.30838847160339355 | gen_loss: -0.2056598961353302\n",
      "Iteration: 3554 | disc_loss: -0.24015739560127258 | gen_loss: -0.10558276623487473\n",
      "Iteration: 3555 | disc_loss: -0.35727062821388245 | gen_loss: -0.09908157587051392\n",
      "Iteration: 3556 | disc_loss: -0.29290008544921875 | gen_loss: -0.1550377458333969\n",
      "Iteration: 3557 | disc_loss: -0.27714627981185913 | gen_loss: -0.06633639335632324\n",
      "Iteration: 3558 | disc_loss: -0.32837504148483276 | gen_loss: -0.20015355944633484\n",
      "Iteration: 3559 | disc_loss: -0.3683786690235138 | gen_loss: -0.18567292392253876\n",
      "Iteration: 3560 | disc_loss: -0.309006005525589 | gen_loss: -0.1866987943649292\n",
      "Iteration: 3561 | disc_loss: -0.3166296184062958 | gen_loss: -0.19803470373153687\n",
      "Iteration: 3562 | disc_loss: -0.32996290922164917 | gen_loss: -0.16544830799102783\n",
      "Iteration: 3563 | disc_loss: -0.24696627259254456 | gen_loss: -0.21657556295394897\n",
      "Iteration: 3564 | disc_loss: -0.31675130128860474 | gen_loss: -0.12695527076721191\n",
      "Iteration: 3565 | disc_loss: -0.30904054641723633 | gen_loss: -0.10044756531715393\n",
      "Iteration: 3566 | disc_loss: -0.36904099583625793 | gen_loss: -0.11881706118583679\n",
      "Iteration: 3567 | disc_loss: -0.27721312642097473 | gen_loss: -0.09482187777757645\n",
      "Iteration: 3568 | disc_loss: -0.2858548164367676 | gen_loss: -0.17090648412704468\n"
     ]
    },
    {
     "name": "stderr",
     "output_type": "stream",
     "text": [
      " 72%|███████▏  | 3593/5001 [00:34<00:12, 111.95it/s]"
     ]
    },
    {
     "name": "stdout",
     "output_type": "stream",
     "text": [
      "Iteration: 3569 | disc_loss: -0.35334184765815735 | gen_loss: -0.10807643085718155\n",
      "Iteration: 3570 | disc_loss: -0.27574247121810913 | gen_loss: -0.2443317025899887\n",
      "Iteration: 3571 | disc_loss: -0.2217695266008377 | gen_loss: -0.114855095744133\n",
      "Iteration: 3572 | disc_loss: -0.2588330805301666 | gen_loss: -0.07716000080108643\n",
      "Iteration: 3573 | disc_loss: -0.34924665093421936 | gen_loss: -0.11055794358253479\n",
      "Iteration: 3574 | disc_loss: -0.2736816108226776 | gen_loss: -0.14705297350883484\n",
      "Iteration: 3575 | disc_loss: -0.17137926816940308 | gen_loss: -0.17564141750335693\n",
      "Iteration: 3576 | disc_loss: -0.32316794991493225 | gen_loss: -0.0931679755449295\n",
      "Iteration: 3577 | disc_loss: -0.36508211493492126 | gen_loss: -0.08274953812360764\n",
      "Iteration: 3578 | disc_loss: -0.20817211270332336 | gen_loss: -0.15102419257164001\n",
      "Iteration: 3579 | disc_loss: -0.34108656644821167 | gen_loss: -0.23023274540901184\n",
      "Iteration: 3580 | disc_loss: -0.35325488448143005 | gen_loss: -0.12103917449712753\n",
      "Iteration: 3581 | disc_loss: -0.3377189636230469 | gen_loss: -0.15710145235061646\n",
      "Iteration: 3582 | disc_loss: -0.2073647379875183 | gen_loss: -0.15204988420009613\n",
      "Iteration: 3583 | disc_loss: -0.24216142296791077 | gen_loss: -0.18278977274894714\n",
      "Iteration: 3584 | disc_loss: -0.2896859645843506 | gen_loss: -0.11846070736646652\n",
      "Iteration: 3585 | disc_loss: -0.30258962512016296 | gen_loss: -0.12815186381340027\n",
      "Iteration: 3586 | disc_loss: -0.3348582684993744 | gen_loss: -0.17091763019561768\n",
      "Iteration: 3587 | disc_loss: -0.2860269546508789 | gen_loss: -0.15954622626304626\n",
      "Iteration: 3588 | disc_loss: -0.33199453353881836 | gen_loss: -0.22534605860710144\n",
      "Iteration: 3589 | disc_loss: -0.27502623200416565 | gen_loss: -0.21864129602909088\n",
      "Iteration: 3590 | disc_loss: -0.3622170686721802 | gen_loss: -0.1864643394947052\n",
      "Iteration: 3591 | disc_loss: -0.16348490118980408 | gen_loss: -0.16398413479328156\n",
      "Iteration: 3592 | disc_loss: -0.2604786157608032 | gen_loss: -0.13873735070228577\n"
     ]
    },
    {
     "name": "stderr",
     "output_type": "stream",
     "text": [
      " 72%|███████▏  | 3605/5001 [00:34<00:12, 109.15it/s]"
     ]
    },
    {
     "name": "stdout",
     "output_type": "stream",
     "text": [
      "Iteration: 3593 | disc_loss: -0.26773402094841003 | gen_loss: -0.13217367231845856\n",
      "Iteration: 3594 | disc_loss: -0.292953222990036 | gen_loss: -0.14699624478816986\n",
      "Iteration: 3595 | disc_loss: -0.28741082549095154 | gen_loss: -0.19456377625465393\n",
      "Iteration: 3596 | disc_loss: -0.353790819644928 | gen_loss: -0.1993536353111267\n",
      "Iteration: 3597 | disc_loss: -0.3214765191078186 | gen_loss: -0.23341023921966553\n",
      "Iteration: 3598 | disc_loss: -0.33012908697128296 | gen_loss: -0.29467254877090454\n",
      "Iteration: 3599 | disc_loss: -0.3349468410015106 | gen_loss: -0.2015337496995926\n",
      "Iteration: 3600 | disc_loss: -0.307692289352417 | gen_loss: -0.3416566848754883\n",
      "Iteration: 3601 | disc_loss: -0.32652053236961365 | gen_loss: -0.20194627344608307\n",
      "Iteration: 3602 | disc_loss: -0.3708108067512512 | gen_loss: -0.18100276589393616\n",
      "Iteration: 3603 | disc_loss: -0.3392137289047241 | gen_loss: -0.15471896529197693\n",
      "Iteration: 3604 | disc_loss: -0.25381216406822205 | gen_loss: -0.1689833253622055\n",
      "Iteration: 3605 | disc_loss: -0.328885555267334 | gen_loss: -0.11468331515789032\n",
      "Iteration: 3606 | disc_loss: -0.30428555607795715 | gen_loss: -0.22923234105110168\n",
      "Iteration: 3607 | disc_loss: -0.2434457242488861 | gen_loss: -0.20906350016593933\n",
      "Iteration: 3608 | disc_loss: -0.27006590366363525 | gen_loss: -0.16337727010250092\n",
      "Iteration: 3609 | disc_loss: -0.31781572103500366 | gen_loss: -0.10682156682014465\n",
      "Iteration: 3610 | disc_loss: -0.39030033349990845 | gen_loss: -0.23203939199447632\n",
      "Iteration: 3611 | disc_loss: -0.31467241048812866 | gen_loss: -0.18770462274551392\n",
      "Iteration: 3612 | disc_loss: -0.29070115089416504 | gen_loss: -0.20040294528007507\n",
      "Iteration: 3613 | disc_loss: -0.33177927136421204 | gen_loss: -0.21112647652626038\n",
      "Iteration: 3614 | disc_loss: -0.31897974014282227 | gen_loss: -0.16150081157684326\n"
     ]
    },
    {
     "name": "stderr",
     "output_type": "stream",
     "text": [
      " 73%|███████▎  | 3628/5001 [00:35<00:12, 110.73it/s]"
     ]
    },
    {
     "name": "stdout",
     "output_type": "stream",
     "text": [
      "Iteration: 3615 | disc_loss: -0.31671807169914246 | gen_loss: -0.13044920563697815\n",
      "Iteration: 3616 | disc_loss: -0.2755701243877411 | gen_loss: -0.18157127499580383\n",
      "Iteration: 3617 | disc_loss: -0.3059641718864441 | gen_loss: -0.16585057973861694\n",
      "Iteration: 3618 | disc_loss: -0.33156830072402954 | gen_loss: -0.18777084350585938\n",
      "Iteration: 3619 | disc_loss: -0.36228424310684204 | gen_loss: -0.21534699201583862\n",
      "Iteration: 3620 | disc_loss: -0.3434334397315979 | gen_loss: -0.11961820721626282\n",
      "Iteration: 3621 | disc_loss: -0.33150970935821533 | gen_loss: -0.1949910670518875\n",
      "Iteration: 3622 | disc_loss: -0.3029482364654541 | gen_loss: -0.23094907402992249\n",
      "Iteration: 3623 | disc_loss: -0.29518234729766846 | gen_loss: -0.15391570329666138\n",
      "Iteration: 3624 | disc_loss: -0.2558966875076294 | gen_loss: -0.18016795814037323\n",
      "Iteration: 3625 | disc_loss: -0.2888650596141815 | gen_loss: -0.16224604845046997\n",
      "Iteration: 3626 | disc_loss: -0.3443114161491394 | gen_loss: -0.11906591802835464\n",
      "Iteration: 3627 | disc_loss: -0.30313563346862793 | gen_loss: -0.11219444125890732\n",
      "Iteration: 3628 | disc_loss: -0.37235227227211 | gen_loss: -0.1680198609828949\n",
      "Iteration: 3629 | disc_loss: -0.32651954889297485 | gen_loss: -0.17750218510627747\n",
      "Iteration: 3630 | disc_loss: -0.36947089433670044 | gen_loss: -0.11350966989994049\n",
      "Iteration: 3631 | disc_loss: -0.24068622291088104 | gen_loss: -0.07508806884288788\n",
      "Iteration: 3632 | disc_loss: -0.2856612503528595 | gen_loss: -0.11603136360645294\n",
      "Iteration: 3633 | disc_loss: -0.3056253492832184 | gen_loss: -0.07257691025733948\n",
      "Iteration: 3634 | disc_loss: -0.4192573130130768 | gen_loss: -0.14393511414527893\n",
      "Iteration: 3635 | disc_loss: -0.2620619535446167 | gen_loss: -0.15665671229362488\n",
      "Iteration: 3636 | disc_loss: -0.3171555697917938 | gen_loss: -0.10856550931930542\n"
     ]
    },
    {
     "name": "stderr",
     "output_type": "stream",
     "text": [
      " 73%|███████▎  | 3652/5001 [00:35<00:12, 108.51it/s]"
     ]
    },
    {
     "name": "stdout",
     "output_type": "stream",
     "text": [
      "Iteration: 3637 | disc_loss: -0.37934228777885437 | gen_loss: -0.11258837580680847\n",
      "Iteration: 3638 | disc_loss: -0.4122900366783142 | gen_loss: -0.10203245282173157\n",
      "Iteration: 3639 | disc_loss: -0.3830028772354126 | gen_loss: -0.1770002841949463\n",
      "Iteration: 3640 | disc_loss: -0.33935973048210144 | gen_loss: -0.16558003425598145\n",
      "Iteration: 3641 | disc_loss: -0.3087368607521057 | gen_loss: -0.1528133898973465\n",
      "Iteration: 3642 | disc_loss: -0.16958379745483398 | gen_loss: -0.09817556291818619\n",
      "Iteration: 3643 | disc_loss: -0.3027900457382202 | gen_loss: -0.061331771314144135\n",
      "Iteration: 3644 | disc_loss: -0.31903502345085144 | gen_loss: -0.2072441726922989\n",
      "Iteration: 3645 | disc_loss: -0.31283465027809143 | gen_loss: -0.14841215312480927\n",
      "Iteration: 3646 | disc_loss: -0.3555457293987274 | gen_loss: -0.15337999165058136\n",
      "Iteration: 3647 | disc_loss: -0.4074118137359619 | gen_loss: -0.1458054780960083\n",
      "Iteration: 3648 | disc_loss: -0.3895777463912964 | gen_loss: -0.14714598655700684\n",
      "Iteration: 3649 | disc_loss: -0.25554323196411133 | gen_loss: -0.197005033493042\n",
      "Iteration: 3650 | disc_loss: -0.36157360672950745 | gen_loss: -0.1032184436917305\n",
      "Iteration: 3651 | disc_loss: -0.23580032587051392 | gen_loss: -0.18194574117660522\n",
      "Iteration: 3652 | disc_loss: -0.35873356461524963 | gen_loss: -0.2821177840232849\n",
      "Iteration: 3653 | disc_loss: -0.24802887439727783 | gen_loss: -0.1893066018819809\n",
      "Iteration: 3654 | disc_loss: -0.32129770517349243 | gen_loss: -0.13106492161750793\n",
      "Iteration: 3655 | disc_loss: -0.32205867767333984 | gen_loss: -0.17308221757411957\n",
      "Iteration: 3656 | disc_loss: -0.3009837567806244 | gen_loss: -0.1799442172050476\n",
      "Iteration: 3657 | disc_loss: -0.3621186316013336 | gen_loss: -0.16105374693870544\n",
      "Iteration: 3658 | disc_loss: -0.25439873337745667 | gen_loss: -0.17298322916030884\n",
      "Iteration: 3659 | disc_loss: -0.37184521555900574 | gen_loss: -0.22095119953155518\n",
      "Iteration: 3660 | disc_loss: -0.3324911594390869 | gen_loss: -0.13198629021644592\n"
     ]
    },
    {
     "name": "stderr",
     "output_type": "stream",
     "text": [
      " 74%|███████▎  | 3679/5001 [00:35<00:10, 120.28it/s]"
     ]
    },
    {
     "name": "stdout",
     "output_type": "stream",
     "text": [
      "Iteration: 3661 | disc_loss: -0.33814239501953125 | gen_loss: -0.12623098492622375\n",
      "Iteration: 3662 | disc_loss: -0.3506794571876526 | gen_loss: -0.16537520289421082\n",
      "Iteration: 3663 | disc_loss: -0.34203338623046875 | gen_loss: -0.20773246884346008\n",
      "Iteration: 3664 | disc_loss: -0.3163144290447235 | gen_loss: -0.1302436739206314\n",
      "Iteration: 3665 | disc_loss: -0.3073846101760864 | gen_loss: -0.13816416263580322\n",
      "Iteration: 3666 | disc_loss: -0.35123899579048157 | gen_loss: -0.2251730114221573\n",
      "Iteration: 3667 | disc_loss: -0.34191998839378357 | gen_loss: -0.19377145171165466\n",
      "Iteration: 3668 | disc_loss: 0.03745061159133911 | gen_loss: -0.2055836021900177\n",
      "Iteration: 3669 | disc_loss: -0.17264139652252197 | gen_loss: -0.1823849081993103\n",
      "Iteration: 3670 | disc_loss: -0.19900016486644745 | gen_loss: -0.15607358515262604\n",
      "Iteration: 3671 | disc_loss: -0.2840488851070404 | gen_loss: -0.22448180615901947\n",
      "Iteration: 3672 | disc_loss: -0.24571223556995392 | gen_loss: -0.16754639148712158\n",
      "Iteration: 3673 | disc_loss: -0.35539036989212036 | gen_loss: -0.2664982080459595\n",
      "Iteration: 3674 | disc_loss: -0.2819806933403015 | gen_loss: -0.15585479140281677\n",
      "Iteration: 3675 | disc_loss: -0.31780385971069336 | gen_loss: -0.16819152235984802\n",
      "Iteration: 3676 | disc_loss: -0.35630759596824646 | gen_loss: -0.24608373641967773\n",
      "Iteration: 3677 | disc_loss: -0.2740814685821533 | gen_loss: -0.1735113561153412\n",
      "Iteration: 3678 | disc_loss: -0.34633868932724 | gen_loss: -0.17503738403320312\n",
      "Iteration: 3679 | disc_loss: -0.35323119163513184 | gen_loss: -0.1759505271911621\n",
      "Iteration: 3680 | disc_loss: -0.308677613735199 | gen_loss: -0.20480945706367493\n",
      "Iteration: 3681 | disc_loss: -0.2554733157157898 | gen_loss: -0.1330997198820114\n",
      "Iteration: 3682 | disc_loss: -0.3241545259952545 | gen_loss: -0.138921320438385\n",
      "Iteration: 3683 | disc_loss: -0.3305862545967102 | gen_loss: -0.07744182646274567\n",
      "Iteration: 3684 | disc_loss: -0.2664192020893097 | gen_loss: -0.12219954282045364\n",
      "Iteration: 3685 | disc_loss: -0.3136357069015503 | gen_loss: -0.02445967122912407\n",
      "Iteration: 3686 | disc_loss: -0.23868462443351746 | gen_loss: -0.1069764643907547\n",
      "Iteration: 3687 | disc_loss: -0.341295063495636 | gen_loss: -0.11060690879821777\n"
     ]
    },
    {
     "name": "stderr",
     "output_type": "stream",
     "text": [
      " 74%|███████▍  | 3705/5001 [00:35<00:11, 115.64it/s]"
     ]
    },
    {
     "name": "stdout",
     "output_type": "stream",
     "text": [
      "Iteration: 3688 | disc_loss: -0.12140451371669769 | gen_loss: -0.14133456349372864\n",
      "Iteration: 3689 | disc_loss: -0.22067782282829285 | gen_loss: -0.16682440042495728\n",
      "Iteration: 3690 | disc_loss: -0.24634209275245667 | gen_loss: -0.15933705866336823\n",
      "Iteration: 3691 | disc_loss: -0.2779742479324341 | gen_loss: -0.1318194568157196\n",
      "Iteration: 3692 | disc_loss: -0.16043168306350708 | gen_loss: -0.21390047669410706\n",
      "Iteration: 3693 | disc_loss: -0.28154006600379944 | gen_loss: -0.13535436987876892\n",
      "Iteration: 3694 | disc_loss: -0.34821972250938416 | gen_loss: -0.1525072604417801\n",
      "Iteration: 3695 | disc_loss: -0.2616768479347229 | gen_loss: -0.16258615255355835\n",
      "Iteration: 3696 | disc_loss: -0.2871391475200653 | gen_loss: -0.16618750989437103\n",
      "Iteration: 3697 | disc_loss: -0.34716176986694336 | gen_loss: -0.14103560149669647\n",
      "Iteration: 3698 | disc_loss: -0.3084765672683716 | gen_loss: -0.14303991198539734\n",
      "Iteration: 3699 | disc_loss: -0.37558555603027344 | gen_loss: -0.138542041182518\n",
      "Iteration: 3700 | disc_loss: -0.3103846311569214 | gen_loss: -0.1511216014623642\n",
      "Iteration: 3701 | disc_loss: -0.35115575790405273 | gen_loss: -0.24630942940711975\n",
      "Iteration: 3702 | disc_loss: -0.3952380418777466 | gen_loss: -0.1205129474401474\n",
      "Iteration: 3703 | disc_loss: -0.2432941049337387 | gen_loss: -0.1625012904405594\n",
      "Iteration: 3704 | disc_loss: -0.287201464176178 | gen_loss: -0.17980509996414185\n",
      "Iteration: 3705 | disc_loss: -0.3133869469165802 | gen_loss: -0.12264223396778107\n",
      "Iteration: 3706 | disc_loss: -0.2170785516500473 | gen_loss: -0.1716468334197998\n",
      "Iteration: 3707 | disc_loss: -0.34194913506507874 | gen_loss: -0.1757637858390808\n",
      "Iteration: 3708 | disc_loss: -0.21362388134002686 | gen_loss: -0.2718082666397095\n",
      "Iteration: 3709 | disc_loss: -0.3205636441707611 | gen_loss: -0.08522036671638489\n"
     ]
    },
    {
     "name": "stderr",
     "output_type": "stream",
     "text": [
      " 75%|███████▍  | 3730/5001 [00:35<00:11, 114.93it/s]"
     ]
    },
    {
     "name": "stdout",
     "output_type": "stream",
     "text": [
      "Iteration: 3710 | disc_loss: -0.3460313379764557 | gen_loss: -0.16861774027347565\n",
      "Iteration: 3711 | disc_loss: -0.37217429280281067 | gen_loss: -0.23491176962852478\n",
      "Iteration: 3712 | disc_loss: -0.38985681533813477 | gen_loss: -0.23115551471710205\n",
      "Iteration: 3713 | disc_loss: -0.22407618165016174 | gen_loss: -0.23024433851242065\n",
      "Iteration: 3714 | disc_loss: -0.21492554247379303 | gen_loss: -0.16117605566978455\n",
      "Iteration: 3715 | disc_loss: -0.3157495856285095 | gen_loss: -0.19774772226810455\n",
      "Iteration: 3716 | disc_loss: -0.3947566747665405 | gen_loss: -0.1644209772348404\n",
      "Iteration: 3717 | disc_loss: -0.45776933431625366 | gen_loss: -0.08206859230995178\n",
      "Iteration: 3718 | disc_loss: -0.29499682784080505 | gen_loss: -0.14802177250385284\n",
      "Iteration: 3719 | disc_loss: -0.3665385842323303 | gen_loss: -0.06259371340274811\n",
      "Iteration: 3720 | disc_loss: -0.3549041450023651 | gen_loss: -0.19131997227668762\n",
      "Iteration: 3721 | disc_loss: -0.318112850189209 | gen_loss: -0.10756299644708633\n",
      "Iteration: 3722 | disc_loss: -0.35147517919540405 | gen_loss: -0.19969554245471954\n",
      "Iteration: 3723 | disc_loss: -0.24111416935920715 | gen_loss: -0.12183237820863724\n",
      "Iteration: 3724 | disc_loss: -0.25008445978164673 | gen_loss: -0.17230334877967834\n",
      "Iteration: 3725 | disc_loss: -0.3659738004207611 | gen_loss: -0.18309526145458221\n",
      "Iteration: 3726 | disc_loss: -0.37136000394821167 | gen_loss: -0.22371721267700195\n",
      "Iteration: 3727 | disc_loss: -0.2848759591579437 | gen_loss: -0.1593988537788391\n",
      "Iteration: 3728 | disc_loss: -0.26502346992492676 | gen_loss: -0.19945308566093445\n",
      "Iteration: 3729 | disc_loss: -0.33656370639801025 | gen_loss: -0.19529010355472565\n",
      "Iteration: 3730 | disc_loss: -0.38540229201316833 | gen_loss: -0.2585373520851135\n",
      "Iteration: 3731 | disc_loss: -0.39048582315444946 | gen_loss: -0.16233082115650177\n",
      "Iteration: 3732 | disc_loss: -0.20630253851413727 | gen_loss: -0.14098109304904938\n",
      "Iteration: 3733 | disc_loss: -0.3543582558631897 | gen_loss: -0.1804569661617279\n"
     ]
    },
    {
     "name": "stderr",
     "output_type": "stream",
     "text": [
      " 75%|███████▌  | 3754/5001 [00:36<00:10, 114.58it/s]"
     ]
    },
    {
     "name": "stdout",
     "output_type": "stream",
     "text": [
      "Iteration: 3734 | disc_loss: -0.3568926155567169 | gen_loss: -0.18355581164360046\n",
      "Iteration: 3735 | disc_loss: -0.36416393518447876 | gen_loss: -0.1513650268316269\n",
      "Iteration: 3736 | disc_loss: -0.30817899107933044 | gen_loss: -0.11202381551265717\n",
      "Iteration: 3737 | disc_loss: -0.32504594326019287 | gen_loss: -0.14046801626682281\n",
      "Iteration: 3738 | disc_loss: -0.31770390272140503 | gen_loss: -0.1702343076467514\n",
      "Iteration: 3739 | disc_loss: -0.1981794685125351 | gen_loss: -0.20718181133270264\n",
      "Iteration: 3740 | disc_loss: -0.32922041416168213 | gen_loss: -0.07444228231906891\n",
      "Iteration: 3741 | disc_loss: -0.24162152409553528 | gen_loss: -0.18000707030296326\n",
      "Iteration: 3742 | disc_loss: -0.30538883805274963 | gen_loss: -0.08501535654067993\n",
      "Iteration: 3743 | disc_loss: -0.27705368399620056 | gen_loss: -0.14089085161685944\n",
      "Iteration: 3744 | disc_loss: -0.2734226584434509 | gen_loss: -0.08211584389209747\n",
      "Iteration: 3745 | disc_loss: -0.18978777527809143 | gen_loss: -0.15797331929206848\n",
      "Iteration: 3746 | disc_loss: -0.35776206851005554 | gen_loss: -0.1535719335079193\n",
      "Iteration: 3747 | disc_loss: -0.2634512782096863 | gen_loss: -0.1821495145559311\n",
      "Iteration: 3748 | disc_loss: -0.25361472368240356 | gen_loss: -0.22079874575138092\n",
      "Iteration: 3749 | disc_loss: -0.2325066328048706 | gen_loss: -0.13091063499450684\n",
      "Iteration: 3750 | disc_loss: -0.25672879815101624 | gen_loss: -0.12687256932258606\n",
      "Iteration: 3751 | disc_loss: -0.3231146037578583 | gen_loss: -0.1920420527458191\n",
      "Iteration: 3752 | disc_loss: -0.31933632493019104 | gen_loss: -0.22847023606300354\n",
      "Iteration: 3753 | disc_loss: -0.2549508213996887 | gen_loss: -0.15302714705467224\n",
      "Iteration: 3754 | disc_loss: -0.21620668470859528 | gen_loss: -0.24336236715316772\n",
      "Iteration: 3755 | disc_loss: -0.1912786364555359 | gen_loss: -0.159618079662323\n",
      "Iteration: 3756 | disc_loss: -0.2848571836948395 | gen_loss: -0.143716499209404\n"
     ]
    },
    {
     "name": "stderr",
     "output_type": "stream",
     "text": [
      " 75%|███████▌  | 3766/5001 [00:36<00:11, 111.25it/s]"
     ]
    },
    {
     "name": "stdout",
     "output_type": "stream",
     "text": [
      "Iteration: 3757 | disc_loss: -0.30357056856155396 | gen_loss: -0.038025833666324615\n",
      "Iteration: 3758 | disc_loss: -0.36036157608032227 | gen_loss: -0.13564401865005493\n",
      "Iteration: 3759 | disc_loss: -0.3136386573314667 | gen_loss: -0.12888750433921814\n",
      "Iteration: 3760 | disc_loss: -0.3305712044239044 | gen_loss: -0.22680255770683289\n",
      "Iteration: 3761 | disc_loss: -0.29967001080513 | gen_loss: -0.0507415309548378\n",
      "Iteration: 3762 | disc_loss: -0.3694535493850708 | gen_loss: -0.1726209968328476\n",
      "Iteration: 3763 | disc_loss: -0.32877880334854126 | gen_loss: -0.12887683510780334\n",
      "Iteration: 3764 | disc_loss: -0.2305992990732193 | gen_loss: -0.17569643259048462\n",
      "Iteration: 3765 | disc_loss: -0.3167682886123657 | gen_loss: -0.11087830364704132\n",
      "Iteration: 3766 | disc_loss: -0.2713763415813446 | gen_loss: -0.19598689675331116\n",
      "Iteration: 3767 | disc_loss: -0.28435319662094116 | gen_loss: -0.17262421548366547\n",
      "Iteration: 3768 | disc_loss: -0.28497812151908875 | gen_loss: -0.2096947878599167\n",
      "Iteration: 3769 | disc_loss: -0.16314713656902313 | gen_loss: -0.21487009525299072\n",
      "Iteration: 3770 | disc_loss: -0.31948617100715637 | gen_loss: -0.22955915331840515\n",
      "Iteration: 3771 | disc_loss: -0.3076196610927582 | gen_loss: -0.1380455046892166\n",
      "Iteration: 3772 | disc_loss: -0.2743682265281677 | gen_loss: -0.13688087463378906\n",
      "Iteration: 3773 | disc_loss: -0.3562169671058655 | gen_loss: -0.16229471564292908\n",
      "Iteration: 3774 | disc_loss: -0.2885824143886566 | gen_loss: -0.1292765736579895\n",
      "Iteration: 3775 | disc_loss: -0.33149856328964233 | gen_loss: -0.1889079511165619\n",
      "Iteration: 3776 | disc_loss: -0.35000118613243103 | gen_loss: -0.10820788890123367\n"
     ]
    },
    {
     "name": "stderr",
     "output_type": "stream",
     "text": [
      " 76%|███████▌  | 3790/5001 [00:36<00:11, 106.60it/s]"
     ]
    },
    {
     "name": "stdout",
     "output_type": "stream",
     "text": [
      "Iteration: 3777 | disc_loss: -0.28485816717147827 | gen_loss: -0.17877483367919922\n",
      "Iteration: 3778 | disc_loss: -0.32038241624832153 | gen_loss: -0.1175941601395607\n",
      "Iteration: 3779 | disc_loss: -0.3144693970680237 | gen_loss: -0.09763973951339722\n",
      "Iteration: 3780 | disc_loss: -0.26884984970092773 | gen_loss: -0.1178547739982605\n",
      "Iteration: 3781 | disc_loss: -0.17450712621212006 | gen_loss: -0.13940584659576416\n",
      "Iteration: 3782 | disc_loss: -0.3640431761741638 | gen_loss: -0.1873844563961029\n",
      "Iteration: 3783 | disc_loss: -0.25778907537460327 | gen_loss: -0.2141711264848709\n",
      "Iteration: 3784 | disc_loss: -0.1635868102312088 | gen_loss: -0.2063111960887909\n",
      "Iteration: 3785 | disc_loss: -0.2840486466884613 | gen_loss: -0.20120388269424438\n",
      "Iteration: 3786 | disc_loss: -0.3174441158771515 | gen_loss: -0.16741281747817993\n",
      "Iteration: 3787 | disc_loss: -0.3066789209842682 | gen_loss: -0.18929335474967957\n",
      "Iteration: 3788 | disc_loss: -0.3002002239227295 | gen_loss: -0.21307602524757385\n",
      "Iteration: 3789 | disc_loss: -0.25937214493751526 | gen_loss: -0.15767300128936768\n",
      "Iteration: 3790 | disc_loss: -0.283776193857193 | gen_loss: -0.14028680324554443\n",
      "Iteration: 3791 | disc_loss: -0.2807154059410095 | gen_loss: -0.17791593074798584\n",
      "Iteration: 3792 | disc_loss: -0.30042964220046997 | gen_loss: -0.22602029144763947\n",
      "Iteration: 3793 | disc_loss: -0.29795292019844055 | gen_loss: -0.1412547528743744\n",
      "Iteration: 3794 | disc_loss: -0.3044686019420624 | gen_loss: -0.1395130753517151\n",
      "Iteration: 3795 | disc_loss: -0.2795636057853699 | gen_loss: -0.11744752526283264\n",
      "Iteration: 3796 | disc_loss: -0.3034026026725769 | gen_loss: -0.18225760757923126\n",
      "Iteration: 3797 | disc_loss: -0.09078074991703033 | gen_loss: -0.14760570228099823\n",
      "Iteration: 3798 | disc_loss: -0.32737991213798523 | gen_loss: -0.21447929739952087\n"
     ]
    },
    {
     "name": "stderr",
     "output_type": "stream",
     "text": [
      " 76%|███████▌  | 3812/5001 [00:36<00:11, 100.84it/s]"
     ]
    },
    {
     "name": "stdout",
     "output_type": "stream",
     "text": [
      "Iteration: 3799 | disc_loss: -0.34996968507766724 | gen_loss: -0.19724293053150177\n",
      "Iteration: 3800 | disc_loss: -0.32522374391555786 | gen_loss: -0.22111263871192932\n",
      "Iteration: 3801 | disc_loss: -0.3545989394187927 | gen_loss: -0.16102686524391174\n",
      "Iteration: 3802 | disc_loss: -0.40395689010620117 | gen_loss: -0.11892478168010712\n",
      "Iteration: 3803 | disc_loss: -0.4132924973964691 | gen_loss: -0.11682234704494476\n",
      "Iteration: 3804 | disc_loss: -0.2938951253890991 | gen_loss: -0.16296562552452087\n",
      "Iteration: 3805 | disc_loss: -0.23911966383457184 | gen_loss: -0.12236768007278442\n",
      "Iteration: 3806 | disc_loss: -0.3054475784301758 | gen_loss: -0.1346832662820816\n",
      "Iteration: 3807 | disc_loss: -0.39082595705986023 | gen_loss: -0.15848302841186523\n",
      "Iteration: 3808 | disc_loss: -0.28761738538742065 | gen_loss: -0.1563718020915985\n",
      "Iteration: 3809 | disc_loss: -0.34698566794395447 | gen_loss: -0.17712032794952393\n",
      "Iteration: 3810 | disc_loss: -0.28554409742355347 | gen_loss: -0.18600600957870483\n",
      "Iteration: 3811 | disc_loss: -0.2873535454273224 | gen_loss: -0.17668934166431427\n",
      "Iteration: 3812 | disc_loss: -0.30730557441711426 | gen_loss: -0.18054836988449097\n",
      "Iteration: 3813 | disc_loss: -0.3326144516468048 | gen_loss: -0.21097777783870697\n",
      "Iteration: 3814 | disc_loss: -0.213259756565094 | gen_loss: -0.20207571983337402\n",
      "Iteration: 3815 | disc_loss: -0.2855660915374756 | gen_loss: -0.12437225133180618\n",
      "Iteration: 3816 | disc_loss: -0.13031414151191711 | gen_loss: -0.1541886031627655\n",
      "Iteration: 3817 | disc_loss: -0.3089659810066223 | gen_loss: -0.130784273147583\n"
     ]
    },
    {
     "name": "stderr",
     "output_type": "stream",
     "text": [
      " 77%|███████▋  | 3834/5001 [00:36<00:11, 101.34it/s]"
     ]
    },
    {
     "name": "stdout",
     "output_type": "stream",
     "text": [
      "Iteration: 3818 | disc_loss: -0.26300138235092163 | gen_loss: -0.13438592851161957\n",
      "Iteration: 3819 | disc_loss: -0.38658344745635986 | gen_loss: -0.2307453155517578\n",
      "Iteration: 3820 | disc_loss: -0.0505184531211853 | gen_loss: -0.15835940837860107\n",
      "Iteration: 3821 | disc_loss: -0.3456900119781494 | gen_loss: -0.14723502099514008\n",
      "Iteration: 3822 | disc_loss: -0.3083529770374298 | gen_loss: -0.14536553621292114\n",
      "Iteration: 3823 | disc_loss: -0.381340891122818 | gen_loss: -0.19400179386138916\n",
      "Iteration: 3824 | disc_loss: -0.3939909338951111 | gen_loss: -0.2193380892276764\n",
      "Iteration: 3825 | disc_loss: -0.3385509252548218 | gen_loss: -0.21287211775779724\n",
      "Iteration: 3826 | disc_loss: -0.3269991874694824 | gen_loss: -0.08189672231674194\n",
      "Iteration: 3827 | disc_loss: -0.3332580626010895 | gen_loss: -0.1730642020702362\n",
      "Iteration: 3828 | disc_loss: -0.2877825200557709 | gen_loss: -0.2329285740852356\n",
      "Iteration: 3829 | disc_loss: -0.31167513132095337 | gen_loss: -0.22761547565460205\n",
      "Iteration: 3830 | disc_loss: -0.32610857486724854 | gen_loss: -0.25440189242362976\n",
      "Iteration: 3831 | disc_loss: -0.3602256178855896 | gen_loss: -0.2811664938926697\n",
      "Iteration: 3832 | disc_loss: -0.27242472767829895 | gen_loss: -0.16488578915596008\n",
      "Iteration: 3833 | disc_loss: -0.28995537757873535 | gen_loss: -0.16959887742996216\n",
      "Iteration: 3834 | disc_loss: -0.3199303448200226 | gen_loss: -0.1837506890296936\n",
      "Iteration: 3835 | disc_loss: -0.2542610764503479 | gen_loss: -0.2569904327392578\n",
      "Iteration: 3836 | disc_loss: -0.37531423568725586 | gen_loss: -0.2447124570608139\n"
     ]
    },
    {
     "name": "stderr",
     "output_type": "stream",
     "text": [
      " 77%|███████▋  | 3856/5001 [00:37<00:11, 97.93it/s] "
     ]
    },
    {
     "name": "stdout",
     "output_type": "stream",
     "text": [
      "Iteration: 3837 | disc_loss: -0.33200526237487793 | gen_loss: -0.19264459609985352\n",
      "Iteration: 3838 | disc_loss: -0.27240288257598877 | gen_loss: -0.13596460223197937\n",
      "Iteration: 3839 | disc_loss: -0.29853782057762146 | gen_loss: -0.252353698015213\n",
      "Iteration: 3840 | disc_loss: -0.19337952136993408 | gen_loss: -0.24349741637706757\n",
      "Iteration: 3841 | disc_loss: -0.3132283687591553 | gen_loss: -0.20668956637382507\n",
      "Iteration: 3842 | disc_loss: -0.2999936044216156 | gen_loss: -0.1119992583990097\n",
      "Iteration: 3843 | disc_loss: -0.1867726594209671 | gen_loss: -0.16281849145889282\n",
      "Iteration: 3844 | disc_loss: -0.3508222699165344 | gen_loss: -0.1990041732788086\n",
      "Iteration: 3845 | disc_loss: -0.31783604621887207 | gen_loss: -0.16693100333213806\n",
      "Iteration: 3846 | disc_loss: -0.3309209644794464 | gen_loss: -0.2972196340560913\n",
      "Iteration: 3847 | disc_loss: -0.3031461536884308 | gen_loss: -0.1885448694229126\n",
      "Iteration: 3848 | disc_loss: -0.30738410353660583 | gen_loss: -0.18407267332077026\n",
      "Iteration: 3849 | disc_loss: -0.3700850009918213 | gen_loss: -0.21040776371955872\n",
      "Iteration: 3850 | disc_loss: -0.31767332553863525 | gen_loss: -0.15838007628917694\n",
      "Iteration: 3851 | disc_loss: -0.24279576539993286 | gen_loss: -0.1973942220211029\n",
      "Iteration: 3852 | disc_loss: -0.20411641895771027 | gen_loss: -0.1778421550989151\n",
      "Iteration: 3853 | disc_loss: -0.33364924788475037 | gen_loss: -0.09414514899253845\n",
      "Iteration: 3854 | disc_loss: -0.24227139353752136 | gen_loss: -0.23610743880271912\n",
      "Iteration: 3855 | disc_loss: -0.1949254870414734 | gen_loss: -0.20389539003372192\n",
      "Iteration: 3856 | disc_loss: -0.3230443298816681 | gen_loss: -0.1545097380876541\n",
      "Iteration: 3857 | disc_loss: -0.29909709095954895 | gen_loss: -0.14002001285552979\n"
     ]
    },
    {
     "name": "stderr",
     "output_type": "stream",
     "text": [
      " 78%|███████▊  | 3879/5001 [00:37<00:10, 104.49it/s]"
     ]
    },
    {
     "name": "stdout",
     "output_type": "stream",
     "text": [
      "Iteration: 3858 | disc_loss: -0.29120296239852905 | gen_loss: -0.2348308116197586\n",
      "Iteration: 3859 | disc_loss: -0.38446494936943054 | gen_loss: -0.13090859353542328\n",
      "Iteration: 3860 | disc_loss: -0.30079564452171326 | gen_loss: -0.2404751181602478\n",
      "Iteration: 3861 | disc_loss: -0.2933551073074341 | gen_loss: -0.12130289524793625\n",
      "Iteration: 3862 | disc_loss: -0.22309845685958862 | gen_loss: -0.16560663282871246\n",
      "Iteration: 3863 | disc_loss: -0.23502999544143677 | gen_loss: -0.16665861010551453\n",
      "Iteration: 3864 | disc_loss: -0.33834168314933777 | gen_loss: -0.2004137933254242\n",
      "Iteration: 3865 | disc_loss: -0.323763370513916 | gen_loss: -0.24767166376113892\n",
      "Iteration: 3866 | disc_loss: -0.32560521364212036 | gen_loss: -0.10728193819522858\n",
      "Iteration: 3867 | disc_loss: -0.3595800995826721 | gen_loss: -0.15956179797649384\n",
      "Iteration: 3868 | disc_loss: -0.3325449228286743 | gen_loss: -0.17502260208129883\n",
      "Iteration: 3869 | disc_loss: -0.3430384695529938 | gen_loss: -0.21218529343605042\n",
      "Iteration: 3870 | disc_loss: -0.3626045286655426 | gen_loss: -0.1922256350517273\n",
      "Iteration: 3871 | disc_loss: -0.33024540543556213 | gen_loss: -0.10907575488090515\n",
      "Iteration: 3872 | disc_loss: -0.24021291732788086 | gen_loss: -0.17417721450328827\n",
      "Iteration: 3873 | disc_loss: -0.3861026167869568 | gen_loss: -0.1835247129201889\n",
      "Iteration: 3874 | disc_loss: -0.33513304591178894 | gen_loss: -0.11970335990190506\n",
      "Iteration: 3875 | disc_loss: -0.33259642124176025 | gen_loss: -0.2650790512561798\n",
      "Iteration: 3876 | disc_loss: -0.3667330741882324 | gen_loss: -0.2431618571281433\n",
      "Iteration: 3877 | disc_loss: -0.2933385670185089 | gen_loss: -0.1374128758907318\n",
      "Iteration: 3878 | disc_loss: -0.29138749837875366 | gen_loss: -0.17036274075508118\n",
      "Iteration: 3879 | disc_loss: -0.2660144865512848 | gen_loss: -0.21323707699775696\n",
      "Iteration: 3880 | disc_loss: -0.34568947553634644 | gen_loss: -0.1491408348083496\n"
     ]
    },
    {
     "name": "stderr",
     "output_type": "stream",
     "text": [
      " 78%|███████▊  | 3901/5001 [00:37<00:10, 105.18it/s]"
     ]
    },
    {
     "name": "stdout",
     "output_type": "stream",
     "text": [
      "Iteration: 3881 | disc_loss: -0.35463687777519226 | gen_loss: -0.13888266682624817\n",
      "Iteration: 3882 | disc_loss: -0.32912111282348633 | gen_loss: -0.18685755133628845\n",
      "Iteration: 3883 | disc_loss: -0.27681300044059753 | gen_loss: -0.14987823367118835\n",
      "Iteration: 3884 | disc_loss: -0.3081902861595154 | gen_loss: -0.17141899466514587\n",
      "Iteration: 3885 | disc_loss: -0.25124603509902954 | gen_loss: -0.15270674228668213\n",
      "Iteration: 3886 | disc_loss: -0.3873947560787201 | gen_loss: -0.18772080540657043\n",
      "Iteration: 3887 | disc_loss: -0.29576563835144043 | gen_loss: -0.30824536085128784\n",
      "Iteration: 3888 | disc_loss: -0.21473385393619537 | gen_loss: -0.12234796583652496\n",
      "Iteration: 3889 | disc_loss: -0.3188040554523468 | gen_loss: -0.11601771414279938\n",
      "Iteration: 3890 | disc_loss: -0.29590633511543274 | gen_loss: -0.012975655496120453\n",
      "Iteration: 3891 | disc_loss: -0.31470492482185364 | gen_loss: -0.13549107313156128\n",
      "Iteration: 3892 | disc_loss: -0.298625111579895 | gen_loss: -0.1062651053071022\n",
      "Iteration: 3893 | disc_loss: -0.3339281380176544 | gen_loss: -0.14728188514709473\n",
      "Iteration: 3894 | disc_loss: -0.21121981739997864 | gen_loss: -0.1839129477739334\n",
      "Iteration: 3895 | disc_loss: -0.32027584314346313 | gen_loss: -0.08661212772130966\n",
      "Iteration: 3896 | disc_loss: -0.3059929609298706 | gen_loss: -0.11424996703863144\n",
      "Iteration: 3897 | disc_loss: -0.15785451233386993 | gen_loss: -0.17533841729164124\n",
      "Iteration: 3898 | disc_loss: -0.35207489132881165 | gen_loss: -0.11466638743877411\n",
      "Iteration: 3899 | disc_loss: -0.31424885988235474 | gen_loss: -0.0959123969078064\n",
      "Iteration: 3900 | disc_loss: -0.3657159209251404 | gen_loss: -0.11710166931152344\n",
      "Iteration: 3901 | disc_loss: -0.331145316362381 | gen_loss: -0.07305300980806351\n",
      "Iteration: 3902 | disc_loss: -0.2823231518268585 | gen_loss: -0.13056106865406036\n"
     ]
    },
    {
     "name": "stderr",
     "output_type": "stream",
     "text": [
      " 78%|███████▊  | 3925/5001 [00:37<00:09, 109.41it/s]"
     ]
    },
    {
     "name": "stdout",
     "output_type": "stream",
     "text": [
      "Iteration: 3903 | disc_loss: -0.322318434715271 | gen_loss: -0.15409404039382935\n",
      "Iteration: 3904 | disc_loss: -0.26117682456970215 | gen_loss: -0.19013236463069916\n",
      "Iteration: 3905 | disc_loss: -0.3538573086261749 | gen_loss: -0.19090482592582703\n",
      "Iteration: 3906 | disc_loss: -0.2958229184150696 | gen_loss: -0.1955544799566269\n",
      "Iteration: 3907 | disc_loss: -0.27127909660339355 | gen_loss: -0.10042758285999298\n",
      "Iteration: 3908 | disc_loss: -0.37714266777038574 | gen_loss: -0.19738492369651794\n",
      "Iteration: 3909 | disc_loss: -0.2966477572917938 | gen_loss: -0.16388168931007385\n",
      "Iteration: 3910 | disc_loss: -0.3273856043815613 | gen_loss: -0.08946879953145981\n",
      "Iteration: 3911 | disc_loss: -0.219735249876976 | gen_loss: -0.2072085738182068\n",
      "Iteration: 3912 | disc_loss: -0.3334580063819885 | gen_loss: -0.19892123341560364\n",
      "Iteration: 3913 | disc_loss: -0.2852083742618561 | gen_loss: -0.20298653841018677\n",
      "Iteration: 3914 | disc_loss: -0.32953575253486633 | gen_loss: -0.10901404917240143\n",
      "Iteration: 3915 | disc_loss: -0.3609243631362915 | gen_loss: -0.16968530416488647\n",
      "Iteration: 3916 | disc_loss: -0.33251652121543884 | gen_loss: -0.17625892162322998\n",
      "Iteration: 3917 | disc_loss: -0.2518896460533142 | gen_loss: -0.15029683709144592\n",
      "Iteration: 3918 | disc_loss: -0.27237552404403687 | gen_loss: -0.1846047043800354\n",
      "Iteration: 3919 | disc_loss: -0.2434164136648178 | gen_loss: -0.14971745014190674\n",
      "Iteration: 3920 | disc_loss: -0.29308268427848816 | gen_loss: -0.23384113609790802\n",
      "Iteration: 3921 | disc_loss: -0.31164658069610596 | gen_loss: -0.2339278906583786\n",
      "Iteration: 3922 | disc_loss: -0.3641802668571472 | gen_loss: -0.1545427143573761\n",
      "Iteration: 3923 | disc_loss: -0.3301232159137726 | gen_loss: -0.16560694575309753\n",
      "Iteration: 3924 | disc_loss: -0.32485783100128174 | gen_loss: -0.1950640231370926\n",
      "Iteration: 3925 | disc_loss: -0.3506782054901123 | gen_loss: -0.19982102513313293\n"
     ]
    },
    {
     "name": "stderr",
     "output_type": "stream",
     "text": [
      " 79%|███████▉  | 3948/5001 [00:37<00:09, 108.61it/s]"
     ]
    },
    {
     "name": "stdout",
     "output_type": "stream",
     "text": [
      "Iteration: 3926 | disc_loss: -0.33042481541633606 | gen_loss: -0.156098872423172\n",
      "Iteration: 3927 | disc_loss: -0.3515099585056305 | gen_loss: -0.19356271624565125\n",
      "Iteration: 3928 | disc_loss: -0.32001999020576477 | gen_loss: -0.19105041027069092\n",
      "Iteration: 3929 | disc_loss: -0.32265281677246094 | gen_loss: -0.15836700797080994\n",
      "Iteration: 3930 | disc_loss: -0.3656710982322693 | gen_loss: -0.2198650985956192\n",
      "Iteration: 3931 | disc_loss: -0.35888826847076416 | gen_loss: -0.17855608463287354\n",
      "Iteration: 3932 | disc_loss: -0.2010168880224228 | gen_loss: -0.11566639691591263\n",
      "Iteration: 3933 | disc_loss: -0.21680022776126862 | gen_loss: -0.21317338943481445\n",
      "Iteration: 3934 | disc_loss: -0.3224252760410309 | gen_loss: -0.16355732083320618\n",
      "Iteration: 3935 | disc_loss: -0.3257061839103699 | gen_loss: -0.14459678530693054\n",
      "Iteration: 3936 | disc_loss: -0.28790318965911865 | gen_loss: -0.2779417037963867\n",
      "Iteration: 3937 | disc_loss: -0.24571815133094788 | gen_loss: -0.16784393787384033\n",
      "Iteration: 3938 | disc_loss: -0.3437098264694214 | gen_loss: -0.2076641321182251\n",
      "Iteration: 3939 | disc_loss: -0.22781160473823547 | gen_loss: -0.13355658948421478\n",
      "Iteration: 3940 | disc_loss: -0.3322111666202545 | gen_loss: -0.22546100616455078\n",
      "Iteration: 3941 | disc_loss: -0.3267860412597656 | gen_loss: -0.12142015993595123\n",
      "Iteration: 3942 | disc_loss: -0.3034716844558716 | gen_loss: -0.16239020228385925\n",
      "Iteration: 3943 | disc_loss: -0.3339917063713074 | gen_loss: -0.21167588233947754\n",
      "Iteration: 3944 | disc_loss: -0.2215258628129959 | gen_loss: -0.2142932265996933\n",
      "Iteration: 3945 | disc_loss: -0.29125505685806274 | gen_loss: -0.15045912563800812\n",
      "Iteration: 3946 | disc_loss: -0.29896172881126404 | gen_loss: -0.20538084208965302\n",
      "Iteration: 3947 | disc_loss: -0.3231196999549866 | gen_loss: -0.16901551187038422\n"
     ]
    },
    {
     "name": "stderr",
     "output_type": "stream",
     "text": [
      " 79%|███████▉  | 3970/5001 [00:38<00:09, 107.09it/s]"
     ]
    },
    {
     "name": "stdout",
     "output_type": "stream",
     "text": [
      "Iteration: 3948 | disc_loss: -0.22054825723171234 | gen_loss: -0.21340452134609222\n",
      "Iteration: 3949 | disc_loss: -0.27311772108078003 | gen_loss: -0.1734955906867981\n",
      "Iteration: 3950 | disc_loss: -0.35607850551605225 | gen_loss: -0.17219051718711853\n",
      "Iteration: 3951 | disc_loss: -0.28913676738739014 | gen_loss: -0.09059104323387146\n",
      "Iteration: 3952 | disc_loss: -0.2821364998817444 | gen_loss: -0.1355246603488922\n",
      "Iteration: 3953 | disc_loss: -0.20357897877693176 | gen_loss: -0.15302878618240356\n",
      "Iteration: 3954 | disc_loss: -0.28940796852111816 | gen_loss: -0.17163866758346558\n",
      "Iteration: 3955 | disc_loss: -0.18419304490089417 | gen_loss: -0.15173006057739258\n",
      "Iteration: 3956 | disc_loss: -0.3496856391429901 | gen_loss: -0.16042278707027435\n",
      "Iteration: 3957 | disc_loss: -0.3124585449695587 | gen_loss: -0.09178531169891357\n",
      "Iteration: 3958 | disc_loss: -0.34172487258911133 | gen_loss: -0.223505899310112\n",
      "Iteration: 3959 | disc_loss: -0.19212424755096436 | gen_loss: -0.17676681280136108\n",
      "Iteration: 3960 | disc_loss: -0.26867786049842834 | gen_loss: -0.12079228460788727\n",
      "Iteration: 3961 | disc_loss: -0.2781500816345215 | gen_loss: -0.16249129176139832\n",
      "Iteration: 3962 | disc_loss: -0.20366811752319336 | gen_loss: -0.10978031903505325\n",
      "Iteration: 3963 | disc_loss: -0.3073325455188751 | gen_loss: -0.24710732698440552\n",
      "Iteration: 3964 | disc_loss: -0.238249734044075 | gen_loss: -0.25868916511535645\n",
      "Iteration: 3965 | disc_loss: -0.2702367603778839 | gen_loss: -0.26015499234199524\n",
      "Iteration: 3966 | disc_loss: -0.348472535610199 | gen_loss: -0.1842656135559082\n",
      "Iteration: 3967 | disc_loss: -0.3246167302131653 | gen_loss: -0.17514950037002563\n",
      "Iteration: 3968 | disc_loss: -0.3001302182674408 | gen_loss: -0.16279572248458862\n",
      "Iteration: 3969 | disc_loss: -0.3167056143283844 | gen_loss: -0.1651618629693985\n"
     ]
    },
    {
     "name": "stderr",
     "output_type": "stream",
     "text": [
      " 80%|███████▉  | 3982/5001 [00:38<00:09, 108.89it/s]"
     ]
    },
    {
     "name": "stdout",
     "output_type": "stream",
     "text": [
      "Iteration: 3970 | disc_loss: -0.3452601432800293 | gen_loss: -0.24688343703746796\n",
      "Iteration: 3971 | disc_loss: -0.2600087523460388 | gen_loss: -0.22294747829437256\n",
      "Iteration: 3972 | disc_loss: -0.2676509916782379 | gen_loss: -0.13092973828315735\n",
      "Iteration: 3973 | disc_loss: -0.32655027508735657 | gen_loss: -0.22012725472450256\n",
      "Iteration: 3974 | disc_loss: -0.3411433696746826 | gen_loss: -0.221440389752388\n",
      "Iteration: 3975 | disc_loss: -0.2988746166229248 | gen_loss: -0.17103393375873566\n",
      "Iteration: 3976 | disc_loss: -0.31932368874549866 | gen_loss: -0.17579680681228638\n",
      "Iteration: 3977 | disc_loss: -0.23564279079437256 | gen_loss: -0.20062589645385742\n",
      "Iteration: 3978 | disc_loss: -0.3606400787830353 | gen_loss: -0.14593817293643951\n",
      "Iteration: 3979 | disc_loss: -0.312916100025177 | gen_loss: -0.18705451488494873\n",
      "Iteration: 3980 | disc_loss: -0.24871394038200378 | gen_loss: -0.1621197760105133\n",
      "Iteration: 3981 | disc_loss: -0.13464096188545227 | gen_loss: -0.24470701813697815\n",
      "Iteration: 3982 | disc_loss: -0.19597917795181274 | gen_loss: -0.2011631280183792\n",
      "Iteration: 3983 | disc_loss: -0.2810537815093994 | gen_loss: -0.22061848640441895\n",
      "Iteration: 3984 | disc_loss: -0.3844504952430725 | gen_loss: -0.2547019124031067\n",
      "Iteration: 3985 | disc_loss: -0.3307706415653229 | gen_loss: -0.2557060122489929\n",
      "Iteration: 3986 | disc_loss: -0.30970120429992676 | gen_loss: -0.19863125681877136\n",
      "Iteration: 3987 | disc_loss: -0.29902011156082153 | gen_loss: -0.16207483410835266\n",
      "Iteration: 3988 | disc_loss: -0.33986929059028625 | gen_loss: -0.23364832997322083\n",
      "Iteration: 3989 | disc_loss: -0.2469620406627655 | gen_loss: -0.1549077033996582\n",
      "Iteration: 3990 | disc_loss: -0.31630730628967285 | gen_loss: -0.2718909978866577\n",
      "Iteration: 3991 | disc_loss: -0.29384127259254456 | gen_loss: -0.2201385647058487\n",
      "Iteration: 3992 | disc_loss: -0.32204896211624146 | gen_loss: -0.14820222556591034\n",
      "Iteration: 3993 | disc_loss: -0.2591140866279602 | gen_loss: -0.15215371549129486"
     ]
    },
    {
     "name": "stderr",
     "output_type": "stream",
     "text": [
      " 80%|████████  | 4005/5001 [00:38<00:10, 98.66it/s] "
     ]
    },
    {
     "name": "stdout",
     "output_type": "stream",
     "text": [
      "\n",
      "Iteration: 3994 | disc_loss: -0.2792133092880249 | gen_loss: -0.15217749774456024\n",
      "Iteration: 3995 | disc_loss: -0.15093205869197845 | gen_loss: -0.2433375120162964\n",
      "Iteration: 3996 | disc_loss: -0.3219544589519501 | gen_loss: -0.2250823676586151\n",
      "Iteration: 3997 | disc_loss: -0.26886266469955444 | gen_loss: -0.23907941579818726\n",
      "Iteration: 3998 | disc_loss: -0.25670143961906433 | gen_loss: -0.17381882667541504\n",
      "Iteration: 3999 | disc_loss: -0.36599910259246826 | gen_loss: -0.18497052788734436\n",
      "Iteration: 4000 | disc_loss: -0.2648422420024872 | gen_loss: -0.2041415423154831\n",
      "Iteration: 4001 | disc_loss: -0.29080307483673096 | gen_loss: -0.25069886445999146\n",
      "Iteration: 4002 | disc_loss: -0.17207598686218262 | gen_loss: -0.23733413219451904\n",
      "Iteration: 4003 | disc_loss: -0.3375070095062256 | gen_loss: -0.35187751054763794\n",
      "Iteration: 4004 | disc_loss: -0.3198310434818268 | gen_loss: -0.23360919952392578\n",
      "Iteration: 4005 | disc_loss: -0.2861265242099762 | gen_loss: -0.2153588831424713\n",
      "Iteration: 4006 | disc_loss: -0.3439449071884155 | gen_loss: -0.20286224782466888\n",
      "Iteration: 4007 | disc_loss: -0.2547633945941925 | gen_loss: -0.15324968099594116\n",
      "Iteration: 4008 | disc_loss: -0.2820884585380554 | gen_loss: -0.25719839334487915\n",
      "Iteration: 4009 | disc_loss: -0.4072645306587219 | gen_loss: -0.17843535542488098\n",
      "Iteration: 4010 | disc_loss: -0.4142489433288574 | gen_loss: -0.2163863480091095\n",
      "Iteration: 4011 | disc_loss: -0.309479296207428 | gen_loss: -0.26651060581207275\n"
     ]
    },
    {
     "name": "stderr",
     "output_type": "stream",
     "text": [
      " 81%|████████  | 4029/5001 [00:38<00:09, 101.85it/s]"
     ]
    },
    {
     "name": "stdout",
     "output_type": "stream",
     "text": [
      "Iteration: 4012 | disc_loss: -0.3722600042819977 | gen_loss: -0.2598131000995636\n",
      "Iteration: 4013 | disc_loss: -0.24477282166481018 | gen_loss: -0.248541921377182\n",
      "Iteration: 4014 | disc_loss: -0.3956632912158966 | gen_loss: -0.2435859739780426\n",
      "Iteration: 4015 | disc_loss: -0.30853667855262756 | gen_loss: -0.24938146770000458\n",
      "Iteration: 4016 | disc_loss: -0.11021728813648224 | gen_loss: -0.1735694706439972\n",
      "Iteration: 4017 | disc_loss: -0.3243144750595093 | gen_loss: -0.18636786937713623\n",
      "Iteration: 4018 | disc_loss: -0.32696232199668884 | gen_loss: -0.11864498257637024\n",
      "Iteration: 4019 | disc_loss: -0.26924818754196167 | gen_loss: -0.1942470222711563\n",
      "Iteration: 4020 | disc_loss: -0.31443852186203003 | gen_loss: -0.2535841763019562\n",
      "Iteration: 4021 | disc_loss: -0.29593029618263245 | gen_loss: -0.20767304301261902\n",
      "Iteration: 4022 | disc_loss: -0.306386262178421 | gen_loss: -0.11600719392299652\n",
      "Iteration: 4023 | disc_loss: -0.39429333806037903 | gen_loss: -0.20809239149093628\n",
      "Iteration: 4024 | disc_loss: -0.337638795375824 | gen_loss: -0.2065279334783554\n",
      "Iteration: 4025 | disc_loss: -0.3221878111362457 | gen_loss: -0.21549782156944275\n",
      "Iteration: 4026 | disc_loss: -0.3665558695793152 | gen_loss: -0.08931486308574677\n",
      "Iteration: 4027 | disc_loss: -0.29945993423461914 | gen_loss: -0.19802390038967133\n",
      "Iteration: 4028 | disc_loss: -0.2534222900867462 | gen_loss: -0.17414996027946472\n",
      "Iteration: 4029 | disc_loss: -0.3345131278038025 | gen_loss: -0.2295520007610321\n",
      "Iteration: 4030 | disc_loss: -0.34204021096229553 | gen_loss: -0.18154242634773254\n",
      "Iteration: 4031 | disc_loss: -0.25603991746902466 | gen_loss: -0.2276340126991272\n"
     ]
    },
    {
     "name": "stderr",
     "output_type": "stream",
     "text": [
      " 81%|████████  | 4051/5001 [00:38<00:09, 99.87it/s] "
     ]
    },
    {
     "name": "stdout",
     "output_type": "stream",
     "text": [
      "Iteration: 4032 | disc_loss: -0.25352948904037476 | gen_loss: -0.15329715609550476\n",
      "Iteration: 4033 | disc_loss: -0.34365615248680115 | gen_loss: -0.20934180915355682\n",
      "Iteration: 4034 | disc_loss: -0.2371811866760254 | gen_loss: -0.1754612922668457\n",
      "Iteration: 4035 | disc_loss: -0.33743903040885925 | gen_loss: -0.21761712431907654\n",
      "Iteration: 4036 | disc_loss: -0.2554745674133301 | gen_loss: -0.23518523573875427\n",
      "Iteration: 4037 | disc_loss: -0.2625032663345337 | gen_loss: -0.2730625867843628\n",
      "Iteration: 4038 | disc_loss: -0.2210736870765686 | gen_loss: -0.24890005588531494\n",
      "Iteration: 4039 | disc_loss: -0.33185213804244995 | gen_loss: -0.24202321469783783\n",
      "Iteration: 4040 | disc_loss: -0.363304078578949 | gen_loss: -0.16761332750320435\n",
      "Iteration: 4041 | disc_loss: -0.35200273990631104 | gen_loss: -0.187161386013031\n",
      "Iteration: 4042 | disc_loss: -0.27219998836517334 | gen_loss: -0.2038688063621521\n",
      "Iteration: 4043 | disc_loss: -0.2613719701766968 | gen_loss: -0.23032619059085846\n",
      "Iteration: 4044 | disc_loss: -0.30468836426734924 | gen_loss: -0.19144964218139648\n",
      "Iteration: 4045 | disc_loss: -0.3093031346797943 | gen_loss: -0.20976434648036957\n",
      "Iteration: 4046 | disc_loss: -0.29117995500564575 | gen_loss: -0.18182170391082764\n",
      "Iteration: 4047 | disc_loss: -0.2820461094379425 | gen_loss: -0.1247372031211853\n",
      "Iteration: 4048 | disc_loss: -0.2479517161846161 | gen_loss: -0.09719391167163849\n",
      "Iteration: 4049 | disc_loss: -0.2439955621957779 | gen_loss: -0.19286441802978516\n",
      "Iteration: 4050 | disc_loss: -0.3524773120880127 | gen_loss: -0.1671711802482605\n",
      "Iteration: 4051 | disc_loss: -0.32040268182754517 | gen_loss: -0.20622745156288147\n",
      "Iteration: 4052 | disc_loss: -0.25438013672828674 | gen_loss: -0.13873982429504395\n"
     ]
    },
    {
     "name": "stderr",
     "output_type": "stream",
     "text": [
      " 81%|████████  | 4062/5001 [00:39<00:09, 96.32it/s]"
     ]
    },
    {
     "name": "stdout",
     "output_type": "stream",
     "text": [
      "Iteration: 4053 | disc_loss: -0.3057995140552521 | gen_loss: -0.15502148866653442\n",
      "Iteration: 4054 | disc_loss: -0.22237493097782135 | gen_loss: -0.13887588679790497\n",
      "Iteration: 4055 | disc_loss: -0.28250643610954285 | gen_loss: -0.17125651240348816\n",
      "Iteration: 4056 | disc_loss: -0.2773962914943695 | gen_loss: -0.2686882019042969\n",
      "Iteration: 4057 | disc_loss: -0.390485554933548 | gen_loss: -0.08175864815711975\n",
      "Iteration: 4058 | disc_loss: -0.368412584066391 | gen_loss: -0.21858489513397217\n",
      "Iteration: 4059 | disc_loss: -0.29047471284866333 | gen_loss: -0.13978642225265503\n",
      "Iteration: 4060 | disc_loss: -0.31926247477531433 | gen_loss: -0.215481698513031\n",
      "Iteration: 4061 | disc_loss: -0.32704785466194153 | gen_loss: -0.25243884325027466\n",
      "Iteration: 4062 | disc_loss: -0.32115694880485535 | gen_loss: -0.17546451091766357\n",
      "Iteration: 4063 | disc_loss: -0.2970639169216156 | gen_loss: -0.14746110141277313\n",
      "Iteration: 4064 | disc_loss: -0.28955769538879395 | gen_loss: -0.16181764006614685\n",
      "Iteration: 4065 | disc_loss: -0.3285304605960846 | gen_loss: -0.18938781321048737\n",
      "Iteration: 4066 | disc_loss: -0.2514330744743347 | gen_loss: -0.23220431804656982\n",
      "Iteration: 4067 | disc_loss: -0.17508462071418762 | gen_loss: -0.18905912339687347\n",
      "Iteration: 4068 | disc_loss: -0.2618512809276581 | gen_loss: -0.11871874332427979\n",
      "Iteration: 4069 | disc_loss: -0.2751370370388031 | gen_loss: -0.14098569750785828\n",
      "Iteration: 4070 | disc_loss: -0.22552067041397095 | gen_loss: -0.1591109335422516\n"
     ]
    },
    {
     "name": "stderr",
     "output_type": "stream",
     "text": [
      " 82%|████████▏ | 4084/5001 [00:39<00:09, 99.31it/s]"
     ]
    },
    {
     "name": "stdout",
     "output_type": "stream",
     "text": [
      "Iteration: 4071 | disc_loss: -0.32423168420791626 | gen_loss: -0.2858491539955139\n",
      "Iteration: 4072 | disc_loss: -0.28990018367767334 | gen_loss: -0.19320428371429443\n",
      "Iteration: 4073 | disc_loss: -0.3462419807910919 | gen_loss: -0.25015994906425476\n",
      "Iteration: 4074 | disc_loss: -0.3592899739742279 | gen_loss: -0.22752974927425385\n",
      "Iteration: 4075 | disc_loss: -0.20434588193893433 | gen_loss: -0.12988600134849548\n",
      "Iteration: 4076 | disc_loss: -0.2704387307167053 | gen_loss: -0.2128978669643402\n",
      "Iteration: 4077 | disc_loss: -0.3810864984989166 | gen_loss: -0.19020435214042664\n",
      "Iteration: 4078 | disc_loss: -0.27622148394584656 | gen_loss: -0.17839187383651733\n",
      "Iteration: 4079 | disc_loss: -0.3370448052883148 | gen_loss: -0.15153196454048157\n",
      "Iteration: 4080 | disc_loss: -0.1521538347005844 | gen_loss: -0.1992960274219513\n",
      "Iteration: 4081 | disc_loss: -0.29713189601898193 | gen_loss: -0.25037315487861633\n",
      "Iteration: 4082 | disc_loss: -0.28787803649902344 | gen_loss: -0.1972971260547638\n",
      "Iteration: 4083 | disc_loss: -0.2944241166114807 | gen_loss: -0.25005388259887695\n",
      "Iteration: 4084 | disc_loss: -0.29247385263442993 | gen_loss: -0.1854294240474701\n",
      "Iteration: 4085 | disc_loss: -0.3550095856189728 | gen_loss: -0.25276005268096924\n",
      "Iteration: 4086 | disc_loss: -0.29603275656700134 | gen_loss: -0.17220564186573029\n",
      "Iteration: 4087 | disc_loss: -0.16139519214630127 | gen_loss: -0.1836901605129242\n",
      "Iteration: 4088 | disc_loss: -0.24930624663829803 | gen_loss: -0.22423586249351501\n",
      "Iteration: 4089 | disc_loss: -0.3817659914493561 | gen_loss: -0.17103126645088196\n",
      "Iteration: 4090 | disc_loss: -0.31249865889549255 | gen_loss: -0.17963635921478271\n",
      "Iteration: 4091 | disc_loss: -0.25217312574386597 | gen_loss: -0.23700547218322754\n",
      "Iteration: 4092 | disc_loss: -0.31208476424217224 | gen_loss: -0.17231877148151398\n"
     ]
    },
    {
     "name": "stderr",
     "output_type": "stream",
     "text": [
      " 82%|████████▏ | 4106/5001 [00:39<00:08, 100.86it/s]"
     ]
    },
    {
     "name": "stdout",
     "output_type": "stream",
     "text": [
      "Iteration: 4093 | disc_loss: -0.35291796922683716 | gen_loss: -0.1411893516778946\n",
      "Iteration: 4094 | disc_loss: -0.3015495538711548 | gen_loss: -0.19392777979373932\n",
      "Iteration: 4095 | disc_loss: -0.39322629570961 | gen_loss: -0.25450628995895386\n",
      "Iteration: 4096 | disc_loss: -0.17389144003391266 | gen_loss: -0.1840590238571167\n",
      "Iteration: 4097 | disc_loss: -0.2695266902446747 | gen_loss: -0.2864762842655182\n",
      "Iteration: 4098 | disc_loss: -0.29848602414131165 | gen_loss: -0.19122929871082306\n",
      "Iteration: 4099 | disc_loss: -0.30358201265335083 | gen_loss: -0.26319724321365356\n",
      "Iteration: 4100 | disc_loss: -0.3360767662525177 | gen_loss: -0.19478371739387512\n",
      "Iteration: 4101 | disc_loss: -0.3679904341697693 | gen_loss: -0.18614332377910614\n",
      "Iteration: 4102 | disc_loss: -0.30207493901252747 | gen_loss: -0.1826089322566986\n",
      "Iteration: 4103 | disc_loss: -0.3150048553943634 | gen_loss: -0.2808477282524109\n",
      "Iteration: 4104 | disc_loss: -0.28135886788368225 | gen_loss: -0.33086487650871277\n",
      "Iteration: 4105 | disc_loss: -0.2790157198905945 | gen_loss: -0.17664988338947296\n",
      "Iteration: 4106 | disc_loss: -0.35343682765960693 | gen_loss: -0.19537422060966492\n",
      "Iteration: 4107 | disc_loss: -0.2791593074798584 | gen_loss: -0.1304273009300232\n",
      "Iteration: 4108 | disc_loss: -0.30290040373802185 | gen_loss: -0.22411814332008362\n",
      "Iteration: 4109 | disc_loss: -0.3012714982032776 | gen_loss: -0.22152365744113922\n",
      "Iteration: 4110 | disc_loss: -0.3440449833869934 | gen_loss: -0.1640791893005371\n",
      "Iteration: 4111 | disc_loss: -0.2522214651107788 | gen_loss: -0.147428959608078\n",
      "Iteration: 4112 | disc_loss: -0.3072512149810791 | gen_loss: -0.22269105911254883\n",
      "Iteration: 4113 | disc_loss: -0.30103665590286255 | gen_loss: -0.17164522409439087\n",
      "Iteration: 4114 | disc_loss: -0.3083202540874481 | gen_loss: -0.25596940517425537\n"
     ]
    },
    {
     "name": "stderr",
     "output_type": "stream",
     "text": [
      " 83%|████████▎ | 4130/5001 [00:39<00:08, 107.08it/s]"
     ]
    },
    {
     "name": "stdout",
     "output_type": "stream",
     "text": [
      "Iteration: 4115 | disc_loss: -0.2774295508861542 | gen_loss: -0.11698982864618301\n",
      "Iteration: 4116 | disc_loss: -0.32964998483657837 | gen_loss: -0.1919572651386261\n",
      "Iteration: 4117 | disc_loss: -0.3123892545700073 | gen_loss: -0.14938092231750488\n",
      "Iteration: 4118 | disc_loss: -0.23847351968288422 | gen_loss: -0.15063294768333435\n",
      "Iteration: 4119 | disc_loss: -0.165985107421875 | gen_loss: -0.19447433948516846\n",
      "Iteration: 4120 | disc_loss: -0.27273279428482056 | gen_loss: -0.13914333283901215\n",
      "Iteration: 4121 | disc_loss: -0.312599241733551 | gen_loss: -0.19748511910438538\n",
      "Iteration: 4122 | disc_loss: -0.3593159317970276 | gen_loss: -0.22997891902923584\n",
      "Iteration: 4123 | disc_loss: -0.2927197217941284 | gen_loss: -0.14732366800308228\n",
      "Iteration: 4124 | disc_loss: -0.34469565749168396 | gen_loss: -0.19290214776992798\n",
      "Iteration: 4125 | disc_loss: -0.3492300808429718 | gen_loss: -0.19881176948547363\n",
      "Iteration: 4126 | disc_loss: -0.2525990903377533 | gen_loss: -0.1753683239221573\n",
      "Iteration: 4127 | disc_loss: -0.28403112292289734 | gen_loss: -0.24319371581077576\n",
      "Iteration: 4128 | disc_loss: -0.254234254360199 | gen_loss: -0.29904311895370483\n",
      "Iteration: 4129 | disc_loss: -0.23911342024803162 | gen_loss: -0.20266124606132507\n",
      "Iteration: 4130 | disc_loss: -0.28996390104293823 | gen_loss: -0.12281595170497894\n",
      "Iteration: 4131 | disc_loss: -0.15795709192752838 | gen_loss: -0.14639317989349365\n",
      "Iteration: 4132 | disc_loss: -0.32087451219558716 | gen_loss: -0.2675761580467224\n",
      "Iteration: 4133 | disc_loss: -0.25761479139328003 | gen_loss: -0.23095646500587463\n",
      "Iteration: 4134 | disc_loss: -0.1391136795282364 | gen_loss: -0.16430577635765076\n",
      "Iteration: 4135 | disc_loss: -0.30918335914611816 | gen_loss: -0.18315288424491882\n",
      "Iteration: 4136 | disc_loss: -0.30016788840293884 | gen_loss: -0.214655801653862\n",
      "Iteration: 4137 | disc_loss: -0.301813006401062 | gen_loss: -0.2778152525424957\n",
      "Iteration: 4138 | disc_loss: -0.31972554326057434 | gen_loss: -0.2319040149450302\n"
     ]
    },
    {
     "name": "stderr",
     "output_type": "stream",
     "text": [
      " 83%|████████▎ | 4155/5001 [00:39<00:07, 112.95it/s]"
     ]
    },
    {
     "name": "stdout",
     "output_type": "stream",
     "text": [
      "Iteration: 4139 | disc_loss: -0.30382823944091797 | gen_loss: -0.11889885365962982\n",
      "Iteration: 4140 | disc_loss: -0.29626405239105225 | gen_loss: -0.08578819036483765\n",
      "Iteration: 4141 | disc_loss: -0.2766900062561035 | gen_loss: -0.24880827963352203\n",
      "Iteration: 4142 | disc_loss: -0.2521131634712219 | gen_loss: -0.21314731240272522\n",
      "Iteration: 4143 | disc_loss: -0.29072901606559753 | gen_loss: -0.14420834183692932\n",
      "Iteration: 4144 | disc_loss: -0.320395827293396 | gen_loss: -0.12998226284980774\n",
      "Iteration: 4145 | disc_loss: -0.37904682755470276 | gen_loss: -0.1701427698135376\n",
      "Iteration: 4146 | disc_loss: -0.3243386447429657 | gen_loss: -0.08839035034179688\n",
      "Iteration: 4147 | disc_loss: -0.3519099950790405 | gen_loss: -0.17889748513698578\n",
      "Iteration: 4148 | disc_loss: -0.25409263372421265 | gen_loss: -0.1553097665309906\n",
      "Iteration: 4149 | disc_loss: -0.33429446816444397 | gen_loss: -0.2738367021083832\n",
      "Iteration: 4150 | disc_loss: -0.19938236474990845 | gen_loss: -0.20285101234912872\n",
      "Iteration: 4151 | disc_loss: -0.2493966668844223 | gen_loss: -0.21013090014457703\n",
      "Iteration: 4152 | disc_loss: -0.3707853853702545 | gen_loss: -0.18131189048290253\n",
      "Iteration: 4153 | disc_loss: -0.29023870825767517 | gen_loss: -0.24595758318901062\n",
      "Iteration: 4154 | disc_loss: -0.3136582374572754 | gen_loss: -0.21699631214141846\n",
      "Iteration: 4155 | disc_loss: -0.3310719132423401 | gen_loss: -0.10463428497314453\n",
      "Iteration: 4156 | disc_loss: -0.32756906747817993 | gen_loss: -0.1340530812740326\n",
      "Iteration: 4157 | disc_loss: -0.10588520765304565 | gen_loss: -0.15391430258750916\n",
      "Iteration: 4158 | disc_loss: -0.37284937500953674 | gen_loss: -0.2140955924987793\n",
      "Iteration: 4159 | disc_loss: -0.3245788812637329 | gen_loss: -0.20924833416938782\n",
      "Iteration: 4160 | disc_loss: -0.4047653079032898 | gen_loss: -0.19490957260131836\n",
      "Iteration: 4161 | disc_loss: -0.27606987953186035 | gen_loss: -0.17415153980255127\n",
      "Iteration: 4162 | disc_loss: -0.33287256956100464 | gen_loss: -0.15208150446414948\n"
     ]
    },
    {
     "name": "stderr",
     "output_type": "stream",
     "text": [
      " 84%|████████▎ | 4179/5001 [00:40<00:07, 112.08it/s]"
     ]
    },
    {
     "name": "stdout",
     "output_type": "stream",
     "text": [
      "Iteration: 4163 | disc_loss: -0.22887203097343445 | gen_loss: -0.17939236760139465\n",
      "Iteration: 4164 | disc_loss: -0.27508866786956787 | gen_loss: -0.16401344537734985\n",
      "Iteration: 4165 | disc_loss: -0.292813777923584 | gen_loss: -0.11480353772640228\n",
      "Iteration: 4166 | disc_loss: -0.36482614278793335 | gen_loss: -0.22963333129882812\n",
      "Iteration: 4167 | disc_loss: -0.27257686853408813 | gen_loss: -0.12890562415122986\n",
      "Iteration: 4168 | disc_loss: -0.33671194314956665 | gen_loss: -0.19588474929332733\n",
      "Iteration: 4169 | disc_loss: -0.33767133951187134 | gen_loss: -0.06057334318757057\n",
      "Iteration: 4170 | disc_loss: -0.24811698496341705 | gen_loss: -0.15711025893688202\n",
      "Iteration: 4171 | disc_loss: -0.3149341344833374 | gen_loss: -0.20201942324638367\n",
      "Iteration: 4172 | disc_loss: -0.3237290680408478 | gen_loss: -0.2583584189414978\n",
      "Iteration: 4173 | disc_loss: -0.3036629259586334 | gen_loss: -0.15671341121196747\n",
      "Iteration: 4174 | disc_loss: -0.2306198924779892 | gen_loss: -0.15226072072982788\n",
      "Iteration: 4175 | disc_loss: -0.28768542408943176 | gen_loss: -0.1553320735692978\n",
      "Iteration: 4176 | disc_loss: -0.3431292474269867 | gen_loss: -0.12534604966640472\n",
      "Iteration: 4177 | disc_loss: -0.31276369094848633 | gen_loss: -0.1969897449016571\n",
      "Iteration: 4178 | disc_loss: -0.37590688467025757 | gen_loss: -0.1960039734840393\n",
      "Iteration: 4179 | disc_loss: -0.33875223994255066 | gen_loss: -0.2113843411207199\n",
      "Iteration: 4180 | disc_loss: -0.10667732357978821 | gen_loss: -0.2806517779827118\n",
      "Iteration: 4181 | disc_loss: -0.2942124307155609 | gen_loss: -0.12402120232582092\n",
      "Iteration: 4182 | disc_loss: -0.3190704584121704 | gen_loss: -0.26030951738357544\n",
      "Iteration: 4183 | disc_loss: -0.30311015248298645 | gen_loss: -0.14367301762104034\n",
      "Iteration: 4184 | disc_loss: -0.1939351111650467 | gen_loss: -0.13099829852581024\n",
      "Iteration: 4185 | disc_loss: -0.17547473311424255 | gen_loss: -0.18585820496082306\n",
      "Iteration: 4186 | disc_loss: -0.2780161201953888 | gen_loss: -0.14141996204853058\n",
      "Iteration: 4187 | disc_loss: -0.30797985196113586 | gen_loss: -0.14343148469924927"
     ]
    },
    {
     "name": "stderr",
     "output_type": "stream",
     "text": [
      " 84%|████████▍ | 4207/5001 [00:40<00:06, 117.59it/s]"
     ]
    },
    {
     "name": "stdout",
     "output_type": "stream",
     "text": [
      "\n",
      "Iteration: 4188 | disc_loss: -0.1348770260810852 | gen_loss: -0.12362157553434372\n",
      "Iteration: 4189 | disc_loss: -0.33480772376060486 | gen_loss: -0.1944984495639801\n",
      "Iteration: 4190 | disc_loss: -0.36672836542129517 | gen_loss: -0.27217528223991394\n",
      "Iteration: 4191 | disc_loss: -0.22968308627605438 | gen_loss: -0.1883324682712555\n",
      "Iteration: 4192 | disc_loss: -0.3124290406703949 | gen_loss: -0.13865120708942413\n",
      "Iteration: 4193 | disc_loss: -0.2946840822696686 | gen_loss: -0.1738044172525406\n",
      "Iteration: 4194 | disc_loss: -0.21219691634178162 | gen_loss: -0.15861429274082184\n",
      "Iteration: 4195 | disc_loss: -0.35567378997802734 | gen_loss: -0.22401489317417145\n",
      "Iteration: 4196 | disc_loss: -0.1480661928653717 | gen_loss: -0.18257707357406616\n",
      "Iteration: 4197 | disc_loss: -0.29107269644737244 | gen_loss: -0.2070956975221634\n",
      "Iteration: 4198 | disc_loss: -0.32313063740730286 | gen_loss: -0.1882294863462448\n",
      "Iteration: 4199 | disc_loss: -0.38926446437835693 | gen_loss: -0.28721195459365845\n",
      "Iteration: 4200 | disc_loss: -0.2941749691963196 | gen_loss: -0.15872307121753693\n",
      "Iteration: 4201 | disc_loss: -0.31718146800994873 | gen_loss: -0.16452887654304504\n",
      "Iteration: 4202 | disc_loss: -0.2919684946537018 | gen_loss: -0.1557655781507492\n",
      "Iteration: 4203 | disc_loss: -0.3122083246707916 | gen_loss: -0.20624779164791107\n",
      "Iteration: 4204 | disc_loss: -0.2470618188381195 | gen_loss: -0.18459409475326538\n",
      "Iteration: 4205 | disc_loss: -0.2713671028614044 | gen_loss: -0.18844398856163025\n",
      "Iteration: 4206 | disc_loss: -0.3476996123790741 | gen_loss: -0.1763913929462433\n",
      "Iteration: 4207 | disc_loss: -0.29470014572143555 | gen_loss: -0.19357137382030487\n",
      "Iteration: 4208 | disc_loss: -0.38890135288238525 | gen_loss: -0.17354550957679749\n",
      "Iteration: 4209 | disc_loss: -0.30529865622520447 | gen_loss: -0.15799590945243835\n",
      "Iteration: 4210 | disc_loss: -0.3680308759212494 | gen_loss: -0.1695626676082611\n"
     ]
    },
    {
     "name": "stderr",
     "output_type": "stream",
     "text": [
      " 85%|████████▍ | 4231/5001 [00:40<00:06, 114.55it/s]"
     ]
    },
    {
     "name": "stdout",
     "output_type": "stream",
     "text": [
      "Iteration: 4211 | disc_loss: -0.2494509071111679 | gen_loss: -0.16554078459739685\n",
      "Iteration: 4212 | disc_loss: -0.3049159049987793 | gen_loss: -0.06985810399055481\n",
      "Iteration: 4213 | disc_loss: -0.3127630054950714 | gen_loss: -0.1694498509168625\n",
      "Iteration: 4214 | disc_loss: -0.234622061252594 | gen_loss: -0.1145346462726593\n",
      "Iteration: 4215 | disc_loss: -0.2596263289451599 | gen_loss: -0.09928101301193237\n",
      "Iteration: 4216 | disc_loss: -0.31673720479011536 | gen_loss: -0.255931556224823\n",
      "Iteration: 4217 | disc_loss: -0.24041560292243958 | gen_loss: -0.27662914991378784\n",
      "Iteration: 4218 | disc_loss: -0.2994909882545471 | gen_loss: -0.1495160460472107\n",
      "Iteration: 4219 | disc_loss: -0.3303326666355133 | gen_loss: -0.11270385980606079\n",
      "Iteration: 4220 | disc_loss: -0.314566433429718 | gen_loss: -0.14464415609836578\n",
      "Iteration: 4221 | disc_loss: -0.3638648986816406 | gen_loss: -0.1486402451992035\n",
      "Iteration: 4222 | disc_loss: -0.3108755350112915 | gen_loss: -0.17659473419189453\n",
      "Iteration: 4223 | disc_loss: -0.1528390496969223 | gen_loss: -0.13575349748134613\n",
      "Iteration: 4224 | disc_loss: -0.2315758764743805 | gen_loss: -0.19430994987487793\n",
      "Iteration: 4225 | disc_loss: -0.3045457899570465 | gen_loss: -0.18437829613685608\n",
      "Iteration: 4226 | disc_loss: -0.3518286943435669 | gen_loss: -0.1952316164970398\n",
      "Iteration: 4227 | disc_loss: -0.39908939599990845 | gen_loss: -0.23103460669517517\n",
      "Iteration: 4228 | disc_loss: -0.29896634817123413 | gen_loss: -0.11606058478355408\n",
      "Iteration: 4229 | disc_loss: -0.15997010469436646 | gen_loss: -0.18025660514831543\n",
      "Iteration: 4230 | disc_loss: -0.3030366897583008 | gen_loss: -0.16702228784561157\n",
      "Iteration: 4231 | disc_loss: -0.2558004558086395 | gen_loss: -0.283135324716568\n",
      "Iteration: 4232 | disc_loss: -0.3440620005130768 | gen_loss: -0.25329113006591797\n",
      "Iteration: 4233 | disc_loss: -0.2614212930202484 | gen_loss: -0.18699271976947784\n"
     ]
    },
    {
     "name": "stderr",
     "output_type": "stream",
     "text": [
      " 85%|████████▌ | 4254/5001 [00:40<00:06, 109.00it/s]"
     ]
    },
    {
     "name": "stdout",
     "output_type": "stream",
     "text": [
      "Iteration: 4234 | disc_loss: -0.33103087544441223 | gen_loss: -0.23656708002090454\n",
      "Iteration: 4235 | disc_loss: -0.3232479691505432 | gen_loss: -0.21362248063087463\n",
      "Iteration: 4236 | disc_loss: -0.3330300748348236 | gen_loss: -0.2894105911254883\n",
      "Iteration: 4237 | disc_loss: -0.2419540286064148 | gen_loss: -0.1880374699831009\n",
      "Iteration: 4238 | disc_loss: -0.2677763104438782 | gen_loss: -0.21859005093574524\n",
      "Iteration: 4239 | disc_loss: -0.33952850103378296 | gen_loss: -0.16607525944709778\n",
      "Iteration: 4240 | disc_loss: -0.32370394468307495 | gen_loss: -0.2952408194541931\n",
      "Iteration: 4241 | disc_loss: -0.30180469155311584 | gen_loss: -0.14602896571159363\n",
      "Iteration: 4242 | disc_loss: -0.2943340539932251 | gen_loss: -0.19695863127708435\n",
      "Iteration: 4243 | disc_loss: -0.2758866548538208 | gen_loss: -0.2228110432624817\n",
      "Iteration: 4244 | disc_loss: -0.23868343234062195 | gen_loss: -0.182536780834198\n",
      "Iteration: 4245 | disc_loss: -0.09275737404823303 | gen_loss: -0.19942903518676758\n",
      "Iteration: 4246 | disc_loss: -0.30599650740623474 | gen_loss: -0.19815991818904877\n",
      "Iteration: 4247 | disc_loss: -0.2916408181190491 | gen_loss: -0.2473948448896408\n",
      "Iteration: 4248 | disc_loss: -0.343404620885849 | gen_loss: -0.13418671488761902\n",
      "Iteration: 4249 | disc_loss: -0.3486691117286682 | gen_loss: -0.19017627835273743\n",
      "Iteration: 4250 | disc_loss: -0.3053021728992462 | gen_loss: -0.25807780027389526\n",
      "Iteration: 4251 | disc_loss: -0.37915337085723877 | gen_loss: -0.25072216987609863\n",
      "Iteration: 4252 | disc_loss: -0.3667105436325073 | gen_loss: -0.2366810441017151\n",
      "Iteration: 4253 | disc_loss: -0.3100319504737854 | gen_loss: -0.234279066324234\n",
      "Iteration: 4254 | disc_loss: -0.3273327946662903 | gen_loss: -0.2430512011051178\n"
     ]
    },
    {
     "name": "stderr",
     "output_type": "stream",
     "text": [
      " 86%|████████▌ | 4277/5001 [00:41<00:06, 107.65it/s]"
     ]
    },
    {
     "name": "stdout",
     "output_type": "stream",
     "text": [
      "Iteration: 4255 | disc_loss: -0.319238543510437 | gen_loss: -0.2525348961353302\n",
      "Iteration: 4256 | disc_loss: -0.26235413551330566 | gen_loss: -0.15306851267814636\n",
      "Iteration: 4257 | disc_loss: -0.36788254976272583 | gen_loss: -0.17515519261360168\n",
      "Iteration: 4258 | disc_loss: -0.37754008173942566 | gen_loss: -0.3221728205680847\n",
      "Iteration: 4259 | disc_loss: -0.3534059226512909 | gen_loss: -0.19485622644424438\n",
      "Iteration: 4260 | disc_loss: -0.224568173289299 | gen_loss: -0.22585295140743256\n",
      "Iteration: 4261 | disc_loss: -0.05123808979988098 | gen_loss: -0.2059665024280548\n",
      "Iteration: 4262 | disc_loss: -0.29410624504089355 | gen_loss: -0.1562046855688095\n",
      "Iteration: 4263 | disc_loss: -0.17108996212482452 | gen_loss: -0.17037037014961243\n",
      "Iteration: 4264 | disc_loss: -0.30203527212142944 | gen_loss: -0.19963385164737701\n",
      "Iteration: 4265 | disc_loss: -0.2631736397743225 | gen_loss: -0.260235071182251\n",
      "Iteration: 4266 | disc_loss: -0.29399871826171875 | gen_loss: -0.14502574503421783\n",
      "Iteration: 4267 | disc_loss: -0.2158837616443634 | gen_loss: -0.14309120178222656\n",
      "Iteration: 4268 | disc_loss: -0.37190502882003784 | gen_loss: -0.128404900431633\n",
      "Iteration: 4269 | disc_loss: -0.3268696665763855 | gen_loss: -0.1707867532968521\n",
      "Iteration: 4270 | disc_loss: -0.30547216534614563 | gen_loss: -0.09037766605615616\n",
      "Iteration: 4271 | disc_loss: -0.37621384859085083 | gen_loss: -0.17954932153224945\n",
      "Iteration: 4272 | disc_loss: -0.11838499456644058 | gen_loss: -0.10611718893051147\n",
      "Iteration: 4273 | disc_loss: -0.20815107226371765 | gen_loss: -0.11966090649366379\n",
      "Iteration: 4274 | disc_loss: -0.22723153233528137 | gen_loss: -0.17971812188625336\n",
      "Iteration: 4275 | disc_loss: -0.32640543580055237 | gen_loss: -0.11885139346122742\n",
      "Iteration: 4276 | disc_loss: -0.2776518762111664 | gen_loss: -0.10964024066925049\n"
     ]
    },
    {
     "name": "stderr",
     "output_type": "stream",
     "text": [
      " 86%|████████▌ | 4289/5001 [00:41<00:06, 108.43it/s]"
     ]
    },
    {
     "name": "stdout",
     "output_type": "stream",
     "text": [
      "Iteration: 4277 | disc_loss: -0.21774718165397644 | gen_loss: -0.14517337083816528\n",
      "Iteration: 4278 | disc_loss: -0.11057806015014648 | gen_loss: -0.15403492748737335\n",
      "Iteration: 4279 | disc_loss: -0.30928942561149597 | gen_loss: -0.2310575246810913\n",
      "Iteration: 4280 | disc_loss: -0.33621183037757874 | gen_loss: -0.16110527515411377\n",
      "Iteration: 4281 | disc_loss: -0.2610234320163727 | gen_loss: -0.1079908162355423\n",
      "Iteration: 4282 | disc_loss: -0.29513096809387207 | gen_loss: -0.08068862557411194\n",
      "Iteration: 4283 | disc_loss: -0.3718706965446472 | gen_loss: -0.1499481052160263\n",
      "Iteration: 4284 | disc_loss: -0.3429158329963684 | gen_loss: -0.18659085035324097\n",
      "Iteration: 4285 | disc_loss: -0.30835795402526855 | gen_loss: -0.1625136435031891\n",
      "Iteration: 4286 | disc_loss: -0.34508225321769714 | gen_loss: -0.17429636418819427\n",
      "Iteration: 4287 | disc_loss: -0.27934911847114563 | gen_loss: -0.15240919589996338\n",
      "Iteration: 4288 | disc_loss: -0.2862917482852936 | gen_loss: -0.11626555025577545\n",
      "Iteration: 4289 | disc_loss: -0.24537023901939392 | gen_loss: -0.17583079636096954\n",
      "Iteration: 4290 | disc_loss: -0.3485715687274933 | gen_loss: -0.16683390736579895\n",
      "Iteration: 4291 | disc_loss: -0.26985886693000793 | gen_loss: -0.18751001358032227\n",
      "Iteration: 4292 | disc_loss: -0.13471302390098572 | gen_loss: -0.1824541687965393\n",
      "Iteration: 4293 | disc_loss: -0.2533418834209442 | gen_loss: -0.1447765827178955\n",
      "Iteration: 4294 | disc_loss: -0.27400127053260803 | gen_loss: -0.2052624672651291\n",
      "Iteration: 4295 | disc_loss: -0.2791827917098999 | gen_loss: -0.18998485803604126\n",
      "Iteration: 4296 | disc_loss: -0.3137635886669159 | gen_loss: -0.14834675192832947\n",
      "Iteration: 4297 | disc_loss: -0.2687600553035736 | gen_loss: -0.22894510626792908\n"
     ]
    },
    {
     "name": "stderr",
     "output_type": "stream",
     "text": [
      " 86%|████████▌ | 4311/5001 [00:41<00:06, 100.93it/s]"
     ]
    },
    {
     "name": "stdout",
     "output_type": "stream",
     "text": [
      "Iteration: 4298 | disc_loss: -0.33712121844291687 | gen_loss: -0.21255803108215332\n",
      "Iteration: 4299 | disc_loss: -0.26244890689849854 | gen_loss: -0.20705546438694\n",
      "Iteration: 4300 | disc_loss: -0.3273289203643799 | gen_loss: -0.16394323110580444\n",
      "Iteration: 4301 | disc_loss: -0.3032256066799164 | gen_loss: -0.14424225687980652\n",
      "Iteration: 4302 | disc_loss: -0.24077387154102325 | gen_loss: -0.13341200351715088\n",
      "Iteration: 4303 | disc_loss: -0.30648988485336304 | gen_loss: -0.069782555103302\n",
      "Iteration: 4304 | disc_loss: -0.3210929334163666 | gen_loss: -0.21933753788471222\n",
      "Iteration: 4305 | disc_loss: -0.3261905908584595 | gen_loss: -0.2338401973247528\n",
      "Iteration: 4306 | disc_loss: -0.20834150910377502 | gen_loss: -0.21368229389190674\n",
      "Iteration: 4307 | disc_loss: -0.37703439593315125 | gen_loss: -0.21324968338012695\n",
      "Iteration: 4308 | disc_loss: -0.3178389072418213 | gen_loss: -0.1276748776435852\n",
      "Iteration: 4309 | disc_loss: -0.350049763917923 | gen_loss: -0.14330990612506866\n",
      "Iteration: 4310 | disc_loss: -0.2777482867240906 | gen_loss: -0.20135346055030823\n",
      "Iteration: 4311 | disc_loss: -0.22714561223983765 | gen_loss: -0.15741503238677979\n",
      "Iteration: 4312 | disc_loss: -0.26454025506973267 | gen_loss: -0.18151803314685822\n",
      "Iteration: 4313 | disc_loss: -0.2712268531322479 | gen_loss: -0.2290700078010559\n",
      "Iteration: 4314 | disc_loss: -0.2917412519454956 | gen_loss: -0.20012040436267853\n",
      "Iteration: 4315 | disc_loss: -0.3106288015842438 | gen_loss: -0.17362260818481445\n",
      "Iteration: 4316 | disc_loss: -0.14568118751049042 | gen_loss: -0.16358530521392822\n",
      "Iteration: 4317 | disc_loss: -0.3252004086971283 | gen_loss: -0.2114725112915039\n",
      "Iteration: 4318 | disc_loss: -0.2843191921710968 | gen_loss: -0.17207205295562744\n"
     ]
    },
    {
     "name": "stderr",
     "output_type": "stream",
     "text": [
      " 87%|████████▋ | 4333/5001 [00:41<00:06, 102.28it/s]"
     ]
    },
    {
     "name": "stdout",
     "output_type": "stream",
     "text": [
      "Iteration: 4319 | disc_loss: -0.2606758773326874 | gen_loss: -0.2532942593097687\n",
      "Iteration: 4320 | disc_loss: -0.2245311737060547 | gen_loss: -0.15148833394050598\n",
      "Iteration: 4321 | disc_loss: -0.3241126835346222 | gen_loss: -0.22091467678546906\n",
      "Iteration: 4322 | disc_loss: -0.27975714206695557 | gen_loss: -0.21275298297405243\n",
      "Iteration: 4323 | disc_loss: -0.34785524010658264 | gen_loss: -0.31091389060020447\n",
      "Iteration: 4324 | disc_loss: -0.29132336378097534 | gen_loss: -0.24007946252822876\n",
      "Iteration: 4325 | disc_loss: -0.33288609981536865 | gen_loss: -0.13643774390220642\n",
      "Iteration: 4326 | disc_loss: -0.12879103422164917 | gen_loss: -0.19799673557281494\n",
      "Iteration: 4327 | disc_loss: -0.34772613644599915 | gen_loss: -0.19839820265769958\n",
      "Iteration: 4328 | disc_loss: -0.376248836517334 | gen_loss: -0.18871727585792542\n",
      "Iteration: 4329 | disc_loss: -0.3853038251399994 | gen_loss: -0.17117445170879364\n",
      "Iteration: 4330 | disc_loss: -0.26986169815063477 | gen_loss: -0.1564178168773651\n",
      "Iteration: 4331 | disc_loss: -0.38179638981819153 | gen_loss: -0.2420780062675476\n",
      "Iteration: 4332 | disc_loss: -0.276367723941803 | gen_loss: -0.191242054104805\n",
      "Iteration: 4333 | disc_loss: -0.23309339582920074 | gen_loss: -0.13797584176063538\n",
      "Iteration: 4334 | disc_loss: -0.2561641335487366 | gen_loss: -0.16224884986877441\n",
      "Iteration: 4335 | disc_loss: -0.35075610876083374 | gen_loss: -0.2743985056877136\n",
      "Iteration: 4336 | disc_loss: -0.24388417601585388 | gen_loss: -0.26516199111938477\n",
      "Iteration: 4337 | disc_loss: -0.247663676738739 | gen_loss: -0.19317181408405304\n",
      "Iteration: 4338 | disc_loss: -0.16033819317817688 | gen_loss: -0.14825910329818726\n",
      "Iteration: 4339 | disc_loss: -0.2768411338329315 | gen_loss: -0.1574539840221405\n"
     ]
    },
    {
     "name": "stderr",
     "output_type": "stream",
     "text": [
      " 87%|████████▋ | 4355/5001 [00:41<00:06, 102.73it/s]"
     ]
    },
    {
     "name": "stdout",
     "output_type": "stream",
     "text": [
      "Iteration: 4340 | disc_loss: -0.293474406003952 | gen_loss: -0.21155020594596863\n",
      "Iteration: 4341 | disc_loss: -0.3130313754081726 | gen_loss: -0.12604063749313354\n",
      "Iteration: 4342 | disc_loss: -0.25318002700805664 | gen_loss: -0.13626161217689514\n",
      "Iteration: 4343 | disc_loss: -0.2535349130630493 | gen_loss: -0.12259228527545929\n",
      "Iteration: 4344 | disc_loss: -0.2838849127292633 | gen_loss: -0.2021969109773636\n",
      "Iteration: 4345 | disc_loss: -0.3311990797519684 | gen_loss: -0.18379776179790497\n",
      "Iteration: 4346 | disc_loss: -0.40723010897636414 | gen_loss: -0.13054259121418\n",
      "Iteration: 4347 | disc_loss: -0.30720287561416626 | gen_loss: -0.12669360637664795\n",
      "Iteration: 4348 | disc_loss: -0.30024102330207825 | gen_loss: -0.18136785924434662\n",
      "Iteration: 4349 | disc_loss: -0.2830040752887726 | gen_loss: -0.19805973768234253\n",
      "Iteration: 4350 | disc_loss: -0.22306329011917114 | gen_loss: -0.09590183198451996\n",
      "Iteration: 4351 | disc_loss: -0.3076333999633789 | gen_loss: -0.17782045900821686\n",
      "Iteration: 4352 | disc_loss: -0.3140116035938263 | gen_loss: -0.19352859258651733\n",
      "Iteration: 4353 | disc_loss: -0.26794975996017456 | gen_loss: -0.22664771974086761\n",
      "Iteration: 4354 | disc_loss: -0.35651156306266785 | gen_loss: -0.22079581022262573\n",
      "Iteration: 4355 | disc_loss: -0.33121880888938904 | gen_loss: -0.09930157661437988\n",
      "Iteration: 4356 | disc_loss: -0.3506331741809845 | gen_loss: -0.1801045835018158\n",
      "Iteration: 4357 | disc_loss: -0.30972716212272644 | gen_loss: -0.18529914319515228\n",
      "Iteration: 4358 | disc_loss: -0.3186948299407959 | gen_loss: -0.1787809431552887\n",
      "Iteration: 4359 | disc_loss: -0.28986555337905884 | gen_loss: -0.21501682698726654\n",
      "Iteration: 4360 | disc_loss: -0.3687953054904938 | gen_loss: -0.21079975366592407\n",
      "Iteration: 4361 | disc_loss: -0.26613759994506836 | gen_loss: -0.2126912772655487\n"
     ]
    },
    {
     "name": "stderr",
     "output_type": "stream",
     "text": [
      " 88%|████████▊ | 4377/5001 [00:42<00:05, 105.32it/s]"
     ]
    },
    {
     "name": "stdout",
     "output_type": "stream",
     "text": [
      "Iteration: 4362 | disc_loss: -0.2587502598762512 | gen_loss: -0.20312541723251343\n",
      "Iteration: 4363 | disc_loss: -0.28411269187927246 | gen_loss: -0.1895553469657898\n",
      "Iteration: 4364 | disc_loss: -0.28346776962280273 | gen_loss: -0.18357045948505402\n",
      "Iteration: 4365 | disc_loss: -0.32346856594085693 | gen_loss: -0.21530602872371674\n",
      "Iteration: 4366 | disc_loss: -0.2924259305000305 | gen_loss: -0.20456713438034058\n",
      "Iteration: 4367 | disc_loss: -0.32775774598121643 | gen_loss: -0.20032495260238647\n",
      "Iteration: 4368 | disc_loss: -0.20357294380664825 | gen_loss: -0.2083691954612732\n",
      "Iteration: 4369 | disc_loss: -0.26666513085365295 | gen_loss: -0.22248533368110657\n",
      "Iteration: 4370 | disc_loss: -0.1611059159040451 | gen_loss: -0.12708371877670288\n",
      "Iteration: 4371 | disc_loss: -0.2462347447872162 | gen_loss: -0.16296416521072388\n",
      "Iteration: 4372 | disc_loss: -0.33445850014686584 | gen_loss: -0.30020901560783386\n",
      "Iteration: 4373 | disc_loss: -0.21393805742263794 | gen_loss: -0.2116212248802185\n",
      "Iteration: 4374 | disc_loss: -0.2888106107711792 | gen_loss: -0.18143486976623535\n",
      "Iteration: 4375 | disc_loss: -0.2803700864315033 | gen_loss: -0.10547057539224625\n",
      "Iteration: 4376 | disc_loss: -0.281972736120224 | gen_loss: -0.2029697299003601\n",
      "Iteration: 4377 | disc_loss: -0.17602628469467163 | gen_loss: -0.25599318742752075\n",
      "Iteration: 4378 | disc_loss: -0.29636844992637634 | gen_loss: -0.24357116222381592\n",
      "Iteration: 4379 | disc_loss: -0.3278534412384033 | gen_loss: -0.1738010197877884\n",
      "Iteration: 4380 | disc_loss: -0.21431255340576172 | gen_loss: -0.27478843927383423\n",
      "Iteration: 4381 | disc_loss: -0.2720998227596283 | gen_loss: -0.1588868498802185\n",
      "Iteration: 4382 | disc_loss: -0.22500404715538025 | gen_loss: -0.2515294551849365\n"
     ]
    },
    {
     "name": "stderr",
     "output_type": "stream",
     "text": [
      " 88%|████████▊ | 4399/5001 [00:42<00:05, 101.81it/s]"
     ]
    },
    {
     "name": "stdout",
     "output_type": "stream",
     "text": [
      "Iteration: 4383 | disc_loss: -0.3284895122051239 | gen_loss: -0.20962756872177124\n",
      "Iteration: 4384 | disc_loss: -0.2357064038515091 | gen_loss: -0.12641459703445435\n",
      "Iteration: 4385 | disc_loss: -0.2957186996936798 | gen_loss: -0.2842046022415161\n",
      "Iteration: 4386 | disc_loss: -0.2570887804031372 | gen_loss: -0.18182049691677094\n",
      "Iteration: 4387 | disc_loss: -0.3171720504760742 | gen_loss: -0.17523562908172607\n",
      "Iteration: 4388 | disc_loss: -0.32876503467559814 | gen_loss: -0.2140991985797882\n",
      "Iteration: 4389 | disc_loss: -0.24475955963134766 | gen_loss: -0.16554760932922363\n",
      "Iteration: 4390 | disc_loss: -0.34165212512016296 | gen_loss: -0.13230648636817932\n",
      "Iteration: 4391 | disc_loss: -0.21224665641784668 | gen_loss: -0.14531682431697845\n",
      "Iteration: 4392 | disc_loss: -0.31709256768226624 | gen_loss: -0.2304803431034088\n",
      "Iteration: 4393 | disc_loss: -0.2325238436460495 | gen_loss: -0.22011461853981018\n",
      "Iteration: 4394 | disc_loss: -0.2969833016395569 | gen_loss: -0.27619948983192444\n",
      "Iteration: 4395 | disc_loss: -0.330822229385376 | gen_loss: -0.2818926274776459\n",
      "Iteration: 4396 | disc_loss: -0.23506826162338257 | gen_loss: -0.21692506968975067\n",
      "Iteration: 4397 | disc_loss: -0.307247132062912 | gen_loss: -0.12326169013977051\n",
      "Iteration: 4398 | disc_loss: -0.29589441418647766 | gen_loss: -0.16868427395820618\n",
      "Iteration: 4399 | disc_loss: -0.21408848464488983 | gen_loss: -0.176359623670578\n",
      "Iteration: 4400 | disc_loss: -0.32445982098579407 | gen_loss: -0.26888394355773926\n",
      "Iteration: 4401 | disc_loss: -0.2770085036754608 | gen_loss: -0.1039261519908905\n"
     ]
    },
    {
     "name": "stderr",
     "output_type": "stream",
     "text": [
      " 88%|████████▊ | 4422/5001 [00:42<00:05, 98.87it/s] "
     ]
    },
    {
     "name": "stdout",
     "output_type": "stream",
     "text": [
      "Iteration: 4402 | disc_loss: -0.29428011178970337 | gen_loss: -0.2660333812236786\n",
      "Iteration: 4403 | disc_loss: -0.2999987304210663 | gen_loss: -0.18347981572151184\n",
      "Iteration: 4404 | disc_loss: -0.2962946891784668 | gen_loss: -0.19248294830322266\n",
      "Iteration: 4405 | disc_loss: -0.24848689138889313 | gen_loss: -0.1799519956111908\n",
      "Iteration: 4406 | disc_loss: -0.2829885184764862 | gen_loss: -0.15896189212799072\n",
      "Iteration: 4407 | disc_loss: -0.2830616533756256 | gen_loss: -0.16746382415294647\n",
      "Iteration: 4408 | disc_loss: -0.3113628029823303 | gen_loss: -0.1761593520641327\n",
      "Iteration: 4409 | disc_loss: -0.3112047612667084 | gen_loss: -0.16320890188217163\n",
      "Iteration: 4410 | disc_loss: -0.17053581774234772 | gen_loss: -0.20063358545303345\n",
      "Iteration: 4411 | disc_loss: -0.22919240593910217 | gen_loss: -0.1152796670794487\n",
      "Iteration: 4412 | disc_loss: -0.27271559834480286 | gen_loss: -0.19399505853652954\n",
      "Iteration: 4413 | disc_loss: -0.32599446177482605 | gen_loss: -0.2329934537410736\n",
      "Iteration: 4414 | disc_loss: -0.3072732388973236 | gen_loss: -0.21469824016094208\n",
      "Iteration: 4415 | disc_loss: -0.4392920434474945 | gen_loss: -0.18855470418930054\n",
      "Iteration: 4416 | disc_loss: -0.19796687364578247 | gen_loss: -0.1922900676727295\n",
      "Iteration: 4417 | disc_loss: -0.32336968183517456 | gen_loss: -0.22662171721458435\n",
      "Iteration: 4418 | disc_loss: -0.22185347974300385 | gen_loss: -0.1972195953130722\n",
      "Iteration: 4419 | disc_loss: -0.27438434958457947 | gen_loss: -0.19999581575393677\n",
      "Iteration: 4420 | disc_loss: -0.23173552751541138 | gen_loss: -0.1543673872947693\n",
      "Iteration: 4421 | disc_loss: -0.3485485911369324 | gen_loss: -0.20042923092842102\n",
      "Iteration: 4422 | disc_loss: -0.24638964235782623 | gen_loss: -0.18648597598075867\n"
     ]
    },
    {
     "name": "stderr",
     "output_type": "stream",
     "text": [
      " 89%|████████▉ | 4446/5001 [00:42<00:05, 107.55it/s]"
     ]
    },
    {
     "name": "stdout",
     "output_type": "stream",
     "text": [
      "Iteration: 4423 | disc_loss: -0.3429940342903137 | gen_loss: -0.33133214712142944\n",
      "Iteration: 4424 | disc_loss: -0.26778125762939453 | gen_loss: -0.20932292938232422\n",
      "Iteration: 4425 | disc_loss: -0.33589527010917664 | gen_loss: -0.21033741533756256\n",
      "Iteration: 4426 | disc_loss: -0.30948489904403687 | gen_loss: -0.2344401478767395\n",
      "Iteration: 4427 | disc_loss: -0.28009265661239624 | gen_loss: -0.2519132196903229\n",
      "Iteration: 4428 | disc_loss: -0.3612639605998993 | gen_loss: -0.24873626232147217\n",
      "Iteration: 4429 | disc_loss: -0.3544203042984009 | gen_loss: -0.22233900427818298\n",
      "Iteration: 4430 | disc_loss: -0.05852097272872925 | gen_loss: -0.1424330174922943\n",
      "Iteration: 4431 | disc_loss: -0.21151363849639893 | gen_loss: -0.12441752851009369\n",
      "Iteration: 4432 | disc_loss: -0.2298356294631958 | gen_loss: -0.17105619609355927\n",
      "Iteration: 4433 | disc_loss: -0.24601024389266968 | gen_loss: -0.2273263931274414\n",
      "Iteration: 4434 | disc_loss: -0.28431978821754456 | gen_loss: -0.25829681754112244\n",
      "Iteration: 4435 | disc_loss: -0.2790261507034302 | gen_loss: -0.23273000121116638\n",
      "Iteration: 4436 | disc_loss: -0.30964428186416626 | gen_loss: -0.1757325530052185\n",
      "Iteration: 4437 | disc_loss: -0.3721807599067688 | gen_loss: -0.251721054315567\n",
      "Iteration: 4438 | disc_loss: -0.3286738693714142 | gen_loss: -0.2380920946598053\n",
      "Iteration: 4439 | disc_loss: -0.2726439833641052 | gen_loss: -0.1670399159193039\n",
      "Iteration: 4440 | disc_loss: -0.26276612281799316 | gen_loss: -0.16746830940246582\n",
      "Iteration: 4441 | disc_loss: -0.31896618008613586 | gen_loss: -0.26037168502807617\n",
      "Iteration: 4442 | disc_loss: -0.3031270503997803 | gen_loss: -0.25476786494255066\n",
      "Iteration: 4443 | disc_loss: -0.26079586148262024 | gen_loss: -0.22260619699954987\n",
      "Iteration: 4444 | disc_loss: -0.2821296453475952 | gen_loss: -0.163015216588974\n",
      "Iteration: 4445 | disc_loss: -0.3764490783214569 | gen_loss: -0.2722044289112091\n",
      "Iteration: 4446 | disc_loss: -0.3221398591995239 | gen_loss: -0.19258704781532288\n"
     ]
    },
    {
     "name": "stderr",
     "output_type": "stream",
     "text": [
      " 89%|████████▉ | 4471/5001 [00:42<00:04, 114.82it/s]"
     ]
    },
    {
     "name": "stdout",
     "output_type": "stream",
     "text": [
      "Iteration: 4447 | disc_loss: -0.19967509806156158 | gen_loss: -0.23852749168872833\n",
      "Iteration: 4448 | disc_loss: -0.2870033085346222 | gen_loss: -0.14580793678760529\n",
      "Iteration: 4449 | disc_loss: -0.24570807814598083 | gen_loss: -0.3078159987926483\n",
      "Iteration: 4450 | disc_loss: -0.3506685793399811 | gen_loss: -0.28450286388397217\n",
      "Iteration: 4451 | disc_loss: -0.29271742701530457 | gen_loss: -0.2211281806230545\n",
      "Iteration: 4452 | disc_loss: -0.32083606719970703 | gen_loss: -0.15270797908306122\n",
      "Iteration: 4453 | disc_loss: -0.2005569189786911 | gen_loss: -0.2041824460029602\n",
      "Iteration: 4454 | disc_loss: -0.22897526621818542 | gen_loss: -0.2184208780527115\n",
      "Iteration: 4455 | disc_loss: -0.3221125304698944 | gen_loss: -0.26135945320129395\n",
      "Iteration: 4456 | disc_loss: -0.24234482645988464 | gen_loss: -0.25556978583335876\n",
      "Iteration: 4457 | disc_loss: -0.34031736850738525 | gen_loss: -0.24928463995456696\n",
      "Iteration: 4458 | disc_loss: -0.29965394735336304 | gen_loss: -0.24651701748371124\n",
      "Iteration: 4459 | disc_loss: -0.3530266582965851 | gen_loss: -0.2916134297847748\n",
      "Iteration: 4460 | disc_loss: -0.3656313717365265 | gen_loss: -0.3656778335571289\n",
      "Iteration: 4461 | disc_loss: -0.35066866874694824 | gen_loss: -0.2945399880409241\n",
      "Iteration: 4462 | disc_loss: -0.2883513271808624 | gen_loss: -0.17756760120391846\n",
      "Iteration: 4463 | disc_loss: -0.3235280513763428 | gen_loss: -0.28013086318969727\n",
      "Iteration: 4464 | disc_loss: -0.25082334876060486 | gen_loss: -0.23005566000938416\n",
      "Iteration: 4465 | disc_loss: -0.19826921820640564 | gen_loss: -0.31666266918182373\n",
      "Iteration: 4466 | disc_loss: -0.2614319324493408 | gen_loss: -0.2435058355331421\n",
      "Iteration: 4467 | disc_loss: -0.31194207072257996 | gen_loss: -0.138421431183815\n",
      "Iteration: 4468 | disc_loss: -0.25196021795272827 | gen_loss: -0.24529749155044556\n",
      "Iteration: 4469 | disc_loss: -0.28919124603271484 | gen_loss: -0.2991769015789032\n",
      "Iteration: 4470 | disc_loss: -0.185367614030838 | gen_loss: -0.26009219884872437\n",
      "Iteration: 4471 | disc_loss: -0.30504149198532104 | gen_loss: -0.21130889654159546\n"
     ]
    },
    {
     "name": "stderr",
     "output_type": "stream",
     "text": [
      " 90%|████████▉ | 4495/5001 [00:43<00:04, 110.81it/s]"
     ]
    },
    {
     "name": "stdout",
     "output_type": "stream",
     "text": [
      "Iteration: 4472 | disc_loss: -0.24146001040935516 | gen_loss: -0.13764405250549316\n",
      "Iteration: 4473 | disc_loss: -0.2204657346010208 | gen_loss: -0.21142612397670746\n",
      "Iteration: 4474 | disc_loss: -0.35266900062561035 | gen_loss: -0.3008785843849182\n",
      "Iteration: 4475 | disc_loss: -0.20020094513893127 | gen_loss: -0.17941144108772278\n",
      "Iteration: 4476 | disc_loss: -0.1998474895954132 | gen_loss: -0.21673639118671417\n",
      "Iteration: 4477 | disc_loss: -0.3309208154678345 | gen_loss: -0.22961412370204926\n",
      "Iteration: 4478 | disc_loss: -0.33989378809928894 | gen_loss: -0.30500319600105286\n",
      "Iteration: 4479 | disc_loss: -0.31667184829711914 | gen_loss: -0.29319262504577637\n",
      "Iteration: 4480 | disc_loss: -0.28679215908050537 | gen_loss: -0.22482874989509583\n",
      "Iteration: 4481 | disc_loss: -0.24919138848781586 | gen_loss: -0.21242958307266235\n",
      "Iteration: 4482 | disc_loss: -0.3850117325782776 | gen_loss: -0.2893962860107422\n",
      "Iteration: 4483 | disc_loss: -0.11959858238697052 | gen_loss: -0.16684669256210327\n",
      "Iteration: 4484 | disc_loss: -0.2743745744228363 | gen_loss: -0.23055680096149445\n",
      "Iteration: 4485 | disc_loss: -0.24933430552482605 | gen_loss: -0.20432011783123016\n",
      "Iteration: 4486 | disc_loss: -0.29027649760246277 | gen_loss: -0.1836029589176178\n",
      "Iteration: 4487 | disc_loss: -0.336118221282959 | gen_loss: -0.22897428274154663\n",
      "Iteration: 4488 | disc_loss: -0.31393855810165405 | gen_loss: -0.2802944779396057\n",
      "Iteration: 4489 | disc_loss: -0.35208824276924133 | gen_loss: -0.2918815612792969\n",
      "Iteration: 4490 | disc_loss: -0.2544976472854614 | gen_loss: -0.25017431378364563\n",
      "Iteration: 4491 | disc_loss: -0.34915563464164734 | gen_loss: -0.23349812626838684\n",
      "Iteration: 4492 | disc_loss: -0.34917619824409485 | gen_loss: -0.24518801271915436\n",
      "Iteration: 4493 | disc_loss: -0.29172438383102417 | gen_loss: -0.21848750114440918\n",
      "Iteration: 4494 | disc_loss: -0.33867213129997253 | gen_loss: -0.21563488245010376\n"
     ]
    },
    {
     "name": "stderr",
     "output_type": "stream",
     "text": [
      " 90%|█████████ | 4507/5001 [00:43<00:04, 112.63it/s]"
     ]
    },
    {
     "name": "stdout",
     "output_type": "stream",
     "text": [
      "Iteration: 4495 | disc_loss: -0.30856794118881226 | gen_loss: -0.2892303764820099\n",
      "Iteration: 4496 | disc_loss: -0.3461877703666687 | gen_loss: -0.20696242153644562\n",
      "Iteration: 4497 | disc_loss: -0.3823663592338562 | gen_loss: -0.19754351675510406\n",
      "Iteration: 4498 | disc_loss: -0.3337443172931671 | gen_loss: -0.24519473314285278\n",
      "Iteration: 4499 | disc_loss: -0.260651171207428 | gen_loss: -0.2233530879020691\n",
      "Iteration: 4500 | disc_loss: -0.35137316584587097 | gen_loss: -0.23536355793476105\n",
      "Iteration: 4501 | disc_loss: -0.17933563888072968 | gen_loss: -0.21904760599136353\n",
      "Iteration: 4502 | disc_loss: -0.2461225688457489 | gen_loss: -0.1508445143699646\n",
      "Iteration: 4503 | disc_loss: -0.30549895763397217 | gen_loss: -0.17180192470550537\n",
      "Iteration: 4504 | disc_loss: -0.3218187987804413 | gen_loss: -0.17273975908756256\n",
      "Iteration: 4505 | disc_loss: -0.2754209339618683 | gen_loss: -0.2090706080198288\n",
      "Iteration: 4506 | disc_loss: -0.31988921761512756 | gen_loss: -0.28459322452545166\n",
      "Iteration: 4507 | disc_loss: -0.24720649421215057 | gen_loss: -0.16865402460098267\n",
      "Iteration: 4508 | disc_loss: -0.34297510981559753 | gen_loss: -0.22081859409809113\n",
      "Iteration: 4509 | disc_loss: -0.2878550887107849 | gen_loss: -0.2499939352273941\n",
      "Iteration: 4510 | disc_loss: -0.06338325142860413 | gen_loss: -0.22365683317184448\n",
      "Iteration: 4511 | disc_loss: -0.3113197684288025 | gen_loss: -0.18022853136062622\n",
      "Iteration: 4512 | disc_loss: -0.2103298306465149 | gen_loss: -0.12322571873664856\n",
      "Iteration: 4513 | disc_loss: -0.39346423745155334 | gen_loss: -0.11622006446123123\n",
      "Iteration: 4514 | disc_loss: -0.2183258831501007 | gen_loss: -0.1394454389810562\n",
      "Iteration: 4515 | disc_loss: -0.2112533450126648 | gen_loss: -0.2839096784591675\n",
      "Iteration: 4516 | disc_loss: -0.26066115498542786 | gen_loss: -0.20108243823051453\n"
     ]
    },
    {
     "name": "stderr",
     "output_type": "stream",
     "text": [
      " 91%|█████████ | 4531/5001 [00:43<00:04, 109.57it/s]"
     ]
    },
    {
     "name": "stdout",
     "output_type": "stream",
     "text": [
      "Iteration: 4517 | disc_loss: -0.31925809383392334 | gen_loss: -0.2521503269672394\n",
      "Iteration: 4518 | disc_loss: -0.2710464596748352 | gen_loss: -0.214717835187912\n",
      "Iteration: 4519 | disc_loss: -0.25805744528770447 | gen_loss: -0.237169086933136\n",
      "Iteration: 4520 | disc_loss: -0.2878870368003845 | gen_loss: -0.21899160742759705\n",
      "Iteration: 4521 | disc_loss: -0.36643317341804504 | gen_loss: -0.23761999607086182\n",
      "Iteration: 4522 | disc_loss: -0.2532002925872803 | gen_loss: -0.23845960199832916\n",
      "Iteration: 4523 | disc_loss: -0.2863766849040985 | gen_loss: -0.21385963261127472\n",
      "Iteration: 4524 | disc_loss: -0.330792635679245 | gen_loss: -0.2793314456939697\n",
      "Iteration: 4525 | disc_loss: -0.2642506957054138 | gen_loss: -0.24196863174438477\n",
      "Iteration: 4526 | disc_loss: -0.29976126551628113 | gen_loss: -0.2365553081035614\n",
      "Iteration: 4527 | disc_loss: -0.02666264772415161 | gen_loss: -0.2629818618297577\n",
      "Iteration: 4528 | disc_loss: -0.19924816489219666 | gen_loss: -0.20392104983329773\n",
      "Iteration: 4529 | disc_loss: -0.28189149498939514 | gen_loss: -0.17916306853294373\n",
      "Iteration: 4530 | disc_loss: -0.2623963952064514 | gen_loss: -0.20887045562267303\n",
      "Iteration: 4531 | disc_loss: -0.259756863117218 | gen_loss: -0.2229989469051361\n",
      "Iteration: 4532 | disc_loss: -0.26427966356277466 | gen_loss: -0.20456065237522125\n",
      "Iteration: 4533 | disc_loss: -0.2659451961517334 | gen_loss: -0.24222536385059357\n",
      "Iteration: 4534 | disc_loss: -0.24858196079730988 | gen_loss: -0.2984115481376648\n",
      "Iteration: 4535 | disc_loss: -0.276430606842041 | gen_loss: -0.21006809175014496\n",
      "Iteration: 4536 | disc_loss: -0.23576223850250244 | gen_loss: -0.20823757350444794\n",
      "Iteration: 4537 | disc_loss: -0.16616199910640717 | gen_loss: -0.2552762031555176\n",
      "Iteration: 4538 | disc_loss: -0.30934035778045654 | gen_loss: -0.22457998991012573\n",
      "Iteration: 4539 | disc_loss: -0.30782273411750793 | gen_loss: -0.3075697422027588\n"
     ]
    },
    {
     "name": "stderr",
     "output_type": "stream",
     "text": [
      " 91%|█████████ | 4555/5001 [00:43<00:04, 108.94it/s]"
     ]
    },
    {
     "name": "stdout",
     "output_type": "stream",
     "text": [
      "Iteration: 4540 | disc_loss: -0.2724273204803467 | gen_loss: -0.28219127655029297\n",
      "Iteration: 4541 | disc_loss: -0.3213440477848053 | gen_loss: -0.18106558918952942\n",
      "Iteration: 4542 | disc_loss: -0.3266592025756836 | gen_loss: -0.22158744931221008\n",
      "Iteration: 4543 | disc_loss: -0.2741296887397766 | gen_loss: -0.17760741710662842\n",
      "Iteration: 4544 | disc_loss: -0.32967129349708557 | gen_loss: -0.29725998640060425\n",
      "Iteration: 4545 | disc_loss: -0.2486308068037033 | gen_loss: -0.22489655017852783\n",
      "Iteration: 4546 | disc_loss: -0.32685521245002747 | gen_loss: -0.22951018810272217\n",
      "Iteration: 4547 | disc_loss: -0.279765784740448 | gen_loss: -0.30145615339279175\n",
      "Iteration: 4548 | disc_loss: -0.2634091377258301 | gen_loss: -0.2300001084804535\n",
      "Iteration: 4549 | disc_loss: -0.2041587382555008 | gen_loss: -0.2288975864648819\n",
      "Iteration: 4550 | disc_loss: -0.3471410572528839 | gen_loss: -0.23339715600013733\n",
      "Iteration: 4551 | disc_loss: -0.25017231702804565 | gen_loss: -0.2268153429031372\n",
      "Iteration: 4552 | disc_loss: -0.2925751805305481 | gen_loss: -0.197560653090477\n",
      "Iteration: 4553 | disc_loss: -0.351811945438385 | gen_loss: -0.1969628483057022\n",
      "Iteration: 4554 | disc_loss: -0.30538317561149597 | gen_loss: -0.183945894241333\n",
      "Iteration: 4555 | disc_loss: -0.25161105394363403 | gen_loss: -0.1381729543209076\n",
      "Iteration: 4556 | disc_loss: -0.34893763065338135 | gen_loss: -0.28078287839889526\n",
      "Iteration: 4557 | disc_loss: -0.23942387104034424 | gen_loss: -0.21600739657878876\n",
      "Iteration: 4558 | disc_loss: -0.21068251132965088 | gen_loss: -0.2585305869579315\n",
      "Iteration: 4559 | disc_loss: -0.3398258090019226 | gen_loss: -0.21789637207984924\n",
      "Iteration: 4560 | disc_loss: -0.1963708996772766 | gen_loss: -0.28575465083122253\n",
      "Iteration: 4561 | disc_loss: -0.33285877108573914 | gen_loss: -0.23259687423706055\n"
     ]
    },
    {
     "name": "stderr",
     "output_type": "stream",
     "text": [
      " 92%|█████████▏| 4578/5001 [00:43<00:03, 107.11it/s]"
     ]
    },
    {
     "name": "stdout",
     "output_type": "stream",
     "text": [
      "Iteration: 4562 | disc_loss: -0.26355499029159546 | gen_loss: -0.23392042517662048\n",
      "Iteration: 4563 | disc_loss: -0.05870699882507324 | gen_loss: -0.1809125691652298\n",
      "Iteration: 4564 | disc_loss: -0.24981936812400818 | gen_loss: -0.1889205127954483\n",
      "Iteration: 4565 | disc_loss: -0.3523285984992981 | gen_loss: -0.1614656001329422\n",
      "Iteration: 4566 | disc_loss: -0.21025261282920837 | gen_loss: -0.17177259922027588\n",
      "Iteration: 4567 | disc_loss: -0.09825938940048218 | gen_loss: -0.2048075944185257\n",
      "Iteration: 4568 | disc_loss: -0.12518158555030823 | gen_loss: -0.20413190126419067\n",
      "Iteration: 4569 | disc_loss: -0.2344282567501068 | gen_loss: -0.2210172414779663\n",
      "Iteration: 4570 | disc_loss: -0.24090152978897095 | gen_loss: -0.223713219165802\n",
      "Iteration: 4571 | disc_loss: -0.28199219703674316 | gen_loss: -0.1053062379360199\n",
      "Iteration: 4572 | disc_loss: -0.22405877709388733 | gen_loss: -0.16263902187347412\n",
      "Iteration: 4573 | disc_loss: -0.20994548499584198 | gen_loss: -0.11190512776374817\n",
      "Iteration: 4574 | disc_loss: -0.22774039208889008 | gen_loss: -0.12830248475074768\n",
      "Iteration: 4575 | disc_loss: -0.22306667268276215 | gen_loss: -0.21022340655326843\n",
      "Iteration: 4576 | disc_loss: -0.2991564869880676 | gen_loss: -0.19218462705612183\n",
      "Iteration: 4577 | disc_loss: -0.31407225131988525 | gen_loss: -0.08650815486907959\n",
      "Iteration: 4578 | disc_loss: -0.32766732573509216 | gen_loss: -0.19912737607955933\n",
      "Iteration: 4579 | disc_loss: -0.21335801482200623 | gen_loss: -0.2395198494195938\n",
      "Iteration: 4580 | disc_loss: -0.3391362726688385 | gen_loss: -0.23221543431282043\n",
      "Iteration: 4581 | disc_loss: -0.325338751077652 | gen_loss: -0.24759501218795776\n",
      "Iteration: 4582 | disc_loss: -0.07982015609741211 | gen_loss: -0.22409692406654358\n"
     ]
    },
    {
     "name": "stderr",
     "output_type": "stream",
     "text": [
      " 92%|█████████▏| 4600/5001 [00:44<00:03, 105.04it/s]"
     ]
    },
    {
     "name": "stdout",
     "output_type": "stream",
     "text": [
      "Iteration: 4583 | disc_loss: -0.24408894777297974 | gen_loss: -0.13062424957752228\n",
      "Iteration: 4584 | disc_loss: -0.25690293312072754 | gen_loss: -0.14478924870491028\n",
      "Iteration: 4585 | disc_loss: -0.2521849274635315 | gen_loss: -0.07683232426643372\n",
      "Iteration: 4586 | disc_loss: -0.28627291321754456 | gen_loss: -0.2183586061000824\n",
      "Iteration: 4587 | disc_loss: -0.31722375750541687 | gen_loss: -0.1699947565793991\n",
      "Iteration: 4588 | disc_loss: -0.19277217984199524 | gen_loss: -0.24966348707675934\n",
      "Iteration: 4589 | disc_loss: -0.29680654406547546 | gen_loss: -0.19245615601539612\n",
      "Iteration: 4590 | disc_loss: -0.27296188473701477 | gen_loss: -0.1947535276412964\n",
      "Iteration: 4591 | disc_loss: -0.392758309841156 | gen_loss: -0.17761504650115967\n",
      "Iteration: 4592 | disc_loss: -0.1856372058391571 | gen_loss: -0.19753216207027435\n",
      "Iteration: 4593 | disc_loss: -0.3189634382724762 | gen_loss: -0.2532253861427307\n",
      "Iteration: 4594 | disc_loss: -0.22860181331634521 | gen_loss: -0.2569447159767151\n",
      "Iteration: 4595 | disc_loss: -0.3005426228046417 | gen_loss: -0.20715680718421936\n",
      "Iteration: 4596 | disc_loss: -0.29952630400657654 | gen_loss: -0.17320406436920166\n",
      "Iteration: 4597 | disc_loss: -0.20468953251838684 | gen_loss: -0.23222127556800842\n",
      "Iteration: 4598 | disc_loss: -0.2560902237892151 | gen_loss: -0.2516443729400635\n",
      "Iteration: 4599 | disc_loss: -0.3144559860229492 | gen_loss: -0.22104044258594513\n",
      "Iteration: 4600 | disc_loss: -0.33818382024765015 | gen_loss: -0.14497750997543335\n",
      "Iteration: 4601 | disc_loss: -0.2760990560054779 | gen_loss: -0.2594979405403137\n",
      "Iteration: 4602 | disc_loss: -0.17369699478149414 | gen_loss: -0.20695194602012634\n",
      "Iteration: 4603 | disc_loss: -0.22253277897834778 | gen_loss: -0.231634721159935\n"
     ]
    },
    {
     "name": "stderr",
     "output_type": "stream",
     "text": [
      " 92%|█████████▏| 4623/5001 [00:44<00:03, 102.80it/s]"
     ]
    },
    {
     "name": "stdout",
     "output_type": "stream",
     "text": [
      "Iteration: 4604 | disc_loss: -0.2965080142021179 | gen_loss: -0.2443193793296814\n",
      "Iteration: 4605 | disc_loss: -0.2780281603336334 | gen_loss: -0.22696316242218018\n",
      "Iteration: 4606 | disc_loss: -0.2301165908575058 | gen_loss: -0.2717586159706116\n",
      "Iteration: 4607 | disc_loss: -0.3088095486164093 | gen_loss: -0.1639416217803955\n",
      "Iteration: 4608 | disc_loss: -0.24953357875347137 | gen_loss: -0.251312255859375\n",
      "Iteration: 4609 | disc_loss: -0.2585461139678955 | gen_loss: -0.2012462615966797\n",
      "Iteration: 4610 | disc_loss: -0.30922386050224304 | gen_loss: -0.17597036063671112\n",
      "Iteration: 4611 | disc_loss: -0.11777280271053314 | gen_loss: -0.30739274621009827\n",
      "Iteration: 4612 | disc_loss: -0.31587210297584534 | gen_loss: -0.2563062310218811\n",
      "Iteration: 4613 | disc_loss: -0.3139161169528961 | gen_loss: -0.32809317111968994\n",
      "Iteration: 4614 | disc_loss: -0.2236643135547638 | gen_loss: -0.3281061053276062\n",
      "Iteration: 4615 | disc_loss: 0.11138194799423218 | gen_loss: -0.31267064809799194\n",
      "Iteration: 4616 | disc_loss: -0.31689199805259705 | gen_loss: -0.2543919086456299\n",
      "Iteration: 4617 | disc_loss: -0.3318200707435608 | gen_loss: -0.2156040072441101\n",
      "Iteration: 4618 | disc_loss: -0.3378664553165436 | gen_loss: -0.22045181691646576\n",
      "Iteration: 4619 | disc_loss: -0.2860840857028961 | gen_loss: -0.17743761837482452\n",
      "Iteration: 4620 | disc_loss: -0.3050374984741211 | gen_loss: -0.24342355132102966\n",
      "Iteration: 4621 | disc_loss: -0.257306307554245 | gen_loss: -0.26387593150138855\n",
      "Iteration: 4622 | disc_loss: -0.269300639629364 | gen_loss: -0.1878880262374878\n",
      "Iteration: 4623 | disc_loss: -0.3665873110294342 | gen_loss: -0.2958686053752899\n",
      "Iteration: 4624 | disc_loss: -0.14851371943950653 | gen_loss: -0.24566379189491272\n",
      "Iteration: 4625 | disc_loss: -0.19347095489501953 | gen_loss: -0.2212752103805542\n"
     ]
    },
    {
     "name": "stderr",
     "output_type": "stream",
     "text": [
      " 93%|█████████▎| 4645/5001 [00:44<00:03, 104.99it/s]"
     ]
    },
    {
     "name": "stdout",
     "output_type": "stream",
     "text": [
      "Iteration: 4626 | disc_loss: -0.294165700674057 | gen_loss: -0.14947769045829773\n",
      "Iteration: 4627 | disc_loss: -0.261564701795578 | gen_loss: -0.16126810014247894\n",
      "Iteration: 4628 | disc_loss: -0.3056650459766388 | gen_loss: -0.1483577936887741\n",
      "Iteration: 4629 | disc_loss: -0.27132344245910645 | gen_loss: -0.19069001078605652\n",
      "Iteration: 4630 | disc_loss: -0.295765221118927 | gen_loss: -0.22472158074378967\n",
      "Iteration: 4631 | disc_loss: -0.2667727768421173 | gen_loss: -0.2407274693250656\n",
      "Iteration: 4632 | disc_loss: -0.2830215096473694 | gen_loss: -0.1378461718559265\n",
      "Iteration: 4633 | disc_loss: -0.29430055618286133 | gen_loss: -0.19790402054786682\n",
      "Iteration: 4634 | disc_loss: -0.2080526053905487 | gen_loss: -0.13416889309883118\n",
      "Iteration: 4635 | disc_loss: -0.29066887497901917 | gen_loss: -0.1890133023262024\n",
      "Iteration: 4636 | disc_loss: -0.21037578582763672 | gen_loss: -0.1658526062965393\n",
      "Iteration: 4637 | disc_loss: -0.35779282450675964 | gen_loss: -0.2086125761270523\n",
      "Iteration: 4638 | disc_loss: -0.3577256202697754 | gen_loss: -0.19778266549110413\n",
      "Iteration: 4639 | disc_loss: -0.22826147079467773 | gen_loss: -0.08895285427570343\n",
      "Iteration: 4640 | disc_loss: -0.30620235204696655 | gen_loss: -0.18978525698184967\n",
      "Iteration: 4641 | disc_loss: -0.3284439742565155 | gen_loss: -0.18232454359531403\n",
      "Iteration: 4642 | disc_loss: -0.2000717669725418 | gen_loss: -0.21603435277938843\n",
      "Iteration: 4643 | disc_loss: -0.3157398998737335 | gen_loss: -0.19416190683841705\n",
      "Iteration: 4644 | disc_loss: -0.17584186792373657 | gen_loss: -0.1343955248594284\n",
      "Iteration: 4645 | disc_loss: -0.21708258986473083 | gen_loss: -0.2351953387260437\n",
      "Iteration: 4646 | disc_loss: -0.2575414180755615 | gen_loss: -0.2404962033033371\n",
      "Iteration: 4647 | disc_loss: -0.24845397472381592 | gen_loss: -0.2452453374862671\n"
     ]
    },
    {
     "name": "stderr",
     "output_type": "stream",
     "text": [
      " 93%|█████████▎| 4667/5001 [00:44<00:03, 102.49it/s]"
     ]
    },
    {
     "name": "stdout",
     "output_type": "stream",
     "text": [
      "Iteration: 4648 | disc_loss: -0.11959168314933777 | gen_loss: -0.2102503478527069\n",
      "Iteration: 4649 | disc_loss: -0.2782021462917328 | gen_loss: -0.2816166281700134\n",
      "Iteration: 4650 | disc_loss: -0.2617860734462738 | gen_loss: -0.25504130125045776\n",
      "Iteration: 4651 | disc_loss: -0.35903286933898926 | gen_loss: -0.22549675405025482\n",
      "Iteration: 4652 | disc_loss: -0.29574650526046753 | gen_loss: -0.1544002890586853\n",
      "Iteration: 4653 | disc_loss: -0.2919958531856537 | gen_loss: -0.18753550946712494\n",
      "Iteration: 4654 | disc_loss: -0.29908257722854614 | gen_loss: -0.18889981508255005\n",
      "Iteration: 4655 | disc_loss: -0.28739315271377563 | gen_loss: -0.21263331174850464\n",
      "Iteration: 4656 | disc_loss: -0.27795931696891785 | gen_loss: -0.18150091171264648\n",
      "Iteration: 4657 | disc_loss: -0.2686610519886017 | gen_loss: -0.20100665092468262\n",
      "Iteration: 4658 | disc_loss: -0.29068681597709656 | gen_loss: -0.23422940075397491\n",
      "Iteration: 4659 | disc_loss: -0.3022747337818146 | gen_loss: -0.20246148109436035\n",
      "Iteration: 4660 | disc_loss: -0.28098368644714355 | gen_loss: -0.2697916030883789\n",
      "Iteration: 4661 | disc_loss: -0.23631921410560608 | gen_loss: -0.16629202663898468\n",
      "Iteration: 4662 | disc_loss: -0.10625523328781128 | gen_loss: -0.2783471643924713\n",
      "Iteration: 4663 | disc_loss: -0.341200590133667 | gen_loss: -0.21648937463760376\n",
      "Iteration: 4664 | disc_loss: -0.24191053211688995 | gen_loss: -0.26135745644569397\n",
      "Iteration: 4665 | disc_loss: -0.33150771260261536 | gen_loss: -0.21402975916862488\n",
      "Iteration: 4666 | disc_loss: -0.2900979518890381 | gen_loss: -0.18289053440093994\n",
      "Iteration: 4667 | disc_loss: -0.23614513874053955 | gen_loss: -0.15933552384376526\n"
     ]
    },
    {
     "name": "stderr",
     "output_type": "stream",
     "text": [
      " 94%|█████████▍| 4689/5001 [00:45<00:03, 103.58it/s]"
     ]
    },
    {
     "name": "stdout",
     "output_type": "stream",
     "text": [
      "Iteration: 4668 | disc_loss: -0.3152490556240082 | gen_loss: -0.13280940055847168\n",
      "Iteration: 4669 | disc_loss: -0.29944419860839844 | gen_loss: -0.12171497941017151\n",
      "Iteration: 4670 | disc_loss: -0.2930169105529785 | gen_loss: -0.23296663165092468\n",
      "Iteration: 4671 | disc_loss: -0.2415614128112793 | gen_loss: -0.2399103045463562\n",
      "Iteration: 4672 | disc_loss: -0.008409544825553894 | gen_loss: -0.182349294424057\n",
      "Iteration: 4673 | disc_loss: -0.26811376214027405 | gen_loss: -0.2946462035179138\n",
      "Iteration: 4674 | disc_loss: -0.17544332146644592 | gen_loss: -0.27357587218284607\n",
      "Iteration: 4675 | disc_loss: -0.26251524686813354 | gen_loss: -0.22369228303432465\n",
      "Iteration: 4676 | disc_loss: -0.2174416333436966 | gen_loss: -0.18029652535915375\n",
      "Iteration: 4677 | disc_loss: -0.32151272892951965 | gen_loss: -0.19351226091384888\n",
      "Iteration: 4678 | disc_loss: -0.20400771498680115 | gen_loss: -0.19778040051460266\n",
      "Iteration: 4679 | disc_loss: -0.10473981499671936 | gen_loss: -0.1862224042415619\n",
      "Iteration: 4680 | disc_loss: -0.3508199453353882 | gen_loss: -0.23547616600990295\n",
      "Iteration: 4681 | disc_loss: -0.32862722873687744 | gen_loss: -0.23526038229465485\n",
      "Iteration: 4682 | disc_loss: -0.2576056122779846 | gen_loss: -0.13231320679187775\n",
      "Iteration: 4683 | disc_loss: -0.20150059461593628 | gen_loss: -0.13110709190368652\n",
      "Iteration: 4684 | disc_loss: -0.2621594965457916 | gen_loss: -0.17548057436943054\n",
      "Iteration: 4685 | disc_loss: -0.24921010434627533 | gen_loss: -0.22049370408058167\n",
      "Iteration: 4686 | disc_loss: -0.3356078863143921 | gen_loss: -0.19786040484905243\n",
      "Iteration: 4687 | disc_loss: -0.19377468526363373 | gen_loss: -0.24220170080661774\n",
      "Iteration: 4688 | disc_loss: -0.29255202412605286 | gen_loss: -0.2989526093006134\n",
      "Iteration: 4689 | disc_loss: -0.25487881898880005 | gen_loss: -0.24365267157554626\n"
     ]
    },
    {
     "name": "stderr",
     "output_type": "stream",
     "text": [
      " 94%|█████████▍| 4711/5001 [00:45<00:02, 103.70it/s]"
     ]
    },
    {
     "name": "stdout",
     "output_type": "stream",
     "text": [
      "Iteration: 4690 | disc_loss: -0.3547731935977936 | gen_loss: -0.2735631465911865\n",
      "Iteration: 4691 | disc_loss: 0.07757329940795898 | gen_loss: -0.24907740950584412\n",
      "Iteration: 4692 | disc_loss: -0.21278798580169678 | gen_loss: -0.2590109407901764\n",
      "Iteration: 4693 | disc_loss: -0.21714907884597778 | gen_loss: -0.2735481262207031\n",
      "Iteration: 4694 | disc_loss: -0.2929188013076782 | gen_loss: -0.21880145370960236\n",
      "Iteration: 4695 | disc_loss: -0.3326336741447449 | gen_loss: -0.2195339798927307\n",
      "Iteration: 4696 | disc_loss: -0.30225133895874023 | gen_loss: -0.17610283195972443\n",
      "Iteration: 4697 | disc_loss: -0.2587626576423645 | gen_loss: -0.17738112807273865\n",
      "Iteration: 4698 | disc_loss: -0.29026728868484497 | gen_loss: -0.25650763511657715\n",
      "Iteration: 4699 | disc_loss: -0.2856106162071228 | gen_loss: -0.2095315158367157\n",
      "Iteration: 4700 | disc_loss: -0.28808656334877014 | gen_loss: -0.23970746994018555\n",
      "Iteration: 4701 | disc_loss: -0.22586172819137573 | gen_loss: -0.2604682743549347\n",
      "Iteration: 4702 | disc_loss: -0.39752528071403503 | gen_loss: -0.23237094283103943\n",
      "Iteration: 4703 | disc_loss: -0.3526800274848938 | gen_loss: -0.27444303035736084\n",
      "Iteration: 4704 | disc_loss: -0.14443250000476837 | gen_loss: -0.2965598404407501\n",
      "Iteration: 4705 | disc_loss: -0.24765878915786743 | gen_loss: -0.2314327359199524\n",
      "Iteration: 4706 | disc_loss: -0.2682833969593048 | gen_loss: -0.3132275938987732\n",
      "Iteration: 4707 | disc_loss: -0.2146976888179779 | gen_loss: -0.20382294058799744\n",
      "Iteration: 4708 | disc_loss: -0.2837403416633606 | gen_loss: -0.1908874213695526\n",
      "Iteration: 4709 | disc_loss: -0.2516705095767975 | gen_loss: -0.1728067696094513\n",
      "Iteration: 4710 | disc_loss: -0.25741323828697205 | gen_loss: -0.16144035756587982\n",
      "Iteration: 4711 | disc_loss: -0.2562313675880432 | gen_loss: -0.20937636494636536\n"
     ]
    },
    {
     "name": "stderr",
     "output_type": "stream",
     "text": [
      " 95%|█████████▍| 4733/5001 [00:45<00:02, 104.09it/s]"
     ]
    },
    {
     "name": "stdout",
     "output_type": "stream",
     "text": [
      "Iteration: 4712 | disc_loss: -0.28302913904190063 | gen_loss: -0.1831679344177246\n",
      "Iteration: 4713 | disc_loss: -0.30816546082496643 | gen_loss: -0.18937835097312927\n",
      "Iteration: 4714 | disc_loss: -0.23972997069358826 | gen_loss: -0.14560651779174805\n",
      "Iteration: 4715 | disc_loss: -0.2429470270872116 | gen_loss: -0.20677874982357025\n",
      "Iteration: 4716 | disc_loss: -0.3049534261226654 | gen_loss: -0.22134055197238922\n",
      "Iteration: 4717 | disc_loss: -0.2985650897026062 | gen_loss: -0.19421899318695068\n",
      "Iteration: 4718 | disc_loss: -0.41806623339653015 | gen_loss: -0.2123306691646576\n",
      "Iteration: 4719 | disc_loss: -0.11169323325157166 | gen_loss: -0.15201853215694427\n",
      "Iteration: 4720 | disc_loss: -0.23189601302146912 | gen_loss: -0.16212981939315796\n",
      "Iteration: 4721 | disc_loss: -0.3459034562110901 | gen_loss: -0.15003183484077454\n",
      "Iteration: 4722 | disc_loss: -0.2763281464576721 | gen_loss: -0.1435796618461609\n",
      "Iteration: 4723 | disc_loss: -0.3220001757144928 | gen_loss: -0.13573992252349854\n",
      "Iteration: 4724 | disc_loss: -0.29519519209861755 | gen_loss: -0.16292399168014526\n",
      "Iteration: 4725 | disc_loss: -0.2211708426475525 | gen_loss: -0.1883389949798584\n",
      "Iteration: 4726 | disc_loss: -0.24232125282287598 | gen_loss: -0.12794944643974304\n",
      "Iteration: 4727 | disc_loss: -0.31062448024749756 | gen_loss: -0.15571244060993195\n",
      "Iteration: 4728 | disc_loss: -0.2979569435119629 | gen_loss: -0.1758333146572113\n",
      "Iteration: 4729 | disc_loss: -0.10177106410264969 | gen_loss: -0.21470050513744354\n",
      "Iteration: 4730 | disc_loss: -0.29947566986083984 | gen_loss: -0.14095893502235413\n",
      "Iteration: 4731 | disc_loss: -0.28210970759391785 | gen_loss: -0.18243896961212158\n",
      "Iteration: 4732 | disc_loss: -0.30145397782325745 | gen_loss: -0.178709477186203\n",
      "Iteration: 4733 | disc_loss: -0.25944623351097107 | gen_loss: -0.19043326377868652\n"
     ]
    },
    {
     "name": "stderr",
     "output_type": "stream",
     "text": [
      " 95%|█████████▌| 4756/5001 [00:45<00:02, 107.98it/s]"
     ]
    },
    {
     "name": "stdout",
     "output_type": "stream",
     "text": [
      "Iteration: 4734 | disc_loss: -0.2715413570404053 | gen_loss: -0.1763983815908432\n",
      "Iteration: 4735 | disc_loss: -0.3324567675590515 | gen_loss: -0.14929327368736267\n",
      "Iteration: 4736 | disc_loss: -0.1500108242034912 | gen_loss: -0.1828620731830597\n",
      "Iteration: 4737 | disc_loss: -0.31473585963249207 | gen_loss: -0.14755478501319885\n",
      "Iteration: 4738 | disc_loss: -0.23148088157176971 | gen_loss: -0.1977856457233429\n",
      "Iteration: 4739 | disc_loss: -0.1959814578294754 | gen_loss: -0.1844460368156433\n",
      "Iteration: 4740 | disc_loss: -0.32334548234939575 | gen_loss: -0.2138160765171051\n",
      "Iteration: 4741 | disc_loss: -0.30113300681114197 | gen_loss: -0.25006023049354553\n",
      "Iteration: 4742 | disc_loss: -0.16715724766254425 | gen_loss: -0.16059260070323944\n",
      "Iteration: 4743 | disc_loss: -0.24590346217155457 | gen_loss: -0.10903722047805786\n",
      "Iteration: 4744 | disc_loss: -0.2852824032306671 | gen_loss: -0.2416950911283493\n",
      "Iteration: 4745 | disc_loss: -0.32096776366233826 | gen_loss: -0.14474965631961823\n",
      "Iteration: 4746 | disc_loss: -0.32423314452171326 | gen_loss: -0.24309712648391724\n",
      "Iteration: 4747 | disc_loss: -0.23566438257694244 | gen_loss: -0.26456916332244873\n",
      "Iteration: 4748 | disc_loss: -0.3543264865875244 | gen_loss: -0.250339150428772\n",
      "Iteration: 4749 | disc_loss: -0.19917896389961243 | gen_loss: -0.21735163033008575\n",
      "Iteration: 4750 | disc_loss: -0.26695433259010315 | gen_loss: -0.16948914527893066\n",
      "Iteration: 4751 | disc_loss: -0.33901679515838623 | gen_loss: -0.19762656092643738\n",
      "Iteration: 4752 | disc_loss: -0.302876740694046 | gen_loss: -0.16407611966133118\n",
      "Iteration: 4753 | disc_loss: -0.23846203088760376 | gen_loss: -0.19002199172973633\n",
      "Iteration: 4754 | disc_loss: -0.24770453572273254 | gen_loss: -0.19223006069660187\n",
      "Iteration: 4755 | disc_loss: -0.31837335228919983 | gen_loss: -0.21071757376194\n"
     ]
    },
    {
     "name": "stderr",
     "output_type": "stream",
     "text": [
      " 95%|█████████▌| 4768/5001 [00:45<00:02, 105.88it/s]"
     ]
    },
    {
     "name": "stdout",
     "output_type": "stream",
     "text": [
      "Iteration: 4756 | disc_loss: -0.24241626262664795 | gen_loss: -0.21739432215690613\n",
      "Iteration: 4757 | disc_loss: -0.2810925543308258 | gen_loss: -0.280501127243042\n",
      "Iteration: 4758 | disc_loss: -0.3298361003398895 | gen_loss: -0.23217681050300598\n",
      "Iteration: 4759 | disc_loss: -0.1509707272052765 | gen_loss: -0.04305234178900719\n",
      "Iteration: 4760 | disc_loss: -0.18586421012878418 | gen_loss: -0.15016156435012817\n",
      "Iteration: 4761 | disc_loss: -0.25221607089042664 | gen_loss: -0.21621492505073547\n",
      "Iteration: 4762 | disc_loss: -0.3145860433578491 | gen_loss: -0.17861908674240112\n",
      "Iteration: 4763 | disc_loss: -0.28364431858062744 | gen_loss: -0.255020409822464\n",
      "Iteration: 4764 | disc_loss: -0.2764316201210022 | gen_loss: -0.2054019719362259\n",
      "Iteration: 4765 | disc_loss: -0.32122936844825745 | gen_loss: -0.22116723656654358\n",
      "Iteration: 4766 | disc_loss: -0.34602510929107666 | gen_loss: -0.15163946151733398\n",
      "Iteration: 4767 | disc_loss: -0.23923669755458832 | gen_loss: -0.20109227299690247\n",
      "Iteration: 4768 | disc_loss: -0.17033329606056213 | gen_loss: -0.20279660820960999\n",
      "Iteration: 4769 | disc_loss: -0.24271228909492493 | gen_loss: -0.21866820752620697\n",
      "Iteration: 4770 | disc_loss: -0.26365360617637634 | gen_loss: -0.24223949015140533\n",
      "Iteration: 4771 | disc_loss: -0.24012711644172668 | gen_loss: -0.2296203374862671\n",
      "Iteration: 4772 | disc_loss: -0.26513367891311646 | gen_loss: -0.23329617083072662\n",
      "Iteration: 4773 | disc_loss: -0.2657202482223511 | gen_loss: -0.20148009061813354\n",
      "Iteration: 4774 | disc_loss: -0.339356005191803 | gen_loss: -0.18288643658161163\n",
      "Iteration: 4775 | disc_loss: -0.29498979449272156 | gen_loss: -0.20205429196357727\n",
      "Iteration: 4776 | disc_loss: -0.30802756547927856 | gen_loss: -0.20439982414245605\n",
      "Iteration: 4777 | disc_loss: -0.22165416181087494 | gen_loss: -0.24333421885967255\n",
      "Iteration: 4778 | disc_loss: -0.2714936137199402 | gen_loss: -0.17039000988006592\n"
     ]
    },
    {
     "name": "stderr",
     "output_type": "stream",
     "text": [
      " 96%|█████████▌| 4793/5001 [00:45<00:01, 109.00it/s]"
     ]
    },
    {
     "name": "stdout",
     "output_type": "stream",
     "text": [
      "Iteration: 4779 | disc_loss: -0.2064201533794403 | gen_loss: -0.24303141236305237\n",
      "Iteration: 4780 | disc_loss: -0.32598939538002014 | gen_loss: -0.2091049998998642\n",
      "Iteration: 4781 | disc_loss: -0.31345686316490173 | gen_loss: -0.2782711088657379\n",
      "Iteration: 4782 | disc_loss: -0.3164708614349365 | gen_loss: -0.2149008959531784\n",
      "Iteration: 4783 | disc_loss: -0.32280847430229187 | gen_loss: -0.29360395669937134\n",
      "Iteration: 4784 | disc_loss: -0.32287049293518066 | gen_loss: -0.18795964121818542\n",
      "Iteration: 4785 | disc_loss: -0.2508724331855774 | gen_loss: -0.2530710995197296\n",
      "Iteration: 4786 | disc_loss: -0.28535112738609314 | gen_loss: -0.19009575247764587\n",
      "Iteration: 4787 | disc_loss: -0.24069632589817047 | gen_loss: -0.27911877632141113\n",
      "Iteration: 4788 | disc_loss: -0.28990718722343445 | gen_loss: -0.20066319406032562\n",
      "Iteration: 4789 | disc_loss: -0.30826109647750854 | gen_loss: -0.2507408857345581\n",
      "Iteration: 4790 | disc_loss: -0.3043826222419739 | gen_loss: -0.2519339323043823\n",
      "Iteration: 4791 | disc_loss: -0.27186012268066406 | gen_loss: -0.24480777978897095\n",
      "Iteration: 4792 | disc_loss: -0.3398721218109131 | gen_loss: -0.3860715627670288\n",
      "Iteration: 4793 | disc_loss: -0.3492637574672699 | gen_loss: -0.3589048981666565\n",
      "Iteration: 4794 | disc_loss: -0.20544029772281647 | gen_loss: -0.23301047086715698\n",
      "Iteration: 4795 | disc_loss: -0.07769030332565308 | gen_loss: -0.16473841667175293\n",
      "Iteration: 4796 | disc_loss: -0.3291757106781006 | gen_loss: -0.23358756303787231\n",
      "Iteration: 4797 | disc_loss: -0.31799769401550293 | gen_loss: -0.3152608871459961\n",
      "Iteration: 4798 | disc_loss: 0.00946149230003357 | gen_loss: -0.22667783498764038\n",
      "Iteration: 4799 | disc_loss: -0.13289374113082886 | gen_loss: -0.22114072740077972\n",
      "Iteration: 4800 | disc_loss: -0.14434780180454254 | gen_loss: -0.18373751640319824\n"
     ]
    },
    {
     "name": "stderr",
     "output_type": "stream",
     "text": [
      " 96%|█████████▋| 4815/5001 [00:46<00:01, 100.20it/s]"
     ]
    },
    {
     "name": "stdout",
     "output_type": "stream",
     "text": [
      "Iteration: 4801 | disc_loss: -0.3308476209640503 | gen_loss: -0.2605498433113098\n",
      "Iteration: 4802 | disc_loss: -0.3996139168739319 | gen_loss: -0.2521616816520691\n",
      "Iteration: 4803 | disc_loss: -0.3065131902694702 | gen_loss: -0.117804154753685\n",
      "Iteration: 4804 | disc_loss: -0.2891393005847931 | gen_loss: -0.1733781099319458\n",
      "Iteration: 4805 | disc_loss: -0.2638024091720581 | gen_loss: -0.167314812541008\n",
      "Iteration: 4806 | disc_loss: -0.2594585418701172 | gen_loss: -0.20656374096870422\n",
      "Iteration: 4807 | disc_loss: -0.18327359855175018 | gen_loss: -0.20320317149162292\n",
      "Iteration: 4808 | disc_loss: -0.360644668340683 | gen_loss: -0.23712417483329773\n",
      "Iteration: 4809 | disc_loss: -0.08431412279605865 | gen_loss: -0.15407423675060272\n",
      "Iteration: 4810 | disc_loss: -0.2901361584663391 | gen_loss: -0.20022720098495483\n",
      "Iteration: 4811 | disc_loss: -0.22162684798240662 | gen_loss: -0.2081393301486969\n",
      "Iteration: 4812 | disc_loss: -0.29591643810272217 | gen_loss: -0.17658299207687378\n",
      "Iteration: 4813 | disc_loss: -0.2831510007381439 | gen_loss: -0.22043761610984802\n",
      "Iteration: 4814 | disc_loss: -0.2905735373497009 | gen_loss: -0.21537503600120544\n",
      "Iteration: 4815 | disc_loss: -0.2801145613193512 | gen_loss: -0.2314269095659256\n",
      "Iteration: 4816 | disc_loss: -0.2965412139892578 | gen_loss: -0.23343956470489502\n",
      "Iteration: 4817 | disc_loss: -0.28854620456695557 | gen_loss: -0.2781471908092499\n",
      "Iteration: 4818 | disc_loss: -0.20142096281051636 | gen_loss: -0.18711334466934204\n",
      "Iteration: 4819 | disc_loss: -0.13873893022537231 | gen_loss: -0.09381916373968124\n"
     ]
    },
    {
     "name": "stderr",
     "output_type": "stream",
     "text": [
      " 97%|█████████▋| 4836/5001 [00:46<00:01, 99.12it/s] "
     ]
    },
    {
     "name": "stdout",
     "output_type": "stream",
     "text": [
      "Iteration: 4820 | disc_loss: -0.3272522985935211 | gen_loss: -0.18396097421646118\n",
      "Iteration: 4821 | disc_loss: -0.3832705318927765 | gen_loss: -0.20402930676937103\n",
      "Iteration: 4822 | disc_loss: -0.26101377606391907 | gen_loss: -0.17281146347522736\n",
      "Iteration: 4823 | disc_loss: -0.34095025062561035 | gen_loss: -0.15712690353393555\n",
      "Iteration: 4824 | disc_loss: -0.30428004264831543 | gen_loss: -0.1934400349855423\n",
      "Iteration: 4825 | disc_loss: -0.3765028715133667 | gen_loss: -0.23017238080501556\n",
      "Iteration: 4826 | disc_loss: -0.2660292387008667 | gen_loss: -0.3015539050102234\n",
      "Iteration: 4827 | disc_loss: -0.30539387464523315 | gen_loss: -0.2301913946866989\n",
      "Iteration: 4828 | disc_loss: -0.2881098985671997 | gen_loss: -0.2129904329776764\n",
      "Iteration: 4829 | disc_loss: -0.31566861271858215 | gen_loss: -0.20071843266487122\n",
      "Iteration: 4830 | disc_loss: -0.33126935362815857 | gen_loss: -0.1962912678718567\n",
      "Iteration: 4831 | disc_loss: -0.2609728276729584 | gen_loss: -0.15922942757606506\n",
      "Iteration: 4832 | disc_loss: -0.28356465697288513 | gen_loss: -0.14462938904762268\n",
      "Iteration: 4833 | disc_loss: -0.251420795917511 | gen_loss: -0.17667977511882782\n",
      "Iteration: 4834 | disc_loss: -0.2511765956878662 | gen_loss: -0.2193501889705658\n",
      "Iteration: 4835 | disc_loss: -0.30544328689575195 | gen_loss: -0.15935668349266052\n",
      "Iteration: 4836 | disc_loss: -0.15650664269924164 | gen_loss: -0.23805448412895203\n",
      "Iteration: 4837 | disc_loss: -0.2810066342353821 | gen_loss: -0.18557846546173096\n",
      "Iteration: 4838 | disc_loss: -0.32746779918670654 | gen_loss: -0.20225924253463745\n",
      "Iteration: 4839 | disc_loss: -0.27494102716445923 | gen_loss: -0.18369311094284058\n"
     ]
    },
    {
     "name": "stderr",
     "output_type": "stream",
     "text": [
      " 97%|█████████▋| 4857/5001 [00:46<00:01, 100.98it/s]"
     ]
    },
    {
     "name": "stdout",
     "output_type": "stream",
     "text": [
      "Iteration: 4840 | disc_loss: -0.2859664857387543 | gen_loss: -0.22038283944129944\n",
      "Iteration: 4841 | disc_loss: -0.249600350856781 | gen_loss: -0.1985977292060852\n",
      "Iteration: 4842 | disc_loss: -0.2965458631515503 | gen_loss: -0.2298370599746704\n",
      "Iteration: 4843 | disc_loss: -0.1900329291820526 | gen_loss: -0.2152375727891922\n",
      "Iteration: 4844 | disc_loss: -0.2584795653820038 | gen_loss: -0.18782508373260498\n",
      "Iteration: 4845 | disc_loss: -0.08088469505310059 | gen_loss: -0.2534758448600769\n",
      "Iteration: 4846 | disc_loss: -0.20223252475261688 | gen_loss: -0.20691156387329102\n",
      "Iteration: 4847 | disc_loss: -0.27631738781929016 | gen_loss: -0.20996655523777008\n",
      "Iteration: 4848 | disc_loss: -0.29943132400512695 | gen_loss: -0.15546147525310516\n",
      "Iteration: 4849 | disc_loss: -0.33019131422042847 | gen_loss: -0.1644441783428192\n",
      "Iteration: 4850 | disc_loss: -0.26732492446899414 | gen_loss: -0.1291108876466751\n",
      "Iteration: 4851 | disc_loss: -0.29133492708206177 | gen_loss: -0.1818152815103531\n",
      "Iteration: 4852 | disc_loss: 0.03381246328353882 | gen_loss: -0.19195416569709778\n",
      "Iteration: 4853 | disc_loss: -0.33005544543266296 | gen_loss: -0.12414735555648804\n",
      "Iteration: 4854 | disc_loss: -0.24293577671051025 | gen_loss: -0.19331666827201843\n",
      "Iteration: 4855 | disc_loss: -0.23389631509780884 | gen_loss: -0.23495593667030334\n",
      "Iteration: 4856 | disc_loss: -0.32029271125793457 | gen_loss: -0.2392694652080536\n",
      "Iteration: 4857 | disc_loss: -0.24817116558551788 | gen_loss: -0.2545938193798065\n",
      "Iteration: 4858 | disc_loss: -0.18705680966377258 | gen_loss: -0.12494764477014542\n",
      "Iteration: 4859 | disc_loss: -0.2599654793739319 | gen_loss: -0.27673614025115967\n",
      "Iteration: 4860 | disc_loss: -0.1475241482257843 | gen_loss: -0.15471160411834717\n",
      "Iteration: 4861 | disc_loss: -0.35279127955436707 | gen_loss: -0.2159038931131363\n"
     ]
    },
    {
     "name": "stderr",
     "output_type": "stream",
     "text": [
      " 98%|█████████▊| 4880/5001 [00:46<00:01, 104.87it/s]"
     ]
    },
    {
     "name": "stdout",
     "output_type": "stream",
     "text": [
      "Iteration: 4862 | disc_loss: -0.18225106596946716 | gen_loss: -0.20644810795783997\n",
      "Iteration: 4863 | disc_loss: -0.21923792362213135 | gen_loss: -0.2425817847251892\n",
      "Iteration: 4864 | disc_loss: -0.36030396819114685 | gen_loss: -0.19049131870269775\n",
      "Iteration: 4865 | disc_loss: -0.0755392462015152 | gen_loss: -0.22359004616737366\n",
      "Iteration: 4866 | disc_loss: -0.29888173937797546 | gen_loss: -0.13071253895759583\n",
      "Iteration: 4867 | disc_loss: -0.12907280027866364 | gen_loss: -0.256858766078949\n",
      "Iteration: 4868 | disc_loss: -0.3875463902950287 | gen_loss: -0.18176022171974182\n",
      "Iteration: 4869 | disc_loss: -0.16755357384681702 | gen_loss: -0.1098889485001564\n",
      "Iteration: 4870 | disc_loss: -0.22276049852371216 | gen_loss: -0.13019481301307678\n",
      "Iteration: 4871 | disc_loss: -0.17429408431053162 | gen_loss: -0.1913367062807083\n",
      "Iteration: 4872 | disc_loss: -0.27479949593544006 | gen_loss: -0.19141194224357605\n",
      "Iteration: 4873 | disc_loss: -0.30781859159469604 | gen_loss: -0.1582045555114746\n",
      "Iteration: 4874 | disc_loss: -0.35130706429481506 | gen_loss: -0.17425233125686646\n",
      "Iteration: 4875 | disc_loss: -0.243370920419693 | gen_loss: -0.16313982009887695\n",
      "Iteration: 4876 | disc_loss: -0.34026452898979187 | gen_loss: -0.1832299828529358\n",
      "Iteration: 4877 | disc_loss: -0.31773144006729126 | gen_loss: -0.13743379712104797\n",
      "Iteration: 4878 | disc_loss: -0.334714412689209 | gen_loss: -0.21325601637363434\n",
      "Iteration: 4879 | disc_loss: -0.26616692543029785 | gen_loss: -0.16707006096839905\n",
      "Iteration: 4880 | disc_loss: -0.31419700384140015 | gen_loss: -0.21978610754013062\n",
      "Iteration: 4881 | disc_loss: -0.2830846309661865 | gen_loss: -0.1729230433702469\n",
      "Iteration: 4882 | disc_loss: -0.2876659333705902 | gen_loss: -0.15220333635807037\n",
      "Iteration: 4883 | disc_loss: -0.3052181601524353 | gen_loss: -0.17118674516677856\n"
     ]
    },
    {
     "name": "stderr",
     "output_type": "stream",
     "text": [
      " 98%|█████████▊| 4903/5001 [00:47<00:00, 108.91it/s]"
     ]
    },
    {
     "name": "stdout",
     "output_type": "stream",
     "text": [
      "Iteration: 4884 | disc_loss: -0.24019619822502136 | gen_loss: -0.2132728099822998\n",
      "Iteration: 4885 | disc_loss: -0.2613508105278015 | gen_loss: -0.2645486891269684\n",
      "Iteration: 4886 | disc_loss: -0.25060516595840454 | gen_loss: -0.19537121057510376\n",
      "Iteration: 4887 | disc_loss: -0.26968681812286377 | gen_loss: -0.16908568143844604\n",
      "Iteration: 4888 | disc_loss: -0.27837464213371277 | gen_loss: -0.2289099544286728\n",
      "Iteration: 4889 | disc_loss: -0.3482801914215088 | gen_loss: -0.24534310400485992\n",
      "Iteration: 4890 | disc_loss: -0.26546284556388855 | gen_loss: -0.17806077003479004\n",
      "Iteration: 4891 | disc_loss: -0.24521158635616302 | gen_loss: -0.12509405612945557\n",
      "Iteration: 4892 | disc_loss: -0.22842811048030853 | gen_loss: -0.15332728624343872\n",
      "Iteration: 4893 | disc_loss: -0.22109170258045197 | gen_loss: -0.12329855561256409\n",
      "Iteration: 4894 | disc_loss: -0.27249816060066223 | gen_loss: -0.22242243587970734\n",
      "Iteration: 4895 | disc_loss: -0.3174384832382202 | gen_loss: -0.22454577684402466\n",
      "Iteration: 4896 | disc_loss: -0.2667974829673767 | gen_loss: -0.1968938112258911\n",
      "Iteration: 4897 | disc_loss: -0.29704827070236206 | gen_loss: -0.2044101357460022\n",
      "Iteration: 4898 | disc_loss: -0.30685389041900635 | gen_loss: -0.19434529542922974\n",
      "Iteration: 4899 | disc_loss: -0.13971056044101715 | gen_loss: -0.18142572045326233\n",
      "Iteration: 4900 | disc_loss: -0.26217004656791687 | gen_loss: -0.14492452144622803\n",
      "Iteration: 4901 | disc_loss: -0.152375727891922 | gen_loss: -0.16414329409599304\n",
      "Iteration: 4902 | disc_loss: -0.2785443663597107 | gen_loss: -0.14588969945907593\n",
      "Iteration: 4903 | disc_loss: -0.19319790601730347 | gen_loss: -0.17614485323429108\n",
      "Iteration: 4904 | disc_loss: -0.374711811542511 | gen_loss: -0.23350751399993896\n",
      "Iteration: 4905 | disc_loss: -0.32966873049736023 | gen_loss: -0.17906174063682556\n",
      "Iteration: 4906 | disc_loss: -0.33286356925964355 | gen_loss: -0.233791321516037\n"
     ]
    },
    {
     "name": "stderr",
     "output_type": "stream",
     "text": [
      " 99%|█████████▊| 4926/5001 [00:47<00:00, 108.30it/s]"
     ]
    },
    {
     "name": "stdout",
     "output_type": "stream",
     "text": [
      "Iteration: 4907 | disc_loss: -0.2780988812446594 | gen_loss: -0.18001031875610352\n",
      "Iteration: 4908 | disc_loss: -0.35365936160087585 | gen_loss: -0.13148486614227295\n",
      "Iteration: 4909 | disc_loss: -0.3028818666934967 | gen_loss: -0.15536348521709442\n",
      "Iteration: 4910 | disc_loss: -0.2796389162540436 | gen_loss: -0.12435027956962585\n",
      "Iteration: 4911 | disc_loss: -0.23729994893074036 | gen_loss: -0.10016560554504395\n",
      "Iteration: 4912 | disc_loss: -0.23381513357162476 | gen_loss: -0.19094587862491608\n",
      "Iteration: 4913 | disc_loss: -0.3005104064941406 | gen_loss: -0.22409671545028687\n",
      "Iteration: 4914 | disc_loss: -0.158348947763443 | gen_loss: -0.16678526997566223\n",
      "Iteration: 4915 | disc_loss: -0.2727077901363373 | gen_loss: -0.156788170337677\n",
      "Iteration: 4916 | disc_loss: -0.269404798746109 | gen_loss: -0.10968481004238129\n",
      "Iteration: 4917 | disc_loss: -0.25693467259407043 | gen_loss: -0.1822361797094345\n",
      "Iteration: 4918 | disc_loss: -0.2803952693939209 | gen_loss: -0.16519728302955627\n",
      "Iteration: 4919 | disc_loss: -0.21493400633335114 | gen_loss: -0.17463217675685883\n",
      "Iteration: 4920 | disc_loss: -0.2285371571779251 | gen_loss: -0.25054436922073364\n",
      "Iteration: 4921 | disc_loss: -0.20136752724647522 | gen_loss: -0.1692602038383484\n",
      "Iteration: 4922 | disc_loss: -0.3360374867916107 | gen_loss: -0.22079525887966156\n",
      "Iteration: 4923 | disc_loss: -0.24187447130680084 | gen_loss: -0.21578416228294373\n",
      "Iteration: 4924 | disc_loss: -0.33087971806526184 | gen_loss: -0.20713475346565247\n",
      "Iteration: 4925 | disc_loss: -0.3567799925804138 | gen_loss: -0.17848773300647736\n",
      "Iteration: 4926 | disc_loss: -0.348165899515152 | gen_loss: -0.10831990092992783\n",
      "Iteration: 4927 | disc_loss: -0.24457517266273499 | gen_loss: -0.14331603050231934\n",
      "Iteration: 4928 | disc_loss: -0.2423371523618698 | gen_loss: -0.15540947020053864\n"
     ]
    },
    {
     "name": "stderr",
     "output_type": "stream",
     "text": [
      " 99%|█████████▉| 4948/5001 [00:47<00:00, 104.14it/s]"
     ]
    },
    {
     "name": "stdout",
     "output_type": "stream",
     "text": [
      "Iteration: 4929 | disc_loss: -0.3209281265735626 | gen_loss: -0.1630694568157196\n",
      "Iteration: 4930 | disc_loss: -0.2231144905090332 | gen_loss: -0.1905718743801117\n",
      "Iteration: 4931 | disc_loss: -0.31693845987319946 | gen_loss: -0.26742178201675415\n",
      "Iteration: 4932 | disc_loss: -0.23660799860954285 | gen_loss: -0.21222510933876038\n",
      "Iteration: 4933 | disc_loss: -0.2224234640598297 | gen_loss: -0.17332664132118225\n",
      "Iteration: 4934 | disc_loss: -0.2773793041706085 | gen_loss: -0.1641421914100647\n",
      "Iteration: 4935 | disc_loss: -0.28029701113700867 | gen_loss: -0.1768210381269455\n",
      "Iteration: 4936 | disc_loss: -0.3100411593914032 | gen_loss: -0.15794503688812256\n",
      "Iteration: 4937 | disc_loss: -0.3357558250427246 | gen_loss: -0.1539042890071869\n",
      "Iteration: 4938 | disc_loss: -0.2857634723186493 | gen_loss: -0.26232433319091797\n",
      "Iteration: 4939 | disc_loss: -0.30846545100212097 | gen_loss: -0.17349262535572052\n",
      "Iteration: 4940 | disc_loss: -0.33052659034729004 | gen_loss: -0.2158997803926468\n",
      "Iteration: 4941 | disc_loss: -0.2016770839691162 | gen_loss: -0.0870821624994278\n",
      "Iteration: 4942 | disc_loss: -0.2842369079589844 | gen_loss: -0.10641159862279892\n",
      "Iteration: 4943 | disc_loss: -0.2708055078983307 | gen_loss: -0.18564392626285553\n",
      "Iteration: 4944 | disc_loss: -0.2979138493537903 | gen_loss: -0.2569917142391205\n",
      "Iteration: 4945 | disc_loss: -0.2159234881401062 | gen_loss: -0.27524396777153015\n",
      "Iteration: 4946 | disc_loss: -0.24435320496559143 | gen_loss: -0.2391991913318634\n",
      "Iteration: 4947 | disc_loss: -0.29366862773895264 | gen_loss: -0.23953081667423248\n",
      "Iteration: 4948 | disc_loss: -0.3288436532020569 | gen_loss: -0.27299562096595764\n",
      "Iteration: 4949 | disc_loss: -0.24784357845783234 | gen_loss: -0.1804078370332718\n"
     ]
    },
    {
     "name": "stderr",
     "output_type": "stream",
     "text": [
      " 99%|█████████▉| 4970/5001 [00:47<00:00, 103.00it/s]"
     ]
    },
    {
     "name": "stdout",
     "output_type": "stream",
     "text": [
      "Iteration: 4950 | disc_loss: -0.32956773042678833 | gen_loss: -0.17418083548545837\n",
      "Iteration: 4951 | disc_loss: -0.3498625159263611 | gen_loss: -0.19557532668113708\n",
      "Iteration: 4952 | disc_loss: -0.3242509365081787 | gen_loss: -0.21212099492549896\n",
      "Iteration: 4953 | disc_loss: -0.29047971963882446 | gen_loss: -0.255126029253006\n",
      "Iteration: 4954 | disc_loss: -0.3547557294368744 | gen_loss: -0.15016469359397888\n",
      "Iteration: 4955 | disc_loss: -0.32002416253089905 | gen_loss: -0.19007742404937744\n",
      "Iteration: 4956 | disc_loss: -0.3713459372520447 | gen_loss: -0.20979014039039612\n",
      "Iteration: 4957 | disc_loss: -0.37098994851112366 | gen_loss: -0.22895340621471405\n",
      "Iteration: 4958 | disc_loss: -0.29771867394447327 | gen_loss: -0.22877761721611023\n",
      "Iteration: 4959 | disc_loss: -0.3748381435871124 | gen_loss: -0.21875032782554626\n",
      "Iteration: 4960 | disc_loss: -0.272062748670578 | gen_loss: -0.23007284104824066\n",
      "Iteration: 4961 | disc_loss: -0.32525214552879333 | gen_loss: -0.2647556960582733\n",
      "Iteration: 4962 | disc_loss: -0.31757551431655884 | gen_loss: -0.31659018993377686\n",
      "Iteration: 4963 | disc_loss: -0.20163995027542114 | gen_loss: -0.3093252182006836\n",
      "Iteration: 4964 | disc_loss: -0.23290616273880005 | gen_loss: -0.23506158590316772\n",
      "Iteration: 4965 | disc_loss: -0.22013291716575623 | gen_loss: -0.22281719744205475\n",
      "Iteration: 4966 | disc_loss: -0.28164878487586975 | gen_loss: -0.22613529860973358\n",
      "Iteration: 4967 | disc_loss: -0.3331873416900635 | gen_loss: -0.2839253544807434\n",
      "Iteration: 4968 | disc_loss: -0.3498237431049347 | gen_loss: -0.22332122921943665\n",
      "Iteration: 4969 | disc_loss: -0.24226291477680206 | gen_loss: -0.2198793888092041\n",
      "Iteration: 4970 | disc_loss: -0.2719607949256897 | gen_loss: -0.2632412910461426\n"
     ]
    },
    {
     "name": "stderr",
     "output_type": "stream",
     "text": [
      "100%|█████████▉| 4992/5001 [00:47<00:00, 104.19it/s]"
     ]
    },
    {
     "name": "stdout",
     "output_type": "stream",
     "text": [
      "Iteration: 4971 | disc_loss: -0.2900110185146332 | gen_loss: -0.24410566687583923\n",
      "Iteration: 4972 | disc_loss: -0.3210735619068146 | gen_loss: -0.19591695070266724\n",
      "Iteration: 4973 | disc_loss: -0.3094804286956787 | gen_loss: -0.13080580532550812\n",
      "Iteration: 4974 | disc_loss: -0.23123052716255188 | gen_loss: -0.24984890222549438\n",
      "Iteration: 4975 | disc_loss: -0.27203816175460815 | gen_loss: -0.2639930248260498\n",
      "Iteration: 4976 | disc_loss: -0.3028048872947693 | gen_loss: -0.3151787221431732\n",
      "Iteration: 4977 | disc_loss: -0.23988138139247894 | gen_loss: -0.4104172885417938\n",
      "Iteration: 4978 | disc_loss: -0.3170321583747864 | gen_loss: -0.25497254729270935\n",
      "Iteration: 4979 | disc_loss: -0.3234035074710846 | gen_loss: -0.2434963434934616\n",
      "Iteration: 4980 | disc_loss: -0.24753835797309875 | gen_loss: -0.24481333792209625\n",
      "Iteration: 4981 | disc_loss: -0.28394585847854614 | gen_loss: -0.19762016832828522\n",
      "Iteration: 4982 | disc_loss: -0.2599446773529053 | gen_loss: -0.32212576270103455\n",
      "Iteration: 4983 | disc_loss: -0.27761998772621155 | gen_loss: -0.301584392786026\n",
      "Iteration: 4984 | disc_loss: -0.3261834383010864 | gen_loss: -0.31778398156166077\n",
      "Iteration: 4985 | disc_loss: -0.3276013135910034 | gen_loss: -0.2368774712085724\n",
      "Iteration: 4986 | disc_loss: -0.21834973990917206 | gen_loss: -0.29080092906951904\n",
      "Iteration: 4987 | disc_loss: -0.3277178704738617 | gen_loss: -0.19025737047195435\n",
      "Iteration: 4988 | disc_loss: -0.2056402564048767 | gen_loss: -0.2975040078163147\n",
      "Iteration: 4989 | disc_loss: -0.13497033715248108 | gen_loss: -0.17553028464317322\n",
      "Iteration: 4990 | disc_loss: -0.3173312842845917 | gen_loss: -0.22321167588233948\n",
      "Iteration: 4991 | disc_loss: -0.19372084736824036 | gen_loss: -0.22423578798770905\n",
      "Iteration: 4992 | disc_loss: -0.3215947449207306 | gen_loss: -0.2015572488307953\n"
     ]
    },
    {
     "name": "stderr",
     "output_type": "stream",
     "text": [
      "100%|██████████| 5001/5001 [00:47<00:00, 104.20it/s]"
     ]
    },
    {
     "name": "stdout",
     "output_type": "stream",
     "text": [
      "Iteration: 4993 | disc_loss: -0.2601969838142395 | gen_loss: -0.2126944363117218\n",
      "Iteration: 4994 | disc_loss: -0.32018670439720154 | gen_loss: -0.31660813093185425\n",
      "Iteration: 4995 | disc_loss: -0.3047751784324646 | gen_loss: -0.2289552390575409\n",
      "Iteration: 4996 | disc_loss: -0.28828737139701843 | gen_loss: -0.17230179905891418\n",
      "Iteration: 4997 | disc_loss: -0.22173307836055756 | gen_loss: -0.18372629582881927\n",
      "Iteration: 4998 | disc_loss: -0.23866677284240723 | gen_loss: -0.2788621783256531\n",
      "Iteration: 4999 | disc_loss: -0.2857397496700287 | gen_loss: -0.19243264198303223\n",
      "Iteration: 5000 | disc_loss: -0.258192241191864 | gen_loss: -0.27627870440483093\n"
     ]
    },
    {
     "name": "stderr",
     "output_type": "stream",
     "text": [
      "\n"
     ]
    }
   ],
   "source": [
    "#Training the GAN model chosen: Vanilla GAN, CGAN, DCGAN, etc.\n",
    "synthesizer = WGAN_GP(gan_args, n_critic=2)\n",
    "synthesizer.train(data_train, train_args)"
   ]
  },
  {
   "cell_type": "code",
   "execution_count": 48,
   "metadata": {},
   "outputs": [
    {
     "name": "stdout",
     "output_type": "stream",
     "text": [
      "Model: \"model_2\"\n",
      "_________________________________________________________________\n",
      "Layer (type)                 Output Shape              Param #   \n",
      "=================================================================\n",
      "input_3 (InputLayer)         [(32, 32)]                0         \n",
      "_________________________________________________________________\n",
      "dense_8 (Dense)              (32, 128)                 4224      \n",
      "_________________________________________________________________\n",
      "dense_9 (Dense)              (32, 256)                 33024     \n",
      "_________________________________________________________________\n",
      "dense_10 (Dense)             (32, 512)                 131584    \n",
      "_________________________________________________________________\n",
      "dense_11 (Dense)             (32, 27)                  13851     \n",
      "=================================================================\n",
      "Total params: 182,683\n",
      "Trainable params: 182,683\n",
      "Non-trainable params: 0\n",
      "_________________________________________________________________\n"
     ]
    }
   ],
   "source": [
    "synthesizer.generator.summary()"
   ]
  },
  {
   "cell_type": "code",
   "execution_count": 49,
   "metadata": {},
   "outputs": [
    {
     "name": "stdout",
     "output_type": "stream",
     "text": [
      "Model: \"model_3\"\n",
      "_________________________________________________________________\n",
      "Layer (type)                 Output Shape              Param #   \n",
      "=================================================================\n",
      "input_4 (InputLayer)         [(32, 27)]                0         \n",
      "_________________________________________________________________\n",
      "dense_12 (Dense)             (32, 512)                 14336     \n",
      "_________________________________________________________________\n",
      "dropout_2 (Dropout)          (32, 512)                 0         \n",
      "_________________________________________________________________\n",
      "dense_13 (Dense)             (32, 256)                 131328    \n",
      "_________________________________________________________________\n",
      "dropout_3 (Dropout)          (32, 256)                 0         \n",
      "_________________________________________________________________\n",
      "dense_14 (Dense)             (32, 128)                 32896     \n",
      "_________________________________________________________________\n",
      "dense_15 (Dense)             (32, 1)                   129       \n",
      "=================================================================\n",
      "Total params: 178,689\n",
      "Trainable params: 178,689\n",
      "Non-trainable params: 0\n",
      "_________________________________________________________________\n"
     ]
    }
   ],
   "source": [
    "synthesizer.critic.summary()"
   ]
  },
  {
   "cell_type": "markdown",
   "metadata": {},
   "source": [
    "## Generate data"
   ]
  },
  {
   "cell_type": "code",
   "execution_count": 50,
   "metadata": {},
   "outputs": [
    {
     "name": "stderr",
     "output_type": "stream",
     "text": [
      "Synthetic data generation: 100%|██████████| 37/37 [00:00<00:00, 470.37it/s]\n"
     ]
    },
    {
     "data": {
      "text/html": [
       "<div>\n",
       "<style scoped>\n",
       "    .dataframe tbody tr th:only-of-type {\n",
       "        vertical-align: middle;\n",
       "    }\n",
       "\n",
       "    .dataframe tbody tr th {\n",
       "        vertical-align: top;\n",
       "    }\n",
       "\n",
       "    .dataframe thead th {\n",
       "        text-align: right;\n",
       "    }\n",
       "</style>\n",
       "<table border=\"1\" class=\"dataframe\">\n",
       "  <thead>\n",
       "    <tr style=\"text-align: right;\">\n",
       "      <th></th>\n",
       "      <th>wife_age</th>\n",
       "      <th>children</th>\n",
       "      <th>wife_education0</th>\n",
       "      <th>wife_education1</th>\n",
       "      <th>wife_education2</th>\n",
       "      <th>wife_education3</th>\n",
       "      <th>husband_education0</th>\n",
       "      <th>husband_education1</th>\n",
       "      <th>husband_education2</th>\n",
       "      <th>husband_education3</th>\n",
       "      <th>...</th>\n",
       "      <th>husband_occupation3</th>\n",
       "      <th>standard_of_living_index0</th>\n",
       "      <th>standard_of_living_index1</th>\n",
       "      <th>standard_of_living_index2</th>\n",
       "      <th>standard_of_living_index3</th>\n",
       "      <th>media_exposure0</th>\n",
       "      <th>media_exposure1</th>\n",
       "      <th>contraceptive_method_used0</th>\n",
       "      <th>contraceptive_method_used1</th>\n",
       "      <th>contraceptive_method_used2</th>\n",
       "    </tr>\n",
       "  </thead>\n",
       "  <tbody>\n",
       "    <tr>\n",
       "      <th>0</th>\n",
       "      <td>0.041262</td>\n",
       "      <td>0.575753</td>\n",
       "      <td>-0.333564</td>\n",
       "      <td>1.487782</td>\n",
       "      <td>-0.452715</td>\n",
       "      <td>-0.646532</td>\n",
       "      <td>-0.153525</td>\n",
       "      <td>-0.397608</td>\n",
       "      <td>1.499044</td>\n",
       "      <td>-0.979684</td>\n",
       "      <td>...</td>\n",
       "      <td>-0.072644</td>\n",
       "      <td>-0.235206</td>\n",
       "      <td>-0.441936</td>\n",
       "      <td>0.462973</td>\n",
       "      <td>0.082499</td>\n",
       "      <td>0.292335</td>\n",
       "      <td>-0.295325</td>\n",
       "      <td>1.117450</td>\n",
       "      <td>-0.508416</td>\n",
       "      <td>-0.635430</td>\n",
       "    </tr>\n",
       "    <tr>\n",
       "      <th>1</th>\n",
       "      <td>-0.486584</td>\n",
       "      <td>-0.500259</td>\n",
       "      <td>1.050721</td>\n",
       "      <td>-0.610915</td>\n",
       "      <td>0.275064</td>\n",
       "      <td>-0.379395</td>\n",
       "      <td>-0.183010</td>\n",
       "      <td>0.904812</td>\n",
       "      <td>-0.435649</td>\n",
       "      <td>-0.129896</td>\n",
       "      <td>...</td>\n",
       "      <td>-0.069203</td>\n",
       "      <td>-0.308492</td>\n",
       "      <td>-0.418836</td>\n",
       "      <td>1.041300</td>\n",
       "      <td>-0.493457</td>\n",
       "      <td>0.284816</td>\n",
       "      <td>-0.342129</td>\n",
       "      <td>-0.871044</td>\n",
       "      <td>-0.560318</td>\n",
       "      <td>1.398291</td>\n",
       "    </tr>\n",
       "    <tr>\n",
       "      <th>2</th>\n",
       "      <td>-1.198634</td>\n",
       "      <td>-0.261795</td>\n",
       "      <td>0.022326</td>\n",
       "      <td>-0.674268</td>\n",
       "      <td>1.460376</td>\n",
       "      <td>-0.784323</td>\n",
       "      <td>-0.222797</td>\n",
       "      <td>-0.080280</td>\n",
       "      <td>-0.635848</td>\n",
       "      <td>0.699905</td>\n",
       "      <td>...</td>\n",
       "      <td>-0.049803</td>\n",
       "      <td>-0.279669</td>\n",
       "      <td>-0.409544</td>\n",
       "      <td>1.508836</td>\n",
       "      <td>-0.948879</td>\n",
       "      <td>0.351463</td>\n",
       "      <td>-0.300483</td>\n",
       "      <td>-0.896236</td>\n",
       "      <td>-0.462573</td>\n",
       "      <td>1.329178</td>\n",
       "    </tr>\n",
       "    <tr>\n",
       "      <th>3</th>\n",
       "      <td>-0.263285</td>\n",
       "      <td>-0.806098</td>\n",
       "      <td>2.008478</td>\n",
       "      <td>-0.248528</td>\n",
       "      <td>-0.294872</td>\n",
       "      <td>-0.752149</td>\n",
       "      <td>-0.144604</td>\n",
       "      <td>1.732996</td>\n",
       "      <td>-0.280785</td>\n",
       "      <td>-0.788010</td>\n",
       "      <td>...</td>\n",
       "      <td>0.006598</td>\n",
       "      <td>-0.205523</td>\n",
       "      <td>-0.370789</td>\n",
       "      <td>1.236776</td>\n",
       "      <td>-0.731148</td>\n",
       "      <td>0.256661</td>\n",
       "      <td>-0.323608</td>\n",
       "      <td>-0.799985</td>\n",
       "      <td>-0.569496</td>\n",
       "      <td>1.249370</td>\n",
       "    </tr>\n",
       "    <tr>\n",
       "      <th>4</th>\n",
       "      <td>-0.339441</td>\n",
       "      <td>-0.283293</td>\n",
       "      <td>1.540702</td>\n",
       "      <td>-0.001024</td>\n",
       "      <td>-0.308725</td>\n",
       "      <td>-0.668259</td>\n",
       "      <td>-0.154376</td>\n",
       "      <td>1.284853</td>\n",
       "      <td>-0.328449</td>\n",
       "      <td>-0.430764</td>\n",
       "      <td>...</td>\n",
       "      <td>-0.090652</td>\n",
       "      <td>-0.244997</td>\n",
       "      <td>-0.307725</td>\n",
       "      <td>1.169736</td>\n",
       "      <td>-0.741154</td>\n",
       "      <td>0.312341</td>\n",
       "      <td>-0.281885</td>\n",
       "      <td>-0.709202</td>\n",
       "      <td>-0.432207</td>\n",
       "      <td>1.076655</td>\n",
       "    </tr>\n",
       "    <tr>\n",
       "      <th>...</th>\n",
       "      <td>...</td>\n",
       "      <td>...</td>\n",
       "      <td>...</td>\n",
       "      <td>...</td>\n",
       "      <td>...</td>\n",
       "      <td>...</td>\n",
       "      <td>...</td>\n",
       "      <td>...</td>\n",
       "      <td>...</td>\n",
       "      <td>...</td>\n",
       "      <td>...</td>\n",
       "      <td>...</td>\n",
       "      <td>...</td>\n",
       "      <td>...</td>\n",
       "      <td>...</td>\n",
       "      <td>...</td>\n",
       "      <td>...</td>\n",
       "      <td>...</td>\n",
       "      <td>...</td>\n",
       "      <td>...</td>\n",
       "      <td>...</td>\n",
       "    </tr>\n",
       "    <tr>\n",
       "      <th>27</th>\n",
       "      <td>-1.169248</td>\n",
       "      <td>-0.077769</td>\n",
       "      <td>-0.238903</td>\n",
       "      <td>-0.683780</td>\n",
       "      <td>1.670864</td>\n",
       "      <td>-0.810905</td>\n",
       "      <td>-0.227774</td>\n",
       "      <td>-0.330469</td>\n",
       "      <td>-0.408484</td>\n",
       "      <td>0.635933</td>\n",
       "      <td>...</td>\n",
       "      <td>-0.122380</td>\n",
       "      <td>-0.274812</td>\n",
       "      <td>-0.448859</td>\n",
       "      <td>1.465709</td>\n",
       "      <td>-0.859874</td>\n",
       "      <td>0.304525</td>\n",
       "      <td>-0.303363</td>\n",
       "      <td>-0.910505</td>\n",
       "      <td>-0.552939</td>\n",
       "      <td>1.480191</td>\n",
       "    </tr>\n",
       "    <tr>\n",
       "      <th>28</th>\n",
       "      <td>-0.332042</td>\n",
       "      <td>-0.885908</td>\n",
       "      <td>2.295120</td>\n",
       "      <td>-0.428776</td>\n",
       "      <td>-0.415797</td>\n",
       "      <td>-0.693390</td>\n",
       "      <td>-0.186841</td>\n",
       "      <td>2.066837</td>\n",
       "      <td>-0.344231</td>\n",
       "      <td>-0.940456</td>\n",
       "      <td>...</td>\n",
       "      <td>0.005959</td>\n",
       "      <td>-0.268309</td>\n",
       "      <td>-0.355028</td>\n",
       "      <td>1.180648</td>\n",
       "      <td>-0.642017</td>\n",
       "      <td>0.317775</td>\n",
       "      <td>-0.383868</td>\n",
       "      <td>-0.817269</td>\n",
       "      <td>-0.579161</td>\n",
       "      <td>1.216070</td>\n",
       "    </tr>\n",
       "    <tr>\n",
       "      <th>29</th>\n",
       "      <td>-0.140356</td>\n",
       "      <td>-0.768149</td>\n",
       "      <td>1.423506</td>\n",
       "      <td>-0.654819</td>\n",
       "      <td>-0.547308</td>\n",
       "      <td>0.107847</td>\n",
       "      <td>-0.174829</td>\n",
       "      <td>1.223612</td>\n",
       "      <td>-0.586644</td>\n",
       "      <td>-0.190768</td>\n",
       "      <td>...</td>\n",
       "      <td>-0.074718</td>\n",
       "      <td>-0.356046</td>\n",
       "      <td>-0.421443</td>\n",
       "      <td>0.659109</td>\n",
       "      <td>-0.142564</td>\n",
       "      <td>0.354661</td>\n",
       "      <td>-0.386588</td>\n",
       "      <td>-0.755625</td>\n",
       "      <td>-0.546015</td>\n",
       "      <td>1.270989</td>\n",
       "    </tr>\n",
       "    <tr>\n",
       "      <th>30</th>\n",
       "      <td>-0.485154</td>\n",
       "      <td>-0.826825</td>\n",
       "      <td>2.360950</td>\n",
       "      <td>-0.437955</td>\n",
       "      <td>-0.400724</td>\n",
       "      <td>-0.767465</td>\n",
       "      <td>-0.182251</td>\n",
       "      <td>2.025248</td>\n",
       "      <td>-0.350542</td>\n",
       "      <td>-0.926783</td>\n",
       "      <td>...</td>\n",
       "      <td>-0.062364</td>\n",
       "      <td>-0.216452</td>\n",
       "      <td>-0.344981</td>\n",
       "      <td>1.306594</td>\n",
       "      <td>-0.811295</td>\n",
       "      <td>0.294048</td>\n",
       "      <td>-0.295846</td>\n",
       "      <td>-0.786619</td>\n",
       "      <td>-0.523681</td>\n",
       "      <td>1.173622</td>\n",
       "    </tr>\n",
       "    <tr>\n",
       "      <th>31</th>\n",
       "      <td>0.330043</td>\n",
       "      <td>0.056304</td>\n",
       "      <td>-0.331950</td>\n",
       "      <td>1.665110</td>\n",
       "      <td>-0.553928</td>\n",
       "      <td>-0.692732</td>\n",
       "      <td>-0.131600</td>\n",
       "      <td>-0.382439</td>\n",
       "      <td>-0.556631</td>\n",
       "      <td>0.809495</td>\n",
       "      <td>...</td>\n",
       "      <td>-0.091783</td>\n",
       "      <td>-0.189105</td>\n",
       "      <td>-0.403893</td>\n",
       "      <td>1.406857</td>\n",
       "      <td>-0.861874</td>\n",
       "      <td>0.206932</td>\n",
       "      <td>-0.232454</td>\n",
       "      <td>-0.752830</td>\n",
       "      <td>-0.495664</td>\n",
       "      <td>1.255374</td>\n",
       "    </tr>\n",
       "  </tbody>\n",
       "</table>\n",
       "<p>1184 rows × 27 columns</p>\n",
       "</div>"
      ],
      "text/plain": [
       "    wife_age  children  wife_education0  wife_education1  wife_education2  \\\n",
       "0   0.041262  0.575753        -0.333564         1.487782        -0.452715   \n",
       "1  -0.486584 -0.500259         1.050721        -0.610915         0.275064   \n",
       "2  -1.198634 -0.261795         0.022326        -0.674268         1.460376   \n",
       "3  -0.263285 -0.806098         2.008478        -0.248528        -0.294872   \n",
       "4  -0.339441 -0.283293         1.540702        -0.001024        -0.308725   \n",
       "..       ...       ...              ...              ...              ...   \n",
       "27 -1.169248 -0.077769        -0.238903        -0.683780         1.670864   \n",
       "28 -0.332042 -0.885908         2.295120        -0.428776        -0.415797   \n",
       "29 -0.140356 -0.768149         1.423506        -0.654819        -0.547308   \n",
       "30 -0.485154 -0.826825         2.360950        -0.437955        -0.400724   \n",
       "31  0.330043  0.056304        -0.331950         1.665110        -0.553928   \n",
       "\n",
       "    wife_education3  husband_education0  husband_education1  \\\n",
       "0         -0.646532           -0.153525           -0.397608   \n",
       "1         -0.379395           -0.183010            0.904812   \n",
       "2         -0.784323           -0.222797           -0.080280   \n",
       "3         -0.752149           -0.144604            1.732996   \n",
       "4         -0.668259           -0.154376            1.284853   \n",
       "..              ...                 ...                 ...   \n",
       "27        -0.810905           -0.227774           -0.330469   \n",
       "28        -0.693390           -0.186841            2.066837   \n",
       "29         0.107847           -0.174829            1.223612   \n",
       "30        -0.767465           -0.182251            2.025248   \n",
       "31        -0.692732           -0.131600           -0.382439   \n",
       "\n",
       "    husband_education2  husband_education3  ...  husband_occupation3  \\\n",
       "0             1.499044           -0.979684  ...            -0.072644   \n",
       "1            -0.435649           -0.129896  ...            -0.069203   \n",
       "2            -0.635848            0.699905  ...            -0.049803   \n",
       "3            -0.280785           -0.788010  ...             0.006598   \n",
       "4            -0.328449           -0.430764  ...            -0.090652   \n",
       "..                 ...                 ...  ...                  ...   \n",
       "27           -0.408484            0.635933  ...            -0.122380   \n",
       "28           -0.344231           -0.940456  ...             0.005959   \n",
       "29           -0.586644           -0.190768  ...            -0.074718   \n",
       "30           -0.350542           -0.926783  ...            -0.062364   \n",
       "31           -0.556631            0.809495  ...            -0.091783   \n",
       "\n",
       "    standard_of_living_index0  standard_of_living_index1  \\\n",
       "0                   -0.235206                  -0.441936   \n",
       "1                   -0.308492                  -0.418836   \n",
       "2                   -0.279669                  -0.409544   \n",
       "3                   -0.205523                  -0.370789   \n",
       "4                   -0.244997                  -0.307725   \n",
       "..                        ...                        ...   \n",
       "27                  -0.274812                  -0.448859   \n",
       "28                  -0.268309                  -0.355028   \n",
       "29                  -0.356046                  -0.421443   \n",
       "30                  -0.216452                  -0.344981   \n",
       "31                  -0.189105                  -0.403893   \n",
       "\n",
       "    standard_of_living_index2  standard_of_living_index3  media_exposure0  \\\n",
       "0                    0.462973                   0.082499         0.292335   \n",
       "1                    1.041300                  -0.493457         0.284816   \n",
       "2                    1.508836                  -0.948879         0.351463   \n",
       "3                    1.236776                  -0.731148         0.256661   \n",
       "4                    1.169736                  -0.741154         0.312341   \n",
       "..                        ...                        ...              ...   \n",
       "27                   1.465709                  -0.859874         0.304525   \n",
       "28                   1.180648                  -0.642017         0.317775   \n",
       "29                   0.659109                  -0.142564         0.354661   \n",
       "30                   1.306594                  -0.811295         0.294048   \n",
       "31                   1.406857                  -0.861874         0.206932   \n",
       "\n",
       "    media_exposure1  contraceptive_method_used0  contraceptive_method_used1  \\\n",
       "0         -0.295325                    1.117450                   -0.508416   \n",
       "1         -0.342129                   -0.871044                   -0.560318   \n",
       "2         -0.300483                   -0.896236                   -0.462573   \n",
       "3         -0.323608                   -0.799985                   -0.569496   \n",
       "4         -0.281885                   -0.709202                   -0.432207   \n",
       "..              ...                         ...                         ...   \n",
       "27        -0.303363                   -0.910505                   -0.552939   \n",
       "28        -0.383868                   -0.817269                   -0.579161   \n",
       "29        -0.386588                   -0.755625                   -0.546015   \n",
       "30        -0.295846                   -0.786619                   -0.523681   \n",
       "31        -0.232454                   -0.752830                   -0.495664   \n",
       "\n",
       "    contraceptive_method_used2  \n",
       "0                    -0.635430  \n",
       "1                     1.398291  \n",
       "2                     1.329178  \n",
       "3                     1.249370  \n",
       "4                     1.076655  \n",
       "..                         ...  \n",
       "27                    1.480191  \n",
       "28                    1.216070  \n",
       "29                    1.270989  \n",
       "30                    1.173622  \n",
       "31                    1.255374  \n",
       "\n",
       "[1184 rows x 27 columns]"
      ]
     },
     "execution_count": 50,
     "metadata": {},
     "output_type": "execute_result"
    }
   ],
   "source": [
    "size = len(data_train)\n",
    "generated_samples = synthesizer.sample(size)\n",
    "generated_samples.columns = data_train.columns\n",
    "generated_samples"
   ]
  },
  {
   "cell_type": "markdown",
   "metadata": {},
   "source": [
    "## Transform and process generated data"
   ]
  },
  {
   "cell_type": "code",
   "execution_count": 51,
   "metadata": {},
   "outputs": [
    {
     "data": {
      "text/html": [
       "<div>\n",
       "<style scoped>\n",
       "    .dataframe tbody tr th:only-of-type {\n",
       "        vertical-align: middle;\n",
       "    }\n",
       "\n",
       "    .dataframe tbody tr th {\n",
       "        vertical-align: top;\n",
       "    }\n",
       "\n",
       "    .dataframe thead th {\n",
       "        text-align: right;\n",
       "    }\n",
       "</style>\n",
       "<table border=\"1\" class=\"dataframe\">\n",
       "  <thead>\n",
       "    <tr style=\"text-align: right;\">\n",
       "      <th></th>\n",
       "      <th>wife_age</th>\n",
       "      <th>wife_education</th>\n",
       "      <th>husband_education</th>\n",
       "      <th>children</th>\n",
       "      <th>wife_religion</th>\n",
       "      <th>wife_working</th>\n",
       "      <th>husband_occupation</th>\n",
       "      <th>standard_of_living_index</th>\n",
       "      <th>media_exposure</th>\n",
       "      <th>contraceptive_method_used</th>\n",
       "    </tr>\n",
       "  </thead>\n",
       "  <tbody>\n",
       "    <tr>\n",
       "      <th>0</th>\n",
       "      <td>33</td>\n",
       "      <td>2</td>\n",
       "      <td>3</td>\n",
       "      <td>4</td>\n",
       "      <td>1</td>\n",
       "      <td>1</td>\n",
       "      <td>2</td>\n",
       "      <td>4</td>\n",
       "      <td>0</td>\n",
       "      <td>1</td>\n",
       "    </tr>\n",
       "    <tr>\n",
       "      <th>1</th>\n",
       "      <td>28</td>\n",
       "      <td>1</td>\n",
       "      <td>4</td>\n",
       "      <td>2</td>\n",
       "      <td>1</td>\n",
       "      <td>1</td>\n",
       "      <td>3</td>\n",
       "      <td>3</td>\n",
       "      <td>0</td>\n",
       "      <td>3</td>\n",
       "    </tr>\n",
       "    <tr>\n",
       "      <th>2</th>\n",
       "      <td>22</td>\n",
       "      <td>3</td>\n",
       "      <td>4</td>\n",
       "      <td>2</td>\n",
       "      <td>1</td>\n",
       "      <td>1</td>\n",
       "      <td>2</td>\n",
       "      <td>3</td>\n",
       "      <td>0</td>\n",
       "      <td>3</td>\n",
       "    </tr>\n",
       "    <tr>\n",
       "      <th>3</th>\n",
       "      <td>30</td>\n",
       "      <td>1</td>\n",
       "      <td>2</td>\n",
       "      <td>1</td>\n",
       "      <td>1</td>\n",
       "      <td>1</td>\n",
       "      <td>3</td>\n",
       "      <td>3</td>\n",
       "      <td>0</td>\n",
       "      <td>3</td>\n",
       "    </tr>\n",
       "    <tr>\n",
       "      <th>4</th>\n",
       "      <td>30</td>\n",
       "      <td>1</td>\n",
       "      <td>2</td>\n",
       "      <td>2</td>\n",
       "      <td>1</td>\n",
       "      <td>1</td>\n",
       "      <td>3</td>\n",
       "      <td>3</td>\n",
       "      <td>0</td>\n",
       "      <td>3</td>\n",
       "    </tr>\n",
       "    <tr>\n",
       "      <th>...</th>\n",
       "      <td>...</td>\n",
       "      <td>...</td>\n",
       "      <td>...</td>\n",
       "      <td>...</td>\n",
       "      <td>...</td>\n",
       "      <td>...</td>\n",
       "      <td>...</td>\n",
       "      <td>...</td>\n",
       "      <td>...</td>\n",
       "      <td>...</td>\n",
       "    </tr>\n",
       "    <tr>\n",
       "      <th>21</th>\n",
       "      <td>31</td>\n",
       "      <td>1</td>\n",
       "      <td>4</td>\n",
       "      <td>3</td>\n",
       "      <td>1</td>\n",
       "      <td>1</td>\n",
       "      <td>2</td>\n",
       "      <td>3</td>\n",
       "      <td>0</td>\n",
       "      <td>3</td>\n",
       "    </tr>\n",
       "    <tr>\n",
       "      <th>22</th>\n",
       "      <td>29</td>\n",
       "      <td>1</td>\n",
       "      <td>2</td>\n",
       "      <td>0</td>\n",
       "      <td>1</td>\n",
       "      <td>1</td>\n",
       "      <td>3</td>\n",
       "      <td>3</td>\n",
       "      <td>0</td>\n",
       "      <td>3</td>\n",
       "    </tr>\n",
       "    <tr>\n",
       "      <th>23</th>\n",
       "      <td>29</td>\n",
       "      <td>3</td>\n",
       "      <td>4</td>\n",
       "      <td>3</td>\n",
       "      <td>1</td>\n",
       "      <td>0</td>\n",
       "      <td>2</td>\n",
       "      <td>3</td>\n",
       "      <td>0</td>\n",
       "      <td>3</td>\n",
       "    </tr>\n",
       "    <tr>\n",
       "      <th>24</th>\n",
       "      <td>34</td>\n",
       "      <td>2</td>\n",
       "      <td>4</td>\n",
       "      <td>4</td>\n",
       "      <td>1</td>\n",
       "      <td>1</td>\n",
       "      <td>2</td>\n",
       "      <td>3</td>\n",
       "      <td>0</td>\n",
       "      <td>3</td>\n",
       "    </tr>\n",
       "    <tr>\n",
       "      <th>25</th>\n",
       "      <td>31</td>\n",
       "      <td>1</td>\n",
       "      <td>2</td>\n",
       "      <td>2</td>\n",
       "      <td>1</td>\n",
       "      <td>1</td>\n",
       "      <td>3</td>\n",
       "      <td>3</td>\n",
       "      <td>0</td>\n",
       "      <td>3</td>\n",
       "    </tr>\n",
       "  </tbody>\n",
       "</table>\n",
       "<p>1178 rows × 10 columns</p>\n",
       "</div>"
      ],
      "text/plain": [
       "    wife_age  wife_education  husband_education  children  wife_religion  \\\n",
       "0         33               2                  3         4              1   \n",
       "1         28               1                  4         2              1   \n",
       "2         22               3                  4         2              1   \n",
       "3         30               1                  2         1              1   \n",
       "4         30               1                  2         2              1   \n",
       "..       ...             ...                ...       ...            ...   \n",
       "21        31               1                  4         3              1   \n",
       "22        29               1                  2         0              1   \n",
       "23        29               3                  4         3              1   \n",
       "24        34               2                  4         4              1   \n",
       "25        31               1                  2         2              1   \n",
       "\n",
       "    wife_working  husband_occupation  standard_of_living_index  \\\n",
       "0              1                   2                         4   \n",
       "1              1                   3                         3   \n",
       "2              1                   2                         3   \n",
       "3              1                   3                         3   \n",
       "4              1                   3                         3   \n",
       "..           ...                 ...                       ...   \n",
       "21             1                   2                         3   \n",
       "22             1                   3                         3   \n",
       "23             0                   2                         3   \n",
       "24             1                   2                         3   \n",
       "25             1                   3                         3   \n",
       "\n",
       "    media_exposure  contraceptive_method_used  \n",
       "0                0                          1  \n",
       "1                0                          3  \n",
       "2                0                          3  \n",
       "3                0                          3  \n",
       "4                0                          3  \n",
       "..             ...                        ...  \n",
       "21               0                          3  \n",
       "22               0                          3  \n",
       "23               0                          3  \n",
       "24               0                          3  \n",
       "25               0                          3  \n",
       "\n",
       "[1178 rows x 10 columns]"
      ]
     },
     "execution_count": 51,
     "metadata": {},
     "output_type": "execute_result"
    }
   ],
   "source": [
    "synthetic_data = preprocessor.transform_data(generated_samples)\n",
    "synthetic_data = synthetic_data[0:len(real_data)]\n",
    "synthetic_data"
   ]
  },
  {
   "cell_type": "code",
   "execution_count": 52,
   "metadata": {},
   "outputs": [
    {
     "name": "stdout",
     "output_type": "stream",
     "text": [
      "wife_age                        int64\n",
      "wife_education               category\n",
      "husband_education            category\n",
      "children                        int64\n",
      "wife_religion                category\n",
      "wife_working                 category\n",
      "husband_occupation           category\n",
      "standard_of_living_index     category\n",
      "media_exposure               category\n",
      "contraceptive_method_used    category\n",
      "dtype: object \n",
      " wife_age                     int64\n",
      "wife_education               int64\n",
      "husband_education            int64\n",
      "children                     int64\n",
      "wife_religion                int64\n",
      "wife_working                 int64\n",
      "husband_occupation           int64\n",
      "standard_of_living_index     int64\n",
      "media_exposure               int64\n",
      "contraceptive_method_used    int64\n",
      "dtype: object\n",
      "(1178, 10) (1178, 10)\n"
     ]
    }
   ],
   "source": [
    "print(real_data.dtypes, '\\n', synthetic_data.dtypes)\n",
    "print(real_data.shape, synthetic_data.shape)"
   ]
  },
  {
   "cell_type": "code",
   "execution_count": 53,
   "metadata": {},
   "outputs": [
    {
     "data": {
      "text/html": [
       "<div>\n",
       "<style scoped>\n",
       "    .dataframe tbody tr th:only-of-type {\n",
       "        vertical-align: middle;\n",
       "    }\n",
       "\n",
       "    .dataframe tbody tr th {\n",
       "        vertical-align: top;\n",
       "    }\n",
       "\n",
       "    .dataframe thead th {\n",
       "        text-align: right;\n",
       "    }\n",
       "</style>\n",
       "<table border=\"1\" class=\"dataframe\">\n",
       "  <thead>\n",
       "    <tr style=\"text-align: right;\">\n",
       "      <th></th>\n",
       "      <th>wife_age</th>\n",
       "      <th>children</th>\n",
       "    </tr>\n",
       "  </thead>\n",
       "  <tbody>\n",
       "    <tr>\n",
       "      <th>count</th>\n",
       "      <td>1178.000000</td>\n",
       "      <td>1178.000000</td>\n",
       "    </tr>\n",
       "    <tr>\n",
       "      <th>mean</th>\n",
       "      <td>32.829372</td>\n",
       "      <td>3.345501</td>\n",
       "    </tr>\n",
       "    <tr>\n",
       "      <th>std</th>\n",
       "      <td>8.332956</td>\n",
       "      <td>2.425505</td>\n",
       "    </tr>\n",
       "    <tr>\n",
       "      <th>min</th>\n",
       "      <td>16.000000</td>\n",
       "      <td>0.000000</td>\n",
       "    </tr>\n",
       "    <tr>\n",
       "      <th>25%</th>\n",
       "      <td>26.000000</td>\n",
       "      <td>2.000000</td>\n",
       "    </tr>\n",
       "    <tr>\n",
       "      <th>50%</th>\n",
       "      <td>32.000000</td>\n",
       "      <td>3.000000</td>\n",
       "    </tr>\n",
       "    <tr>\n",
       "      <th>75%</th>\n",
       "      <td>39.000000</td>\n",
       "      <td>5.000000</td>\n",
       "    </tr>\n",
       "    <tr>\n",
       "      <th>max</th>\n",
       "      <td>49.000000</td>\n",
       "      <td>16.000000</td>\n",
       "    </tr>\n",
       "  </tbody>\n",
       "</table>\n",
       "</div>"
      ],
      "text/plain": [
       "          wife_age     children\n",
       "count  1178.000000  1178.000000\n",
       "mean     32.829372     3.345501\n",
       "std       8.332956     2.425505\n",
       "min      16.000000     0.000000\n",
       "25%      26.000000     2.000000\n",
       "50%      32.000000     3.000000\n",
       "75%      39.000000     5.000000\n",
       "max      49.000000    16.000000"
      ]
     },
     "execution_count": 53,
     "metadata": {},
     "output_type": "execute_result"
    }
   ],
   "source": [
    "real_data.describe()"
   ]
  },
  {
   "cell_type": "code",
   "execution_count": 54,
   "metadata": {},
   "outputs": [
    {
     "data": {
      "text/html": [
       "<div>\n",
       "<style scoped>\n",
       "    .dataframe tbody tr th:only-of-type {\n",
       "        vertical-align: middle;\n",
       "    }\n",
       "\n",
       "    .dataframe tbody tr th {\n",
       "        vertical-align: top;\n",
       "    }\n",
       "\n",
       "    .dataframe thead th {\n",
       "        text-align: right;\n",
       "    }\n",
       "</style>\n",
       "<table border=\"1\" class=\"dataframe\">\n",
       "  <thead>\n",
       "    <tr style=\"text-align: right;\">\n",
       "      <th></th>\n",
       "      <th>wife_age</th>\n",
       "      <th>wife_education</th>\n",
       "      <th>husband_education</th>\n",
       "      <th>children</th>\n",
       "      <th>wife_religion</th>\n",
       "      <th>wife_working</th>\n",
       "      <th>husband_occupation</th>\n",
       "      <th>standard_of_living_index</th>\n",
       "      <th>media_exposure</th>\n",
       "      <th>contraceptive_method_used</th>\n",
       "    </tr>\n",
       "  </thead>\n",
       "  <tbody>\n",
       "    <tr>\n",
       "      <th>count</th>\n",
       "      <td>1178.000000</td>\n",
       "      <td>1178.000000</td>\n",
       "      <td>1178.000000</td>\n",
       "      <td>1178.000000</td>\n",
       "      <td>1178.0</td>\n",
       "      <td>1178.000000</td>\n",
       "      <td>1178.000000</td>\n",
       "      <td>1178.000000</td>\n",
       "      <td>1178.0</td>\n",
       "      <td>1178.000000</td>\n",
       "    </tr>\n",
       "    <tr>\n",
       "      <th>mean</th>\n",
       "      <td>29.140068</td>\n",
       "      <td>1.948217</td>\n",
       "      <td>3.157895</td>\n",
       "      <td>1.915110</td>\n",
       "      <td>1.0</td>\n",
       "      <td>0.994058</td>\n",
       "      <td>2.398132</td>\n",
       "      <td>3.073005</td>\n",
       "      <td>0.0</td>\n",
       "      <td>2.940577</td>\n",
       "    </tr>\n",
       "    <tr>\n",
       "      <th>std</th>\n",
       "      <td>3.328246</td>\n",
       "      <td>0.965787</td>\n",
       "      <td>0.976631</td>\n",
       "      <td>1.104371</td>\n",
       "      <td>0.0</td>\n",
       "      <td>0.076889</td>\n",
       "      <td>0.569902</td>\n",
       "      <td>0.263500</td>\n",
       "      <td>0.0</td>\n",
       "      <td>0.332137</td>\n",
       "    </tr>\n",
       "    <tr>\n",
       "      <th>min</th>\n",
       "      <td>21.000000</td>\n",
       "      <td>1.000000</td>\n",
       "      <td>2.000000</td>\n",
       "      <td>0.000000</td>\n",
       "      <td>1.0</td>\n",
       "      <td>0.000000</td>\n",
       "      <td>1.000000</td>\n",
       "      <td>2.000000</td>\n",
       "      <td>0.0</td>\n",
       "      <td>1.000000</td>\n",
       "    </tr>\n",
       "    <tr>\n",
       "      <th>25%</th>\n",
       "      <td>27.000000</td>\n",
       "      <td>1.000000</td>\n",
       "      <td>2.000000</td>\n",
       "      <td>1.000000</td>\n",
       "      <td>1.0</td>\n",
       "      <td>1.000000</td>\n",
       "      <td>2.000000</td>\n",
       "      <td>3.000000</td>\n",
       "      <td>0.0</td>\n",
       "      <td>3.000000</td>\n",
       "    </tr>\n",
       "    <tr>\n",
       "      <th>50%</th>\n",
       "      <td>29.000000</td>\n",
       "      <td>2.000000</td>\n",
       "      <td>4.000000</td>\n",
       "      <td>2.000000</td>\n",
       "      <td>1.0</td>\n",
       "      <td>1.000000</td>\n",
       "      <td>2.000000</td>\n",
       "      <td>3.000000</td>\n",
       "      <td>0.0</td>\n",
       "      <td>3.000000</td>\n",
       "    </tr>\n",
       "    <tr>\n",
       "      <th>75%</th>\n",
       "      <td>31.000000</td>\n",
       "      <td>3.000000</td>\n",
       "      <td>4.000000</td>\n",
       "      <td>3.000000</td>\n",
       "      <td>1.0</td>\n",
       "      <td>1.000000</td>\n",
       "      <td>3.000000</td>\n",
       "      <td>3.000000</td>\n",
       "      <td>0.0</td>\n",
       "      <td>3.000000</td>\n",
       "    </tr>\n",
       "    <tr>\n",
       "      <th>max</th>\n",
       "      <td>43.000000</td>\n",
       "      <td>4.000000</td>\n",
       "      <td>4.000000</td>\n",
       "      <td>6.000000</td>\n",
       "      <td>1.0</td>\n",
       "      <td>1.000000</td>\n",
       "      <td>4.000000</td>\n",
       "      <td>4.000000</td>\n",
       "      <td>0.0</td>\n",
       "      <td>3.000000</td>\n",
       "    </tr>\n",
       "  </tbody>\n",
       "</table>\n",
       "</div>"
      ],
      "text/plain": [
       "          wife_age  wife_education  husband_education     children  \\\n",
       "count  1178.000000     1178.000000        1178.000000  1178.000000   \n",
       "mean     29.140068        1.948217           3.157895     1.915110   \n",
       "std       3.328246        0.965787           0.976631     1.104371   \n",
       "min      21.000000        1.000000           2.000000     0.000000   \n",
       "25%      27.000000        1.000000           2.000000     1.000000   \n",
       "50%      29.000000        2.000000           4.000000     2.000000   \n",
       "75%      31.000000        3.000000           4.000000     3.000000   \n",
       "max      43.000000        4.000000           4.000000     6.000000   \n",
       "\n",
       "       wife_religion  wife_working  husband_occupation  \\\n",
       "count         1178.0   1178.000000         1178.000000   \n",
       "mean             1.0      0.994058            2.398132   \n",
       "std              0.0      0.076889            0.569902   \n",
       "min              1.0      0.000000            1.000000   \n",
       "25%              1.0      1.000000            2.000000   \n",
       "50%              1.0      1.000000            2.000000   \n",
       "75%              1.0      1.000000            3.000000   \n",
       "max              1.0      1.000000            4.000000   \n",
       "\n",
       "       standard_of_living_index  media_exposure  contraceptive_method_used  \n",
       "count               1178.000000          1178.0                1178.000000  \n",
       "mean                   3.073005             0.0                   2.940577  \n",
       "std                    0.263500             0.0                   0.332137  \n",
       "min                    2.000000             0.0                   1.000000  \n",
       "25%                    3.000000             0.0                   3.000000  \n",
       "50%                    3.000000             0.0                   3.000000  \n",
       "75%                    3.000000             0.0                   3.000000  \n",
       "max                    4.000000             0.0                   3.000000  "
      ]
     },
     "execution_count": 54,
     "metadata": {},
     "output_type": "execute_result"
    }
   ],
   "source": [
    "synthetic_data.describe()"
   ]
  },
  {
   "cell_type": "code",
   "execution_count": 55,
   "metadata": {},
   "outputs": [
    {
     "data": {
      "text/html": [
       "<div>\n",
       "<style scoped>\n",
       "    .dataframe tbody tr th:only-of-type {\n",
       "        vertical-align: middle;\n",
       "    }\n",
       "\n",
       "    .dataframe tbody tr th {\n",
       "        vertical-align: top;\n",
       "    }\n",
       "\n",
       "    .dataframe thead th {\n",
       "        text-align: right;\n",
       "    }\n",
       "</style>\n",
       "<table border=\"1\" class=\"dataframe\">\n",
       "  <thead>\n",
       "    <tr style=\"text-align: right;\">\n",
       "      <th></th>\n",
       "      <th>wife_age</th>\n",
       "      <th>wife_education</th>\n",
       "      <th>husband_education</th>\n",
       "      <th>children</th>\n",
       "      <th>wife_religion</th>\n",
       "      <th>wife_working</th>\n",
       "      <th>husband_occupation</th>\n",
       "      <th>standard_of_living_index</th>\n",
       "      <th>media_exposure</th>\n",
       "    </tr>\n",
       "    <tr>\n",
       "      <th>contraceptive_method_used</th>\n",
       "      <th></th>\n",
       "      <th></th>\n",
       "      <th></th>\n",
       "      <th></th>\n",
       "      <th></th>\n",
       "      <th></th>\n",
       "      <th></th>\n",
       "      <th></th>\n",
       "      <th></th>\n",
       "    </tr>\n",
       "  </thead>\n",
       "  <tbody>\n",
       "    <tr>\n",
       "      <th>1</th>\n",
       "      <td>32</td>\n",
       "      <td>32</td>\n",
       "      <td>32</td>\n",
       "      <td>32</td>\n",
       "      <td>32</td>\n",
       "      <td>32</td>\n",
       "      <td>32</td>\n",
       "      <td>32</td>\n",
       "      <td>32</td>\n",
       "    </tr>\n",
       "    <tr>\n",
       "      <th>2</th>\n",
       "      <td>6</td>\n",
       "      <td>6</td>\n",
       "      <td>6</td>\n",
       "      <td>6</td>\n",
       "      <td>6</td>\n",
       "      <td>6</td>\n",
       "      <td>6</td>\n",
       "      <td>6</td>\n",
       "      <td>6</td>\n",
       "    </tr>\n",
       "    <tr>\n",
       "      <th>3</th>\n",
       "      <td>1140</td>\n",
       "      <td>1140</td>\n",
       "      <td>1140</td>\n",
       "      <td>1140</td>\n",
       "      <td>1140</td>\n",
       "      <td>1140</td>\n",
       "      <td>1140</td>\n",
       "      <td>1140</td>\n",
       "      <td>1140</td>\n",
       "    </tr>\n",
       "  </tbody>\n",
       "</table>\n",
       "</div>"
      ],
      "text/plain": [
       "                           wife_age  wife_education  husband_education  \\\n",
       "contraceptive_method_used                                                \n",
       "1                                32              32                 32   \n",
       "2                                 6               6                  6   \n",
       "3                              1140            1140               1140   \n",
       "\n",
       "                           children  wife_religion  wife_working  \\\n",
       "contraceptive_method_used                                          \n",
       "1                                32             32            32   \n",
       "2                                 6              6             6   \n",
       "3                              1140           1140          1140   \n",
       "\n",
       "                           husband_occupation  standard_of_living_index  \\\n",
       "contraceptive_method_used                                                 \n",
       "1                                          32                        32   \n",
       "2                                           6                         6   \n",
       "3                                        1140                      1140   \n",
       "\n",
       "                           media_exposure  \n",
       "contraceptive_method_used                  \n",
       "1                                      32  \n",
       "2                                       6  \n",
       "3                                    1140  "
      ]
     },
     "execution_count": 55,
     "metadata": {},
     "output_type": "execute_result"
    }
   ],
   "source": [
    "synthetic_data.groupby('contraceptive_method_used').count()"
   ]
  },
  {
   "cell_type": "code",
   "execution_count": 56,
   "metadata": {},
   "outputs": [],
   "source": [
    "#Save generated samples\n",
    "synthetic_data.to_csv(HOME_PATH + SYNTHETIC_FILE, index=False)"
   ]
  },
  {
   "cell_type": "code",
   "execution_count": null,
   "metadata": {},
   "outputs": [],
   "source": []
  }
 ],
 "metadata": {
  "kernelspec": {
   "display_name": "Python 3",
   "language": "python",
   "name": "python3"
  },
  "language_info": {
   "codemirror_mode": {
    "name": "ipython",
    "version": 3
   },
   "file_extension": ".py",
   "mimetype": "text/x-python",
   "name": "python",
   "nbconvert_exporter": "python",
   "pygments_lexer": "ipython3",
   "version": "3.8.5"
  }
 },
 "nbformat": 4,
 "nbformat_minor": 4
}
