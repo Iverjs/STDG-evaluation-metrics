{
 "cells": [
  {
   "cell_type": "markdown",
   "metadata": {},
   "source": [
    "# Multivariate Resemblance Analysis (MRA) Dataset D"
   ]
  },
  {
   "cell_type": "code",
   "execution_count": 1,
   "metadata": {},
   "outputs": [
    {
     "name": "stdout",
     "output_type": "stream",
     "text": [
      "Libraries imported!!\n"
     ]
    }
   ],
   "source": [
    "#import libraries\n",
    "import warnings\n",
    "warnings.filterwarnings(\"ignore\")\n",
    "import numpy as np\n",
    "import pandas as pd\n",
    "from matplotlib import pyplot as plt\n",
    "import os\n",
    "print('Libraries imported!!')"
   ]
  },
  {
   "cell_type": "code",
   "execution_count": 2,
   "metadata": {},
   "outputs": [
    {
     "name": "stdout",
     "output_type": "stream",
     "text": [
      "Functions imported!!\n"
     ]
    }
   ],
   "source": [
    "#define directory of functions and actual directory\n",
    "HOME_PATH = '' #home path of the project\n",
    "FUNCTIONS_DIR = 'EVALUATION FUNCTIONS/RESEMBLANCE'\n",
    "ACTUAL_DIR = os.getcwd()\n",
    "\n",
    "#change directory to functions directory\n",
    "os.chdir(HOME_PATH + FUNCTIONS_DIR)\n",
    "\n",
    "#import functions for univariate resemblance analisys\n",
    "from multivariate_resemblance import get_numerical_correlations\n",
    "from multivariate_resemblance import plot_correlations\n",
    "from multivariate_resemblance import get_categorical_correlations\n",
    "from multivariate_resemblance import compute_mra_score\n",
    "\n",
    "#change directory to actual directory\n",
    "os.chdir(ACTUAL_DIR)\n",
    "print('Functions imported!!')"
   ]
  },
  {
   "cell_type": "markdown",
   "metadata": {},
   "source": [
    "## 1. Read real and synthetic datasets\n",
    "In this part real and synthetic datasets are read."
   ]
  },
  {
   "cell_type": "code",
   "execution_count": 3,
   "metadata": {},
   "outputs": [],
   "source": [
    "#Define global variables\n",
    "DATA_TYPES = ['Real','GM','SDV','CTGAN','WGANGP']\n",
    "SYNTHESIZERS = ['GM','SDV','CTGAN','WGANGP']\n",
    "FILEPATHS = {'Real' : HOME_PATH + 'REAL DATASETS/TRAIN DATASETS/D_ContraceptiveMethod_Real_Train.csv',\n",
    "            'GM' : HOME_PATH + 'SYNTHETIC DATASETS/GM/D_ContraceptiveMethod_Synthetic_GM.csv',\n",
    "            'SDV' : HOME_PATH + 'SYNTHETIC DATASETS/SDV/D_ContraceptiveMethod_Synthetic_SDV.csv',\n",
    "            'CTGAN' : HOME_PATH + 'SYNTHETIC DATASETS/CTGAN/D_ContraceptiveMethod_Synthetic_CTGAN.csv',\n",
    "            'WGANGP' : HOME_PATH + 'SYNTHETIC DATASETS/WGANGP/D_ContraceptiveMethod_Synthetic_WGANGP.csv'}\n",
    "categorical_columns = ['wife_education','husband_education','wife_religion','wife_working','husband_occupation',\n",
    "                        'standard_of_living_index','media_exposure','contraceptive_method_used']\n",
    "data = dict()"
   ]
  },
  {
   "cell_type": "code",
   "execution_count": 4,
   "metadata": {},
   "outputs": [
    {
     "data": {
      "text/plain": [
       "{'Real':       wife_age wife_education husband_education  children wife_religion  \\\n",
       " 0           36              2                 4        11             1   \n",
       " 1           48              1                 3         4             1   \n",
       " 2           38              1                 2         8             1   \n",
       " 3           27              2                 2         5             1   \n",
       " 4           26              3                 2         4             1   \n",
       " ...        ...            ...               ...       ...           ...   \n",
       " 1173        34              2                 4         6             1   \n",
       " 1174        23              4                 4         1             1   \n",
       " 1175        29              3                 4         3             1   \n",
       " 1176        37              4                 4         5             0   \n",
       " 1177        31              4                 4         2             1   \n",
       " \n",
       "      wife_working husband_occupation standard_of_living_index media_exposure  \\\n",
       " 0               1                  1                        4              1   \n",
       " 1               1                  3                        3              1   \n",
       " 2               1                  3                        3              1   \n",
       " 3               1                  3                        1              0   \n",
       " 4               1                  3                        4              0   \n",
       " ...           ...                ...                      ...            ...   \n",
       " 1173            0                  3                        4              0   \n",
       " 1174            0                  3                        4              0   \n",
       " 1175            1                  3                        2              0   \n",
       " 1176            0                  2                        4              0   \n",
       " 1177            1                  1                        2              0   \n",
       " \n",
       "      contraceptive_method_used  \n",
       " 0                            3  \n",
       " 1                            1  \n",
       " 2                            1  \n",
       " 3                            3  \n",
       " 4                            3  \n",
       " ...                        ...  \n",
       " 1173                         1  \n",
       " 1174                         2  \n",
       " 1175                         3  \n",
       " 1176                         3  \n",
       " 1177                         1  \n",
       " \n",
       " [1178 rows x 10 columns],\n",
       " 'GM':       wife_age wife_education husband_education  children wife_religion  \\\n",
       " 0           45              4                 4         1             0   \n",
       " 1           13              2                 4         0             1   \n",
       " 2           22              3                 3         1             1   \n",
       " 3           33              4                 4         2             0   \n",
       " 4           30              3                 4         1             1   \n",
       " ...        ...            ...               ...       ...           ...   \n",
       " 1173        43              4                 2         2             0   \n",
       " 1174        17              2                 3         1             1   \n",
       " 1175        36              4                 4         7             1   \n",
       " 1176        27              3                 4         2             0   \n",
       " 1177        30              1                 4         0             1   \n",
       " \n",
       "      wife_working husband_occupation standard_of_living_index media_exposure  \\\n",
       " 0               1                  1                        3              0   \n",
       " 1               0                  3                        4              0   \n",
       " 2               1                  3                        2              0   \n",
       " 3               1                  2                        4              0   \n",
       " 4               1                  3                        1              0   \n",
       " ...           ...                ...                      ...            ...   \n",
       " 1173            1                  2                        2              0   \n",
       " 1174            1                  3                        2              0   \n",
       " 1175            0                  1                        3              0   \n",
       " 1176            0                  3                        4              0   \n",
       " 1177            1                  2                        3              0   \n",
       " \n",
       "      contraceptive_method_used  \n",
       " 0                            1  \n",
       " 1                            3  \n",
       " 2                            3  \n",
       " 3                            1  \n",
       " 4                            3  \n",
       " ...                        ...  \n",
       " 1173                         1  \n",
       " 1174                         1  \n",
       " 1175                         2  \n",
       " 1176                         3  \n",
       " 1177                         3  \n",
       " \n",
       " [1178 rows x 10 columns],\n",
       " 'SDV':       wife_age wife_education husband_education  children wife_religion  \\\n",
       " 0           31              4                 1         3             1   \n",
       " 1           44              2                 4         7             1   \n",
       " 2           27              4                 4         1             1   \n",
       " 3           35              3                 4         4             1   \n",
       " 4           26              3                 2         3             1   \n",
       " ...        ...            ...               ...       ...           ...   \n",
       " 1173        34              3                 4         3             1   \n",
       " 1174        31              3                 4         2             1   \n",
       " 1175        34              1                 1         4             1   \n",
       " 1176        46              1                 4         2             1   \n",
       " 1177        36              2                 4         4             1   \n",
       " \n",
       "      wife_working husband_occupation standard_of_living_index media_exposure  \\\n",
       " 0               1                  1                        3              0   \n",
       " 1               1                  3                        3              0   \n",
       " 2               0                  3                        4              0   \n",
       " 3               1                  2                        3              0   \n",
       " 4               1                  2                        2              0   \n",
       " ...           ...                ...                      ...            ...   \n",
       " 1173            1                  2                        4              0   \n",
       " 1174            0                  1                        3              0   \n",
       " 1175            1                  3                        3              0   \n",
       " 1176            1                  3                        3              0   \n",
       " 1177            1                  1                        2              0   \n",
       " \n",
       "      contraceptive_method_used  \n",
       " 0                            3  \n",
       " 1                            1  \n",
       " 2                            1  \n",
       " 3                            3  \n",
       " 4                            1  \n",
       " ...                        ...  \n",
       " 1173                         3  \n",
       " 1174                         3  \n",
       " 1175                         1  \n",
       " 1176                         1  \n",
       " 1177                         1  \n",
       " \n",
       " [1178 rows x 10 columns],\n",
       " 'CTGAN':       wife_age wife_education husband_education  children wife_religion  \\\n",
       " 0           21              2                 4         3             1   \n",
       " 1           19              3                 3         9             1   \n",
       " 2           14              4                 4         2             1   \n",
       " 3           26              4                 4         1             1   \n",
       " 4           30              3                 4         0             1   \n",
       " ...        ...            ...               ...       ...           ...   \n",
       " 1173        20              1                 3         3             0   \n",
       " 1174        16              1                 4         4             1   \n",
       " 1175        40              4                 2         1             0   \n",
       " 1176        34              3                 4         3             1   \n",
       " 1177        41              3                 3         3             1   \n",
       " \n",
       "      wife_working husband_occupation standard_of_living_index media_exposure  \\\n",
       " 0               1                  3                        3              0   \n",
       " 1               1                  1                        4              1   \n",
       " 2               1                  1                        2              0   \n",
       " 3               1                  1                        4              0   \n",
       " 4               1                  2                        2              0   \n",
       " ...           ...                ...                      ...            ...   \n",
       " 1173            1                  3                        2              0   \n",
       " 1174            0                  3                        2              0   \n",
       " 1175            1                  1                        4              0   \n",
       " 1176            1                  3                        2              0   \n",
       " 1177            1                  1                        2              0   \n",
       " \n",
       "      contraceptive_method_used  \n",
       " 0                            3  \n",
       " 1                            1  \n",
       " 2                            3  \n",
       " 3                            3  \n",
       " 4                            2  \n",
       " ...                        ...  \n",
       " 1173                         1  \n",
       " 1174                         3  \n",
       " 1175                         3  \n",
       " 1176                         3  \n",
       " 1177                         1  \n",
       " \n",
       " [1178 rows x 10 columns],\n",
       " 'WGANGP':       wife_age wife_education husband_education  children wife_religion  \\\n",
       " 0           33              2                 3         4             1   \n",
       " 1           28              1                 4         2             1   \n",
       " 2           22              3                 4         2             1   \n",
       " 3           30              1                 2         1             1   \n",
       " 4           30              1                 2         2             1   \n",
       " ...        ...            ...               ...       ...           ...   \n",
       " 1173        31              1                 4         3             1   \n",
       " 1174        29              1                 2         0             1   \n",
       " 1175        29              3                 4         3             1   \n",
       " 1176        34              2                 4         4             1   \n",
       " 1177        31              1                 2         2             1   \n",
       " \n",
       "      wife_working husband_occupation standard_of_living_index media_exposure  \\\n",
       " 0               1                  2                        4              0   \n",
       " 1               1                  3                        3              0   \n",
       " 2               1                  2                        3              0   \n",
       " 3               1                  3                        3              0   \n",
       " 4               1                  3                        3              0   \n",
       " ...           ...                ...                      ...            ...   \n",
       " 1173            1                  2                        3              0   \n",
       " 1174            1                  3                        3              0   \n",
       " 1175            0                  2                        3              0   \n",
       " 1176            1                  2                        3              0   \n",
       " 1177            1                  3                        3              0   \n",
       " \n",
       "      contraceptive_method_used  \n",
       " 0                            1  \n",
       " 1                            3  \n",
       " 2                            3  \n",
       " 3                            3  \n",
       " 4                            3  \n",
       " ...                        ...  \n",
       " 1173                         3  \n",
       " 1174                         3  \n",
       " 1175                         3  \n",
       " 1176                         3  \n",
       " 1177                         3  \n",
       " \n",
       " [1178 rows x 10 columns]}"
      ]
     },
     "execution_count": 4,
     "metadata": {},
     "output_type": "execute_result"
    }
   ],
   "source": [
    "#iterate over all datasets filepaths and read each dataset\n",
    "for name, path in FILEPATHS.items() :\n",
    "    data[name] = pd.read_csv(path)\n",
    "    for col in categorical_columns :\n",
    "        data[name][col] = data[name][col].astype('category')\n",
    "data"
   ]
  },
  {
   "cell_type": "markdown",
   "metadata": {},
   "source": [
    "## 2. Plot PPC matrixes and calculate matrixes norms"
   ]
  },
  {
   "cell_type": "code",
   "execution_count": 5,
   "metadata": {},
   "outputs": [
    {
     "data": {
      "text/plain": [
       "{'Real': 1.6141,\n",
       " 'GM': 1.5824,\n",
       " 'SDV': 1.6193,\n",
       " 'CTGAN': 1.4152,\n",
       " 'WGANGP': 1.4345}"
      ]
     },
     "execution_count": 5,
     "metadata": {},
     "output_type": "execute_result"
    }
   ],
   "source": [
    "#compute correlation matrixes for all datasets\n",
    "cors_numerical = dict()\n",
    "norms_numerical = dict()\n",
    "for name in DATA_TYPES :\n",
    "    cors_numerical[name], norms_numerical[name] = get_numerical_correlations(data[name])\n",
    "norms_numerical"
   ]
  },
  {
   "cell_type": "code",
   "execution_count": 7,
   "metadata": {},
   "outputs": [
    {
     "data": {
      "image/png": "[encoded data removed]",
      "text/plain": [
       "<Figure size 1080x180 with 6 Axes>"
      ]
     },
     "metadata": {
      "needs_background": "light"
     },
     "output_type": "display_data"
    }
   ],
   "source": [
    "fig, axs = plt.subplots(nrows=1, ncols=5, figsize=(15, 2.5))\n",
    "axs_idxs = range(6)\n",
    "idx = dict(zip(DATA_TYPES,axs_idxs))\n",
    "\n",
    "for name_idx, name in enumerate(DATA_TYPES) :\n",
    "    ax = axs[idx[name]]\n",
    "    matrix = cors_numerical[name]\n",
    "    \n",
    "    if name_idx != len(DATA_TYPES) - 1:\n",
    "        plot_correlations(matrix, ax, color_bar=False)\n",
    "    else:\n",
    "        plot_correlations(matrix, ax, color_bar=True)\n",
    "    \n",
    "    if name_idx > 0:\n",
    "        ax.set_yticks([])    \n",
    "    \n",
    "    if name == 'Real' :\n",
    "        ax.set_title(name)\n",
    "    else :\n",
    "        score = compute_mra_score(cors_numerical['Real'], matrix)\n",
    "        ax.set_title(name + ' (' + str(score) + ')')\n",
    "    \n",
    "fig.savefig('MULTIVARIATE RESEMBLANCE RESULTS/PPC_Matrices.svg', bbox_inches='tight')"
   ]
  },
  {
   "cell_type": "markdown",
   "metadata": {},
   "source": [
    "## 3. Plot correlations for categorical variables and calculate matrixes norms"
   ]
  },
  {
   "cell_type": "code",
   "execution_count": 8,
   "metadata": {},
   "outputs": [
    {
     "data": {
      "text/plain": [
       "{'Real': 1.9594, 'GM': 2.3254, 'SDV': 1.8703, 'CTGAN': 4.3566, 'WGANGP': 1.935}"
      ]
     },
     "execution_count": 8,
     "metadata": {},
     "output_type": "execute_result"
    }
   ],
   "source": [
    "#compute correlation matrixes for all datasets\n",
    "cors_categorical = dict()\n",
    "norms_categorical = dict()\n",
    "for name in DATA_TYPES :\n",
    "    cors_categorical[name], norms_categorical[name] = get_categorical_correlations(data[name])\n",
    "norms_categorical"
   ]
  },
  {
   "cell_type": "code",
   "execution_count": 9,
   "metadata": {},
   "outputs": [
    {
     "data": {
      "image/png": "[encoded data removed]",
      "text/plain": [
       "<Figure size 1080x180 with 6 Axes>"
      ]
     },
     "metadata": {
      "needs_background": "light"
     },
     "output_type": "display_data"
    }
   ],
   "source": [
    "fig, axs = plt.subplots(nrows=1, ncols=5, figsize=(15, 2.5))\n",
    "axs_idxs = range(6)\n",
    "idx = dict(zip(DATA_TYPES,axs_idxs))\n",
    "first = True\n",
    "\n",
    "for name_idx, name in enumerate(DATA_TYPES) :\n",
    "    ax = axs[idx[name]]\n",
    "    matrix = cors_categorical[name]\n",
    "    \n",
    "    if name_idx != len(DATA_TYPES) - 1:\n",
    "        plot_correlations(matrix, ax, color_bar=False)\n",
    "    else:\n",
    "        plot_correlations(matrix, ax, color_bar=True)\n",
    "    \n",
    "    if name_idx > 0:\n",
    "        ax.set_yticks([])    \n",
    "\n",
    "    if name == 'Real' :\n",
    "        ax.set_title(name)\n",
    "    else :\n",
    "        score = compute_mra_score(cors_categorical['Real'], matrix)\n",
    "        ax.set_title(name + ' (' + str(score) + ')')\n",
    "        \n",
    "fig.savefig('MULTIVARIATE RESEMBLANCE RESULTS/Categorical_Matrices.svg', bbox_inches='tight')"
   ]
  },
  {
   "cell_type": "markdown",
   "metadata": {},
   "source": [
    "## 4. Explore the results"
   ]
  },
  {
   "cell_type": "code",
   "execution_count": 10,
   "metadata": {},
   "outputs": [
    {
     "data": {
      "text/plain": [
       "{'Real': 1.6141,\n",
       " 'GM': 1.5824,\n",
       " 'SDV': 1.6193,\n",
       " 'CTGAN': 1.4152,\n",
       " 'WGANGP': 1.4345}"
      ]
     },
     "execution_count": 10,
     "metadata": {},
     "output_type": "execute_result"
    }
   ],
   "source": [
    "norms_numerical"
   ]
  },
  {
   "cell_type": "code",
   "execution_count": 11,
   "metadata": {
    "scrolled": true
   },
   "outputs": [
    {
     "data": {
      "text/plain": [
       "{'Real': 1.9594, 'GM': 2.3254, 'SDV': 1.8703, 'CTGAN': 4.3566, 'WGANGP': 1.935}"
      ]
     },
     "execution_count": 11,
     "metadata": {},
     "output_type": "execute_result"
    }
   ],
   "source": [
    "norms_categorical"
   ]
  },
  {
   "cell_type": "code",
   "execution_count": 12,
   "metadata": {},
   "outputs": [
    {
     "data": {
      "text/html": [
       "<div>\n",
       "<style scoped>\n",
       "    .dataframe tbody tr th:only-of-type {\n",
       "        vertical-align: middle;\n",
       "    }\n",
       "\n",
       "    .dataframe tbody tr th {\n",
       "        vertical-align: top;\n",
       "    }\n",
       "\n",
       "    .dataframe thead th {\n",
       "        text-align: right;\n",
       "    }\n",
       "</style>\n",
       "<table border=\"1\" class=\"dataframe\">\n",
       "  <thead>\n",
       "    <tr style=\"text-align: right;\">\n",
       "      <th></th>\n",
       "      <th>Real</th>\n",
       "      <th>GM</th>\n",
       "      <th>SDV</th>\n",
       "      <th>CTGAN</th>\n",
       "      <th>WGANGP</th>\n",
       "    </tr>\n",
       "  </thead>\n",
       "  <tbody>\n",
       "    <tr>\n",
       "      <th>PPC_MATRIX_NORMS</th>\n",
       "      <td>1.6141</td>\n",
       "      <td>1.5824</td>\n",
       "      <td>1.6193</td>\n",
       "      <td>1.4152</td>\n",
       "      <td>1.4345</td>\n",
       "    </tr>\n",
       "    <tr>\n",
       "      <th>CATEGORICAL_CORS_MATRIX_NORMS</th>\n",
       "      <td>1.9594</td>\n",
       "      <td>2.3254</td>\n",
       "      <td>1.8703</td>\n",
       "      <td>4.3566</td>\n",
       "      <td>1.9350</td>\n",
       "    </tr>\n",
       "  </tbody>\n",
       "</table>\n",
       "</div>"
      ],
      "text/plain": [
       "                                 Real      GM     SDV   CTGAN  WGANGP\n",
       "PPC_MATRIX_NORMS               1.6141  1.5824  1.6193  1.4152  1.4345\n",
       "CATEGORICAL_CORS_MATRIX_NORMS  1.9594  2.3254  1.8703  4.3566  1.9350"
      ]
     },
     "execution_count": 12,
     "metadata": {},
     "output_type": "execute_result"
    }
   ],
   "source": [
    "norms_data = [np.asarray(list(norms_numerical.values())), np.asarray(list(norms_categorical.values()))]\n",
    "df_norms = pd.DataFrame(data=norms_data, columns=DATA_TYPES, index=['PPC_MATRIX_NORMS','CATEGORICAL_CORS_MATRIX_NORMS'])\n",
    "df_norms.to_csv('MULTIVARIATE RESEMBLANCE RESULTS/Correlation_Matrix_Norms.csv')\n",
    "df_norms"
   ]
  },
  {
   "cell_type": "code",
   "execution_count": null,
   "metadata": {},
   "outputs": [],
   "source": []
  }
 ],
 "metadata": {
  "kernelspec": {
   "display_name": "Python 3",
   "language": "python",
   "name": "python3"
  },
  "language_info": {
   "codemirror_mode": {
    "name": "ipython",
    "version": 3
   },
   "file_extension": ".py",
   "mimetype": "text/x-python",
   "name": "python",
   "nbconvert_exporter": "python",
   "pygments_lexer": "ipython3",
   "version": "3.8.5"
  }
 },
 "nbformat": 4,
 "nbformat_minor": 5
}
