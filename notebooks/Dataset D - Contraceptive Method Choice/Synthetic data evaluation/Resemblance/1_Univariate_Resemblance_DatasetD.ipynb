{
 "cells": [
  {
   "cell_type": "markdown",
   "metadata": {},
   "source": [
    "# Univariate Resemblance Analysis (URA) Dataset D"
   ]
  },
  {
   "cell_type": "code",
   "execution_count": 1,
   "metadata": {},
   "outputs": [
    {
     "name": "stdout",
     "output_type": "stream",
     "text": [
      "Libraries imported!!\n"
     ]
    }
   ],
   "source": [
    "#import libraries\n",
    "import warnings\n",
    "warnings.filterwarnings(\"ignore\")\n",
    "import numpy as np\n",
    "import pandas as pd\n",
    "from matplotlib import pyplot as plt\n",
    "import seaborn as sns\n",
    "import os\n",
    "print('Libraries imported!!')"
   ]
  },
  {
   "cell_type": "code",
   "execution_count": 2,
   "metadata": {},
   "outputs": [
    {
     "name": "stdout",
     "output_type": "stream",
     "text": [
      "Functions imported!!\n"
     ]
    }
   ],
   "source": [
    "#define directory of functions and actual directory\n",
    "HOME_PATH = '' #home path of the project\n",
    "FUNCTIONS_DIR = 'EVALUATION FUNCTIONS/RESEMBLANCE'\n",
    "ACTUAL_DIR = os.getcwd()\n",
    "\n",
    "#change directory to functions directory\n",
    "os.chdir(HOME_PATH + FUNCTIONS_DIR)\n",
    "\n",
    "#import functions for univariate resemblance analisys\n",
    "from univariate_resemblance import basic_stats\n",
    "from univariate_resemblance import student_t_tests\n",
    "from univariate_resemblance import mann_whitney_tests\n",
    "from univariate_resemblance import ks_tests\n",
    "from univariate_resemblance import chi_squared_tests\n",
    "from univariate_resemblance import scale_data\n",
    "from univariate_resemblance import euclidean_distances\n",
    "from univariate_resemblance import cosine_distances\n",
    "from univariate_resemblance import js_distances\n",
    "from univariate_resemblance import wass_distances\n",
    "\n",
    "#change directory to actual directory\n",
    "os.chdir(ACTUAL_DIR)\n",
    "print('Functions imported!!')"
   ]
  },
  {
   "cell_type": "markdown",
   "metadata": {},
   "source": [
    "## 1. Read real and synthetic datasets\n",
    "In this part real and synthetic datasets are read."
   ]
  },
  {
   "cell_type": "code",
   "execution_count": 3,
   "metadata": {},
   "outputs": [],
   "source": [
    "#Define global variables\n",
    "DATA_TYPES = ['Real','GM','SDV','CTGAN','WGANGP']\n",
    "SYNTHESIZERS = ['GM','SDV','CTGAN','WGANGP']\n",
    "FILEPATHS = {'Real' : HOME_PATH + 'REAL DATASETS/TRAIN DATASETS/D_ContraceptiveMethod_Real_Train.csv',\n",
    "            'GM' : HOME_PATH + 'SYNTHETIC DATASETS/GM/D_ContraceptiveMethod_Synthetic_GM.csv',\n",
    "            'SDV' : HOME_PATH + 'SYNTHETIC DATASETS/SDV/D_ContraceptiveMethod_Synthetic_SDV.csv',\n",
    "            'CTGAN' : HOME_PATH + 'SYNTHETIC DATASETS/CTGAN/D_ContraceptiveMethod_Synthetic_CTGAN.csv',\n",
    "            'WGANGP' : HOME_PATH + 'SYNTHETIC DATASETS/WGANGP/D_ContraceptiveMethod_Synthetic_WGANGP.csv'}\n",
    "categorical_columns = ['wife_education','husband_education','wife_religion','wife_working','husband_occupation',\n",
    "                        'standard_of_living_index','media_exposure','contraceptive_method_used']\n",
    "data = dict()"
   ]
  },
  {
   "cell_type": "code",
   "execution_count": 4,
   "metadata": {},
   "outputs": [
    {
     "data": {
      "text/plain": [
       "{'Real':       wife_age wife_education husband_education  children wife_religion  \\\n",
       " 0           36              2                 4        11             1   \n",
       " 1           48              1                 3         4             1   \n",
       " 2           38              1                 2         8             1   \n",
       " 3           27              2                 2         5             1   \n",
       " 4           26              3                 2         4             1   \n",
       " ...        ...            ...               ...       ...           ...   \n",
       " 1173        34              2                 4         6             1   \n",
       " 1174        23              4                 4         1             1   \n",
       " 1175        29              3                 4         3             1   \n",
       " 1176        37              4                 4         5             0   \n",
       " 1177        31              4                 4         2             1   \n",
       " \n",
       "      wife_working husband_occupation standard_of_living_index media_exposure  \\\n",
       " 0               1                  1                        4              1   \n",
       " 1               1                  3                        3              1   \n",
       " 2               1                  3                        3              1   \n",
       " 3               1                  3                        1              0   \n",
       " 4               1                  3                        4              0   \n",
       " ...           ...                ...                      ...            ...   \n",
       " 1173            0                  3                        4              0   \n",
       " 1174            0                  3                        4              0   \n",
       " 1175            1                  3                        2              0   \n",
       " 1176            0                  2                        4              0   \n",
       " 1177            1                  1                        2              0   \n",
       " \n",
       "      contraceptive_method_used  \n",
       " 0                            3  \n",
       " 1                            1  \n",
       " 2                            1  \n",
       " 3                            3  \n",
       " 4                            3  \n",
       " ...                        ...  \n",
       " 1173                         1  \n",
       " 1174                         2  \n",
       " 1175                         3  \n",
       " 1176                         3  \n",
       " 1177                         1  \n",
       " \n",
       " [1178 rows x 10 columns],\n",
       " 'GM':       wife_age wife_education husband_education  children wife_religion  \\\n",
       " 0           45              4                 4         1             0   \n",
       " 1           13              2                 4         0             1   \n",
       " 2           22              3                 3         1             1   \n",
       " 3           33              4                 4         2             0   \n",
       " 4           30              3                 4         1             1   \n",
       " ...        ...            ...               ...       ...           ...   \n",
       " 1173        43              4                 2         2             0   \n",
       " 1174        17              2                 3         1             1   \n",
       " 1175        36              4                 4         7             1   \n",
       " 1176        27              3                 4         2             0   \n",
       " 1177        30              1                 4         0             1   \n",
       " \n",
       "      wife_working husband_occupation standard_of_living_index media_exposure  \\\n",
       " 0               1                  1                        3              0   \n",
       " 1               0                  3                        4              0   \n",
       " 2               1                  3                        2              0   \n",
       " 3               1                  2                        4              0   \n",
       " 4               1                  3                        1              0   \n",
       " ...           ...                ...                      ...            ...   \n",
       " 1173            1                  2                        2              0   \n",
       " 1174            1                  3                        2              0   \n",
       " 1175            0                  1                        3              0   \n",
       " 1176            0                  3                        4              0   \n",
       " 1177            1                  2                        3              0   \n",
       " \n",
       "      contraceptive_method_used  \n",
       " 0                            1  \n",
       " 1                            3  \n",
       " 2                            3  \n",
       " 3                            1  \n",
       " 4                            3  \n",
       " ...                        ...  \n",
       " 1173                         1  \n",
       " 1174                         1  \n",
       " 1175                         2  \n",
       " 1176                         3  \n",
       " 1177                         3  \n",
       " \n",
       " [1178 rows x 10 columns],\n",
       " 'SDV':       wife_age wife_education husband_education  children wife_religion  \\\n",
       " 0           31              4                 1         3             1   \n",
       " 1           44              2                 4         7             1   \n",
       " 2           27              4                 4         1             1   \n",
       " 3           35              3                 4         4             1   \n",
       " 4           26              3                 2         3             1   \n",
       " ...        ...            ...               ...       ...           ...   \n",
       " 1173        34              3                 4         3             1   \n",
       " 1174        31              3                 4         2             1   \n",
       " 1175        34              1                 1         4             1   \n",
       " 1176        46              1                 4         2             1   \n",
       " 1177        36              2                 4         4             1   \n",
       " \n",
       "      wife_working husband_occupation standard_of_living_index media_exposure  \\\n",
       " 0               1                  1                        3              0   \n",
       " 1               1                  3                        3              0   \n",
       " 2               0                  3                        4              0   \n",
       " 3               1                  2                        3              0   \n",
       " 4               1                  2                        2              0   \n",
       " ...           ...                ...                      ...            ...   \n",
       " 1173            1                  2                        4              0   \n",
       " 1174            0                  1                        3              0   \n",
       " 1175            1                  3                        3              0   \n",
       " 1176            1                  3                        3              0   \n",
       " 1177            1                  1                        2              0   \n",
       " \n",
       "      contraceptive_method_used  \n",
       " 0                            3  \n",
       " 1                            1  \n",
       " 2                            1  \n",
       " 3                            3  \n",
       " 4                            1  \n",
       " ...                        ...  \n",
       " 1173                         3  \n",
       " 1174                         3  \n",
       " 1175                         1  \n",
       " 1176                         1  \n",
       " 1177                         1  \n",
       " \n",
       " [1178 rows x 10 columns],\n",
       " 'CTGAN':       wife_age wife_education husband_education  children wife_religion  \\\n",
       " 0           21              2                 4         3             1   \n",
       " 1           19              3                 3         9             1   \n",
       " 2           14              4                 4         2             1   \n",
       " 3           26              4                 4         1             1   \n",
       " 4           30              3                 4         0             1   \n",
       " ...        ...            ...               ...       ...           ...   \n",
       " 1173        20              1                 3         3             0   \n",
       " 1174        16              1                 4         4             1   \n",
       " 1175        40              4                 2         1             0   \n",
       " 1176        34              3                 4         3             1   \n",
       " 1177        41              3                 3         3             1   \n",
       " \n",
       "      wife_working husband_occupation standard_of_living_index media_exposure  \\\n",
       " 0               1                  3                        3              0   \n",
       " 1               1                  1                        4              1   \n",
       " 2               1                  1                        2              0   \n",
       " 3               1                  1                        4              0   \n",
       " 4               1                  2                        2              0   \n",
       " ...           ...                ...                      ...            ...   \n",
       " 1173            1                  3                        2              0   \n",
       " 1174            0                  3                        2              0   \n",
       " 1175            1                  1                        4              0   \n",
       " 1176            1                  3                        2              0   \n",
       " 1177            1                  1                        2              0   \n",
       " \n",
       "      contraceptive_method_used  \n",
       " 0                            3  \n",
       " 1                            1  \n",
       " 2                            3  \n",
       " 3                            3  \n",
       " 4                            2  \n",
       " ...                        ...  \n",
       " 1173                         1  \n",
       " 1174                         3  \n",
       " 1175                         3  \n",
       " 1176                         3  \n",
       " 1177                         1  \n",
       " \n",
       " [1178 rows x 10 columns],\n",
       " 'WGANGP':       wife_age wife_education husband_education  children wife_religion  \\\n",
       " 0           33              2                 3         4             1   \n",
       " 1           28              1                 4         2             1   \n",
       " 2           22              3                 4         2             1   \n",
       " 3           30              1                 2         1             1   \n",
       " 4           30              1                 2         2             1   \n",
       " ...        ...            ...               ...       ...           ...   \n",
       " 1173        31              1                 4         3             1   \n",
       " 1174        29              1                 2         0             1   \n",
       " 1175        29              3                 4         3             1   \n",
       " 1176        34              2                 4         4             1   \n",
       " 1177        31              1                 2         2             1   \n",
       " \n",
       "      wife_working husband_occupation standard_of_living_index media_exposure  \\\n",
       " 0               1                  2                        4              0   \n",
       " 1               1                  3                        3              0   \n",
       " 2               1                  2                        3              0   \n",
       " 3               1                  3                        3              0   \n",
       " 4               1                  3                        3              0   \n",
       " ...           ...                ...                      ...            ...   \n",
       " 1173            1                  2                        3              0   \n",
       " 1174            1                  3                        3              0   \n",
       " 1175            0                  2                        3              0   \n",
       " 1176            1                  2                        3              0   \n",
       " 1177            1                  3                        3              0   \n",
       " \n",
       "      contraceptive_method_used  \n",
       " 0                            1  \n",
       " 1                            3  \n",
       " 2                            3  \n",
       " 3                            3  \n",
       " 4                            3  \n",
       " ...                        ...  \n",
       " 1173                         3  \n",
       " 1174                         3  \n",
       " 1175                         3  \n",
       " 1176                         3  \n",
       " 1177                         3  \n",
       " \n",
       " [1178 rows x 10 columns]}"
      ]
     },
     "execution_count": 4,
     "metadata": {},
     "output_type": "execute_result"
    }
   ],
   "source": [
    "#iterate over all datasets filepaths and read each dataset\n",
    "for name, path in FILEPATHS.items() :\n",
    "    data[name] = pd.read_csv(path)\n",
    "    for col in categorical_columns :\n",
    "        data[name][col] = data[name][col].astype('category')\n",
    "data"
   ]
  },
  {
   "cell_type": "markdown",
   "metadata": {},
   "source": [
    "## 2. Basic statistics comparisson\n",
    "In this part the basic statistics of each attribute for each dataset are computed.\n",
    "- means and stds of all variables are compared."
   ]
  },
  {
   "cell_type": "code",
   "execution_count": 5,
   "metadata": {},
   "outputs": [
    {
     "data": {
      "text/html": [
       "<div>\n",
       "<style scoped>\n",
       "    .dataframe tbody tr th:only-of-type {\n",
       "        vertical-align: middle;\n",
       "    }\n",
       "\n",
       "    .dataframe tbody tr th {\n",
       "        vertical-align: top;\n",
       "    }\n",
       "\n",
       "    .dataframe thead th {\n",
       "        text-align: right;\n",
       "    }\n",
       "</style>\n",
       "<table border=\"1\" class=\"dataframe\">\n",
       "  <thead>\n",
       "    <tr style=\"text-align: right;\">\n",
       "      <th></th>\n",
       "      <th>Real</th>\n",
       "      <th>GM</th>\n",
       "      <th>SDV</th>\n",
       "      <th>CTGAN</th>\n",
       "      <th>WGANGP</th>\n",
       "    </tr>\n",
       "  </thead>\n",
       "  <tbody>\n",
       "    <tr>\n",
       "      <th>wife_age</th>\n",
       "      <td>32.83 ± 8.33</td>\n",
       "      <td>31.91 ± 8.54</td>\n",
       "      <td>32.73 ± 8.48</td>\n",
       "      <td>27.24 ± 10.6</td>\n",
       "      <td>29.14 ± 3.33</td>\n",
       "    </tr>\n",
       "    <tr>\n",
       "      <th>children</th>\n",
       "      <td>3.35 ± 2.43</td>\n",
       "      <td>2.85 ± 2.49</td>\n",
       "      <td>3.33 ± 2.48</td>\n",
       "      <td>2.34 ± 2.49</td>\n",
       "      <td>1.92 ± 1.1</td>\n",
       "    </tr>\n",
       "  </tbody>\n",
       "</table>\n",
       "</div>"
      ],
      "text/plain": [
       "                  Real            GM           SDV         CTGAN        WGANGP\n",
       "wife_age  32.83 ± 8.33  31.91 ± 8.54  32.73 ± 8.48  27.24 ± 10.6  29.14 ± 3.33\n",
       "children   3.35 ± 2.43   2.85 ± 2.49   3.33 ± 2.48   2.34 ± 2.49    1.92 ± 1.1"
      ]
     },
     "execution_count": 5,
     "metadata": {},
     "output_type": "execute_result"
    }
   ],
   "source": [
    "df_means_std = pd.DataFrame(index=data['Real'].select_dtypes(include=['float64','int64']).columns.tolist())\n",
    "for name in DATA_TYPES :\n",
    "    means_stds = basic_stats(data[name])\n",
    "    means_stds.columns = [name]\n",
    "    df_means_std = pd.concat([df_means_std,means_stds], axis=1)\n",
    "df_means_std"
   ]
  },
  {
   "cell_type": "markdown",
   "metadata": {},
   "source": [
    "## 3. Statistical Tests\n",
    "In this part some statistical tests are performed to compare variables from real and synthetic data."
   ]
  },
  {
   "cell_type": "markdown",
   "metadata": {},
   "source": [
    "### 3.1. Sudent t-test\n",
    "- null hypothesis (p > 0.05): Means of real and synthetic feature are the same.\n",
    "- alternative hypothesis (p < 0.05): Mean of real and synthetic feature are significantly different."
   ]
  },
  {
   "cell_type": "code",
   "execution_count": 6,
   "metadata": {},
   "outputs": [
    {
     "data": {
      "text/html": [
       "<div>\n",
       "<style scoped>\n",
       "    .dataframe tbody tr th:only-of-type {\n",
       "        vertical-align: middle;\n",
       "    }\n",
       "\n",
       "    .dataframe tbody tr th {\n",
       "        vertical-align: top;\n",
       "    }\n",
       "\n",
       "    .dataframe thead th {\n",
       "        text-align: right;\n",
       "    }\n",
       "</style>\n",
       "<table border=\"1\" class=\"dataframe\">\n",
       "  <thead>\n",
       "    <tr style=\"text-align: right;\">\n",
       "      <th></th>\n",
       "      <th>GM</th>\n",
       "      <th>SDV</th>\n",
       "      <th>CTGAN</th>\n",
       "      <th>WGANGP</th>\n",
       "    </tr>\n",
       "  </thead>\n",
       "  <tbody>\n",
       "    <tr>\n",
       "      <th>wife_age</th>\n",
       "      <td>8.5340e-03</td>\n",
       "      <td>0.7800</td>\n",
       "      <td>4.2264e-44</td>\n",
       "      <td>1.8090e-43</td>\n",
       "    </tr>\n",
       "    <tr>\n",
       "      <th>children</th>\n",
       "      <td>8.4974e-07</td>\n",
       "      <td>0.8864</td>\n",
       "      <td>8.1892e-23</td>\n",
       "      <td>6.7412e-71</td>\n",
       "    </tr>\n",
       "  </tbody>\n",
       "</table>\n",
       "</div>"
      ],
      "text/plain": [
       "                  GM     SDV       CTGAN      WGANGP\n",
       "wife_age  8.5340e-03  0.7800  4.2264e-44  1.8090e-43\n",
       "children  8.4974e-07  0.8864  8.1892e-23  6.7412e-71"
      ]
     },
     "execution_count": 6,
     "metadata": {},
     "output_type": "execute_result"
    }
   ],
   "source": [
    "p_values_student = dict()\n",
    "for name in SYNTHESIZERS :\n",
    "    p_values_student[name] = student_t_tests(data['Real'], data[name])\n",
    "df_student_test = pd.DataFrame(data=p_values_student, index=(data['Real'].select_dtypes(include=['int64','float64'])).columns)\n",
    "df_student_test.to_csv('UNIVARIATE RESEMBLANCE RESULTS/student_t_tests.csv')\n",
    "df_student_test"
   ]
  },
  {
   "cell_type": "markdown",
   "metadata": {},
   "source": [
    "### 3.2. Mann-Whitney U-Test\n",
    "- null hypothesis (p > 0.05): Real feature and synthetic feature come from the same population.\n",
    "- alternative hypothesis (p < 0.05): Real feature and synthetic feature does not come from the same population."
   ]
  },
  {
   "cell_type": "code",
   "execution_count": 7,
   "metadata": {},
   "outputs": [
    {
     "data": {
      "text/html": [
       "<div>\n",
       "<style scoped>\n",
       "    .dataframe tbody tr th:only-of-type {\n",
       "        vertical-align: middle;\n",
       "    }\n",
       "\n",
       "    .dataframe tbody tr th {\n",
       "        vertical-align: top;\n",
       "    }\n",
       "\n",
       "    .dataframe thead th {\n",
       "        text-align: right;\n",
       "    }\n",
       "</style>\n",
       "<table border=\"1\" class=\"dataframe\">\n",
       "  <thead>\n",
       "    <tr style=\"text-align: right;\">\n",
       "      <th></th>\n",
       "      <th>GM</th>\n",
       "      <th>SDV</th>\n",
       "      <th>CTGAN</th>\n",
       "      <th>WGANGP</th>\n",
       "    </tr>\n",
       "  </thead>\n",
       "  <tbody>\n",
       "    <tr>\n",
       "      <th>wife_age</th>\n",
       "      <td>4.8600e-03</td>\n",
       "      <td>0.3818</td>\n",
       "      <td>1.1151e-45</td>\n",
       "      <td>4.6582e-24</td>\n",
       "    </tr>\n",
       "    <tr>\n",
       "      <th>children</th>\n",
       "      <td>7.6782e-10</td>\n",
       "      <td>0.0158</td>\n",
       "      <td>1.1965e-33</td>\n",
       "      <td>7.3570e-54</td>\n",
       "    </tr>\n",
       "  </tbody>\n",
       "</table>\n",
       "</div>"
      ],
      "text/plain": [
       "                  GM     SDV       CTGAN      WGANGP\n",
       "wife_age  4.8600e-03  0.3818  1.1151e-45  4.6582e-24\n",
       "children  7.6782e-10  0.0158  1.1965e-33  7.3570e-54"
      ]
     },
     "execution_count": 7,
     "metadata": {},
     "output_type": "execute_result"
    }
   ],
   "source": [
    "p_values_mann_whitnney = dict()\n",
    "for name in SYNTHESIZERS :\n",
    "    p_values_mann_whitnney[name] = mann_whitney_tests(data['Real'], data[name])\n",
    "df_mann_whitney = pd.DataFrame(data=p_values_mann_whitnney, index=(data['Real'].select_dtypes(include=['int64','float64'])).columns)\n",
    "df_mann_whitney.to_csv('UNIVARIATE RESEMBLANCE RESULTS/mann_whitnney_tests.csv')\n",
    "df_mann_whitney"
   ]
  },
  {
   "cell_type": "markdown",
   "metadata": {},
   "source": [
    "### 3.3. Kolmogorov-Smirnov Test\n",
    "- null hypothesis (p > 0.05): Real feature and synthetic feature distributions are equal.\n",
    "- alternative hypothesis (p < 0.05): Real feature and synthetic feature distributions are not equal."
   ]
  },
  {
   "cell_type": "code",
   "execution_count": 8,
   "metadata": {},
   "outputs": [
    {
     "data": {
      "text/html": [
       "<div>\n",
       "<style scoped>\n",
       "    .dataframe tbody tr th:only-of-type {\n",
       "        vertical-align: middle;\n",
       "    }\n",
       "\n",
       "    .dataframe tbody tr th {\n",
       "        vertical-align: top;\n",
       "    }\n",
       "\n",
       "    .dataframe thead th {\n",
       "        text-align: right;\n",
       "    }\n",
       "</style>\n",
       "<table border=\"1\" class=\"dataframe\">\n",
       "  <thead>\n",
       "    <tr style=\"text-align: right;\">\n",
       "      <th></th>\n",
       "      <th>GM</th>\n",
       "      <th>SDV</th>\n",
       "      <th>CTGAN</th>\n",
       "      <th>WGANGP</th>\n",
       "    </tr>\n",
       "  </thead>\n",
       "  <tbody>\n",
       "    <tr>\n",
       "      <th>wife_age</th>\n",
       "      <td>4.4246e-02</td>\n",
       "      <td>0.0277</td>\n",
       "      <td>2.2217e-43</td>\n",
       "      <td>3.4630e-73</td>\n",
       "    </tr>\n",
       "    <tr>\n",
       "      <th>children</th>\n",
       "      <td>1.1493e-06</td>\n",
       "      <td>0.0002</td>\n",
       "      <td>5.8120e-25</td>\n",
       "      <td>1.2896e-50</td>\n",
       "    </tr>\n",
       "  </tbody>\n",
       "</table>\n",
       "</div>"
      ],
      "text/plain": [
       "                  GM     SDV       CTGAN      WGANGP\n",
       "wife_age  4.4246e-02  0.0277  2.2217e-43  3.4630e-73\n",
       "children  1.1493e-06  0.0002  5.8120e-25  1.2896e-50"
      ]
     },
     "execution_count": 8,
     "metadata": {},
     "output_type": "execute_result"
    }
   ],
   "source": [
    "p_values_ks = dict()\n",
    "for name in SYNTHESIZERS :\n",
    "    p_values_ks[name] = ks_tests(data['Real'], data[name])\n",
    "df_ks = pd.DataFrame(data=p_values_ks, index=(data['Real'].select_dtypes(include=['int64','float64'])).columns)\n",
    "df_ks.to_csv('UNIVARIATE RESEMBLANCE RESULTS/ks_tests.csv')\n",
    "df_ks"
   ]
  },
  {
   "cell_type": "markdown",
   "metadata": {},
   "source": [
    "### 3.4. Join all p-values of all tests in one unique dataset"
   ]
  },
  {
   "cell_type": "code",
   "execution_count": 9,
   "metadata": {},
   "outputs": [
    {
     "data": {
      "text/html": [
       "<div>\n",
       "<style scoped>\n",
       "    .dataframe tbody tr th:only-of-type {\n",
       "        vertical-align: middle;\n",
       "    }\n",
       "\n",
       "    .dataframe tbody tr th {\n",
       "        vertical-align: top;\n",
       "    }\n",
       "\n",
       "    .dataframe thead th {\n",
       "        text-align: right;\n",
       "    }\n",
       "</style>\n",
       "<table border=\"1\" class=\"dataframe\">\n",
       "  <thead>\n",
       "    <tr style=\"text-align: right;\">\n",
       "      <th></th>\n",
       "      <th>GM_S</th>\n",
       "      <th>SDV_S</th>\n",
       "      <th>CTGAN_S</th>\n",
       "      <th>WGANGP_S</th>\n",
       "      <th>GM_M</th>\n",
       "      <th>SDV_M</th>\n",
       "      <th>CTGAN_M</th>\n",
       "      <th>WGANGP_M</th>\n",
       "      <th>GM_K</th>\n",
       "      <th>SDV_K</th>\n",
       "      <th>CTGAN_K</th>\n",
       "      <th>WGANGP_K</th>\n",
       "    </tr>\n",
       "  </thead>\n",
       "  <tbody>\n",
       "    <tr>\n",
       "      <th>wife_age</th>\n",
       "      <td>0.0085</td>\n",
       "      <td>0.7800</td>\n",
       "      <td>0.0</td>\n",
       "      <td>0.0</td>\n",
       "      <td>0.0049</td>\n",
       "      <td>0.3818</td>\n",
       "      <td>0.0</td>\n",
       "      <td>0.0</td>\n",
       "      <td>0.0442</td>\n",
       "      <td>0.0277</td>\n",
       "      <td>0.0</td>\n",
       "      <td>0.0</td>\n",
       "    </tr>\n",
       "    <tr>\n",
       "      <th>children</th>\n",
       "      <td>0.0000</td>\n",
       "      <td>0.8864</td>\n",
       "      <td>0.0</td>\n",
       "      <td>0.0</td>\n",
       "      <td>0.0000</td>\n",
       "      <td>0.0158</td>\n",
       "      <td>0.0</td>\n",
       "      <td>0.0</td>\n",
       "      <td>0.0000</td>\n",
       "      <td>0.0002</td>\n",
       "      <td>0.0</td>\n",
       "      <td>0.0</td>\n",
       "    </tr>\n",
       "  </tbody>\n",
       "</table>\n",
       "</div>"
      ],
      "text/plain": [
       "            GM_S   SDV_S  CTGAN_S  WGANGP_S    GM_M   SDV_M  CTGAN_M  \\\n",
       "wife_age  0.0085  0.7800      0.0       0.0  0.0049  0.3818      0.0   \n",
       "children  0.0000  0.8864      0.0       0.0  0.0000  0.0158      0.0   \n",
       "\n",
       "          WGANGP_M    GM_K   SDV_K  CTGAN_K  WGANGP_K  \n",
       "wife_age       0.0  0.0442  0.0277      0.0       0.0  \n",
       "children       0.0  0.0000  0.0002      0.0       0.0  "
      ]
     },
     "execution_count": 9,
     "metadata": {},
     "output_type": "execute_result"
    }
   ],
   "source": [
    "tests_all_data = np.round(np.concatenate([df_student_test.values, df_mann_whitney.values, df_ks.values] , axis=1),4)\n",
    "#join results of all tests\n",
    "df_tests_all = pd.DataFrame(data=tests_all_data, index=(data['Real'].select_dtypes(include=['int64','float64'])).columns,\n",
    "                columns=['GM_S','SDV_S','CTGAN_S','WGANGP_S','GM_M','SDV_M','CTGAN_M','WGANGP_M','GM_K','SDV_K','CTGAN_K','WGANGP_K'])\n",
    "df_tests_all.to_csv('UNIVARIATE RESEMBLANCE RESULTS/STATISTICAL_TESTS_ALL.csv')\n",
    "df_tests_all"
   ]
  },
  {
   "cell_type": "markdown",
   "metadata": {},
   "source": [
    "### 3.4. Chi-Squared Test (categorical variables)\n",
    "- null hypothesis (p > 0.05): There is not statistical relationship between real and synthetic feature.\n",
    "- alternative hypothesis (p < 0.05): There is a statistical relationship between real and synthetic feature."
   ]
  },
  {
   "cell_type": "code",
   "execution_count": 10,
   "metadata": {},
   "outputs": [
    {
     "data": {
      "text/html": [
       "<div>\n",
       "<style scoped>\n",
       "    .dataframe tbody tr th:only-of-type {\n",
       "        vertical-align: middle;\n",
       "    }\n",
       "\n",
       "    .dataframe tbody tr th {\n",
       "        vertical-align: top;\n",
       "    }\n",
       "\n",
       "    .dataframe thead th {\n",
       "        text-align: right;\n",
       "    }\n",
       "</style>\n",
       "<table border=\"1\" class=\"dataframe\">\n",
       "  <thead>\n",
       "    <tr style=\"text-align: right;\">\n",
       "      <th></th>\n",
       "      <th>GM</th>\n",
       "      <th>SDV</th>\n",
       "      <th>CTGAN</th>\n",
       "      <th>WGANGP</th>\n",
       "    </tr>\n",
       "  </thead>\n",
       "  <tbody>\n",
       "    <tr>\n",
       "      <th>wife_education</th>\n",
       "      <td>0.4200</td>\n",
       "      <td>0.2212</td>\n",
       "      <td>0.9338</td>\n",
       "      <td>0.1482</td>\n",
       "    </tr>\n",
       "    <tr>\n",
       "      <th>husband_education</th>\n",
       "      <td>0.6556</td>\n",
       "      <td>0.6165</td>\n",
       "      <td>0.6220</td>\n",
       "      <td>0.3260</td>\n",
       "    </tr>\n",
       "    <tr>\n",
       "      <th>wife_religion</th>\n",
       "      <td>0.2305</td>\n",
       "      <td>0.3193</td>\n",
       "      <td>0.2409</td>\n",
       "      <td>1.0000</td>\n",
       "    </tr>\n",
       "    <tr>\n",
       "      <th>wife_working</th>\n",
       "      <td>0.8195</td>\n",
       "      <td>0.5735</td>\n",
       "      <td>0.2900</td>\n",
       "      <td>0.8019</td>\n",
       "    </tr>\n",
       "    <tr>\n",
       "      <th>husband_occupation</th>\n",
       "      <td>0.7844</td>\n",
       "      <td>0.8524</td>\n",
       "      <td>0.8500</td>\n",
       "      <td>0.3265</td>\n",
       "    </tr>\n",
       "    <tr>\n",
       "      <th>standard_of_living_index</th>\n",
       "      <td>0.7134</td>\n",
       "      <td>0.4023</td>\n",
       "      <td>0.0116</td>\n",
       "      <td>0.1976</td>\n",
       "    </tr>\n",
       "    <tr>\n",
       "      <th>media_exposure</th>\n",
       "      <td>0.8713</td>\n",
       "      <td>0.5782</td>\n",
       "      <td>0.0462</td>\n",
       "      <td>1.0000</td>\n",
       "    </tr>\n",
       "    <tr>\n",
       "      <th>contraceptive_method_used</th>\n",
       "      <td>0.2463</td>\n",
       "      <td>0.6431</td>\n",
       "      <td>0.7546</td>\n",
       "      <td>0.4237</td>\n",
       "    </tr>\n",
       "  </tbody>\n",
       "</table>\n",
       "</div>"
      ],
      "text/plain": [
       "                               GM     SDV   CTGAN  WGANGP\n",
       "wife_education             0.4200  0.2212  0.9338  0.1482\n",
       "husband_education          0.6556  0.6165  0.6220  0.3260\n",
       "wife_religion              0.2305  0.3193  0.2409  1.0000\n",
       "wife_working               0.8195  0.5735  0.2900  0.8019\n",
       "husband_occupation         0.7844  0.8524  0.8500  0.3265\n",
       "standard_of_living_index   0.7134  0.4023  0.0116  0.1976\n",
       "media_exposure             0.8713  0.5782  0.0462  1.0000\n",
       "contraceptive_method_used  0.2463  0.6431  0.7546  0.4237"
      ]
     },
     "execution_count": 10,
     "metadata": {},
     "output_type": "execute_result"
    }
   ],
   "source": [
    "p_values_chi = dict()\n",
    "for name in SYNTHESIZERS :\n",
    "    p_values_chi[name] = chi_squared_tests(data['Real'], data[name])\n",
    "df_chi = pd.DataFrame(data=p_values_chi, index=(data['Real'].select_dtypes(include=['category'])).columns)\n",
    "df_chi.to_csv('UNIVARIATE RESEMBLANCE RESULTS/chi_squared_tests.csv')\n",
    "df_chi"
   ]
  },
  {
   "cell_type": "markdown",
   "metadata": {},
   "source": [
    "## 4. Distances calculation for each numerical variable\n",
    "In this part some distance metrics are calculated for each numerical variable. First the data is scaled between 0 and 1."
   ]
  },
  {
   "cell_type": "code",
   "execution_count": 11,
   "metadata": {},
   "outputs": [
    {
     "data": {
      "text/plain": [
       "{'Real':       wife_age  children\n",
       " 0       0.6061    0.6875\n",
       " 1       0.9697    0.2500\n",
       " 2       0.6667    0.5000\n",
       " 3       0.3333    0.3125\n",
       " 4       0.3030    0.2500\n",
       " ...        ...       ...\n",
       " 1173    0.5455    0.3750\n",
       " 1174    0.2121    0.0625\n",
       " 1175    0.3939    0.1875\n",
       " 1176    0.6364    0.3125\n",
       " 1177    0.4545    0.1250\n",
       " \n",
       " [1178 rows x 2 columns],\n",
       " 'GM':       wife_age  children\n",
       " 0       0.8205    0.1176\n",
       " 1       0.0000    0.0588\n",
       " 2       0.2308    0.1176\n",
       " 3       0.5128    0.1765\n",
       " 4       0.4359    0.1176\n",
       " ...        ...       ...\n",
       " 1173    0.7692    0.1765\n",
       " 1174    0.1026    0.1176\n",
       " 1175    0.5897    0.4706\n",
       " 1176    0.3590    0.1765\n",
       " 1177    0.4359    0.0588\n",
       " \n",
       " [1178 rows x 2 columns],\n",
       " 'SDV':       wife_age  children\n",
       " 0       0.3818    0.5294\n",
       " 1       0.6182    0.7647\n",
       " 2       0.3091    0.4118\n",
       " 3       0.4545    0.5882\n",
       " 4       0.2909    0.5294\n",
       " ...        ...       ...\n",
       " 1173    0.4364    0.5294\n",
       " 1174    0.3818    0.4706\n",
       " 1175    0.4364    0.5882\n",
       " 1176    0.6545    0.4706\n",
       " 1177    0.4727    0.5882\n",
       " \n",
       " [1178 rows x 2 columns],\n",
       " 'CTGAN':       wife_age  children\n",
       " 0       0.2444    0.2353\n",
       " 1       0.2000    0.5882\n",
       " 2       0.0889    0.1765\n",
       " 3       0.3556    0.1176\n",
       " 4       0.4444    0.0588\n",
       " ...        ...       ...\n",
       " 1173    0.2222    0.2353\n",
       " 1174    0.1333    0.2941\n",
       " 1175    0.6667    0.1176\n",
       " 1176    0.5333    0.2353\n",
       " 1177    0.6889    0.2353\n",
       " \n",
       " [1178 rows x 2 columns],\n",
       " 'WGANGP':       wife_age  children\n",
       " 0       0.5455    0.6667\n",
       " 1       0.3182    0.3333\n",
       " 2       0.0455    0.3333\n",
       " 3       0.4091    0.1667\n",
       " 4       0.4091    0.3333\n",
       " ...        ...       ...\n",
       " 1173    0.4545    0.5000\n",
       " 1174    0.3636    0.0000\n",
       " 1175    0.3636    0.5000\n",
       " 1176    0.5909    0.6667\n",
       " 1177    0.4545    0.3333\n",
       " \n",
       " [1178 rows x 2 columns]}"
      ]
     },
     "execution_count": 11,
     "metadata": {},
     "output_type": "execute_result"
    }
   ],
   "source": [
    "#Scale the data\n",
    "num_cols = (data['Real'].select_dtypes(include=['int64','float64'])).columns\n",
    "scaled_data = dict()\n",
    "for name in DATA_TYPES :\n",
    "    scaled_data[name] = scale_data(data[name][num_cols])\n",
    "scaled_data"
   ]
  },
  {
   "cell_type": "markdown",
   "metadata": {},
   "source": [
    "### 4.1. Euclidean distances\n",
    "Square root of the sum of squares of differences between real feature and synthetic feature"
   ]
  },
  {
   "cell_type": "code",
   "execution_count": 12,
   "metadata": {},
   "outputs": [
    {
     "data": {
      "text/html": [
       "<div>\n",
       "<style scoped>\n",
       "    .dataframe tbody tr th:only-of-type {\n",
       "        vertical-align: middle;\n",
       "    }\n",
       "\n",
       "    .dataframe tbody tr th {\n",
       "        vertical-align: top;\n",
       "    }\n",
       "\n",
       "    .dataframe thead th {\n",
       "        text-align: right;\n",
       "    }\n",
       "</style>\n",
       "<table border=\"1\" class=\"dataframe\">\n",
       "  <thead>\n",
       "    <tr style=\"text-align: right;\">\n",
       "      <th></th>\n",
       "      <th>GM</th>\n",
       "      <th>SDV</th>\n",
       "      <th>CTGAN</th>\n",
       "      <th>WGANGP</th>\n",
       "    </tr>\n",
       "  </thead>\n",
       "  <tbody>\n",
       "    <tr>\n",
       "      <th>wife_age</th>\n",
       "      <td>11.6802</td>\n",
       "      <td>10.6778</td>\n",
       "      <td>12.7123</td>\n",
       "      <td>11.2982</td>\n",
       "    </tr>\n",
       "    <tr>\n",
       "      <th>children</th>\n",
       "      <td>7.3494</td>\n",
       "      <td>13.6304</td>\n",
       "      <td>7.3174</td>\n",
       "      <td>9.0209</td>\n",
       "    </tr>\n",
       "  </tbody>\n",
       "</table>\n",
       "</div>"
      ],
      "text/plain": [
       "               GM      SDV    CTGAN   WGANGP\n",
       "wife_age  11.6802  10.6778  12.7123  11.2982\n",
       "children   7.3494  13.6304   7.3174   9.0209"
      ]
     },
     "execution_count": 12,
     "metadata": {},
     "output_type": "execute_result"
    }
   ],
   "source": [
    "euclidean_dists = dict()\n",
    "#calculate distances for each synthesizer\n",
    "for name in SYNTHESIZERS :\n",
    "    euclidean_dists[name] = euclidean_distances(scaled_data['Real'], scaled_data[name])\n",
    "#create dataframe with distances\n",
    "df_euclidean_dists = pd.DataFrame(data=euclidean_dists, index=num_cols)\n",
    "df_euclidean_dists.to_csv('UNIVARIATE RESEMBLANCE RESULTS/euclidean_distances.csv')\n",
    "df_euclidean_dists"
   ]
  },
  {
   "cell_type": "markdown",
   "metadata": {},
   "source": [
    "### 4.2. Cosine distances\n",
    "Related with cosine similarity; the dot product of the two vectors divided by the product of the two vectors' lengths."
   ]
  },
  {
   "cell_type": "code",
   "execution_count": 13,
   "metadata": {},
   "outputs": [
    {
     "data": {
      "text/html": [
       "<div>\n",
       "<style scoped>\n",
       "    .dataframe tbody tr th:only-of-type {\n",
       "        vertical-align: middle;\n",
       "    }\n",
       "\n",
       "    .dataframe tbody tr th {\n",
       "        vertical-align: top;\n",
       "    }\n",
       "\n",
       "    .dataframe thead th {\n",
       "        text-align: right;\n",
       "    }\n",
       "</style>\n",
       "<table border=\"1\" class=\"dataframe\">\n",
       "  <thead>\n",
       "    <tr style=\"text-align: right;\">\n",
       "      <th></th>\n",
       "      <th>GM</th>\n",
       "      <th>SDV</th>\n",
       "      <th>CTGAN</th>\n",
       "      <th>WGANGP</th>\n",
       "    </tr>\n",
       "  </thead>\n",
       "  <tbody>\n",
       "    <tr>\n",
       "      <th>wife_age</th>\n",
       "      <td>0.1890</td>\n",
       "      <td>0.1602</td>\n",
       "      <td>0.2402</td>\n",
       "      <td>0.1752</td>\n",
       "    </tr>\n",
       "    <tr>\n",
       "      <th>children</th>\n",
       "      <td>0.3286</td>\n",
       "      <td>0.2108</td>\n",
       "      <td>0.3579</td>\n",
       "      <td>0.2993</td>\n",
       "    </tr>\n",
       "  </tbody>\n",
       "</table>\n",
       "</div>"
      ],
      "text/plain": [
       "              GM     SDV   CTGAN  WGANGP\n",
       "wife_age  0.1890  0.1602  0.2402  0.1752\n",
       "children  0.3286  0.2108  0.3579  0.2993"
      ]
     },
     "execution_count": 13,
     "metadata": {},
     "output_type": "execute_result"
    }
   ],
   "source": [
    "cosine_dists = dict()\n",
    "#calculate distances for each synthesizer\n",
    "for name in SYNTHESIZERS :\n",
    "    cosine_dists[name] = cosine_distances(scaled_data['Real'], scaled_data[name])\n",
    "#create dataframe with distances\n",
    "df_cosine_dists = pd.DataFrame(data=cosine_dists, index=num_cols)\n",
    "df_cosine_dists.to_csv('UNIVARIATE RESEMBLANCE RESULTS/cosine_distances.csv')\n",
    "df_cosine_dists"
   ]
  },
  {
   "cell_type": "markdown",
   "metadata": {},
   "source": [
    "### 4.3. Jensen-Shannon distances\n",
    "Measures the similarity between two probability distributions."
   ]
  },
  {
   "cell_type": "code",
   "execution_count": 14,
   "metadata": {},
   "outputs": [
    {
     "data": {
      "text/html": [
       "<div>\n",
       "<style scoped>\n",
       "    .dataframe tbody tr th:only-of-type {\n",
       "        vertical-align: middle;\n",
       "    }\n",
       "\n",
       "    .dataframe tbody tr th {\n",
       "        vertical-align: top;\n",
       "    }\n",
       "\n",
       "    .dataframe thead th {\n",
       "        text-align: right;\n",
       "    }\n",
       "</style>\n",
       "<table border=\"1\" class=\"dataframe\">\n",
       "  <thead>\n",
       "    <tr style=\"text-align: right;\">\n",
       "      <th></th>\n",
       "      <th>GM</th>\n",
       "      <th>SDV</th>\n",
       "      <th>CTGAN</th>\n",
       "      <th>WGANGP</th>\n",
       "    </tr>\n",
       "  </thead>\n",
       "  <tbody>\n",
       "    <tr>\n",
       "      <th>wife_age</th>\n",
       "      <td>0.0624</td>\n",
       "      <td>0.0528</td>\n",
       "      <td>0.0603</td>\n",
       "      <td>0.0524</td>\n",
       "    </tr>\n",
       "    <tr>\n",
       "      <th>children</th>\n",
       "      <td>0.0235</td>\n",
       "      <td>0.0319</td>\n",
       "      <td>0.0249</td>\n",
       "      <td>0.0294</td>\n",
       "    </tr>\n",
       "  </tbody>\n",
       "</table>\n",
       "</div>"
      ],
      "text/plain": [
       "              GM     SDV   CTGAN  WGANGP\n",
       "wife_age  0.0624  0.0528  0.0603  0.0524\n",
       "children  0.0235  0.0319  0.0249  0.0294"
      ]
     },
     "execution_count": 14,
     "metadata": {},
     "output_type": "execute_result"
    }
   ],
   "source": [
    "js_dists = dict()\n",
    "#calculate distances for each synthesizer\n",
    "for name in SYNTHESIZERS :\n",
    "    js_dists[name] = js_distances(scaled_data['Real'], scaled_data[name])\n",
    "#create dataframe with distances\n",
    "df_js_dists = pd.DataFrame(data=js_dists, index=num_cols)\n",
    "df_js_dists.to_csv('UNIVARIATE RESEMBLANCE RESULTS/js_distances.csv')\n",
    "df_js_dists"
   ]
  },
  {
   "cell_type": "markdown",
   "metadata": {},
   "source": [
    "### 4.4. Wasserstein distances\n",
    "Minimum amount of work required to transform a vector into another vector."
   ]
  },
  {
   "cell_type": "code",
   "execution_count": 15,
   "metadata": {},
   "outputs": [
    {
     "data": {
      "text/html": [
       "<div>\n",
       "<style scoped>\n",
       "    .dataframe tbody tr th:only-of-type {\n",
       "        vertical-align: middle;\n",
       "    }\n",
       "\n",
       "    .dataframe tbody tr th {\n",
       "        vertical-align: top;\n",
       "    }\n",
       "\n",
       "    .dataframe thead th {\n",
       "        text-align: right;\n",
       "    }\n",
       "</style>\n",
       "<table border=\"1\" class=\"dataframe\">\n",
       "  <thead>\n",
       "    <tr style=\"text-align: right;\">\n",
       "      <th></th>\n",
       "      <th>GM</th>\n",
       "      <th>SDV</th>\n",
       "      <th>CTGAN</th>\n",
       "      <th>WGANGP</th>\n",
       "    </tr>\n",
       "  </thead>\n",
       "  <tbody>\n",
       "    <tr>\n",
       "      <th>wife_age</th>\n",
       "      <td>0.0352</td>\n",
       "      <td>0.1071</td>\n",
       "      <td>0.1268</td>\n",
       "      <td>0.1403</td>\n",
       "    </tr>\n",
       "    <tr>\n",
       "      <th>children</th>\n",
       "      <td>0.0292</td>\n",
       "      <td>0.3398</td>\n",
       "      <td>0.0328</td>\n",
       "      <td>0.1102</td>\n",
       "    </tr>\n",
       "  </tbody>\n",
       "</table>\n",
       "</div>"
      ],
      "text/plain": [
       "              GM     SDV   CTGAN  WGANGP\n",
       "wife_age  0.0352  0.1071  0.1268  0.1403\n",
       "children  0.0292  0.3398  0.0328  0.1102"
      ]
     },
     "execution_count": 15,
     "metadata": {},
     "output_type": "execute_result"
    }
   ],
   "source": [
    "was_dists = dict()\n",
    "#calculate distances for each synthesizer\n",
    "for name in SYNTHESIZERS :\n",
    "    was_dists[name] = wass_distances(scaled_data['Real'], scaled_data[name])\n",
    "#create dataframe with distances\n",
    "df_was_dists = pd.DataFrame(data=was_dists, index=num_cols)\n",
    "df_was_dists.to_csv('UNIVARIATE RESEMBLANCE RESULTS/wass_distances.csv')\n",
    "df_was_dists"
   ]
  },
  {
   "cell_type": "markdown",
   "metadata": {},
   "source": [
    "### 4.5. Join all distances in an unique dataframe"
   ]
  },
  {
   "cell_type": "code",
   "execution_count": 16,
   "metadata": {},
   "outputs": [
    {
     "data": {
      "text/html": [
       "<div>\n",
       "<style scoped>\n",
       "    .dataframe tbody tr th:only-of-type {\n",
       "        vertical-align: middle;\n",
       "    }\n",
       "\n",
       "    .dataframe tbody tr th {\n",
       "        vertical-align: top;\n",
       "    }\n",
       "\n",
       "    .dataframe thead th {\n",
       "        text-align: right;\n",
       "    }\n",
       "</style>\n",
       "<table border=\"1\" class=\"dataframe\">\n",
       "  <thead>\n",
       "    <tr style=\"text-align: right;\">\n",
       "      <th></th>\n",
       "      <th>GM_C</th>\n",
       "      <th>SDV_C</th>\n",
       "      <th>CTGAN_C</th>\n",
       "      <th>WGANGP_C</th>\n",
       "      <th>GM_J</th>\n",
       "      <th>SDV_J</th>\n",
       "      <th>CTGAN_J</th>\n",
       "      <th>WGANGP_J</th>\n",
       "      <th>GM_W</th>\n",
       "      <th>SDV_W</th>\n",
       "      <th>CTGAN_W</th>\n",
       "      <th>WGANGP_W</th>\n",
       "    </tr>\n",
       "  </thead>\n",
       "  <tbody>\n",
       "    <tr>\n",
       "      <th>wife_age</th>\n",
       "      <td>0.1890</td>\n",
       "      <td>0.1602</td>\n",
       "      <td>0.2402</td>\n",
       "      <td>0.1752</td>\n",
       "      <td>0.0624</td>\n",
       "      <td>0.0528</td>\n",
       "      <td>0.0603</td>\n",
       "      <td>0.0524</td>\n",
       "      <td>0.0352</td>\n",
       "      <td>0.1071</td>\n",
       "      <td>0.1268</td>\n",
       "      <td>0.1403</td>\n",
       "    </tr>\n",
       "    <tr>\n",
       "      <th>children</th>\n",
       "      <td>0.3286</td>\n",
       "      <td>0.2108</td>\n",
       "      <td>0.3579</td>\n",
       "      <td>0.2993</td>\n",
       "      <td>0.0235</td>\n",
       "      <td>0.0319</td>\n",
       "      <td>0.0249</td>\n",
       "      <td>0.0294</td>\n",
       "      <td>0.0292</td>\n",
       "      <td>0.3398</td>\n",
       "      <td>0.0328</td>\n",
       "      <td>0.1102</td>\n",
       "    </tr>\n",
       "  </tbody>\n",
       "</table>\n",
       "</div>"
      ],
      "text/plain": [
       "            GM_C   SDV_C  CTGAN_C  WGANGP_C    GM_J   SDV_J  CTGAN_J  \\\n",
       "wife_age  0.1890  0.1602   0.2402    0.1752  0.0624  0.0528   0.0603   \n",
       "children  0.3286  0.2108   0.3579    0.2993  0.0235  0.0319   0.0249   \n",
       "\n",
       "          WGANGP_J    GM_W   SDV_W  CTGAN_W  WGANGP_W  \n",
       "wife_age    0.0524  0.0352  0.1071   0.1268    0.1403  \n",
       "children    0.0294  0.0292  0.3398   0.0328    0.1102  "
      ]
     },
     "execution_count": 16,
     "metadata": {},
     "output_type": "execute_result"
    }
   ],
   "source": [
    "distances_all_data = np.round(np.concatenate([df_cosine_dists.values, df_js_dists.values, df_was_dists.values] , axis=1),4)\n",
    "#join results of all tests\n",
    "df_dists_all = pd.DataFrame(data=distances_all_data, index=(data['Real'].select_dtypes(include=['int64','float64'])).columns,\n",
    "                columns=['GM_C','SDV_C','CTGAN_C','WGANGP_C','GM_J','SDV_J','CTGAN_J','WGANGP_J','GM_W','SDV_W','CTGAN_W','WGANGP_W'])\n",
    "df_dists_all.to_csv('UNIVARIATE RESEMBLANCE RESULTS/DISTANCES_ALL.csv')\n",
    "df_dists_all"
   ]
  },
  {
   "cell_type": "markdown",
   "metadata": {},
   "source": [
    "## 5. Boxplots comparisson\n",
    "In this part boxplots of each variable are plotted to analyse the statistical properties of each variable."
   ]
  },
  {
   "cell_type": "code",
   "execution_count": 17,
   "metadata": {},
   "outputs": [
    {
     "data": {
      "text/plain": [
       "2"
      ]
     },
     "execution_count": 17,
     "metadata": {},
     "output_type": "execute_result"
    }
   ],
   "source": [
    "columns = (data['Real'].select_dtypes(include=['float64','int64'])).columns\n",
    "len(columns)"
   ]
  },
  {
   "cell_type": "code",
   "execution_count": 18,
   "metadata": {},
   "outputs": [],
   "source": [
    "boxplots_data = dict()\n",
    "for c in columns :\n",
    "    boxplots_data[c] = data['Real'][c]\n",
    "    for name in SYNTHESIZERS :\n",
    "        boxplots_data[c] = np.column_stack((boxplots_data[c], data[name][c]))"
   ]
  },
  {
   "cell_type": "code",
   "execution_count": 19,
   "metadata": {},
   "outputs": [
    {
     "data": {
      "image/png": "[encoded data removed]",
      "text/plain": [
       "<Figure size 360x180 with 2 Axes>"
      ]
     },
     "metadata": {
      "needs_background": "light"
     },
     "output_type": "display_data"
    }
   ],
   "source": [
    "fig, axs = plt.subplots(nrows=1, ncols=2, figsize=(5,2.5))\n",
    "\n",
    "for i in range(0,len(columns)) :\n",
    "    ax = axs[i]\n",
    "    ax.boxplot(boxplots_data[columns[i]])\n",
    "    ax.set_title(columns[i])\n",
    "    ax.set_xticklabels(DATA_TYPES)\n",
    "\n",
    "for ax in axs.ravel():\n",
    "    ax.set_xticklabels(ax.get_xticklabels(), rotation = 30, ha=\"right\")\n",
    "fig.tight_layout()\n",
    "fig.savefig('UNIVARIATE RESEMBLANCE RESULTS/BOXPLOTS.svg', bbox_inches='tight')"
   ]
  },
  {
   "cell_type": "markdown",
   "metadata": {},
   "source": [
    "## 6. Frequency distributions comparisson\n",
    "In this part histograms of each variable are plotted to compare the frequency distributions."
   ]
  },
  {
   "cell_type": "code",
   "execution_count": 20,
   "metadata": {},
   "outputs": [
    {
     "data": {
      "text/plain": [
       "Index(['wife_age', 'wife_education', 'husband_education', 'children',\n",
       "       'wife_religion', 'wife_working', 'husband_occupation',\n",
       "       'standard_of_living_index', 'media_exposure',\n",
       "       'contraceptive_method_used'],\n",
       "      dtype='object')"
      ]
     },
     "execution_count": 20,
     "metadata": {},
     "output_type": "execute_result"
    }
   ],
   "source": [
    "columns = data['Real'].columns\n",
    "columns"
   ]
  },
  {
   "cell_type": "code",
   "execution_count": 21,
   "metadata": {},
   "outputs": [],
   "source": [
    "hists_data = dict()\n",
    "for c in columns :\n",
    "    hists_data[c] = data['Real'][c]\n",
    "    for name in SYNTHESIZERS :\n",
    "        hists_data[c] = np.column_stack((hists_data[c], data[name][c]))"
   ]
  },
  {
   "cell_type": "code",
   "execution_count": 22,
   "metadata": {},
   "outputs": [
    {
     "data": {
      "image/png": "[encoded data removed]",
      "text/plain": [
       "<Figure size 1008x360 with 10 Axes>"
      ]
     },
     "metadata": {
      "needs_background": "light"
     },
     "output_type": "display_data"
    }
   ],
   "source": [
    "fig, axs = plt.subplots(nrows=2, ncols=5, figsize=(14,5))\n",
    "idx = {0:[0,0], 1:[0,1], 2:[0,2], 3:[0,3], 4:[0,4], 5:[1,0], 6:[1,1], 7:[1,2], 8:[1,3], 9:[1,4]}\n",
    "\n",
    "for i in range(0,len(columns)) :\n",
    "    ax = axs[idx[i][0], idx[i][1]]\n",
    "    ax.set_title(columns[i])\n",
    "        \n",
    "    if i in [0,3] :\n",
    "        arr = hists_data[columns[i]]\n",
    "        for col in range(arr.shape[1]) :\n",
    "            arr_col = np.sort(arr[:,col])\n",
    "            sns.distplot(arr_col[int(0.05*len(arr_col)) : int(0.95 * len(arr_col))], hist=False, norm_hist=False, ax=ax)\n",
    "    else :\n",
    "        ax.hist(hists_data[columns[i]], density=False, histtype='bar', label=DATA_TYPES, align='mid')\n",
    "        \n",
    "        if columns[i] in ['wife_education','husband_education','husband_occupation','standard_of_living_index'] :\n",
    "            ax.set_xticks([1.15, 2.05, 2.95, 3.85])\n",
    "            ax.set_xticklabels([1,2,3,4])\n",
    "            \n",
    "        elif columns[i] in ['wife_religion','wife_working','media_exposure'] :\n",
    "            ax.set_xticks([0.05, 0.95])\n",
    "            ax.set_xticklabels([0,1])\n",
    "        \n",
    "        else :\n",
    "            ax.set_xticks([1.1, 2.1, 2.9])\n",
    "            ax.set_xticklabels([1,2,3])\n",
    "            \n",
    "    ax.set_yticks([])\n",
    "    \n",
    "fig.tight_layout()\n",
    "axs[idx[i][0], idx[i][1]].legend(ncol=5, bbox_to_anchor=(-0.8,-0.2))\n",
    "fig.savefig('UNIVARIATE RESEMBLANCE RESULTS/HISTOGRAMS.svg', bbox_inches='tight')"
   ]
  },
  {
   "cell_type": "code",
   "execution_count": null,
   "metadata": {},
   "outputs": [],
   "source": []
  }
 ],
 "metadata": {
  "kernelspec": {
   "display_name": "Python 3",
   "language": "python",
   "name": "python3"
  },
  "language_info": {
   "codemirror_mode": {
    "name": "ipython",
    "version": 3
   },
   "file_extension": ".py",
   "mimetype": "text/x-python",
   "name": "python",
   "nbconvert_exporter": "python",
   "pygments_lexer": "ipython3",
   "version": "3.8.5"
  }
 },
 "nbformat": 4,
 "nbformat_minor": 5
}
