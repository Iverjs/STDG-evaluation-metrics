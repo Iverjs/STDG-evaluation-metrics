{
 "cells": [
  {
   "cell_type": "markdown",
   "metadata": {},
   "source": [
    "# Similarity Evaluation Analysis (SEA) Dataset E"
   ]
  },
  {
   "cell_type": "code",
   "execution_count": 1,
   "metadata": {},
   "outputs": [
    {
     "name": "stdout",
     "output_type": "stream",
     "text": [
      "Libraries imported!!\n"
     ]
    }
   ],
   "source": [
    "#import libraries\n",
    "import warnings\n",
    "warnings.filterwarnings(\"ignore\")\n",
    "import numpy as np\n",
    "import pandas as pd\n",
    "from matplotlib import pyplot as plt\n",
    "import seaborn as sns\n",
    "import os\n",
    "print('Libraries imported!!')"
   ]
  },
  {
   "cell_type": "code",
   "execution_count": 2,
   "metadata": {},
   "outputs": [
    {
     "name": "stdout",
     "output_type": "stream",
     "text": [
      "Functions imported!!\n"
     ]
    }
   ],
   "source": [
    "#define directory of functions and actual directory\n",
    "HOME_PATH = '' #home path of the project\n",
    "FUNCTIONS_DIR = 'EVALUATION FUNCTIONS/PRIVACY'\n",
    "ACTUAL_DIR = os.getcwd()\n",
    "\n",
    "#change directory to functions directory\n",
    "os.chdir(HOME_PATH + FUNCTIONS_DIR)\n",
    "\n",
    "#import functions for univariate resemblance analisys\n",
    "from similarity_evaluation import scale_data\n",
    "from similarity_evaluation import pairwise_euclidean_distance\n",
    "from similarity_evaluation import hausdorff_distance\n",
    "from similarity_evaluation import rts_similarity\n",
    "\n",
    "#change directory to actual directory\n",
    "os.chdir(ACTUAL_DIR)\n",
    "print('Functions imported!!')"
   ]
  },
  {
   "cell_type": "markdown",
   "metadata": {},
   "source": [
    "## 1. Read real and synthetic datasets\n",
    "In this part real and synthetic datasets are read."
   ]
  },
  {
   "cell_type": "code",
   "execution_count": 3,
   "metadata": {},
   "outputs": [],
   "source": [
    "#Define global variables\n",
    "DATA_TYPES = ['Real','GM','SDV','CTGAN','WGANGP']\n",
    "SYNTHESIZERS = ['GM','SDV','CTGAN','WGANGP']\n",
    "FILEPATHS = {'Real' : HOME_PATH + 'REAL DATASETS/TRAIN DATASETS/E_PimaIndiansDiabetes_Real_Train.csv',\n",
    "            'GM' : HOME_PATH + 'SYNTHETIC DATASETS/GM/E_PimaIndiansDiabetes_Synthetic_GM.csv',\n",
    "            'SDV' : HOME_PATH + 'SYNTHETIC DATASETS/SDV/E_PimaIndiansDiabetes_Synthetic_SDV.csv',\n",
    "            'CTGAN' : HOME_PATH + 'SYNTHETIC DATASETS/CTGAN/E_PimaIndiansDiabetes_Synthetic_CTGAN.csv',\n",
    "            'WGANGP' : HOME_PATH + 'SYNTHETIC DATASETS/WGANGP/E_PimaIndiansDiabetes_Synthetic_WGANGP.csv'}\n",
    "categorical_columns = ['Outcome']\n",
    "data = dict()"
   ]
  },
  {
   "cell_type": "code",
   "execution_count": 5,
   "metadata": {},
   "outputs": [
    {
     "data": {
      "text/plain": [
       "{'Real':      Pregnancies  Glucose  BloodPressure  SkinThickness  Insulin   BMI  \\\n",
       " 0              2       84              0              0        0   0.0   \n",
       " 1              9      112             82             24        0  28.2   \n",
       " 2              1      139             46             19       83  28.7   \n",
       " 3              0      161             50              0        0  21.9   \n",
       " 4              6      134             80             37      370  46.2   \n",
       " ..           ...      ...            ...            ...      ...   ...   \n",
       " 609            5      139             64             35      140  28.6   \n",
       " 610            1       96            122              0        0  22.4   \n",
       " 611           10      101             86             37        0  45.6   \n",
       " 612            0      141              0              0        0  42.4   \n",
       " 613            0      125             96              0        0  22.5   \n",
       " \n",
       "      DiabetesPedigreeFunction  Age  Outcome  \n",
       " 0                       0.304   21        0  \n",
       " 1                       1.282   50        1  \n",
       " 2                       0.654   22        0  \n",
       " 3                       0.254   65        0  \n",
       " 4                       0.238   46        1  \n",
       " ..                        ...  ...      ...  \n",
       " 609                     0.411   26        0  \n",
       " 610                     0.207   27        0  \n",
       " 611                     1.136   38        1  \n",
       " 612                     0.205   29        1  \n",
       " 613                     0.262   21        0  \n",
       " \n",
       " [614 rows x 9 columns],\n",
       " 'GM':      Pregnancies  Glucose  BloodPressure  SkinThickness  Insulin        BMI  \\\n",
       " 0             11      140             67             -6      139  21.454652   \n",
       " 1              0      111             63              0      108  23.818868   \n",
       " 2              5       88             77             14      -64  27.547578   \n",
       " 3              3       94             79             25      120  32.149746   \n",
       " 4              9      131              0             29      244  30.608647   \n",
       " ..           ...      ...            ...            ...      ...        ...   \n",
       " 609            4      132             64             37      -43  40.607103   \n",
       " 610            7      114             79             20       -7  29.984722   \n",
       " 611            1       68             71              1      -89  23.307341   \n",
       " 612            6       97             73             32      257  27.208406   \n",
       " 613            7      109             69              4      104  36.714954   \n",
       " \n",
       "      DiabetesPedigreeFunction  Age  Outcome  \n",
       " 0                    0.138648   45        0  \n",
       " 1                    0.347041   25        0  \n",
       " 2                    0.331241   63        1  \n",
       " 3                    0.164218   38        1  \n",
       " 4                    0.296024   25        1  \n",
       " ..                        ...  ...      ...  \n",
       " 609                  0.863559   42        1  \n",
       " 610                  0.427422   21        0  \n",
       " 611                  0.261145   22        0  \n",
       " 612                  0.176116   29        0  \n",
       " 613                  0.514602   28        0  \n",
       " \n",
       " [614 rows x 9 columns],\n",
       " 'SDV':      Pregnancies  Glucose  BloodPressure  SkinThickness  Insulin   BMI  \\\n",
       " 0              3      145            129             37      230  41.9   \n",
       " 1              8      112             77             38      108  37.7   \n",
       " 2              1      114             64             44      260  30.7   \n",
       " 3              3      194             83             29      293  35.5   \n",
       " 4              2       70             65             26     -132  24.4   \n",
       " ..           ...      ...            ...            ...      ...   ...   \n",
       " 609           10      100             66             37       95  42.4   \n",
       " 610            0      122             77             -2      180  14.2   \n",
       " 611            6      126             62             32      119  25.4   \n",
       " 612            2      181             81             28      118  34.5   \n",
       " 613            3      163             74             33      117  33.8   \n",
       " \n",
       "      DiabetesPedigreeFunction  Age  Outcome  \n",
       " 0                       0.854   34        1  \n",
       " 1                       1.187   38        0  \n",
       " 2                       0.065   24        0  \n",
       " 3                       0.689   24        0  \n",
       " 4                       0.129   35        0  \n",
       " ..                        ...  ...      ...  \n",
       " 609                     0.093   34        0  \n",
       " 610                     0.246   34        0  \n",
       " 611                     0.673   48        0  \n",
       " 612                     0.888   38        1  \n",
       " 613                     0.277   15        0  \n",
       " \n",
       " [614 rows x 9 columns],\n",
       " 'CTGAN':      Pregnancies  Glucose  BloodPressure  SkinThickness  Insulin   BMI  \\\n",
       " 0              0       80            102             14        2  29.0   \n",
       " 1              8      142             42             35      -16  42.8   \n",
       " 2              1      116             66             12       -3  17.2   \n",
       " 3              0       73             92             -2       39  22.8   \n",
       " 4              0      213             67              2      268  24.2   \n",
       " ..           ...      ...            ...            ...      ...   ...   \n",
       " 609            5      130             73             11      586  36.5   \n",
       " 610            0      139             73              9       -2  21.7   \n",
       " 611           -1       77             57             29      -10  27.3   \n",
       " 612            0      104             50             47      -11  36.6   \n",
       " 613            6       81             44             54      163  23.2   \n",
       " \n",
       "      DiabetesPedigreeFunction  Age  Outcome  \n",
       " 0                       1.022   57        1  \n",
       " 1                       0.114   23        1  \n",
       " 2                       0.120   21        0  \n",
       " 3                       0.293   56        1  \n",
       " 4                       0.503   29        1  \n",
       " ..                        ...  ...      ...  \n",
       " 609                     0.562   55        1  \n",
       " 610                     0.287   29        1  \n",
       " 611                     0.047   51        0  \n",
       " 612                     0.847   59        1  \n",
       " 613                     0.108   23        1  \n",
       " \n",
       " [614 rows x 9 columns],\n",
       " 'WGANGP':      Pregnancies  Glucose  BloodPressure  SkinThickness  Insulin        BMI  \\\n",
       " 0              2      128             77              7       25  27.523672   \n",
       " 1              2      127             76             10       43  26.481262   \n",
       " 2              2      128             79              7       34  26.954290   \n",
       " 3              2      130             78              8       34  25.400051   \n",
       " 4              1      115             78             11       48  27.617651   \n",
       " ..           ...      ...            ...            ...      ...        ...   \n",
       " 609            2      117             71             14       60  28.184755   \n",
       " 610            2      123             75              7       30  29.951437   \n",
       " 611            2      126             74             11       53  27.091782   \n",
       " 612            2      129             74              9       47  26.547909   \n",
       " 613            2      136             25              7       21  27.907232   \n",
       " \n",
       "      DiabetesPedigreeFunction  Age  Outcome  \n",
       " 0                    0.330995   37        0  \n",
       " 1                    0.347808   33        0  \n",
       " 2                    0.311545   38        0  \n",
       " 3                    0.339302   35        0  \n",
       " 4                    0.316792   32        0  \n",
       " ..                        ...  ...      ...  \n",
       " 609                  0.345568   30        0  \n",
       " 610                  0.359797   35        0  \n",
       " 611                  0.317798   33        0  \n",
       " 612                  0.326646   33        0  \n",
       " 613                  0.293885   30        1  \n",
       " \n",
       " [614 rows x 9 columns]}"
      ]
     },
     "execution_count": 5,
     "metadata": {},
     "output_type": "execute_result"
    }
   ],
   "source": [
    "#iterate over all datasets filepaths and read each dataset\n",
    "for name, path in FILEPATHS.items() :\n",
    "    data[name] = pd.read_csv(path)\n",
    "    for col in categorical_columns :\n",
    "        data[name][col] = data[name][col].astype('category').cat.codes\n",
    "data"
   ]
  },
  {
   "cell_type": "markdown",
   "metadata": {},
   "source": [
    "## 2. Normalize data"
   ]
  },
  {
   "cell_type": "code",
   "execution_count": 6,
   "metadata": {},
   "outputs": [
    {
     "data": {
      "text/plain": [
       "{'Real':      Pregnancies   Glucose  BloodPressure  SkinThickness   Insulin       BMI  \\\n",
       " 0       0.117647  0.422111       0.000000       0.000000  0.000000  0.000000   \n",
       " 1       0.529412  0.562814       0.672131       0.380952  0.000000  0.420268   \n",
       " 2       0.058824  0.698492       0.377049       0.301587  0.098109  0.427720   \n",
       " 3       0.000000  0.809045       0.409836       0.000000  0.000000  0.326379   \n",
       " 4       0.352941  0.673367       0.655738       0.587302  0.437352  0.688525   \n",
       " ..           ...       ...            ...            ...       ...       ...   \n",
       " 609     0.294118  0.698492       0.524590       0.555556  0.165485  0.426230   \n",
       " 610     0.058824  0.482412       1.000000       0.000000  0.000000  0.333830   \n",
       " 611     0.588235  0.507538       0.704918       0.587302  0.000000  0.679583   \n",
       " 612     0.000000  0.708543       0.000000       0.000000  0.000000  0.631893   \n",
       " 613     0.000000  0.628141       0.786885       0.000000  0.000000  0.335320   \n",
       " \n",
       "      DiabetesPedigreeFunction       Age  Outcome  \n",
       " 0                    0.096499  0.000000      0.0  \n",
       " 1                    0.514091  0.483333      1.0  \n",
       " 2                    0.245944  0.016667      0.0  \n",
       " 3                    0.075149  0.733333      0.0  \n",
       " 4                    0.068318  0.416667      1.0  \n",
       " ..                        ...       ...      ...  \n",
       " 609                  0.142186  0.083333      0.0  \n",
       " 610                  0.055081  0.100000      0.0  \n",
       " 611                  0.451751  0.283333      1.0  \n",
       " 612                  0.054227  0.133333      1.0  \n",
       " 613                  0.078565  0.000000      0.0  \n",
       " \n",
       " [614 rows x 9 columns],\n",
       " 'GM':      Pregnancies   Glucose  BloodPressure  SkinThickness   Insulin       BMI  \\\n",
       " 0       0.764706  0.690265       0.586466       0.053333  0.623437  0.394015   \n",
       " 1       0.117647  0.561947       0.556391       0.133333  0.575000  0.433072   \n",
       " 2       0.411765  0.460177       0.661654       0.320000  0.306250  0.494670   \n",
       " 3       0.294118  0.486726       0.676692       0.466667  0.593750  0.570698   \n",
       " 4       0.647059  0.650442       0.082707       0.520000  0.787500  0.545239   \n",
       " ..           ...       ...            ...            ...       ...       ...   \n",
       " 609     0.352941  0.654867       0.563910       0.626667  0.339062  0.710413   \n",
       " 610     0.529412  0.575221       0.676692       0.400000  0.395313  0.534932   \n",
       " 611     0.176471  0.371681       0.616541       0.146667  0.267188  0.424621   \n",
       " 612     0.470588  0.500000       0.631579       0.560000  0.807813  0.489067   \n",
       " 613     0.529412  0.553097       0.601504       0.186667  0.568750  0.646115   \n",
       " \n",
       "      DiabetesPedigreeFunction       Age  Outcome  \n",
       " 0                    0.028097  0.436364      0.0  \n",
       " 1                    0.124128  0.072727      0.0  \n",
       " 2                    0.116847  0.763636      1.0  \n",
       " 3                    0.039880  0.309091      1.0  \n",
       " 4                    0.100619  0.072727      1.0  \n",
       " ..                        ...       ...      ...  \n",
       " 609                  0.362146  0.381818      1.0  \n",
       " 610                  0.161168  0.000000      0.0  \n",
       " 611                  0.084545  0.018182      0.0  \n",
       " 612                  0.045363  0.145455      0.0  \n",
       " 613                  0.201342  0.127273      0.0  \n",
       " \n",
       " [614 rows x 9 columns],\n",
       " 'SDV':      Pregnancies   Glucose  BloodPressure  SkinThickness   Insulin       BMI  \\\n",
       " 0       0.454545  0.663043       1.000000       0.673267  0.734724  0.715064   \n",
       " 1       0.681818  0.483696       0.570248       0.683168  0.552906  0.638838   \n",
       " 2       0.363636  0.494565       0.462810       0.742574  0.779434  0.511797   \n",
       " 3       0.454545  0.929348       0.619835       0.594059  0.828614  0.598911   \n",
       " 4       0.409091  0.255435       0.471074       0.564356  0.195231  0.397459   \n",
       " ..           ...       ...            ...            ...       ...       ...   \n",
       " 609     0.772727  0.418478       0.479339       0.673267  0.533532  0.724138   \n",
       " 610     0.318182  0.538043       0.570248       0.287129  0.660209  0.212341   \n",
       " 611     0.590909  0.559783       0.446281       0.623762  0.569300  0.415608   \n",
       " 612     0.409091  0.858696       0.603306       0.584158  0.567809  0.580762   \n",
       " 613     0.454545  0.760870       0.545455       0.633663  0.566319  0.568058   \n",
       " \n",
       "      DiabetesPedigreeFunction     Age  Outcome  \n",
       " 0                    0.570474  0.5125      1.0  \n",
       " 1                    0.792919  0.5625      0.0  \n",
       " 2                    0.043420  0.3875      0.0  \n",
       " 3                    0.460254  0.3875      0.0  \n",
       " 4                    0.086172  0.5250      0.0  \n",
       " ..                        ...     ...      ...  \n",
       " 609                  0.062124  0.5125      0.0  \n",
       " 610                  0.164329  0.5125      0.0  \n",
       " 611                  0.449566  0.6875      0.0  \n",
       " 612                  0.593186  0.5625      1.0  \n",
       " 613                  0.185037  0.2750      0.0  \n",
       " \n",
       " [614 rows x 9 columns],\n",
       " 'CTGAN':      Pregnancies   Glucose  BloodPressure  SkinThickness   Insulin       BMI  \\\n",
       " 0           0.10  0.510000       0.822222       0.256757  0.134083  0.369863   \n",
       " 1           0.50  0.716667       0.488889       0.540541  0.118512  0.684932   \n",
       " 2           0.15  0.630000       0.622222       0.229730  0.129758  0.100457   \n",
       " 3           0.10  0.486667       0.766667       0.040541  0.166090  0.228311   \n",
       " 4           0.10  0.953333       0.627778       0.094595  0.364187  0.260274   \n",
       " ..           ...       ...            ...            ...       ...       ...   \n",
       " 609         0.35  0.676667       0.661111       0.216216  0.639273  0.541096   \n",
       " 610         0.10  0.706667       0.661111       0.189189  0.130623  0.203196   \n",
       " 611         0.05  0.500000       0.572222       0.459459  0.123702  0.331050   \n",
       " 612         0.10  0.590000       0.533333       0.702703  0.122837  0.543379   \n",
       " 613         0.40  0.513333       0.500000       0.797297  0.273356  0.237443   \n",
       " \n",
       "      DiabetesPedigreeFunction       Age  Outcome  \n",
       " 0                    0.483444  0.532468      1.0  \n",
       " 1                    0.053926  0.090909      1.0  \n",
       " 2                    0.056764  0.064935      0.0  \n",
       " 3                    0.138600  0.519481      1.0  \n",
       " 4                    0.237938  0.168831      1.0  \n",
       " ..                        ...       ...      ...  \n",
       " 609                  0.265847  0.506494      1.0  \n",
       " 610                  0.135762  0.168831      1.0  \n",
       " 611                  0.022233  0.454545      0.0  \n",
       " 612                  0.400662  0.558442      1.0  \n",
       " 613                  0.051088  0.090909      1.0  \n",
       " \n",
       " [614 rows x 9 columns],\n",
       " 'WGANGP':      Pregnancies   Glucose  BloodPressure  SkinThickness   Insulin       BMI  \\\n",
       " 0            0.4  0.617647       0.920635       0.266667  0.271605  0.531944   \n",
       " 1            0.4  0.588235       0.904762       0.466667  0.493827  0.394091   \n",
       " 2            0.4  0.617647       0.952381       0.266667  0.382716  0.456646   \n",
       " 3            0.4  0.676471       0.936508       0.333333  0.382716  0.251107   \n",
       " 4            0.2  0.235294       0.936508       0.533333  0.555556  0.544372   \n",
       " ..           ...       ...            ...            ...       ...       ...   \n",
       " 609          0.4  0.294118       0.825397       0.733333  0.703704  0.619368   \n",
       " 610          0.4  0.470588       0.888889       0.266667  0.333333  0.853002   \n",
       " 611          0.4  0.558824       0.873016       0.533333  0.617284  0.474829   \n",
       " 612          0.4  0.647059       0.873016       0.400000  0.543210  0.402904   \n",
       " 613          0.4  0.852941       0.095238       0.266667  0.222222  0.582667   \n",
       " \n",
       "      DiabetesPedigreeFunction     Age  Outcome  \n",
       " 0                    0.387192  0.8125      0.0  \n",
       " 1                    0.444842  0.5625      0.0  \n",
       " 2                    0.320500  0.8750      0.0  \n",
       " 3                    0.415676  0.6875      0.0  \n",
       " 4                    0.338492  0.5000      0.0  \n",
       " ..                        ...     ...      ...  \n",
       " 609                  0.437163  0.3750      0.0  \n",
       " 610                  0.485950  0.6875      0.0  \n",
       " 611                  0.341943  0.5625      0.0  \n",
       " 612                  0.372279  0.5625      0.0  \n",
       " 613                  0.259946  0.3750      1.0  \n",
       " \n",
       " [614 rows x 9 columns]}"
      ]
     },
     "execution_count": 6,
     "metadata": {},
     "output_type": "execute_result"
    }
   ],
   "source": [
    "#Scale the data\n",
    "num_cols = (data['Real'].select_dtypes(include=['int64','float64'])).columns\n",
    "scaled_data = dict()\n",
    "for name in DATA_TYPES :\n",
    "    scaled_data[name] = scale_data(data[name])\n",
    "scaled_data"
   ]
  },
  {
   "cell_type": "markdown",
   "metadata": {},
   "source": [
    "## 3. Calculate the Euclidean distances between each pair of values"
   ]
  },
  {
   "cell_type": "code",
   "execution_count": 7,
   "metadata": {},
   "outputs": [
    {
     "data": {
      "text/plain": [
       "{'GM': '1.0291 ± 0.3182',\n",
       " 'SDV': '1.0872 ± 0.2921',\n",
       " 'CTGAN': '0.993 ± 0.3178',\n",
       " 'WGANGP': '1.0973 ± 0.2658'}"
      ]
     },
     "execution_count": 7,
     "metadata": {},
     "output_type": "execute_result"
    }
   ],
   "source": [
    "distances_values = dict()\n",
    "\n",
    "for name in SYNTHESIZERS :\n",
    "    #distances = distance.cdist(scaled_data[name].values, real_data_scaled, 'euclidean')\n",
    "    distances_values[name] = pairwise_euclidean_distance(scaled_data[name].values, scaled_data['Real'].values)\n",
    "    \n",
    "distances_values"
   ]
  },
  {
   "cell_type": "markdown",
   "metadata": {},
   "source": [
    "## 4. Calculate the Hausdorff distance between synthetic data and real data"
   ]
  },
  {
   "cell_type": "code",
   "execution_count": 8,
   "metadata": {},
   "outputs": [
    {
     "data": {
      "text/plain": [
       "{'GM': 0.723, 'SDV': 0.8446, 'CTGAN': 0.7578, 'WGANGP': 0.9053}"
      ]
     },
     "execution_count": 8,
     "metadata": {},
     "output_type": "execute_result"
    }
   ],
   "source": [
    "hausdorff_values = dict()\n",
    "\n",
    "for name in SYNTHESIZERS :\n",
    "    hausdorff_values[name] = hausdorff_distance(scaled_data[name].values, scaled_data['Real'].values)\n",
    "    \n",
    "hausdorff_values"
   ]
  },
  {
   "cell_type": "markdown",
   "metadata": {},
   "source": [
    "## 5. Calculate maximum RTS similarity"
   ]
  },
  {
   "cell_type": "code",
   "execution_count": 9,
   "metadata": {},
   "outputs": [
    {
     "data": {
      "text/plain": [
       "{'GM': {'min': 0.0204, 'mean': 0.7528, 'max': 0.9969},\n",
       " 'SDV': {'min': 0.0766, 'mean': 0.731, 'max': 0.9944},\n",
       " 'CTGAN': {'min': 0.052, 'mean': 0.7492, 'max': 0.9976},\n",
       " 'WGANGP': {'min': 0.0213, 'mean': 0.7426, 'max': 0.9895}}"
      ]
     },
     "execution_count": 9,
     "metadata": {},
     "output_type": "execute_result"
    }
   ],
   "source": [
    "str_values = dict()\n",
    "\n",
    "for name in SYNTHESIZERS :\n",
    "    str_values[name] = rts_similarity(scaled_data[name].values, scaled_data['Real'].values)\n",
    "    \n",
    "str_values"
   ]
  },
  {
   "cell_type": "code",
   "execution_count": null,
   "metadata": {},
   "outputs": [],
   "source": []
  }
 ],
 "metadata": {
  "kernelspec": {
   "display_name": "Python 3",
   "language": "python",
   "name": "python3"
  },
  "language_info": {
   "codemirror_mode": {
    "name": "ipython",
    "version": 3
   },
   "file_extension": ".py",
   "mimetype": "text/x-python",
   "name": "python",
   "nbconvert_exporter": "python",
   "pygments_lexer": "ipython3",
   "version": "3.8.5"
  }
 },
 "nbformat": 4,
 "nbformat_minor": 4
}
