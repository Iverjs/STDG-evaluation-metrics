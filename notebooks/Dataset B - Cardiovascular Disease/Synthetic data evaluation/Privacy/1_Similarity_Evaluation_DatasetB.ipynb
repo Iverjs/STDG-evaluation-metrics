{
 "cells": [
  {
   "cell_type": "markdown",
   "metadata": {},
   "source": [
    "# Similarity Evaluation Analysis (SEA) Dataset B"
   ]
  },
  {
   "cell_type": "code",
   "execution_count": 1,
   "metadata": {},
   "outputs": [
    {
     "name": "stdout",
     "output_type": "stream",
     "text": [
      "Libraries imported!!\n"
     ]
    }
   ],
   "source": [
    "#import libraries\n",
    "import warnings\n",
    "warnings.filterwarnings(\"ignore\")\n",
    "import numpy as np\n",
    "import pandas as pd\n",
    "from matplotlib import pyplot as plt\n",
    "import seaborn as sns\n",
    "import os\n",
    "print('Libraries imported!!')"
   ]
  },
  {
   "cell_type": "code",
   "execution_count": 2,
   "metadata": {},
   "outputs": [
    {
     "name": "stdout",
     "output_type": "stream",
     "text": [
      "Functions imported!!\n"
     ]
    }
   ],
   "source": [
    "#define directory of functions and actual directory\n",
    "HOME_PATH = '' #home path of the project\n",
    "FUNCTIONS_DIR = 'EVALUATION FUNCTIONS/PRIVACY'\n",
    "ACTUAL_DIR = os.getcwd()\n",
    "\n",
    "#change directory to functions directory\n",
    "os.chdir(HOME_PATH + FUNCTIONS_DIR)\n",
    "\n",
    "#import functions for univariate resemblance analisys\n",
    "from similarity_evaluation import scale_data\n",
    "from similarity_evaluation import pairwise_euclidean_distance\n",
    "from similarity_evaluation import hausdorff_distance\n",
    "from similarity_evaluation import rts_similarity\n",
    "\n",
    "#change directory to actual directory\n",
    "os.chdir(ACTUAL_DIR)\n",
    "print('Functions imported!!')"
   ]
  },
  {
   "cell_type": "markdown",
   "metadata": {},
   "source": [
    "## 1. Read real and synthetic datasets\n",
    "In this part real and synthetic datasets are read."
   ]
  },
  {
   "cell_type": "code",
   "execution_count": 3,
   "metadata": {},
   "outputs": [],
   "source": [
    "#Define global variables\n",
    "DATA_TYPES = ['Real','GM','SDV','CTGAN','WGANGP']\n",
    "SYNTHESIZERS = ['GM','SDV','CTGAN','WGANGP']\n",
    "FILEPATHS = {'Real' : HOME_PATH + 'REAL DATASETS/TRAIN DATASETS/B_Cardio_Data_Real_Train.csv',\n",
    "            'GM' : HOME_PATH + 'SYNTHETIC DATASETS/GM/B_Cardio_Data_Synthetic_GM.csv',\n",
    "            'SDV' : HOME_PATH + 'SYNTHETIC DATASETS/SDV/B_Cardio_Data_Synthetic_SDV.csv',\n",
    "            'CTGAN' : HOME_PATH + 'SYNTHETIC DATASETS/CTGAN/B_Cardio_Data_Synthetic_CTGAN.csv',\n",
    "            'WGANGP' : HOME_PATH + 'SYNTHETIC DATASETS/WGANGP/B_Cardio_Data_Synthetic_WGANGP.csv'}\n",
    "categorical_columns = ['gender','cholesterol','gluc','smoke','alco','active','cardio']\n",
    "data = dict()"
   ]
  },
  {
   "cell_type": "code",
   "execution_count": 4,
   "metadata": {},
   "outputs": [
    {
     "data": {
      "text/plain": [
       "{'Real':           id    age  gender  height  weight  ap_hi  ap_lo  cholesterol  gluc  \\\n",
       " 0      67617  21876       0     154    80.0    130     90            1     0   \n",
       " 1      96320  16717       1     162    70.0    140     90            0     0   \n",
       " 2      17571  21128       1     174    92.0    150    100            0     0   \n",
       " 3      46492  23366       1     173    76.0    120     82            0     0   \n",
       " 4        945  20281       0     160    60.0    120     80            0     0   \n",
       " ...      ...    ...     ...     ...     ...    ...    ...          ...   ...   \n",
       " 55995  53137  16001       1     170    75.0    150     80            0     0   \n",
       " 55996   8918  23209       1     162    73.0    160     90            0     0   \n",
       " 55997  78302  23589       0     169    74.0    120     80            0     0   \n",
       " 55998   1197  18227       0     167    70.0    120     80            0     0   \n",
       " 55999  22556  15114       1     177    64.0    120     80            0     0   \n",
       " \n",
       "        smoke  alco  active  cardio  \n",
       " 0          0     0       1       1  \n",
       " 1          0     0       0       1  \n",
       " 2          0     0       1       1  \n",
       " 3          0     0       1       1  \n",
       " 4          0     0       1       0  \n",
       " ...      ...   ...     ...     ...  \n",
       " 55995      1     0       1       1  \n",
       " 55996      0     0       1       1  \n",
       " 55997      0     0       1       0  \n",
       " 55998      0     0       0       0  \n",
       " 55999      0     0       1       0  \n",
       " \n",
       " [56000 rows x 13 columns],\n",
       " 'GM':           id    age  gender  height     weight  ap_hi  ap_lo  cholesterol  \\\n",
       " 0       3540  14298       1     159  68.646934    141     97            0   \n",
       " 1       8670  22551       0     149  72.531185    131     74            2   \n",
       " 2      26537  22729       0     148  74.919117    140    108            1   \n",
       " 3      16126  19467       0     160  86.949278    123     90            0   \n",
       " 4      39966  22059       0     171  83.258253    116     81            0   \n",
       " ...      ...    ...     ...     ...        ...    ...    ...          ...   \n",
       " 55995  61086  20098       0     156  60.735778    128     92            0   \n",
       " 55996  95276  20522       1     154  88.455547    125    109            1   \n",
       " 55997  49638  18805       0     165  79.951021    171    138            1   \n",
       " 55998  30191  18800       1     164  66.637624    109     71            1   \n",
       " 55999  39216  19840       1     168  68.232067    137     76            0   \n",
       " \n",
       "        gluc  smoke  alco  active  cardio  \n",
       " 0         0      0     0       1       0  \n",
       " 1         0      0     0       1       1  \n",
       " 2         0      0     0       1       1  \n",
       " 3         0      0     0       0       1  \n",
       " 4         0      0     0       0       0  \n",
       " ...     ...    ...   ...     ...     ...  \n",
       " 55995     0      0     1       0       1  \n",
       " 55996     0      0     0       1       1  \n",
       " 55997     0      0     0       1       1  \n",
       " 55998     1      1     1       1       0  \n",
       " 55999     0      0     0       1       0  \n",
       " \n",
       " [56000 rows x 13 columns],\n",
       " 'SDV':           id    age  gender  height  weight  ap_hi  ap_lo  cholesterol  gluc  \\\n",
       " 0      24346  15207       0     159   106.0    226     58            0     0   \n",
       " 1      26676  17505       0     162    55.3     70    241            0     0   \n",
       " 2      49760  20801       0     166    61.4    195     -9            0     0   \n",
       " 3      14459  16731       0     150    55.8      1     51            0     0   \n",
       " 4      52249  19696       0     154    69.1    -75     71            0     0   \n",
       " ...      ...    ...     ...     ...     ...    ...    ...          ...   ...   \n",
       " 55995  78730  17842       1     177    52.6    260    233            1     0   \n",
       " 55996  41123  18471       0     171   110.0     94    273            0     0   \n",
       " 55997  68825  18308       0     168    48.4     25    423            0     0   \n",
       " 55998  45094  17022       0     161    87.5     -7    202            1     0   \n",
       " 55999  89629  18680       0     167    70.0    218   -202            0     0   \n",
       " \n",
       "        smoke  alco  active  cardio  \n",
       " 0          0     0       1       1  \n",
       " 1          0     0       1       1  \n",
       " 2          0     0       1       1  \n",
       " 3          0     0       1       1  \n",
       " 4          0     0       0       1  \n",
       " ...      ...   ...     ...     ...  \n",
       " 55995      0     0       0       1  \n",
       " 55996      0     0       1       1  \n",
       " 55997      0     0       1       0  \n",
       " 55998      0     0       1       1  \n",
       " 55999      0     0       0       1  \n",
       " \n",
       " [56000 rows x 13 columns],\n",
       " 'CTGAN':           id    age  gender  height  weight  ap_hi  ap_lo  cholesterol  gluc  \\\n",
       " 0      95179  20434       1     171    72.9    133     84            2     0   \n",
       " 1      66469  19869       0     159    73.5    175     95            0     0   \n",
       " 2      48068  18480       0     169    60.7    119     76            0     0   \n",
       " 3      32289  21122       0     162    83.5    104     74            0     0   \n",
       " 4      40044  18057       1     171    93.0    137     78            0     0   \n",
       " ...      ...    ...     ...     ...     ...    ...    ...          ...   ...   \n",
       " 55995  89136  20408       0     171    94.8    134     80            0     0   \n",
       " 55996  67066  14787       1     172    52.4    118     77            0     0   \n",
       " 55997  39692  19069       1     174    79.8     92     70            0     0   \n",
       " 55998  87110  21793       0     162    62.7    141     91            0     0   \n",
       " 55999  71191  21103       1     170    93.5    104     74            1     1   \n",
       " \n",
       "        smoke  alco  active  cardio  \n",
       " 0          0     0       1       1  \n",
       " 1          1     0       1       1  \n",
       " 2          0     0       1       1  \n",
       " 3          0     0       1       1  \n",
       " 4          0     0       1       0  \n",
       " ...      ...   ...     ...     ...  \n",
       " 55995      0     0       1       1  \n",
       " 55996      0     0       1       0  \n",
       " 55997      0     0       1       0  \n",
       " 55998      0     0       1       1  \n",
       " 55999      0     0       1       1  \n",
       " \n",
       " [56000 rows x 13 columns],\n",
       " 'WGANGP':           id    age  gender  height      weight  ap_hi  ap_lo  cholesterol  \\\n",
       " 0      56228  18085       0     165   92.330704    131     89            0   \n",
       " 1      53329  18063       0     165   90.155136    130     79            0   \n",
       " 2      47872  18119       0     165   78.922653    121     98            0   \n",
       " 3      61915  18502       0     165   85.397675    135    102            0   \n",
       " 4      52196  17734       0     165   92.626076    128     84            0   \n",
       " ...      ...    ...     ...     ...         ...    ...    ...          ...   \n",
       " 55995  55651  17762       0     165  106.259781    134     76            0   \n",
       " 55996  61439  18372       0     165   78.966408    128     72            0   \n",
       " 55997  56393  17824       0     166   92.484062    125     82            0   \n",
       " 55998  51686  17814       0     166   94.494011    128     82            0   \n",
       " 55999  54681  17785       0     166   94.435616    119     85            0   \n",
       " \n",
       "        gluc  smoke  alco  active  cardio  \n",
       " 0         0      0     0       0       1  \n",
       " 1         0      0     0       0       1  \n",
       " 2         0      0     0       0       0  \n",
       " 3         0      0     0       1       1  \n",
       " 4         0      0     0       0       1  \n",
       " ...     ...    ...   ...     ...     ...  \n",
       " 55995     0      0     0       0       1  \n",
       " 55996     0      0     0       1       0  \n",
       " 55997     0      0     0       0       1  \n",
       " 55998     0      0     0       0       0  \n",
       " 55999     0      0     0       0       1  \n",
       " \n",
       " [56000 rows x 13 columns]}"
      ]
     },
     "execution_count": 4,
     "metadata": {},
     "output_type": "execute_result"
    }
   ],
   "source": [
    "#iterate over all datasets filepaths and read each dataset\n",
    "for name, path in FILEPATHS.items() :\n",
    "    data[name] = pd.read_csv(path)\n",
    "    for col in categorical_columns :\n",
    "        data[name][col] = data[name][col].astype('category').cat.codes\n",
    "data"
   ]
  },
  {
   "cell_type": "markdown",
   "metadata": {},
   "source": [
    "## 2. Normalize data"
   ]
  },
  {
   "cell_type": "code",
   "execution_count": 5,
   "metadata": {},
   "outputs": [
    {
     "data": {
      "text/plain": [
       "{'Real':              id       age    height    weight     ap_hi     ap_lo\n",
       " 0      0.676177  0.857762  0.507692  0.325843  0.019068  0.008182\n",
       " 1      0.963210  0.458304  0.548718  0.269663  0.019774  0.008182\n",
       " 2      0.175712  0.799845  0.610256  0.393258  0.020480  0.009091\n",
       " 3      0.464925  0.973132  0.605128  0.303371  0.018362  0.007455\n",
       " 4      0.009450  0.734262  0.538462  0.213483  0.018362  0.007273\n",
       " ...         ...       ...       ...       ...       ...       ...\n",
       " 55995  0.531375  0.402865  0.589744  0.297753  0.020480  0.007273\n",
       " 55996  0.089181  0.960976  0.548718  0.286517  0.021186  0.008182\n",
       " 55997  0.783028  0.990399  0.584615  0.292135  0.018362  0.007273\n",
       " 55998  0.011970  0.575223  0.574359  0.269663  0.018362  0.007273\n",
       " 55999  0.225562  0.334185  0.625641  0.235955  0.018362  0.007273\n",
       " \n",
       " [56000 rows x 6 columns],\n",
       " 'GM':              id       age    height    weight     ap_hi     ap_lo\n",
       " 0      0.035401  0.272422  0.520833  0.276029  0.385762  0.014169\n",
       " 1      0.086702  0.861754  0.468750  0.297747  0.377483  0.012080\n",
       " 2      0.265375  0.874464  0.463542  0.311099  0.384934  0.015168\n",
       " 3      0.161263  0.641531  0.526042  0.378366  0.370861  0.013533\n",
       " 4      0.399668  0.826621  0.583333  0.357728  0.365066  0.012716\n",
       " ...         ...       ...       ...       ...       ...       ...\n",
       " 55995  0.610872  0.686590  0.505208  0.231793  0.375000  0.013715\n",
       " 55996  0.952779  0.716867  0.494792  0.386788  0.372517  0.015259\n",
       " 55997  0.496390  0.594259  0.552083  0.339235  0.410596  0.017893\n",
       " 55998  0.301916  0.593902  0.546875  0.264794  0.359272  0.011807\n",
       " 55999  0.392168  0.668166  0.567708  0.273709  0.382450  0.012262\n",
       " \n",
       " [56000 rows x 6 columns],\n",
       " 'SDV':              id       age    height    weight     ap_hi     ap_lo\n",
       " 0      0.397377  0.290646  0.414286  0.778049  0.583400  0.466547\n",
       " 1      0.407397  0.395711  0.457143  0.365854  0.458899  0.575866\n",
       " 2      0.506670  0.546406  0.514286  0.415447  0.558659  0.426523\n",
       " 3      0.354857  0.360324  0.285714  0.369919  0.403831  0.462366\n",
       " 4      0.517374  0.495885  0.342857  0.478049  0.343176  0.474313\n",
       " ...         ...       ...       ...       ...       ...       ...\n",
       " 55995  0.631256  0.411119  0.671429  0.343902  0.610535  0.571087\n",
       " 55996  0.469527  0.439877  0.585714  0.810569  0.478053  0.594982\n",
       " 55997  0.588660  0.432425  0.542857  0.309756  0.422985  0.684588\n",
       " 55998  0.486604  0.373628  0.442857  0.627642  0.397446  0.552569\n",
       " 55999  0.678128  0.449433  0.528571  0.485366  0.577015  0.311231\n",
       " \n",
       " [56000 rows x 6 columns],\n",
       " 'CTGAN':              id       age  height    weight     ap_hi     ap_lo\n",
       " 0      0.918505  0.633261    0.58  0.216994  0.728745  0.046064\n",
       " 1      0.646918  0.577858    0.34  0.221208  0.898785  0.055276\n",
       " 2      0.472851  0.441655    0.54  0.131320  0.672065  0.039363\n",
       " 3      0.323587  0.700726    0.40  0.291433  0.611336  0.037688\n",
       " 4      0.396946  0.400177    0.58  0.358146  0.744939  0.041039\n",
       " ...         ...       ...     ...       ...       ...       ...\n",
       " 55995  0.861340  0.630712    0.58  0.370787  0.732794  0.042714\n",
       " 55996  0.652565  0.079525    0.60  0.073034  0.668016  0.040201\n",
       " 55997  0.393617  0.499412    0.64  0.265449  0.562753  0.034338\n",
       " 55998  0.842175  0.766523    0.40  0.145365  0.761134  0.051926\n",
       " 55999  0.691587  0.698863    0.56  0.361657  0.611336  0.037688\n",
       " \n",
       " [56000 rows x 6 columns],\n",
       " 'WGANGP':              id       age    height    weight     ap_hi     ap_lo\n",
       " 0      0.268374  0.220578  0.714286  0.469198  0.391892  0.423077\n",
       " 1      0.223547  0.215410  0.714286  0.423363  0.378378  0.294872\n",
       " 2      0.139166  0.228565  0.714286  0.186717  0.256757  0.538462\n",
       " 3      0.356311  0.318534  0.714286  0.323133  0.445946  0.589744\n",
       " 4      0.206027  0.138125  0.714286  0.475420  0.351351  0.358974\n",
       " ...         ...       ...       ...       ...       ...       ...\n",
       " 55995  0.259452  0.144703  0.714286  0.762655  0.432432  0.256410\n",
       " 55996  0.348951  0.287996  0.714286  0.187639  0.351351  0.205128\n",
       " 55997  0.270925  0.159267  0.857143  0.472429  0.310811  0.333333\n",
       " 55998  0.198141  0.156918  0.857143  0.514774  0.351351  0.333333\n",
       " 55999  0.244453  0.150106  0.857143  0.513544  0.229730  0.371795\n",
       " \n",
       " [56000 rows x 6 columns]}"
      ]
     },
     "execution_count": 5,
     "metadata": {},
     "output_type": "execute_result"
    }
   ],
   "source": [
    "#Scale the data\n",
    "num_cols = (data['Real'].select_dtypes(include=['int64','float64'])).columns\n",
    "scaled_data = dict()\n",
    "for name in DATA_TYPES :\n",
    "    scaled_data[name] = scale_data(data[name][num_cols])\n",
    "scaled_data"
   ]
  },
  {
   "cell_type": "markdown",
   "metadata": {},
   "source": [
    "## 3. Calculate the Euclidean distances between each pair of values"
   ]
  },
  {
   "cell_type": "code",
   "execution_count": 6,
   "metadata": {},
   "outputs": [
    {
     "data": {
      "text/plain": [
       "{'GM': '0.5923 ± 0.1652',\n",
       " 'SDV': '0.8678 ± 0.137',\n",
       " 'CTGAN': '0.8656 ± 0.144',\n",
       " 'WGANGP': '0.8992 ± 0.1638'}"
      ]
     },
     "execution_count": 6,
     "metadata": {},
     "output_type": "execute_result"
    }
   ],
   "source": [
    "distances_values = dict()\n",
    "\n",
    "for name in SYNTHESIZERS :\n",
    "    #distances = distance.cdist(scaled_data[name].values, real_data_scaled, 'euclidean')\n",
    "    distances_values[name] = pairwise_euclidean_distance(scaled_data[name].values, scaled_data['Real'].values)\n",
    "    \n",
    "distances_values"
   ]
  },
  {
   "cell_type": "markdown",
   "metadata": {},
   "source": [
    "## 4. Calculate the Hausdorff distance between synthetic data and real data"
   ]
  },
  {
   "cell_type": "code",
   "execution_count": 7,
   "metadata": {},
   "outputs": [
    {
     "data": {
      "text/plain": [
       "{'GM': 0.6358, 'SDV': 1.0176, 'CTGAN': 0.9339, 'WGANGP': 0.9236}"
      ]
     },
     "execution_count": 7,
     "metadata": {},
     "output_type": "execute_result"
    }
   ],
   "source": [
    "hausdorff_values = dict()\n",
    "\n",
    "for name in SYNTHESIZERS :\n",
    "    hausdorff_values[name] = hausdorff_distance(scaled_data[name].values, scaled_data['Real'].values)\n",
    "    \n",
    "hausdorff_values"
   ]
  },
  {
   "cell_type": "markdown",
   "metadata": {},
   "source": [
    "## 5. Calculate maximum RTS similarity"
   ]
  },
  {
   "cell_type": "code",
   "execution_count": 8,
   "metadata": {},
   "outputs": [
    {
     "data": {
      "text/plain": [
       "{'GM': {'min': 0.1072, 'mean': 0.8684, 'max': 0.9997},\n",
       " 'SDV': {'min': 0.1361, 'mean': 0.7451, 'max': 0.9941},\n",
       " 'CTGAN': {'min': 0.1052, 'mean': 0.7282, 'max': 0.9998},\n",
       " 'WGANGP': {'min': 0.0577, 'mean': 0.6797, 'max': 0.9907}}"
      ]
     },
     "execution_count": 8,
     "metadata": {},
     "output_type": "execute_result"
    }
   ],
   "source": [
    "str_values = dict()\n",
    "\n",
    "for name in SYNTHESIZERS :\n",
    "    str_values[name] = rts_similarity(scaled_data[name].values, scaled_data['Real'].values)\n",
    "    \n",
    "str_values"
   ]
  },
  {
   "cell_type": "code",
   "execution_count": null,
   "metadata": {},
   "outputs": [],
   "source": []
  }
 ],
 "metadata": {
  "kernelspec": {
   "display_name": "Python 3",
   "language": "python",
   "name": "python3"
  },
  "language_info": {
   "codemirror_mode": {
    "name": "ipython",
    "version": 3
   },
   "file_extension": ".py",
   "mimetype": "text/x-python",
   "name": "python",
   "nbconvert_exporter": "python",
   "pygments_lexer": "ipython3",
   "version": "3.8.5"
  }
 },
 "nbformat": 4,
 "nbformat_minor": 4
}
