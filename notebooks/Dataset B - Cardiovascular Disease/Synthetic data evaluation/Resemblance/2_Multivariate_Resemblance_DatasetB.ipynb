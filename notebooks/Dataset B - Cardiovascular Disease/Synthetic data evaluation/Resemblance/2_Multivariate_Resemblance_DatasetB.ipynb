{
 "cells": [
  {
   "cell_type": "markdown",
   "metadata": {},
   "source": [
    "# Multivariate Resemblance Analysis (MRA) Dataset B\n",
    "In this notebook the multivariate resemblance analysis of Dataset B is performed for all STDG approaches."
   ]
  },
  {
   "cell_type": "code",
   "execution_count": 1,
   "metadata": {},
   "outputs": [
    {
     "name": "stdout",
     "output_type": "stream",
     "text": [
      "Libraries imported!!\n"
     ]
    }
   ],
   "source": [
    "#import libraries\n",
    "import warnings\n",
    "warnings.filterwarnings(\"ignore\")\n",
    "import numpy as np\n",
    "import pandas as pd\n",
    "from matplotlib import pyplot as plt\n",
    "import os\n",
    "print('Libraries imported!!')"
   ]
  },
  {
   "cell_type": "code",
   "execution_count": 2,
   "metadata": {},
   "outputs": [
    {
     "name": "stdout",
     "output_type": "stream",
     "text": [
      "Functions imported!!\n"
     ]
    }
   ],
   "source": [
    "#define directory of functions and actual directory\n",
    "HOME_PATH = '' #home path of the project\n",
    "FUNCTIONS_DIR = 'EVALUATION FUNCTIONS/RESEMBLANCE'\n",
    "ACTUAL_DIR = os.getcwd()\n",
    "\n",
    "#change directory to functions directory\n",
    "os.chdir(HOME_PATH + FUNCTIONS_DIR)\n",
    "\n",
    "\n",
    "#import functions for univariate resemblance analisys\n",
    "from multivariate_resemblance import get_numerical_correlations\n",
    "from multivariate_resemblance import plot_correlations\n",
    "from multivariate_resemblance import get_categorical_correlations\n",
    "from multivariate_resemblance import compute_mra_score\n",
    "\n",
    "\n",
    "#change directory to actual directory\n",
    "os.chdir(ACTUAL_DIR)\n",
    "print('Functions imported!!')"
   ]
  },
  {
   "cell_type": "markdown",
   "metadata": {},
   "source": [
    "## 1. Read real and synthetic datasets\n",
    "In this part real and synthetic datasets are read."
   ]
  },
  {
   "cell_type": "code",
   "execution_count": 3,
   "metadata": {},
   "outputs": [],
   "source": [
    "#Define global variables\n",
    "DATA_TYPES = ['Real','GM','SDV','CTGAN','WGANGP']\n",
    "SYNTHESIZERS = ['GM','SDV','CTGAN','WGANGP']\n",
    "FILEPATHS = {'Real' : HOME_PATH + 'REAL DATASETS/TRAIN DATASETS/B_Cardio_Data_Real_Train.csv',\n",
    "            'GM' : HOME_PATH + 'SYNTHETIC DATASETS/GM/B_Cardio_Data_Synthetic_GM.csv',\n",
    "            'SDV' : HOME_PATH + 'SYNTHETIC DATASETS/SDV/B_Cardio_Data_Synthetic_SDV.csv',\n",
    "            'CTGAN' : HOME_PATH + 'SYNTHETIC DATASETS/CTGAN/B_Cardio_Data_Synthetic_CTGAN.csv',\n",
    "            'WGANGP' : HOME_PATH + 'SYNTHETIC DATASETS/WGANGP/B_Cardio_Data_Synthetic_WGANGP.csv'}\n",
    "categorical_columns = ['gender','cholesterol','gluc','smoke','alco','active','cardio']\n",
    "data = dict()"
   ]
  },
  {
   "cell_type": "code",
   "execution_count": 4,
   "metadata": {},
   "outputs": [
    {
     "data": {
      "text/plain": [
       "{'Real':           id    age gender  height  weight  ap_hi  ap_lo cholesterol gluc  \\\n",
       " 0      67617  21876      1     154    80.0    130     90           2    1   \n",
       " 1      96320  16717      2     162    70.0    140     90           1    1   \n",
       " 2      17571  21128      2     174    92.0    150    100           1    1   \n",
       " 3      46492  23366      2     173    76.0    120     82           1    1   \n",
       " 4        945  20281      1     160    60.0    120     80           1    1   \n",
       " ...      ...    ...    ...     ...     ...    ...    ...         ...  ...   \n",
       " 55995  53137  16001      2     170    75.0    150     80           1    1   \n",
       " 55996   8918  23209      2     162    73.0    160     90           1    1   \n",
       " 55997  78302  23589      1     169    74.0    120     80           1    1   \n",
       " 55998   1197  18227      1     167    70.0    120     80           1    1   \n",
       " 55999  22556  15114      2     177    64.0    120     80           1    1   \n",
       " \n",
       "       smoke alco active cardio  \n",
       " 0         0    0      1      1  \n",
       " 1         0    0      0      1  \n",
       " 2         0    0      1      1  \n",
       " 3         0    0      1      1  \n",
       " 4         0    0      1      0  \n",
       " ...     ...  ...    ...    ...  \n",
       " 55995     1    0      1      1  \n",
       " 55996     0    0      1      1  \n",
       " 55997     0    0      1      0  \n",
       " 55998     0    0      0      0  \n",
       " 55999     0    0      1      0  \n",
       " \n",
       " [56000 rows x 13 columns],\n",
       " 'GM':           id    age gender  height     weight  ap_hi  ap_lo cholesterol gluc  \\\n",
       " 0       3540  14298      2     159  68.646934    141     97           1    1   \n",
       " 1       8670  22551      1     149  72.531185    131     74           3    1   \n",
       " 2      26537  22729      1     148  74.919117    140    108           2    1   \n",
       " 3      16126  19467      1     160  86.949278    123     90           1    1   \n",
       " 4      39966  22059      1     171  83.258253    116     81           1    1   \n",
       " ...      ...    ...    ...     ...        ...    ...    ...         ...  ...   \n",
       " 55995  61086  20098      1     156  60.735778    128     92           1    1   \n",
       " 55996  95276  20522      2     154  88.455547    125    109           2    1   \n",
       " 55997  49638  18805      1     165  79.951021    171    138           2    1   \n",
       " 55998  30191  18800      2     164  66.637624    109     71           2    2   \n",
       " 55999  39216  19840      2     168  68.232067    137     76           1    1   \n",
       " \n",
       "       smoke alco active cardio  \n",
       " 0         0    0      1      0  \n",
       " 1         0    0      1      1  \n",
       " 2         0    0      1      1  \n",
       " 3         0    0      0      1  \n",
       " 4         0    0      0      0  \n",
       " ...     ...  ...    ...    ...  \n",
       " 55995     0    1      0      1  \n",
       " 55996     0    0      1      1  \n",
       " 55997     0    0      1      1  \n",
       " 55998     1    1      1      0  \n",
       " 55999     0    0      1      0  \n",
       " \n",
       " [56000 rows x 13 columns],\n",
       " 'SDV':           id    age gender  height  weight  ap_hi  ap_lo cholesterol gluc  \\\n",
       " 0      24346  15207      1     159   106.0    226     58           1    1   \n",
       " 1      26676  17505      1     162    55.3     70    241           1    1   \n",
       " 2      49760  20801      1     166    61.4    195     -9           1    1   \n",
       " 3      14459  16731      1     150    55.8      1     51           1    1   \n",
       " 4      52249  19696      1     154    69.1    -75     71           1    1   \n",
       " ...      ...    ...    ...     ...     ...    ...    ...         ...  ...   \n",
       " 55995  78730  17842      2     177    52.6    260    233           2    1   \n",
       " 55996  41123  18471      1     171   110.0     94    273           1    1   \n",
       " 55997  68825  18308      1     168    48.4     25    423           1    1   \n",
       " 55998  45094  17022      1     161    87.5     -7    202           2    1   \n",
       " 55999  89629  18680      1     167    70.0    218   -202           1    1   \n",
       " \n",
       "       smoke alco active cardio  \n",
       " 0         0    0      1      1  \n",
       " 1         0    0      1      1  \n",
       " 2         0    0      1      1  \n",
       " 3         0    0      1      1  \n",
       " 4         0    0      0      1  \n",
       " ...     ...  ...    ...    ...  \n",
       " 55995     0    0      0      1  \n",
       " 55996     0    0      1      1  \n",
       " 55997     0    0      1      0  \n",
       " 55998     0    0      1      1  \n",
       " 55999     0    0      0      1  \n",
       " \n",
       " [56000 rows x 13 columns],\n",
       " 'CTGAN':           id    age gender  height  weight  ap_hi  ap_lo cholesterol gluc  \\\n",
       " 0      95179  20434      2     171    72.9    133     84           3    1   \n",
       " 1      66469  19869      1     159    73.5    175     95           1    1   \n",
       " 2      48068  18480      1     169    60.7    119     76           1    1   \n",
       " 3      32289  21122      1     162    83.5    104     74           1    1   \n",
       " 4      40044  18057      2     171    93.0    137     78           1    1   \n",
       " ...      ...    ...    ...     ...     ...    ...    ...         ...  ...   \n",
       " 55995  89136  20408      1     171    94.8    134     80           1    1   \n",
       " 55996  67066  14787      2     172    52.4    118     77           1    1   \n",
       " 55997  39692  19069      2     174    79.8     92     70           1    1   \n",
       " 55998  87110  21793      1     162    62.7    141     91           1    1   \n",
       " 55999  71191  21103      2     170    93.5    104     74           2    2   \n",
       " \n",
       "       smoke alco active cardio  \n",
       " 0         0    0      1      1  \n",
       " 1         1    0      1      1  \n",
       " 2         0    0      1      1  \n",
       " 3         0    0      1      1  \n",
       " 4         0    0      1      0  \n",
       " ...     ...  ...    ...    ...  \n",
       " 55995     0    0      1      1  \n",
       " 55996     0    0      1      0  \n",
       " 55997     0    0      1      0  \n",
       " 55998     0    0      1      1  \n",
       " 55999     0    0      1      1  \n",
       " \n",
       " [56000 rows x 13 columns],\n",
       " 'WGANGP':           id    age gender  height      weight  ap_hi  ap_lo cholesterol gluc  \\\n",
       " 0      56228  18085      1     165   92.330704    131     89           1    1   \n",
       " 1      53329  18063      1     165   90.155136    130     79           1    1   \n",
       " 2      47872  18119      1     165   78.922653    121     98           1    1   \n",
       " 3      61915  18502      1     165   85.397675    135    102           1    1   \n",
       " 4      52196  17734      1     165   92.626076    128     84           1    1   \n",
       " ...      ...    ...    ...     ...         ...    ...    ...         ...  ...   \n",
       " 55995  55651  17762      1     165  106.259781    134     76           1    1   \n",
       " 55996  61439  18372      1     165   78.966408    128     72           1    1   \n",
       " 55997  56393  17824      1     166   92.484062    125     82           1    1   \n",
       " 55998  51686  17814      1     166   94.494011    128     82           1    1   \n",
       " 55999  54681  17785      1     166   94.435616    119     85           1    1   \n",
       " \n",
       "       smoke alco active cardio  \n",
       " 0         0    0      0      1  \n",
       " 1         0    0      0      1  \n",
       " 2         0    0      0      0  \n",
       " 3         0    0      1      1  \n",
       " 4         0    0      0      1  \n",
       " ...     ...  ...    ...    ...  \n",
       " 55995     0    0      0      1  \n",
       " 55996     0    0      1      0  \n",
       " 55997     0    0      0      1  \n",
       " 55998     0    0      0      0  \n",
       " 55999     0    0      0      1  \n",
       " \n",
       " [56000 rows x 13 columns]}"
      ]
     },
     "execution_count": 4,
     "metadata": {},
     "output_type": "execute_result"
    }
   ],
   "source": [
    "#iterate over all datasets filepaths and read each dataset\n",
    "for name, path in FILEPATHS.items() :\n",
    "    data[name] = pd.read_csv(path)\n",
    "    for col in categorical_columns :\n",
    "        data[name][col] = data[name][col].astype('category')\n",
    "data"
   ]
  },
  {
   "cell_type": "markdown",
   "metadata": {},
   "source": [
    "## 2. Plot PPC matrixes and calculate matrixes norms"
   ]
  },
  {
   "cell_type": "code",
   "execution_count": 5,
   "metadata": {},
   "outputs": [
    {
     "data": {
      "text/plain": [
       "{'Real': 2.4892,\n",
       " 'GM': 2.5609,\n",
       " 'SDV': 2.5239,\n",
       " 'CTGAN': 2.5088,\n",
       " 'WGANGP': 3.3339}"
      ]
     },
     "execution_count": 5,
     "metadata": {},
     "output_type": "execute_result"
    }
   ],
   "source": [
    "#compute correlation matrixes for all datasets\n",
    "cors_numerical = dict()\n",
    "norms_numerical = dict()\n",
    "for name in DATA_TYPES :\n",
    "    cors_numerical[name], norms_numerical[name] = get_numerical_correlations(data[name])\n",
    "norms_numerical"
   ]
  },
  {
   "cell_type": "code",
   "execution_count": 6,
   "metadata": {},
   "outputs": [
    {
     "data": {
      "image/png": "[encoded data removed]",
      "text/plain": [
       "<Figure size 1080x180 with 6 Axes>"
      ]
     },
     "metadata": {
      "needs_background": "light"
     },
     "output_type": "display_data"
    }
   ],
   "source": [
    "fig, axs = plt.subplots(nrows=1, ncols=5, figsize=(15, 2.5))\n",
    "axs_idxs = range(6)\n",
    "idx = dict(zip(DATA_TYPES,axs_idxs))\n",
    "\n",
    "for name_idx, name in enumerate(DATA_TYPES) :\n",
    "    ax = axs[idx[name]]\n",
    "    matrix = cors_numerical[name]\n",
    "    \n",
    "    if name_idx != len(DATA_TYPES) - 1:\n",
    "        plot_correlations(matrix, ax, color_bar=False)\n",
    "    else:\n",
    "        plot_correlations(matrix, ax, color_bar=True)\n",
    "    \n",
    "    if name_idx > 0:\n",
    "        ax.set_yticks([])    \n",
    "    \n",
    "    if name == 'Real' :\n",
    "        ax.set_title(name)\n",
    "    else :\n",
    "        score = compute_mra_score(cors_numerical['Real'], matrix)\n",
    "        ax.set_title(name + ' (' + str(score) + ')')\n",
    "    \n",
    "fig.savefig('MULTIVARIATE RESEMBLANCE RESULTS/PPC_Matrices.svg', bbox_inches='tight')"
   ]
  },
  {
   "cell_type": "markdown",
   "metadata": {},
   "source": [
    "## 3. Plot correlations for categorical variables and calculate matrixes norms"
   ]
  },
  {
   "cell_type": "code",
   "execution_count": 7,
   "metadata": {},
   "outputs": [
    {
     "data": {
      "text/plain": [
       "{'Real': 1.6172, 'GM': 1.585, 'SDV': 1.4628, 'CTGAN': 2.2311, 'WGANGP': 1.4379}"
      ]
     },
     "execution_count": 7,
     "metadata": {},
     "output_type": "execute_result"
    }
   ],
   "source": [
    "#compute correlation matrixes for all datasets\n",
    "cors_categorical = dict()\n",
    "norms_categorical = dict()\n",
    "for name in DATA_TYPES :\n",
    "    cors_categorical[name], norms_categorical[name] = get_categorical_correlations(data[name])\n",
    "norms_categorical"
   ]
  },
  {
   "cell_type": "code",
   "execution_count": 8,
   "metadata": {},
   "outputs": [
    {
     "data": {
      "image/png": "[encoded data removed]",
      "text/plain": [
       "<Figure size 1080x180 with 6 Axes>"
      ]
     },
     "metadata": {
      "needs_background": "light"
     },
     "output_type": "display_data"
    }
   ],
   "source": [
    "fig, axs = plt.subplots(nrows=1, ncols=5, figsize=(15, 2.5))\n",
    "axs_idxs = range(6)\n",
    "idx = dict(zip(DATA_TYPES,axs_idxs))\n",
    "first = True\n",
    "\n",
    "for name_idx, name in enumerate(DATA_TYPES) :\n",
    "    ax = axs[idx[name]]\n",
    "    matrix = cors_categorical[name]\n",
    "    \n",
    "    if name_idx != len(DATA_TYPES) - 1:\n",
    "        plot_correlations(matrix, ax, color_bar=False)\n",
    "    else:\n",
    "        plot_correlations(matrix, ax, color_bar=True)\n",
    "    \n",
    "    if name_idx > 0:\n",
    "        ax.set_yticks([])    \n",
    "\n",
    "    if name == 'Real' :\n",
    "        ax.set_title(name)\n",
    "    else :\n",
    "        score = compute_mra_score(cors_categorical['Real'], matrix)\n",
    "        ax.set_title(name + ' (' + str(score) + ')')\n",
    "        \n",
    "fig.savefig('MULTIVARIATE RESEMBLANCE RESULTS/Categorical_Matrices.svg', bbox_inches='tight')"
   ]
  },
  {
   "cell_type": "markdown",
   "metadata": {},
   "source": [
    "## 4. Explore the results"
   ]
  },
  {
   "cell_type": "code",
   "execution_count": 9,
   "metadata": {},
   "outputs": [
    {
     "data": {
      "text/plain": [
       "{'Real': 2.4892,\n",
       " 'GM': 2.5609,\n",
       " 'SDV': 2.5239,\n",
       " 'CTGAN': 2.5088,\n",
       " 'WGANGP': 3.3339}"
      ]
     },
     "execution_count": 9,
     "metadata": {},
     "output_type": "execute_result"
    }
   ],
   "source": [
    "norms_numerical"
   ]
  },
  {
   "cell_type": "code",
   "execution_count": 10,
   "metadata": {
    "scrolled": true
   },
   "outputs": [
    {
     "data": {
      "text/plain": [
       "{'Real': 1.6172, 'GM': 1.585, 'SDV': 1.4628, 'CTGAN': 2.2311, 'WGANGP': 1.4379}"
      ]
     },
     "execution_count": 10,
     "metadata": {},
     "output_type": "execute_result"
    }
   ],
   "source": [
    "norms_categorical"
   ]
  },
  {
   "cell_type": "code",
   "execution_count": 11,
   "metadata": {},
   "outputs": [
    {
     "data": {
      "text/html": [
       "<div>\n",
       "<style scoped>\n",
       "    .dataframe tbody tr th:only-of-type {\n",
       "        vertical-align: middle;\n",
       "    }\n",
       "\n",
       "    .dataframe tbody tr th {\n",
       "        vertical-align: top;\n",
       "    }\n",
       "\n",
       "    .dataframe thead th {\n",
       "        text-align: right;\n",
       "    }\n",
       "</style>\n",
       "<table border=\"1\" class=\"dataframe\">\n",
       "  <thead>\n",
       "    <tr style=\"text-align: right;\">\n",
       "      <th></th>\n",
       "      <th>Real</th>\n",
       "      <th>GM</th>\n",
       "      <th>SDV</th>\n",
       "      <th>CTGAN</th>\n",
       "      <th>WGANGP</th>\n",
       "    </tr>\n",
       "  </thead>\n",
       "  <tbody>\n",
       "    <tr>\n",
       "      <th>PPC_MATRIX_NORMS</th>\n",
       "      <td>2.4892</td>\n",
       "      <td>2.5609</td>\n",
       "      <td>2.5239</td>\n",
       "      <td>2.5088</td>\n",
       "      <td>3.3339</td>\n",
       "    </tr>\n",
       "    <tr>\n",
       "      <th>CATEGORICAL_CORS_MATRIX_NORMS</th>\n",
       "      <td>1.6172</td>\n",
       "      <td>1.5850</td>\n",
       "      <td>1.4628</td>\n",
       "      <td>2.2311</td>\n",
       "      <td>1.4379</td>\n",
       "    </tr>\n",
       "  </tbody>\n",
       "</table>\n",
       "</div>"
      ],
      "text/plain": [
       "                                 Real      GM     SDV   CTGAN  WGANGP\n",
       "PPC_MATRIX_NORMS               2.4892  2.5609  2.5239  2.5088  3.3339\n",
       "CATEGORICAL_CORS_MATRIX_NORMS  1.6172  1.5850  1.4628  2.2311  1.4379"
      ]
     },
     "execution_count": 11,
     "metadata": {},
     "output_type": "execute_result"
    }
   ],
   "source": [
    "norms_data = [np.asarray(list(norms_numerical.values())), np.asarray(list(norms_categorical.values()))]\n",
    "df_norms = pd.DataFrame(data=norms_data, columns=DATA_TYPES, index=['PPC_MATRIX_NORMS','CATEGORICAL_CORS_MATRIX_NORMS'])\n",
    "df_norms.to_csv('MULTIVARIATE RESEMBLANCE RESULTS/Correlation_Matrix_Norms.csv')\n",
    "df_norms"
   ]
  },
  {
   "cell_type": "code",
   "execution_count": null,
   "metadata": {},
   "outputs": [],
   "source": []
  },
  {
   "cell_type": "code",
   "execution_count": null,
   "metadata": {},
   "outputs": [],
   "source": []
  }
 ],
 "metadata": {
  "kernelspec": {
   "display_name": "Python 3",
   "language": "python",
   "name": "python3"
  },
  "language_info": {
   "codemirror_mode": {
    "name": "ipython",
    "version": 3
   },
   "file_extension": ".py",
   "mimetype": "text/x-python",
   "name": "python",
   "nbconvert_exporter": "python",
   "pygments_lexer": "ipython3",
   "version": "3.8.5"
  }
 },
 "nbformat": 4,
 "nbformat_minor": 5
}
