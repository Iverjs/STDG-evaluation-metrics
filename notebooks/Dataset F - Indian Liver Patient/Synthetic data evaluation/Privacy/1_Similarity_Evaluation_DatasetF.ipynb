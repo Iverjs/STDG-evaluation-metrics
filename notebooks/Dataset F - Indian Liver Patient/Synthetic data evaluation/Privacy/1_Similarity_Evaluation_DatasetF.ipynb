{
 "cells": [
  {
   "cell_type": "markdown",
   "metadata": {},
   "source": [
    "# Similarity Evaluation Analysis (SEA) Dataset F"
   ]
  },
  {
   "cell_type": "code",
   "execution_count": 1,
   "metadata": {},
   "outputs": [
    {
     "name": "stdout",
     "output_type": "stream",
     "text": [
      "Libraries imported!!\n"
     ]
    }
   ],
   "source": [
    "#import libraries\n",
    "import warnings\n",
    "warnings.filterwarnings(\"ignore\")\n",
    "import numpy as np\n",
    "import pandas as pd\n",
    "from matplotlib import pyplot as plt\n",
    "import seaborn as sns\n",
    "import os\n",
    "print('Libraries imported!!')"
   ]
  },
  {
   "cell_type": "code",
   "execution_count": 2,
   "metadata": {},
   "outputs": [
    {
     "name": "stdout",
     "output_type": "stream",
     "text": [
      "Functions imported!!\n"
     ]
    }
   ],
   "source": [
    "#define directory of functions and actual directory\n",
    "HOME_PATH = '' #home path of the project\n",
    "FUNCTIONS_DIR = \"EVALUATION FUNCTIONS/PRIVACY\"\n",
    "ACTUAL_DIR = os.getcwd()\n",
    "\n",
    "#change directory to functions directory\n",
    "os.chdir(HOME_PATH + FUNCTIONS_DIR)\n",
    "\n",
    "#import functions for univariate resemblance analisys\n",
    "from similarity_evaluation import scale_data\n",
    "from similarity_evaluation import pairwise_euclidean_distance\n",
    "from similarity_evaluation import hausdorff_distance\n",
    "from similarity_evaluation import rts_similarity\n",
    "\n",
    "#change directory to actual directory\n",
    "os.chdir(ACTUAL_DIR)\n",
    "print('Functions imported!!')"
   ]
  },
  {
   "cell_type": "markdown",
   "metadata": {},
   "source": [
    "## 1. Read real and synthetic datasets\n",
    "In this part real and synthetic datasets are read."
   ]
  },
  {
   "cell_type": "code",
   "execution_count": 3,
   "metadata": {},
   "outputs": [],
   "source": [
    "#Define global variables\n",
    "DATA_TYPES = ['Real','GM','SDV','CTGAN','WGANGP']\n",
    "SYNTHESIZERS = ['GM','SDV','CTGAN','WGANGP']\n",
    "FILEPATHS = {'Real' : HOME_PATH + 'REAL DATASETS/TRAIN DATASETS/F_IndianLiverPatient_Real_Train.csv',\n",
    "            'GM' : HOME_PATH + 'SYNTHETIC DATASETS/GM/F_IndianLiverPatient_Synthetic_GM.csv',\n",
    "            'SDV' : HOME_PATH + 'SYNTHETIC DATASETS/SDV/F_IndianLiverPatient_Synthetic_SDV.csv',\n",
    "            'CTGAN' : HOME_PATH + 'SYNTHETIC DATASETS/CTGAN/F_IndianLiverPatient_Synthetic_CTGAN.csv',\n",
    "            'WGANGP' : HOME_PATH + 'SYNTHETIC DATASETS/WGANGP/F_IndianLiverPatient_Synthetic_WGANGP.csv'}\n",
    "categorical_columns = ['gender','class']\n",
    "data = dict()"
   ]
  },
  {
   "cell_type": "code",
   "execution_count": 4,
   "metadata": {},
   "outputs": [
    {
     "data": {
      "text/plain": [
       "{'Real':      age  gender   TB   DB  alkphos  sgpt   sgot   TP  ALB   A_G  class\n",
       " 0     68       0  0.6  0.1   1620.0  95.0  127.0  4.6  2.1  0.80      0\n",
       " 1     31       1  1.3  0.5    184.0  29.0   32.0  6.8  3.4  1.00      0\n",
       " 2     28       1  0.8  0.3    190.0  20.0   14.0  4.1  2.4  1.40      0\n",
       " 3     60       1  2.3  0.6    272.0  79.0   51.0  6.6  3.5  1.10      0\n",
       " 4     48       0  0.9  0.2    173.0  26.0   27.0  6.2  3.1  1.00      0\n",
       " ..   ...     ...  ...  ...      ...   ...    ...  ...  ...   ...    ...\n",
       " 461   75       0  0.8  0.2    188.0  20.0   29.0  4.4  1.8  0.60      0\n",
       " 462   36       1  5.3  2.3    145.0  32.0   92.0  5.1  2.6  1.00      1\n",
       " 463   37       1  0.7  0.2    235.0  96.0   54.0  9.5  4.9  1.00      0\n",
       " 464   17       0  0.5  0.1    206.0  28.0   21.0  7.1  4.5  1.70      1\n",
       " 465   17       1  0.9  0.2    224.0  36.0   45.0  6.9  4.2  1.55      0\n",
       " \n",
       " [466 rows x 11 columns],\n",
       " 'GM':      age  gender        TB        DB     alkphos        sgpt        sgot  \\\n",
       " 0     68       1  0.792221  0.210326  403.231073   41.466674   33.224376   \n",
       " 1     62       0  1.081347  0.299965  432.280680   29.344795   45.448756   \n",
       " 2     66       1  1.106183  0.228158  409.387072  182.941301   74.747186   \n",
       " 3     18       1  0.319369  0.211002  123.339810   33.420530   39.358963   \n",
       " 4     28       1  0.689095  0.791855   41.390511   37.560963   49.239559   \n",
       " ..   ...     ...       ...       ...         ...         ...         ...   \n",
       " 461   44       1  0.555285  0.120601  200.579550   18.119024   20.245458   \n",
       " 462   45       1  0.441402  0.276043  176.890784   40.251383   37.730839   \n",
       " 463   23       1  1.294539  0.289846  224.054337   38.982170  123.888386   \n",
       " 464   56       1  0.516323  0.512852  307.627940   30.908007   44.850122   \n",
       " 465   41       1  1.683816  3.139415  252.728469   30.817496   30.770279   \n",
       " \n",
       "            TP       ALB       A_G  class  \n",
       " 0    5.532269  2.299157  0.739703      0  \n",
       " 1    6.762787  3.424076  1.132054      0  \n",
       " 2    7.259657  4.059811  0.881810      0  \n",
       " 3    8.525534  4.605769  1.557012      1  \n",
       " 4    7.501857  3.313626  0.706537      1  \n",
       " ..        ...       ...       ...    ...  \n",
       " 461  7.024714  2.973412  0.638638      0  \n",
       " 462  5.729123  3.276946  1.346909      1  \n",
       " 463  7.224159  3.751692  0.944799      1  \n",
       " 464  5.357072  2.377225  0.284098      0  \n",
       " 465  4.752291  2.579145  1.124658      1  \n",
       " \n",
       " [466 rows x 11 columns],\n",
       " 'SDV':      age  gender    TB   DB  alkphos   sgpt   sgot   TP  ALB       A_G  class\n",
       " 0     44       1   8.3  4.5    392.9   51.0  356.8  5.5  2.8   6794.23      0\n",
       " 1     46       1   6.6  3.3    274.8    2.4  115.1  7.7  4.3   7235.22      1\n",
       " 2      9       1   8.7  4.2    592.2   65.9  448.1  7.3  3.4   1607.48      0\n",
       " 3     46       1   5.3  2.6    349.1  281.3  220.2  6.5  2.7   4034.47      1\n",
       " 4     33       1   0.1  0.0    387.6   13.6   76.2  6.5  3.3   8117.89      0\n",
       " ..   ...     ...   ...  ...      ...    ...    ...  ...  ...       ...    ...\n",
       " 461   62       1   1.6  0.8     63.9   97.7  158.2  7.5  4.3   4001.77      1\n",
       " 462    7       0  14.0  6.5    208.5  411.6  199.0  7.5  4.4  10646.83      0\n",
       " 463   52       1   8.3  3.3    761.4  159.6  316.6  6.2  2.9   2055.75      0\n",
       " 464   60       1  14.8  5.8    798.7  319.8  409.5  6.1  2.3  11312.52      0\n",
       " 465   52       1   8.0  4.1    359.0  368.2  556.9  5.8  2.8   2952.02      0\n",
       " \n",
       " [466 rows x 11 columns],\n",
       " 'CTGAN':      age  gender    TB   DB  alkphos  sgpt   sgot   TP  ALB     A_G  class\n",
       " 0     48       1   0.4  0.3    293.3  90.9  122.1  6.9  4.8  373.75      1\n",
       " 1     63       1   5.1  1.4    146.7  44.4  767.0  4.5  2.6  215.70      1\n",
       " 2     46       1   2.6  0.2    279.5   8.1   71.5  3.3  3.8  105.82      0\n",
       " 3     32       1   4.9  0.5    109.0   6.9   25.9  5.2  1.3  417.34      1\n",
       " 4     54       1   2.2  0.3    118.1  28.7   56.4  7.2  3.8   29.17      1\n",
       " ..   ...     ...   ...  ...      ...   ...    ...  ...  ...     ...    ...\n",
       " 461    4       0   0.9  0.4    218.1  19.3    7.3  8.8  2.5   91.13      1\n",
       " 462   59       1   1.1  1.7     94.3   3.2    3.0  6.3  3.0  453.24      1\n",
       " 463   68       0   2.0  0.7    250.9  47.8   76.6  6.0  4.6  331.60      0\n",
       " 464   66       1   1.8  1.6    113.4   4.3  843.0  7.9  4.9  467.79      0\n",
       " 465   45       1  30.3  0.0    340.9  34.1  117.8  6.7  4.8  132.48      0\n",
       " \n",
       " [466 rows x 11 columns],\n",
       " 'WGANGP':      age  gender        TB        DB     alkphos        sgpt       sgot  \\\n",
       " 0     29       0  1.493286  0.305215  181.439041   47.528675  58.060356   \n",
       " 1     40       0  2.644370  0.971491  258.177002   93.005783  58.738285   \n",
       " 2     34       0  1.673791  0.566819  222.470963   84.489075  50.876556   \n",
       " 3     45       0  1.841415  0.577833  200.772736   51.584827  38.538437   \n",
       " 4     39       0  2.698557  1.013579  262.246979  104.780251  66.965988   \n",
       " ..   ...     ...       ...       ...         ...         ...        ...   \n",
       " 461   27       0  1.151936  0.150563  171.930328   47.628956  44.985054   \n",
       " 462   39       0  2.686199  1.038701  263.196320  102.436165  61.872330   \n",
       " 463   39       0  2.645507  1.042506  276.282898  104.695000  66.229935   \n",
       " 464   27       0  1.079657  0.180837  171.397888   56.983002  41.766006   \n",
       " 465   33       0  1.707967  0.462736  200.413055   62.888950  44.823135   \n",
       " \n",
       "            TP       ALB         A_G  class  \n",
       " 0    7.678981  4.452882 -164.402267      0  \n",
       " 1    7.441417  4.017587  -69.416679      1  \n",
       " 2    7.656133  4.316024 -227.091599      1  \n",
       " 3    7.178044  4.283068  -30.214041      1  \n",
       " 4    7.551036  3.972701  -38.801598      1  \n",
       " ..        ...       ...         ...    ...  \n",
       " 461  7.746896  4.513616 -256.732788      0  \n",
       " 462  7.508008  3.969202 -129.229355      1  \n",
       " 463  7.540930  3.992946 -187.846268      1  \n",
       " 464  7.826374  4.611629 -310.726685      0  \n",
       " 465  7.636399  4.344552 -218.154144      0  \n",
       " \n",
       " [466 rows x 11 columns]}"
      ]
     },
     "execution_count": 4,
     "metadata": {},
     "output_type": "execute_result"
    }
   ],
   "source": [
    "#iterate over all datasets filepaths and read each dataset\n",
    "for name, path in FILEPATHS.items() :\n",
    "    data[name] = pd.read_csv(path)\n",
    "    for col in categorical_columns :\n",
    "        data[name][col] = data[name][col].astype('category').cat.codes\n",
    "data"
   ]
  },
  {
   "cell_type": "markdown",
   "metadata": {},
   "source": [
    "## 2. Normalize data"
   ]
  },
  {
   "cell_type": "code",
   "execution_count": 5,
   "metadata": {},
   "outputs": [
    {
     "data": {
      "text/plain": [
       "{'Real':           age  gender        TB        DB   alkphos      sgpt      sgot  \\\n",
       " 0    0.790123     0.0  0.002681  0.000000  0.760625  0.042714  0.023587   \n",
       " 1    0.333333     1.0  0.012064  0.020408  0.059111  0.009548  0.004270   \n",
       " 2    0.296296     1.0  0.005362  0.010204  0.062042  0.005025  0.000610   \n",
       " 3    0.691358     1.0  0.025469  0.025510  0.102101  0.034673  0.008133   \n",
       " 4    0.543210     0.0  0.006702  0.005102  0.053737  0.008040  0.003253   \n",
       " ..        ...     ...       ...       ...       ...       ...       ...   \n",
       " 461  0.876543     0.0  0.005362  0.005102  0.061065  0.005025  0.003660   \n",
       " 462  0.395062     1.0  0.065684  0.112245  0.040059  0.011055  0.016470   \n",
       " 463  0.407407     1.0  0.004021  0.005102  0.084025  0.043216  0.008743   \n",
       " 464  0.160494     0.0  0.001340  0.000000  0.069858  0.009045  0.002033   \n",
       " 465  0.160494     1.0  0.006702  0.005102  0.078652  0.013065  0.006913   \n",
       " \n",
       "            TP       ALB       A_G  class  \n",
       " 0    0.275362  0.260870  0.999980    0.0  \n",
       " 1    0.594203  0.543478  0.999982    0.0  \n",
       " 2    0.202899  0.326087  0.999986    0.0  \n",
       " 3    0.565217  0.565217  0.999983    0.0  \n",
       " 4    0.507246  0.478261  0.999982    0.0  \n",
       " ..        ...       ...       ...    ...  \n",
       " 461  0.246377  0.195652  0.999978    0.0  \n",
       " 462  0.347826  0.369565  0.999982    1.0  \n",
       " 463  0.985507  0.869565  0.999982    0.0  \n",
       " 464  0.637681  0.782609  0.999989    1.0  \n",
       " 465  0.608696  0.717391  0.999988    0.0  \n",
       " \n",
       " [466 rows x 11 columns],\n",
       " 'GM':           age  gender        TB        DB   alkphos      sgpt      sgot  \\\n",
       " 0    0.833333     1.0  0.002897  0.002325  0.276956  0.052607  0.009466   \n",
       " 1    0.761905     0.0  0.003970  0.004230  0.298180  0.036974  0.012975   \n",
       " 2    0.809524     1.0  0.004062  0.002704  0.281454  0.235062  0.021385   \n",
       " 3    0.238095     1.0  0.001141  0.002339  0.072474  0.042230  0.011227   \n",
       " 4    0.357143     1.0  0.002514  0.014685  0.012603  0.047570  0.014063   \n",
       " ..        ...     ...       ...       ...       ...       ...       ...   \n",
       " 461  0.547619     1.0  0.002017  0.000418  0.128903  0.022497  0.005740   \n",
       " 462  0.559524     1.0  0.001594  0.003722  0.111597  0.051040  0.010759   \n",
       " 463  0.297619     1.0  0.004761  0.004015  0.146054  0.049403  0.035491   \n",
       " 464  0.690476     1.0  0.001872  0.008755  0.207111  0.038990  0.012803   \n",
       " 465  0.511905     1.0  0.006207  0.064582  0.167002  0.038873  0.008761   \n",
       " \n",
       "            TP       ALB       A_G  class  \n",
       " 0    0.426178  0.304211  0.429351    0.0  \n",
       " 1    0.583565  0.512855  0.474326    0.0  \n",
       " 2    0.647117  0.630768  0.445641    0.0  \n",
       " 3    0.809027  0.732030  0.523038    1.0  \n",
       " 4    0.678095  0.492369  0.425549    1.0  \n",
       " ..        ...       ...       ...    ...  \n",
       " 461  0.617067  0.429268  0.417766    0.0  \n",
       " 462  0.451356  0.485566  0.498954    1.0  \n",
       " 463  0.642577  0.573620  0.452861    1.0  \n",
       " 464  0.403770  0.318690  0.377126    0.0  \n",
       " 465  0.326416  0.356142  0.473478    1.0  \n",
       " \n",
       " [466 rows x 11 columns],\n",
       " 'SDV':           age  gender        TB        DB   alkphos      sgpt      sgot  \\\n",
       " 0    0.473118     1.0  0.386047  0.478723  0.332712  0.076923  0.346550   \n",
       " 1    0.494624     1.0  0.306977  0.351064  0.232627  0.003476  0.111662   \n",
       " 2    0.096774     1.0  0.404651  0.446809  0.501610  0.099441  0.435277   \n",
       " 3    0.494624     1.0  0.246512  0.276596  0.295593  0.424966  0.213800   \n",
       " 4    0.354839     1.0  0.004651  0.000000  0.328220  0.020402  0.073858   \n",
       " ..        ...     ...       ...       ...       ...       ...       ...   \n",
       " 461  0.666667     1.0  0.074419  0.085106  0.053898  0.147499  0.153547   \n",
       " 462  0.075269     0.0  0.651163  0.691489  0.176441  0.621883  0.193197   \n",
       " 463  0.559140     1.0  0.386047  0.351064  0.645000  0.241046  0.307483   \n",
       " 464  0.645161     1.0  0.688372  0.617021  0.676610  0.483149  0.397765   \n",
       " 465  0.559140     1.0  0.372093  0.436170  0.303983  0.556294  0.541011   \n",
       " \n",
       "            TP       ALB       A_G  class  \n",
       " 0    0.300000  0.382979  0.330893    0.0  \n",
       " 1    0.666667  0.702128  0.352411    1.0  \n",
       " 2    0.600000  0.510638  0.077812    0.0  \n",
       " 3    0.466667  0.361702  0.196234    1.0  \n",
       " 4    0.466667  0.489362  0.395479    0.0  \n",
       " ..        ...       ...       ...    ...  \n",
       " 461  0.633333  0.702128  0.194639    1.0  \n",
       " 462  0.633333  0.723404  0.518876    0.0  \n",
       " 463  0.416667  0.404255  0.099685    0.0  \n",
       " 464  0.400000  0.276596  0.551357    0.0  \n",
       " 465  0.350000  0.382979  0.143417    0.0  \n",
       " \n",
       " [466 rows x 11 columns],\n",
       " 'CTGAN':           age  gender        TB        DB   alkphos      sgpt      sgot  \\\n",
       " 0    0.536842     1.0  0.009685  0.019355  0.119287  0.039875  0.024787   \n",
       " 1    0.694737     1.0  0.123487  0.090323  0.059089  0.019455  0.156895   \n",
       " 2    0.515789     1.0  0.062954  0.012903  0.113620  0.003513  0.014422   \n",
       " 3    0.368421     1.0  0.118644  0.032258  0.043609  0.002986  0.005080   \n",
       " 4    0.600000     1.0  0.053269  0.019355  0.047345  0.012560  0.011328   \n",
       " ..        ...     ...       ...       ...       ...       ...       ...   \n",
       " 461  0.073684     0.0  0.021792  0.025806  0.088408  0.008432  0.001270   \n",
       " 462  0.652632     1.0  0.026634  0.109677  0.037572  0.001361  0.000389   \n",
       " 463  0.747368     0.0  0.048426  0.045161  0.101877  0.020948  0.015466   \n",
       " 464  0.726316     1.0  0.043584  0.103226  0.045415  0.001844  0.172464   \n",
       " 465  0.505263     1.0  0.733656  0.000000  0.138833  0.014931  0.023906   \n",
       " \n",
       "            TP       ALB       A_G  class  \n",
       " 0    0.571429  0.833333  0.341538    1.0  \n",
       " 1    0.326531  0.375000  0.195941    1.0  \n",
       " 2    0.204082  0.625000  0.094719    0.0  \n",
       " 3    0.397959  0.104167  0.381694    1.0  \n",
       " 4    0.602041  0.625000  0.024108    1.0  \n",
       " ..        ...       ...       ...    ...  \n",
       " 461  0.765306  0.354167  0.081186    1.0  \n",
       " 462  0.510204  0.458333  0.414765    1.0  \n",
       " 463  0.479592  0.791667  0.302709    0.0  \n",
       " 464  0.673469  0.854167  0.428169    0.0  \n",
       " 465  0.551020  0.833333  0.119278    0.0  \n",
       " \n",
       " [466 rows x 11 columns],\n",
       " 'WGANGP':           age  gender        TB        DB   alkphos      sgpt      sgot  \\\n",
       " 0    0.250000     0.0  0.313916  0.259705  0.033225  0.118328  0.222976   \n",
       " 1    0.708333     0.0  0.762875  0.667729  0.105132  0.677661  0.226803   \n",
       " 2    0.458333     0.0  0.384319  0.419910  0.071674  0.572912  0.182418   \n",
       " 3    0.916667     0.0  0.449698  0.426655  0.051341  0.168215  0.112760   \n",
       " 4    0.666667     0.0  0.784010  0.693503  0.108945  0.822478  0.273255   \n",
       " ..        ...     ...       ...       ...       ...       ...       ...   \n",
       " 461  0.166667     0.0  0.180779  0.164997  0.024315  0.119561  0.149156   \n",
       " 462  0.666667     0.0  0.779190  0.708888  0.109835  0.793648  0.244497   \n",
       " 463  0.666667     0.0  0.763319  0.711218  0.122098  0.821430  0.269099   \n",
       " 464  0.166667     0.0  0.152588  0.183537  0.023816  0.234609  0.130982   \n",
       " 465  0.416667     0.0  0.397649  0.356170  0.051004  0.307247  0.148242   \n",
       " \n",
       "            TP       ALB       A_G  class  \n",
       " 0    0.815982  0.757880  0.387771    0.0  \n",
       " 1    0.640994  0.501297  0.489613    1.0  \n",
       " 2    0.799152  0.677210  0.320556    1.0  \n",
       " 3    0.446994  0.657784  0.531645    1.0  \n",
       " 4    0.721738  0.474839  0.522437    1.0  \n",
       " ..        ...       ...       ...    ...  \n",
       " 461  0.866008  0.793680  0.288776    0.0  \n",
       " 462  0.690044  0.472777  0.425482    1.0  \n",
       " 463  0.714295  0.486773  0.362634    1.0  \n",
       " 464  0.924551  0.851453  0.230884    0.0  \n",
       " 465  0.784617  0.694026  0.330139    0.0  \n",
       " \n",
       " [466 rows x 11 columns]}"
      ]
     },
     "execution_count": 5,
     "metadata": {},
     "output_type": "execute_result"
    }
   ],
   "source": [
    "#Scale the data\n",
    "num_cols = (data['Real'].select_dtypes(include=['int64','float64'])).columns\n",
    "scaled_data = dict()\n",
    "for name in DATA_TYPES :\n",
    "    scaled_data[name] = scale_data(data[name])\n",
    "scaled_data"
   ]
  },
  {
   "cell_type": "markdown",
   "metadata": {},
   "source": [
    "## 3. Calculate the Euclidean distances between each pair of values"
   ]
  },
  {
   "cell_type": "code",
   "execution_count": 6,
   "metadata": {},
   "outputs": [
    {
     "data": {
      "text/plain": [
       "{'GM': '1.1111 ± 0.3394',\n",
       " 'SDV': '1.3592 ± 0.322',\n",
       " 'CTGAN': '1.2628 ± 0.3276',\n",
       " 'WGANGP': '1.6966 ± 0.2777'}"
      ]
     },
     "execution_count": 6,
     "metadata": {},
     "output_type": "execute_result"
    }
   ],
   "source": [
    "distances_values = dict()\n",
    "\n",
    "for name in SYNTHESIZERS :\n",
    "    #distances = distance.cdist(scaled_data[name].values, real_data_scaled, 'euclidean')\n",
    "    distances_values[name] = pairwise_euclidean_distance(scaled_data[name].values, scaled_data['Real'].values)\n",
    "    \n",
    "distances_values"
   ]
  },
  {
   "cell_type": "markdown",
   "metadata": {},
   "source": [
    "## 4. Calculate the Hausdorff distance between synthetic data and real data"
   ]
  },
  {
   "cell_type": "code",
   "execution_count": 7,
   "metadata": {},
   "outputs": [
    {
     "data": {
      "text/plain": [
       "{'GM': 1.4503, 'SDV': 1.4792, 'CTGAN': 1.2404, 'WGANGP': 1.6209}"
      ]
     },
     "execution_count": 7,
     "metadata": {},
     "output_type": "execute_result"
    }
   ],
   "source": [
    "hausdorff_values = dict()\n",
    "\n",
    "for name in SYNTHESIZERS :\n",
    "    hausdorff_values[name] = hausdorff_distance(scaled_data[name].values, scaled_data['Real'].values)\n",
    "    \n",
    "hausdorff_values"
   ]
  },
  {
   "cell_type": "markdown",
   "metadata": {},
   "source": [
    "## 5. Calculate maximum RTS similarity"
   ]
  },
  {
   "cell_type": "code",
   "execution_count": 8,
   "metadata": {},
   "outputs": [
    {
     "data": {
      "text/plain": [
       "{'GM': {'min': 0.1653, 'mean': 0.7587, 'max': 0.9989},\n",
       " 'SDV': {'min': 0.09, 'mean': 0.643, 'max': 0.9902},\n",
       " 'CTGAN': {'min': 0.0712, 'mean': 0.6899, 'max': 0.9959},\n",
       " 'WGANGP': {'min': 0.0882, 'mean': 0.5332, 'max': 0.9236}}"
      ]
     },
     "execution_count": 8,
     "metadata": {},
     "output_type": "execute_result"
    }
   ],
   "source": [
    "str_values = dict()\n",
    "\n",
    "for name in SYNTHESIZERS :\n",
    "    str_values[name] = rts_similarity(scaled_data[name].values, scaled_data['Real'].values)\n",
    "    \n",
    "str_values"
   ]
  },
  {
   "cell_type": "code",
   "execution_count": null,
   "metadata": {},
   "outputs": [],
   "source": []
  }
 ],
 "metadata": {
  "kernelspec": {
   "display_name": "Python 3",
   "language": "python",
   "name": "python3"
  },
  "language_info": {
   "codemirror_mode": {
    "name": "ipython",
    "version": 3
   },
   "file_extension": ".py",
   "mimetype": "text/x-python",
   "name": "python",
   "nbconvert_exporter": "python",
   "pygments_lexer": "ipython3",
   "version": "3.8.5"
  }
 },
 "nbformat": 4,
 "nbformat_minor": 4
}
