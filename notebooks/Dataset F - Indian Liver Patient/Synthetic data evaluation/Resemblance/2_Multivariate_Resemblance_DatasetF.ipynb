{
 "cells": [
  {
   "cell_type": "markdown",
   "metadata": {},
   "source": [
    "# Multivariate Resemblance Analysis (MRA) Dataset F"
   ]
  },
  {
   "cell_type": "code",
   "execution_count": 1,
   "metadata": {},
   "outputs": [
    {
     "name": "stdout",
     "output_type": "stream",
     "text": [
      "Libraries imported!!\n"
     ]
    }
   ],
   "source": [
    "#import libraries\n",
    "import warnings\n",
    "warnings.filterwarnings(\"ignore\")\n",
    "import numpy as np\n",
    "import pandas as pd\n",
    "from matplotlib import pyplot as plt\n",
    "import os\n",
    "print('Libraries imported!!')"
   ]
  },
  {
   "cell_type": "code",
   "execution_count": 2,
   "metadata": {},
   "outputs": [
    {
     "name": "stdout",
     "output_type": "stream",
     "text": [
      "Functions imported!!\n"
     ]
    }
   ],
   "source": [
    "#define directory of functions and actual directory\n",
    "HOME_PATH = '' #home path of the project\n",
    "FUNCTIONS_DIR = 'EVALUATION FUNCTIONS/RESEMBLANCE'\n",
    "ACTUAL_DIR = os.getcwd()\n",
    "\n",
    "#change directory to functions directory\n",
    "os.chdir(HOME_PATH + FUNCTIONS_DIR)\n",
    "\n",
    "#import functions for univariate resemblance analisys\n",
    "from multivariate_resemblance import get_numerical_correlations\n",
    "from multivariate_resemblance import plot_correlations\n",
    "from multivariate_resemblance import get_categorical_correlations\n",
    "from multivariate_resemblance import compute_mra_score\n",
    "\n",
    "#change directory to actual directory\n",
    "os.chdir(ACTUAL_DIR)\n",
    "print('Functions imported!!')"
   ]
  },
  {
   "cell_type": "markdown",
   "metadata": {},
   "source": [
    "## 1. Read real and synthetic datasets\n",
    "In this part real and synthetic datasets are read."
   ]
  },
  {
   "cell_type": "code",
   "execution_count": 3,
   "metadata": {},
   "outputs": [],
   "source": [
    "#Define global variables\n",
    "DATA_TYPES = ['Real','GM','SDV','CTGAN','WGANGP']\n",
    "SYNTHESIZERS = ['GM','SDV','CTGAN','WGANGP']\n",
    "FILEPATHS = {'Real' : HOME_PATH + 'REAL DATASETS/TRAIN DATASETS/F_IndianLiverPatient_Real_Train.csv',\n",
    "            'GM' : HOME_PATH + 'SYNTHETIC DATASETS/GM/F_IndianLiverPatient_Synthetic_GM.csv',\n",
    "            'SDV' : HOME_PATH + 'SYNTHETIC DATASETS/SDV/F_IndianLiverPatient_Synthetic_SDV.csv',\n",
    "            'CTGAN' : HOME_PATH + 'SYNTHETIC DATASETS/CTGAN/F_IndianLiverPatient_Synthetic_CTGAN.csv',\n",
    "            'WGANGP' : HOME_PATH + 'SYNTHETIC DATASETS/WGANGP/F_IndianLiverPatient_Synthetic_WGANGP.csv'}\n",
    "categorical_columns = ['gender','class']\n",
    "data = dict()"
   ]
  },
  {
   "cell_type": "code",
   "execution_count": 4,
   "metadata": {},
   "outputs": [
    {
     "data": {
      "text/plain": [
       "{'Real':      age  gender   TB   DB  alkphos  sgpt   sgot   TP  ALB   A_G class\n",
       " 0     68  Female  0.6  0.1   1620.0  95.0  127.0  4.6  2.1  0.80   1.0\n",
       " 1     31    Male  1.3  0.5    184.0  29.0   32.0  6.8  3.4  1.00   1.0\n",
       " 2     28    Male  0.8  0.3    190.0  20.0   14.0  4.1  2.4  1.40   1.0\n",
       " 3     60    Male  2.3  0.6    272.0  79.0   51.0  6.6  3.5  1.10   1.0\n",
       " 4     48  Female  0.9  0.2    173.0  26.0   27.0  6.2  3.1  1.00   1.0\n",
       " ..   ...     ...  ...  ...      ...   ...    ...  ...  ...   ...   ...\n",
       " 461   75  Female  0.8  0.2    188.0  20.0   29.0  4.4  1.8  0.60   1.0\n",
       " 462   36    Male  5.3  2.3    145.0  32.0   92.0  5.1  2.6  1.00   2.0\n",
       " 463   37    Male  0.7  0.2    235.0  96.0   54.0  9.5  4.9  1.00   1.0\n",
       " 464   17  Female  0.5  0.1    206.0  28.0   21.0  7.1  4.5  1.70   2.0\n",
       " 465   17    Male  0.9  0.2    224.0  36.0   45.0  6.9  4.2  1.55   1.0\n",
       " \n",
       " [466 rows x 11 columns],\n",
       " 'GM':      age  gender        TB        DB     alkphos        sgpt        sgot  \\\n",
       " 0     68    Male  0.792221  0.210326  403.231073   41.466674   33.224376   \n",
       " 1     62  Female  1.081347  0.299965  432.280680   29.344795   45.448756   \n",
       " 2     66    Male  1.106183  0.228158  409.387072  182.941301   74.747186   \n",
       " 3     18    Male  0.319369  0.211002  123.339810   33.420530   39.358963   \n",
       " 4     28    Male  0.689095  0.791855   41.390511   37.560963   49.239559   \n",
       " ..   ...     ...       ...       ...         ...         ...         ...   \n",
       " 461   44    Male  0.555285  0.120601  200.579550   18.119024   20.245458   \n",
       " 462   45    Male  0.441402  0.276043  176.890784   40.251383   37.730839   \n",
       " 463   23    Male  1.294539  0.289846  224.054337   38.982170  123.888386   \n",
       " 464   56    Male  0.516323  0.512852  307.627940   30.908007   44.850122   \n",
       " 465   41    Male  1.683816  3.139415  252.728469   30.817496   30.770279   \n",
       " \n",
       "            TP       ALB       A_G class  \n",
       " 0    5.532269  2.299157  0.739703   1.0  \n",
       " 1    6.762787  3.424076  1.132054   1.0  \n",
       " 2    7.259657  4.059811  0.881810   1.0  \n",
       " 3    8.525534  4.605769  1.557012   2.0  \n",
       " 4    7.501857  3.313626  0.706537   2.0  \n",
       " ..        ...       ...       ...   ...  \n",
       " 461  7.024714  2.973412  0.638638   1.0  \n",
       " 462  5.729123  3.276946  1.346909   2.0  \n",
       " 463  7.224159  3.751692  0.944799   2.0  \n",
       " 464  5.357072  2.377225  0.284098   1.0  \n",
       " 465  4.752291  2.579145  1.124658   2.0  \n",
       " \n",
       " [466 rows x 11 columns],\n",
       " 'SDV':      age  gender    TB   DB  alkphos   sgpt   sgot   TP  ALB       A_G class\n",
       " 0     44    Male   8.3  4.5    392.9   51.0  356.8  5.5  2.8   6794.23   1.0\n",
       " 1     46    Male   6.6  3.3    274.8    2.4  115.1  7.7  4.3   7235.22   2.0\n",
       " 2      9    Male   8.7  4.2    592.2   65.9  448.1  7.3  3.4   1607.48   1.0\n",
       " 3     46    Male   5.3  2.6    349.1  281.3  220.2  6.5  2.7   4034.47   2.0\n",
       " 4     33    Male   0.1  0.0    387.6   13.6   76.2  6.5  3.3   8117.89   1.0\n",
       " ..   ...     ...   ...  ...      ...    ...    ...  ...  ...       ...   ...\n",
       " 461   62    Male   1.6  0.8     63.9   97.7  158.2  7.5  4.3   4001.77   2.0\n",
       " 462    7  Female  14.0  6.5    208.5  411.6  199.0  7.5  4.4  10646.83   1.0\n",
       " 463   52    Male   8.3  3.3    761.4  159.6  316.6  6.2  2.9   2055.75   1.0\n",
       " 464   60    Male  14.8  5.8    798.7  319.8  409.5  6.1  2.3  11312.52   1.0\n",
       " 465   52    Male   8.0  4.1    359.0  368.2  556.9  5.8  2.8   2952.02   1.0\n",
       " \n",
       " [466 rows x 11 columns],\n",
       " 'CTGAN':      age  gender    TB   DB  alkphos  sgpt   sgot   TP  ALB     A_G class\n",
       " 0     48    Male   0.4  0.3    293.3  90.9  122.1  6.9  4.8  373.75   2.0\n",
       " 1     63    Male   5.1  1.4    146.7  44.4  767.0  4.5  2.6  215.70   2.0\n",
       " 2     46    Male   2.6  0.2    279.5   8.1   71.5  3.3  3.8  105.82   1.0\n",
       " 3     32    Male   4.9  0.5    109.0   6.9   25.9  5.2  1.3  417.34   2.0\n",
       " 4     54    Male   2.2  0.3    118.1  28.7   56.4  7.2  3.8   29.17   2.0\n",
       " ..   ...     ...   ...  ...      ...   ...    ...  ...  ...     ...   ...\n",
       " 461    4  Female   0.9  0.4    218.1  19.3    7.3  8.8  2.5   91.13   2.0\n",
       " 462   59    Male   1.1  1.7     94.3   3.2    3.0  6.3  3.0  453.24   2.0\n",
       " 463   68  Female   2.0  0.7    250.9  47.8   76.6  6.0  4.6  331.60   1.0\n",
       " 464   66    Male   1.8  1.6    113.4   4.3  843.0  7.9  4.9  467.79   1.0\n",
       " 465   45    Male  30.3  0.0    340.9  34.1  117.8  6.7  4.8  132.48   1.0\n",
       " \n",
       " [466 rows x 11 columns],\n",
       " 'WGANGP':      age gender        TB        DB     alkphos        sgpt       sgot  \\\n",
       " 0     29   Male  1.493286  0.305215  181.439041   47.528675  58.060356   \n",
       " 1     40   Male  2.644370  0.971491  258.177002   93.005783  58.738285   \n",
       " 2     34   Male  1.673791  0.566819  222.470963   84.489075  50.876556   \n",
       " 3     45   Male  1.841415  0.577833  200.772736   51.584827  38.538437   \n",
       " 4     39   Male  2.698557  1.013579  262.246979  104.780251  66.965988   \n",
       " ..   ...    ...       ...       ...         ...         ...        ...   \n",
       " 461   27   Male  1.151936  0.150563  171.930328   47.628956  44.985054   \n",
       " 462   39   Male  2.686199  1.038701  263.196320  102.436165  61.872330   \n",
       " 463   39   Male  2.645507  1.042506  276.282898  104.695000  66.229935   \n",
       " 464   27   Male  1.079657  0.180837  171.397888   56.983002  41.766006   \n",
       " 465   33   Male  1.707967  0.462736  200.413055   62.888950  44.823135   \n",
       " \n",
       "            TP       ALB         A_G class  \n",
       " 0    7.678981  4.452882 -164.402267   1.0  \n",
       " 1    7.441417  4.017587  -69.416679   2.0  \n",
       " 2    7.656133  4.316024 -227.091599   2.0  \n",
       " 3    7.178044  4.283068  -30.214041   2.0  \n",
       " 4    7.551036  3.972701  -38.801598   2.0  \n",
       " ..        ...       ...         ...   ...  \n",
       " 461  7.746896  4.513616 -256.732788   1.0  \n",
       " 462  7.508008  3.969202 -129.229355   2.0  \n",
       " 463  7.540930  3.992946 -187.846268   2.0  \n",
       " 464  7.826374  4.611629 -310.726685   1.0  \n",
       " 465  7.636399  4.344552 -218.154144   1.0  \n",
       " \n",
       " [466 rows x 11 columns]}"
      ]
     },
     "execution_count": 4,
     "metadata": {},
     "output_type": "execute_result"
    }
   ],
   "source": [
    "#iterate over all datasets filepaths and read each dataset\n",
    "for name, path in FILEPATHS.items() :\n",
    "    data[name] = pd.read_csv(path)\n",
    "    for col in categorical_columns :\n",
    "        data[name][col] = data[name][col].astype('category')\n",
    "data"
   ]
  },
  {
   "cell_type": "markdown",
   "metadata": {},
   "source": [
    "## 2. Plot PPC matrixes and calculate matrixes norms"
   ]
  },
  {
   "cell_type": "code",
   "execution_count": 5,
   "metadata": {},
   "outputs": [
    {
     "data": {
      "text/plain": [
       "{'Real': 3.733, 'GM': 3.996, 'SDV': 3.7259, 'CTGAN': 3.0382, 'WGANGP': 6.1606}"
      ]
     },
     "execution_count": 5,
     "metadata": {},
     "output_type": "execute_result"
    }
   ],
   "source": [
    "#compute correlation matrixes for all datasets\n",
    "cors_numerical = dict()\n",
    "norms_numerical = dict()\n",
    "for name in DATA_TYPES :\n",
    "    cors_numerical[name], norms_numerical[name] = get_numerical_correlations(data[name])\n",
    "norms_numerical"
   ]
  },
  {
   "cell_type": "code",
   "execution_count": 6,
   "metadata": {},
   "outputs": [
    {
     "data": {
      "image/png": "[encoded data removed]",
      "text/plain": [
       "<Figure size 1080x180 with 6 Axes>"
      ]
     },
     "metadata": {
      "needs_background": "light"
     },
     "output_type": "display_data"
    }
   ],
   "source": [
    "fig, axs = plt.subplots(nrows=1, ncols=5, figsize=(15, 2.5))\n",
    "axs_idxs = range(6)\n",
    "idx = dict(zip(DATA_TYPES,axs_idxs))\n",
    "\n",
    "for name_idx, name in enumerate(DATA_TYPES) :\n",
    "    ax = axs[idx[name]]\n",
    "    matrix = cors_numerical[name]\n",
    "    \n",
    "    if name_idx != len(DATA_TYPES) - 1:\n",
    "        plot_correlations(matrix, ax, color_bar=False)\n",
    "    else:\n",
    "        plot_correlations(matrix, ax, color_bar=True)\n",
    "    \n",
    "    if name_idx > 0:\n",
    "        ax.set_yticks([])    \n",
    "\n",
    "    if name == 'Real' :\n",
    "        ax.set_title(name)\n",
    "    else :\n",
    "        score = compute_mra_score(cors_numerical['Real'], matrix)\n",
    "        ax.set_title(name + ' (' + str(score) + ')')\n",
    "    \n",
    "fig.savefig('MULTIVARIATE RESEMBLANCE RESULTS/PPC_Matrices.svg', bbox_inches='tight')"
   ]
  },
  {
   "cell_type": "markdown",
   "metadata": {},
   "source": [
    "## 3. Plot correlations for categorical variables and calculate matrixes norms"
   ]
  },
  {
   "cell_type": "code",
   "execution_count": 7,
   "metadata": {},
   "outputs": [
    {
     "data": {
      "text/plain": [
       "{'Real': 1.4142, 'GM': 1.4142, 'SDV': 1.4142, 'CTGAN': 1.4142, 'WGANGP': nan}"
      ]
     },
     "execution_count": 7,
     "metadata": {},
     "output_type": "execute_result"
    }
   ],
   "source": [
    "#compute correlation matrixes for all datasets\n",
    "cors_categorical = dict()\n",
    "norms_categorical = dict()\n",
    "for name in DATA_TYPES :\n",
    "    cors_categorical[name], norms_categorical[name] = get_categorical_correlations(data[name])\n",
    "norms_categorical"
   ]
  },
  {
   "cell_type": "code",
   "execution_count": 8,
   "metadata": {},
   "outputs": [
    {
     "data": {
      "image/png": "[encoded data removed]",
      "text/plain": [
       "<Figure size 1080x180 with 6 Axes>"
      ]
     },
     "metadata": {
      "needs_background": "light"
     },
     "output_type": "display_data"
    }
   ],
   "source": [
    "fig, axs = plt.subplots(nrows=1, ncols=5, figsize=(15, 2.5))\n",
    "axs_idxs = range(6)\n",
    "idx = dict(zip(DATA_TYPES,axs_idxs))\n",
    "first = True\n",
    "\n",
    "for name_idx, name in enumerate(DATA_TYPES) :\n",
    "    ax = axs[idx[name]]\n",
    "    matrix = cors_categorical[name]\n",
    "    \n",
    "    if name_idx != len(DATA_TYPES) - 1:\n",
    "        plot_correlations(matrix, ax, color_bar=False)\n",
    "    else:\n",
    "        plot_correlations(matrix, ax, color_bar=True)\n",
    "    \n",
    "    if name_idx > 0:\n",
    "        ax.set_yticks([])    \n",
    "\n",
    "    if name == 'Real' :\n",
    "        ax.set_title(name)\n",
    "    else :\n",
    "        score = compute_mra_score(cors_numerical['Real'], matrix)\n",
    "        ax.set_title(name + ' (' + str(score) + ')')\n",
    "        \n",
    "fig.savefig('MULTIVARIATE RESEMBLANCE RESULTS/Categorical_Matrices.svg', bbox_inches='tight')"
   ]
  },
  {
   "cell_type": "markdown",
   "metadata": {},
   "source": [
    "## 4. Explore the results"
   ]
  },
  {
   "cell_type": "code",
   "execution_count": 9,
   "metadata": {},
   "outputs": [
    {
     "data": {
      "text/plain": [
       "{'Real': 3.733, 'GM': 3.996, 'SDV': 3.7259, 'CTGAN': 3.0382, 'WGANGP': 6.1606}"
      ]
     },
     "execution_count": 9,
     "metadata": {},
     "output_type": "execute_result"
    }
   ],
   "source": [
    "norms_numerical"
   ]
  },
  {
   "cell_type": "code",
   "execution_count": 10,
   "metadata": {
    "scrolled": true
   },
   "outputs": [
    {
     "data": {
      "text/plain": [
       "{'Real': 1.4142, 'GM': 1.4142, 'SDV': 1.4142, 'CTGAN': 1.4142, 'WGANGP': nan}"
      ]
     },
     "execution_count": 10,
     "metadata": {},
     "output_type": "execute_result"
    }
   ],
   "source": [
    "norms_categorical"
   ]
  },
  {
   "cell_type": "code",
   "execution_count": 11,
   "metadata": {},
   "outputs": [
    {
     "data": {
      "text/html": [
       "<div>\n",
       "<style scoped>\n",
       "    .dataframe tbody tr th:only-of-type {\n",
       "        vertical-align: middle;\n",
       "    }\n",
       "\n",
       "    .dataframe tbody tr th {\n",
       "        vertical-align: top;\n",
       "    }\n",
       "\n",
       "    .dataframe thead th {\n",
       "        text-align: right;\n",
       "    }\n",
       "</style>\n",
       "<table border=\"1\" class=\"dataframe\">\n",
       "  <thead>\n",
       "    <tr style=\"text-align: right;\">\n",
       "      <th></th>\n",
       "      <th>Real</th>\n",
       "      <th>GM</th>\n",
       "      <th>SDV</th>\n",
       "      <th>CTGAN</th>\n",
       "      <th>WGANGP</th>\n",
       "    </tr>\n",
       "  </thead>\n",
       "  <tbody>\n",
       "    <tr>\n",
       "      <th>PPC_MATRIX_NORMS</th>\n",
       "      <td>3.7330</td>\n",
       "      <td>3.9960</td>\n",
       "      <td>3.7259</td>\n",
       "      <td>3.0382</td>\n",
       "      <td>6.1606</td>\n",
       "    </tr>\n",
       "    <tr>\n",
       "      <th>CATEGORICAL_CORS_MATRIX_NORMS</th>\n",
       "      <td>1.4142</td>\n",
       "      <td>1.4142</td>\n",
       "      <td>1.4142</td>\n",
       "      <td>1.4142</td>\n",
       "      <td>NaN</td>\n",
       "    </tr>\n",
       "  </tbody>\n",
       "</table>\n",
       "</div>"
      ],
      "text/plain": [
       "                                 Real      GM     SDV   CTGAN  WGANGP\n",
       "PPC_MATRIX_NORMS               3.7330  3.9960  3.7259  3.0382  6.1606\n",
       "CATEGORICAL_CORS_MATRIX_NORMS  1.4142  1.4142  1.4142  1.4142     NaN"
      ]
     },
     "execution_count": 11,
     "metadata": {},
     "output_type": "execute_result"
    }
   ],
   "source": [
    "norms_data = [np.asarray(list(norms_numerical.values())), np.asarray(list(norms_categorical.values()))]\n",
    "df_norms = pd.DataFrame(data=norms_data, columns=DATA_TYPES, index=['PPC_MATRIX_NORMS','CATEGORICAL_CORS_MATRIX_NORMS'])\n",
    "df_norms.to_csv('MULTIVARIATE RESEMBLANCE RESULTS/Correlation_Matrix_Norms.csv')\n",
    "df_norms"
   ]
  },
  {
   "cell_type": "code",
   "execution_count": null,
   "metadata": {},
   "outputs": [],
   "source": []
  }
 ],
 "metadata": {
  "kernelspec": {
   "display_name": "Python 3",
   "language": "python",
   "name": "python3"
  },
  "language_info": {
   "codemirror_mode": {
    "name": "ipython",
    "version": 3
   },
   "file_extension": ".py",
   "mimetype": "text/x-python",
   "name": "python",
   "nbconvert_exporter": "python",
   "pygments_lexer": "ipython3",
   "version": "3.8.5"
  }
 },
 "nbformat": 4,
 "nbformat_minor": 5
}
