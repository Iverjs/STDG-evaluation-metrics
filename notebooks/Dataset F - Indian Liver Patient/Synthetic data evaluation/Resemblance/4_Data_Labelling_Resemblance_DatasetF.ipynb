{
 "cells": [
  {
   "cell_type": "markdown",
   "metadata": {},
   "source": [
    "# Data Labelling Analysis (DLA) Evaluation Dataset F"
   ]
  },
  {
   "cell_type": "code",
   "execution_count": 1,
   "metadata": {},
   "outputs": [
    {
     "name": "stdout",
     "output_type": "stream",
     "text": [
      "Libraries imported!!\n"
     ]
    }
   ],
   "source": [
    "#import libraries\n",
    "import warnings\n",
    "warnings.filterwarnings(\"ignore\")\n",
    "import numpy as np\n",
    "import pandas as pd\n",
    "from matplotlib import pyplot as plt\n",
    "import os\n",
    "print('Libraries imported!!')"
   ]
  },
  {
   "cell_type": "code",
   "execution_count": 2,
   "metadata": {},
   "outputs": [
    {
     "name": "stdout",
     "output_type": "stream",
     "text": [
      "Functions imported!!\n"
     ]
    }
   ],
   "source": [
    "#define directory of functions and actual directory\n",
    "HOME_PATH = '' #home path of the project\n",
    "FUNCTIONS_DIR = 'EVALUATION FUNCTIONS/RESEMBLANCE'\n",
    "ACTUAL_DIR = os.getcwd()\n",
    "\n",
    "#change directory to functions directory\n",
    "os.chdir(HOME_PATH + FUNCTIONS_DIR)\n",
    "\n",
    "#import functions for data labelling analisys\n",
    "from data_labelling import mix_data\n",
    "from data_labelling import split_data\n",
    "from data_labelling import DataPreProcessor\n",
    "from data_labelling import ClassificationModels\n",
    "\n",
    "#change directory to actual directory\n",
    "os.chdir(ACTUAL_DIR)\n",
    "print('Functions imported!!')"
   ]
  },
  {
   "cell_type": "markdown",
   "metadata": {},
   "source": [
    "## 1. Read real and synthetic datasets\n",
    "In this part real and synthetic datasets are read."
   ]
  },
  {
   "cell_type": "code",
   "execution_count": 3,
   "metadata": {},
   "outputs": [],
   "source": [
    "#Define global variables\n",
    "DATA_TYPES = ['Real','GM','SDV','CTGAN','WGANGP']\n",
    "SYNTHESIZERS = ['GM','SDV','CTGAN','WGANGP']\n",
    "FILEPATHS = {'Real' : HOME_PATH + 'REAL DATASETS/TRAIN DATASETS/F_IndianLiverPatient_Real_Train.csv',\n",
    "            'GM' : HOME_PATH + 'SYNTHETIC DATASETS/GM/F_IndianLiverPatient_Synthetic_GM.csv',\n",
    "            'SDV' : HOME_PATH + 'SYNTHETIC DATASETS/SDV/F_IndianLiverPatient_Synthetic_SDV.csv',\n",
    "            'CTGAN' : HOME_PATH + 'SYNTHETIC DATASETS/CTGAN/F_IndianLiverPatient_Synthetic_CTGAN.csv',\n",
    "            'WGANGP' : HOME_PATH + 'SYNTHETIC DATASETS/WGANGP/F_IndianLiverPatient_Synthetic_WGANGP.csv'}\n",
    "categorical_columns = ['gender','class']\n",
    "data = dict()"
   ]
  },
  {
   "cell_type": "code",
   "execution_count": 4,
   "metadata": {},
   "outputs": [
    {
     "data": {
      "text/plain": [
       "{'Real':      age  gender   TB   DB  alkphos  sgpt   sgot   TP  ALB   A_G class\n",
       " 0     68  Female  0.6  0.1   1620.0  95.0  127.0  4.6  2.1  0.80   1.0\n",
       " 1     31    Male  1.3  0.5    184.0  29.0   32.0  6.8  3.4  1.00   1.0\n",
       " 2     28    Male  0.8  0.3    190.0  20.0   14.0  4.1  2.4  1.40   1.0\n",
       " 3     60    Male  2.3  0.6    272.0  79.0   51.0  6.6  3.5  1.10   1.0\n",
       " 4     48  Female  0.9  0.2    173.0  26.0   27.0  6.2  3.1  1.00   1.0\n",
       " ..   ...     ...  ...  ...      ...   ...    ...  ...  ...   ...   ...\n",
       " 461   75  Female  0.8  0.2    188.0  20.0   29.0  4.4  1.8  0.60   1.0\n",
       " 462   36    Male  5.3  2.3    145.0  32.0   92.0  5.1  2.6  1.00   2.0\n",
       " 463   37    Male  0.7  0.2    235.0  96.0   54.0  9.5  4.9  1.00   1.0\n",
       " 464   17  Female  0.5  0.1    206.0  28.0   21.0  7.1  4.5  1.70   2.0\n",
       " 465   17    Male  0.9  0.2    224.0  36.0   45.0  6.9  4.2  1.55   1.0\n",
       " \n",
       " [466 rows x 11 columns],\n",
       " 'GM':      age  gender        TB        DB     alkphos        sgpt        sgot  \\\n",
       " 0     68    Male  0.792221  0.210326  403.231073   41.466674   33.224376   \n",
       " 1     62  Female  1.081347  0.299965  432.280680   29.344795   45.448756   \n",
       " 2     66    Male  1.106183  0.228158  409.387072  182.941301   74.747186   \n",
       " 3     18    Male  0.319369  0.211002  123.339810   33.420530   39.358963   \n",
       " 4     28    Male  0.689095  0.791855   41.390511   37.560963   49.239559   \n",
       " ..   ...     ...       ...       ...         ...         ...         ...   \n",
       " 461   44    Male  0.555285  0.120601  200.579550   18.119024   20.245458   \n",
       " 462   45    Male  0.441402  0.276043  176.890784   40.251383   37.730839   \n",
       " 463   23    Male  1.294539  0.289846  224.054337   38.982170  123.888386   \n",
       " 464   56    Male  0.516323  0.512852  307.627940   30.908007   44.850122   \n",
       " 465   41    Male  1.683816  3.139415  252.728469   30.817496   30.770279   \n",
       " \n",
       "            TP       ALB       A_G class  \n",
       " 0    5.532269  2.299157  0.739703   1.0  \n",
       " 1    6.762787  3.424076  1.132054   1.0  \n",
       " 2    7.259657  4.059811  0.881810   1.0  \n",
       " 3    8.525534  4.605769  1.557012   2.0  \n",
       " 4    7.501857  3.313626  0.706537   2.0  \n",
       " ..        ...       ...       ...   ...  \n",
       " 461  7.024714  2.973412  0.638638   1.0  \n",
       " 462  5.729123  3.276946  1.346909   2.0  \n",
       " 463  7.224159  3.751692  0.944799   2.0  \n",
       " 464  5.357072  2.377225  0.284098   1.0  \n",
       " 465  4.752291  2.579145  1.124658   2.0  \n",
       " \n",
       " [466 rows x 11 columns],\n",
       " 'SDV':      age  gender    TB   DB  alkphos   sgpt   sgot   TP  ALB       A_G class\n",
       " 0     44    Male   8.3  4.5    392.9   51.0  356.8  5.5  2.8   6794.23   1.0\n",
       " 1     46    Male   6.6  3.3    274.8    2.4  115.1  7.7  4.3   7235.22   2.0\n",
       " 2      9    Male   8.7  4.2    592.2   65.9  448.1  7.3  3.4   1607.48   1.0\n",
       " 3     46    Male   5.3  2.6    349.1  281.3  220.2  6.5  2.7   4034.47   2.0\n",
       " 4     33    Male   0.1  0.0    387.6   13.6   76.2  6.5  3.3   8117.89   1.0\n",
       " ..   ...     ...   ...  ...      ...    ...    ...  ...  ...       ...   ...\n",
       " 461   62    Male   1.6  0.8     63.9   97.7  158.2  7.5  4.3   4001.77   2.0\n",
       " 462    7  Female  14.0  6.5    208.5  411.6  199.0  7.5  4.4  10646.83   1.0\n",
       " 463   52    Male   8.3  3.3    761.4  159.6  316.6  6.2  2.9   2055.75   1.0\n",
       " 464   60    Male  14.8  5.8    798.7  319.8  409.5  6.1  2.3  11312.52   1.0\n",
       " 465   52    Male   8.0  4.1    359.0  368.2  556.9  5.8  2.8   2952.02   1.0\n",
       " \n",
       " [466 rows x 11 columns],\n",
       " 'CTGAN':      age  gender    TB   DB  alkphos  sgpt   sgot   TP  ALB     A_G class\n",
       " 0     48    Male   0.4  0.3    293.3  90.9  122.1  6.9  4.8  373.75   2.0\n",
       " 1     63    Male   5.1  1.4    146.7  44.4  767.0  4.5  2.6  215.70   2.0\n",
       " 2     46    Male   2.6  0.2    279.5   8.1   71.5  3.3  3.8  105.82   1.0\n",
       " 3     32    Male   4.9  0.5    109.0   6.9   25.9  5.2  1.3  417.34   2.0\n",
       " 4     54    Male   2.2  0.3    118.1  28.7   56.4  7.2  3.8   29.17   2.0\n",
       " ..   ...     ...   ...  ...      ...   ...    ...  ...  ...     ...   ...\n",
       " 461    4  Female   0.9  0.4    218.1  19.3    7.3  8.8  2.5   91.13   2.0\n",
       " 462   59    Male   1.1  1.7     94.3   3.2    3.0  6.3  3.0  453.24   2.0\n",
       " 463   68  Female   2.0  0.7    250.9  47.8   76.6  6.0  4.6  331.60   1.0\n",
       " 464   66    Male   1.8  1.6    113.4   4.3  843.0  7.9  4.9  467.79   1.0\n",
       " 465   45    Male  30.3  0.0    340.9  34.1  117.8  6.7  4.8  132.48   1.0\n",
       " \n",
       " [466 rows x 11 columns],\n",
       " 'WGANGP':      age gender        TB        DB     alkphos        sgpt       sgot  \\\n",
       " 0     29   Male  1.493286  0.305215  181.439041   47.528675  58.060356   \n",
       " 1     40   Male  2.644370  0.971491  258.177002   93.005783  58.738285   \n",
       " 2     34   Male  1.673791  0.566819  222.470963   84.489075  50.876556   \n",
       " 3     45   Male  1.841415  0.577833  200.772736   51.584827  38.538437   \n",
       " 4     39   Male  2.698557  1.013579  262.246979  104.780251  66.965988   \n",
       " ..   ...    ...       ...       ...         ...         ...        ...   \n",
       " 461   27   Male  1.151936  0.150563  171.930328   47.628956  44.985054   \n",
       " 462   39   Male  2.686199  1.038701  263.196320  102.436165  61.872330   \n",
       " 463   39   Male  2.645507  1.042506  276.282898  104.695000  66.229935   \n",
       " 464   27   Male  1.079657  0.180837  171.397888   56.983002  41.766006   \n",
       " 465   33   Male  1.707967  0.462736  200.413055   62.888950  44.823135   \n",
       " \n",
       "            TP       ALB         A_G class  \n",
       " 0    7.678981  4.452882 -164.402267   1.0  \n",
       " 1    7.441417  4.017587  -69.416679   2.0  \n",
       " 2    7.656133  4.316024 -227.091599   2.0  \n",
       " 3    7.178044  4.283068  -30.214041   2.0  \n",
       " 4    7.551036  3.972701  -38.801598   2.0  \n",
       " ..        ...       ...         ...   ...  \n",
       " 461  7.746896  4.513616 -256.732788   1.0  \n",
       " 462  7.508008  3.969202 -129.229355   2.0  \n",
       " 463  7.540930  3.992946 -187.846268   2.0  \n",
       " 464  7.826374  4.611629 -310.726685   1.0  \n",
       " 465  7.636399  4.344552 -218.154144   1.0  \n",
       " \n",
       " [466 rows x 11 columns]}"
      ]
     },
     "execution_count": 4,
     "metadata": {},
     "output_type": "execute_result"
    }
   ],
   "source": [
    "#iterate over all datasets filepaths and read each dataset\n",
    "for name, path in FILEPATHS.items() :\n",
    "    data[name] = pd.read_csv(path)\n",
    "    for col in categorical_columns :\n",
    "        data[name][col] = data[name][col].astype('category')\n",
    "data"
   ]
  },
  {
   "cell_type": "markdown",
   "metadata": {},
   "source": [
    "## 2. Mix real data with synthetic data"
   ]
  },
  {
   "cell_type": "code",
   "execution_count": 5,
   "metadata": {},
   "outputs": [
    {
     "data": {
      "text/plain": [
       "{'GM':      age  gender         TB         DB     alkphos       sgpt        sgot  \\\n",
       " 259   53    Male   1.315067   0.242477   50.000688  49.643474  128.305072   \n",
       " 97    54  Female  23.200000  12.600000  574.000000  43.000000   47.000000   \n",
       " 144   68    Male   1.429678   0.812187  249.812344  62.894633   47.065755   \n",
       " 9     55    Male   1.439845   0.795778  203.524859  83.455427   12.636033   \n",
       " 253   50    Male   1.100000   0.300000  175.000000  20.000000   19.000000   \n",
       " ..   ...     ...        ...        ...         ...        ...         ...   \n",
       " 327   37    Male   2.953134   0.570831  297.131187  28.900725   40.251322   \n",
       " 22    17    Male   2.529527   3.287912  337.007847  43.425354   50.992168   \n",
       " 222   24    Male   1.471051   0.395399  902.311240  78.703832   70.495975   \n",
       " 203   17  Female   0.700000   0.200000  145.000000  18.000000   36.000000   \n",
       " 366   49    Male   0.600000   0.100000  218.000000  50.000000   53.000000   \n",
       " \n",
       "            TP       ALB       A_G class  Label  \n",
       " 259  6.005177  1.492548 -0.630766   1.0    1.0  \n",
       " 97   7.200000  3.500000  0.900000   1.0    0.0  \n",
       " 144  5.233941  2.292645  0.870187   1.0    1.0  \n",
       " 9    7.201576  3.730901  1.007319   1.0    1.0  \n",
       " 253  7.100000  4.500000  1.700000   2.0    0.0  \n",
       " ..        ...       ...       ...   ...    ...  \n",
       " 327  8.172277  4.176378  1.225848   1.0    1.0  \n",
       " 22   6.857626  4.094951  1.429541   1.0    1.0  \n",
       " 222  7.856736  4.040785  0.858179   1.0    1.0  \n",
       " 203  7.200000  3.900000  1.180000   2.0    0.0  \n",
       " 366  5.000000  2.400000  0.900000   1.0    0.0  \n",
       " \n",
       " [932 rows x 12 columns],\n",
       " 'SDV':      age  gender    TB   DB  alkphos    sgpt    sgot   TP  ALB       A_G  \\\n",
       " 116   84    Male   7.3  2.0    282.1   228.9   114.9  5.3  2.0   6558.06   \n",
       " 190   31  Female   0.8  0.2    215.0    15.0    21.0  7.6  4.0      1.10   \n",
       " 10    32    Male  15.9  7.0    280.0  1350.0  1600.0  5.6  2.8      1.00   \n",
       " 296   38    Male   0.7  0.2    216.0   349.0   105.0  7.0  3.5      1.00   \n",
       " 85    25  Female   6.4  2.9    111.2    59.0    45.4  7.4  4.1  10714.83   \n",
       " ..   ...     ...   ...  ...      ...     ...     ...  ...  ...       ...   \n",
       " 323   55    Male   0.6  0.2    220.0    24.0    32.0  5.1  2.4      0.88   \n",
       " 243   36  Female   5.0  1.4    120.7    90.2   320.5  5.3  3.5   2166.10   \n",
       " 163   64    Male   8.5  4.6    454.5    47.9    39.8  6.3  2.8   7986.56   \n",
       " 66    37    Male   6.3  1.7    462.9    52.7   240.5  7.7  3.4   4057.46   \n",
       " 159   60    Male   0.7  0.2    174.0    32.0    14.0  7.8  4.2      1.10   \n",
       " \n",
       "     class  Label  \n",
       " 116   1.0    1.0  \n",
       " 190   1.0    0.0  \n",
       " 10    1.0    0.0  \n",
       " 296   1.0    0.0  \n",
       " 85    2.0    1.0  \n",
       " ..    ...    ...  \n",
       " 323   1.0    0.0  \n",
       " 243   1.0    1.0  \n",
       " 163   1.0    1.0  \n",
       " 66    1.0    1.0  \n",
       " 159   2.0    0.0  \n",
       " \n",
       " [932 rows x 12 columns],\n",
       " 'CTGAN':      age  gender    TB   DB  alkphos   sgpt   sgot   TP  ALB     A_G class  \\\n",
       " 380   63  Female   5.0  0.1    214.0   78.3   75.0  8.3  4.3   22.90   1.0   \n",
       " 232   66    Male  10.6  0.3    171.8   22.8  281.9  5.2  2.8  595.64   1.0   \n",
       " 391   32    Male   0.9  0.3    462.0   70.0   82.0  6.2  3.1    1.00   1.0   \n",
       " 407   50    Male   7.3  3.7     92.0   44.0  236.0  6.8  1.6    0.30   1.0   \n",
       " 400   65    Male   1.1  0.0   2031.5   70.1  113.5  3.2  2.5  272.94   2.0   \n",
       " ..   ...     ...   ...  ...      ...    ...    ...  ...  ...     ...   ...   \n",
       " 447   48    Male   0.7  0.2    208.0   15.0   30.0  4.6  2.1    0.80   2.0   \n",
       " 217   58    Male   1.8  0.3    830.7   90.9   59.4  5.6  2.5  522.24   2.0   \n",
       " 113   76    Male   1.2  0.1    650.1  176.0   97.1  2.7  1.8  935.16   1.0   \n",
       " 328   52    Male  33.0  0.3    309.2   74.2  215.3  8.0  2.2  450.33   2.0   \n",
       " 8     80    Male   0.1  0.3   1141.4  135.5  104.1  5.3  3.2   57.62   1.0   \n",
       " \n",
       "      Label  \n",
       " 380    1.0  \n",
       " 232    1.0  \n",
       " 391    0.0  \n",
       " 407    0.0  \n",
       " 400    1.0  \n",
       " ..     ...  \n",
       " 447    0.0  \n",
       " 217    1.0  \n",
       " 113    1.0  \n",
       " 328    1.0  \n",
       " 8      1.0  \n",
       " \n",
       " [932 rows x 12 columns],\n",
       " 'WGANGP':      age  gender        TB        DB     alkphos        sgpt        sgot  \\\n",
       " 64    40    Male  2.544557  1.006907  265.936249   93.646393   61.191669   \n",
       " 439   37    Male  2.038038  0.679021  221.676300   80.775040   41.773361   \n",
       " 117   52  Female  0.600000  0.100000  194.000000   10.000000   12.000000   \n",
       " 437   27    Male  0.944449  0.134286  176.540207   60.620380   46.168282   \n",
       " 317   30    Male  1.300000  0.400000  482.000000  102.000000   80.000000   \n",
       " ..   ...     ...       ...       ...         ...         ...         ...   \n",
       " 179   24    Male  0.980789  0.057099  165.680206   51.586678   32.477501   \n",
       " 181   35    Male  2.138108  0.781346  250.567474   93.089508   50.588943   \n",
       " 98    41    Male  2.520534  0.903038  247.778366   75.985664   53.058769   \n",
       " 329   32    Male  0.700000  0.200000  276.000000  102.000000  190.000000   \n",
       " 387   37    Male  0.800000  0.200000  195.000000   60.000000   40.000000   \n",
       " \n",
       "            TP       ALB         A_G class  Label  \n",
       " 64   7.447131  4.032826 -114.969170   2.0    1.0  \n",
       " 439  7.612804  4.280674 -240.892334   2.0    1.0  \n",
       " 117  6.900000  3.300000    0.900000   2.0    0.0  \n",
       " 437  7.817338  4.594044 -299.458679   1.0    1.0  \n",
       " 317  6.900000  3.300000    0.900000   1.0    0.0  \n",
       " ..        ...       ...         ...   ...    ...  \n",
       " 179  7.845239  4.774357 -269.071075   1.0    1.0  \n",
       " 181  7.646218  4.121518 -256.278992   2.0    1.0  \n",
       " 98   7.397359  4.108641 -182.396042   2.0    1.0  \n",
       " 329  6.000000  2.900000    0.930000   1.0    0.0  \n",
       " 387  8.200000  5.000000    1.500000   2.0    0.0  \n",
       " \n",
       " [932 rows x 12 columns]}"
      ]
     },
     "execution_count": 5,
     "metadata": {},
     "output_type": "execute_result"
    }
   ],
   "source": [
    "mixed_data = dict()\n",
    "for name in SYNTHESIZERS :\n",
    "    mixed_data[name] = mix_data(data['Real'], data[name])\n",
    "mixed_data"
   ]
  },
  {
   "cell_type": "markdown",
   "metadata": {},
   "source": [
    "- 0 for real data\n",
    "- 1 for synthetic data"
   ]
  },
  {
   "cell_type": "markdown",
   "metadata": {},
   "source": [
    "## 2. Split train and test data"
   ]
  },
  {
   "cell_type": "code",
   "execution_count": 6,
   "metadata": {},
   "outputs": [
    {
     "name": "stdout",
     "output_type": "stream",
     "text": [
      "GM\n",
      "(745, 12) (186, 12)\n",
      "Train data Label\n",
      "0.0    366\n",
      "1.0    379\n",
      "dtype: int64\n",
      "Test data Label\n",
      "0.0    99\n",
      "1.0    87\n",
      "dtype: int64\n",
      "##############################################\n",
      "SDV\n",
      "(745, 12) (186, 12)\n",
      "Train data Label\n",
      "0.0    368\n",
      "1.0    377\n",
      "dtype: int64\n",
      "Test data Label\n",
      "0.0    98\n",
      "1.0    88\n",
      "dtype: int64\n",
      "##############################################\n",
      "CTGAN\n",
      "(745, 12) (186, 12)\n",
      "Train data Label\n",
      "0.0    384\n",
      "1.0    361\n",
      "dtype: int64\n",
      "Test data Label\n",
      "0.0     82\n",
      "1.0    104\n",
      "dtype: int64\n",
      "##############################################\n",
      "WGANGP\n",
      "(745, 12) (186, 12)\n",
      "Train data Label\n",
      "0.0    376\n",
      "1.0    369\n",
      "dtype: int64\n",
      "Test data Label\n",
      "0.0    89\n",
      "1.0    97\n",
      "dtype: int64\n",
      "##############################################\n"
     ]
    }
   ],
   "source": [
    "train_len = 0.8\n",
    "train_data = dict()\n",
    "test_data = dict()\n",
    "for name in SYNTHESIZERS :\n",
    "    print(name)\n",
    "    train_data[name], test_data[name] = split_data(mixed_data[name], train_len)\n",
    "    print(train_data[name].shape, test_data[name].shape)\n",
    "    print('Train data', train_data[name].groupby('Label').size())\n",
    "    print('Test data', test_data[name].groupby('Label').size())\n",
    "    print('##############################################')"
   ]
  },
  {
   "cell_type": "markdown",
   "metadata": {},
   "source": [
    "## 3. Train Classifiers"
   ]
  },
  {
   "cell_type": "code",
   "execution_count": 7,
   "metadata": {},
   "outputs": [
    {
     "name": "stdout",
     "output_type": "stream",
     "text": [
      "GM\n",
      "RF Trained\n",
      "KNN Trained\n",
      "DT Trained\n",
      "SVM Trained\n",
      "MLP Trained\n",
      "####################################################\n",
      "SDV\n",
      "RF Trained\n",
      "KNN Trained\n",
      "DT Trained\n",
      "SVM Trained\n",
      "MLP Trained\n",
      "####################################################\n",
      "CTGAN\n",
      "RF Trained\n",
      "KNN Trained\n",
      "DT Trained\n",
      "SVM Trained\n",
      "MLP Trained\n",
      "####################################################\n",
      "WGANGP\n",
      "RF Trained\n",
      "KNN Trained\n",
      "DT Trained\n",
      "SVM Trained\n",
      "MLP Trained\n",
      "####################################################\n"
     ]
    }
   ],
   "source": [
    "categorical_columns = ['gender','class']\n",
    "numerical_columns = data['Real'].select_dtypes(include=['int64','float64']).columns.tolist()\n",
    "categories = [np.array([0, 1]), np.array([0, 1])]\n",
    "\n",
    "#initialize classifiers\n",
    "classifiers_all = dict()\n",
    "data_preprocessors = dict()\n",
    "\n",
    "target = 'Label'\n",
    "\n",
    "for name in SYNTHESIZERS : \n",
    "    print(name)\n",
    "    \n",
    "    classifiers_all[name] = ClassificationModels()\n",
    "    \n",
    "    data_preprocessors[name] = DataPreProcessor(categorical_columns, numerical_columns, categories)\n",
    "    x_train = data_preprocessors[name].preprocess_train_data(train_data[name].iloc[:, train_data[name].columns != target])\n",
    "    y_train = train_data[name].loc[:, target]\n",
    "    \n",
    "    classifiers_all[name].train_classifiers(x_train, y_train)\n",
    "    \n",
    "    print('####################################################')"
   ]
  },
  {
   "cell_type": "markdown",
   "metadata": {},
   "source": [
    "## 5. Evaluate Classifiers"
   ]
  },
  {
   "cell_type": "code",
   "execution_count": 8,
   "metadata": {},
   "outputs": [
    {
     "name": "stdout",
     "output_type": "stream",
     "text": [
      "GM\n",
      "(186, 13)\n",
      "RF Tested\n",
      "  model  accuracy  precision  recall      f1\n",
      "0    RF    0.8978      0.925  0.8506  0.8862\n",
      "KNN Tested\n",
      "  model  accuracy  precision  recall      f1\n",
      "0   KNN    0.5161     0.4789  0.3908  0.4304\n",
      "DT Tested\n",
      "  model  accuracy  precision  recall      f1\n",
      "0    DT    0.8548     0.8261  0.8736  0.8492\n",
      "SVM Tested\n",
      "  model  accuracy  precision  recall      f1\n",
      "0   SVM    0.4731     0.4486  0.5517  0.4948\n",
      "MLP Tested\n",
      "  model  accuracy  precision  recall      f1\n",
      "0   MLP    0.6237     0.5895  0.6437  0.6154\n",
      "####################################################\n",
      "SDV\n",
      "(186, 13)\n",
      "RF Tested\n",
      "  model  accuracy  precision  recall   f1\n",
      "0    RF       1.0        1.0     1.0  1.0\n",
      "KNN Tested\n",
      "  model  accuracy  precision  recall      f1\n",
      "0   KNN    0.8763     0.8652   0.875  0.8701\n",
      "DT Tested\n",
      "  model  accuracy  precision  recall   f1\n",
      "0    DT       1.0        1.0     1.0  1.0\n",
      "SVM Tested\n",
      "  model  accuracy  precision  recall      f1\n",
      "0   SVM    0.8871     0.8681  0.8977  0.8827\n",
      "MLP Tested\n",
      "  model  accuracy  precision  recall      f1\n",
      "0   MLP    0.9624     0.9551  0.9659  0.9605\n",
      "####################################################\n",
      "CTGAN\n",
      "(186, 13)\n",
      "RF Tested\n",
      "  model  accuracy  precision  recall   f1\n",
      "0    RF       1.0        1.0     1.0  1.0\n",
      "KNN Tested\n",
      "  model  accuracy  precision  recall      f1\n",
      "0   KNN    0.7097     0.9464  0.5096  0.6625\n",
      "DT Tested\n",
      "  model  accuracy  precision  recall   f1\n",
      "0    DT       1.0        1.0     1.0  1.0\n",
      "SVM Tested\n",
      "  model  accuracy  precision  recall      f1\n",
      "0   SVM    0.5914     0.6045  0.7788  0.6807\n",
      "MLP Tested\n",
      "  model  accuracy  precision  recall      f1\n",
      "0   MLP    0.9086     0.9485  0.8846  0.9154\n",
      "####################################################\n",
      "WGANGP\n",
      "(186, 13)\n",
      "RF Tested\n",
      "  model  accuracy  precision  recall   f1\n",
      "0    RF       1.0        1.0     1.0  1.0\n",
      "KNN Tested\n",
      "  model  accuracy  precision  recall      f1\n",
      "0   KNN    0.9409     0.8981     1.0  0.9463\n",
      "DT Tested\n",
      "  model  accuracy  precision  recall      f1\n",
      "0    DT    0.9839       0.97     1.0  0.9848\n",
      "SVM Tested\n",
      "  model  accuracy  precision  recall      f1\n",
      "0   SVM    0.8172     0.8987   0.732  0.8068\n",
      "MLP Tested\n",
      "  model  accuracy  precision  recall      f1\n",
      "0   MLP    0.9946     0.9898     1.0  0.9949\n",
      "####################################################\n"
     ]
    }
   ],
   "source": [
    "results_all = dict()\n",
    "\n",
    "for name in SYNTHESIZERS : \n",
    "    print(name)\n",
    "    \n",
    "    x_test = data_preprocessors[name].preprocess_test_data(test_data[name].loc[:, test_data[name].columns != target])\n",
    "    print(x_test.shape)\n",
    "    y_test = test_data[name].loc[:, target]\n",
    "    \n",
    "    classifiers_all[name].evaluate_classifiers(x_test, y_test)\n",
    "    print('####################################################')"
   ]
  },
  {
   "cell_type": "markdown",
   "metadata": {},
   "source": [
    "## 6. Analyse models results"
   ]
  },
  {
   "cell_type": "code",
   "execution_count": 9,
   "metadata": {},
   "outputs": [
    {
     "data": {
      "image/png": "[encoded data removed]",
      "text/plain": [
       "<Figure size 576x180 with 4 Axes>"
      ]
     },
     "metadata": {
      "needs_background": "light"
     },
     "output_type": "display_data"
    }
   ],
   "source": [
    "fig, axs = plt.subplots(nrows=1, ncols=4, figsize=(8, 2.5))\n",
    "axs_idxs = [[0,0], [0,1], [1,0], [1,1]]\n",
    "axs_idxs = [0, 1, 2, 3]\n",
    "idx = dict(zip(SYNTHESIZERS,axs_idxs))\n",
    "\n",
    "for name in SYNTHESIZERS :\n",
    "    ax_plot = axs[idx[name]]\n",
    "    classifiers_all[name].plot_classification_metrics(ax_plot)\n",
    "    ax_plot.set_title(name, fontsize=10)\n",
    "\n",
    "plt.tight_layout()\n",
    "fig.savefig('DATA LABELLING RESULTS/CLASSIFICATION_METRICS.svg', bbox_inches='tight')"
   ]
  },
  {
   "cell_type": "code",
   "execution_count": null,
   "metadata": {},
   "outputs": [],
   "source": []
  }
 ],
 "metadata": {
  "kernelspec": {
   "display_name": "Python 3",
   "language": "python",
   "name": "python3"
  },
  "language_info": {
   "codemirror_mode": {
    "name": "ipython",
    "version": 3
   },
   "file_extension": ".py",
   "mimetype": "text/x-python",
   "name": "python",
   "nbconvert_exporter": "python",
   "pygments_lexer": "ipython3",
   "version": "3.8.5"
  }
 },
 "nbformat": 4,
 "nbformat_minor": 4
}
