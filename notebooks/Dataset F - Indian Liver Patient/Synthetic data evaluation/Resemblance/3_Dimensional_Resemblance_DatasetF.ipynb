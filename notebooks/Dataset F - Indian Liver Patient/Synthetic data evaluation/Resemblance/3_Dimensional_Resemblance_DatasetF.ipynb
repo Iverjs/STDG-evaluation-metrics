{
 "cells": [
  {
   "cell_type": "markdown",
   "metadata": {},
   "source": [
    "# Dimensional Resemblance Analysis (DRA) Dataset F"
   ]
  },
  {
   "cell_type": "code",
   "execution_count": 1,
   "metadata": {},
   "outputs": [
    {
     "name": "stdout",
     "output_type": "stream",
     "text": [
      "Libraries imported!!\n"
     ]
    }
   ],
   "source": [
    "#import libraries\n",
    "import warnings\n",
    "warnings.filterwarnings(\"ignore\")\n",
    "import numpy as np\n",
    "import pandas as pd\n",
    "from matplotlib import pyplot as plt\n",
    "import os\n",
    "from tqdm import tqdm\n",
    "from sklearn.decomposition import PCA\n",
    "from sklearn.manifold import Isomap\n",
    "print('Libraries imported!!')"
   ]
  },
  {
   "cell_type": "code",
   "execution_count": 2,
   "metadata": {},
   "outputs": [
    {
     "name": "stdout",
     "output_type": "stream",
     "text": [
      "Functions imported!!\n"
     ]
    }
   ],
   "source": [
    "#define directory of functions and actual directory\n",
    "HOME_PATH = '' #home path of the project\n",
    "FUNCTIONS_DIR = 'EVALUATION FUNCTIONS/RESEMBLANCE'\n",
    "ACTUAL_DIR = os.getcwd()\n",
    "\n",
    "#change directory to functions directory\n",
    "os.chdir(HOME_PATH + FUNCTIONS_DIR)\n",
    "\n",
    "#import functions for univariate resemblance analisys\n",
    "from dimensional_resemblance import preprocess_data\n",
    "from dimensional_resemblance import pca_transform\n",
    "from dimensional_resemblance import isomap_transform\n",
    "from dimensional_resemblance import umap_transform\n",
    "from dimensional_resemblance import dra_distance\n",
    "\n",
    "#change directory to actual directory\n",
    "os.chdir(ACTUAL_DIR)\n",
    "print('Functions imported!!')"
   ]
  },
  {
   "cell_type": "markdown",
   "metadata": {},
   "source": [
    "## 1. Read real and synthetic datasets\n",
    "In this part real and synthetic datasets are read."
   ]
  },
  {
   "cell_type": "code",
   "execution_count": 3,
   "metadata": {},
   "outputs": [],
   "source": [
    "#Define global variables\n",
    "DATA_TYPES = ['Real','GM','SDV','CTGAN','WGANGP']\n",
    "SYNTHESIZERS = ['GM','SDV','CTGAN','WGANGP']\n",
    "FILEPATHS = {'Real' : HOME_PATH + 'REAL DATASETS/TRAIN DATASETS/F_IndianLiverPatient_Real_Train.csv',\n",
    "            'GM' : HOME_PATH + 'SYNTHETIC DATASETS/GM/F_IndianLiverPatient_Synthetic_GM.csv',\n",
    "            'SDV' : HOME_PATH + 'SYNTHETIC DATASETS/SDV/F_IndianLiverPatient_Synthetic_SDV.csv',\n",
    "            'CTGAN' : HOME_PATH + 'SYNTHETIC DATASETS/CTGAN/F_IndianLiverPatient_Synthetic_CTGAN.csv',\n",
    "            'WGANGP' : HOME_PATH + 'SYNTHETIC DATASETS/WGANGP/F_IndianLiverPatient_Synthetic_WGANGP.csv'}\n",
    "categorical_columns = ['gender','class']\n",
    "data = dict()"
   ]
  },
  {
   "cell_type": "code",
   "execution_count": 4,
   "metadata": {},
   "outputs": [
    {
     "data": {
      "text/plain": [
       "{'Real':      age  gender   TB   DB  alkphos  sgpt   sgot   TP  ALB   A_G class\n",
       " 0     68  Female  0.6  0.1   1620.0  95.0  127.0  4.6  2.1  0.80   1.0\n",
       " 1     31    Male  1.3  0.5    184.0  29.0   32.0  6.8  3.4  1.00   1.0\n",
       " 2     28    Male  0.8  0.3    190.0  20.0   14.0  4.1  2.4  1.40   1.0\n",
       " 3     60    Male  2.3  0.6    272.0  79.0   51.0  6.6  3.5  1.10   1.0\n",
       " 4     48  Female  0.9  0.2    173.0  26.0   27.0  6.2  3.1  1.00   1.0\n",
       " ..   ...     ...  ...  ...      ...   ...    ...  ...  ...   ...   ...\n",
       " 461   75  Female  0.8  0.2    188.0  20.0   29.0  4.4  1.8  0.60   1.0\n",
       " 462   36    Male  5.3  2.3    145.0  32.0   92.0  5.1  2.6  1.00   2.0\n",
       " 463   37    Male  0.7  0.2    235.0  96.0   54.0  9.5  4.9  1.00   1.0\n",
       " 464   17  Female  0.5  0.1    206.0  28.0   21.0  7.1  4.5  1.70   2.0\n",
       " 465   17    Male  0.9  0.2    224.0  36.0   45.0  6.9  4.2  1.55   1.0\n",
       " \n",
       " [466 rows x 11 columns],\n",
       " 'GM':      age  gender        TB        DB     alkphos        sgpt        sgot  \\\n",
       " 0     68    Male  0.792221  0.210326  403.231073   41.466674   33.224376   \n",
       " 1     62  Female  1.081347  0.299965  432.280680   29.344795   45.448756   \n",
       " 2     66    Male  1.106183  0.228158  409.387072  182.941301   74.747186   \n",
       " 3     18    Male  0.319369  0.211002  123.339810   33.420530   39.358963   \n",
       " 4     28    Male  0.689095  0.791855   41.390511   37.560963   49.239559   \n",
       " ..   ...     ...       ...       ...         ...         ...         ...   \n",
       " 461   44    Male  0.555285  0.120601  200.579550   18.119024   20.245458   \n",
       " 462   45    Male  0.441402  0.276043  176.890784   40.251383   37.730839   \n",
       " 463   23    Male  1.294539  0.289846  224.054337   38.982170  123.888386   \n",
       " 464   56    Male  0.516323  0.512852  307.627940   30.908007   44.850122   \n",
       " 465   41    Male  1.683816  3.139415  252.728469   30.817496   30.770279   \n",
       " \n",
       "            TP       ALB       A_G class  \n",
       " 0    5.532269  2.299157  0.739703   1.0  \n",
       " 1    6.762787  3.424076  1.132054   1.0  \n",
       " 2    7.259657  4.059811  0.881810   1.0  \n",
       " 3    8.525534  4.605769  1.557012   2.0  \n",
       " 4    7.501857  3.313626  0.706537   2.0  \n",
       " ..        ...       ...       ...   ...  \n",
       " 461  7.024714  2.973412  0.638638   1.0  \n",
       " 462  5.729123  3.276946  1.346909   2.0  \n",
       " 463  7.224159  3.751692  0.944799   2.0  \n",
       " 464  5.357072  2.377225  0.284098   1.0  \n",
       " 465  4.752291  2.579145  1.124658   2.0  \n",
       " \n",
       " [466 rows x 11 columns],\n",
       " 'SDV':      age  gender    TB   DB  alkphos   sgpt   sgot   TP  ALB       A_G class\n",
       " 0     44    Male   8.3  4.5    392.9   51.0  356.8  5.5  2.8   6794.23   1.0\n",
       " 1     46    Male   6.6  3.3    274.8    2.4  115.1  7.7  4.3   7235.22   2.0\n",
       " 2      9    Male   8.7  4.2    592.2   65.9  448.1  7.3  3.4   1607.48   1.0\n",
       " 3     46    Male   5.3  2.6    349.1  281.3  220.2  6.5  2.7   4034.47   2.0\n",
       " 4     33    Male   0.1  0.0    387.6   13.6   76.2  6.5  3.3   8117.89   1.0\n",
       " ..   ...     ...   ...  ...      ...    ...    ...  ...  ...       ...   ...\n",
       " 461   62    Male   1.6  0.8     63.9   97.7  158.2  7.5  4.3   4001.77   2.0\n",
       " 462    7  Female  14.0  6.5    208.5  411.6  199.0  7.5  4.4  10646.83   1.0\n",
       " 463   52    Male   8.3  3.3    761.4  159.6  316.6  6.2  2.9   2055.75   1.0\n",
       " 464   60    Male  14.8  5.8    798.7  319.8  409.5  6.1  2.3  11312.52   1.0\n",
       " 465   52    Male   8.0  4.1    359.0  368.2  556.9  5.8  2.8   2952.02   1.0\n",
       " \n",
       " [466 rows x 11 columns],\n",
       " 'CTGAN':      age  gender    TB   DB  alkphos  sgpt   sgot   TP  ALB     A_G class\n",
       " 0     48    Male   0.4  0.3    293.3  90.9  122.1  6.9  4.8  373.75   2.0\n",
       " 1     63    Male   5.1  1.4    146.7  44.4  767.0  4.5  2.6  215.70   2.0\n",
       " 2     46    Male   2.6  0.2    279.5   8.1   71.5  3.3  3.8  105.82   1.0\n",
       " 3     32    Male   4.9  0.5    109.0   6.9   25.9  5.2  1.3  417.34   2.0\n",
       " 4     54    Male   2.2  0.3    118.1  28.7   56.4  7.2  3.8   29.17   2.0\n",
       " ..   ...     ...   ...  ...      ...   ...    ...  ...  ...     ...   ...\n",
       " 461    4  Female   0.9  0.4    218.1  19.3    7.3  8.8  2.5   91.13   2.0\n",
       " 462   59    Male   1.1  1.7     94.3   3.2    3.0  6.3  3.0  453.24   2.0\n",
       " 463   68  Female   2.0  0.7    250.9  47.8   76.6  6.0  4.6  331.60   1.0\n",
       " 464   66    Male   1.8  1.6    113.4   4.3  843.0  7.9  4.9  467.79   1.0\n",
       " 465   45    Male  30.3  0.0    340.9  34.1  117.8  6.7  4.8  132.48   1.0\n",
       " \n",
       " [466 rows x 11 columns],\n",
       " 'WGANGP':      age gender        TB        DB     alkphos        sgpt       sgot  \\\n",
       " 0     29   Male  1.493286  0.305215  181.439041   47.528675  58.060356   \n",
       " 1     40   Male  2.644370  0.971491  258.177002   93.005783  58.738285   \n",
       " 2     34   Male  1.673791  0.566819  222.470963   84.489075  50.876556   \n",
       " 3     45   Male  1.841415  0.577833  200.772736   51.584827  38.538437   \n",
       " 4     39   Male  2.698557  1.013579  262.246979  104.780251  66.965988   \n",
       " ..   ...    ...       ...       ...         ...         ...        ...   \n",
       " 461   27   Male  1.151936  0.150563  171.930328   47.628956  44.985054   \n",
       " 462   39   Male  2.686199  1.038701  263.196320  102.436165  61.872330   \n",
       " 463   39   Male  2.645507  1.042506  276.282898  104.695000  66.229935   \n",
       " 464   27   Male  1.079657  0.180837  171.397888   56.983002  41.766006   \n",
       " 465   33   Male  1.707967  0.462736  200.413055   62.888950  44.823135   \n",
       " \n",
       "            TP       ALB         A_G class  \n",
       " 0    7.678981  4.452882 -164.402267   1.0  \n",
       " 1    7.441417  4.017587  -69.416679   2.0  \n",
       " 2    7.656133  4.316024 -227.091599   2.0  \n",
       " 3    7.178044  4.283068  -30.214041   2.0  \n",
       " 4    7.551036  3.972701  -38.801598   2.0  \n",
       " ..        ...       ...         ...   ...  \n",
       " 461  7.746896  4.513616 -256.732788   1.0  \n",
       " 462  7.508008  3.969202 -129.229355   2.0  \n",
       " 463  7.540930  3.992946 -187.846268   2.0  \n",
       " 464  7.826374  4.611629 -310.726685   1.0  \n",
       " 465  7.636399  4.344552 -218.154144   1.0  \n",
       " \n",
       " [466 rows x 11 columns]}"
      ]
     },
     "execution_count": 4,
     "metadata": {},
     "output_type": "execute_result"
    }
   ],
   "source": [
    "#iterate over all datasets filepaths and read each dataset\n",
    "for name, path in FILEPATHS.items() :\n",
    "    data[name] = pd.read_csv(path)\n",
    "    for col in categorical_columns :\n",
    "        data[name][col] = data[name][col].astype('category')\n",
    "data"
   ]
  },
  {
   "cell_type": "markdown",
   "metadata": {},
   "source": [
    "## 2. Preprocess variables for data reduction"
   ]
  },
  {
   "cell_type": "code",
   "execution_count": 5,
   "metadata": {},
   "outputs": [
    {
     "name": "stderr",
     "output_type": "stream",
     "text": [
      "100%|██████████| 5/5 [00:00<00:00, 61.27it/s]"
     ]
    },
    {
     "name": "stdout",
     "output_type": "stream",
     "text": [
      "Real : (466, 13)\n",
      "GM : (466, 13)\n",
      "SDV : (466, 13)\n",
      "CTGAN : (466, 13)\n",
      "WGANGP : (466, 12)\n"
     ]
    },
    {
     "name": "stderr",
     "output_type": "stream",
     "text": [
      "\n"
     ]
    },
    {
     "data": {
      "text/plain": [
       "{'Real': array([[ 1.52159826, -0.42952576, -0.49523195, ...,  0.        ,\n",
       "          1.        ,  0.        ],\n",
       "        [-0.84514935, -0.31892322, -0.35090544, ...,  1.        ,\n",
       "          1.        ,  0.        ],\n",
       "        [-1.0370478 , -0.39792504, -0.4230687 , ...,  1.        ,\n",
       "          1.        ,  0.        ],\n",
       "        ...,\n",
       "        [-0.46135244, -0.4137254 , -0.45915032, ...,  1.        ,\n",
       "          1.        ,  0.        ],\n",
       "        [-1.74067547, -0.44532613, -0.49523195, ...,  0.        ,\n",
       "          0.        ,  1.        ],\n",
       "        [-1.74067547, -0.38212467, -0.45915032, ...,  1.        ,\n",
       "          1.        ,  0.        ]]),\n",
       " 'GM': array([[ 1.4817512 , -0.12272322, -0.26416609, ...,  1.        ,\n",
       "          1.        ,  0.        ],\n",
       "        [ 1.11263356, -0.10194752, -0.24318221, ...,  0.        ,\n",
       "          1.        ,  0.        ],\n",
       "        [ 1.35871199, -0.10016286, -0.25999185, ...,  1.        ,\n",
       "          1.        ,  0.        ],\n",
       "        ...,\n",
       "        [-1.28663108, -0.08662816, -0.24555101, ...,  1.        ,\n",
       "          0.        ,  1.        ],\n",
       "        [ 0.74351593, -0.14254842, -0.19334662, ...,  1.        ,\n",
       "          1.        ,  0.        ],\n",
       "        [-0.17927817, -0.05865592,  0.4215162 , ...,  1.        ,\n",
       "          0.        ,  1.        ]]),\n",
       " 'SDV': array([[ 0.01599837,  0.56251077,  1.00203569, ...,  1.        ,\n",
       "          1.        ,  0.        ],\n",
       "        [ 0.14343834,  0.17722542,  0.39131269, ...,  1.        ,\n",
       "          0.        ,  1.        ],\n",
       "        [-2.21420126,  0.65316615,  0.84935494, ...,  1.        ,\n",
       "          1.        ,  0.        ],\n",
       "        ...,\n",
       "        [ 0.52575828,  0.56251077,  0.39131269, ...,  1.        ,\n",
       "          1.        ,  0.        ],\n",
       "        [ 1.03551819,  2.03566063,  1.66365228, ...,  1.        ,\n",
       "          1.        ,  0.        ],\n",
       "        [ 0.52575828,  0.49451924,  0.79846136, ...,  1.        ,\n",
       "          1.        ,  0.        ]]),\n",
       " 'CTGAN': array([[-0.48572896, -0.61597429, -0.41256812, ...,  1.        ,\n",
       "          0.        ,  1.        ],\n",
       "        [ 0.39318521,  0.2498924 ,  0.18332486, ...,  1.        ,\n",
       "          0.        ,  1.        ],\n",
       "        [-0.60291752, -0.21067499, -0.46674021, ...,  1.        ,\n",
       "          1.        ,  0.        ],\n",
       "        ...,\n",
       "        [ 0.6861566 , -0.32121116, -0.19587976, ...,  0.        ,\n",
       "          1.        ,  0.        ],\n",
       "        [ 0.56896804, -0.35805655,  0.29166904, ...,  1.        ,\n",
       "          1.        ,  0.        ],\n",
       "        [-0.6615118 ,  4.89241164, -0.57508439, ...,  1.        ,\n",
       "          1.        ,  0.        ]]),\n",
       " 'WGANGP': array([[-1.13571483, -0.91802636, -1.12973754, ...,  1.        ,\n",
       "          1.        ,  0.        ],\n",
       "        [ 0.89912411,  0.88723325,  0.7379224 , ...,  1.        ,\n",
       "          0.        ,  1.        ],\n",
       "        [-0.21078804, -0.63493708, -0.39642653, ...,  1.        ,\n",
       "          0.        ,  1.        ],\n",
       "        ...,\n",
       "        [ 0.71413875,  0.88901757,  0.93698805, ...,  1.        ,\n",
       "          0.        ,  1.        ],\n",
       "        [-1.50568554, -1.56672495, -1.47838547, ...,  1.        ,\n",
       "          1.        ,  0.        ],\n",
       "        [-0.39577339, -0.58133825, -0.68818618, ...,  1.        ,\n",
       "          1.        ,  0.        ]])}"
      ]
     },
     "execution_count": 5,
     "metadata": {},
     "output_type": "execute_result"
    }
   ],
   "source": [
    "data_scaled = dict()\n",
    "for name in tqdm(DATA_TYPES) :\n",
    "    data_scaled[name] = preprocess_data(data[name])\n",
    "    print(name, ':', data_scaled[name].shape)\n",
    "data_scaled"
   ]
  },
  {
   "cell_type": "markdown",
   "metadata": {},
   "source": [
    "## 3. Principal Component Analysis (PCA)"
   ]
  },
  {
   "cell_type": "code",
   "execution_count": 6,
   "metadata": {},
   "outputs": [
    {
     "data": {
      "text/plain": [
       "{'Real':           PC1       PC2  Label\n",
       " 0    1.744895 -2.573888    0.0\n",
       " 1   -0.800061  0.353419    0.0\n",
       " 2    0.084727 -1.746468    0.0\n",
       " 3   -0.295001 -0.175885    0.0\n",
       " 4   -0.631879 -0.526813    0.0\n",
       " ..        ...       ...    ...\n",
       " 461  0.531683 -2.950626    0.0\n",
       " 462  0.413648 -0.974610    0.0\n",
       " 463 -1.892420  2.787985    0.0\n",
       " 464 -1.904358  1.528364    0.0\n",
       " 465 -1.303788  1.249411    0.0\n",
       " \n",
       " [466 rows x 3 columns],\n",
       " 'GM':           PC1       PC2  Label\n",
       " 0    0.996531 -1.441250    1.0\n",
       " 1   -0.015428  0.084636    1.0\n",
       " 2    0.674665  1.262220    1.0\n",
       " 3   -2.123788  2.051842    1.0\n",
       " 4   -0.948401  0.152430    1.0\n",
       " ..        ...       ...    ...\n",
       " 461 -0.364699 -0.479160    1.0\n",
       " 462 -0.425200 -0.375175    1.0\n",
       " 463 -0.763003  0.814098    1.0\n",
       " 464  0.869925 -1.696410    1.0\n",
       " 465  0.470317 -1.107519    1.0\n",
       " \n",
       " [466 rows x 3 columns],\n",
       " 'SDV':           PC1       PC2  Label\n",
       " 0    1.241510 -0.752331    1.0\n",
       " 1   -1.372167  0.586874    1.0\n",
       " 2    0.423216  1.338296    1.0\n",
       " 3    0.401635 -0.165809    1.0\n",
       " 4   -2.010363 -1.022675    1.0\n",
       " ..        ...       ...    ...\n",
       " 461 -2.291455  0.197580    1.0\n",
       " 462  1.188423  3.330738    1.0\n",
       " 463  1.097539 -0.474452    1.0\n",
       " 464  3.494250  0.127837    1.0\n",
       " 465  2.081713  0.555703    1.0\n",
       " \n",
       " [466 rows x 3 columns],\n",
       " 'CTGAN':           PC1       PC2  Label\n",
       " 0   -1.032685  0.381094    1.0\n",
       " 1    1.067955  0.901030    1.0\n",
       " 2    0.385589  1.040114    1.0\n",
       " 3    1.129626 -0.077900    1.0\n",
       " 4   -0.912591  0.049895    1.0\n",
       " ..        ...       ...    ...\n",
       " 461 -0.934264  0.678277    1.0\n",
       " 462  0.616263 -0.634184    1.0\n",
       " 463 -0.443472  0.080753    1.0\n",
       " 464 -0.527942  1.086509    1.0\n",
       " 465 -3.314421  1.711799    1.0\n",
       " \n",
       " [466 rows x 3 columns],\n",
       " 'WGANGP':           PC1       PC2  Label\n",
       " 0   -2.542005  1.267226    1.0\n",
       " 1    1.926892 -0.245062    1.0\n",
       " 2   -0.941582 -0.576448    1.0\n",
       " 3    0.515947  1.216999    1.0\n",
       " 4    2.157821 -0.558466    1.0\n",
       " ..        ...       ...    ...\n",
       " 461 -3.634703  0.830896    1.0\n",
       " 462  1.960108 -0.752926    1.0\n",
       " 463  1.840149 -0.928313    1.0\n",
       " 464 -3.956252  0.208172    1.0\n",
       " 465 -1.773302  0.408037    1.0\n",
       " \n",
       " [466 rows x 3 columns]}"
      ]
     },
     "execution_count": 6,
     "metadata": {},
     "output_type": "execute_result"
    }
   ],
   "source": [
    "pca = dict()\n",
    "pca['Real'] = pca_transform(data_scaled['Real'], np.zeros((len(data_scaled['Real']), 1)))\n",
    "for name in SYNTHESIZERS :\n",
    "    pca[name] = pca_transform(data_scaled[name], np.ones((len(data_scaled[name]), 1)))\n",
    "pca"
   ]
  },
  {
   "cell_type": "code",
   "execution_count": 7,
   "metadata": {},
   "outputs": [
    {
     "name": "stdout",
     "output_type": "stream",
     "text": [
      "GM\n",
      "- Joint distance:  0.1048\n",
      "#############################################\n",
      "SDV\n",
      "- Joint distance:  0.0297\n",
      "#############################################\n",
      "CTGAN\n",
      "- Joint distance:  0.3405\n",
      "#############################################\n",
      "WGANGP\n",
      "- Joint distance:  0.4625\n",
      "#############################################\n"
     ]
    },
    {
     "data": {
      "image/png": "[encoded data removed]",
      "text/plain": [
       "<Figure size 720x180 with 4 Axes>"
      ]
     },
     "metadata": {},
     "output_type": "display_data"
    }
   ],
   "source": [
    "fig, axs = plt.subplots(nrows=1, ncols=4, figsize=(10,2.5))\n",
    "axs_idxs = range(4)\n",
    "idx = dict(zip(SYNTHESIZERS,axs_idxs))\n",
    "targets = [0,1]\n",
    "COLORS = [['tab:blue','tab:orange'], ['tab:blue','tab:green'], ['tab:blue','tab:red'], ['tab:blue','tab:purple']]\n",
    "cont = 0\n",
    "first = True \n",
    "legend_data = list()\n",
    "pca_real = pca['Real'][['PC1','PC2']]\n",
    "for name in SYNTHESIZERS :\n",
    "    \n",
    "    pca_data = pd.DataFrame(data=pca['Real'], columns=['PC1','PC2','Label']).append(pca[name]).sample(frac=1)\n",
    "    ax = axs[idx[name]]\n",
    "    colors = COLORS[cont]\n",
    "    \n",
    "    for target, color in zip(targets,colors):\n",
    "        indicesToKeep = pca_data['Label'] == target\n",
    "        handles = ax.scatter(pca_data.loc[indicesToKeep, 'PC1'], pca_data.loc[indicesToKeep, 'PC2'], c = color, s = 20, alpha = 0.5)\n",
    "        \n",
    "        if target == 1 or first == True :\n",
    "            legend_data.append(handles)\n",
    "            first = False\n",
    "            \n",
    "        pca_synthetic = pca[name][['PC1','PC2']]\n",
    "    \n",
    "    print(name)\n",
    "    joint_dist = dra_distance(pca_real, pca_synthetic)\n",
    "    print('- Joint distance: ', joint_dist)\n",
    "    print('#############################################')\n",
    "             \n",
    "    ax.set_xlabel('PC1')\n",
    "    ax.set_ylabel('PC2')\n",
    "    ax.set_xticks([])\n",
    "    ax.set_yticks([])\n",
    "    cont=cont+1\n",
    "\n",
    "ax.legend(handles=legend_data, ncol=5, labels=DATA_TYPES, bbox_to_anchor=(0.3,-0.1))\n",
    "fig.savefig('DATA REDUCTION RESULTS/PCA_PLOTS.png', bbox_inches='tight')"
   ]
  },
  {
   "cell_type": "markdown",
   "metadata": {},
   "source": [
    "## 4. ISOMAP"
   ]
  },
  {
   "cell_type": "code",
   "execution_count": 8,
   "metadata": {},
   "outputs": [
    {
     "data": {
      "text/plain": [
       "{'Real':           PC1       PC2  Label\n",
       " 0    4.869201 -1.620321    0.0\n",
       " 1    1.885660  0.977275    0.0\n",
       " 2    0.080498 -2.386263    0.0\n",
       " 3    2.994352  0.102897    0.0\n",
       " 4   -1.005601  0.804002    0.0\n",
       " ..        ...       ...    ...\n",
       " 461 -0.380304 -2.590542    0.0\n",
       " 462 -5.201979 -2.573559    0.0\n",
       " 463  0.158248  3.628444    0.0\n",
       " 464 -6.070645  2.930066    0.0\n",
       " 465  1.378922  1.766932    0.0\n",
       " \n",
       " [466 rows x 3 columns],\n",
       " 'GM':           PC1       PC2  Label\n",
       " 0    2.690069  1.339918    1.0\n",
       " 1   -0.618161 -0.217128    1.0\n",
       " 2    1.688680  0.309364    1.0\n",
       " 3   -2.936117 -2.409600    1.0\n",
       " 4   -5.311039  0.987205    1.0\n",
       " ..        ...       ...    ...\n",
       " 461  2.822828 -0.988739    1.0\n",
       " 462 -3.993422  2.968663    1.0\n",
       " 463 -4.392284  0.992925    1.0\n",
       " 464  3.143603  2.521823    1.0\n",
       " 465 -2.935774  5.239048    1.0\n",
       " \n",
       " [466 rows x 3 columns],\n",
       " 'SDV':           PC1       PC2  Label\n",
       " 0    3.052062 -0.926520    1.0\n",
       " 1   -1.926311 -2.120790    1.0\n",
       " 2    0.544674 -0.451724    1.0\n",
       " 3    0.413079  1.458690    1.0\n",
       " 4   -3.158460 -1.050637    1.0\n",
       " ..        ...       ...    ...\n",
       " 461 -4.369059 -0.009471    1.0\n",
       " 462  3.549072  0.280868    1.0\n",
       " 463  3.204004 -0.351299    1.0\n",
       " 464  7.582151 -0.017622    1.0\n",
       " 465  3.626450  3.077758    1.0\n",
       " \n",
       " [466 rows x 3 columns],\n",
       " 'CTGAN':           PC1       PC2  Label\n",
       " 0    2.991069 -0.023966    1.0\n",
       " 1   -1.428000 -2.882832    1.0\n",
       " 2   -3.141383  0.040432    1.0\n",
       " 3    0.368048 -1.548136    1.0\n",
       " 4    2.491380 -2.798723    1.0\n",
       " ..        ...       ...    ...\n",
       " 461  4.448803 -1.411322    1.0\n",
       " 462  1.771298 -2.589131    1.0\n",
       " 463  0.357678  3.131091    1.0\n",
       " 464 -1.483773  1.626912    1.0\n",
       " 465 -3.227500 -3.584712    1.0\n",
       " \n",
       " [466 rows x 3 columns],\n",
       " 'WGANGP':           PC1       PC2  Label\n",
       " 0    4.712307  1.470401    1.0\n",
       " 1   -2.479271 -0.068922    1.0\n",
       " 2    0.036480 -3.321065    1.0\n",
       " 3   -1.569447 -3.286242    1.0\n",
       " 4   -3.054473  0.158155    1.0\n",
       " ..        ...       ...    ...\n",
       " 461  6.135389 -0.071701    1.0\n",
       " 462 -3.104958  0.172984    1.0\n",
       " 463 -3.290881  0.046482    1.0\n",
       " 464  6.633758 -0.384984    1.0\n",
       " 465  3.606302  0.233577    1.0\n",
       " \n",
       " [466 rows x 3 columns]}"
      ]
     },
     "execution_count": 8,
     "metadata": {},
     "output_type": "execute_result"
    }
   ],
   "source": [
    "isomap = dict()\n",
    "isomap['Real'] = isomap_transform(data_scaled['Real'], np.zeros((len(data_scaled['Real']), 1)))\n",
    "for name in SYNTHESIZERS :\n",
    "    isomap[name] = isomap_transform(data_scaled[name], np.ones((len(data_scaled[name]), 1)))\n",
    "isomap"
   ]
  },
  {
   "cell_type": "code",
   "execution_count": 9,
   "metadata": {},
   "outputs": [
    {
     "name": "stdout",
     "output_type": "stream",
     "text": [
      "GM\n",
      "- Joint distance:  0.2619\n",
      "SDV\n",
      "- Joint distance:  0.7757\n",
      "CTGAN\n",
      "- Joint distance:  0.9983\n",
      "WGANGP\n",
      "- Joint distance:  0.0992\n"
     ]
    },
    {
     "data": {
      "image/png": "[encoded data removed]",
      "text/plain": [
       "<Figure size 720x180 with 4 Axes>"
      ]
     },
     "metadata": {},
     "output_type": "display_data"
    }
   ],
   "source": [
    "fig, axs = plt.subplots(nrows=1, ncols=4, figsize=(10, 2.5))\n",
    "axs_idxs = range(4)\n",
    "idx = dict(zip(SYNTHESIZERS,axs_idxs))\n",
    "targets = [0,1]\n",
    "COLORS = [['tab:blue','tab:orange'], ['tab:blue','tab:green'], ['tab:blue','tab:red'], ['tab:blue','tab:purple']]\n",
    "cont = 0\n",
    "first = True \n",
    "legend_data = list()\n",
    "isomap_real = isomap['Real'][['PC1','PC2']]\n",
    "for name in SYNTHESIZERS :\n",
    "    \n",
    "    isomap_data = pd.DataFrame(data=isomap['Real'], columns=['PC1','PC2','Label']).append(isomap[name]).sample(frac=1)\n",
    "    ax = axs[idx[name]]\n",
    "    colors = COLORS[cont]\n",
    "    \n",
    "    for target, color in zip(targets,colors):\n",
    "        indicesToKeep = isomap_data['Label'] == target\n",
    "        handles = ax.scatter(isomap_data.loc[indicesToKeep, 'PC1'], isomap_data.loc[indicesToKeep, 'PC2'], c = color, s = 20, alpha = 0.5)\n",
    "        \n",
    "        if target == 1 or first == True :\n",
    "            legend_data.append(handles)\n",
    "            first = False\n",
    "            \n",
    "        isomap_synthetic = isomap[name][['PC1','PC2']]\n",
    "        \n",
    "    print(name)\n",
    "    joint_dist = dra_distance(isomap_real, isomap_synthetic)\n",
    "    print('- Joint distance: ', joint_dist)\n",
    "             \n",
    "    ax.set_xlabel('PC1')\n",
    "    ax.set_ylabel('PC2')\n",
    "    ax.set_xticks([])\n",
    "    ax.set_yticks([])\n",
    "    cont=cont+1\n",
    "\n",
    "ax.legend(handles=legend_data, ncol=5, labels=DATA_TYPES, bbox_to_anchor=(0.3,-0.1))\n",
    "fig.savefig('DATA REDUCTION RESULTS/ISOMAP_PLOTS.png', bbox_inches='tight')"
   ]
  },
  {
   "cell_type": "code",
   "execution_count": null,
   "metadata": {},
   "outputs": [],
   "source": []
  }
 ],
 "metadata": {
  "kernelspec": {
   "display_name": "Python 3",
   "language": "python",
   "name": "python3"
  },
  "language_info": {
   "codemirror_mode": {
    "name": "ipython",
    "version": 3
   },
   "file_extension": ".py",
   "mimetype": "text/x-python",
   "name": "python",
   "nbconvert_exporter": "python",
   "pygments_lexer": "ipython3",
   "version": "3.8.5"
  }
 },
 "nbformat": 4,
 "nbformat_minor": 4
}
