{
 "cells": [
  {
   "cell_type": "code",
   "execution_count": 1,
   "metadata": {},
   "outputs": [],
   "source": [
    "import os\n",
    "import numpy as np\n",
    "from sklearn.preprocessing import LabelEncoder, OneHotEncoder\n",
    "from numpy import asarray\n",
    "from sklearn.model_selection import train_test_split\n",
    "from sklearn.preprocessing import StandardScaler\n",
    "import pandas as pd\n",
    "\n",
    "import matplotlib.pyplot as plt"
   ]
  },
  {
   "cell_type": "code",
   "execution_count": 28,
   "metadata": {},
   "outputs": [],
   "source": [
    "HOME_PATH = '' #home directory of the project\n",
    "TRAIN_FILE = 'REAL DATASETS/TRAIN DATASETS/A_Diabetes_Data_Real_Train.csv'\n",
    "SYNTHETIC_FILE = 'SYNTHETIC DATASETS/WGANGP/A_Diabetes_Data_Synthetic_WGANGP.csv'"
   ]
  },
  {
   "cell_type": "code",
   "execution_count": 3,
   "metadata": {},
   "outputs": [
    {
     "name": "stdout",
     "output_type": "stream",
     "text": [
      "Functions imported!!\n"
     ]
    }
   ],
   "source": [
    "#define directory of functions and actual directory\n",
    "FUNCTIONS_DIR = HOME_PATH + \"STDG APPROACHES\"\n",
    "ACTUAL_DIR = os.getcwd()\n",
    "\n",
    "#change directory to functions directory\n",
    "os.chdir(FUNCTIONS_DIR)\n",
    "\n",
    "#import functions for univariate resemblance analisys\n",
    "from preprocessing import DataPreProcessor\n",
    "\n",
    "#change directory to actual directory\n",
    "os.chdir(ACTUAL_DIR)\n",
    "\n",
    "from ydata_synthetic.synthesizers.regular import WGAN_GP\n",
    "print('Functions imported!!')"
   ]
  },
  {
   "cell_type": "markdown",
   "metadata": {},
   "source": [
    "## Data Preprocessing"
   ]
  },
  {
   "cell_type": "code",
   "execution_count": 4,
   "metadata": {},
   "outputs": [
    {
     "data": {
      "text/html": [
       "<div>\n",
       "<style scoped>\n",
       "    .dataframe tbody tr th:only-of-type {\n",
       "        vertical-align: middle;\n",
       "    }\n",
       "\n",
       "    .dataframe tbody tr th {\n",
       "        vertical-align: top;\n",
       "    }\n",
       "\n",
       "    .dataframe thead th {\n",
       "        text-align: right;\n",
       "    }\n",
       "</style>\n",
       "<table border=\"1\" class=\"dataframe\">\n",
       "  <thead>\n",
       "    <tr style=\"text-align: right;\">\n",
       "      <th></th>\n",
       "      <th>encounter_id</th>\n",
       "      <th>patient_nbr</th>\n",
       "      <th>gender</th>\n",
       "      <th>age</th>\n",
       "      <th>admission_type_id</th>\n",
       "      <th>discharge_disposition_id</th>\n",
       "      <th>admission_source_id</th>\n",
       "      <th>time_in_hospital</th>\n",
       "      <th>num_lab_procedures</th>\n",
       "      <th>num_procedures</th>\n",
       "      <th>num_medications</th>\n",
       "      <th>number_outpatient</th>\n",
       "      <th>number_emergency</th>\n",
       "      <th>number_inpatient</th>\n",
       "      <th>number_diagnoses</th>\n",
       "      <th>max_glu_serum</th>\n",
       "      <th>A1Cresult</th>\n",
       "      <th>change</th>\n",
       "      <th>diabetesMed</th>\n",
       "      <th>readmitted</th>\n",
       "    </tr>\n",
       "  </thead>\n",
       "  <tbody>\n",
       "    <tr>\n",
       "      <th>0</th>\n",
       "      <td>81844290</td>\n",
       "      <td>94788</td>\n",
       "      <td>Female</td>\n",
       "      <td>[70-80)</td>\n",
       "      <td>1</td>\n",
       "      <td>1</td>\n",
       "      <td>7</td>\n",
       "      <td>4</td>\n",
       "      <td>48</td>\n",
       "      <td>0</td>\n",
       "      <td>11</td>\n",
       "      <td>0</td>\n",
       "      <td>0</td>\n",
       "      <td>0</td>\n",
       "      <td>9</td>\n",
       "      <td>None</td>\n",
       "      <td>Norm</td>\n",
       "      <td>No</td>\n",
       "      <td>No</td>\n",
       "      <td>NO</td>\n",
       "    </tr>\n",
       "    <tr>\n",
       "      <th>1</th>\n",
       "      <td>396159158</td>\n",
       "      <td>135023315</td>\n",
       "      <td>Male</td>\n",
       "      <td>[50-60)</td>\n",
       "      <td>1</td>\n",
       "      <td>1</td>\n",
       "      <td>7</td>\n",
       "      <td>1</td>\n",
       "      <td>42</td>\n",
       "      <td>0</td>\n",
       "      <td>5</td>\n",
       "      <td>0</td>\n",
       "      <td>0</td>\n",
       "      <td>0</td>\n",
       "      <td>6</td>\n",
       "      <td>None</td>\n",
       "      <td>None</td>\n",
       "      <td>No</td>\n",
       "      <td>No</td>\n",
       "      <td>&gt;30</td>\n",
       "    </tr>\n",
       "    <tr>\n",
       "      <th>2</th>\n",
       "      <td>31258956</td>\n",
       "      <td>18397782</td>\n",
       "      <td>Male</td>\n",
       "      <td>[80-90)</td>\n",
       "      <td>1</td>\n",
       "      <td>1</td>\n",
       "      <td>7</td>\n",
       "      <td>4</td>\n",
       "      <td>44</td>\n",
       "      <td>0</td>\n",
       "      <td>10</td>\n",
       "      <td>0</td>\n",
       "      <td>0</td>\n",
       "      <td>0</td>\n",
       "      <td>7</td>\n",
       "      <td>None</td>\n",
       "      <td>None</td>\n",
       "      <td>No</td>\n",
       "      <td>Yes</td>\n",
       "      <td>NO</td>\n",
       "    </tr>\n",
       "    <tr>\n",
       "      <th>3</th>\n",
       "      <td>210691074</td>\n",
       "      <td>67509558</td>\n",
       "      <td>Male</td>\n",
       "      <td>[80-90)</td>\n",
       "      <td>1</td>\n",
       "      <td>3</td>\n",
       "      <td>7</td>\n",
       "      <td>3</td>\n",
       "      <td>54</td>\n",
       "      <td>0</td>\n",
       "      <td>8</td>\n",
       "      <td>0</td>\n",
       "      <td>0</td>\n",
       "      <td>0</td>\n",
       "      <td>8</td>\n",
       "      <td>None</td>\n",
       "      <td>None</td>\n",
       "      <td>Ch</td>\n",
       "      <td>Yes</td>\n",
       "      <td>NO</td>\n",
       "    </tr>\n",
       "    <tr>\n",
       "      <th>4</th>\n",
       "      <td>104902980</td>\n",
       "      <td>23272362</td>\n",
       "      <td>Female</td>\n",
       "      <td>[70-80)</td>\n",
       "      <td>1</td>\n",
       "      <td>11</td>\n",
       "      <td>7</td>\n",
       "      <td>11</td>\n",
       "      <td>35</td>\n",
       "      <td>3</td>\n",
       "      <td>23</td>\n",
       "      <td>0</td>\n",
       "      <td>0</td>\n",
       "      <td>1</td>\n",
       "      <td>8</td>\n",
       "      <td>None</td>\n",
       "      <td>None</td>\n",
       "      <td>No</td>\n",
       "      <td>No</td>\n",
       "      <td>NO</td>\n",
       "    </tr>\n",
       "    <tr>\n",
       "      <th>...</th>\n",
       "      <td>...</td>\n",
       "      <td>...</td>\n",
       "      <td>...</td>\n",
       "      <td>...</td>\n",
       "      <td>...</td>\n",
       "      <td>...</td>\n",
       "      <td>...</td>\n",
       "      <td>...</td>\n",
       "      <td>...</td>\n",
       "      <td>...</td>\n",
       "      <td>...</td>\n",
       "      <td>...</td>\n",
       "      <td>...</td>\n",
       "      <td>...</td>\n",
       "      <td>...</td>\n",
       "      <td>...</td>\n",
       "      <td>...</td>\n",
       "      <td>...</td>\n",
       "      <td>...</td>\n",
       "      <td>...</td>\n",
       "    </tr>\n",
       "    <tr>\n",
       "      <th>81407</th>\n",
       "      <td>31296060</td>\n",
       "      <td>3344202</td>\n",
       "      <td>Male</td>\n",
       "      <td>[70-80)</td>\n",
       "      <td>1</td>\n",
       "      <td>1</td>\n",
       "      <td>7</td>\n",
       "      <td>2</td>\n",
       "      <td>35</td>\n",
       "      <td>0</td>\n",
       "      <td>12</td>\n",
       "      <td>0</td>\n",
       "      <td>0</td>\n",
       "      <td>0</td>\n",
       "      <td>9</td>\n",
       "      <td>None</td>\n",
       "      <td>None</td>\n",
       "      <td>No</td>\n",
       "      <td>No</td>\n",
       "      <td>&gt;30</td>\n",
       "    </tr>\n",
       "    <tr>\n",
       "      <th>81408</th>\n",
       "      <td>159139902</td>\n",
       "      <td>93611655</td>\n",
       "      <td>Male</td>\n",
       "      <td>[60-70)</td>\n",
       "      <td>5</td>\n",
       "      <td>1</td>\n",
       "      <td>1</td>\n",
       "      <td>5</td>\n",
       "      <td>63</td>\n",
       "      <td>2</td>\n",
       "      <td>23</td>\n",
       "      <td>0</td>\n",
       "      <td>0</td>\n",
       "      <td>0</td>\n",
       "      <td>9</td>\n",
       "      <td>None</td>\n",
       "      <td>None</td>\n",
       "      <td>Ch</td>\n",
       "      <td>Yes</td>\n",
       "      <td>&lt;30</td>\n",
       "    </tr>\n",
       "    <tr>\n",
       "      <th>81409</th>\n",
       "      <td>232191828</td>\n",
       "      <td>85600899</td>\n",
       "      <td>Male</td>\n",
       "      <td>[70-80)</td>\n",
       "      <td>3</td>\n",
       "      <td>3</td>\n",
       "      <td>1</td>\n",
       "      <td>3</td>\n",
       "      <td>55</td>\n",
       "      <td>1</td>\n",
       "      <td>33</td>\n",
       "      <td>0</td>\n",
       "      <td>0</td>\n",
       "      <td>0</td>\n",
       "      <td>9</td>\n",
       "      <td>None</td>\n",
       "      <td>None</td>\n",
       "      <td>Ch</td>\n",
       "      <td>Yes</td>\n",
       "      <td>NO</td>\n",
       "    </tr>\n",
       "    <tr>\n",
       "      <th>81410</th>\n",
       "      <td>6740700</td>\n",
       "      <td>8208234</td>\n",
       "      <td>Female</td>\n",
       "      <td>[60-70)</td>\n",
       "      <td>6</td>\n",
       "      <td>25</td>\n",
       "      <td>7</td>\n",
       "      <td>12</td>\n",
       "      <td>77</td>\n",
       "      <td>2</td>\n",
       "      <td>21</td>\n",
       "      <td>0</td>\n",
       "      <td>0</td>\n",
       "      <td>0</td>\n",
       "      <td>9</td>\n",
       "      <td>None</td>\n",
       "      <td>None</td>\n",
       "      <td>Ch</td>\n",
       "      <td>Yes</td>\n",
       "      <td>&gt;30</td>\n",
       "    </tr>\n",
       "    <tr>\n",
       "      <th>81411</th>\n",
       "      <td>60115668</td>\n",
       "      <td>77943780</td>\n",
       "      <td>Female</td>\n",
       "      <td>[40-50)</td>\n",
       "      <td>6</td>\n",
       "      <td>1</td>\n",
       "      <td>17</td>\n",
       "      <td>1</td>\n",
       "      <td>2</td>\n",
       "      <td>5</td>\n",
       "      <td>17</td>\n",
       "      <td>0</td>\n",
       "      <td>0</td>\n",
       "      <td>0</td>\n",
       "      <td>7</td>\n",
       "      <td>None</td>\n",
       "      <td>None</td>\n",
       "      <td>Ch</td>\n",
       "      <td>Yes</td>\n",
       "      <td>NO</td>\n",
       "    </tr>\n",
       "  </tbody>\n",
       "</table>\n",
       "<p>81412 rows × 20 columns</p>\n",
       "</div>"
      ],
      "text/plain": [
       "       encounter_id  patient_nbr  gender      age admission_type_id  \\\n",
       "0          81844290        94788  Female  [70-80)                 1   \n",
       "1         396159158    135023315    Male  [50-60)                 1   \n",
       "2          31258956     18397782    Male  [80-90)                 1   \n",
       "3         210691074     67509558    Male  [80-90)                 1   \n",
       "4         104902980     23272362  Female  [70-80)                 1   \n",
       "...             ...          ...     ...      ...               ...   \n",
       "81407      31296060      3344202    Male  [70-80)                 1   \n",
       "81408     159139902     93611655    Male  [60-70)                 5   \n",
       "81409     232191828     85600899    Male  [70-80)                 3   \n",
       "81410       6740700      8208234  Female  [60-70)                 6   \n",
       "81411      60115668     77943780  Female  [40-50)                 6   \n",
       "\n",
       "      discharge_disposition_id admission_source_id  time_in_hospital  \\\n",
       "0                            1                   7                 4   \n",
       "1                            1                   7                 1   \n",
       "2                            1                   7                 4   \n",
       "3                            3                   7                 3   \n",
       "4                           11                   7                11   \n",
       "...                        ...                 ...               ...   \n",
       "81407                        1                   7                 2   \n",
       "81408                        1                   1                 5   \n",
       "81409                        3                   1                 3   \n",
       "81410                       25                   7                12   \n",
       "81411                        1                  17                 1   \n",
       "\n",
       "       num_lab_procedures  num_procedures  num_medications  number_outpatient  \\\n",
       "0                      48               0               11                  0   \n",
       "1                      42               0                5                  0   \n",
       "2                      44               0               10                  0   \n",
       "3                      54               0                8                  0   \n",
       "4                      35               3               23                  0   \n",
       "...                   ...             ...              ...                ...   \n",
       "81407                  35               0               12                  0   \n",
       "81408                  63               2               23                  0   \n",
       "81409                  55               1               33                  0   \n",
       "81410                  77               2               21                  0   \n",
       "81411                   2               5               17                  0   \n",
       "\n",
       "       number_emergency  number_inpatient  number_diagnoses max_glu_serum  \\\n",
       "0                     0                 0                 9          None   \n",
       "1                     0                 0                 6          None   \n",
       "2                     0                 0                 7          None   \n",
       "3                     0                 0                 8          None   \n",
       "4                     0                 1                 8          None   \n",
       "...                 ...               ...               ...           ...   \n",
       "81407                 0                 0                 9          None   \n",
       "81408                 0                 0                 9          None   \n",
       "81409                 0                 0                 9          None   \n",
       "81410                 0                 0                 9          None   \n",
       "81411                 0                 0                 7          None   \n",
       "\n",
       "      A1Cresult change diabetesMed readmitted  \n",
       "0          Norm     No          No         NO  \n",
       "1          None     No          No        >30  \n",
       "2          None     No         Yes         NO  \n",
       "3          None     Ch         Yes         NO  \n",
       "4          None     No          No         NO  \n",
       "...         ...    ...         ...        ...  \n",
       "81407      None     No          No        >30  \n",
       "81408      None     Ch         Yes        <30  \n",
       "81409      None     Ch         Yes         NO  \n",
       "81410      None     Ch         Yes        >30  \n",
       "81411      None     Ch         Yes         NO  \n",
       "\n",
       "[81412 rows x 20 columns]"
      ]
     },
     "execution_count": 4,
     "metadata": {},
     "output_type": "execute_result"
    }
   ],
   "source": [
    "real_data = pd.read_csv(HOME_PATH + TRAIN_FILE)\n",
    "categorical_columns = real_data.select_dtypes(include=['object']).columns.tolist()\n",
    "categorical_columns.append('admission_type_id')\n",
    "categorical_columns.append('discharge_disposition_id')\n",
    "categorical_columns.append('admission_source_id')\n",
    "for col in categorical_columns :\n",
    "    real_data[col] = real_data[col].astype('category')\n",
    "data_train = real_data\n",
    "real_data"
   ]
  },
  {
   "cell_type": "code",
   "execution_count": 5,
   "metadata": {},
   "outputs": [
    {
     "data": {
      "text/html": [
       "<div>\n",
       "<style scoped>\n",
       "    .dataframe tbody tr th:only-of-type {\n",
       "        vertical-align: middle;\n",
       "    }\n",
       "\n",
       "    .dataframe tbody tr th {\n",
       "        vertical-align: top;\n",
       "    }\n",
       "\n",
       "    .dataframe thead th {\n",
       "        text-align: right;\n",
       "    }\n",
       "</style>\n",
       "<table border=\"1\" class=\"dataframe\">\n",
       "  <thead>\n",
       "    <tr style=\"text-align: right;\">\n",
       "      <th></th>\n",
       "      <th>encounter_id</th>\n",
       "      <th>patient_nbr</th>\n",
       "      <th>time_in_hospital</th>\n",
       "      <th>num_lab_procedures</th>\n",
       "      <th>num_procedures</th>\n",
       "      <th>num_medications</th>\n",
       "      <th>number_outpatient</th>\n",
       "      <th>number_emergency</th>\n",
       "      <th>number_inpatient</th>\n",
       "      <th>number_diagnoses</th>\n",
       "      <th>...</th>\n",
       "      <th>A1Cresult1</th>\n",
       "      <th>A1Cresult2</th>\n",
       "      <th>A1Cresult3</th>\n",
       "      <th>change0</th>\n",
       "      <th>change1</th>\n",
       "      <th>diabetesMed0</th>\n",
       "      <th>diabetesMed1</th>\n",
       "      <th>readmitted0</th>\n",
       "      <th>readmitted1</th>\n",
       "      <th>readmitted2</th>\n",
       "    </tr>\n",
       "  </thead>\n",
       "  <tbody>\n",
       "    <tr>\n",
       "      <th>0</th>\n",
       "      <td>-0.812717</td>\n",
       "      <td>-1.400616</td>\n",
       "      <td>-0.134119</td>\n",
       "      <td>0.249395</td>\n",
       "      <td>-0.784879</td>\n",
       "      <td>-0.616845</td>\n",
       "      <td>-0.291171</td>\n",
       "      <td>-0.214154</td>\n",
       "      <td>-0.502261</td>\n",
       "      <td>0.815991</td>\n",
       "      <td>...</td>\n",
       "      <td>-0.29702</td>\n",
       "      <td>-2.229630</td>\n",
       "      <td>4.374532</td>\n",
       "      <td>-0.927703</td>\n",
       "      <td>0.927703</td>\n",
       "      <td>1.825261</td>\n",
       "      <td>-1.825261</td>\n",
       "      <td>-0.354130</td>\n",
       "      <td>-0.732488</td>\n",
       "      <td>0.924111</td>\n",
       "    </tr>\n",
       "    <tr>\n",
       "      <th>1</th>\n",
       "      <td>2.242381</td>\n",
       "      <td>2.084332</td>\n",
       "      <td>-1.136220</td>\n",
       "      <td>-0.054612</td>\n",
       "      <td>-0.784879</td>\n",
       "      <td>-1.355826</td>\n",
       "      <td>-0.291171</td>\n",
       "      <td>-0.214154</td>\n",
       "      <td>-0.502261</td>\n",
       "      <td>-0.735143</td>\n",
       "      <td>...</td>\n",
       "      <td>-0.29702</td>\n",
       "      <td>0.448505</td>\n",
       "      <td>-0.228596</td>\n",
       "      <td>-0.927703</td>\n",
       "      <td>0.927703</td>\n",
       "      <td>1.825261</td>\n",
       "      <td>-1.825261</td>\n",
       "      <td>-0.354130</td>\n",
       "      <td>1.365209</td>\n",
       "      <td>-1.082121</td>\n",
       "    </tr>\n",
       "    <tr>\n",
       "      <th>2</th>\n",
       "      <td>-1.304400</td>\n",
       "      <td>-0.927884</td>\n",
       "      <td>-0.134119</td>\n",
       "      <td>0.046724</td>\n",
       "      <td>-0.784879</td>\n",
       "      <td>-0.740008</td>\n",
       "      <td>-0.291171</td>\n",
       "      <td>-0.214154</td>\n",
       "      <td>-0.502261</td>\n",
       "      <td>-0.218099</td>\n",
       "      <td>...</td>\n",
       "      <td>-0.29702</td>\n",
       "      <td>0.448505</td>\n",
       "      <td>-0.228596</td>\n",
       "      <td>-0.927703</td>\n",
       "      <td>0.927703</td>\n",
       "      <td>-0.547867</td>\n",
       "      <td>0.547867</td>\n",
       "      <td>-0.354130</td>\n",
       "      <td>-0.732488</td>\n",
       "      <td>0.924111</td>\n",
       "    </tr>\n",
       "    <tr>\n",
       "      <th>3</th>\n",
       "      <td>0.439656</td>\n",
       "      <td>0.340580</td>\n",
       "      <td>-0.468152</td>\n",
       "      <td>0.553401</td>\n",
       "      <td>-0.784879</td>\n",
       "      <td>-0.986336</td>\n",
       "      <td>-0.291171</td>\n",
       "      <td>-0.214154</td>\n",
       "      <td>-0.502261</td>\n",
       "      <td>0.298946</td>\n",
       "      <td>...</td>\n",
       "      <td>-0.29702</td>\n",
       "      <td>0.448505</td>\n",
       "      <td>-0.228596</td>\n",
       "      <td>1.077931</td>\n",
       "      <td>-1.077931</td>\n",
       "      <td>-0.547867</td>\n",
       "      <td>0.547867</td>\n",
       "      <td>-0.354130</td>\n",
       "      <td>-0.732488</td>\n",
       "      <td>0.924111</td>\n",
       "    </tr>\n",
       "    <tr>\n",
       "      <th>4</th>\n",
       "      <td>-0.588590</td>\n",
       "      <td>-0.801983</td>\n",
       "      <td>2.204116</td>\n",
       "      <td>-0.409285</td>\n",
       "      <td>0.974798</td>\n",
       "      <td>0.861118</td>\n",
       "      <td>-0.291171</td>\n",
       "      <td>-0.214154</td>\n",
       "      <td>0.287305</td>\n",
       "      <td>0.298946</td>\n",
       "      <td>...</td>\n",
       "      <td>-0.29702</td>\n",
       "      <td>0.448505</td>\n",
       "      <td>-0.228596</td>\n",
       "      <td>-0.927703</td>\n",
       "      <td>0.927703</td>\n",
       "      <td>1.825261</td>\n",
       "      <td>-1.825261</td>\n",
       "      <td>-0.354130</td>\n",
       "      <td>-0.732488</td>\n",
       "      <td>0.924111</td>\n",
       "    </tr>\n",
       "    <tr>\n",
       "      <th>...</th>\n",
       "      <td>...</td>\n",
       "      <td>...</td>\n",
       "      <td>...</td>\n",
       "      <td>...</td>\n",
       "      <td>...</td>\n",
       "      <td>...</td>\n",
       "      <td>...</td>\n",
       "      <td>...</td>\n",
       "      <td>...</td>\n",
       "      <td>...</td>\n",
       "      <td>...</td>\n",
       "      <td>...</td>\n",
       "      <td>...</td>\n",
       "      <td>...</td>\n",
       "      <td>...</td>\n",
       "      <td>...</td>\n",
       "      <td>...</td>\n",
       "      <td>...</td>\n",
       "      <td>...</td>\n",
       "      <td>...</td>\n",
       "      <td>...</td>\n",
       "    </tr>\n",
       "    <tr>\n",
       "      <th>81407</th>\n",
       "      <td>-1.304039</td>\n",
       "      <td>-1.316689</td>\n",
       "      <td>-0.802186</td>\n",
       "      <td>-0.409285</td>\n",
       "      <td>-0.784879</td>\n",
       "      <td>-0.493681</td>\n",
       "      <td>-0.291171</td>\n",
       "      <td>-0.214154</td>\n",
       "      <td>-0.502261</td>\n",
       "      <td>0.815991</td>\n",
       "      <td>...</td>\n",
       "      <td>-0.29702</td>\n",
       "      <td>0.448505</td>\n",
       "      <td>-0.228596</td>\n",
       "      <td>-0.927703</td>\n",
       "      <td>0.927703</td>\n",
       "      <td>1.825261</td>\n",
       "      <td>-1.825261</td>\n",
       "      <td>-0.354130</td>\n",
       "      <td>1.365209</td>\n",
       "      <td>-1.082121</td>\n",
       "    </tr>\n",
       "    <tr>\n",
       "      <th>81408</th>\n",
       "      <td>-0.061414</td>\n",
       "      <td>1.014748</td>\n",
       "      <td>0.199915</td>\n",
       "      <td>1.009410</td>\n",
       "      <td>0.388239</td>\n",
       "      <td>0.861118</td>\n",
       "      <td>-0.291171</td>\n",
       "      <td>-0.214154</td>\n",
       "      <td>-0.502261</td>\n",
       "      <td>0.815991</td>\n",
       "      <td>...</td>\n",
       "      <td>-0.29702</td>\n",
       "      <td>0.448505</td>\n",
       "      <td>-0.228596</td>\n",
       "      <td>1.077931</td>\n",
       "      <td>-1.077931</td>\n",
       "      <td>-0.547867</td>\n",
       "      <td>0.547867</td>\n",
       "      <td>2.823825</td>\n",
       "      <td>-0.732488</td>\n",
       "      <td>-1.082121</td>\n",
       "    </tr>\n",
       "    <tr>\n",
       "      <th>81409</th>\n",
       "      <td>0.648641</td>\n",
       "      <td>0.807845</td>\n",
       "      <td>-0.468152</td>\n",
       "      <td>0.604068</td>\n",
       "      <td>-0.198320</td>\n",
       "      <td>2.092753</td>\n",
       "      <td>-0.291171</td>\n",
       "      <td>-0.214154</td>\n",
       "      <td>-0.502261</td>\n",
       "      <td>0.815991</td>\n",
       "      <td>...</td>\n",
       "      <td>-0.29702</td>\n",
       "      <td>0.448505</td>\n",
       "      <td>-0.228596</td>\n",
       "      <td>1.077931</td>\n",
       "      <td>-1.077931</td>\n",
       "      <td>-0.547867</td>\n",
       "      <td>0.547867</td>\n",
       "      <td>-0.354130</td>\n",
       "      <td>-0.732488</td>\n",
       "      <td>0.924111</td>\n",
       "    </tr>\n",
       "    <tr>\n",
       "      <th>81410</th>\n",
       "      <td>-1.542714</td>\n",
       "      <td>-1.191061</td>\n",
       "      <td>2.538150</td>\n",
       "      <td>1.718757</td>\n",
       "      <td>0.388239</td>\n",
       "      <td>0.614790</td>\n",
       "      <td>-0.291171</td>\n",
       "      <td>-0.214154</td>\n",
       "      <td>-0.502261</td>\n",
       "      <td>0.815991</td>\n",
       "      <td>...</td>\n",
       "      <td>-0.29702</td>\n",
       "      <td>0.448505</td>\n",
       "      <td>-0.228596</td>\n",
       "      <td>1.077931</td>\n",
       "      <td>-1.077931</td>\n",
       "      <td>-0.547867</td>\n",
       "      <td>0.547867</td>\n",
       "      <td>-0.354130</td>\n",
       "      <td>1.365209</td>\n",
       "      <td>-1.082121</td>\n",
       "    </tr>\n",
       "    <tr>\n",
       "      <th>81411</th>\n",
       "      <td>-1.023917</td>\n",
       "      <td>0.610076</td>\n",
       "      <td>-1.136220</td>\n",
       "      <td>-2.081319</td>\n",
       "      <td>2.147917</td>\n",
       "      <td>0.122136</td>\n",
       "      <td>-0.291171</td>\n",
       "      <td>-0.214154</td>\n",
       "      <td>-0.502261</td>\n",
       "      <td>-0.218099</td>\n",
       "      <td>...</td>\n",
       "      <td>-0.29702</td>\n",
       "      <td>0.448505</td>\n",
       "      <td>-0.228596</td>\n",
       "      <td>1.077931</td>\n",
       "      <td>-1.077931</td>\n",
       "      <td>-0.547867</td>\n",
       "      <td>0.547867</td>\n",
       "      <td>-0.354130</td>\n",
       "      <td>-0.732488</td>\n",
       "      <td>0.924111</td>\n",
       "    </tr>\n",
       "  </tbody>\n",
       "</table>\n",
       "<p>81412 rows × 89 columns</p>\n",
       "</div>"
      ],
      "text/plain": [
       "       encounter_id  patient_nbr  time_in_hospital  num_lab_procedures  \\\n",
       "0         -0.812717    -1.400616         -0.134119            0.249395   \n",
       "1          2.242381     2.084332         -1.136220           -0.054612   \n",
       "2         -1.304400    -0.927884         -0.134119            0.046724   \n",
       "3          0.439656     0.340580         -0.468152            0.553401   \n",
       "4         -0.588590    -0.801983          2.204116           -0.409285   \n",
       "...             ...          ...               ...                 ...   \n",
       "81407     -1.304039    -1.316689         -0.802186           -0.409285   \n",
       "81408     -0.061414     1.014748          0.199915            1.009410   \n",
       "81409      0.648641     0.807845         -0.468152            0.604068   \n",
       "81410     -1.542714    -1.191061          2.538150            1.718757   \n",
       "81411     -1.023917     0.610076         -1.136220           -2.081319   \n",
       "\n",
       "       num_procedures  num_medications  number_outpatient  number_emergency  \\\n",
       "0           -0.784879        -0.616845          -0.291171         -0.214154   \n",
       "1           -0.784879        -1.355826          -0.291171         -0.214154   \n",
       "2           -0.784879        -0.740008          -0.291171         -0.214154   \n",
       "3           -0.784879        -0.986336          -0.291171         -0.214154   \n",
       "4            0.974798         0.861118          -0.291171         -0.214154   \n",
       "...               ...              ...                ...               ...   \n",
       "81407       -0.784879        -0.493681          -0.291171         -0.214154   \n",
       "81408        0.388239         0.861118          -0.291171         -0.214154   \n",
       "81409       -0.198320         2.092753          -0.291171         -0.214154   \n",
       "81410        0.388239         0.614790          -0.291171         -0.214154   \n",
       "81411        2.147917         0.122136          -0.291171         -0.214154   \n",
       "\n",
       "       number_inpatient  number_diagnoses  ...  A1Cresult1  A1Cresult2  \\\n",
       "0             -0.502261          0.815991  ...    -0.29702   -2.229630   \n",
       "1             -0.502261         -0.735143  ...    -0.29702    0.448505   \n",
       "2             -0.502261         -0.218099  ...    -0.29702    0.448505   \n",
       "3             -0.502261          0.298946  ...    -0.29702    0.448505   \n",
       "4              0.287305          0.298946  ...    -0.29702    0.448505   \n",
       "...                 ...               ...  ...         ...         ...   \n",
       "81407         -0.502261          0.815991  ...    -0.29702    0.448505   \n",
       "81408         -0.502261          0.815991  ...    -0.29702    0.448505   \n",
       "81409         -0.502261          0.815991  ...    -0.29702    0.448505   \n",
       "81410         -0.502261          0.815991  ...    -0.29702    0.448505   \n",
       "81411         -0.502261         -0.218099  ...    -0.29702    0.448505   \n",
       "\n",
       "       A1Cresult3   change0   change1  diabetesMed0  diabetesMed1  \\\n",
       "0        4.374532 -0.927703  0.927703      1.825261     -1.825261   \n",
       "1       -0.228596 -0.927703  0.927703      1.825261     -1.825261   \n",
       "2       -0.228596 -0.927703  0.927703     -0.547867      0.547867   \n",
       "3       -0.228596  1.077931 -1.077931     -0.547867      0.547867   \n",
       "4       -0.228596 -0.927703  0.927703      1.825261     -1.825261   \n",
       "...           ...       ...       ...           ...           ...   \n",
       "81407   -0.228596 -0.927703  0.927703      1.825261     -1.825261   \n",
       "81408   -0.228596  1.077931 -1.077931     -0.547867      0.547867   \n",
       "81409   -0.228596  1.077931 -1.077931     -0.547867      0.547867   \n",
       "81410   -0.228596  1.077931 -1.077931     -0.547867      0.547867   \n",
       "81411   -0.228596  1.077931 -1.077931     -0.547867      0.547867   \n",
       "\n",
       "       readmitted0  readmitted1  readmitted2  \n",
       "0        -0.354130    -0.732488     0.924111  \n",
       "1        -0.354130     1.365209    -1.082121  \n",
       "2        -0.354130    -0.732488     0.924111  \n",
       "3        -0.354130    -0.732488     0.924111  \n",
       "4        -0.354130    -0.732488     0.924111  \n",
       "...            ...          ...          ...  \n",
       "81407    -0.354130     1.365209    -1.082121  \n",
       "81408     2.823825    -0.732488    -1.082121  \n",
       "81409    -0.354130    -0.732488     0.924111  \n",
       "81410    -0.354130     1.365209    -1.082121  \n",
       "81411    -0.354130    -0.732488     0.924111  \n",
       "\n",
       "[81412 rows x 89 columns]"
      ]
     },
     "execution_count": 5,
     "metadata": {},
     "output_type": "execute_result"
    }
   ],
   "source": [
    "# data configuration\n",
    "preprocessor = DataPreProcessor(data_train)\n",
    "data_train = preprocessor.preprocess_train_data()\n",
    "data_train"
   ]
  },
  {
   "cell_type": "markdown",
   "metadata": {},
   "source": [
    "## Train the Model\n",
    "\n",
    "Next, lets define the neural network for generating synthetic data. We will be using a [GAN](https://www.wikiwand.com/en/Generative_adversarial_network) network that comprises of an generator and discriminator that tries to beat each other and in the process learns the vector embedding for the data. \n",
    "\n",
    "The model was taken from a [Github repository](https://github.com/ydataai/gan-playground) where it is used to generate synthetic data on credit card fraud data. "
   ]
  },
  {
   "cell_type": "markdown",
   "metadata": {},
   "source": [
    "Next, lets define the training parameters for the GAN network."
   ]
  },
  {
   "cell_type": "code",
   "execution_count": 6,
   "metadata": {},
   "outputs": [
    {
     "name": "stdout",
     "output_type": "stream",
     "text": [
      "Shape of data:  (81412, 89)\n"
     ]
    }
   ],
   "source": [
    "# training configuration\n",
    "noise_dim = 32\n",
    "dim = 128\n",
    "batch_size = 16\n",
    "\n",
    "log_step = 200\n",
    "epochs = 5000+1\n",
    "learning_rate = 5e-4\n",
    "\n",
    "beta_1 = 0.5\n",
    "beta_2 = 0.9\n",
    "\n",
    "models_dir = 'my_model_datasetA/'\n",
    "\n",
    "data_dim = data_train.shape[1]\n",
    "print('Shape of data: ', data_train.shape)"
   ]
  },
  {
   "cell_type": "code",
   "execution_count": 7,
   "metadata": {},
   "outputs": [],
   "source": [
    "#Define the GAN and training parameters\n",
    "gan_args = [batch_size, learning_rate, beta_1, beta_2, noise_dim, data_dim, dim]\n",
    "train_args = ['', epochs, log_step]"
   ]
  },
  {
   "cell_type": "markdown",
   "metadata": {},
   "source": [
    "Finally, let's run the training and see if the model is able to learn something."
   ]
  },
  {
   "cell_type": "code",
   "execution_count": 8,
   "metadata": {},
   "outputs": [],
   "source": [
    "!mkdir my_model_datasetA\n",
    "!mkdir my_model_datasetA/gan\n",
    "!mkdir my_model_datasetA/gan/saved"
   ]
  },
  {
   "cell_type": "code",
   "execution_count": 9,
   "metadata": {},
   "outputs": [
    {
     "name": "stderr",
     "output_type": "stream",
     "text": [
      "  0%|          | 4/5001 [00:02<33:47,  2.46it/s]  "
     ]
    },
    {
     "name": "stdout",
     "output_type": "stream",
     "text": [
      "Iteration: 0 | disc_loss: 0.8404482007026672 | gen_loss: -0.0014795165043324232\n",
      "Iteration: 1 | disc_loss: -0.07407279312610626 | gen_loss: -0.02415405586361885\n",
      "Iteration: 2 | disc_loss: -0.31684574484825134 | gen_loss: -0.04199080914258957\n",
      "Iteration: 3 | disc_loss: -0.6465635895729065 | gen_loss: -0.048402778804302216\n"
     ]
    },
    {
     "name": "stderr",
     "output_type": "stream",
     "text": [
      "  0%|          | 7/5001 [00:02<17:37,  4.72it/s]"
     ]
    },
    {
     "name": "stdout",
     "output_type": "stream",
     "text": [
      "Iteration: 4 | disc_loss: -0.6713191270828247 | gen_loss: -0.03701446205377579\n",
      "Iteration: 5 | disc_loss: -0.8195371627807617 | gen_loss: -0.04234934598207474\n",
      "Iteration: 6 | disc_loss: -1.0088062286376953 | gen_loss: -0.05181074142456055\n",
      "Iteration: 7 | disc_loss: -1.0714919567108154 | gen_loss: -0.04859447106719017\n",
      "Iteration: 8 | disc_loss: -1.1365104913711548 | gen_loss: -0.05244606360793114\n"
     ]
    },
    {
     "name": "stderr",
     "output_type": "stream",
     "text": [
      "  0%|          | 13/5001 [00:02<08:28,  9.82it/s]"
     ]
    },
    {
     "name": "stdout",
     "output_type": "stream",
     "text": [
      "Iteration: 9 | disc_loss: -1.1839416027069092 | gen_loss: -0.04041900858283043\n",
      "Iteration: 10 | disc_loss: -1.1926859617233276 | gen_loss: -0.018841668963432312\n",
      "Iteration: 11 | disc_loss: -1.1680833101272583 | gen_loss: -0.016080476343631744\n",
      "Iteration: 12 | disc_loss: -1.1818630695343018 | gen_loss: -0.04408642649650574\n",
      "Iteration: 13 | disc_loss: -1.2418198585510254 | gen_loss: -0.04295489564538002\n"
     ]
    },
    {
     "name": "stderr",
     "output_type": "stream",
     "text": [
      "  0%|          | 19/5001 [00:02<05:32, 14.99it/s]"
     ]
    },
    {
     "name": "stdout",
     "output_type": "stream",
     "text": [
      "Iteration: 14 | disc_loss: -1.2849624156951904 | gen_loss: -0.044191665947437286\n",
      "Iteration: 15 | disc_loss: -1.2620346546173096 | gen_loss: -0.03729034960269928\n",
      "Iteration: 16 | disc_loss: -1.3130135536193848 | gen_loss: -0.0636039525270462\n",
      "Iteration: 17 | disc_loss: -1.32173490524292 | gen_loss: -0.016020366922020912\n",
      "Iteration: 18 | disc_loss: -1.245132327079773 | gen_loss: -0.028133681043982506\n",
      "Iteration: 19 | disc_loss: -1.343445897102356 | gen_loss: -0.0708693116903305\n"
     ]
    },
    {
     "name": "stderr",
     "output_type": "stream",
     "text": [
      "  0%|          | 25/5001 [00:02<04:18, 19.23it/s]"
     ]
    },
    {
     "name": "stdout",
     "output_type": "stream",
     "text": [
      "Iteration: 20 | disc_loss: -1.2892357110977173 | gen_loss: 0.040833525359630585\n",
      "Iteration: 21 | disc_loss: -1.3515970706939697 | gen_loss: 0.033860012888908386\n",
      "Iteration: 22 | disc_loss: -1.3475311994552612 | gen_loss: 0.033899642527103424\n",
      "Iteration: 23 | disc_loss: -1.3623878955841064 | gen_loss: 0.0214068666100502\n",
      "Iteration: 24 | disc_loss: -1.4176338911056519 | gen_loss: 0.011769810691475868\n",
      "Iteration: 25 | disc_loss: -1.4916249513626099 | gen_loss: -0.0013027740642428398\n"
     ]
    },
    {
     "name": "stderr",
     "output_type": "stream",
     "text": [
      "  1%|          | 31/5001 [00:03<03:50, 21.54it/s]"
     ]
    },
    {
     "name": "stdout",
     "output_type": "stream",
     "text": [
      "Iteration: 26 | disc_loss: -1.2777469158172607 | gen_loss: 0.09853140264749527\n",
      "Iteration: 27 | disc_loss: -1.402665376663208 | gen_loss: 0.026229597628116608\n",
      "Iteration: 28 | disc_loss: -1.5875235795974731 | gen_loss: -0.09499907493591309\n",
      "Iteration: 29 | disc_loss: -1.5066856145858765 | gen_loss: 0.07320472598075867\n",
      "Iteration: 30 | disc_loss: -1.3304511308670044 | gen_loss: 0.014382637105882168\n",
      "Iteration: 31 | disc_loss: -1.4700454473495483 | gen_loss: -0.010364150628447533\n"
     ]
    },
    {
     "name": "stderr",
     "output_type": "stream",
     "text": [
      "  1%|          | 37/5001 [00:03<03:33, 23.21it/s]"
     ]
    },
    {
     "name": "stdout",
     "output_type": "stream",
     "text": [
      "Iteration: 32 | disc_loss: -1.5368980169296265 | gen_loss: -0.022179745137691498\n",
      "Iteration: 33 | disc_loss: -1.4779208898544312 | gen_loss: 0.03650100529193878\n",
      "Iteration: 34 | disc_loss: -1.5271071195602417 | gen_loss: -0.027351856231689453\n",
      "Iteration: 35 | disc_loss: -1.2815661430358887 | gen_loss: 0.05135682225227356\n",
      "Iteration: 36 | disc_loss: -1.4955469369888306 | gen_loss: 0.10574422776699066\n",
      "Iteration: 37 | disc_loss: -1.551539421081543 | gen_loss: 0.016307532787322998\n"
     ]
    },
    {
     "name": "stderr",
     "output_type": "stream",
     "text": [
      "  1%|          | 43/5001 [00:03<03:27, 23.94it/s]"
     ]
    },
    {
     "name": "stdout",
     "output_type": "stream",
     "text": [
      "Iteration: 38 | disc_loss: -1.5026390552520752 | gen_loss: 0.08139857649803162\n",
      "Iteration: 39 | disc_loss: -1.650144338607788 | gen_loss: 0.04342801868915558\n",
      "Iteration: 40 | disc_loss: -1.6869343519210815 | gen_loss: 0.015728121623396873\n",
      "Iteration: 41 | disc_loss: -1.5864840745925903 | gen_loss: 0.026016827672719955\n",
      "Iteration: 42 | disc_loss: -1.5432391166687012 | gen_loss: 0.023756833747029305\n",
      "Iteration: 43 | disc_loss: -1.5706605911254883 | gen_loss: 0.020674321800470352\n"
     ]
    },
    {
     "name": "stderr",
     "output_type": "stream",
     "text": [
      "  1%|          | 49/5001 [00:03<03:21, 24.63it/s]"
     ]
    },
    {
     "name": "stdout",
     "output_type": "stream",
     "text": [
      "Iteration: 44 | disc_loss: -1.5775288343429565 | gen_loss: -0.00015680305659770966\n",
      "Iteration: 45 | disc_loss: -1.6285572052001953 | gen_loss: 0.07101882994174957\n",
      "Iteration: 46 | disc_loss: -1.5885181427001953 | gen_loss: 0.010959998704493046\n",
      "Iteration: 47 | disc_loss: -1.5766289234161377 | gen_loss: 0.13442537188529968\n",
      "Iteration: 48 | disc_loss: -1.5927271842956543 | gen_loss: 0.007162400986999273\n",
      "Iteration: 49 | disc_loss: -1.6851465702056885 | gen_loss: -0.02217639610171318\n"
     ]
    },
    {
     "name": "stderr",
     "output_type": "stream",
     "text": [
      "  1%|          | 55/5001 [00:04<03:23, 24.29it/s]"
     ]
    },
    {
     "name": "stdout",
     "output_type": "stream",
     "text": [
      "Iteration: 50 | disc_loss: -1.6783465147018433 | gen_loss: 0.012692044489085674\n",
      "Iteration: 51 | disc_loss: -1.6319398880004883 | gen_loss: -0.03568146377801895\n",
      "Iteration: 52 | disc_loss: -1.6910810470581055 | gen_loss: -0.04754294082522392\n",
      "Iteration: 53 | disc_loss: -1.6310330629348755 | gen_loss: 0.03832992538809776\n",
      "Iteration: 54 | disc_loss: -1.522465705871582 | gen_loss: -0.05278396978974342\n"
     ]
    },
    {
     "name": "stderr",
     "output_type": "stream",
     "text": [
      "  1%|          | 61/5001 [00:04<03:20, 24.61it/s]"
     ]
    },
    {
     "name": "stdout",
     "output_type": "stream",
     "text": [
      "Iteration: 55 | disc_loss: -1.6218361854553223 | gen_loss: -0.027537599205970764\n",
      "Iteration: 56 | disc_loss: -1.5453624725341797 | gen_loss: 0.0004892316646873951\n",
      "Iteration: 57 | disc_loss: -1.6104153394699097 | gen_loss: -0.05376594886183739\n",
      "Iteration: 58 | disc_loss: -1.4847043752670288 | gen_loss: 0.0324738584458828\n",
      "Iteration: 59 | disc_loss: -1.5611462593078613 | gen_loss: 0.014622585847973824\n",
      "Iteration: 60 | disc_loss: -1.6534510850906372 | gen_loss: -0.1447126567363739\n"
     ]
    },
    {
     "name": "stderr",
     "output_type": "stream",
     "text": [
      "  1%|▏         | 67/5001 [00:04<03:17, 24.96it/s]"
     ]
    },
    {
     "name": "stdout",
     "output_type": "stream",
     "text": [
      "Iteration: 61 | disc_loss: -1.563362717628479 | gen_loss: -0.16542251408100128\n",
      "Iteration: 62 | disc_loss: -1.4289333820343018 | gen_loss: -0.057090792804956436\n",
      "Iteration: 63 | disc_loss: -1.5278356075286865 | gen_loss: -0.05277268588542938\n",
      "Iteration: 64 | disc_loss: -1.564561128616333 | gen_loss: 0.031224340200424194\n",
      "Iteration: 65 | disc_loss: -1.538977861404419 | gen_loss: -0.017195461317896843\n",
      "Iteration: 66 | disc_loss: -1.6894842386245728 | gen_loss: -0.10444381833076477\n"
     ]
    },
    {
     "name": "stderr",
     "output_type": "stream",
     "text": [
      "  1%|▏         | 73/5001 [00:04<03:17, 25.01it/s]"
     ]
    },
    {
     "name": "stdout",
     "output_type": "stream",
     "text": [
      "Iteration: 67 | disc_loss: -1.526862621307373 | gen_loss: 0.024085570126771927\n",
      "Iteration: 68 | disc_loss: -1.5336616039276123 | gen_loss: -0.03515409678220749\n",
      "Iteration: 69 | disc_loss: -1.5569381713867188 | gen_loss: -0.0618508942425251\n",
      "Iteration: 70 | disc_loss: -1.412898302078247 | gen_loss: -0.0038492977619171143\n",
      "Iteration: 71 | disc_loss: -1.5233027935028076 | gen_loss: -0.09121133387088776\n",
      "Iteration: 72 | disc_loss: -1.5883710384368896 | gen_loss: -0.10393495857715607\n"
     ]
    },
    {
     "name": "stderr",
     "output_type": "stream",
     "text": [
      "  2%|▏         | 79/5001 [00:05<03:18, 24.84it/s]"
     ]
    },
    {
     "name": "stdout",
     "output_type": "stream",
     "text": [
      "Iteration: 73 | disc_loss: -1.5104321241378784 | gen_loss: 0.03862089663743973\n",
      "Iteration: 74 | disc_loss: -1.5507484674453735 | gen_loss: -0.21894137561321259\n",
      "Iteration: 75 | disc_loss: -1.5453240871429443 | gen_loss: -0.022204933688044548\n",
      "Iteration: 76 | disc_loss: -1.5739130973815918 | gen_loss: -0.018483923748135567\n",
      "Iteration: 77 | disc_loss: -1.5589237213134766 | gen_loss: -0.02757568284869194\n",
      "Iteration: 78 | disc_loss: -1.558680534362793 | gen_loss: -0.10857176780700684\n"
     ]
    },
    {
     "name": "stderr",
     "output_type": "stream",
     "text": [
      "  2%|▏         | 85/5001 [00:05<03:17, 24.86it/s]"
     ]
    },
    {
     "name": "stdout",
     "output_type": "stream",
     "text": [
      "Iteration: 79 | disc_loss: -1.4483342170715332 | gen_loss: -0.020611155778169632\n",
      "Iteration: 80 | disc_loss: -1.4879674911499023 | gen_loss: 0.07227036356925964\n",
      "Iteration: 81 | disc_loss: -1.5216481685638428 | gen_loss: -0.070375956594944\n",
      "Iteration: 82 | disc_loss: -1.5435172319412231 | gen_loss: -0.169199138879776\n",
      "Iteration: 83 | disc_loss: -1.5621718168258667 | gen_loss: 0.06813006848096848\n",
      "Iteration: 84 | disc_loss: -1.540277123451233 | gen_loss: 0.07205561548471451\n"
     ]
    },
    {
     "name": "stderr",
     "output_type": "stream",
     "text": [
      "  2%|▏         | 91/5001 [00:05<03:15, 25.06it/s]"
     ]
    },
    {
     "name": "stdout",
     "output_type": "stream",
     "text": [
      "Iteration: 85 | disc_loss: -1.5071333646774292 | gen_loss: -0.007493447512388229\n",
      "Iteration: 86 | disc_loss: -1.5831801891326904 | gen_loss: -0.15939456224441528\n",
      "Iteration: 87 | disc_loss: -1.4461020231246948 | gen_loss: 0.11825022846460342\n",
      "Iteration: 88 | disc_loss: -1.4450714588165283 | gen_loss: -0.08529004454612732\n",
      "Iteration: 89 | disc_loss: -1.5009733438491821 | gen_loss: -0.1253162920475006\n",
      "Iteration: 90 | disc_loss: -1.2886122465133667 | gen_loss: 0.1379387229681015\n"
     ]
    },
    {
     "name": "stderr",
     "output_type": "stream",
     "text": [
      "  2%|▏         | 97/5001 [00:05<03:20, 24.43it/s]"
     ]
    },
    {
     "name": "stdout",
     "output_type": "stream",
     "text": [
      "Iteration: 91 | disc_loss: -1.4314796924591064 | gen_loss: -0.1795063465833664\n",
      "Iteration: 92 | disc_loss: -1.4269866943359375 | gen_loss: 0.02842278778553009\n",
      "Iteration: 93 | disc_loss: -1.5308218002319336 | gen_loss: 0.039550188928842545\n",
      "Iteration: 94 | disc_loss: -1.5102523565292358 | gen_loss: -0.027997596189379692\n",
      "Iteration: 95 | disc_loss: -1.5528430938720703 | gen_loss: -0.03026142716407776\n",
      "Iteration: 96 | disc_loss: -1.238675594329834 | gen_loss: 0.02371370792388916\n"
     ]
    },
    {
     "name": "stderr",
     "output_type": "stream",
     "text": [
      "  2%|▏         | 103/5001 [00:06<03:19, 24.51it/s]"
     ]
    },
    {
     "name": "stdout",
     "output_type": "stream",
     "text": [
      "Iteration: 97 | disc_loss: -1.5679689645767212 | gen_loss: 0.0031153708696365356\n",
      "Iteration: 98 | disc_loss: -1.4308383464813232 | gen_loss: 0.02900555357336998\n",
      "Iteration: 99 | disc_loss: -1.3060665130615234 | gen_loss: 0.025422893464565277\n",
      "Iteration: 100 | disc_loss: -1.4030139446258545 | gen_loss: 0.05331776663661003\n",
      "Iteration: 101 | disc_loss: -1.5646183490753174 | gen_loss: -0.0791320651769638\n",
      "Iteration: 102 | disc_loss: -1.4729195833206177 | gen_loss: -0.007072910666465759\n"
     ]
    },
    {
     "name": "stderr",
     "output_type": "stream",
     "text": [
      "  2%|▏         | 106/5001 [00:06<03:17, 24.75it/s]"
     ]
    },
    {
     "name": "stdout",
     "output_type": "stream",
     "text": [
      "Iteration: 103 | disc_loss: -1.3415632247924805 | gen_loss: 0.08008834719657898\n",
      "Iteration: 104 | disc_loss: -1.506212592124939 | gen_loss: 0.021009942516684532\n",
      "Iteration: 105 | disc_loss: -1.38028085231781 | gen_loss: 0.1253536343574524\n",
      "Iteration: 106 | disc_loss: -1.5253207683563232 | gen_loss: -0.08684905618429184\n",
      "Iteration: 107 | disc_loss: -1.4717220067977905 | gen_loss: 0.1137794554233551\n"
     ]
    },
    {
     "name": "stderr",
     "output_type": "stream",
     "text": [
      "  2%|▏         | 112/5001 [00:06<03:29, 23.34it/s]"
     ]
    },
    {
     "name": "stdout",
     "output_type": "stream",
     "text": [
      "Iteration: 108 | disc_loss: -1.3600149154663086 | gen_loss: 0.09833831340074539\n",
      "Iteration: 109 | disc_loss: -1.2280492782592773 | gen_loss: 0.1143503487110138\n",
      "Iteration: 110 | disc_loss: -1.4894770383834839 | gen_loss: -0.005512641277164221\n",
      "Iteration: 111 | disc_loss: -1.4884934425354004 | gen_loss: 0.03628670796751976\n",
      "Iteration: 112 | disc_loss: -1.4441382884979248 | gen_loss: 0.08989212661981583\n"
     ]
    },
    {
     "name": "stderr",
     "output_type": "stream",
     "text": [
      "  2%|▏         | 118/5001 [00:06<03:25, 23.71it/s]"
     ]
    },
    {
     "name": "stdout",
     "output_type": "stream",
     "text": [
      "Iteration: 113 | disc_loss: -1.51175057888031 | gen_loss: 0.0022515058517456055\n",
      "Iteration: 114 | disc_loss: -1.2792502641677856 | gen_loss: 0.04784877598285675\n",
      "Iteration: 115 | disc_loss: -1.5171846151351929 | gen_loss: 0.16134285926818848\n",
      "Iteration: 116 | disc_loss: -1.4151356220245361 | gen_loss: 0.05370185524225235\n",
      "Iteration: 117 | disc_loss: -1.4584813117980957 | gen_loss: 0.08514322340488434\n",
      "Iteration: 118 | disc_loss: -1.2599129676818848 | gen_loss: 0.0989491268992424\n"
     ]
    },
    {
     "name": "stderr",
     "output_type": "stream",
     "text": [
      "  2%|▏         | 124/5001 [00:06<03:23, 24.01it/s]"
     ]
    },
    {
     "name": "stdout",
     "output_type": "stream",
     "text": [
      "Iteration: 119 | disc_loss: -1.1947605609893799 | gen_loss: 0.20932164788246155\n",
      "Iteration: 120 | disc_loss: -1.4582058191299438 | gen_loss: 0.074410080909729\n",
      "Iteration: 121 | disc_loss: -1.3574585914611816 | gen_loss: 0.1228286474943161\n",
      "Iteration: 122 | disc_loss: -1.4719609022140503 | gen_loss: 0.10408005118370056\n",
      "Iteration: 123 | disc_loss: -1.3372899293899536 | gen_loss: -0.09926852583885193\n",
      "Iteration: 124 | disc_loss: -1.6164774894714355 | gen_loss: 0.007466954179108143\n"
     ]
    },
    {
     "name": "stderr",
     "output_type": "stream",
     "text": [
      "  3%|▎         | 130/5001 [00:07<03:18, 24.58it/s]"
     ]
    },
    {
     "name": "stdout",
     "output_type": "stream",
     "text": [
      "Iteration: 125 | disc_loss: -1.206831693649292 | gen_loss: 0.1478434056043625\n",
      "Iteration: 126 | disc_loss: -1.4479998350143433 | gen_loss: 0.16989794373512268\n",
      "Iteration: 127 | disc_loss: -1.3975028991699219 | gen_loss: 0.12478872388601303\n",
      "Iteration: 128 | disc_loss: -1.4871824979782104 | gen_loss: -0.06826883554458618\n",
      "Iteration: 129 | disc_loss: -1.4475611448287964 | gen_loss: 0.07807589322328568\n",
      "Iteration: 130 | disc_loss: -1.3019754886627197 | gen_loss: 0.20102643966674805\n"
     ]
    },
    {
     "name": "stderr",
     "output_type": "stream",
     "text": [
      "  3%|▎         | 136/5001 [00:07<03:12, 25.23it/s]"
     ]
    },
    {
     "name": "stdout",
     "output_type": "stream",
     "text": [
      "Iteration: 131 | disc_loss: -1.427219271659851 | gen_loss: 0.13551627099514008\n",
      "Iteration: 132 | disc_loss: -1.4813532829284668 | gen_loss: -0.027465039864182472\n",
      "Iteration: 133 | disc_loss: -1.455331563949585 | gen_loss: 0.1452394425868988\n",
      "Iteration: 134 | disc_loss: -1.3758752346038818 | gen_loss: 0.26314398646354675\n",
      "Iteration: 135 | disc_loss: -1.4595221281051636 | gen_loss: -0.0772256851196289\n",
      "Iteration: 136 | disc_loss: -1.430824637413025 | gen_loss: -0.008228130638599396\n"
     ]
    },
    {
     "name": "stderr",
     "output_type": "stream",
     "text": [
      "  3%|▎         | 142/5001 [00:07<03:15, 24.88it/s]"
     ]
    },
    {
     "name": "stdout",
     "output_type": "stream",
     "text": [
      "Iteration: 137 | disc_loss: -1.4954062700271606 | gen_loss: 0.02533634938299656\n",
      "Iteration: 138 | disc_loss: -1.2749042510986328 | gen_loss: 0.10266914963722229\n",
      "Iteration: 139 | disc_loss: -1.4419220685958862 | gen_loss: -0.05163823068141937\n",
      "Iteration: 140 | disc_loss: -1.3168039321899414 | gen_loss: -0.21416807174682617\n",
      "Iteration: 141 | disc_loss: -1.519853949546814 | gen_loss: -0.07611723989248276\n",
      "Iteration: 142 | disc_loss: -1.1328816413879395 | gen_loss: 0.10097411274909973\n"
     ]
    },
    {
     "name": "stderr",
     "output_type": "stream",
     "text": [
      "  3%|▎         | 148/5001 [00:07<03:19, 24.34it/s]"
     ]
    },
    {
     "name": "stdout",
     "output_type": "stream",
     "text": [
      "Iteration: 143 | disc_loss: -1.3413071632385254 | gen_loss: 0.2098720371723175\n",
      "Iteration: 144 | disc_loss: -1.4125337600708008 | gen_loss: 0.18296392261981964\n",
      "Iteration: 145 | disc_loss: -1.448664665222168 | gen_loss: 0.345556378364563\n",
      "Iteration: 146 | disc_loss: -1.5309083461761475 | gen_loss: 0.04427098110318184\n",
      "Iteration: 147 | disc_loss: -1.447497844696045 | gen_loss: 0.15682753920555115\n"
     ]
    },
    {
     "name": "stderr",
     "output_type": "stream",
     "text": [
      "  3%|▎         | 151/5001 [00:08<03:17, 24.51it/s]"
     ]
    },
    {
     "name": "stdout",
     "output_type": "stream",
     "text": [
      "Iteration: 148 | disc_loss: -1.3916720151901245 | gen_loss: 0.16994065046310425\n",
      "Iteration: 149 | disc_loss: -1.4760617017745972 | gen_loss: -0.12144943326711655\n",
      "Iteration: 150 | disc_loss: -1.2196061611175537 | gen_loss: -0.212655171751976\n",
      "Iteration: 151 | disc_loss: -1.4108976125717163 | gen_loss: 0.005713069811463356\n",
      "Iteration: 152 | disc_loss: -1.457493543624878 | gen_loss: 0.0756988376379013\n"
     ]
    },
    {
     "name": "stderr",
     "output_type": "stream",
     "text": [
      "  3%|▎         | 157/5001 [00:08<03:26, 23.49it/s]"
     ]
    },
    {
     "name": "stdout",
     "output_type": "stream",
     "text": [
      "Iteration: 153 | disc_loss: -1.4771482944488525 | gen_loss: 0.0561746284365654\n",
      "Iteration: 154 | disc_loss: -1.3632172346115112 | gen_loss: -0.061761170625686646\n",
      "Iteration: 155 | disc_loss: -1.5101454257965088 | gen_loss: -0.021868882700800896\n",
      "Iteration: 156 | disc_loss: -1.5189141035079956 | gen_loss: 0.12488018721342087\n",
      "Iteration: 157 | disc_loss: -1.3191320896148682 | gen_loss: 0.06603801995515823\n",
      "Iteration: 158 | disc_loss: -1.349463939666748 | gen_loss: 0.16781601309776306\n"
     ]
    },
    {
     "name": "stderr",
     "output_type": "stream",
     "text": [
      "  3%|▎         | 163/5001 [00:08<03:17, 24.51it/s]"
     ]
    },
    {
     "name": "stdout",
     "output_type": "stream",
     "text": [
      "Iteration: 159 | disc_loss: -1.4245792627334595 | gen_loss: 0.0778016746044159\n",
      "Iteration: 160 | disc_loss: -1.3994395732879639 | gen_loss: 0.21561188995838165\n",
      "Iteration: 161 | disc_loss: -1.4120841026306152 | gen_loss: -0.11388590931892395\n",
      "Iteration: 162 | disc_loss: -1.4027934074401855 | gen_loss: 0.19165769219398499\n",
      "Iteration: 163 | disc_loss: -1.5205010175704956 | gen_loss: 0.19012510776519775\n",
      "Iteration: 164 | disc_loss: -1.1036323308944702 | gen_loss: 0.14900818467140198\n"
     ]
    },
    {
     "name": "stderr",
     "output_type": "stream",
     "text": [
      "  3%|▎         | 169/5001 [00:08<03:12, 25.13it/s]"
     ]
    },
    {
     "name": "stdout",
     "output_type": "stream",
     "text": [
      "Iteration: 165 | disc_loss: -1.472745418548584 | gen_loss: 0.03326553851366043\n",
      "Iteration: 166 | disc_loss: -1.2813966274261475 | gen_loss: 0.16020849347114563\n",
      "Iteration: 167 | disc_loss: -1.5775552988052368 | gen_loss: 0.1699654459953308\n",
      "Iteration: 168 | disc_loss: -1.371159553527832 | gen_loss: 0.23103998601436615\n",
      "Iteration: 169 | disc_loss: -1.45915687084198 | gen_loss: 0.09292057901620865\n",
      "Iteration: 170 | disc_loss: -1.3389732837677002 | gen_loss: 0.13297802209854126\n"
     ]
    },
    {
     "name": "stderr",
     "output_type": "stream",
     "text": [
      "  3%|▎         | 175/5001 [00:09<03:10, 25.33it/s]"
     ]
    },
    {
     "name": "stdout",
     "output_type": "stream",
     "text": [
      "Iteration: 171 | disc_loss: -1.2251074314117432 | gen_loss: 0.2787342071533203\n",
      "Iteration: 172 | disc_loss: -1.3471323251724243 | gen_loss: 0.2188776135444641\n",
      "Iteration: 173 | disc_loss: -1.515018105506897 | gen_loss: -0.0002903388813138008\n",
      "Iteration: 174 | disc_loss: -1.1932004690170288 | gen_loss: 0.038133278489112854\n",
      "Iteration: 175 | disc_loss: -1.3840447664260864 | gen_loss: 0.1501898169517517\n",
      "Iteration: 176 | disc_loss: -1.3712282180786133 | gen_loss: -0.011634116061031818\n"
     ]
    },
    {
     "name": "stderr",
     "output_type": "stream",
     "text": [
      "  4%|▎         | 181/5001 [00:09<03:10, 25.27it/s]"
     ]
    },
    {
     "name": "stdout",
     "output_type": "stream",
     "text": [
      "Iteration: 177 | disc_loss: -1.4400222301483154 | gen_loss: 0.04055866599082947\n",
      "Iteration: 178 | disc_loss: -1.5539212226867676 | gen_loss: 0.06386267393827438\n",
      "Iteration: 179 | disc_loss: -1.0801615715026855 | gen_loss: -0.10858846455812454\n",
      "Iteration: 180 | disc_loss: -1.4285727739334106 | gen_loss: 0.18829672038555145\n",
      "Iteration: 181 | disc_loss: -1.4205650091171265 | gen_loss: 0.1530129313468933\n",
      "Iteration: 182 | disc_loss: -1.3560181856155396 | gen_loss: 0.003016269765794277\n"
     ]
    },
    {
     "name": "stderr",
     "output_type": "stream",
     "text": [
      "  4%|▎         | 187/5001 [00:09<03:12, 24.96it/s]"
     ]
    },
    {
     "name": "stdout",
     "output_type": "stream",
     "text": [
      "Iteration: 183 | disc_loss: -1.391239047050476 | gen_loss: 0.023723315447568893\n",
      "Iteration: 184 | disc_loss: -1.3052550554275513 | gen_loss: -0.023352818563580513\n",
      "Iteration: 185 | disc_loss: -1.3830684423446655 | gen_loss: -0.015046903863549232\n",
      "Iteration: 186 | disc_loss: -1.4946658611297607 | gen_loss: -0.058188848197460175\n",
      "Iteration: 187 | disc_loss: -1.3374652862548828 | gen_loss: 0.1120273768901825\n"
     ]
    },
    {
     "name": "stderr",
     "output_type": "stream",
     "text": [
      "  4%|▍         | 193/5001 [00:09<03:28, 23.10it/s]"
     ]
    },
    {
     "name": "stdout",
     "output_type": "stream",
     "text": [
      "Iteration: 188 | disc_loss: -1.3960187435150146 | gen_loss: 0.00044213607907295227\n",
      "Iteration: 189 | disc_loss: -1.338621973991394 | gen_loss: 0.11272957921028137\n",
      "Iteration: 190 | disc_loss: -1.390062928199768 | gen_loss: 0.08942227065563202\n",
      "Iteration: 191 | disc_loss: -1.386971354484558 | gen_loss: 0.07189290225505829\n",
      "Iteration: 192 | disc_loss: -1.5173063278198242 | gen_loss: -0.17164549231529236\n"
     ]
    },
    {
     "name": "stderr",
     "output_type": "stream",
     "text": [
      "  4%|▍         | 199/5001 [00:10<03:18, 24.23it/s]"
     ]
    },
    {
     "name": "stdout",
     "output_type": "stream",
     "text": [
      "Iteration: 193 | disc_loss: -1.546999454498291 | gen_loss: 0.018528074026107788\n",
      "Iteration: 194 | disc_loss: -1.4022588729858398 | gen_loss: 0.17517885565757751\n",
      "Iteration: 195 | disc_loss: -1.3707550764083862 | gen_loss: 0.02095668390393257\n",
      "Iteration: 196 | disc_loss: -1.5364974737167358 | gen_loss: -0.09354481846094131\n",
      "Iteration: 197 | disc_loss: -1.664524793624878 | gen_loss: -0.29554831981658936\n",
      "Iteration: 198 | disc_loss: -1.4661340713500977 | gen_loss: 0.20004969835281372\n"
     ]
    },
    {
     "name": "stderr",
     "output_type": "stream",
     "text": [
      "  4%|▍         | 202/5001 [00:10<03:23, 23.59it/s]"
     ]
    },
    {
     "name": "stdout",
     "output_type": "stream",
     "text": [
      "Iteration: 199 | disc_loss: -1.3832132816314697 | gen_loss: 0.24059489369392395\n",
      "Iteration: 200 | disc_loss: -1.3203929662704468 | gen_loss: 0.17163020372390747\n",
      "Iteration: 201 | disc_loss: -1.4513344764709473 | gen_loss: -0.010662052780389786\n",
      "Iteration: 202 | disc_loss: -1.3182673454284668 | gen_loss: -0.3075524568557739\n",
      "Iteration: 203 | disc_loss: -1.0887922048568726 | gen_loss: -0.13379228115081787\n"
     ]
    },
    {
     "name": "stderr",
     "output_type": "stream",
     "text": [
      "  4%|▍         | 208/5001 [00:10<03:17, 24.25it/s]"
     ]
    },
    {
     "name": "stdout",
     "output_type": "stream",
     "text": [
      "Iteration: 204 | disc_loss: -1.445566177368164 | gen_loss: 0.02099754475057125\n",
      "Iteration: 205 | disc_loss: -1.3733820915222168 | gen_loss: 0.18669062852859497\n",
      "Iteration: 206 | disc_loss: -1.4051449298858643 | gen_loss: 0.132033109664917\n",
      "Iteration: 207 | disc_loss: -1.3903334140777588 | gen_loss: 0.0034384094178676605\n",
      "Iteration: 208 | disc_loss: -1.2357559204101562 | gen_loss: -0.048950374126434326\n",
      "Iteration: 209 | disc_loss: -1.4105461835861206 | gen_loss: 0.04528167098760605\n"
     ]
    },
    {
     "name": "stderr",
     "output_type": "stream",
     "text": [
      "  4%|▍         | 214/5001 [00:10<03:10, 25.07it/s]"
     ]
    },
    {
     "name": "stdout",
     "output_type": "stream",
     "text": [
      "Iteration: 210 | disc_loss: -1.3103946447372437 | gen_loss: 0.2455122321844101\n",
      "Iteration: 211 | disc_loss: -1.0530967712402344 | gen_loss: 0.21546106040477753\n",
      "Iteration: 212 | disc_loss: -1.3709214925765991 | gen_loss: 0.11841452121734619\n",
      "Iteration: 213 | disc_loss: -1.372087001800537 | gen_loss: 0.10048308223485947\n",
      "Iteration: 214 | disc_loss: -1.3596649169921875 | gen_loss: 0.07473263144493103\n",
      "Iteration: 215 | disc_loss: -1.4280970096588135 | gen_loss: -0.11333906650543213\n"
     ]
    },
    {
     "name": "stderr",
     "output_type": "stream",
     "text": [
      "  4%|▍         | 220/5001 [00:10<03:07, 25.49it/s]"
     ]
    },
    {
     "name": "stdout",
     "output_type": "stream",
     "text": [
      "Iteration: 216 | disc_loss: -1.4688374996185303 | gen_loss: -0.0037987418472766876\n",
      "Iteration: 217 | disc_loss: -1.513290286064148 | gen_loss: 0.125902459025383\n",
      "Iteration: 218 | disc_loss: -1.190382957458496 | gen_loss: 0.2558879852294922\n",
      "Iteration: 219 | disc_loss: -1.2755879163742065 | gen_loss: 0.18075108528137207\n",
      "Iteration: 220 | disc_loss: -1.3539063930511475 | gen_loss: 0.028112804517149925\n",
      "Iteration: 221 | disc_loss: -1.267661690711975 | gen_loss: 0.11905214190483093\n"
     ]
    },
    {
     "name": "stderr",
     "output_type": "stream",
     "text": [
      "  5%|▍         | 226/5001 [00:11<03:16, 24.36it/s]"
     ]
    },
    {
     "name": "stdout",
     "output_type": "stream",
     "text": [
      "Iteration: 222 | disc_loss: -1.331314206123352 | gen_loss: 0.1274593621492386\n",
      "Iteration: 223 | disc_loss: -1.4042142629623413 | gen_loss: 0.16368433833122253\n",
      "Iteration: 224 | disc_loss: -1.2520792484283447 | gen_loss: 0.10236753523349762\n",
      "Iteration: 225 | disc_loss: -1.3468878269195557 | gen_loss: 0.11919953674077988\n",
      "Iteration: 226 | disc_loss: -1.3105883598327637 | gen_loss: 0.0642903596162796\n"
     ]
    },
    {
     "name": "stderr",
     "output_type": "stream",
     "text": [
      "  5%|▍         | 232/5001 [00:11<03:08, 25.36it/s]"
     ]
    },
    {
     "name": "stdout",
     "output_type": "stream",
     "text": [
      "Iteration: 227 | disc_loss: -0.8791316747665405 | gen_loss: 0.0954567939043045\n",
      "Iteration: 228 | disc_loss: -1.3193094730377197 | gen_loss: 0.12316998839378357\n",
      "Iteration: 229 | disc_loss: -1.3022987842559814 | gen_loss: -0.06737001240253448\n",
      "Iteration: 230 | disc_loss: -1.3332178592681885 | gen_loss: -0.03190863877534866\n",
      "Iteration: 231 | disc_loss: -1.2289464473724365 | gen_loss: -0.03532205522060394\n",
      "Iteration: 232 | disc_loss: -1.073935866355896 | gen_loss: 0.047418419271707535\n"
     ]
    },
    {
     "name": "stderr",
     "output_type": "stream",
     "text": [
      "  5%|▍         | 238/5001 [00:11<03:05, 25.65it/s]"
     ]
    },
    {
     "name": "stdout",
     "output_type": "stream",
     "text": [
      "Iteration: 233 | disc_loss: -1.2649916410446167 | gen_loss: -0.10225748270750046\n",
      "Iteration: 234 | disc_loss: -1.32445228099823 | gen_loss: 0.22808708250522614\n",
      "Iteration: 235 | disc_loss: -1.4210315942764282 | gen_loss: 0.2573907673358917\n",
      "Iteration: 236 | disc_loss: -1.5525656938552856 | gen_loss: 0.06723958998918533\n",
      "Iteration: 237 | disc_loss: -1.2875607013702393 | gen_loss: 0.06936033070087433\n",
      "Iteration: 238 | disc_loss: -1.3138760328292847 | gen_loss: 0.1316467821598053\n"
     ]
    },
    {
     "name": "stderr",
     "output_type": "stream",
     "text": [
      "  5%|▍         | 241/5001 [00:11<03:05, 25.62it/s]"
     ]
    },
    {
     "name": "stdout",
     "output_type": "stream",
     "text": [
      "Iteration: 239 | disc_loss: -1.2529044151306152 | gen_loss: 0.06567667424678802\n",
      "Iteration: 240 | disc_loss: -1.0947604179382324 | gen_loss: 0.11319056898355484\n",
      "Iteration: 241 | disc_loss: -1.4199312925338745 | gen_loss: 0.11220818758010864\n",
      "Iteration: 242 | disc_loss: -1.3857351541519165 | gen_loss: 0.032070450484752655\n"
     ]
    },
    {
     "name": "stderr",
     "output_type": "stream",
     "text": [
      "  5%|▍         | 247/5001 [00:12<03:23, 23.31it/s]"
     ]
    },
    {
     "name": "stdout",
     "output_type": "stream",
     "text": [
      "Iteration: 243 | disc_loss: -1.2640055418014526 | gen_loss: -0.015034860000014305\n",
      "Iteration: 244 | disc_loss: -1.4271063804626465 | gen_loss: -0.027605317533016205\n",
      "Iteration: 245 | disc_loss: -1.321306824684143 | gen_loss: 0.23520734906196594\n",
      "Iteration: 246 | disc_loss: -1.3920903205871582 | gen_loss: 0.2437712848186493\n",
      "Iteration: 247 | disc_loss: -1.4066081047058105 | gen_loss: 0.13510149717330933\n",
      "Iteration: 248 | disc_loss: -1.1672935485839844 | gen_loss: 0.04787054285407066\n"
     ]
    },
    {
     "name": "stderr",
     "output_type": "stream",
     "text": [
      "  5%|▌         | 253/5001 [00:12<03:14, 24.44it/s]"
     ]
    },
    {
     "name": "stdout",
     "output_type": "stream",
     "text": [
      "Iteration: 249 | disc_loss: -1.3212456703186035 | gen_loss: 0.18061195313930511\n",
      "Iteration: 250 | disc_loss: -1.2824808359146118 | gen_loss: 0.13677065074443817\n",
      "Iteration: 251 | disc_loss: -1.0444782972335815 | gen_loss: 0.07732514292001724\n",
      "Iteration: 252 | disc_loss: -1.4175848960876465 | gen_loss: 0.14371642470359802\n",
      "Iteration: 253 | disc_loss: -1.3409419059753418 | gen_loss: 0.06863327324390411\n",
      "Iteration: 254 | disc_loss: -1.2024939060211182 | gen_loss: 0.055462490767240524\n"
     ]
    },
    {
     "name": "stderr",
     "output_type": "stream",
     "text": [
      "  5%|▌         | 259/5001 [00:12<03:08, 25.12it/s]"
     ]
    },
    {
     "name": "stdout",
     "output_type": "stream",
     "text": [
      "Iteration: 255 | disc_loss: -1.1143670082092285 | gen_loss: 0.036675404757261276\n",
      "Iteration: 256 | disc_loss: -1.309453010559082 | gen_loss: 0.04208845645189285\n",
      "Iteration: 257 | disc_loss: -1.3843104839324951 | gen_loss: -0.13279758393764496\n",
      "Iteration: 258 | disc_loss: -1.348315954208374 | gen_loss: -0.017787378281354904\n",
      "Iteration: 259 | disc_loss: -1.275200605392456 | gen_loss: 0.062014251947402954\n",
      "Iteration: 260 | disc_loss: -1.276991367340088 | gen_loss: 0.11689470708370209\n"
     ]
    },
    {
     "name": "stderr",
     "output_type": "stream",
     "text": [
      "  5%|▌         | 265/5001 [00:12<03:05, 25.56it/s]"
     ]
    },
    {
     "name": "stdout",
     "output_type": "stream",
     "text": [
      "Iteration: 261 | disc_loss: -1.317537784576416 | gen_loss: 0.012209372594952583\n",
      "Iteration: 262 | disc_loss: -1.3490004539489746 | gen_loss: -0.11961724609136581\n",
      "Iteration: 263 | disc_loss: -1.4146606922149658 | gen_loss: -0.10420115292072296\n",
      "Iteration: 264 | disc_loss: -1.180194616317749 | gen_loss: -0.17857083678245544\n",
      "Iteration: 265 | disc_loss: -1.2496618032455444 | gen_loss: 0.11906877160072327\n",
      "Iteration: 266 | disc_loss: -1.3025131225585938 | gen_loss: 0.0901767760515213\n"
     ]
    },
    {
     "name": "stderr",
     "output_type": "stream",
     "text": [
      "  5%|▌         | 271/5001 [00:12<03:01, 26.09it/s]"
     ]
    },
    {
     "name": "stdout",
     "output_type": "stream",
     "text": [
      "Iteration: 267 | disc_loss: -1.5020068883895874 | gen_loss: 0.08067081868648529\n",
      "Iteration: 268 | disc_loss: -1.1925517320632935 | gen_loss: 0.20831447839736938\n",
      "Iteration: 269 | disc_loss: -1.3913695812225342 | gen_loss: 0.1593635380268097\n",
      "Iteration: 270 | disc_loss: -1.3408839702606201 | gen_loss: 0.06965591758489609\n",
      "Iteration: 271 | disc_loss: -1.330600380897522 | gen_loss: 0.21310459077358246\n",
      "Iteration: 272 | disc_loss: -1.3316680192947388 | gen_loss: 0.16785772144794464\n"
     ]
    },
    {
     "name": "stderr",
     "output_type": "stream",
     "text": [
      "  6%|▌         | 277/5001 [00:13<03:09, 24.88it/s]"
     ]
    },
    {
     "name": "stdout",
     "output_type": "stream",
     "text": [
      "Iteration: 273 | disc_loss: -1.426241159439087 | gen_loss: 0.014414042234420776\n",
      "Iteration: 274 | disc_loss: -1.40095853805542 | gen_loss: 0.07883059978485107\n",
      "Iteration: 275 | disc_loss: -1.232192039489746 | gen_loss: 0.20825055241584778\n",
      "Iteration: 276 | disc_loss: -1.1638054847717285 | gen_loss: 0.12764066457748413\n",
      "Iteration: 277 | disc_loss: -1.2584123611450195 | gen_loss: -0.08051411062479019\n"
     ]
    },
    {
     "name": "stderr",
     "output_type": "stream",
     "text": [
      "  6%|▌         | 283/5001 [00:13<03:06, 25.31it/s]"
     ]
    },
    {
     "name": "stdout",
     "output_type": "stream",
     "text": [
      "Iteration: 278 | disc_loss: -1.2619702816009521 | gen_loss: -0.09872869402170181\n",
      "Iteration: 279 | disc_loss: -1.33346688747406 | gen_loss: 0.022194141522049904\n",
      "Iteration: 280 | disc_loss: -1.0644115209579468 | gen_loss: 0.10080169141292572\n",
      "Iteration: 281 | disc_loss: -1.2430850267410278 | gen_loss: 0.06496484577655792\n",
      "Iteration: 282 | disc_loss: -1.2198604345321655 | gen_loss: 0.025173179805278778\n",
      "Iteration: 283 | disc_loss: -1.2685613632202148 | gen_loss: 0.03156318888068199\n"
     ]
    },
    {
     "name": "stderr",
     "output_type": "stream",
     "text": [
      "  6%|▌         | 289/5001 [00:13<03:07, 25.18it/s]"
     ]
    },
    {
     "name": "stdout",
     "output_type": "stream",
     "text": [
      "Iteration: 284 | disc_loss: -1.429621934890747 | gen_loss: -0.382012277841568\n",
      "Iteration: 285 | disc_loss: -1.1151248216629028 | gen_loss: -0.01929588057100773\n",
      "Iteration: 286 | disc_loss: -1.4912643432617188 | gen_loss: -0.2629185616970062\n",
      "Iteration: 287 | disc_loss: -0.877662181854248 | gen_loss: 0.08842828869819641\n",
      "Iteration: 288 | disc_loss: -1.1149845123291016 | gen_loss: -0.0015559569001197815\n",
      "Iteration: 289 | disc_loss: -1.0493788719177246 | gen_loss: 0.1226455345749855\n"
     ]
    },
    {
     "name": "stderr",
     "output_type": "stream",
     "text": [
      "  6%|▌         | 295/5001 [00:13<03:03, 25.66it/s]"
     ]
    },
    {
     "name": "stdout",
     "output_type": "stream",
     "text": [
      "Iteration: 290 | disc_loss: -1.2732737064361572 | gen_loss: 0.07246601581573486\n",
      "Iteration: 291 | disc_loss: -1.1913491487503052 | gen_loss: -0.013079160824418068\n",
      "Iteration: 292 | disc_loss: -1.2576121091842651 | gen_loss: 0.1069384515285492\n",
      "Iteration: 293 | disc_loss: -1.21205472946167 | gen_loss: 0.10540995001792908\n",
      "Iteration: 294 | disc_loss: -1.2780245542526245 | gen_loss: 0.09031365066766739\n",
      "Iteration: 295 | disc_loss: -1.116593360900879 | gen_loss: 0.08839091658592224\n"
     ]
    },
    {
     "name": "stderr",
     "output_type": "stream",
     "text": [
      "  6%|▌         | 301/5001 [00:14<03:01, 25.85it/s]"
     ]
    },
    {
     "name": "stdout",
     "output_type": "stream",
     "text": [
      "Iteration: 296 | disc_loss: -1.3854705095291138 | gen_loss: -0.02203214168548584\n",
      "Iteration: 297 | disc_loss: -1.109909176826477 | gen_loss: 0.21722853183746338\n",
      "Iteration: 298 | disc_loss: -1.2317848205566406 | gen_loss: 0.14047019183635712\n",
      "Iteration: 299 | disc_loss: -1.3141793012619019 | gen_loss: 0.007653025910258293\n",
      "Iteration: 300 | disc_loss: -1.1226415634155273 | gen_loss: 0.16274665296077728\n",
      "Iteration: 301 | disc_loss: -1.2619291543960571 | gen_loss: 0.046715736389160156\n"
     ]
    },
    {
     "name": "stderr",
     "output_type": "stream",
     "text": [
      "  6%|▌         | 307/5001 [00:14<03:01, 25.91it/s]"
     ]
    },
    {
     "name": "stdout",
     "output_type": "stream",
     "text": [
      "Iteration: 302 | disc_loss: -1.4395512342453003 | gen_loss: -0.22077572345733643\n",
      "Iteration: 303 | disc_loss: -1.2654898166656494 | gen_loss: -0.07737304270267487\n",
      "Iteration: 304 | disc_loss: -0.9949713349342346 | gen_loss: 0.19888263940811157\n",
      "Iteration: 305 | disc_loss: -1.3254038095474243 | gen_loss: 0.2709530293941498\n",
      "Iteration: 306 | disc_loss: -1.2881406545639038 | gen_loss: 0.2361682504415512\n",
      "Iteration: 307 | disc_loss: -1.2955299615859985 | gen_loss: 0.13730135560035706\n"
     ]
    },
    {
     "name": "stderr",
     "output_type": "stream",
     "text": [
      "  6%|▋         | 313/5001 [00:14<03:04, 25.47it/s]"
     ]
    },
    {
     "name": "stdout",
     "output_type": "stream",
     "text": [
      "Iteration: 308 | disc_loss: -1.3676351308822632 | gen_loss: 0.052321065217256546\n",
      "Iteration: 309 | disc_loss: -1.2717468738555908 | gen_loss: 0.21323707699775696\n",
      "Iteration: 310 | disc_loss: -1.205484390258789 | gen_loss: 0.17615599930286407\n",
      "Iteration: 311 | disc_loss: -1.2101716995239258 | gen_loss: 0.12618719041347504\n",
      "Iteration: 312 | disc_loss: -1.2436479330062866 | gen_loss: 0.15262380242347717\n",
      "Iteration: 313 | disc_loss: -1.2491401433944702 | gen_loss: 0.25169289112091064\n"
     ]
    },
    {
     "name": "stderr",
     "output_type": "stream",
     "text": [
      "  6%|▋         | 319/5001 [00:14<03:02, 25.62it/s]"
     ]
    },
    {
     "name": "stdout",
     "output_type": "stream",
     "text": [
      "Iteration: 314 | disc_loss: -1.2678029537200928 | gen_loss: 0.041465699672698975\n",
      "Iteration: 315 | disc_loss: -1.2955753803253174 | gen_loss: 0.03745228052139282\n",
      "Iteration: 316 | disc_loss: -1.2991976737976074 | gen_loss: 0.055278483778238297\n",
      "Iteration: 317 | disc_loss: -1.2598528861999512 | gen_loss: -0.03943469002842903\n",
      "Iteration: 318 | disc_loss: -1.2550873756408691 | gen_loss: 0.08087721467018127\n",
      "Iteration: 319 | disc_loss: -1.2104967832565308 | gen_loss: -0.09302635490894318\n"
     ]
    },
    {
     "name": "stderr",
     "output_type": "stream",
     "text": [
      "  6%|▋         | 325/5001 [00:15<03:01, 25.82it/s]"
     ]
    },
    {
     "name": "stdout",
     "output_type": "stream",
     "text": [
      "Iteration: 320 | disc_loss: -1.2338131666183472 | gen_loss: -0.028175586834549904\n",
      "Iteration: 321 | disc_loss: -1.4236665964126587 | gen_loss: -0.16786079108715057\n",
      "Iteration: 322 | disc_loss: -1.3565752506256104 | gen_loss: -0.059878621250391006\n",
      "Iteration: 323 | disc_loss: -1.3407894372940063 | gen_loss: -0.053521495312452316\n",
      "Iteration: 324 | disc_loss: -1.140341877937317 | gen_loss: -0.20878173410892487\n",
      "Iteration: 325 | disc_loss: -1.6226563453674316 | gen_loss: -0.33545246720314026\n"
     ]
    },
    {
     "name": "stderr",
     "output_type": "stream",
     "text": [
      "  7%|▋         | 331/5001 [00:15<02:59, 25.97it/s]"
     ]
    },
    {
     "name": "stdout",
     "output_type": "stream",
     "text": [
      "Iteration: 326 | disc_loss: -0.8658133745193481 | gen_loss: 0.14369475841522217\n",
      "Iteration: 327 | disc_loss: -1.2159011363983154 | gen_loss: 0.22973570227622986\n",
      "Iteration: 328 | disc_loss: -0.9702228307723999 | gen_loss: 0.19322431087493896\n",
      "Iteration: 329 | disc_loss: -1.2649195194244385 | gen_loss: 0.03620487451553345\n",
      "Iteration: 330 | disc_loss: -1.0767830610275269 | gen_loss: 0.1193510890007019\n",
      "Iteration: 331 | disc_loss: -1.1181730031967163 | gen_loss: 0.1978057324886322\n"
     ]
    },
    {
     "name": "stderr",
     "output_type": "stream",
     "text": [
      "  7%|▋         | 337/5001 [00:15<03:02, 25.56it/s]"
     ]
    },
    {
     "name": "stdout",
     "output_type": "stream",
     "text": [
      "Iteration: 332 | disc_loss: -1.2428408861160278 | gen_loss: -0.3683980703353882\n",
      "Iteration: 333 | disc_loss: -1.1439844369888306 | gen_loss: 0.018665261566638947\n",
      "Iteration: 334 | disc_loss: -1.368399739265442 | gen_loss: 0.049727074801921844\n",
      "Iteration: 335 | disc_loss: -1.2816280126571655 | gen_loss: -0.01890743523836136\n",
      "Iteration: 336 | disc_loss: -1.3074572086334229 | gen_loss: -0.02593214437365532\n",
      "Iteration: 337 | disc_loss: -0.8473542928695679 | gen_loss: 0.1372326910495758\n"
     ]
    },
    {
     "name": "stderr",
     "output_type": "stream",
     "text": [
      "  7%|▋         | 343/5001 [00:15<03:02, 25.59it/s]"
     ]
    },
    {
     "name": "stdout",
     "output_type": "stream",
     "text": [
      "Iteration: 338 | disc_loss: -1.2331500053405762 | gen_loss: 0.08811571449041367\n",
      "Iteration: 339 | disc_loss: -1.382023811340332 | gen_loss: -0.04172459989786148\n",
      "Iteration: 340 | disc_loss: -1.2572919130325317 | gen_loss: -0.7519400715827942\n",
      "Iteration: 341 | disc_loss: -1.480887770652771 | gen_loss: -0.4839933216571808\n",
      "Iteration: 342 | disc_loss: -0.01413378119468689 | gen_loss: -0.40311068296432495\n",
      "Iteration: 343 | disc_loss: -1.1990472078323364 | gen_loss: 0.1812463402748108\n"
     ]
    },
    {
     "name": "stderr",
     "output_type": "stream",
     "text": [
      "  7%|▋         | 349/5001 [00:15<03:02, 25.55it/s]"
     ]
    },
    {
     "name": "stdout",
     "output_type": "stream",
     "text": [
      "Iteration: 344 | disc_loss: -1.048799991607666 | gen_loss: 0.16075552999973297\n",
      "Iteration: 345 | disc_loss: -1.3631819486618042 | gen_loss: 0.20407837629318237\n",
      "Iteration: 346 | disc_loss: -1.1525377035140991 | gen_loss: 0.1638503074645996\n",
      "Iteration: 347 | disc_loss: -1.6263188123703003 | gen_loss: 0.3463028371334076\n",
      "Iteration: 348 | disc_loss: -1.4547477960586548 | gen_loss: 0.4621187448501587\n",
      "Iteration: 349 | disc_loss: -1.0709031820297241 | gen_loss: 0.41614383459091187\n"
     ]
    },
    {
     "name": "stderr",
     "output_type": "stream",
     "text": [
      "  7%|▋         | 355/5001 [00:16<02:59, 25.89it/s]"
     ]
    },
    {
     "name": "stdout",
     "output_type": "stream",
     "text": [
      "Iteration: 350 | disc_loss: -0.8759246468544006 | gen_loss: 0.1277557611465454\n",
      "Iteration: 351 | disc_loss: -1.259580135345459 | gen_loss: -0.03513820096850395\n",
      "Iteration: 352 | disc_loss: -1.3683710098266602 | gen_loss: 0.0459359809756279\n",
      "Iteration: 353 | disc_loss: -1.0558480024337769 | gen_loss: 0.2172207236289978\n",
      "Iteration: 354 | disc_loss: -1.177159070968628 | gen_loss: -0.01061631552875042\n",
      "Iteration: 355 | disc_loss: -1.1846376657485962 | gen_loss: -0.4290609359741211\n"
     ]
    },
    {
     "name": "stderr",
     "output_type": "stream",
     "text": [
      "  7%|▋         | 361/5001 [00:16<03:01, 25.58it/s]"
     ]
    },
    {
     "name": "stdout",
     "output_type": "stream",
     "text": [
      "Iteration: 356 | disc_loss: -1.1106306314468384 | gen_loss: -0.11165747046470642\n",
      "Iteration: 357 | disc_loss: -0.9432302117347717 | gen_loss: 0.02665920928120613\n",
      "Iteration: 358 | disc_loss: -1.0825732946395874 | gen_loss: 0.0283796489238739\n",
      "Iteration: 359 | disc_loss: -1.2955725193023682 | gen_loss: -0.22106564044952393\n",
      "Iteration: 360 | disc_loss: -1.426926612854004 | gen_loss: -0.4765534996986389\n",
      "Iteration: 361 | disc_loss: -1.2927321195602417 | gen_loss: -0.4249250590801239\n"
     ]
    },
    {
     "name": "stderr",
     "output_type": "stream",
     "text": [
      "  7%|▋         | 367/5001 [00:16<03:10, 24.37it/s]"
     ]
    },
    {
     "name": "stdout",
     "output_type": "stream",
     "text": [
      "Iteration: 362 | disc_loss: -1.171485185623169 | gen_loss: 0.06936340034008026\n",
      "Iteration: 363 | disc_loss: -1.1017483472824097 | gen_loss: 0.06542454659938812\n",
      "Iteration: 364 | disc_loss: -0.9940170049667358 | gen_loss: 0.09359724819660187\n",
      "Iteration: 365 | disc_loss: -1.1780726909637451 | gen_loss: 0.12011897563934326\n",
      "Iteration: 366 | disc_loss: -1.0463517904281616 | gen_loss: 0.7299093008041382\n"
     ]
    },
    {
     "name": "stderr",
     "output_type": "stream",
     "text": [
      "  7%|▋         | 370/5001 [00:16<03:10, 24.36it/s]"
     ]
    },
    {
     "name": "stdout",
     "output_type": "stream",
     "text": [
      "Iteration: 367 | disc_loss: -1.0548605918884277 | gen_loss: 0.2771848142147064\n",
      "Iteration: 368 | disc_loss: -1.1511201858520508 | gen_loss: 0.19601255655288696\n",
      "Iteration: 369 | disc_loss: -1.2312674522399902 | gen_loss: 0.09332594275474548\n",
      "Iteration: 370 | disc_loss: -1.2151039838790894 | gen_loss: 0.012837493792176247\n",
      "Iteration: 371 | disc_loss: -1.141041874885559 | gen_loss: 0.11490049958229065\n"
     ]
    },
    {
     "name": "stderr",
     "output_type": "stream",
     "text": [
      "  8%|▊         | 376/5001 [00:17<03:08, 24.47it/s]"
     ]
    },
    {
     "name": "stdout",
     "output_type": "stream",
     "text": [
      "Iteration: 372 | disc_loss: -1.2427079677581787 | gen_loss: 0.07853186875581741\n",
      "Iteration: 373 | disc_loss: -1.2251112461090088 | gen_loss: 0.01042113546282053\n",
      "Iteration: 374 | disc_loss: -1.1546237468719482 | gen_loss: -0.029083743691444397\n",
      "Iteration: 375 | disc_loss: -1.2839969396591187 | gen_loss: -0.039846472442150116\n",
      "Iteration: 376 | disc_loss: -1.0932846069335938 | gen_loss: 0.12995469570159912\n",
      "Iteration: 377 | disc_loss: -1.240338683128357 | gen_loss: -0.6889002323150635\n"
     ]
    },
    {
     "name": "stderr",
     "output_type": "stream",
     "text": [
      "  8%|▊         | 382/5001 [00:17<03:03, 25.14it/s]"
     ]
    },
    {
     "name": "stdout",
     "output_type": "stream",
     "text": [
      "Iteration: 378 | disc_loss: -1.1818023920059204 | gen_loss: -0.037543006241321564\n",
      "Iteration: 379 | disc_loss: -1.1061238050460815 | gen_loss: -0.15157511830329895\n",
      "Iteration: 380 | disc_loss: -0.7803850769996643 | gen_loss: -0.12883836030960083\n",
      "Iteration: 381 | disc_loss: -1.1712470054626465 | gen_loss: 0.2706473767757416\n",
      "Iteration: 382 | disc_loss: -1.1184452772140503 | gen_loss: 0.04132243990898132\n",
      "Iteration: 383 | disc_loss: -1.1163684129714966 | gen_loss: 0.1472727507352829\n"
     ]
    },
    {
     "name": "stderr",
     "output_type": "stream",
     "text": [
      "  8%|▊         | 388/5001 [00:17<03:00, 25.50it/s]"
     ]
    },
    {
     "name": "stdout",
     "output_type": "stream",
     "text": [
      "Iteration: 384 | disc_loss: -1.181991457939148 | gen_loss: 0.05106113851070404\n",
      "Iteration: 385 | disc_loss: -1.1946078538894653 | gen_loss: 0.14290636777877808\n",
      "Iteration: 386 | disc_loss: -1.2259268760681152 | gen_loss: 0.15560747683048248\n",
      "Iteration: 387 | disc_loss: -1.180550456047058 | gen_loss: 0.12292315065860748\n",
      "Iteration: 388 | disc_loss: -1.2614632844924927 | gen_loss: 0.5554700493812561\n",
      "Iteration: 389 | disc_loss: -1.235855221748352 | gen_loss: 0.18569132685661316\n"
     ]
    },
    {
     "name": "stderr",
     "output_type": "stream",
     "text": [
      "  8%|▊         | 394/5001 [00:17<02:55, 26.20it/s]"
     ]
    },
    {
     "name": "stdout",
     "output_type": "stream",
     "text": [
      "Iteration: 390 | disc_loss: -1.194105863571167 | gen_loss: 0.0025218892842531204\n",
      "Iteration: 391 | disc_loss: -1.177135944366455 | gen_loss: 0.20344266295433044\n",
      "Iteration: 392 | disc_loss: -1.1826415061950684 | gen_loss: 0.0693194717168808\n",
      "Iteration: 393 | disc_loss: -1.1854649782180786 | gen_loss: -0.0923449769616127\n",
      "Iteration: 394 | disc_loss: -1.168338656425476 | gen_loss: 0.1280726194381714\n",
      "Iteration: 395 | disc_loss: -1.1567800045013428 | gen_loss: 0.11205954849720001\n"
     ]
    },
    {
     "name": "stderr",
     "output_type": "stream",
     "text": [
      "  8%|▊         | 400/5001 [00:17<02:53, 26.55it/s]"
     ]
    },
    {
     "name": "stdout",
     "output_type": "stream",
     "text": [
      "Iteration: 396 | disc_loss: -1.1912921667099 | gen_loss: -0.11592511832714081\n",
      "Iteration: 397 | disc_loss: -0.9371040463447571 | gen_loss: 0.1100592315196991\n",
      "Iteration: 398 | disc_loss: -1.126396894454956 | gen_loss: -0.0124584399163723\n",
      "Iteration: 399 | disc_loss: -0.7949237823486328 | gen_loss: -0.3050905764102936\n",
      "Iteration: 400 | disc_loss: -1.321424961090088 | gen_loss: 0.10793079435825348\n"
     ]
    },
    {
     "name": "stderr",
     "output_type": "stream",
     "text": [
      "  8%|▊         | 406/5001 [00:18<03:07, 24.53it/s]"
     ]
    },
    {
     "name": "stdout",
     "output_type": "stream",
     "text": [
      "Iteration: 401 | disc_loss: -1.1250439882278442 | gen_loss: 0.06945411115884781\n",
      "Iteration: 402 | disc_loss: -1.10134756565094 | gen_loss: -0.040966108441352844\n",
      "Iteration: 403 | disc_loss: -1.274065613746643 | gen_loss: -0.006306495517492294\n",
      "Iteration: 404 | disc_loss: -0.9490538239479065 | gen_loss: -0.05803145840764046\n",
      "Iteration: 405 | disc_loss: -0.9914550185203552 | gen_loss: 0.023683227598667145\n",
      "Iteration: 406 | disc_loss: -1.1023714542388916 | gen_loss: 0.019862964749336243\n"
     ]
    },
    {
     "name": "stderr",
     "output_type": "stream",
     "text": [
      "  8%|▊         | 412/5001 [00:18<03:00, 25.37it/s]"
     ]
    },
    {
     "name": "stdout",
     "output_type": "stream",
     "text": [
      "Iteration: 407 | disc_loss: -1.2165248394012451 | gen_loss: -0.08123231679201126\n",
      "Iteration: 408 | disc_loss: -1.1810935735702515 | gen_loss: 0.5612017512321472\n",
      "Iteration: 409 | disc_loss: -1.2758270502090454 | gen_loss: 0.3936069905757904\n",
      "Iteration: 410 | disc_loss: -0.9923206567764282 | gen_loss: 0.23639845848083496\n",
      "Iteration: 411 | disc_loss: -0.9314640164375305 | gen_loss: 0.24430614709854126\n",
      "Iteration: 412 | disc_loss: -1.1442790031433105 | gen_loss: -0.05949864163994789\n"
     ]
    },
    {
     "name": "stderr",
     "output_type": "stream",
     "text": [
      "  8%|▊         | 418/5001 [00:18<02:54, 26.28it/s]"
     ]
    },
    {
     "name": "stdout",
     "output_type": "stream",
     "text": [
      "Iteration: 413 | disc_loss: -1.0562827587127686 | gen_loss: -0.1255902349948883\n",
      "Iteration: 414 | disc_loss: -0.957422137260437 | gen_loss: 0.08492175489664078\n",
      "Iteration: 415 | disc_loss: -1.1424506902694702 | gen_loss: -0.0048039257526397705\n",
      "Iteration: 416 | disc_loss: -1.0993123054504395 | gen_loss: -0.1631130576133728\n",
      "Iteration: 417 | disc_loss: -1.0366706848144531 | gen_loss: 0.03973143547773361\n",
      "Iteration: 418 | disc_loss: -1.0835260152816772 | gen_loss: -0.13844022154808044\n"
     ]
    },
    {
     "name": "stderr",
     "output_type": "stream",
     "text": [
      "  8%|▊         | 424/5001 [00:18<02:53, 26.43it/s]"
     ]
    },
    {
     "name": "stdout",
     "output_type": "stream",
     "text": [
      "Iteration: 419 | disc_loss: -1.0874712467193604 | gen_loss: -0.18642041087150574\n",
      "Iteration: 420 | disc_loss: -1.1529839038848877 | gen_loss: 0.04435029253363609\n",
      "Iteration: 421 | disc_loss: -1.1484655141830444 | gen_loss: -0.022752191871404648\n",
      "Iteration: 422 | disc_loss: -0.9973652958869934 | gen_loss: 0.04064632207155228\n",
      "Iteration: 423 | disc_loss: -0.9965602159500122 | gen_loss: 0.07110323756933212\n",
      "Iteration: 424 | disc_loss: -1.1622669696807861 | gen_loss: 0.0506974533200264\n"
     ]
    },
    {
     "name": "stderr",
     "output_type": "stream",
     "text": [
      "  9%|▊         | 430/5001 [00:19<02:55, 26.01it/s]"
     ]
    },
    {
     "name": "stdout",
     "output_type": "stream",
     "text": [
      "Iteration: 425 | disc_loss: -1.0723397731781006 | gen_loss: -0.07673325389623642\n",
      "Iteration: 426 | disc_loss: -1.0877716541290283 | gen_loss: 0.09283071011304855\n",
      "Iteration: 427 | disc_loss: -1.1801201105117798 | gen_loss: -0.2669793665409088\n",
      "Iteration: 428 | disc_loss: -1.2783621549606323 | gen_loss: -0.10542288422584534\n",
      "Iteration: 429 | disc_loss: -1.2184696197509766 | gen_loss: -0.48682233691215515\n",
      "Iteration: 430 | disc_loss: -0.8667290210723877 | gen_loss: -0.2667660117149353\n"
     ]
    },
    {
     "name": "stderr",
     "output_type": "stream",
     "text": [
      "  9%|▊         | 436/5001 [00:19<02:55, 26.06it/s]"
     ]
    },
    {
     "name": "stdout",
     "output_type": "stream",
     "text": [
      "Iteration: 431 | disc_loss: -0.9936519861221313 | gen_loss: 0.008742976933717728\n",
      "Iteration: 432 | disc_loss: -1.2759467363357544 | gen_loss: 0.6083358526229858\n",
      "Iteration: 433 | disc_loss: -0.7803539037704468 | gen_loss: 0.12575176358222961\n",
      "Iteration: 434 | disc_loss: -1.0804747343063354 | gen_loss: 0.22850573062896729\n",
      "Iteration: 435 | disc_loss: -1.1721678972244263 | gen_loss: 0.2864958941936493\n",
      "Iteration: 436 | disc_loss: -1.32278311252594 | gen_loss: 0.06011940538883209\n"
     ]
    },
    {
     "name": "stderr",
     "output_type": "stream",
     "text": [
      "  9%|▉         | 442/5001 [00:19<02:54, 26.13it/s]"
     ]
    },
    {
     "name": "stdout",
     "output_type": "stream",
     "text": [
      "Iteration: 437 | disc_loss: -1.377790927886963 | gen_loss: 0.5694525241851807\n",
      "Iteration: 438 | disc_loss: -0.8711650967597961 | gen_loss: 0.12080744653940201\n",
      "Iteration: 439 | disc_loss: -0.9476184248924255 | gen_loss: 0.37268730998039246\n",
      "Iteration: 440 | disc_loss: -1.0654308795928955 | gen_loss: -0.1367553323507309\n",
      "Iteration: 441 | disc_loss: -1.1174204349517822 | gen_loss: 0.34668803215026855\n",
      "Iteration: 442 | disc_loss: -1.0364558696746826 | gen_loss: 0.06354085355997086\n"
     ]
    },
    {
     "name": "stderr",
     "output_type": "stream",
     "text": [
      "  9%|▉         | 448/5001 [00:19<02:57, 25.60it/s]"
     ]
    },
    {
     "name": "stdout",
     "output_type": "stream",
     "text": [
      "Iteration: 443 | disc_loss: -1.033557653427124 | gen_loss: 0.33602386713027954\n",
      "Iteration: 444 | disc_loss: -0.9082707166671753 | gen_loss: 0.11175448447465897\n",
      "Iteration: 445 | disc_loss: -1.1517696380615234 | gen_loss: -0.02858404815196991\n",
      "Iteration: 446 | disc_loss: -1.176720380783081 | gen_loss: -0.007921755313873291\n",
      "Iteration: 447 | disc_loss: -1.0549609661102295 | gen_loss: -0.20825621485710144\n",
      "Iteration: 448 | disc_loss: -1.0888481140136719 | gen_loss: 0.05863213911652565\n"
     ]
    },
    {
     "name": "stderr",
     "output_type": "stream",
     "text": [
      "  9%|▉         | 454/5001 [00:20<02:59, 25.34it/s]"
     ]
    },
    {
     "name": "stdout",
     "output_type": "stream",
     "text": [
      "Iteration: 449 | disc_loss: -0.9269627928733826 | gen_loss: 0.029547356069087982\n",
      "Iteration: 450 | disc_loss: -1.1897019147872925 | gen_loss: -0.01812085509300232\n",
      "Iteration: 451 | disc_loss: -1.2323648929595947 | gen_loss: -0.7365232110023499\n",
      "Iteration: 452 | disc_loss: -1.053045630455017 | gen_loss: -0.07608669996261597\n",
      "Iteration: 453 | disc_loss: -1.0369800329208374 | gen_loss: -0.3802613615989685\n",
      "Iteration: 454 | disc_loss: -1.037527084350586 | gen_loss: -0.31203845143318176\n"
     ]
    },
    {
     "name": "stderr",
     "output_type": "stream",
     "text": [
      "  9%|▉         | 460/5001 [00:20<02:58, 25.46it/s]"
     ]
    },
    {
     "name": "stdout",
     "output_type": "stream",
     "text": [
      "Iteration: 455 | disc_loss: -1.4044183492660522 | gen_loss: -1.5179400444030762\n",
      "Iteration: 456 | disc_loss: -1.3802520036697388 | gen_loss: -0.22099241614341736\n",
      "Iteration: 457 | disc_loss: -0.5694388747215271 | gen_loss: -0.25120478868484497\n",
      "Iteration: 458 | disc_loss: -0.9879150390625 | gen_loss: 0.4783055782318115\n",
      "Iteration: 459 | disc_loss: -0.9113064408302307 | gen_loss: 0.12151706963777542\n",
      "Iteration: 460 | disc_loss: -2.0411176681518555 | gen_loss: 0.7951656579971313\n"
     ]
    },
    {
     "name": "stderr",
     "output_type": "stream",
     "text": [
      "  9%|▉         | 466/5001 [00:20<03:00, 25.09it/s]"
     ]
    },
    {
     "name": "stdout",
     "output_type": "stream",
     "text": [
      "Iteration: 461 | disc_loss: -0.8275524377822876 | gen_loss: 1.054790735244751\n",
      "Iteration: 462 | disc_loss: -1.3711800575256348 | gen_loss: 0.5707340240478516\n",
      "Iteration: 463 | disc_loss: -1.2119721174240112 | gen_loss: 0.5411161184310913\n",
      "Iteration: 464 | disc_loss: -0.9872646927833557 | gen_loss: 0.513078510761261\n",
      "Iteration: 465 | disc_loss: -0.8145126104354858 | gen_loss: 0.6966763734817505\n",
      "Iteration: 466 | disc_loss: -0.6881576180458069 | gen_loss: 0.42407137155532837\n"
     ]
    },
    {
     "name": "stderr",
     "output_type": "stream",
     "text": [
      "  9%|▉         | 472/5001 [00:20<02:58, 25.34it/s]"
     ]
    },
    {
     "name": "stdout",
     "output_type": "stream",
     "text": [
      "Iteration: 467 | disc_loss: -1.0398705005645752 | gen_loss: 0.029005538672208786\n",
      "Iteration: 468 | disc_loss: -1.0333678722381592 | gen_loss: 0.011481072753667831\n",
      "Iteration: 469 | disc_loss: -1.015303134918213 | gen_loss: 0.21528054773807526\n",
      "Iteration: 470 | disc_loss: -1.1309146881103516 | gen_loss: 0.03286248445510864\n",
      "Iteration: 471 | disc_loss: -1.1516799926757812 | gen_loss: 0.042831599712371826\n",
      "Iteration: 472 | disc_loss: -1.172973871231079 | gen_loss: 0.19505636394023895\n"
     ]
    },
    {
     "name": "stderr",
     "output_type": "stream",
     "text": [
      " 10%|▉         | 478/5001 [00:21<02:54, 25.99it/s]"
     ]
    },
    {
     "name": "stdout",
     "output_type": "stream",
     "text": [
      "Iteration: 473 | disc_loss: -0.9632903337478638 | gen_loss: 0.16868239641189575\n",
      "Iteration: 474 | disc_loss: -1.1861608028411865 | gen_loss: 0.001753954216837883\n",
      "Iteration: 475 | disc_loss: -0.8862640857696533 | gen_loss: -0.018501583486795425\n",
      "Iteration: 476 | disc_loss: -0.962944746017456 | gen_loss: 0.06441153585910797\n",
      "Iteration: 477 | disc_loss: -1.0605109930038452 | gen_loss: -0.10109379887580872\n",
      "Iteration: 478 | disc_loss: -0.9392896890640259 | gen_loss: -0.12551668286323547\n"
     ]
    },
    {
     "name": "stderr",
     "output_type": "stream",
     "text": [
      " 10%|▉         | 484/5001 [00:21<02:54, 25.93it/s]"
     ]
    },
    {
     "name": "stdout",
     "output_type": "stream",
     "text": [
      "Iteration: 479 | disc_loss: -1.0936912298202515 | gen_loss: 0.027524052187800407\n",
      "Iteration: 480 | disc_loss: -1.1509594917297363 | gen_loss: 0.11959519982337952\n",
      "Iteration: 481 | disc_loss: -1.0792226791381836 | gen_loss: 0.03003714233636856\n",
      "Iteration: 482 | disc_loss: -0.9681735038757324 | gen_loss: 0.016259614378213882\n",
      "Iteration: 483 | disc_loss: -1.0152218341827393 | gen_loss: -0.030386213213205338\n",
      "Iteration: 484 | disc_loss: -1.081133484840393 | gen_loss: -0.1091436892747879\n"
     ]
    },
    {
     "name": "stderr",
     "output_type": "stream",
     "text": [
      " 10%|▉         | 490/5001 [00:21<03:04, 24.48it/s]"
     ]
    },
    {
     "name": "stdout",
     "output_type": "stream",
     "text": [
      "Iteration: 485 | disc_loss: -1.1839076280593872 | gen_loss: -0.014367405325174332\n",
      "Iteration: 486 | disc_loss: -1.2099902629852295 | gen_loss: -0.18632125854492188\n",
      "Iteration: 487 | disc_loss: -1.1298949718475342 | gen_loss: -0.09169021248817444\n",
      "Iteration: 488 | disc_loss: -1.0902347564697266 | gen_loss: 0.01989947259426117\n",
      "Iteration: 489 | disc_loss: -0.8392528891563416 | gen_loss: -0.04890120401978493\n"
     ]
    },
    {
     "name": "stderr",
     "output_type": "stream",
     "text": [
      " 10%|▉         | 493/5001 [00:21<03:00, 25.04it/s]"
     ]
    },
    {
     "name": "stdout",
     "output_type": "stream",
     "text": [
      "Iteration: 490 | disc_loss: -1.2199897766113281 | gen_loss: -0.12382020801305771\n",
      "Iteration: 491 | disc_loss: -1.1324419975280762 | gen_loss: 0.02058466337621212\n",
      "Iteration: 492 | disc_loss: -0.9364858865737915 | gen_loss: 0.14899885654449463\n",
      "Iteration: 493 | disc_loss: -0.815193772315979 | gen_loss: 0.32410484552383423\n",
      "Iteration: 494 | disc_loss: -0.9524925947189331 | gen_loss: 0.19155481457710266\n"
     ]
    },
    {
     "name": "stderr",
     "output_type": "stream",
     "text": [
      " 10%|▉         | 499/5001 [00:21<03:02, 24.73it/s]"
     ]
    },
    {
     "name": "stdout",
     "output_type": "stream",
     "text": [
      "Iteration: 495 | disc_loss: -1.095170259475708 | gen_loss: 0.1896936297416687\n",
      "Iteration: 496 | disc_loss: -1.2708687782287598 | gen_loss: 0.28476831316947937\n",
      "Iteration: 497 | disc_loss: -1.1472399234771729 | gen_loss: 0.21934057772159576\n",
      "Iteration: 498 | disc_loss: -0.9669923782348633 | gen_loss: 0.25285279750823975\n",
      "Iteration: 499 | disc_loss: -0.9155176281929016 | gen_loss: 0.12624800205230713\n",
      "Iteration: 500 | disc_loss: -1.0194668769836426 | gen_loss: 0.09650370478630066\n"
     ]
    },
    {
     "name": "stderr",
     "output_type": "stream",
     "text": [
      " 10%|█         | 505/5001 [00:22<02:57, 25.38it/s]"
     ]
    },
    {
     "name": "stdout",
     "output_type": "stream",
     "text": [
      "Iteration: 501 | disc_loss: -1.1799755096435547 | gen_loss: -0.15339089930057526\n",
      "Iteration: 502 | disc_loss: -1.1968626976013184 | gen_loss: -0.08850431442260742\n",
      "Iteration: 503 | disc_loss: -1.0919636487960815 | gen_loss: 0.13746574521064758\n",
      "Iteration: 504 | disc_loss: -1.0247234106063843 | gen_loss: 0.18372002243995667\n",
      "Iteration: 505 | disc_loss: -1.110282301902771 | gen_loss: 0.15359897911548615\n",
      "Iteration: 506 | disc_loss: -1.1290005445480347 | gen_loss: 0.08391940593719482\n"
     ]
    },
    {
     "name": "stderr",
     "output_type": "stream",
     "text": [
      " 10%|█         | 511/5001 [00:22<02:52, 26.03it/s]"
     ]
    },
    {
     "name": "stdout",
     "output_type": "stream",
     "text": [
      "Iteration: 507 | disc_loss: -0.9716456532478333 | gen_loss: 0.2204182893037796\n",
      "Iteration: 508 | disc_loss: -1.0020382404327393 | gen_loss: 0.1415802240371704\n",
      "Iteration: 509 | disc_loss: -1.0186704397201538 | gen_loss: 0.00046684592962265015\n",
      "Iteration: 510 | disc_loss: -1.0771803855895996 | gen_loss: 0.04320809245109558\n",
      "Iteration: 511 | disc_loss: -0.9782730937004089 | gen_loss: -0.05376015603542328\n",
      "Iteration: 512 | disc_loss: -1.1054675579071045 | gen_loss: -0.04312259703874588\n"
     ]
    },
    {
     "name": "stderr",
     "output_type": "stream",
     "text": [
      " 10%|█         | 517/5001 [00:22<02:48, 26.63it/s]"
     ]
    },
    {
     "name": "stdout",
     "output_type": "stream",
     "text": [
      "Iteration: 513 | disc_loss: -0.9901617169380188 | gen_loss: -0.16649264097213745\n",
      "Iteration: 514 | disc_loss: -1.0867140293121338 | gen_loss: -0.005001908168196678\n",
      "Iteration: 515 | disc_loss: -0.8531737923622131 | gen_loss: -0.0991998165845871\n",
      "Iteration: 516 | disc_loss: -0.9451502561569214 | gen_loss: -0.07198088616132736\n",
      "Iteration: 517 | disc_loss: -0.9448251128196716 | gen_loss: 0.18839356303215027\n",
      "Iteration: 518 | disc_loss: -1.0088729858398438 | gen_loss: 0.0002716798335313797\n"
     ]
    },
    {
     "name": "stderr",
     "output_type": "stream",
     "text": [
      " 10%|█         | 523/5001 [00:22<02:47, 26.75it/s]"
     ]
    },
    {
     "name": "stdout",
     "output_type": "stream",
     "text": [
      "Iteration: 519 | disc_loss: -0.561444103717804 | gen_loss: -0.20571857690811157\n",
      "Iteration: 520 | disc_loss: -1.034053087234497 | gen_loss: 0.2157827615737915\n",
      "Iteration: 521 | disc_loss: -1.112316370010376 | gen_loss: 0.49762576818466187\n",
      "Iteration: 522 | disc_loss: -1.052668571472168 | gen_loss: 0.20938481390476227\n",
      "Iteration: 523 | disc_loss: -1.1928514242172241 | gen_loss: 0.44726642966270447\n",
      "Iteration: 524 | disc_loss: -0.761867880821228 | gen_loss: 0.2645011246204376\n"
     ]
    },
    {
     "name": "stderr",
     "output_type": "stream",
     "text": [
      " 11%|█         | 529/5001 [00:23<02:51, 26.15it/s]"
     ]
    },
    {
     "name": "stdout",
     "output_type": "stream",
     "text": [
      "Iteration: 525 | disc_loss: -0.9458292126655579 | gen_loss: 0.14559808373451233\n",
      "Iteration: 526 | disc_loss: -0.8576768040657043 | gen_loss: 0.06589873135089874\n",
      "Iteration: 527 | disc_loss: -0.9476972222328186 | gen_loss: 0.03846948966383934\n",
      "Iteration: 528 | disc_loss: -1.1071479320526123 | gen_loss: -0.2136257290840149\n",
      "Iteration: 529 | disc_loss: -1.0367214679718018 | gen_loss: 0.07096432149410248\n"
     ]
    },
    {
     "name": "stderr",
     "output_type": "stream",
     "text": [
      " 11%|█         | 535/5001 [00:23<02:57, 25.15it/s]"
     ]
    },
    {
     "name": "stdout",
     "output_type": "stream",
     "text": [
      "Iteration: 530 | disc_loss: -1.0524524450302124 | gen_loss: 0.012996003031730652\n",
      "Iteration: 531 | disc_loss: -1.0428215265274048 | gen_loss: 0.1510307937860489\n",
      "Iteration: 532 | disc_loss: -1.0330936908721924 | gen_loss: 0.10651801526546478\n",
      "Iteration: 533 | disc_loss: -1.0007760524749756 | gen_loss: 0.0661313384771347\n",
      "Iteration: 534 | disc_loss: -1.0051904916763306 | gen_loss: 0.09122012555599213\n",
      "Iteration: 535 | disc_loss: -1.0913019180297852 | gen_loss: 0.03836320340633392\n"
     ]
    },
    {
     "name": "stderr",
     "output_type": "stream",
     "text": [
      " 11%|█         | 541/5001 [00:23<02:58, 25.01it/s]"
     ]
    },
    {
     "name": "stdout",
     "output_type": "stream",
     "text": [
      "Iteration: 536 | disc_loss: -0.9774141311645508 | gen_loss: 0.1439688503742218\n",
      "Iteration: 537 | disc_loss: -0.8785086274147034 | gen_loss: 0.17598621547222137\n",
      "Iteration: 538 | disc_loss: -1.0544304847717285 | gen_loss: 0.21050328016281128\n",
      "Iteration: 539 | disc_loss: -1.1829395294189453 | gen_loss: 0.081179678440094\n",
      "Iteration: 540 | disc_loss: -1.1234478950500488 | gen_loss: 0.01804293692111969\n",
      "Iteration: 541 | disc_loss: -1.1764936447143555 | gen_loss: -0.09458565711975098\n"
     ]
    },
    {
     "name": "stderr",
     "output_type": "stream",
     "text": [
      " 11%|█         | 547/5001 [00:23<02:52, 25.80it/s]"
     ]
    },
    {
     "name": "stdout",
     "output_type": "stream",
     "text": [
      "Iteration: 542 | disc_loss: -0.8354161381721497 | gen_loss: -0.09019377082586288\n",
      "Iteration: 543 | disc_loss: -0.6416424512863159 | gen_loss: 0.034576430916786194\n",
      "Iteration: 544 | disc_loss: -0.8738360404968262 | gen_loss: 0.20085452497005463\n",
      "Iteration: 545 | disc_loss: -0.8835203647613525 | gen_loss: 0.27519673109054565\n",
      "Iteration: 546 | disc_loss: -0.8624677062034607 | gen_loss: 0.27945441007614136\n",
      "Iteration: 547 | disc_loss: -0.9147555232048035 | gen_loss: 0.061781514436006546\n"
     ]
    },
    {
     "name": "stderr",
     "output_type": "stream",
     "text": [
      " 11%|█         | 553/5001 [00:23<02:49, 26.22it/s]"
     ]
    },
    {
     "name": "stdout",
     "output_type": "stream",
     "text": [
      "Iteration: 548 | disc_loss: -1.025606393814087 | gen_loss: -0.007099263370037079\n",
      "Iteration: 549 | disc_loss: -0.9802643656730652 | gen_loss: 0.20571188628673553\n",
      "Iteration: 550 | disc_loss: -0.9588428139686584 | gen_loss: -0.10414187610149384\n",
      "Iteration: 551 | disc_loss: -1.2026257514953613 | gen_loss: -0.13963764905929565\n",
      "Iteration: 552 | disc_loss: -0.8332911729812622 | gen_loss: 0.2101227045059204\n",
      "Iteration: 553 | disc_loss: -1.232654333114624 | gen_loss: 0.3776782751083374\n"
     ]
    },
    {
     "name": "stderr",
     "output_type": "stream",
     "text": [
      " 11%|█         | 559/5001 [00:24<02:47, 26.46it/s]"
     ]
    },
    {
     "name": "stdout",
     "output_type": "stream",
     "text": [
      "Iteration: 554 | disc_loss: -1.3006377220153809 | gen_loss: 0.35901522636413574\n",
      "Iteration: 555 | disc_loss: -0.8888997435569763 | gen_loss: 0.6066680550575256\n",
      "Iteration: 556 | disc_loss: -0.865578293800354 | gen_loss: 0.32034772634506226\n",
      "Iteration: 557 | disc_loss: -1.0109312534332275 | gen_loss: 0.07891355454921722\n",
      "Iteration: 558 | disc_loss: -0.9472717046737671 | gen_loss: 0.04490207880735397\n",
      "Iteration: 559 | disc_loss: -1.1146888732910156 | gen_loss: 0.07863398641347885\n"
     ]
    },
    {
     "name": "stderr",
     "output_type": "stream",
     "text": [
      " 11%|█▏        | 565/5001 [00:24<02:50, 25.97it/s]"
     ]
    },
    {
     "name": "stdout",
     "output_type": "stream",
     "text": [
      "Iteration: 560 | disc_loss: -0.8823488354682922 | gen_loss: 0.22765743732452393\n",
      "Iteration: 561 | disc_loss: -0.8515838384628296 | gen_loss: 0.36119958758354187\n",
      "Iteration: 562 | disc_loss: -0.9758470058441162 | gen_loss: 0.18844249844551086\n",
      "Iteration: 563 | disc_loss: -1.0528978109359741 | gen_loss: 0.12392843514680862\n",
      "Iteration: 564 | disc_loss: -1.230309009552002 | gen_loss: 0.31518298387527466\n",
      "Iteration: 565 | disc_loss: -0.758190929889679 | gen_loss: 0.24067765474319458\n"
     ]
    },
    {
     "name": "stderr",
     "output_type": "stream",
     "text": [
      " 11%|█▏        | 571/5001 [00:24<02:48, 26.33it/s]"
     ]
    },
    {
     "name": "stdout",
     "output_type": "stream",
     "text": [
      "Iteration: 566 | disc_loss: -0.9487621784210205 | gen_loss: 0.3414592146873474\n",
      "Iteration: 567 | disc_loss: -0.674042284488678 | gen_loss: 0.17143277823925018\n",
      "Iteration: 568 | disc_loss: -1.0061185359954834 | gen_loss: 0.08323810994625092\n",
      "Iteration: 569 | disc_loss: -0.8907408118247986 | gen_loss: 0.22670650482177734\n",
      "Iteration: 570 | disc_loss: -0.9899372458457947 | gen_loss: 0.15268203616142273\n",
      "Iteration: 571 | disc_loss: -0.9750688672065735 | gen_loss: 0.14562925696372986\n"
     ]
    },
    {
     "name": "stderr",
     "output_type": "stream",
     "text": [
      " 12%|█▏        | 577/5001 [00:24<02:50, 25.98it/s]"
     ]
    },
    {
     "name": "stdout",
     "output_type": "stream",
     "text": [
      "Iteration: 572 | disc_loss: -1.0468865633010864 | gen_loss: 0.0746762603521347\n",
      "Iteration: 573 | disc_loss: -0.897457480430603 | gen_loss: -0.07670118659734726\n",
      "Iteration: 574 | disc_loss: -0.796018660068512 | gen_loss: 0.10426296293735504\n",
      "Iteration: 575 | disc_loss: -0.8202316164970398 | gen_loss: 0.11629755049943924\n",
      "Iteration: 576 | disc_loss: -1.0533937215805054 | gen_loss: 0.27096033096313477\n",
      "Iteration: 577 | disc_loss: -1.1301906108856201 | gen_loss: 0.24136263132095337\n"
     ]
    },
    {
     "name": "stderr",
     "output_type": "stream",
     "text": [
      " 12%|█▏        | 583/5001 [00:25<02:46, 26.52it/s]"
     ]
    },
    {
     "name": "stdout",
     "output_type": "stream",
     "text": [
      "Iteration: 578 | disc_loss: -0.96697598695755 | gen_loss: 0.22331103682518005\n",
      "Iteration: 579 | disc_loss: -1.0119678974151611 | gen_loss: 0.0812559723854065\n",
      "Iteration: 580 | disc_loss: -1.035349726676941 | gen_loss: -0.016207143664360046\n",
      "Iteration: 581 | disc_loss: -1.1819567680358887 | gen_loss: -0.013302316889166832\n",
      "Iteration: 582 | disc_loss: -0.5575130581855774 | gen_loss: -0.002921774983406067\n",
      "Iteration: 583 | disc_loss: -0.7005524635314941 | gen_loss: -0.014919884502887726\n"
     ]
    },
    {
     "name": "stderr",
     "output_type": "stream",
     "text": [
      " 12%|█▏        | 589/5001 [00:25<02:46, 26.57it/s]"
     ]
    },
    {
     "name": "stdout",
     "output_type": "stream",
     "text": [
      "Iteration: 584 | disc_loss: -0.8320308327674866 | gen_loss: 0.06621062755584717\n",
      "Iteration: 585 | disc_loss: -1.0468978881835938 | gen_loss: 0.079544797539711\n",
      "Iteration: 586 | disc_loss: -1.0596556663513184 | gen_loss: 0.39371538162231445\n",
      "Iteration: 587 | disc_loss: -1.0492780208587646 | gen_loss: 0.2258644849061966\n",
      "Iteration: 588 | disc_loss: -0.8794412612915039 | gen_loss: 0.2804722487926483\n",
      "Iteration: 589 | disc_loss: -0.7885756492614746 | gen_loss: 0.1387154757976532\n"
     ]
    },
    {
     "name": "stderr",
     "output_type": "stream",
     "text": [
      " 12%|█▏        | 595/5001 [00:25<02:44, 26.75it/s]"
     ]
    },
    {
     "name": "stdout",
     "output_type": "stream",
     "text": [
      "Iteration: 590 | disc_loss: -0.9028973579406738 | gen_loss: -0.14939193427562714\n",
      "Iteration: 591 | disc_loss: -1.0636341571807861 | gen_loss: -0.16267473995685577\n",
      "Iteration: 592 | disc_loss: -1.0249074697494507 | gen_loss: 0.014550767838954926\n",
      "Iteration: 593 | disc_loss: -0.5712243318557739 | gen_loss: 0.16631920635700226\n",
      "Iteration: 594 | disc_loss: -0.9177031517028809 | gen_loss: 0.31341075897216797\n",
      "Iteration: 595 | disc_loss: -0.9982573390007019 | gen_loss: 0.328401654958725\n"
     ]
    },
    {
     "name": "stderr",
     "output_type": "stream",
     "text": [
      " 12%|█▏        | 601/5001 [00:25<02:52, 25.44it/s]"
     ]
    },
    {
     "name": "stdout",
     "output_type": "stream",
     "text": [
      "Iteration: 596 | disc_loss: -0.8749729990959167 | gen_loss: 0.43681979179382324\n",
      "Iteration: 597 | disc_loss: -0.7701395153999329 | gen_loss: 0.9340386390686035\n",
      "Iteration: 598 | disc_loss: -1.3246912956237793 | gen_loss: 0.3000781536102295\n",
      "Iteration: 599 | disc_loss: -0.9969674348831177 | gen_loss: 0.1643093228340149\n",
      "Iteration: 600 | disc_loss: -1.2303756475448608 | gen_loss: 0.3842255473136902\n",
      "Iteration: 601 | disc_loss: -0.7564522624015808 | gen_loss: 0.2065638154745102\n"
     ]
    },
    {
     "name": "stderr",
     "output_type": "stream",
     "text": [
      " 12%|█▏        | 607/5001 [00:26<02:46, 26.32it/s]"
     ]
    },
    {
     "name": "stdout",
     "output_type": "stream",
     "text": [
      "Iteration: 602 | disc_loss: -1.0020719766616821 | gen_loss: 0.7722634077072144\n",
      "Iteration: 603 | disc_loss: -0.8195168972015381 | gen_loss: 0.3554309606552124\n",
      "Iteration: 604 | disc_loss: -0.9140462875366211 | gen_loss: 0.06928899884223938\n",
      "Iteration: 605 | disc_loss: -1.0780407190322876 | gen_loss: 0.201997309923172\n",
      "Iteration: 606 | disc_loss: -0.9841173887252808 | gen_loss: -0.034414246678352356\n",
      "Iteration: 607 | disc_loss: -1.040129542350769 | gen_loss: -0.035802312195301056\n"
     ]
    },
    {
     "name": "stderr",
     "output_type": "stream",
     "text": [
      " 12%|█▏        | 613/5001 [00:26<02:45, 26.51it/s]"
     ]
    },
    {
     "name": "stdout",
     "output_type": "stream",
     "text": [
      "Iteration: 608 | disc_loss: -0.8638426065444946 | gen_loss: -0.058202557265758514\n",
      "Iteration: 609 | disc_loss: -0.9261382222175598 | gen_loss: 0.052469246089458466\n",
      "Iteration: 610 | disc_loss: -1.0235549211502075 | gen_loss: 0.12569276988506317\n",
      "Iteration: 611 | disc_loss: -1.0961575508117676 | gen_loss: 0.12025971710681915\n",
      "Iteration: 612 | disc_loss: -0.8085733652114868 | gen_loss: -0.11702338606119156\n",
      "Iteration: 613 | disc_loss: -0.9780614972114563 | gen_loss: 0.0870189517736435\n"
     ]
    },
    {
     "name": "stderr",
     "output_type": "stream",
     "text": [
      " 12%|█▏        | 619/5001 [00:26<02:45, 26.51it/s]"
     ]
    },
    {
     "name": "stdout",
     "output_type": "stream",
     "text": [
      "Iteration: 614 | disc_loss: -0.8989816308021545 | gen_loss: 0.16603994369506836\n",
      "Iteration: 615 | disc_loss: -0.8160237669944763 | gen_loss: 0.17552930116653442\n",
      "Iteration: 616 | disc_loss: -1.0160069465637207 | gen_loss: 0.12520185112953186\n",
      "Iteration: 617 | disc_loss: -1.2278125286102295 | gen_loss: 0.10808874666690826\n",
      "Iteration: 618 | disc_loss: -1.0232491493225098 | gen_loss: -0.04966392368078232\n",
      "Iteration: 619 | disc_loss: -0.9743136167526245 | gen_loss: 0.16144442558288574\n"
     ]
    },
    {
     "name": "stderr",
     "output_type": "stream",
     "text": [
      " 12%|█▏        | 625/5001 [00:26<02:44, 26.53it/s]"
     ]
    },
    {
     "name": "stdout",
     "output_type": "stream",
     "text": [
      "Iteration: 620 | disc_loss: -0.714322030544281 | gen_loss: -0.16822968423366547\n",
      "Iteration: 621 | disc_loss: -0.8693787455558777 | gen_loss: -0.07125625014305115\n",
      "Iteration: 622 | disc_loss: -0.8677510619163513 | gen_loss: -0.05792316049337387\n",
      "Iteration: 623 | disc_loss: -0.7536373138427734 | gen_loss: 0.15327799320220947\n",
      "Iteration: 624 | disc_loss: -0.953257143497467 | gen_loss: -0.09995491057634354\n",
      "Iteration: 625 | disc_loss: -0.9986813068389893 | gen_loss: 0.09661560505628586\n"
     ]
    },
    {
     "name": "stderr",
     "output_type": "stream",
     "text": [
      " 13%|█▎        | 631/5001 [00:26<02:45, 26.38it/s]"
     ]
    },
    {
     "name": "stdout",
     "output_type": "stream",
     "text": [
      "Iteration: 626 | disc_loss: -0.8633476495742798 | gen_loss: 0.07095949351787567\n",
      "Iteration: 627 | disc_loss: -0.7130171060562134 | gen_loss: -0.15227803587913513\n",
      "Iteration: 628 | disc_loss: -1.1091750860214233 | gen_loss: -0.06235748156905174\n",
      "Iteration: 629 | disc_loss: -1.1249163150787354 | gen_loss: -0.49050232768058777\n",
      "Iteration: 630 | disc_loss: -0.9822046756744385 | gen_loss: 0.20482578873634338\n",
      "Iteration: 631 | disc_loss: -0.9636379480361938 | gen_loss: 0.22027313709259033\n"
     ]
    },
    {
     "name": "stderr",
     "output_type": "stream",
     "text": [
      " 13%|█▎        | 637/5001 [00:27<02:53, 25.08it/s]"
     ]
    },
    {
     "name": "stdout",
     "output_type": "stream",
     "text": [
      "Iteration: 632 | disc_loss: -1.1037009954452515 | gen_loss: 0.35313454270362854\n",
      "Iteration: 633 | disc_loss: -1.0200765132904053 | gen_loss: 0.19237792491912842\n",
      "Iteration: 634 | disc_loss: -1.19109046459198 | gen_loss: 0.29220643639564514\n",
      "Iteration: 635 | disc_loss: -1.0426836013793945 | gen_loss: 0.5311659574508667\n",
      "Iteration: 636 | disc_loss: -0.9199714660644531 | gen_loss: 0.3677838444709778\n",
      "Iteration: 637 | disc_loss: -0.9699218273162842 | gen_loss: 0.352220356464386\n"
     ]
    },
    {
     "name": "stderr",
     "output_type": "stream",
     "text": [
      " 13%|█▎        | 643/5001 [00:27<02:51, 25.40it/s]"
     ]
    },
    {
     "name": "stdout",
     "output_type": "stream",
     "text": [
      "Iteration: 638 | disc_loss: -0.9496254920959473 | gen_loss: 0.6505799293518066\n",
      "Iteration: 639 | disc_loss: -0.895431637763977 | gen_loss: 0.10533338785171509\n",
      "Iteration: 640 | disc_loss: -0.8244631290435791 | gen_loss: 0.31610262393951416\n",
      "Iteration: 641 | disc_loss: -0.9025472402572632 | gen_loss: 0.2038264274597168\n",
      "Iteration: 642 | disc_loss: -1.0180296897888184 | gen_loss: 0.1408332735300064\n",
      "Iteration: 643 | disc_loss: -0.6202318072319031 | gen_loss: 0.11725824326276779\n"
     ]
    },
    {
     "name": "stderr",
     "output_type": "stream",
     "text": [
      " 13%|█▎        | 649/5001 [00:27<02:58, 24.35it/s]"
     ]
    },
    {
     "name": "stdout",
     "output_type": "stream",
     "text": [
      "Iteration: 644 | disc_loss: -0.9514172077178955 | gen_loss: 0.2371635138988495\n",
      "Iteration: 645 | disc_loss: -0.8648738265037537 | gen_loss: 0.17836573719978333\n",
      "Iteration: 646 | disc_loss: -1.0029714107513428 | gen_loss: 0.11941694468259811\n",
      "Iteration: 647 | disc_loss: -0.9978291988372803 | gen_loss: 0.017851270735263824\n",
      "Iteration: 648 | disc_loss: -0.9791881442070007 | gen_loss: 0.09832446277141571\n"
     ]
    },
    {
     "name": "stderr",
     "output_type": "stream",
     "text": [
      " 13%|█▎        | 655/5001 [00:27<02:51, 25.29it/s]"
     ]
    },
    {
     "name": "stdout",
     "output_type": "stream",
     "text": [
      "Iteration: 649 | disc_loss: -0.40015342831611633 | gen_loss: 0.13970763981342316\n",
      "Iteration: 650 | disc_loss: -1.0043542385101318 | gen_loss: 0.21141263842582703\n",
      "Iteration: 651 | disc_loss: -0.9550561308860779 | gen_loss: 0.15365909039974213\n",
      "Iteration: 652 | disc_loss: -0.7731761336326599 | gen_loss: 0.2871083617210388\n",
      "Iteration: 653 | disc_loss: -0.8893137574195862 | gen_loss: 0.24045352637767792\n",
      "Iteration: 654 | disc_loss: -0.9358125329017639 | gen_loss: 0.047421880066394806\n"
     ]
    },
    {
     "name": "stderr",
     "output_type": "stream",
     "text": [
      " 13%|█▎        | 658/5001 [00:28<02:58, 24.35it/s]"
     ]
    },
    {
     "name": "stdout",
     "output_type": "stream",
     "text": [
      "Iteration: 655 | disc_loss: -0.8571692109107971 | gen_loss: 0.12912385165691376\n",
      "Iteration: 656 | disc_loss: -0.7590534090995789 | gen_loss: 0.044403284788131714\n",
      "Iteration: 657 | disc_loss: -0.816554844379425 | gen_loss: 0.26213064789772034\n",
      "Iteration: 658 | disc_loss: -0.8705428242683411 | gen_loss: 0.18684884905815125\n",
      "Iteration: 659 | disc_loss: -0.8759037256240845 | gen_loss: 0.3415244221687317\n",
      "Iteration: 660 | disc_loss: -0.8361417651176453 | gen_loss: 0.09764403104782104\n"
     ]
    },
    {
     "name": "stderr",
     "output_type": "stream",
     "text": [
      " 13%|█▎        | 667/5001 [00:28<02:52, 25.19it/s]"
     ]
    },
    {
     "name": "stdout",
     "output_type": "stream",
     "text": [
      "Iteration: 661 | disc_loss: -1.148757815361023 | gen_loss: 0.07386943697929382\n",
      "Iteration: 662 | disc_loss: -0.993770956993103 | gen_loss: 0.1544017642736435\n",
      "Iteration: 663 | disc_loss: -0.911790132522583 | gen_loss: -0.22180083394050598\n",
      "Iteration: 664 | disc_loss: -0.8352218270301819 | gen_loss: 0.17174139618873596\n",
      "Iteration: 665 | disc_loss: -0.9404474496841431 | gen_loss: 0.036918237805366516\n",
      "Iteration: 666 | disc_loss: -0.8567039370536804 | gen_loss: 0.21502071619033813\n"
     ]
    },
    {
     "name": "stderr",
     "output_type": "stream",
     "text": [
      " 13%|█▎        | 673/5001 [00:28<02:45, 26.14it/s]"
     ]
    },
    {
     "name": "stdout",
     "output_type": "stream",
     "text": [
      "Iteration: 667 | disc_loss: -0.9735662341117859 | gen_loss: 0.16387620568275452\n",
      "Iteration: 668 | disc_loss: -0.9959108829498291 | gen_loss: -0.046560194343328476\n",
      "Iteration: 669 | disc_loss: -0.8804253935813904 | gen_loss: -0.012427560985088348\n",
      "Iteration: 670 | disc_loss: -0.8590759634971619 | gen_loss: 0.23158451914787292\n",
      "Iteration: 671 | disc_loss: -1.058674931526184 | gen_loss: 0.1420329213142395\n",
      "Iteration: 672 | disc_loss: -1.1205241680145264 | gen_loss: 0.2116425335407257\n"
     ]
    },
    {
     "name": "stderr",
     "output_type": "stream",
     "text": [
      " 14%|█▎        | 679/5001 [00:28<02:42, 26.67it/s]"
     ]
    },
    {
     "name": "stdout",
     "output_type": "stream",
     "text": [
      "Iteration: 673 | disc_loss: -1.2611961364746094 | gen_loss: 0.4710550308227539\n",
      "Iteration: 674 | disc_loss: -0.8863828182220459 | gen_loss: 0.6057985424995422\n",
      "Iteration: 675 | disc_loss: -1.0621764659881592 | gen_loss: 0.27211707830429077\n",
      "Iteration: 676 | disc_loss: -0.6960430145263672 | gen_loss: 0.24744267761707306\n",
      "Iteration: 677 | disc_loss: -0.9460449814796448 | gen_loss: 0.051036931574344635\n",
      "Iteration: 678 | disc_loss: -0.9684007167816162 | gen_loss: 0.048426687717437744\n"
     ]
    },
    {
     "name": "stderr",
     "output_type": "stream",
     "text": [
      " 14%|█▎        | 685/5001 [00:29<02:42, 26.63it/s]"
     ]
    },
    {
     "name": "stdout",
     "output_type": "stream",
     "text": [
      "Iteration: 679 | disc_loss: -0.8457711935043335 | gen_loss: 0.14978285133838654\n",
      "Iteration: 680 | disc_loss: -1.015474557876587 | gen_loss: 0.15718041360378265\n",
      "Iteration: 681 | disc_loss: -0.9299789071083069 | gen_loss: 0.3302057981491089\n",
      "Iteration: 682 | disc_loss: -0.9690921306610107 | gen_loss: 0.22356148064136505\n",
      "Iteration: 683 | disc_loss: -1.0571589469909668 | gen_loss: 0.23072466254234314\n",
      "Iteration: 684 | disc_loss: -0.8788866996765137 | gen_loss: 0.3740859031677246\n"
     ]
    },
    {
     "name": "stderr",
     "output_type": "stream",
     "text": [
      " 14%|█▍        | 691/5001 [00:29<02:39, 27.00it/s]"
     ]
    },
    {
     "name": "stdout",
     "output_type": "stream",
     "text": [
      "Iteration: 685 | disc_loss: -1.0123553276062012 | gen_loss: 0.442166805267334\n",
      "Iteration: 686 | disc_loss: -1.0853554010391235 | gen_loss: 0.13680824637413025\n",
      "Iteration: 687 | disc_loss: -0.9726961255073547 | gen_loss: 0.19636788964271545\n",
      "Iteration: 688 | disc_loss: -1.0486329793930054 | gen_loss: 0.27756381034851074\n",
      "Iteration: 689 | disc_loss: -0.9256823062896729 | gen_loss: 0.17437785863876343\n",
      "Iteration: 690 | disc_loss: -1.0515971183776855 | gen_loss: 0.04803544282913208\n"
     ]
    },
    {
     "name": "stderr",
     "output_type": "stream",
     "text": [
      " 14%|█▍        | 697/5001 [00:29<02:41, 26.68it/s]"
     ]
    },
    {
     "name": "stdout",
     "output_type": "stream",
     "text": [
      "Iteration: 691 | disc_loss: -0.7254502773284912 | gen_loss: 0.023878417909145355\n",
      "Iteration: 692 | disc_loss: -0.9476978182792664 | gen_loss: 0.22589819133281708\n",
      "Iteration: 693 | disc_loss: -0.8923035860061646 | gen_loss: 0.12974074482917786\n",
      "Iteration: 694 | disc_loss: -0.8318771719932556 | gen_loss: 0.08004631847143173\n",
      "Iteration: 695 | disc_loss: -1.0465130805969238 | gen_loss: 0.2346705049276352\n",
      "Iteration: 696 | disc_loss: -0.908625066280365 | gen_loss: 0.03361719846725464\n"
     ]
    },
    {
     "name": "stderr",
     "output_type": "stream",
     "text": [
      " 14%|█▍        | 703/5001 [00:29<02:41, 26.61it/s]"
     ]
    },
    {
     "name": "stdout",
     "output_type": "stream",
     "text": [
      "Iteration: 697 | disc_loss: -0.9971354603767395 | gen_loss: 0.17242011427879333\n",
      "Iteration: 698 | disc_loss: -0.7382115721702576 | gen_loss: 0.4542321562767029\n",
      "Iteration: 699 | disc_loss: -0.9264182448387146 | gen_loss: 0.15446850657463074\n",
      "Iteration: 700 | disc_loss: -0.721882164478302 | gen_loss: 0.2777128219604492\n",
      "Iteration: 701 | disc_loss: -0.9332970380783081 | gen_loss: 0.10326880216598511\n",
      "Iteration: 702 | disc_loss: -1.0982130765914917 | gen_loss: 0.3145313262939453\n"
     ]
    },
    {
     "name": "stderr",
     "output_type": "stream",
     "text": [
      " 14%|█▍        | 709/5001 [00:29<02:40, 26.77it/s]"
     ]
    },
    {
     "name": "stdout",
     "output_type": "stream",
     "text": [
      "Iteration: 703 | disc_loss: -0.6138039827346802 | gen_loss: 0.4588642418384552\n",
      "Iteration: 704 | disc_loss: -0.9204067587852478 | gen_loss: 0.5720713138580322\n",
      "Iteration: 705 | disc_loss: -0.9436174631118774 | gen_loss: 0.15578237175941467\n",
      "Iteration: 706 | disc_loss: -1.035484790802002 | gen_loss: 0.14988617599010468\n",
      "Iteration: 707 | disc_loss: -0.9288134574890137 | gen_loss: 0.18321245908737183\n",
      "Iteration: 708 | disc_loss: -0.9018018245697021 | gen_loss: 0.08463765680789948\n"
     ]
    },
    {
     "name": "stderr",
     "output_type": "stream",
     "text": [
      " 14%|█▍        | 715/5001 [00:30<02:38, 27.05it/s]"
     ]
    },
    {
     "name": "stdout",
     "output_type": "stream",
     "text": [
      "Iteration: 709 | disc_loss: -1.1331803798675537 | gen_loss: 0.011344116181135178\n",
      "Iteration: 710 | disc_loss: -0.7677750587463379 | gen_loss: 0.060175519436597824\n",
      "Iteration: 711 | disc_loss: -0.8507271409034729 | gen_loss: 0.19038857519626617\n",
      "Iteration: 712 | disc_loss: -0.9437445998191833 | gen_loss: 0.19697140157222748\n",
      "Iteration: 713 | disc_loss: -0.8518625497817993 | gen_loss: 0.3736644983291626\n",
      "Iteration: 714 | disc_loss: -0.9019562005996704 | gen_loss: 0.45476603507995605\n"
     ]
    },
    {
     "name": "stderr",
     "output_type": "stream",
     "text": [
      " 14%|█▍        | 718/5001 [00:30<02:39, 26.89it/s]"
     ]
    },
    {
     "name": "stdout",
     "output_type": "stream",
     "text": [
      "Iteration: 715 | disc_loss: -0.7944656610488892 | gen_loss: 0.37956658005714417\n",
      "Iteration: 716 | disc_loss: -0.903276264667511 | gen_loss: 0.19593499600887299\n",
      "Iteration: 717 | disc_loss: -0.7737303972244263 | gen_loss: 0.05594240874052048\n",
      "Iteration: 718 | disc_loss: -0.9723654985427856 | gen_loss: 0.10462421923875809\n",
      "Iteration: 719 | disc_loss: -0.9980757236480713 | gen_loss: 0.21673202514648438\n"
     ]
    },
    {
     "name": "stderr",
     "output_type": "stream",
     "text": [
      " 14%|█▍        | 724/5001 [00:30<02:46, 25.67it/s]"
     ]
    },
    {
     "name": "stdout",
     "output_type": "stream",
     "text": [
      "Iteration: 720 | disc_loss: -0.8756734132766724 | gen_loss: 0.27144375443458557\n",
      "Iteration: 721 | disc_loss: -0.6440273523330688 | gen_loss: 0.2413162887096405\n",
      "Iteration: 722 | disc_loss: -0.8603543043136597 | gen_loss: 0.1941203474998474\n",
      "Iteration: 723 | disc_loss: -0.882551372051239 | gen_loss: 0.19213640689849854\n",
      "Iteration: 724 | disc_loss: -0.944042980670929 | gen_loss: -0.032496578991413116\n",
      "Iteration: 725 | disc_loss: -0.7200024724006653 | gen_loss: -0.047783344984054565\n"
     ]
    },
    {
     "name": "stderr",
     "output_type": "stream",
     "text": [
      " 15%|█▍        | 730/5001 [00:30<02:40, 26.67it/s]"
     ]
    },
    {
     "name": "stdout",
     "output_type": "stream",
     "text": [
      "Iteration: 726 | disc_loss: -0.9158473014831543 | gen_loss: 0.09177615493535995\n",
      "Iteration: 727 | disc_loss: -0.997978687286377 | gen_loss: 0.2131921350955963\n",
      "Iteration: 728 | disc_loss: -0.9745073914527893 | gen_loss: 0.20049315690994263\n",
      "Iteration: 729 | disc_loss: -0.9820899367332458 | gen_loss: 0.4432552456855774\n",
      "Iteration: 730 | disc_loss: -0.9041106700897217 | gen_loss: 0.5147740840911865\n",
      "Iteration: 731 | disc_loss: -0.9535674452781677 | gen_loss: 0.29783308506011963\n"
     ]
    },
    {
     "name": "stderr",
     "output_type": "stream",
     "text": [
      " 15%|█▍        | 736/5001 [00:30<02:41, 26.49it/s]"
     ]
    },
    {
     "name": "stdout",
     "output_type": "stream",
     "text": [
      "Iteration: 732 | disc_loss: -0.8943262696266174 | gen_loss: 0.20382201671600342\n",
      "Iteration: 733 | disc_loss: -0.9676051139831543 | gen_loss: 0.032470785081386566\n",
      "Iteration: 734 | disc_loss: -0.9245176315307617 | gen_loss: 0.05179251730442047\n",
      "Iteration: 735 | disc_loss: -1.0443522930145264 | gen_loss: 0.22801506519317627\n",
      "Iteration: 736 | disc_loss: -0.9389887452125549 | gen_loss: 0.09050343185663223\n",
      "Iteration: 737 | disc_loss: -1.0651665925979614 | gen_loss: -0.030464760959148407\n"
     ]
    },
    {
     "name": "stderr",
     "output_type": "stream",
     "text": [
      " 15%|█▍        | 742/5001 [00:31<02:43, 26.12it/s]"
     ]
    },
    {
     "name": "stdout",
     "output_type": "stream",
     "text": [
      "Iteration: 738 | disc_loss: -0.7211065292358398 | gen_loss: 0.24979746341705322\n",
      "Iteration: 739 | disc_loss: -0.8448629379272461 | gen_loss: 0.24356958270072937\n",
      "Iteration: 740 | disc_loss: -0.8854659199714661 | gen_loss: 0.06094503030180931\n",
      "Iteration: 741 | disc_loss: -0.9814504384994507 | gen_loss: -0.06716659665107727\n",
      "Iteration: 742 | disc_loss: -0.7768619656562805 | gen_loss: 0.22682583332061768\n",
      "Iteration: 743 | disc_loss: -0.742866575717926 | gen_loss: 0.1703932285308838\n"
     ]
    },
    {
     "name": "stderr",
     "output_type": "stream",
     "text": [
      " 15%|█▍        | 748/5001 [00:31<02:40, 26.48it/s]"
     ]
    },
    {
     "name": "stdout",
     "output_type": "stream",
     "text": [
      "Iteration: 744 | disc_loss: -0.8220012187957764 | gen_loss: 0.19757957756519318\n",
      "Iteration: 745 | disc_loss: -0.7651261687278748 | gen_loss: 0.20926037430763245\n",
      "Iteration: 746 | disc_loss: -0.8350934982299805 | gen_loss: 0.19137799739837646\n",
      "Iteration: 747 | disc_loss: -0.926875650882721 | gen_loss: 0.13950902223587036\n",
      "Iteration: 748 | disc_loss: -0.926861584186554 | gen_loss: 0.09462291747331619\n",
      "Iteration: 749 | disc_loss: -0.8254760503768921 | gen_loss: 0.27573490142822266\n"
     ]
    },
    {
     "name": "stderr",
     "output_type": "stream",
     "text": [
      " 15%|█▌        | 754/5001 [00:31<02:55, 24.23it/s]"
     ]
    },
    {
     "name": "stdout",
     "output_type": "stream",
     "text": [
      "Iteration: 750 | disc_loss: -0.8364454507827759 | gen_loss: 0.20386114716529846\n",
      "Iteration: 751 | disc_loss: -0.9258368015289307 | gen_loss: 0.11514558643102646\n",
      "Iteration: 752 | disc_loss: -0.92860347032547 | gen_loss: 0.04739042744040489\n",
      "Iteration: 753 | disc_loss: -1.1044193506240845 | gen_loss: 0.03680496662855148\n",
      "Iteration: 754 | disc_loss: -0.8830077052116394 | gen_loss: 0.2751714289188385\n"
     ]
    },
    {
     "name": "stderr",
     "output_type": "stream",
     "text": [
      " 15%|█▌        | 760/5001 [00:31<02:50, 24.84it/s]"
     ]
    },
    {
     "name": "stdout",
     "output_type": "stream",
     "text": [
      "Iteration: 755 | disc_loss: -0.9504685401916504 | gen_loss: 0.24280613660812378\n",
      "Iteration: 756 | disc_loss: -1.0514906644821167 | gen_loss: 0.19443592429161072\n",
      "Iteration: 757 | disc_loss: -0.8287026882171631 | gen_loss: -0.1791943907737732\n",
      "Iteration: 758 | disc_loss: -0.5120880007743835 | gen_loss: 0.18607211112976074\n",
      "Iteration: 759 | disc_loss: -0.7945111989974976 | gen_loss: -0.0881010890007019\n",
      "Iteration: 760 | disc_loss: -0.9026631116867065 | gen_loss: 0.17702339589595795\n"
     ]
    },
    {
     "name": "stderr",
     "output_type": "stream",
     "text": [
      " 15%|█▌        | 766/5001 [00:32<02:50, 24.85it/s]"
     ]
    },
    {
     "name": "stdout",
     "output_type": "stream",
     "text": [
      "Iteration: 761 | disc_loss: -1.0150054693222046 | gen_loss: 0.14792582392692566\n",
      "Iteration: 762 | disc_loss: -0.9281102418899536 | gen_loss: 0.21527940034866333\n",
      "Iteration: 763 | disc_loss: -0.9336209893226624 | gen_loss: 0.22868186235427856\n",
      "Iteration: 764 | disc_loss: -0.897625207901001 | gen_loss: 0.28217366337776184\n",
      "Iteration: 765 | disc_loss: -0.9480887055397034 | gen_loss: 0.2695053219795227\n",
      "Iteration: 766 | disc_loss: -1.0432339906692505 | gen_loss: 0.4967374801635742\n"
     ]
    },
    {
     "name": "stderr",
     "output_type": "stream",
     "text": [
      " 15%|█▌        | 772/5001 [00:32<02:44, 25.68it/s]"
     ]
    },
    {
     "name": "stdout",
     "output_type": "stream",
     "text": [
      "Iteration: 767 | disc_loss: -0.9448228478431702 | gen_loss: 0.5740965604782104\n",
      "Iteration: 768 | disc_loss: -1.056788682937622 | gen_loss: 0.7817864418029785\n",
      "Iteration: 769 | disc_loss: -0.9961360692977905 | gen_loss: 0.0714121013879776\n",
      "Iteration: 770 | disc_loss: -0.9155634641647339 | gen_loss: 0.2166002094745636\n",
      "Iteration: 771 | disc_loss: -1.0590052604675293 | gen_loss: 0.34753143787384033\n",
      "Iteration: 772 | disc_loss: -1.162355661392212 | gen_loss: 0.8280638456344604\n"
     ]
    },
    {
     "name": "stderr",
     "output_type": "stream",
     "text": [
      " 16%|█▌        | 778/5001 [00:32<02:43, 25.83it/s]"
     ]
    },
    {
     "name": "stdout",
     "output_type": "stream",
     "text": [
      "Iteration: 773 | disc_loss: -0.7106934785842896 | gen_loss: 0.684287428855896\n",
      "Iteration: 774 | disc_loss: -1.1628406047821045 | gen_loss: 0.3513292074203491\n",
      "Iteration: 775 | disc_loss: -0.6085438132286072 | gen_loss: 0.6639180779457092\n",
      "Iteration: 776 | disc_loss: -0.9851208329200745 | gen_loss: 0.2001473307609558\n",
      "Iteration: 777 | disc_loss: -0.8281153440475464 | gen_loss: 0.622076153755188\n",
      "Iteration: 778 | disc_loss: -0.6746289730072021 | gen_loss: 0.3070532977581024\n"
     ]
    },
    {
     "name": "stderr",
     "output_type": "stream",
     "text": [
      " 16%|█▌        | 784/5001 [00:32<02:38, 26.60it/s]"
     ]
    },
    {
     "name": "stdout",
     "output_type": "stream",
     "text": [
      "Iteration: 779 | disc_loss: -0.877528727054596 | gen_loss: 0.3083721995353699\n",
      "Iteration: 780 | disc_loss: -0.9440075159072876 | gen_loss: 0.39662623405456543\n",
      "Iteration: 781 | disc_loss: -0.9198701977729797 | gen_loss: 0.328751802444458\n",
      "Iteration: 782 | disc_loss: -0.9790382981300354 | gen_loss: 0.34629499912261963\n",
      "Iteration: 783 | disc_loss: -0.8915976881980896 | gen_loss: 0.30236461758613586\n",
      "Iteration: 784 | disc_loss: -0.861879825592041 | gen_loss: 0.17331969738006592\n"
     ]
    },
    {
     "name": "stderr",
     "output_type": "stream",
     "text": [
      " 16%|█▌        | 790/5001 [00:33<02:40, 26.17it/s]"
     ]
    },
    {
     "name": "stdout",
     "output_type": "stream",
     "text": [
      "Iteration: 785 | disc_loss: -0.7487462162971497 | gen_loss: 0.21294991672039032\n",
      "Iteration: 786 | disc_loss: -0.9436684846878052 | gen_loss: 0.12893667817115784\n",
      "Iteration: 787 | disc_loss: -1.048914909362793 | gen_loss: 0.20028220117092133\n",
      "Iteration: 788 | disc_loss: -0.9346056580543518 | gen_loss: 0.2983762323856354\n",
      "Iteration: 789 | disc_loss: -0.9787060618400574 | gen_loss: 0.30030328035354614\n",
      "Iteration: 790 | disc_loss: -0.6695618033409119 | gen_loss: 0.1338549256324768\n"
     ]
    },
    {
     "name": "stderr",
     "output_type": "stream",
     "text": [
      " 16%|█▌        | 796/5001 [00:33<02:41, 26.00it/s]"
     ]
    },
    {
     "name": "stdout",
     "output_type": "stream",
     "text": [
      "Iteration: 791 | disc_loss: -1.1267257928848267 | gen_loss: 0.06833270192146301\n",
      "Iteration: 792 | disc_loss: -0.9779048562049866 | gen_loss: 0.2395593523979187\n",
      "Iteration: 793 | disc_loss: -1.0205745697021484 | gen_loss: 0.05043555051088333\n",
      "Iteration: 794 | disc_loss: -0.9984723925590515 | gen_loss: 0.018134474754333496\n",
      "Iteration: 795 | disc_loss: -1.0039713382720947 | gen_loss: 0.20985755324363708\n",
      "Iteration: 796 | disc_loss: -0.7666025757789612 | gen_loss: 0.20723453164100647\n"
     ]
    },
    {
     "name": "stderr",
     "output_type": "stream",
     "text": [
      " 16%|█▌        | 802/5001 [00:33<02:44, 25.52it/s]"
     ]
    },
    {
     "name": "stdout",
     "output_type": "stream",
     "text": [
      "Iteration: 797 | disc_loss: -0.7358495593070984 | gen_loss: 0.13522672653198242\n",
      "Iteration: 798 | disc_loss: -0.5026565194129944 | gen_loss: 0.07609064131975174\n",
      "Iteration: 799 | disc_loss: -1.0840034484863281 | gen_loss: 0.22276335954666138\n",
      "Iteration: 800 | disc_loss: -1.0226006507873535 | gen_loss: 0.1664484143257141\n",
      "Iteration: 801 | disc_loss: -1.1401817798614502 | gen_loss: -0.1153959333896637\n",
      "Iteration: 802 | disc_loss: -1.1547882556915283 | gen_loss: -0.616230845451355\n"
     ]
    },
    {
     "name": "stderr",
     "output_type": "stream",
     "text": [
      " 16%|█▌        | 808/5001 [00:33<02:38, 26.50it/s]"
     ]
    },
    {
     "name": "stdout",
     "output_type": "stream",
     "text": [
      "Iteration: 803 | disc_loss: -1.2910641431808472 | gen_loss: -0.6847286820411682\n",
      "Iteration: 804 | disc_loss: -0.6861953735351562 | gen_loss: -0.331174373626709\n",
      "Iteration: 805 | disc_loss: -0.9919991493225098 | gen_loss: 0.3192594647407532\n",
      "Iteration: 806 | disc_loss: -0.7814464569091797 | gen_loss: 0.5928040742874146\n",
      "Iteration: 807 | disc_loss: -0.8699884414672852 | gen_loss: 0.5321588516235352\n",
      "Iteration: 808 | disc_loss: -1.0172040462493896 | gen_loss: 1.0134086608886719\n"
     ]
    },
    {
     "name": "stderr",
     "output_type": "stream",
     "text": [
      " 16%|█▋        | 814/5001 [00:34<02:40, 26.08it/s]"
     ]
    },
    {
     "name": "stdout",
     "output_type": "stream",
     "text": [
      "Iteration: 809 | disc_loss: -0.7154250741004944 | gen_loss: 0.7038323879241943\n",
      "Iteration: 810 | disc_loss: -0.7743524312973022 | gen_loss: 1.2078551054000854\n",
      "Iteration: 811 | disc_loss: -0.6039618253707886 | gen_loss: 0.6384611129760742\n",
      "Iteration: 812 | disc_loss: -0.9114900827407837 | gen_loss: 0.3837825059890747\n",
      "Iteration: 813 | disc_loss: -0.9668257832527161 | gen_loss: 0.537128746509552\n",
      "Iteration: 814 | disc_loss: -0.9302074909210205 | gen_loss: 0.7602806091308594\n"
     ]
    },
    {
     "name": "stderr",
     "output_type": "stream",
     "text": [
      " 16%|█▋        | 820/5001 [00:34<02:37, 26.53it/s]"
     ]
    },
    {
     "name": "stdout",
     "output_type": "stream",
     "text": [
      "Iteration: 815 | disc_loss: -0.549319863319397 | gen_loss: 0.46569526195526123\n",
      "Iteration: 816 | disc_loss: -0.9142522811889648 | gen_loss: 0.419431209564209\n",
      "Iteration: 817 | disc_loss: -0.5843232870101929 | gen_loss: 0.27059072256088257\n",
      "Iteration: 818 | disc_loss: -0.7226468920707703 | gen_loss: 0.323283314704895\n",
      "Iteration: 819 | disc_loss: -0.8841949105262756 | gen_loss: 0.1306055635213852\n",
      "Iteration: 820 | disc_loss: -0.8238755464553833 | gen_loss: 0.08322279900312424\n"
     ]
    },
    {
     "name": "stderr",
     "output_type": "stream",
     "text": [
      " 17%|█▋        | 826/5001 [00:34<02:40, 25.94it/s]"
     ]
    },
    {
     "name": "stdout",
     "output_type": "stream",
     "text": [
      "Iteration: 821 | disc_loss: -0.7520368099212646 | gen_loss: 0.27100512385368347\n",
      "Iteration: 822 | disc_loss: -0.7157925963401794 | gen_loss: 0.33916372060775757\n",
      "Iteration: 823 | disc_loss: -0.6997358202934265 | gen_loss: 0.33531737327575684\n",
      "Iteration: 824 | disc_loss: -0.7017689943313599 | gen_loss: 0.4563221335411072\n",
      "Iteration: 825 | disc_loss: -0.9491559267044067 | gen_loss: 0.39379608631134033\n",
      "Iteration: 826 | disc_loss: -0.6733365058898926 | gen_loss: 0.34825804829597473\n"
     ]
    },
    {
     "name": "stderr",
     "output_type": "stream",
     "text": [
      " 17%|█▋        | 832/5001 [00:34<02:41, 25.89it/s]"
     ]
    },
    {
     "name": "stdout",
     "output_type": "stream",
     "text": [
      "Iteration: 827 | disc_loss: -0.8324325084686279 | gen_loss: 0.39525967836380005\n",
      "Iteration: 828 | disc_loss: -0.9657884240150452 | gen_loss: 0.6491068601608276\n",
      "Iteration: 829 | disc_loss: -0.7993109822273254 | gen_loss: -0.009899139404296875\n",
      "Iteration: 830 | disc_loss: -0.9305549263954163 | gen_loss: 0.05205094441771507\n",
      "Iteration: 831 | disc_loss: -0.6042837500572205 | gen_loss: 0.152016744017601\n",
      "Iteration: 832 | disc_loss: -0.8817930817604065 | gen_loss: 0.008072087541222572\n"
     ]
    },
    {
     "name": "stderr",
     "output_type": "stream",
     "text": [
      " 17%|█▋        | 838/5001 [00:34<02:35, 26.82it/s]"
     ]
    },
    {
     "name": "stdout",
     "output_type": "stream",
     "text": [
      "Iteration: 833 | disc_loss: -0.5024778246879578 | gen_loss: 0.1796369105577469\n",
      "Iteration: 834 | disc_loss: -0.6702785491943359 | gen_loss: 0.11214759945869446\n",
      "Iteration: 835 | disc_loss: -0.9850587844848633 | gen_loss: -0.028061643242836\n",
      "Iteration: 836 | disc_loss: -0.8845959901809692 | gen_loss: 0.1656583696603775\n",
      "Iteration: 837 | disc_loss: -0.9627959728240967 | gen_loss: 0.28111451864242554\n",
      "Iteration: 838 | disc_loss: -0.9071460366249084 | gen_loss: -0.11875243484973907\n"
     ]
    },
    {
     "name": "stderr",
     "output_type": "stream",
     "text": [
      " 17%|█▋        | 844/5001 [00:35<02:34, 26.91it/s]"
     ]
    },
    {
     "name": "stdout",
     "output_type": "stream",
     "text": [
      "Iteration: 839 | disc_loss: -0.7553938627243042 | gen_loss: 0.30447477102279663\n",
      "Iteration: 840 | disc_loss: -0.8531820774078369 | gen_loss: 0.39224374294281006\n",
      "Iteration: 841 | disc_loss: -0.8900263905525208 | gen_loss: 0.26235005259513855\n",
      "Iteration: 842 | disc_loss: -0.8359522819519043 | gen_loss: 0.2981572449207306\n",
      "Iteration: 843 | disc_loss: -0.894635021686554 | gen_loss: -0.02168845385313034\n",
      "Iteration: 844 | disc_loss: -0.6410635709762573 | gen_loss: -0.46575620770454407\n"
     ]
    },
    {
     "name": "stderr",
     "output_type": "stream",
     "text": [
      " 17%|█▋        | 850/5001 [00:35<02:34, 26.83it/s]"
     ]
    },
    {
     "name": "stdout",
     "output_type": "stream",
     "text": [
      "Iteration: 845 | disc_loss: -1.0257612466812134 | gen_loss: -0.0975743979215622\n",
      "Iteration: 846 | disc_loss: -0.35630205273628235 | gen_loss: 0.21859799325466156\n",
      "Iteration: 847 | disc_loss: -1.007078766822815 | gen_loss: 0.44088807702064514\n",
      "Iteration: 848 | disc_loss: -1.3616158962249756 | gen_loss: 1.0262351036071777\n",
      "Iteration: 849 | disc_loss: -0.9150432348251343 | gen_loss: 0.5295326113700867\n",
      "Iteration: 850 | disc_loss: -1.3040622472763062 | gen_loss: 0.5348212718963623\n"
     ]
    },
    {
     "name": "stderr",
     "output_type": "stream",
     "text": [
      " 17%|█▋        | 856/5001 [00:35<02:33, 27.06it/s]"
     ]
    },
    {
     "name": "stdout",
     "output_type": "stream",
     "text": [
      "Iteration: 851 | disc_loss: -1.7950702905654907 | gen_loss: 0.9073795080184937\n",
      "Iteration: 852 | disc_loss: -0.6678343415260315 | gen_loss: 0.5284881591796875\n",
      "Iteration: 853 | disc_loss: -1.001231074333191 | gen_loss: 0.5890908241271973\n",
      "Iteration: 854 | disc_loss: -1.0273500680923462 | gen_loss: 0.679250955581665\n",
      "Iteration: 855 | disc_loss: -0.5220358967781067 | gen_loss: 0.7660185098648071\n",
      "Iteration: 856 | disc_loss: -0.6746563911437988 | gen_loss: 0.7690786719322205\n"
     ]
    },
    {
     "name": "stderr",
     "output_type": "stream",
     "text": [
      " 17%|█▋        | 862/5001 [00:35<02:32, 27.07it/s]"
     ]
    },
    {
     "name": "stdout",
     "output_type": "stream",
     "text": [
      "Iteration: 857 | disc_loss: -0.6649412512779236 | gen_loss: 0.8212416172027588\n",
      "Iteration: 858 | disc_loss: -0.6597700715065002 | gen_loss: 0.5860757827758789\n",
      "Iteration: 859 | disc_loss: -1.109989881515503 | gen_loss: 0.2584778666496277\n",
      "Iteration: 860 | disc_loss: -0.5180506706237793 | gen_loss: 0.20735667645931244\n",
      "Iteration: 861 | disc_loss: -0.7222113609313965 | gen_loss: 0.3833765983581543\n",
      "Iteration: 862 | disc_loss: -0.5470337867736816 | gen_loss: 0.6543604135513306\n"
     ]
    },
    {
     "name": "stderr",
     "output_type": "stream",
     "text": [
      " 17%|█▋        | 868/5001 [00:36<02:33, 26.98it/s]"
     ]
    },
    {
     "name": "stdout",
     "output_type": "stream",
     "text": [
      "Iteration: 863 | disc_loss: -0.8848942518234253 | gen_loss: 0.37068721652030945\n",
      "Iteration: 864 | disc_loss: -0.8450584411621094 | gen_loss: 0.2557799518108368\n",
      "Iteration: 865 | disc_loss: -0.8088130354881287 | gen_loss: 0.19566476345062256\n",
      "Iteration: 866 | disc_loss: -0.6957522630691528 | gen_loss: 0.23091551661491394\n",
      "Iteration: 867 | disc_loss: -0.8594041466712952 | gen_loss: 0.1652899831533432\n",
      "Iteration: 868 | disc_loss: -0.9861371517181396 | gen_loss: 0.3034195899963379\n"
     ]
    },
    {
     "name": "stderr",
     "output_type": "stream",
     "text": [
      " 17%|█▋        | 874/5001 [00:36<02:33, 26.86it/s]"
     ]
    },
    {
     "name": "stdout",
     "output_type": "stream",
     "text": [
      "Iteration: 869 | disc_loss: -0.6224804520606995 | gen_loss: 0.3334755003452301\n",
      "Iteration: 870 | disc_loss: -0.8267085552215576 | gen_loss: 0.3300924301147461\n",
      "Iteration: 871 | disc_loss: -0.8582987785339355 | gen_loss: 0.4170614778995514\n",
      "Iteration: 872 | disc_loss: -0.8153788447380066 | gen_loss: 0.03527556732296944\n",
      "Iteration: 873 | disc_loss: -0.9152328968048096 | gen_loss: 0.01295846700668335\n",
      "Iteration: 874 | disc_loss: -0.34462177753448486 | gen_loss: 0.39691829681396484\n"
     ]
    },
    {
     "name": "stderr",
     "output_type": "stream",
     "text": [
      " 18%|█▊        | 880/5001 [00:36<02:35, 26.42it/s]"
     ]
    },
    {
     "name": "stdout",
     "output_type": "stream",
     "text": [
      "Iteration: 875 | disc_loss: -0.7616684436798096 | gen_loss: 0.1662684679031372\n",
      "Iteration: 876 | disc_loss: -0.7726837992668152 | gen_loss: 0.32438164949417114\n",
      "Iteration: 877 | disc_loss: -0.9675289988517761 | gen_loss: 0.2455533742904663\n",
      "Iteration: 878 | disc_loss: -0.7710669040679932 | gen_loss: 0.5143052339553833\n",
      "Iteration: 879 | disc_loss: -1.0012493133544922 | gen_loss: 0.40958845615386963\n",
      "Iteration: 880 | disc_loss: -0.9328492879867554 | gen_loss: 0.35739386081695557\n"
     ]
    },
    {
     "name": "stderr",
     "output_type": "stream",
     "text": [
      " 18%|█▊        | 886/5001 [00:36<02:33, 26.73it/s]"
     ]
    },
    {
     "name": "stdout",
     "output_type": "stream",
     "text": [
      "Iteration: 881 | disc_loss: -0.7442119121551514 | gen_loss: 0.23258443176746368\n",
      "Iteration: 882 | disc_loss: -0.9822874069213867 | gen_loss: -0.20802322030067444\n",
      "Iteration: 883 | disc_loss: -1.159381628036499 | gen_loss: 0.029076121747493744\n",
      "Iteration: 884 | disc_loss: -0.22939670085906982 | gen_loss: 0.3404238224029541\n",
      "Iteration: 885 | disc_loss: -0.902804434299469 | gen_loss: 0.06391076743602753\n",
      "Iteration: 886 | disc_loss: -0.7801147103309631 | gen_loss: 0.25878453254699707\n"
     ]
    },
    {
     "name": "stderr",
     "output_type": "stream",
     "text": [
      " 18%|█▊        | 892/5001 [00:36<02:38, 26.00it/s]"
     ]
    },
    {
     "name": "stdout",
     "output_type": "stream",
     "text": [
      "Iteration: 887 | disc_loss: -1.0341966152191162 | gen_loss: 0.31786781549453735\n",
      "Iteration: 888 | disc_loss: -0.8067567944526672 | gen_loss: 0.05732472240924835\n",
      "Iteration: 889 | disc_loss: -0.3821040689945221 | gen_loss: 0.5469396114349365\n",
      "Iteration: 890 | disc_loss: -0.7947254776954651 | gen_loss: 0.5326665043830872\n",
      "Iteration: 891 | disc_loss: -0.7497593760490417 | gen_loss: 0.5788198113441467\n",
      "Iteration: 892 | disc_loss: -0.7690221071243286 | gen_loss: 0.6176179051399231\n"
     ]
    },
    {
     "name": "stderr",
     "output_type": "stream",
     "text": [
      " 18%|█▊        | 898/5001 [00:37<02:33, 26.71it/s]"
     ]
    },
    {
     "name": "stdout",
     "output_type": "stream",
     "text": [
      "Iteration: 893 | disc_loss: -0.7960465550422668 | gen_loss: 0.8901797533035278\n",
      "Iteration: 894 | disc_loss: -1.133957028388977 | gen_loss: 0.49840229749679565\n",
      "Iteration: 895 | disc_loss: -1.1242133378982544 | gen_loss: 0.6191221475601196\n",
      "Iteration: 896 | disc_loss: -0.9045543670654297 | gen_loss: 0.5566706657409668\n",
      "Iteration: 897 | disc_loss: -0.6065608263015747 | gen_loss: 1.0160130262374878\n",
      "Iteration: 898 | disc_loss: -1.2966923713684082 | gen_loss: 0.6320807933807373\n"
     ]
    },
    {
     "name": "stderr",
     "output_type": "stream",
     "text": [
      " 18%|█▊        | 904/5001 [00:37<02:31, 27.12it/s]"
     ]
    },
    {
     "name": "stdout",
     "output_type": "stream",
     "text": [
      "Iteration: 899 | disc_loss: -0.4906006157398224 | gen_loss: 0.8100114464759827\n",
      "Iteration: 900 | disc_loss: -0.4843265414237976 | gen_loss: 0.9065635800361633\n",
      "Iteration: 901 | disc_loss: -0.4989486038684845 | gen_loss: 0.4978998601436615\n",
      "Iteration: 902 | disc_loss: -0.626670777797699 | gen_loss: 0.6650185585021973\n",
      "Iteration: 903 | disc_loss: -0.8151887059211731 | gen_loss: 0.38093841075897217\n",
      "Iteration: 904 | disc_loss: -0.5624319314956665 | gen_loss: 0.41607245802879333\n"
     ]
    },
    {
     "name": "stderr",
     "output_type": "stream",
     "text": [
      " 18%|█▊        | 910/5001 [00:37<02:30, 27.22it/s]"
     ]
    },
    {
     "name": "stdout",
     "output_type": "stream",
     "text": [
      "Iteration: 905 | disc_loss: -0.6653518676757812 | gen_loss: 0.7758817672729492\n",
      "Iteration: 906 | disc_loss: -0.8516243100166321 | gen_loss: 0.5000642538070679\n",
      "Iteration: 907 | disc_loss: -0.9193708300590515 | gen_loss: 0.2753709554672241\n",
      "Iteration: 908 | disc_loss: -0.811043918132782 | gen_loss: 0.4489876329898834\n",
      "Iteration: 909 | disc_loss: -1.0948891639709473 | gen_loss: 0.2353954315185547\n",
      "Iteration: 910 | disc_loss: -0.9884275197982788 | gen_loss: 0.31373244524002075\n"
     ]
    },
    {
     "name": "stderr",
     "output_type": "stream",
     "text": [
      " 18%|█▊        | 916/5001 [00:37<02:29, 27.31it/s]"
     ]
    },
    {
     "name": "stdout",
     "output_type": "stream",
     "text": [
      "Iteration: 911 | disc_loss: -0.6345386505126953 | gen_loss: 0.3588080406188965\n",
      "Iteration: 912 | disc_loss: -0.9081761837005615 | gen_loss: 0.3374176621437073\n",
      "Iteration: 913 | disc_loss: -0.690646767616272 | gen_loss: 0.45164358615875244\n",
      "Iteration: 914 | disc_loss: -0.9398131966590881 | gen_loss: 0.28885653614997864\n",
      "Iteration: 915 | disc_loss: -0.989460825920105 | gen_loss: 0.06303980946540833\n",
      "Iteration: 916 | disc_loss: -0.6121254563331604 | gen_loss: 0.3484119176864624\n"
     ]
    },
    {
     "name": "stderr",
     "output_type": "stream",
     "text": [
      " 18%|█▊        | 922/5001 [00:38<02:35, 26.29it/s]"
     ]
    },
    {
     "name": "stdout",
     "output_type": "stream",
     "text": [
      "Iteration: 917 | disc_loss: -0.8390560150146484 | gen_loss: 0.2835845351219177\n",
      "Iteration: 918 | disc_loss: -1.0289286375045776 | gen_loss: 0.4199092984199524\n",
      "Iteration: 919 | disc_loss: -0.5630890727043152 | gen_loss: 0.4054329991340637\n",
      "Iteration: 920 | disc_loss: -0.6326139569282532 | gen_loss: -0.05234534293413162\n",
      "Iteration: 921 | disc_loss: -0.7239930033683777 | gen_loss: 0.4369005560874939\n",
      "Iteration: 922 | disc_loss: -0.4386887550354004 | gen_loss: 0.49544233083724976\n"
     ]
    },
    {
     "name": "stderr",
     "output_type": "stream",
     "text": [
      " 19%|█▊        | 928/5001 [00:38<02:36, 26.08it/s]"
     ]
    },
    {
     "name": "stdout",
     "output_type": "stream",
     "text": [
      "Iteration: 923 | disc_loss: -0.734076738357544 | gen_loss: 0.33605441451072693\n",
      "Iteration: 924 | disc_loss: -0.8466610908508301 | gen_loss: -0.024634554982185364\n",
      "Iteration: 925 | disc_loss: -0.5039373636245728 | gen_loss: 0.11597393453121185\n",
      "Iteration: 926 | disc_loss: -0.5743329524993896 | gen_loss: 0.4560174345970154\n",
      "Iteration: 927 | disc_loss: -0.7518360614776611 | gen_loss: 0.1628183126449585\n",
      "Iteration: 928 | disc_loss: -0.8903399705886841 | gen_loss: 0.3516049385070801\n"
     ]
    },
    {
     "name": "stderr",
     "output_type": "stream",
     "text": [
      " 19%|█▊        | 934/5001 [00:38<02:33, 26.54it/s]"
     ]
    },
    {
     "name": "stdout",
     "output_type": "stream",
     "text": [
      "Iteration: 929 | disc_loss: -0.7082151770591736 | gen_loss: 0.6312512755393982\n",
      "Iteration: 930 | disc_loss: -0.9016764163970947 | gen_loss: 0.6888757944107056\n",
      "Iteration: 931 | disc_loss: -0.6308253407478333 | gen_loss: 0.42035794258117676\n",
      "Iteration: 932 | disc_loss: -0.5946489572525024 | gen_loss: 0.4316582679748535\n",
      "Iteration: 933 | disc_loss: -1.0011247396469116 | gen_loss: 0.6300148367881775\n",
      "Iteration: 934 | disc_loss: -0.9156836867332458 | gen_loss: 0.5940978527069092\n"
     ]
    },
    {
     "name": "stderr",
     "output_type": "stream",
     "text": [
      " 19%|█▉        | 940/5001 [00:38<02:33, 26.43it/s]"
     ]
    },
    {
     "name": "stdout",
     "output_type": "stream",
     "text": [
      "Iteration: 935 | disc_loss: -0.6726993918418884 | gen_loss: 0.629770040512085\n",
      "Iteration: 936 | disc_loss: -0.6516604423522949 | gen_loss: 0.5068837404251099\n",
      "Iteration: 937 | disc_loss: -0.8220500946044922 | gen_loss: 0.5883274078369141\n",
      "Iteration: 938 | disc_loss: -0.7563464641571045 | gen_loss: 0.6449455618858337\n",
      "Iteration: 939 | disc_loss: -0.9098000526428223 | gen_loss: 0.8432236909866333\n",
      "Iteration: 940 | disc_loss: -0.9293389320373535 | gen_loss: 1.0262677669525146\n"
     ]
    },
    {
     "name": "stderr",
     "output_type": "stream",
     "text": [
      " 19%|█▉        | 946/5001 [00:38<02:30, 27.00it/s]"
     ]
    },
    {
     "name": "stdout",
     "output_type": "stream",
     "text": [
      "Iteration: 941 | disc_loss: -0.7982304096221924 | gen_loss: 0.6270430684089661\n",
      "Iteration: 942 | disc_loss: -0.514664888381958 | gen_loss: 1.3530504703521729\n",
      "Iteration: 943 | disc_loss: -0.6650718450546265 | gen_loss: 0.6509411334991455\n",
      "Iteration: 944 | disc_loss: -0.4552100598812103 | gen_loss: 0.3903701603412628\n",
      "Iteration: 945 | disc_loss: -0.6970008015632629 | gen_loss: 0.49592477083206177\n",
      "Iteration: 946 | disc_loss: -0.8056396245956421 | gen_loss: 0.5851777791976929\n"
     ]
    },
    {
     "name": "stderr",
     "output_type": "stream",
     "text": [
      " 19%|█▉        | 952/5001 [00:39<02:30, 26.96it/s]"
     ]
    },
    {
     "name": "stdout",
     "output_type": "stream",
     "text": [
      "Iteration: 947 | disc_loss: -0.6731448173522949 | gen_loss: 0.5148977637290955\n",
      "Iteration: 948 | disc_loss: -0.7076554298400879 | gen_loss: 0.2800360321998596\n",
      "Iteration: 949 | disc_loss: -0.7592971324920654 | gen_loss: 0.34066852927207947\n",
      "Iteration: 950 | disc_loss: -1.0938767194747925 | gen_loss: 0.3801252245903015\n",
      "Iteration: 951 | disc_loss: -0.8254294395446777 | gen_loss: 0.19302324950695038\n",
      "Iteration: 952 | disc_loss: -0.6564469933509827 | gen_loss: 0.5080441236495972\n"
     ]
    },
    {
     "name": "stderr",
     "output_type": "stream",
     "text": [
      " 19%|█▉        | 958/5001 [00:39<02:30, 26.84it/s]"
     ]
    },
    {
     "name": "stdout",
     "output_type": "stream",
     "text": [
      "Iteration: 953 | disc_loss: -0.48620909452438354 | gen_loss: 0.4470004141330719\n",
      "Iteration: 954 | disc_loss: -0.8038891553878784 | gen_loss: 0.3770374655723572\n",
      "Iteration: 955 | disc_loss: -0.7484106421470642 | gen_loss: 0.4144868850708008\n",
      "Iteration: 956 | disc_loss: -0.834927499294281 | gen_loss: 0.42513594031333923\n",
      "Iteration: 957 | disc_loss: -0.8304773569107056 | gen_loss: 0.29784488677978516\n",
      "Iteration: 958 | disc_loss: -0.8993111848831177 | gen_loss: 0.36891433596611023\n"
     ]
    },
    {
     "name": "stderr",
     "output_type": "stream",
     "text": [
      " 19%|█▉        | 964/5001 [00:39<02:35, 26.02it/s]"
     ]
    },
    {
     "name": "stdout",
     "output_type": "stream",
     "text": [
      "Iteration: 959 | disc_loss: -0.7329546213150024 | gen_loss: 0.4802607297897339\n",
      "Iteration: 960 | disc_loss: -0.8799883127212524 | gen_loss: 0.5863684415817261\n",
      "Iteration: 961 | disc_loss: -0.9426441192626953 | gen_loss: 0.21719683706760406\n",
      "Iteration: 962 | disc_loss: -0.9896474480628967 | gen_loss: 0.4533422291278839\n",
      "Iteration: 963 | disc_loss: -0.8013361096382141 | gen_loss: 0.32645323872566223\n",
      "Iteration: 964 | disc_loss: -0.910863995552063 | gen_loss: 0.4612728953361511\n"
     ]
    },
    {
     "name": "stderr",
     "output_type": "stream",
     "text": [
      " 19%|█▉        | 970/5001 [00:39<02:33, 26.27it/s]"
     ]
    },
    {
     "name": "stdout",
     "output_type": "stream",
     "text": [
      "Iteration: 965 | disc_loss: -0.8946104645729065 | gen_loss: 0.5782537460327148\n",
      "Iteration: 966 | disc_loss: -0.9377503395080566 | gen_loss: 0.411973774433136\n",
      "Iteration: 967 | disc_loss: -0.923547089099884 | gen_loss: 0.5315187573432922\n",
      "Iteration: 968 | disc_loss: -0.8147552013397217 | gen_loss: 0.4210425913333893\n",
      "Iteration: 969 | disc_loss: -0.9440397620201111 | gen_loss: 0.28666552901268005\n",
      "Iteration: 970 | disc_loss: -0.6607525944709778 | gen_loss: 0.4181658625602722\n"
     ]
    },
    {
     "name": "stderr",
     "output_type": "stream",
     "text": [
      " 20%|█▉        | 976/5001 [00:40<02:34, 26.09it/s]"
     ]
    },
    {
     "name": "stdout",
     "output_type": "stream",
     "text": [
      "Iteration: 971 | disc_loss: -1.0084840059280396 | gen_loss: 0.5998314023017883\n",
      "Iteration: 972 | disc_loss: -1.0578161478042603 | gen_loss: 1.2488516569137573\n",
      "Iteration: 973 | disc_loss: -1.3960919380187988 | gen_loss: 0.8244597315788269\n",
      "Iteration: 974 | disc_loss: -1.218203067779541 | gen_loss: 1.3022536039352417\n",
      "Iteration: 975 | disc_loss: -1.1919251680374146 | gen_loss: 0.7521201372146606\n",
      "Iteration: 976 | disc_loss: -1.0612874031066895 | gen_loss: 0.7343344688415527\n"
     ]
    },
    {
     "name": "stderr",
     "output_type": "stream",
     "text": [
      " 20%|█▉        | 982/5001 [00:40<02:32, 26.40it/s]"
     ]
    },
    {
     "name": "stdout",
     "output_type": "stream",
     "text": [
      "Iteration: 977 | disc_loss: -1.0555576086044312 | gen_loss: 0.7203205823898315\n",
      "Iteration: 978 | disc_loss: -0.5515366196632385 | gen_loss: 0.8312581777572632\n",
      "Iteration: 979 | disc_loss: -0.8678393363952637 | gen_loss: 0.1396203339099884\n",
      "Iteration: 980 | disc_loss: -0.7558804154396057 | gen_loss: 0.33260393142700195\n",
      "Iteration: 981 | disc_loss: -0.7909143567085266 | gen_loss: 0.5125154256820679\n",
      "Iteration: 982 | disc_loss: -0.9957841038703918 | gen_loss: 0.4690943956375122\n"
     ]
    },
    {
     "name": "stderr",
     "output_type": "stream",
     "text": [
      " 20%|█▉        | 988/5001 [00:40<02:32, 26.29it/s]"
     ]
    },
    {
     "name": "stdout",
     "output_type": "stream",
     "text": [
      "Iteration: 983 | disc_loss: -0.5682637095451355 | gen_loss: 0.46763837337493896\n",
      "Iteration: 984 | disc_loss: -0.5132513642311096 | gen_loss: 0.5064141750335693\n",
      "Iteration: 985 | disc_loss: -1.3515328168869019 | gen_loss: 0.7681242823600769\n",
      "Iteration: 986 | disc_loss: -1.0641590356826782 | gen_loss: 0.5851128697395325\n",
      "Iteration: 987 | disc_loss: -0.5290255546569824 | gen_loss: 0.5539113283157349\n",
      "Iteration: 988 | disc_loss: -0.3557204306125641 | gen_loss: 0.4188820719718933\n"
     ]
    },
    {
     "name": "stderr",
     "output_type": "stream",
     "text": [
      " 20%|█▉        | 994/5001 [00:40<02:30, 26.61it/s]"
     ]
    },
    {
     "name": "stdout",
     "output_type": "stream",
     "text": [
      "Iteration: 989 | disc_loss: -0.6542370915412903 | gen_loss: 0.6324024200439453\n",
      "Iteration: 990 | disc_loss: -0.6886008381843567 | gen_loss: 0.4721956253051758\n",
      "Iteration: 991 | disc_loss: -0.9609491229057312 | gen_loss: 0.4313998222351074\n",
      "Iteration: 992 | disc_loss: -0.8308184146881104 | gen_loss: 0.49503007531166077\n",
      "Iteration: 993 | disc_loss: -0.8351565003395081 | gen_loss: 0.33369821310043335\n",
      "Iteration: 994 | disc_loss: -1.0224518775939941 | gen_loss: 0.2560977339744568\n"
     ]
    },
    {
     "name": "stderr",
     "output_type": "stream",
     "text": [
      " 20%|█▉        | 1000/5001 [00:40<02:30, 26.64it/s]"
     ]
    },
    {
     "name": "stdout",
     "output_type": "stream",
     "text": [
      "Iteration: 995 | disc_loss: -0.7905406355857849 | gen_loss: 0.3765738010406494\n",
      "Iteration: 996 | disc_loss: -0.8622284531593323 | gen_loss: 0.5207576751708984\n",
      "Iteration: 997 | disc_loss: -0.5189829468727112 | gen_loss: 0.5583692789077759\n",
      "Iteration: 998 | disc_loss: -1.0234637260437012 | gen_loss: 0.13237211108207703\n",
      "Iteration: 999 | disc_loss: -1.0355567932128906 | gen_loss: 0.33546847105026245\n",
      "Iteration: 1000 | disc_loss: -0.8070158362388611 | gen_loss: -0.5151184797286987\n"
     ]
    },
    {
     "name": "stderr",
     "output_type": "stream",
     "text": [
      " 20%|██        | 1006/5001 [00:41<02:33, 26.04it/s]"
     ]
    },
    {
     "name": "stdout",
     "output_type": "stream",
     "text": [
      "Iteration: 1001 | disc_loss: -0.3236883878707886 | gen_loss: -0.530388355255127\n",
      "Iteration: 1002 | disc_loss: -0.9650359749794006 | gen_loss: 0.38239336013793945\n",
      "Iteration: 1003 | disc_loss: -0.6684125661849976 | gen_loss: 0.6862308979034424\n",
      "Iteration: 1004 | disc_loss: -0.7035850882530212 | gen_loss: 0.6160697340965271\n",
      "Iteration: 1005 | disc_loss: -0.665316104888916 | gen_loss: 0.4443817138671875\n",
      "Iteration: 1006 | disc_loss: -1.0691325664520264 | gen_loss: 0.4956372380256653\n"
     ]
    },
    {
     "name": "stderr",
     "output_type": "stream",
     "text": [
      " 20%|██        | 1012/5001 [00:41<02:45, 24.17it/s]"
     ]
    },
    {
     "name": "stdout",
     "output_type": "stream",
     "text": [
      "Iteration: 1007 | disc_loss: -1.1261588335037231 | gen_loss: 0.7689275741577148\n",
      "Iteration: 1008 | disc_loss: -0.7195084095001221 | gen_loss: 0.8785374164581299\n",
      "Iteration: 1009 | disc_loss: -0.6129415035247803 | gen_loss: 0.5666606426239014\n",
      "Iteration: 1010 | disc_loss: -2.2651784420013428 | gen_loss: 0.9656990766525269\n",
      "Iteration: 1011 | disc_loss: -0.5946642160415649 | gen_loss: 1.3913767337799072\n"
     ]
    },
    {
     "name": "stderr",
     "output_type": "stream",
     "text": [
      " 20%|██        | 1018/5001 [00:41<02:43, 24.34it/s]"
     ]
    },
    {
     "name": "stdout",
     "output_type": "stream",
     "text": [
      "Iteration: 1012 | disc_loss: -0.403216689825058 | gen_loss: 1.5794434547424316\n",
      "Iteration: 1013 | disc_loss: -0.6038521528244019 | gen_loss: 0.7756350040435791\n",
      "Iteration: 1014 | disc_loss: -0.9173474311828613 | gen_loss: 0.7114455699920654\n",
      "Iteration: 1015 | disc_loss: -1.1451777219772339 | gen_loss: 0.9374228715896606\n",
      "Iteration: 1016 | disc_loss: -1.750644326210022 | gen_loss: 1.8154720067977905\n",
      "Iteration: 1017 | disc_loss: -0.4528859257698059 | gen_loss: 0.6978909969329834\n"
     ]
    },
    {
     "name": "stderr",
     "output_type": "stream",
     "text": [
      " 20%|██        | 1024/5001 [00:41<02:36, 25.44it/s]"
     ]
    },
    {
     "name": "stdout",
     "output_type": "stream",
     "text": [
      "Iteration: 1018 | disc_loss: -1.2281343936920166 | gen_loss: 0.6535983085632324\n",
      "Iteration: 1019 | disc_loss: -0.5309235453605652 | gen_loss: 0.7368645668029785\n",
      "Iteration: 1020 | disc_loss: -0.48665040731430054 | gen_loss: 0.626372218132019\n",
      "Iteration: 1021 | disc_loss: -0.7902230620384216 | gen_loss: 0.5343073010444641\n",
      "Iteration: 1022 | disc_loss: -0.7205025553703308 | gen_loss: 0.8345497250556946\n",
      "Iteration: 1023 | disc_loss: -0.6646972298622131 | gen_loss: 0.621403157711029\n"
     ]
    },
    {
     "name": "stderr",
     "output_type": "stream",
     "text": [
      " 21%|██        | 1030/5001 [00:42<02:35, 25.53it/s]"
     ]
    },
    {
     "name": "stdout",
     "output_type": "stream",
     "text": [
      "Iteration: 1024 | disc_loss: -0.7281613349914551 | gen_loss: 0.5099881291389465\n",
      "Iteration: 1025 | disc_loss: -0.9073909521102905 | gen_loss: 0.5594841241836548\n",
      "Iteration: 1026 | disc_loss: -0.8583229184150696 | gen_loss: 0.5577970743179321\n",
      "Iteration: 1027 | disc_loss: -0.7641980648040771 | gen_loss: 0.6261597275733948\n",
      "Iteration: 1028 | disc_loss: -0.9000529050827026 | gen_loss: 0.30631932616233826\n",
      "Iteration: 1029 | disc_loss: -0.8826889395713806 | gen_loss: 0.33743757009506226\n"
     ]
    },
    {
     "name": "stderr",
     "output_type": "stream",
     "text": [
      " 21%|██        | 1036/5001 [00:42<02:31, 26.12it/s]"
     ]
    },
    {
     "name": "stdout",
     "output_type": "stream",
     "text": [
      "Iteration: 1030 | disc_loss: -0.7905142307281494 | gen_loss: 0.5579694509506226\n",
      "Iteration: 1031 | disc_loss: -0.82337486743927 | gen_loss: 0.5112095475196838\n",
      "Iteration: 1032 | disc_loss: -0.9093980193138123 | gen_loss: 0.3084985911846161\n",
      "Iteration: 1033 | disc_loss: -0.7398069500923157 | gen_loss: 0.7520357966423035\n",
      "Iteration: 1034 | disc_loss: -0.9521844983100891 | gen_loss: 0.6536638140678406\n",
      "Iteration: 1035 | disc_loss: -1.0153887271881104 | gen_loss: 0.453275591135025\n"
     ]
    },
    {
     "name": "stderr",
     "output_type": "stream",
     "text": [
      " 21%|██        | 1042/5001 [00:42<02:29, 26.49it/s]"
     ]
    },
    {
     "name": "stdout",
     "output_type": "stream",
     "text": [
      "Iteration: 1036 | disc_loss: -1.0222617387771606 | gen_loss: 0.6904478073120117\n",
      "Iteration: 1037 | disc_loss: -0.24244414269924164 | gen_loss: 0.7669364809989929\n",
      "Iteration: 1038 | disc_loss: -0.765389621257782 | gen_loss: 0.8122561573982239\n",
      "Iteration: 1039 | disc_loss: -0.5986881852149963 | gen_loss: 0.5616984367370605\n",
      "Iteration: 1040 | disc_loss: -0.9403888583183289 | gen_loss: 0.6422007083892822\n",
      "Iteration: 1041 | disc_loss: -0.763526439666748 | gen_loss: 0.6744110584259033\n"
     ]
    },
    {
     "name": "stderr",
     "output_type": "stream",
     "text": [
      " 21%|██        | 1048/5001 [00:42<02:27, 26.74it/s]"
     ]
    },
    {
     "name": "stdout",
     "output_type": "stream",
     "text": [
      "Iteration: 1042 | disc_loss: -0.9888933897018433 | gen_loss: 0.6415196657180786\n",
      "Iteration: 1043 | disc_loss: -0.9794901609420776 | gen_loss: 0.6424465179443359\n",
      "Iteration: 1044 | disc_loss: -1.1454886198043823 | gen_loss: 0.5700640678405762\n",
      "Iteration: 1045 | disc_loss: -0.08337479084730148 | gen_loss: 0.66962730884552\n",
      "Iteration: 1046 | disc_loss: -0.7414835095405579 | gen_loss: 0.44927978515625\n",
      "Iteration: 1047 | disc_loss: -0.87828528881073 | gen_loss: 0.3275814652442932\n"
     ]
    },
    {
     "name": "stderr",
     "output_type": "stream",
     "text": [
      " 21%|██        | 1054/5001 [00:43<02:31, 26.04it/s]"
     ]
    },
    {
     "name": "stdout",
     "output_type": "stream",
     "text": [
      "Iteration: 1048 | disc_loss: -0.8131173849105835 | gen_loss: 0.3851949870586395\n",
      "Iteration: 1049 | disc_loss: -0.9098221659660339 | gen_loss: 0.5652331113815308\n",
      "Iteration: 1050 | disc_loss: -0.99836665391922 | gen_loss: 0.26160117983818054\n",
      "Iteration: 1051 | disc_loss: -0.9155034422874451 | gen_loss: 0.4200671315193176\n",
      "Iteration: 1052 | disc_loss: -0.6885757446289062 | gen_loss: 0.6507708430290222\n",
      "Iteration: 1053 | disc_loss: -0.8568607568740845 | gen_loss: 0.6976402997970581\n"
     ]
    },
    {
     "name": "stderr",
     "output_type": "stream",
     "text": [
      " 21%|██        | 1060/5001 [00:43<02:31, 26.07it/s]"
     ]
    },
    {
     "name": "stdout",
     "output_type": "stream",
     "text": [
      "Iteration: 1054 | disc_loss: -0.902339518070221 | gen_loss: 0.7372779846191406\n",
      "Iteration: 1055 | disc_loss: -0.8861421346664429 | gen_loss: 0.587985634803772\n",
      "Iteration: 1056 | disc_loss: -0.8810039162635803 | gen_loss: 0.7647022008895874\n",
      "Iteration: 1057 | disc_loss: -0.9067983031272888 | gen_loss: 0.8323215842247009\n",
      "Iteration: 1058 | disc_loss: -0.7942650318145752 | gen_loss: 0.9939465522766113\n",
      "Iteration: 1059 | disc_loss: -0.9797734022140503 | gen_loss: 0.6701452732086182\n"
     ]
    },
    {
     "name": "stderr",
     "output_type": "stream",
     "text": [
      " 21%|██▏       | 1066/5001 [00:43<02:27, 26.60it/s]"
     ]
    },
    {
     "name": "stdout",
     "output_type": "stream",
     "text": [
      "Iteration: 1060 | disc_loss: -0.8835803270339966 | gen_loss: 0.8048446178436279\n",
      "Iteration: 1061 | disc_loss: -1.4720587730407715 | gen_loss: 0.7786216735839844\n",
      "Iteration: 1062 | disc_loss: -0.5498499870300293 | gen_loss: 0.983299970626831\n",
      "Iteration: 1063 | disc_loss: -0.5456011295318604 | gen_loss: 1.2604701519012451\n",
      "Iteration: 1064 | disc_loss: -0.8236921429634094 | gen_loss: 0.6906259059906006\n",
      "Iteration: 1065 | disc_loss: -1.2421611547470093 | gen_loss: 0.7114986777305603\n"
     ]
    },
    {
     "name": "stderr",
     "output_type": "stream",
     "text": [
      " 21%|██▏       | 1072/5001 [00:43<02:27, 26.71it/s]"
     ]
    },
    {
     "name": "stdout",
     "output_type": "stream",
     "text": [
      "Iteration: 1066 | disc_loss: -0.7631058692932129 | gen_loss: 0.710036039352417\n",
      "Iteration: 1067 | disc_loss: -0.5646405816078186 | gen_loss: 0.8260909914970398\n",
      "Iteration: 1068 | disc_loss: -0.8374156951904297 | gen_loss: 0.8003703951835632\n",
      "Iteration: 1069 | disc_loss: -0.7135189771652222 | gen_loss: 0.5909527540206909\n",
      "Iteration: 1070 | disc_loss: -0.8454047441482544 | gen_loss: 0.5474443435668945\n",
      "Iteration: 1071 | disc_loss: -0.7808735370635986 | gen_loss: 0.7017526626586914\n"
     ]
    },
    {
     "name": "stderr",
     "output_type": "stream",
     "text": [
      " 22%|██▏       | 1078/5001 [00:44<02:27, 26.65it/s]"
     ]
    },
    {
     "name": "stdout",
     "output_type": "stream",
     "text": [
      "Iteration: 1072 | disc_loss: -0.48940426111221313 | gen_loss: 0.604162335395813\n",
      "Iteration: 1073 | disc_loss: -0.7340916395187378 | gen_loss: 0.7766127586364746\n",
      "Iteration: 1074 | disc_loss: -0.7138187885284424 | gen_loss: 0.7304655313491821\n",
      "Iteration: 1075 | disc_loss: -0.8334494829177856 | gen_loss: 0.6791245937347412\n",
      "Iteration: 1076 | disc_loss: -0.9781996607780457 | gen_loss: 0.5034878253936768\n",
      "Iteration: 1077 | disc_loss: -0.6596418619155884 | gen_loss: 0.3438100516796112\n"
     ]
    },
    {
     "name": "stderr",
     "output_type": "stream",
     "text": [
      " 22%|██▏       | 1084/5001 [00:44<02:26, 26.80it/s]"
     ]
    },
    {
     "name": "stdout",
     "output_type": "stream",
     "text": [
      "Iteration: 1078 | disc_loss: -0.8925679326057434 | gen_loss: 0.40256255865097046\n",
      "Iteration: 1079 | disc_loss: -1.0015838146209717 | gen_loss: 0.42959076166152954\n",
      "Iteration: 1080 | disc_loss: -0.4693635404109955 | gen_loss: 0.7042614221572876\n",
      "Iteration: 1081 | disc_loss: -0.9115232825279236 | gen_loss: 0.7011806964874268\n",
      "Iteration: 1082 | disc_loss: -0.718044102191925 | gen_loss: 0.9335728883743286\n",
      "Iteration: 1083 | disc_loss: -0.9074885249137878 | gen_loss: 0.7553589344024658\n"
     ]
    },
    {
     "name": "stderr",
     "output_type": "stream",
     "text": [
      " 22%|██▏       | 1090/5001 [00:44<02:24, 27.02it/s]"
     ]
    },
    {
     "name": "stdout",
     "output_type": "stream",
     "text": [
      "Iteration: 1084 | disc_loss: -0.5430675148963928 | gen_loss: 0.6098169088363647\n",
      "Iteration: 1085 | disc_loss: -0.5972004532814026 | gen_loss: 0.7841887474060059\n",
      "Iteration: 1086 | disc_loss: -0.8011471629142761 | gen_loss: 0.6416161060333252\n",
      "Iteration: 1087 | disc_loss: -0.7824888229370117 | gen_loss: 0.7579780220985413\n",
      "Iteration: 1088 | disc_loss: -1.008164882659912 | gen_loss: 0.7492364048957825\n",
      "Iteration: 1089 | disc_loss: -0.7283622026443481 | gen_loss: 0.4627764821052551\n"
     ]
    },
    {
     "name": "stderr",
     "output_type": "stream",
     "text": [
      " 22%|██▏       | 1096/5001 [00:44<02:25, 26.91it/s]"
     ]
    },
    {
     "name": "stdout",
     "output_type": "stream",
     "text": [
      "Iteration: 1090 | disc_loss: -0.7972137928009033 | gen_loss: 0.5865423679351807\n",
      "Iteration: 1091 | disc_loss: -0.8748618364334106 | gen_loss: 0.5635376572608948\n",
      "Iteration: 1092 | disc_loss: -0.8720157146453857 | gen_loss: 0.3556009531021118\n",
      "Iteration: 1093 | disc_loss: -0.9863163828849792 | gen_loss: 0.8866403102874756\n",
      "Iteration: 1094 | disc_loss: -0.9386777281761169 | gen_loss: 0.7047774791717529\n",
      "Iteration: 1095 | disc_loss: -0.9573279619216919 | gen_loss: 0.8760859370231628\n"
     ]
    },
    {
     "name": "stderr",
     "output_type": "stream",
     "text": [
      " 22%|██▏       | 1102/5001 [00:44<02:23, 27.15it/s]"
     ]
    },
    {
     "name": "stdout",
     "output_type": "stream",
     "text": [
      "Iteration: 1096 | disc_loss: -0.7416966557502747 | gen_loss: 0.7539199590682983\n",
      "Iteration: 1097 | disc_loss: -0.8040629029273987 | gen_loss: 0.607848048210144\n",
      "Iteration: 1098 | disc_loss: -0.821453332901001 | gen_loss: 0.7241443991661072\n",
      "Iteration: 1099 | disc_loss: -0.883063554763794 | gen_loss: 0.4376054108142853\n",
      "Iteration: 1100 | disc_loss: -0.3487890958786011 | gen_loss: 0.26486459374427795\n",
      "Iteration: 1101 | disc_loss: -0.877581000328064 | gen_loss: 0.6033127903938293\n"
     ]
    },
    {
     "name": "stderr",
     "output_type": "stream",
     "text": [
      " 22%|██▏       | 1108/5001 [00:45<02:22, 27.28it/s]"
     ]
    },
    {
     "name": "stdout",
     "output_type": "stream",
     "text": [
      "Iteration: 1102 | disc_loss: -1.0066547393798828 | gen_loss: 0.9049862623214722\n",
      "Iteration: 1103 | disc_loss: -0.71517014503479 | gen_loss: 0.9980235695838928\n",
      "Iteration: 1104 | disc_loss: -0.8183724284172058 | gen_loss: 1.6359577178955078\n",
      "Iteration: 1105 | disc_loss: -1.4786163568496704 | gen_loss: 1.225707769393921\n",
      "Iteration: 1106 | disc_loss: -0.9739380478858948 | gen_loss: 1.1832331418991089\n",
      "Iteration: 1107 | disc_loss: -0.8473761081695557 | gen_loss: 1.6522068977355957\n"
     ]
    },
    {
     "name": "stderr",
     "output_type": "stream",
     "text": [
      " 22%|██▏       | 1114/5001 [00:45<02:21, 27.40it/s]"
     ]
    },
    {
     "name": "stdout",
     "output_type": "stream",
     "text": [
      "Iteration: 1108 | disc_loss: -0.7991509437561035 | gen_loss: 1.0294135808944702\n",
      "Iteration: 1109 | disc_loss: -0.7430826425552368 | gen_loss: 1.3145976066589355\n",
      "Iteration: 1110 | disc_loss: -0.4979868233203888 | gen_loss: 1.308765172958374\n",
      "Iteration: 1111 | disc_loss: -0.8489047288894653 | gen_loss: 1.140885829925537\n",
      "Iteration: 1112 | disc_loss: -0.767061173915863 | gen_loss: 0.7568575143814087\n",
      "Iteration: 1113 | disc_loss: -0.6943418383598328 | gen_loss: 0.8056919574737549\n"
     ]
    },
    {
     "name": "stderr",
     "output_type": "stream",
     "text": [
      " 22%|██▏       | 1120/5001 [00:45<02:23, 27.12it/s]"
     ]
    },
    {
     "name": "stdout",
     "output_type": "stream",
     "text": [
      "Iteration: 1114 | disc_loss: -0.9701244831085205 | gen_loss: 0.6056704521179199\n",
      "Iteration: 1115 | disc_loss: -0.7995573878288269 | gen_loss: 0.7103601098060608\n",
      "Iteration: 1116 | disc_loss: -0.9499846696853638 | gen_loss: 0.9631344079971313\n",
      "Iteration: 1117 | disc_loss: -0.7676145434379578 | gen_loss: 0.6968128085136414\n",
      "Iteration: 1118 | disc_loss: -0.9066620469093323 | gen_loss: 0.505516767501831\n",
      "Iteration: 1119 | disc_loss: -0.9416776895523071 | gen_loss: 0.712399959564209\n"
     ]
    },
    {
     "name": "stderr",
     "output_type": "stream",
     "text": [
      " 23%|██▎       | 1126/5001 [00:45<02:23, 27.10it/s]"
     ]
    },
    {
     "name": "stdout",
     "output_type": "stream",
     "text": [
      "Iteration: 1120 | disc_loss: -0.750805139541626 | gen_loss: 0.7894012928009033\n",
      "Iteration: 1121 | disc_loss: -0.6876912117004395 | gen_loss: 0.7081342339515686\n",
      "Iteration: 1122 | disc_loss: -0.9473226070404053 | gen_loss: 0.4072541296482086\n",
      "Iteration: 1123 | disc_loss: -1.082806944847107 | gen_loss: 0.4261608123779297\n",
      "Iteration: 1124 | disc_loss: -0.971917986869812 | gen_loss: 0.6362994909286499\n",
      "Iteration: 1125 | disc_loss: -0.8855668306350708 | gen_loss: 0.31703853607177734\n"
     ]
    },
    {
     "name": "stderr",
     "output_type": "stream",
     "text": [
      " 23%|██▎       | 1132/5001 [00:46<02:26, 26.42it/s]"
     ]
    },
    {
     "name": "stdout",
     "output_type": "stream",
     "text": [
      "Iteration: 1126 | disc_loss: -0.9677502512931824 | gen_loss: 0.38299760222435\n",
      "Iteration: 1127 | disc_loss: -0.5223910212516785 | gen_loss: 0.33024799823760986\n",
      "Iteration: 1128 | disc_loss: -0.8022642135620117 | gen_loss: 0.6227819919586182\n",
      "Iteration: 1129 | disc_loss: -0.9120665192604065 | gen_loss: 0.5761281251907349\n",
      "Iteration: 1130 | disc_loss: -0.9498535990715027 | gen_loss: 0.7022039890289307\n",
      "Iteration: 1131 | disc_loss: -0.7975749969482422 | gen_loss: 0.6707134246826172\n"
     ]
    },
    {
     "name": "stderr",
     "output_type": "stream",
     "text": [
      " 23%|██▎       | 1138/5001 [00:46<02:28, 25.98it/s]"
     ]
    },
    {
     "name": "stdout",
     "output_type": "stream",
     "text": [
      "Iteration: 1132 | disc_loss: -0.6317777633666992 | gen_loss: 0.8866908550262451\n",
      "Iteration: 1133 | disc_loss: -0.5298741459846497 | gen_loss: 0.9761214852333069\n",
      "Iteration: 1134 | disc_loss: -1.0727853775024414 | gen_loss: 1.1134229898452759\n",
      "Iteration: 1135 | disc_loss: -0.6629623174667358 | gen_loss: 1.0240201950073242\n",
      "Iteration: 1136 | disc_loss: -0.8470838069915771 | gen_loss: 0.9157741069793701\n",
      "Iteration: 1137 | disc_loss: -1.3152894973754883 | gen_loss: 0.876663327217102\n"
     ]
    },
    {
     "name": "stderr",
     "output_type": "stream",
     "text": [
      " 23%|██▎       | 1144/5001 [00:46<02:31, 25.54it/s]"
     ]
    },
    {
     "name": "stdout",
     "output_type": "stream",
     "text": [
      "Iteration: 1138 | disc_loss: -0.5267435908317566 | gen_loss: 0.8127574920654297\n",
      "Iteration: 1139 | disc_loss: -0.7477033138275146 | gen_loss: 0.7257204651832581\n",
      "Iteration: 1140 | disc_loss: -0.8324564099311829 | gen_loss: 0.7109488248825073\n",
      "Iteration: 1141 | disc_loss: -0.8147544264793396 | gen_loss: 0.7766441106796265\n",
      "Iteration: 1142 | disc_loss: -0.8524888157844543 | gen_loss: 0.7121952772140503\n",
      "Iteration: 1143 | disc_loss: -0.8022359013557434 | gen_loss: 0.6737129092216492\n"
     ]
    },
    {
     "name": "stderr",
     "output_type": "stream",
     "text": [
      " 23%|██▎       | 1150/5001 [00:46<02:25, 26.46it/s]"
     ]
    },
    {
     "name": "stdout",
     "output_type": "stream",
     "text": [
      "Iteration: 1144 | disc_loss: -0.9281278252601624 | gen_loss: 0.643499493598938\n",
      "Iteration: 1145 | disc_loss: -0.8347440361976624 | gen_loss: 0.7085853219032288\n",
      "Iteration: 1146 | disc_loss: -0.9722522497177124 | gen_loss: 0.5751737952232361\n",
      "Iteration: 1147 | disc_loss: -0.8427299857139587 | gen_loss: 0.8740068674087524\n",
      "Iteration: 1148 | disc_loss: -1.0203458070755005 | gen_loss: 0.7132208347320557\n",
      "Iteration: 1149 | disc_loss: -0.8366155624389648 | gen_loss: 0.5600606203079224\n"
     ]
    },
    {
     "name": "stderr",
     "output_type": "stream",
     "text": [
      " 23%|██▎       | 1156/5001 [00:46<02:25, 26.51it/s]"
     ]
    },
    {
     "name": "stdout",
     "output_type": "stream",
     "text": [
      "Iteration: 1150 | disc_loss: -0.9601203203201294 | gen_loss: 0.8133606910705566\n",
      "Iteration: 1151 | disc_loss: -0.976379930973053 | gen_loss: 0.7771527767181396\n",
      "Iteration: 1152 | disc_loss: -0.7386135458946228 | gen_loss: 0.5480232238769531\n",
      "Iteration: 1153 | disc_loss: -1.02253258228302 | gen_loss: 0.6135896444320679\n",
      "Iteration: 1154 | disc_loss: -0.8286069631576538 | gen_loss: 0.4077194035053253\n",
      "Iteration: 1155 | disc_loss: -0.9881933331489563 | gen_loss: 0.7709022164344788\n"
     ]
    },
    {
     "name": "stderr",
     "output_type": "stream",
     "text": [
      " 23%|██▎       | 1162/5001 [00:47<02:25, 26.40it/s]"
     ]
    },
    {
     "name": "stdout",
     "output_type": "stream",
     "text": [
      "Iteration: 1156 | disc_loss: -1.0054277181625366 | gen_loss: 0.7661188840866089\n",
      "Iteration: 1157 | disc_loss: -0.9516417980194092 | gen_loss: 0.6931161284446716\n",
      "Iteration: 1158 | disc_loss: -0.2659456133842468 | gen_loss: 0.6827784180641174\n",
      "Iteration: 1159 | disc_loss: -0.8134360313415527 | gen_loss: 0.7259878516197205\n",
      "Iteration: 1160 | disc_loss: -0.586681604385376 | gen_loss: 0.7592825889587402\n",
      "Iteration: 1161 | disc_loss: -0.7462352514266968 | gen_loss: 0.7095110416412354\n"
     ]
    },
    {
     "name": "stderr",
     "output_type": "stream",
     "text": [
      " 23%|██▎       | 1168/5001 [00:47<02:25, 26.41it/s]"
     ]
    },
    {
     "name": "stdout",
     "output_type": "stream",
     "text": [
      "Iteration: 1162 | disc_loss: -0.8381595611572266 | gen_loss: 0.6781427264213562\n",
      "Iteration: 1163 | disc_loss: -0.8885336518287659 | gen_loss: 0.873541533946991\n",
      "Iteration: 1164 | disc_loss: -0.868915319442749 | gen_loss: 0.6182230710983276\n",
      "Iteration: 1165 | disc_loss: -0.7895833849906921 | gen_loss: 1.07411527633667\n",
      "Iteration: 1166 | disc_loss: -0.8273860812187195 | gen_loss: 0.7176890969276428\n",
      "Iteration: 1167 | disc_loss: -0.6954365372657776 | gen_loss: 0.8775536417961121\n"
     ]
    },
    {
     "name": "stderr",
     "output_type": "stream",
     "text": [
      " 23%|██▎       | 1174/5001 [00:47<02:24, 26.51it/s]"
     ]
    },
    {
     "name": "stdout",
     "output_type": "stream",
     "text": [
      "Iteration: 1168 | disc_loss: -0.646605372428894 | gen_loss: 0.7104587554931641\n",
      "Iteration: 1169 | disc_loss: -0.9757692217826843 | gen_loss: 0.5684422850608826\n",
      "Iteration: 1170 | disc_loss: -0.7828224897384644 | gen_loss: 0.8407756090164185\n",
      "Iteration: 1171 | disc_loss: -1.036787509918213 | gen_loss: 0.5237895250320435\n",
      "Iteration: 1172 | disc_loss: -0.7845650911331177 | gen_loss: 0.7351105213165283\n",
      "Iteration: 1173 | disc_loss: -1.084873914718628 | gen_loss: 0.8097943663597107\n"
     ]
    },
    {
     "name": "stderr",
     "output_type": "stream",
     "text": [
      " 24%|██▎       | 1180/5001 [00:47<02:26, 26.07it/s]"
     ]
    },
    {
     "name": "stdout",
     "output_type": "stream",
     "text": [
      "Iteration: 1174 | disc_loss: -0.4681847095489502 | gen_loss: 0.622422456741333\n",
      "Iteration: 1175 | disc_loss: -0.9599136114120483 | gen_loss: 0.8577982783317566\n",
      "Iteration: 1176 | disc_loss: -0.9962189197540283 | gen_loss: 0.7765132188796997\n",
      "Iteration: 1177 | disc_loss: -1.345202088356018 | gen_loss: 0.7012780904769897\n",
      "Iteration: 1178 | disc_loss: -1.1560876369476318 | gen_loss: 1.9647332429885864\n",
      "Iteration: 1179 | disc_loss: -1.1761691570281982 | gen_loss: 1.5099513530731201\n"
     ]
    },
    {
     "name": "stderr",
     "output_type": "stream",
     "text": [
      " 24%|██▎       | 1186/5001 [00:48<02:24, 26.38it/s]"
     ]
    },
    {
     "name": "stdout",
     "output_type": "stream",
     "text": [
      "Iteration: 1180 | disc_loss: -0.5902126431465149 | gen_loss: 0.7361286878585815\n",
      "Iteration: 1181 | disc_loss: -1.1128610372543335 | gen_loss: 0.6854000687599182\n",
      "Iteration: 1182 | disc_loss: -0.938241720199585 | gen_loss: 0.8386974334716797\n",
      "Iteration: 1183 | disc_loss: -0.556316614151001 | gen_loss: 1.4215742349624634\n",
      "Iteration: 1184 | disc_loss: -0.8037522435188293 | gen_loss: 0.994540810585022\n",
      "Iteration: 1185 | disc_loss: -0.9499982595443726 | gen_loss: 0.8751262426376343\n"
     ]
    },
    {
     "name": "stderr",
     "output_type": "stream",
     "text": [
      " 24%|██▍       | 1192/5001 [00:48<02:28, 25.65it/s]"
     ]
    },
    {
     "name": "stdout",
     "output_type": "stream",
     "text": [
      "Iteration: 1186 | disc_loss: -0.9472927451133728 | gen_loss: 1.0287514925003052\n",
      "Iteration: 1187 | disc_loss: -0.7318354249000549 | gen_loss: 0.896652102470398\n",
      "Iteration: 1188 | disc_loss: -0.8419778943061829 | gen_loss: 0.7268587350845337\n",
      "Iteration: 1189 | disc_loss: -0.9003807902336121 | gen_loss: 0.6982871294021606\n",
      "Iteration: 1190 | disc_loss: -0.6996384263038635 | gen_loss: 1.0418751239776611\n",
      "Iteration: 1191 | disc_loss: -0.9058482646942139 | gen_loss: 0.49347978830337524\n"
     ]
    },
    {
     "name": "stderr",
     "output_type": "stream",
     "text": [
      " 24%|██▍       | 1198/5001 [00:48<02:28, 25.60it/s]"
     ]
    },
    {
     "name": "stdout",
     "output_type": "stream",
     "text": [
      "Iteration: 1192 | disc_loss: -0.7708707451820374 | gen_loss: 0.5823276042938232\n",
      "Iteration: 1193 | disc_loss: -0.8998331427574158 | gen_loss: 0.8605927228927612\n",
      "Iteration: 1194 | disc_loss: -0.9107640385627747 | gen_loss: 0.6673189997673035\n",
      "Iteration: 1195 | disc_loss: -0.8832160234451294 | gen_loss: 0.7157142162322998\n",
      "Iteration: 1196 | disc_loss: -0.9149937629699707 | gen_loss: 0.6241358518600464\n",
      "Iteration: 1197 | disc_loss: -0.9551158547401428 | gen_loss: 0.3636360168457031\n"
     ]
    },
    {
     "name": "stderr",
     "output_type": "stream",
     "text": [
      " 24%|██▍       | 1201/5001 [00:48<02:35, 24.48it/s]"
     ]
    },
    {
     "name": "stdout",
     "output_type": "stream",
     "text": [
      "Iteration: 1198 | disc_loss: -0.9414247274398804 | gen_loss: 0.5401654839515686\n",
      "Iteration: 1199 | disc_loss: -1.032981276512146 | gen_loss: 0.2461348921060562\n",
      "Iteration: 1200 | disc_loss: -1.1167035102844238 | gen_loss: 0.48982101678848267\n",
      "Iteration: 1201 | disc_loss: -1.3538029193878174 | gen_loss: 0.06002392619848251\n",
      "Iteration: 1202 | disc_loss: -0.7552478909492493 | gen_loss: 0.3279852271080017\n"
     ]
    },
    {
     "name": "stderr",
     "output_type": "stream",
     "text": [
      " 24%|██▍       | 1207/5001 [00:48<02:27, 25.70it/s]"
     ]
    },
    {
     "name": "stdout",
     "output_type": "stream",
     "text": [
      "Iteration: 1203 | disc_loss: -1.001318335533142 | gen_loss: 0.7312692403793335\n",
      "Iteration: 1204 | disc_loss: -1.1405876874923706 | gen_loss: 0.6527862548828125\n",
      "Iteration: 1205 | disc_loss: -1.215211033821106 | gen_loss: 0.2671569883823395\n",
      "Iteration: 1206 | disc_loss: -0.983526349067688 | gen_loss: 0.4391927719116211\n",
      "Iteration: 1207 | disc_loss: -0.2509699761867523 | gen_loss: 0.5053313970565796\n",
      "Iteration: 1208 | disc_loss: -0.7922854423522949 | gen_loss: 0.3320488929748535\n"
     ]
    },
    {
     "name": "stderr",
     "output_type": "stream",
     "text": [
      " 24%|██▍       | 1213/5001 [00:49<02:24, 26.30it/s]"
     ]
    },
    {
     "name": "stdout",
     "output_type": "stream",
     "text": [
      "Iteration: 1209 | disc_loss: -0.8859890103340149 | gen_loss: 0.8657742738723755\n",
      "Iteration: 1210 | disc_loss: -0.8436387777328491 | gen_loss: 0.882002055644989\n",
      "Iteration: 1211 | disc_loss: -0.9728975892066956 | gen_loss: 0.7779258489608765\n",
      "Iteration: 1212 | disc_loss: -0.843619167804718 | gen_loss: 0.6308506727218628\n",
      "Iteration: 1213 | disc_loss: -1.023909330368042 | gen_loss: 0.2233741730451584\n",
      "Iteration: 1214 | disc_loss: -0.9995172023773193 | gen_loss: 0.4818629026412964\n"
     ]
    },
    {
     "name": "stderr",
     "output_type": "stream",
     "text": [
      " 24%|██▍       | 1219/5001 [00:49<02:20, 26.91it/s]"
     ]
    },
    {
     "name": "stdout",
     "output_type": "stream",
     "text": [
      "Iteration: 1215 | disc_loss: -0.2915937006473541 | gen_loss: 0.4667247533798218\n",
      "Iteration: 1216 | disc_loss: -0.7232933044433594 | gen_loss: 0.6408402919769287\n",
      "Iteration: 1217 | disc_loss: -1.028275728225708 | gen_loss: 0.7727234959602356\n",
      "Iteration: 1218 | disc_loss: -0.5957204699516296 | gen_loss: 0.6110296249389648\n",
      "Iteration: 1219 | disc_loss: -0.9944053292274475 | gen_loss: 0.7610468864440918\n",
      "Iteration: 1220 | disc_loss: -0.6906877160072327 | gen_loss: 0.7041702270507812\n"
     ]
    },
    {
     "name": "stderr",
     "output_type": "stream",
     "text": [
      " 24%|██▍       | 1225/5001 [00:49<02:22, 26.57it/s]"
     ]
    },
    {
     "name": "stdout",
     "output_type": "stream",
     "text": [
      "Iteration: 1221 | disc_loss: -1.0089484453201294 | gen_loss: 1.0771852731704712\n",
      "Iteration: 1222 | disc_loss: -0.6336297988891602 | gen_loss: 0.8791396617889404\n",
      "Iteration: 1223 | disc_loss: -0.9177858233451843 | gen_loss: 0.8484711050987244\n",
      "Iteration: 1224 | disc_loss: -1.1180676221847534 | gen_loss: 1.2212905883789062\n",
      "Iteration: 1225 | disc_loss: -0.7273924350738525 | gen_loss: 1.0615332126617432\n",
      "Iteration: 1226 | disc_loss: -0.9773350358009338 | gen_loss: 0.7165492177009583\n"
     ]
    },
    {
     "name": "stderr",
     "output_type": "stream",
     "text": [
      " 25%|██▍       | 1231/5001 [00:49<02:24, 26.02it/s]"
     ]
    },
    {
     "name": "stdout",
     "output_type": "stream",
     "text": [
      "Iteration: 1227 | disc_loss: -0.7090553641319275 | gen_loss: 0.8533574938774109\n",
      "Iteration: 1228 | disc_loss: -0.6645428538322449 | gen_loss: 0.9010359048843384\n",
      "Iteration: 1229 | disc_loss: -0.9461619853973389 | gen_loss: 0.7428556084632874\n",
      "Iteration: 1230 | disc_loss: -0.9993657469749451 | gen_loss: 0.8092190027236938\n",
      "Iteration: 1231 | disc_loss: -0.7952402830123901 | gen_loss: 0.5897359251976013\n",
      "Iteration: 1232 | disc_loss: -0.9661157131195068 | gen_loss: 0.640442430973053\n"
     ]
    },
    {
     "name": "stderr",
     "output_type": "stream",
     "text": [
      " 25%|██▍       | 1237/5001 [00:50<02:23, 26.26it/s]"
     ]
    },
    {
     "name": "stdout",
     "output_type": "stream",
     "text": [
      "Iteration: 1233 | disc_loss: -0.9523163437843323 | gen_loss: 0.49412524700164795\n",
      "Iteration: 1234 | disc_loss: -1.0504237413406372 | gen_loss: 0.5070759654045105\n",
      "Iteration: 1235 | disc_loss: -0.7478067874908447 | gen_loss: 0.615939736366272\n",
      "Iteration: 1236 | disc_loss: -0.7553075551986694 | gen_loss: 0.620329737663269\n",
      "Iteration: 1237 | disc_loss: -1.022670865058899 | gen_loss: 0.3938807249069214\n",
      "Iteration: 1238 | disc_loss: -0.9768692255020142 | gen_loss: 0.25712156295776367\n"
     ]
    },
    {
     "name": "stderr",
     "output_type": "stream",
     "text": [
      " 25%|██▍       | 1243/5001 [00:50<02:21, 26.55it/s]"
     ]
    },
    {
     "name": "stdout",
     "output_type": "stream",
     "text": [
      "Iteration: 1239 | disc_loss: -0.9744143486022949 | gen_loss: 0.6789535284042358\n",
      "Iteration: 1240 | disc_loss: -1.002061367034912 | gen_loss: 0.4795917868614197\n",
      "Iteration: 1241 | disc_loss: -0.9404629468917847 | gen_loss: 0.6092830896377563\n",
      "Iteration: 1242 | disc_loss: -0.808565616607666 | gen_loss: 0.3492034077644348\n",
      "Iteration: 1243 | disc_loss: -0.6955927610397339 | gen_loss: 0.6702051758766174\n",
      "Iteration: 1244 | disc_loss: -0.802338719367981 | gen_loss: 1.083089828491211\n"
     ]
    },
    {
     "name": "stderr",
     "output_type": "stream",
     "text": [
      " 25%|██▍       | 1249/5001 [00:50<02:28, 25.34it/s]"
     ]
    },
    {
     "name": "stdout",
     "output_type": "stream",
     "text": [
      "Iteration: 1245 | disc_loss: -0.7091697454452515 | gen_loss: 0.7252348065376282\n",
      "Iteration: 1246 | disc_loss: -0.7415105104446411 | gen_loss: 0.8857550024986267\n",
      "Iteration: 1247 | disc_loss: -0.8662471771240234 | gen_loss: 0.8298678398132324\n",
      "Iteration: 1248 | disc_loss: -0.8664816617965698 | gen_loss: 0.6916705369949341\n",
      "Iteration: 1249 | disc_loss: -1.6124569177627563 | gen_loss: 1.3430824279785156\n"
     ]
    },
    {
     "name": "stderr",
     "output_type": "stream",
     "text": [
      " 25%|██▌       | 1255/5001 [00:50<02:23, 26.09it/s]"
     ]
    },
    {
     "name": "stdout",
     "output_type": "stream",
     "text": [
      "Iteration: 1250 | disc_loss: -1.378469467163086 | gen_loss: 0.8028088808059692\n",
      "Iteration: 1251 | disc_loss: -0.8557277917861938 | gen_loss: 1.0468722581863403\n",
      "Iteration: 1252 | disc_loss: -0.8800827264785767 | gen_loss: 0.773901641368866\n",
      "Iteration: 1253 | disc_loss: -0.7940903306007385 | gen_loss: 1.2572963237762451\n",
      "Iteration: 1254 | disc_loss: -0.6247857809066772 | gen_loss: 0.7571777105331421\n",
      "Iteration: 1255 | disc_loss: -0.7419729232788086 | gen_loss: 0.7972065210342407\n"
     ]
    },
    {
     "name": "stderr",
     "output_type": "stream",
     "text": [
      " 25%|██▌       | 1261/5001 [00:50<02:23, 26.01it/s]"
     ]
    },
    {
     "name": "stdout",
     "output_type": "stream",
     "text": [
      "Iteration: 1256 | disc_loss: -0.8306900262832642 | gen_loss: 0.8278927206993103\n",
      "Iteration: 1257 | disc_loss: -0.6673608422279358 | gen_loss: 0.7264831066131592\n",
      "Iteration: 1258 | disc_loss: -0.7529537677764893 | gen_loss: 0.6908574104309082\n",
      "Iteration: 1259 | disc_loss: -0.7496040463447571 | gen_loss: 0.5699506998062134\n",
      "Iteration: 1260 | disc_loss: -0.9184309244155884 | gen_loss: 0.4797201156616211\n",
      "Iteration: 1261 | disc_loss: -0.6784493327140808 | gen_loss: 0.44426482915878296\n"
     ]
    },
    {
     "name": "stderr",
     "output_type": "stream",
     "text": [
      " 25%|██▌       | 1267/5001 [00:51<02:20, 26.62it/s]"
     ]
    },
    {
     "name": "stdout",
     "output_type": "stream",
     "text": [
      "Iteration: 1262 | disc_loss: -0.6391474008560181 | gen_loss: 0.5534691214561462\n",
      "Iteration: 1263 | disc_loss: -0.8495475053787231 | gen_loss: 0.4778468906879425\n",
      "Iteration: 1264 | disc_loss: -1.0165529251098633 | gen_loss: 0.39211052656173706\n",
      "Iteration: 1265 | disc_loss: -0.8215901851654053 | gen_loss: 0.5754163861274719\n",
      "Iteration: 1266 | disc_loss: -0.9635393619537354 | gen_loss: 0.6154879331588745\n",
      "Iteration: 1267 | disc_loss: -0.7476438879966736 | gen_loss: 0.6687004566192627\n"
     ]
    },
    {
     "name": "stderr",
     "output_type": "stream",
     "text": [
      " 25%|██▌       | 1273/5001 [00:51<02:36, 23.85it/s]"
     ]
    },
    {
     "name": "stdout",
     "output_type": "stream",
     "text": [
      "Iteration: 1268 | disc_loss: -0.9245792031288147 | gen_loss: 0.4214380979537964\n",
      "Iteration: 1269 | disc_loss: -1.0401588678359985 | gen_loss: 0.6150515079498291\n",
      "Iteration: 1270 | disc_loss: -0.7917969226837158 | gen_loss: 0.33982905745506287\n",
      "Iteration: 1271 | disc_loss: -1.0355944633483887 | gen_loss: 0.7090569734573364\n",
      "Iteration: 1272 | disc_loss: -1.044872522354126 | gen_loss: 0.5477553606033325\n"
     ]
    },
    {
     "name": "stderr",
     "output_type": "stream",
     "text": [
      " 26%|██▌       | 1279/5001 [00:51<02:29, 24.95it/s]"
     ]
    },
    {
     "name": "stdout",
     "output_type": "stream",
     "text": [
      "Iteration: 1273 | disc_loss: -0.610158383846283 | gen_loss: 0.18519273400306702\n",
      "Iteration: 1274 | disc_loss: -1.1475698947906494 | gen_loss: 0.3269525170326233\n",
      "Iteration: 1275 | disc_loss: -0.5942680835723877 | gen_loss: 0.7100083827972412\n",
      "Iteration: 1276 | disc_loss: -0.5773651003837585 | gen_loss: 0.8110743165016174\n",
      "Iteration: 1277 | disc_loss: -0.8263733386993408 | gen_loss: 0.9772714376449585\n",
      "Iteration: 1278 | disc_loss: -0.30822694301605225 | gen_loss: 0.4547159671783447\n"
     ]
    },
    {
     "name": "stderr",
     "output_type": "stream",
     "text": [
      " 26%|██▌       | 1285/5001 [00:51<02:25, 25.51it/s]"
     ]
    },
    {
     "name": "stdout",
     "output_type": "stream",
     "text": [
      "Iteration: 1279 | disc_loss: -0.9811031818389893 | gen_loss: 0.2693801522254944\n",
      "Iteration: 1280 | disc_loss: -0.8017786741256714 | gen_loss: 0.5415148735046387\n",
      "Iteration: 1281 | disc_loss: -0.9975374341011047 | gen_loss: 0.5795748233795166\n",
      "Iteration: 1282 | disc_loss: -0.680090069770813 | gen_loss: 0.7454473972320557\n",
      "Iteration: 1283 | disc_loss: -0.7355632185935974 | gen_loss: 0.4852408766746521\n",
      "Iteration: 1284 | disc_loss: -0.6953035593032837 | gen_loss: 0.5460659265518188\n"
     ]
    },
    {
     "name": "stderr",
     "output_type": "stream",
     "text": [
      " 26%|██▌       | 1291/5001 [00:52<02:30, 24.73it/s]"
     ]
    },
    {
     "name": "stdout",
     "output_type": "stream",
     "text": [
      "Iteration: 1285 | disc_loss: -1.010927438735962 | gen_loss: 0.46779489517211914\n",
      "Iteration: 1286 | disc_loss: -0.9396339654922485 | gen_loss: 0.5894483327865601\n",
      "Iteration: 1287 | disc_loss: -1.0876699686050415 | gen_loss: 0.32685208320617676\n",
      "Iteration: 1288 | disc_loss: -1.0058927536010742 | gen_loss: 0.6111197471618652\n",
      "Iteration: 1289 | disc_loss: -0.9210032224655151 | gen_loss: 0.46244409680366516\n",
      "Iteration: 1290 | disc_loss: -1.3351842164993286 | gen_loss: 0.8370594382286072\n"
     ]
    },
    {
     "name": "stderr",
     "output_type": "stream",
     "text": [
      " 26%|██▌       | 1297/5001 [00:52<02:23, 25.85it/s]"
     ]
    },
    {
     "name": "stdout",
     "output_type": "stream",
     "text": [
      "Iteration: 1291 | disc_loss: -1.054718017578125 | gen_loss: 0.7280212640762329\n",
      "Iteration: 1292 | disc_loss: -1.0166618824005127 | gen_loss: 0.9530031085014343\n",
      "Iteration: 1293 | disc_loss: -0.9127848148345947 | gen_loss: 1.0120246410369873\n",
      "Iteration: 1294 | disc_loss: -0.8160156011581421 | gen_loss: 0.9753023386001587\n",
      "Iteration: 1295 | disc_loss: -0.8909755349159241 | gen_loss: 0.8773906230926514\n",
      "Iteration: 1296 | disc_loss: -1.3493157625198364 | gen_loss: 1.1897609233856201\n"
     ]
    },
    {
     "name": "stderr",
     "output_type": "stream",
     "text": [
      " 26%|██▌       | 1303/5001 [00:52<02:20, 26.26it/s]"
     ]
    },
    {
     "name": "stdout",
     "output_type": "stream",
     "text": [
      "Iteration: 1297 | disc_loss: -0.5953038930892944 | gen_loss: 1.0638025999069214\n",
      "Iteration: 1298 | disc_loss: -1.137681007385254 | gen_loss: 0.793440043926239\n",
      "Iteration: 1299 | disc_loss: -0.7764695882797241 | gen_loss: 0.5748095512390137\n",
      "Iteration: 1300 | disc_loss: -0.6329455971717834 | gen_loss: 0.6771994233131409\n",
      "Iteration: 1301 | disc_loss: -0.7187455296516418 | gen_loss: 0.7929790019989014\n",
      "Iteration: 1302 | disc_loss: -0.8217340111732483 | gen_loss: 0.6997249722480774\n"
     ]
    },
    {
     "name": "stderr",
     "output_type": "stream",
     "text": [
      " 26%|██▌       | 1309/5001 [00:52<02:19, 26.51it/s]"
     ]
    },
    {
     "name": "stdout",
     "output_type": "stream",
     "text": [
      "Iteration: 1303 | disc_loss: -0.7145366072654724 | gen_loss: 0.6967726349830627\n",
      "Iteration: 1304 | disc_loss: -0.8974024057388306 | gen_loss: 0.8933365345001221\n",
      "Iteration: 1305 | disc_loss: -0.6956733465194702 | gen_loss: 0.572685718536377\n",
      "Iteration: 1306 | disc_loss: -0.740506649017334 | gen_loss: 0.7662299871444702\n",
      "Iteration: 1307 | disc_loss: -0.9101557731628418 | gen_loss: 0.363723486661911\n",
      "Iteration: 1308 | disc_loss: -1.0514475107192993 | gen_loss: 0.3806281089782715\n"
     ]
    },
    {
     "name": "stderr",
     "output_type": "stream",
     "text": [
      " 26%|██▋       | 1315/5001 [00:53<02:18, 26.61it/s]"
     ]
    },
    {
     "name": "stdout",
     "output_type": "stream",
     "text": [
      "Iteration: 1309 | disc_loss: -0.9236289262771606 | gen_loss: 0.6869621276855469\n",
      "Iteration: 1310 | disc_loss: -0.9398120641708374 | gen_loss: 0.6772772073745728\n",
      "Iteration: 1311 | disc_loss: -0.8440933227539062 | gen_loss: 0.7091658115386963\n",
      "Iteration: 1312 | disc_loss: -0.6701334714889526 | gen_loss: 0.6225863099098206\n",
      "Iteration: 1313 | disc_loss: -1.023373007774353 | gen_loss: 0.3576434254646301\n",
      "Iteration: 1314 | disc_loss: -1.0575792789459229 | gen_loss: 0.21050134301185608\n"
     ]
    },
    {
     "name": "stderr",
     "output_type": "stream",
     "text": [
      " 26%|██▋       | 1321/5001 [00:53<02:17, 26.77it/s]"
     ]
    },
    {
     "name": "stdout",
     "output_type": "stream",
     "text": [
      "Iteration: 1315 | disc_loss: -1.0674272775650024 | gen_loss: 0.42107439041137695\n",
      "Iteration: 1316 | disc_loss: -0.9399023652076721 | gen_loss: 0.33048179745674133\n",
      "Iteration: 1317 | disc_loss: -0.07465752959251404 | gen_loss: -0.13913339376449585\n",
      "Iteration: 1318 | disc_loss: -0.838270366191864 | gen_loss: 0.6463785171508789\n",
      "Iteration: 1319 | disc_loss: -0.8219559192657471 | gen_loss: 0.8313952684402466\n",
      "Iteration: 1320 | disc_loss: -0.8651664853096008 | gen_loss: 0.9230251312255859\n"
     ]
    },
    {
     "name": "stderr",
     "output_type": "stream",
     "text": [
      " 27%|██▋       | 1327/5001 [00:53<02:17, 26.79it/s]"
     ]
    },
    {
     "name": "stdout",
     "output_type": "stream",
     "text": [
      "Iteration: 1321 | disc_loss: -0.7000223994255066 | gen_loss: 1.0631663799285889\n",
      "Iteration: 1322 | disc_loss: -1.0610201358795166 | gen_loss: 0.9863553047180176\n",
      "Iteration: 1323 | disc_loss: -0.6083835363388062 | gen_loss: 1.1285196542739868\n",
      "Iteration: 1324 | disc_loss: -1.0413010120391846 | gen_loss: 1.0110561847686768\n",
      "Iteration: 1325 | disc_loss: -0.6301060914993286 | gen_loss: 1.7685400247573853\n",
      "Iteration: 1326 | disc_loss: -0.7886919975280762 | gen_loss: 0.9392810463905334\n"
     ]
    },
    {
     "name": "stderr",
     "output_type": "stream",
     "text": [
      " 27%|██▋       | 1330/5001 [00:53<02:21, 25.99it/s]"
     ]
    },
    {
     "name": "stdout",
     "output_type": "stream",
     "text": [
      "Iteration: 1327 | disc_loss: -0.7022393345832825 | gen_loss: 0.6311596632003784\n",
      "Iteration: 1328 | disc_loss: -0.7462814450263977 | gen_loss: 0.7857160568237305\n",
      "Iteration: 1329 | disc_loss: -0.8758757710456848 | gen_loss: 0.8301132917404175\n",
      "Iteration: 1330 | disc_loss: -0.8185210227966309 | gen_loss: 0.9673006534576416\n",
      "Iteration: 1331 | disc_loss: -0.879938006401062 | gen_loss: 0.7563698887825012\n"
     ]
    },
    {
     "name": "stderr",
     "output_type": "stream",
     "text": [
      " 27%|██▋       | 1336/5001 [00:53<02:23, 25.52it/s]"
     ]
    },
    {
     "name": "stdout",
     "output_type": "stream",
     "text": [
      "Iteration: 1332 | disc_loss: -0.8388836979866028 | gen_loss: 0.8472800254821777\n",
      "Iteration: 1333 | disc_loss: -0.9318684339523315 | gen_loss: 0.5403545498847961\n",
      "Iteration: 1334 | disc_loss: -0.8185681700706482 | gen_loss: 0.736930251121521\n",
      "Iteration: 1335 | disc_loss: -0.9615926742553711 | gen_loss: 0.5461050868034363\n",
      "Iteration: 1336 | disc_loss: -0.7897537350654602 | gen_loss: 0.6477658748626709\n",
      "Iteration: 1337 | disc_loss: -0.9732541441917419 | gen_loss: 0.6474624872207642\n"
     ]
    },
    {
     "name": "stderr",
     "output_type": "stream",
     "text": [
      " 27%|██▋       | 1342/5001 [00:54<02:18, 26.36it/s]"
     ]
    },
    {
     "name": "stdout",
     "output_type": "stream",
     "text": [
      "Iteration: 1338 | disc_loss: -0.8537874817848206 | gen_loss: 0.7377330660820007\n",
      "Iteration: 1339 | disc_loss: -0.7409273982048035 | gen_loss: 0.6289014220237732\n",
      "Iteration: 1340 | disc_loss: -0.7937864661216736 | gen_loss: 0.7554517388343811\n",
      "Iteration: 1341 | disc_loss: -1.033800721168518 | gen_loss: 0.4108732342720032\n",
      "Iteration: 1342 | disc_loss: -1.071220874786377 | gen_loss: 0.31684744358062744\n",
      "Iteration: 1343 | disc_loss: -0.9253764748573303 | gen_loss: 0.7137578129768372\n"
     ]
    },
    {
     "name": "stderr",
     "output_type": "stream",
     "text": [
      " 27%|██▋       | 1348/5001 [00:54<02:17, 26.52it/s]"
     ]
    },
    {
     "name": "stdout",
     "output_type": "stream",
     "text": [
      "Iteration: 1344 | disc_loss: -0.8553842306137085 | gen_loss: 0.38767337799072266\n",
      "Iteration: 1345 | disc_loss: -0.9630656242370605 | gen_loss: 0.6579943895339966\n",
      "Iteration: 1346 | disc_loss: -0.9051405787467957 | gen_loss: 0.5835087299346924\n",
      "Iteration: 1347 | disc_loss: -0.6088791489601135 | gen_loss: 0.8113620281219482\n",
      "Iteration: 1348 | disc_loss: -0.7236014008522034 | gen_loss: 0.7942420244216919\n",
      "Iteration: 1349 | disc_loss: -0.636742115020752 | gen_loss: 0.5644670724868774\n"
     ]
    },
    {
     "name": "stderr",
     "output_type": "stream",
     "text": [
      " 27%|██▋       | 1354/5001 [00:54<02:17, 26.58it/s]"
     ]
    },
    {
     "name": "stdout",
     "output_type": "stream",
     "text": [
      "Iteration: 1350 | disc_loss: -0.8527669310569763 | gen_loss: 0.7623854875564575\n",
      "Iteration: 1351 | disc_loss: -0.886054515838623 | gen_loss: 0.4464234709739685\n",
      "Iteration: 1352 | disc_loss: -1.1094293594360352 | gen_loss: 0.7027031779289246\n",
      "Iteration: 1353 | disc_loss: -1.0395506620407104 | gen_loss: 0.9507011771202087\n",
      "Iteration: 1354 | disc_loss: -0.9027982354164124 | gen_loss: 0.42550626397132874\n",
      "Iteration: 1355 | disc_loss: -0.6101891994476318 | gen_loss: 0.7029123306274414\n"
     ]
    },
    {
     "name": "stderr",
     "output_type": "stream",
     "text": [
      " 27%|██▋       | 1360/5001 [00:54<02:16, 26.61it/s]"
     ]
    },
    {
     "name": "stdout",
     "output_type": "stream",
     "text": [
      "Iteration: 1356 | disc_loss: -0.6474474668502808 | gen_loss: 0.5258516073226929\n",
      "Iteration: 1357 | disc_loss: -0.6259112358093262 | gen_loss: 0.7962981462478638\n",
      "Iteration: 1358 | disc_loss: -0.8386363983154297 | gen_loss: 0.6016424894332886\n",
      "Iteration: 1359 | disc_loss: -0.966256320476532 | gen_loss: 0.4669136106967926\n",
      "Iteration: 1360 | disc_loss: -0.8167643547058105 | gen_loss: 0.6538541913032532\n",
      "Iteration: 1361 | disc_loss: -0.46480560302734375 | gen_loss: 0.5628094673156738\n"
     ]
    },
    {
     "name": "stderr",
     "output_type": "stream",
     "text": [
      " 27%|██▋       | 1366/5001 [00:54<02:17, 26.52it/s]"
     ]
    },
    {
     "name": "stdout",
     "output_type": "stream",
     "text": [
      "Iteration: 1362 | disc_loss: -0.8351837396621704 | gen_loss: 0.8361766934394836\n",
      "Iteration: 1363 | disc_loss: -0.4967045783996582 | gen_loss: 0.6642903089523315\n",
      "Iteration: 1364 | disc_loss: -0.9812001585960388 | gen_loss: 0.9595207571983337\n",
      "Iteration: 1365 | disc_loss: -0.7986782789230347 | gen_loss: 0.8241226673126221\n",
      "Iteration: 1366 | disc_loss: -1.0510088205337524 | gen_loss: 0.9933038353919983\n",
      "Iteration: 1367 | disc_loss: -0.8477479815483093 | gen_loss: 0.8817821145057678\n"
     ]
    },
    {
     "name": "stderr",
     "output_type": "stream",
     "text": [
      " 27%|██▋       | 1372/5001 [00:55<02:16, 26.50it/s]"
     ]
    },
    {
     "name": "stdout",
     "output_type": "stream",
     "text": [
      "Iteration: 1368 | disc_loss: -0.34555327892303467 | gen_loss: 0.7046626210212708\n",
      "Iteration: 1369 | disc_loss: -1.0042486190795898 | gen_loss: 1.0362281799316406\n",
      "Iteration: 1370 | disc_loss: -0.6991552710533142 | gen_loss: 0.7721514701843262\n",
      "Iteration: 1371 | disc_loss: -0.7359989285469055 | gen_loss: 1.045064926147461\n",
      "Iteration: 1372 | disc_loss: -0.9525719285011292 | gen_loss: 0.6443071961402893\n",
      "Iteration: 1373 | disc_loss: -0.8750412464141846 | gen_loss: 1.0455057621002197\n"
     ]
    },
    {
     "name": "stderr",
     "output_type": "stream",
     "text": [
      " 28%|██▊       | 1378/5001 [00:55<02:16, 26.46it/s]"
     ]
    },
    {
     "name": "stdout",
     "output_type": "stream",
     "text": [
      "Iteration: 1374 | disc_loss: -0.8409749865531921 | gen_loss: 0.7117564678192139\n",
      "Iteration: 1375 | disc_loss: -0.738278865814209 | gen_loss: 0.5392593741416931\n",
      "Iteration: 1376 | disc_loss: -0.9291626811027527 | gen_loss: 0.5149208307266235\n",
      "Iteration: 1377 | disc_loss: -0.934655487537384 | gen_loss: 0.6100057363510132\n",
      "Iteration: 1378 | disc_loss: -0.9758957028388977 | gen_loss: 0.31101828813552856\n",
      "Iteration: 1379 | disc_loss: -0.7520063519477844 | gen_loss: 0.5006992816925049\n"
     ]
    },
    {
     "name": "stderr",
     "output_type": "stream",
     "text": [
      " 28%|██▊       | 1384/5001 [00:55<02:16, 26.41it/s]"
     ]
    },
    {
     "name": "stdout",
     "output_type": "stream",
     "text": [
      "Iteration: 1380 | disc_loss: -0.5691976547241211 | gen_loss: 0.8132351040840149\n",
      "Iteration: 1381 | disc_loss: -0.6750169396400452 | gen_loss: 0.45515507459640503\n",
      "Iteration: 1382 | disc_loss: -0.893682599067688 | gen_loss: 0.7199059724807739\n",
      "Iteration: 1383 | disc_loss: -0.9141681790351868 | gen_loss: 0.6072415113449097\n",
      "Iteration: 1384 | disc_loss: -0.8538672924041748 | gen_loss: 0.8177199959754944\n",
      "Iteration: 1385 | disc_loss: -0.6049157381057739 | gen_loss: 0.7000899314880371\n"
     ]
    },
    {
     "name": "stderr",
     "output_type": "stream",
     "text": [
      " 28%|██▊       | 1390/5001 [00:55<02:17, 26.23it/s]"
     ]
    },
    {
     "name": "stdout",
     "output_type": "stream",
     "text": [
      "Iteration: 1386 | disc_loss: -0.7252427935600281 | gen_loss: 0.7328714728355408\n",
      "Iteration: 1387 | disc_loss: -1.0797383785247803 | gen_loss: 0.7660150527954102\n",
      "Iteration: 1388 | disc_loss: -0.6069819331169128 | gen_loss: 0.7889543175697327\n",
      "Iteration: 1389 | disc_loss: -0.8829278945922852 | gen_loss: 0.6809852123260498\n",
      "Iteration: 1390 | disc_loss: -0.9386472702026367 | gen_loss: 0.8814222812652588\n",
      "Iteration: 1391 | disc_loss: -0.6046584248542786 | gen_loss: 0.9246583580970764\n"
     ]
    },
    {
     "name": "stderr",
     "output_type": "stream",
     "text": [
      " 28%|██▊       | 1396/5001 [00:56<02:16, 26.39it/s]"
     ]
    },
    {
     "name": "stdout",
     "output_type": "stream",
     "text": [
      "Iteration: 1392 | disc_loss: -0.886811375617981 | gen_loss: 0.9496366381645203\n",
      "Iteration: 1393 | disc_loss: -0.7877455949783325 | gen_loss: 0.6421096920967102\n",
      "Iteration: 1394 | disc_loss: -0.9541594982147217 | gen_loss: 0.48043423891067505\n",
      "Iteration: 1395 | disc_loss: -0.7643401622772217 | gen_loss: 0.7623131275177002\n",
      "Iteration: 1396 | disc_loss: -0.6628751754760742 | gen_loss: 0.5865494012832642\n",
      "Iteration: 1397 | disc_loss: -0.6637284755706787 | gen_loss: 0.7451080679893494\n"
     ]
    },
    {
     "name": "stderr",
     "output_type": "stream",
     "text": [
      " 28%|██▊       | 1402/5001 [00:56<02:20, 25.68it/s]"
     ]
    },
    {
     "name": "stdout",
     "output_type": "stream",
     "text": [
      "Iteration: 1398 | disc_loss: -0.9589593410491943 | gen_loss: 0.7850869297981262\n",
      "Iteration: 1399 | disc_loss: -0.8171595335006714 | gen_loss: 0.5644052028656006\n",
      "Iteration: 1400 | disc_loss: -0.8682271242141724 | gen_loss: 0.7396472096443176\n",
      "Iteration: 1401 | disc_loss: -0.9218403697013855 | gen_loss: 0.59925377368927\n",
      "Iteration: 1402 | disc_loss: -0.8278544545173645 | gen_loss: 0.5660693645477295\n"
     ]
    },
    {
     "name": "stderr",
     "output_type": "stream",
     "text": [
      " 28%|██▊       | 1408/5001 [00:56<02:17, 26.16it/s]"
     ]
    },
    {
     "name": "stdout",
     "output_type": "stream",
     "text": [
      "Iteration: 1403 | disc_loss: -0.7872552275657654 | gen_loss: 0.5209436416625977\n",
      "Iteration: 1404 | disc_loss: -0.8375328183174133 | gen_loss: 0.5668003559112549\n",
      "Iteration: 1405 | disc_loss: -0.9180144667625427 | gen_loss: 0.6864534616470337\n",
      "Iteration: 1406 | disc_loss: -0.8057760000228882 | gen_loss: 0.6285762190818787\n",
      "Iteration: 1407 | disc_loss: -0.847070574760437 | gen_loss: 0.6485036015510559\n",
      "Iteration: 1408 | disc_loss: -0.8943511247634888 | gen_loss: 0.6328556537628174\n"
     ]
    },
    {
     "name": "stderr",
     "output_type": "stream",
     "text": [
      " 28%|██▊       | 1414/5001 [00:56<02:17, 26.08it/s]"
     ]
    },
    {
     "name": "stdout",
     "output_type": "stream",
     "text": [
      "Iteration: 1409 | disc_loss: -0.7945024967193604 | gen_loss: 0.2999579906463623\n",
      "Iteration: 1410 | disc_loss: -0.7931647896766663 | gen_loss: -0.029125124216079712\n",
      "Iteration: 1411 | disc_loss: -0.6177240610122681 | gen_loss: 0.17111486196517944\n",
      "Iteration: 1412 | disc_loss: -0.7301545143127441 | gen_loss: 0.6516395807266235\n",
      "Iteration: 1413 | disc_loss: -0.6710546016693115 | gen_loss: 0.6317092776298523\n",
      "Iteration: 1414 | disc_loss: -0.8120538592338562 | gen_loss: 0.7394141554832458\n"
     ]
    },
    {
     "name": "stderr",
     "output_type": "stream",
     "text": [
      " 28%|██▊       | 1420/5001 [00:57<02:15, 26.49it/s]"
     ]
    },
    {
     "name": "stdout",
     "output_type": "stream",
     "text": [
      "Iteration: 1415 | disc_loss: -0.7143502235412598 | gen_loss: 0.5851919651031494\n",
      "Iteration: 1416 | disc_loss: -0.7910429239273071 | gen_loss: 0.8101776838302612\n",
      "Iteration: 1417 | disc_loss: -0.8152004480361938 | gen_loss: 0.7193067073822021\n",
      "Iteration: 1418 | disc_loss: -0.6516678929328918 | gen_loss: 0.44233131408691406\n",
      "Iteration: 1419 | disc_loss: -0.3523533344268799 | gen_loss: 0.8102458119392395\n",
      "Iteration: 1420 | disc_loss: -0.7850590348243713 | gen_loss: 0.6345645785331726\n"
     ]
    },
    {
     "name": "stderr",
     "output_type": "stream",
     "text": [
      " 29%|██▊       | 1426/5001 [00:57<02:13, 26.86it/s]"
     ]
    },
    {
     "name": "stdout",
     "output_type": "stream",
     "text": [
      "Iteration: 1421 | disc_loss: -0.8957550525665283 | gen_loss: 0.6848888397216797\n",
      "Iteration: 1422 | disc_loss: -0.6317015886306763 | gen_loss: 0.6318226456642151\n",
      "Iteration: 1423 | disc_loss: -0.856711745262146 | gen_loss: 0.4990164041519165\n",
      "Iteration: 1424 | disc_loss: -0.887443482875824 | gen_loss: 0.37318816781044006\n",
      "Iteration: 1425 | disc_loss: -0.8505500555038452 | gen_loss: 0.595836877822876\n",
      "Iteration: 1426 | disc_loss: -0.9458228349685669 | gen_loss: 0.4230417311191559\n"
     ]
    },
    {
     "name": "stderr",
     "output_type": "stream",
     "text": [
      " 29%|██▊       | 1432/5001 [00:57<02:12, 26.92it/s]"
     ]
    },
    {
     "name": "stdout",
     "output_type": "stream",
     "text": [
      "Iteration: 1427 | disc_loss: -0.96554034948349 | gen_loss: 0.305815726518631\n",
      "Iteration: 1428 | disc_loss: -0.36670196056365967 | gen_loss: 0.613377571105957\n",
      "Iteration: 1429 | disc_loss: -0.8227752447128296 | gen_loss: 0.6996233463287354\n",
      "Iteration: 1430 | disc_loss: -0.6808855533599854 | gen_loss: 0.8120632767677307\n",
      "Iteration: 1431 | disc_loss: -0.9865330457687378 | gen_loss: 0.698173999786377\n",
      "Iteration: 1432 | disc_loss: -0.7349603772163391 | gen_loss: 0.5999233722686768\n"
     ]
    },
    {
     "name": "stderr",
     "output_type": "stream",
     "text": [
      " 29%|██▉       | 1438/5001 [00:57<02:12, 26.86it/s]"
     ]
    },
    {
     "name": "stdout",
     "output_type": "stream",
     "text": [
      "Iteration: 1433 | disc_loss: -0.9268320798873901 | gen_loss: 0.7286019325256348\n",
      "Iteration: 1434 | disc_loss: -1.0028507709503174 | gen_loss: 0.6619954109191895\n",
      "Iteration: 1435 | disc_loss: -0.5930371880531311 | gen_loss: 0.5351484417915344\n",
      "Iteration: 1436 | disc_loss: -0.7958296537399292 | gen_loss: 0.7215574383735657\n",
      "Iteration: 1437 | disc_loss: -0.6953972578048706 | gen_loss: 0.5036439299583435\n",
      "Iteration: 1438 | disc_loss: -0.8472031950950623 | gen_loss: 0.8486950397491455\n"
     ]
    },
    {
     "name": "stderr",
     "output_type": "stream",
     "text": [
      " 29%|██▉       | 1444/5001 [00:57<02:11, 26.98it/s]"
     ]
    },
    {
     "name": "stdout",
     "output_type": "stream",
     "text": [
      "Iteration: 1439 | disc_loss: -0.6753730773925781 | gen_loss: 0.6106481552124023\n",
      "Iteration: 1440 | disc_loss: -0.8607184290885925 | gen_loss: 0.7561196684837341\n",
      "Iteration: 1441 | disc_loss: -0.8303694128990173 | gen_loss: 0.6109911799430847\n",
      "Iteration: 1442 | disc_loss: -0.9302601218223572 | gen_loss: 0.7250339984893799\n",
      "Iteration: 1443 | disc_loss: -0.9626893401145935 | gen_loss: 0.6480584144592285\n",
      "Iteration: 1444 | disc_loss: -0.8206150531768799 | gen_loss: 0.5953289270401001\n"
     ]
    },
    {
     "name": "stderr",
     "output_type": "stream",
     "text": [
      " 29%|██▉       | 1450/5001 [00:58<02:13, 26.54it/s]"
     ]
    },
    {
     "name": "stdout",
     "output_type": "stream",
     "text": [
      "Iteration: 1445 | disc_loss: -0.802611768245697 | gen_loss: 0.44686824083328247\n",
      "Iteration: 1446 | disc_loss: -0.739497184753418 | gen_loss: 0.5300924777984619\n",
      "Iteration: 1447 | disc_loss: -0.888520359992981 | gen_loss: 0.691648006439209\n",
      "Iteration: 1448 | disc_loss: -0.799136221408844 | gen_loss: 0.501160740852356\n",
      "Iteration: 1449 | disc_loss: -0.9583572149276733 | gen_loss: 0.28776463866233826\n",
      "Iteration: 1450 | disc_loss: -0.9835968017578125 | gen_loss: 0.6344846487045288\n"
     ]
    },
    {
     "name": "stderr",
     "output_type": "stream",
     "text": [
      " 29%|██▉       | 1456/5001 [00:58<02:12, 26.79it/s]"
     ]
    },
    {
     "name": "stdout",
     "output_type": "stream",
     "text": [
      "Iteration: 1451 | disc_loss: -0.5263170599937439 | gen_loss: 0.523232102394104\n",
      "Iteration: 1452 | disc_loss: -0.5780474543571472 | gen_loss: 0.41789501905441284\n",
      "Iteration: 1453 | disc_loss: -0.8407307863235474 | gen_loss: 0.6001051664352417\n",
      "Iteration: 1454 | disc_loss: -0.745299756526947 | gen_loss: 0.6527454853057861\n",
      "Iteration: 1455 | disc_loss: -0.7441583871841431 | gen_loss: 0.6390063762664795\n",
      "Iteration: 1456 | disc_loss: -0.6443965435028076 | gen_loss: 0.6181992292404175\n"
     ]
    },
    {
     "name": "stderr",
     "output_type": "stream",
     "text": [
      " 29%|██▉       | 1462/5001 [00:58<02:09, 27.31it/s]"
     ]
    },
    {
     "name": "stdout",
     "output_type": "stream",
     "text": [
      "Iteration: 1457 | disc_loss: -0.9460271596908569 | gen_loss: 0.46872347593307495\n",
      "Iteration: 1458 | disc_loss: -0.8783532977104187 | gen_loss: 0.5235356092453003\n",
      "Iteration: 1459 | disc_loss: -0.8693421483039856 | gen_loss: 0.5887929201126099\n",
      "Iteration: 1460 | disc_loss: -0.966708779335022 | gen_loss: 0.21693405508995056\n",
      "Iteration: 1461 | disc_loss: -1.0432695150375366 | gen_loss: 0.5729216933250427\n",
      "Iteration: 1462 | disc_loss: -0.4306909441947937 | gen_loss: 0.5096880197525024\n"
     ]
    },
    {
     "name": "stderr",
     "output_type": "stream",
     "text": [
      " 29%|██▉       | 1468/5001 [00:58<02:09, 27.37it/s]"
     ]
    },
    {
     "name": "stdout",
     "output_type": "stream",
     "text": [
      "Iteration: 1463 | disc_loss: -0.9958727359771729 | gen_loss: 0.5092805624008179\n",
      "Iteration: 1464 | disc_loss: -0.7927161455154419 | gen_loss: 0.42451003193855286\n",
      "Iteration: 1465 | disc_loss: -0.43645015358924866 | gen_loss: 0.6286019086837769\n",
      "Iteration: 1466 | disc_loss: -0.9573464393615723 | gen_loss: 0.34517842531204224\n",
      "Iteration: 1467 | disc_loss: -0.5750004649162292 | gen_loss: 0.4298784136772156\n",
      "Iteration: 1468 | disc_loss: -0.6999639272689819 | gen_loss: 0.5250893831253052\n"
     ]
    },
    {
     "name": "stderr",
     "output_type": "stream",
     "text": [
      " 29%|██▉       | 1474/5001 [00:59<02:09, 27.34it/s]"
     ]
    },
    {
     "name": "stdout",
     "output_type": "stream",
     "text": [
      "Iteration: 1469 | disc_loss: -1.0469011068344116 | gen_loss: 0.47757136821746826\n",
      "Iteration: 1470 | disc_loss: -0.7723354697227478 | gen_loss: 0.4779745936393738\n",
      "Iteration: 1471 | disc_loss: -1.1190019845962524 | gen_loss: 0.3002921938896179\n",
      "Iteration: 1472 | disc_loss: -0.6040054559707642 | gen_loss: 0.09580343216657639\n",
      "Iteration: 1473 | disc_loss: -0.7962173223495483 | gen_loss: 0.47691062092781067\n",
      "Iteration: 1474 | disc_loss: -0.9215136170387268 | gen_loss: 0.6696884632110596\n"
     ]
    },
    {
     "name": "stderr",
     "output_type": "stream",
     "text": [
      " 30%|██▉       | 1480/5001 [00:59<02:14, 26.26it/s]"
     ]
    },
    {
     "name": "stdout",
     "output_type": "stream",
     "text": [
      "Iteration: 1475 | disc_loss: -0.8305823802947998 | gen_loss: 0.690100908279419\n",
      "Iteration: 1476 | disc_loss: -0.8145503997802734 | gen_loss: 0.8020527362823486\n",
      "Iteration: 1477 | disc_loss: -1.0913370847702026 | gen_loss: 0.7107244729995728\n",
      "Iteration: 1478 | disc_loss: -0.907201886177063 | gen_loss: 1.0573328733444214\n",
      "Iteration: 1479 | disc_loss: -1.105904459953308 | gen_loss: 1.1010851860046387\n",
      "Iteration: 1480 | disc_loss: -1.6145532131195068 | gen_loss: 0.7446805238723755\n"
     ]
    },
    {
     "name": "stderr",
     "output_type": "stream",
     "text": [
      " 30%|██▉       | 1486/5001 [00:59<02:13, 26.40it/s]"
     ]
    },
    {
     "name": "stdout",
     "output_type": "stream",
     "text": [
      "Iteration: 1481 | disc_loss: -0.8261409401893616 | gen_loss: 0.6976211071014404\n",
      "Iteration: 1482 | disc_loss: -0.6484955549240112 | gen_loss: 0.5850315093994141\n",
      "Iteration: 1483 | disc_loss: -0.9880537986755371 | gen_loss: 0.8267477750778198\n",
      "Iteration: 1484 | disc_loss: -0.6542763710021973 | gen_loss: 0.6192750930786133\n",
      "Iteration: 1485 | disc_loss: -0.6916712522506714 | gen_loss: 0.8149121999740601\n",
      "Iteration: 1486 | disc_loss: -0.9642772674560547 | gen_loss: 0.527031421661377\n"
     ]
    },
    {
     "name": "stderr",
     "output_type": "stream",
     "text": [
      " 30%|██▉       | 1492/5001 [00:59<02:20, 24.98it/s]"
     ]
    },
    {
     "name": "stdout",
     "output_type": "stream",
     "text": [
      "Iteration: 1487 | disc_loss: -1.0095487833023071 | gen_loss: 0.5558602213859558\n",
      "Iteration: 1488 | disc_loss: -0.35241568088531494 | gen_loss: 0.4820898771286011\n",
      "Iteration: 1489 | disc_loss: -0.6757102608680725 | gen_loss: 0.6914399266242981\n",
      "Iteration: 1490 | disc_loss: -0.6593151688575745 | gen_loss: 0.5915530920028687\n",
      "Iteration: 1491 | disc_loss: -0.7273551225662231 | gen_loss: 0.633861780166626\n"
     ]
    },
    {
     "name": "stderr",
     "output_type": "stream",
     "text": [
      " 30%|██▉       | 1495/5001 [00:59<02:18, 25.38it/s]"
     ]
    },
    {
     "name": "stdout",
     "output_type": "stream",
     "text": [
      "Iteration: 1492 | disc_loss: -0.8872911334037781 | gen_loss: 0.7746106386184692\n",
      "Iteration: 1493 | disc_loss: -0.8031968474388123 | gen_loss: 0.6653845310211182\n",
      "Iteration: 1494 | disc_loss: -0.8471801280975342 | gen_loss: 0.6157488822937012\n",
      "Iteration: 1495 | disc_loss: -0.7051755785942078 | gen_loss: 0.6588637232780457\n",
      "Iteration: 1496 | disc_loss: -0.9292425513267517 | gen_loss: 0.38922470808029175\n"
     ]
    },
    {
     "name": "stderr",
     "output_type": "stream",
     "text": [
      " 30%|███       | 1501/5001 [01:00<02:20, 24.89it/s]"
     ]
    },
    {
     "name": "stdout",
     "output_type": "stream",
     "text": [
      "Iteration: 1497 | disc_loss: -0.6933013200759888 | gen_loss: 0.35632216930389404\n",
      "Iteration: 1498 | disc_loss: -0.804032564163208 | gen_loss: 0.2747598886489868\n",
      "Iteration: 1499 | disc_loss: -1.0823853015899658 | gen_loss: 0.4273666739463806\n",
      "Iteration: 1500 | disc_loss: -0.5885498523712158 | gen_loss: 0.3826683759689331\n",
      "Iteration: 1501 | disc_loss: -1.0057525634765625 | gen_loss: 0.43890121579170227\n",
      "Iteration: 1502 | disc_loss: -0.9185425043106079 | gen_loss: 0.6679210662841797\n"
     ]
    },
    {
     "name": "stderr",
     "output_type": "stream",
     "text": [
      " 30%|███       | 1507/5001 [01:00<02:15, 25.79it/s]"
     ]
    },
    {
     "name": "stdout",
     "output_type": "stream",
     "text": [
      "Iteration: 1503 | disc_loss: -0.6787025332450867 | gen_loss: 0.5318105816841125\n",
      "Iteration: 1504 | disc_loss: -0.8785637021064758 | gen_loss: 0.7090780735015869\n",
      "Iteration: 1505 | disc_loss: -0.709821343421936 | gen_loss: 0.9823926687240601\n",
      "Iteration: 1506 | disc_loss: -0.7620316743850708 | gen_loss: 0.6527410745620728\n",
      "Iteration: 1507 | disc_loss: -0.745954692363739 | gen_loss: 0.5977104306221008\n",
      "Iteration: 1508 | disc_loss: -0.6118541359901428 | gen_loss: 0.7112435698509216\n"
     ]
    },
    {
     "name": "stderr",
     "output_type": "stream",
     "text": [
      " 30%|███       | 1513/5001 [01:00<02:16, 25.53it/s]"
     ]
    },
    {
     "name": "stdout",
     "output_type": "stream",
     "text": [
      "Iteration: 1509 | disc_loss: -0.4525814354419708 | gen_loss: 0.572492778301239\n",
      "Iteration: 1510 | disc_loss: -0.7516162395477295 | gen_loss: 0.6289685964584351\n",
      "Iteration: 1511 | disc_loss: -0.6472024917602539 | gen_loss: 0.7305111885070801\n",
      "Iteration: 1512 | disc_loss: -0.7199816107749939 | gen_loss: 0.6446750164031982\n",
      "Iteration: 1513 | disc_loss: -0.7687124609947205 | gen_loss: 0.6550222635269165\n",
      "Iteration: 1514 | disc_loss: -0.6622788310050964 | gen_loss: 0.3959929049015045\n"
     ]
    },
    {
     "name": "stderr",
     "output_type": "stream",
     "text": [
      " 30%|███       | 1519/5001 [01:00<02:10, 26.64it/s]"
     ]
    },
    {
     "name": "stdout",
     "output_type": "stream",
     "text": [
      "Iteration: 1515 | disc_loss: -0.7255374193191528 | gen_loss: 0.5861662030220032\n",
      "Iteration: 1516 | disc_loss: -0.8292537927627563 | gen_loss: 0.5904118418693542\n",
      "Iteration: 1517 | disc_loss: -0.61687171459198 | gen_loss: 0.42579221725463867\n",
      "Iteration: 1518 | disc_loss: -0.727275550365448 | gen_loss: 0.593497097492218\n",
      "Iteration: 1519 | disc_loss: -0.934822142124176 | gen_loss: 0.6824036836624146\n",
      "Iteration: 1520 | disc_loss: -0.4878389835357666 | gen_loss: 0.8233473896980286\n"
     ]
    },
    {
     "name": "stderr",
     "output_type": "stream",
     "text": [
      " 30%|███       | 1525/5001 [01:01<02:08, 27.06it/s]"
     ]
    },
    {
     "name": "stdout",
     "output_type": "stream",
     "text": [
      "Iteration: 1521 | disc_loss: -0.690284788608551 | gen_loss: 0.9903638362884521\n",
      "Iteration: 1522 | disc_loss: -0.7439603805541992 | gen_loss: 0.5188097357749939\n",
      "Iteration: 1523 | disc_loss: -1.2235794067382812 | gen_loss: 0.5321829319000244\n",
      "Iteration: 1524 | disc_loss: -0.7752800583839417 | gen_loss: 0.5929103493690491\n",
      "Iteration: 1525 | disc_loss: -0.7909865975379944 | gen_loss: 0.6808357834815979\n"
     ]
    },
    {
     "name": "stderr",
     "output_type": "stream",
     "text": [
      " 31%|███       | 1531/5001 [01:01<02:14, 25.85it/s]"
     ]
    },
    {
     "name": "stdout",
     "output_type": "stream",
     "text": [
      "Iteration: 1526 | disc_loss: -0.9572897553443909 | gen_loss: 0.6707965135574341\n",
      "Iteration: 1527 | disc_loss: -0.7459073066711426 | gen_loss: 0.5992895364761353\n",
      "Iteration: 1528 | disc_loss: -0.7437072396278381 | gen_loss: 0.7779484987258911\n",
      "Iteration: 1529 | disc_loss: -0.9348220229148865 | gen_loss: 0.465065062046051\n",
      "Iteration: 1530 | disc_loss: -0.7949645519256592 | gen_loss: 0.5991435050964355\n",
      "Iteration: 1531 | disc_loss: -0.7918813228607178 | gen_loss: 0.6133390665054321\n"
     ]
    },
    {
     "name": "stderr",
     "output_type": "stream",
     "text": [
      " 31%|███       | 1537/5001 [01:01<02:19, 24.75it/s]"
     ]
    },
    {
     "name": "stdout",
     "output_type": "stream",
     "text": [
      "Iteration: 1532 | disc_loss: -0.9296928644180298 | gen_loss: 0.5580494403839111\n",
      "Iteration: 1533 | disc_loss: -0.828795313835144 | gen_loss: 0.6117182970046997\n",
      "Iteration: 1534 | disc_loss: -0.889894425868988 | gen_loss: 0.591217041015625\n",
      "Iteration: 1535 | disc_loss: -0.8683274984359741 | gen_loss: 0.5116599202156067\n",
      "Iteration: 1536 | disc_loss: -0.9528781771659851 | gen_loss: 0.4774015247821808\n",
      "Iteration: 1537 | disc_loss: -0.8799203038215637 | gen_loss: 0.44211870431900024\n"
     ]
    },
    {
     "name": "stderr",
     "output_type": "stream",
     "text": [
      " 31%|███       | 1543/5001 [01:01<02:13, 25.85it/s]"
     ]
    },
    {
     "name": "stdout",
     "output_type": "stream",
     "text": [
      "Iteration: 1538 | disc_loss: -0.767361044883728 | gen_loss: 0.7029064893722534\n",
      "Iteration: 1539 | disc_loss: -0.5708225965499878 | gen_loss: 0.4640486538410187\n",
      "Iteration: 1540 | disc_loss: -0.7569133043289185 | gen_loss: 0.4765164256095886\n",
      "Iteration: 1541 | disc_loss: -0.7329282164573669 | gen_loss: 0.6602065563201904\n",
      "Iteration: 1542 | disc_loss: -0.7459502220153809 | gen_loss: 0.8197053670883179\n",
      "Iteration: 1543 | disc_loss: -0.6786583662033081 | gen_loss: 0.5315174460411072\n"
     ]
    },
    {
     "name": "stderr",
     "output_type": "stream",
     "text": [
      " 31%|███       | 1549/5001 [01:01<02:12, 26.02it/s]"
     ]
    },
    {
     "name": "stdout",
     "output_type": "stream",
     "text": [
      "Iteration: 1544 | disc_loss: -0.7300812005996704 | gen_loss: 0.48328715562820435\n",
      "Iteration: 1545 | disc_loss: -0.7039353251457214 | gen_loss: 0.6113015413284302\n",
      "Iteration: 1546 | disc_loss: -0.852595329284668 | gen_loss: 0.7182241082191467\n",
      "Iteration: 1547 | disc_loss: -0.455763578414917 | gen_loss: 0.6193418502807617\n",
      "Iteration: 1548 | disc_loss: -0.8822994828224182 | gen_loss: 0.774209201335907\n",
      "Iteration: 1549 | disc_loss: -0.933914065361023 | gen_loss: 0.809944748878479\n"
     ]
    },
    {
     "name": "stderr",
     "output_type": "stream",
     "text": [
      " 31%|███       | 1555/5001 [01:02<02:11, 26.27it/s]"
     ]
    },
    {
     "name": "stdout",
     "output_type": "stream",
     "text": [
      "Iteration: 1550 | disc_loss: -0.9436075687408447 | gen_loss: 0.6399527788162231\n",
      "Iteration: 1551 | disc_loss: -0.6989038586616516 | gen_loss: 0.49130699038505554\n",
      "Iteration: 1552 | disc_loss: -0.8379621505737305 | gen_loss: 0.6658337116241455\n",
      "Iteration: 1553 | disc_loss: -1.031423568725586 | gen_loss: 0.5178085565567017\n",
      "Iteration: 1554 | disc_loss: -0.7560411095619202 | gen_loss: 0.7308787107467651\n",
      "Iteration: 1555 | disc_loss: -0.8842040300369263 | gen_loss: 0.6244038343429565\n"
     ]
    },
    {
     "name": "stderr",
     "output_type": "stream",
     "text": [
      " 31%|███       | 1561/5001 [01:02<02:12, 25.88it/s]"
     ]
    },
    {
     "name": "stdout",
     "output_type": "stream",
     "text": [
      "Iteration: 1556 | disc_loss: -0.8951396346092224 | gen_loss: 0.6451959609985352\n",
      "Iteration: 1557 | disc_loss: -0.6643005609512329 | gen_loss: 0.6462366580963135\n",
      "Iteration: 1558 | disc_loss: -1.0168697834014893 | gen_loss: 0.4800260066986084\n",
      "Iteration: 1559 | disc_loss: -1.0374456644058228 | gen_loss: 0.8232975006103516\n",
      "Iteration: 1560 | disc_loss: -0.5033881068229675 | gen_loss: 0.6715161800384521\n",
      "Iteration: 1561 | disc_loss: -0.8803735375404358 | gen_loss: 0.6441749930381775\n"
     ]
    },
    {
     "name": "stderr",
     "output_type": "stream",
     "text": [
      " 31%|███▏      | 1567/5001 [01:02<02:14, 25.61it/s]"
     ]
    },
    {
     "name": "stdout",
     "output_type": "stream",
     "text": [
      "Iteration: 1562 | disc_loss: -0.9088228344917297 | gen_loss: 0.45366328954696655\n",
      "Iteration: 1563 | disc_loss: -0.8327294588088989 | gen_loss: 0.5335839986801147\n",
      "Iteration: 1564 | disc_loss: -0.8400328755378723 | gen_loss: 0.47233259677886963\n",
      "Iteration: 1565 | disc_loss: -0.7676181793212891 | gen_loss: 0.5729373097419739\n",
      "Iteration: 1566 | disc_loss: -0.7442831993103027 | gen_loss: 0.5173240900039673\n",
      "Iteration: 1567 | disc_loss: -0.9424737691879272 | gen_loss: 0.433113694190979\n"
     ]
    },
    {
     "name": "stderr",
     "output_type": "stream",
     "text": [
      " 31%|███▏      | 1573/5001 [01:02<02:10, 26.17it/s]"
     ]
    },
    {
     "name": "stdout",
     "output_type": "stream",
     "text": [
      "Iteration: 1568 | disc_loss: -0.9103261828422546 | gen_loss: 0.36991244554519653\n",
      "Iteration: 1569 | disc_loss: -1.1425446271896362 | gen_loss: 0.3450843393802643\n",
      "Iteration: 1570 | disc_loss: -0.8660005331039429 | gen_loss: 0.4339469075202942\n",
      "Iteration: 1571 | disc_loss: -0.7860597372055054 | gen_loss: 0.3645358979701996\n",
      "Iteration: 1572 | disc_loss: -0.658847987651825 | gen_loss: 0.6173115968704224\n",
      "Iteration: 1573 | disc_loss: -0.8544275760650635 | gen_loss: 0.39113229513168335\n"
     ]
    },
    {
     "name": "stderr",
     "output_type": "stream",
     "text": [
      " 32%|███▏      | 1579/5001 [01:03<02:09, 26.33it/s]"
     ]
    },
    {
     "name": "stdout",
     "output_type": "stream",
     "text": [
      "Iteration: 1574 | disc_loss: -0.982774019241333 | gen_loss: 0.4540145695209503\n",
      "Iteration: 1575 | disc_loss: -0.6923378705978394 | gen_loss: 0.44290071725845337\n",
      "Iteration: 1576 | disc_loss: -1.0977239608764648 | gen_loss: 0.5790409445762634\n",
      "Iteration: 1577 | disc_loss: -0.7481594681739807 | gen_loss: 0.44960451126098633\n",
      "Iteration: 1578 | disc_loss: -0.9603182077407837 | gen_loss: 0.4934197664260864\n",
      "Iteration: 1579 | disc_loss: -0.8342610597610474 | gen_loss: 0.03841439634561539\n"
     ]
    },
    {
     "name": "stderr",
     "output_type": "stream",
     "text": [
      " 32%|███▏      | 1585/5001 [01:03<02:07, 26.75it/s]"
     ]
    },
    {
     "name": "stdout",
     "output_type": "stream",
     "text": [
      "Iteration: 1580 | disc_loss: -0.5238329768180847 | gen_loss: 0.4153056740760803\n",
      "Iteration: 1581 | disc_loss: -1.0652587413787842 | gen_loss: 0.3231828510761261\n",
      "Iteration: 1582 | disc_loss: -0.5213665962219238 | gen_loss: 0.04663477838039398\n",
      "Iteration: 1583 | disc_loss: -0.7775146961212158 | gen_loss: -0.19498056173324585\n",
      "Iteration: 1584 | disc_loss: -0.5474565625190735 | gen_loss: 0.6675609946250916\n",
      "Iteration: 1585 | disc_loss: -0.9001842141151428 | gen_loss: 0.2285764515399933\n"
     ]
    },
    {
     "name": "stderr",
     "output_type": "stream",
     "text": [
      " 32%|███▏      | 1591/5001 [01:03<02:06, 27.06it/s]"
     ]
    },
    {
     "name": "stdout",
     "output_type": "stream",
     "text": [
      "Iteration: 1586 | disc_loss: -0.9460106492042542 | gen_loss: 0.21679958701133728\n",
      "Iteration: 1587 | disc_loss: -0.7817074060440063 | gen_loss: 0.5222405195236206\n",
      "Iteration: 1588 | disc_loss: -0.8431389331817627 | gen_loss: 0.6320289373397827\n",
      "Iteration: 1589 | disc_loss: -0.8167426586151123 | gen_loss: 0.6004565358161926\n",
      "Iteration: 1590 | disc_loss: -1.019266128540039 | gen_loss: 0.675395131111145\n",
      "Iteration: 1591 | disc_loss: -0.984083890914917 | gen_loss: 0.6248113512992859\n"
     ]
    },
    {
     "name": "stderr",
     "output_type": "stream",
     "text": [
      " 32%|███▏      | 1597/5001 [01:03<02:05, 27.12it/s]"
     ]
    },
    {
     "name": "stdout",
     "output_type": "stream",
     "text": [
      "Iteration: 1592 | disc_loss: -0.6879595518112183 | gen_loss: 0.7114569544792175\n",
      "Iteration: 1593 | disc_loss: -0.7098069190979004 | gen_loss: 0.6656177043914795\n",
      "Iteration: 1594 | disc_loss: -0.6826415657997131 | gen_loss: 0.6869531273841858\n",
      "Iteration: 1595 | disc_loss: -0.7757115960121155 | gen_loss: 0.5436514019966125\n",
      "Iteration: 1596 | disc_loss: -0.6875581741333008 | gen_loss: 0.8527865409851074\n",
      "Iteration: 1597 | disc_loss: -0.9168746471405029 | gen_loss: 0.49803704023361206\n"
     ]
    },
    {
     "name": "stderr",
     "output_type": "stream",
     "text": [
      " 32%|███▏      | 1603/5001 [01:04<02:11, 25.88it/s]"
     ]
    },
    {
     "name": "stdout",
     "output_type": "stream",
     "text": [
      "Iteration: 1598 | disc_loss: -0.9051399230957031 | gen_loss: 0.1672067940235138\n",
      "Iteration: 1599 | disc_loss: -0.9644036293029785 | gen_loss: 0.5662739872932434\n",
      "Iteration: 1600 | disc_loss: -0.5028433203697205 | gen_loss: 0.6075683832168579\n",
      "Iteration: 1601 | disc_loss: -0.839424729347229 | gen_loss: 1.1184601783752441\n",
      "Iteration: 1602 | disc_loss: -0.396621435880661 | gen_loss: 1.39457368850708\n"
     ]
    },
    {
     "name": "stderr",
     "output_type": "stream",
     "text": [
      " 32%|███▏      | 1609/5001 [01:04<02:08, 26.32it/s]"
     ]
    },
    {
     "name": "stdout",
     "output_type": "stream",
     "text": [
      "Iteration: 1603 | disc_loss: -0.5761006474494934 | gen_loss: 0.8900660276412964\n",
      "Iteration: 1604 | disc_loss: -0.7517262697219849 | gen_loss: 0.42194879055023193\n",
      "Iteration: 1605 | disc_loss: -0.6870654225349426 | gen_loss: 0.49863964319229126\n",
      "Iteration: 1606 | disc_loss: -1.027585744857788 | gen_loss: 0.6074448823928833\n",
      "Iteration: 1607 | disc_loss: -0.9011916518211365 | gen_loss: 0.39826691150665283\n",
      "Iteration: 1608 | disc_loss: -0.7545120120048523 | gen_loss: 0.5533936023712158\n"
     ]
    },
    {
     "name": "stderr",
     "output_type": "stream",
     "text": [
      " 32%|███▏      | 1615/5001 [01:04<02:07, 26.61it/s]"
     ]
    },
    {
     "name": "stdout",
     "output_type": "stream",
     "text": [
      "Iteration: 1609 | disc_loss: -0.9522663950920105 | gen_loss: 0.41233256459236145\n",
      "Iteration: 1610 | disc_loss: -0.7291596531867981 | gen_loss: 0.6665887832641602\n",
      "Iteration: 1611 | disc_loss: -0.8015971779823303 | gen_loss: 0.5522786378860474\n",
      "Iteration: 1612 | disc_loss: -0.903195321559906 | gen_loss: 0.3145488202571869\n",
      "Iteration: 1613 | disc_loss: -0.7495232224464417 | gen_loss: 0.557816743850708\n",
      "Iteration: 1614 | disc_loss: -0.8541966080665588 | gen_loss: 0.512608528137207\n"
     ]
    },
    {
     "name": "stderr",
     "output_type": "stream",
     "text": [
      " 32%|███▏      | 1621/5001 [01:04<02:06, 26.77it/s]"
     ]
    },
    {
     "name": "stdout",
     "output_type": "stream",
     "text": [
      "Iteration: 1615 | disc_loss: -0.8718603253364563 | gen_loss: 0.5337239503860474\n",
      "Iteration: 1616 | disc_loss: -0.9250016808509827 | gen_loss: 0.40620386600494385\n",
      "Iteration: 1617 | disc_loss: -0.8394109606742859 | gen_loss: 0.40233057737350464\n",
      "Iteration: 1618 | disc_loss: -0.9021824598312378 | gen_loss: 0.35456305742263794\n",
      "Iteration: 1619 | disc_loss: -0.7329264879226685 | gen_loss: 0.45693087577819824\n",
      "Iteration: 1620 | disc_loss: -0.5641006231307983 | gen_loss: 0.41233378648757935\n"
     ]
    },
    {
     "name": "stderr",
     "output_type": "stream",
     "text": [
      " 33%|███▎      | 1627/5001 [01:04<02:05, 26.89it/s]"
     ]
    },
    {
     "name": "stdout",
     "output_type": "stream",
     "text": [
      "Iteration: 1621 | disc_loss: -0.9107860326766968 | gen_loss: 0.13696007430553436\n",
      "Iteration: 1622 | disc_loss: -1.0224602222442627 | gen_loss: 0.4421166777610779\n",
      "Iteration: 1623 | disc_loss: -1.074635624885559 | gen_loss: 0.4966062903404236\n",
      "Iteration: 1624 | disc_loss: -0.8977493643760681 | gen_loss: 0.6354238986968994\n",
      "Iteration: 1625 | disc_loss: -0.6368560791015625 | gen_loss: 0.5178351402282715\n",
      "Iteration: 1626 | disc_loss: -0.8152415156364441 | gen_loss: 0.5299429297447205\n"
     ]
    },
    {
     "name": "stderr",
     "output_type": "stream",
     "text": [
      " 33%|███▎      | 1633/5001 [01:05<02:04, 27.06it/s]"
     ]
    },
    {
     "name": "stdout",
     "output_type": "stream",
     "text": [
      "Iteration: 1627 | disc_loss: -0.8557373881340027 | gen_loss: 0.5765824913978577\n",
      "Iteration: 1628 | disc_loss: -0.5546731948852539 | gen_loss: 0.5198802947998047\n",
      "Iteration: 1629 | disc_loss: -0.5442570447921753 | gen_loss: 0.20925697684288025\n",
      "Iteration: 1630 | disc_loss: -0.7360037565231323 | gen_loss: 0.35876962542533875\n",
      "Iteration: 1631 | disc_loss: -0.8134248852729797 | gen_loss: 0.4466814398765564\n",
      "Iteration: 1632 | disc_loss: -0.7727949023246765 | gen_loss: 0.4033181667327881\n"
     ]
    },
    {
     "name": "stderr",
     "output_type": "stream",
     "text": [
      " 33%|███▎      | 1639/5001 [01:05<02:05, 26.80it/s]"
     ]
    },
    {
     "name": "stdout",
     "output_type": "stream",
     "text": [
      "Iteration: 1633 | disc_loss: -0.7839992642402649 | gen_loss: 0.35024815797805786\n",
      "Iteration: 1634 | disc_loss: -0.7324858903884888 | gen_loss: 0.4472784399986267\n",
      "Iteration: 1635 | disc_loss: -0.8447097539901733 | gen_loss: 0.5262597799301147\n",
      "Iteration: 1636 | disc_loss: -1.0118201971054077 | gen_loss: 0.3922608494758606\n",
      "Iteration: 1637 | disc_loss: -0.8945996761322021 | gen_loss: 0.399966299533844\n",
      "Iteration: 1638 | disc_loss: -0.7600694894790649 | gen_loss: 0.640634298324585\n"
     ]
    },
    {
     "name": "stderr",
     "output_type": "stream",
     "text": [
      " 33%|███▎      | 1645/5001 [01:05<02:05, 26.76it/s]"
     ]
    },
    {
     "name": "stdout",
     "output_type": "stream",
     "text": [
      "Iteration: 1639 | disc_loss: -0.7887793779373169 | gen_loss: 0.37375855445861816\n",
      "Iteration: 1640 | disc_loss: -1.0247137546539307 | gen_loss: 1.118118166923523\n",
      "Iteration: 1641 | disc_loss: -0.5786191821098328 | gen_loss: 0.5751991271972656\n",
      "Iteration: 1642 | disc_loss: -1.0401993989944458 | gen_loss: 0.4342717230319977\n",
      "Iteration: 1643 | disc_loss: -0.708307147026062 | gen_loss: 0.7278608083724976\n",
      "Iteration: 1644 | disc_loss: -0.8812242150306702 | gen_loss: 0.3063604533672333\n"
     ]
    },
    {
     "name": "stderr",
     "output_type": "stream",
     "text": [
      " 33%|███▎      | 1651/5001 [01:05<02:07, 26.34it/s]"
     ]
    },
    {
     "name": "stdout",
     "output_type": "stream",
     "text": [
      "Iteration: 1645 | disc_loss: -0.8801794052124023 | gen_loss: 0.3784456253051758\n",
      "Iteration: 1646 | disc_loss: -0.6907250285148621 | gen_loss: 0.5239454507827759\n",
      "Iteration: 1647 | disc_loss: -0.6677660346031189 | gen_loss: 0.4542157053947449\n",
      "Iteration: 1648 | disc_loss: -0.7734729647636414 | gen_loss: 0.2821435332298279\n",
      "Iteration: 1649 | disc_loss: -0.7258622646331787 | gen_loss: 0.42328745126724243\n",
      "Iteration: 1650 | disc_loss: -0.9565003514289856 | gen_loss: 0.7669112682342529\n"
     ]
    },
    {
     "name": "stderr",
     "output_type": "stream",
     "text": [
      " 33%|███▎      | 1657/5001 [01:06<02:05, 26.70it/s]"
     ]
    },
    {
     "name": "stdout",
     "output_type": "stream",
     "text": [
      "Iteration: 1651 | disc_loss: -1.0145825147628784 | gen_loss: 0.6733624339103699\n",
      "Iteration: 1652 | disc_loss: -0.4164488911628723 | gen_loss: 0.5875110626220703\n",
      "Iteration: 1653 | disc_loss: -0.6231208443641663 | gen_loss: 0.3383452892303467\n",
      "Iteration: 1654 | disc_loss: -0.7312108278274536 | gen_loss: 0.3950706124305725\n",
      "Iteration: 1655 | disc_loss: -0.6363619565963745 | gen_loss: 0.2350960224866867\n",
      "Iteration: 1656 | disc_loss: -0.8559297919273376 | gen_loss: 0.4115673899650574\n"
     ]
    },
    {
     "name": "stderr",
     "output_type": "stream",
     "text": [
      " 33%|███▎      | 1663/5001 [01:06<02:07, 26.11it/s]"
     ]
    },
    {
     "name": "stdout",
     "output_type": "stream",
     "text": [
      "Iteration: 1657 | disc_loss: -1.0744489431381226 | gen_loss: 0.2591690719127655\n",
      "Iteration: 1658 | disc_loss: -0.8260328769683838 | gen_loss: 0.49743255972862244\n",
      "Iteration: 1659 | disc_loss: -0.7162262201309204 | gen_loss: 0.36104992032051086\n",
      "Iteration: 1660 | disc_loss: -0.8414711952209473 | gen_loss: 0.349645733833313\n",
      "Iteration: 1661 | disc_loss: -0.7717517018318176 | gen_loss: 0.16553425788879395\n",
      "Iteration: 1662 | disc_loss: -0.745649516582489 | gen_loss: 0.40406909584999084\n"
     ]
    },
    {
     "name": "stderr",
     "output_type": "stream",
     "text": [
      " 33%|███▎      | 1669/5001 [01:06<02:06, 26.28it/s]"
     ]
    },
    {
     "name": "stdout",
     "output_type": "stream",
     "text": [
      "Iteration: 1663 | disc_loss: -0.8197149038314819 | gen_loss: 0.18497250974178314\n",
      "Iteration: 1664 | disc_loss: -0.6966342329978943 | gen_loss: 0.22035202383995056\n",
      "Iteration: 1665 | disc_loss: -0.8139841556549072 | gen_loss: 0.41439884901046753\n",
      "Iteration: 1666 | disc_loss: -0.8917140364646912 | gen_loss: 0.2837531566619873\n",
      "Iteration: 1667 | disc_loss: -0.8061847686767578 | gen_loss: 0.15122970938682556\n",
      "Iteration: 1668 | disc_loss: -0.6068834662437439 | gen_loss: 0.3354053497314453\n"
     ]
    },
    {
     "name": "stderr",
     "output_type": "stream",
     "text": [
      " 33%|███▎      | 1675/5001 [01:06<02:04, 26.77it/s]"
     ]
    },
    {
     "name": "stdout",
     "output_type": "stream",
     "text": [
      "Iteration: 1669 | disc_loss: -0.9817950129508972 | gen_loss: 0.5017679333686829\n",
      "Iteration: 1670 | disc_loss: -0.6153706312179565 | gen_loss: 0.49430304765701294\n",
      "Iteration: 1671 | disc_loss: -0.8435520529747009 | gen_loss: 0.27330267429351807\n",
      "Iteration: 1672 | disc_loss: -0.6037424802780151 | gen_loss: 0.4371650516986847\n",
      "Iteration: 1673 | disc_loss: -0.6906875371932983 | gen_loss: 0.4831264913082123\n",
      "Iteration: 1674 | disc_loss: -0.7296859622001648 | gen_loss: 0.38810211420059204\n"
     ]
    },
    {
     "name": "stderr",
     "output_type": "stream",
     "text": [
      " 34%|███▎      | 1681/5001 [01:06<02:03, 26.86it/s]"
     ]
    },
    {
     "name": "stdout",
     "output_type": "stream",
     "text": [
      "Iteration: 1675 | disc_loss: -0.7539493441581726 | gen_loss: 0.4279691278934479\n",
      "Iteration: 1676 | disc_loss: -0.8953545689582825 | gen_loss: 0.5055752992630005\n",
      "Iteration: 1677 | disc_loss: -0.8426355123519897 | gen_loss: 0.4688187837600708\n",
      "Iteration: 1678 | disc_loss: -0.8154799342155457 | gen_loss: 0.4710506498813629\n",
      "Iteration: 1679 | disc_loss: -0.8334288001060486 | gen_loss: 0.4805310368537903\n",
      "Iteration: 1680 | disc_loss: -0.9214718341827393 | gen_loss: 0.42496269941329956\n"
     ]
    },
    {
     "name": "stderr",
     "output_type": "stream",
     "text": [
      " 34%|███▎      | 1687/5001 [01:07<02:05, 26.48it/s]"
     ]
    },
    {
     "name": "stdout",
     "output_type": "stream",
     "text": [
      "Iteration: 1681 | disc_loss: -1.0635093450546265 | gen_loss: 0.5468669533729553\n",
      "Iteration: 1682 | disc_loss: -0.5595260858535767 | gen_loss: 0.5483895540237427\n",
      "Iteration: 1683 | disc_loss: -0.7875996828079224 | gen_loss: 0.33926069736480713\n",
      "Iteration: 1684 | disc_loss: -0.702620804309845 | gen_loss: 0.44335389137268066\n",
      "Iteration: 1685 | disc_loss: -0.6302775144577026 | gen_loss: 0.5165083408355713\n",
      "Iteration: 1686 | disc_loss: -0.6255305409431458 | gen_loss: 0.4682525396347046\n"
     ]
    },
    {
     "name": "stderr",
     "output_type": "stream",
     "text": [
      " 34%|███▍      | 1693/5001 [01:07<02:03, 26.86it/s]"
     ]
    },
    {
     "name": "stdout",
     "output_type": "stream",
     "text": [
      "Iteration: 1687 | disc_loss: -0.9209005236625671 | gen_loss: 0.5568859577178955\n",
      "Iteration: 1688 | disc_loss: -0.979192316532135 | gen_loss: 0.0737467110157013\n",
      "Iteration: 1689 | disc_loss: -0.3736758530139923 | gen_loss: 0.5121228694915771\n",
      "Iteration: 1690 | disc_loss: -0.8214744329452515 | gen_loss: 0.44225725531578064\n",
      "Iteration: 1691 | disc_loss: -0.8221419453620911 | gen_loss: 0.4229499101638794\n",
      "Iteration: 1692 | disc_loss: -0.6117345690727234 | gen_loss: 0.6213728189468384\n"
     ]
    },
    {
     "name": "stderr",
     "output_type": "stream",
     "text": [
      " 34%|███▍      | 1699/5001 [01:07<02:07, 25.98it/s]"
     ]
    },
    {
     "name": "stdout",
     "output_type": "stream",
     "text": [
      "Iteration: 1693 | disc_loss: -0.7389327883720398 | gen_loss: 0.7799439430236816\n",
      "Iteration: 1694 | disc_loss: -0.8006817102432251 | gen_loss: 0.4544185400009155\n",
      "Iteration: 1695 | disc_loss: -0.6885687112808228 | gen_loss: 0.5056287050247192\n",
      "Iteration: 1696 | disc_loss: -0.7810183167457581 | gen_loss: 0.6128018498420715\n",
      "Iteration: 1697 | disc_loss: -0.517112135887146 | gen_loss: 0.3446345627307892\n",
      "Iteration: 1698 | disc_loss: -0.5990039110183716 | gen_loss: 0.3886781930923462\n"
     ]
    },
    {
     "name": "stderr",
     "output_type": "stream",
     "text": [
      " 34%|███▍      | 1705/5001 [01:07<02:04, 26.39it/s]"
     ]
    },
    {
     "name": "stdout",
     "output_type": "stream",
     "text": [
      "Iteration: 1699 | disc_loss: -0.8827378749847412 | gen_loss: 0.4691009819507599\n",
      "Iteration: 1700 | disc_loss: -0.7065982818603516 | gen_loss: 0.3964192867279053\n",
      "Iteration: 1701 | disc_loss: -0.93465256690979 | gen_loss: 0.11469016969203949\n",
      "Iteration: 1702 | disc_loss: -0.6111636757850647 | gen_loss: 0.41313719749450684\n",
      "Iteration: 1703 | disc_loss: -0.9221716523170471 | gen_loss: 0.413644403219223\n",
      "Iteration: 1704 | disc_loss: -0.7830745577812195 | gen_loss: 0.48016709089279175\n"
     ]
    },
    {
     "name": "stderr",
     "output_type": "stream",
     "text": [
      " 34%|███▍      | 1711/5001 [01:08<02:03, 26.61it/s]"
     ]
    },
    {
     "name": "stdout",
     "output_type": "stream",
     "text": [
      "Iteration: 1705 | disc_loss: -0.5984411835670471 | gen_loss: 0.526190996170044\n",
      "Iteration: 1706 | disc_loss: -0.7365059852600098 | gen_loss: 0.3904850482940674\n",
      "Iteration: 1707 | disc_loss: -0.6325497627258301 | gen_loss: 0.45766764879226685\n",
      "Iteration: 1708 | disc_loss: -0.9537843465805054 | gen_loss: 0.40245282649993896\n",
      "Iteration: 1709 | disc_loss: -0.5124098062515259 | gen_loss: 0.7046068906784058\n",
      "Iteration: 1710 | disc_loss: -0.705315887928009 | gen_loss: 0.49385595321655273\n"
     ]
    },
    {
     "name": "stderr",
     "output_type": "stream",
     "text": [
      " 34%|███▍      | 1717/5001 [01:08<02:03, 26.58it/s]"
     ]
    },
    {
     "name": "stdout",
     "output_type": "stream",
     "text": [
      "Iteration: 1711 | disc_loss: -0.9055488109588623 | gen_loss: 0.6191564202308655\n",
      "Iteration: 1712 | disc_loss: -0.8122701644897461 | gen_loss: 0.5588732957839966\n",
      "Iteration: 1713 | disc_loss: -0.9947081208229065 | gen_loss: 0.3422873020172119\n",
      "Iteration: 1714 | disc_loss: -0.8104296326637268 | gen_loss: 0.284747838973999\n",
      "Iteration: 1715 | disc_loss: -0.9060461521148682 | gen_loss: 0.29769307374954224\n",
      "Iteration: 1716 | disc_loss: -0.5835351347923279 | gen_loss: 0.4213755130767822\n"
     ]
    },
    {
     "name": "stderr",
     "output_type": "stream",
     "text": [
      " 34%|███▍      | 1723/5001 [01:08<02:02, 26.68it/s]"
     ]
    },
    {
     "name": "stdout",
     "output_type": "stream",
     "text": [
      "Iteration: 1717 | disc_loss: -0.9327011704444885 | gen_loss: 0.41967102885246277\n",
      "Iteration: 1718 | disc_loss: -0.9919397830963135 | gen_loss: 0.17305472493171692\n",
      "Iteration: 1719 | disc_loss: -0.46867042779922485 | gen_loss: 0.43140143156051636\n",
      "Iteration: 1720 | disc_loss: -0.6765009164810181 | gen_loss: 0.3911096453666687\n",
      "Iteration: 1721 | disc_loss: -0.7214902639389038 | gen_loss: 0.4784206449985504\n",
      "Iteration: 1722 | disc_loss: -0.9672231078147888 | gen_loss: 0.19312819838523865\n"
     ]
    },
    {
     "name": "stderr",
     "output_type": "stream",
     "text": [
      " 35%|███▍      | 1729/5001 [01:08<02:02, 26.62it/s]"
     ]
    },
    {
     "name": "stdout",
     "output_type": "stream",
     "text": [
      "Iteration: 1723 | disc_loss: -0.5882506370544434 | gen_loss: 0.2724568843841553\n",
      "Iteration: 1724 | disc_loss: -0.8785993456840515 | gen_loss: 0.537786066532135\n",
      "Iteration: 1725 | disc_loss: -0.6353922486305237 | gen_loss: 0.5067659020423889\n",
      "Iteration: 1726 | disc_loss: -0.7659010291099548 | gen_loss: 0.30170613527297974\n",
      "Iteration: 1727 | disc_loss: -0.8882752656936646 | gen_loss: -0.02046510949730873\n",
      "Iteration: 1728 | disc_loss: -0.8475350737571716 | gen_loss: 0.2794378697872162\n"
     ]
    },
    {
     "name": "stderr",
     "output_type": "stream",
     "text": [
      " 35%|███▍      | 1735/5001 [01:08<02:02, 26.58it/s]"
     ]
    },
    {
     "name": "stdout",
     "output_type": "stream",
     "text": [
      "Iteration: 1729 | disc_loss: -1.035443902015686 | gen_loss: 0.05743169039487839\n",
      "Iteration: 1730 | disc_loss: -0.8097793459892273 | gen_loss: 0.32748734951019287\n",
      "Iteration: 1731 | disc_loss: -0.8745697736740112 | gen_loss: 0.504711389541626\n",
      "Iteration: 1732 | disc_loss: -0.5448428392410278 | gen_loss: 0.5222688317298889\n",
      "Iteration: 1733 | disc_loss: -0.7765540480613708 | gen_loss: 0.4802349805831909\n",
      "Iteration: 1734 | disc_loss: -0.907376766204834 | gen_loss: 0.6100019216537476\n"
     ]
    },
    {
     "name": "stderr",
     "output_type": "stream",
     "text": [
      " 35%|███▍      | 1741/5001 [01:09<02:03, 26.39it/s]"
     ]
    },
    {
     "name": "stdout",
     "output_type": "stream",
     "text": [
      "Iteration: 1735 | disc_loss: -0.7634373903274536 | gen_loss: 0.6643573045730591\n",
      "Iteration: 1736 | disc_loss: -1.1579935550689697 | gen_loss: 0.6739976406097412\n",
      "Iteration: 1737 | disc_loss: -0.5972558259963989 | gen_loss: 0.7032756209373474\n",
      "Iteration: 1738 | disc_loss: -0.6521525979042053 | gen_loss: 0.8092129826545715\n",
      "Iteration: 1739 | disc_loss: -0.6313549876213074 | gen_loss: 0.7539348602294922\n",
      "Iteration: 1740 | disc_loss: -1.1873953342437744 | gen_loss: 0.5349342823028564\n"
     ]
    },
    {
     "name": "stderr",
     "output_type": "stream",
     "text": [
      " 35%|███▍      | 1744/5001 [01:09<02:04, 26.07it/s]"
     ]
    },
    {
     "name": "stdout",
     "output_type": "stream",
     "text": [
      "Iteration: 1741 | disc_loss: -0.9452432990074158 | gen_loss: 0.8803998231887817\n",
      "Iteration: 1742 | disc_loss: -0.4347538650035858 | gen_loss: 0.753409743309021\n",
      "Iteration: 1743 | disc_loss: -0.6737498641014099 | gen_loss: 0.6704902052879333\n",
      "Iteration: 1744 | disc_loss: -0.5386207103729248 | gen_loss: 0.6271376609802246\n",
      "Iteration: 1745 | disc_loss: -0.7957332730293274 | gen_loss: 0.3409084975719452\n"
     ]
    },
    {
     "name": "stderr",
     "output_type": "stream",
     "text": [
      " 35%|███▍      | 1750/5001 [01:09<02:05, 25.85it/s]"
     ]
    },
    {
     "name": "stdout",
     "output_type": "stream",
     "text": [
      "Iteration: 1746 | disc_loss: -0.5972744226455688 | gen_loss: 0.4804662764072418\n",
      "Iteration: 1747 | disc_loss: -0.6889181137084961 | gen_loss: 0.47264420986175537\n",
      "Iteration: 1748 | disc_loss: -0.8504667282104492 | gen_loss: 0.6848130226135254\n",
      "Iteration: 1749 | disc_loss: -0.5962183475494385 | gen_loss: 0.27933424711227417\n",
      "Iteration: 1750 | disc_loss: -0.859233558177948 | gen_loss: 0.3115018606185913\n",
      "Iteration: 1751 | disc_loss: -0.6228184103965759 | gen_loss: 0.4729434549808502\n"
     ]
    },
    {
     "name": "stderr",
     "output_type": "stream",
     "text": [
      " 35%|███▌      | 1756/5001 [01:09<02:05, 25.89it/s]"
     ]
    },
    {
     "name": "stdout",
     "output_type": "stream",
     "text": [
      "Iteration: 1752 | disc_loss: -0.4970625638961792 | gen_loss: 0.40202006697654724\n",
      "Iteration: 1753 | disc_loss: -0.807395875453949 | gen_loss: 0.38385137915611267\n",
      "Iteration: 1754 | disc_loss: -0.8830046653747559 | gen_loss: 0.5375388264656067\n",
      "Iteration: 1755 | disc_loss: -0.8114250302314758 | gen_loss: 0.4448015093803406\n",
      "Iteration: 1756 | disc_loss: -0.8518096804618835 | gen_loss: 0.4414929151535034\n",
      "Iteration: 1757 | disc_loss: -0.8498963117599487 | gen_loss: 0.45724791288375854\n"
     ]
    },
    {
     "name": "stderr",
     "output_type": "stream",
     "text": [
      " 35%|███▌      | 1762/5001 [01:10<02:03, 26.25it/s]"
     ]
    },
    {
     "name": "stdout",
     "output_type": "stream",
     "text": [
      "Iteration: 1758 | disc_loss: -0.4258824288845062 | gen_loss: 0.4835618734359741\n",
      "Iteration: 1759 | disc_loss: -0.9026644825935364 | gen_loss: 0.2370753288269043\n",
      "Iteration: 1760 | disc_loss: -0.6255887746810913 | gen_loss: 0.22769582271575928\n",
      "Iteration: 1761 | disc_loss: -0.7859391570091248 | gen_loss: 0.32170960307121277\n",
      "Iteration: 1762 | disc_loss: -0.9984921813011169 | gen_loss: 0.21104542911052704\n",
      "Iteration: 1763 | disc_loss: -0.7478617429733276 | gen_loss: 0.2417990118265152\n"
     ]
    },
    {
     "name": "stderr",
     "output_type": "stream",
     "text": [
      " 35%|███▌      | 1768/5001 [01:10<02:01, 26.54it/s]"
     ]
    },
    {
     "name": "stdout",
     "output_type": "stream",
     "text": [
      "Iteration: 1764 | disc_loss: -0.8466764092445374 | gen_loss: 0.4150485396385193\n",
      "Iteration: 1765 | disc_loss: -1.0352505445480347 | gen_loss: 0.3929022550582886\n",
      "Iteration: 1766 | disc_loss: -0.4171571731567383 | gen_loss: 0.30445992946624756\n",
      "Iteration: 1767 | disc_loss: -0.7306019067764282 | gen_loss: 0.6041200160980225\n",
      "Iteration: 1768 | disc_loss: -0.8485578298568726 | gen_loss: 0.41924983263015747\n",
      "Iteration: 1769 | disc_loss: -0.7804896235466003 | gen_loss: 0.3625466823577881\n"
     ]
    },
    {
     "name": "stderr",
     "output_type": "stream",
     "text": [
      " 35%|███▌      | 1774/5001 [01:10<02:01, 26.57it/s]"
     ]
    },
    {
     "name": "stdout",
     "output_type": "stream",
     "text": [
      "Iteration: 1770 | disc_loss: -1.031066656112671 | gen_loss: 0.3547487258911133\n",
      "Iteration: 1771 | disc_loss: -0.7999289035797119 | gen_loss: 0.41305309534072876\n",
      "Iteration: 1772 | disc_loss: -0.9512720108032227 | gen_loss: 0.47232916951179504\n",
      "Iteration: 1773 | disc_loss: -0.8502125144004822 | gen_loss: 0.37689313292503357\n",
      "Iteration: 1774 | disc_loss: -0.8365640044212341 | gen_loss: 0.4225829243659973\n",
      "Iteration: 1775 | disc_loss: -0.9777762293815613 | gen_loss: 0.4775136709213257\n"
     ]
    },
    {
     "name": "stderr",
     "output_type": "stream",
     "text": [
      " 36%|███▌      | 1780/5001 [01:10<02:00, 26.73it/s]"
     ]
    },
    {
     "name": "stdout",
     "output_type": "stream",
     "text": [
      "Iteration: 1776 | disc_loss: -0.870586633682251 | gen_loss: 0.40396183729171753\n",
      "Iteration: 1777 | disc_loss: -0.9977399706840515 | gen_loss: 0.5464206337928772\n",
      "Iteration: 1778 | disc_loss: -0.8008573651313782 | gen_loss: 0.4487324655056\n",
      "Iteration: 1779 | disc_loss: -0.4739106297492981 | gen_loss: 0.40224042534828186\n",
      "Iteration: 1780 | disc_loss: -0.8581187725067139 | gen_loss: 0.3323538303375244\n",
      "Iteration: 1781 | disc_loss: -0.737159788608551 | gen_loss: 0.43480682373046875\n"
     ]
    },
    {
     "name": "stderr",
     "output_type": "stream",
     "text": [
      " 36%|███▌      | 1786/5001 [01:10<01:58, 27.10it/s]"
     ]
    },
    {
     "name": "stdout",
     "output_type": "stream",
     "text": [
      "Iteration: 1782 | disc_loss: -0.8962544798851013 | gen_loss: 0.6848180294036865\n",
      "Iteration: 1783 | disc_loss: -0.8168156147003174 | gen_loss: 0.7041827440261841\n",
      "Iteration: 1784 | disc_loss: -0.8138204216957092 | gen_loss: 0.5429109334945679\n",
      "Iteration: 1785 | disc_loss: -0.8555300831794739 | gen_loss: 0.4620942175388336\n",
      "Iteration: 1786 | disc_loss: -1.024345874786377 | gen_loss: 0.5739068984985352\n",
      "Iteration: 1787 | disc_loss: -0.912152111530304 | gen_loss: 0.3416290283203125\n"
     ]
    },
    {
     "name": "stderr",
     "output_type": "stream",
     "text": [
      " 36%|███▌      | 1792/5001 [01:11<02:00, 26.70it/s]"
     ]
    },
    {
     "name": "stdout",
     "output_type": "stream",
     "text": [
      "Iteration: 1788 | disc_loss: -0.5505205988883972 | gen_loss: 0.6081937551498413\n",
      "Iteration: 1789 | disc_loss: -0.7638027667999268 | gen_loss: 0.6474140882492065\n",
      "Iteration: 1790 | disc_loss: -0.9021357297897339 | gen_loss: 0.47930172085762024\n",
      "Iteration: 1791 | disc_loss: -1.204580307006836 | gen_loss: 0.5550683736801147\n",
      "Iteration: 1792 | disc_loss: -0.6501457691192627 | gen_loss: 0.6375250816345215\n"
     ]
    },
    {
     "name": "stderr",
     "output_type": "stream",
     "text": [
      " 36%|███▌      | 1798/5001 [01:11<02:13, 23.93it/s]"
     ]
    },
    {
     "name": "stdout",
     "output_type": "stream",
     "text": [
      "Iteration: 1793 | disc_loss: -0.7601242065429688 | gen_loss: 0.6550202369689941\n",
      "Iteration: 1794 | disc_loss: -1.0473589897155762 | gen_loss: 0.6810066103935242\n",
      "Iteration: 1795 | disc_loss: -0.8224531412124634 | gen_loss: 0.550127387046814\n",
      "Iteration: 1796 | disc_loss: -0.8742135763168335 | gen_loss: 0.3301805257797241\n",
      "Iteration: 1797 | disc_loss: -0.9926049113273621 | gen_loss: 0.582762598991394\n",
      "Iteration: 1798 | disc_loss: -1.0871292352676392 | gen_loss: 0.34588879346847534\n"
     ]
    },
    {
     "name": "stderr",
     "output_type": "stream",
     "text": [
      " 36%|███▌      | 1804/5001 [01:11<02:11, 24.27it/s]"
     ]
    },
    {
     "name": "stdout",
     "output_type": "stream",
     "text": [
      "Iteration: 1799 | disc_loss: -0.6940222382545471 | gen_loss: 0.6191062927246094\n",
      "Iteration: 1800 | disc_loss: -0.5890105366706848 | gen_loss: 0.5311870574951172\n",
      "Iteration: 1801 | disc_loss: -0.7682915925979614 | gen_loss: 0.5005702972412109\n",
      "Iteration: 1802 | disc_loss: -0.7219128608703613 | gen_loss: 0.48496589064598083\n",
      "Iteration: 1803 | disc_loss: -0.8124035596847534 | gen_loss: 0.4642833471298218\n",
      "Iteration: 1804 | disc_loss: -0.7062816619873047 | gen_loss: 0.38910916447639465\n"
     ]
    },
    {
     "name": "stderr",
     "output_type": "stream",
     "text": [
      " 36%|███▌      | 1810/5001 [01:11<02:13, 23.87it/s]"
     ]
    },
    {
     "name": "stdout",
     "output_type": "stream",
     "text": [
      "Iteration: 1805 | disc_loss: -0.7426959276199341 | gen_loss: 0.5777784585952759\n",
      "Iteration: 1806 | disc_loss: -0.965529203414917 | gen_loss: 0.45420870184898376\n",
      "Iteration: 1807 | disc_loss: -0.647113025188446 | gen_loss: 0.37199270725250244\n",
      "Iteration: 1808 | disc_loss: -1.0886338949203491 | gen_loss: 0.23427864909172058\n",
      "Iteration: 1809 | disc_loss: -0.8081364631652832 | gen_loss: 0.42149782180786133\n"
     ]
    },
    {
     "name": "stderr",
     "output_type": "stream",
     "text": [
      " 36%|███▋      | 1816/5001 [01:12<02:11, 24.31it/s]"
     ]
    },
    {
     "name": "stdout",
     "output_type": "stream",
     "text": [
      "Iteration: 1810 | disc_loss: -0.9178184270858765 | gen_loss: 0.5595576763153076\n",
      "Iteration: 1811 | disc_loss: -0.886245846748352 | gen_loss: 0.26550954580307007\n",
      "Iteration: 1812 | disc_loss: -0.7290586233139038 | gen_loss: 0.418332040309906\n",
      "Iteration: 1813 | disc_loss: -0.81733638048172 | gen_loss: 0.7603329420089722\n",
      "Iteration: 1814 | disc_loss: -0.6881916522979736 | gen_loss: 0.46355563402175903\n",
      "Iteration: 1815 | disc_loss: -0.8841037154197693 | gen_loss: 0.23375838994979858\n"
     ]
    },
    {
     "name": "stderr",
     "output_type": "stream",
     "text": [
      " 36%|███▋      | 1822/5001 [01:12<02:04, 25.44it/s]"
     ]
    },
    {
     "name": "stdout",
     "output_type": "stream",
     "text": [
      "Iteration: 1816 | disc_loss: -0.9893626570701599 | gen_loss: 0.22135630249977112\n",
      "Iteration: 1817 | disc_loss: -0.9595327973365784 | gen_loss: 0.36793649196624756\n",
      "Iteration: 1818 | disc_loss: -0.7862496376037598 | gen_loss: 0.45891880989074707\n",
      "Iteration: 1819 | disc_loss: -0.9354587197303772 | gen_loss: 0.37301772832870483\n",
      "Iteration: 1820 | disc_loss: -0.9164064526557922 | gen_loss: 0.3051852285861969\n",
      "Iteration: 1821 | disc_loss: -1.1057384014129639 | gen_loss: 0.5807098746299744\n"
     ]
    },
    {
     "name": "stderr",
     "output_type": "stream",
     "text": [
      " 37%|███▋      | 1828/5001 [01:12<02:01, 26.12it/s]"
     ]
    },
    {
     "name": "stdout",
     "output_type": "stream",
     "text": [
      "Iteration: 1822 | disc_loss: -0.23056605458259583 | gen_loss: 0.42273232340812683\n",
      "Iteration: 1823 | disc_loss: -0.8057600855827332 | gen_loss: 0.03525124490261078\n",
      "Iteration: 1824 | disc_loss: -0.684581458568573 | gen_loss: 0.30181145668029785\n",
      "Iteration: 1825 | disc_loss: -1.04716157913208 | gen_loss: 0.3183991611003876\n",
      "Iteration: 1826 | disc_loss: -0.8035204410552979 | gen_loss: 0.21362906694412231\n",
      "Iteration: 1827 | disc_loss: -0.4027995467185974 | gen_loss: 0.4040846824645996\n"
     ]
    },
    {
     "name": "stderr",
     "output_type": "stream",
     "text": [
      " 37%|███▋      | 1834/5001 [01:12<01:58, 26.72it/s]"
     ]
    },
    {
     "name": "stdout",
     "output_type": "stream",
     "text": [
      "Iteration: 1828 | disc_loss: -0.8503099679946899 | gen_loss: 0.3411023020744324\n",
      "Iteration: 1829 | disc_loss: -0.8289574980735779 | gen_loss: 0.4814460277557373\n",
      "Iteration: 1830 | disc_loss: -0.8917497396469116 | gen_loss: 0.2968212962150574\n",
      "Iteration: 1831 | disc_loss: -0.8587298393249512 | gen_loss: 0.46354925632476807\n",
      "Iteration: 1832 | disc_loss: -0.6477621793746948 | gen_loss: 0.36694037914276123\n",
      "Iteration: 1833 | disc_loss: -0.5325209498405457 | gen_loss: 0.272091269493103\n"
     ]
    },
    {
     "name": "stderr",
     "output_type": "stream",
     "text": [
      " 37%|███▋      | 1840/5001 [01:13<01:57, 26.85it/s]"
     ]
    },
    {
     "name": "stdout",
     "output_type": "stream",
     "text": [
      "Iteration: 1834 | disc_loss: -0.7353354096412659 | gen_loss: 0.2991564869880676\n",
      "Iteration: 1835 | disc_loss: -0.9130551218986511 | gen_loss: 0.08294466137886047\n",
      "Iteration: 1836 | disc_loss: -0.5064166784286499 | gen_loss: 0.1419948935508728\n",
      "Iteration: 1837 | disc_loss: -0.751137375831604 | gen_loss: 0.5936725735664368\n",
      "Iteration: 1838 | disc_loss: -0.665479302406311 | gen_loss: 0.4193294644355774\n",
      "Iteration: 1839 | disc_loss: -0.5103054642677307 | gen_loss: 0.6218795776367188\n"
     ]
    },
    {
     "name": "stderr",
     "output_type": "stream",
     "text": [
      " 37%|███▋      | 1846/5001 [01:13<01:57, 26.77it/s]"
     ]
    },
    {
     "name": "stdout",
     "output_type": "stream",
     "text": [
      "Iteration: 1840 | disc_loss: -0.16307973861694336 | gen_loss: 0.47530022263526917\n",
      "Iteration: 1841 | disc_loss: -1.3290090560913086 | gen_loss: 0.56166672706604\n",
      "Iteration: 1842 | disc_loss: -0.6051267385482788 | gen_loss: 1.2789695262908936\n",
      "Iteration: 1843 | disc_loss: -1.012812614440918 | gen_loss: 0.5478522181510925\n",
      "Iteration: 1844 | disc_loss: -1.0587043762207031 | gen_loss: 0.591907262802124\n",
      "Iteration: 1845 | disc_loss: -0.9517884850502014 | gen_loss: 1.0047898292541504\n"
     ]
    },
    {
     "name": "stderr",
     "output_type": "stream",
     "text": [
      " 37%|███▋      | 1852/5001 [01:13<01:57, 26.88it/s]"
     ]
    },
    {
     "name": "stdout",
     "output_type": "stream",
     "text": [
      "Iteration: 1846 | disc_loss: -0.6609851717948914 | gen_loss: 0.47104018926620483\n",
      "Iteration: 1847 | disc_loss: -0.9060842990875244 | gen_loss: 0.27528131008148193\n",
      "Iteration: 1848 | disc_loss: -0.7609285116195679 | gen_loss: 0.2530282139778137\n",
      "Iteration: 1849 | disc_loss: -0.47647830843925476 | gen_loss: 0.6939934492111206\n",
      "Iteration: 1850 | disc_loss: -0.8905447721481323 | gen_loss: 0.43158259987831116\n",
      "Iteration: 1851 | disc_loss: -0.781550943851471 | gen_loss: 0.42005616426467896\n"
     ]
    },
    {
     "name": "stderr",
     "output_type": "stream",
     "text": [
      " 37%|███▋      | 1858/5001 [01:13<01:55, 27.10it/s]"
     ]
    },
    {
     "name": "stdout",
     "output_type": "stream",
     "text": [
      "Iteration: 1852 | disc_loss: -0.8699459433555603 | gen_loss: 0.3180234134197235\n",
      "Iteration: 1853 | disc_loss: -0.6631779670715332 | gen_loss: 0.34080183506011963\n",
      "Iteration: 1854 | disc_loss: -1.0297446250915527 | gen_loss: 0.5743095874786377\n",
      "Iteration: 1855 | disc_loss: -0.9407947659492493 | gen_loss: 0.36993199586868286\n",
      "Iteration: 1856 | disc_loss: -0.8730278015136719 | gen_loss: 0.4466271996498108\n",
      "Iteration: 1857 | disc_loss: -0.6550766825675964 | gen_loss: 0.4324040412902832\n"
     ]
    },
    {
     "name": "stderr",
     "output_type": "stream",
     "text": [
      " 37%|███▋      | 1864/5001 [01:13<01:55, 27.21it/s]"
     ]
    },
    {
     "name": "stdout",
     "output_type": "stream",
     "text": [
      "Iteration: 1858 | disc_loss: -0.7829012870788574 | gen_loss: 0.4046499729156494\n",
      "Iteration: 1859 | disc_loss: -0.9626036286354065 | gen_loss: 0.12121111899614334\n",
      "Iteration: 1860 | disc_loss: -0.8812263607978821 | gen_loss: 0.5024453401565552\n",
      "Iteration: 1861 | disc_loss: -0.7793120741844177 | gen_loss: 0.5878567695617676\n",
      "Iteration: 1862 | disc_loss: -0.8467607498168945 | gen_loss: 0.6517011523246765\n",
      "Iteration: 1863 | disc_loss: -1.0097383260726929 | gen_loss: 0.2560814619064331\n"
     ]
    },
    {
     "name": "stderr",
     "output_type": "stream",
     "text": [
      " 37%|███▋      | 1870/5001 [01:14<01:55, 27.02it/s]"
     ]
    },
    {
     "name": "stdout",
     "output_type": "stream",
     "text": [
      "Iteration: 1864 | disc_loss: -0.7219855785369873 | gen_loss: 0.5723547339439392\n",
      "Iteration: 1865 | disc_loss: -0.8367770910263062 | gen_loss: 0.46715274453163147\n",
      "Iteration: 1866 | disc_loss: -0.5094068646430969 | gen_loss: 0.3436478078365326\n",
      "Iteration: 1867 | disc_loss: -0.9088643789291382 | gen_loss: 0.22630491852760315\n",
      "Iteration: 1868 | disc_loss: -0.8503561019897461 | gen_loss: 0.4233253002166748\n",
      "Iteration: 1869 | disc_loss: -0.9078117609024048 | gen_loss: 0.2665237486362457\n"
     ]
    },
    {
     "name": "stderr",
     "output_type": "stream",
     "text": [
      " 38%|███▊      | 1876/5001 [01:14<01:54, 27.28it/s]"
     ]
    },
    {
     "name": "stdout",
     "output_type": "stream",
     "text": [
      "Iteration: 1870 | disc_loss: -0.7382155060768127 | gen_loss: 0.38431835174560547\n",
      "Iteration: 1871 | disc_loss: -0.7825725674629211 | gen_loss: 0.4462248980998993\n",
      "Iteration: 1872 | disc_loss: -0.6857903003692627 | gen_loss: 0.7574548721313477\n",
      "Iteration: 1873 | disc_loss: -0.7142329216003418 | gen_loss: 0.5723591446876526\n",
      "Iteration: 1874 | disc_loss: -0.8226921558380127 | gen_loss: 0.4341704845428467\n",
      "Iteration: 1875 | disc_loss: -1.1145820617675781 | gen_loss: 0.4811762273311615\n"
     ]
    },
    {
     "name": "stderr",
     "output_type": "stream",
     "text": [
      " 38%|███▊      | 1882/5001 [01:14<01:54, 27.16it/s]"
     ]
    },
    {
     "name": "stdout",
     "output_type": "stream",
     "text": [
      "Iteration: 1876 | disc_loss: -0.6745380163192749 | gen_loss: 0.7443420886993408\n",
      "Iteration: 1877 | disc_loss: -0.7174600958824158 | gen_loss: 0.6423112154006958\n",
      "Iteration: 1878 | disc_loss: -0.8140836954116821 | gen_loss: 0.6190031170845032\n",
      "Iteration: 1879 | disc_loss: -0.878962516784668 | gen_loss: 0.452068567276001\n",
      "Iteration: 1880 | disc_loss: -0.9232820272445679 | gen_loss: 0.2820705473423004\n",
      "Iteration: 1881 | disc_loss: -0.7746191024780273 | gen_loss: 0.4448767900466919\n"
     ]
    },
    {
     "name": "stderr",
     "output_type": "stream",
     "text": [
      " 38%|███▊      | 1888/5001 [01:14<01:56, 26.78it/s]"
     ]
    },
    {
     "name": "stdout",
     "output_type": "stream",
     "text": [
      "Iteration: 1882 | disc_loss: -0.7364307045936584 | gen_loss: 0.4526149332523346\n",
      "Iteration: 1883 | disc_loss: -0.9642945528030396 | gen_loss: 0.5122002363204956\n",
      "Iteration: 1884 | disc_loss: -0.8848425149917603 | gen_loss: 0.28637316823005676\n",
      "Iteration: 1885 | disc_loss: -0.8846834301948547 | gen_loss: 0.31362468004226685\n",
      "Iteration: 1886 | disc_loss: -0.6849949955940247 | gen_loss: 0.28405100107192993\n",
      "Iteration: 1887 | disc_loss: -0.6643100380897522 | gen_loss: 0.41856175661087036\n"
     ]
    },
    {
     "name": "stderr",
     "output_type": "stream",
     "text": [
      " 38%|███▊      | 1894/5001 [01:15<01:55, 26.94it/s]"
     ]
    },
    {
     "name": "stdout",
     "output_type": "stream",
     "text": [
      "Iteration: 1888 | disc_loss: -0.6818816065788269 | gen_loss: 0.3770948648452759\n",
      "Iteration: 1889 | disc_loss: -0.7839258313179016 | gen_loss: 0.7224342823028564\n",
      "Iteration: 1890 | disc_loss: -0.8638682961463928 | gen_loss: 0.262012779712677\n",
      "Iteration: 1891 | disc_loss: -0.9371649622917175 | gen_loss: 0.4236031770706177\n",
      "Iteration: 1892 | disc_loss: -0.6533437967300415 | gen_loss: 0.29344481229782104\n",
      "Iteration: 1893 | disc_loss: -0.8197134733200073 | gen_loss: 0.37789186835289\n"
     ]
    },
    {
     "name": "stderr",
     "output_type": "stream",
     "text": [
      " 38%|███▊      | 1900/5001 [01:15<01:56, 26.62it/s]"
     ]
    },
    {
     "name": "stdout",
     "output_type": "stream",
     "text": [
      "Iteration: 1894 | disc_loss: -0.7666906118392944 | gen_loss: 0.3188294470310211\n",
      "Iteration: 1895 | disc_loss: -0.6593780517578125 | gen_loss: 0.29079848527908325\n",
      "Iteration: 1896 | disc_loss: -0.8234898447990417 | gen_loss: 0.537711501121521\n",
      "Iteration: 1897 | disc_loss: -0.6388475298881531 | gen_loss: 0.4627766013145447\n",
      "Iteration: 1898 | disc_loss: -0.6564780473709106 | gen_loss: 0.5871771574020386\n",
      "Iteration: 1899 | disc_loss: -0.5791580677032471 | gen_loss: 0.6519269943237305\n"
     ]
    },
    {
     "name": "stderr",
     "output_type": "stream",
     "text": [
      " 38%|███▊      | 1906/5001 [01:15<01:57, 26.31it/s]"
     ]
    },
    {
     "name": "stdout",
     "output_type": "stream",
     "text": [
      "Iteration: 1900 | disc_loss: -0.3887968063354492 | gen_loss: 0.18297983705997467\n",
      "Iteration: 1901 | disc_loss: -0.6252799034118652 | gen_loss: 0.485965371131897\n",
      "Iteration: 1902 | disc_loss: -0.8664128184318542 | gen_loss: 0.30401360988616943\n",
      "Iteration: 1903 | disc_loss: -0.7753967046737671 | gen_loss: 0.2816559970378876\n",
      "Iteration: 1904 | disc_loss: -0.7889655232429504 | gen_loss: 0.4386003613471985\n",
      "Iteration: 1905 | disc_loss: -0.8160862326622009 | gen_loss: 0.46258723735809326\n"
     ]
    },
    {
     "name": "stderr",
     "output_type": "stream",
     "text": [
      " 38%|███▊      | 1912/5001 [01:15<01:57, 26.22it/s]"
     ]
    },
    {
     "name": "stdout",
     "output_type": "stream",
     "text": [
      "Iteration: 1906 | disc_loss: -0.7755247354507446 | gen_loss: 0.2746783494949341\n",
      "Iteration: 1907 | disc_loss: -0.8142938613891602 | gen_loss: 0.4618275761604309\n",
      "Iteration: 1908 | disc_loss: -0.7506272196769714 | gen_loss: 0.48303452134132385\n",
      "Iteration: 1909 | disc_loss: -0.9551607966423035 | gen_loss: 0.456390917301178\n",
      "Iteration: 1910 | disc_loss: -0.457095205783844 | gen_loss: 0.6221323013305664\n",
      "Iteration: 1911 | disc_loss: -0.6323390007019043 | gen_loss: 0.32032260298728943\n"
     ]
    },
    {
     "name": "stderr",
     "output_type": "stream",
     "text": [
      " 38%|███▊      | 1918/5001 [01:15<01:56, 26.38it/s]"
     ]
    },
    {
     "name": "stdout",
     "output_type": "stream",
     "text": [
      "Iteration: 1912 | disc_loss: -0.7768298387527466 | gen_loss: 0.40425699949264526\n",
      "Iteration: 1913 | disc_loss: -0.7155868411064148 | gen_loss: 0.47094571590423584\n",
      "Iteration: 1914 | disc_loss: -0.9036458730697632 | gen_loss: 0.3714445233345032\n",
      "Iteration: 1915 | disc_loss: -1.1162402629852295 | gen_loss: 0.2806180715560913\n",
      "Iteration: 1916 | disc_loss: -0.9678876399993896 | gen_loss: 0.432519793510437\n",
      "Iteration: 1917 | disc_loss: -0.6683232188224792 | gen_loss: 0.49831461906433105\n"
     ]
    },
    {
     "name": "stderr",
     "output_type": "stream",
     "text": [
      " 38%|███▊      | 1921/5001 [01:16<01:57, 26.14it/s]"
     ]
    },
    {
     "name": "stdout",
     "output_type": "stream",
     "text": [
      "Iteration: 1918 | disc_loss: -0.6058220863342285 | gen_loss: 0.30333173274993896\n",
      "Iteration: 1919 | disc_loss: -0.509221076965332 | gen_loss: 0.5202478766441345\n",
      "Iteration: 1920 | disc_loss: -0.8349270224571228 | gen_loss: 0.15353740751743317\n",
      "Iteration: 1921 | disc_loss: -0.6821538209915161 | gen_loss: 0.4357953667640686\n",
      "Iteration: 1922 | disc_loss: -0.9934136867523193 | gen_loss: 0.37952378392219543\n"
     ]
    },
    {
     "name": "stderr",
     "output_type": "stream",
     "text": [
      " 39%|███▊      | 1927/5001 [01:16<02:02, 25.00it/s]"
     ]
    },
    {
     "name": "stdout",
     "output_type": "stream",
     "text": [
      "Iteration: 1923 | disc_loss: -0.9060628414154053 | gen_loss: 0.2630841135978699\n",
      "Iteration: 1924 | disc_loss: -0.4175577163696289 | gen_loss: 0.438453733921051\n",
      "Iteration: 1925 | disc_loss: -0.8559577465057373 | gen_loss: 0.2208372950553894\n",
      "Iteration: 1926 | disc_loss: -0.9006207585334778 | gen_loss: 0.36017006635665894\n",
      "Iteration: 1927 | disc_loss: -1.1377373933792114 | gen_loss: 0.3870013356208801\n"
     ]
    },
    {
     "name": "stderr",
     "output_type": "stream",
     "text": [
      " 39%|███▊      | 1933/5001 [01:16<02:02, 25.08it/s]"
     ]
    },
    {
     "name": "stdout",
     "output_type": "stream",
     "text": [
      "Iteration: 1928 | disc_loss: -0.799487829208374 | gen_loss: 0.45942777395248413\n",
      "Iteration: 1929 | disc_loss: -0.7317900061607361 | gen_loss: 0.5571176409721375\n",
      "Iteration: 1930 | disc_loss: -0.7810068726539612 | gen_loss: 0.4507901668548584\n",
      "Iteration: 1931 | disc_loss: -0.8011093139648438 | gen_loss: 0.17048591375350952\n",
      "Iteration: 1932 | disc_loss: -0.9337077140808105 | gen_loss: 0.26531165838241577\n",
      "Iteration: 1933 | disc_loss: -0.8512325882911682 | gen_loss: 0.4571642279624939\n"
     ]
    },
    {
     "name": "stderr",
     "output_type": "stream",
     "text": [
      " 39%|███▉      | 1939/5001 [01:16<01:57, 26.10it/s]"
     ]
    },
    {
     "name": "stdout",
     "output_type": "stream",
     "text": [
      "Iteration: 1934 | disc_loss: -0.8240957260131836 | gen_loss: 0.4100475013256073\n",
      "Iteration: 1935 | disc_loss: -0.6793833374977112 | gen_loss: 0.5209712982177734\n",
      "Iteration: 1936 | disc_loss: -0.642065703868866 | gen_loss: 0.5386720895767212\n",
      "Iteration: 1937 | disc_loss: -0.722853422164917 | gen_loss: 0.45176219940185547\n",
      "Iteration: 1938 | disc_loss: -0.6961492300033569 | gen_loss: 0.31827348470687866\n",
      "Iteration: 1939 | disc_loss: -0.6945472955703735 | gen_loss: 0.5243492126464844\n"
     ]
    },
    {
     "name": "stderr",
     "output_type": "stream",
     "text": [
      " 39%|███▉      | 1945/5001 [01:17<01:56, 26.27it/s]"
     ]
    },
    {
     "name": "stdout",
     "output_type": "stream",
     "text": [
      "Iteration: 1940 | disc_loss: -0.6516724228858948 | gen_loss: 0.38510024547576904\n",
      "Iteration: 1941 | disc_loss: -0.8717135190963745 | gen_loss: 0.3358033299446106\n",
      "Iteration: 1942 | disc_loss: -0.7725920677185059 | gen_loss: 0.2466987818479538\n",
      "Iteration: 1943 | disc_loss: -0.6233623623847961 | gen_loss: 0.6388463973999023\n",
      "Iteration: 1944 | disc_loss: -0.7885618805885315 | gen_loss: 0.5249791145324707\n",
      "Iteration: 1945 | disc_loss: -0.790327787399292 | gen_loss: 0.2912473678588867\n"
     ]
    },
    {
     "name": "stderr",
     "output_type": "stream",
     "text": [
      " 39%|███▉      | 1951/5001 [01:17<01:54, 26.68it/s]"
     ]
    },
    {
     "name": "stdout",
     "output_type": "stream",
     "text": [
      "Iteration: 1946 | disc_loss: -0.9599435925483704 | gen_loss: 0.4331551492214203\n",
      "Iteration: 1947 | disc_loss: -0.7359049916267395 | gen_loss: 0.28061574697494507\n",
      "Iteration: 1948 | disc_loss: -0.6422969102859497 | gen_loss: 0.43809789419174194\n",
      "Iteration: 1949 | disc_loss: -0.44306227564811707 | gen_loss: 0.4468269348144531\n",
      "Iteration: 1950 | disc_loss: -0.8660911917686462 | gen_loss: 0.47852256894111633\n",
      "Iteration: 1951 | disc_loss: -0.7055974006652832 | gen_loss: 0.2966439723968506\n"
     ]
    },
    {
     "name": "stderr",
     "output_type": "stream",
     "text": [
      " 39%|███▉      | 1957/5001 [01:17<01:53, 26.89it/s]"
     ]
    },
    {
     "name": "stdout",
     "output_type": "stream",
     "text": [
      "Iteration: 1952 | disc_loss: -0.63479083776474 | gen_loss: 0.35226839780807495\n",
      "Iteration: 1953 | disc_loss: -0.71832275390625 | gen_loss: 0.4416411221027374\n",
      "Iteration: 1954 | disc_loss: -0.837841808795929 | gen_loss: 0.38815146684646606\n",
      "Iteration: 1955 | disc_loss: -0.8350774645805359 | gen_loss: 0.43320122361183167\n",
      "Iteration: 1956 | disc_loss: -0.6289495229721069 | gen_loss: 0.458099365234375\n",
      "Iteration: 1957 | disc_loss: -1.1779111623764038 | gen_loss: 0.869030237197876\n"
     ]
    },
    {
     "name": "stderr",
     "output_type": "stream",
     "text": [
      " 39%|███▉      | 1963/5001 [01:17<01:52, 26.91it/s]"
     ]
    },
    {
     "name": "stdout",
     "output_type": "stream",
     "text": [
      "Iteration: 1958 | disc_loss: -0.7256725430488586 | gen_loss: 0.4946625530719757\n",
      "Iteration: 1959 | disc_loss: -0.7671558856964111 | gen_loss: 0.9313458204269409\n",
      "Iteration: 1960 | disc_loss: -0.5911946296691895 | gen_loss: 0.5907096862792969\n",
      "Iteration: 1961 | disc_loss: -0.8040856122970581 | gen_loss: 0.32980385422706604\n",
      "Iteration: 1962 | disc_loss: -0.5854051113128662 | gen_loss: 0.6376994848251343\n",
      "Iteration: 1963 | disc_loss: -0.6084799766540527 | gen_loss: 0.5008180737495422\n"
     ]
    },
    {
     "name": "stderr",
     "output_type": "stream",
     "text": [
      " 39%|███▉      | 1969/5001 [01:17<01:52, 26.86it/s]"
     ]
    },
    {
     "name": "stdout",
     "output_type": "stream",
     "text": [
      "Iteration: 1964 | disc_loss: -0.8823636770248413 | gen_loss: 0.6075323224067688\n",
      "Iteration: 1965 | disc_loss: -0.8509149551391602 | gen_loss: 0.6084887981414795\n",
      "Iteration: 1966 | disc_loss: -0.7613698244094849 | gen_loss: 0.4948276877403259\n",
      "Iteration: 1967 | disc_loss: -0.865385890007019 | gen_loss: 0.4828077554702759\n",
      "Iteration: 1968 | disc_loss: -0.6990445256233215 | gen_loss: 0.5943349599838257\n",
      "Iteration: 1969 | disc_loss: -0.939790666103363 | gen_loss: 0.5933293104171753\n"
     ]
    },
    {
     "name": "stderr",
     "output_type": "stream",
     "text": [
      " 39%|███▉      | 1975/5001 [01:18<01:57, 25.75it/s]"
     ]
    },
    {
     "name": "stdout",
     "output_type": "stream",
     "text": [
      "Iteration: 1970 | disc_loss: -0.6930630803108215 | gen_loss: 0.49419325590133667\n",
      "Iteration: 1971 | disc_loss: -0.6077280044555664 | gen_loss: 0.26852327585220337\n",
      "Iteration: 1972 | disc_loss: -0.7553128600120544 | gen_loss: 0.44730180501937866\n",
      "Iteration: 1973 | disc_loss: -0.7463344931602478 | gen_loss: 0.5860072374343872\n",
      "Iteration: 1974 | disc_loss: -0.6856576204299927 | gen_loss: 0.4523300230503082\n",
      "Iteration: 1975 | disc_loss: -0.9093985557556152 | gen_loss: 0.47717925906181335\n"
     ]
    },
    {
     "name": "stderr",
     "output_type": "stream",
     "text": [
      " 40%|███▉      | 1981/5001 [01:18<01:53, 26.66it/s]"
     ]
    },
    {
     "name": "stdout",
     "output_type": "stream",
     "text": [
      "Iteration: 1976 | disc_loss: -0.4297994375228882 | gen_loss: 0.6330848336219788\n",
      "Iteration: 1977 | disc_loss: -0.8283491134643555 | gen_loss: 0.41377371549606323\n",
      "Iteration: 1978 | disc_loss: -0.8158149123191833 | gen_loss: 0.5437808036804199\n",
      "Iteration: 1979 | disc_loss: -0.6818256378173828 | gen_loss: 0.45939743518829346\n",
      "Iteration: 1980 | disc_loss: -0.9543277025222778 | gen_loss: 0.3739210367202759\n",
      "Iteration: 1981 | disc_loss: -0.7034351229667664 | gen_loss: 0.5016840696334839\n"
     ]
    },
    {
     "name": "stderr",
     "output_type": "stream",
     "text": [
      " 40%|███▉      | 1987/5001 [01:18<01:51, 27.00it/s]"
     ]
    },
    {
     "name": "stdout",
     "output_type": "stream",
     "text": [
      "Iteration: 1982 | disc_loss: -0.838785707950592 | gen_loss: 0.5088752508163452\n",
      "Iteration: 1983 | disc_loss: -0.8690398931503296 | gen_loss: 0.35988548398017883\n",
      "Iteration: 1984 | disc_loss: -0.7804100513458252 | gen_loss: 0.5172926783561707\n",
      "Iteration: 1985 | disc_loss: -0.7676437497138977 | gen_loss: 0.3194409906864166\n",
      "Iteration: 1986 | disc_loss: -0.8957319259643555 | gen_loss: 0.454623818397522\n",
      "Iteration: 1987 | disc_loss: -0.9545127749443054 | gen_loss: 0.4117765426635742\n"
     ]
    },
    {
     "name": "stderr",
     "output_type": "stream",
     "text": [
      " 40%|███▉      | 1993/5001 [01:18<01:50, 27.20it/s]"
     ]
    },
    {
     "name": "stdout",
     "output_type": "stream",
     "text": [
      "Iteration: 1988 | disc_loss: -0.9624419808387756 | gen_loss: 0.5524300336837769\n",
      "Iteration: 1989 | disc_loss: -0.33536413311958313 | gen_loss: 0.5729286670684814\n",
      "Iteration: 1990 | disc_loss: -0.5189200639724731 | gen_loss: 0.6471584439277649\n",
      "Iteration: 1991 | disc_loss: -0.5693180561065674 | gen_loss: 0.5439233779907227\n",
      "Iteration: 1992 | disc_loss: -0.5665118098258972 | gen_loss: 0.4336607754230499\n",
      "Iteration: 1993 | disc_loss: -0.6765775680541992 | gen_loss: 0.410495787858963\n"
     ]
    },
    {
     "name": "stderr",
     "output_type": "stream",
     "text": [
      " 40%|███▉      | 1999/5001 [01:19<01:49, 27.37it/s]"
     ]
    },
    {
     "name": "stdout",
     "output_type": "stream",
     "text": [
      "Iteration: 1994 | disc_loss: -0.9478878974914551 | gen_loss: 0.40223586559295654\n",
      "Iteration: 1995 | disc_loss: -0.7455597519874573 | gen_loss: 0.5143523216247559\n",
      "Iteration: 1996 | disc_loss: -0.9931526780128479 | gen_loss: 0.5459364652633667\n",
      "Iteration: 1997 | disc_loss: -0.5396621227264404 | gen_loss: 0.3238346576690674\n",
      "Iteration: 1998 | disc_loss: -0.7471926212310791 | gen_loss: 0.2686850428581238\n",
      "Iteration: 1999 | disc_loss: -0.7247127890586853 | gen_loss: 0.4963111877441406\n"
     ]
    },
    {
     "name": "stderr",
     "output_type": "stream",
     "text": [
      " 40%|████      | 2005/5001 [01:19<01:53, 26.29it/s]"
     ]
    },
    {
     "name": "stdout",
     "output_type": "stream",
     "text": [
      "Iteration: 2000 | disc_loss: -0.6175497174263 | gen_loss: 0.2906237840652466\n",
      "Iteration: 2001 | disc_loss: -0.7401212453842163 | gen_loss: 0.472488671541214\n",
      "Iteration: 2002 | disc_loss: -0.925020158290863 | gen_loss: 0.341846227645874\n",
      "Iteration: 2003 | disc_loss: -0.8739448189735413 | gen_loss: 0.15512706339359283\n",
      "Iteration: 2004 | disc_loss: -0.8063932657241821 | gen_loss: 0.3809164762496948\n"
     ]
    },
    {
     "name": "stderr",
     "output_type": "stream",
     "text": [
      " 40%|████      | 2011/5001 [01:19<01:52, 26.62it/s]"
     ]
    },
    {
     "name": "stdout",
     "output_type": "stream",
     "text": [
      "Iteration: 2005 | disc_loss: -0.756425142288208 | gen_loss: 0.3939676284790039\n",
      "Iteration: 2006 | disc_loss: -0.7271603941917419 | gen_loss: 0.36107394099235535\n",
      "Iteration: 2007 | disc_loss: -0.46661362051963806 | gen_loss: 0.267530620098114\n",
      "Iteration: 2008 | disc_loss: -0.9676865339279175 | gen_loss: 0.20968812704086304\n",
      "Iteration: 2009 | disc_loss: -0.859465479850769 | gen_loss: 0.4925425052642822\n",
      "Iteration: 2010 | disc_loss: -0.7068285942077637 | gen_loss: 0.2012576162815094\n"
     ]
    },
    {
     "name": "stderr",
     "output_type": "stream",
     "text": [
      " 40%|████      | 2014/5001 [01:19<01:58, 25.25it/s]"
     ]
    },
    {
     "name": "stdout",
     "output_type": "stream",
     "text": [
      "Iteration: 2011 | disc_loss: -0.8775855302810669 | gen_loss: 0.3893877863883972\n",
      "Iteration: 2012 | disc_loss: -0.5296202898025513 | gen_loss: 0.3683778643608093\n",
      "Iteration: 2013 | disc_loss: -0.7536168694496155 | gen_loss: 0.4788511097431183\n",
      "Iteration: 2014 | disc_loss: -0.787162184715271 | gen_loss: 0.3449838161468506\n",
      "Iteration: 2015 | disc_loss: -0.7613776326179504 | gen_loss: 0.5680512189865112\n"
     ]
    },
    {
     "name": "stderr",
     "output_type": "stream",
     "text": [
      " 40%|████      | 2020/5001 [01:19<02:01, 24.48it/s]"
     ]
    },
    {
     "name": "stdout",
     "output_type": "stream",
     "text": [
      "Iteration: 2016 | disc_loss: -0.6854113340377808 | gen_loss: 0.25487151741981506\n",
      "Iteration: 2017 | disc_loss: -0.971113383769989 | gen_loss: 0.4971998929977417\n",
      "Iteration: 2018 | disc_loss: -0.7410275340080261 | gen_loss: 0.41650766134262085\n",
      "Iteration: 2019 | disc_loss: -0.6660764813423157 | gen_loss: 0.5653422474861145\n",
      "Iteration: 2020 | disc_loss: -0.704673707485199 | gen_loss: 0.14325612783432007\n"
     ]
    },
    {
     "name": "stderr",
     "output_type": "stream",
     "text": [
      " 41%|████      | 2026/5001 [01:20<02:00, 24.78it/s]"
     ]
    },
    {
     "name": "stdout",
     "output_type": "stream",
     "text": [
      "Iteration: 2021 | disc_loss: -0.36008864641189575 | gen_loss: 0.18208828568458557\n",
      "Iteration: 2022 | disc_loss: -0.9164085984230042 | gen_loss: 0.4291163980960846\n",
      "Iteration: 2023 | disc_loss: -0.8153603076934814 | gen_loss: 0.6430779695510864\n",
      "Iteration: 2024 | disc_loss: -0.9251163005828857 | gen_loss: 0.3473750352859497\n",
      "Iteration: 2025 | disc_loss: -0.6750396490097046 | gen_loss: 0.5769009590148926\n",
      "Iteration: 2026 | disc_loss: -0.5247737169265747 | gen_loss: 0.250577449798584\n"
     ]
    },
    {
     "name": "stderr",
     "output_type": "stream",
     "text": [
      " 41%|████      | 2032/5001 [01:20<01:59, 24.89it/s]"
     ]
    },
    {
     "name": "stdout",
     "output_type": "stream",
     "text": [
      "Iteration: 2027 | disc_loss: -0.8949134945869446 | gen_loss: 0.4228430986404419\n",
      "Iteration: 2028 | disc_loss: -0.6760884523391724 | gen_loss: 0.3738388419151306\n",
      "Iteration: 2029 | disc_loss: -0.5719658136367798 | gen_loss: 0.2497815638780594\n",
      "Iteration: 2030 | disc_loss: -0.6830823421478271 | gen_loss: 0.2558264136314392\n",
      "Iteration: 2031 | disc_loss: -0.7653754353523254 | gen_loss: 0.45846784114837646\n"
     ]
    },
    {
     "name": "stderr",
     "output_type": "stream",
     "text": [
      " 41%|████      | 2038/5001 [01:20<01:59, 24.86it/s]"
     ]
    },
    {
     "name": "stdout",
     "output_type": "stream",
     "text": [
      "Iteration: 2032 | disc_loss: -1.043416976928711 | gen_loss: 0.3373851478099823\n",
      "Iteration: 2033 | disc_loss: -0.8000312447547913 | gen_loss: 0.5014108419418335\n",
      "Iteration: 2034 | disc_loss: -0.8563508987426758 | gen_loss: 0.004022583365440369\n",
      "Iteration: 2035 | disc_loss: -0.703510582447052 | gen_loss: 0.19549593329429626\n",
      "Iteration: 2036 | disc_loss: -0.6878442168235779 | gen_loss: -0.04569929838180542\n",
      "Iteration: 2037 | disc_loss: -0.8160682320594788 | gen_loss: 0.3876432776451111\n"
     ]
    },
    {
     "name": "stderr",
     "output_type": "stream",
     "text": [
      " 41%|████      | 2044/5001 [01:20<01:59, 24.83it/s]"
     ]
    },
    {
     "name": "stdout",
     "output_type": "stream",
     "text": [
      "Iteration: 2038 | disc_loss: -0.8945317268371582 | gen_loss: 0.27405112981796265\n",
      "Iteration: 2039 | disc_loss: -0.7726671099662781 | gen_loss: 0.34238100051879883\n",
      "Iteration: 2040 | disc_loss: -0.662290632724762 | gen_loss: 0.4036494493484497\n",
      "Iteration: 2041 | disc_loss: -0.8650901317596436 | gen_loss: 0.4946380853652954\n",
      "Iteration: 2042 | disc_loss: -0.5956794619560242 | gen_loss: 0.6669957637786865\n",
      "Iteration: 2043 | disc_loss: -0.5820863246917725 | gen_loss: 0.6715459823608398\n"
     ]
    },
    {
     "name": "stderr",
     "output_type": "stream",
     "text": [
      " 41%|████      | 2050/5001 [01:21<01:57, 25.17it/s]"
     ]
    },
    {
     "name": "stdout",
     "output_type": "stream",
     "text": [
      "Iteration: 2044 | disc_loss: -0.6148792505264282 | gen_loss: 1.0356086492538452\n",
      "Iteration: 2045 | disc_loss: -0.8913432359695435 | gen_loss: 0.34977632761001587\n",
      "Iteration: 2046 | disc_loss: -0.6617418527603149 | gen_loss: 0.5919812321662903\n",
      "Iteration: 2047 | disc_loss: -0.6165758967399597 | gen_loss: 0.6079160571098328\n",
      "Iteration: 2048 | disc_loss: -0.9671304821968079 | gen_loss: 0.6399915814399719\n",
      "Iteration: 2049 | disc_loss: -0.9855390191078186 | gen_loss: 0.6751312613487244\n"
     ]
    },
    {
     "name": "stderr",
     "output_type": "stream",
     "text": [
      " 41%|████      | 2056/5001 [01:21<01:58, 24.86it/s]"
     ]
    },
    {
     "name": "stdout",
     "output_type": "stream",
     "text": [
      "Iteration: 2050 | disc_loss: -0.8398863077163696 | gen_loss: 0.5734928846359253\n",
      "Iteration: 2051 | disc_loss: -0.9354586601257324 | gen_loss: 0.8029599189758301\n",
      "Iteration: 2052 | disc_loss: -0.5055208802223206 | gen_loss: 0.7278112173080444\n",
      "Iteration: 2053 | disc_loss: -0.6010501384735107 | gen_loss: 0.6409212350845337\n",
      "Iteration: 2054 | disc_loss: -0.5680323839187622 | gen_loss: 0.6045189499855042\n",
      "Iteration: 2055 | disc_loss: -0.7448554635047913 | gen_loss: 0.4554927349090576\n"
     ]
    },
    {
     "name": "stderr",
     "output_type": "stream",
     "text": [
      " 41%|████      | 2062/5001 [01:21<01:57, 25.11it/s]"
     ]
    },
    {
     "name": "stdout",
     "output_type": "stream",
     "text": [
      "Iteration: 2056 | disc_loss: -0.6138271689414978 | gen_loss: 0.568588137626648\n",
      "Iteration: 2057 | disc_loss: -0.9880774617195129 | gen_loss: 0.4843723475933075\n",
      "Iteration: 2058 | disc_loss: -0.7189306020736694 | gen_loss: 0.25216150283813477\n",
      "Iteration: 2059 | disc_loss: -0.7032375335693359 | gen_loss: 0.5055762529373169\n",
      "Iteration: 2060 | disc_loss: -0.6233024597167969 | gen_loss: 0.4168408215045929\n",
      "Iteration: 2061 | disc_loss: -0.873394787311554 | gen_loss: 0.5105346441268921\n"
     ]
    },
    {
     "name": "stderr",
     "output_type": "stream",
     "text": [
      " 41%|████▏     | 2065/5001 [01:21<02:01, 24.15it/s]"
     ]
    },
    {
     "name": "stdout",
     "output_type": "stream",
     "text": [
      "Iteration: 2062 | disc_loss: -0.8128319978713989 | gen_loss: 0.25653302669525146\n",
      "Iteration: 2063 | disc_loss: -0.8612633943557739 | gen_loss: 0.09126725792884827\n",
      "Iteration: 2064 | disc_loss: -0.7407900094985962 | gen_loss: 0.47778522968292236\n",
      "Iteration: 2065 | disc_loss: -1.0714843273162842 | gen_loss: 0.3303799331188202\n",
      "Iteration: 2066 | disc_loss: -0.8258160352706909 | gen_loss: 0.43295183777809143\n"
     ]
    },
    {
     "name": "stderr",
     "output_type": "stream",
     "text": [
      " 41%|████▏     | 2071/5001 [01:21<02:01, 24.09it/s]"
     ]
    },
    {
     "name": "stdout",
     "output_type": "stream",
     "text": [
      "Iteration: 2067 | disc_loss: -0.6298911571502686 | gen_loss: 0.4080406427383423\n",
      "Iteration: 2068 | disc_loss: -1.1097033023834229 | gen_loss: 0.4028783440589905\n",
      "Iteration: 2069 | disc_loss: -1.0254182815551758 | gen_loss: 0.473551481962204\n",
      "Iteration: 2070 | disc_loss: -0.913209855556488 | gen_loss: 0.2878594696521759\n",
      "Iteration: 2071 | disc_loss: -0.9177852272987366 | gen_loss: 0.11424960196018219\n"
     ]
    },
    {
     "name": "stderr",
     "output_type": "stream",
     "text": [
      " 42%|████▏     | 2077/5001 [01:22<02:00, 24.29it/s]"
     ]
    },
    {
     "name": "stdout",
     "output_type": "stream",
     "text": [
      "Iteration: 2072 | disc_loss: -0.9358076453208923 | gen_loss: 0.3452078700065613\n",
      "Iteration: 2073 | disc_loss: -0.8659457564353943 | gen_loss: 0.5707111954689026\n",
      "Iteration: 2074 | disc_loss: -0.7676765322685242 | gen_loss: 0.6291148662567139\n",
      "Iteration: 2075 | disc_loss: -0.4198484420776367 | gen_loss: 0.6228995323181152\n",
      "Iteration: 2076 | disc_loss: -0.6174845099449158 | gen_loss: 0.5241278409957886\n",
      "Iteration: 2077 | disc_loss: -0.7532374858856201 | gen_loss: 0.5376784205436707\n"
     ]
    },
    {
     "name": "stderr",
     "output_type": "stream",
     "text": [
      " 42%|████▏     | 2083/5001 [01:22<01:59, 24.52it/s]"
     ]
    },
    {
     "name": "stdout",
     "output_type": "stream",
     "text": [
      "Iteration: 2078 | disc_loss: -0.6219115853309631 | gen_loss: 0.6230552196502686\n",
      "Iteration: 2079 | disc_loss: -0.6876797676086426 | gen_loss: 0.25877973437309265\n",
      "Iteration: 2080 | disc_loss: -1.0356608629226685 | gen_loss: 0.2789008617401123\n",
      "Iteration: 2081 | disc_loss: -0.9320084452629089 | gen_loss: 0.35215097665786743\n",
      "Iteration: 2082 | disc_loss: -0.7854323983192444 | gen_loss: 0.07780613005161285\n",
      "Iteration: 2083 | disc_loss: -0.6538315415382385 | gen_loss: -0.14058855175971985\n"
     ]
    },
    {
     "name": "stderr",
     "output_type": "stream",
     "text": [
      " 42%|████▏     | 2089/5001 [01:22<01:56, 25.06it/s]"
     ]
    },
    {
     "name": "stdout",
     "output_type": "stream",
     "text": [
      "Iteration: 2084 | disc_loss: -0.8253812193870544 | gen_loss: 0.12114937603473663\n",
      "Iteration: 2085 | disc_loss: -1.0410041809082031 | gen_loss: 0.3823847770690918\n",
      "Iteration: 2086 | disc_loss: -0.3336276113986969 | gen_loss: 0.41034048795700073\n",
      "Iteration: 2087 | disc_loss: -0.5750531554222107 | gen_loss: 0.3757857084274292\n",
      "Iteration: 2088 | disc_loss: -0.7121186852455139 | gen_loss: 0.3385217785835266\n",
      "Iteration: 2089 | disc_loss: -1.0574580430984497 | gen_loss: 0.38376477360725403\n"
     ]
    },
    {
     "name": "stderr",
     "output_type": "stream",
     "text": [
      " 42%|████▏     | 2095/5001 [01:22<01:56, 25.02it/s]"
     ]
    },
    {
     "name": "stdout",
     "output_type": "stream",
     "text": [
      "Iteration: 2090 | disc_loss: -0.7681688666343689 | gen_loss: 0.5649601221084595\n",
      "Iteration: 2091 | disc_loss: -1.2672268152236938 | gen_loss: 0.6761952638626099\n",
      "Iteration: 2092 | disc_loss: -0.8002756237983704 | gen_loss: 0.431701123714447\n",
      "Iteration: 2093 | disc_loss: -0.5645473599433899 | gen_loss: 0.5480372905731201\n",
      "Iteration: 2094 | disc_loss: -0.5651304721832275 | gen_loss: 0.32065799832344055\n",
      "Iteration: 2095 | disc_loss: -0.9372823238372803 | gen_loss: 0.41925308108329773\n"
     ]
    },
    {
     "name": "stderr",
     "output_type": "stream",
     "text": [
      " 42%|████▏     | 2101/5001 [01:23<01:58, 24.54it/s]"
     ]
    },
    {
     "name": "stdout",
     "output_type": "stream",
     "text": [
      "Iteration: 2096 | disc_loss: -0.7867028713226318 | gen_loss: 0.32526230812072754\n",
      "Iteration: 2097 | disc_loss: -0.6544145941734314 | gen_loss: 0.3128914535045624\n",
      "Iteration: 2098 | disc_loss: -0.8732479810714722 | gen_loss: 0.4837849736213684\n",
      "Iteration: 2099 | disc_loss: -0.8930068612098694 | gen_loss: 0.418594628572464\n",
      "Iteration: 2100 | disc_loss: -0.8102378249168396 | gen_loss: 0.5649945735931396\n",
      "Iteration: 2101 | disc_loss: -0.9838960766792297 | gen_loss: 0.04296392947435379\n"
     ]
    },
    {
     "name": "stderr",
     "output_type": "stream",
     "text": [
      " 42%|████▏     | 2107/5001 [01:23<01:56, 24.77it/s]"
     ]
    },
    {
     "name": "stdout",
     "output_type": "stream",
     "text": [
      "Iteration: 2102 | disc_loss: -1.045525074005127 | gen_loss: 0.4316011965274811\n",
      "Iteration: 2103 | disc_loss: -0.7107837796211243 | gen_loss: 0.40094155073165894\n",
      "Iteration: 2104 | disc_loss: -0.3542577624320984 | gen_loss: 0.3820083737373352\n",
      "Iteration: 2105 | disc_loss: -0.7773342132568359 | gen_loss: 0.32971492409706116\n",
      "Iteration: 2106 | disc_loss: -0.8594328761100769 | gen_loss: 0.42226195335388184\n",
      "Iteration: 2107 | disc_loss: -0.9178816080093384 | gen_loss: 0.29626065492630005\n"
     ]
    },
    {
     "name": "stderr",
     "output_type": "stream",
     "text": [
      " 42%|████▏     | 2113/5001 [01:23<01:56, 24.88it/s]"
     ]
    },
    {
     "name": "stdout",
     "output_type": "stream",
     "text": [
      "Iteration: 2108 | disc_loss: -0.6141396760940552 | gen_loss: 0.28271716833114624\n",
      "Iteration: 2109 | disc_loss: -0.7829633355140686 | gen_loss: 0.38554948568344116\n",
      "Iteration: 2110 | disc_loss: -0.8099544048309326 | gen_loss: 0.21173536777496338\n",
      "Iteration: 2111 | disc_loss: -0.6855412721633911 | gen_loss: 0.17448142170906067\n",
      "Iteration: 2112 | disc_loss: -0.7075246572494507 | gen_loss: 0.375652551651001\n",
      "Iteration: 2113 | disc_loss: -0.5031548738479614 | gen_loss: 0.46011781692504883\n"
     ]
    },
    {
     "name": "stderr",
     "output_type": "stream",
     "text": [
      " 42%|████▏     | 2119/5001 [01:23<01:59, 24.02it/s]"
     ]
    },
    {
     "name": "stdout",
     "output_type": "stream",
     "text": [
      "Iteration: 2114 | disc_loss: -0.33193591237068176 | gen_loss: 0.4529823362827301\n",
      "Iteration: 2115 | disc_loss: -0.6910012364387512 | gen_loss: 0.4550530016422272\n",
      "Iteration: 2116 | disc_loss: -0.7377287149429321 | gen_loss: 0.5189203023910522\n",
      "Iteration: 2117 | disc_loss: -0.8880462646484375 | gen_loss: 0.42335134744644165\n",
      "Iteration: 2118 | disc_loss: -0.8924185633659363 | gen_loss: 0.3036818504333496\n"
     ]
    },
    {
     "name": "stderr",
     "output_type": "stream",
     "text": [
      " 42%|████▏     | 2125/5001 [01:24<01:58, 24.22it/s]"
     ]
    },
    {
     "name": "stdout",
     "output_type": "stream",
     "text": [
      "Iteration: 2119 | disc_loss: -0.6645726561546326 | gen_loss: 0.35521626472473145\n",
      "Iteration: 2120 | disc_loss: -0.8189795017242432 | gen_loss: 0.15497931838035583\n",
      "Iteration: 2121 | disc_loss: -0.5919821262359619 | gen_loss: 0.4614841938018799\n",
      "Iteration: 2122 | disc_loss: -0.4360591173171997 | gen_loss: 0.34035810828208923\n",
      "Iteration: 2123 | disc_loss: -0.7347670793533325 | gen_loss: 0.3581213355064392\n",
      "Iteration: 2124 | disc_loss: -1.0193880796432495 | gen_loss: 0.22813278436660767\n"
     ]
    },
    {
     "name": "stderr",
     "output_type": "stream",
     "text": [
      " 43%|████▎     | 2131/5001 [01:24<01:56, 24.71it/s]"
     ]
    },
    {
     "name": "stdout",
     "output_type": "stream",
     "text": [
      "Iteration: 2125 | disc_loss: -0.5226209759712219 | gen_loss: 0.1788671463727951\n",
      "Iteration: 2126 | disc_loss: -0.6496802568435669 | gen_loss: 0.4582289457321167\n",
      "Iteration: 2127 | disc_loss: -0.9407399892807007 | gen_loss: 0.32748401165008545\n",
      "Iteration: 2128 | disc_loss: -0.8138391971588135 | gen_loss: 0.4120466113090515\n",
      "Iteration: 2129 | disc_loss: -0.6877321600914001 | gen_loss: 0.27613434195518494\n",
      "Iteration: 2130 | disc_loss: -0.7017167806625366 | gen_loss: 0.3585282564163208\n"
     ]
    },
    {
     "name": "stderr",
     "output_type": "stream",
     "text": [
      " 43%|████▎     | 2134/5001 [01:24<01:55, 24.77it/s]"
     ]
    },
    {
     "name": "stdout",
     "output_type": "stream",
     "text": [
      "Iteration: 2131 | disc_loss: -0.6839551329612732 | gen_loss: 0.2797960937023163\n",
      "Iteration: 2132 | disc_loss: -0.9202147126197815 | gen_loss: 0.3788163363933563\n",
      "Iteration: 2133 | disc_loss: -0.6386343836784363 | gen_loss: 0.3701241612434387\n",
      "Iteration: 2134 | disc_loss: -0.829423189163208 | gen_loss: 0.58427494764328\n",
      "Iteration: 2135 | disc_loss: -0.5361091494560242 | gen_loss: 0.4638262689113617\n"
     ]
    },
    {
     "name": "stderr",
     "output_type": "stream",
     "text": [
      " 43%|████▎     | 2140/5001 [01:24<02:00, 23.80it/s]"
     ]
    },
    {
     "name": "stdout",
     "output_type": "stream",
     "text": [
      "Iteration: 2136 | disc_loss: -0.8238377571105957 | gen_loss: 0.5637749433517456\n",
      "Iteration: 2137 | disc_loss: -0.9547721743583679 | gen_loss: 0.5849923491477966\n",
      "Iteration: 2138 | disc_loss: -0.8503100872039795 | gen_loss: 0.5299919843673706\n",
      "Iteration: 2139 | disc_loss: -0.5206552743911743 | gen_loss: 0.543046236038208\n",
      "Iteration: 2140 | disc_loss: -0.8813947439193726 | gen_loss: 0.412905216217041\n",
      "Iteration: 2141 | disc_loss: -0.4499049484729767 | gen_loss: 0.7045471668243408\n"
     ]
    },
    {
     "name": "stderr",
     "output_type": "stream",
     "text": [
      " 43%|████▎     | 2146/5001 [01:24<01:56, 24.58it/s]"
     ]
    },
    {
     "name": "stdout",
     "output_type": "stream",
     "text": [
      "Iteration: 2142 | disc_loss: -0.9047568440437317 | gen_loss: 0.4641551971435547\n",
      "Iteration: 2143 | disc_loss: -0.4595281779766083 | gen_loss: 0.36165350675582886\n",
      "Iteration: 2144 | disc_loss: -0.5344645380973816 | gen_loss: 0.45680955052375793\n",
      "Iteration: 2145 | disc_loss: -0.7649040222167969 | gen_loss: 0.18648427724838257\n",
      "Iteration: 2146 | disc_loss: -0.7564796805381775 | gen_loss: 0.3970416784286499\n",
      "Iteration: 2147 | disc_loss: -0.6843754649162292 | gen_loss: 0.14019741117954254\n"
     ]
    },
    {
     "name": "stderr",
     "output_type": "stream",
     "text": [
      " 43%|████▎     | 2152/5001 [01:25<01:54, 24.91it/s]"
     ]
    },
    {
     "name": "stdout",
     "output_type": "stream",
     "text": [
      "Iteration: 2148 | disc_loss: -0.8089795112609863 | gen_loss: 0.3959399461746216\n",
      "Iteration: 2149 | disc_loss: -0.8685773611068726 | gen_loss: 0.5677148103713989\n",
      "Iteration: 2150 | disc_loss: -1.0049723386764526 | gen_loss: 0.20161555707454681\n",
      "Iteration: 2151 | disc_loss: -0.8013109564781189 | gen_loss: 0.3634715676307678\n",
      "Iteration: 2152 | disc_loss: -0.9003003835678101 | gen_loss: 0.44537442922592163\n",
      "Iteration: 2153 | disc_loss: -0.8706343770027161 | gen_loss: 0.24477314949035645\n"
     ]
    },
    {
     "name": "stderr",
     "output_type": "stream",
     "text": [
      " 43%|████▎     | 2158/5001 [01:25<01:53, 25.12it/s]"
     ]
    },
    {
     "name": "stdout",
     "output_type": "stream",
     "text": [
      "Iteration: 2154 | disc_loss: -0.7762013673782349 | gen_loss: 0.3658873438835144\n",
      "Iteration: 2155 | disc_loss: -0.6738392114639282 | gen_loss: 0.17204780876636505\n",
      "Iteration: 2156 | disc_loss: -0.3472534120082855 | gen_loss: 0.17116108536720276\n",
      "Iteration: 2157 | disc_loss: -0.7041695713996887 | gen_loss: 0.06997039169073105\n",
      "Iteration: 2158 | disc_loss: -0.7558357119560242 | gen_loss: 0.4141852855682373\n",
      "Iteration: 2159 | disc_loss: -0.45195290446281433 | gen_loss: 0.30596834421157837\n"
     ]
    },
    {
     "name": "stderr",
     "output_type": "stream",
     "text": [
      " 43%|████▎     | 2164/5001 [01:25<01:53, 25.09it/s]"
     ]
    },
    {
     "name": "stdout",
     "output_type": "stream",
     "text": [
      "Iteration: 2160 | disc_loss: -0.6714089512825012 | gen_loss: 0.36398959159851074\n",
      "Iteration: 2161 | disc_loss: -0.5311249494552612 | gen_loss: 0.4836595058441162\n",
      "Iteration: 2162 | disc_loss: -0.710678219795227 | gen_loss: 0.4332655370235443\n",
      "Iteration: 2163 | disc_loss: -0.788908839225769 | gen_loss: 0.1815110743045807\n",
      "Iteration: 2164 | disc_loss: -0.5590034127235413 | gen_loss: 0.39846235513687134\n",
      "Iteration: 2165 | disc_loss: -0.691949725151062 | gen_loss: 0.35232841968536377\n"
     ]
    },
    {
     "name": "stderr",
     "output_type": "stream",
     "text": [
      " 43%|████▎     | 2170/5001 [01:25<01:53, 25.05it/s]"
     ]
    },
    {
     "name": "stdout",
     "output_type": "stream",
     "text": [
      "Iteration: 2166 | disc_loss: -0.6994702219963074 | gen_loss: -0.0033262893557548523\n",
      "Iteration: 2167 | disc_loss: -0.6868825554847717 | gen_loss: 0.428256094455719\n",
      "Iteration: 2168 | disc_loss: -0.7552806735038757 | gen_loss: 0.41639673709869385\n",
      "Iteration: 2169 | disc_loss: -0.7791799902915955 | gen_loss: 0.3988687992095947\n",
      "Iteration: 2170 | disc_loss: -0.7553136348724365 | gen_loss: 0.19258029758930206\n"
     ]
    },
    {
     "name": "stderr",
     "output_type": "stream",
     "text": [
      " 44%|████▎     | 2176/5001 [01:26<01:52, 25.10it/s]"
     ]
    },
    {
     "name": "stdout",
     "output_type": "stream",
     "text": [
      "Iteration: 2171 | disc_loss: -0.6971277594566345 | gen_loss: 0.281985878944397\n",
      "Iteration: 2172 | disc_loss: -0.9894688129425049 | gen_loss: 0.3241838812828064\n",
      "Iteration: 2173 | disc_loss: -0.6231629252433777 | gen_loss: 0.4149683117866516\n",
      "Iteration: 2174 | disc_loss: -0.5060178637504578 | gen_loss: 0.4147953987121582\n",
      "Iteration: 2175 | disc_loss: -0.6573322415351868 | gen_loss: 0.2490435540676117\n",
      "Iteration: 2176 | disc_loss: -0.6185145974159241 | gen_loss: 0.42747971415519714\n"
     ]
    },
    {
     "name": "stderr",
     "output_type": "stream",
     "text": [
      " 44%|████▎     | 2182/5001 [01:26<01:57, 24.02it/s]"
     ]
    },
    {
     "name": "stdout",
     "output_type": "stream",
     "text": [
      "Iteration: 2177 | disc_loss: -0.699419379234314 | gen_loss: 0.14957499504089355\n",
      "Iteration: 2178 | disc_loss: -0.7553734183311462 | gen_loss: 0.19731974601745605\n",
      "Iteration: 2179 | disc_loss: -1.1680914163589478 | gen_loss: 0.17578443884849548\n",
      "Iteration: 2180 | disc_loss: -0.7489074468612671 | gen_loss: 0.25429168343544006\n",
      "Iteration: 2181 | disc_loss: -0.8141525983810425 | gen_loss: 0.31972599029541016\n"
     ]
    },
    {
     "name": "stderr",
     "output_type": "stream",
     "text": [
      " 44%|████▍     | 2188/5001 [01:26<01:54, 24.52it/s]"
     ]
    },
    {
     "name": "stdout",
     "output_type": "stream",
     "text": [
      "Iteration: 2182 | disc_loss: -0.8287528157234192 | gen_loss: 0.30014127492904663\n",
      "Iteration: 2183 | disc_loss: -0.6191014051437378 | gen_loss: 0.40012127161026\n",
      "Iteration: 2184 | disc_loss: -0.7219548225402832 | gen_loss: 0.6333842873573303\n",
      "Iteration: 2185 | disc_loss: -0.7815245389938354 | gen_loss: 0.1758928894996643\n",
      "Iteration: 2186 | disc_loss: -0.9814953804016113 | gen_loss: 0.39867258071899414\n",
      "Iteration: 2187 | disc_loss: -0.7509708404541016 | gen_loss: 0.12977935373783112\n"
     ]
    },
    {
     "name": "stderr",
     "output_type": "stream",
     "text": [
      " 44%|████▍     | 2194/5001 [01:26<01:53, 24.72it/s]"
     ]
    },
    {
     "name": "stdout",
     "output_type": "stream",
     "text": [
      "Iteration: 2188 | disc_loss: -0.7699078321456909 | gen_loss: 0.32725441455841064\n",
      "Iteration: 2189 | disc_loss: -0.9857784509658813 | gen_loss: 0.5689709782600403\n",
      "Iteration: 2190 | disc_loss: -0.9272697567939758 | gen_loss: 0.2727622091770172\n",
      "Iteration: 2191 | disc_loss: -0.8047961592674255 | gen_loss: 0.5543291568756104\n",
      "Iteration: 2192 | disc_loss: -0.7084611058235168 | gen_loss: 0.3612227141857147\n",
      "Iteration: 2193 | disc_loss: -0.7547809481620789 | gen_loss: 0.4643029570579529\n"
     ]
    },
    {
     "name": "stderr",
     "output_type": "stream",
     "text": [
      " 44%|████▍     | 2200/5001 [01:27<01:52, 24.98it/s]"
     ]
    },
    {
     "name": "stdout",
     "output_type": "stream",
     "text": [
      "Iteration: 2194 | disc_loss: -0.741192638874054 | gen_loss: 0.25956347584724426\n",
      "Iteration: 2195 | disc_loss: -0.24416369199752808 | gen_loss: 0.42929109930992126\n",
      "Iteration: 2196 | disc_loss: -0.7860168814659119 | gen_loss: 0.31879106163978577\n",
      "Iteration: 2197 | disc_loss: -0.4361003637313843 | gen_loss: 0.25228920578956604\n",
      "Iteration: 2198 | disc_loss: -0.4478897452354431 | gen_loss: 0.47856569290161133\n",
      "Iteration: 2199 | disc_loss: -0.6720204949378967 | gen_loss: 0.48098912835121155\n"
     ]
    },
    {
     "name": "stderr",
     "output_type": "stream",
     "text": [
      " 44%|████▍     | 2203/5001 [01:27<01:55, 24.13it/s]"
     ]
    },
    {
     "name": "stdout",
     "output_type": "stream",
     "text": [
      "Iteration: 2200 | disc_loss: -0.6681223511695862 | gen_loss: 0.5366687774658203\n",
      "Iteration: 2201 | disc_loss: -0.531302809715271 | gen_loss: 0.4477841854095459\n",
      "Iteration: 2202 | disc_loss: -0.6849759817123413 | gen_loss: 0.36549729108810425\n",
      "Iteration: 2203 | disc_loss: -0.8273931741714478 | gen_loss: 0.5544679164886475\n",
      "Iteration: 2204 | disc_loss: -0.43205946683883667 | gen_loss: 0.39432305097579956\n"
     ]
    },
    {
     "name": "stderr",
     "output_type": "stream",
     "text": [
      " 44%|████▍     | 2209/5001 [01:27<01:57, 23.80it/s]"
     ]
    },
    {
     "name": "stdout",
     "output_type": "stream",
     "text": [
      "Iteration: 2205 | disc_loss: -0.6335993409156799 | gen_loss: 0.24857109785079956\n",
      "Iteration: 2206 | disc_loss: -0.7909963130950928 | gen_loss: 0.1496032476425171\n",
      "Iteration: 2207 | disc_loss: -0.16898351907730103 | gen_loss: 0.04078410938382149\n",
      "Iteration: 2208 | disc_loss: -0.9300770163536072 | gen_loss: 0.3920601010322571\n",
      "Iteration: 2209 | disc_loss: -0.6942898035049438 | gen_loss: 0.3480532765388489\n"
     ]
    },
    {
     "name": "stderr",
     "output_type": "stream",
     "text": [
      " 44%|████▍     | 2215/5001 [01:27<01:54, 24.37it/s]"
     ]
    },
    {
     "name": "stdout",
     "output_type": "stream",
     "text": [
      "Iteration: 2210 | disc_loss: -0.9403952360153198 | gen_loss: 0.25494250655174255\n",
      "Iteration: 2211 | disc_loss: -0.81443190574646 | gen_loss: 0.30562883615493774\n",
      "Iteration: 2212 | disc_loss: -0.9475307464599609 | gen_loss: -0.05637846887111664\n",
      "Iteration: 2213 | disc_loss: -0.916348397731781 | gen_loss: 0.1433579921722412\n",
      "Iteration: 2214 | disc_loss: -0.4501497745513916 | gen_loss: 0.20306377112865448\n",
      "Iteration: 2215 | disc_loss: -0.7939815521240234 | gen_loss: 0.23361212015151978\n"
     ]
    },
    {
     "name": "stderr",
     "output_type": "stream",
     "text": [
      " 44%|████▍     | 2221/5001 [01:28<01:55, 24.11it/s]"
     ]
    },
    {
     "name": "stdout",
     "output_type": "stream",
     "text": [
      "Iteration: 2216 | disc_loss: -0.7674594521522522 | gen_loss: 0.15535154938697815\n",
      "Iteration: 2217 | disc_loss: -0.32247745990753174 | gen_loss: 0.3241468071937561\n",
      "Iteration: 2218 | disc_loss: -0.6440113186836243 | gen_loss: 0.11892618983983994\n",
      "Iteration: 2219 | disc_loss: -0.5771856307983398 | gen_loss: 0.310282826423645\n",
      "Iteration: 2220 | disc_loss: -0.5092449188232422 | gen_loss: 0.2613411545753479\n"
     ]
    },
    {
     "name": "stderr",
     "output_type": "stream",
     "text": [
      " 45%|████▍     | 2227/5001 [01:28<01:53, 24.54it/s]"
     ]
    },
    {
     "name": "stdout",
     "output_type": "stream",
     "text": [
      "Iteration: 2221 | disc_loss: -0.8043066263198853 | gen_loss: 0.3898771405220032\n",
      "Iteration: 2222 | disc_loss: -0.9002612233161926 | gen_loss: 0.036678627133369446\n",
      "Iteration: 2223 | disc_loss: -0.6385513544082642 | gen_loss: 0.08118745684623718\n",
      "Iteration: 2224 | disc_loss: -0.9738916754722595 | gen_loss: 0.10965614765882492\n",
      "Iteration: 2225 | disc_loss: -0.8635694980621338 | gen_loss: 0.11975286900997162\n",
      "Iteration: 2226 | disc_loss: -0.469409704208374 | gen_loss: 0.616944432258606\n"
     ]
    },
    {
     "name": "stderr",
     "output_type": "stream",
     "text": [
      " 45%|████▍     | 2233/5001 [01:28<01:51, 24.93it/s]"
     ]
    },
    {
     "name": "stdout",
     "output_type": "stream",
     "text": [
      "Iteration: 2227 | disc_loss: -0.7158843278884888 | gen_loss: 0.39969199895858765\n",
      "Iteration: 2228 | disc_loss: -0.6779530048370361 | gen_loss: 0.4220077693462372\n",
      "Iteration: 2229 | disc_loss: -0.5929299592971802 | gen_loss: 0.5921059846878052\n",
      "Iteration: 2230 | disc_loss: -0.9152392148971558 | gen_loss: 0.4359744191169739\n",
      "Iteration: 2231 | disc_loss: -0.8125884532928467 | gen_loss: 0.08937416970729828\n",
      "Iteration: 2232 | disc_loss: -0.7346897125244141 | gen_loss: 0.430977463722229\n"
     ]
    },
    {
     "name": "stderr",
     "output_type": "stream",
     "text": [
      " 45%|████▍     | 2239/5001 [01:28<01:50, 25.08it/s]"
     ]
    },
    {
     "name": "stdout",
     "output_type": "stream",
     "text": [
      "Iteration: 2233 | disc_loss: -0.7785097360610962 | gen_loss: 0.39347225427627563\n",
      "Iteration: 2234 | disc_loss: -1.0035932064056396 | gen_loss: 0.46882468461990356\n",
      "Iteration: 2235 | disc_loss: -0.7001714110374451 | gen_loss: 0.18413302302360535\n",
      "Iteration: 2236 | disc_loss: -0.7872786521911621 | gen_loss: 0.585944652557373\n",
      "Iteration: 2237 | disc_loss: -0.7653670907020569 | gen_loss: 0.18145959079265594\n",
      "Iteration: 2238 | disc_loss: -1.105615496635437 | gen_loss: 0.4092550277709961\n"
     ]
    },
    {
     "name": "stderr",
     "output_type": "stream",
     "text": [
      " 45%|████▍     | 2245/5001 [01:29<01:50, 24.94it/s]"
     ]
    },
    {
     "name": "stdout",
     "output_type": "stream",
     "text": [
      "Iteration: 2239 | disc_loss: -0.6998462080955505 | gen_loss: 0.8139147162437439\n",
      "Iteration: 2240 | disc_loss: -0.6197309494018555 | gen_loss: 0.4098111391067505\n",
      "Iteration: 2241 | disc_loss: -0.8148558735847473 | gen_loss: 0.7861364483833313\n",
      "Iteration: 2242 | disc_loss: -0.5972981452941895 | gen_loss: 0.2795587182044983\n",
      "Iteration: 2243 | disc_loss: -0.6037288904190063 | gen_loss: 0.4024776220321655\n",
      "Iteration: 2244 | disc_loss: -0.5602631568908691 | gen_loss: 0.18545883893966675\n"
     ]
    },
    {
     "name": "stderr",
     "output_type": "stream",
     "text": [
      " 45%|████▌     | 2251/5001 [01:29<01:49, 25.06it/s]"
     ]
    },
    {
     "name": "stdout",
     "output_type": "stream",
     "text": [
      "Iteration: 2245 | disc_loss: -0.6103590726852417 | gen_loss: 0.33750081062316895\n",
      "Iteration: 2246 | disc_loss: -0.6678025722503662 | gen_loss: 0.40537089109420776\n",
      "Iteration: 2247 | disc_loss: -0.8007246255874634 | gen_loss: 0.07962238788604736\n",
      "Iteration: 2248 | disc_loss: -0.8433687686920166 | gen_loss: 0.2092628926038742\n",
      "Iteration: 2249 | disc_loss: -0.8434488773345947 | gen_loss: 0.36267513036727905\n",
      "Iteration: 2250 | disc_loss: -0.9756161570549011 | gen_loss: 0.3366958498954773\n"
     ]
    },
    {
     "name": "stderr",
     "output_type": "stream",
     "text": [
      " 45%|████▌     | 2257/5001 [01:29<01:51, 24.63it/s]"
     ]
    },
    {
     "name": "stdout",
     "output_type": "stream",
     "text": [
      "Iteration: 2251 | disc_loss: -0.6809418201446533 | gen_loss: 0.39436957240104675\n",
      "Iteration: 2252 | disc_loss: -0.7749373912811279 | gen_loss: 0.39347565174102783\n",
      "Iteration: 2253 | disc_loss: -0.6823890209197998 | gen_loss: 0.40348100662231445\n",
      "Iteration: 2254 | disc_loss: -0.5449659824371338 | gen_loss: 0.4246200621128082\n",
      "Iteration: 2255 | disc_loss: -0.8142910599708557 | gen_loss: 0.12531493604183197\n",
      "Iteration: 2256 | disc_loss: -0.2527356743812561 | gen_loss: 0.395976722240448\n"
     ]
    },
    {
     "name": "stderr",
     "output_type": "stream",
     "text": [
      " 45%|████▌     | 2263/5001 [01:29<01:53, 24.15it/s]"
     ]
    },
    {
     "name": "stdout",
     "output_type": "stream",
     "text": [
      "Iteration: 2257 | disc_loss: -0.8237334489822388 | gen_loss: 0.588906466960907\n",
      "Iteration: 2258 | disc_loss: -0.7150487303733826 | gen_loss: 0.6010739803314209\n",
      "Iteration: 2259 | disc_loss: -0.7943023443222046 | gen_loss: 0.43240320682525635\n",
      "Iteration: 2260 | disc_loss: -0.7285751104354858 | gen_loss: 0.35055264830589294\n",
      "Iteration: 2261 | disc_loss: -0.77120441198349 | gen_loss: 0.39366358518600464\n",
      "Iteration: 2262 | disc_loss: -0.9959644675254822 | gen_loss: 0.42256492376327515\n"
     ]
    },
    {
     "name": "stderr",
     "output_type": "stream",
     "text": [
      " 45%|████▌     | 2269/5001 [01:29<01:52, 24.38it/s]"
     ]
    },
    {
     "name": "stdout",
     "output_type": "stream",
     "text": [
      "Iteration: 2263 | disc_loss: -0.8862076997756958 | gen_loss: 0.17337030172348022\n",
      "Iteration: 2264 | disc_loss: -0.7863088846206665 | gen_loss: 0.43109577894210815\n",
      "Iteration: 2265 | disc_loss: -0.7984108328819275 | gen_loss: 0.36101657152175903\n",
      "Iteration: 2266 | disc_loss: -0.6372078061103821 | gen_loss: 0.13287997245788574\n",
      "Iteration: 2267 | disc_loss: -0.6981348395347595 | gen_loss: 0.36384958028793335\n",
      "Iteration: 2268 | disc_loss: -0.6230942010879517 | gen_loss: 0.23219141364097595\n"
     ]
    },
    {
     "name": "stderr",
     "output_type": "stream",
     "text": [
      " 45%|████▌     | 2275/5001 [01:30<01:50, 24.70it/s]"
     ]
    },
    {
     "name": "stdout",
     "output_type": "stream",
     "text": [
      "Iteration: 2269 | disc_loss: -0.9714338779449463 | gen_loss: 0.42751961946487427\n",
      "Iteration: 2270 | disc_loss: -0.9443343281745911 | gen_loss: -0.08491678535938263\n",
      "Iteration: 2271 | disc_loss: -1.0056805610656738 | gen_loss: -0.4597073495388031\n",
      "Iteration: 2272 | disc_loss: -0.864682674407959 | gen_loss: 0.3212365210056305\n",
      "Iteration: 2273 | disc_loss: -0.6716406345367432 | gen_loss: 0.27240732312202454\n",
      "Iteration: 2274 | disc_loss: -0.8845799565315247 | gen_loss: 0.3865518867969513\n"
     ]
    },
    {
     "name": "stderr",
     "output_type": "stream",
     "text": [
      " 46%|████▌     | 2278/5001 [01:30<01:52, 24.18it/s]"
     ]
    },
    {
     "name": "stdout",
     "output_type": "stream",
     "text": [
      "Iteration: 2275 | disc_loss: -0.47332409024238586 | gen_loss: 0.6124556064605713\n",
      "Iteration: 2276 | disc_loss: -0.5807580947875977 | gen_loss: 0.17238593101501465\n",
      "Iteration: 2277 | disc_loss: -0.7558108568191528 | gen_loss: 0.1393299102783203\n",
      "Iteration: 2278 | disc_loss: -0.8190979957580566 | gen_loss: 0.3628125488758087\n",
      "Iteration: 2279 | disc_loss: -0.9358707070350647 | gen_loss: -0.006556164473295212\n"
     ]
    },
    {
     "name": "stderr",
     "output_type": "stream",
     "text": [
      " 46%|████▌     | 2284/5001 [01:30<01:52, 24.16it/s]"
     ]
    },
    {
     "name": "stdout",
     "output_type": "stream",
     "text": [
      "Iteration: 2280 | disc_loss: -0.8749339580535889 | gen_loss: 0.40929263830184937\n",
      "Iteration: 2281 | disc_loss: -0.6252331733703613 | gen_loss: -0.011619314551353455\n",
      "Iteration: 2282 | disc_loss: -0.5328956842422485 | gen_loss: 0.12840527296066284\n",
      "Iteration: 2283 | disc_loss: -0.6224682927131653 | gen_loss: 0.2874454855918884\n",
      "Iteration: 2284 | disc_loss: -0.20020276308059692 | gen_loss: 0.0899801105260849\n"
     ]
    },
    {
     "name": "stderr",
     "output_type": "stream",
     "text": [
      " 46%|████▌     | 2290/5001 [01:30<01:49, 24.76it/s]"
     ]
    },
    {
     "name": "stdout",
     "output_type": "stream",
     "text": [
      "Iteration: 2285 | disc_loss: -0.5566946864128113 | gen_loss: 0.2568745017051697\n",
      "Iteration: 2286 | disc_loss: -0.9265516996383667 | gen_loss: 0.22347086668014526\n",
      "Iteration: 2287 | disc_loss: -0.5069266557693481 | gen_loss: 0.02777649462223053\n",
      "Iteration: 2288 | disc_loss: -0.7571763396263123 | gen_loss: 0.47863203287124634\n",
      "Iteration: 2289 | disc_loss: -0.9081467390060425 | gen_loss: 0.21005471050739288\n",
      "Iteration: 2290 | disc_loss: -0.5197107791900635 | gen_loss: 0.5217543840408325\n"
     ]
    },
    {
     "name": "stderr",
     "output_type": "stream",
     "text": [
      " 46%|████▌     | 2296/5001 [01:31<01:49, 24.82it/s]"
     ]
    },
    {
     "name": "stdout",
     "output_type": "stream",
     "text": [
      "Iteration: 2291 | disc_loss: -0.8281246423721313 | gen_loss: 0.24638713896274567\n",
      "Iteration: 2292 | disc_loss: -0.7198769450187683 | gen_loss: 0.18613022565841675\n",
      "Iteration: 2293 | disc_loss: -0.7475502490997314 | gen_loss: 0.4448227286338806\n",
      "Iteration: 2294 | disc_loss: -0.8670981526374817 | gen_loss: 0.3096373379230499\n",
      "Iteration: 2295 | disc_loss: -0.8562113046646118 | gen_loss: 0.24729084968566895\n",
      "Iteration: 2296 | disc_loss: -0.8458643555641174 | gen_loss: 0.37312886118888855\n"
     ]
    },
    {
     "name": "stderr",
     "output_type": "stream",
     "text": [
      " 46%|████▌     | 2302/5001 [01:31<01:57, 23.01it/s]"
     ]
    },
    {
     "name": "stdout",
     "output_type": "stream",
     "text": [
      "Iteration: 2297 | disc_loss: -0.8210524320602417 | gen_loss: 0.3485271632671356\n",
      "Iteration: 2298 | disc_loss: -0.8915479183197021 | gen_loss: 0.48038068413734436\n",
      "Iteration: 2299 | disc_loss: -0.8362789154052734 | gen_loss: 0.35637664794921875\n",
      "Iteration: 2300 | disc_loss: -0.7384260296821594 | gen_loss: 0.4343891739845276\n",
      "Iteration: 2301 | disc_loss: -0.8660084009170532 | gen_loss: 0.2443694770336151\n"
     ]
    },
    {
     "name": "stderr",
     "output_type": "stream",
     "text": [
      " 46%|████▌     | 2305/5001 [01:31<01:57, 22.92it/s]"
     ]
    },
    {
     "name": "stdout",
     "output_type": "stream",
     "text": [
      "Iteration: 2302 | disc_loss: -0.7466025948524475 | gen_loss: 0.16350744664669037\n",
      "Iteration: 2303 | disc_loss: -0.7784545421600342 | gen_loss: 0.3687458336353302\n",
      "Iteration: 2304 | disc_loss: -0.8564965128898621 | gen_loss: 0.2894875407218933\n",
      "Iteration: 2305 | disc_loss: -0.6644617915153503 | gen_loss: 0.273509681224823\n",
      "Iteration: 2306 | disc_loss: -0.3467806279659271 | gen_loss: 0.39603421092033386\n"
     ]
    },
    {
     "name": "stderr",
     "output_type": "stream",
     "text": [
      " 46%|████▌     | 2311/5001 [01:31<01:59, 22.46it/s]"
     ]
    },
    {
     "name": "stdout",
     "output_type": "stream",
     "text": [
      "Iteration: 2307 | disc_loss: -0.5778672695159912 | gen_loss: 0.3774925470352173\n",
      "Iteration: 2308 | disc_loss: -0.8845281600952148 | gen_loss: 0.488353967666626\n",
      "Iteration: 2309 | disc_loss: -0.796159565448761 | gen_loss: 0.34441229701042175\n",
      "Iteration: 2310 | disc_loss: -0.8553043603897095 | gen_loss: 0.08740745484828949\n",
      "Iteration: 2311 | disc_loss: -0.9522520303726196 | gen_loss: 0.03664577379822731\n"
     ]
    },
    {
     "name": "stderr",
     "output_type": "stream",
     "text": [
      " 46%|████▋     | 2317/5001 [01:32<02:01, 22.06it/s]"
     ]
    },
    {
     "name": "stdout",
     "output_type": "stream",
     "text": [
      "Iteration: 2312 | disc_loss: -0.982255220413208 | gen_loss: 0.1735396683216095\n",
      "Iteration: 2313 | disc_loss: -0.9875234365463257 | gen_loss: 0.24084141850471497\n",
      "Iteration: 2314 | disc_loss: -1.060415506362915 | gen_loss: 0.03042726218700409\n",
      "Iteration: 2315 | disc_loss: -1.10747492313385 | gen_loss: 0.30369624495506287\n",
      "Iteration: 2316 | disc_loss: -0.9176090955734253 | gen_loss: 0.024048566818237305\n"
     ]
    },
    {
     "name": "stderr",
     "output_type": "stream",
     "text": [
      " 46%|████▋     | 2323/5001 [01:32<01:59, 22.33it/s]"
     ]
    },
    {
     "name": "stdout",
     "output_type": "stream",
     "text": [
      "Iteration: 2317 | disc_loss: -0.6596057415008545 | gen_loss: 0.14174363017082214\n",
      "Iteration: 2318 | disc_loss: -0.7555342316627502 | gen_loss: 0.20800933241844177\n",
      "Iteration: 2319 | disc_loss: -0.22849859297275543 | gen_loss: 0.33586710691452026\n",
      "Iteration: 2320 | disc_loss: -0.8169005513191223 | gen_loss: 0.22230973839759827\n",
      "Iteration: 2321 | disc_loss: -0.9948270320892334 | gen_loss: 0.3975287675857544\n",
      "Iteration: 2322 | disc_loss: -0.764494776725769 | gen_loss: 0.27422186732292175\n"
     ]
    },
    {
     "name": "stderr",
     "output_type": "stream",
     "text": [
      " 47%|████▋     | 2329/5001 [01:32<01:53, 23.56it/s]"
     ]
    },
    {
     "name": "stdout",
     "output_type": "stream",
     "text": [
      "Iteration: 2323 | disc_loss: -0.7000623941421509 | gen_loss: 0.26664218306541443\n",
      "Iteration: 2324 | disc_loss: -0.9194678664207458 | gen_loss: 0.31486546993255615\n",
      "Iteration: 2325 | disc_loss: -0.6471800804138184 | gen_loss: 0.22542425990104675\n",
      "Iteration: 2326 | disc_loss: -0.794548511505127 | gen_loss: 0.23798194527626038\n",
      "Iteration: 2327 | disc_loss: -0.799249529838562 | gen_loss: 0.1651063859462738\n",
      "Iteration: 2328 | disc_loss: -0.9461561441421509 | gen_loss: 0.34568899869918823\n"
     ]
    },
    {
     "name": "stderr",
     "output_type": "stream",
     "text": [
      " 47%|████▋     | 2335/5001 [01:32<01:50, 24.20it/s]"
     ]
    },
    {
     "name": "stdout",
     "output_type": "stream",
     "text": [
      "Iteration: 2329 | disc_loss: -1.059908151626587 | gen_loss: 0.25564247369766235\n",
      "Iteration: 2330 | disc_loss: -0.48564937710762024 | gen_loss: 0.3065122961997986\n",
      "Iteration: 2331 | disc_loss: -1.093172311782837 | gen_loss: 1.0635457038879395\n",
      "Iteration: 2332 | disc_loss: -0.7565577030181885 | gen_loss: 0.6856589317321777\n",
      "Iteration: 2333 | disc_loss: -0.7189953327178955 | gen_loss: 0.25913339853286743\n",
      "Iteration: 2334 | disc_loss: -0.7734817266464233 | gen_loss: 0.4276540279388428\n"
     ]
    },
    {
     "name": "stderr",
     "output_type": "stream",
     "text": [
      " 47%|████▋     | 2341/5001 [01:33<01:49, 24.27it/s]"
     ]
    },
    {
     "name": "stdout",
     "output_type": "stream",
     "text": [
      "Iteration: 2335 | disc_loss: -0.7038891911506653 | gen_loss: 0.3916879892349243\n",
      "Iteration: 2336 | disc_loss: -0.6774047613143921 | gen_loss: 0.11812776327133179\n",
      "Iteration: 2337 | disc_loss: -0.6598600745201111 | gen_loss: 0.4382009506225586\n",
      "Iteration: 2338 | disc_loss: -0.8741998076438904 | gen_loss: 0.9428662061691284\n",
      "Iteration: 2339 | disc_loss: -0.8892413973808289 | gen_loss: 0.26896846294403076\n",
      "Iteration: 2340 | disc_loss: -1.0970178842544556 | gen_loss: 0.3305174708366394\n"
     ]
    },
    {
     "name": "stderr",
     "output_type": "stream",
     "text": [
      " 47%|████▋     | 2347/5001 [01:33<01:47, 24.58it/s]"
     ]
    },
    {
     "name": "stdout",
     "output_type": "stream",
     "text": [
      "Iteration: 2341 | disc_loss: -1.0371065139770508 | gen_loss: 0.42201435565948486\n",
      "Iteration: 2342 | disc_loss: -0.8157007098197937 | gen_loss: 0.3151662051677704\n",
      "Iteration: 2343 | disc_loss: -0.9096805453300476 | gen_loss: 0.21964573860168457\n",
      "Iteration: 2344 | disc_loss: -0.7197408676147461 | gen_loss: 0.336957722902298\n",
      "Iteration: 2345 | disc_loss: -0.8494935035705566 | gen_loss: 0.20292988419532776\n",
      "Iteration: 2346 | disc_loss: -0.9455675482749939 | gen_loss: 0.6360059976577759\n"
     ]
    },
    {
     "name": "stderr",
     "output_type": "stream",
     "text": [
      " 47%|████▋     | 2353/5001 [01:33<01:46, 24.78it/s]"
     ]
    },
    {
     "name": "stdout",
     "output_type": "stream",
     "text": [
      "Iteration: 2347 | disc_loss: -0.8033521175384521 | gen_loss: 0.41445475816726685\n",
      "Iteration: 2348 | disc_loss: -0.6837056875228882 | gen_loss: 0.48434656858444214\n",
      "Iteration: 2349 | disc_loss: -0.7218613028526306 | gen_loss: 0.46386411786079407\n",
      "Iteration: 2350 | disc_loss: -0.7712085843086243 | gen_loss: 0.17387323081493378\n",
      "Iteration: 2351 | disc_loss: -0.7660995721817017 | gen_loss: 0.18383601307868958\n",
      "Iteration: 2352 | disc_loss: -0.7387039065361023 | gen_loss: 0.3105517625808716\n"
     ]
    },
    {
     "name": "stderr",
     "output_type": "stream",
     "text": [
      " 47%|████▋     | 2359/5001 [01:33<01:46, 24.87it/s]"
     ]
    },
    {
     "name": "stdout",
     "output_type": "stream",
     "text": [
      "Iteration: 2353 | disc_loss: -0.807719886302948 | gen_loss: 0.2168491780757904\n",
      "Iteration: 2354 | disc_loss: -0.7533993124961853 | gen_loss: 0.26310646533966064\n",
      "Iteration: 2355 | disc_loss: -0.7251917719841003 | gen_loss: 0.22259452939033508\n",
      "Iteration: 2356 | disc_loss: -0.7905763387680054 | gen_loss: 0.4241192936897278\n",
      "Iteration: 2357 | disc_loss: -0.7607982754707336 | gen_loss: 0.5811347365379333\n",
      "Iteration: 2358 | disc_loss: -0.7766215801239014 | gen_loss: 0.3741796016693115\n"
     ]
    },
    {
     "name": "stderr",
     "output_type": "stream",
     "text": [
      " 47%|████▋     | 2365/5001 [01:34<01:45, 24.87it/s]"
     ]
    },
    {
     "name": "stdout",
     "output_type": "stream",
     "text": [
      "Iteration: 2359 | disc_loss: -0.6971598863601685 | gen_loss: 0.4661666452884674\n",
      "Iteration: 2360 | disc_loss: -0.8979234099388123 | gen_loss: 0.2688482701778412\n",
      "Iteration: 2361 | disc_loss: -0.8027402758598328 | gen_loss: 0.3698418140411377\n",
      "Iteration: 2362 | disc_loss: -0.9004693627357483 | gen_loss: 0.2605976462364197\n",
      "Iteration: 2363 | disc_loss: -0.5687664151191711 | gen_loss: 0.08352556824684143\n",
      "Iteration: 2364 | disc_loss: -0.8668825030326843 | gen_loss: 0.18996405601501465\n"
     ]
    },
    {
     "name": "stderr",
     "output_type": "stream",
     "text": [
      " 47%|████▋     | 2371/5001 [01:34<01:43, 25.30it/s]"
     ]
    },
    {
     "name": "stdout",
     "output_type": "stream",
     "text": [
      "Iteration: 2365 | disc_loss: -0.7223480939865112 | gen_loss: 0.11813770234584808\n",
      "Iteration: 2366 | disc_loss: -0.8398717045783997 | gen_loss: 0.042390912771224976\n",
      "Iteration: 2367 | disc_loss: -0.7817562818527222 | gen_loss: 0.27287179231643677\n",
      "Iteration: 2368 | disc_loss: -0.2742530107498169 | gen_loss: 0.2383762001991272\n",
      "Iteration: 2369 | disc_loss: -0.870197057723999 | gen_loss: 0.10758181661367416\n",
      "Iteration: 2370 | disc_loss: -0.9875603318214417 | gen_loss: 0.09909822046756744\n"
     ]
    },
    {
     "name": "stderr",
     "output_type": "stream",
     "text": [
      " 48%|████▊     | 2377/5001 [01:34<01:43, 25.27it/s]"
     ]
    },
    {
     "name": "stdout",
     "output_type": "stream",
     "text": [
      "Iteration: 2371 | disc_loss: -0.9184238910675049 | gen_loss: 0.16133520007133484\n",
      "Iteration: 2372 | disc_loss: -0.9527413845062256 | gen_loss: 0.14630024135112762\n",
      "Iteration: 2373 | disc_loss: -0.8098805546760559 | gen_loss: 0.06977242976427078\n",
      "Iteration: 2374 | disc_loss: -0.5420944094657898 | gen_loss: -0.02536657452583313\n",
      "Iteration: 2375 | disc_loss: -0.9688535928726196 | gen_loss: 0.2132367640733719\n",
      "Iteration: 2376 | disc_loss: -0.6165374517440796 | gen_loss: -0.07455739378929138\n"
     ]
    },
    {
     "name": "stderr",
     "output_type": "stream",
     "text": [
      " 48%|████▊     | 2383/5001 [01:34<01:44, 25.12it/s]"
     ]
    },
    {
     "name": "stdout",
     "output_type": "stream",
     "text": [
      "Iteration: 2377 | disc_loss: -0.9276436567306519 | gen_loss: 0.22263288497924805\n",
      "Iteration: 2378 | disc_loss: -0.618351399898529 | gen_loss: 0.19698381423950195\n",
      "Iteration: 2379 | disc_loss: -0.8480689525604248 | gen_loss: -0.11722450703382492\n",
      "Iteration: 2380 | disc_loss: -0.8854383230209351 | gen_loss: 0.2693471908569336\n",
      "Iteration: 2381 | disc_loss: -0.7998412251472473 | gen_loss: 0.2571188509464264\n",
      "Iteration: 2382 | disc_loss: -0.930075466632843 | gen_loss: 0.355105459690094\n"
     ]
    },
    {
     "name": "stderr",
     "output_type": "stream",
     "text": [
      " 48%|████▊     | 2386/5001 [01:34<01:45, 24.76it/s]"
     ]
    },
    {
     "name": "stdout",
     "output_type": "stream",
     "text": [
      "Iteration: 2383 | disc_loss: -0.6777069568634033 | gen_loss: 0.14607399702072144\n",
      "Iteration: 2384 | disc_loss: -0.7339173555374146 | gen_loss: 0.27418994903564453\n",
      "Iteration: 2385 | disc_loss: -0.6679933071136475 | gen_loss: 0.23315611481666565\n",
      "Iteration: 2386 | disc_loss: -0.8054192066192627 | gen_loss: 0.28820276260375977\n",
      "Iteration: 2387 | disc_loss: -0.8444327116012573 | gen_loss: 0.2877395749092102\n"
     ]
    },
    {
     "name": "stderr",
     "output_type": "stream",
     "text": [
      " 48%|████▊     | 2392/5001 [01:35<01:45, 24.62it/s]"
     ]
    },
    {
     "name": "stdout",
     "output_type": "stream",
     "text": [
      "Iteration: 2388 | disc_loss: -0.8287503123283386 | gen_loss: 0.09331905096769333\n",
      "Iteration: 2389 | disc_loss: -0.9250075221061707 | gen_loss: 0.4294857382774353\n",
      "Iteration: 2390 | disc_loss: -0.9421599507331848 | gen_loss: 0.4191846251487732\n",
      "Iteration: 2391 | disc_loss: -1.1627439260482788 | gen_loss: 0.11932659149169922\n",
      "Iteration: 2392 | disc_loss: -0.9133766293525696 | gen_loss: 0.1267269253730774\n"
     ]
    },
    {
     "name": "stderr",
     "output_type": "stream",
     "text": [
      " 48%|████▊     | 2398/5001 [01:35<01:44, 24.85it/s]"
     ]
    },
    {
     "name": "stdout",
     "output_type": "stream",
     "text": [
      "Iteration: 2393 | disc_loss: -0.9549809694290161 | gen_loss: 0.0925438329577446\n",
      "Iteration: 2394 | disc_loss: -0.7093125581741333 | gen_loss: 0.3708721995353699\n",
      "Iteration: 2395 | disc_loss: -0.7327073216438293 | gen_loss: 0.3087928891181946\n",
      "Iteration: 2396 | disc_loss: -0.7880582809448242 | gen_loss: 0.16737623512744904\n",
      "Iteration: 2397 | disc_loss: -0.9152913093566895 | gen_loss: 0.13371124863624573\n",
      "Iteration: 2398 | disc_loss: -0.718781054019928 | gen_loss: 0.0986233502626419\n"
     ]
    },
    {
     "name": "stderr",
     "output_type": "stream",
     "text": [
      " 48%|████▊     | 2404/5001 [01:35<01:49, 23.76it/s]"
     ]
    },
    {
     "name": "stdout",
     "output_type": "stream",
     "text": [
      "Iteration: 2399 | disc_loss: -0.24836748838424683 | gen_loss: 0.22049149870872498\n",
      "Iteration: 2400 | disc_loss: -0.8002842664718628 | gen_loss: 0.2711009383201599\n",
      "Iteration: 2401 | disc_loss: -0.916995108127594 | gen_loss: 0.03396829962730408\n",
      "Iteration: 2402 | disc_loss: -0.7940540909767151 | gen_loss: 0.1620987355709076\n",
      "Iteration: 2403 | disc_loss: -0.5655737519264221 | gen_loss: 0.1390918642282486\n"
     ]
    },
    {
     "name": "stderr",
     "output_type": "stream",
     "text": [
      " 48%|████▊     | 2410/5001 [01:35<01:46, 24.29it/s]"
     ]
    },
    {
     "name": "stdout",
     "output_type": "stream",
     "text": [
      "Iteration: 2404 | disc_loss: -1.002795696258545 | gen_loss: 0.18882831931114197\n",
      "Iteration: 2405 | disc_loss: -0.7050575017929077 | gen_loss: 0.17925721406936646\n",
      "Iteration: 2406 | disc_loss: -0.5610527992248535 | gen_loss: 0.21140329539775848\n",
      "Iteration: 2407 | disc_loss: -0.6383270025253296 | gen_loss: 0.2473905235528946\n",
      "Iteration: 2408 | disc_loss: -0.6149250864982605 | gen_loss: 0.3696804344654083\n",
      "Iteration: 2409 | disc_loss: -0.7148643136024475 | gen_loss: 0.235282763838768\n"
     ]
    },
    {
     "name": "stderr",
     "output_type": "stream",
     "text": [
      " 48%|████▊     | 2416/5001 [01:36<01:45, 24.59it/s]"
     ]
    },
    {
     "name": "stdout",
     "output_type": "stream",
     "text": [
      "Iteration: 2410 | disc_loss: -0.9806345701217651 | gen_loss: 0.038083240389823914\n",
      "Iteration: 2411 | disc_loss: -0.7572022080421448 | gen_loss: 0.15224452316761017\n",
      "Iteration: 2412 | disc_loss: -0.961762011051178 | gen_loss: 0.36179348826408386\n",
      "Iteration: 2413 | disc_loss: -0.5677801966667175 | gen_loss: 0.32582002878189087\n",
      "Iteration: 2414 | disc_loss: -1.0060638189315796 | gen_loss: 0.475326269865036\n",
      "Iteration: 2415 | disc_loss: -0.6780757904052734 | gen_loss: 0.4654926061630249\n"
     ]
    },
    {
     "name": "stderr",
     "output_type": "stream",
     "text": [
      " 48%|████▊     | 2422/5001 [01:36<01:44, 24.73it/s]"
     ]
    },
    {
     "name": "stdout",
     "output_type": "stream",
     "text": [
      "Iteration: 2416 | disc_loss: -0.771663248538971 | gen_loss: 0.5209859609603882\n",
      "Iteration: 2417 | disc_loss: -0.9484939575195312 | gen_loss: 0.5559127330780029\n",
      "Iteration: 2418 | disc_loss: -0.9208434224128723 | gen_loss: 0.4220010042190552\n",
      "Iteration: 2419 | disc_loss: -1.058007836341858 | gen_loss: 0.6244944334030151\n",
      "Iteration: 2420 | disc_loss: -0.8649239540100098 | gen_loss: 0.3567126989364624\n",
      "Iteration: 2421 | disc_loss: -0.7712677717208862 | gen_loss: 0.5749843120574951\n"
     ]
    },
    {
     "name": "stderr",
     "output_type": "stream",
     "text": [
      " 48%|████▊     | 2425/5001 [01:36<01:44, 24.69it/s]"
     ]
    },
    {
     "name": "stdout",
     "output_type": "stream",
     "text": [
      "Iteration: 2422 | disc_loss: -0.833854079246521 | gen_loss: 0.3342249393463135\n",
      "Iteration: 2423 | disc_loss: -0.6936683058738708 | gen_loss: 0.6244323253631592\n",
      "Iteration: 2424 | disc_loss: -0.7361910939216614 | gen_loss: 0.37187767028808594\n",
      "Iteration: 2425 | disc_loss: -0.6717957258224487 | gen_loss: 0.4858795404434204\n",
      "Iteration: 2426 | disc_loss: -0.836682915687561 | gen_loss: 0.25254184007644653\n"
     ]
    },
    {
     "name": "stderr",
     "output_type": "stream",
     "text": [
      " 49%|████▊     | 2431/5001 [01:36<01:47, 23.87it/s]"
     ]
    },
    {
     "name": "stdout",
     "output_type": "stream",
     "text": [
      "Iteration: 2427 | disc_loss: -0.7663618922233582 | gen_loss: 0.44545233249664307\n",
      "Iteration: 2428 | disc_loss: -0.5687689185142517 | gen_loss: -0.05741351097822189\n",
      "Iteration: 2429 | disc_loss: -0.6610668897628784 | gen_loss: 0.36982783675193787\n",
      "Iteration: 2430 | disc_loss: -0.8507071733474731 | gen_loss: 0.14404410123825073\n",
      "Iteration: 2431 | disc_loss: -0.8484458923339844 | gen_loss: 0.24248135089874268\n",
      "Iteration: 2432 | disc_loss: -0.6389629244804382 | gen_loss: 0.010628432035446167\n"
     ]
    },
    {
     "name": "stderr",
     "output_type": "stream",
     "text": [
      " 49%|████▊     | 2437/5001 [01:36<01:45, 24.28it/s]"
     ]
    },
    {
     "name": "stdout",
     "output_type": "stream",
     "text": [
      "Iteration: 2433 | disc_loss: -0.8280890583992004 | gen_loss: 0.1930025815963745\n",
      "Iteration: 2434 | disc_loss: -0.8752752542495728 | gen_loss: 0.3058759868144989\n",
      "Iteration: 2435 | disc_loss: -0.8184090256690979 | gen_loss: 0.06279325485229492\n",
      "Iteration: 2436 | disc_loss: -0.9242424964904785 | gen_loss: 0.07197761535644531\n",
      "Iteration: 2437 | disc_loss: -0.7070805430412292 | gen_loss: 0.38654664158821106\n"
     ]
    },
    {
     "name": "stderr",
     "output_type": "stream",
     "text": [
      " 49%|████▉     | 2443/5001 [01:37<01:45, 24.19it/s]"
     ]
    },
    {
     "name": "stdout",
     "output_type": "stream",
     "text": [
      "Iteration: 2438 | disc_loss: -0.9673117399215698 | gen_loss: 0.4361068606376648\n",
      "Iteration: 2439 | disc_loss: -0.99017733335495 | gen_loss: 0.7303130030632019\n",
      "Iteration: 2440 | disc_loss: -0.5010015964508057 | gen_loss: 0.9645811915397644\n",
      "Iteration: 2441 | disc_loss: -0.5952914357185364 | gen_loss: 0.307625412940979\n",
      "Iteration: 2442 | disc_loss: -0.8312406539916992 | gen_loss: 1.4372999668121338\n",
      "Iteration: 2443 | disc_loss: -0.6600937843322754 | gen_loss: 0.5104929208755493\n"
     ]
    },
    {
     "name": "stderr",
     "output_type": "stream",
     "text": [
      " 49%|████▉     | 2449/5001 [01:37<01:53, 22.41it/s]"
     ]
    },
    {
     "name": "stdout",
     "output_type": "stream",
     "text": [
      "Iteration: 2444 | disc_loss: -0.8522244691848755 | gen_loss: 0.37201493978500366\n",
      "Iteration: 2445 | disc_loss: -0.8524972796440125 | gen_loss: 1.1881647109985352\n",
      "Iteration: 2446 | disc_loss: -0.7857110500335693 | gen_loss: 0.31024330854415894\n",
      "Iteration: 2447 | disc_loss: -0.6767668128013611 | gen_loss: 0.5230765342712402\n",
      "Iteration: 2448 | disc_loss: -0.7590088248252869 | gen_loss: 0.2996338903903961\n"
     ]
    },
    {
     "name": "stderr",
     "output_type": "stream",
     "text": [
      " 49%|████▉     | 2455/5001 [01:37<01:47, 23.68it/s]"
     ]
    },
    {
     "name": "stdout",
     "output_type": "stream",
     "text": [
      "Iteration: 2449 | disc_loss: -0.48366695642471313 | gen_loss: 0.3271583020687103\n",
      "Iteration: 2450 | disc_loss: -1.0048896074295044 | gen_loss: 0.1832091212272644\n",
      "Iteration: 2451 | disc_loss: -0.9472044706344604 | gen_loss: 0.26997679471969604\n",
      "Iteration: 2452 | disc_loss: -0.8397144675254822 | gen_loss: 0.39991050958633423\n",
      "Iteration: 2453 | disc_loss: -0.5669191479682922 | gen_loss: 0.45179617404937744\n",
      "Iteration: 2454 | disc_loss: -0.8965810537338257 | gen_loss: 0.18383020162582397\n"
     ]
    },
    {
     "name": "stderr",
     "output_type": "stream",
     "text": [
      " 49%|████▉     | 2461/5001 [01:37<01:42, 24.73it/s]"
     ]
    },
    {
     "name": "stdout",
     "output_type": "stream",
     "text": [
      "Iteration: 2455 | disc_loss: -0.9667909741401672 | gen_loss: 0.45429563522338867\n",
      "Iteration: 2456 | disc_loss: -0.9820220470428467 | gen_loss: 0.26421862840652466\n",
      "Iteration: 2457 | disc_loss: -0.8659088015556335 | gen_loss: 0.24700085818767548\n",
      "Iteration: 2458 | disc_loss: -0.8039807081222534 | gen_loss: 0.17641720175743103\n",
      "Iteration: 2459 | disc_loss: -0.7305053472518921 | gen_loss: 0.4224551320075989\n",
      "Iteration: 2460 | disc_loss: -0.4786253571510315 | gen_loss: 0.42342230677604675\n"
     ]
    },
    {
     "name": "stderr",
     "output_type": "stream",
     "text": [
      " 49%|████▉     | 2464/5001 [01:38<01:43, 24.62it/s]"
     ]
    },
    {
     "name": "stdout",
     "output_type": "stream",
     "text": [
      "Iteration: 2461 | disc_loss: -0.8033973574638367 | gen_loss: 0.2559211850166321\n",
      "Iteration: 2462 | disc_loss: -0.7897966504096985 | gen_loss: 0.276927649974823\n",
      "Iteration: 2463 | disc_loss: -0.8321111798286438 | gen_loss: 0.3316378891468048\n",
      "Iteration: 2464 | disc_loss: -0.8147401809692383 | gen_loss: 0.14482519030570984\n"
     ]
    },
    {
     "name": "stderr",
     "output_type": "stream",
     "text": [
      " 49%|████▉     | 2467/5001 [01:38<02:12, 19.10it/s]"
     ]
    },
    {
     "name": "stdout",
     "output_type": "stream",
     "text": [
      "Iteration: 2465 | disc_loss: -0.6957064867019653 | gen_loss: 0.28657713532447815\n",
      "Iteration: 2466 | disc_loss: -0.47200894355773926 | gen_loss: 0.4218461215496063\n",
      "Iteration: 2467 | disc_loss: -0.8286097049713135 | gen_loss: 0.37953364849090576\n"
     ]
    },
    {
     "name": "stderr",
     "output_type": "stream",
     "text": [
      " 49%|████▉     | 2470/5001 [01:38<02:29, 16.88it/s]"
     ]
    },
    {
     "name": "stdout",
     "output_type": "stream",
     "text": [
      "Iteration: 2468 | disc_loss: -0.7693061232566833 | gen_loss: 0.3524310290813446\n",
      "Iteration: 2469 | disc_loss: -0.8319209218025208 | gen_loss: 0.37544238567352295\n",
      "Iteration: 2470 | disc_loss: -0.8340794444084167 | gen_loss: 0.3608623147010803\n"
     ]
    },
    {
     "name": "stderr",
     "output_type": "stream",
     "text": [
      " 49%|████▉     | 2474/5001 [01:38<02:54, 14.47it/s]"
     ]
    },
    {
     "name": "stdout",
     "output_type": "stream",
     "text": [
      "Iteration: 2471 | disc_loss: -0.4787459075450897 | gen_loss: 0.3106527626514435\n",
      "Iteration: 2472 | disc_loss: -0.6076385974884033 | gen_loss: 0.2706243395805359\n",
      "Iteration: 2473 | disc_loss: -0.6860297918319702 | gen_loss: 0.03536669909954071\n"
     ]
    },
    {
     "name": "stderr",
     "output_type": "stream",
     "text": [
      " 50%|████▉     | 2478/5001 [01:39<02:59, 14.07it/s]"
     ]
    },
    {
     "name": "stdout",
     "output_type": "stream",
     "text": [
      "Iteration: 2474 | disc_loss: -0.9159055948257446 | gen_loss: 0.32444703578948975\n",
      "Iteration: 2475 | disc_loss: -0.6308789253234863 | gen_loss: 0.3346382975578308\n",
      "Iteration: 2476 | disc_loss: -0.6720173954963684 | gen_loss: 0.35516881942749023\n",
      "Iteration: 2477 | disc_loss: -1.1459823846817017 | gen_loss: 0.5236750245094299\n"
     ]
    },
    {
     "name": "stderr",
     "output_type": "stream",
     "text": [
      " 50%|████▉     | 2483/5001 [01:39<02:27, 17.09it/s]"
     ]
    },
    {
     "name": "stdout",
     "output_type": "stream",
     "text": [
      "Iteration: 2478 | disc_loss: -0.9156377911567688 | gen_loss: 0.21413704752922058\n",
      "Iteration: 2479 | disc_loss: -0.6870799660682678 | gen_loss: 0.2867646813392639\n",
      "Iteration: 2480 | disc_loss: -0.9292420744895935 | gen_loss: 0.4878399670124054\n",
      "Iteration: 2481 | disc_loss: -0.8538081049919128 | gen_loss: 0.38768336176872253\n",
      "Iteration: 2482 | disc_loss: -0.8548038005828857 | gen_loss: 0.3285439610481262\n"
     ]
    },
    {
     "name": "stderr",
     "output_type": "stream",
     "text": [
      " 50%|████▉     | 2489/5001 [01:39<01:59, 21.01it/s]"
     ]
    },
    {
     "name": "stdout",
     "output_type": "stream",
     "text": [
      "Iteration: 2483 | disc_loss: -0.781657338142395 | gen_loss: 0.26955920457839966\n",
      "Iteration: 2484 | disc_loss: -0.8179217576980591 | gen_loss: 0.07534912973642349\n",
      "Iteration: 2485 | disc_loss: -0.7393787503242493 | gen_loss: 0.22148258984088898\n",
      "Iteration: 2486 | disc_loss: -0.9345396161079407 | gen_loss: 0.36502110958099365\n",
      "Iteration: 2487 | disc_loss: -0.5155107378959656 | gen_loss: 0.40760689973831177\n",
      "Iteration: 2488 | disc_loss: -0.6767315864562988 | gen_loss: 0.4957440197467804\n"
     ]
    },
    {
     "name": "stderr",
     "output_type": "stream",
     "text": [
      " 50%|████▉     | 2495/5001 [01:39<01:46, 23.48it/s]"
     ]
    },
    {
     "name": "stdout",
     "output_type": "stream",
     "text": [
      "Iteration: 2489 | disc_loss: -0.9682267904281616 | gen_loss: 0.39673689007759094\n",
      "Iteration: 2490 | disc_loss: -0.8887300491333008 | gen_loss: 0.18788591027259827\n",
      "Iteration: 2491 | disc_loss: -0.6124254465103149 | gen_loss: 0.1175658106803894\n",
      "Iteration: 2492 | disc_loss: -0.7636467814445496 | gen_loss: 0.43841850757598877\n",
      "Iteration: 2493 | disc_loss: -0.7745887041091919 | gen_loss: 0.11617425829172134\n",
      "Iteration: 2494 | disc_loss: -0.27671098709106445 | gen_loss: 0.3474651873111725\n"
     ]
    },
    {
     "name": "stderr",
     "output_type": "stream",
     "text": [
      " 50%|█████     | 2501/5001 [01:40<01:45, 23.72it/s]"
     ]
    },
    {
     "name": "stdout",
     "output_type": "stream",
     "text": [
      "Iteration: 2495 | disc_loss: -0.9516360759735107 | gen_loss: 0.39011576771736145\n",
      "Iteration: 2496 | disc_loss: -0.8273184299468994 | gen_loss: 0.2858034372329712\n",
      "Iteration: 2497 | disc_loss: -0.5891437530517578 | gen_loss: 0.22416551411151886\n",
      "Iteration: 2498 | disc_loss: -0.4866417944431305 | gen_loss: 0.31733447313308716\n",
      "Iteration: 2499 | disc_loss: -0.9194579720497131 | gen_loss: 0.2614485025405884\n",
      "Iteration: 2500 | disc_loss: -0.8285768628120422 | gen_loss: 0.19765299558639526\n"
     ]
    },
    {
     "name": "stderr",
     "output_type": "stream",
     "text": [
      " 50%|█████     | 2504/5001 [01:40<01:44, 23.81it/s]"
     ]
    },
    {
     "name": "stdout",
     "output_type": "stream",
     "text": [
      "Iteration: 2501 | disc_loss: -1.050823450088501 | gen_loss: 0.25230544805526733\n",
      "Iteration: 2502 | disc_loss: -0.8361765146255493 | gen_loss: 0.3375803232192993\n",
      "Iteration: 2503 | disc_loss: -0.7106839418411255 | gen_loss: 0.2530849575996399\n",
      "Iteration: 2504 | disc_loss: -1.1242525577545166 | gen_loss: 0.14849089086055756\n",
      "Iteration: 2505 | disc_loss: -0.905831515789032 | gen_loss: 0.10141264647245407\n"
     ]
    },
    {
     "name": "stderr",
     "output_type": "stream",
     "text": [
      " 50%|█████     | 2510/5001 [01:40<01:46, 23.34it/s]"
     ]
    },
    {
     "name": "stdout",
     "output_type": "stream",
     "text": [
      "Iteration: 2506 | disc_loss: -0.5899519920349121 | gen_loss: 0.33233070373535156\n",
      "Iteration: 2507 | disc_loss: -0.6574857831001282 | gen_loss: 0.6615867018699646\n",
      "Iteration: 2508 | disc_loss: -0.4925996959209442 | gen_loss: 0.158572718501091\n",
      "Iteration: 2509 | disc_loss: -0.9045103192329407 | gen_loss: 0.22336822748184204\n",
      "Iteration: 2510 | disc_loss: -0.8692458271980286 | gen_loss: 0.23258432745933533\n"
     ]
    },
    {
     "name": "stderr",
     "output_type": "stream",
     "text": [
      " 50%|█████     | 2516/5001 [01:40<01:46, 23.29it/s]"
     ]
    },
    {
     "name": "stdout",
     "output_type": "stream",
     "text": [
      "Iteration: 2511 | disc_loss: -0.8413787484169006 | gen_loss: 0.33708837628364563\n",
      "Iteration: 2512 | disc_loss: -0.7046093344688416 | gen_loss: 0.10052312910556793\n",
      "Iteration: 2513 | disc_loss: -0.7589972615242004 | gen_loss: 0.11519145965576172\n",
      "Iteration: 2514 | disc_loss: -0.9600240588188171 | gen_loss: 0.10828111320734024\n",
      "Iteration: 2515 | disc_loss: -0.661357045173645 | gen_loss: 0.10807318240404129\n",
      "Iteration: 2516 | disc_loss: -0.6832921504974365 | gen_loss: 0.3665698170661926\n"
     ]
    },
    {
     "name": "stderr",
     "output_type": "stream",
     "text": [
      " 50%|█████     | 2522/5001 [01:41<01:45, 23.46it/s]"
     ]
    },
    {
     "name": "stdout",
     "output_type": "stream",
     "text": [
      "Iteration: 2517 | disc_loss: -0.7321913242340088 | gen_loss: 0.2083045095205307\n",
      "Iteration: 2518 | disc_loss: -0.3690987825393677 | gen_loss: 0.3603285551071167\n",
      "Iteration: 2519 | disc_loss: -0.6933318972587585 | gen_loss: 0.36851781606674194\n",
      "Iteration: 2520 | disc_loss: -0.613422691822052 | gen_loss: 0.245750293135643\n",
      "Iteration: 2521 | disc_loss: -1.0098472833633423 | gen_loss: 0.2912512421607971\n"
     ]
    },
    {
     "name": "stderr",
     "output_type": "stream",
     "text": [
      " 51%|█████     | 2528/5001 [01:41<01:43, 23.90it/s]"
     ]
    },
    {
     "name": "stdout",
     "output_type": "stream",
     "text": [
      "Iteration: 2522 | disc_loss: -0.8017542362213135 | gen_loss: 0.33556652069091797\n",
      "Iteration: 2523 | disc_loss: -0.7736426591873169 | gen_loss: 0.229543536901474\n",
      "Iteration: 2524 | disc_loss: -0.7661822438240051 | gen_loss: 0.14929617941379547\n",
      "Iteration: 2525 | disc_loss: -0.9438450336456299 | gen_loss: 0.3568898141384125\n",
      "Iteration: 2526 | disc_loss: -1.0102317333221436 | gen_loss: 0.2680339813232422\n",
      "Iteration: 2527 | disc_loss: -0.49061310291290283 | gen_loss: 0.1622454971075058\n"
     ]
    },
    {
     "name": "stderr",
     "output_type": "stream",
     "text": [
      " 51%|█████     | 2531/5001 [01:41<01:45, 23.48it/s]"
     ]
    },
    {
     "name": "stdout",
     "output_type": "stream",
     "text": [
      "Iteration: 2528 | disc_loss: -0.7016524076461792 | gen_loss: 0.4053276777267456\n",
      "Iteration: 2529 | disc_loss: -0.5595129728317261 | gen_loss: 0.2777444124221802\n",
      "Iteration: 2530 | disc_loss: -0.7613394260406494 | gen_loss: 0.26929062604904175\n",
      "Iteration: 2531 | disc_loss: -0.7964344024658203 | gen_loss: 0.39335501194000244\n",
      "Iteration: 2532 | disc_loss: -0.6953317523002625 | gen_loss: 0.3854607939720154\n"
     ]
    },
    {
     "name": "stderr",
     "output_type": "stream",
     "text": [
      " 51%|█████     | 2537/5001 [01:41<01:48, 22.73it/s]"
     ]
    },
    {
     "name": "stdout",
     "output_type": "stream",
     "text": [
      "Iteration: 2533 | disc_loss: -0.731223464012146 | gen_loss: 0.15497136116027832\n",
      "Iteration: 2534 | disc_loss: -0.46086201071739197 | gen_loss: 0.30849042534828186\n",
      "Iteration: 2535 | disc_loss: -0.6790366768836975 | gen_loss: 0.39349114894866943\n",
      "Iteration: 2536 | disc_loss: -0.6371804475784302 | gen_loss: 0.2940443754196167\n",
      "Iteration: 2537 | disc_loss: -0.8937941193580627 | gen_loss: 0.3577575087547302\n"
     ]
    },
    {
     "name": "stderr",
     "output_type": "stream",
     "text": [
      " 51%|█████     | 2543/5001 [01:41<01:46, 23.15it/s]"
     ]
    },
    {
     "name": "stdout",
     "output_type": "stream",
     "text": [
      "Iteration: 2538 | disc_loss: -0.6913381218910217 | gen_loss: 0.1812693029642105\n",
      "Iteration: 2539 | disc_loss: -0.9515905976295471 | gen_loss: 0.16718220710754395\n",
      "Iteration: 2540 | disc_loss: -0.8022860288619995 | gen_loss: 0.29487335681915283\n",
      "Iteration: 2541 | disc_loss: -0.6637204885482788 | gen_loss: 0.16022977232933044\n",
      "Iteration: 2542 | disc_loss: -0.49927234649658203 | gen_loss: 0.25108858942985535\n",
      "Iteration: 2543 | disc_loss: -0.8387927412986755 | gen_loss: 0.22994312644004822\n"
     ]
    },
    {
     "name": "stderr",
     "output_type": "stream",
     "text": [
      " 51%|█████     | 2549/5001 [01:42<01:49, 22.42it/s]"
     ]
    },
    {
     "name": "stdout",
     "output_type": "stream",
     "text": [
      "Iteration: 2544 | disc_loss: -0.8184791207313538 | gen_loss: 0.24400101602077484\n",
      "Iteration: 2545 | disc_loss: -0.9887555837631226 | gen_loss: 0.3484920859336853\n",
      "Iteration: 2546 | disc_loss: -0.6914858818054199 | gen_loss: 0.3082192540168762\n",
      "Iteration: 2547 | disc_loss: -0.6355660557746887 | gen_loss: 0.3263239562511444\n",
      "Iteration: 2548 | disc_loss: -0.7656286358833313 | gen_loss: 0.3165024518966675\n"
     ]
    },
    {
     "name": "stderr",
     "output_type": "stream",
     "text": [
      " 51%|█████     | 2552/5001 [01:42<01:50, 22.16it/s]"
     ]
    },
    {
     "name": "stdout",
     "output_type": "stream",
     "text": [
      "Iteration: 2549 | disc_loss: -0.8220821619033813 | gen_loss: 0.34241145849227905\n",
      "Iteration: 2550 | disc_loss: -0.7866320013999939 | gen_loss: 0.04602789878845215\n",
      "Iteration: 2551 | disc_loss: -0.6871559619903564 | gen_loss: 0.22321392595767975\n",
      "Iteration: 2552 | disc_loss: -0.6532689332962036 | gen_loss: 0.26793012022972107\n",
      "Iteration: 2553 | disc_loss: -0.8804627060890198 | gen_loss: 0.131416454911232\n"
     ]
    },
    {
     "name": "stderr",
     "output_type": "stream",
     "text": [
      " 51%|█████     | 2558/5001 [01:42<01:46, 22.95it/s]"
     ]
    },
    {
     "name": "stdout",
     "output_type": "stream",
     "text": [
      "Iteration: 2554 | disc_loss: -0.8502378463745117 | gen_loss: 0.17173060774803162\n",
      "Iteration: 2555 | disc_loss: -1.020138144493103 | gen_loss: 0.10501018166542053\n",
      "Iteration: 2556 | disc_loss: -0.48132744431495667 | gen_loss: 0.2975444197654724\n",
      "Iteration: 2557 | disc_loss: -0.568716287612915 | gen_loss: 0.34645169973373413\n",
      "Iteration: 2558 | disc_loss: -0.6471861600875854 | gen_loss: 0.39858078956604004\n"
     ]
    },
    {
     "name": "stderr",
     "output_type": "stream",
     "text": [
      " 51%|█████▏    | 2564/5001 [01:42<01:42, 23.72it/s]"
     ]
    },
    {
     "name": "stdout",
     "output_type": "stream",
     "text": [
      "Iteration: 2559 | disc_loss: -0.8663251399993896 | gen_loss: 0.06909814476966858\n",
      "Iteration: 2560 | disc_loss: -0.8247084617614746 | gen_loss: 0.24005037546157837\n",
      "Iteration: 2561 | disc_loss: -0.6395962238311768 | gen_loss: 0.3938291370868683\n",
      "Iteration: 2562 | disc_loss: -0.9304233193397522 | gen_loss: 0.2720969319343567\n",
      "Iteration: 2563 | disc_loss: -0.8004152774810791 | gen_loss: 0.35422104597091675\n",
      "Iteration: 2564 | disc_loss: -0.8643343448638916 | gen_loss: 0.5120879411697388\n"
     ]
    },
    {
     "name": "stderr",
     "output_type": "stream",
     "text": [
      " 51%|█████▏    | 2570/5001 [01:43<01:42, 23.73it/s]"
     ]
    },
    {
     "name": "stdout",
     "output_type": "stream",
     "text": [
      "Iteration: 2565 | disc_loss: -0.9193747639656067 | gen_loss: 0.2301894873380661\n",
      "Iteration: 2566 | disc_loss: -0.7484432458877563 | gen_loss: 0.15345066785812378\n",
      "Iteration: 2567 | disc_loss: -0.6908040642738342 | gen_loss: 0.30927467346191406\n",
      "Iteration: 2568 | disc_loss: -0.7859510779380798 | gen_loss: -0.0930771678686142\n",
      "Iteration: 2569 | disc_loss: -0.5375670790672302 | gen_loss: 0.2270069271326065\n"
     ]
    },
    {
     "name": "stderr",
     "output_type": "stream",
     "text": [
      " 52%|█████▏    | 2576/5001 [01:43<01:40, 24.16it/s]"
     ]
    },
    {
     "name": "stdout",
     "output_type": "stream",
     "text": [
      "Iteration: 2570 | disc_loss: -0.8316355347633362 | gen_loss: 0.2782711684703827\n",
      "Iteration: 2571 | disc_loss: -0.6490322351455688 | gen_loss: 0.1367860734462738\n",
      "Iteration: 2572 | disc_loss: -0.6847469210624695 | gen_loss: 0.30937233567237854\n",
      "Iteration: 2573 | disc_loss: -0.7687052488327026 | gen_loss: 0.4898061752319336\n",
      "Iteration: 2574 | disc_loss: -0.4131030738353729 | gen_loss: 0.2330789417028427\n",
      "Iteration: 2575 | disc_loss: -0.7771952152252197 | gen_loss: 0.24163086712360382\n"
     ]
    },
    {
     "name": "stderr",
     "output_type": "stream",
     "text": [
      " 52%|█████▏    | 2582/5001 [01:43<01:40, 24.19it/s]"
     ]
    },
    {
     "name": "stdout",
     "output_type": "stream",
     "text": [
      "Iteration: 2576 | disc_loss: -0.8473510146141052 | gen_loss: 0.22389012575149536\n",
      "Iteration: 2577 | disc_loss: -0.7733660936355591 | gen_loss: 0.12431789189577103\n",
      "Iteration: 2578 | disc_loss: -0.6144222021102905 | gen_loss: 0.24009503424167633\n",
      "Iteration: 2579 | disc_loss: -0.8435971140861511 | gen_loss: 0.15860582888126373\n",
      "Iteration: 2580 | disc_loss: -0.8372406959533691 | gen_loss: 0.051551274955272675\n",
      "Iteration: 2581 | disc_loss: -0.8628518581390381 | gen_loss: 0.25650641322135925\n"
     ]
    },
    {
     "name": "stderr",
     "output_type": "stream",
     "text": [
      " 52%|█████▏    | 2585/5001 [01:43<01:40, 24.06it/s]"
     ]
    },
    {
     "name": "stdout",
     "output_type": "stream",
     "text": [
      "Iteration: 2582 | disc_loss: -0.9629188776016235 | gen_loss: 0.3149515688419342\n",
      "Iteration: 2583 | disc_loss: -0.5852956771850586 | gen_loss: 0.28536638617515564\n",
      "Iteration: 2584 | disc_loss: -0.6183568239212036 | gen_loss: 0.13836896419525146\n",
      "Iteration: 2585 | disc_loss: -0.7933952212333679 | gen_loss: 0.2484240084886551\n",
      "Iteration: 2586 | disc_loss: -0.726549506187439 | gen_loss: 0.14226430654525757\n"
     ]
    },
    {
     "name": "stderr",
     "output_type": "stream",
     "text": [
      " 52%|█████▏    | 2591/5001 [01:43<01:42, 23.40it/s]"
     ]
    },
    {
     "name": "stdout",
     "output_type": "stream",
     "text": [
      "Iteration: 2587 | disc_loss: -0.9843500852584839 | gen_loss: 0.24944260716438293\n",
      "Iteration: 2588 | disc_loss: -0.5928188562393188 | gen_loss: 0.06489250063896179\n",
      "Iteration: 2589 | disc_loss: -0.7814946174621582 | gen_loss: 0.17979353666305542\n",
      "Iteration: 2590 | disc_loss: -0.7550199031829834 | gen_loss: 0.1562078595161438\n",
      "Iteration: 2591 | disc_loss: -0.6527990698814392 | gen_loss: 0.07732205092906952\n"
     ]
    },
    {
     "name": "stderr",
     "output_type": "stream",
     "text": [
      " 52%|█████▏    | 2597/5001 [01:44<01:42, 23.56it/s]"
     ]
    },
    {
     "name": "stdout",
     "output_type": "stream",
     "text": [
      "Iteration: 2592 | disc_loss: -0.7715446949005127 | gen_loss: 0.24212640523910522\n",
      "Iteration: 2593 | disc_loss: -0.7151222825050354 | gen_loss: 0.16366440057754517\n",
      "Iteration: 2594 | disc_loss: -0.5755116939544678 | gen_loss: 0.11155858635902405\n",
      "Iteration: 2595 | disc_loss: -0.9237573742866516 | gen_loss: 0.18900567293167114\n",
      "Iteration: 2596 | disc_loss: -0.17059534788131714 | gen_loss: 0.28494441509246826\n"
     ]
    },
    {
     "name": "stderr",
     "output_type": "stream",
     "text": [
      " 52%|█████▏    | 2600/5001 [01:44<01:45, 22.71it/s]"
     ]
    },
    {
     "name": "stdout",
     "output_type": "stream",
     "text": [
      "Iteration: 2597 | disc_loss: -0.6928661465644836 | gen_loss: 0.3123578429222107\n",
      "Iteration: 2598 | disc_loss: -0.8131809234619141 | gen_loss: 0.33058708906173706\n",
      "Iteration: 2599 | disc_loss: -0.8389244079589844 | gen_loss: 0.35513120889663696\n",
      "Iteration: 2600 | disc_loss: -0.7509723901748657 | gen_loss: 0.5974478721618652\n",
      "Iteration: 2601 | disc_loss: -0.8494740724563599 | gen_loss: 0.24611009657382965\n"
     ]
    },
    {
     "name": "stderr",
     "output_type": "stream",
     "text": [
      " 52%|█████▏    | 2606/5001 [01:44<01:47, 22.19it/s]"
     ]
    },
    {
     "name": "stdout",
     "output_type": "stream",
     "text": [
      "Iteration: 2602 | disc_loss: -0.8428107500076294 | gen_loss: 0.44146275520324707\n",
      "Iteration: 2603 | disc_loss: -0.7520933747291565 | gen_loss: 0.3026352822780609\n",
      "Iteration: 2604 | disc_loss: -0.672898530960083 | gen_loss: 0.10059846937656403\n",
      "Iteration: 2605 | disc_loss: -0.5608731508255005 | gen_loss: 0.10458996891975403\n",
      "Iteration: 2606 | disc_loss: -0.6806647181510925 | gen_loss: 0.1755332052707672\n"
     ]
    },
    {
     "name": "stderr",
     "output_type": "stream",
     "text": [
      " 52%|█████▏    | 2612/5001 [01:44<01:46, 22.51it/s]"
     ]
    },
    {
     "name": "stdout",
     "output_type": "stream",
     "text": [
      "Iteration: 2607 | disc_loss: -0.8894509077072144 | gen_loss: 0.13629813492298126\n",
      "Iteration: 2608 | disc_loss: -0.7055165767669678 | gen_loss: 0.3614300489425659\n",
      "Iteration: 2609 | disc_loss: -0.8665053248405457 | gen_loss: 0.321959912776947\n",
      "Iteration: 2610 | disc_loss: -0.7746656537055969 | gen_loss: 0.18733307719230652\n",
      "Iteration: 2611 | disc_loss: -0.7689483165740967 | gen_loss: 0.2514917254447937\n"
     ]
    },
    {
     "name": "stderr",
     "output_type": "stream",
     "text": [
      " 52%|█████▏    | 2615/5001 [01:45<01:46, 22.44it/s]"
     ]
    },
    {
     "name": "stdout",
     "output_type": "stream",
     "text": [
      "Iteration: 2612 | disc_loss: -0.9097743034362793 | gen_loss: 0.33278414607048035\n",
      "Iteration: 2613 | disc_loss: -0.8079336881637573 | gen_loss: 0.3447262644767761\n",
      "Iteration: 2614 | disc_loss: -0.9252938032150269 | gen_loss: 0.32127514481544495\n",
      "Iteration: 2615 | disc_loss: -0.6057860851287842 | gen_loss: 0.28003764152526855\n",
      "Iteration: 2616 | disc_loss: -0.8157548904418945 | gen_loss: 0.13789576292037964\n"
     ]
    },
    {
     "name": "stderr",
     "output_type": "stream",
     "text": [
      " 52%|█████▏    | 2621/5001 [01:45<01:44, 22.67it/s]"
     ]
    },
    {
     "name": "stdout",
     "output_type": "stream",
     "text": [
      "Iteration: 2617 | disc_loss: -0.567852258682251 | gen_loss: 0.28709644079208374\n",
      "Iteration: 2618 | disc_loss: -0.8586114048957825 | gen_loss: -0.004030626267194748\n",
      "Iteration: 2619 | disc_loss: -0.36712053418159485 | gen_loss: 0.43707647919654846\n",
      "Iteration: 2620 | disc_loss: -0.7132734060287476 | gen_loss: 0.35040736198425293\n",
      "Iteration: 2621 | disc_loss: -0.9435874223709106 | gen_loss: 0.6249552965164185\n"
     ]
    },
    {
     "name": "stderr",
     "output_type": "stream",
     "text": [
      " 53%|█████▎    | 2627/5001 [01:45<01:41, 23.44it/s]"
     ]
    },
    {
     "name": "stdout",
     "output_type": "stream",
     "text": [
      "Iteration: 2622 | disc_loss: -0.860396683216095 | gen_loss: 0.30149009823799133\n",
      "Iteration: 2623 | disc_loss: -0.613593339920044 | gen_loss: 0.3538650572299957\n",
      "Iteration: 2624 | disc_loss: -1.1855294704437256 | gen_loss: 0.232863187789917\n",
      "Iteration: 2625 | disc_loss: -0.7901706099510193 | gen_loss: 0.16545623540878296\n",
      "Iteration: 2626 | disc_loss: -0.8792098760604858 | gen_loss: 0.21831795573234558\n"
     ]
    },
    {
     "name": "stderr",
     "output_type": "stream",
     "text": [
      " 53%|█████▎    | 2633/5001 [01:45<01:39, 23.79it/s]"
     ]
    },
    {
     "name": "stdout",
     "output_type": "stream",
     "text": [
      "Iteration: 2627 | disc_loss: -0.6627987623214722 | gen_loss: 0.02500314638018608\n",
      "Iteration: 2628 | disc_loss: -1.3383548259735107 | gen_loss: 0.30416762828826904\n",
      "Iteration: 2629 | disc_loss: -0.5558945536613464 | gen_loss: 0.17415092885494232\n",
      "Iteration: 2630 | disc_loss: -0.9449531435966492 | gen_loss: 0.24232923984527588\n",
      "Iteration: 2631 | disc_loss: -0.7649074792861938 | gen_loss: 0.250041127204895\n",
      "Iteration: 2632 | disc_loss: -0.7472628355026245 | gen_loss: 0.4153907299041748\n"
     ]
    },
    {
     "name": "stderr",
     "output_type": "stream",
     "text": [
      " 53%|█████▎    | 2639/5001 [01:46<01:38, 24.03it/s]"
     ]
    },
    {
     "name": "stdout",
     "output_type": "stream",
     "text": [
      "Iteration: 2633 | disc_loss: -0.7551184892654419 | gen_loss: 0.6891160011291504\n",
      "Iteration: 2634 | disc_loss: -1.1254277229309082 | gen_loss: 0.3558162748813629\n",
      "Iteration: 2635 | disc_loss: -0.47288042306900024 | gen_loss: 0.49984461069107056\n",
      "Iteration: 2636 | disc_loss: -0.9566639065742493 | gen_loss: 0.06478381156921387\n",
      "Iteration: 2637 | disc_loss: -0.8265311121940613 | gen_loss: 0.21074797213077545\n",
      "Iteration: 2638 | disc_loss: -0.6696227192878723 | gen_loss: 0.8255666494369507\n"
     ]
    },
    {
     "name": "stderr",
     "output_type": "stream",
     "text": [
      " 53%|█████▎    | 2645/5001 [01:46<01:38, 23.84it/s]"
     ]
    },
    {
     "name": "stdout",
     "output_type": "stream",
     "text": [
      "Iteration: 2639 | disc_loss: -0.5577860474586487 | gen_loss: 0.4239264726638794\n",
      "Iteration: 2640 | disc_loss: -0.6548912525177002 | gen_loss: 0.44523483514785767\n",
      "Iteration: 2641 | disc_loss: -0.7873939871788025 | gen_loss: 0.14443305134773254\n",
      "Iteration: 2642 | disc_loss: -0.5513607263565063 | gen_loss: 0.296424925327301\n",
      "Iteration: 2643 | disc_loss: -0.666722297668457 | gen_loss: 0.429440438747406\n",
      "Iteration: 2644 | disc_loss: -0.8871187567710876 | gen_loss: 0.27116405963897705\n"
     ]
    },
    {
     "name": "stderr",
     "output_type": "stream",
     "text": [
      " 53%|█████▎    | 2651/5001 [01:46<01:38, 23.92it/s]"
     ]
    },
    {
     "name": "stdout",
     "output_type": "stream",
     "text": [
      "Iteration: 2645 | disc_loss: -0.6933274865150452 | gen_loss: 0.4805588126182556\n",
      "Iteration: 2646 | disc_loss: -0.6491677165031433 | gen_loss: 0.2769666910171509\n",
      "Iteration: 2647 | disc_loss: -0.5897180438041687 | gen_loss: 0.26115232706069946\n",
      "Iteration: 2648 | disc_loss: -0.6509277820587158 | gen_loss: 0.35612285137176514\n",
      "Iteration: 2649 | disc_loss: -0.7203555107116699 | gen_loss: 0.13455885648727417\n",
      "Iteration: 2650 | disc_loss: -0.5960167646408081 | gen_loss: 0.34858375787734985\n"
     ]
    },
    {
     "name": "stderr",
     "output_type": "stream",
     "text": [
      " 53%|█████▎    | 2657/5001 [01:46<01:37, 24.03it/s]"
     ]
    },
    {
     "name": "stdout",
     "output_type": "stream",
     "text": [
      "Iteration: 2651 | disc_loss: -0.8256849646568298 | gen_loss: 0.43955540657043457\n",
      "Iteration: 2652 | disc_loss: -0.8990853428840637 | gen_loss: 0.24690620601177216\n",
      "Iteration: 2653 | disc_loss: -0.9427804350852966 | gen_loss: 0.15685614943504333\n",
      "Iteration: 2654 | disc_loss: -0.708957314491272 | gen_loss: 0.3143393397331238\n",
      "Iteration: 2655 | disc_loss: -0.6147804856300354 | gen_loss: 0.4196089506149292\n",
      "Iteration: 2656 | disc_loss: -0.800636351108551 | gen_loss: 0.3455163538455963\n"
     ]
    },
    {
     "name": "stderr",
     "output_type": "stream",
     "text": [
      " 53%|█████▎    | 2660/5001 [01:46<01:37, 24.08it/s]"
     ]
    },
    {
     "name": "stdout",
     "output_type": "stream",
     "text": [
      "Iteration: 2657 | disc_loss: -0.7646113634109497 | gen_loss: 0.3203231692314148\n",
      "Iteration: 2658 | disc_loss: -0.8124204874038696 | gen_loss: 0.4377259612083435\n",
      "Iteration: 2659 | disc_loss: -0.796233057975769 | gen_loss: 0.36654379963874817\n",
      "Iteration: 2660 | disc_loss: -0.7559374570846558 | gen_loss: 0.3519129753112793\n",
      "Iteration: 2661 | disc_loss: -0.6262722015380859 | gen_loss: 0.3032723069190979\n"
     ]
    },
    {
     "name": "stderr",
     "output_type": "stream",
     "text": [
      " 53%|█████▎    | 2666/5001 [01:47<01:44, 22.26it/s]"
     ]
    },
    {
     "name": "stdout",
     "output_type": "stream",
     "text": [
      "Iteration: 2662 | disc_loss: -0.5357787609100342 | gen_loss: 0.547187089920044\n",
      "Iteration: 2663 | disc_loss: -0.8703137636184692 | gen_loss: 0.273955374956131\n",
      "Iteration: 2664 | disc_loss: -0.8134931921958923 | gen_loss: 0.42070892453193665\n",
      "Iteration: 2665 | disc_loss: -0.7257657051086426 | gen_loss: 0.4015280604362488\n",
      "Iteration: 2666 | disc_loss: -0.7160757184028625 | gen_loss: 0.2583314776420593\n"
     ]
    },
    {
     "name": "stderr",
     "output_type": "stream",
     "text": [
      " 53%|█████▎    | 2672/5001 [01:47<01:42, 22.73it/s]"
     ]
    },
    {
     "name": "stdout",
     "output_type": "stream",
     "text": [
      "Iteration: 2667 | disc_loss: -0.8026654720306396 | gen_loss: 0.07558485865592957\n",
      "Iteration: 2668 | disc_loss: -0.7980278730392456 | gen_loss: 0.11067617684602737\n",
      "Iteration: 2669 | disc_loss: -0.5061911940574646 | gen_loss: 0.22111132740974426\n",
      "Iteration: 2670 | disc_loss: -0.7096472382545471 | gen_loss: 0.11390770971775055\n",
      "Iteration: 2671 | disc_loss: -0.896882951259613 | gen_loss: 0.07558491080999374\n"
     ]
    },
    {
     "name": "stderr",
     "output_type": "stream",
     "text": [
      " 53%|█████▎    | 2675/5001 [01:47<01:46, 21.79it/s]"
     ]
    },
    {
     "name": "stdout",
     "output_type": "stream",
     "text": [
      "Iteration: 2672 | disc_loss: -1.031408429145813 | gen_loss: 0.11169687658548355\n",
      "Iteration: 2673 | disc_loss: -0.7137364149093628 | gen_loss: 0.3125602602958679\n",
      "Iteration: 2674 | disc_loss: -0.5961430072784424 | gen_loss: 0.20730718970298767\n",
      "Iteration: 2675 | disc_loss: -0.9558047652244568 | gen_loss: 0.2635341286659241\n",
      "Iteration: 2676 | disc_loss: -0.8391579985618591 | gen_loss: -0.034295327961444855\n"
     ]
    },
    {
     "name": "stderr",
     "output_type": "stream",
     "text": [
      " 54%|█████▎    | 2681/5001 [01:47<01:41, 22.79it/s]"
     ]
    },
    {
     "name": "stdout",
     "output_type": "stream",
     "text": [
      "Iteration: 2677 | disc_loss: -1.040163278579712 | gen_loss: -0.023202747106552124\n",
      "Iteration: 2678 | disc_loss: -0.8247871398925781 | gen_loss: 0.34516066312789917\n",
      "Iteration: 2679 | disc_loss: -0.676400363445282 | gen_loss: 0.16940921545028687\n",
      "Iteration: 2680 | disc_loss: -0.8134370446205139 | gen_loss: -0.04779515787959099\n",
      "Iteration: 2681 | disc_loss: -0.7414097785949707 | gen_loss: 0.4968149960041046\n"
     ]
    },
    {
     "name": "stderr",
     "output_type": "stream",
     "text": [
      " 54%|█████▎    | 2687/5001 [01:48<01:38, 23.52it/s]"
     ]
    },
    {
     "name": "stdout",
     "output_type": "stream",
     "text": [
      "Iteration: 2682 | disc_loss: -0.7049893140792847 | gen_loss: 0.12132821977138519\n",
      "Iteration: 2683 | disc_loss: -0.8592206239700317 | gen_loss: 0.16100631654262543\n",
      "Iteration: 2684 | disc_loss: -0.5183847546577454 | gen_loss: 0.06240580230951309\n",
      "Iteration: 2685 | disc_loss: -0.9258694648742676 | gen_loss: 0.1530076265335083\n",
      "Iteration: 2686 | disc_loss: 0.1321895718574524 | gen_loss: 0.1421300768852234\n",
      "Iteration: 2687 | disc_loss: -0.5160672664642334 | gen_loss: 0.2589693069458008\n"
     ]
    },
    {
     "name": "stderr",
     "output_type": "stream",
     "text": [
      " 54%|█████▍    | 2693/5001 [01:48<01:32, 25.03it/s]"
     ]
    },
    {
     "name": "stdout",
     "output_type": "stream",
     "text": [
      "Iteration: 2688 | disc_loss: -0.3986320495605469 | gen_loss: 0.3874886631965637\n",
      "Iteration: 2689 | disc_loss: -0.8227241039276123 | gen_loss: -0.0015993937849998474\n",
      "Iteration: 2690 | disc_loss: -0.7442046999931335 | gen_loss: 0.20594479143619537\n",
      "Iteration: 2691 | disc_loss: -0.7918881177902222 | gen_loss: 0.04385502263903618\n",
      "Iteration: 2692 | disc_loss: -0.519680380821228 | gen_loss: 0.07954975217580795\n",
      "Iteration: 2693 | disc_loss: -0.8796934485435486 | gen_loss: -0.05696563422679901\n"
     ]
    },
    {
     "name": "stderr",
     "output_type": "stream",
     "text": [
      " 54%|█████▍    | 2699/5001 [01:48<01:29, 25.63it/s]"
     ]
    },
    {
     "name": "stdout",
     "output_type": "stream",
     "text": [
      "Iteration: 2694 | disc_loss: -0.9661651849746704 | gen_loss: 0.1311529576778412\n",
      "Iteration: 2695 | disc_loss: -0.7426466941833496 | gen_loss: -0.02011503279209137\n",
      "Iteration: 2696 | disc_loss: -0.9827446341514587 | gen_loss: 0.02523263543844223\n",
      "Iteration: 2697 | disc_loss: -0.7971274256706238 | gen_loss: 0.3592950403690338\n",
      "Iteration: 2698 | disc_loss: -0.8257737159729004 | gen_loss: 0.3606284260749817\n",
      "Iteration: 2699 | disc_loss: -0.6755442023277283 | gen_loss: 0.37728816270828247\n"
     ]
    },
    {
     "name": "stderr",
     "output_type": "stream",
     "text": [
      " 54%|█████▍    | 2705/5001 [01:48<01:28, 25.96it/s]"
     ]
    },
    {
     "name": "stdout",
     "output_type": "stream",
     "text": [
      "Iteration: 2700 | disc_loss: -0.8535088896751404 | gen_loss: 0.15452082455158234\n",
      "Iteration: 2701 | disc_loss: -0.48083072900772095 | gen_loss: 0.3281213045120239\n",
      "Iteration: 2702 | disc_loss: -0.9916527271270752 | gen_loss: 0.21549943089485168\n",
      "Iteration: 2703 | disc_loss: -0.6774113178253174 | gen_loss: 0.2688988745212555\n",
      "Iteration: 2704 | disc_loss: -0.8111914396286011 | gen_loss: 0.22567430138587952\n",
      "Iteration: 2705 | disc_loss: -0.5078534483909607 | gen_loss: 0.32915371656417847\n"
     ]
    },
    {
     "name": "stderr",
     "output_type": "stream",
     "text": [
      " 54%|█████▍    | 2711/5001 [01:49<01:26, 26.43it/s]"
     ]
    },
    {
     "name": "stdout",
     "output_type": "stream",
     "text": [
      "Iteration: 2706 | disc_loss: -0.8260679244995117 | gen_loss: 0.3066869080066681\n",
      "Iteration: 2707 | disc_loss: -0.8337101936340332 | gen_loss: 0.30000874400138855\n",
      "Iteration: 2708 | disc_loss: -1.0348204374313354 | gen_loss: 0.3491807281970978\n",
      "Iteration: 2709 | disc_loss: -0.7906947731971741 | gen_loss: 0.3110464811325073\n",
      "Iteration: 2710 | disc_loss: -0.675591230392456 | gen_loss: 0.39818352460861206\n",
      "Iteration: 2711 | disc_loss: -0.9030436873435974 | gen_loss: 0.5278273820877075\n"
     ]
    },
    {
     "name": "stderr",
     "output_type": "stream",
     "text": [
      " 54%|█████▍    | 2717/5001 [01:49<01:26, 26.42it/s]"
     ]
    },
    {
     "name": "stdout",
     "output_type": "stream",
     "text": [
      "Iteration: 2712 | disc_loss: -0.40537863969802856 | gen_loss: 0.4726351797580719\n",
      "Iteration: 2713 | disc_loss: -0.7126889228820801 | gen_loss: 0.3017425537109375\n",
      "Iteration: 2714 | disc_loss: -0.9614938497543335 | gen_loss: 0.5277735590934753\n",
      "Iteration: 2715 | disc_loss: -0.9031243324279785 | gen_loss: 0.28468507528305054\n",
      "Iteration: 2716 | disc_loss: -0.6407344341278076 | gen_loss: 0.22465923428535461\n",
      "Iteration: 2717 | disc_loss: -0.7882041931152344 | gen_loss: 0.2587650418281555\n"
     ]
    },
    {
     "name": "stderr",
     "output_type": "stream",
     "text": [
      " 54%|█████▍    | 2723/5001 [01:49<01:25, 26.57it/s]"
     ]
    },
    {
     "name": "stdout",
     "output_type": "stream",
     "text": [
      "Iteration: 2718 | disc_loss: -0.7436290383338928 | gen_loss: 0.12574201822280884\n",
      "Iteration: 2719 | disc_loss: -0.963042140007019 | gen_loss: 0.3771888315677643\n",
      "Iteration: 2720 | disc_loss: -0.6804587244987488 | gen_loss: 0.4011462926864624\n",
      "Iteration: 2721 | disc_loss: -0.5776455402374268 | gen_loss: 0.1287400722503662\n",
      "Iteration: 2722 | disc_loss: -0.5117043256759644 | gen_loss: -0.04346238821744919\n",
      "Iteration: 2723 | disc_loss: -0.8958090543746948 | gen_loss: 0.1455083042383194\n"
     ]
    },
    {
     "name": "stderr",
     "output_type": "stream",
     "text": [
      " 55%|█████▍    | 2729/5001 [01:49<01:26, 26.37it/s]"
     ]
    },
    {
     "name": "stdout",
     "output_type": "stream",
     "text": [
      "Iteration: 2724 | disc_loss: -0.9954580068588257 | gen_loss: 0.03780265152454376\n",
      "Iteration: 2725 | disc_loss: -0.8144884705543518 | gen_loss: 0.23141919076442719\n",
      "Iteration: 2726 | disc_loss: -0.7830536365509033 | gen_loss: -0.04548247158527374\n",
      "Iteration: 2727 | disc_loss: -1.0198845863342285 | gen_loss: 0.12904062867164612\n",
      "Iteration: 2728 | disc_loss: -0.6623796224594116 | gen_loss: 0.1298595815896988\n",
      "Iteration: 2729 | disc_loss: -0.7297071218490601 | gen_loss: -0.04941684007644653\n"
     ]
    },
    {
     "name": "stderr",
     "output_type": "stream",
     "text": [
      " 55%|█████▍    | 2735/5001 [01:49<01:25, 26.38it/s]"
     ]
    },
    {
     "name": "stdout",
     "output_type": "stream",
     "text": [
      "Iteration: 2730 | disc_loss: -0.8043656945228577 | gen_loss: 0.290216326713562\n",
      "Iteration: 2731 | disc_loss: -0.9393338561058044 | gen_loss: 0.20460861921310425\n",
      "Iteration: 2732 | disc_loss: -0.3379422426223755 | gen_loss: 0.17951461672782898\n",
      "Iteration: 2733 | disc_loss: -0.6869240403175354 | gen_loss: 0.2715042531490326\n",
      "Iteration: 2734 | disc_loss: -0.9757573008537292 | gen_loss: 0.12717175483703613\n",
      "Iteration: 2735 | disc_loss: -1.0161609649658203 | gen_loss: 0.08477470278739929\n"
     ]
    },
    {
     "name": "stderr",
     "output_type": "stream",
     "text": [
      " 55%|█████▍    | 2741/5001 [01:50<01:25, 26.36it/s]"
     ]
    },
    {
     "name": "stdout",
     "output_type": "stream",
     "text": [
      "Iteration: 2736 | disc_loss: -0.800748348236084 | gen_loss: 0.4142383635044098\n",
      "Iteration: 2737 | disc_loss: -0.7641924619674683 | gen_loss: 0.35931316018104553\n",
      "Iteration: 2738 | disc_loss: -0.7594591379165649 | gen_loss: 0.33442747592926025\n",
      "Iteration: 2739 | disc_loss: -0.9279996752738953 | gen_loss: 0.2768552601337433\n",
      "Iteration: 2740 | disc_loss: -0.8788875937461853 | gen_loss: -0.15480539202690125\n",
      "Iteration: 2741 | disc_loss: -0.7429865002632141 | gen_loss: 0.3184853792190552\n"
     ]
    },
    {
     "name": "stderr",
     "output_type": "stream",
     "text": [
      " 55%|█████▍    | 2747/5001 [01:50<01:25, 26.50it/s]"
     ]
    },
    {
     "name": "stdout",
     "output_type": "stream",
     "text": [
      "Iteration: 2742 | disc_loss: -1.0293205976486206 | gen_loss: 0.1346195638179779\n",
      "Iteration: 2743 | disc_loss: -0.7491171360015869 | gen_loss: 0.35168325901031494\n",
      "Iteration: 2744 | disc_loss: -0.8536109924316406 | gen_loss: 0.1965557187795639\n",
      "Iteration: 2745 | disc_loss: -0.978553056716919 | gen_loss: 0.21790017187595367\n",
      "Iteration: 2746 | disc_loss: -0.8981899619102478 | gen_loss: 0.24360868334770203\n",
      "Iteration: 2747 | disc_loss: -0.8481235504150391 | gen_loss: 0.32168275117874146\n"
     ]
    },
    {
     "name": "stderr",
     "output_type": "stream",
     "text": [
      " 55%|█████▌    | 2753/5001 [01:50<01:29, 25.14it/s]"
     ]
    },
    {
     "name": "stdout",
     "output_type": "stream",
     "text": [
      "Iteration: 2748 | disc_loss: -0.5269027352333069 | gen_loss: 0.16794422268867493\n",
      "Iteration: 2749 | disc_loss: -0.42184147238731384 | gen_loss: 0.1189868152141571\n",
      "Iteration: 2750 | disc_loss: -0.82794588804245 | gen_loss: -0.08967939019203186\n",
      "Iteration: 2751 | disc_loss: -0.7439374327659607 | gen_loss: 0.05737950652837753\n",
      "Iteration: 2752 | disc_loss: -0.7231955528259277 | gen_loss: -0.09007584303617477\n",
      "Iteration: 2753 | disc_loss: -1.1025269031524658 | gen_loss: 0.28288528323173523\n"
     ]
    },
    {
     "name": "stderr",
     "output_type": "stream",
     "text": [
      " 55%|█████▌    | 2759/5001 [01:50<01:28, 25.21it/s]"
     ]
    },
    {
     "name": "stdout",
     "output_type": "stream",
     "text": [
      "Iteration: 2754 | disc_loss: -0.5935688614845276 | gen_loss: 0.23502030968666077\n",
      "Iteration: 2755 | disc_loss: -0.7991378903388977 | gen_loss: 0.6419922113418579\n",
      "Iteration: 2756 | disc_loss: -0.981364905834198 | gen_loss: 0.23213553428649902\n",
      "Iteration: 2757 | disc_loss: -0.8391831517219543 | gen_loss: 0.2944653034210205\n",
      "Iteration: 2758 | disc_loss: -0.7222699522972107 | gen_loss: 0.33345359563827515\n",
      "Iteration: 2759 | disc_loss: -0.668298602104187 | gen_loss: 0.04692024365067482\n"
     ]
    },
    {
     "name": "stderr",
     "output_type": "stream",
     "text": [
      " 55%|█████▌    | 2765/5001 [01:51<01:26, 25.84it/s]"
     ]
    },
    {
     "name": "stdout",
     "output_type": "stream",
     "text": [
      "Iteration: 2760 | disc_loss: -0.9539125561714172 | gen_loss: 0.09878866374492645\n",
      "Iteration: 2761 | disc_loss: -0.7362926006317139 | gen_loss: 0.15593931078910828\n",
      "Iteration: 2762 | disc_loss: -0.7726423144340515 | gen_loss: 0.09934145957231522\n",
      "Iteration: 2763 | disc_loss: -0.6910279393196106 | gen_loss: 0.11695224046707153\n",
      "Iteration: 2764 | disc_loss: -0.6707112193107605 | gen_loss: 0.17465125024318695\n",
      "Iteration: 2765 | disc_loss: -0.36169958114624023 | gen_loss: 0.31274786591529846\n"
     ]
    },
    {
     "name": "stderr",
     "output_type": "stream",
     "text": [
      " 55%|█████▌    | 2771/5001 [01:51<01:24, 26.32it/s]"
     ]
    },
    {
     "name": "stdout",
     "output_type": "stream",
     "text": [
      "Iteration: 2766 | disc_loss: -0.8450373411178589 | gen_loss: 0.20188139379024506\n",
      "Iteration: 2767 | disc_loss: -0.7556064128875732 | gen_loss: 0.21693339943885803\n",
      "Iteration: 2768 | disc_loss: -0.9021621942520142 | gen_loss: 0.3924550414085388\n",
      "Iteration: 2769 | disc_loss: -0.966861367225647 | gen_loss: 0.11036591231822968\n",
      "Iteration: 2770 | disc_loss: -0.5047198534011841 | gen_loss: 0.3115658760070801\n",
      "Iteration: 2771 | disc_loss: -0.7180045247077942 | gen_loss: 0.45940476655960083\n"
     ]
    },
    {
     "name": "stderr",
     "output_type": "stream",
     "text": [
      " 56%|█████▌    | 2777/5001 [01:51<01:24, 26.35it/s]"
     ]
    },
    {
     "name": "stdout",
     "output_type": "stream",
     "text": [
      "Iteration: 2772 | disc_loss: -0.7471120357513428 | gen_loss: 0.24222077429294586\n",
      "Iteration: 2773 | disc_loss: -0.4734015166759491 | gen_loss: 0.21370461583137512\n",
      "Iteration: 2774 | disc_loss: -0.5691906809806824 | gen_loss: 0.2754032611846924\n",
      "Iteration: 2775 | disc_loss: -0.6283240914344788 | gen_loss: 0.47373950481414795\n",
      "Iteration: 2776 | disc_loss: -0.8849690556526184 | gen_loss: 0.17431911826133728\n",
      "Iteration: 2777 | disc_loss: -0.7887152433395386 | gen_loss: 0.0004977807402610779\n"
     ]
    },
    {
     "name": "stderr",
     "output_type": "stream",
     "text": [
      " 56%|█████▌    | 2780/5001 [01:51<01:24, 26.17it/s]"
     ]
    },
    {
     "name": "stdout",
     "output_type": "stream",
     "text": [
      "Iteration: 2778 | disc_loss: -0.8475961089134216 | gen_loss: 0.29243892431259155\n",
      "Iteration: 2779 | disc_loss: -0.935147225856781 | gen_loss: 0.06539629399776459\n",
      "Iteration: 2780 | disc_loss: -0.4492480754852295 | gen_loss: 0.3652871251106262\n",
      "Iteration: 2781 | disc_loss: -1.009125828742981 | gen_loss: 0.4126264154911041\n"
     ]
    },
    {
     "name": "stderr",
     "output_type": "stream",
     "text": [
      " 56%|█████▌    | 2786/5001 [01:51<01:35, 23.17it/s]"
     ]
    },
    {
     "name": "stdout",
     "output_type": "stream",
     "text": [
      "Iteration: 2782 | disc_loss: -0.7599084973335266 | gen_loss: 0.4802144169807434\n",
      "Iteration: 2783 | disc_loss: -0.764711856842041 | gen_loss: 0.1276663839817047\n",
      "Iteration: 2784 | disc_loss: -0.7725113034248352 | gen_loss: 0.3915066123008728\n",
      "Iteration: 2785 | disc_loss: -0.9135551452636719 | gen_loss: 0.15428175032138824\n",
      "Iteration: 2786 | disc_loss: -0.6642327308654785 | gen_loss: 0.31014806032180786\n"
     ]
    },
    {
     "name": "stderr",
     "output_type": "stream",
     "text": [
      " 56%|█████▌    | 2792/5001 [01:52<01:30, 24.43it/s]"
     ]
    },
    {
     "name": "stdout",
     "output_type": "stream",
     "text": [
      "Iteration: 2787 | disc_loss: -0.6890414357185364 | gen_loss: 0.040084391832351685\n",
      "Iteration: 2788 | disc_loss: -0.5938562154769897 | gen_loss: 0.11609777808189392\n",
      "Iteration: 2789 | disc_loss: -0.8459437489509583 | gen_loss: 0.08448511362075806\n",
      "Iteration: 2790 | disc_loss: -0.9721320867538452 | gen_loss: 0.1917768269777298\n",
      "Iteration: 2791 | disc_loss: -0.48752281069755554 | gen_loss: 0.27218368649482727\n",
      "Iteration: 2792 | disc_loss: -0.5311174392700195 | gen_loss: 0.3043873906135559\n"
     ]
    },
    {
     "name": "stderr",
     "output_type": "stream",
     "text": [
      " 56%|█████▌    | 2798/5001 [01:52<01:28, 24.97it/s]"
     ]
    },
    {
     "name": "stdout",
     "output_type": "stream",
     "text": [
      "Iteration: 2793 | disc_loss: -0.933786928653717 | gen_loss: 0.40284013748168945\n",
      "Iteration: 2794 | disc_loss: -0.7957659959793091 | gen_loss: 0.32391685247421265\n",
      "Iteration: 2795 | disc_loss: -0.9265622496604919 | gen_loss: 0.2504485249519348\n",
      "Iteration: 2796 | disc_loss: -0.998293936252594 | gen_loss: 0.01623326539993286\n",
      "Iteration: 2797 | disc_loss: -0.7999443411827087 | gen_loss: 0.1403575837612152\n",
      "Iteration: 2798 | disc_loss: -0.7130045294761658 | gen_loss: 0.07935386896133423\n"
     ]
    },
    {
     "name": "stderr",
     "output_type": "stream",
     "text": [
      " 56%|█████▌    | 2804/5001 [01:52<01:28, 24.91it/s]"
     ]
    },
    {
     "name": "stdout",
     "output_type": "stream",
     "text": [
      "Iteration: 2799 | disc_loss: -0.6825068593025208 | gen_loss: 0.1866660863161087\n",
      "Iteration: 2800 | disc_loss: -0.5408716201782227 | gen_loss: 0.1749584823846817\n",
      "Iteration: 2801 | disc_loss: -1.2819494009017944 | gen_loss: 0.22145621478557587\n",
      "Iteration: 2802 | disc_loss: -0.6928533315658569 | gen_loss: 0.4439743757247925\n",
      "Iteration: 2803 | disc_loss: -0.6403621435165405 | gen_loss: 0.3984650671482086\n",
      "Iteration: 2804 | disc_loss: -0.7115232944488525 | gen_loss: 0.23825427889823914\n"
     ]
    },
    {
     "name": "stderr",
     "output_type": "stream",
     "text": [
      " 56%|█████▌    | 2810/5001 [01:52<01:25, 25.73it/s]"
     ]
    },
    {
     "name": "stdout",
     "output_type": "stream",
     "text": [
      "Iteration: 2805 | disc_loss: -0.6056815981864929 | gen_loss: 0.07349491119384766\n",
      "Iteration: 2806 | disc_loss: -0.8253125548362732 | gen_loss: 0.45664942264556885\n",
      "Iteration: 2807 | disc_loss: -0.7035284042358398 | gen_loss: 0.40544289350509644\n",
      "Iteration: 2808 | disc_loss: -1.0349822044372559 | gen_loss: 0.36303168535232544\n",
      "Iteration: 2809 | disc_loss: -0.7729059457778931 | gen_loss: 0.4089340269565582\n",
      "Iteration: 2810 | disc_loss: -0.7731295228004456 | gen_loss: 0.4350995719432831\n"
     ]
    },
    {
     "name": "stderr",
     "output_type": "stream",
     "text": [
      " 56%|█████▋    | 2816/5001 [01:53<01:24, 25.91it/s]"
     ]
    },
    {
     "name": "stdout",
     "output_type": "stream",
     "text": [
      "Iteration: 2811 | disc_loss: -1.0028667449951172 | gen_loss: 0.17938977479934692\n",
      "Iteration: 2812 | disc_loss: -0.8044973015785217 | gen_loss: 0.0681690126657486\n",
      "Iteration: 2813 | disc_loss: -0.7593884468078613 | gen_loss: 0.21604149043560028\n",
      "Iteration: 2814 | disc_loss: -0.8310022354125977 | gen_loss: 0.2443300187587738\n",
      "Iteration: 2815 | disc_loss: -0.5875251889228821 | gen_loss: 0.19769595563411713\n",
      "Iteration: 2816 | disc_loss: -0.7795149683952332 | gen_loss: 0.29725223779678345\n"
     ]
    },
    {
     "name": "stderr",
     "output_type": "stream",
     "text": [
      " 56%|█████▋    | 2822/5001 [01:53<01:24, 25.75it/s]"
     ]
    },
    {
     "name": "stdout",
     "output_type": "stream",
     "text": [
      "Iteration: 2817 | disc_loss: -0.6364632248878479 | gen_loss: 0.23101864755153656\n",
      "Iteration: 2818 | disc_loss: -0.657470166683197 | gen_loss: 0.2843206226825714\n",
      "Iteration: 2819 | disc_loss: -0.8592919707298279 | gen_loss: 0.16264258325099945\n",
      "Iteration: 2820 | disc_loss: -0.6596381068229675 | gen_loss: 0.16901415586471558\n",
      "Iteration: 2821 | disc_loss: -0.7119563221931458 | gen_loss: 0.18224138021469116\n",
      "Iteration: 2822 | disc_loss: -0.7218475341796875 | gen_loss: 0.17907674610614777\n"
     ]
    },
    {
     "name": "stderr",
     "output_type": "stream",
     "text": [
      " 57%|█████▋    | 2828/5001 [01:53<01:23, 26.05it/s]"
     ]
    },
    {
     "name": "stdout",
     "output_type": "stream",
     "text": [
      "Iteration: 2823 | disc_loss: -0.9153764247894287 | gen_loss: 0.2931268811225891\n",
      "Iteration: 2824 | disc_loss: -0.7900665998458862 | gen_loss: 0.3586775064468384\n",
      "Iteration: 2825 | disc_loss: -0.8364022374153137 | gen_loss: 0.33831578493118286\n",
      "Iteration: 2826 | disc_loss: -0.7606763243675232 | gen_loss: 0.45571383833885193\n",
      "Iteration: 2827 | disc_loss: -0.8887872099876404 | gen_loss: 0.20460988581180573\n",
      "Iteration: 2828 | disc_loss: -0.11122244596481323 | gen_loss: 0.18533557653427124\n"
     ]
    },
    {
     "name": "stderr",
     "output_type": "stream",
     "text": [
      " 57%|█████▋    | 2834/5001 [01:53<01:22, 26.18it/s]"
     ]
    },
    {
     "name": "stdout",
     "output_type": "stream",
     "text": [
      "Iteration: 2829 | disc_loss: -0.6207107305526733 | gen_loss: 0.12762019038200378\n",
      "Iteration: 2830 | disc_loss: -1.0319325923919678 | gen_loss: 0.22195245325565338\n",
      "Iteration: 2831 | disc_loss: -0.6152506470680237 | gen_loss: 0.24291899800300598\n",
      "Iteration: 2832 | disc_loss: -0.8575183153152466 | gen_loss: 0.1646735966205597\n",
      "Iteration: 2833 | disc_loss: -0.7112395763397217 | gen_loss: 0.24578092992305756\n",
      "Iteration: 2834 | disc_loss: -0.8687849640846252 | gen_loss: 0.049096718430519104\n"
     ]
    },
    {
     "name": "stderr",
     "output_type": "stream",
     "text": [
      " 57%|█████▋    | 2840/5001 [01:54<01:21, 26.52it/s]"
     ]
    },
    {
     "name": "stdout",
     "output_type": "stream",
     "text": [
      "Iteration: 2835 | disc_loss: -0.7546100616455078 | gen_loss: 0.0384737029671669\n",
      "Iteration: 2836 | disc_loss: -0.8311592936515808 | gen_loss: 0.522445023059845\n",
      "Iteration: 2837 | disc_loss: -0.6549695730209351 | gen_loss: 0.6036834716796875\n",
      "Iteration: 2838 | disc_loss: -0.5880458354949951 | gen_loss: 0.24850252270698547\n",
      "Iteration: 2839 | disc_loss: -0.8336193561553955 | gen_loss: 0.12103886157274246\n",
      "Iteration: 2840 | disc_loss: -0.6670551300048828 | gen_loss: 0.20704415440559387\n"
     ]
    },
    {
     "name": "stderr",
     "output_type": "stream",
     "text": [
      " 57%|█████▋    | 2846/5001 [01:54<01:20, 26.68it/s]"
     ]
    },
    {
     "name": "stdout",
     "output_type": "stream",
     "text": [
      "Iteration: 2841 | disc_loss: -0.8563275337219238 | gen_loss: 0.33568912744522095\n",
      "Iteration: 2842 | disc_loss: -0.6853764653205872 | gen_loss: -0.08247286081314087\n",
      "Iteration: 2843 | disc_loss: -0.538659930229187 | gen_loss: -0.1777169406414032\n",
      "Iteration: 2844 | disc_loss: -0.6794076561927795 | gen_loss: 0.20091670751571655\n",
      "Iteration: 2845 | disc_loss: -0.631081759929657 | gen_loss: 0.5401252508163452\n",
      "Iteration: 2846 | disc_loss: -0.8576671481132507 | gen_loss: 0.21338516473770142\n"
     ]
    },
    {
     "name": "stderr",
     "output_type": "stream",
     "text": [
      " 57%|█████▋    | 2852/5001 [01:54<01:20, 26.62it/s]"
     ]
    },
    {
     "name": "stdout",
     "output_type": "stream",
     "text": [
      "Iteration: 2847 | disc_loss: -0.7448729276657104 | gen_loss: 0.2708498537540436\n",
      "Iteration: 2848 | disc_loss: -0.8198851943016052 | gen_loss: 0.27000731229782104\n",
      "Iteration: 2849 | disc_loss: -0.7627383470535278 | gen_loss: 0.1081211194396019\n",
      "Iteration: 2850 | disc_loss: -0.8509492874145508 | gen_loss: 0.11233115196228027\n",
      "Iteration: 2851 | disc_loss: -0.6900995373725891 | gen_loss: 0.15905840694904327\n",
      "Iteration: 2852 | disc_loss: -0.7036240100860596 | gen_loss: -0.15078267455101013\n"
     ]
    },
    {
     "name": "stderr",
     "output_type": "stream",
     "text": [
      " 57%|█████▋    | 2858/5001 [01:54<01:20, 26.57it/s]"
     ]
    },
    {
     "name": "stdout",
     "output_type": "stream",
     "text": [
      "Iteration: 2853 | disc_loss: -0.8939794301986694 | gen_loss: 0.3860059082508087\n",
      "Iteration: 2854 | disc_loss: -0.9282329082489014 | gen_loss: 0.46951737999916077\n",
      "Iteration: 2855 | disc_loss: -0.7640332579612732 | gen_loss: 0.28806427121162415\n",
      "Iteration: 2856 | disc_loss: -0.49982500076293945 | gen_loss: 0.31068530678749084\n",
      "Iteration: 2857 | disc_loss: -0.7605170607566833 | gen_loss: 0.2862865924835205\n",
      "Iteration: 2858 | disc_loss: -0.7649076581001282 | gen_loss: 0.2936928868293762\n"
     ]
    },
    {
     "name": "stderr",
     "output_type": "stream",
     "text": [
      " 57%|█████▋    | 2864/5001 [01:54<01:21, 26.30it/s]"
     ]
    },
    {
     "name": "stdout",
     "output_type": "stream",
     "text": [
      "Iteration: 2859 | disc_loss: -0.8242207169532776 | gen_loss: 0.3499335050582886\n",
      "Iteration: 2860 | disc_loss: -0.6013491153717041 | gen_loss: 0.3102951943874359\n",
      "Iteration: 2861 | disc_loss: -0.755203902721405 | gen_loss: 0.23538681864738464\n",
      "Iteration: 2862 | disc_loss: -0.6757000684738159 | gen_loss: 0.534468412399292\n",
      "Iteration: 2863 | disc_loss: -0.3283300995826721 | gen_loss: 0.28046149015426636\n",
      "Iteration: 2864 | disc_loss: -0.8181256055831909 | gen_loss: 0.2829100787639618\n"
     ]
    },
    {
     "name": "stderr",
     "output_type": "stream",
     "text": [
      " 57%|█████▋    | 2870/5001 [01:55<01:21, 26.15it/s]"
     ]
    },
    {
     "name": "stdout",
     "output_type": "stream",
     "text": [
      "Iteration: 2865 | disc_loss: -0.6074241995811462 | gen_loss: 0.3694405257701874\n",
      "Iteration: 2866 | disc_loss: -0.44739192724227905 | gen_loss: 0.22332391142845154\n",
      "Iteration: 2867 | disc_loss: -0.7999056577682495 | gen_loss: 0.22157934308052063\n",
      "Iteration: 2868 | disc_loss: -0.782437264919281 | gen_loss: 0.21079206466674805\n",
      "Iteration: 2869 | disc_loss: -0.7381070256233215 | gen_loss: 0.1314021646976471\n",
      "Iteration: 2870 | disc_loss: -0.8614645004272461 | gen_loss: 0.07382257282733917\n"
     ]
    },
    {
     "name": "stderr",
     "output_type": "stream",
     "text": [
      " 58%|█████▊    | 2876/5001 [01:55<01:20, 26.32it/s]"
     ]
    },
    {
     "name": "stdout",
     "output_type": "stream",
     "text": [
      "Iteration: 2871 | disc_loss: -0.7556785941123962 | gen_loss: 0.602128267288208\n",
      "Iteration: 2872 | disc_loss: -0.8039414286613464 | gen_loss: 0.20539818704128265\n",
      "Iteration: 2873 | disc_loss: -0.7013632655143738 | gen_loss: 0.24948228895664215\n",
      "Iteration: 2874 | disc_loss: -0.6379156112670898 | gen_loss: -0.03971986472606659\n",
      "Iteration: 2875 | disc_loss: -0.36033326387405396 | gen_loss: 0.3447626829147339\n",
      "Iteration: 2876 | disc_loss: -0.8530761003494263 | gen_loss: 0.189705491065979\n"
     ]
    },
    {
     "name": "stderr",
     "output_type": "stream",
     "text": [
      " 58%|█████▊    | 2882/5001 [01:55<01:19, 26.56it/s]"
     ]
    },
    {
     "name": "stdout",
     "output_type": "stream",
     "text": [
      "Iteration: 2877 | disc_loss: -0.652795672416687 | gen_loss: 0.24540255963802338\n",
      "Iteration: 2878 | disc_loss: -0.6741345524787903 | gen_loss: 0.2786886692047119\n",
      "Iteration: 2879 | disc_loss: -0.6723949909210205 | gen_loss: 0.1238427460193634\n",
      "Iteration: 2880 | disc_loss: -0.7727154493331909 | gen_loss: 0.45049259066581726\n",
      "Iteration: 2881 | disc_loss: -0.6514155864715576 | gen_loss: 0.3558911979198456\n",
      "Iteration: 2882 | disc_loss: -0.7336276173591614 | gen_loss: 0.32351407408714294\n"
     ]
    },
    {
     "name": "stderr",
     "output_type": "stream",
     "text": [
      " 58%|█████▊    | 2888/5001 [01:55<01:19, 26.56it/s]"
     ]
    },
    {
     "name": "stdout",
     "output_type": "stream",
     "text": [
      "Iteration: 2883 | disc_loss: -0.9026935696601868 | gen_loss: 0.3561120629310608\n",
      "Iteration: 2884 | disc_loss: -0.6294330954551697 | gen_loss: 0.3187958598136902\n",
      "Iteration: 2885 | disc_loss: -0.8060052990913391 | gen_loss: 0.18307040631771088\n",
      "Iteration: 2886 | disc_loss: -0.6491491794586182 | gen_loss: 0.343894362449646\n",
      "Iteration: 2887 | disc_loss: -0.4827158451080322 | gen_loss: 0.36958467960357666\n",
      "Iteration: 2888 | disc_loss: -0.5835753679275513 | gen_loss: 0.21653513610363007\n"
     ]
    },
    {
     "name": "stderr",
     "output_type": "stream",
     "text": [
      " 58%|█████▊    | 2894/5001 [01:56<01:19, 26.36it/s]"
     ]
    },
    {
     "name": "stdout",
     "output_type": "stream",
     "text": [
      "Iteration: 2889 | disc_loss: -0.7454758286476135 | gen_loss: 0.23829267919063568\n",
      "Iteration: 2890 | disc_loss: -0.2766510844230652 | gen_loss: 0.2511957287788391\n",
      "Iteration: 2891 | disc_loss: -0.7159743905067444 | gen_loss: 0.03994585573673248\n",
      "Iteration: 2892 | disc_loss: -0.8341324329376221 | gen_loss: 0.317827045917511\n",
      "Iteration: 2893 | disc_loss: -0.7464628219604492 | gen_loss: 0.20948533713817596\n",
      "Iteration: 2894 | disc_loss: -0.7992361783981323 | gen_loss: 0.11799845099449158\n"
     ]
    },
    {
     "name": "stderr",
     "output_type": "stream",
     "text": [
      " 58%|█████▊    | 2900/5001 [01:56<01:19, 26.57it/s]"
     ]
    },
    {
     "name": "stdout",
     "output_type": "stream",
     "text": [
      "Iteration: 2895 | disc_loss: -0.6313936114311218 | gen_loss: 0.2651604115962982\n",
      "Iteration: 2896 | disc_loss: -0.59079509973526 | gen_loss: 0.24028852581977844\n",
      "Iteration: 2897 | disc_loss: -0.8687633275985718 | gen_loss: 0.03653637319803238\n",
      "Iteration: 2898 | disc_loss: -1.3157501220703125 | gen_loss: 0.4180259704589844\n",
      "Iteration: 2899 | disc_loss: -1.1396018266677856 | gen_loss: 0.2816109359264374\n",
      "Iteration: 2900 | disc_loss: -0.29034993052482605 | gen_loss: 0.6097632050514221\n"
     ]
    },
    {
     "name": "stderr",
     "output_type": "stream",
     "text": [
      " 58%|█████▊    | 2906/5001 [01:56<01:19, 26.40it/s]"
     ]
    },
    {
     "name": "stdout",
     "output_type": "stream",
     "text": [
      "Iteration: 2901 | disc_loss: -0.5935644507408142 | gen_loss: 0.1250205934047699\n",
      "Iteration: 2902 | disc_loss: -0.7973489761352539 | gen_loss: 0.30973368883132935\n",
      "Iteration: 2903 | disc_loss: -0.8256559371948242 | gen_loss: 0.1147352010011673\n",
      "Iteration: 2904 | disc_loss: -0.7092397809028625 | gen_loss: -0.0329229012131691\n",
      "Iteration: 2905 | disc_loss: -0.8440356850624084 | gen_loss: 0.10755942761898041\n",
      "Iteration: 2906 | disc_loss: -0.8834424614906311 | gen_loss: 0.37165331840515137\n"
     ]
    },
    {
     "name": "stderr",
     "output_type": "stream",
     "text": [
      " 58%|█████▊    | 2912/5001 [01:56<01:18, 26.50it/s]"
     ]
    },
    {
     "name": "stdout",
     "output_type": "stream",
     "text": [
      "Iteration: 2907 | disc_loss: -0.8059406280517578 | gen_loss: 0.24725469946861267\n",
      "Iteration: 2908 | disc_loss: -0.8626648783683777 | gen_loss: 0.15262043476104736\n",
      "Iteration: 2909 | disc_loss: -0.5883640646934509 | gen_loss: 0.3088568449020386\n",
      "Iteration: 2910 | disc_loss: -0.8679558634757996 | gen_loss: 0.2278313934803009\n",
      "Iteration: 2911 | disc_loss: -0.7695528864860535 | gen_loss: 0.3062034547328949\n",
      "Iteration: 2912 | disc_loss: -0.6532739996910095 | gen_loss: 0.09025150537490845\n"
     ]
    },
    {
     "name": "stderr",
     "output_type": "stream",
     "text": [
      " 58%|█████▊    | 2918/5001 [01:57<01:20, 25.74it/s]"
     ]
    },
    {
     "name": "stdout",
     "output_type": "stream",
     "text": [
      "Iteration: 2913 | disc_loss: -0.8121466040611267 | gen_loss: 0.13107211887836456\n",
      "Iteration: 2914 | disc_loss: -0.35787034034729004 | gen_loss: 0.3748326301574707\n",
      "Iteration: 2915 | disc_loss: -0.6059178113937378 | gen_loss: 0.2899678945541382\n",
      "Iteration: 2916 | disc_loss: -0.7728716135025024 | gen_loss: 0.2978675067424774\n",
      "Iteration: 2917 | disc_loss: -1.1161781549453735 | gen_loss: 0.2689597010612488\n",
      "Iteration: 2918 | disc_loss: -0.6176117062568665 | gen_loss: 0.10126747190952301\n"
     ]
    },
    {
     "name": "stderr",
     "output_type": "stream",
     "text": [
      " 58%|█████▊    | 2924/5001 [01:57<01:20, 25.86it/s]"
     ]
    },
    {
     "name": "stdout",
     "output_type": "stream",
     "text": [
      "Iteration: 2919 | disc_loss: -0.640324592590332 | gen_loss: 0.204886794090271\n",
      "Iteration: 2920 | disc_loss: -0.6141505241394043 | gen_loss: 0.4640733003616333\n",
      "Iteration: 2921 | disc_loss: -0.5246503949165344 | gen_loss: 0.2585170865058899\n",
      "Iteration: 2922 | disc_loss: -0.8881969451904297 | gen_loss: 0.046907782554626465\n",
      "Iteration: 2923 | disc_loss: -0.8885543942451477 | gen_loss: 0.31445053219795227\n",
      "Iteration: 2924 | disc_loss: -0.8284724950790405 | gen_loss: 0.2915418744087219\n"
     ]
    },
    {
     "name": "stderr",
     "output_type": "stream",
     "text": [
      " 59%|█████▊    | 2930/5001 [01:57<01:20, 25.69it/s]"
     ]
    },
    {
     "name": "stdout",
     "output_type": "stream",
     "text": [
      "Iteration: 2925 | disc_loss: -0.6646206378936768 | gen_loss: 0.21410435438156128\n",
      "Iteration: 2926 | disc_loss: -0.7630489468574524 | gen_loss: 0.14638689160346985\n",
      "Iteration: 2927 | disc_loss: -0.7628061771392822 | gen_loss: 0.46429210901260376\n",
      "Iteration: 2928 | disc_loss: -1.0619012117385864 | gen_loss: 0.24818846583366394\n",
      "Iteration: 2929 | disc_loss: -0.918891191482544 | gen_loss: -0.19997115433216095\n",
      "Iteration: 2930 | disc_loss: -0.8867096900939941 | gen_loss: 0.08910182863473892\n"
     ]
    },
    {
     "name": "stderr",
     "output_type": "stream",
     "text": [
      " 59%|█████▊    | 2936/5001 [01:57<01:19, 25.91it/s]"
     ]
    },
    {
     "name": "stdout",
     "output_type": "stream",
     "text": [
      "Iteration: 2931 | disc_loss: -0.867520809173584 | gen_loss: 0.18865424394607544\n",
      "Iteration: 2932 | disc_loss: -0.8767621517181396 | gen_loss: 0.18387562036514282\n",
      "Iteration: 2933 | disc_loss: -0.5354257822036743 | gen_loss: 0.2965160012245178\n",
      "Iteration: 2934 | disc_loss: -0.8474569320678711 | gen_loss: 0.021992705762386322\n",
      "Iteration: 2935 | disc_loss: -0.6354756355285645 | gen_loss: 0.116763636469841\n",
      "Iteration: 2936 | disc_loss: -0.6144212484359741 | gen_loss: 0.1127847358584404\n"
     ]
    },
    {
     "name": "stderr",
     "output_type": "stream",
     "text": [
      " 59%|█████▉    | 2942/5001 [01:57<01:18, 26.31it/s]"
     ]
    },
    {
     "name": "stdout",
     "output_type": "stream",
     "text": [
      "Iteration: 2937 | disc_loss: -0.8343202471733093 | gen_loss: 0.2566806674003601\n",
      "Iteration: 2938 | disc_loss: -0.7054994106292725 | gen_loss: 0.24211843311786652\n",
      "Iteration: 2939 | disc_loss: -0.6507331728935242 | gen_loss: 0.0465986430644989\n",
      "Iteration: 2940 | disc_loss: -0.14212562143802643 | gen_loss: 0.11840806901454926\n",
      "Iteration: 2941 | disc_loss: -0.7083425521850586 | gen_loss: 0.17617423832416534\n",
      "Iteration: 2942 | disc_loss: -0.6677776575088501 | gen_loss: 0.5070575475692749\n"
     ]
    },
    {
     "name": "stderr",
     "output_type": "stream",
     "text": [
      " 59%|█████▉    | 2948/5001 [01:58<01:17, 26.43it/s]"
     ]
    },
    {
     "name": "stdout",
     "output_type": "stream",
     "text": [
      "Iteration: 2943 | disc_loss: -0.8818474411964417 | gen_loss: -0.09590375423431396\n",
      "Iteration: 2944 | disc_loss: -0.6775869727134705 | gen_loss: 0.2302311211824417\n",
      "Iteration: 2945 | disc_loss: -0.4489966332912445 | gen_loss: -0.1195763647556305\n",
      "Iteration: 2946 | disc_loss: -0.6573746204376221 | gen_loss: 0.2722384035587311\n",
      "Iteration: 2947 | disc_loss: -0.8923011422157288 | gen_loss: 0.019392121583223343\n",
      "Iteration: 2948 | disc_loss: -0.6846315860748291 | gen_loss: -0.036707714200019836\n"
     ]
    },
    {
     "name": "stderr",
     "output_type": "stream",
     "text": [
      " 59%|█████▉    | 2954/5001 [01:58<01:17, 26.56it/s]"
     ]
    },
    {
     "name": "stdout",
     "output_type": "stream",
     "text": [
      "Iteration: 2949 | disc_loss: -0.8343343734741211 | gen_loss: 0.42455822229385376\n",
      "Iteration: 2950 | disc_loss: -0.3682219386100769 | gen_loss: 0.3867800831794739\n",
      "Iteration: 2951 | disc_loss: -0.8229507803916931 | gen_loss: -0.0690544843673706\n",
      "Iteration: 2952 | disc_loss: -0.8102957010269165 | gen_loss: 0.10152942687273026\n",
      "Iteration: 2953 | disc_loss: -0.8296996355056763 | gen_loss: -0.0637039989233017\n",
      "Iteration: 2954 | disc_loss: -1.074507474899292 | gen_loss: -0.045504093170166016\n"
     ]
    },
    {
     "name": "stderr",
     "output_type": "stream",
     "text": [
      " 59%|█████▉    | 2960/5001 [01:58<01:16, 26.66it/s]"
     ]
    },
    {
     "name": "stdout",
     "output_type": "stream",
     "text": [
      "Iteration: 2955 | disc_loss: -0.4431222975254059 | gen_loss: 0.3519878387451172\n",
      "Iteration: 2956 | disc_loss: -0.8514196872711182 | gen_loss: 0.19191524386405945\n",
      "Iteration: 2957 | disc_loss: -0.6234099864959717 | gen_loss: 0.30613380670547485\n",
      "Iteration: 2958 | disc_loss: -0.6518800258636475 | gen_loss: -0.0038702040910720825\n",
      "Iteration: 2959 | disc_loss: -0.5699868202209473 | gen_loss: 0.23572899401187897\n",
      "Iteration: 2960 | disc_loss: -0.6985874176025391 | gen_loss: 0.2515347898006439\n"
     ]
    },
    {
     "name": "stderr",
     "output_type": "stream",
     "text": [
      " 59%|█████▉    | 2966/5001 [01:58<01:15, 27.06it/s]"
     ]
    },
    {
     "name": "stdout",
     "output_type": "stream",
     "text": [
      "Iteration: 2961 | disc_loss: -0.774824857711792 | gen_loss: 0.28820371627807617\n",
      "Iteration: 2962 | disc_loss: -0.7244572639465332 | gen_loss: 0.03763626888394356\n",
      "Iteration: 2963 | disc_loss: -0.25648510456085205 | gen_loss: 0.09383542835712433\n",
      "Iteration: 2964 | disc_loss: -0.8726882934570312 | gen_loss: 0.12657128274440765\n",
      "Iteration: 2965 | disc_loss: -0.533555269241333 | gen_loss: 0.28709837794303894\n",
      "Iteration: 2966 | disc_loss: -0.8750136494636536 | gen_loss: 0.12091754376888275\n"
     ]
    },
    {
     "name": "stderr",
     "output_type": "stream",
     "text": [
      " 59%|█████▉    | 2972/5001 [01:59<01:15, 27.01it/s]"
     ]
    },
    {
     "name": "stdout",
     "output_type": "stream",
     "text": [
      "Iteration: 2967 | disc_loss: -0.5534576773643494 | gen_loss: 0.11407160758972168\n",
      "Iteration: 2968 | disc_loss: -0.7415944933891296 | gen_loss: 0.179589182138443\n",
      "Iteration: 2969 | disc_loss: -0.9025766849517822 | gen_loss: 0.14602985978126526\n",
      "Iteration: 2970 | disc_loss: -0.9084744453430176 | gen_loss: -0.01930341124534607\n",
      "Iteration: 2971 | disc_loss: -0.9273903965950012 | gen_loss: -0.06421814858913422\n",
      "Iteration: 2972 | disc_loss: -0.9157614707946777 | gen_loss: 0.13228586316108704\n"
     ]
    },
    {
     "name": "stderr",
     "output_type": "stream",
     "text": [
      " 60%|█████▉    | 2978/5001 [01:59<01:15, 26.88it/s]"
     ]
    },
    {
     "name": "stdout",
     "output_type": "stream",
     "text": [
      "Iteration: 2973 | disc_loss: -0.7623326778411865 | gen_loss: -0.004338771104812622\n",
      "Iteration: 2974 | disc_loss: -0.8690253496170044 | gen_loss: 0.09072114527225494\n",
      "Iteration: 2975 | disc_loss: -0.7769110798835754 | gen_loss: 0.1906939446926117\n",
      "Iteration: 2976 | disc_loss: -0.7081322073936462 | gen_loss: 0.1358805000782013\n",
      "Iteration: 2977 | disc_loss: -0.6584643125534058 | gen_loss: 0.1646927446126938\n",
      "Iteration: 2978 | disc_loss: -0.5824174284934998 | gen_loss: 0.3077654540538788\n"
     ]
    },
    {
     "name": "stderr",
     "output_type": "stream",
     "text": [
      " 60%|█████▉    | 2984/5001 [01:59<01:18, 25.69it/s]"
     ]
    },
    {
     "name": "stdout",
     "output_type": "stream",
     "text": [
      "Iteration: 2979 | disc_loss: -0.9445487856864929 | gen_loss: 0.26346975564956665\n",
      "Iteration: 2980 | disc_loss: -0.8140285611152649 | gen_loss: 0.17913489043712616\n",
      "Iteration: 2981 | disc_loss: -0.8992211222648621 | gen_loss: -0.07655136287212372\n",
      "Iteration: 2982 | disc_loss: -0.8517020344734192 | gen_loss: 0.16464480757713318\n",
      "Iteration: 2983 | disc_loss: -0.7772281169891357 | gen_loss: 0.1040961742401123\n"
     ]
    },
    {
     "name": "stderr",
     "output_type": "stream",
     "text": [
      " 60%|█████▉    | 2990/5001 [01:59<01:17, 25.98it/s]"
     ]
    },
    {
     "name": "stdout",
     "output_type": "stream",
     "text": [
      "Iteration: 2984 | disc_loss: -0.6027950048446655 | gen_loss: 0.5504673719406128\n",
      "Iteration: 2985 | disc_loss: -0.9354882836341858 | gen_loss: 0.2268640100955963\n",
      "Iteration: 2986 | disc_loss: -0.7691717147827148 | gen_loss: 0.20171043276786804\n",
      "Iteration: 2987 | disc_loss: -0.7493401169776917 | gen_loss: 0.16975492238998413\n",
      "Iteration: 2988 | disc_loss: -0.6873165369033813 | gen_loss: 0.0939166396856308\n",
      "Iteration: 2989 | disc_loss: -0.643580973148346 | gen_loss: 0.11747176200151443\n"
     ]
    },
    {
     "name": "stderr",
     "output_type": "stream",
     "text": [
      " 60%|█████▉    | 2996/5001 [02:00<01:17, 25.80it/s]"
     ]
    },
    {
     "name": "stdout",
     "output_type": "stream",
     "text": [
      "Iteration: 2990 | disc_loss: -0.6044001579284668 | gen_loss: 0.14903613924980164\n",
      "Iteration: 2991 | disc_loss: -0.6543288230895996 | gen_loss: 0.15533818304538727\n",
      "Iteration: 2992 | disc_loss: -0.6156036853790283 | gen_loss: 0.33832892775535583\n",
      "Iteration: 2993 | disc_loss: -0.5445559620857239 | gen_loss: 0.3642728328704834\n",
      "Iteration: 2994 | disc_loss: -0.8072723746299744 | gen_loss: 0.3605882525444031\n",
      "Iteration: 2995 | disc_loss: -0.6878176927566528 | gen_loss: 0.0684225857257843\n"
     ]
    },
    {
     "name": "stderr",
     "output_type": "stream",
     "text": [
      " 60%|█████▉    | 2999/5001 [02:00<01:17, 25.87it/s]"
     ]
    },
    {
     "name": "stdout",
     "output_type": "stream",
     "text": [
      "Iteration: 2996 | disc_loss: -0.8528467416763306 | gen_loss: 0.16633377969264984\n",
      "Iteration: 2997 | disc_loss: -1.004412055015564 | gen_loss: 0.05397975444793701\n",
      "Iteration: 2998 | disc_loss: -0.7610911726951599 | gen_loss: 0.13028296828269958\n",
      "Iteration: 2999 | disc_loss: -0.8595107793807983 | gen_loss: 0.28829336166381836\n",
      "Iteration: 3000 | disc_loss: -0.6702792048454285 | gen_loss: 0.23159164190292358\n"
     ]
    },
    {
     "name": "stderr",
     "output_type": "stream",
     "text": [
      " 60%|██████    | 3005/5001 [02:00<01:22, 24.17it/s]"
     ]
    },
    {
     "name": "stdout",
     "output_type": "stream",
     "text": [
      "Iteration: 3001 | disc_loss: -0.7426331639289856 | gen_loss: 0.2887302041053772\n",
      "Iteration: 3002 | disc_loss: -0.7427968382835388 | gen_loss: 0.28290972113609314\n",
      "Iteration: 3003 | disc_loss: -0.6404651999473572 | gen_loss: 0.37527090311050415\n",
      "Iteration: 3004 | disc_loss: -0.820143461227417 | gen_loss: 0.20644758641719818\n",
      "Iteration: 3005 | disc_loss: -0.781117856502533 | gen_loss: 0.10330067574977875\n"
     ]
    },
    {
     "name": "stderr",
     "output_type": "stream",
     "text": [
      " 60%|██████    | 3011/5001 [02:00<01:19, 25.10it/s]"
     ]
    },
    {
     "name": "stdout",
     "output_type": "stream",
     "text": [
      "Iteration: 3006 | disc_loss: -0.5883633494377136 | gen_loss: 0.3861337900161743\n",
      "Iteration: 3007 | disc_loss: -0.8135597705841064 | gen_loss: 0.10412807762622833\n",
      "Iteration: 3008 | disc_loss: -0.780088484287262 | gen_loss: 0.11113180220127106\n",
      "Iteration: 3009 | disc_loss: -0.7683306932449341 | gen_loss: 0.2626306712627411\n",
      "Iteration: 3010 | disc_loss: -0.7797821760177612 | gen_loss: 0.16417357325553894\n",
      "Iteration: 3011 | disc_loss: -0.8974930047988892 | gen_loss: 0.17895081639289856\n"
     ]
    },
    {
     "name": "stderr",
     "output_type": "stream",
     "text": [
      " 60%|██████    | 3017/5001 [02:00<01:16, 26.05it/s]"
     ]
    },
    {
     "name": "stdout",
     "output_type": "stream",
     "text": [
      "Iteration: 3012 | disc_loss: -0.8796113729476929 | gen_loss: 0.3744881749153137\n",
      "Iteration: 3013 | disc_loss: -0.8106693625450134 | gen_loss: 0.11826188117265701\n",
      "Iteration: 3014 | disc_loss: -0.6767998337745667 | gen_loss: 0.3545922636985779\n",
      "Iteration: 3015 | disc_loss: -0.571499764919281 | gen_loss: 0.31927913427352905\n",
      "Iteration: 3016 | disc_loss: -0.8477131724357605 | gen_loss: 0.1658119261264801\n",
      "Iteration: 3017 | disc_loss: -0.6769935488700867 | gen_loss: 0.1266096830368042\n"
     ]
    },
    {
     "name": "stderr",
     "output_type": "stream",
     "text": [
      " 60%|██████    | 3023/5001 [02:01<01:15, 26.36it/s]"
     ]
    },
    {
     "name": "stdout",
     "output_type": "stream",
     "text": [
      "Iteration: 3018 | disc_loss: -0.9974446892738342 | gen_loss: 0.24432455003261566\n",
      "Iteration: 3019 | disc_loss: -0.9113850593566895 | gen_loss: 0.46178001165390015\n",
      "Iteration: 3020 | disc_loss: -0.5438883900642395 | gen_loss: 0.3240821361541748\n",
      "Iteration: 3021 | disc_loss: -0.8022204041481018 | gen_loss: 0.12920871376991272\n",
      "Iteration: 3022 | disc_loss: -0.6944263577461243 | gen_loss: 0.1402757316827774\n",
      "Iteration: 3023 | disc_loss: -0.5373137593269348 | gen_loss: 0.14766541123390198\n"
     ]
    },
    {
     "name": "stderr",
     "output_type": "stream",
     "text": [
      " 61%|██████    | 3029/5001 [02:01<01:18, 25.00it/s]"
     ]
    },
    {
     "name": "stdout",
     "output_type": "stream",
     "text": [
      "Iteration: 3024 | disc_loss: -0.48872247338294983 | gen_loss: 0.27408790588378906\n",
      "Iteration: 3025 | disc_loss: -0.5803037881851196 | gen_loss: 0.20746690034866333\n",
      "Iteration: 3026 | disc_loss: -0.7700691223144531 | gen_loss: 0.22257070243358612\n",
      "Iteration: 3027 | disc_loss: -0.7348006963729858 | gen_loss: 0.2467973828315735\n",
      "Iteration: 3028 | disc_loss: -0.6855831146240234 | gen_loss: 0.21096394956111908\n"
     ]
    },
    {
     "name": "stderr",
     "output_type": "stream",
     "text": [
      " 61%|██████    | 3035/5001 [02:01<01:17, 25.35it/s]"
     ]
    },
    {
     "name": "stdout",
     "output_type": "stream",
     "text": [
      "Iteration: 3029 | disc_loss: -0.7425141930580139 | gen_loss: 0.22297446429729462\n",
      "Iteration: 3030 | disc_loss: -0.7451727986335754 | gen_loss: 0.26111340522766113\n",
      "Iteration: 3031 | disc_loss: -0.737449586391449 | gen_loss: 0.04722849279642105\n",
      "Iteration: 3032 | disc_loss: -0.48889294266700745 | gen_loss: 0.13908866047859192\n",
      "Iteration: 3033 | disc_loss: -1.2763012647628784 | gen_loss: 0.8977821469306946\n",
      "Iteration: 3034 | disc_loss: -1.1157578229904175 | gen_loss: 0.3391842544078827\n"
     ]
    },
    {
     "name": "stderr",
     "output_type": "stream",
     "text": [
      " 61%|██████    | 3041/5001 [02:01<01:16, 25.51it/s]"
     ]
    },
    {
     "name": "stdout",
     "output_type": "stream",
     "text": [
      "Iteration: 3035 | disc_loss: -1.4162969589233398 | gen_loss: 0.34185004234313965\n",
      "Iteration: 3036 | disc_loss: -0.5125805139541626 | gen_loss: 1.151038408279419\n",
      "Iteration: 3037 | disc_loss: -0.8277658224105835 | gen_loss: 0.5256051421165466\n",
      "Iteration: 3038 | disc_loss: -0.6706099510192871 | gen_loss: 0.22415213286876678\n",
      "Iteration: 3039 | disc_loss: -0.9092010259628296 | gen_loss: 0.18011441826820374\n",
      "Iteration: 3040 | disc_loss: -0.6687878966331482 | gen_loss: 0.17878897488117218\n"
     ]
    },
    {
     "name": "stderr",
     "output_type": "stream",
     "text": [
      " 61%|██████    | 3047/5001 [02:02<01:15, 25.96it/s]"
     ]
    },
    {
     "name": "stdout",
     "output_type": "stream",
     "text": [
      "Iteration: 3041 | disc_loss: -0.6970516443252563 | gen_loss: 0.27663758397102356\n",
      "Iteration: 3042 | disc_loss: -0.7339390516281128 | gen_loss: 0.17701078951358795\n",
      "Iteration: 3043 | disc_loss: -0.6468524932861328 | gen_loss: 0.17667274177074432\n",
      "Iteration: 3044 | disc_loss: -0.49181461334228516 | gen_loss: 0.30156004428863525\n",
      "Iteration: 3045 | disc_loss: -0.6680347323417664 | gen_loss: 0.25445517897605896\n",
      "Iteration: 3046 | disc_loss: -0.6374651789665222 | gen_loss: 0.13591548800468445\n"
     ]
    },
    {
     "name": "stderr",
     "output_type": "stream",
     "text": [
      " 61%|██████    | 3053/5001 [02:02<01:14, 26.30it/s]"
     ]
    },
    {
     "name": "stdout",
     "output_type": "stream",
     "text": [
      "Iteration: 3047 | disc_loss: -0.7413395643234253 | gen_loss: 0.3084087371826172\n",
      "Iteration: 3048 | disc_loss: -0.8212199807167053 | gen_loss: 0.2527010440826416\n",
      "Iteration: 3049 | disc_loss: -0.9638091921806335 | gen_loss: 0.1553480625152588\n",
      "Iteration: 3050 | disc_loss: -0.7457035779953003 | gen_loss: 0.2705644369125366\n",
      "Iteration: 3051 | disc_loss: -0.9728058576583862 | gen_loss: 0.20819349586963654\n",
      "Iteration: 3052 | disc_loss: -0.9155727624893188 | gen_loss: 0.2789849638938904\n"
     ]
    },
    {
     "name": "stderr",
     "output_type": "stream",
     "text": [
      " 61%|██████    | 3059/5001 [02:02<01:12, 26.62it/s]"
     ]
    },
    {
     "name": "stdout",
     "output_type": "stream",
     "text": [
      "Iteration: 3053 | disc_loss: -0.8506098389625549 | gen_loss: -0.1404765099287033\n",
      "Iteration: 3054 | disc_loss: -0.8328213095664978 | gen_loss: 0.3088270425796509\n",
      "Iteration: 3055 | disc_loss: -0.6408820152282715 | gen_loss: 0.3953431248664856\n",
      "Iteration: 3056 | disc_loss: -0.7352566719055176 | gen_loss: 0.5051973462104797\n",
      "Iteration: 3057 | disc_loss: -0.47326430678367615 | gen_loss: 0.5733513236045837\n",
      "Iteration: 3058 | disc_loss: -0.5869898796081543 | gen_loss: 0.07920461148023605\n"
     ]
    },
    {
     "name": "stderr",
     "output_type": "stream",
     "text": [
      " 61%|██████▏   | 3065/5001 [02:02<01:12, 26.55it/s]"
     ]
    },
    {
     "name": "stdout",
     "output_type": "stream",
     "text": [
      "Iteration: 3059 | disc_loss: -0.6485926508903503 | gen_loss: 0.24339516460895538\n",
      "Iteration: 3060 | disc_loss: -0.6458594799041748 | gen_loss: 0.07041038572788239\n",
      "Iteration: 3061 | disc_loss: -0.840309739112854 | gen_loss: 0.26470810174942017\n",
      "Iteration: 3062 | disc_loss: -0.9584184288978577 | gen_loss: 0.057933807373046875\n",
      "Iteration: 3063 | disc_loss: -0.7122802734375 | gen_loss: -0.1151324138045311\n",
      "Iteration: 3064 | disc_loss: -0.705985426902771 | gen_loss: -0.03627195209264755\n"
     ]
    },
    {
     "name": "stderr",
     "output_type": "stream",
     "text": [
      " 61%|██████▏   | 3068/5001 [02:02<01:14, 25.84it/s]"
     ]
    },
    {
     "name": "stdout",
     "output_type": "stream",
     "text": [
      "Iteration: 3065 | disc_loss: -0.5272900462150574 | gen_loss: 0.2648467421531677\n",
      "Iteration: 3066 | disc_loss: -0.7143564224243164 | gen_loss: -0.09024203568696976\n",
      "Iteration: 3067 | disc_loss: -0.59621262550354 | gen_loss: 0.012507818639278412\n",
      "Iteration: 3068 | disc_loss: -0.8391258120536804 | gen_loss: 0.09460638463497162\n",
      "Iteration: 3069 | disc_loss: -0.6713937520980835 | gen_loss: 0.0050527602434158325\n"
     ]
    },
    {
     "name": "stderr",
     "output_type": "stream",
     "text": [
      " 61%|██████▏   | 3074/5001 [02:03<01:16, 25.14it/s]"
     ]
    },
    {
     "name": "stdout",
     "output_type": "stream",
     "text": [
      "Iteration: 3070 | disc_loss: -0.7241621017456055 | gen_loss: 0.0967596098780632\n",
      "Iteration: 3071 | disc_loss: -0.772964596748352 | gen_loss: 0.15471695363521576\n",
      "Iteration: 3072 | disc_loss: -0.7495952844619751 | gen_loss: 0.07805585861206055\n",
      "Iteration: 3073 | disc_loss: -0.6480211019515991 | gen_loss: 0.07439791411161423\n",
      "Iteration: 3074 | disc_loss: -0.5422848463058472 | gen_loss: 0.13485226035118103\n",
      "Iteration: 3075 | disc_loss: -0.7356334328651428 | gen_loss: -0.0712178498506546\n"
     ]
    },
    {
     "name": "stderr",
     "output_type": "stream",
     "text": [
      " 62%|██████▏   | 3080/5001 [02:03<01:14, 25.76it/s]"
     ]
    },
    {
     "name": "stdout",
     "output_type": "stream",
     "text": [
      "Iteration: 3076 | disc_loss: -0.5106136202812195 | gen_loss: 0.16798332333564758\n",
      "Iteration: 3077 | disc_loss: -0.6461716890335083 | gen_loss: 0.3510323166847229\n",
      "Iteration: 3078 | disc_loss: -0.843734860420227 | gen_loss: 0.14454145729541779\n",
      "Iteration: 3079 | disc_loss: -0.7708814144134521 | gen_loss: 0.2755885720252991\n",
      "Iteration: 3080 | disc_loss: -0.7782554626464844 | gen_loss: 0.04267130047082901\n",
      "Iteration: 3081 | disc_loss: -0.889062762260437 | gen_loss: -0.12070359289646149\n"
     ]
    },
    {
     "name": "stderr",
     "output_type": "stream",
     "text": [
      " 62%|██████▏   | 3086/5001 [02:03<01:13, 26.18it/s]"
     ]
    },
    {
     "name": "stdout",
     "output_type": "stream",
     "text": [
      "Iteration: 3082 | disc_loss: -0.6171550750732422 | gen_loss: 0.01484612375497818\n",
      "Iteration: 3083 | disc_loss: -0.7548842430114746 | gen_loss: 0.30970871448516846\n",
      "Iteration: 3084 | disc_loss: -0.6845479607582092 | gen_loss: 0.21387585997581482\n",
      "Iteration: 3085 | disc_loss: -0.6994961500167847 | gen_loss: 0.2194012552499771\n",
      "Iteration: 3086 | disc_loss: -0.6319798231124878 | gen_loss: 0.23982666432857513\n",
      "Iteration: 3087 | disc_loss: -0.6637592315673828 | gen_loss: 0.4310397207736969\n"
     ]
    },
    {
     "name": "stderr",
     "output_type": "stream",
     "text": [
      " 62%|██████▏   | 3092/5001 [02:03<01:13, 26.13it/s]"
     ]
    },
    {
     "name": "stdout",
     "output_type": "stream",
     "text": [
      "Iteration: 3088 | disc_loss: -0.7041981220245361 | gen_loss: 0.02182246744632721\n",
      "Iteration: 3089 | disc_loss: -0.7441054582595825 | gen_loss: 0.19096781313419342\n",
      "Iteration: 3090 | disc_loss: -0.3743216097354889 | gen_loss: -0.011444922536611557\n",
      "Iteration: 3091 | disc_loss: -0.537862241268158 | gen_loss: 0.3407710790634155\n",
      "Iteration: 3092 | disc_loss: -0.719372034072876 | gen_loss: 0.21481642127037048\n",
      "Iteration: 3093 | disc_loss: -0.7877534031867981 | gen_loss: 0.3816189169883728\n"
     ]
    },
    {
     "name": "stderr",
     "output_type": "stream",
     "text": [
      " 62%|██████▏   | 3098/5001 [02:03<01:14, 25.60it/s]"
     ]
    },
    {
     "name": "stdout",
     "output_type": "stream",
     "text": [
      "Iteration: 3094 | disc_loss: -0.7638715505599976 | gen_loss: 0.14809420704841614\n",
      "Iteration: 3095 | disc_loss: -0.7146494388580322 | gen_loss: 0.22197343409061432\n",
      "Iteration: 3096 | disc_loss: -0.6421092748641968 | gen_loss: 0.15137751400470734\n",
      "Iteration: 3097 | disc_loss: -0.7611274719238281 | gen_loss: 0.3484942317008972\n",
      "Iteration: 3098 | disc_loss: -0.7686745524406433 | gen_loss: 0.403592586517334\n"
     ]
    },
    {
     "name": "stderr",
     "output_type": "stream",
     "text": [
      " 62%|██████▏   | 3104/5001 [02:04<01:13, 25.67it/s]"
     ]
    },
    {
     "name": "stdout",
     "output_type": "stream",
     "text": [
      "Iteration: 3099 | disc_loss: -0.4276016354560852 | gen_loss: 0.05004504323005676\n",
      "Iteration: 3100 | disc_loss: -0.7908807992935181 | gen_loss: -0.047527432441711426\n",
      "Iteration: 3101 | disc_loss: -0.7963813543319702 | gen_loss: 0.2792992889881134\n",
      "Iteration: 3102 | disc_loss: -0.7112968564033508 | gen_loss: 0.1937992125749588\n",
      "Iteration: 3103 | disc_loss: -0.4714013934135437 | gen_loss: 0.4509577453136444\n",
      "Iteration: 3104 | disc_loss: -0.9292913675308228 | gen_loss: 0.28132063150405884\n"
     ]
    },
    {
     "name": "stderr",
     "output_type": "stream",
     "text": [
      " 62%|██████▏   | 3110/5001 [02:04<01:13, 25.64it/s]"
     ]
    },
    {
     "name": "stdout",
     "output_type": "stream",
     "text": [
      "Iteration: 3105 | disc_loss: -0.5990233421325684 | gen_loss: 0.3844570517539978\n",
      "Iteration: 3106 | disc_loss: -1.6966056823730469 | gen_loss: 0.15930454432964325\n",
      "Iteration: 3107 | disc_loss: 0.17373162508010864 | gen_loss: 0.2651441693305969\n",
      "Iteration: 3108 | disc_loss: -0.6069144010543823 | gen_loss: 0.2028847336769104\n",
      "Iteration: 3109 | disc_loss: -0.7276241183280945 | gen_loss: 0.26983511447906494\n",
      "Iteration: 3110 | disc_loss: -0.6642267107963562 | gen_loss: 0.059081412851810455\n"
     ]
    },
    {
     "name": "stderr",
     "output_type": "stream",
     "text": [
      " 62%|██████▏   | 3116/5001 [02:04<01:11, 26.39it/s]"
     ]
    },
    {
     "name": "stdout",
     "output_type": "stream",
     "text": [
      "Iteration: 3111 | disc_loss: -0.6459140181541443 | gen_loss: 0.18136155605316162\n",
      "Iteration: 3112 | disc_loss: -0.5919104814529419 | gen_loss: 0.2044811248779297\n",
      "Iteration: 3113 | disc_loss: -0.6691300868988037 | gen_loss: 0.16070640087127686\n",
      "Iteration: 3114 | disc_loss: -0.848450779914856 | gen_loss: -0.018009863793849945\n",
      "Iteration: 3115 | disc_loss: -0.5860406756401062 | gen_loss: 0.20645567774772644\n",
      "Iteration: 3116 | disc_loss: -0.6615058183670044 | gen_loss: 0.13237632811069489\n"
     ]
    },
    {
     "name": "stderr",
     "output_type": "stream",
     "text": [
      " 62%|██████▏   | 3122/5001 [02:04<01:10, 26.68it/s]"
     ]
    },
    {
     "name": "stdout",
     "output_type": "stream",
     "text": [
      "Iteration: 3117 | disc_loss: -0.6796811819076538 | gen_loss: 0.16338679194450378\n",
      "Iteration: 3118 | disc_loss: -0.9286423921585083 | gen_loss: 0.099541075527668\n",
      "Iteration: 3119 | disc_loss: -0.798326849937439 | gen_loss: 0.0778493583202362\n",
      "Iteration: 3120 | disc_loss: -0.8768977522850037 | gen_loss: 0.14717628061771393\n",
      "Iteration: 3121 | disc_loss: -0.6637189388275146 | gen_loss: 0.2679644525051117\n",
      "Iteration: 3122 | disc_loss: -0.11174184083938599 | gen_loss: 0.24951329827308655\n"
     ]
    },
    {
     "name": "stderr",
     "output_type": "stream",
     "text": [
      " 63%|██████▎   | 3128/5001 [02:05<01:10, 26.49it/s]"
     ]
    },
    {
     "name": "stdout",
     "output_type": "stream",
     "text": [
      "Iteration: 3123 | disc_loss: -0.5488661527633667 | gen_loss: 0.2751193642616272\n",
      "Iteration: 3124 | disc_loss: -0.8965017795562744 | gen_loss: 0.14254111051559448\n",
      "Iteration: 3125 | disc_loss: -0.7185561656951904 | gen_loss: 0.3817509710788727\n",
      "Iteration: 3126 | disc_loss: -0.49300703406333923 | gen_loss: 0.36928409337997437\n",
      "Iteration: 3127 | disc_loss: -0.7079871892929077 | gen_loss: 0.08075284957885742\n",
      "Iteration: 3128 | disc_loss: -0.5771216154098511 | gen_loss: 0.25175392627716064\n"
     ]
    },
    {
     "name": "stderr",
     "output_type": "stream",
     "text": [
      " 63%|██████▎   | 3134/5001 [02:05<01:11, 26.27it/s]"
     ]
    },
    {
     "name": "stdout",
     "output_type": "stream",
     "text": [
      "Iteration: 3129 | disc_loss: -0.5474838614463806 | gen_loss: 0.2143881618976593\n",
      "Iteration: 3130 | disc_loss: -0.7170612215995789 | gen_loss: 0.24638420343399048\n",
      "Iteration: 3131 | disc_loss: -0.9068982601165771 | gen_loss: -0.029573917388916016\n",
      "Iteration: 3132 | disc_loss: -0.6128334403038025 | gen_loss: 0.1452961415052414\n",
      "Iteration: 3133 | disc_loss: -0.928573727607727 | gen_loss: 0.15277498960494995\n",
      "Iteration: 3134 | disc_loss: -0.7475769519805908 | gen_loss: 0.3114657402038574\n"
     ]
    },
    {
     "name": "stderr",
     "output_type": "stream",
     "text": [
      " 63%|██████▎   | 3140/5001 [02:05<01:12, 25.84it/s]"
     ]
    },
    {
     "name": "stdout",
     "output_type": "stream",
     "text": [
      "Iteration: 3135 | disc_loss: -0.6817116141319275 | gen_loss: 0.2031313180923462\n",
      "Iteration: 3136 | disc_loss: -0.5588253736495972 | gen_loss: 0.08623261004686356\n",
      "Iteration: 3137 | disc_loss: -0.6828031539916992 | gen_loss: 0.19887548685073853\n",
      "Iteration: 3138 | disc_loss: -0.7735254168510437 | gen_loss: 0.18347641825675964\n",
      "Iteration: 3139 | disc_loss: -1.0310237407684326 | gen_loss: 0.31669628620147705\n",
      "Iteration: 3140 | disc_loss: -0.511390745639801 | gen_loss: 0.39265716075897217\n"
     ]
    },
    {
     "name": "stderr",
     "output_type": "stream",
     "text": [
      " 63%|██████▎   | 3146/5001 [02:05<01:10, 26.19it/s]"
     ]
    },
    {
     "name": "stdout",
     "output_type": "stream",
     "text": [
      "Iteration: 3141 | disc_loss: -0.8561169505119324 | gen_loss: 0.5765998363494873\n",
      "Iteration: 3142 | disc_loss: -0.5326865315437317 | gen_loss: 0.1197935938835144\n",
      "Iteration: 3143 | disc_loss: -0.6603285670280457 | gen_loss: 0.24455365538597107\n",
      "Iteration: 3144 | disc_loss: -0.69399493932724 | gen_loss: 0.17031526565551758\n",
      "Iteration: 3145 | disc_loss: -1.0172653198242188 | gen_loss: 0.2724461555480957\n",
      "Iteration: 3146 | disc_loss: -0.6498900651931763 | gen_loss: 0.3689195215702057\n"
     ]
    },
    {
     "name": "stderr",
     "output_type": "stream",
     "text": [
      " 63%|██████▎   | 3152/5001 [02:06<01:09, 26.53it/s]"
     ]
    },
    {
     "name": "stdout",
     "output_type": "stream",
     "text": [
      "Iteration: 3147 | disc_loss: -0.9537212252616882 | gen_loss: 0.046662427484989166\n",
      "Iteration: 3148 | disc_loss: -1.0201159715652466 | gen_loss: 0.8326246738433838\n",
      "Iteration: 3149 | disc_loss: -0.5501534938812256 | gen_loss: 0.07352828979492188\n",
      "Iteration: 3150 | disc_loss: -0.8478807806968689 | gen_loss: 0.35772961378097534\n",
      "Iteration: 3151 | disc_loss: -0.7149648666381836 | gen_loss: 0.26647698879241943\n",
      "Iteration: 3152 | disc_loss: -0.8750684857368469 | gen_loss: 0.34725433588027954\n"
     ]
    },
    {
     "name": "stderr",
     "output_type": "stream",
     "text": [
      " 63%|██████▎   | 3158/5001 [02:06<01:09, 26.59it/s]"
     ]
    },
    {
     "name": "stdout",
     "output_type": "stream",
     "text": [
      "Iteration: 3153 | disc_loss: -0.7169303894042969 | gen_loss: -0.05489617586135864\n",
      "Iteration: 3154 | disc_loss: -0.6857385039329529 | gen_loss: 0.033629659563302994\n",
      "Iteration: 3155 | disc_loss: -0.7081983089447021 | gen_loss: 0.5464824438095093\n",
      "Iteration: 3156 | disc_loss: -0.7409496903419495 | gen_loss: 0.45150113105773926\n",
      "Iteration: 3157 | disc_loss: -0.7733498215675354 | gen_loss: 0.33714210987091064\n",
      "Iteration: 3158 | disc_loss: -1.0401611328125 | gen_loss: 0.448377788066864\n"
     ]
    },
    {
     "name": "stderr",
     "output_type": "stream",
     "text": [
      " 63%|██████▎   | 3164/5001 [02:06<01:09, 26.51it/s]"
     ]
    },
    {
     "name": "stdout",
     "output_type": "stream",
     "text": [
      "Iteration: 3159 | disc_loss: -0.4016166627407074 | gen_loss: 0.5170530080795288\n",
      "Iteration: 3160 | disc_loss: -0.8617013096809387 | gen_loss: 0.47294604778289795\n",
      "Iteration: 3161 | disc_loss: -0.898421585559845 | gen_loss: 0.3031230866909027\n",
      "Iteration: 3162 | disc_loss: -0.8246049284934998 | gen_loss: 0.337397962808609\n",
      "Iteration: 3163 | disc_loss: -0.5325052738189697 | gen_loss: 0.35609662532806396\n",
      "Iteration: 3164 | disc_loss: -0.7538052201271057 | gen_loss: 0.4073580503463745\n"
     ]
    },
    {
     "name": "stderr",
     "output_type": "stream",
     "text": [
      " 63%|██████▎   | 3170/5001 [02:06<01:09, 26.52it/s]"
     ]
    },
    {
     "name": "stdout",
     "output_type": "stream",
     "text": [
      "Iteration: 3165 | disc_loss: -0.9803664684295654 | gen_loss: 0.4000670313835144\n",
      "Iteration: 3166 | disc_loss: -0.7955814003944397 | gen_loss: 0.21397700905799866\n",
      "Iteration: 3167 | disc_loss: -0.3229807913303375 | gen_loss: 0.4738106429576874\n",
      "Iteration: 3168 | disc_loss: -0.7799647450447083 | gen_loss: 0.32668936252593994\n",
      "Iteration: 3169 | disc_loss: -0.7407134771347046 | gen_loss: 0.2851502299308777\n",
      "Iteration: 3170 | disc_loss: -0.5066697001457214 | gen_loss: 0.08763478696346283\n"
     ]
    },
    {
     "name": "stderr",
     "output_type": "stream",
     "text": [
      " 64%|██████▎   | 3176/5001 [02:06<01:08, 26.73it/s]"
     ]
    },
    {
     "name": "stdout",
     "output_type": "stream",
     "text": [
      "Iteration: 3171 | disc_loss: -0.9171099662780762 | gen_loss: 0.46846911311149597\n",
      "Iteration: 3172 | disc_loss: -1.0058624744415283 | gen_loss: 0.32772186398506165\n",
      "Iteration: 3173 | disc_loss: -0.5346218347549438 | gen_loss: 0.3323766589164734\n",
      "Iteration: 3174 | disc_loss: -0.7215690612792969 | gen_loss: 0.2796654999256134\n",
      "Iteration: 3175 | disc_loss: -0.7444507479667664 | gen_loss: 0.36343109607696533\n",
      "Iteration: 3176 | disc_loss: -0.9112135171890259 | gen_loss: 0.2442445605993271\n"
     ]
    },
    {
     "name": "stderr",
     "output_type": "stream",
     "text": [
      " 64%|██████▎   | 3182/5001 [02:07<01:08, 26.56it/s]"
     ]
    },
    {
     "name": "stdout",
     "output_type": "stream",
     "text": [
      "Iteration: 3177 | disc_loss: -0.33660566806793213 | gen_loss: 0.0743393748998642\n",
      "Iteration: 3178 | disc_loss: -0.8234442472457886 | gen_loss: 0.2660922110080719\n",
      "Iteration: 3179 | disc_loss: -0.8135653734207153 | gen_loss: -0.3406384587287903\n",
      "Iteration: 3180 | disc_loss: -0.885948657989502 | gen_loss: -0.15112324059009552\n",
      "Iteration: 3181 | disc_loss: -0.5840392112731934 | gen_loss: 0.04589928686618805\n",
      "Iteration: 3182 | disc_loss: -0.6278279423713684 | gen_loss: -0.049006879329681396\n"
     ]
    },
    {
     "name": "stderr",
     "output_type": "stream",
     "text": [
      " 64%|██████▎   | 3188/5001 [02:07<01:07, 26.75it/s]"
     ]
    },
    {
     "name": "stdout",
     "output_type": "stream",
     "text": [
      "Iteration: 3183 | disc_loss: -1.03608238697052 | gen_loss: -0.12694677710533142\n",
      "Iteration: 3184 | disc_loss: -1.1403660774230957 | gen_loss: 0.23941749334335327\n",
      "Iteration: 3185 | disc_loss: -0.7616243362426758 | gen_loss: 0.2735360264778137\n",
      "Iteration: 3186 | disc_loss: -0.7506000995635986 | gen_loss: 0.14914226531982422\n",
      "Iteration: 3187 | disc_loss: -0.9053522348403931 | gen_loss: 0.13387569785118103\n",
      "Iteration: 3188 | disc_loss: -0.9089204668998718 | gen_loss: -0.03142283111810684\n"
     ]
    },
    {
     "name": "stderr",
     "output_type": "stream",
     "text": [
      " 64%|██████▍   | 3194/5001 [02:07<01:08, 26.48it/s]"
     ]
    },
    {
     "name": "stdout",
     "output_type": "stream",
     "text": [
      "Iteration: 3189 | disc_loss: -0.984405517578125 | gen_loss: 0.1255371868610382\n",
      "Iteration: 3190 | disc_loss: -0.4146241545677185 | gen_loss: 0.2099747508764267\n",
      "Iteration: 3191 | disc_loss: -0.7653102278709412 | gen_loss: -0.04782402515411377\n",
      "Iteration: 3192 | disc_loss: -0.8097317218780518 | gen_loss: -0.03705403208732605\n",
      "Iteration: 3193 | disc_loss: -0.29756197333335876 | gen_loss: 0.176821768283844\n",
      "Iteration: 3194 | disc_loss: -0.8421348333358765 | gen_loss: 0.40267321467399597\n"
     ]
    },
    {
     "name": "stderr",
     "output_type": "stream",
     "text": [
      " 64%|██████▍   | 3200/5001 [02:07<01:07, 26.85it/s]"
     ]
    },
    {
     "name": "stdout",
     "output_type": "stream",
     "text": [
      "Iteration: 3195 | disc_loss: -0.5705907344818115 | gen_loss: 0.07047496736049652\n",
      "Iteration: 3196 | disc_loss: -0.9495095014572144 | gen_loss: 0.272628515958786\n",
      "Iteration: 3197 | disc_loss: -0.9523172378540039 | gen_loss: -0.30229076743125916\n",
      "Iteration: 3198 | disc_loss: -0.3671804964542389 | gen_loss: 0.01808156445622444\n",
      "Iteration: 3199 | disc_loss: -0.9312560558319092 | gen_loss: 0.0594976507127285\n",
      "Iteration: 3200 | disc_loss: -0.9382615089416504 | gen_loss: 0.2162521779537201\n"
     ]
    },
    {
     "name": "stderr",
     "output_type": "stream",
     "text": [
      " 64%|██████▍   | 3206/5001 [02:08<01:09, 25.65it/s]"
     ]
    },
    {
     "name": "stdout",
     "output_type": "stream",
     "text": [
      "Iteration: 3201 | disc_loss: -0.5916038751602173 | gen_loss: 0.15296867489814758\n",
      "Iteration: 3202 | disc_loss: -1.0395879745483398 | gen_loss: 0.0690128430724144\n",
      "Iteration: 3203 | disc_loss: -0.9326854944229126 | gen_loss: 0.12496112287044525\n",
      "Iteration: 3204 | disc_loss: -0.7288627624511719 | gen_loss: 0.17078694701194763\n",
      "Iteration: 3205 | disc_loss: -0.7635176181793213 | gen_loss: 0.35508376359939575\n",
      "Iteration: 3206 | disc_loss: -0.5666356682777405 | gen_loss: 0.2907765805721283\n"
     ]
    },
    {
     "name": "stderr",
     "output_type": "stream",
     "text": [
      " 64%|██████▍   | 3212/5001 [02:08<01:08, 26.18it/s]"
     ]
    },
    {
     "name": "stdout",
     "output_type": "stream",
     "text": [
      "Iteration: 3207 | disc_loss: -0.6567979454994202 | gen_loss: 0.4958968758583069\n",
      "Iteration: 3208 | disc_loss: -0.8626049160957336 | gen_loss: 0.5470144152641296\n",
      "Iteration: 3209 | disc_loss: -0.3038862645626068 | gen_loss: 1.09483003616333\n",
      "Iteration: 3210 | disc_loss: -0.36129865050315857 | gen_loss: 0.2757580280303955\n",
      "Iteration: 3211 | disc_loss: -0.5746884346008301 | gen_loss: 0.1270245760679245\n",
      "Iteration: 3212 | disc_loss: -0.534709632396698 | gen_loss: 0.057562679052352905\n"
     ]
    },
    {
     "name": "stderr",
     "output_type": "stream",
     "text": [
      " 64%|██████▍   | 3218/5001 [02:08<01:06, 26.82it/s]"
     ]
    },
    {
     "name": "stdout",
     "output_type": "stream",
     "text": [
      "Iteration: 3213 | disc_loss: -0.6241961717605591 | gen_loss: 0.17039400339126587\n",
      "Iteration: 3214 | disc_loss: -0.5996859669685364 | gen_loss: 0.2616736590862274\n",
      "Iteration: 3215 | disc_loss: -0.7138566970825195 | gen_loss: 0.23591342568397522\n",
      "Iteration: 3216 | disc_loss: -0.39241838455200195 | gen_loss: 0.6803970336914062\n",
      "Iteration: 3217 | disc_loss: -0.8137157559394836 | gen_loss: 0.10051694512367249\n",
      "Iteration: 3218 | disc_loss: -0.8756240606307983 | gen_loss: 0.05032576248049736\n"
     ]
    },
    {
     "name": "stderr",
     "output_type": "stream",
     "text": [
      " 64%|██████▍   | 3224/5001 [02:08<01:05, 27.11it/s]"
     ]
    },
    {
     "name": "stdout",
     "output_type": "stream",
     "text": [
      "Iteration: 3219 | disc_loss: -0.6594521403312683 | gen_loss: -0.3169296979904175\n",
      "Iteration: 3220 | disc_loss: -0.7179561853408813 | gen_loss: -0.06630150973796844\n",
      "Iteration: 3221 | disc_loss: -0.903971791267395 | gen_loss: 0.14761808514595032\n",
      "Iteration: 3222 | disc_loss: -0.8410592675209045 | gen_loss: -0.01053689420223236\n",
      "Iteration: 3223 | disc_loss: -0.6754199266433716 | gen_loss: 0.3275854289531708\n",
      "Iteration: 3224 | disc_loss: -0.6425907611846924 | gen_loss: 0.1121097132563591\n"
     ]
    },
    {
     "name": "stderr",
     "output_type": "stream",
     "text": [
      " 65%|██████▍   | 3230/5001 [02:08<01:05, 26.84it/s]"
     ]
    },
    {
     "name": "stdout",
     "output_type": "stream",
     "text": [
      "Iteration: 3225 | disc_loss: -0.6025742292404175 | gen_loss: 0.16556766629219055\n",
      "Iteration: 3226 | disc_loss: -0.7472007870674133 | gen_loss: 0.19301621615886688\n",
      "Iteration: 3227 | disc_loss: -0.8100966811180115 | gen_loss: 0.20987963676452637\n",
      "Iteration: 3228 | disc_loss: -0.7569870352745056 | gen_loss: 0.07283063232898712\n",
      "Iteration: 3229 | disc_loss: -0.9846194982528687 | gen_loss: 0.12305404245853424\n",
      "Iteration: 3230 | disc_loss: -0.7614980936050415 | gen_loss: 0.14059244096279144\n"
     ]
    },
    {
     "name": "stderr",
     "output_type": "stream",
     "text": [
      " 65%|██████▍   | 3236/5001 [02:09<01:05, 26.82it/s]"
     ]
    },
    {
     "name": "stdout",
     "output_type": "stream",
     "text": [
      "Iteration: 3231 | disc_loss: -0.8914027810096741 | gen_loss: 0.39892446994781494\n",
      "Iteration: 3232 | disc_loss: -0.871339738368988 | gen_loss: 0.25203344225883484\n",
      "Iteration: 3233 | disc_loss: -0.7931360006332397 | gen_loss: -0.012273266911506653\n",
      "Iteration: 3234 | disc_loss: -0.7936303615570068 | gen_loss: 0.09276033192873001\n",
      "Iteration: 3235 | disc_loss: -0.5586445927619934 | gen_loss: 0.15398775041103363\n",
      "Iteration: 3236 | disc_loss: -0.6863398551940918 | gen_loss: 0.1342228353023529\n"
     ]
    },
    {
     "name": "stderr",
     "output_type": "stream",
     "text": [
      " 65%|██████▍   | 3242/5001 [02:09<01:07, 26.25it/s]"
     ]
    },
    {
     "name": "stdout",
     "output_type": "stream",
     "text": [
      "Iteration: 3237 | disc_loss: -0.7497315406799316 | gen_loss: 0.057546548545360565\n",
      "Iteration: 3238 | disc_loss: -0.8277323842048645 | gen_loss: 0.254395455121994\n",
      "Iteration: 3239 | disc_loss: -0.15136384963989258 | gen_loss: 0.17683517932891846\n",
      "Iteration: 3240 | disc_loss: -0.6461011171340942 | gen_loss: 0.02359369397163391\n",
      "Iteration: 3241 | disc_loss: -0.521426260471344 | gen_loss: 0.2620856463909149\n",
      "Iteration: 3242 | disc_loss: -0.6783018708229065 | gen_loss: 0.03813578188419342\n"
     ]
    },
    {
     "name": "stderr",
     "output_type": "stream",
     "text": [
      " 65%|██████▍   | 3248/5001 [02:09<01:06, 26.19it/s]"
     ]
    },
    {
     "name": "stdout",
     "output_type": "stream",
     "text": [
      "Iteration: 3243 | disc_loss: -0.5409295558929443 | gen_loss: 0.0942901074886322\n",
      "Iteration: 3244 | disc_loss: -0.44933921098709106 | gen_loss: 0.10831604897975922\n",
      "Iteration: 3245 | disc_loss: -0.7698072791099548 | gen_loss: 0.31814026832580566\n",
      "Iteration: 3246 | disc_loss: -0.4952358603477478 | gen_loss: 0.1776449829339981\n",
      "Iteration: 3247 | disc_loss: -0.8018500208854675 | gen_loss: 0.3141576945781708\n",
      "Iteration: 3248 | disc_loss: -0.5841231942176819 | gen_loss: 0.025923095643520355\n"
     ]
    },
    {
     "name": "stderr",
     "output_type": "stream",
     "text": [
      " 65%|██████▌   | 3254/5001 [02:09<01:06, 26.40it/s]"
     ]
    },
    {
     "name": "stdout",
     "output_type": "stream",
     "text": [
      "Iteration: 3249 | disc_loss: -0.5241182446479797 | gen_loss: 0.29350897669792175\n",
      "Iteration: 3250 | disc_loss: -0.5635062456130981 | gen_loss: 0.17519807815551758\n",
      "Iteration: 3251 | disc_loss: -0.6650239825248718 | gen_loss: 0.23187978565692902\n",
      "Iteration: 3252 | disc_loss: -0.9404898285865784 | gen_loss: 0.053819552063941956\n",
      "Iteration: 3253 | disc_loss: -0.5204890966415405 | gen_loss: 0.24378615617752075\n",
      "Iteration: 3254 | disc_loss: -0.6394636034965515 | gen_loss: 0.36697646975517273\n"
     ]
    },
    {
     "name": "stderr",
     "output_type": "stream",
     "text": [
      " 65%|██████▌   | 3260/5001 [02:10<01:05, 26.47it/s]"
     ]
    },
    {
     "name": "stdout",
     "output_type": "stream",
     "text": [
      "Iteration: 3255 | disc_loss: -0.8231728076934814 | gen_loss: 0.17424172163009644\n",
      "Iteration: 3256 | disc_loss: -1.1889287233352661 | gen_loss: 0.21811723709106445\n",
      "Iteration: 3257 | disc_loss: -0.5969729423522949 | gen_loss: 0.22355346381664276\n",
      "Iteration: 3258 | disc_loss: -0.78138267993927 | gen_loss: -0.06947126239538193\n",
      "Iteration: 3259 | disc_loss: -0.7056569457054138 | gen_loss: 0.37789416313171387\n",
      "Iteration: 3260 | disc_loss: -0.7117605209350586 | gen_loss: 0.3576708734035492\n"
     ]
    },
    {
     "name": "stderr",
     "output_type": "stream",
     "text": [
      " 65%|██████▌   | 3266/5001 [02:10<01:06, 26.20it/s]"
     ]
    },
    {
     "name": "stdout",
     "output_type": "stream",
     "text": [
      "Iteration: 3261 | disc_loss: -0.5073834657669067 | gen_loss: 0.039007771760225296\n",
      "Iteration: 3262 | disc_loss: -1.0214024782180786 | gen_loss: 0.24732956290245056\n",
      "Iteration: 3263 | disc_loss: -0.8789132237434387 | gen_loss: 0.020795132964849472\n",
      "Iteration: 3264 | disc_loss: -0.5730299353599548 | gen_loss: 0.14084239304065704\n",
      "Iteration: 3265 | disc_loss: -0.7300717830657959 | gen_loss: 0.06239542365074158\n",
      "Iteration: 3266 | disc_loss: -0.6834684610366821 | gen_loss: -0.09504571557044983\n"
     ]
    },
    {
     "name": "stderr",
     "output_type": "stream",
     "text": [
      " 65%|██████▌   | 3272/5001 [02:10<01:06, 26.09it/s]"
     ]
    },
    {
     "name": "stdout",
     "output_type": "stream",
     "text": [
      "Iteration: 3267 | disc_loss: -0.6955905556678772 | gen_loss: 0.10065274685621262\n",
      "Iteration: 3268 | disc_loss: -0.6154192686080933 | gen_loss: -3.225170075893402e-05\n",
      "Iteration: 3269 | disc_loss: -0.9611774682998657 | gen_loss: 0.10326651483774185\n",
      "Iteration: 3270 | disc_loss: -0.736275851726532 | gen_loss: 0.2308567762374878\n",
      "Iteration: 3271 | disc_loss: -0.8604759573936462 | gen_loss: 0.0282369926571846\n",
      "Iteration: 3272 | disc_loss: -0.6857093572616577 | gen_loss: 0.0481085330247879\n"
     ]
    },
    {
     "name": "stderr",
     "output_type": "stream",
     "text": [
      " 66%|██████▌   | 3278/5001 [02:10<01:06, 25.90it/s]"
     ]
    },
    {
     "name": "stdout",
     "output_type": "stream",
     "text": [
      "Iteration: 3273 | disc_loss: -0.950765073299408 | gen_loss: 1.4533535242080688\n",
      "Iteration: 3274 | disc_loss: -0.39833950996398926 | gen_loss: 0.120658278465271\n",
      "Iteration: 3275 | disc_loss: -0.686271607875824 | gen_loss: 0.2501441240310669\n",
      "Iteration: 3276 | disc_loss: -0.7406290173530579 | gen_loss: 0.14516359567642212\n",
      "Iteration: 3277 | disc_loss: -0.36018288135528564 | gen_loss: 0.13981279730796814\n",
      "Iteration: 3278 | disc_loss: -0.7694314122200012 | gen_loss: 0.5952093601226807\n"
     ]
    },
    {
     "name": "stderr",
     "output_type": "stream",
     "text": [
      " 66%|██████▌   | 3284/5001 [02:11<01:05, 26.22it/s]"
     ]
    },
    {
     "name": "stdout",
     "output_type": "stream",
     "text": [
      "Iteration: 3279 | disc_loss: -0.6780156493186951 | gen_loss: 0.10612156242132187\n",
      "Iteration: 3280 | disc_loss: -1.2747317552566528 | gen_loss: 0.35005617141723633\n",
      "Iteration: 3281 | disc_loss: -0.5386491417884827 | gen_loss: 0.3694252073764801\n",
      "Iteration: 3282 | disc_loss: -0.7705354690551758 | gen_loss: 0.2659669518470764\n",
      "Iteration: 3283 | disc_loss: -0.7971735000610352 | gen_loss: 0.36384302377700806\n",
      "Iteration: 3284 | disc_loss: -0.7655602097511292 | gen_loss: 0.5665197372436523\n"
     ]
    },
    {
     "name": "stderr",
     "output_type": "stream",
     "text": [
      " 66%|██████▌   | 3290/5001 [02:11<01:06, 25.91it/s]"
     ]
    },
    {
     "name": "stdout",
     "output_type": "stream",
     "text": [
      "Iteration: 3285 | disc_loss: -0.6747980713844299 | gen_loss: 0.11224540323019028\n",
      "Iteration: 3286 | disc_loss: -0.8308162093162537 | gen_loss: -0.010678686201572418\n",
      "Iteration: 3287 | disc_loss: -0.7904929518699646 | gen_loss: 0.2583932876586914\n",
      "Iteration: 3288 | disc_loss: -0.869878351688385 | gen_loss: 0.1971975862979889\n",
      "Iteration: 3289 | disc_loss: -0.7181251645088196 | gen_loss: 0.25945717096328735\n",
      "Iteration: 3290 | disc_loss: -0.7744767069816589 | gen_loss: 0.31714510917663574\n"
     ]
    },
    {
     "name": "stderr",
     "output_type": "stream",
     "text": [
      " 66%|██████▌   | 3296/5001 [02:11<01:05, 26.01it/s]"
     ]
    },
    {
     "name": "stdout",
     "output_type": "stream",
     "text": [
      "Iteration: 3291 | disc_loss: -0.7170895338058472 | gen_loss: 0.12182679027318954\n",
      "Iteration: 3292 | disc_loss: -0.6064922213554382 | gen_loss: 0.11227724701166153\n",
      "Iteration: 3293 | disc_loss: -0.6658086180686951 | gen_loss: 0.05025838315486908\n",
      "Iteration: 3294 | disc_loss: -0.6660123467445374 | gen_loss: 0.6499074697494507\n",
      "Iteration: 3295 | disc_loss: -0.7241208553314209 | gen_loss: 0.1782713234424591\n"
     ]
    },
    {
     "name": "stderr",
     "output_type": "stream",
     "text": [
      " 66%|██████▌   | 3299/5001 [02:11<01:11, 23.75it/s]"
     ]
    },
    {
     "name": "stdout",
     "output_type": "stream",
     "text": [
      "Iteration: 3296 | disc_loss: -0.8222717642784119 | gen_loss: 0.18701490759849548\n",
      "Iteration: 3297 | disc_loss: -0.7679610252380371 | gen_loss: 0.0826091468334198\n",
      "Iteration: 3298 | disc_loss: -0.5875595808029175 | gen_loss: 0.08728709816932678\n",
      "Iteration: 3299 | disc_loss: -0.5176954865455627 | gen_loss: 0.12646976113319397\n",
      "Iteration: 3300 | disc_loss: -0.7695258259773254 | gen_loss: 0.06461353600025177\n"
     ]
    },
    {
     "name": "stderr",
     "output_type": "stream",
     "text": [
      " 66%|██████▌   | 3305/5001 [02:11<01:11, 23.66it/s]"
     ]
    },
    {
     "name": "stdout",
     "output_type": "stream",
     "text": [
      "Iteration: 3301 | disc_loss: -0.4994126558303833 | gen_loss: 0.13924437761306763\n",
      "Iteration: 3302 | disc_loss: -0.9115116596221924 | gen_loss: 0.24308769404888153\n",
      "Iteration: 3303 | disc_loss: -0.6529183983802795 | gen_loss: -0.008384086191654205\n",
      "Iteration: 3304 | disc_loss: -1.042143702507019 | gen_loss: 0.20957410335540771\n",
      "Iteration: 3305 | disc_loss: -0.9753681421279907 | gen_loss: 0.16904526948928833\n"
     ]
    },
    {
     "name": "stderr",
     "output_type": "stream",
     "text": [
      " 66%|██████▌   | 3311/5001 [02:12<01:10, 23.92it/s]"
     ]
    },
    {
     "name": "stdout",
     "output_type": "stream",
     "text": [
      "Iteration: 3306 | disc_loss: -0.8031015396118164 | gen_loss: 0.13639011979103088\n",
      "Iteration: 3307 | disc_loss: -0.4856540262699127 | gen_loss: 0.13794149458408356\n",
      "Iteration: 3308 | disc_loss: -0.33583492040634155 | gen_loss: 0.15687087178230286\n",
      "Iteration: 3309 | disc_loss: -0.8301403522491455 | gen_loss: 0.2068786919116974\n",
      "Iteration: 3310 | disc_loss: -0.7499779462814331 | gen_loss: 0.20841601490974426\n",
      "Iteration: 3311 | disc_loss: -0.7568836212158203 | gen_loss: 0.034416407346725464\n"
     ]
    },
    {
     "name": "stderr",
     "output_type": "stream",
     "text": [
      " 66%|██████▋   | 3317/5001 [02:12<01:06, 25.33it/s]"
     ]
    },
    {
     "name": "stdout",
     "output_type": "stream",
     "text": [
      "Iteration: 3312 | disc_loss: -0.8313665986061096 | gen_loss: 0.13948312401771545\n",
      "Iteration: 3313 | disc_loss: -0.8209919333457947 | gen_loss: 0.17854607105255127\n",
      "Iteration: 3314 | disc_loss: -0.961057186126709 | gen_loss: 0.17817530035972595\n",
      "Iteration: 3315 | disc_loss: -0.7316771745681763 | gen_loss: 0.10025263577699661\n",
      "Iteration: 3316 | disc_loss: -0.9365978837013245 | gen_loss: 0.1457759588956833\n",
      "Iteration: 3317 | disc_loss: -0.856469988822937 | gen_loss: 0.08473911136388779\n"
     ]
    },
    {
     "name": "stderr",
     "output_type": "stream",
     "text": [
      " 66%|██████▋   | 3323/5001 [02:12<01:04, 26.02it/s]"
     ]
    },
    {
     "name": "stdout",
     "output_type": "stream",
     "text": [
      "Iteration: 3318 | disc_loss: -0.9617669582366943 | gen_loss: 0.11956363916397095\n",
      "Iteration: 3319 | disc_loss: -0.7472999691963196 | gen_loss: 0.2166944146156311\n",
      "Iteration: 3320 | disc_loss: -0.7315301895141602 | gen_loss: 0.0424751415848732\n",
      "Iteration: 3321 | disc_loss: -0.7491511106491089 | gen_loss: 0.2612214982509613\n",
      "Iteration: 3322 | disc_loss: -0.8819898366928101 | gen_loss: 0.08813591301441193\n",
      "Iteration: 3323 | disc_loss: -0.7042016386985779 | gen_loss: 0.18237555027008057\n"
     ]
    },
    {
     "name": "stderr",
     "output_type": "stream",
     "text": [
      " 67%|██████▋   | 3329/5001 [02:12<01:02, 26.56it/s]"
     ]
    },
    {
     "name": "stdout",
     "output_type": "stream",
     "text": [
      "Iteration: 3324 | disc_loss: -0.8183802962303162 | gen_loss: -0.4252018332481384\n",
      "Iteration: 3325 | disc_loss: -0.9086986780166626 | gen_loss: 0.32305216789245605\n",
      "Iteration: 3326 | disc_loss: -0.5017770528793335 | gen_loss: -0.43720388412475586\n",
      "Iteration: 3327 | disc_loss: -0.818849503993988 | gen_loss: -0.08558322489261627\n",
      "Iteration: 3328 | disc_loss: -0.12434494495391846 | gen_loss: -0.1971711367368698\n",
      "Iteration: 3329 | disc_loss: -0.8423768877983093 | gen_loss: 0.379227876663208\n"
     ]
    },
    {
     "name": "stderr",
     "output_type": "stream",
     "text": [
      " 67%|██████▋   | 3335/5001 [02:13<01:03, 26.16it/s]"
     ]
    },
    {
     "name": "stdout",
     "output_type": "stream",
     "text": [
      "Iteration: 3330 | disc_loss: -0.4984920620918274 | gen_loss: 0.2897574305534363\n",
      "Iteration: 3331 | disc_loss: -0.775677502155304 | gen_loss: 0.3286476135253906\n",
      "Iteration: 3332 | disc_loss: -1.1028814315795898 | gen_loss: 0.2685143053531647\n",
      "Iteration: 3333 | disc_loss: -0.29127150774002075 | gen_loss: 0.1272454708814621\n",
      "Iteration: 3334 | disc_loss: -0.6703840494155884 | gen_loss: -0.04331974685192108\n",
      "Iteration: 3335 | disc_loss: -0.4656158685684204 | gen_loss: -0.12823650240898132\n"
     ]
    },
    {
     "name": "stderr",
     "output_type": "stream",
     "text": [
      " 67%|██████▋   | 3341/5001 [02:13<01:04, 25.77it/s]"
     ]
    },
    {
     "name": "stdout",
     "output_type": "stream",
     "text": [
      "Iteration: 3336 | disc_loss: -0.4163423478603363 | gen_loss: 0.22781062126159668\n",
      "Iteration: 3337 | disc_loss: -0.7240513563156128 | gen_loss: 0.11700734496116638\n",
      "Iteration: 3338 | disc_loss: -0.6866260766983032 | gen_loss: -0.0035062208771705627\n",
      "Iteration: 3339 | disc_loss: -0.7440531849861145 | gen_loss: -0.08182039856910706\n",
      "Iteration: 3340 | disc_loss: -0.5680819153785706 | gen_loss: 0.12114647775888443\n",
      "Iteration: 3341 | disc_loss: -0.4977535903453827 | gen_loss: -0.009272674098610878\n"
     ]
    },
    {
     "name": "stderr",
     "output_type": "stream",
     "text": [
      " 67%|██████▋   | 3347/5001 [02:13<01:02, 26.56it/s]"
     ]
    },
    {
     "name": "stdout",
     "output_type": "stream",
     "text": [
      "Iteration: 3342 | disc_loss: -0.8352002501487732 | gen_loss: 0.0637044683098793\n",
      "Iteration: 3343 | disc_loss: -0.6589469313621521 | gen_loss: 0.11829464137554169\n",
      "Iteration: 3344 | disc_loss: -0.6134295463562012 | gen_loss: 0.17097073793411255\n",
      "Iteration: 3345 | disc_loss: -0.7562428116798401 | gen_loss: 0.04740920662879944\n",
      "Iteration: 3346 | disc_loss: -0.5985864400863647 | gen_loss: 0.1283869445323944\n",
      "Iteration: 3347 | disc_loss: -0.8968762159347534 | gen_loss: 0.26372575759887695\n"
     ]
    },
    {
     "name": "stderr",
     "output_type": "stream",
     "text": [
      " 67%|██████▋   | 3353/5001 [02:13<01:01, 26.95it/s]"
     ]
    },
    {
     "name": "stdout",
     "output_type": "stream",
     "text": [
      "Iteration: 3348 | disc_loss: -0.7833982706069946 | gen_loss: 0.06437276303768158\n",
      "Iteration: 3349 | disc_loss: -0.6472256183624268 | gen_loss: -0.10647901147603989\n",
      "Iteration: 3350 | disc_loss: -0.7514667510986328 | gen_loss: 0.3067725896835327\n",
      "Iteration: 3351 | disc_loss: -0.9350894093513489 | gen_loss: -0.049683038145303726\n",
      "Iteration: 3352 | disc_loss: -0.9002425670623779 | gen_loss: 0.5360662937164307\n",
      "Iteration: 3353 | disc_loss: -0.5224696397781372 | gen_loss: 0.20405977964401245\n"
     ]
    },
    {
     "name": "stderr",
     "output_type": "stream",
     "text": [
      " 67%|██████▋   | 3359/5001 [02:13<01:01, 26.56it/s]"
     ]
    },
    {
     "name": "stdout",
     "output_type": "stream",
     "text": [
      "Iteration: 3354 | disc_loss: -0.6759068965911865 | gen_loss: 0.0320211723446846\n",
      "Iteration: 3355 | disc_loss: -0.6954708099365234 | gen_loss: 0.28242799639701843\n",
      "Iteration: 3356 | disc_loss: -0.32514482736587524 | gen_loss: 0.30562564730644226\n",
      "Iteration: 3357 | disc_loss: -0.47323063015937805 | gen_loss: -0.09967121481895447\n",
      "Iteration: 3358 | disc_loss: -0.8040933012962341 | gen_loss: 0.15681712329387665\n",
      "Iteration: 3359 | disc_loss: -0.6755468845367432 | gen_loss: 0.1178579330444336\n"
     ]
    },
    {
     "name": "stderr",
     "output_type": "stream",
     "text": [
      " 67%|██████▋   | 3365/5001 [02:14<01:01, 26.42it/s]"
     ]
    },
    {
     "name": "stdout",
     "output_type": "stream",
     "text": [
      "Iteration: 3360 | disc_loss: -0.6832393407821655 | gen_loss: 0.1802094578742981\n",
      "Iteration: 3361 | disc_loss: -0.7273126244544983 | gen_loss: 0.4219842255115509\n",
      "Iteration: 3362 | disc_loss: -0.8771759867668152 | gen_loss: -0.15317867696285248\n",
      "Iteration: 3363 | disc_loss: -0.6568936705589294 | gen_loss: 0.22298255562782288\n",
      "Iteration: 3364 | disc_loss: -0.7890886068344116 | gen_loss: 0.16535356640815735\n",
      "Iteration: 3365 | disc_loss: -0.7307407855987549 | gen_loss: -0.2344380021095276\n"
     ]
    },
    {
     "name": "stderr",
     "output_type": "stream",
     "text": [
      " 67%|██████▋   | 3371/5001 [02:14<01:01, 26.37it/s]"
     ]
    },
    {
     "name": "stdout",
     "output_type": "stream",
     "text": [
      "Iteration: 3366 | disc_loss: -0.6332864761352539 | gen_loss: 0.004764599725604057\n",
      "Iteration: 3367 | disc_loss: -0.8078157305717468 | gen_loss: 0.04700348153710365\n",
      "Iteration: 3368 | disc_loss: -0.7929105758666992 | gen_loss: -0.034514352679252625\n",
      "Iteration: 3369 | disc_loss: -0.4404425024986267 | gen_loss: -0.07581627368927002\n",
      "Iteration: 3370 | disc_loss: -0.8009470105171204 | gen_loss: 0.8364943265914917\n",
      "Iteration: 3371 | disc_loss: -0.43675661087036133 | gen_loss: 0.009592870250344276\n"
     ]
    },
    {
     "name": "stderr",
     "output_type": "stream",
     "text": [
      " 68%|██████▊   | 3377/5001 [02:14<01:01, 26.27it/s]"
     ]
    },
    {
     "name": "stdout",
     "output_type": "stream",
     "text": [
      "Iteration: 3372 | disc_loss: -0.7002429366111755 | gen_loss: 0.13661572337150574\n",
      "Iteration: 3373 | disc_loss: -0.894165575504303 | gen_loss: 0.10509012639522552\n",
      "Iteration: 3374 | disc_loss: -0.8826244473457336 | gen_loss: 0.11537566781044006\n",
      "Iteration: 3375 | disc_loss: -0.7806599736213684 | gen_loss: -0.06645645946264267\n",
      "Iteration: 3376 | disc_loss: -0.814413845539093 | gen_loss: -0.24994900822639465\n",
      "Iteration: 3377 | disc_loss: -0.8187471628189087 | gen_loss: 0.08622772246599197\n"
     ]
    },
    {
     "name": "stderr",
     "output_type": "stream",
     "text": [
      " 68%|██████▊   | 3383/5001 [02:14<01:02, 26.04it/s]"
     ]
    },
    {
     "name": "stdout",
     "output_type": "stream",
     "text": [
      "Iteration: 3378 | disc_loss: -0.5965505838394165 | gen_loss: 0.06878440082073212\n",
      "Iteration: 3379 | disc_loss: -0.7289970517158508 | gen_loss: 0.14434094727039337\n",
      "Iteration: 3380 | disc_loss: -0.9952383637428284 | gen_loss: -0.028626665472984314\n",
      "Iteration: 3381 | disc_loss: -1.008446455001831 | gen_loss: 0.26036250591278076\n",
      "Iteration: 3382 | disc_loss: -0.987401008605957 | gen_loss: 0.3934555649757385\n",
      "Iteration: 3383 | disc_loss: -0.9438123106956482 | gen_loss: 0.10434821248054504\n"
     ]
    },
    {
     "name": "stderr",
     "output_type": "stream",
     "text": [
      " 68%|██████▊   | 3389/5001 [02:15<01:03, 25.23it/s]"
     ]
    },
    {
     "name": "stdout",
     "output_type": "stream",
     "text": [
      "Iteration: 3384 | disc_loss: -0.802564263343811 | gen_loss: -0.13085009157657623\n",
      "Iteration: 3385 | disc_loss: -0.6790646910667419 | gen_loss: -0.06030714511871338\n",
      "Iteration: 3386 | disc_loss: -0.4455733597278595 | gen_loss: 0.26172417402267456\n",
      "Iteration: 3387 | disc_loss: -1.0732783079147339 | gen_loss: 0.11421814560890198\n",
      "Iteration: 3388 | disc_loss: -0.619149386882782 | gen_loss: 0.24576450884342194\n",
      "Iteration: 3389 | disc_loss: -0.5719652771949768 | gen_loss: 0.16518619656562805\n"
     ]
    },
    {
     "name": "stderr",
     "output_type": "stream",
     "text": [
      " 68%|██████▊   | 3395/5001 [02:15<01:01, 26.01it/s]"
     ]
    },
    {
     "name": "stdout",
     "output_type": "stream",
     "text": [
      "Iteration: 3390 | disc_loss: -0.74908047914505 | gen_loss: 0.10839803516864777\n",
      "Iteration: 3391 | disc_loss: -0.6888587474822998 | gen_loss: 0.23275473713874817\n",
      "Iteration: 3392 | disc_loss: -0.7050781846046448 | gen_loss: -0.008288614451885223\n",
      "Iteration: 3393 | disc_loss: -0.6675910353660583 | gen_loss: -0.0462595671415329\n",
      "Iteration: 3394 | disc_loss: -0.7951690554618835 | gen_loss: 0.10325460880994797\n",
      "Iteration: 3395 | disc_loss: -0.7188858985900879 | gen_loss: 0.015867769718170166\n"
     ]
    },
    {
     "name": "stderr",
     "output_type": "stream",
     "text": [
      " 68%|██████▊   | 3401/5001 [02:15<01:03, 25.33it/s]"
     ]
    },
    {
     "name": "stdout",
     "output_type": "stream",
     "text": [
      "Iteration: 3396 | disc_loss: -1.0566370487213135 | gen_loss: 0.10495217889547348\n",
      "Iteration: 3397 | disc_loss: -0.45255789160728455 | gen_loss: 0.49314066767692566\n",
      "Iteration: 3398 | disc_loss: -0.44934526085853577 | gen_loss: 0.23875576257705688\n",
      "Iteration: 3399 | disc_loss: -0.6408587694168091 | gen_loss: 0.008379809558391571\n",
      "Iteration: 3400 | disc_loss: -0.8977769613265991 | gen_loss: 0.38261765241622925\n"
     ]
    },
    {
     "name": "stderr",
     "output_type": "stream",
     "text": [
      " 68%|██████▊   | 3407/5001 [02:15<01:01, 25.90it/s]"
     ]
    },
    {
     "name": "stdout",
     "output_type": "stream",
     "text": [
      "Iteration: 3401 | disc_loss: -0.7817806005477905 | gen_loss: 0.08887728303670883\n",
      "Iteration: 3402 | disc_loss: -0.9488320350646973 | gen_loss: 0.1580074429512024\n",
      "Iteration: 3403 | disc_loss: -0.6126846671104431 | gen_loss: 0.14434564113616943\n",
      "Iteration: 3404 | disc_loss: -0.7646815180778503 | gen_loss: 0.09514982253313065\n",
      "Iteration: 3405 | disc_loss: -0.6730776429176331 | gen_loss: -0.018031872808933258\n",
      "Iteration: 3406 | disc_loss: -0.5939189195632935 | gen_loss: 0.09443708509206772\n"
     ]
    },
    {
     "name": "stderr",
     "output_type": "stream",
     "text": [
      " 68%|██████▊   | 3413/5001 [02:16<01:00, 26.17it/s]"
     ]
    },
    {
     "name": "stdout",
     "output_type": "stream",
     "text": [
      "Iteration: 3407 | disc_loss: -0.7523787021636963 | gen_loss: 0.2108933925628662\n",
      "Iteration: 3408 | disc_loss: -0.5147680640220642 | gen_loss: 0.18958190083503723\n",
      "Iteration: 3409 | disc_loss: -0.8176413178443909 | gen_loss: 0.10405969619750977\n",
      "Iteration: 3410 | disc_loss: -0.5109079480171204 | gen_loss: 0.18314068019390106\n",
      "Iteration: 3411 | disc_loss: -1.0553990602493286 | gen_loss: 0.40641075372695923\n",
      "Iteration: 3412 | disc_loss: -0.5859166383743286 | gen_loss: 0.4918522238731384\n"
     ]
    },
    {
     "name": "stderr",
     "output_type": "stream",
     "text": [
      " 68%|██████▊   | 3419/5001 [02:16<00:59, 26.72it/s]"
     ]
    },
    {
     "name": "stdout",
     "output_type": "stream",
     "text": [
      "Iteration: 3413 | disc_loss: -0.34399789571762085 | gen_loss: 0.3031820058822632\n",
      "Iteration: 3414 | disc_loss: -0.6553323864936829 | gen_loss: 0.004882004112005234\n",
      "Iteration: 3415 | disc_loss: -0.6620191335678101 | gen_loss: 0.19493715465068817\n",
      "Iteration: 3416 | disc_loss: -0.7452827095985413 | gen_loss: 0.29336822032928467\n",
      "Iteration: 3417 | disc_loss: -0.7698545455932617 | gen_loss: 0.23883451521396637\n",
      "Iteration: 3418 | disc_loss: -0.8365455865859985 | gen_loss: 0.03476037085056305\n"
     ]
    },
    {
     "name": "stderr",
     "output_type": "stream",
     "text": [
      " 68%|██████▊   | 3425/5001 [02:16<01:00, 26.14it/s]"
     ]
    },
    {
     "name": "stdout",
     "output_type": "stream",
     "text": [
      "Iteration: 3419 | disc_loss: -0.7681229114532471 | gen_loss: 0.2997855246067047\n",
      "Iteration: 3420 | disc_loss: -0.5883824229240417 | gen_loss: -0.03431180119514465\n",
      "Iteration: 3421 | disc_loss: -0.5743063688278198 | gen_loss: 0.0008521154522895813\n",
      "Iteration: 3422 | disc_loss: -0.9684833288192749 | gen_loss: 0.29968300461769104\n",
      "Iteration: 3423 | disc_loss: -0.6851547956466675 | gen_loss: 0.1452338695526123\n",
      "Iteration: 3424 | disc_loss: -0.8975508809089661 | gen_loss: 0.1434924304485321\n"
     ]
    },
    {
     "name": "stderr",
     "output_type": "stream",
     "text": [
      " 69%|██████▊   | 3431/5001 [02:16<00:59, 26.30it/s]"
     ]
    },
    {
     "name": "stdout",
     "output_type": "stream",
     "text": [
      "Iteration: 3425 | disc_loss: -0.5881476402282715 | gen_loss: 0.17835941910743713\n",
      "Iteration: 3426 | disc_loss: -0.5844886898994446 | gen_loss: 0.31004244089126587\n",
      "Iteration: 3427 | disc_loss: -0.8729344606399536 | gen_loss: 0.2371455729007721\n",
      "Iteration: 3428 | disc_loss: -0.7465003132820129 | gen_loss: 0.08926200866699219\n",
      "Iteration: 3429 | disc_loss: -0.7094398140907288 | gen_loss: 0.27822279930114746\n",
      "Iteration: 3430 | disc_loss: -0.7566900849342346 | gen_loss: 0.16830116510391235\n"
     ]
    },
    {
     "name": "stderr",
     "output_type": "stream",
     "text": [
      " 69%|██████▊   | 3437/5001 [02:16<01:02, 25.16it/s]"
     ]
    },
    {
     "name": "stdout",
     "output_type": "stream",
     "text": [
      "Iteration: 3431 | disc_loss: -0.08731180429458618 | gen_loss: 0.14334166049957275\n",
      "Iteration: 3432 | disc_loss: -0.5547009110450745 | gen_loss: 0.1183352842926979\n",
      "Iteration: 3433 | disc_loss: -0.8231860995292664 | gen_loss: 0.34327754378318787\n",
      "Iteration: 3434 | disc_loss: -1.0467058420181274 | gen_loss: 0.272979199886322\n",
      "Iteration: 3435 | disc_loss: 0.01600182056427002 | gen_loss: 0.03477218747138977\n",
      "Iteration: 3436 | disc_loss: -0.710052490234375 | gen_loss: 0.0927414745092392\n"
     ]
    },
    {
     "name": "stderr",
     "output_type": "stream",
     "text": [
      " 69%|██████▉   | 3443/5001 [02:17<00:59, 26.30it/s]"
     ]
    },
    {
     "name": "stdout",
     "output_type": "stream",
     "text": [
      "Iteration: 3437 | disc_loss: -0.8940484523773193 | gen_loss: -0.09933659434318542\n",
      "Iteration: 3438 | disc_loss: -0.870738685131073 | gen_loss: -0.08459340780973434\n",
      "Iteration: 3439 | disc_loss: -0.5733108520507812 | gen_loss: 0.12599870562553406\n",
      "Iteration: 3440 | disc_loss: -1.0185823440551758 | gen_loss: 0.06538212299346924\n",
      "Iteration: 3441 | disc_loss: -0.8175253868103027 | gen_loss: 0.28550440073013306\n",
      "Iteration: 3442 | disc_loss: -0.9681299328804016 | gen_loss: 0.06950151920318604\n"
     ]
    },
    {
     "name": "stderr",
     "output_type": "stream",
     "text": [
      " 69%|██████▉   | 3449/5001 [02:17<00:58, 26.51it/s]"
     ]
    },
    {
     "name": "stdout",
     "output_type": "stream",
     "text": [
      "Iteration: 3443 | disc_loss: -0.8674973249435425 | gen_loss: 0.1148548424243927\n",
      "Iteration: 3444 | disc_loss: -0.6945022940635681 | gen_loss: -0.09183201193809509\n",
      "Iteration: 3445 | disc_loss: -0.53848797082901 | gen_loss: 0.1392928659915924\n",
      "Iteration: 3446 | disc_loss: -0.8157250881195068 | gen_loss: 0.2554539442062378\n",
      "Iteration: 3447 | disc_loss: -1.0242177248001099 | gen_loss: 0.11086873710155487\n",
      "Iteration: 3448 | disc_loss: -0.6390503644943237 | gen_loss: 0.1023387536406517\n"
     ]
    },
    {
     "name": "stderr",
     "output_type": "stream",
     "text": [
      " 69%|██████▉   | 3455/5001 [02:17<00:57, 26.86it/s]"
     ]
    },
    {
     "name": "stdout",
     "output_type": "stream",
     "text": [
      "Iteration: 3449 | disc_loss: -0.9715257883071899 | gen_loss: 0.15679705142974854\n",
      "Iteration: 3450 | disc_loss: -0.8498079180717468 | gen_loss: 0.24258074164390564\n",
      "Iteration: 3451 | disc_loss: -0.8722833395004272 | gen_loss: 0.1336890012025833\n",
      "Iteration: 3452 | disc_loss: -0.48601555824279785 | gen_loss: 0.15758740901947021\n",
      "Iteration: 3453 | disc_loss: -0.5487505793571472 | gen_loss: 0.35735011100769043\n",
      "Iteration: 3454 | disc_loss: -0.8094793558120728 | gen_loss: 0.2520432472229004\n"
     ]
    },
    {
     "name": "stderr",
     "output_type": "stream",
     "text": [
      " 69%|██████▉   | 3461/5001 [02:17<00:57, 26.88it/s]"
     ]
    },
    {
     "name": "stdout",
     "output_type": "stream",
     "text": [
      "Iteration: 3455 | disc_loss: -0.6501912474632263 | gen_loss: -0.14871318638324738\n",
      "Iteration: 3456 | disc_loss: -0.7261185646057129 | gen_loss: 0.13244539499282837\n",
      "Iteration: 3457 | disc_loss: -0.5798871517181396 | gen_loss: -0.10353104770183563\n",
      "Iteration: 3458 | disc_loss: -0.7326263189315796 | gen_loss: 0.054158225655555725\n",
      "Iteration: 3459 | disc_loss: -0.7696554660797119 | gen_loss: -0.14289849996566772\n",
      "Iteration: 3460 | disc_loss: -0.8521130681037903 | gen_loss: 0.11448069661855698\n"
     ]
    },
    {
     "name": "stderr",
     "output_type": "stream",
     "text": [
      " 69%|██████▉   | 3467/5001 [02:18<00:58, 26.40it/s]"
     ]
    },
    {
     "name": "stdout",
     "output_type": "stream",
     "text": [
      "Iteration: 3461 | disc_loss: -0.5807058811187744 | gen_loss: 0.12562152743339539\n",
      "Iteration: 3462 | disc_loss: -0.49820706248283386 | gen_loss: 0.01727202534675598\n",
      "Iteration: 3463 | disc_loss: -0.702643632888794 | gen_loss: 0.21422475576400757\n",
      "Iteration: 3464 | disc_loss: -0.6848557591438293 | gen_loss: -0.29464951157569885\n",
      "Iteration: 3465 | disc_loss: -0.7830742001533508 | gen_loss: -0.04856038838624954\n",
      "Iteration: 3466 | disc_loss: -0.921777069568634 | gen_loss: 0.3983496427536011\n"
     ]
    },
    {
     "name": "stderr",
     "output_type": "stream",
     "text": [
      " 69%|██████▉   | 3470/5001 [02:18<01:01, 24.71it/s]"
     ]
    },
    {
     "name": "stdout",
     "output_type": "stream",
     "text": [
      "Iteration: 3467 | disc_loss: -0.6177538633346558 | gen_loss: 0.15112443268299103\n",
      "Iteration: 3468 | disc_loss: -0.8362270593643188 | gen_loss: 0.1943136751651764\n",
      "Iteration: 3469 | disc_loss: -0.8644159436225891 | gen_loss: 0.1467268466949463\n",
      "Iteration: 3470 | disc_loss: -0.7890245914459229 | gen_loss: 0.11919116228818893\n",
      "Iteration: 3471 | disc_loss: -0.5266968607902527 | gen_loss: 0.2738308012485504\n"
     ]
    },
    {
     "name": "stderr",
     "output_type": "stream",
     "text": [
      " 70%|██████▉   | 3476/5001 [02:18<01:00, 25.29it/s]"
     ]
    },
    {
     "name": "stdout",
     "output_type": "stream",
     "text": [
      "Iteration: 3472 | disc_loss: -1.0154973268508911 | gen_loss: 0.14807015657424927\n",
      "Iteration: 3473 | disc_loss: -0.5638961791992188 | gen_loss: 0.02469627372920513\n",
      "Iteration: 3474 | disc_loss: -0.9050121307373047 | gen_loss: 0.12298429012298584\n",
      "Iteration: 3475 | disc_loss: -0.7392943501472473 | gen_loss: -0.010097973048686981\n",
      "Iteration: 3476 | disc_loss: -1.0108366012573242 | gen_loss: 0.1829184591770172\n",
      "Iteration: 3477 | disc_loss: -0.8545309901237488 | gen_loss: -0.007661664858460426\n"
     ]
    },
    {
     "name": "stderr",
     "output_type": "stream",
     "text": [
      " 70%|██████▉   | 3482/5001 [02:18<00:58, 25.87it/s]"
     ]
    },
    {
     "name": "stdout",
     "output_type": "stream",
     "text": [
      "Iteration: 3478 | disc_loss: -0.7889194488525391 | gen_loss: 0.08654654771089554\n",
      "Iteration: 3479 | disc_loss: -0.6736180782318115 | gen_loss: -0.12405352294445038\n",
      "Iteration: 3480 | disc_loss: -0.6899873614311218 | gen_loss: 0.265031635761261\n",
      "Iteration: 3481 | disc_loss: -0.5224558115005493 | gen_loss: 0.027222424745559692\n",
      "Iteration: 3482 | disc_loss: -0.7249444723129272 | gen_loss: 0.14459243416786194\n",
      "Iteration: 3483 | disc_loss: -0.7934644818305969 | gen_loss: 0.15510070323944092\n"
     ]
    },
    {
     "name": "stderr",
     "output_type": "stream",
     "text": [
      " 70%|██████▉   | 3488/5001 [02:18<00:57, 26.29it/s]"
     ]
    },
    {
     "name": "stdout",
     "output_type": "stream",
     "text": [
      "Iteration: 3484 | disc_loss: -0.5221232175827026 | gen_loss: 0.3641601800918579\n",
      "Iteration: 3485 | disc_loss: -0.820061981678009 | gen_loss: -0.07031525671482086\n",
      "Iteration: 3486 | disc_loss: -0.3830876648426056 | gen_loss: 0.01790669560432434\n",
      "Iteration: 3487 | disc_loss: -0.6884867548942566 | gen_loss: -0.017072394490242004\n",
      "Iteration: 3488 | disc_loss: -0.41702353954315186 | gen_loss: -0.06515514105558395\n",
      "Iteration: 3489 | disc_loss: -0.6977754831314087 | gen_loss: 0.168534517288208\n"
     ]
    },
    {
     "name": "stderr",
     "output_type": "stream",
     "text": [
      " 70%|██████▉   | 3494/5001 [02:19<01:00, 25.11it/s]"
     ]
    },
    {
     "name": "stdout",
     "output_type": "stream",
     "text": [
      "Iteration: 3490 | disc_loss: -0.665625274181366 | gen_loss: 0.2531068027019501\n",
      "Iteration: 3491 | disc_loss: -0.6874243021011353 | gen_loss: 0.09910345822572708\n",
      "Iteration: 3492 | disc_loss: -0.5967198610305786 | gen_loss: -0.09963775426149368\n",
      "Iteration: 3493 | disc_loss: -0.8989537954330444 | gen_loss: 0.012083392590284348\n",
      "Iteration: 3494 | disc_loss: -0.7649133205413818 | gen_loss: -0.12151850014925003\n",
      "Iteration: 3495 | disc_loss: -0.4727497398853302 | gen_loss: 0.1752687394618988\n"
     ]
    },
    {
     "name": "stderr",
     "output_type": "stream",
     "text": [
      " 70%|██████▉   | 3500/5001 [02:19<00:57, 25.92it/s]"
     ]
    },
    {
     "name": "stdout",
     "output_type": "stream",
     "text": [
      "Iteration: 3496 | disc_loss: -0.8584834337234497 | gen_loss: -0.002360207960009575\n",
      "Iteration: 3497 | disc_loss: -0.458141028881073 | gen_loss: 0.18088293075561523\n",
      "Iteration: 3498 | disc_loss: -0.5122286677360535 | gen_loss: 0.09840735048055649\n",
      "Iteration: 3499 | disc_loss: -0.5897437334060669 | gen_loss: -0.07823090255260468\n",
      "Iteration: 3500 | disc_loss: -0.6672106385231018 | gen_loss: 0.24378323554992676\n",
      "Iteration: 3501 | disc_loss: -0.7436980605125427 | gen_loss: 0.21763025224208832\n"
     ]
    },
    {
     "name": "stderr",
     "output_type": "stream",
     "text": [
      " 70%|███████   | 3506/5001 [02:19<00:57, 25.90it/s]"
     ]
    },
    {
     "name": "stdout",
     "output_type": "stream",
     "text": [
      "Iteration: 3502 | disc_loss: -0.6675074696540833 | gen_loss: 0.16663895547389984\n",
      "Iteration: 3503 | disc_loss: -0.719488263130188 | gen_loss: -0.049587640911340714\n",
      "Iteration: 3504 | disc_loss: -0.6443027257919312 | gen_loss: -0.031285226345062256\n",
      "Iteration: 3505 | disc_loss: -0.6360778212547302 | gen_loss: 0.13853654265403748\n",
      "Iteration: 3506 | disc_loss: -0.6930174231529236 | gen_loss: 0.12527742981910706\n",
      "Iteration: 3507 | disc_loss: -0.582793116569519 | gen_loss: 0.09863302111625671\n"
     ]
    },
    {
     "name": "stderr",
     "output_type": "stream",
     "text": [
      " 70%|███████   | 3512/5001 [02:19<00:57, 25.79it/s]"
     ]
    },
    {
     "name": "stdout",
     "output_type": "stream",
     "text": [
      "Iteration: 3508 | disc_loss: -0.4723278880119324 | gen_loss: 0.25626441836357117\n",
      "Iteration: 3509 | disc_loss: -0.7509704828262329 | gen_loss: 0.2576899528503418\n",
      "Iteration: 3510 | disc_loss: -0.8434227705001831 | gen_loss: 0.0938684493303299\n",
      "Iteration: 3511 | disc_loss: -0.8063461780548096 | gen_loss: 0.28972458839416504\n",
      "Iteration: 3512 | disc_loss: -0.5920364856719971 | gen_loss: 0.05626140907406807\n"
     ]
    },
    {
     "name": "stderr",
     "output_type": "stream",
     "text": [
      " 70%|███████   | 3518/5001 [02:20<00:59, 24.89it/s]"
     ]
    },
    {
     "name": "stdout",
     "output_type": "stream",
     "text": [
      "Iteration: 3513 | disc_loss: -0.5624571442604065 | gen_loss: -0.05693952739238739\n",
      "Iteration: 3514 | disc_loss: -0.6018768548965454 | gen_loss: 0.41657114028930664\n",
      "Iteration: 3515 | disc_loss: -0.6487618088722229 | gen_loss: 0.26461565494537354\n",
      "Iteration: 3516 | disc_loss: -0.7255590558052063 | gen_loss: -0.12869125604629517\n",
      "Iteration: 3517 | disc_loss: -0.7451671361923218 | gen_loss: 0.13770529627799988\n",
      "Iteration: 3518 | disc_loss: -0.8602702617645264 | gen_loss: -0.09451298415660858\n"
     ]
    },
    {
     "name": "stderr",
     "output_type": "stream",
     "text": [
      " 70%|███████   | 3524/5001 [02:20<00:56, 25.92it/s]"
     ]
    },
    {
     "name": "stdout",
     "output_type": "stream",
     "text": [
      "Iteration: 3519 | disc_loss: -0.5110681056976318 | gen_loss: 0.3229757845401764\n",
      "Iteration: 3520 | disc_loss: -0.513802170753479 | gen_loss: 0.2242436707019806\n",
      "Iteration: 3521 | disc_loss: -0.8988316059112549 | gen_loss: 0.2423398196697235\n",
      "Iteration: 3522 | disc_loss: -0.7126190662384033 | gen_loss: 0.4592507779598236\n",
      "Iteration: 3523 | disc_loss: -0.9310117959976196 | gen_loss: 0.16128423810005188\n",
      "Iteration: 3524 | disc_loss: -0.5560885667800903 | gen_loss: 0.19210027158260345\n"
     ]
    },
    {
     "name": "stderr",
     "output_type": "stream",
     "text": [
      " 71%|███████   | 3530/5001 [02:20<01:00, 24.44it/s]"
     ]
    },
    {
     "name": "stdout",
     "output_type": "stream",
     "text": [
      "Iteration: 3525 | disc_loss: -0.9430779218673706 | gen_loss: 0.0273180790245533\n",
      "Iteration: 3526 | disc_loss: -0.13081735372543335 | gen_loss: 0.11181996762752533\n",
      "Iteration: 3527 | disc_loss: -0.18337012827396393 | gen_loss: 0.06221707910299301\n",
      "Iteration: 3528 | disc_loss: -0.6525884866714478 | gen_loss: 0.16064763069152832\n",
      "Iteration: 3529 | disc_loss: -0.5001922249794006 | gen_loss: 0.10789787769317627\n"
     ]
    },
    {
     "name": "stderr",
     "output_type": "stream",
     "text": [
      " 71%|███████   | 3536/5001 [02:20<00:57, 25.47it/s]"
     ]
    },
    {
     "name": "stdout",
     "output_type": "stream",
     "text": [
      "Iteration: 3530 | disc_loss: -0.670023500919342 | gen_loss: 0.15437516570091248\n",
      "Iteration: 3531 | disc_loss: -0.4826822280883789 | gen_loss: 0.44209158420562744\n",
      "Iteration: 3532 | disc_loss: -0.6351987719535828 | gen_loss: 0.20898228883743286\n",
      "Iteration: 3533 | disc_loss: -0.7849863767623901 | gen_loss: 0.31723588705062866\n",
      "Iteration: 3534 | disc_loss: -0.9179320931434631 | gen_loss: -0.005097180604934692\n",
      "Iteration: 3535 | disc_loss: -0.7249808311462402 | gen_loss: -0.0327567383646965\n"
     ]
    },
    {
     "name": "stderr",
     "output_type": "stream",
     "text": [
      " 71%|███████   | 3542/5001 [02:21<00:56, 26.04it/s]"
     ]
    },
    {
     "name": "stdout",
     "output_type": "stream",
     "text": [
      "Iteration: 3536 | disc_loss: -0.7442663908004761 | gen_loss: 0.11149710416793823\n",
      "Iteration: 3537 | disc_loss: -0.7762457728385925 | gen_loss: -0.12303050607442856\n",
      "Iteration: 3538 | disc_loss: -0.9262943267822266 | gen_loss: -0.18775464594364166\n",
      "Iteration: 3539 | disc_loss: -0.5996489524841309 | gen_loss: 0.14248882234096527\n",
      "Iteration: 3540 | disc_loss: -0.967179000377655 | gen_loss: 0.23783564567565918\n",
      "Iteration: 3541 | disc_loss: -0.7662058472633362 | gen_loss: 0.029318761080503464\n"
     ]
    },
    {
     "name": "stderr",
     "output_type": "stream",
     "text": [
      " 71%|███████   | 3548/5001 [02:21<00:55, 26.38it/s]"
     ]
    },
    {
     "name": "stdout",
     "output_type": "stream",
     "text": [
      "Iteration: 3542 | disc_loss: -0.7435705065727234 | gen_loss: 0.2158762514591217\n",
      "Iteration: 3543 | disc_loss: -0.8700212240219116 | gen_loss: -0.04073721170425415\n",
      "Iteration: 3544 | disc_loss: -0.6817849278450012 | gen_loss: -0.012203104794025421\n",
      "Iteration: 3545 | disc_loss: -0.9977579116821289 | gen_loss: 0.32549601793289185\n",
      "Iteration: 3546 | disc_loss: -0.6751564741134644 | gen_loss: -0.027729172259569168\n",
      "Iteration: 3547 | disc_loss: -0.8682599067687988 | gen_loss: -0.14391586184501648\n"
     ]
    },
    {
     "name": "stderr",
     "output_type": "stream",
     "text": [
      " 71%|███████   | 3551/5001 [02:21<00:55, 25.99it/s]"
     ]
    },
    {
     "name": "stdout",
     "output_type": "stream",
     "text": [
      "Iteration: 3548 | disc_loss: -0.6401920318603516 | gen_loss: -0.13348892331123352\n",
      "Iteration: 3549 | disc_loss: -0.6562952995300293 | gen_loss: 0.18154260516166687\n",
      "Iteration: 3550 | disc_loss: -0.49317440390586853 | gen_loss: 0.1417098045349121\n",
      "Iteration: 3551 | disc_loss: -0.8219287991523743 | gen_loss: 0.1491495668888092\n",
      "Iteration: 3552 | disc_loss: -0.7486026287078857 | gen_loss: -0.10686042159795761\n"
     ]
    },
    {
     "name": "stderr",
     "output_type": "stream",
     "text": [
      " 71%|███████   | 3557/5001 [02:21<00:57, 25.17it/s]"
     ]
    },
    {
     "name": "stdout",
     "output_type": "stream",
     "text": [
      "Iteration: 3553 | disc_loss: -0.7292138934135437 | gen_loss: 0.030835039913654327\n",
      "Iteration: 3554 | disc_loss: -0.5608517527580261 | gen_loss: 0.2420741617679596\n",
      "Iteration: 3555 | disc_loss: -0.12849682569503784 | gen_loss: 0.1562938392162323\n",
      "Iteration: 3556 | disc_loss: -0.6653419137001038 | gen_loss: 0.25829994678497314\n",
      "Iteration: 3557 | disc_loss: -0.5860596299171448 | gen_loss: 0.1313292384147644\n",
      "Iteration: 3558 | disc_loss: -0.5721728801727295 | gen_loss: 0.30188262462615967\n"
     ]
    },
    {
     "name": "stderr",
     "output_type": "stream",
     "text": [
      " 71%|███████   | 3563/5001 [02:21<00:57, 24.93it/s]"
     ]
    },
    {
     "name": "stdout",
     "output_type": "stream",
     "text": [
      "Iteration: 3559 | disc_loss: -0.8508189916610718 | gen_loss: 0.10065674781799316\n",
      "Iteration: 3560 | disc_loss: -0.5251820683479309 | gen_loss: 0.21952076256275177\n",
      "Iteration: 3561 | disc_loss: -0.292267382144928 | gen_loss: 0.05467711016535759\n",
      "Iteration: 3562 | disc_loss: -0.9506585001945496 | gen_loss: 0.04677289351820946\n",
      "Iteration: 3563 | disc_loss: -0.8479938507080078 | gen_loss: -0.08815482258796692\n",
      "Iteration: 3564 | disc_loss: -0.6764121651649475 | gen_loss: 0.023351063951849937\n"
     ]
    },
    {
     "name": "stderr",
     "output_type": "stream",
     "text": [
      " 71%|███████▏  | 3569/5001 [02:22<00:56, 25.43it/s]"
     ]
    },
    {
     "name": "stdout",
     "output_type": "stream",
     "text": [
      "Iteration: 3565 | disc_loss: -0.665005087852478 | gen_loss: 0.210485577583313\n",
      "Iteration: 3566 | disc_loss: -0.734897255897522 | gen_loss: 0.15118004381656647\n",
      "Iteration: 3567 | disc_loss: -0.6645130515098572 | gen_loss: -0.28470176458358765\n",
      "Iteration: 3568 | disc_loss: -0.7919856309890747 | gen_loss: 0.6486719250679016\n",
      "Iteration: 3569 | disc_loss: -0.8549215793609619 | gen_loss: -0.016738606616854668\n",
      "Iteration: 3570 | disc_loss: -0.6167484521865845 | gen_loss: -0.006995387375354767\n"
     ]
    },
    {
     "name": "stderr",
     "output_type": "stream",
     "text": [
      " 71%|███████▏  | 3575/5001 [02:22<00:55, 25.80it/s]"
     ]
    },
    {
     "name": "stdout",
     "output_type": "stream",
     "text": [
      "Iteration: 3571 | disc_loss: -0.5900298953056335 | gen_loss: 0.11869896203279495\n",
      "Iteration: 3572 | disc_loss: -0.8263132572174072 | gen_loss: -0.03919161483645439\n",
      "Iteration: 3573 | disc_loss: -0.7141298651695251 | gen_loss: 0.4957062900066376\n",
      "Iteration: 3574 | disc_loss: -1.0464571714401245 | gen_loss: 0.10228707641363144\n",
      "Iteration: 3575 | disc_loss: -1.0163536071777344 | gen_loss: 0.5426123142242432\n",
      "Iteration: 3576 | disc_loss: -0.71444171667099 | gen_loss: -0.023188941180706024\n"
     ]
    },
    {
     "name": "stderr",
     "output_type": "stream",
     "text": [
      " 72%|███████▏  | 3581/5001 [02:22<00:56, 25.35it/s]"
     ]
    },
    {
     "name": "stdout",
     "output_type": "stream",
     "text": [
      "Iteration: 3577 | disc_loss: -0.45960676670074463 | gen_loss: 0.15347406268119812\n",
      "Iteration: 3578 | disc_loss: -0.8645058870315552 | gen_loss: 0.12821723520755768\n",
      "Iteration: 3579 | disc_loss: -0.6177337765693665 | gen_loss: 0.027022436261177063\n",
      "Iteration: 3580 | disc_loss: -0.3399086892604828 | gen_loss: 0.08226815611124039\n",
      "Iteration: 3581 | disc_loss: -0.7317140698432922 | gen_loss: 0.18819499015808105\n",
      "Iteration: 3582 | disc_loss: -0.5945802927017212 | gen_loss: 0.2142384797334671\n"
     ]
    },
    {
     "name": "stderr",
     "output_type": "stream",
     "text": [
      " 72%|███████▏  | 3587/5001 [02:22<00:54, 26.09it/s]"
     ]
    },
    {
     "name": "stdout",
     "output_type": "stream",
     "text": [
      "Iteration: 3583 | disc_loss: -0.8567600846290588 | gen_loss: 0.26712566614151\n",
      "Iteration: 3584 | disc_loss: -0.7474735379219055 | gen_loss: 0.1379278004169464\n",
      "Iteration: 3585 | disc_loss: -0.7122355699539185 | gen_loss: 0.18203917145729065\n",
      "Iteration: 3586 | disc_loss: -0.8478885293006897 | gen_loss: 0.1982792317867279\n",
      "Iteration: 3587 | disc_loss: -0.9080195426940918 | gen_loss: 0.10793270915746689\n",
      "Iteration: 3588 | disc_loss: -0.8002569675445557 | gen_loss: 0.16488459706306458\n"
     ]
    },
    {
     "name": "stderr",
     "output_type": "stream",
     "text": [
      " 72%|███████▏  | 3593/5001 [02:23<00:53, 26.27it/s]"
     ]
    },
    {
     "name": "stdout",
     "output_type": "stream",
     "text": [
      "Iteration: 3589 | disc_loss: -0.6866732835769653 | gen_loss: 0.1313551515340805\n",
      "Iteration: 3590 | disc_loss: -0.7331947684288025 | gen_loss: 0.21994465589523315\n",
      "Iteration: 3591 | disc_loss: -0.7842104434967041 | gen_loss: 0.14214476943016052\n",
      "Iteration: 3592 | disc_loss: -0.5731993317604065 | gen_loss: 0.2374187707901001\n",
      "Iteration: 3593 | disc_loss: -0.910124659538269 | gen_loss: 0.0024554282426834106\n",
      "Iteration: 3594 | disc_loss: -0.7655166983604431 | gen_loss: 0.14324235916137695\n"
     ]
    },
    {
     "name": "stderr",
     "output_type": "stream",
     "text": [
      " 72%|███████▏  | 3599/5001 [02:23<00:52, 26.48it/s]"
     ]
    },
    {
     "name": "stdout",
     "output_type": "stream",
     "text": [
      "Iteration: 3595 | disc_loss: -0.6840776801109314 | gen_loss: -0.005560168996453285\n",
      "Iteration: 3596 | disc_loss: -0.797347366809845 | gen_loss: -0.0703686773777008\n",
      "Iteration: 3597 | disc_loss: -0.7319260239601135 | gen_loss: -0.019444286823272705\n",
      "Iteration: 3598 | disc_loss: -0.7504081726074219 | gen_loss: -0.19029070436954498\n",
      "Iteration: 3599 | disc_loss: -0.21112656593322754 | gen_loss: 0.12114423513412476\n",
      "Iteration: 3600 | disc_loss: -0.8038648366928101 | gen_loss: -0.04215578734874725\n"
     ]
    },
    {
     "name": "stderr",
     "output_type": "stream",
     "text": [
      " 72%|███████▏  | 3605/5001 [02:23<00:54, 25.45it/s]"
     ]
    },
    {
     "name": "stdout",
     "output_type": "stream",
     "text": [
      "Iteration: 3601 | disc_loss: -0.8595454692840576 | gen_loss: -0.04401259496808052\n",
      "Iteration: 3602 | disc_loss: -0.6449056267738342 | gen_loss: 0.06742004305124283\n",
      "Iteration: 3603 | disc_loss: -0.7518479228019714 | gen_loss: -0.15529128909111023\n",
      "Iteration: 3604 | disc_loss: -0.7328146696090698 | gen_loss: 0.2886628210544586\n",
      "Iteration: 3605 | disc_loss: -0.49525734782218933 | gen_loss: 0.040088389068841934\n",
      "Iteration: 3606 | disc_loss: -0.5426576733589172 | gen_loss: 0.5075238943099976\n"
     ]
    },
    {
     "name": "stderr",
     "output_type": "stream",
     "text": [
      " 72%|███████▏  | 3611/5001 [02:23<00:52, 26.33it/s]"
     ]
    },
    {
     "name": "stdout",
     "output_type": "stream",
     "text": [
      "Iteration: 3607 | disc_loss: -0.7945226430892944 | gen_loss: 0.012832105159759521\n",
      "Iteration: 3608 | disc_loss: -0.5133455395698547 | gen_loss: 0.10903006792068481\n",
      "Iteration: 3609 | disc_loss: -0.7623845934867859 | gen_loss: 0.2953824996948242\n",
      "Iteration: 3610 | disc_loss: -0.40747159719467163 | gen_loss: 0.17456936836242676\n",
      "Iteration: 3611 | disc_loss: -0.6426470875740051 | gen_loss: 0.04737376421689987\n",
      "Iteration: 3612 | disc_loss: -0.2340097725391388 | gen_loss: 0.13206973671913147\n"
     ]
    },
    {
     "name": "stderr",
     "output_type": "stream",
     "text": [
      " 72%|███████▏  | 3617/5001 [02:23<00:52, 26.13it/s]"
     ]
    },
    {
     "name": "stdout",
     "output_type": "stream",
     "text": [
      "Iteration: 3613 | disc_loss: -0.5742595195770264 | gen_loss: 0.2243283987045288\n",
      "Iteration: 3614 | disc_loss: -0.6972900629043579 | gen_loss: 0.08609282970428467\n",
      "Iteration: 3615 | disc_loss: -0.7024627327919006 | gen_loss: 0.20133811235427856\n",
      "Iteration: 3616 | disc_loss: -0.4810338616371155 | gen_loss: 0.1619686782360077\n",
      "Iteration: 3617 | disc_loss: -0.6628538370132446 | gen_loss: 0.09930025041103363\n",
      "Iteration: 3618 | disc_loss: -0.8586965203285217 | gen_loss: 0.1909950077533722\n"
     ]
    },
    {
     "name": "stderr",
     "output_type": "stream",
     "text": [
      " 72%|███████▏  | 3623/5001 [02:24<00:51, 26.57it/s]"
     ]
    },
    {
     "name": "stdout",
     "output_type": "stream",
     "text": [
      "Iteration: 3619 | disc_loss: -0.7331375479698181 | gen_loss: 0.16062776744365692\n",
      "Iteration: 3620 | disc_loss: -0.7223683595657349 | gen_loss: -0.06288756430149078\n",
      "Iteration: 3621 | disc_loss: -0.4939765930175781 | gen_loss: 0.0425548292696476\n",
      "Iteration: 3622 | disc_loss: -0.7178011536598206 | gen_loss: 0.05700916796922684\n",
      "Iteration: 3623 | disc_loss: -0.24052472412586212 | gen_loss: 0.029300086200237274\n",
      "Iteration: 3624 | disc_loss: -0.6812025904655457 | gen_loss: 0.2098642885684967\n"
     ]
    },
    {
     "name": "stderr",
     "output_type": "stream",
     "text": [
      " 73%|███████▎  | 3629/5001 [02:24<00:51, 26.61it/s]"
     ]
    },
    {
     "name": "stdout",
     "output_type": "stream",
     "text": [
      "Iteration: 3625 | disc_loss: -0.8088838458061218 | gen_loss: -0.03085467964410782\n",
      "Iteration: 3626 | disc_loss: -0.7144540548324585 | gen_loss: -0.004073739051818848\n",
      "Iteration: 3627 | disc_loss: -0.9875595569610596 | gen_loss: 0.10468751192092896\n",
      "Iteration: 3628 | disc_loss: -0.7712180018424988 | gen_loss: -0.17311972379684448\n",
      "Iteration: 3629 | disc_loss: -0.47462034225463867 | gen_loss: -0.09253890812397003\n",
      "Iteration: 3630 | disc_loss: -0.9041863679885864 | gen_loss: 0.10576257109642029\n"
     ]
    },
    {
     "name": "stderr",
     "output_type": "stream",
     "text": [
      " 73%|███████▎  | 3635/5001 [02:24<00:51, 26.68it/s]"
     ]
    },
    {
     "name": "stdout",
     "output_type": "stream",
     "text": [
      "Iteration: 3631 | disc_loss: -0.5665077567100525 | gen_loss: 0.08232470601797104\n",
      "Iteration: 3632 | disc_loss: -0.26498404145240784 | gen_loss: 0.2225627452135086\n",
      "Iteration: 3633 | disc_loss: -0.7956205010414124 | gen_loss: 0.21102797985076904\n",
      "Iteration: 3634 | disc_loss: -0.7588626742362976 | gen_loss: 0.24543534219264984\n",
      "Iteration: 3635 | disc_loss: -0.9010096192359924 | gen_loss: -0.18201065063476562\n",
      "Iteration: 3636 | disc_loss: -0.8385440111160278 | gen_loss: 0.09276856482028961\n"
     ]
    },
    {
     "name": "stderr",
     "output_type": "stream",
     "text": [
      " 73%|███████▎  | 3641/5001 [02:24<00:52, 26.08it/s]"
     ]
    },
    {
     "name": "stdout",
     "output_type": "stream",
     "text": [
      "Iteration: 3637 | disc_loss: -0.5472081303596497 | gen_loss: -0.1655353307723999\n",
      "Iteration: 3638 | disc_loss: -0.6610143780708313 | gen_loss: 0.14395460486412048\n",
      "Iteration: 3639 | disc_loss: -0.7428064942359924 | gen_loss: 0.17939874529838562\n",
      "Iteration: 3640 | disc_loss: -0.8090981245040894 | gen_loss: 0.35685229301452637\n",
      "Iteration: 3641 | disc_loss: -0.5802686810493469 | gen_loss: 0.23742367327213287\n",
      "Iteration: 3642 | disc_loss: -0.8179937601089478 | gen_loss: 0.2747223973274231\n"
     ]
    },
    {
     "name": "stderr",
     "output_type": "stream",
     "text": [
      " 73%|███████▎  | 3647/5001 [02:25<00:52, 25.74it/s]"
     ]
    },
    {
     "name": "stdout",
     "output_type": "stream",
     "text": [
      "Iteration: 3643 | disc_loss: -0.8515416979789734 | gen_loss: 0.2574900984764099\n",
      "Iteration: 3644 | disc_loss: -0.4966471493244171 | gen_loss: 0.21260909736156464\n",
      "Iteration: 3645 | disc_loss: -0.6305325031280518 | gen_loss: -0.2575242221355438\n",
      "Iteration: 3646 | disc_loss: -0.5430393218994141 | gen_loss: 0.024004410952329636\n",
      "Iteration: 3647 | disc_loss: -0.9596790671348572 | gen_loss: 0.08651264011859894\n"
     ]
    },
    {
     "name": "stderr",
     "output_type": "stream",
     "text": [
      " 73%|███████▎  | 3653/5001 [02:25<00:53, 25.43it/s]"
     ]
    },
    {
     "name": "stdout",
     "output_type": "stream",
     "text": [
      "Iteration: 3648 | disc_loss: -0.5855838656425476 | gen_loss: 0.21390442550182343\n",
      "Iteration: 3649 | disc_loss: -0.7089182138442993 | gen_loss: 0.05642924830317497\n",
      "Iteration: 3650 | disc_loss: -0.7569111585617065 | gen_loss: -0.12221424281597137\n",
      "Iteration: 3651 | disc_loss: -0.7830639481544495 | gen_loss: -0.37673264741897583\n",
      "Iteration: 3652 | disc_loss: -0.6886743307113647 | gen_loss: 0.09704829752445221\n",
      "Iteration: 3653 | disc_loss: -0.5527045726776123 | gen_loss: 0.21525707840919495\n"
     ]
    },
    {
     "name": "stderr",
     "output_type": "stream",
     "text": [
      " 73%|███████▎  | 3659/5001 [02:25<00:55, 24.33it/s]"
     ]
    },
    {
     "name": "stdout",
     "output_type": "stream",
     "text": [
      "Iteration: 3654 | disc_loss: -0.7860440611839294 | gen_loss: 0.0058096349239349365\n",
      "Iteration: 3655 | disc_loss: -0.8920573592185974 | gen_loss: -0.21854236721992493\n",
      "Iteration: 3656 | disc_loss: -0.6373629570007324 | gen_loss: -0.20201189815998077\n",
      "Iteration: 3657 | disc_loss: -0.8106480836868286 | gen_loss: -0.025645557790994644\n",
      "Iteration: 3658 | disc_loss: -0.783866822719574 | gen_loss: -0.04239504784345627\n"
     ]
    },
    {
     "name": "stderr",
     "output_type": "stream",
     "text": [
      " 73%|███████▎  | 3665/5001 [02:25<00:52, 25.51it/s]"
     ]
    },
    {
     "name": "stdout",
     "output_type": "stream",
     "text": [
      "Iteration: 3659 | disc_loss: -0.7450749278068542 | gen_loss: 0.09301839768886566\n",
      "Iteration: 3660 | disc_loss: -0.6350370645523071 | gen_loss: 0.0629751905798912\n",
      "Iteration: 3661 | disc_loss: -0.8479618430137634 | gen_loss: 0.27891069650650024\n",
      "Iteration: 3662 | disc_loss: -0.7181216478347778 | gen_loss: 0.04468557611107826\n",
      "Iteration: 3663 | disc_loss: -0.7099666595458984 | gen_loss: 0.19884192943572998\n",
      "Iteration: 3664 | disc_loss: -0.8547092080116272 | gen_loss: -0.22435730695724487\n"
     ]
    },
    {
     "name": "stderr",
     "output_type": "stream",
     "text": [
      " 73%|███████▎  | 3671/5001 [02:26<00:50, 26.48it/s]"
     ]
    },
    {
     "name": "stdout",
     "output_type": "stream",
     "text": [
      "Iteration: 3665 | disc_loss: -0.8914953470230103 | gen_loss: 0.025535419583320618\n",
      "Iteration: 3666 | disc_loss: -1.031237244606018 | gen_loss: 0.1472640037536621\n",
      "Iteration: 3667 | disc_loss: -1.0343542098999023 | gen_loss: 1.1563549041748047\n",
      "Iteration: 3668 | disc_loss: -0.5650079250335693 | gen_loss: 0.22858859598636627\n",
      "Iteration: 3669 | disc_loss: -0.9450315833091736 | gen_loss: 0.09010570496320724\n",
      "Iteration: 3670 | disc_loss: -0.7918015122413635 | gen_loss: 0.1516924351453781\n"
     ]
    },
    {
     "name": "stderr",
     "output_type": "stream",
     "text": [
      " 74%|███████▎  | 3677/5001 [02:26<00:49, 26.78it/s]"
     ]
    },
    {
     "name": "stdout",
     "output_type": "stream",
     "text": [
      "Iteration: 3671 | disc_loss: -0.549135148525238 | gen_loss: 0.2911646366119385\n",
      "Iteration: 3672 | disc_loss: -0.4137568175792694 | gen_loss: -0.10782914608716965\n",
      "Iteration: 3673 | disc_loss: -0.9063509106636047 | gen_loss: 0.0757499411702156\n",
      "Iteration: 3674 | disc_loss: -1.014499306678772 | gen_loss: 0.006501983851194382\n",
      "Iteration: 3675 | disc_loss: -0.6464139819145203 | gen_loss: 0.2018352746963501\n",
      "Iteration: 3676 | disc_loss: -0.5164079070091248 | gen_loss: -0.09572815150022507\n"
     ]
    },
    {
     "name": "stderr",
     "output_type": "stream",
     "text": [
      " 74%|███████▎  | 3683/5001 [02:26<00:49, 26.83it/s]"
     ]
    },
    {
     "name": "stdout",
     "output_type": "stream",
     "text": [
      "Iteration: 3677 | disc_loss: -0.6720194220542908 | gen_loss: 0.12413054704666138\n",
      "Iteration: 3678 | disc_loss: -0.5221933126449585 | gen_loss: -0.05893293768167496\n",
      "Iteration: 3679 | disc_loss: -0.569974958896637 | gen_loss: 0.06162021681666374\n",
      "Iteration: 3680 | disc_loss: -0.8123477697372437 | gen_loss: 0.17809155583381653\n",
      "Iteration: 3681 | disc_loss: -0.7483006119728088 | gen_loss: 0.29658618569374084\n",
      "Iteration: 3682 | disc_loss: -0.5219670534133911 | gen_loss: 0.23638156056404114\n"
     ]
    },
    {
     "name": "stderr",
     "output_type": "stream",
     "text": [
      " 74%|███████▍  | 3689/5001 [02:26<00:48, 26.94it/s]"
     ]
    },
    {
     "name": "stdout",
     "output_type": "stream",
     "text": [
      "Iteration: 3683 | disc_loss: -0.8990992307662964 | gen_loss: 0.11442387104034424\n",
      "Iteration: 3684 | disc_loss: -0.5729091167449951 | gen_loss: -0.0038109086453914642\n",
      "Iteration: 3685 | disc_loss: -0.6141389608383179 | gen_loss: -0.10738630592823029\n",
      "Iteration: 3686 | disc_loss: -0.5436182618141174 | gen_loss: 0.3300752341747284\n",
      "Iteration: 3687 | disc_loss: -0.8020136952400208 | gen_loss: 0.06735721230506897\n",
      "Iteration: 3688 | disc_loss: -0.8249378800392151 | gen_loss: 0.28444555401802063\n"
     ]
    },
    {
     "name": "stderr",
     "output_type": "stream",
     "text": [
      " 74%|███████▍  | 3695/5001 [02:26<00:48, 26.91it/s]"
     ]
    },
    {
     "name": "stdout",
     "output_type": "stream",
     "text": [
      "Iteration: 3689 | disc_loss: -0.746944785118103 | gen_loss: 0.1979939490556717\n",
      "Iteration: 3690 | disc_loss: -0.7276390790939331 | gen_loss: 0.19008868932724\n",
      "Iteration: 3691 | disc_loss: -0.7132487893104553 | gen_loss: -0.02974529191851616\n",
      "Iteration: 3692 | disc_loss: -0.608403742313385 | gen_loss: 0.16133615374565125\n",
      "Iteration: 3693 | disc_loss: -0.7893310189247131 | gen_loss: 0.2709971070289612\n",
      "Iteration: 3694 | disc_loss: -0.5629762411117554 | gen_loss: -0.0904683992266655\n"
     ]
    },
    {
     "name": "stderr",
     "output_type": "stream",
     "text": [
      " 74%|███████▍  | 3698/5001 [02:27<00:48, 26.96it/s]"
     ]
    },
    {
     "name": "stdout",
     "output_type": "stream",
     "text": [
      "Iteration: 3695 | disc_loss: -0.7112444043159485 | gen_loss: 0.17874661087989807\n",
      "Iteration: 3696 | disc_loss: -0.46170124411582947 | gen_loss: -0.3087979853153229\n",
      "Iteration: 3697 | disc_loss: -0.6854445934295654 | gen_loss: 0.29747623205184937\n",
      "Iteration: 3698 | disc_loss: -0.5995084047317505 | gen_loss: 0.25464802980422974\n",
      "Iteration: 3699 | disc_loss: -0.7984135150909424 | gen_loss: 0.31268787384033203\n"
     ]
    },
    {
     "name": "stderr",
     "output_type": "stream",
     "text": [
      " 74%|███████▍  | 3704/5001 [02:27<00:50, 25.79it/s]"
     ]
    },
    {
     "name": "stdout",
     "output_type": "stream",
     "text": [
      "Iteration: 3700 | disc_loss: -0.8319212198257446 | gen_loss: 0.1118319034576416\n",
      "Iteration: 3701 | disc_loss: -0.684909462928772 | gen_loss: 0.15795832872390747\n",
      "Iteration: 3702 | disc_loss: -0.7766441106796265 | gen_loss: 0.30368438363075256\n",
      "Iteration: 3703 | disc_loss: -0.8375868797302246 | gen_loss: 0.13022485375404358\n",
      "Iteration: 3704 | disc_loss: -0.2530365288257599 | gen_loss: 0.032616857439279556\n",
      "Iteration: 3705 | disc_loss: -0.5096985697746277 | gen_loss: 0.23688074946403503\n"
     ]
    },
    {
     "name": "stderr",
     "output_type": "stream",
     "text": [
      " 74%|███████▍  | 3710/5001 [02:27<00:49, 25.93it/s]"
     ]
    },
    {
     "name": "stdout",
     "output_type": "stream",
     "text": [
      "Iteration: 3706 | disc_loss: -0.7402345538139343 | gen_loss: 0.08146458864212036\n",
      "Iteration: 3707 | disc_loss: -0.6027529239654541 | gen_loss: 0.010255590081214905\n",
      "Iteration: 3708 | disc_loss: -0.8321036696434021 | gen_loss: -0.012168914079666138\n",
      "Iteration: 3709 | disc_loss: -0.45043516159057617 | gen_loss: 0.588559091091156\n",
      "Iteration: 3710 | disc_loss: -0.7918042540550232 | gen_loss: 0.13064810633659363\n",
      "Iteration: 3711 | disc_loss: -0.7713184952735901 | gen_loss: 0.282831072807312\n"
     ]
    },
    {
     "name": "stderr",
     "output_type": "stream",
     "text": [
      " 74%|███████▍  | 3716/5001 [02:27<00:48, 26.23it/s]"
     ]
    },
    {
     "name": "stdout",
     "output_type": "stream",
     "text": [
      "Iteration: 3712 | disc_loss: -0.7232179641723633 | gen_loss: 0.3338139057159424\n",
      "Iteration: 3713 | disc_loss: -0.6981726884841919 | gen_loss: 0.2006910741329193\n",
      "Iteration: 3714 | disc_loss: -0.6309144496917725 | gen_loss: 0.12685997784137726\n",
      "Iteration: 3715 | disc_loss: -0.6398220062255859 | gen_loss: 0.25625771284103394\n",
      "Iteration: 3716 | disc_loss: -0.9438509345054626 | gen_loss: 0.4658578634262085\n",
      "Iteration: 3717 | disc_loss: -0.6992322206497192 | gen_loss: 0.2037736177444458\n"
     ]
    },
    {
     "name": "stderr",
     "output_type": "stream",
     "text": [
      " 74%|███████▍  | 3722/5001 [02:27<00:50, 25.22it/s]"
     ]
    },
    {
     "name": "stdout",
     "output_type": "stream",
     "text": [
      "Iteration: 3718 | disc_loss: -0.5880953073501587 | gen_loss: 0.12977635860443115\n",
      "Iteration: 3719 | disc_loss: -0.98405921459198 | gen_loss: 0.07375646382570267\n",
      "Iteration: 3720 | disc_loss: -0.5997930765151978 | gen_loss: 0.31274425983428955\n",
      "Iteration: 3721 | disc_loss: -1.0592749118804932 | gen_loss: 0.43564754724502563\n",
      "Iteration: 3722 | disc_loss: -1.135745644569397 | gen_loss: 0.11197443306446075\n"
     ]
    },
    {
     "name": "stderr",
     "output_type": "stream",
     "text": [
      " 75%|███████▍  | 3728/5001 [02:28<00:48, 25.99it/s]"
     ]
    },
    {
     "name": "stdout",
     "output_type": "stream",
     "text": [
      "Iteration: 3723 | disc_loss: -0.510006308555603 | gen_loss: 0.3232545256614685\n",
      "Iteration: 3724 | disc_loss: -1.136702537536621 | gen_loss: 0.09006348252296448\n",
      "Iteration: 3725 | disc_loss: -0.6054125428199768 | gen_loss: 0.14807383716106415\n",
      "Iteration: 3726 | disc_loss: -0.8004878759384155 | gen_loss: -0.09814517199993134\n",
      "Iteration: 3727 | disc_loss: -0.7742372155189514 | gen_loss: 0.4560553729534149\n",
      "Iteration: 3728 | disc_loss: -0.8833107948303223 | gen_loss: -0.09186290949583054\n"
     ]
    },
    {
     "name": "stderr",
     "output_type": "stream",
     "text": [
      " 75%|███████▍  | 3734/5001 [02:28<00:48, 26.27it/s]"
     ]
    },
    {
     "name": "stdout",
     "output_type": "stream",
     "text": [
      "Iteration: 3729 | disc_loss: -0.7632433176040649 | gen_loss: 0.14924433827400208\n",
      "Iteration: 3730 | disc_loss: -0.8472691774368286 | gen_loss: 0.2928953170776367\n",
      "Iteration: 3731 | disc_loss: -0.7219391465187073 | gen_loss: 0.25441616773605347\n",
      "Iteration: 3732 | disc_loss: -0.7793359756469727 | gen_loss: 0.3193833827972412\n",
      "Iteration: 3733 | disc_loss: -0.8556077480316162 | gen_loss: 0.37870487570762634\n",
      "Iteration: 3734 | disc_loss: -0.6771448254585266 | gen_loss: 0.10427818447351456\n"
     ]
    },
    {
     "name": "stderr",
     "output_type": "stream",
     "text": [
      " 75%|███████▍  | 3740/5001 [02:28<00:47, 26.79it/s]"
     ]
    },
    {
     "name": "stdout",
     "output_type": "stream",
     "text": [
      "Iteration: 3735 | disc_loss: -0.6743239760398865 | gen_loss: -0.3804636597633362\n",
      "Iteration: 3736 | disc_loss: -0.519890546798706 | gen_loss: -0.03836105391383171\n",
      "Iteration: 3737 | disc_loss: -0.5565477609634399 | gen_loss: 0.018961096182465553\n",
      "Iteration: 3738 | disc_loss: -0.5287880897521973 | gen_loss: 0.4423048198223114\n",
      "Iteration: 3739 | disc_loss: -0.7594794631004333 | gen_loss: 0.09573673456907272\n",
      "Iteration: 3740 | disc_loss: -1.0009939670562744 | gen_loss: 0.27830708026885986\n"
     ]
    },
    {
     "name": "stderr",
     "output_type": "stream",
     "text": [
      " 75%|███████▍  | 3746/5001 [02:28<00:46, 26.99it/s]"
     ]
    },
    {
     "name": "stdout",
     "output_type": "stream",
     "text": [
      "Iteration: 3741 | disc_loss: -0.7736474871635437 | gen_loss: 0.25832366943359375\n",
      "Iteration: 3742 | disc_loss: -0.8522340059280396 | gen_loss: 0.39069250226020813\n",
      "Iteration: 3743 | disc_loss: -0.5427044630050659 | gen_loss: 0.06339585036039352\n",
      "Iteration: 3744 | disc_loss: -0.8536192774772644 | gen_loss: 0.25235211849212646\n",
      "Iteration: 3745 | disc_loss: -0.8378561735153198 | gen_loss: 0.07173016667366028\n",
      "Iteration: 3746 | disc_loss: -0.6508672833442688 | gen_loss: 0.2138880491256714\n"
     ]
    },
    {
     "name": "stderr",
     "output_type": "stream",
     "text": [
      " 75%|███████▌  | 3752/5001 [02:29<00:46, 26.71it/s]"
     ]
    },
    {
     "name": "stdout",
     "output_type": "stream",
     "text": [
      "Iteration: 3747 | disc_loss: -0.49626415967941284 | gen_loss: 0.17646467685699463\n",
      "Iteration: 3748 | disc_loss: -0.7555811405181885 | gen_loss: 0.08738226443529129\n",
      "Iteration: 3749 | disc_loss: -0.5829724073410034 | gen_loss: 0.15590956807136536\n",
      "Iteration: 3750 | disc_loss: -0.36145761609077454 | gen_loss: 0.41703104972839355\n",
      "Iteration: 3751 | disc_loss: -0.6255965232849121 | gen_loss: 0.35121262073516846\n",
      "Iteration: 3752 | disc_loss: -0.6681406497955322 | gen_loss: 0.22192096710205078\n"
     ]
    },
    {
     "name": "stderr",
     "output_type": "stream",
     "text": [
      " 75%|███████▌  | 3758/5001 [02:29<00:46, 26.54it/s]"
     ]
    },
    {
     "name": "stdout",
     "output_type": "stream",
     "text": [
      "Iteration: 3753 | disc_loss: -0.7246555089950562 | gen_loss: 0.14834177494049072\n",
      "Iteration: 3754 | disc_loss: -0.7800220251083374 | gen_loss: 0.18810860812664032\n",
      "Iteration: 3755 | disc_loss: -0.48251524567604065 | gen_loss: 0.27294573187828064\n",
      "Iteration: 3756 | disc_loss: -0.587622880935669 | gen_loss: 0.03114285320043564\n",
      "Iteration: 3757 | disc_loss: -0.7583457231521606 | gen_loss: 0.2850129008293152\n"
     ]
    },
    {
     "name": "stderr",
     "output_type": "stream",
     "text": [
      " 75%|███████▌  | 3764/5001 [02:29<00:48, 25.45it/s]"
     ]
    },
    {
     "name": "stdout",
     "output_type": "stream",
     "text": [
      "Iteration: 3758 | disc_loss: -0.976980984210968 | gen_loss: 0.13453656435012817\n",
      "Iteration: 3759 | disc_loss: -0.871378481388092 | gen_loss: 0.15451392531394958\n",
      "Iteration: 3760 | disc_loss: -0.9358071088790894 | gen_loss: 0.01988537609577179\n",
      "Iteration: 3761 | disc_loss: -0.45040690898895264 | gen_loss: -0.07628661394119263\n",
      "Iteration: 3762 | disc_loss: -0.789171576499939 | gen_loss: 0.2260279357433319\n",
      "Iteration: 3763 | disc_loss: -0.6805692911148071 | gen_loss: -0.12618166208267212\n"
     ]
    },
    {
     "name": "stderr",
     "output_type": "stream",
     "text": [
      " 75%|███████▌  | 3770/5001 [02:29<00:47, 25.75it/s]"
     ]
    },
    {
     "name": "stdout",
     "output_type": "stream",
     "text": [
      "Iteration: 3764 | disc_loss: -0.578420102596283 | gen_loss: 0.18688973784446716\n",
      "Iteration: 3765 | disc_loss: -0.7440314292907715 | gen_loss: 0.11364719271659851\n",
      "Iteration: 3766 | disc_loss: -0.6607625484466553 | gen_loss: -0.018889769911766052\n",
      "Iteration: 3767 | disc_loss: -0.6716525554656982 | gen_loss: 0.42145225405693054\n",
      "Iteration: 3768 | disc_loss: -0.668280839920044 | gen_loss: 0.061403580009937286\n",
      "Iteration: 3769 | disc_loss: -0.6127434372901917 | gen_loss: 0.2129402458667755\n"
     ]
    },
    {
     "name": "stderr",
     "output_type": "stream",
     "text": [
      " 76%|███████▌  | 3776/5001 [02:30<00:46, 26.24it/s]"
     ]
    },
    {
     "name": "stdout",
     "output_type": "stream",
     "text": [
      "Iteration: 3770 | disc_loss: -0.6666374206542969 | gen_loss: 0.09531788527965546\n",
      "Iteration: 3771 | disc_loss: -0.9121895432472229 | gen_loss: -0.036189235746860504\n",
      "Iteration: 3772 | disc_loss: -1.275303602218628 | gen_loss: 0.03992357477545738\n",
      "Iteration: 3773 | disc_loss: -0.4183749556541443 | gen_loss: 0.02709244191646576\n",
      "Iteration: 3774 | disc_loss: -0.7442744374275208 | gen_loss: 0.07144495099782944\n",
      "Iteration: 3775 | disc_loss: -0.591320812702179 | gen_loss: -0.1305982768535614\n"
     ]
    },
    {
     "name": "stderr",
     "output_type": "stream",
     "text": [
      " 76%|███████▌  | 3782/5001 [02:30<00:45, 26.67it/s]"
     ]
    },
    {
     "name": "stdout",
     "output_type": "stream",
     "text": [
      "Iteration: 3776 | disc_loss: -0.7739901542663574 | gen_loss: 0.5510688424110413\n",
      "Iteration: 3777 | disc_loss: -0.6182057857513428 | gen_loss: 0.07041725516319275\n",
      "Iteration: 3778 | disc_loss: -0.7865611910820007 | gen_loss: 0.0070622768253088\n",
      "Iteration: 3779 | disc_loss: -0.6313276290893555 | gen_loss: -0.032844945788383484\n",
      "Iteration: 3780 | disc_loss: -0.680325448513031 | gen_loss: 0.19864851236343384\n",
      "Iteration: 3781 | disc_loss: -0.754547119140625 | gen_loss: 0.3660539984703064\n"
     ]
    },
    {
     "name": "stderr",
     "output_type": "stream",
     "text": [
      " 76%|███████▌  | 3788/5001 [02:30<00:47, 25.78it/s]"
     ]
    },
    {
     "name": "stdout",
     "output_type": "stream",
     "text": [
      "Iteration: 3782 | disc_loss: -0.5469234585762024 | gen_loss: 0.28205281496047974\n",
      "Iteration: 3783 | disc_loss: -0.9178639054298401 | gen_loss: 0.1998605579137802\n",
      "Iteration: 3784 | disc_loss: -0.4881765842437744 | gen_loss: 0.5836188793182373\n",
      "Iteration: 3785 | disc_loss: -0.31337469816207886 | gen_loss: 0.029956653714179993\n",
      "Iteration: 3786 | disc_loss: -0.5729963779449463 | gen_loss: 0.23283067345619202\n",
      "Iteration: 3787 | disc_loss: -0.6473312377929688 | gen_loss: -0.009615842252969742\n"
     ]
    },
    {
     "name": "stderr",
     "output_type": "stream",
     "text": [
      " 76%|███████▌  | 3794/5001 [02:30<00:46, 26.19it/s]"
     ]
    },
    {
     "name": "stdout",
     "output_type": "stream",
     "text": [
      "Iteration: 3788 | disc_loss: -0.5508184432983398 | gen_loss: -0.03251093626022339\n",
      "Iteration: 3789 | disc_loss: -0.7241007089614868 | gen_loss: 0.3074932396411896\n",
      "Iteration: 3790 | disc_loss: -0.777237057685852 | gen_loss: 0.19628822803497314\n",
      "Iteration: 3791 | disc_loss: -0.6741331219673157 | gen_loss: 0.2509618401527405\n",
      "Iteration: 3792 | disc_loss: -0.7100779414176941 | gen_loss: 0.12461110204458237\n",
      "Iteration: 3793 | disc_loss: -0.8274998068809509 | gen_loss: 0.16490118205547333\n"
     ]
    },
    {
     "name": "stderr",
     "output_type": "stream",
     "text": [
      " 76%|███████▌  | 3800/5001 [02:30<00:45, 26.52it/s]"
     ]
    },
    {
     "name": "stdout",
     "output_type": "stream",
     "text": [
      "Iteration: 3794 | disc_loss: -0.5477846264839172 | gen_loss: 0.42495912313461304\n",
      "Iteration: 3795 | disc_loss: -0.406276673078537 | gen_loss: 0.10525859892368317\n",
      "Iteration: 3796 | disc_loss: -0.673892617225647 | gen_loss: 0.07389504462480545\n",
      "Iteration: 3797 | disc_loss: -0.8436645269393921 | gen_loss: 0.00794202834367752\n",
      "Iteration: 3798 | disc_loss: -0.49523088335990906 | gen_loss: 0.07014963030815125\n",
      "Iteration: 3799 | disc_loss: -0.8458479046821594 | gen_loss: 0.2121478021144867\n"
     ]
    },
    {
     "name": "stderr",
     "output_type": "stream",
     "text": [
      " 76%|███████▌  | 3803/5001 [02:31<00:47, 25.29it/s]"
     ]
    },
    {
     "name": "stdout",
     "output_type": "stream",
     "text": [
      "Iteration: 3800 | disc_loss: -0.7596935629844666 | gen_loss: 0.2590174973011017\n",
      "Iteration: 3801 | disc_loss: -1.0772836208343506 | gen_loss: 0.3152041733264923\n",
      "Iteration: 3802 | disc_loss: -0.8783577680587769 | gen_loss: 0.41153502464294434\n",
      "Iteration: 3803 | disc_loss: -0.5137823820114136 | gen_loss: 0.07146458327770233\n",
      "Iteration: 3804 | disc_loss: -0.6216352581977844 | gen_loss: -0.005858931690454483\n"
     ]
    },
    {
     "name": "stderr",
     "output_type": "stream",
     "text": [
      " 76%|███████▌  | 3809/5001 [02:31<00:46, 25.67it/s]"
     ]
    },
    {
     "name": "stdout",
     "output_type": "stream",
     "text": [
      "Iteration: 3805 | disc_loss: -0.8417237401008606 | gen_loss: 0.3189573884010315\n",
      "Iteration: 3806 | disc_loss: -0.649472177028656 | gen_loss: -0.006019897758960724\n",
      "Iteration: 3807 | disc_loss: -0.7013150453567505 | gen_loss: 0.221663236618042\n",
      "Iteration: 3808 | disc_loss: -0.7942475080490112 | gen_loss: 0.20104001462459564\n",
      "Iteration: 3809 | disc_loss: -0.8192352056503296 | gen_loss: 0.09918472915887833\n",
      "Iteration: 3810 | disc_loss: -0.7200638055801392 | gen_loss: 0.21087321639060974\n"
     ]
    },
    {
     "name": "stderr",
     "output_type": "stream",
     "text": [
      " 76%|███████▋  | 3815/5001 [02:31<00:52, 22.68it/s]"
     ]
    },
    {
     "name": "stdout",
     "output_type": "stream",
     "text": [
      "Iteration: 3811 | disc_loss: -0.8663524389266968 | gen_loss: 0.017688442021608353\n",
      "Iteration: 3812 | disc_loss: -0.7928223609924316 | gen_loss: 0.23797091841697693\n",
      "Iteration: 3813 | disc_loss: -0.6157954931259155 | gen_loss: 0.3409444987773895\n",
      "Iteration: 3814 | disc_loss: -0.7483695149421692 | gen_loss: 0.13115155696868896\n",
      "Iteration: 3815 | disc_loss: -0.7874694466590881 | gen_loss: 0.11123187094926834\n"
     ]
    },
    {
     "name": "stderr",
     "output_type": "stream",
     "text": [
      " 76%|███████▋  | 3821/5001 [02:31<00:50, 23.31it/s]"
     ]
    },
    {
     "name": "stdout",
     "output_type": "stream",
     "text": [
      "Iteration: 3816 | disc_loss: -0.731520414352417 | gen_loss: 0.38424816727638245\n",
      "Iteration: 3817 | disc_loss: -0.8382470607757568 | gen_loss: 0.44417092204093933\n",
      "Iteration: 3818 | disc_loss: -0.8268275856971741 | gen_loss: 0.0047874003648757935\n",
      "Iteration: 3819 | disc_loss: -0.7256243228912354 | gen_loss: 0.07596751302480698\n",
      "Iteration: 3820 | disc_loss: -0.5008276700973511 | gen_loss: 0.26785627007484436\n",
      "Iteration: 3821 | disc_loss: -0.8391532301902771 | gen_loss: 0.10974996536970139\n"
     ]
    },
    {
     "name": "stderr",
     "output_type": "stream",
     "text": [
      " 77%|███████▋  | 3827/5001 [02:32<00:48, 24.28it/s]"
     ]
    },
    {
     "name": "stdout",
     "output_type": "stream",
     "text": [
      "Iteration: 3822 | disc_loss: -0.2482982873916626 | gen_loss: 0.4220998287200928\n",
      "Iteration: 3823 | disc_loss: -0.5998736023902893 | gen_loss: 0.09774991124868393\n",
      "Iteration: 3824 | disc_loss: -0.6855152249336243 | gen_loss: 0.43702152371406555\n",
      "Iteration: 3825 | disc_loss: -0.7668228149414062 | gen_loss: 0.14539030194282532\n",
      "Iteration: 3826 | disc_loss: -0.876297652721405 | gen_loss: 0.1954634189605713\n",
      "Iteration: 3827 | disc_loss: -0.5976042151451111 | gen_loss: 0.21543696522712708\n"
     ]
    },
    {
     "name": "stderr",
     "output_type": "stream",
     "text": [
      " 77%|███████▋  | 3833/5001 [02:32<00:47, 24.49it/s]"
     ]
    },
    {
     "name": "stdout",
     "output_type": "stream",
     "text": [
      "Iteration: 3828 | disc_loss: -0.42232757806777954 | gen_loss: 0.25275275111198425\n",
      "Iteration: 3829 | disc_loss: -0.6682789325714111 | gen_loss: 0.001636980101466179\n",
      "Iteration: 3830 | disc_loss: -0.490186870098114 | gen_loss: 0.19721148908138275\n",
      "Iteration: 3831 | disc_loss: -0.6395556926727295 | gen_loss: 0.23032961785793304\n",
      "Iteration: 3832 | disc_loss: -0.6716246604919434 | gen_loss: 0.052260011434555054\n",
      "Iteration: 3833 | disc_loss: -0.643613338470459 | gen_loss: 0.1951143443584442\n"
     ]
    },
    {
     "name": "stderr",
     "output_type": "stream",
     "text": [
      " 77%|███████▋  | 3839/5001 [02:32<00:45, 25.52it/s]"
     ]
    },
    {
     "name": "stdout",
     "output_type": "stream",
     "text": [
      "Iteration: 3834 | disc_loss: -0.6714586019515991 | gen_loss: 0.19553565979003906\n",
      "Iteration: 3835 | disc_loss: -0.6529648303985596 | gen_loss: 0.19351357221603394\n",
      "Iteration: 3836 | disc_loss: -0.47671398520469666 | gen_loss: 0.37448328733444214\n",
      "Iteration: 3837 | disc_loss: -0.8526644110679626 | gen_loss: 0.130583256483078\n",
      "Iteration: 3838 | disc_loss: -0.537535548210144 | gen_loss: 0.1428418755531311\n",
      "Iteration: 3839 | disc_loss: -0.8255531787872314 | gen_loss: 0.12616297602653503\n"
     ]
    },
    {
     "name": "stderr",
     "output_type": "stream",
     "text": [
      " 77%|███████▋  | 3845/5001 [02:32<00:44, 26.15it/s]"
     ]
    },
    {
     "name": "stdout",
     "output_type": "stream",
     "text": [
      "Iteration: 3840 | disc_loss: -0.7443346381187439 | gen_loss: 0.10350312292575836\n",
      "Iteration: 3841 | disc_loss: -0.5153900980949402 | gen_loss: 0.10590191185474396\n",
      "Iteration: 3842 | disc_loss: -0.9952265024185181 | gen_loss: 0.2458520084619522\n",
      "Iteration: 3843 | disc_loss: -0.8099820613861084 | gen_loss: 0.19710522890090942\n",
      "Iteration: 3844 | disc_loss: -0.7206321954727173 | gen_loss: -0.05823635309934616\n",
      "Iteration: 3845 | disc_loss: -0.5625653862953186 | gen_loss: 0.2554422616958618\n"
     ]
    },
    {
     "name": "stderr",
     "output_type": "stream",
     "text": [
      " 77%|███████▋  | 3851/5001 [02:33<00:43, 26.39it/s]"
     ]
    },
    {
     "name": "stdout",
     "output_type": "stream",
     "text": [
      "Iteration: 3846 | disc_loss: -0.5862259864807129 | gen_loss: 0.22789326310157776\n",
      "Iteration: 3847 | disc_loss: -0.9800003170967102 | gen_loss: 0.18575237691402435\n",
      "Iteration: 3848 | disc_loss: -0.4644968807697296 | gen_loss: 0.27570831775665283\n",
      "Iteration: 3849 | disc_loss: -0.5978062748908997 | gen_loss: 0.16082336008548737\n",
      "Iteration: 3850 | disc_loss: -0.5227538347244263 | gen_loss: 0.09706931561231613\n",
      "Iteration: 3851 | disc_loss: -0.6235337257385254 | gen_loss: 0.21087564527988434\n"
     ]
    },
    {
     "name": "stderr",
     "output_type": "stream",
     "text": [
      " 77%|███████▋  | 3857/5001 [02:33<00:43, 26.48it/s]"
     ]
    },
    {
     "name": "stdout",
     "output_type": "stream",
     "text": [
      "Iteration: 3852 | disc_loss: -0.8892244696617126 | gen_loss: 0.3441433310508728\n",
      "Iteration: 3853 | disc_loss: -0.6084365844726562 | gen_loss: -0.08640755712985992\n",
      "Iteration: 3854 | disc_loss: -0.7573658227920532 | gen_loss: 0.014574050903320312\n",
      "Iteration: 3855 | disc_loss: -0.529431939125061 | gen_loss: -0.04118846356868744\n",
      "Iteration: 3856 | disc_loss: -0.6075230836868286 | gen_loss: 0.049152761697769165\n",
      "Iteration: 3857 | disc_loss: -0.46964794397354126 | gen_loss: 0.09930650144815445\n"
     ]
    },
    {
     "name": "stderr",
     "output_type": "stream",
     "text": [
      " 77%|███████▋  | 3863/5001 [02:33<00:42, 26.57it/s]"
     ]
    },
    {
     "name": "stdout",
     "output_type": "stream",
     "text": [
      "Iteration: 3858 | disc_loss: -0.7799344658851624 | gen_loss: 0.0030214712023735046\n",
      "Iteration: 3859 | disc_loss: -0.5929763317108154 | gen_loss: 0.11654836684465408\n",
      "Iteration: 3860 | disc_loss: -0.6042518615722656 | gen_loss: 0.023366335779428482\n",
      "Iteration: 3861 | disc_loss: -0.8425350785255432 | gen_loss: 0.08865386247634888\n",
      "Iteration: 3862 | disc_loss: -0.7404213547706604 | gen_loss: 0.02349468320608139\n",
      "Iteration: 3863 | disc_loss: -0.7232263088226318 | gen_loss: -0.0744543969631195\n"
     ]
    },
    {
     "name": "stderr",
     "output_type": "stream",
     "text": [
      " 77%|███████▋  | 3869/5001 [02:33<00:43, 26.30it/s]"
     ]
    },
    {
     "name": "stdout",
     "output_type": "stream",
     "text": [
      "Iteration: 3864 | disc_loss: -0.5824378728866577 | gen_loss: 0.15961802005767822\n",
      "Iteration: 3865 | disc_loss: -0.49521172046661377 | gen_loss: -0.01917182467877865\n",
      "Iteration: 3866 | disc_loss: -0.5642312169075012 | gen_loss: 0.13814957439899445\n",
      "Iteration: 3867 | disc_loss: -0.8907911777496338 | gen_loss: 0.13514870405197144\n",
      "Iteration: 3868 | disc_loss: -0.8039402961730957 | gen_loss: 0.09955170750617981\n",
      "Iteration: 3869 | disc_loss: -0.6564986705780029 | gen_loss: 0.1015486791729927\n"
     ]
    },
    {
     "name": "stderr",
     "output_type": "stream",
     "text": [
      " 77%|███████▋  | 3875/5001 [02:33<00:42, 26.66it/s]"
     ]
    },
    {
     "name": "stdout",
     "output_type": "stream",
     "text": [
      "Iteration: 3870 | disc_loss: -0.7209776639938354 | gen_loss: 0.2963101267814636\n",
      "Iteration: 3871 | disc_loss: -0.7235010266304016 | gen_loss: 0.057996928691864014\n",
      "Iteration: 3872 | disc_loss: -0.8139923810958862 | gen_loss: 0.20989245176315308\n",
      "Iteration: 3873 | disc_loss: -0.8232160806655884 | gen_loss: 0.12174685299396515\n",
      "Iteration: 3874 | disc_loss: -0.681341290473938 | gen_loss: 0.181969553232193\n",
      "Iteration: 3875 | disc_loss: -0.721804141998291 | gen_loss: -0.2107708901166916\n"
     ]
    },
    {
     "name": "stderr",
     "output_type": "stream",
     "text": [
      " 78%|███████▊  | 3881/5001 [02:34<00:42, 26.48it/s]"
     ]
    },
    {
     "name": "stdout",
     "output_type": "stream",
     "text": [
      "Iteration: 3876 | disc_loss: -0.8601782917976379 | gen_loss: -0.14245164394378662\n",
      "Iteration: 3877 | disc_loss: -0.7068235874176025 | gen_loss: 0.30079713463783264\n",
      "Iteration: 3878 | disc_loss: -0.706750750541687 | gen_loss: 0.08221094310283661\n",
      "Iteration: 3879 | disc_loss: -0.7011378407478333 | gen_loss: 0.14790946245193481\n",
      "Iteration: 3880 | disc_loss: -0.7609547972679138 | gen_loss: 0.02495216578245163\n",
      "Iteration: 3881 | disc_loss: -0.41244131326675415 | gen_loss: 0.14078335464000702\n"
     ]
    },
    {
     "name": "stderr",
     "output_type": "stream",
     "text": [
      " 78%|███████▊  | 3887/5001 [02:34<00:41, 26.70it/s]"
     ]
    },
    {
     "name": "stdout",
     "output_type": "stream",
     "text": [
      "Iteration: 3882 | disc_loss: -0.8109122514724731 | gen_loss: 0.02070816606283188\n",
      "Iteration: 3883 | disc_loss: -0.9148462414741516 | gen_loss: 0.16200624406337738\n",
      "Iteration: 3884 | disc_loss: -0.6898618936538696 | gen_loss: -0.2068985551595688\n",
      "Iteration: 3885 | disc_loss: -0.8329557180404663 | gen_loss: 0.09894479066133499\n",
      "Iteration: 3886 | disc_loss: -0.7235600352287292 | gen_loss: 0.2765805423259735\n",
      "Iteration: 3887 | disc_loss: -0.5769004225730896 | gen_loss: 0.2645084261894226\n"
     ]
    },
    {
     "name": "stderr",
     "output_type": "stream",
     "text": [
      " 78%|███████▊  | 3893/5001 [02:34<00:41, 26.72it/s]"
     ]
    },
    {
     "name": "stdout",
     "output_type": "stream",
     "text": [
      "Iteration: 3888 | disc_loss: -0.9743078947067261 | gen_loss: 0.07319270074367523\n",
      "Iteration: 3889 | disc_loss: -0.4965008497238159 | gen_loss: 0.2521241307258606\n",
      "Iteration: 3890 | disc_loss: -0.7698765993118286 | gen_loss: -0.1393798440694809\n",
      "Iteration: 3891 | disc_loss: -0.8978580832481384 | gen_loss: 0.192292258143425\n",
      "Iteration: 3892 | disc_loss: -0.5583146214485168 | gen_loss: 0.17887087166309357\n",
      "Iteration: 3893 | disc_loss: -0.7204754948616028 | gen_loss: -0.05446946248412132\n"
     ]
    },
    {
     "name": "stderr",
     "output_type": "stream",
     "text": [
      " 78%|███████▊  | 3899/5001 [02:34<00:41, 26.72it/s]"
     ]
    },
    {
     "name": "stdout",
     "output_type": "stream",
     "text": [
      "Iteration: 3894 | disc_loss: -0.695683479309082 | gen_loss: 0.294524610042572\n",
      "Iteration: 3895 | disc_loss: -0.676693856716156 | gen_loss: -0.1366448849439621\n",
      "Iteration: 3896 | disc_loss: -0.520672082901001 | gen_loss: -0.2337549328804016\n",
      "Iteration: 3897 | disc_loss: -0.7579628825187683 | gen_loss: 0.030875246971845627\n",
      "Iteration: 3898 | disc_loss: -0.989249050617218 | gen_loss: -0.03978281468153\n",
      "Iteration: 3899 | disc_loss: -0.6978814005851746 | gen_loss: -0.1717820018529892\n"
     ]
    },
    {
     "name": "stderr",
     "output_type": "stream",
     "text": [
      " 78%|███████▊  | 3905/5001 [02:35<00:41, 26.64it/s]"
     ]
    },
    {
     "name": "stdout",
     "output_type": "stream",
     "text": [
      "Iteration: 3900 | disc_loss: -0.8972927331924438 | gen_loss: 0.1539914309978485\n",
      "Iteration: 3901 | disc_loss: -0.5105770826339722 | gen_loss: -0.041417211294174194\n",
      "Iteration: 3902 | disc_loss: -0.9233547449111938 | gen_loss: 0.13293004035949707\n",
      "Iteration: 3903 | disc_loss: -0.855766773223877 | gen_loss: 0.12195825576782227\n",
      "Iteration: 3904 | disc_loss: -0.5009605884552002 | gen_loss: 0.16180364787578583\n",
      "Iteration: 3905 | disc_loss: -0.9222415089607239 | gen_loss: 0.10128206014633179\n"
     ]
    },
    {
     "name": "stderr",
     "output_type": "stream",
     "text": [
      " 78%|███████▊  | 3911/5001 [02:35<00:43, 25.22it/s]"
     ]
    },
    {
     "name": "stdout",
     "output_type": "stream",
     "text": [
      "Iteration: 3906 | disc_loss: -0.5990254282951355 | gen_loss: -0.23942789435386658\n",
      "Iteration: 3907 | disc_loss: -0.7524930834770203 | gen_loss: 0.21817418932914734\n",
      "Iteration: 3908 | disc_loss: -0.3944716155529022 | gen_loss: 0.09402967989444733\n",
      "Iteration: 3909 | disc_loss: -0.5689308047294617 | gen_loss: 0.06773940473794937\n",
      "Iteration: 3910 | disc_loss: -0.5810645222663879 | gen_loss: 0.21079424023628235\n",
      "Iteration: 3911 | disc_loss: -0.6564555764198303 | gen_loss: 0.2367849349975586\n"
     ]
    },
    {
     "name": "stderr",
     "output_type": "stream",
     "text": [
      " 78%|███████▊  | 3917/5001 [02:35<00:41, 26.04it/s]"
     ]
    },
    {
     "name": "stdout",
     "output_type": "stream",
     "text": [
      "Iteration: 3912 | disc_loss: -0.6742556095123291 | gen_loss: -0.039153069257736206\n",
      "Iteration: 3913 | disc_loss: -0.6104990243911743 | gen_loss: 0.4135345220565796\n",
      "Iteration: 3914 | disc_loss: -0.6639779806137085 | gen_loss: 0.2432517111301422\n",
      "Iteration: 3915 | disc_loss: -0.5293209552764893 | gen_loss: 0.07138878107070923\n",
      "Iteration: 3916 | disc_loss: -1.0791237354278564 | gen_loss: 0.0798078328371048\n",
      "Iteration: 3917 | disc_loss: -0.6753536462783813 | gen_loss: 0.25356245040893555\n"
     ]
    },
    {
     "name": "stderr",
     "output_type": "stream",
     "text": [
      " 78%|███████▊  | 3923/5001 [02:35<00:41, 26.07it/s]"
     ]
    },
    {
     "name": "stdout",
     "output_type": "stream",
     "text": [
      "Iteration: 3918 | disc_loss: -0.7189940810203552 | gen_loss: 0.023899544030427933\n",
      "Iteration: 3919 | disc_loss: -0.7839043140411377 | gen_loss: 0.14641861617565155\n",
      "Iteration: 3920 | disc_loss: -0.8049120306968689 | gen_loss: -0.06743894517421722\n",
      "Iteration: 3921 | disc_loss: -0.6748242974281311 | gen_loss: -0.040476761758327484\n",
      "Iteration: 3922 | disc_loss: -0.4305260479450226 | gen_loss: 0.06607140600681305\n",
      "Iteration: 3923 | disc_loss: -0.8527466058731079 | gen_loss: -0.05727086216211319\n"
     ]
    },
    {
     "name": "stderr",
     "output_type": "stream",
     "text": [
      " 79%|███████▊  | 3929/5001 [02:35<00:40, 26.28it/s]"
     ]
    },
    {
     "name": "stdout",
     "output_type": "stream",
     "text": [
      "Iteration: 3924 | disc_loss: -0.4639745354652405 | gen_loss: -0.07082819193601608\n",
      "Iteration: 3925 | disc_loss: -0.2805883288383484 | gen_loss: -0.079112209379673\n",
      "Iteration: 3926 | disc_loss: -0.45788270235061646 | gen_loss: 0.0026626791805028915\n",
      "Iteration: 3927 | disc_loss: -0.7294244170188904 | gen_loss: -0.10625523328781128\n",
      "Iteration: 3928 | disc_loss: -0.535484790802002 | gen_loss: 0.056241296231746674\n",
      "Iteration: 3929 | disc_loss: -0.8089250922203064 | gen_loss: 0.2407074272632599\n"
     ]
    },
    {
     "name": "stderr",
     "output_type": "stream",
     "text": [
      " 79%|███████▊  | 3935/5001 [02:36<00:40, 26.30it/s]"
     ]
    },
    {
     "name": "stdout",
     "output_type": "stream",
     "text": [
      "Iteration: 3930 | disc_loss: -0.7336084842681885 | gen_loss: 0.04777894914150238\n",
      "Iteration: 3931 | disc_loss: -0.7558279037475586 | gen_loss: 0.1512395441532135\n",
      "Iteration: 3932 | disc_loss: -0.9158786535263062 | gen_loss: 0.07073566317558289\n",
      "Iteration: 3933 | disc_loss: -0.5510786175727844 | gen_loss: 0.15938600897789001\n",
      "Iteration: 3934 | disc_loss: -1.2082489728927612 | gen_loss: 0.3128398060798645\n",
      "Iteration: 3935 | disc_loss: -0.2699553668498993 | gen_loss: 0.29894503951072693\n"
     ]
    },
    {
     "name": "stderr",
     "output_type": "stream",
     "text": [
      " 79%|███████▉  | 3941/5001 [02:36<00:40, 26.27it/s]"
     ]
    },
    {
     "name": "stdout",
     "output_type": "stream",
     "text": [
      "Iteration: 3936 | disc_loss: -0.7714852690696716 | gen_loss: -0.0735565721988678\n",
      "Iteration: 3937 | disc_loss: -0.8725220561027527 | gen_loss: -0.32537519931793213\n",
      "Iteration: 3938 | disc_loss: -0.7656007409095764 | gen_loss: -0.08023214340209961\n",
      "Iteration: 3939 | disc_loss: -0.48844772577285767 | gen_loss: -0.18990814685821533\n",
      "Iteration: 3940 | disc_loss: -0.7547341585159302 | gen_loss: 0.11847853660583496\n",
      "Iteration: 3941 | disc_loss: -0.5779477953910828 | gen_loss: 0.1616567075252533\n"
     ]
    },
    {
     "name": "stderr",
     "output_type": "stream",
     "text": [
      " 79%|███████▉  | 3947/5001 [02:36<00:40, 26.28it/s]"
     ]
    },
    {
     "name": "stdout",
     "output_type": "stream",
     "text": [
      "Iteration: 3942 | disc_loss: -0.5124690532684326 | gen_loss: 0.025879764929413795\n",
      "Iteration: 3943 | disc_loss: -0.8239486217498779 | gen_loss: -0.010073535144329071\n",
      "Iteration: 3944 | disc_loss: -0.6550818681716919 | gen_loss: -0.10999499261379242\n",
      "Iteration: 3945 | disc_loss: -1.0490413904190063 | gen_loss: -0.07253566384315491\n",
      "Iteration: 3946 | disc_loss: -0.5116242170333862 | gen_loss: 0.3234665095806122\n",
      "Iteration: 3947 | disc_loss: -0.6873687505722046 | gen_loss: -0.03124946355819702\n"
     ]
    },
    {
     "name": "stderr",
     "output_type": "stream",
     "text": [
      " 79%|███████▉  | 3953/5001 [02:36<00:40, 26.16it/s]"
     ]
    },
    {
     "name": "stdout",
     "output_type": "stream",
     "text": [
      "Iteration: 3948 | disc_loss: -0.7954939603805542 | gen_loss: -0.002833101898431778\n",
      "Iteration: 3949 | disc_loss: -0.12361103296279907 | gen_loss: 0.20346210896968842\n",
      "Iteration: 3950 | disc_loss: -0.9629590511322021 | gen_loss: 0.26132825016975403\n",
      "Iteration: 3951 | disc_loss: -0.7080969214439392 | gen_loss: 0.05166003108024597\n",
      "Iteration: 3952 | disc_loss: -0.6006829142570496 | gen_loss: 0.30940794944763184\n",
      "Iteration: 3953 | disc_loss: -0.8818561434745789 | gen_loss: 0.2774902582168579\n"
     ]
    },
    {
     "name": "stderr",
     "output_type": "stream",
     "text": [
      " 79%|███████▉  | 3959/5001 [02:37<00:39, 26.51it/s]"
     ]
    },
    {
     "name": "stdout",
     "output_type": "stream",
     "text": [
      "Iteration: 3954 | disc_loss: -0.7797598838806152 | gen_loss: 0.021445952355861664\n",
      "Iteration: 3955 | disc_loss: -0.44129347801208496 | gen_loss: 0.140652596950531\n",
      "Iteration: 3956 | disc_loss: -0.59824538230896 | gen_loss: -0.1071801409125328\n",
      "Iteration: 3957 | disc_loss: -0.7990230321884155 | gen_loss: 0.05865210294723511\n",
      "Iteration: 3958 | disc_loss: -0.488904744386673 | gen_loss: -0.16082140803337097\n",
      "Iteration: 3959 | disc_loss: -0.6591648459434509 | gen_loss: -0.012578021734952927\n"
     ]
    },
    {
     "name": "stderr",
     "output_type": "stream",
     "text": [
      " 79%|███████▉  | 3965/5001 [02:37<00:39, 26.56it/s]"
     ]
    },
    {
     "name": "stdout",
     "output_type": "stream",
     "text": [
      "Iteration: 3960 | disc_loss: -0.7911442518234253 | gen_loss: 0.15211567282676697\n",
      "Iteration: 3961 | disc_loss: -0.7171637415885925 | gen_loss: 0.2221422791481018\n",
      "Iteration: 3962 | disc_loss: -0.5529541373252869 | gen_loss: -0.08769384026527405\n",
      "Iteration: 3963 | disc_loss: -0.808869481086731 | gen_loss: 0.10905292630195618\n",
      "Iteration: 3964 | disc_loss: -0.7592921853065491 | gen_loss: -0.22469237446784973\n",
      "Iteration: 3965 | disc_loss: -0.729196310043335 | gen_loss: 0.05256332457065582\n"
     ]
    },
    {
     "name": "stderr",
     "output_type": "stream",
     "text": [
      " 79%|███████▉  | 3971/5001 [02:37<00:38, 26.45it/s]"
     ]
    },
    {
     "name": "stdout",
     "output_type": "stream",
     "text": [
      "Iteration: 3966 | disc_loss: -0.6443691849708557 | gen_loss: 0.2310771942138672\n",
      "Iteration: 3967 | disc_loss: -0.386478990316391 | gen_loss: 0.10463699698448181\n",
      "Iteration: 3968 | disc_loss: -0.4077150225639343 | gen_loss: 0.5829468965530396\n",
      "Iteration: 3969 | disc_loss: -0.6594460606575012 | gen_loss: 0.39502277970314026\n",
      "Iteration: 3970 | disc_loss: -0.6760052442550659 | gen_loss: -0.0016210079193115234\n",
      "Iteration: 3971 | disc_loss: -0.47225162386894226 | gen_loss: 0.016149956732988358\n"
     ]
    },
    {
     "name": "stderr",
     "output_type": "stream",
     "text": [
      " 80%|███████▉  | 3977/5001 [02:37<00:38, 26.40it/s]"
     ]
    },
    {
     "name": "stdout",
     "output_type": "stream",
     "text": [
      "Iteration: 3972 | disc_loss: -0.8299810290336609 | gen_loss: 0.22840961813926697\n",
      "Iteration: 3973 | disc_loss: -0.5530588626861572 | gen_loss: -0.07104024291038513\n",
      "Iteration: 3974 | disc_loss: -0.6445081830024719 | gen_loss: 0.14171920716762543\n",
      "Iteration: 3975 | disc_loss: -0.6402720212936401 | gen_loss: 0.18418541550636292\n",
      "Iteration: 3976 | disc_loss: -0.8959505558013916 | gen_loss: 0.06763186305761337\n",
      "Iteration: 3977 | disc_loss: -0.7909868359565735 | gen_loss: 0.05415710061788559\n"
     ]
    },
    {
     "name": "stderr",
     "output_type": "stream",
     "text": [
      " 80%|███████▉  | 3983/5001 [02:38<00:37, 26.88it/s]"
     ]
    },
    {
     "name": "stdout",
     "output_type": "stream",
     "text": [
      "Iteration: 3978 | disc_loss: -0.6869487762451172 | gen_loss: 0.011005636304616928\n",
      "Iteration: 3979 | disc_loss: -0.6534820795059204 | gen_loss: 0.05685536190867424\n",
      "Iteration: 3980 | disc_loss: -0.5946840047836304 | gen_loss: 0.24847473204135895\n",
      "Iteration: 3981 | disc_loss: -0.6327841877937317 | gen_loss: 0.1830819696187973\n",
      "Iteration: 3982 | disc_loss: -0.46811679005622864 | gen_loss: 0.04735022783279419\n",
      "Iteration: 3983 | disc_loss: -0.7348122596740723 | gen_loss: -0.051785580813884735\n"
     ]
    },
    {
     "name": "stderr",
     "output_type": "stream",
     "text": [
      " 80%|███████▉  | 3989/5001 [02:38<00:37, 26.83it/s]"
     ]
    },
    {
     "name": "stdout",
     "output_type": "stream",
     "text": [
      "Iteration: 3984 | disc_loss: -0.8861834406852722 | gen_loss: 0.15187415480613708\n",
      "Iteration: 3985 | disc_loss: -0.7259820103645325 | gen_loss: -0.10342660546302795\n",
      "Iteration: 3986 | disc_loss: -0.5204989910125732 | gen_loss: 0.004404127597808838\n",
      "Iteration: 3987 | disc_loss: -0.6852651834487915 | gen_loss: 0.14085376262664795\n",
      "Iteration: 3988 | disc_loss: -0.851084291934967 | gen_loss: -0.05562613531947136\n",
      "Iteration: 3989 | disc_loss: -0.3089555501937866 | gen_loss: 0.12234204262495041\n"
     ]
    },
    {
     "name": "stderr",
     "output_type": "stream",
     "text": [
      " 80%|███████▉  | 3995/5001 [02:38<00:37, 27.05it/s]"
     ]
    },
    {
     "name": "stdout",
     "output_type": "stream",
     "text": [
      "Iteration: 3990 | disc_loss: -0.4561052918434143 | gen_loss: 0.008739960379898548\n",
      "Iteration: 3991 | disc_loss: -0.6095757484436035 | gen_loss: 0.32229912281036377\n",
      "Iteration: 3992 | disc_loss: -0.7078287601470947 | gen_loss: 0.25187817215919495\n",
      "Iteration: 3993 | disc_loss: -0.679419755935669 | gen_loss: 0.047085124999284744\n",
      "Iteration: 3994 | disc_loss: -0.7511184811592102 | gen_loss: 0.06380344927310944\n",
      "Iteration: 3995 | disc_loss: -0.7360091209411621 | gen_loss: 0.11110704392194748\n"
     ]
    },
    {
     "name": "stderr",
     "output_type": "stream",
     "text": [
      " 80%|████████  | 4001/5001 [02:38<00:38, 25.67it/s]"
     ]
    },
    {
     "name": "stdout",
     "output_type": "stream",
     "text": [
      "Iteration: 3996 | disc_loss: -0.6797343492507935 | gen_loss: -0.2207084745168686\n",
      "Iteration: 3997 | disc_loss: -0.8423174023628235 | gen_loss: -0.19214770197868347\n",
      "Iteration: 3998 | disc_loss: -0.7603539824485779 | gen_loss: -0.16458235681056976\n",
      "Iteration: 3999 | disc_loss: -0.7484865784645081 | gen_loss: 0.27320340275764465\n",
      "Iteration: 4000 | disc_loss: -0.51432865858078 | gen_loss: 0.10702604055404663\n",
      "Iteration: 4001 | disc_loss: -0.6584432125091553 | gen_loss: 0.013132356107234955\n"
     ]
    },
    {
     "name": "stderr",
     "output_type": "stream",
     "text": [
      " 80%|████████  | 4007/5001 [02:38<00:37, 26.38it/s]"
     ]
    },
    {
     "name": "stdout",
     "output_type": "stream",
     "text": [
      "Iteration: 4002 | disc_loss: -0.8363195657730103 | gen_loss: 0.10222397744655609\n",
      "Iteration: 4003 | disc_loss: -0.6295294761657715 | gen_loss: 0.1290884166955948\n",
      "Iteration: 4004 | disc_loss: -0.6655935645103455 | gen_loss: -0.10542264580726624\n",
      "Iteration: 4005 | disc_loss: -0.7265403866767883 | gen_loss: -0.04368605464696884\n",
      "Iteration: 4006 | disc_loss: -0.5279832482337952 | gen_loss: 0.36714237928390503\n",
      "Iteration: 4007 | disc_loss: -0.5392559766769409 | gen_loss: 0.04403645172715187\n"
     ]
    },
    {
     "name": "stderr",
     "output_type": "stream",
     "text": [
      " 80%|████████  | 4013/5001 [02:39<00:38, 25.70it/s]"
     ]
    },
    {
     "name": "stdout",
     "output_type": "stream",
     "text": [
      "Iteration: 4008 | disc_loss: -0.8966495394706726 | gen_loss: 0.13879162073135376\n",
      "Iteration: 4009 | disc_loss: -0.7782498598098755 | gen_loss: 0.07597633451223373\n",
      "Iteration: 4010 | disc_loss: -0.5573440790176392 | gen_loss: -0.14015871286392212\n",
      "Iteration: 4011 | disc_loss: -0.695859432220459 | gen_loss: 0.20293238759040833\n",
      "Iteration: 4012 | disc_loss: -0.3973392844200134 | gen_loss: -0.1555890589952469\n",
      "Iteration: 4013 | disc_loss: -0.5655328631401062 | gen_loss: -0.06319893896579742\n"
     ]
    },
    {
     "name": "stderr",
     "output_type": "stream",
     "text": [
      " 80%|████████  | 4019/5001 [02:39<00:38, 25.68it/s]"
     ]
    },
    {
     "name": "stdout",
     "output_type": "stream",
     "text": [
      "Iteration: 4014 | disc_loss: -0.56493079662323 | gen_loss: 0.164496049284935\n",
      "Iteration: 4015 | disc_loss: -0.8126725554466248 | gen_loss: -0.05515582859516144\n",
      "Iteration: 4016 | disc_loss: -0.6414339542388916 | gen_loss: 0.15216998755931854\n",
      "Iteration: 4017 | disc_loss: -0.9526383280754089 | gen_loss: 0.41079139709472656\n",
      "Iteration: 4018 | disc_loss: -0.47289979457855225 | gen_loss: -0.0698813796043396\n",
      "Iteration: 4019 | disc_loss: -0.5790614485740662 | gen_loss: 0.12931838631629944\n"
     ]
    },
    {
     "name": "stderr",
     "output_type": "stream",
     "text": [
      " 80%|████████  | 4025/5001 [02:39<00:37, 25.89it/s]"
     ]
    },
    {
     "name": "stdout",
     "output_type": "stream",
     "text": [
      "Iteration: 4020 | disc_loss: -0.20630866289138794 | gen_loss: -0.004803620278835297\n",
      "Iteration: 4021 | disc_loss: -0.7565515637397766 | gen_loss: 0.06122593209147453\n",
      "Iteration: 4022 | disc_loss: -0.36701178550720215 | gen_loss: 0.07032164186239243\n",
      "Iteration: 4023 | disc_loss: -0.7253912687301636 | gen_loss: 0.6226144433021545\n",
      "Iteration: 4024 | disc_loss: -0.8071759343147278 | gen_loss: 0.04703859984874725\n",
      "Iteration: 4025 | disc_loss: -0.6014124155044556 | gen_loss: 0.10406874865293503\n"
     ]
    },
    {
     "name": "stderr",
     "output_type": "stream",
     "text": [
      " 81%|████████  | 4031/5001 [02:39<00:36, 26.31it/s]"
     ]
    },
    {
     "name": "stdout",
     "output_type": "stream",
     "text": [
      "Iteration: 4026 | disc_loss: -0.8170974850654602 | gen_loss: -0.32535821199417114\n",
      "Iteration: 4027 | disc_loss: -0.8154075145721436 | gen_loss: 0.08310596644878387\n",
      "Iteration: 4028 | disc_loss: -0.944641649723053 | gen_loss: 0.047272566705942154\n",
      "Iteration: 4029 | disc_loss: -0.5280813574790955 | gen_loss: 0.33512067794799805\n",
      "Iteration: 4030 | disc_loss: -0.8040306568145752 | gen_loss: 0.47840601205825806\n",
      "Iteration: 4031 | disc_loss: -0.6671848297119141 | gen_loss: 0.06024719774723053\n"
     ]
    },
    {
     "name": "stderr",
     "output_type": "stream",
     "text": [
      " 81%|████████  | 4037/5001 [02:40<00:36, 26.33it/s]"
     ]
    },
    {
     "name": "stdout",
     "output_type": "stream",
     "text": [
      "Iteration: 4032 | disc_loss: -0.6952794790267944 | gen_loss: 0.4588356018066406\n",
      "Iteration: 4033 | disc_loss: -0.4858660399913788 | gen_loss: 0.20532020926475525\n",
      "Iteration: 4034 | disc_loss: -0.6527971029281616 | gen_loss: -0.004980631172657013\n",
      "Iteration: 4035 | disc_loss: -0.7157580256462097 | gen_loss: -0.0153731107711792\n",
      "Iteration: 4036 | disc_loss: -0.7635453939437866 | gen_loss: 0.02929391898214817\n",
      "Iteration: 4037 | disc_loss: -0.5119708776473999 | gen_loss: 0.17866259813308716\n"
     ]
    },
    {
     "name": "stderr",
     "output_type": "stream",
     "text": [
      " 81%|████████  | 4043/5001 [02:40<00:36, 26.55it/s]"
     ]
    },
    {
     "name": "stdout",
     "output_type": "stream",
     "text": [
      "Iteration: 4038 | disc_loss: -0.9857653975486755 | gen_loss: 0.3713831901550293\n",
      "Iteration: 4039 | disc_loss: -0.7561506628990173 | gen_loss: -0.030114158987998962\n",
      "Iteration: 4040 | disc_loss: -0.7151113152503967 | gen_loss: 0.20960551500320435\n",
      "Iteration: 4041 | disc_loss: -0.5896639227867126 | gen_loss: 0.5983268618583679\n",
      "Iteration: 4042 | disc_loss: -0.746294379234314 | gen_loss: 0.05401334911584854\n",
      "Iteration: 4043 | disc_loss: -0.8509426116943359 | gen_loss: 0.12332749366760254\n"
     ]
    },
    {
     "name": "stderr",
     "output_type": "stream",
     "text": [
      " 81%|████████  | 4049/5001 [02:40<00:38, 24.85it/s]"
     ]
    },
    {
     "name": "stdout",
     "output_type": "stream",
     "text": [
      "Iteration: 4044 | disc_loss: -0.43897879123687744 | gen_loss: 0.1866028606891632\n",
      "Iteration: 4045 | disc_loss: -0.45415157079696655 | gen_loss: 0.33539971709251404\n",
      "Iteration: 4046 | disc_loss: -0.8370866179466248 | gen_loss: 0.39459913969039917\n",
      "Iteration: 4047 | disc_loss: -0.6877239942550659 | gen_loss: 0.1420501172542572\n",
      "Iteration: 4048 | disc_loss: -0.8887665867805481 | gen_loss: 0.09678877145051956\n"
     ]
    },
    {
     "name": "stderr",
     "output_type": "stream",
     "text": [
      " 81%|████████  | 4055/5001 [02:40<00:36, 25.68it/s]"
     ]
    },
    {
     "name": "stdout",
     "output_type": "stream",
     "text": [
      "Iteration: 4049 | disc_loss: -0.6258765459060669 | gen_loss: 0.04513078182935715\n",
      "Iteration: 4050 | disc_loss: -0.3729371726512909 | gen_loss: -0.09233514964580536\n",
      "Iteration: 4051 | disc_loss: -0.7551775574684143 | gen_loss: 0.03036562353372574\n",
      "Iteration: 4052 | disc_loss: -0.7392323613166809 | gen_loss: 0.11221441626548767\n",
      "Iteration: 4053 | disc_loss: -0.8318233489990234 | gen_loss: 0.2737126350402832\n",
      "Iteration: 4054 | disc_loss: -0.8160889148712158 | gen_loss: -0.012930832803249359\n"
     ]
    },
    {
     "name": "stderr",
     "output_type": "stream",
     "text": [
      " 81%|████████  | 4061/5001 [02:41<00:36, 26.11it/s]"
     ]
    },
    {
     "name": "stdout",
     "output_type": "stream",
     "text": [
      "Iteration: 4055 | disc_loss: -0.7178921103477478 | gen_loss: 0.1706281304359436\n",
      "Iteration: 4056 | disc_loss: -0.31218674778938293 | gen_loss: -0.13195088505744934\n",
      "Iteration: 4057 | disc_loss: -0.7366681098937988 | gen_loss: 0.06025288999080658\n",
      "Iteration: 4058 | disc_loss: -0.35643064975738525 | gen_loss: 0.1535477489233017\n",
      "Iteration: 4059 | disc_loss: -0.4886443614959717 | gen_loss: 0.1369086056947708\n",
      "Iteration: 4060 | disc_loss: -0.6709405183792114 | gen_loss: -0.04371173679828644\n"
     ]
    },
    {
     "name": "stderr",
     "output_type": "stream",
     "text": [
      " 81%|████████▏ | 4067/5001 [02:41<00:35, 26.33it/s]"
     ]
    },
    {
     "name": "stdout",
     "output_type": "stream",
     "text": [
      "Iteration: 4061 | disc_loss: -0.7625359296798706 | gen_loss: 0.041529230773448944\n",
      "Iteration: 4062 | disc_loss: -0.7157772779464722 | gen_loss: 0.14175549149513245\n",
      "Iteration: 4063 | disc_loss: -0.5920601487159729 | gen_loss: 0.301342636346817\n",
      "Iteration: 4064 | disc_loss: -0.527574896812439 | gen_loss: 0.06841780990362167\n",
      "Iteration: 4065 | disc_loss: -0.5911605358123779 | gen_loss: 0.04916449263691902\n",
      "Iteration: 4066 | disc_loss: -0.7630513906478882 | gen_loss: 0.11625063419342041\n"
     ]
    },
    {
     "name": "stderr",
     "output_type": "stream",
     "text": [
      " 81%|████████▏ | 4073/5001 [02:41<00:35, 26.32it/s]"
     ]
    },
    {
     "name": "stdout",
     "output_type": "stream",
     "text": [
      "Iteration: 4067 | disc_loss: -0.9725094437599182 | gen_loss: -0.20025132596492767\n",
      "Iteration: 4068 | disc_loss: -0.6047808527946472 | gen_loss: -0.016969114542007446\n",
      "Iteration: 4069 | disc_loss: -0.6779274940490723 | gen_loss: -0.04457266628742218\n",
      "Iteration: 4070 | disc_loss: -0.6854601502418518 | gen_loss: -0.0747339278459549\n",
      "Iteration: 4071 | disc_loss: -0.6171293258666992 | gen_loss: 0.1285802572965622\n",
      "Iteration: 4072 | disc_loss: -0.6259421110153198 | gen_loss: 0.3029300570487976\n"
     ]
    },
    {
     "name": "stderr",
     "output_type": "stream",
     "text": [
      " 82%|████████▏ | 4079/5001 [02:41<00:35, 26.23it/s]"
     ]
    },
    {
     "name": "stdout",
     "output_type": "stream",
     "text": [
      "Iteration: 4073 | disc_loss: -0.6538807153701782 | gen_loss: 0.24463044106960297\n",
      "Iteration: 4074 | disc_loss: -0.5013264417648315 | gen_loss: 0.09216157346963882\n",
      "Iteration: 4075 | disc_loss: -0.5788925886154175 | gen_loss: 0.15868023037910461\n",
      "Iteration: 4076 | disc_loss: -0.5627086758613586 | gen_loss: 0.028351206332445145\n",
      "Iteration: 4077 | disc_loss: -0.4912605285644531 | gen_loss: -0.07961827516555786\n",
      "Iteration: 4078 | disc_loss: -0.6973800659179688 | gen_loss: 0.057391468435525894\n"
     ]
    },
    {
     "name": "stderr",
     "output_type": "stream",
     "text": [
      " 82%|████████▏ | 4085/5001 [02:41<00:35, 25.67it/s]"
     ]
    },
    {
     "name": "stdout",
     "output_type": "stream",
     "text": [
      "Iteration: 4079 | disc_loss: -0.6125662922859192 | gen_loss: 0.20362183451652527\n",
      "Iteration: 4080 | disc_loss: -0.6885924339294434 | gen_loss: 0.05896434187889099\n",
      "Iteration: 4081 | disc_loss: -0.6311536431312561 | gen_loss: -0.06903309375047684\n",
      "Iteration: 4082 | disc_loss: -0.4131743609905243 | gen_loss: -0.06305449455976486\n",
      "Iteration: 4083 | disc_loss: -0.7089381217956543 | gen_loss: 0.21793000400066376\n",
      "Iteration: 4084 | disc_loss: -0.6311846375465393 | gen_loss: 0.03568602353334427\n"
     ]
    },
    {
     "name": "stderr",
     "output_type": "stream",
     "text": [
      " 82%|████████▏ | 4091/5001 [02:42<00:35, 25.83it/s]"
     ]
    },
    {
     "name": "stdout",
     "output_type": "stream",
     "text": [
      "Iteration: 4085 | disc_loss: -0.8116089701652527 | gen_loss: 0.020305870100855827\n",
      "Iteration: 4086 | disc_loss: -0.5808201432228088 | gen_loss: 0.09651613235473633\n",
      "Iteration: 4087 | disc_loss: -0.5982064008712769 | gen_loss: 0.13158001005649567\n",
      "Iteration: 4088 | disc_loss: -0.7582898736000061 | gen_loss: -0.03449172526597977\n",
      "Iteration: 4089 | disc_loss: -0.607795000076294 | gen_loss: -0.008986251428723335\n",
      "Iteration: 4090 | disc_loss: -0.6662963032722473 | gen_loss: -0.0373690202832222\n"
     ]
    },
    {
     "name": "stderr",
     "output_type": "stream",
     "text": [
      " 82%|████████▏ | 4097/5001 [02:42<00:35, 25.64it/s]"
     ]
    },
    {
     "name": "stdout",
     "output_type": "stream",
     "text": [
      "Iteration: 4091 | disc_loss: -0.6798869371414185 | gen_loss: 0.2904818654060364\n",
      "Iteration: 4092 | disc_loss: -0.8217748999595642 | gen_loss: 0.051027458161115646\n",
      "Iteration: 4093 | disc_loss: -0.9707826375961304 | gen_loss: 0.016206372529268265\n",
      "Iteration: 4094 | disc_loss: -0.4981551170349121 | gen_loss: 0.29662421345710754\n",
      "Iteration: 4095 | disc_loss: -0.9236885905265808 | gen_loss: -0.011620603501796722\n",
      "Iteration: 4096 | disc_loss: -0.7687126994132996 | gen_loss: 0.11392534524202347\n"
     ]
    },
    {
     "name": "stderr",
     "output_type": "stream",
     "text": [
      " 82%|████████▏ | 4103/5001 [02:42<00:34, 25.67it/s]"
     ]
    },
    {
     "name": "stdout",
     "output_type": "stream",
     "text": [
      "Iteration: 4097 | disc_loss: -0.8127928972244263 | gen_loss: 0.1321721076965332\n",
      "Iteration: 4098 | disc_loss: -0.45494306087493896 | gen_loss: 0.33522433042526245\n",
      "Iteration: 4099 | disc_loss: -0.8060052990913391 | gen_loss: 0.12918855249881744\n",
      "Iteration: 4100 | disc_loss: -0.56313556432724 | gen_loss: 0.15608766674995422\n",
      "Iteration: 4101 | disc_loss: -0.4591062068939209 | gen_loss: 0.5357199311256409\n",
      "Iteration: 4102 | disc_loss: -0.41503310203552246 | gen_loss: 0.15341851115226746\n"
     ]
    },
    {
     "name": "stderr",
     "output_type": "stream",
     "text": [
      " 82%|████████▏ | 4109/5001 [02:42<00:33, 26.32it/s]"
     ]
    },
    {
     "name": "stdout",
     "output_type": "stream",
     "text": [
      "Iteration: 4103 | disc_loss: -0.6358794569969177 | gen_loss: 0.18680498003959656\n",
      "Iteration: 4104 | disc_loss: -0.5054633617401123 | gen_loss: 0.14945420622825623\n",
      "Iteration: 4105 | disc_loss: -0.6019989848136902 | gen_loss: 0.07012762129306793\n",
      "Iteration: 4106 | disc_loss: -0.6929199695587158 | gen_loss: -0.24363961815834045\n",
      "Iteration: 4107 | disc_loss: -0.6854267120361328 | gen_loss: -0.028920888900756836\n",
      "Iteration: 4108 | disc_loss: -0.6010946035385132 | gen_loss: 0.17079868912696838\n"
     ]
    },
    {
     "name": "stderr",
     "output_type": "stream",
     "text": [
      " 82%|████████▏ | 4115/5001 [02:43<00:33, 26.30it/s]"
     ]
    },
    {
     "name": "stdout",
     "output_type": "stream",
     "text": [
      "Iteration: 4109 | disc_loss: -0.6830270290374756 | gen_loss: 0.0871075987815857\n",
      "Iteration: 4110 | disc_loss: -0.3632239103317261 | gen_loss: 0.03631232678890228\n",
      "Iteration: 4111 | disc_loss: -0.8152823448181152 | gen_loss: 0.1402866244316101\n",
      "Iteration: 4112 | disc_loss: -0.6334824562072754 | gen_loss: 0.05418652296066284\n",
      "Iteration: 4113 | disc_loss: -0.5573415160179138 | gen_loss: 0.09434887766838074\n",
      "Iteration: 4114 | disc_loss: -0.7563282251358032 | gen_loss: -0.19917039573192596\n"
     ]
    },
    {
     "name": "stderr",
     "output_type": "stream",
     "text": [
      " 82%|████████▏ | 4121/5001 [02:43<00:34, 25.71it/s]"
     ]
    },
    {
     "name": "stdout",
     "output_type": "stream",
     "text": [
      "Iteration: 4115 | disc_loss: -0.7234658002853394 | gen_loss: 0.19827315211296082\n",
      "Iteration: 4116 | disc_loss: -0.6291297078132629 | gen_loss: 0.19112497568130493\n",
      "Iteration: 4117 | disc_loss: -0.5166043639183044 | gen_loss: 0.22501862049102783\n",
      "Iteration: 4118 | disc_loss: -0.6967437267303467 | gen_loss: 0.146034836769104\n",
      "Iteration: 4119 | disc_loss: -0.5830772519111633 | gen_loss: 0.16540870070457458\n",
      "Iteration: 4120 | disc_loss: -0.4384151101112366 | gen_loss: -0.035187989473342896\n"
     ]
    },
    {
     "name": "stderr",
     "output_type": "stream",
     "text": [
      " 83%|████████▎ | 4127/5001 [02:43<00:33, 25.90it/s]"
     ]
    },
    {
     "name": "stdout",
     "output_type": "stream",
     "text": [
      "Iteration: 4121 | disc_loss: -0.3908649682998657 | gen_loss: 0.048380181193351746\n",
      "Iteration: 4122 | disc_loss: -0.5596817135810852 | gen_loss: 0.03079327568411827\n",
      "Iteration: 4123 | disc_loss: -0.36801353096961975 | gen_loss: 0.14837774634361267\n",
      "Iteration: 4124 | disc_loss: -0.7135595679283142 | gen_loss: 0.1955033540725708\n",
      "Iteration: 4125 | disc_loss: -1.0273489952087402 | gen_loss: 0.004953667521476746\n",
      "Iteration: 4126 | disc_loss: -0.4161149263381958 | gen_loss: -0.20300793647766113\n"
     ]
    },
    {
     "name": "stderr",
     "output_type": "stream",
     "text": [
      " 83%|████████▎ | 4133/5001 [02:43<00:34, 25.36it/s]"
     ]
    },
    {
     "name": "stdout",
     "output_type": "stream",
     "text": [
      "Iteration: 4127 | disc_loss: -0.5736223459243774 | gen_loss: -0.44355157017707825\n",
      "Iteration: 4128 | disc_loss: -0.6029921174049377 | gen_loss: 0.11591795831918716\n",
      "Iteration: 4129 | disc_loss: -0.7105966210365295 | gen_loss: -0.042706407606601715\n",
      "Iteration: 4130 | disc_loss: -0.5732943415641785 | gen_loss: -0.019153185188770294\n",
      "Iteration: 4131 | disc_loss: -0.5774537920951843 | gen_loss: 0.11012725532054901\n",
      "Iteration: 4132 | disc_loss: -0.7246297001838684 | gen_loss: -0.1134318858385086\n"
     ]
    },
    {
     "name": "stderr",
     "output_type": "stream",
     "text": [
      " 83%|████████▎ | 4139/5001 [02:44<00:33, 25.72it/s]"
     ]
    },
    {
     "name": "stdout",
     "output_type": "stream",
     "text": [
      "Iteration: 4133 | disc_loss: -0.7947878241539001 | gen_loss: -0.001940011978149414\n",
      "Iteration: 4134 | disc_loss: -0.7492848038673401 | gen_loss: 0.20157000422477722\n",
      "Iteration: 4135 | disc_loss: -0.6399458646774292 | gen_loss: 0.09794458746910095\n",
      "Iteration: 4136 | disc_loss: -0.5448957681655884 | gen_loss: -0.17963574826717377\n",
      "Iteration: 4137 | disc_loss: -0.6555808782577515 | gen_loss: -0.005351066589355469\n",
      "Iteration: 4138 | disc_loss: -0.7137435078620911 | gen_loss: -0.031070230528712273\n"
     ]
    },
    {
     "name": "stderr",
     "output_type": "stream",
     "text": [
      " 83%|████████▎ | 4145/5001 [02:44<00:33, 25.90it/s]"
     ]
    },
    {
     "name": "stdout",
     "output_type": "stream",
     "text": [
      "Iteration: 4139 | disc_loss: -0.6872783899307251 | gen_loss: -0.091763935983181\n",
      "Iteration: 4140 | disc_loss: -0.4880673289299011 | gen_loss: 0.11925866454839706\n",
      "Iteration: 4141 | disc_loss: -0.7041081190109253 | gen_loss: 0.003038957715034485\n",
      "Iteration: 4142 | disc_loss: -0.94572913646698 | gen_loss: -0.02888331562280655\n",
      "Iteration: 4143 | disc_loss: -0.6810948252677917 | gen_loss: 0.2761359214782715\n",
      "Iteration: 4144 | disc_loss: -0.5689575672149658 | gen_loss: 0.0803944393992424\n"
     ]
    },
    {
     "name": "stderr",
     "output_type": "stream",
     "text": [
      " 83%|████████▎ | 4151/5001 [02:44<00:32, 26.16it/s]"
     ]
    },
    {
     "name": "stdout",
     "output_type": "stream",
     "text": [
      "Iteration: 4145 | disc_loss: -0.65500807762146 | gen_loss: -0.13550446927547455\n",
      "Iteration: 4146 | disc_loss: -0.7399598360061646 | gen_loss: -0.22724156081676483\n",
      "Iteration: 4147 | disc_loss: -0.3269527852535248 | gen_loss: 0.1475393921136856\n",
      "Iteration: 4148 | disc_loss: -0.7475855946540833 | gen_loss: 0.27357959747314453\n",
      "Iteration: 4149 | disc_loss: -0.6249329447746277 | gen_loss: -0.13250285387039185\n",
      "Iteration: 4150 | disc_loss: -0.708487331867218 | gen_loss: 0.20744866132736206\n"
     ]
    },
    {
     "name": "stderr",
     "output_type": "stream",
     "text": [
      " 83%|████████▎ | 4157/5001 [02:44<00:31, 26.38it/s]"
     ]
    },
    {
     "name": "stdout",
     "output_type": "stream",
     "text": [
      "Iteration: 4151 | disc_loss: -0.43887221813201904 | gen_loss: -0.0016044266521930695\n",
      "Iteration: 4152 | disc_loss: -0.7524372935295105 | gen_loss: 0.12488420307636261\n",
      "Iteration: 4153 | disc_loss: -0.6921248435974121 | gen_loss: 0.2648666501045227\n",
      "Iteration: 4154 | disc_loss: -0.6018388271331787 | gen_loss: 0.14774614572525024\n",
      "Iteration: 4155 | disc_loss: -0.4596869945526123 | gen_loss: 0.006269264966249466\n",
      "Iteration: 4156 | disc_loss: -0.7663531303405762 | gen_loss: 0.06711317598819733\n"
     ]
    },
    {
     "name": "stderr",
     "output_type": "stream",
     "text": [
      " 83%|████████▎ | 4163/5001 [02:44<00:32, 26.06it/s]"
     ]
    },
    {
     "name": "stdout",
     "output_type": "stream",
     "text": [
      "Iteration: 4157 | disc_loss: -0.7187644243240356 | gen_loss: 0.11526864767074585\n",
      "Iteration: 4158 | disc_loss: -0.17998945713043213 | gen_loss: -0.069638192653656\n",
      "Iteration: 4159 | disc_loss: -0.6655961275100708 | gen_loss: 0.025189267471432686\n",
      "Iteration: 4160 | disc_loss: -0.5549389719963074 | gen_loss: -0.0975988358259201\n",
      "Iteration: 4161 | disc_loss: -0.6889840364456177 | gen_loss: -0.20844492316246033\n",
      "Iteration: 4162 | disc_loss: -0.6598036885261536 | gen_loss: -0.01174786314368248\n"
     ]
    },
    {
     "name": "stderr",
     "output_type": "stream",
     "text": [
      " 83%|████████▎ | 4166/5001 [02:45<00:33, 24.89it/s]"
     ]
    },
    {
     "name": "stdout",
     "output_type": "stream",
     "text": [
      "Iteration: 4163 | disc_loss: -0.5509726405143738 | gen_loss: 0.08458402752876282\n",
      "Iteration: 4164 | disc_loss: -0.6779174208641052 | gen_loss: 0.1506226360797882\n",
      "Iteration: 4165 | disc_loss: -0.6448168158531189 | gen_loss: 0.0519900768995285\n",
      "Iteration: 4166 | disc_loss: -0.7039323449134827 | gen_loss: 0.14952264726161957\n",
      "Iteration: 4167 | disc_loss: -0.7510635256767273 | gen_loss: 0.13800457119941711\n"
     ]
    },
    {
     "name": "stderr",
     "output_type": "stream",
     "text": [
      " 83%|████████▎ | 4172/5001 [02:45<00:32, 25.55it/s]"
     ]
    },
    {
     "name": "stdout",
     "output_type": "stream",
     "text": [
      "Iteration: 4168 | disc_loss: -0.5699589848518372 | gen_loss: -0.13166464865207672\n",
      "Iteration: 4169 | disc_loss: -0.9916210174560547 | gen_loss: -0.09318278729915619\n",
      "Iteration: 4170 | disc_loss: -1.1017409563064575 | gen_loss: -0.04312628507614136\n",
      "Iteration: 4171 | disc_loss: -0.821029782295227 | gen_loss: -0.028653867542743683\n",
      "Iteration: 4172 | disc_loss: -0.6478476524353027 | gen_loss: -0.21474814414978027\n",
      "Iteration: 4173 | disc_loss: -0.8032773733139038 | gen_loss: 0.07715196907520294\n"
     ]
    },
    {
     "name": "stderr",
     "output_type": "stream",
     "text": [
      " 84%|████████▎ | 4178/5001 [02:45<00:31, 25.83it/s]"
     ]
    },
    {
     "name": "stdout",
     "output_type": "stream",
     "text": [
      "Iteration: 4174 | disc_loss: -0.6317837834358215 | gen_loss: -0.05396899953484535\n",
      "Iteration: 4175 | disc_loss: -0.635867714881897 | gen_loss: 0.0110553540289402\n",
      "Iteration: 4176 | disc_loss: -0.664442241191864 | gen_loss: -0.2770167291164398\n",
      "Iteration: 4177 | disc_loss: -0.6821609735488892 | gen_loss: -0.04836096614599228\n",
      "Iteration: 4178 | disc_loss: -0.5590249300003052 | gen_loss: -0.00622120127081871\n",
      "Iteration: 4179 | disc_loss: -0.5468488931655884 | gen_loss: -0.020215153694152832\n"
     ]
    },
    {
     "name": "stderr",
     "output_type": "stream",
     "text": [
      " 84%|████████▎ | 4184/5001 [02:45<00:31, 26.08it/s]"
     ]
    },
    {
     "name": "stdout",
     "output_type": "stream",
     "text": [
      "Iteration: 4180 | disc_loss: -0.8848685622215271 | gen_loss: 0.01006743311882019\n",
      "Iteration: 4181 | disc_loss: -0.2032187581062317 | gen_loss: -0.12895113229751587\n",
      "Iteration: 4182 | disc_loss: -0.42065826058387756 | gen_loss: -0.032770875841379166\n",
      "Iteration: 4183 | disc_loss: -0.4281194806098938 | gen_loss: 0.12451048940420151\n",
      "Iteration: 4184 | disc_loss: -0.6748383045196533 | gen_loss: 0.014349371194839478\n",
      "Iteration: 4185 | disc_loss: -0.5372760891914368 | gen_loss: -0.023974619805812836\n"
     ]
    },
    {
     "name": "stderr",
     "output_type": "stream",
     "text": [
      " 84%|████████▍ | 4190/5001 [02:45<00:30, 26.25it/s]"
     ]
    },
    {
     "name": "stdout",
     "output_type": "stream",
     "text": [
      "Iteration: 4186 | disc_loss: -0.7394201159477234 | gen_loss: -0.08760234713554382\n",
      "Iteration: 4187 | disc_loss: -0.8874719738960266 | gen_loss: -0.025130435824394226\n",
      "Iteration: 4188 | disc_loss: -0.2401372790336609 | gen_loss: 0.09927855432033539\n",
      "Iteration: 4189 | disc_loss: -0.6058701276779175 | gen_loss: -0.06127629429101944\n",
      "Iteration: 4190 | disc_loss: -0.6975869536399841 | gen_loss: -0.02098715677857399\n",
      "Iteration: 4191 | disc_loss: -0.6942936182022095 | gen_loss: -0.051191892474889755\n"
     ]
    },
    {
     "name": "stderr",
     "output_type": "stream",
     "text": [
      " 84%|████████▍ | 4196/5001 [02:46<00:30, 26.49it/s]"
     ]
    },
    {
     "name": "stdout",
     "output_type": "stream",
     "text": [
      "Iteration: 4192 | disc_loss: -0.5538650751113892 | gen_loss: -0.013585768640041351\n",
      "Iteration: 4193 | disc_loss: -0.6879939436912537 | gen_loss: 0.19260095059871674\n",
      "Iteration: 4194 | disc_loss: -0.6467471122741699 | gen_loss: -0.08419972658157349\n",
      "Iteration: 4195 | disc_loss: -0.6141446828842163 | gen_loss: -0.084766685962677\n",
      "Iteration: 4196 | disc_loss: -0.6468936204910278 | gen_loss: 0.005860414355993271\n",
      "Iteration: 4197 | disc_loss: -0.7945006489753723 | gen_loss: -0.1746545284986496\n"
     ]
    },
    {
     "name": "stderr",
     "output_type": "stream",
     "text": [
      " 84%|████████▍ | 4202/5001 [02:46<00:31, 25.40it/s]"
     ]
    },
    {
     "name": "stdout",
     "output_type": "stream",
     "text": [
      "Iteration: 4198 | disc_loss: -0.4648212194442749 | gen_loss: 0.21234843134880066\n",
      "Iteration: 4199 | disc_loss: -0.5637238621711731 | gen_loss: 0.1444697380065918\n",
      "Iteration: 4200 | disc_loss: -0.6385148763656616 | gen_loss: 0.07174119353294373\n",
      "Iteration: 4201 | disc_loss: -0.7191720008850098 | gen_loss: 0.03140641003847122\n",
      "Iteration: 4202 | disc_loss: -0.5822752118110657 | gen_loss: 0.11501089483499527\n"
     ]
    },
    {
     "name": "stderr",
     "output_type": "stream",
     "text": [
      " 84%|████████▍ | 4208/5001 [02:46<00:32, 24.72it/s]"
     ]
    },
    {
     "name": "stdout",
     "output_type": "stream",
     "text": [
      "Iteration: 4203 | disc_loss: -0.6254429221153259 | gen_loss: 0.00742383673787117\n",
      "Iteration: 4204 | disc_loss: -0.4693077504634857 | gen_loss: -0.05213060975074768\n",
      "Iteration: 4205 | disc_loss: -0.7577688694000244 | gen_loss: -0.07412511110305786\n",
      "Iteration: 4206 | disc_loss: -0.8019997477531433 | gen_loss: -0.01902821660041809\n",
      "Iteration: 4207 | disc_loss: -0.7288767695426941 | gen_loss: -0.07064089924097061\n"
     ]
    },
    {
     "name": "stderr",
     "output_type": "stream",
     "text": [
      " 84%|████████▍ | 4214/5001 [02:46<00:31, 25.29it/s]"
     ]
    },
    {
     "name": "stdout",
     "output_type": "stream",
     "text": [
      "Iteration: 4208 | disc_loss: -1.3617385625839233 | gen_loss: 0.29393255710601807\n",
      "Iteration: 4209 | disc_loss: -0.5867915153503418 | gen_loss: -0.04002287983894348\n",
      "Iteration: 4210 | disc_loss: -0.8247562646865845 | gen_loss: -0.057085953652858734\n",
      "Iteration: 4211 | disc_loss: -0.6830936074256897 | gen_loss: 0.053662024438381195\n",
      "Iteration: 4212 | disc_loss: -0.851974368095398 | gen_loss: 0.06302592158317566\n",
      "Iteration: 4213 | disc_loss: -0.6438212990760803 | gen_loss: 0.04503428190946579\n"
     ]
    },
    {
     "name": "stderr",
     "output_type": "stream",
     "text": [
      " 84%|████████▍ | 4217/5001 [02:47<00:31, 25.05it/s]"
     ]
    },
    {
     "name": "stdout",
     "output_type": "stream",
     "text": [
      "Iteration: 4214 | disc_loss: -0.6865461468696594 | gen_loss: -0.21641789376735687\n",
      "Iteration: 4215 | disc_loss: -0.9237270355224609 | gen_loss: 0.14245054125785828\n",
      "Iteration: 4216 | disc_loss: -0.5728722810745239 | gen_loss: 0.16176298260688782\n",
      "Iteration: 4217 | disc_loss: -0.46584874391555786 | gen_loss: -0.1846933215856552\n",
      "Iteration: 4218 | disc_loss: -1.0020521879196167 | gen_loss: 0.35605388879776\n"
     ]
    },
    {
     "name": "stderr",
     "output_type": "stream",
     "text": [
      " 84%|████████▍ | 4223/5001 [02:47<00:31, 24.93it/s]"
     ]
    },
    {
     "name": "stdout",
     "output_type": "stream",
     "text": [
      "Iteration: 4219 | disc_loss: -0.8435529470443726 | gen_loss: -0.17746064066886902\n",
      "Iteration: 4220 | disc_loss: -0.7656472325325012 | gen_loss: -0.10130301862955093\n",
      "Iteration: 4221 | disc_loss: -0.3465082049369812 | gen_loss: 0.007409080862998962\n",
      "Iteration: 4222 | disc_loss: -0.6979063749313354 | gen_loss: -0.10190459340810776\n",
      "Iteration: 4223 | disc_loss: -0.7608610987663269 | gen_loss: -0.3205644488334656\n",
      "Iteration: 4224 | disc_loss: -0.6418492197990417 | gen_loss: -0.035019390285015106\n"
     ]
    },
    {
     "name": "stderr",
     "output_type": "stream",
     "text": [
      " 85%|████████▍ | 4229/5001 [02:47<00:31, 24.19it/s]"
     ]
    },
    {
     "name": "stdout",
     "output_type": "stream",
     "text": [
      "Iteration: 4225 | disc_loss: -0.19656306505203247 | gen_loss: -0.0900617465376854\n",
      "Iteration: 4226 | disc_loss: -0.6128328442573547 | gen_loss: -0.07873351126909256\n",
      "Iteration: 4227 | disc_loss: -0.692673921585083 | gen_loss: -0.0028461311012506485\n",
      "Iteration: 4228 | disc_loss: -0.9066792726516724 | gen_loss: -0.030548639595508575\n",
      "Iteration: 4229 | disc_loss: -0.7739522457122803 | gen_loss: 0.033271461725234985\n",
      "Iteration: 4230 | disc_loss: -0.6816388964653015 | gen_loss: -0.10241039097309113\n"
     ]
    },
    {
     "name": "stderr",
     "output_type": "stream",
     "text": [
      " 85%|████████▍ | 4235/5001 [02:47<00:29, 25.70it/s]"
     ]
    },
    {
     "name": "stdout",
     "output_type": "stream",
     "text": [
      "Iteration: 4231 | disc_loss: -0.8178390264511108 | gen_loss: -0.07261483371257782\n",
      "Iteration: 4232 | disc_loss: -0.667746901512146 | gen_loss: 0.027731813490390778\n",
      "Iteration: 4233 | disc_loss: -0.7766652703285217 | gen_loss: -0.17783606052398682\n",
      "Iteration: 4234 | disc_loss: -0.6413217782974243 | gen_loss: 0.0076760221272706985\n",
      "Iteration: 4235 | disc_loss: -0.6737602353096008 | gen_loss: -0.418363481760025\n",
      "Iteration: 4236 | disc_loss: -0.6889888644218445 | gen_loss: 0.12612026929855347\n"
     ]
    },
    {
     "name": "stderr",
     "output_type": "stream",
     "text": [
      " 85%|████████▍ | 4241/5001 [02:47<00:28, 26.42it/s]"
     ]
    },
    {
     "name": "stdout",
     "output_type": "stream",
     "text": [
      "Iteration: 4237 | disc_loss: -0.7118653059005737 | gen_loss: 0.05581578612327576\n",
      "Iteration: 4238 | disc_loss: -0.8077500462532043 | gen_loss: -0.17901724576950073\n",
      "Iteration: 4239 | disc_loss: -0.30485790967941284 | gen_loss: -0.3295360803604126\n",
      "Iteration: 4240 | disc_loss: -0.33461475372314453 | gen_loss: -0.08414678275585175\n",
      "Iteration: 4241 | disc_loss: -0.9195986986160278 | gen_loss: 0.09142586588859558\n",
      "Iteration: 4242 | disc_loss: -0.6799095273017883 | gen_loss: 0.02942931279540062\n"
     ]
    },
    {
     "name": "stderr",
     "output_type": "stream",
     "text": [
      " 85%|████████▍ | 4247/5001 [02:48<00:28, 26.46it/s]"
     ]
    },
    {
     "name": "stdout",
     "output_type": "stream",
     "text": [
      "Iteration: 4243 | disc_loss: -1.0386204719543457 | gen_loss: 0.07521187514066696\n",
      "Iteration: 4244 | disc_loss: 0.039360880851745605 | gen_loss: -0.17783808708190918\n",
      "Iteration: 4245 | disc_loss: -0.28238746523857117 | gen_loss: -0.3468364477157593\n",
      "Iteration: 4246 | disc_loss: -0.7952348589897156 | gen_loss: 0.015573129057884216\n",
      "Iteration: 4247 | disc_loss: -0.676728367805481 | gen_loss: 0.0585453100502491\n",
      "Iteration: 4248 | disc_loss: -0.777004063129425 | gen_loss: -0.25190016627311707\n"
     ]
    },
    {
     "name": "stderr",
     "output_type": "stream",
     "text": [
      " 85%|████████▌ | 4253/5001 [02:48<00:28, 26.49it/s]"
     ]
    },
    {
     "name": "stdout",
     "output_type": "stream",
     "text": [
      "Iteration: 4249 | disc_loss: -0.8022518754005432 | gen_loss: 0.028841130435466766\n",
      "Iteration: 4250 | disc_loss: -0.5112501978874207 | gen_loss: -0.09220383316278458\n",
      "Iteration: 4251 | disc_loss: -1.1943202018737793 | gen_loss: -0.14045755565166473\n",
      "Iteration: 4252 | disc_loss: -0.8270992040634155 | gen_loss: -0.03581696376204491\n",
      "Iteration: 4253 | disc_loss: -0.4656408727169037 | gen_loss: 0.017409563064575195\n",
      "Iteration: 4254 | disc_loss: -0.3669629395008087 | gen_loss: 0.05051538348197937\n"
     ]
    },
    {
     "name": "stderr",
     "output_type": "stream",
     "text": [
      " 85%|████████▌ | 4259/5001 [02:48<00:27, 26.62it/s]"
     ]
    },
    {
     "name": "stdout",
     "output_type": "stream",
     "text": [
      "Iteration: 4255 | disc_loss: -0.6966097354888916 | gen_loss: -0.11300291121006012\n",
      "Iteration: 4256 | disc_loss: -0.7925713658332825 | gen_loss: -0.2208569049835205\n",
      "Iteration: 4257 | disc_loss: -0.6619924306869507 | gen_loss: -0.025613930076360703\n",
      "Iteration: 4258 | disc_loss: -0.7850850820541382 | gen_loss: 0.2043917030096054\n",
      "Iteration: 4259 | disc_loss: -0.7283501625061035 | gen_loss: 0.04078744351863861\n",
      "Iteration: 4260 | disc_loss: -0.6081450581550598 | gen_loss: -0.14760559797286987\n"
     ]
    },
    {
     "name": "stderr",
     "output_type": "stream",
     "text": [
      " 85%|████████▌ | 4265/5001 [02:48<00:27, 26.63it/s]"
     ]
    },
    {
     "name": "stdout",
     "output_type": "stream",
     "text": [
      "Iteration: 4261 | disc_loss: -0.7211335897445679 | gen_loss: -0.13445332646369934\n",
      "Iteration: 4262 | disc_loss: -0.7171452045440674 | gen_loss: 0.0396130308508873\n",
      "Iteration: 4263 | disc_loss: -0.5849201083183289 | gen_loss: -0.07445782423019409\n",
      "Iteration: 4264 | disc_loss: -0.9496797323226929 | gen_loss: -0.21120983362197876\n",
      "Iteration: 4265 | disc_loss: -0.646353006362915 | gen_loss: 0.08085700869560242\n",
      "Iteration: 4266 | disc_loss: -0.7681118249893188 | gen_loss: -0.013457413762807846\n"
     ]
    },
    {
     "name": "stderr",
     "output_type": "stream",
     "text": [
      " 85%|████████▌ | 4271/5001 [02:49<00:27, 26.61it/s]"
     ]
    },
    {
     "name": "stdout",
     "output_type": "stream",
     "text": [
      "Iteration: 4267 | disc_loss: -0.428991436958313 | gen_loss: 0.12747164070606232\n",
      "Iteration: 4268 | disc_loss: -0.6315432190895081 | gen_loss: -0.07236514985561371\n",
      "Iteration: 4269 | disc_loss: -0.81913161277771 | gen_loss: -0.06412344425916672\n",
      "Iteration: 4270 | disc_loss: -0.6928276419639587 | gen_loss: -0.09846004098653793\n",
      "Iteration: 4271 | disc_loss: -0.7299830317497253 | gen_loss: -0.3896722197532654\n",
      "Iteration: 4272 | disc_loss: -0.35826435685157776 | gen_loss: -0.20638389885425568\n"
     ]
    },
    {
     "name": "stderr",
     "output_type": "stream",
     "text": [
      " 86%|████████▌ | 4277/5001 [02:49<00:27, 26.64it/s]"
     ]
    },
    {
     "name": "stdout",
     "output_type": "stream",
     "text": [
      "Iteration: 4273 | disc_loss: -1.0037297010421753 | gen_loss: 0.11649996787309647\n",
      "Iteration: 4274 | disc_loss: -0.8631280064582825 | gen_loss: -0.049739595502614975\n",
      "Iteration: 4275 | disc_loss: -0.6437488198280334 | gen_loss: 0.053835026919841766\n",
      "Iteration: 4276 | disc_loss: -0.6219079494476318 | gen_loss: 0.41446179151535034\n",
      "Iteration: 4277 | disc_loss: -0.462604820728302 | gen_loss: 0.08932994306087494\n",
      "Iteration: 4278 | disc_loss: -0.5395814776420593 | gen_loss: 0.20156903564929962\n"
     ]
    },
    {
     "name": "stderr",
     "output_type": "stream",
     "text": [
      " 86%|████████▌ | 4283/5001 [02:49<00:27, 26.58it/s]"
     ]
    },
    {
     "name": "stdout",
     "output_type": "stream",
     "text": [
      "Iteration: 4279 | disc_loss: -0.6883851885795593 | gen_loss: 0.08009457588195801\n",
      "Iteration: 4280 | disc_loss: -0.8102901577949524 | gen_loss: 0.04699155315756798\n",
      "Iteration: 4281 | disc_loss: -0.45201945304870605 | gen_loss: 0.14481580257415771\n",
      "Iteration: 4282 | disc_loss: -0.7419140338897705 | gen_loss: 0.12045535445213318\n",
      "Iteration: 4283 | disc_loss: -0.954915463924408 | gen_loss: 0.3813111484050751\n",
      "Iteration: 4284 | disc_loss: -0.741080641746521 | gen_loss: 0.02319725975394249\n"
     ]
    },
    {
     "name": "stderr",
     "output_type": "stream",
     "text": [
      " 86%|████████▌ | 4289/5001 [02:49<00:27, 26.09it/s]"
     ]
    },
    {
     "name": "stdout",
     "output_type": "stream",
     "text": [
      "Iteration: 4285 | disc_loss: -0.8469783663749695 | gen_loss: -0.15210922062397003\n",
      "Iteration: 4286 | disc_loss: -0.7569976449012756 | gen_loss: 0.08486375212669373\n",
      "Iteration: 4287 | disc_loss: -0.5236409306526184 | gen_loss: -0.22566932439804077\n",
      "Iteration: 4288 | disc_loss: -0.6721664071083069 | gen_loss: 0.13953359425067902\n",
      "Iteration: 4289 | disc_loss: -0.43842411041259766 | gen_loss: 0.01345285214483738\n",
      "Iteration: 4290 | disc_loss: -0.6912712454795837 | gen_loss: -0.12000879645347595\n"
     ]
    },
    {
     "name": "stderr",
     "output_type": "stream",
     "text": [
      " 86%|████████▌ | 4295/5001 [02:50<00:26, 26.50it/s]"
     ]
    },
    {
     "name": "stdout",
     "output_type": "stream",
     "text": [
      "Iteration: 4291 | disc_loss: -0.7297289967536926 | gen_loss: 0.14169524610042572\n",
      "Iteration: 4292 | disc_loss: -0.6077800989151001 | gen_loss: 0.026093509048223495\n",
      "Iteration: 4293 | disc_loss: -0.8267385959625244 | gen_loss: 0.1973992884159088\n",
      "Iteration: 4294 | disc_loss: -0.44386279582977295 | gen_loss: 0.1323804259300232\n",
      "Iteration: 4295 | disc_loss: -0.6282402873039246 | gen_loss: 0.17282679677009583\n",
      "Iteration: 4296 | disc_loss: -0.6772521138191223 | gen_loss: 0.1091090589761734\n"
     ]
    },
    {
     "name": "stderr",
     "output_type": "stream",
     "text": [
      " 86%|████████▌ | 4301/5001 [02:50<00:26, 26.75it/s]"
     ]
    },
    {
     "name": "stdout",
     "output_type": "stream",
     "text": [
      "Iteration: 4297 | disc_loss: -0.5338054895401001 | gen_loss: 0.23166127502918243\n",
      "Iteration: 4298 | disc_loss: -0.8024226427078247 | gen_loss: -0.09171357750892639\n",
      "Iteration: 4299 | disc_loss: -0.5778111219406128 | gen_loss: -0.2391681671142578\n",
      "Iteration: 4300 | disc_loss: -0.5119984745979309 | gen_loss: 0.08378614485263824\n",
      "Iteration: 4301 | disc_loss: -0.5847594141960144 | gen_loss: 0.002744421362876892\n",
      "Iteration: 4302 | disc_loss: -0.8579140305519104 | gen_loss: 0.14858092367649078\n"
     ]
    },
    {
     "name": "stderr",
     "output_type": "stream",
     "text": [
      " 86%|████████▌ | 4307/5001 [02:50<00:25, 26.85it/s]"
     ]
    },
    {
     "name": "stdout",
     "output_type": "stream",
     "text": [
      "Iteration: 4303 | disc_loss: -0.34274083375930786 | gen_loss: -0.054683227092027664\n",
      "Iteration: 4304 | disc_loss: -0.6248753070831299 | gen_loss: 0.11000000685453415\n",
      "Iteration: 4305 | disc_loss: -0.7247305512428284 | gen_loss: 0.21063114702701569\n",
      "Iteration: 4306 | disc_loss: -0.6065805554389954 | gen_loss: 0.01136227697134018\n",
      "Iteration: 4307 | disc_loss: -0.9998040199279785 | gen_loss: -0.05656938999891281\n",
      "Iteration: 4308 | disc_loss: -0.22350013256072998 | gen_loss: -0.13909399509429932\n"
     ]
    },
    {
     "name": "stderr",
     "output_type": "stream",
     "text": [
      " 86%|████████▌ | 4313/5001 [02:50<00:25, 26.77it/s]"
     ]
    },
    {
     "name": "stdout",
     "output_type": "stream",
     "text": [
      "Iteration: 4309 | disc_loss: -0.6035898327827454 | gen_loss: 0.07407264411449432\n",
      "Iteration: 4310 | disc_loss: -0.7579848170280457 | gen_loss: -0.028810858726501465\n",
      "Iteration: 4311 | disc_loss: -0.7899045348167419 | gen_loss: -0.008467741310596466\n",
      "Iteration: 4312 | disc_loss: -0.5976526141166687 | gen_loss: -0.0680733248591423\n",
      "Iteration: 4313 | disc_loss: -0.8101282715797424 | gen_loss: -0.10157155990600586\n",
      "Iteration: 4314 | disc_loss: -0.5874995589256287 | gen_loss: -0.016067277640104294\n"
     ]
    },
    {
     "name": "stderr",
     "output_type": "stream",
     "text": [
      " 86%|████████▋ | 4319/5001 [02:50<00:25, 26.97it/s]"
     ]
    },
    {
     "name": "stdout",
     "output_type": "stream",
     "text": [
      "Iteration: 4315 | disc_loss: -0.7984795570373535 | gen_loss: -0.034683141857385635\n",
      "Iteration: 4316 | disc_loss: -0.937506914138794 | gen_loss: 0.04806716367602348\n",
      "Iteration: 4317 | disc_loss: -0.539404034614563 | gen_loss: 0.10678500682115555\n",
      "Iteration: 4318 | disc_loss: -0.5964405536651611 | gen_loss: 0.05766476318240166\n",
      "Iteration: 4319 | disc_loss: -0.8451197743415833 | gen_loss: -0.38953858613967896\n",
      "Iteration: 4320 | disc_loss: -0.5360214114189148 | gen_loss: 0.16097679734230042\n"
     ]
    },
    {
     "name": "stderr",
     "output_type": "stream",
     "text": [
      " 86%|████████▋ | 4325/5001 [02:51<00:25, 26.11it/s]"
     ]
    },
    {
     "name": "stdout",
     "output_type": "stream",
     "text": [
      "Iteration: 4321 | disc_loss: -0.7785132527351379 | gen_loss: -0.14698630571365356\n",
      "Iteration: 4322 | disc_loss: -0.6787165403366089 | gen_loss: -0.0928640365600586\n",
      "Iteration: 4323 | disc_loss: -0.6140393614768982 | gen_loss: 0.15701977908611298\n",
      "Iteration: 4324 | disc_loss: -0.7831917405128479 | gen_loss: -0.04319772869348526\n",
      "Iteration: 4325 | disc_loss: -0.4371495842933655 | gen_loss: -0.06965620070695877\n"
     ]
    },
    {
     "name": "stderr",
     "output_type": "stream",
     "text": [
      " 87%|████████▋ | 4331/5001 [02:51<00:29, 22.58it/s]"
     ]
    },
    {
     "name": "stdout",
     "output_type": "stream",
     "text": [
      "Iteration: 4326 | disc_loss: -0.9987934827804565 | gen_loss: -0.028281398117542267\n",
      "Iteration: 4327 | disc_loss: -0.4725097119808197 | gen_loss: 0.08142773807048798\n",
      "Iteration: 4328 | disc_loss: -0.6402021050453186 | gen_loss: -0.25329476594924927\n",
      "Iteration: 4329 | disc_loss: -0.6145706176757812 | gen_loss: -0.19240431487560272\n",
      "Iteration: 4330 | disc_loss: -0.419468492269516 | gen_loss: -0.039265163242816925\n"
     ]
    },
    {
     "name": "stderr",
     "output_type": "stream",
     "text": [
      " 87%|████████▋ | 4337/5001 [02:51<00:27, 24.58it/s]"
     ]
    },
    {
     "name": "stdout",
     "output_type": "stream",
     "text": [
      "Iteration: 4331 | disc_loss: -0.4144913852214813 | gen_loss: -0.1169741228222847\n",
      "Iteration: 4332 | disc_loss: -0.18764379620552063 | gen_loss: -0.016757138073444366\n",
      "Iteration: 4333 | disc_loss: -0.8986749649047852 | gen_loss: 0.2295423001050949\n",
      "Iteration: 4334 | disc_loss: -0.9123728275299072 | gen_loss: 0.2014607936143875\n",
      "Iteration: 4335 | disc_loss: -0.5821918249130249 | gen_loss: -0.04941730946302414\n",
      "Iteration: 4336 | disc_loss: -0.5594882965087891 | gen_loss: -0.22858521342277527\n"
     ]
    },
    {
     "name": "stderr",
     "output_type": "stream",
     "text": [
      " 87%|████████▋ | 4343/5001 [02:51<00:26, 25.28it/s]"
     ]
    },
    {
     "name": "stdout",
     "output_type": "stream",
     "text": [
      "Iteration: 4337 | disc_loss: -0.6838060021400452 | gen_loss: -0.2481265813112259\n",
      "Iteration: 4338 | disc_loss: -0.6488209366798401 | gen_loss: 0.04409016668796539\n",
      "Iteration: 4339 | disc_loss: -0.8090001940727234 | gen_loss: -0.5090299248695374\n",
      "Iteration: 4340 | disc_loss: -0.6621919274330139 | gen_loss: -0.03238576650619507\n",
      "Iteration: 4341 | disc_loss: -0.538899838924408 | gen_loss: -0.13608792424201965\n",
      "Iteration: 4342 | disc_loss: -0.763430655002594 | gen_loss: -0.3139868378639221\n"
     ]
    },
    {
     "name": "stderr",
     "output_type": "stream",
     "text": [
      " 87%|████████▋ | 4349/5001 [02:52<00:25, 25.83it/s]"
     ]
    },
    {
     "name": "stdout",
     "output_type": "stream",
     "text": [
      "Iteration: 4343 | disc_loss: -0.44229868054389954 | gen_loss: -0.05700374394655228\n",
      "Iteration: 4344 | disc_loss: -0.5999814867973328 | gen_loss: -0.1203320324420929\n",
      "Iteration: 4345 | disc_loss: -0.7222581505775452 | gen_loss: 0.0015947222709655762\n",
      "Iteration: 4346 | disc_loss: -0.23457308113574982 | gen_loss: -0.26747456192970276\n",
      "Iteration: 4347 | disc_loss: -0.7553306818008423 | gen_loss: -0.27702412009239197\n",
      "Iteration: 4348 | disc_loss: -0.6524494290351868 | gen_loss: 0.04348602890968323\n"
     ]
    },
    {
     "name": "stderr",
     "output_type": "stream",
     "text": [
      " 87%|████████▋ | 4355/5001 [02:52<00:24, 26.43it/s]"
     ]
    },
    {
     "name": "stdout",
     "output_type": "stream",
     "text": [
      "Iteration: 4349 | disc_loss: -0.5232043862342834 | gen_loss: -0.3208606243133545\n",
      "Iteration: 4350 | disc_loss: -0.9007630944252014 | gen_loss: -0.046149082481861115\n",
      "Iteration: 4351 | disc_loss: -0.7566421627998352 | gen_loss: 0.058167554438114166\n",
      "Iteration: 4352 | disc_loss: -0.4454454183578491 | gen_loss: -0.35158979892730713\n",
      "Iteration: 4353 | disc_loss: -0.4590461254119873 | gen_loss: 0.004933539777994156\n",
      "Iteration: 4354 | disc_loss: -0.9075583219528198 | gen_loss: -0.21930691599845886\n"
     ]
    },
    {
     "name": "stderr",
     "output_type": "stream",
     "text": [
      " 87%|████████▋ | 4361/5001 [02:52<00:24, 25.77it/s]"
     ]
    },
    {
     "name": "stdout",
     "output_type": "stream",
     "text": [
      "Iteration: 4355 | disc_loss: -0.8426233530044556 | gen_loss: -0.016513090580701828\n",
      "Iteration: 4356 | disc_loss: -0.7418344020843506 | gen_loss: -0.021320490166544914\n",
      "Iteration: 4357 | disc_loss: -0.3735712468624115 | gen_loss: -0.051855068653821945\n",
      "Iteration: 4358 | disc_loss: -0.7063560485839844 | gen_loss: -0.031086748465895653\n",
      "Iteration: 4359 | disc_loss: -0.7038717269897461 | gen_loss: -0.29569780826568604\n",
      "Iteration: 4360 | disc_loss: -0.7797849178314209 | gen_loss: -0.10290250182151794\n"
     ]
    },
    {
     "name": "stderr",
     "output_type": "stream",
     "text": [
      " 87%|████████▋ | 4367/5001 [02:52<00:24, 25.82it/s]"
     ]
    },
    {
     "name": "stdout",
     "output_type": "stream",
     "text": [
      "Iteration: 4361 | disc_loss: -0.5911368727684021 | gen_loss: 0.03416581451892853\n",
      "Iteration: 4362 | disc_loss: -0.7638201713562012 | gen_loss: -0.12775030732154846\n",
      "Iteration: 4363 | disc_loss: -0.8919522166252136 | gen_loss: -0.04657869413495064\n",
      "Iteration: 4364 | disc_loss: -0.6459358334541321 | gen_loss: -0.04677668213844299\n",
      "Iteration: 4365 | disc_loss: -0.831553041934967 | gen_loss: -0.14165183901786804\n",
      "Iteration: 4366 | disc_loss: -0.289639949798584 | gen_loss: 0.01321365125477314\n"
     ]
    },
    {
     "name": "stderr",
     "output_type": "stream",
     "text": [
      " 87%|████████▋ | 4373/5001 [02:53<00:24, 25.98it/s]"
     ]
    },
    {
     "name": "stdout",
     "output_type": "stream",
     "text": [
      "Iteration: 4367 | disc_loss: -0.736583948135376 | gen_loss: -0.04157222807407379\n",
      "Iteration: 4368 | disc_loss: -0.831915020942688 | gen_loss: -0.1761888861656189\n",
      "Iteration: 4369 | disc_loss: -0.6730852127075195 | gen_loss: -0.185389906167984\n",
      "Iteration: 4370 | disc_loss: -0.6916546821594238 | gen_loss: -0.15590469539165497\n",
      "Iteration: 4371 | disc_loss: -0.47621479630470276 | gen_loss: -0.292589008808136\n",
      "Iteration: 4372 | disc_loss: -0.6345800757408142 | gen_loss: -0.11700407415628433\n"
     ]
    },
    {
     "name": "stderr",
     "output_type": "stream",
     "text": [
      " 88%|████████▊ | 4379/5001 [02:53<00:23, 26.59it/s]"
     ]
    },
    {
     "name": "stdout",
     "output_type": "stream",
     "text": [
      "Iteration: 4373 | disc_loss: -0.4112468659877777 | gen_loss: -0.07764406502246857\n",
      "Iteration: 4374 | disc_loss: -0.39604583382606506 | gen_loss: 0.04798596352338791\n",
      "Iteration: 4375 | disc_loss: -0.8712714314460754 | gen_loss: -0.28847628831863403\n",
      "Iteration: 4376 | disc_loss: -0.5062877535820007 | gen_loss: -0.06996634602546692\n",
      "Iteration: 4377 | disc_loss: -0.9312291741371155 | gen_loss: -0.22066336870193481\n",
      "Iteration: 4378 | disc_loss: -0.5149851441383362 | gen_loss: -0.050872381776571274\n"
     ]
    },
    {
     "name": "stderr",
     "output_type": "stream",
     "text": [
      " 88%|████████▊ | 4385/5001 [02:53<00:23, 26.23it/s]"
     ]
    },
    {
     "name": "stdout",
     "output_type": "stream",
     "text": [
      "Iteration: 4379 | disc_loss: -0.8231530785560608 | gen_loss: -0.01704481616616249\n",
      "Iteration: 4380 | disc_loss: -0.6496980786323547 | gen_loss: 0.01060948520898819\n",
      "Iteration: 4381 | disc_loss: -0.7691324353218079 | gen_loss: -0.04222351312637329\n",
      "Iteration: 4382 | disc_loss: -0.3608412742614746 | gen_loss: 0.051494549959897995\n",
      "Iteration: 4383 | disc_loss: -0.52955561876297 | gen_loss: -0.38126426935195923\n",
      "Iteration: 4384 | disc_loss: -0.6363815069198608 | gen_loss: 0.1518840193748474\n"
     ]
    },
    {
     "name": "stderr",
     "output_type": "stream",
     "text": [
      " 88%|████████▊ | 4391/5001 [02:53<00:23, 26.42it/s]"
     ]
    },
    {
     "name": "stdout",
     "output_type": "stream",
     "text": [
      "Iteration: 4385 | disc_loss: -0.5828021764755249 | gen_loss: -0.007961122319102287\n",
      "Iteration: 4386 | disc_loss: -0.7604751586914062 | gen_loss: 0.17920881509780884\n",
      "Iteration: 4387 | disc_loss: -0.6124595403671265 | gen_loss: 0.11405356228351593\n",
      "Iteration: 4388 | disc_loss: -0.6254293918609619 | gen_loss: 0.14707107841968536\n",
      "Iteration: 4389 | disc_loss: -0.48197832703590393 | gen_loss: -0.030234016478061676\n",
      "Iteration: 4390 | disc_loss: 0.40621495246887207 | gen_loss: 0.04924917221069336\n"
     ]
    },
    {
     "name": "stderr",
     "output_type": "stream",
     "text": [
      " 88%|████████▊ | 4397/5001 [02:53<00:22, 26.54it/s]"
     ]
    },
    {
     "name": "stdout",
     "output_type": "stream",
     "text": [
      "Iteration: 4391 | disc_loss: -0.8719432950019836 | gen_loss: 0.10353711992502213\n",
      "Iteration: 4392 | disc_loss: -0.6605654954910278 | gen_loss: -0.11440529674291611\n",
      "Iteration: 4393 | disc_loss: -0.6046504378318787 | gen_loss: -0.29200315475463867\n",
      "Iteration: 4394 | disc_loss: -0.7418344020843506 | gen_loss: -0.032193247228860855\n",
      "Iteration: 4395 | disc_loss: -0.5214664936065674 | gen_loss: -0.2679029703140259\n",
      "Iteration: 4396 | disc_loss: -0.54449862241745 | gen_loss: -0.2749519646167755\n"
     ]
    },
    {
     "name": "stderr",
     "output_type": "stream",
     "text": [
      " 88%|████████▊ | 4403/5001 [02:54<00:23, 25.25it/s]"
     ]
    },
    {
     "name": "stdout",
     "output_type": "stream",
     "text": [
      "Iteration: 4397 | disc_loss: -0.765601634979248 | gen_loss: -0.107490174472332\n",
      "Iteration: 4398 | disc_loss: -0.5079638957977295 | gen_loss: -0.15287820994853973\n",
      "Iteration: 4399 | disc_loss: -0.6605405211448669 | gen_loss: 0.12372756004333496\n",
      "Iteration: 4400 | disc_loss: -0.7609137892723083 | gen_loss: -0.2877778708934784\n",
      "Iteration: 4401 | disc_loss: -0.5268335342407227 | gen_loss: 0.07156284153461456\n",
      "Iteration: 4402 | disc_loss: -0.3663671612739563 | gen_loss: -0.43410763144493103\n"
     ]
    },
    {
     "name": "stderr",
     "output_type": "stream",
     "text": [
      " 88%|████████▊ | 4409/5001 [02:54<00:22, 25.78it/s]"
     ]
    },
    {
     "name": "stdout",
     "output_type": "stream",
     "text": [
      "Iteration: 4403 | disc_loss: -0.6513894200325012 | gen_loss: -0.13137157261371613\n",
      "Iteration: 4404 | disc_loss: -0.5180506706237793 | gen_loss: -0.1990370750427246\n",
      "Iteration: 4405 | disc_loss: -0.5504987239837646 | gen_loss: -0.1149020791053772\n",
      "Iteration: 4406 | disc_loss: -0.4555554687976837 | gen_loss: -0.06534753739833832\n",
      "Iteration: 4407 | disc_loss: -0.6681516766548157 | gen_loss: 0.2807255983352661\n",
      "Iteration: 4408 | disc_loss: -0.6802563667297363 | gen_loss: -0.14238241314888\n"
     ]
    },
    {
     "name": "stderr",
     "output_type": "stream",
     "text": [
      " 88%|████████▊ | 4415/5001 [02:54<00:22, 26.25it/s]"
     ]
    },
    {
     "name": "stdout",
     "output_type": "stream",
     "text": [
      "Iteration: 4409 | disc_loss: -0.7372099161148071 | gen_loss: 0.40521812438964844\n",
      "Iteration: 4410 | disc_loss: -0.7428629398345947 | gen_loss: 0.022814631462097168\n",
      "Iteration: 4411 | disc_loss: -0.18259266018867493 | gen_loss: -0.01761223003268242\n",
      "Iteration: 4412 | disc_loss: -0.48674672842025757 | gen_loss: -0.24754026532173157\n",
      "Iteration: 4413 | disc_loss: -0.5492502450942993 | gen_loss: 0.06329089403152466\n",
      "Iteration: 4414 | disc_loss: -0.6655261516571045 | gen_loss: 0.012585744261741638\n"
     ]
    },
    {
     "name": "stderr",
     "output_type": "stream",
     "text": [
      " 88%|████████▊ | 4421/5001 [02:54<00:21, 26.55it/s]"
     ]
    },
    {
     "name": "stdout",
     "output_type": "stream",
     "text": [
      "Iteration: 4415 | disc_loss: -0.5531665086746216 | gen_loss: 0.1023700088262558\n",
      "Iteration: 4416 | disc_loss: -0.6051803827285767 | gen_loss: -0.07776311784982681\n",
      "Iteration: 4417 | disc_loss: -0.7494021654129028 | gen_loss: -0.2330058217048645\n",
      "Iteration: 4418 | disc_loss: -0.6274812817573547 | gen_loss: -0.1079900711774826\n",
      "Iteration: 4419 | disc_loss: -0.7725714445114136 | gen_loss: -0.07251054793596268\n",
      "Iteration: 4420 | disc_loss: -1.0243322849273682 | gen_loss: 0.22870376706123352\n"
     ]
    },
    {
     "name": "stderr",
     "output_type": "stream",
     "text": [
      " 89%|████████▊ | 4427/5001 [02:55<00:21, 26.65it/s]"
     ]
    },
    {
     "name": "stdout",
     "output_type": "stream",
     "text": [
      "Iteration: 4421 | disc_loss: -0.4925769567489624 | gen_loss: 0.07731755077838898\n",
      "Iteration: 4422 | disc_loss: -0.5996773838996887 | gen_loss: 0.016877181828022003\n",
      "Iteration: 4423 | disc_loss: -0.47888654470443726 | gen_loss: 0.21451391279697418\n",
      "Iteration: 4424 | disc_loss: -0.5949794054031372 | gen_loss: -0.03236616402864456\n",
      "Iteration: 4425 | disc_loss: -0.7230806946754456 | gen_loss: -0.2175760716199875\n",
      "Iteration: 4426 | disc_loss: -0.671087920665741 | gen_loss: -0.0768817737698555\n"
     ]
    },
    {
     "name": "stderr",
     "output_type": "stream",
     "text": [
      " 89%|████████▊ | 4433/5001 [02:55<00:21, 26.93it/s]"
     ]
    },
    {
     "name": "stdout",
     "output_type": "stream",
     "text": [
      "Iteration: 4427 | disc_loss: -0.2365819811820984 | gen_loss: -0.2753956913948059\n",
      "Iteration: 4428 | disc_loss: -0.5503917336463928 | gen_loss: 0.017751634120941162\n",
      "Iteration: 4429 | disc_loss: -0.8265148401260376 | gen_loss: 0.1746731400489807\n",
      "Iteration: 4430 | disc_loss: -0.6054613590240479 | gen_loss: 0.02486911043524742\n",
      "Iteration: 4431 | disc_loss: -0.9050902128219604 | gen_loss: -0.2609737813472748\n",
      "Iteration: 4432 | disc_loss: -0.8240914344787598 | gen_loss: -0.12026235461235046\n"
     ]
    },
    {
     "name": "stderr",
     "output_type": "stream",
     "text": [
      " 89%|████████▉ | 4439/5001 [02:55<00:20, 26.82it/s]"
     ]
    },
    {
     "name": "stdout",
     "output_type": "stream",
     "text": [
      "Iteration: 4433 | disc_loss: -0.5955824255943298 | gen_loss: -0.12840433418750763\n",
      "Iteration: 4434 | disc_loss: -0.7195505499839783 | gen_loss: 0.08350086957216263\n",
      "Iteration: 4435 | disc_loss: -0.6564193964004517 | gen_loss: -0.14496128261089325\n",
      "Iteration: 4436 | disc_loss: -0.7424870729446411 | gen_loss: 0.12986117601394653\n",
      "Iteration: 4437 | disc_loss: -0.8228148818016052 | gen_loss: -0.12762729823589325\n",
      "Iteration: 4438 | disc_loss: -0.6839569211006165 | gen_loss: -0.014503523707389832\n"
     ]
    },
    {
     "name": "stderr",
     "output_type": "stream",
     "text": [
      " 89%|████████▉ | 4445/5001 [02:55<00:20, 26.48it/s]"
     ]
    },
    {
     "name": "stdout",
     "output_type": "stream",
     "text": [
      "Iteration: 4439 | disc_loss: -0.6577637195587158 | gen_loss: -0.08634281158447266\n",
      "Iteration: 4440 | disc_loss: -0.6708341836929321 | gen_loss: -0.05958527326583862\n",
      "Iteration: 4441 | disc_loss: -1.0716438293457031 | gen_loss: -0.0345483124256134\n",
      "Iteration: 4442 | disc_loss: -0.6144567131996155 | gen_loss: 0.005548745393753052\n",
      "Iteration: 4443 | disc_loss: -0.5918556451797485 | gen_loss: 0.2594107985496521\n",
      "Iteration: 4444 | disc_loss: -0.6108666062355042 | gen_loss: -0.15361443161964417\n"
     ]
    },
    {
     "name": "stderr",
     "output_type": "stream",
     "text": [
      " 89%|████████▉ | 4451/5001 [02:56<00:21, 25.13it/s]"
     ]
    },
    {
     "name": "stdout",
     "output_type": "stream",
     "text": [
      "Iteration: 4445 | disc_loss: -0.5688486695289612 | gen_loss: -0.05007542297244072\n",
      "Iteration: 4446 | disc_loss: -0.7587827444076538 | gen_loss: 0.008389292284846306\n",
      "Iteration: 4447 | disc_loss: -0.15079903602600098 | gen_loss: -0.23128262162208557\n",
      "Iteration: 4448 | disc_loss: -0.7647151947021484 | gen_loss: -0.009487412869930267\n",
      "Iteration: 4449 | disc_loss: -0.863517701625824 | gen_loss: -0.02970564365386963\n",
      "Iteration: 4450 | disc_loss: -0.7667656540870667 | gen_loss: -0.17508122324943542\n"
     ]
    },
    {
     "name": "stderr",
     "output_type": "stream",
     "text": [
      " 89%|████████▉ | 4457/5001 [02:56<00:21, 25.61it/s]"
     ]
    },
    {
     "name": "stdout",
     "output_type": "stream",
     "text": [
      "Iteration: 4451 | disc_loss: -0.288323312997818 | gen_loss: 0.2080010026693344\n",
      "Iteration: 4452 | disc_loss: -0.7331361174583435 | gen_loss: -0.30318740010261536\n",
      "Iteration: 4453 | disc_loss: -0.6392927169799805 | gen_loss: 0.21070235967636108\n",
      "Iteration: 4454 | disc_loss: -0.8589449524879456 | gen_loss: -0.15823040902614594\n",
      "Iteration: 4455 | disc_loss: -0.8019416332244873 | gen_loss: 0.005729150027036667\n",
      "Iteration: 4456 | disc_loss: -0.6077222228050232 | gen_loss: -0.004777535796165466\n"
     ]
    },
    {
     "name": "stderr",
     "output_type": "stream",
     "text": [
      " 89%|████████▉ | 4463/5001 [02:56<00:20, 26.19it/s]"
     ]
    },
    {
     "name": "stdout",
     "output_type": "stream",
     "text": [
      "Iteration: 4457 | disc_loss: -0.8077693581581116 | gen_loss: -0.18002600967884064\n",
      "Iteration: 4458 | disc_loss: -0.5100836157798767 | gen_loss: -0.1314230114221573\n",
      "Iteration: 4459 | disc_loss: -0.7207565903663635 | gen_loss: -0.0340164378285408\n",
      "Iteration: 4460 | disc_loss: -0.7240591049194336 | gen_loss: -0.2358929067850113\n",
      "Iteration: 4461 | disc_loss: -0.7273351550102234 | gen_loss: 0.05152253061532974\n",
      "Iteration: 4462 | disc_loss: -0.8977609872817993 | gen_loss: -0.1729799509048462\n"
     ]
    },
    {
     "name": "stderr",
     "output_type": "stream",
     "text": [
      " 89%|████████▉ | 4469/5001 [02:56<00:20, 26.39it/s]"
     ]
    },
    {
     "name": "stdout",
     "output_type": "stream",
     "text": [
      "Iteration: 4463 | disc_loss: -0.7365732192993164 | gen_loss: -0.22131460905075073\n",
      "Iteration: 4464 | disc_loss: -0.5863437056541443 | gen_loss: -0.4291926324367523\n",
      "Iteration: 4465 | disc_loss: -0.744682788848877 | gen_loss: -0.00020349398255348206\n",
      "Iteration: 4466 | disc_loss: -0.25429630279541016 | gen_loss: 0.005433082580566406\n",
      "Iteration: 4467 | disc_loss: -0.37875792384147644 | gen_loss: -0.008126430213451385\n",
      "Iteration: 4468 | disc_loss: -0.5296650528907776 | gen_loss: 0.11405014991760254\n"
     ]
    },
    {
     "name": "stderr",
     "output_type": "stream",
     "text": [
      " 89%|████████▉ | 4475/5001 [02:56<00:19, 26.57it/s]"
     ]
    },
    {
     "name": "stdout",
     "output_type": "stream",
     "text": [
      "Iteration: 4469 | disc_loss: -0.3903418779373169 | gen_loss: 0.16746309399604797\n",
      "Iteration: 4470 | disc_loss: -0.7132712006568909 | gen_loss: 0.10415539145469666\n",
      "Iteration: 4471 | disc_loss: -0.6429382562637329 | gen_loss: -0.05577600374817848\n",
      "Iteration: 4472 | disc_loss: -0.37357911467552185 | gen_loss: -0.21782800555229187\n",
      "Iteration: 4473 | disc_loss: -0.7267378568649292 | gen_loss: 0.09261929988861084\n",
      "Iteration: 4474 | disc_loss: -0.4678158760070801 | gen_loss: -0.015926498919725418\n"
     ]
    },
    {
     "name": "stderr",
     "output_type": "stream",
     "text": [
      " 90%|████████▉ | 4478/5001 [02:57<00:19, 26.33it/s]"
     ]
    },
    {
     "name": "stdout",
     "output_type": "stream",
     "text": [
      "Iteration: 4475 | disc_loss: -0.6178176999092102 | gen_loss: -0.04664810374379158\n",
      "Iteration: 4476 | disc_loss: -0.9037733674049377 | gen_loss: -0.17601855099201202\n",
      "Iteration: 4477 | disc_loss: -0.5448459386825562 | gen_loss: -0.07192926853895187\n",
      "Iteration: 4478 | disc_loss: -0.6416618824005127 | gen_loss: 0.3251083493232727\n",
      "Iteration: 4479 | disc_loss: -0.6584598422050476 | gen_loss: -0.014281809329986572\n"
     ]
    },
    {
     "name": "stderr",
     "output_type": "stream",
     "text": [
      " 90%|████████▉ | 4484/5001 [02:57<00:20, 25.61it/s]"
     ]
    },
    {
     "name": "stdout",
     "output_type": "stream",
     "text": [
      "Iteration: 4480 | disc_loss: -0.5282981395721436 | gen_loss: -0.18766090273857117\n",
      "Iteration: 4481 | disc_loss: -0.5998124480247498 | gen_loss: 0.11047492921352386\n",
      "Iteration: 4482 | disc_loss: -0.33814364671707153 | gen_loss: 0.17814452946186066\n",
      "Iteration: 4483 | disc_loss: -0.6534229516983032 | gen_loss: -0.013006776571273804\n",
      "Iteration: 4484 | disc_loss: -0.6883388757705688 | gen_loss: -0.020486511290073395\n",
      "Iteration: 4485 | disc_loss: -0.8213857412338257 | gen_loss: -0.024857960641384125\n"
     ]
    },
    {
     "name": "stderr",
     "output_type": "stream",
     "text": [
      " 90%|████████▉ | 4490/5001 [02:57<00:21, 23.25it/s]"
     ]
    },
    {
     "name": "stdout",
     "output_type": "stream",
     "text": [
      "Iteration: 4486 | disc_loss: -0.7091824412345886 | gen_loss: 0.11989414691925049\n",
      "Iteration: 4487 | disc_loss: -0.7118477821350098 | gen_loss: -0.053576208651065826\n",
      "Iteration: 4488 | disc_loss: -0.49746179580688477 | gen_loss: -0.37717339396476746\n",
      "Iteration: 4489 | disc_loss: -0.8051177263259888 | gen_loss: -0.3860952854156494\n",
      "Iteration: 4490 | disc_loss: -0.26101750135421753 | gen_loss: 0.002397872507572174\n"
     ]
    },
    {
     "name": "stderr",
     "output_type": "stream",
     "text": [
      " 90%|████████▉ | 4496/5001 [02:57<00:20, 24.77it/s]"
     ]
    },
    {
     "name": "stdout",
     "output_type": "stream",
     "text": [
      "Iteration: 4491 | disc_loss: -0.4444667398929596 | gen_loss: -0.053576961159706116\n",
      "Iteration: 4492 | disc_loss: -0.5727642178535461 | gen_loss: -0.07702968269586563\n",
      "Iteration: 4493 | disc_loss: -0.46206963062286377 | gen_loss: 0.04569043219089508\n",
      "Iteration: 4494 | disc_loss: -0.21221819519996643 | gen_loss: -0.04607871547341347\n",
      "Iteration: 4495 | disc_loss: -0.9414736032485962 | gen_loss: -0.3682200312614441\n",
      "Iteration: 4496 | disc_loss: -0.5937298536300659 | gen_loss: -0.0764729231595993\n"
     ]
    },
    {
     "name": "stderr",
     "output_type": "stream",
     "text": [
      " 90%|█████████ | 4502/5001 [02:58<00:19, 25.86it/s]"
     ]
    },
    {
     "name": "stdout",
     "output_type": "stream",
     "text": [
      "Iteration: 4497 | disc_loss: -0.5039573311805725 | gen_loss: -0.12917907536029816\n",
      "Iteration: 4498 | disc_loss: -0.2639826238155365 | gen_loss: -0.36316221952438354\n",
      "Iteration: 4499 | disc_loss: -0.6666931509971619 | gen_loss: 0.04784713685512543\n",
      "Iteration: 4500 | disc_loss: -0.6695769429206848 | gen_loss: -0.2885620594024658\n",
      "Iteration: 4501 | disc_loss: -0.6594134569168091 | gen_loss: -0.20264539122581482\n",
      "Iteration: 4502 | disc_loss: -0.5909655690193176 | gen_loss: -0.044632021337747574\n"
     ]
    },
    {
     "name": "stderr",
     "output_type": "stream",
     "text": [
      " 90%|█████████ | 4508/5001 [02:58<00:18, 26.37it/s]"
     ]
    },
    {
     "name": "stdout",
     "output_type": "stream",
     "text": [
      "Iteration: 4503 | disc_loss: -0.3127736449241638 | gen_loss: 0.013604192063212395\n",
      "Iteration: 4504 | disc_loss: -0.6140133142471313 | gen_loss: -0.14785784482955933\n",
      "Iteration: 4505 | disc_loss: -0.8519321084022522 | gen_loss: -0.02883436530828476\n",
      "Iteration: 4506 | disc_loss: -0.5982538461685181 | gen_loss: -0.08326342701911926\n",
      "Iteration: 4507 | disc_loss: -0.7132256031036377 | gen_loss: -0.13369297981262207\n",
      "Iteration: 4508 | disc_loss: -0.7596375942230225 | gen_loss: -0.02887585014104843\n"
     ]
    },
    {
     "name": "stderr",
     "output_type": "stream",
     "text": [
      " 90%|█████████ | 4514/5001 [02:58<00:18, 26.97it/s]"
     ]
    },
    {
     "name": "stdout",
     "output_type": "stream",
     "text": [
      "Iteration: 4509 | disc_loss: -0.7089789509773254 | gen_loss: -0.23004114627838135\n",
      "Iteration: 4510 | disc_loss: -0.7647169232368469 | gen_loss: 0.015763478353619576\n",
      "Iteration: 4511 | disc_loss: -0.648780345916748 | gen_loss: -0.3204927146434784\n",
      "Iteration: 4512 | disc_loss: -0.8171535134315491 | gen_loss: -0.01855449378490448\n",
      "Iteration: 4513 | disc_loss: -0.5656716823577881 | gen_loss: -0.14374162256717682\n",
      "Iteration: 4514 | disc_loss: -0.6542242765426636 | gen_loss: -0.13693565130233765\n"
     ]
    },
    {
     "name": "stderr",
     "output_type": "stream",
     "text": [
      " 90%|█████████ | 4520/5001 [02:58<00:17, 26.99it/s]"
     ]
    },
    {
     "name": "stdout",
     "output_type": "stream",
     "text": [
      "Iteration: 4515 | disc_loss: -0.710996687412262 | gen_loss: 0.021477557718753815\n",
      "Iteration: 4516 | disc_loss: -0.5326586961746216 | gen_loss: -0.18496073782444\n",
      "Iteration: 4517 | disc_loss: -0.5594701766967773 | gen_loss: -0.16471633315086365\n",
      "Iteration: 4518 | disc_loss: -0.2088945060968399 | gen_loss: 0.10129658132791519\n",
      "Iteration: 4519 | disc_loss: -0.4529791474342346 | gen_loss: 0.11217524856328964\n",
      "Iteration: 4520 | disc_loss: -0.7867104411125183 | gen_loss: -0.1933777630329132\n"
     ]
    },
    {
     "name": "stderr",
     "output_type": "stream",
     "text": [
      " 91%|█████████ | 4526/5001 [02:58<00:18, 26.27it/s]"
     ]
    },
    {
     "name": "stdout",
     "output_type": "stream",
     "text": [
      "Iteration: 4521 | disc_loss: -0.7045957446098328 | gen_loss: -0.03431808203458786\n",
      "Iteration: 4522 | disc_loss: -0.8833156228065491 | gen_loss: -0.04357823729515076\n",
      "Iteration: 4523 | disc_loss: -0.40290069580078125 | gen_loss: -0.21729935705661774\n",
      "Iteration: 4524 | disc_loss: -0.7270852327346802 | gen_loss: -0.007901139557361603\n",
      "Iteration: 4525 | disc_loss: -0.42863959074020386 | gen_loss: -0.0790896862745285\n",
      "Iteration: 4526 | disc_loss: -0.7380568981170654 | gen_loss: -0.2402629256248474\n"
     ]
    },
    {
     "name": "stderr",
     "output_type": "stream",
     "text": [
      " 91%|█████████ | 4532/5001 [02:59<00:17, 26.46it/s]"
     ]
    },
    {
     "name": "stdout",
     "output_type": "stream",
     "text": [
      "Iteration: 4527 | disc_loss: -0.7051283717155457 | gen_loss: -0.3259804844856262\n",
      "Iteration: 4528 | disc_loss: -0.26608672738075256 | gen_loss: -0.19337977468967438\n",
      "Iteration: 4529 | disc_loss: -0.8797363042831421 | gen_loss: -0.2912672758102417\n",
      "Iteration: 4530 | disc_loss: -0.5504751205444336 | gen_loss: -0.07104052603244781\n",
      "Iteration: 4531 | disc_loss: -0.4283284544944763 | gen_loss: -0.21216805279254913\n",
      "Iteration: 4532 | disc_loss: -0.7460111379623413 | gen_loss: -0.09263734519481659\n"
     ]
    },
    {
     "name": "stderr",
     "output_type": "stream",
     "text": [
      " 91%|█████████ | 4538/5001 [02:59<00:17, 26.68it/s]"
     ]
    },
    {
     "name": "stdout",
     "output_type": "stream",
     "text": [
      "Iteration: 4533 | disc_loss: -0.8046419620513916 | gen_loss: -0.13106608390808105\n",
      "Iteration: 4534 | disc_loss: -0.6177356839179993 | gen_loss: -0.09437541663646698\n",
      "Iteration: 4535 | disc_loss: -0.7597930431365967 | gen_loss: -0.15719366073608398\n",
      "Iteration: 4536 | disc_loss: -0.7947006821632385 | gen_loss: -0.062224093824625015\n",
      "Iteration: 4537 | disc_loss: -0.6087675094604492 | gen_loss: -0.011262111365795135\n",
      "Iteration: 4538 | disc_loss: -0.3205694854259491 | gen_loss: -0.136620432138443\n"
     ]
    },
    {
     "name": "stderr",
     "output_type": "stream",
     "text": [
      " 91%|█████████ | 4544/5001 [02:59<00:17, 26.06it/s]"
     ]
    },
    {
     "name": "stdout",
     "output_type": "stream",
     "text": [
      "Iteration: 4539 | disc_loss: -0.6593028903007507 | gen_loss: -0.2759188711643219\n",
      "Iteration: 4540 | disc_loss: -0.44718825817108154 | gen_loss: -0.34633561968803406\n",
      "Iteration: 4541 | disc_loss: -0.3172183930873871 | gen_loss: -0.06248137354850769\n",
      "Iteration: 4542 | disc_loss: -0.7247324585914612 | gen_loss: -0.282414972782135\n",
      "Iteration: 4543 | disc_loss: -0.19087369740009308 | gen_loss: 0.023560941219329834\n"
     ]
    },
    {
     "name": "stderr",
     "output_type": "stream",
     "text": [
      " 91%|█████████ | 4550/5001 [02:59<00:18, 24.94it/s]"
     ]
    },
    {
     "name": "stdout",
     "output_type": "stream",
     "text": [
      "Iteration: 4544 | disc_loss: -0.7487898468971252 | gen_loss: -0.11329801380634308\n",
      "Iteration: 4545 | disc_loss: -0.4538784921169281 | gen_loss: -0.10372063517570496\n",
      "Iteration: 4546 | disc_loss: -0.5781978964805603 | gen_loss: -0.3661223351955414\n",
      "Iteration: 4547 | disc_loss: -0.5727528929710388 | gen_loss: -0.14800772070884705\n",
      "Iteration: 4548 | disc_loss: -0.520686149597168 | gen_loss: -0.03363914415240288\n",
      "Iteration: 4549 | disc_loss: -0.6666167378425598 | gen_loss: -0.11447212100028992\n"
     ]
    },
    {
     "name": "stderr",
     "output_type": "stream",
     "text": [
      " 91%|█████████ | 4556/5001 [03:00<00:17, 25.46it/s]"
     ]
    },
    {
     "name": "stdout",
     "output_type": "stream",
     "text": [
      "Iteration: 4550 | disc_loss: -0.321386456489563 | gen_loss: -0.02855566330254078\n",
      "Iteration: 4551 | disc_loss: -0.4326471984386444 | gen_loss: -0.08222729712724686\n",
      "Iteration: 4552 | disc_loss: -0.603391170501709 | gen_loss: -0.16575226187705994\n",
      "Iteration: 4553 | disc_loss: -0.7635369896888733 | gen_loss: -0.35186949372291565\n",
      "Iteration: 4554 | disc_loss: -0.7224320769309998 | gen_loss: -0.16898179054260254\n",
      "Iteration: 4555 | disc_loss: -0.3165765404701233 | gen_loss: -0.053700000047683716\n"
     ]
    },
    {
     "name": "stderr",
     "output_type": "stream",
     "text": [
      " 91%|█████████ | 4562/5001 [03:00<00:16, 25.95it/s]"
     ]
    },
    {
     "name": "stdout",
     "output_type": "stream",
     "text": [
      "Iteration: 4556 | disc_loss: -0.8478296399116516 | gen_loss: -0.3452138900756836\n",
      "Iteration: 4557 | disc_loss: -0.46590158343315125 | gen_loss: -0.1035899966955185\n",
      "Iteration: 4558 | disc_loss: -0.5739378929138184 | gen_loss: -0.07936020195484161\n",
      "Iteration: 4559 | disc_loss: -0.676733672618866 | gen_loss: 0.029967598617076874\n",
      "Iteration: 4560 | disc_loss: -0.7894738912582397 | gen_loss: -0.12379354238510132\n",
      "Iteration: 4561 | disc_loss: -0.728991687297821 | gen_loss: -0.11714290827512741\n"
     ]
    },
    {
     "name": "stderr",
     "output_type": "stream",
     "text": [
      " 91%|█████████▏| 4568/5001 [03:00<00:17, 25.44it/s]"
     ]
    },
    {
     "name": "stdout",
     "output_type": "stream",
     "text": [
      "Iteration: 4562 | disc_loss: -0.7146078944206238 | gen_loss: -0.4583088159561157\n",
      "Iteration: 4563 | disc_loss: -0.35669636726379395 | gen_loss: -0.19117680191993713\n",
      "Iteration: 4564 | disc_loss: -0.8590933680534363 | gen_loss: -0.0487804114818573\n",
      "Iteration: 4565 | disc_loss: -0.750924289226532 | gen_loss: -0.3639046549797058\n",
      "Iteration: 4566 | disc_loss: -0.6397786736488342 | gen_loss: -0.16252388060092926\n",
      "Iteration: 4567 | disc_loss: -0.6265766620635986 | gen_loss: -0.36012572050094604\n"
     ]
    },
    {
     "name": "stderr",
     "output_type": "stream",
     "text": [
      " 91%|█████████▏| 4574/5001 [03:00<00:16, 26.15it/s]"
     ]
    },
    {
     "name": "stdout",
     "output_type": "stream",
     "text": [
      "Iteration: 4568 | disc_loss: 0.020135700702667236 | gen_loss: -0.122108593583107\n",
      "Iteration: 4569 | disc_loss: -0.31391632556915283 | gen_loss: -0.07955096662044525\n",
      "Iteration: 4570 | disc_loss: -0.38914626836776733 | gen_loss: 0.0030778590589761734\n",
      "Iteration: 4571 | disc_loss: -0.34952449798583984 | gen_loss: -0.19645409286022186\n",
      "Iteration: 4572 | disc_loss: -0.6303573250770569 | gen_loss: -0.21092230081558228\n",
      "Iteration: 4573 | disc_loss: -0.5642235279083252 | gen_loss: -0.005153477191925049\n"
     ]
    },
    {
     "name": "stderr",
     "output_type": "stream",
     "text": [
      " 92%|█████████▏| 4580/5001 [03:01<00:15, 26.58it/s]"
     ]
    },
    {
     "name": "stdout",
     "output_type": "stream",
     "text": [
      "Iteration: 4574 | disc_loss: -0.5007157325744629 | gen_loss: -0.10840817540884018\n",
      "Iteration: 4575 | disc_loss: -0.4924907088279724 | gen_loss: 0.1669575721025467\n",
      "Iteration: 4576 | disc_loss: -0.769070565700531 | gen_loss: -0.03973936662077904\n",
      "Iteration: 4577 | disc_loss: -0.7667884826660156 | gen_loss: -0.09874173998832703\n",
      "Iteration: 4578 | disc_loss: -0.7322668433189392 | gen_loss: 0.020306523889303207\n",
      "Iteration: 4579 | disc_loss: -0.5543668866157532 | gen_loss: -0.39888787269592285\n"
     ]
    },
    {
     "name": "stderr",
     "output_type": "stream",
     "text": [
      " 92%|█████████▏| 4586/5001 [03:01<00:15, 26.74it/s]"
     ]
    },
    {
     "name": "stdout",
     "output_type": "stream",
     "text": [
      "Iteration: 4580 | disc_loss: -0.535490870475769 | gen_loss: -0.1135568916797638\n",
      "Iteration: 4581 | disc_loss: -0.47384002804756165 | gen_loss: -0.22000442445278168\n",
      "Iteration: 4582 | disc_loss: -0.5427875518798828 | gen_loss: 0.012628789991140366\n",
      "Iteration: 4583 | disc_loss: -0.4140655994415283 | gen_loss: 0.10980652272701263\n",
      "Iteration: 4584 | disc_loss: -0.6579360961914062 | gen_loss: -0.10741189867258072\n",
      "Iteration: 4585 | disc_loss: -0.8890355825424194 | gen_loss: -0.08989955484867096\n"
     ]
    },
    {
     "name": "stderr",
     "output_type": "stream",
     "text": [
      " 92%|█████████▏| 4592/5001 [03:01<00:15, 26.81it/s]"
     ]
    },
    {
     "name": "stdout",
     "output_type": "stream",
     "text": [
      "Iteration: 4586 | disc_loss: -0.663529098033905 | gen_loss: -0.34267666935920715\n",
      "Iteration: 4587 | disc_loss: -0.5401899814605713 | gen_loss: -0.19080716371536255\n",
      "Iteration: 4588 | disc_loss: -0.7007770538330078 | gen_loss: -0.18139618635177612\n",
      "Iteration: 4589 | disc_loss: -0.43477633595466614 | gen_loss: 0.03898285701870918\n",
      "Iteration: 4590 | disc_loss: -0.3663397431373596 | gen_loss: -0.3586128056049347\n",
      "Iteration: 4591 | disc_loss: -0.8834498524665833 | gen_loss: -0.023688793182373047\n"
     ]
    },
    {
     "name": "stderr",
     "output_type": "stream",
     "text": [
      " 92%|█████████▏| 4595/5001 [03:01<00:15, 26.51it/s]"
     ]
    },
    {
     "name": "stdout",
     "output_type": "stream",
     "text": [
      "Iteration: 4592 | disc_loss: -0.5999968647956848 | gen_loss: -0.14915937185287476\n",
      "Iteration: 4593 | disc_loss: -0.5180500745773315 | gen_loss: -0.176000714302063\n",
      "Iteration: 4594 | disc_loss: -0.8415122032165527 | gen_loss: -0.17842820286750793\n",
      "Iteration: 4595 | disc_loss: -0.40539616346359253 | gen_loss: -0.2405344545841217\n",
      "Iteration: 4596 | disc_loss: -0.6046348810195923 | gen_loss: 0.12066610902547836\n"
     ]
    },
    {
     "name": "stderr",
     "output_type": "stream",
     "text": [
      " 92%|█████████▏| 4601/5001 [03:01<00:16, 23.98it/s]"
     ]
    },
    {
     "name": "stdout",
     "output_type": "stream",
     "text": [
      "Iteration: 4597 | disc_loss: -0.43006187677383423 | gen_loss: -0.17284995317459106\n",
      "Iteration: 4598 | disc_loss: -0.633518397808075 | gen_loss: -0.06912533938884735\n",
      "Iteration: 4599 | disc_loss: -0.43637076020240784 | gen_loss: 0.31113603711128235\n",
      "Iteration: 4600 | disc_loss: -0.562227725982666 | gen_loss: 0.42376837134361267\n",
      "Iteration: 4601 | disc_loss: -0.6242252588272095 | gen_loss: -0.14162567257881165\n"
     ]
    },
    {
     "name": "stderr",
     "output_type": "stream",
     "text": [
      " 92%|█████████▏| 4607/5001 [03:02<00:15, 25.16it/s]"
     ]
    },
    {
     "name": "stdout",
     "output_type": "stream",
     "text": [
      "Iteration: 4602 | disc_loss: -0.607498288154602 | gen_loss: -0.19327515363693237\n",
      "Iteration: 4603 | disc_loss: -0.6525780558586121 | gen_loss: -0.22265487909317017\n",
      "Iteration: 4604 | disc_loss: -0.7912722229957581 | gen_loss: -0.20965544879436493\n",
      "Iteration: 4605 | disc_loss: -0.6510999798774719 | gen_loss: -0.373656302690506\n",
      "Iteration: 4606 | disc_loss: -0.7912991642951965 | gen_loss: -0.19263887405395508\n",
      "Iteration: 4607 | disc_loss: -0.5012694001197815 | gen_loss: 0.008284185081720352\n"
     ]
    },
    {
     "name": "stderr",
     "output_type": "stream",
     "text": [
      " 92%|█████████▏| 4613/5001 [03:02<00:14, 25.91it/s]"
     ]
    },
    {
     "name": "stdout",
     "output_type": "stream",
     "text": [
      "Iteration: 4608 | disc_loss: -0.5250039100646973 | gen_loss: -0.11733116209506989\n",
      "Iteration: 4609 | disc_loss: -0.7498741745948792 | gen_loss: -0.31644606590270996\n",
      "Iteration: 4610 | disc_loss: -0.545292317867279 | gen_loss: -0.20460234582424164\n",
      "Iteration: 4611 | disc_loss: -0.8698487281799316 | gen_loss: -0.11910142749547958\n",
      "Iteration: 4612 | disc_loss: -0.68900465965271 | gen_loss: -0.22316642105579376\n",
      "Iteration: 4613 | disc_loss: -0.6697638034820557 | gen_loss: -0.12400956451892853\n"
     ]
    },
    {
     "name": "stderr",
     "output_type": "stream",
     "text": [
      " 92%|█████████▏| 4619/5001 [03:02<00:14, 26.62it/s]"
     ]
    },
    {
     "name": "stdout",
     "output_type": "stream",
     "text": [
      "Iteration: 4614 | disc_loss: -0.6621073484420776 | gen_loss: -0.04595932364463806\n",
      "Iteration: 4615 | disc_loss: -0.6862360239028931 | gen_loss: -0.11024381965398788\n",
      "Iteration: 4616 | disc_loss: -0.5012176036834717 | gen_loss: -0.058380112051963806\n",
      "Iteration: 4617 | disc_loss: -0.6016206741333008 | gen_loss: 0.13085144758224487\n",
      "Iteration: 4618 | disc_loss: -0.32128018140792847 | gen_loss: 0.06461214274168015\n",
      "Iteration: 4619 | disc_loss: -0.39585891366004944 | gen_loss: -0.11770971119403839\n"
     ]
    },
    {
     "name": "stderr",
     "output_type": "stream",
     "text": [
      " 92%|█████████▏| 4625/5001 [03:02<00:14, 25.12it/s]"
     ]
    },
    {
     "name": "stdout",
     "output_type": "stream",
     "text": [
      "Iteration: 4620 | disc_loss: -0.5724977850914001 | gen_loss: 0.1261729896068573\n",
      "Iteration: 4621 | disc_loss: -0.9273034930229187 | gen_loss: -0.13716095685958862\n",
      "Iteration: 4622 | disc_loss: -0.7865732312202454 | gen_loss: -0.11066532880067825\n",
      "Iteration: 4623 | disc_loss: -0.7072796821594238 | gen_loss: -0.09759275615215302\n",
      "Iteration: 4624 | disc_loss: -0.5574142932891846 | gen_loss: -0.15955737233161926\n"
     ]
    },
    {
     "name": "stderr",
     "output_type": "stream",
     "text": [
      " 93%|█████████▎| 4631/5001 [03:03<00:14, 25.80it/s]"
     ]
    },
    {
     "name": "stdout",
     "output_type": "stream",
     "text": [
      "Iteration: 4625 | disc_loss: -0.7703620791435242 | gen_loss: -0.1380254477262497\n",
      "Iteration: 4626 | disc_loss: -0.6734424233436584 | gen_loss: 0.019740041345357895\n",
      "Iteration: 4627 | disc_loss: -0.2017967700958252 | gen_loss: -0.17234769463539124\n",
      "Iteration: 4628 | disc_loss: -0.5900127291679382 | gen_loss: -0.022995710372924805\n",
      "Iteration: 4629 | disc_loss: -0.692399263381958 | gen_loss: -0.17373858392238617\n",
      "Iteration: 4630 | disc_loss: -0.4570484757423401 | gen_loss: 0.08500389754772186\n"
     ]
    },
    {
     "name": "stderr",
     "output_type": "stream",
     "text": [
      " 93%|█████████▎| 4637/5001 [03:03<00:14, 25.91it/s]"
     ]
    },
    {
     "name": "stdout",
     "output_type": "stream",
     "text": [
      "Iteration: 4631 | disc_loss: -0.050637900829315186 | gen_loss: -0.10774020850658417\n",
      "Iteration: 4632 | disc_loss: -0.8179438710212708 | gen_loss: 0.10239709913730621\n",
      "Iteration: 4633 | disc_loss: -0.7489749789237976 | gen_loss: -0.002991180866956711\n",
      "Iteration: 4634 | disc_loss: -0.6201690435409546 | gen_loss: -0.2848473787307739\n",
      "Iteration: 4635 | disc_loss: -0.5988358855247498 | gen_loss: -0.38635456562042236\n",
      "Iteration: 4636 | disc_loss: -0.8719019889831543 | gen_loss: 0.10987302660942078\n"
     ]
    },
    {
     "name": "stderr",
     "output_type": "stream",
     "text": [
      " 93%|█████████▎| 4643/5001 [03:03<00:13, 26.28it/s]"
     ]
    },
    {
     "name": "stdout",
     "output_type": "stream",
     "text": [
      "Iteration: 4637 | disc_loss: -0.7032655477523804 | gen_loss: 0.30191588401794434\n",
      "Iteration: 4638 | disc_loss: -0.6878732442855835 | gen_loss: -0.2347414493560791\n",
      "Iteration: 4639 | disc_loss: -0.483670175075531 | gen_loss: -0.17904852330684662\n",
      "Iteration: 4640 | disc_loss: -0.6761187314987183 | gen_loss: -0.025828346610069275\n",
      "Iteration: 4641 | disc_loss: -0.7442147731781006 | gen_loss: -0.19260220229625702\n",
      "Iteration: 4642 | disc_loss: -0.7551876306533813 | gen_loss: -0.16099682450294495\n"
     ]
    },
    {
     "name": "stderr",
     "output_type": "stream",
     "text": [
      " 93%|█████████▎| 4649/5001 [03:03<00:13, 26.49it/s]"
     ]
    },
    {
     "name": "stdout",
     "output_type": "stream",
     "text": [
      "Iteration: 4643 | disc_loss: -0.569033682346344 | gen_loss: -0.19144068658351898\n",
      "Iteration: 4644 | disc_loss: -0.605372965335846 | gen_loss: -0.08000440895557404\n",
      "Iteration: 4645 | disc_loss: -0.450863778591156 | gen_loss: -0.18103700876235962\n",
      "Iteration: 4646 | disc_loss: -0.7622436881065369 | gen_loss: -0.32460975646972656\n",
      "Iteration: 4647 | disc_loss: -0.8375523090362549 | gen_loss: -0.18625208735466003\n",
      "Iteration: 4648 | disc_loss: -0.5590988993644714 | gen_loss: -0.5277721285820007\n"
     ]
    },
    {
     "name": "stderr",
     "output_type": "stream",
     "text": [
      " 93%|█████████▎| 4655/5001 [03:03<00:13, 26.51it/s]"
     ]
    },
    {
     "name": "stdout",
     "output_type": "stream",
     "text": [
      "Iteration: 4649 | disc_loss: -0.748948872089386 | gen_loss: -0.32381361722946167\n",
      "Iteration: 4650 | disc_loss: -0.9812906980514526 | gen_loss: -0.13617581129074097\n",
      "Iteration: 4651 | disc_loss: -0.7268759608268738 | gen_loss: -0.19257760047912598\n",
      "Iteration: 4652 | disc_loss: -0.7999016046524048 | gen_loss: -0.0531340166926384\n",
      "Iteration: 4653 | disc_loss: -0.8232057094573975 | gen_loss: -0.14816570281982422\n",
      "Iteration: 4654 | disc_loss: -0.5993766188621521 | gen_loss: -0.20994648337364197\n"
     ]
    },
    {
     "name": "stderr",
     "output_type": "stream",
     "text": [
      " 93%|█████████▎| 4661/5001 [03:04<00:12, 26.45it/s]"
     ]
    },
    {
     "name": "stdout",
     "output_type": "stream",
     "text": [
      "Iteration: 4655 | disc_loss: -0.46580690145492554 | gen_loss: -0.07557724416255951\n",
      "Iteration: 4656 | disc_loss: -0.6292982697486877 | gen_loss: 0.010317116975784302\n",
      "Iteration: 4657 | disc_loss: -0.3417920470237732 | gen_loss: -0.18049758672714233\n",
      "Iteration: 4658 | disc_loss: -0.585721492767334 | gen_loss: -0.0034614726901054382\n",
      "Iteration: 4659 | disc_loss: -0.8499793410301208 | gen_loss: -0.016392864286899567\n",
      "Iteration: 4660 | disc_loss: -0.6158899664878845 | gen_loss: -0.08510149270296097\n"
     ]
    },
    {
     "name": "stderr",
     "output_type": "stream",
     "text": [
      " 93%|█████████▎| 4667/5001 [03:04<00:12, 26.43it/s]"
     ]
    },
    {
     "name": "stdout",
     "output_type": "stream",
     "text": [
      "Iteration: 4661 | disc_loss: -0.6609942317008972 | gen_loss: -0.21183091402053833\n",
      "Iteration: 4662 | disc_loss: -0.7373084425926208 | gen_loss: -0.5202798843383789\n",
      "Iteration: 4663 | disc_loss: -0.428544282913208 | gen_loss: -0.2056894749403\n",
      "Iteration: 4664 | disc_loss: -0.9167493581771851 | gen_loss: -0.17134588956832886\n",
      "Iteration: 4665 | disc_loss: -0.5690982937812805 | gen_loss: -0.09460976719856262\n",
      "Iteration: 4666 | disc_loss: -0.7109981179237366 | gen_loss: -0.1090887039899826\n"
     ]
    },
    {
     "name": "stderr",
     "output_type": "stream",
     "text": [
      " 93%|█████████▎| 4673/5001 [03:04<00:12, 26.52it/s]"
     ]
    },
    {
     "name": "stdout",
     "output_type": "stream",
     "text": [
      "Iteration: 4667 | disc_loss: 0.05130469799041748 | gen_loss: 0.031380198895931244\n",
      "Iteration: 4668 | disc_loss: -0.4125852882862091 | gen_loss: 0.011192180216312408\n",
      "Iteration: 4669 | disc_loss: -0.4985559284687042 | gen_loss: -0.23574459552764893\n",
      "Iteration: 4670 | disc_loss: -0.9028477668762207 | gen_loss: -0.1706847846508026\n",
      "Iteration: 4671 | disc_loss: -0.5242191553115845 | gen_loss: -0.0307772234082222\n",
      "Iteration: 4672 | disc_loss: -0.6244125962257385 | gen_loss: -0.396140456199646\n"
     ]
    },
    {
     "name": "stderr",
     "output_type": "stream",
     "text": [
      " 94%|█████████▎| 4679/5001 [03:04<00:12, 26.34it/s]"
     ]
    },
    {
     "name": "stdout",
     "output_type": "stream",
     "text": [
      "Iteration: 4673 | disc_loss: -0.464287668466568 | gen_loss: -0.23234450817108154\n",
      "Iteration: 4674 | disc_loss: -0.44805192947387695 | gen_loss: -0.27948659658432007\n",
      "Iteration: 4675 | disc_loss: -0.8028895258903503 | gen_loss: -0.1789008378982544\n",
      "Iteration: 4676 | disc_loss: -0.494004487991333 | gen_loss: 0.0308903306722641\n",
      "Iteration: 4677 | disc_loss: -0.8861265182495117 | gen_loss: -0.17739321291446686\n",
      "Iteration: 4678 | disc_loss: -0.7325018644332886 | gen_loss: -0.22487911581993103\n"
     ]
    },
    {
     "name": "stderr",
     "output_type": "stream",
     "text": [
      " 94%|█████████▎| 4685/5001 [03:05<00:11, 26.35it/s]"
     ]
    },
    {
     "name": "stdout",
     "output_type": "stream",
     "text": [
      "Iteration: 4679 | disc_loss: -0.5020474195480347 | gen_loss: -0.12318141758441925\n",
      "Iteration: 4680 | disc_loss: -0.7479357123374939 | gen_loss: -0.1934438943862915\n",
      "Iteration: 4681 | disc_loss: -0.572834312915802 | gen_loss: -0.11104842275381088\n",
      "Iteration: 4682 | disc_loss: -0.6778319478034973 | gen_loss: -0.3528224527835846\n",
      "Iteration: 4683 | disc_loss: -0.7985659837722778 | gen_loss: -0.43130844831466675\n",
      "Iteration: 4684 | disc_loss: -0.4822441339492798 | gen_loss: -0.22443734109401703\n"
     ]
    },
    {
     "name": "stderr",
     "output_type": "stream",
     "text": [
      " 94%|█████████▍| 4691/5001 [03:05<00:11, 26.23it/s]"
     ]
    },
    {
     "name": "stdout",
     "output_type": "stream",
     "text": [
      "Iteration: 4685 | disc_loss: -0.5441579222679138 | gen_loss: -0.1027170866727829\n",
      "Iteration: 4686 | disc_loss: -0.7281160354614258 | gen_loss: -0.42872491478919983\n",
      "Iteration: 4687 | disc_loss: -0.3820299506187439 | gen_loss: 0.13672010600566864\n",
      "Iteration: 4688 | disc_loss: -0.5382688045501709 | gen_loss: -0.20189934968948364\n",
      "Iteration: 4689 | disc_loss: -0.8191070556640625 | gen_loss: -0.053591109812259674\n",
      "Iteration: 4690 | disc_loss: -0.417974054813385 | gen_loss: -0.01736132800579071\n"
     ]
    },
    {
     "name": "stderr",
     "output_type": "stream",
     "text": [
      " 94%|█████████▍| 4697/5001 [03:05<00:11, 26.24it/s]"
     ]
    },
    {
     "name": "stdout",
     "output_type": "stream",
     "text": [
      "Iteration: 4691 | disc_loss: -0.6710225939750671 | gen_loss: -0.24395814538002014\n",
      "Iteration: 4692 | disc_loss: -0.551275372505188 | gen_loss: -0.008031334728002548\n",
      "Iteration: 4693 | disc_loss: -0.8309245705604553 | gen_loss: 0.0742759257555008\n",
      "Iteration: 4694 | disc_loss: -0.49648040533065796 | gen_loss: -0.23409053683280945\n",
      "Iteration: 4695 | disc_loss: -0.8457863926887512 | gen_loss: 0.027401968836784363\n",
      "Iteration: 4696 | disc_loss: -0.6027361750602722 | gen_loss: -0.04331584274768829\n"
     ]
    },
    {
     "name": "stderr",
     "output_type": "stream",
     "text": [
      " 94%|█████████▍| 4703/5001 [03:05<00:11, 26.53it/s]"
     ]
    },
    {
     "name": "stdout",
     "output_type": "stream",
     "text": [
      "Iteration: 4697 | disc_loss: -0.6901178956031799 | gen_loss: 0.28730034828186035\n",
      "Iteration: 4698 | disc_loss: -0.6965986490249634 | gen_loss: -0.2698102593421936\n",
      "Iteration: 4699 | disc_loss: -0.6453852653503418 | gen_loss: 0.2105800211429596\n",
      "Iteration: 4700 | disc_loss: -0.557362973690033 | gen_loss: -0.18865792453289032\n",
      "Iteration: 4701 | disc_loss: -0.5842921733856201 | gen_loss: -0.20081694424152374\n",
      "Iteration: 4702 | disc_loss: -0.43269503116607666 | gen_loss: -0.13532207906246185\n"
     ]
    },
    {
     "name": "stderr",
     "output_type": "stream",
     "text": [
      " 94%|█████████▍| 4709/5001 [03:05<00:10, 26.73it/s]"
     ]
    },
    {
     "name": "stdout",
     "output_type": "stream",
     "text": [
      "Iteration: 4703 | disc_loss: -0.7191203236579895 | gen_loss: 0.44759151339530945\n",
      "Iteration: 4704 | disc_loss: -0.5752164125442505 | gen_loss: 0.20740237832069397\n",
      "Iteration: 4705 | disc_loss: -0.7875092625617981 | gen_loss: -0.13651025295257568\n",
      "Iteration: 4706 | disc_loss: -0.6957294940948486 | gen_loss: 0.03301304578781128\n",
      "Iteration: 4707 | disc_loss: -0.49205106496810913 | gen_loss: -0.26902225613594055\n",
      "Iteration: 4708 | disc_loss: -0.6393963694572449 | gen_loss: -0.3196355104446411\n"
     ]
    },
    {
     "name": "stderr",
     "output_type": "stream",
     "text": [
      " 94%|█████████▍| 4715/5001 [03:06<00:10, 26.92it/s]"
     ]
    },
    {
     "name": "stdout",
     "output_type": "stream",
     "text": [
      "Iteration: 4709 | disc_loss: -0.6031661033630371 | gen_loss: 0.43296515941619873\n",
      "Iteration: 4710 | disc_loss: -0.41910043358802795 | gen_loss: -0.34121888875961304\n",
      "Iteration: 4711 | disc_loss: -0.8753228187561035 | gen_loss: 0.09444078803062439\n",
      "Iteration: 4712 | disc_loss: -0.8374145030975342 | gen_loss: -0.08472758531570435\n",
      "Iteration: 4713 | disc_loss: -0.4963543713092804 | gen_loss: -0.18456068634986877\n",
      "Iteration: 4714 | disc_loss: -0.5586147904396057 | gen_loss: -0.08783482760190964\n"
     ]
    },
    {
     "name": "stderr",
     "output_type": "stream",
     "text": [
      " 94%|█████████▍| 4721/5001 [03:06<00:10, 26.74it/s]"
     ]
    },
    {
     "name": "stdout",
     "output_type": "stream",
     "text": [
      "Iteration: 4715 | disc_loss: -0.650750994682312 | gen_loss: -0.11650274693965912\n",
      "Iteration: 4716 | disc_loss: -0.3436841368675232 | gen_loss: -0.0688137337565422\n",
      "Iteration: 4717 | disc_loss: -0.6854019165039062 | gen_loss: -0.23070599138736725\n",
      "Iteration: 4718 | disc_loss: -0.5341646671295166 | gen_loss: -0.09540169686079025\n",
      "Iteration: 4719 | disc_loss: -0.46929746866226196 | gen_loss: 0.07457904517650604\n",
      "Iteration: 4720 | disc_loss: -0.6758871674537659 | gen_loss: -0.13089875876903534\n"
     ]
    },
    {
     "name": "stderr",
     "output_type": "stream",
     "text": [
      " 95%|█████████▍| 4727/5001 [03:06<00:10, 26.62it/s]"
     ]
    },
    {
     "name": "stdout",
     "output_type": "stream",
     "text": [
      "Iteration: 4721 | disc_loss: -0.5444484949111938 | gen_loss: -0.20292888581752777\n",
      "Iteration: 4722 | disc_loss: -0.7006810903549194 | gen_loss: -0.056282661855220795\n",
      "Iteration: 4723 | disc_loss: -0.685283362865448 | gen_loss: -0.31578999757766724\n",
      "Iteration: 4724 | disc_loss: -0.5495322942733765 | gen_loss: 0.03641689568758011\n",
      "Iteration: 4725 | disc_loss: -0.6387296915054321 | gen_loss: -0.15901735424995422\n",
      "Iteration: 4726 | disc_loss: -0.59298175573349 | gen_loss: -0.18357065320014954\n"
     ]
    },
    {
     "name": "stderr",
     "output_type": "stream",
     "text": [
      " 95%|█████████▍| 4730/5001 [03:06<00:10, 26.21it/s]"
     ]
    },
    {
     "name": "stdout",
     "output_type": "stream",
     "text": [
      "Iteration: 4727 | disc_loss: -0.6933721303939819 | gen_loss: -0.36171966791152954\n",
      "Iteration: 4728 | disc_loss: -0.7395851016044617 | gen_loss: 0.06115126609802246\n",
      "Iteration: 4729 | disc_loss: -0.6281789541244507 | gen_loss: -0.05163637921214104\n",
      "Iteration: 4730 | disc_loss: -0.9108000993728638 | gen_loss: -0.3496347665786743\n",
      "Iteration: 4731 | disc_loss: -0.4363117218017578 | gen_loss: -0.32707783579826355\n"
     ]
    },
    {
     "name": "stderr",
     "output_type": "stream",
     "text": [
      " 95%|█████████▍| 4736/5001 [03:07<00:10, 25.15it/s]"
     ]
    },
    {
     "name": "stdout",
     "output_type": "stream",
     "text": [
      "Iteration: 4732 | disc_loss: -0.5763733983039856 | gen_loss: 0.13151676952838898\n",
      "Iteration: 4733 | disc_loss: -0.5227231979370117 | gen_loss: -0.2720518112182617\n",
      "Iteration: 4734 | disc_loss: -0.5840378403663635 | gen_loss: -0.22342923283576965\n",
      "Iteration: 4735 | disc_loss: -0.6348735094070435 | gen_loss: -0.2817671298980713\n",
      "Iteration: 4736 | disc_loss: -0.42666566371917725 | gen_loss: -0.19154760241508484\n",
      "Iteration: 4737 | disc_loss: -0.5074124336242676 | gen_loss: 0.005066968500614166\n"
     ]
    },
    {
     "name": "stderr",
     "output_type": "stream",
     "text": [
      " 95%|█████████▍| 4742/5001 [03:07<00:10, 25.66it/s]"
     ]
    },
    {
     "name": "stdout",
     "output_type": "stream",
     "text": [
      "Iteration: 4738 | disc_loss: -0.6089692711830139 | gen_loss: -0.020826764404773712\n",
      "Iteration: 4739 | disc_loss: -0.7969883680343628 | gen_loss: -0.16460691392421722\n",
      "Iteration: 4740 | disc_loss: -0.47920966148376465 | gen_loss: -0.25382792949676514\n",
      "Iteration: 4741 | disc_loss: -0.6557436585426331 | gen_loss: -0.08716277778148651\n",
      "Iteration: 4742 | disc_loss: -0.5555343627929688 | gen_loss: -0.32816824316978455\n",
      "Iteration: 4743 | disc_loss: -0.567800760269165 | gen_loss: -0.07910149544477463\n"
     ]
    },
    {
     "name": "stderr",
     "output_type": "stream",
     "text": [
      " 95%|█████████▍| 4748/5001 [03:07<00:09, 26.28it/s]"
     ]
    },
    {
     "name": "stdout",
     "output_type": "stream",
     "text": [
      "Iteration: 4744 | disc_loss: -0.7403031587600708 | gen_loss: -0.13655003905296326\n",
      "Iteration: 4745 | disc_loss: -0.7639632225036621 | gen_loss: -0.07444040477275848\n",
      "Iteration: 4746 | disc_loss: -0.843336284160614 | gen_loss: -0.08944250643253326\n",
      "Iteration: 4747 | disc_loss: -0.771514892578125 | gen_loss: -0.18187624216079712\n",
      "Iteration: 4748 | disc_loss: -0.736260712146759 | gen_loss: -0.06809566915035248\n",
      "Iteration: 4749 | disc_loss: 0.06874257326126099 | gen_loss: -0.3429369032382965\n"
     ]
    },
    {
     "name": "stderr",
     "output_type": "stream",
     "text": [
      " 95%|█████████▌| 4754/5001 [03:07<00:09, 25.65it/s]"
     ]
    },
    {
     "name": "stdout",
     "output_type": "stream",
     "text": [
      "Iteration: 4750 | disc_loss: -0.7812054753303528 | gen_loss: -0.1283523142337799\n",
      "Iteration: 4751 | disc_loss: -0.7286650538444519 | gen_loss: -0.21454693377017975\n",
      "Iteration: 4752 | disc_loss: -0.5889871716499329 | gen_loss: -0.1827898770570755\n",
      "Iteration: 4753 | disc_loss: -0.5599053502082825 | gen_loss: -0.3209502100944519\n",
      "Iteration: 4754 | disc_loss: -0.7556804418563843 | gen_loss: -0.19699738919734955\n",
      "Iteration: 4755 | disc_loss: -0.4804491102695465 | gen_loss: 0.06247233226895332\n"
     ]
    },
    {
     "name": "stderr",
     "output_type": "stream",
     "text": [
      " 95%|█████████▌| 4760/5001 [03:07<00:09, 25.93it/s]"
     ]
    },
    {
     "name": "stdout",
     "output_type": "stream",
     "text": [
      "Iteration: 4756 | disc_loss: -0.7926759123802185 | gen_loss: -0.2883273661136627\n",
      "Iteration: 4757 | disc_loss: -0.40927451848983765 | gen_loss: -0.00771002471446991\n",
      "Iteration: 4758 | disc_loss: -0.4610751271247864 | gen_loss: -0.28647470474243164\n",
      "Iteration: 4759 | disc_loss: -0.548059344291687 | gen_loss: 0.17058807611465454\n",
      "Iteration: 4760 | disc_loss: -0.5676591992378235 | gen_loss: -0.2528415620326996\n",
      "Iteration: 4761 | disc_loss: -0.5369765758514404 | gen_loss: -0.5317392349243164\n"
     ]
    },
    {
     "name": "stderr",
     "output_type": "stream",
     "text": [
      " 95%|█████████▌| 4766/5001 [03:08<00:09, 25.97it/s]"
     ]
    },
    {
     "name": "stdout",
     "output_type": "stream",
     "text": [
      "Iteration: 4762 | disc_loss: -0.50059974193573 | gen_loss: -0.38406485319137573\n",
      "Iteration: 4763 | disc_loss: -0.640840470790863 | gen_loss: -0.3038010597229004\n",
      "Iteration: 4764 | disc_loss: -0.6860175132751465 | gen_loss: -0.3882535398006439\n",
      "Iteration: 4765 | disc_loss: -0.5073522925376892 | gen_loss: -0.142452210187912\n",
      "Iteration: 4766 | disc_loss: -0.6002639532089233 | gen_loss: -0.2384059876203537\n",
      "Iteration: 4767 | disc_loss: -0.7740365862846375 | gen_loss: -0.26736530661582947\n"
     ]
    },
    {
     "name": "stderr",
     "output_type": "stream",
     "text": [
      " 95%|█████████▌| 4772/5001 [03:08<00:08, 26.31it/s]"
     ]
    },
    {
     "name": "stdout",
     "output_type": "stream",
     "text": [
      "Iteration: 4768 | disc_loss: -0.46715062856674194 | gen_loss: -0.059352632611989975\n",
      "Iteration: 4769 | disc_loss: -0.729587197303772 | gen_loss: 0.17695246636867523\n",
      "Iteration: 4770 | disc_loss: -0.4915875196456909 | gen_loss: -0.1780184656381607\n",
      "Iteration: 4771 | disc_loss: -0.5162911415100098 | gen_loss: -0.2279929369688034\n",
      "Iteration: 4772 | disc_loss: -0.6082437038421631 | gen_loss: -0.11284791678190231\n",
      "Iteration: 4773 | disc_loss: -0.8296591639518738 | gen_loss: -0.11743828654289246\n"
     ]
    },
    {
     "name": "stderr",
     "output_type": "stream",
     "text": [
      " 96%|█████████▌| 4778/5001 [03:08<00:08, 26.61it/s]"
     ]
    },
    {
     "name": "stdout",
     "output_type": "stream",
     "text": [
      "Iteration: 4774 | disc_loss: -0.648138165473938 | gen_loss: 0.13841770589351654\n",
      "Iteration: 4775 | disc_loss: -0.7505067586898804 | gen_loss: -0.07411978393793106\n",
      "Iteration: 4776 | disc_loss: -0.6496082544326782 | gen_loss: -0.4006075859069824\n",
      "Iteration: 4777 | disc_loss: -0.9483301043510437 | gen_loss: -0.15157008171081543\n",
      "Iteration: 4778 | disc_loss: -0.5510990023612976 | gen_loss: -0.014724217355251312\n",
      "Iteration: 4779 | disc_loss: -0.5616489052772522 | gen_loss: -0.08246827870607376\n"
     ]
    },
    {
     "name": "stderr",
     "output_type": "stream",
     "text": [
      " 96%|█████████▌| 4784/5001 [03:08<00:08, 26.79it/s]"
     ]
    },
    {
     "name": "stdout",
     "output_type": "stream",
     "text": [
      "Iteration: 4780 | disc_loss: -0.6477802991867065 | gen_loss: -0.09659785777330399\n",
      "Iteration: 4781 | disc_loss: -0.7214502692222595 | gen_loss: 0.11814826726913452\n",
      "Iteration: 4782 | disc_loss: -0.599894106388092 | gen_loss: -0.2299298346042633\n",
      "Iteration: 4783 | disc_loss: -0.678646445274353 | gen_loss: -0.3456210792064667\n",
      "Iteration: 4784 | disc_loss: -0.6514005064964294 | gen_loss: 0.027653390541672707\n",
      "Iteration: 4785 | disc_loss: -0.47993314266204834 | gen_loss: -0.18471084535121918\n"
     ]
    },
    {
     "name": "stderr",
     "output_type": "stream",
     "text": [
      " 96%|█████████▌| 4790/5001 [03:09<00:07, 26.66it/s]"
     ]
    },
    {
     "name": "stdout",
     "output_type": "stream",
     "text": [
      "Iteration: 4786 | disc_loss: -0.4949791729450226 | gen_loss: -0.08135746419429779\n",
      "Iteration: 4787 | disc_loss: -0.649627149105072 | gen_loss: -0.1729995310306549\n",
      "Iteration: 4788 | disc_loss: -0.6135112643241882 | gen_loss: -0.26908791065216064\n",
      "Iteration: 4789 | disc_loss: -0.4709007740020752 | gen_loss: -0.14445006847381592\n",
      "Iteration: 4790 | disc_loss: -0.680802583694458 | gen_loss: -0.2398100197315216\n",
      "Iteration: 4791 | disc_loss: -0.5554654598236084 | gen_loss: 0.053749412298202515\n"
     ]
    },
    {
     "name": "stderr",
     "output_type": "stream",
     "text": [
      " 96%|█████████▌| 4796/5001 [03:09<00:07, 26.51it/s]"
     ]
    },
    {
     "name": "stdout",
     "output_type": "stream",
     "text": [
      "Iteration: 4792 | disc_loss: -0.6352084875106812 | gen_loss: -0.20671282708644867\n",
      "Iteration: 4793 | disc_loss: -0.7957890629768372 | gen_loss: -0.17166200280189514\n",
      "Iteration: 4794 | disc_loss: -0.8284746408462524 | gen_loss: -0.018503114581108093\n",
      "Iteration: 4795 | disc_loss: -0.3935132622718811 | gen_loss: -0.1282675564289093\n",
      "Iteration: 4796 | disc_loss: -0.6785045266151428 | gen_loss: -0.24675312638282776\n",
      "Iteration: 4797 | disc_loss: -0.7668595314025879 | gen_loss: -0.5338573455810547\n"
     ]
    },
    {
     "name": "stderr",
     "output_type": "stream",
     "text": [
      " 96%|█████████▌| 4802/5001 [03:09<00:07, 25.23it/s]"
     ]
    },
    {
     "name": "stdout",
     "output_type": "stream",
     "text": [
      "Iteration: 4798 | disc_loss: -0.7816702723503113 | gen_loss: -0.30487340688705444\n",
      "Iteration: 4799 | disc_loss: -0.6030630469322205 | gen_loss: -0.019370146095752716\n",
      "Iteration: 4800 | disc_loss: -0.6052495837211609 | gen_loss: -0.194163978099823\n",
      "Iteration: 4801 | disc_loss: -0.5304386019706726 | gen_loss: -0.17394594848155975\n",
      "Iteration: 4802 | disc_loss: -0.8634419441223145 | gen_loss: -0.0645410493016243\n"
     ]
    },
    {
     "name": "stderr",
     "output_type": "stream",
     "text": [
      " 96%|█████████▌| 4808/5001 [03:09<00:07, 25.78it/s]"
     ]
    },
    {
     "name": "stdout",
     "output_type": "stream",
     "text": [
      "Iteration: 4803 | disc_loss: -0.8965051174163818 | gen_loss: -0.1069830134510994\n",
      "Iteration: 4804 | disc_loss: -0.7910683155059814 | gen_loss: -0.16213040053844452\n",
      "Iteration: 4805 | disc_loss: -0.8140076398849487 | gen_loss: -0.14069783687591553\n",
      "Iteration: 4806 | disc_loss: -0.49905434250831604 | gen_loss: -0.11700992286205292\n",
      "Iteration: 4807 | disc_loss: -0.794359028339386 | gen_loss: -0.04761428385972977\n",
      "Iteration: 4808 | disc_loss: -0.7320601940155029 | gen_loss: -0.06246282905340195\n"
     ]
    },
    {
     "name": "stderr",
     "output_type": "stream",
     "text": [
      " 96%|█████████▋| 4814/5001 [03:09<00:07, 26.27it/s]"
     ]
    },
    {
     "name": "stdout",
     "output_type": "stream",
     "text": [
      "Iteration: 4809 | disc_loss: -0.5939546227455139 | gen_loss: -0.18117740750312805\n",
      "Iteration: 4810 | disc_loss: -0.9155598282814026 | gen_loss: -0.13135161995887756\n",
      "Iteration: 4811 | disc_loss: -0.6340864896774292 | gen_loss: -0.033794716000556946\n",
      "Iteration: 4812 | disc_loss: -0.9690799117088318 | gen_loss: 0.03968712314963341\n",
      "Iteration: 4813 | disc_loss: -0.574027955532074 | gen_loss: 0.02402353286743164\n",
      "Iteration: 4814 | disc_loss: -0.6478222608566284 | gen_loss: 0.0774448961019516\n"
     ]
    },
    {
     "name": "stderr",
     "output_type": "stream",
     "text": [
      " 96%|█████████▋| 4820/5001 [03:10<00:06, 26.56it/s]"
     ]
    },
    {
     "name": "stdout",
     "output_type": "stream",
     "text": [
      "Iteration: 4815 | disc_loss: -0.8048146963119507 | gen_loss: -0.09970797598361969\n",
      "Iteration: 4816 | disc_loss: -0.6989173293113708 | gen_loss: -0.2325846254825592\n",
      "Iteration: 4817 | disc_loss: -0.5759384632110596 | gen_loss: -0.38549163937568665\n",
      "Iteration: 4818 | disc_loss: -0.8563929796218872 | gen_loss: -0.22725223004817963\n",
      "Iteration: 4819 | disc_loss: -0.6803178191184998 | gen_loss: 0.06829770654439926\n",
      "Iteration: 4820 | disc_loss: -0.7298181056976318 | gen_loss: -0.004680462181568146\n"
     ]
    },
    {
     "name": "stderr",
     "output_type": "stream",
     "text": [
      " 97%|█████████▋| 4826/5001 [03:10<00:06, 26.41it/s]"
     ]
    },
    {
     "name": "stdout",
     "output_type": "stream",
     "text": [
      "Iteration: 4821 | disc_loss: -0.7496778964996338 | gen_loss: 0.013590477406978607\n",
      "Iteration: 4822 | disc_loss: -0.13595831394195557 | gen_loss: -0.3403066396713257\n",
      "Iteration: 4823 | disc_loss: -0.79750657081604 | gen_loss: -0.08853380382061005\n",
      "Iteration: 4824 | disc_loss: -0.26892271637916565 | gen_loss: -0.01350342482328415\n",
      "Iteration: 4825 | disc_loss: -0.3681469261646271 | gen_loss: -0.17890062928199768\n",
      "Iteration: 4826 | disc_loss: -0.30089351534843445 | gen_loss: -0.3682013154029846\n"
     ]
    },
    {
     "name": "stderr",
     "output_type": "stream",
     "text": [
      " 97%|█████████▋| 4832/5001 [03:10<00:06, 26.86it/s]"
     ]
    },
    {
     "name": "stdout",
     "output_type": "stream",
     "text": [
      "Iteration: 4827 | disc_loss: -0.8184873461723328 | gen_loss: -0.3082926869392395\n",
      "Iteration: 4828 | disc_loss: -0.5849224328994751 | gen_loss: -0.2469266653060913\n",
      "Iteration: 4829 | disc_loss: -0.736935019493103 | gen_loss: -0.3675060272216797\n",
      "Iteration: 4830 | disc_loss: -0.6208500266075134 | gen_loss: -0.09661970287561417\n",
      "Iteration: 4831 | disc_loss: -0.5634190440177917 | gen_loss: -0.07011426240205765\n",
      "Iteration: 4832 | disc_loss: -0.2732323110103607 | gen_loss: -0.12291304767131805\n"
     ]
    },
    {
     "name": "stderr",
     "output_type": "stream",
     "text": [
      " 97%|█████████▋| 4838/5001 [03:10<00:06, 27.05it/s]"
     ]
    },
    {
     "name": "stdout",
     "output_type": "stream",
     "text": [
      "Iteration: 4833 | disc_loss: -0.23747298121452332 | gen_loss: -0.25896376371383667\n",
      "Iteration: 4834 | disc_loss: -0.6753968596458435 | gen_loss: 0.017085783183574677\n",
      "Iteration: 4835 | disc_loss: -0.6322081089019775 | gen_loss: -0.14605247974395752\n",
      "Iteration: 4836 | disc_loss: -0.3026636838912964 | gen_loss: -0.24295368790626526\n",
      "Iteration: 4837 | disc_loss: -0.6648876070976257 | gen_loss: -0.29324087500572205\n",
      "Iteration: 4838 | disc_loss: -0.4125988483428955 | gen_loss: -0.20332859456539154\n"
     ]
    },
    {
     "name": "stderr",
     "output_type": "stream",
     "text": [
      " 97%|█████████▋| 4844/5001 [03:11<00:05, 26.36it/s]"
     ]
    },
    {
     "name": "stdout",
     "output_type": "stream",
     "text": [
      "Iteration: 4839 | disc_loss: -0.7694447040557861 | gen_loss: -0.6762038469314575\n",
      "Iteration: 4840 | disc_loss: -0.7393679022789001 | gen_loss: -0.2701456546783447\n",
      "Iteration: 4841 | disc_loss: -0.4560360014438629 | gen_loss: -0.05788911134004593\n",
      "Iteration: 4842 | disc_loss: -0.6807686686515808 | gen_loss: -0.0500754714012146\n",
      "Iteration: 4843 | disc_loss: -0.7453850507736206 | gen_loss: -0.0018942654132843018\n",
      "Iteration: 4844 | disc_loss: -0.5889064073562622 | gen_loss: -0.13289067149162292\n"
     ]
    },
    {
     "name": "stderr",
     "output_type": "stream",
     "text": [
      " 97%|█████████▋| 4850/5001 [03:11<00:05, 26.45it/s]"
     ]
    },
    {
     "name": "stdout",
     "output_type": "stream",
     "text": [
      "Iteration: 4845 | disc_loss: -0.7856440544128418 | gen_loss: -0.04048053175210953\n",
      "Iteration: 4846 | disc_loss: -0.956818699836731 | gen_loss: -0.03703729808330536\n",
      "Iteration: 4847 | disc_loss: -0.7811163663864136 | gen_loss: 0.026569534093141556\n",
      "Iteration: 4848 | disc_loss: -0.662426233291626 | gen_loss: -0.07226039469242096\n",
      "Iteration: 4849 | disc_loss: -0.7990900278091431 | gen_loss: -0.06271246075630188\n",
      "Iteration: 4850 | disc_loss: -0.7188650369644165 | gen_loss: -0.06730835139751434\n"
     ]
    },
    {
     "name": "stderr",
     "output_type": "stream",
     "text": [
      " 97%|█████████▋| 4856/5001 [03:11<00:06, 23.72it/s]"
     ]
    },
    {
     "name": "stdout",
     "output_type": "stream",
     "text": [
      "Iteration: 4851 | disc_loss: -0.6607950329780579 | gen_loss: -0.4702073335647583\n",
      "Iteration: 4852 | disc_loss: -0.8776951432228088 | gen_loss: -0.36378952860832214\n",
      "Iteration: 4853 | disc_loss: -0.495743989944458 | gen_loss: -0.12604184448719025\n",
      "Iteration: 4854 | disc_loss: -0.6303291320800781 | gen_loss: -0.8837077617645264\n",
      "Iteration: 4855 | disc_loss: -0.6388654112815857 | gen_loss: -0.5731290578842163\n"
     ]
    },
    {
     "name": "stderr",
     "output_type": "stream",
     "text": [
      " 97%|█████████▋| 4862/5001 [03:11<00:05, 24.67it/s]"
     ]
    },
    {
     "name": "stdout",
     "output_type": "stream",
     "text": [
      "Iteration: 4856 | disc_loss: -0.8582878708839417 | gen_loss: -0.565402626991272\n",
      "Iteration: 4857 | disc_loss: 0.4380508065223694 | gen_loss: -0.23346149921417236\n",
      "Iteration: 4858 | disc_loss: -0.900061845779419 | gen_loss: -0.25594571232795715\n",
      "Iteration: 4859 | disc_loss: -0.8336594104766846 | gen_loss: -0.3262849450111389\n",
      "Iteration: 4860 | disc_loss: -0.3408545255661011 | gen_loss: -0.1439265012741089\n",
      "Iteration: 4861 | disc_loss: -0.5377671122550964 | gen_loss: -0.10023817420005798\n"
     ]
    },
    {
     "name": "stderr",
     "output_type": "stream",
     "text": [
      " 97%|█████████▋| 4865/5001 [03:11<00:05, 23.03it/s]"
     ]
    },
    {
     "name": "stdout",
     "output_type": "stream",
     "text": [
      "Iteration: 4862 | disc_loss: -0.13326296210289001 | gen_loss: -0.7659747004508972\n",
      "Iteration: 4863 | disc_loss: -0.5281972289085388 | gen_loss: -0.2421845644712448\n",
      "Iteration: 4864 | disc_loss: -0.47016364336013794 | gen_loss: -0.16285234689712524\n",
      "Iteration: 4865 | disc_loss: -0.8705055117607117 | gen_loss: -0.5608922243118286\n"
     ]
    },
    {
     "name": "stderr",
     "output_type": "stream",
     "text": [
      " 97%|█████████▋| 4871/5001 [03:12<00:05, 23.00it/s]"
     ]
    },
    {
     "name": "stdout",
     "output_type": "stream",
     "text": [
      "Iteration: 4866 | disc_loss: -0.7745608687400818 | gen_loss: -0.3208199441432953\n",
      "Iteration: 4867 | disc_loss: -0.7218695282936096 | gen_loss: -0.42625027894973755\n",
      "Iteration: 4868 | disc_loss: -0.9111220836639404 | gen_loss: -0.27509447932243347\n",
      "Iteration: 4869 | disc_loss: -0.8766713738441467 | gen_loss: -0.25042662024497986\n",
      "Iteration: 4870 | disc_loss: -0.7818036079406738 | gen_loss: -0.2283107191324234\n",
      "Iteration: 4871 | disc_loss: -0.7032002210617065 | gen_loss: -0.4579511284828186\n"
     ]
    },
    {
     "name": "stderr",
     "output_type": "stream",
     "text": [
      " 98%|█████████▊| 4877/5001 [03:12<00:04, 24.81it/s]"
     ]
    },
    {
     "name": "stdout",
     "output_type": "stream",
     "text": [
      "Iteration: 4872 | disc_loss: -0.6750365495681763 | gen_loss: -0.24675247073173523\n",
      "Iteration: 4873 | disc_loss: -0.6017606258392334 | gen_loss: -0.1991075575351715\n",
      "Iteration: 4874 | disc_loss: -0.459473192691803 | gen_loss: -0.434160053730011\n",
      "Iteration: 4875 | disc_loss: -0.8286504745483398 | gen_loss: -0.32629474997520447\n",
      "Iteration: 4876 | disc_loss: -0.5882704854011536 | gen_loss: 0.02626528963446617\n",
      "Iteration: 4877 | disc_loss: -0.562102198600769 | gen_loss: -0.4223690629005432\n"
     ]
    },
    {
     "name": "stderr",
     "output_type": "stream",
     "text": [
      " 98%|█████████▊| 4883/5001 [03:12<00:04, 25.78it/s]"
     ]
    },
    {
     "name": "stdout",
     "output_type": "stream",
     "text": [
      "Iteration: 4878 | disc_loss: -0.39570116996765137 | gen_loss: -0.3466510772705078\n",
      "Iteration: 4879 | disc_loss: -0.11369675397872925 | gen_loss: -0.46705523133277893\n",
      "Iteration: 4880 | disc_loss: -0.6041232347488403 | gen_loss: -0.4629484713077545\n",
      "Iteration: 4881 | disc_loss: -0.5229074954986572 | gen_loss: -0.35748881101608276\n",
      "Iteration: 4882 | disc_loss: -0.5827469229698181 | gen_loss: -0.3578048050403595\n",
      "Iteration: 4883 | disc_loss: -0.48422378301620483 | gen_loss: -0.4969119131565094\n"
     ]
    },
    {
     "name": "stderr",
     "output_type": "stream",
     "text": [
      " 98%|█████████▊| 4889/5001 [03:12<00:04, 25.83it/s]"
     ]
    },
    {
     "name": "stdout",
     "output_type": "stream",
     "text": [
      "Iteration: 4884 | disc_loss: -0.3809387981891632 | gen_loss: -0.29394635558128357\n",
      "Iteration: 4885 | disc_loss: -0.6152998805046082 | gen_loss: -0.4097478985786438\n",
      "Iteration: 4886 | disc_loss: -0.5440962910652161 | gen_loss: -0.18388599157333374\n",
      "Iteration: 4887 | disc_loss: -0.5312758088111877 | gen_loss: -0.10995742678642273\n",
      "Iteration: 4888 | disc_loss: -0.5996413230895996 | gen_loss: -0.49654632806777954\n",
      "Iteration: 4889 | disc_loss: -0.494366317987442 | gen_loss: -0.16764973104000092\n"
     ]
    },
    {
     "name": "stderr",
     "output_type": "stream",
     "text": [
      " 98%|█████████▊| 4895/5001 [03:13<00:04, 25.81it/s]"
     ]
    },
    {
     "name": "stdout",
     "output_type": "stream",
     "text": [
      "Iteration: 4890 | disc_loss: -0.6479718089103699 | gen_loss: -0.3136914074420929\n",
      "Iteration: 4891 | disc_loss: -0.5684081315994263 | gen_loss: -0.1523866355419159\n",
      "Iteration: 4892 | disc_loss: -0.6464076042175293 | gen_loss: -0.2216252237558365\n",
      "Iteration: 4893 | disc_loss: -0.3051292598247528 | gen_loss: -0.16311505436897278\n",
      "Iteration: 4894 | disc_loss: -0.7009972333908081 | gen_loss: -0.33613044023513794\n",
      "Iteration: 4895 | disc_loss: -0.9712680578231812 | gen_loss: -0.5403493642807007\n"
     ]
    },
    {
     "name": "stderr",
     "output_type": "stream",
     "text": [
      " 98%|█████████▊| 4901/5001 [03:13<00:04, 24.94it/s]"
     ]
    },
    {
     "name": "stdout",
     "output_type": "stream",
     "text": [
      "Iteration: 4896 | disc_loss: -0.630490779876709 | gen_loss: -0.32742178440093994\n",
      "Iteration: 4897 | disc_loss: -0.45263373851776123 | gen_loss: -0.1705334484577179\n",
      "Iteration: 4898 | disc_loss: -0.8292419910430908 | gen_loss: -0.27869096398353577\n",
      "Iteration: 4899 | disc_loss: -0.3868124783039093 | gen_loss: -0.14034412801265717\n",
      "Iteration: 4900 | disc_loss: -0.6861533522605896 | gen_loss: -0.11709046363830566\n",
      "Iteration: 4901 | disc_loss: -0.47869259119033813 | gen_loss: -0.0980227142572403\n"
     ]
    },
    {
     "name": "stderr",
     "output_type": "stream",
     "text": [
      " 98%|█████████▊| 4907/5001 [03:13<00:03, 25.13it/s]"
     ]
    },
    {
     "name": "stdout",
     "output_type": "stream",
     "text": [
      "Iteration: 4902 | disc_loss: -0.7748409509658813 | gen_loss: -0.11830663681030273\n",
      "Iteration: 4903 | disc_loss: -0.6404118537902832 | gen_loss: -0.29519668221473694\n",
      "Iteration: 4904 | disc_loss: -0.37698933482170105 | gen_loss: -0.24579739570617676\n",
      "Iteration: 4905 | disc_loss: -0.6279528141021729 | gen_loss: -0.29425376653671265\n",
      "Iteration: 4906 | disc_loss: -0.6843754053115845 | gen_loss: -0.11699109524488449\n",
      "Iteration: 4907 | disc_loss: -0.5387561917304993 | gen_loss: -0.15075987577438354\n"
     ]
    },
    {
     "name": "stderr",
     "output_type": "stream",
     "text": [
      " 98%|█████████▊| 4913/5001 [03:13<00:03, 25.15it/s]"
     ]
    },
    {
     "name": "stdout",
     "output_type": "stream",
     "text": [
      "Iteration: 4908 | disc_loss: -0.7097107172012329 | gen_loss: -0.2730516791343689\n",
      "Iteration: 4909 | disc_loss: -0.7105672359466553 | gen_loss: -0.334148108959198\n",
      "Iteration: 4910 | disc_loss: -0.2065989375114441 | gen_loss: -0.17623993754386902\n",
      "Iteration: 4911 | disc_loss: -0.6556330919265747 | gen_loss: -0.2649998366832733\n",
      "Iteration: 4912 | disc_loss: -0.751585841178894 | gen_loss: 0.14625144004821777\n",
      "Iteration: 4913 | disc_loss: -0.6989608407020569 | gen_loss: 0.04747069627046585\n"
     ]
    },
    {
     "name": "stderr",
     "output_type": "stream",
     "text": [
      " 98%|█████████▊| 4919/5001 [03:14<00:03, 25.41it/s]"
     ]
    },
    {
     "name": "stdout",
     "output_type": "stream",
     "text": [
      "Iteration: 4914 | disc_loss: -0.8678672909736633 | gen_loss: -0.20172037184238434\n",
      "Iteration: 4915 | disc_loss: -0.6959530115127563 | gen_loss: -0.23388421535491943\n",
      "Iteration: 4916 | disc_loss: -0.6501349210739136 | gen_loss: -0.36338919401168823\n",
      "Iteration: 4917 | disc_loss: -1.1222528219223022 | gen_loss: -0.16850294172763824\n",
      "Iteration: 4918 | disc_loss: -0.39094656705856323 | gen_loss: -0.1863519251346588\n",
      "Iteration: 4919 | disc_loss: -0.5930315852165222 | gen_loss: -0.3855763077735901\n"
     ]
    },
    {
     "name": "stderr",
     "output_type": "stream",
     "text": [
      " 98%|█████████▊| 4925/5001 [03:14<00:02, 25.53it/s]"
     ]
    },
    {
     "name": "stdout",
     "output_type": "stream",
     "text": [
      "Iteration: 4920 | disc_loss: -0.7548977732658386 | gen_loss: -0.2782905101776123\n",
      "Iteration: 4921 | disc_loss: -0.34182900190353394 | gen_loss: -0.3238241374492645\n",
      "Iteration: 4922 | disc_loss: -0.6194888353347778 | gen_loss: -0.32081860303878784\n",
      "Iteration: 4923 | disc_loss: -0.5714218616485596 | gen_loss: -0.1562969833612442\n",
      "Iteration: 4924 | disc_loss: -0.9274611473083496 | gen_loss: -0.12082680314779282\n",
      "Iteration: 4925 | disc_loss: -0.41768863797187805 | gen_loss: -0.004322469234466553\n"
     ]
    },
    {
     "name": "stderr",
     "output_type": "stream",
     "text": [
      " 99%|█████████▊| 4931/5001 [03:14<00:02, 26.03it/s]"
     ]
    },
    {
     "name": "stdout",
     "output_type": "stream",
     "text": [
      "Iteration: 4926 | disc_loss: -0.8452419638633728 | gen_loss: -0.29340893030166626\n",
      "Iteration: 4927 | disc_loss: -0.5085003972053528 | gen_loss: -0.38134127855300903\n",
      "Iteration: 4928 | disc_loss: -0.7355412244796753 | gen_loss: 0.0004713684320449829\n",
      "Iteration: 4929 | disc_loss: -0.5052942037582397 | gen_loss: -0.1773991733789444\n",
      "Iteration: 4930 | disc_loss: -0.608234167098999 | gen_loss: 0.06511087715625763\n",
      "Iteration: 4931 | disc_loss: -0.7247264385223389 | gen_loss: -0.37323594093322754\n"
     ]
    },
    {
     "name": "stderr",
     "output_type": "stream",
     "text": [
      " 99%|█████████▊| 4937/5001 [03:14<00:02, 25.50it/s]"
     ]
    },
    {
     "name": "stdout",
     "output_type": "stream",
     "text": [
      "Iteration: 4932 | disc_loss: -0.7494349479675293 | gen_loss: -0.18145298957824707\n",
      "Iteration: 4933 | disc_loss: -0.6003062129020691 | gen_loss: 0.05742984265089035\n",
      "Iteration: 4934 | disc_loss: -0.5362774729728699 | gen_loss: 0.1947772204875946\n",
      "Iteration: 4935 | disc_loss: -0.3745817542076111 | gen_loss: -0.3175395131111145\n",
      "Iteration: 4936 | disc_loss: -0.5442484021186829 | gen_loss: -0.0925726369023323\n",
      "Iteration: 4937 | disc_loss: -0.6960335373878479 | gen_loss: -0.11816878616809845\n"
     ]
    },
    {
     "name": "stderr",
     "output_type": "stream",
     "text": [
      " 99%|█████████▉| 4943/5001 [03:15<00:02, 26.43it/s]"
     ]
    },
    {
     "name": "stdout",
     "output_type": "stream",
     "text": [
      "Iteration: 4938 | disc_loss: -0.7209374308586121 | gen_loss: 0.010611401870846748\n",
      "Iteration: 4939 | disc_loss: -0.32820451259613037 | gen_loss: -0.23691251873970032\n",
      "Iteration: 4940 | disc_loss: -0.6517741680145264 | gen_loss: -0.19287163019180298\n",
      "Iteration: 4941 | disc_loss: -0.8448037505149841 | gen_loss: -0.24598538875579834\n",
      "Iteration: 4942 | disc_loss: -0.44974759221076965 | gen_loss: -0.2367100715637207\n",
      "Iteration: 4943 | disc_loss: -0.7379341721534729 | gen_loss: -0.2681542634963989\n"
     ]
    },
    {
     "name": "stderr",
     "output_type": "stream",
     "text": [
      " 99%|█████████▉| 4949/5001 [03:15<00:01, 26.22it/s]"
     ]
    },
    {
     "name": "stdout",
     "output_type": "stream",
     "text": [
      "Iteration: 4944 | disc_loss: -0.6720326542854309 | gen_loss: -0.11071675270795822\n",
      "Iteration: 4945 | disc_loss: -0.5916847586631775 | gen_loss: 0.07150103151798248\n",
      "Iteration: 4946 | disc_loss: -0.6493609547615051 | gen_loss: -0.2759064733982086\n",
      "Iteration: 4947 | disc_loss: -0.48089367151260376 | gen_loss: -0.06781219691038132\n",
      "Iteration: 4948 | disc_loss: -0.6739305257797241 | gen_loss: -0.13090167939662933\n",
      "Iteration: 4949 | disc_loss: -0.7952074408531189 | gen_loss: -0.19850951433181763\n"
     ]
    },
    {
     "name": "stderr",
     "output_type": "stream",
     "text": [
      " 99%|█████████▉| 4955/5001 [03:15<00:01, 26.39it/s]"
     ]
    },
    {
     "name": "stdout",
     "output_type": "stream",
     "text": [
      "Iteration: 4950 | disc_loss: -0.4981817305088043 | gen_loss: -0.21255342662334442\n",
      "Iteration: 4951 | disc_loss: -0.6801126003265381 | gen_loss: -0.08193478733301163\n",
      "Iteration: 4952 | disc_loss: -0.8821943998336792 | gen_loss: -0.0492696650326252\n",
      "Iteration: 4953 | disc_loss: -0.8361220955848694 | gen_loss: 0.03355688601732254\n",
      "Iteration: 4954 | disc_loss: -0.43376561999320984 | gen_loss: -0.3471311330795288\n",
      "Iteration: 4955 | disc_loss: -0.5596164464950562 | gen_loss: -0.23517504334449768\n"
     ]
    },
    {
     "name": "stderr",
     "output_type": "stream",
     "text": [
      " 99%|█████████▉| 4961/5001 [03:15<00:01, 25.80it/s]"
     ]
    },
    {
     "name": "stdout",
     "output_type": "stream",
     "text": [
      "Iteration: 4956 | disc_loss: -0.5596078038215637 | gen_loss: 0.0036709457635879517\n",
      "Iteration: 4957 | disc_loss: -0.7700021862983704 | gen_loss: -0.04534424841403961\n",
      "Iteration: 4958 | disc_loss: -0.7073585391044617 | gen_loss: -0.22508986294269562\n",
      "Iteration: 4959 | disc_loss: -0.5621873736381531 | gen_loss: -0.002227247692644596\n",
      "Iteration: 4960 | disc_loss: -0.7904552817344666 | gen_loss: -0.09132968634366989\n",
      "Iteration: 4961 | disc_loss: -0.6610438823699951 | gen_loss: -0.2473660707473755\n"
     ]
    },
    {
     "name": "stderr",
     "output_type": "stream",
     "text": [
      " 99%|█████████▉| 4967/5001 [03:15<00:01, 25.86it/s]"
     ]
    },
    {
     "name": "stdout",
     "output_type": "stream",
     "text": [
      "Iteration: 4962 | disc_loss: -0.3436967134475708 | gen_loss: -0.05938725173473358\n",
      "Iteration: 4963 | disc_loss: -0.6361336708068848 | gen_loss: -0.041103750467300415\n",
      "Iteration: 4964 | disc_loss: -0.4613127112388611 | gen_loss: 0.052080780267715454\n",
      "Iteration: 4965 | disc_loss: -0.5989367365837097 | gen_loss: -0.254622220993042\n",
      "Iteration: 4966 | disc_loss: -0.7550415992736816 | gen_loss: -0.18853433430194855\n",
      "Iteration: 4967 | disc_loss: -0.5383714437484741 | gen_loss: -0.10513249039649963\n"
     ]
    },
    {
     "name": "stderr",
     "output_type": "stream",
     "text": [
      " 99%|█████████▉| 4973/5001 [03:16<00:01, 26.18it/s]"
     ]
    },
    {
     "name": "stdout",
     "output_type": "stream",
     "text": [
      "Iteration: 4968 | disc_loss: -0.42822906374931335 | gen_loss: -0.3150295615196228\n",
      "Iteration: 4969 | disc_loss: -0.439466267824173 | gen_loss: 0.06499780714511871\n",
      "Iteration: 4970 | disc_loss: -0.3594702482223511 | gen_loss: -0.42714059352874756\n",
      "Iteration: 4971 | disc_loss: -0.5001158714294434 | gen_loss: -0.05925421416759491\n",
      "Iteration: 4972 | disc_loss: -0.49728041887283325 | gen_loss: -0.09309658408164978\n",
      "Iteration: 4973 | disc_loss: -0.9334325790405273 | gen_loss: -0.2054341584444046\n"
     ]
    },
    {
     "name": "stderr",
     "output_type": "stream",
     "text": [
      "100%|█████████▉| 4979/5001 [03:16<00:00, 25.68it/s]"
     ]
    },
    {
     "name": "stdout",
     "output_type": "stream",
     "text": [
      "Iteration: 4974 | disc_loss: -0.842974841594696 | gen_loss: -0.10109090805053711\n",
      "Iteration: 4975 | disc_loss: -0.6053439974784851 | gen_loss: -0.1647595763206482\n",
      "Iteration: 4976 | disc_loss: -0.5620856285095215 | gen_loss: 0.20925118029117584\n",
      "Iteration: 4977 | disc_loss: -0.6234884262084961 | gen_loss: -0.2608833909034729\n",
      "Iteration: 4978 | disc_loss: -0.17864322662353516 | gen_loss: 0.15056593716144562\n",
      "Iteration: 4979 | disc_loss: -0.6424542665481567 | gen_loss: -0.1926720291376114\n"
     ]
    },
    {
     "name": "stderr",
     "output_type": "stream",
     "text": [
      "100%|█████████▉| 4985/5001 [03:16<00:00, 26.02it/s]"
     ]
    },
    {
     "name": "stdout",
     "output_type": "stream",
     "text": [
      "Iteration: 4980 | disc_loss: -0.7042243480682373 | gen_loss: -0.1712183803319931\n",
      "Iteration: 4981 | disc_loss: -0.3401026427745819 | gen_loss: 0.00527830608189106\n",
      "Iteration: 4982 | disc_loss: -0.6569966077804565 | gen_loss: -0.17972978949546814\n",
      "Iteration: 4983 | disc_loss: -0.4902755916118622 | gen_loss: 0.05714603140950203\n",
      "Iteration: 4984 | disc_loss: -0.5916265249252319 | gen_loss: -0.18575087189674377\n",
      "Iteration: 4985 | disc_loss: -0.7106122374534607 | gen_loss: -0.2052847146987915\n"
     ]
    },
    {
     "name": "stderr",
     "output_type": "stream",
     "text": [
      "100%|█████████▉| 4991/5001 [03:16<00:00, 24.03it/s]"
     ]
    },
    {
     "name": "stdout",
     "output_type": "stream",
     "text": [
      "Iteration: 4986 | disc_loss: -0.9882968068122864 | gen_loss: -0.09557623416185379\n",
      "Iteration: 4987 | disc_loss: -0.7691473960876465 | gen_loss: -0.06586558371782303\n",
      "Iteration: 4988 | disc_loss: -0.32773858308792114 | gen_loss: -0.07388250529766083\n",
      "Iteration: 4989 | disc_loss: -0.7354846000671387 | gen_loss: -0.4664141833782196\n",
      "Iteration: 4990 | disc_loss: -0.634780764579773 | gen_loss: -0.3087846636772156\n"
     ]
    },
    {
     "name": "stderr",
     "output_type": "stream",
     "text": [
      "100%|█████████▉| 4997/5001 [03:17<00:00, 25.35it/s]"
     ]
    },
    {
     "name": "stdout",
     "output_type": "stream",
     "text": [
      "Iteration: 4991 | disc_loss: -0.6824179887771606 | gen_loss: -0.1586775779724121\n",
      "Iteration: 4992 | disc_loss: -0.7718641757965088 | gen_loss: -0.5469673275947571\n",
      "Iteration: 4993 | disc_loss: -0.6179428696632385 | gen_loss: -0.19903215765953064\n",
      "Iteration: 4994 | disc_loss: -0.6231687068939209 | gen_loss: -0.34985440969467163\n",
      "Iteration: 4995 | disc_loss: -0.7091464400291443 | gen_loss: -0.3536471724510193\n",
      "Iteration: 4996 | disc_loss: -0.7198410630226135 | gen_loss: -0.13862279057502747\n"
     ]
    },
    {
     "name": "stderr",
     "output_type": "stream",
     "text": [
      "100%|██████████| 5001/5001 [03:17<00:00, 25.34it/s]"
     ]
    },
    {
     "name": "stdout",
     "output_type": "stream",
     "text": [
      "Iteration: 4997 | disc_loss: -0.4607713520526886 | gen_loss: -0.01556665450334549\n",
      "Iteration: 4998 | disc_loss: -0.6486361622810364 | gen_loss: -0.5310630798339844\n",
      "Iteration: 4999 | disc_loss: -0.7417126297950745 | gen_loss: -0.06690840423107147\n",
      "Iteration: 5000 | disc_loss: -0.8978970646858215 | gen_loss: -0.2649030089378357\n"
     ]
    },
    {
     "name": "stderr",
     "output_type": "stream",
     "text": [
      "\n"
     ]
    }
   ],
   "source": [
    "#Training the GAN model chosen: Vanilla GAN, CGAN, DCGAN, etc.\n",
    "synthesizer = WGAN_GP(gan_args, n_critic=2)\n",
    "synthesizer.train(data_train, train_args)"
   ]
  },
  {
   "cell_type": "code",
   "execution_count": 10,
   "metadata": {},
   "outputs": [
    {
     "name": "stdout",
     "output_type": "stream",
     "text": [
      "Model: \"model\"\n",
      "_________________________________________________________________\n",
      "Layer (type)                 Output Shape              Param #   \n",
      "=================================================================\n",
      "input_1 (InputLayer)         [(16, 32)]                0         \n",
      "_________________________________________________________________\n",
      "dense (Dense)                (16, 128)                 4224      \n",
      "_________________________________________________________________\n",
      "dense_1 (Dense)              (16, 256)                 33024     \n",
      "_________________________________________________________________\n",
      "dense_2 (Dense)              (16, 512)                 131584    \n",
      "_________________________________________________________________\n",
      "dense_3 (Dense)              (16, 89)                  45657     \n",
      "=================================================================\n",
      "Total params: 214,489\n",
      "Trainable params: 214,489\n",
      "Non-trainable params: 0\n",
      "_________________________________________________________________\n"
     ]
    }
   ],
   "source": [
    "synthesizer.generator.summary()"
   ]
  },
  {
   "cell_type": "code",
   "execution_count": 11,
   "metadata": {},
   "outputs": [
    {
     "name": "stdout",
     "output_type": "stream",
     "text": [
      "Model: \"model_1\"\n",
      "_________________________________________________________________\n",
      "Layer (type)                 Output Shape              Param #   \n",
      "=================================================================\n",
      "input_2 (InputLayer)         [(16, 89)]                0         \n",
      "_________________________________________________________________\n",
      "dense_4 (Dense)              (16, 512)                 46080     \n",
      "_________________________________________________________________\n",
      "dropout (Dropout)            (16, 512)                 0         \n",
      "_________________________________________________________________\n",
      "dense_5 (Dense)              (16, 256)                 131328    \n",
      "_________________________________________________________________\n",
      "dropout_1 (Dropout)          (16, 256)                 0         \n",
      "_________________________________________________________________\n",
      "dense_6 (Dense)              (16, 128)                 32896     \n",
      "_________________________________________________________________\n",
      "dense_7 (Dense)              (16, 1)                   129       \n",
      "=================================================================\n",
      "Total params: 210,433\n",
      "Trainable params: 210,433\n",
      "Non-trainable params: 0\n",
      "_________________________________________________________________\n"
     ]
    }
   ],
   "source": [
    "synthesizer.critic.summary()"
   ]
  },
  {
   "cell_type": "markdown",
   "metadata": {},
   "source": [
    "## Generate data"
   ]
  },
  {
   "cell_type": "code",
   "execution_count": 21,
   "metadata": {},
   "outputs": [
    {
     "name": "stderr",
     "output_type": "stream",
     "text": [
      "Synthetic data generation: 100%|██████████| 5089/5089 [00:10<00:00, 482.05it/s]\n"
     ]
    },
    {
     "data": {
      "text/html": [
       "<div>\n",
       "<style scoped>\n",
       "    .dataframe tbody tr th:only-of-type {\n",
       "        vertical-align: middle;\n",
       "    }\n",
       "\n",
       "    .dataframe tbody tr th {\n",
       "        vertical-align: top;\n",
       "    }\n",
       "\n",
       "    .dataframe thead th {\n",
       "        text-align: right;\n",
       "    }\n",
       "</style>\n",
       "<table border=\"1\" class=\"dataframe\">\n",
       "  <thead>\n",
       "    <tr style=\"text-align: right;\">\n",
       "      <th></th>\n",
       "      <th>encounter_id</th>\n",
       "      <th>patient_nbr</th>\n",
       "      <th>time_in_hospital</th>\n",
       "      <th>num_lab_procedures</th>\n",
       "      <th>num_procedures</th>\n",
       "      <th>num_medications</th>\n",
       "      <th>number_outpatient</th>\n",
       "      <th>number_emergency</th>\n",
       "      <th>number_inpatient</th>\n",
       "      <th>number_diagnoses</th>\n",
       "      <th>...</th>\n",
       "      <th>A1Cresult1</th>\n",
       "      <th>A1Cresult2</th>\n",
       "      <th>A1Cresult3</th>\n",
       "      <th>change0</th>\n",
       "      <th>change1</th>\n",
       "      <th>diabetesMed0</th>\n",
       "      <th>diabetesMed1</th>\n",
       "      <th>readmitted0</th>\n",
       "      <th>readmitted1</th>\n",
       "      <th>readmitted2</th>\n",
       "    </tr>\n",
       "  </thead>\n",
       "  <tbody>\n",
       "    <tr>\n",
       "      <th>0</th>\n",
       "      <td>-0.050218</td>\n",
       "      <td>-0.622971</td>\n",
       "      <td>-0.722175</td>\n",
       "      <td>-0.631848</td>\n",
       "      <td>-0.245067</td>\n",
       "      <td>-0.059613</td>\n",
       "      <td>1.168138</td>\n",
       "      <td>1.735321</td>\n",
       "      <td>1.019794</td>\n",
       "      <td>-0.626693</td>\n",
       "      <td>...</td>\n",
       "      <td>-0.338054</td>\n",
       "      <td>0.391976</td>\n",
       "      <td>-0.165622</td>\n",
       "      <td>1.024550</td>\n",
       "      <td>-1.070060</td>\n",
       "      <td>-0.567685</td>\n",
       "      <td>0.533579</td>\n",
       "      <td>-0.134926</td>\n",
       "      <td>1.138190</td>\n",
       "      <td>-1.045945</td>\n",
       "    </tr>\n",
       "    <tr>\n",
       "      <th>1</th>\n",
       "      <td>-0.147973</td>\n",
       "      <td>-0.795333</td>\n",
       "      <td>-0.855456</td>\n",
       "      <td>-0.960206</td>\n",
       "      <td>-0.259145</td>\n",
       "      <td>-0.043875</td>\n",
       "      <td>1.472586</td>\n",
       "      <td>2.158248</td>\n",
       "      <td>1.226663</td>\n",
       "      <td>-0.824103</td>\n",
       "      <td>...</td>\n",
       "      <td>-0.328208</td>\n",
       "      <td>0.509051</td>\n",
       "      <td>-0.203234</td>\n",
       "      <td>1.167936</td>\n",
       "      <td>-1.209785</td>\n",
       "      <td>-0.697188</td>\n",
       "      <td>0.626282</td>\n",
       "      <td>-0.281579</td>\n",
       "      <td>1.613237</td>\n",
       "      <td>-1.374420</td>\n",
       "    </tr>\n",
       "    <tr>\n",
       "      <th>2</th>\n",
       "      <td>-0.080528</td>\n",
       "      <td>-0.573773</td>\n",
       "      <td>-0.713176</td>\n",
       "      <td>-0.612210</td>\n",
       "      <td>-0.156987</td>\n",
       "      <td>0.022233</td>\n",
       "      <td>1.166095</td>\n",
       "      <td>1.646509</td>\n",
       "      <td>1.010039</td>\n",
       "      <td>-0.622886</td>\n",
       "      <td>...</td>\n",
       "      <td>-0.294557</td>\n",
       "      <td>0.393984</td>\n",
       "      <td>-0.193716</td>\n",
       "      <td>0.957994</td>\n",
       "      <td>-0.942677</td>\n",
       "      <td>-0.522152</td>\n",
       "      <td>0.542372</td>\n",
       "      <td>-0.150450</td>\n",
       "      <td>1.206376</td>\n",
       "      <td>-1.089079</td>\n",
       "    </tr>\n",
       "    <tr>\n",
       "      <th>3</th>\n",
       "      <td>0.048147</td>\n",
       "      <td>-0.312801</td>\n",
       "      <td>-0.800207</td>\n",
       "      <td>-0.462561</td>\n",
       "      <td>-0.039910</td>\n",
       "      <td>-0.085300</td>\n",
       "      <td>0.492722</td>\n",
       "      <td>1.450185</td>\n",
       "      <td>0.315978</td>\n",
       "      <td>-0.076821</td>\n",
       "      <td>...</td>\n",
       "      <td>-0.293706</td>\n",
       "      <td>0.511881</td>\n",
       "      <td>-0.278351</td>\n",
       "      <td>1.212542</td>\n",
       "      <td>-1.192929</td>\n",
       "      <td>-0.643368</td>\n",
       "      <td>0.651447</td>\n",
       "      <td>-0.218097</td>\n",
       "      <td>0.178886</td>\n",
       "      <td>-0.041863</td>\n",
       "    </tr>\n",
       "    <tr>\n",
       "      <th>4</th>\n",
       "      <td>-0.032140</td>\n",
       "      <td>-0.555376</td>\n",
       "      <td>-0.699198</td>\n",
       "      <td>-0.420960</td>\n",
       "      <td>-0.292390</td>\n",
       "      <td>-0.063729</td>\n",
       "      <td>0.927467</td>\n",
       "      <td>1.392761</td>\n",
       "      <td>0.724196</td>\n",
       "      <td>-0.471027</td>\n",
       "      <td>...</td>\n",
       "      <td>-0.304050</td>\n",
       "      <td>0.428492</td>\n",
       "      <td>-0.191144</td>\n",
       "      <td>0.743119</td>\n",
       "      <td>-0.804153</td>\n",
       "      <td>-0.429710</td>\n",
       "      <td>0.402719</td>\n",
       "      <td>-0.230403</td>\n",
       "      <td>0.915416</td>\n",
       "      <td>-0.804203</td>\n",
       "    </tr>\n",
       "    <tr>\n",
       "      <th>...</th>\n",
       "      <td>...</td>\n",
       "      <td>...</td>\n",
       "      <td>...</td>\n",
       "      <td>...</td>\n",
       "      <td>...</td>\n",
       "      <td>...</td>\n",
       "      <td>...</td>\n",
       "      <td>...</td>\n",
       "      <td>...</td>\n",
       "      <td>...</td>\n",
       "      <td>...</td>\n",
       "      <td>...</td>\n",
       "      <td>...</td>\n",
       "      <td>...</td>\n",
       "      <td>...</td>\n",
       "      <td>...</td>\n",
       "      <td>...</td>\n",
       "      <td>...</td>\n",
       "      <td>...</td>\n",
       "      <td>...</td>\n",
       "      <td>...</td>\n",
       "    </tr>\n",
       "    <tr>\n",
       "      <th>11</th>\n",
       "      <td>0.205231</td>\n",
       "      <td>0.977878</td>\n",
       "      <td>1.423023</td>\n",
       "      <td>1.580871</td>\n",
       "      <td>0.765987</td>\n",
       "      <td>0.456902</td>\n",
       "      <td>-0.255025</td>\n",
       "      <td>-0.198853</td>\n",
       "      <td>1.464012</td>\n",
       "      <td>0.666869</td>\n",
       "      <td>...</td>\n",
       "      <td>-0.302135</td>\n",
       "      <td>0.386404</td>\n",
       "      <td>-0.175445</td>\n",
       "      <td>0.947059</td>\n",
       "      <td>-0.943332</td>\n",
       "      <td>-0.528302</td>\n",
       "      <td>0.483555</td>\n",
       "      <td>2.319856</td>\n",
       "      <td>-0.704290</td>\n",
       "      <td>-0.834402</td>\n",
       "    </tr>\n",
       "    <tr>\n",
       "      <th>12</th>\n",
       "      <td>0.048755</td>\n",
       "      <td>0.112119</td>\n",
       "      <td>0.007910</td>\n",
       "      <td>0.358303</td>\n",
       "      <td>0.186511</td>\n",
       "      <td>0.159921</td>\n",
       "      <td>-0.002353</td>\n",
       "      <td>0.526677</td>\n",
       "      <td>0.466332</td>\n",
       "      <td>0.143189</td>\n",
       "      <td>...</td>\n",
       "      <td>-0.307950</td>\n",
       "      <td>0.434786</td>\n",
       "      <td>-0.186992</td>\n",
       "      <td>1.144961</td>\n",
       "      <td>-1.203421</td>\n",
       "      <td>-0.606818</td>\n",
       "      <td>0.614451</td>\n",
       "      <td>0.581299</td>\n",
       "      <td>-0.427802</td>\n",
       "      <td>0.035895</td>\n",
       "    </tr>\n",
       "    <tr>\n",
       "      <th>13</th>\n",
       "      <td>-0.574238</td>\n",
       "      <td>-1.165037</td>\n",
       "      <td>-0.322389</td>\n",
       "      <td>-0.341448</td>\n",
       "      <td>-0.127316</td>\n",
       "      <td>0.286327</td>\n",
       "      <td>0.116270</td>\n",
       "      <td>0.284524</td>\n",
       "      <td>-0.040567</td>\n",
       "      <td>0.036502</td>\n",
       "      <td>...</td>\n",
       "      <td>-0.290235</td>\n",
       "      <td>0.409375</td>\n",
       "      <td>-0.234606</td>\n",
       "      <td>1.024854</td>\n",
       "      <td>-1.068539</td>\n",
       "      <td>-0.587352</td>\n",
       "      <td>0.594886</td>\n",
       "      <td>-0.398317</td>\n",
       "      <td>-0.201557</td>\n",
       "      <td>0.366791</td>\n",
       "    </tr>\n",
       "    <tr>\n",
       "      <th>14</th>\n",
       "      <td>0.063901</td>\n",
       "      <td>0.587049</td>\n",
       "      <td>1.116532</td>\n",
       "      <td>1.321185</td>\n",
       "      <td>0.533969</td>\n",
       "      <td>0.476505</td>\n",
       "      <td>-0.282068</td>\n",
       "      <td>-0.252654</td>\n",
       "      <td>1.140028</td>\n",
       "      <td>0.596249</td>\n",
       "      <td>...</td>\n",
       "      <td>-0.303021</td>\n",
       "      <td>0.522607</td>\n",
       "      <td>-0.168507</td>\n",
       "      <td>0.997646</td>\n",
       "      <td>-1.047936</td>\n",
       "      <td>-0.608804</td>\n",
       "      <td>0.560485</td>\n",
       "      <td>2.018034</td>\n",
       "      <td>-0.820680</td>\n",
       "      <td>-0.523733</td>\n",
       "    </tr>\n",
       "    <tr>\n",
       "      <th>15</th>\n",
       "      <td>0.122116</td>\n",
       "      <td>-0.200080</td>\n",
       "      <td>-0.554084</td>\n",
       "      <td>-0.345536</td>\n",
       "      <td>-0.158391</td>\n",
       "      <td>-0.031951</td>\n",
       "      <td>0.998061</td>\n",
       "      <td>1.555659</td>\n",
       "      <td>0.954273</td>\n",
       "      <td>-0.574315</td>\n",
       "      <td>...</td>\n",
       "      <td>-0.321353</td>\n",
       "      <td>0.372739</td>\n",
       "      <td>-0.181087</td>\n",
       "      <td>1.026349</td>\n",
       "      <td>-1.080238</td>\n",
       "      <td>-0.607995</td>\n",
       "      <td>0.578010</td>\n",
       "      <td>0.043268</td>\n",
       "      <td>0.828418</td>\n",
       "      <td>-0.857400</td>\n",
       "    </tr>\n",
       "  </tbody>\n",
       "</table>\n",
       "<p>81424 rows × 89 columns</p>\n",
       "</div>"
      ],
      "text/plain": [
       "    encounter_id  patient_nbr  time_in_hospital  num_lab_procedures  \\\n",
       "0      -0.050218    -0.622971         -0.722175           -0.631848   \n",
       "1      -0.147973    -0.795333         -0.855456           -0.960206   \n",
       "2      -0.080528    -0.573773         -0.713176           -0.612210   \n",
       "3       0.048147    -0.312801         -0.800207           -0.462561   \n",
       "4      -0.032140    -0.555376         -0.699198           -0.420960   \n",
       "..           ...          ...               ...                 ...   \n",
       "11      0.205231     0.977878          1.423023            1.580871   \n",
       "12      0.048755     0.112119          0.007910            0.358303   \n",
       "13     -0.574238    -1.165037         -0.322389           -0.341448   \n",
       "14      0.063901     0.587049          1.116532            1.321185   \n",
       "15      0.122116    -0.200080         -0.554084           -0.345536   \n",
       "\n",
       "    num_procedures  num_medications  number_outpatient  number_emergency  \\\n",
       "0        -0.245067        -0.059613           1.168138          1.735321   \n",
       "1        -0.259145        -0.043875           1.472586          2.158248   \n",
       "2        -0.156987         0.022233           1.166095          1.646509   \n",
       "3        -0.039910        -0.085300           0.492722          1.450185   \n",
       "4        -0.292390        -0.063729           0.927467          1.392761   \n",
       "..             ...              ...                ...               ...   \n",
       "11        0.765987         0.456902          -0.255025         -0.198853   \n",
       "12        0.186511         0.159921          -0.002353          0.526677   \n",
       "13       -0.127316         0.286327           0.116270          0.284524   \n",
       "14        0.533969         0.476505          -0.282068         -0.252654   \n",
       "15       -0.158391        -0.031951           0.998061          1.555659   \n",
       "\n",
       "    number_inpatient  number_diagnoses  ...  A1Cresult1  A1Cresult2  \\\n",
       "0           1.019794         -0.626693  ...   -0.338054    0.391976   \n",
       "1           1.226663         -0.824103  ...   -0.328208    0.509051   \n",
       "2           1.010039         -0.622886  ...   -0.294557    0.393984   \n",
       "3           0.315978         -0.076821  ...   -0.293706    0.511881   \n",
       "4           0.724196         -0.471027  ...   -0.304050    0.428492   \n",
       "..               ...               ...  ...         ...         ...   \n",
       "11          1.464012          0.666869  ...   -0.302135    0.386404   \n",
       "12          0.466332          0.143189  ...   -0.307950    0.434786   \n",
       "13         -0.040567          0.036502  ...   -0.290235    0.409375   \n",
       "14          1.140028          0.596249  ...   -0.303021    0.522607   \n",
       "15          0.954273         -0.574315  ...   -0.321353    0.372739   \n",
       "\n",
       "    A1Cresult3   change0   change1  diabetesMed0  diabetesMed1  readmitted0  \\\n",
       "0    -0.165622  1.024550 -1.070060     -0.567685      0.533579    -0.134926   \n",
       "1    -0.203234  1.167936 -1.209785     -0.697188      0.626282    -0.281579   \n",
       "2    -0.193716  0.957994 -0.942677     -0.522152      0.542372    -0.150450   \n",
       "3    -0.278351  1.212542 -1.192929     -0.643368      0.651447    -0.218097   \n",
       "4    -0.191144  0.743119 -0.804153     -0.429710      0.402719    -0.230403   \n",
       "..         ...       ...       ...           ...           ...          ...   \n",
       "11   -0.175445  0.947059 -0.943332     -0.528302      0.483555     2.319856   \n",
       "12   -0.186992  1.144961 -1.203421     -0.606818      0.614451     0.581299   \n",
       "13   -0.234606  1.024854 -1.068539     -0.587352      0.594886    -0.398317   \n",
       "14   -0.168507  0.997646 -1.047936     -0.608804      0.560485     2.018034   \n",
       "15   -0.181087  1.026349 -1.080238     -0.607995      0.578010     0.043268   \n",
       "\n",
       "    readmitted1  readmitted2  \n",
       "0      1.138190    -1.045945  \n",
       "1      1.613237    -1.374420  \n",
       "2      1.206376    -1.089079  \n",
       "3      0.178886    -0.041863  \n",
       "4      0.915416    -0.804203  \n",
       "..          ...          ...  \n",
       "11    -0.704290    -0.834402  \n",
       "12    -0.427802     0.035895  \n",
       "13    -0.201557     0.366791  \n",
       "14    -0.820680    -0.523733  \n",
       "15     0.828418    -0.857400  \n",
       "\n",
       "[81424 rows x 89 columns]"
      ]
     },
     "execution_count": 21,
     "metadata": {},
     "output_type": "execute_result"
    }
   ],
   "source": [
    "size = len(data_train)\n",
    "generated_samples = synthesizer.sample(size)\n",
    "generated_samples.columns = data_train.columns\n",
    "generated_samples"
   ]
  },
  {
   "cell_type": "markdown",
   "metadata": {},
   "source": [
    "## Transform and process generated data"
   ]
  },
  {
   "cell_type": "code",
   "execution_count": 22,
   "metadata": {},
   "outputs": [
    {
     "data": {
      "text/html": [
       "<div>\n",
       "<style scoped>\n",
       "    .dataframe tbody tr th:only-of-type {\n",
       "        vertical-align: middle;\n",
       "    }\n",
       "\n",
       "    .dataframe tbody tr th {\n",
       "        vertical-align: top;\n",
       "    }\n",
       "\n",
       "    .dataframe thead th {\n",
       "        text-align: right;\n",
       "    }\n",
       "</style>\n",
       "<table border=\"1\" class=\"dataframe\">\n",
       "  <thead>\n",
       "    <tr style=\"text-align: right;\">\n",
       "      <th></th>\n",
       "      <th>encounter_id</th>\n",
       "      <th>patient_nbr</th>\n",
       "      <th>gender</th>\n",
       "      <th>age</th>\n",
       "      <th>admission_type_id</th>\n",
       "      <th>discharge_disposition_id</th>\n",
       "      <th>admission_source_id</th>\n",
       "      <th>time_in_hospital</th>\n",
       "      <th>num_lab_procedures</th>\n",
       "      <th>num_procedures</th>\n",
       "      <th>num_medications</th>\n",
       "      <th>number_outpatient</th>\n",
       "      <th>number_emergency</th>\n",
       "      <th>number_inpatient</th>\n",
       "      <th>number_diagnoses</th>\n",
       "      <th>max_glu_serum</th>\n",
       "      <th>A1Cresult</th>\n",
       "      <th>change</th>\n",
       "      <th>diabetesMed</th>\n",
       "      <th>readmitted</th>\n",
       "    </tr>\n",
       "  </thead>\n",
       "  <tbody>\n",
       "    <tr>\n",
       "      <th>0</th>\n",
       "      <td>160291792</td>\n",
       "      <td>30203270</td>\n",
       "      <td>Female</td>\n",
       "      <td>[60-70)</td>\n",
       "      <td>5</td>\n",
       "      <td>1</td>\n",
       "      <td>1</td>\n",
       "      <td>2</td>\n",
       "      <td>30</td>\n",
       "      <td>0</td>\n",
       "      <td>15</td>\n",
       "      <td>1</td>\n",
       "      <td>1</td>\n",
       "      <td>1</td>\n",
       "      <td>6</td>\n",
       "      <td>None</td>\n",
       "      <td>None</td>\n",
       "      <td>Ch</td>\n",
       "      <td>Yes</td>\n",
       "      <td>&gt;30</td>\n",
       "    </tr>\n",
       "    <tr>\n",
       "      <th>1</th>\n",
       "      <td>150234576</td>\n",
       "      <td>23529820</td>\n",
       "      <td>Female</td>\n",
       "      <td>[60-70)</td>\n",
       "      <td>5</td>\n",
       "      <td>1</td>\n",
       "      <td>1</td>\n",
       "      <td>1</td>\n",
       "      <td>24</td>\n",
       "      <td>0</td>\n",
       "      <td>15</td>\n",
       "      <td>2</td>\n",
       "      <td>2</td>\n",
       "      <td>2</td>\n",
       "      <td>5</td>\n",
       "      <td>None</td>\n",
       "      <td>None</td>\n",
       "      <td>Ch</td>\n",
       "      <td>Yes</td>\n",
       "      <td>&gt;30</td>\n",
       "    </tr>\n",
       "    <tr>\n",
       "      <th>2</th>\n",
       "      <td>157173424</td>\n",
       "      <td>32108070</td>\n",
       "      <td>Female</td>\n",
       "      <td>[60-70)</td>\n",
       "      <td>5</td>\n",
       "      <td>1</td>\n",
       "      <td>1</td>\n",
       "      <td>2</td>\n",
       "      <td>30</td>\n",
       "      <td>1</td>\n",
       "      <td>16</td>\n",
       "      <td>1</td>\n",
       "      <td>1</td>\n",
       "      <td>1</td>\n",
       "      <td>6</td>\n",
       "      <td>None</td>\n",
       "      <td>None</td>\n",
       "      <td>Ch</td>\n",
       "      <td>Yes</td>\n",
       "      <td>&gt;30</td>\n",
       "    </tr>\n",
       "    <tr>\n",
       "      <th>3</th>\n",
       "      <td>170411776</td>\n",
       "      <td>42212280</td>\n",
       "      <td>Male</td>\n",
       "      <td>[60-70)</td>\n",
       "      <td>5</td>\n",
       "      <td>1</td>\n",
       "      <td>1</td>\n",
       "      <td>2</td>\n",
       "      <td>33</td>\n",
       "      <td>1</td>\n",
       "      <td>15</td>\n",
       "      <td>0</td>\n",
       "      <td>1</td>\n",
       "      <td>1</td>\n",
       "      <td>7</td>\n",
       "      <td>None</td>\n",
       "      <td>None</td>\n",
       "      <td>Ch</td>\n",
       "      <td>Yes</td>\n",
       "      <td>NO</td>\n",
       "    </tr>\n",
       "    <tr>\n",
       "      <th>4</th>\n",
       "      <td>162151744</td>\n",
       "      <td>32820374</td>\n",
       "      <td>Female</td>\n",
       "      <td>[60-70)</td>\n",
       "      <td>5</td>\n",
       "      <td>1</td>\n",
       "      <td>1</td>\n",
       "      <td>2</td>\n",
       "      <td>34</td>\n",
       "      <td>0</td>\n",
       "      <td>15</td>\n",
       "      <td>1</td>\n",
       "      <td>1</td>\n",
       "      <td>1</td>\n",
       "      <td>6</td>\n",
       "      <td>None</td>\n",
       "      <td>None</td>\n",
       "      <td>Ch</td>\n",
       "      <td>Yes</td>\n",
       "      <td>&gt;30</td>\n",
       "    </tr>\n",
       "    <tr>\n",
       "      <th>...</th>\n",
       "      <td>...</td>\n",
       "      <td>...</td>\n",
       "      <td>...</td>\n",
       "      <td>...</td>\n",
       "      <td>...</td>\n",
       "      <td>...</td>\n",
       "      <td>...</td>\n",
       "      <td>...</td>\n",
       "      <td>...</td>\n",
       "      <td>...</td>\n",
       "      <td>...</td>\n",
       "      <td>...</td>\n",
       "      <td>...</td>\n",
       "      <td>...</td>\n",
       "      <td>...</td>\n",
       "      <td>...</td>\n",
       "      <td>...</td>\n",
       "      <td>...</td>\n",
       "      <td>...</td>\n",
       "      <td>...</td>\n",
       "    </tr>\n",
       "    <tr>\n",
       "      <th>15</th>\n",
       "      <td>157678000</td>\n",
       "      <td>37311180</td>\n",
       "      <td>Female</td>\n",
       "      <td>[60-70)</td>\n",
       "      <td>5</td>\n",
       "      <td>1</td>\n",
       "      <td>1</td>\n",
       "      <td>3</td>\n",
       "      <td>35</td>\n",
       "      <td>0</td>\n",
       "      <td>15</td>\n",
       "      <td>1</td>\n",
       "      <td>1</td>\n",
       "      <td>1</td>\n",
       "      <td>6</td>\n",
       "      <td>None</td>\n",
       "      <td>None</td>\n",
       "      <td>Ch</td>\n",
       "      <td>Yes</td>\n",
       "      <td>&gt;30</td>\n",
       "    </tr>\n",
       "    <tr>\n",
       "      <th>0</th>\n",
       "      <td>150013616</td>\n",
       "      <td>62489392</td>\n",
       "      <td>Male</td>\n",
       "      <td>[60-70)</td>\n",
       "      <td>2</td>\n",
       "      <td>1</td>\n",
       "      <td>7</td>\n",
       "      <td>6</td>\n",
       "      <td>61</td>\n",
       "      <td>2</td>\n",
       "      <td>19</td>\n",
       "      <td>0</td>\n",
       "      <td>0</td>\n",
       "      <td>1</td>\n",
       "      <td>8</td>\n",
       "      <td>None</td>\n",
       "      <td>None</td>\n",
       "      <td>Ch</td>\n",
       "      <td>Yes</td>\n",
       "      <td>&lt;30</td>\n",
       "    </tr>\n",
       "    <tr>\n",
       "      <th>1</th>\n",
       "      <td>102509624</td>\n",
       "      <td>9322925</td>\n",
       "      <td>Male</td>\n",
       "      <td>[60-70)</td>\n",
       "      <td>3</td>\n",
       "      <td>1</td>\n",
       "      <td>1</td>\n",
       "      <td>3</td>\n",
       "      <td>36</td>\n",
       "      <td>1</td>\n",
       "      <td>18</td>\n",
       "      <td>0</td>\n",
       "      <td>0</td>\n",
       "      <td>0</td>\n",
       "      <td>7</td>\n",
       "      <td>None</td>\n",
       "      <td>None</td>\n",
       "      <td>Ch</td>\n",
       "      <td>Yes</td>\n",
       "      <td>NO</td>\n",
       "    </tr>\n",
       "    <tr>\n",
       "      <th>2</th>\n",
       "      <td>154289120</td>\n",
       "      <td>29546988</td>\n",
       "      <td>Female</td>\n",
       "      <td>[60-70)</td>\n",
       "      <td>5</td>\n",
       "      <td>1</td>\n",
       "      <td>1</td>\n",
       "      <td>2</td>\n",
       "      <td>27</td>\n",
       "      <td>1</td>\n",
       "      <td>16</td>\n",
       "      <td>2</td>\n",
       "      <td>2</td>\n",
       "      <td>2</td>\n",
       "      <td>5</td>\n",
       "      <td>None</td>\n",
       "      <td>None</td>\n",
       "      <td>Ch</td>\n",
       "      <td>Yes</td>\n",
       "      <td>&gt;30</td>\n",
       "    </tr>\n",
       "    <tr>\n",
       "      <th>3</th>\n",
       "      <td>152470064</td>\n",
       "      <td>40726996</td>\n",
       "      <td>Male</td>\n",
       "      <td>[60-70)</td>\n",
       "      <td>5</td>\n",
       "      <td>1</td>\n",
       "      <td>17</td>\n",
       "      <td>4</td>\n",
       "      <td>28</td>\n",
       "      <td>1</td>\n",
       "      <td>16</td>\n",
       "      <td>0</td>\n",
       "      <td>0</td>\n",
       "      <td>0</td>\n",
       "      <td>7</td>\n",
       "      <td>None</td>\n",
       "      <td>None</td>\n",
       "      <td>Ch</td>\n",
       "      <td>Yes</td>\n",
       "      <td>NO</td>\n",
       "    </tr>\n",
       "  </tbody>\n",
       "</table>\n",
       "<p>81412 rows × 20 columns</p>\n",
       "</div>"
      ],
      "text/plain": [
       "    encounter_id  patient_nbr  gender      age  admission_type_id  \\\n",
       "0      160291792     30203270  Female  [60-70)                  5   \n",
       "1      150234576     23529820  Female  [60-70)                  5   \n",
       "2      157173424     32108070  Female  [60-70)                  5   \n",
       "3      170411776     42212280    Male  [60-70)                  5   \n",
       "4      162151744     32820374  Female  [60-70)                  5   \n",
       "..           ...          ...     ...      ...                ...   \n",
       "15     157678000     37311180  Female  [60-70)                  5   \n",
       "0      150013616     62489392    Male  [60-70)                  2   \n",
       "1      102509624      9322925    Male  [60-70)                  3   \n",
       "2      154289120     29546988  Female  [60-70)                  5   \n",
       "3      152470064     40726996    Male  [60-70)                  5   \n",
       "\n",
       "    discharge_disposition_id  admission_source_id  time_in_hospital  \\\n",
       "0                          1                    1                 2   \n",
       "1                          1                    1                 1   \n",
       "2                          1                    1                 2   \n",
       "3                          1                    1                 2   \n",
       "4                          1                    1                 2   \n",
       "..                       ...                  ...               ...   \n",
       "15                         1                    1                 3   \n",
       "0                          1                    7                 6   \n",
       "1                          1                    1                 3   \n",
       "2                          1                    1                 2   \n",
       "3                          1                   17                 4   \n",
       "\n",
       "    num_lab_procedures  num_procedures  num_medications  number_outpatient  \\\n",
       "0                   30               0               15                  1   \n",
       "1                   24               0               15                  2   \n",
       "2                   30               1               16                  1   \n",
       "3                   33               1               15                  0   \n",
       "4                   34               0               15                  1   \n",
       "..                 ...             ...              ...                ...   \n",
       "15                  35               0               15                  1   \n",
       "0                   61               2               19                  0   \n",
       "1                   36               1               18                  0   \n",
       "2                   27               1               16                  2   \n",
       "3                   28               1               16                  0   \n",
       "\n",
       "    number_emergency  number_inpatient  number_diagnoses max_glu_serum  \\\n",
       "0                  1                 1                 6          None   \n",
       "1                  2                 2                 5          None   \n",
       "2                  1                 1                 6          None   \n",
       "3                  1                 1                 7          None   \n",
       "4                  1                 1                 6          None   \n",
       "..               ...               ...               ...           ...   \n",
       "15                 1                 1                 6          None   \n",
       "0                  0                 1                 8          None   \n",
       "1                  0                 0                 7          None   \n",
       "2                  2                 2                 5          None   \n",
       "3                  0                 0                 7          None   \n",
       "\n",
       "   A1Cresult change diabetesMed readmitted  \n",
       "0       None     Ch         Yes        >30  \n",
       "1       None     Ch         Yes        >30  \n",
       "2       None     Ch         Yes        >30  \n",
       "3       None     Ch         Yes         NO  \n",
       "4       None     Ch         Yes        >30  \n",
       "..       ...    ...         ...        ...  \n",
       "15      None     Ch         Yes        >30  \n",
       "0       None     Ch         Yes        <30  \n",
       "1       None     Ch         Yes         NO  \n",
       "2       None     Ch         Yes        >30  \n",
       "3       None     Ch         Yes         NO  \n",
       "\n",
       "[81412 rows x 20 columns]"
      ]
     },
     "execution_count": 22,
     "metadata": {},
     "output_type": "execute_result"
    }
   ],
   "source": [
    "synthetic_data = preprocessor.transform_data(generated_samples)\n",
    "synthetic_data = synthetic_data[0:len(real_data)]\n",
    "synthetic_data"
   ]
  },
  {
   "cell_type": "code",
   "execution_count": 23,
   "metadata": {},
   "outputs": [
    {
     "name": "stdout",
     "output_type": "stream",
     "text": [
      "encounter_id                   int64\n",
      "patient_nbr                    int64\n",
      "gender                      category\n",
      "age                         category\n",
      "admission_type_id           category\n",
      "discharge_disposition_id    category\n",
      "admission_source_id         category\n",
      "time_in_hospital               int64\n",
      "num_lab_procedures             int64\n",
      "num_procedures                 int64\n",
      "num_medications                int64\n",
      "number_outpatient              int64\n",
      "number_emergency               int64\n",
      "number_inpatient               int64\n",
      "number_diagnoses               int64\n",
      "max_glu_serum               category\n",
      "A1Cresult                   category\n",
      "change                      category\n",
      "diabetesMed                 category\n",
      "readmitted                  category\n",
      "dtype: object \n",
      " encounter_id                 int64\n",
      "patient_nbr                  int64\n",
      "gender                      object\n",
      "age                         object\n",
      "admission_type_id            int64\n",
      "discharge_disposition_id     int64\n",
      "admission_source_id          int64\n",
      "time_in_hospital             int64\n",
      "num_lab_procedures           int64\n",
      "num_procedures               int64\n",
      "num_medications              int64\n",
      "number_outpatient            int64\n",
      "number_emergency             int64\n",
      "number_inpatient             int64\n",
      "number_diagnoses             int64\n",
      "max_glu_serum               object\n",
      "A1Cresult                   object\n",
      "change                      object\n",
      "diabetesMed                 object\n",
      "readmitted                  object\n",
      "dtype: object\n",
      "(81412, 20) (81412, 20)\n"
     ]
    }
   ],
   "source": [
    "print(real_data.dtypes, '\\n', synthetic_data.dtypes)\n",
    "print(real_data.shape, synthetic_data.shape)"
   ]
  },
  {
   "cell_type": "code",
   "execution_count": 24,
   "metadata": {},
   "outputs": [
    {
     "data": {
      "text/html": [
       "<div>\n",
       "<style scoped>\n",
       "    .dataframe tbody tr th:only-of-type {\n",
       "        vertical-align: middle;\n",
       "    }\n",
       "\n",
       "    .dataframe tbody tr th {\n",
       "        vertical-align: top;\n",
       "    }\n",
       "\n",
       "    .dataframe thead th {\n",
       "        text-align: right;\n",
       "    }\n",
       "</style>\n",
       "<table border=\"1\" class=\"dataframe\">\n",
       "  <thead>\n",
       "    <tr style=\"text-align: right;\">\n",
       "      <th></th>\n",
       "      <th>encounter_id</th>\n",
       "      <th>patient_nbr</th>\n",
       "      <th>time_in_hospital</th>\n",
       "      <th>num_lab_procedures</th>\n",
       "      <th>num_procedures</th>\n",
       "      <th>num_medications</th>\n",
       "      <th>number_outpatient</th>\n",
       "      <th>number_emergency</th>\n",
       "      <th>number_inpatient</th>\n",
       "      <th>number_diagnoses</th>\n",
       "    </tr>\n",
       "  </thead>\n",
       "  <tbody>\n",
       "    <tr>\n",
       "      <th>count</th>\n",
       "      <td>8.141200e+04</td>\n",
       "      <td>8.141200e+04</td>\n",
       "      <td>81412.000000</td>\n",
       "      <td>81412.000000</td>\n",
       "      <td>81412.000000</td>\n",
       "      <td>81412.000000</td>\n",
       "      <td>81412.000000</td>\n",
       "      <td>81412.000000</td>\n",
       "      <td>81412.000000</td>\n",
       "      <td>81412.000000</td>\n",
       "    </tr>\n",
       "    <tr>\n",
       "      <th>mean</th>\n",
       "      <td>1.654583e+08</td>\n",
       "      <td>5.432315e+07</td>\n",
       "      <td>4.401513</td>\n",
       "      <td>43.077839</td>\n",
       "      <td>1.338107</td>\n",
       "      <td>16.008340</td>\n",
       "      <td>0.368115</td>\n",
       "      <td>0.198853</td>\n",
       "      <td>0.636122</td>\n",
       "      <td>7.421817</td>\n",
       "    </tr>\n",
       "    <tr>\n",
       "      <th>std</th>\n",
       "      <td>1.028827e+08</td>\n",
       "      <td>3.871775e+07</td>\n",
       "      <td>2.993730</td>\n",
       "      <td>19.736568</td>\n",
       "      <td>1.704868</td>\n",
       "      <td>8.119336</td>\n",
       "      <td>1.264267</td>\n",
       "      <td>0.928555</td>\n",
       "      <td>1.266526</td>\n",
       "      <td>1.934080</td>\n",
       "    </tr>\n",
       "    <tr>\n",
       "      <th>min</th>\n",
       "      <td>1.573800e+04</td>\n",
       "      <td>1.350000e+02</td>\n",
       "      <td>1.000000</td>\n",
       "      <td>1.000000</td>\n",
       "      <td>0.000000</td>\n",
       "      <td>1.000000</td>\n",
       "      <td>0.000000</td>\n",
       "      <td>0.000000</td>\n",
       "      <td>0.000000</td>\n",
       "      <td>1.000000</td>\n",
       "    </tr>\n",
       "    <tr>\n",
       "      <th>25%</th>\n",
       "      <td>8.502604e+07</td>\n",
       "      <td>2.340955e+07</td>\n",
       "      <td>2.000000</td>\n",
       "      <td>31.000000</td>\n",
       "      <td>0.000000</td>\n",
       "      <td>10.000000</td>\n",
       "      <td>0.000000</td>\n",
       "      <td>0.000000</td>\n",
       "      <td>0.000000</td>\n",
       "      <td>6.000000</td>\n",
       "    </tr>\n",
       "    <tr>\n",
       "      <th>50%</th>\n",
       "      <td>1.525290e+08</td>\n",
       "      <td>4.549931e+07</td>\n",
       "      <td>4.000000</td>\n",
       "      <td>44.000000</td>\n",
       "      <td>1.000000</td>\n",
       "      <td>15.000000</td>\n",
       "      <td>0.000000</td>\n",
       "      <td>0.000000</td>\n",
       "      <td>0.000000</td>\n",
       "      <td>8.000000</td>\n",
       "    </tr>\n",
       "    <tr>\n",
       "      <th>75%</th>\n",
       "      <td>2.307024e+08</td>\n",
       "      <td>8.749271e+07</td>\n",
       "      <td>6.000000</td>\n",
       "      <td>57.000000</td>\n",
       "      <td>2.000000</td>\n",
       "      <td>20.000000</td>\n",
       "      <td>0.000000</td>\n",
       "      <td>0.000000</td>\n",
       "      <td>1.000000</td>\n",
       "      <td>9.000000</td>\n",
       "    </tr>\n",
       "    <tr>\n",
       "      <th>max</th>\n",
       "      <td>4.438572e+08</td>\n",
       "      <td>1.894815e+08</td>\n",
       "      <td>14.000000</td>\n",
       "      <td>132.000000</td>\n",
       "      <td>6.000000</td>\n",
       "      <td>81.000000</td>\n",
       "      <td>40.000000</td>\n",
       "      <td>76.000000</td>\n",
       "      <td>19.000000</td>\n",
       "      <td>16.000000</td>\n",
       "    </tr>\n",
       "  </tbody>\n",
       "</table>\n",
       "</div>"
      ],
      "text/plain": [
       "       encounter_id   patient_nbr  time_in_hospital  num_lab_procedures  \\\n",
       "count  8.141200e+04  8.141200e+04      81412.000000        81412.000000   \n",
       "mean   1.654583e+08  5.432315e+07          4.401513           43.077839   \n",
       "std    1.028827e+08  3.871775e+07          2.993730           19.736568   \n",
       "min    1.573800e+04  1.350000e+02          1.000000            1.000000   \n",
       "25%    8.502604e+07  2.340955e+07          2.000000           31.000000   \n",
       "50%    1.525290e+08  4.549931e+07          4.000000           44.000000   \n",
       "75%    2.307024e+08  8.749271e+07          6.000000           57.000000   \n",
       "max    4.438572e+08  1.894815e+08         14.000000          132.000000   \n",
       "\n",
       "       num_procedures  num_medications  number_outpatient  number_emergency  \\\n",
       "count    81412.000000     81412.000000       81412.000000      81412.000000   \n",
       "mean         1.338107        16.008340           0.368115          0.198853   \n",
       "std          1.704868         8.119336           1.264267          0.928555   \n",
       "min          0.000000         1.000000           0.000000          0.000000   \n",
       "25%          0.000000        10.000000           0.000000          0.000000   \n",
       "50%          1.000000        15.000000           0.000000          0.000000   \n",
       "75%          2.000000        20.000000           0.000000          0.000000   \n",
       "max          6.000000        81.000000          40.000000         76.000000   \n",
       "\n",
       "       number_inpatient  number_diagnoses  \n",
       "count      81412.000000      81412.000000  \n",
       "mean           0.636122          7.421817  \n",
       "std            1.266526          1.934080  \n",
       "min            0.000000          1.000000  \n",
       "25%            0.000000          6.000000  \n",
       "50%            0.000000          8.000000  \n",
       "75%            1.000000          9.000000  \n",
       "max           19.000000         16.000000  "
      ]
     },
     "execution_count": 24,
     "metadata": {},
     "output_type": "execute_result"
    }
   ],
   "source": [
    "real_data.describe()"
   ]
  },
  {
   "cell_type": "code",
   "execution_count": 25,
   "metadata": {},
   "outputs": [
    {
     "data": {
      "text/html": [
       "<div>\n",
       "<style scoped>\n",
       "    .dataframe tbody tr th:only-of-type {\n",
       "        vertical-align: middle;\n",
       "    }\n",
       "\n",
       "    .dataframe tbody tr th {\n",
       "        vertical-align: top;\n",
       "    }\n",
       "\n",
       "    .dataframe thead th {\n",
       "        text-align: right;\n",
       "    }\n",
       "</style>\n",
       "<table border=\"1\" class=\"dataframe\">\n",
       "  <thead>\n",
       "    <tr style=\"text-align: right;\">\n",
       "      <th></th>\n",
       "      <th>encounter_id</th>\n",
       "      <th>patient_nbr</th>\n",
       "      <th>admission_type_id</th>\n",
       "      <th>discharge_disposition_id</th>\n",
       "      <th>admission_source_id</th>\n",
       "      <th>time_in_hospital</th>\n",
       "      <th>num_lab_procedures</th>\n",
       "      <th>num_procedures</th>\n",
       "      <th>num_medications</th>\n",
       "      <th>number_outpatient</th>\n",
       "      <th>number_emergency</th>\n",
       "      <th>number_inpatient</th>\n",
       "      <th>number_diagnoses</th>\n",
       "    </tr>\n",
       "  </thead>\n",
       "  <tbody>\n",
       "    <tr>\n",
       "      <th>count</th>\n",
       "      <td>8.141200e+04</td>\n",
       "      <td>8.141200e+04</td>\n",
       "      <td>81412.000000</td>\n",
       "      <td>81412.000000</td>\n",
       "      <td>81412.000000</td>\n",
       "      <td>81412.000000</td>\n",
       "      <td>81412.000000</td>\n",
       "      <td>81412.000000</td>\n",
       "      <td>81412.000000</td>\n",
       "      <td>81412.000000</td>\n",
       "      <td>81412.000000</td>\n",
       "      <td>81412.000000</td>\n",
       "      <td>81412.000000</td>\n",
       "    </tr>\n",
       "    <tr>\n",
       "      <th>mean</th>\n",
       "      <td>1.634468e+08</td>\n",
       "      <td>4.636116e+07</td>\n",
       "      <td>3.743343</td>\n",
       "      <td>1.165872</td>\n",
       "      <td>2.697514</td>\n",
       "      <td>3.054955</td>\n",
       "      <td>40.701137</td>\n",
       "      <td>0.731870</td>\n",
       "      <td>15.641208</td>\n",
       "      <td>0.522503</td>\n",
       "      <td>0.501806</td>\n",
       "      <td>0.866838</td>\n",
       "      <td>6.674274</td>\n",
       "    </tr>\n",
       "    <tr>\n",
       "      <th>std</th>\n",
       "      <td>4.431113e+07</td>\n",
       "      <td>2.962383e+07</td>\n",
       "      <td>1.432861</td>\n",
       "      <td>1.378410</td>\n",
       "      <td>3.192595</td>\n",
       "      <td>1.665164</td>\n",
       "      <td>12.418610</td>\n",
       "      <td>0.627382</td>\n",
       "      <td>1.944816</td>\n",
       "      <td>0.588234</td>\n",
       "      <td>0.556769</td>\n",
       "      <td>0.645175</td>\n",
       "      <td>0.877104</td>\n",
       "    </tr>\n",
       "    <tr>\n",
       "      <th>min</th>\n",
       "      <td>6.521910e+07</td>\n",
       "      <td>-7.860515e+06</td>\n",
       "      <td>1.000000</td>\n",
       "      <td>1.000000</td>\n",
       "      <td>1.000000</td>\n",
       "      <td>0.000000</td>\n",
       "      <td>20.000000</td>\n",
       "      <td>0.000000</td>\n",
       "      <td>3.000000</td>\n",
       "      <td>0.000000</td>\n",
       "      <td>0.000000</td>\n",
       "      <td>0.000000</td>\n",
       "      <td>5.000000</td>\n",
       "    </tr>\n",
       "    <tr>\n",
       "      <th>25%</th>\n",
       "      <td>1.400478e+08</td>\n",
       "      <td>2.897983e+07</td>\n",
       "      <td>3.000000</td>\n",
       "      <td>1.000000</td>\n",
       "      <td>1.000000</td>\n",
       "      <td>2.000000</td>\n",
       "      <td>31.000000</td>\n",
       "      <td>0.000000</td>\n",
       "      <td>15.000000</td>\n",
       "      <td>0.000000</td>\n",
       "      <td>0.000000</td>\n",
       "      <td>0.000000</td>\n",
       "      <td>6.000000</td>\n",
       "    </tr>\n",
       "    <tr>\n",
       "      <th>50%</th>\n",
       "      <td>1.559567e+08</td>\n",
       "      <td>3.418138e+07</td>\n",
       "      <td>5.000000</td>\n",
       "      <td>1.000000</td>\n",
       "      <td>1.000000</td>\n",
       "      <td>2.000000</td>\n",
       "      <td>36.000000</td>\n",
       "      <td>1.000000</td>\n",
       "      <td>16.000000</td>\n",
       "      <td>0.000000</td>\n",
       "      <td>0.000000</td>\n",
       "      <td>1.000000</td>\n",
       "      <td>7.000000</td>\n",
       "    </tr>\n",
       "    <tr>\n",
       "      <th>75%</th>\n",
       "      <td>1.769883e+08</td>\n",
       "      <td>6.079204e+07</td>\n",
       "      <td>5.000000</td>\n",
       "      <td>1.000000</td>\n",
       "      <td>7.000000</td>\n",
       "      <td>4.000000</td>\n",
       "      <td>49.000000</td>\n",
       "      <td>1.000000</td>\n",
       "      <td>17.000000</td>\n",
       "      <td>1.000000</td>\n",
       "      <td>1.000000</td>\n",
       "      <td>1.000000</td>\n",
       "      <td>7.000000</td>\n",
       "    </tr>\n",
       "    <tr>\n",
       "      <th>max</th>\n",
       "      <td>4.015794e+08</td>\n",
       "      <td>1.746915e+08</td>\n",
       "      <td>5.000000</td>\n",
       "      <td>14.000000</td>\n",
       "      <td>17.000000</td>\n",
       "      <td>9.000000</td>\n",
       "      <td>80.000000</td>\n",
       "      <td>3.000000</td>\n",
       "      <td>20.000000</td>\n",
       "      <td>2.000000</td>\n",
       "      <td>2.000000</td>\n",
       "      <td>2.000000</td>\n",
       "      <td>9.000000</td>\n",
       "    </tr>\n",
       "  </tbody>\n",
       "</table>\n",
       "</div>"
      ],
      "text/plain": [
       "       encounter_id   patient_nbr  admission_type_id  \\\n",
       "count  8.141200e+04  8.141200e+04       81412.000000   \n",
       "mean   1.634468e+08  4.636116e+07           3.743343   \n",
       "std    4.431113e+07  2.962383e+07           1.432861   \n",
       "min    6.521910e+07 -7.860515e+06           1.000000   \n",
       "25%    1.400478e+08  2.897983e+07           3.000000   \n",
       "50%    1.559567e+08  3.418138e+07           5.000000   \n",
       "75%    1.769883e+08  6.079204e+07           5.000000   \n",
       "max    4.015794e+08  1.746915e+08           5.000000   \n",
       "\n",
       "       discharge_disposition_id  admission_source_id  time_in_hospital  \\\n",
       "count              81412.000000         81412.000000      81412.000000   \n",
       "mean                   1.165872             2.697514          3.054955   \n",
       "std                    1.378410             3.192595          1.665164   \n",
       "min                    1.000000             1.000000          0.000000   \n",
       "25%                    1.000000             1.000000          2.000000   \n",
       "50%                    1.000000             1.000000          2.000000   \n",
       "75%                    1.000000             7.000000          4.000000   \n",
       "max                   14.000000            17.000000          9.000000   \n",
       "\n",
       "       num_lab_procedures  num_procedures  num_medications  number_outpatient  \\\n",
       "count        81412.000000    81412.000000     81412.000000       81412.000000   \n",
       "mean            40.701137        0.731870        15.641208           0.522503   \n",
       "std             12.418610        0.627382         1.944816           0.588234   \n",
       "min             20.000000        0.000000         3.000000           0.000000   \n",
       "25%             31.000000        0.000000        15.000000           0.000000   \n",
       "50%             36.000000        1.000000        16.000000           0.000000   \n",
       "75%             49.000000        1.000000        17.000000           1.000000   \n",
       "max             80.000000        3.000000        20.000000           2.000000   \n",
       "\n",
       "       number_emergency  number_inpatient  number_diagnoses  \n",
       "count      81412.000000      81412.000000      81412.000000  \n",
       "mean           0.501806          0.866838          6.674274  \n",
       "std            0.556769          0.645175          0.877104  \n",
       "min            0.000000          0.000000          5.000000  \n",
       "25%            0.000000          0.000000          6.000000  \n",
       "50%            0.000000          1.000000          7.000000  \n",
       "75%            1.000000          1.000000          7.000000  \n",
       "max            2.000000          2.000000          9.000000  "
      ]
     },
     "execution_count": 25,
     "metadata": {},
     "output_type": "execute_result"
    }
   ],
   "source": [
    "synthetic_data.describe()"
   ]
  },
  {
   "cell_type": "code",
   "execution_count": 26,
   "metadata": {},
   "outputs": [
    {
     "data": {
      "text/html": [
       "<div>\n",
       "<style scoped>\n",
       "    .dataframe tbody tr th:only-of-type {\n",
       "        vertical-align: middle;\n",
       "    }\n",
       "\n",
       "    .dataframe tbody tr th {\n",
       "        vertical-align: top;\n",
       "    }\n",
       "\n",
       "    .dataframe thead th {\n",
       "        text-align: right;\n",
       "    }\n",
       "</style>\n",
       "<table border=\"1\" class=\"dataframe\">\n",
       "  <thead>\n",
       "    <tr style=\"text-align: right;\">\n",
       "      <th></th>\n",
       "      <th>encounter_id</th>\n",
       "      <th>patient_nbr</th>\n",
       "      <th>gender</th>\n",
       "      <th>age</th>\n",
       "      <th>admission_type_id</th>\n",
       "      <th>discharge_disposition_id</th>\n",
       "      <th>admission_source_id</th>\n",
       "      <th>time_in_hospital</th>\n",
       "      <th>num_lab_procedures</th>\n",
       "      <th>num_procedures</th>\n",
       "      <th>num_medications</th>\n",
       "      <th>number_outpatient</th>\n",
       "      <th>number_emergency</th>\n",
       "      <th>number_inpatient</th>\n",
       "      <th>number_diagnoses</th>\n",
       "      <th>max_glu_serum</th>\n",
       "      <th>A1Cresult</th>\n",
       "      <th>change</th>\n",
       "      <th>diabetesMed</th>\n",
       "    </tr>\n",
       "    <tr>\n",
       "      <th>readmitted</th>\n",
       "      <th></th>\n",
       "      <th></th>\n",
       "      <th></th>\n",
       "      <th></th>\n",
       "      <th></th>\n",
       "      <th></th>\n",
       "      <th></th>\n",
       "      <th></th>\n",
       "      <th></th>\n",
       "      <th></th>\n",
       "      <th></th>\n",
       "      <th></th>\n",
       "      <th></th>\n",
       "      <th></th>\n",
       "      <th></th>\n",
       "      <th></th>\n",
       "      <th></th>\n",
       "      <th></th>\n",
       "      <th></th>\n",
       "    </tr>\n",
       "  </thead>\n",
       "  <tbody>\n",
       "    <tr>\n",
       "      <th>&lt;30</th>\n",
       "      <td>14552</td>\n",
       "      <td>14552</td>\n",
       "      <td>14552</td>\n",
       "      <td>14552</td>\n",
       "      <td>14552</td>\n",
       "      <td>14552</td>\n",
       "      <td>14552</td>\n",
       "      <td>14552</td>\n",
       "      <td>14552</td>\n",
       "      <td>14552</td>\n",
       "      <td>14552</td>\n",
       "      <td>14552</td>\n",
       "      <td>14552</td>\n",
       "      <td>14552</td>\n",
       "      <td>14552</td>\n",
       "      <td>14552</td>\n",
       "      <td>14552</td>\n",
       "      <td>14552</td>\n",
       "      <td>14552</td>\n",
       "    </tr>\n",
       "    <tr>\n",
       "      <th>&gt;30</th>\n",
       "      <td>42112</td>\n",
       "      <td>42112</td>\n",
       "      <td>42112</td>\n",
       "      <td>42112</td>\n",
       "      <td>42112</td>\n",
       "      <td>42112</td>\n",
       "      <td>42112</td>\n",
       "      <td>42112</td>\n",
       "      <td>42112</td>\n",
       "      <td>42112</td>\n",
       "      <td>42112</td>\n",
       "      <td>42112</td>\n",
       "      <td>42112</td>\n",
       "      <td>42112</td>\n",
       "      <td>42112</td>\n",
       "      <td>42112</td>\n",
       "      <td>42112</td>\n",
       "      <td>42112</td>\n",
       "      <td>42112</td>\n",
       "    </tr>\n",
       "    <tr>\n",
       "      <th>NO</th>\n",
       "      <td>24748</td>\n",
       "      <td>24748</td>\n",
       "      <td>24748</td>\n",
       "      <td>24748</td>\n",
       "      <td>24748</td>\n",
       "      <td>24748</td>\n",
       "      <td>24748</td>\n",
       "      <td>24748</td>\n",
       "      <td>24748</td>\n",
       "      <td>24748</td>\n",
       "      <td>24748</td>\n",
       "      <td>24748</td>\n",
       "      <td>24748</td>\n",
       "      <td>24748</td>\n",
       "      <td>24748</td>\n",
       "      <td>24748</td>\n",
       "      <td>24748</td>\n",
       "      <td>24748</td>\n",
       "      <td>24748</td>\n",
       "    </tr>\n",
       "  </tbody>\n",
       "</table>\n",
       "</div>"
      ],
      "text/plain": [
       "            encounter_id  patient_nbr  gender    age  admission_type_id  \\\n",
       "readmitted                                                                \n",
       "<30                14552        14552   14552  14552              14552   \n",
       ">30                42112        42112   42112  42112              42112   \n",
       "NO                 24748        24748   24748  24748              24748   \n",
       "\n",
       "            discharge_disposition_id  admission_source_id  time_in_hospital  \\\n",
       "readmitted                                                                    \n",
       "<30                            14552                14552             14552   \n",
       ">30                            42112                42112             42112   \n",
       "NO                             24748                24748             24748   \n",
       "\n",
       "            num_lab_procedures  num_procedures  num_medications  \\\n",
       "readmitted                                                        \n",
       "<30                      14552           14552            14552   \n",
       ">30                      42112           42112            42112   \n",
       "NO                       24748           24748            24748   \n",
       "\n",
       "            number_outpatient  number_emergency  number_inpatient  \\\n",
       "readmitted                                                          \n",
       "<30                     14552             14552             14552   \n",
       ">30                     42112             42112             42112   \n",
       "NO                      24748             24748             24748   \n",
       "\n",
       "            number_diagnoses  max_glu_serum  A1Cresult  change  diabetesMed  \n",
       "readmitted                                                                   \n",
       "<30                    14552          14552      14552   14552        14552  \n",
       ">30                    42112          42112      42112   42112        42112  \n",
       "NO                     24748          24748      24748   24748        24748  "
      ]
     },
     "execution_count": 26,
     "metadata": {},
     "output_type": "execute_result"
    }
   ],
   "source": [
    "synthetic_data.groupby('readmitted').count()"
   ]
  },
  {
   "cell_type": "code",
   "execution_count": 29,
   "metadata": {},
   "outputs": [],
   "source": [
    "#Save generated samples\n",
    "synthetic_data.to_csv(HOME_PATH + SYNTHETIC_FILE, index=False)"
   ]
  },
  {
   "cell_type": "code",
   "execution_count": null,
   "metadata": {},
   "outputs": [],
   "source": []
  }
 ],
 "metadata": {
  "kernelspec": {
   "display_name": "Python 3",
   "language": "python",
   "name": "python3"
  },
  "language_info": {
   "codemirror_mode": {
    "name": "ipython",
    "version": 3
   },
   "file_extension": ".py",
   "mimetype": "text/x-python",
   "name": "python",
   "nbconvert_exporter": "python",
   "pygments_lexer": "ipython3",
   "version": "3.8.5"
  }
 },
 "nbformat": 4,
 "nbformat_minor": 4
}
