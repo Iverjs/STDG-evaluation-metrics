{
 "cells": [
  {
   "cell_type": "markdown",
   "metadata": {},
   "source": [
    "# Multivariate Resemblance Analysis (MRA) Dataset A\n",
    "In this notebook the multivariate resemblance analysis of Dataset A is performed for all STDG approaches."
   ]
  },
  {
   "cell_type": "code",
   "execution_count": 1,
   "metadata": {},
   "outputs": [
    {
     "name": "stdout",
     "output_type": "stream",
     "text": [
      "Libraries imported!!\n"
     ]
    }
   ],
   "source": [
    "#import libraries\n",
    "import warnings\n",
    "warnings.filterwarnings(\"ignore\")\n",
    "import numpy as np\n",
    "import pandas as pd\n",
    "from matplotlib import pyplot as plt\n",
    "import os\n",
    "print('Libraries imported!!')"
   ]
  },
  {
   "cell_type": "code",
   "execution_count": 2,
   "metadata": {},
   "outputs": [
    {
     "name": "stdout",
     "output_type": "stream",
     "text": [
      "Functions imported!!\n"
     ]
    }
   ],
   "source": [
    "#define directory of functions and actual directory\n",
    "HOME_PATH = '' #home directory of the project\n",
    "FUNCTIONS_DIR = 'EVALUATION FUNCTIONS/RESEMBLANCE'\n",
    "ACTUAL_DIR = os.getcwd()\n",
    "\n",
    "#change directory to functions directory\n",
    "os.chdir(HOME_PATH + FUNCTIONS_DIR)\n",
    "\n",
    "#import functions for univariate resemblance analisys\n",
    "from multivariate_resemblance import get_numerical_correlations\n",
    "from multivariate_resemblance import plot_correlations\n",
    "from multivariate_resemblance import get_categorical_correlations\n",
    "from multivariate_resemblance import compute_mra_score\n",
    "\n",
    "#change directory to actual directory\n",
    "os.chdir(ACTUAL_DIR)\n",
    "print('Functions imported!!')"
   ]
  },
  {
   "cell_type": "markdown",
   "metadata": {},
   "source": [
    "## 1. Read real and synthetic datasets\n",
    "In this part real and synthetic datasets are read."
   ]
  },
  {
   "cell_type": "code",
   "execution_count": 3,
   "metadata": {},
   "outputs": [],
   "source": [
    "#Define global variables\n",
    "DATA_TYPES = ['Real','GM','SDV','CTGAN','WGANGP']\n",
    "SYNTHESIZERS = ['GM','SDV','CTGAN','WGANGP']\n",
    "FILEPATHS = {'Real' : HOME_PATH + 'REAL DATASETS/TRAIN DATASETS/A_Diabetes_Data_Real_Train.csv',\n",
    "            'GM' : HOME_PATH + 'SYNTHETIC DATASETS/GM/A_Diabetes_Data_Synthetic_GM.csv',\n",
    "            'SDV' : HOME_PATH + 'SYNTHETIC DATASETS/SDV/A_Diabetes_Data_Synthetic_SDV.csv',\n",
    "            'CTGAN' : HOME_PATH + 'SYNTHETIC DATASETS/CTGAN/A_Diabetes_Data_Synthetic_CTGAN.csv',\n",
    "            'WGANGP' : HOME_PATH + 'SYNTHETIC DATASETS/WGANGP/A_Diabetes_Data_Synthetic_WGANGP.csv'}\n",
    "categorical_columns = ['gender','age','admission_type_id','discharge_disposition_id','admission_source_id','max_glu_serum',\n",
    "                      'A1Cresult','change','diabetesMed','readmitted']\n",
    "data = dict()"
   ]
  },
  {
   "cell_type": "code",
   "execution_count": 4,
   "metadata": {},
   "outputs": [
    {
     "data": {
      "text/plain": [
       "{'Real':        encounter_id  patient_nbr  gender      age admission_type_id  \\\n",
       " 0          81844290        94788  Female  [70-80)                 1   \n",
       " 1         396159158    135023315    Male  [50-60)                 1   \n",
       " 2          31258956     18397782    Male  [80-90)                 1   \n",
       " 3         210691074     67509558    Male  [80-90)                 1   \n",
       " 4         104902980     23272362  Female  [70-80)                 1   \n",
       " ...             ...          ...     ...      ...               ...   \n",
       " 81407      31296060      3344202    Male  [70-80)                 1   \n",
       " 81408     159139902     93611655    Male  [60-70)                 5   \n",
       " 81409     232191828     85600899    Male  [70-80)                 3   \n",
       " 81410       6740700      8208234  Female  [60-70)                 6   \n",
       " 81411      60115668     77943780  Female  [40-50)                 6   \n",
       " \n",
       "       discharge_disposition_id admission_source_id  time_in_hospital  \\\n",
       " 0                            1                   7                 4   \n",
       " 1                            1                   7                 1   \n",
       " 2                            1                   7                 4   \n",
       " 3                            3                   7                 3   \n",
       " 4                           11                   7                11   \n",
       " ...                        ...                 ...               ...   \n",
       " 81407                        1                   7                 2   \n",
       " 81408                        1                   1                 5   \n",
       " 81409                        3                   1                 3   \n",
       " 81410                       25                   7                12   \n",
       " 81411                        1                  17                 1   \n",
       " \n",
       "        num_lab_procedures  num_procedures  num_medications  number_outpatient  \\\n",
       " 0                      48               0               11                  0   \n",
       " 1                      42               0                5                  0   \n",
       " 2                      44               0               10                  0   \n",
       " 3                      54               0                8                  0   \n",
       " 4                      35               3               23                  0   \n",
       " ...                   ...             ...              ...                ...   \n",
       " 81407                  35               0               12                  0   \n",
       " 81408                  63               2               23                  0   \n",
       " 81409                  55               1               33                  0   \n",
       " 81410                  77               2               21                  0   \n",
       " 81411                   2               5               17                  0   \n",
       " \n",
       "        number_emergency  number_inpatient  number_diagnoses max_glu_serum  \\\n",
       " 0                     0                 0                 9          None   \n",
       " 1                     0                 0                 6          None   \n",
       " 2                     0                 0                 7          None   \n",
       " 3                     0                 0                 8          None   \n",
       " 4                     0                 1                 8          None   \n",
       " ...                 ...               ...               ...           ...   \n",
       " 81407                 0                 0                 9          None   \n",
       " 81408                 0                 0                 9          None   \n",
       " 81409                 0                 0                 9          None   \n",
       " 81410                 0                 0                 9          None   \n",
       " 81411                 0                 0                 7          None   \n",
       " \n",
       "       A1Cresult change diabetesMed readmitted  \n",
       " 0          Norm     No          No         NO  \n",
       " 1          None     No          No        >30  \n",
       " 2          None     No         Yes         NO  \n",
       " 3          None     Ch         Yes         NO  \n",
       " 4          None     No          No         NO  \n",
       " ...         ...    ...         ...        ...  \n",
       " 81407      None     No          No        >30  \n",
       " 81408      None     Ch         Yes        <30  \n",
       " 81409      None     Ch         Yes         NO  \n",
       " 81410      None     Ch         Yes        >30  \n",
       " 81411      None     Ch         Yes         NO  \n",
       " \n",
       " [81412 rows x 20 columns],\n",
       " 'GM':        encounter_id  patient_nbr  gender       age admission_type_id  \\\n",
       " 0          55263844     73425914    Male   [70-80)                 2   \n",
       " 1          70034002     36749733  Female   [80-90)                 2   \n",
       " 2         428180152    136154611    Male   [70-80)                 3   \n",
       " 3          36215451      5314375  Female   [70-80)                 6   \n",
       " 4         132810221     70592062  Female   [70-80)                 5   \n",
       " ...             ...          ...     ...       ...               ...   \n",
       " 81407      52044663     14996419  Female  [90-100)                 1   \n",
       " 81408     156727385    105999805  Female   [50-60)                 1   \n",
       " 81409      81094768     31322560  Female   [40-50)                 3   \n",
       " 81410      10611239     25019256    Male   [40-50)                 2   \n",
       " 81411     160663646     26115229    Male   [50-60)                 2   \n",
       " \n",
       "       discharge_disposition_id admission_source_id  time_in_hospital  \\\n",
       " 0                            1                   1                 4   \n",
       " 1                           13                   1                 5   \n",
       " 2                            1                   1                 3   \n",
       " 3                           25                   7                 2   \n",
       " 4                            3                   6                 2   \n",
       " ...                        ...                 ...               ...   \n",
       " 81407                        1                   7                 7   \n",
       " 81408                        6                  17                 2   \n",
       " 81409                        3                  17                 0   \n",
       " 81410                        1                   7                13   \n",
       " 81411                        6                   7                 3   \n",
       " \n",
       "        num_lab_procedures  num_procedures  num_medications  number_outpatient  \\\n",
       " 0                      46               1               11                  0   \n",
       " 1                      44               2               21                  2   \n",
       " 2                      60               0               18                  0   \n",
       " 3                      48               0               17                  0   \n",
       " 4                      12               0               15                  0   \n",
       " ...                   ...             ...              ...                ...   \n",
       " 81407                  70               0               27                  0   \n",
       " 81408                  55               0               14                  0   \n",
       " 81409                  23               0               10                  2   \n",
       " 81410                  43               1               13                  0   \n",
       " 81411                  70               0               11                  1   \n",
       " \n",
       "        number_emergency  number_inpatient  number_diagnoses max_glu_serum  \\\n",
       " 0                     0                 0                 7          None   \n",
       " 1                     0                 1                 8          None   \n",
       " 2                     0                 0                 6          None   \n",
       " 3                     0                 2                 8          None   \n",
       " 4                     0                 0                 5          None   \n",
       " ...                 ...               ...               ...           ...   \n",
       " 81407                 0                 0                 8          None   \n",
       " 81408                 0                 0                 9          None   \n",
       " 81409                 1                 0                 4          None   \n",
       " 81410                 0                 0                 6          None   \n",
       " 81411                 0                 0                 7          None   \n",
       " \n",
       "       A1Cresult change diabetesMed readmitted  \n",
       " 0          None     No         Yes        >30  \n",
       " 1          None     No         Yes        <30  \n",
       " 2          None     No          No        <30  \n",
       " 3          None     Ch         Yes         NO  \n",
       " 4          None     No         Yes         NO  \n",
       " ...         ...    ...         ...        ...  \n",
       " 81407      None     Ch         Yes         NO  \n",
       " 81408      None     No          No         NO  \n",
       " 81409      None     No         Yes        >30  \n",
       " 81410      None     No         Yes        <30  \n",
       " 81411      None     No         Yes         NO  \n",
       " \n",
       " [81412 rows x 20 columns],\n",
       " 'SDV':        encounter_id  patient_nbr  gender      age admission_type_id  \\\n",
       " 0         -28804602     41361052    Male  [50-60)                 3   \n",
       " 1          44295622     42357617  Female  [50-60)                 1   \n",
       " 2         120436308     80879232  Female  [70-80)                 3   \n",
       " 3         240827370     61122839    Male  [60-70)                 1   \n",
       " 4         291306426    102313008  Female  [40-50)                 1   \n",
       " ...             ...          ...     ...      ...               ...   \n",
       " 81407     188165461    111175154    Male  [80-90)                 3   \n",
       " 81408      39568334     17946770    Male  [80-90)                 8   \n",
       " 81409     211986492     54424724    Male  [40-50)                 1   \n",
       " 81410     238225577     70292306    Male  [80-90)                 1   \n",
       " 81411     278154698     95047945    Male  [60-70)                 1   \n",
       " \n",
       "       discharge_disposition_id admission_source_id  time_in_hospital  \\\n",
       " 0                            1                   6                 5   \n",
       " 1                           25                   7                 6   \n",
       " 2                            1                   2                 9   \n",
       " 3                            3                   7                 5   \n",
       " 4                            1                   1                 7   \n",
       " ...                        ...                 ...               ...   \n",
       " 81407                        1                   4                 5   \n",
       " 81408                        1                   7                 8   \n",
       " 81409                        6                   7                 2   \n",
       " 81410                        1                   7                 4   \n",
       " 81411                        1                   7                 3   \n",
       " \n",
       "        num_lab_procedures  num_procedures  num_medications  number_outpatient  \\\n",
       " 0                      14               2               26                  1   \n",
       " 1                      77               2               15                  1   \n",
       " 2                      49               2               18                  0   \n",
       " 3                      65               2               33                  1   \n",
       " 4                      69               2               21                 -1   \n",
       " ...                   ...             ...              ...                ...   \n",
       " 81407                  34               2               13                  0   \n",
       " 81408                  65               3               15                  0   \n",
       " 81409                  42               1               18                 -2   \n",
       " 81410                  30              -1               19                  1   \n",
       " 81411                  48               0               19                  1   \n",
       " \n",
       "        number_emergency  number_inpatient  number_diagnoses max_glu_serum  \\\n",
       " 0                    -1                 1                 6          None   \n",
       " 1                     0                 1                 8          None   \n",
       " 2                     1                 1                 9          None   \n",
       " 3                    -1                 1                 9          None   \n",
       " 4                     0                 2                 7          None   \n",
       " ...                 ...               ...               ...           ...   \n",
       " 81407                 1                 0                 8          None   \n",
       " 81408                 0                 2                 9          None   \n",
       " 81409                 2                 2                10          None   \n",
       " 81410                -1                 2                 7          None   \n",
       " 81411                 1                 1                 6          None   \n",
       " \n",
       "       A1Cresult change diabetesMed readmitted  \n",
       " 0          None     No          No         NO  \n",
       " 1          None     No         Yes        >30  \n",
       " 2          None     No         Yes         NO  \n",
       " 3          None     Ch         Yes         NO  \n",
       " 4          None     No         Yes         NO  \n",
       " ...         ...    ...         ...        ...  \n",
       " 81407      None     No         Yes         NO  \n",
       " 81408      None     No         Yes        >30  \n",
       " 81409      None     No         Yes         NO  \n",
       " 81410      None     No          No         NO  \n",
       " 81411      None     No         Yes        >30  \n",
       " \n",
       " [81412 rows x 20 columns],\n",
       " 'CTGAN':        encounter_id  patient_nbr  gender      age admission_type_id  \\\n",
       " 0         178760744     61269320  Female  [60-70)                 3   \n",
       " 1         275127896     37904511    Male  [50-60)                 3   \n",
       " 2          88957358     23026313  Female  [70-80)                 2   \n",
       " 3         362071111    114265419  Female  [50-60)                 1   \n",
       " 4         160779558     92169994    Male  [40-50)                 1   \n",
       " ...             ...          ...     ...      ...               ...   \n",
       " 81407      55916783       962667  Female  [70-80)                 1   \n",
       " 81408     383410659     88478903  Female  [50-60)                 1   \n",
       " 81409     163294538     52575141  Female  [80-90)                 1   \n",
       " 81410     112081539      4929517  Female  [70-80)                 1   \n",
       " 81411      27107267     20836275    Male  [50-60)                 2   \n",
       " \n",
       "       discharge_disposition_id admission_source_id  time_in_hospital  \\\n",
       " 0                            1                   1                 4   \n",
       " 1                            1                   1                 3   \n",
       " 2                            1                  10                 3   \n",
       " 3                            1                   7                 2   \n",
       " 4                            1                   7                 4   \n",
       " ...                        ...                 ...               ...   \n",
       " 81407                        6                   7                 4   \n",
       " 81408                        1                   7                10   \n",
       " 81409                        3                   7                 9   \n",
       " 81410                       11                   7                 6   \n",
       " 81411                        1                   4                 2   \n",
       " \n",
       "        num_lab_procedures  num_procedures  num_medications  number_outpatient  \\\n",
       " 0                      55               1               22                  0   \n",
       " 1                      61               2               17                  0   \n",
       " 2                      46               0               17                  0   \n",
       " 3                      46               0                7                  0   \n",
       " 4                      35               1               12                  0   \n",
       " ...                   ...             ...              ...                ...   \n",
       " 81407                  69               0               17                  0   \n",
       " 81408                  45               2               10                  0   \n",
       " 81409                  45               2               16                  0   \n",
       " 81410                  78               2               17                  0   \n",
       " 81411                  30               0                8                  0   \n",
       " \n",
       "        number_emergency  number_inpatient  number_diagnoses max_glu_serum  \\\n",
       " 0                     0                 0                 7          None   \n",
       " 1                     0                 0                 7          None   \n",
       " 2                     0                 0                 5          None   \n",
       " 3                     0                 0                 7          None   \n",
       " 4                     1                 2                 7          None   \n",
       " ...                 ...               ...               ...           ...   \n",
       " 81407                 0                 1                 9          None   \n",
       " 81408                 1                 1                 8          None   \n",
       " 81409                 0                 1                 9          None   \n",
       " 81410                 0                 0                 4          None   \n",
       " 81411                 0                 1                 4          >200   \n",
       " \n",
       "       A1Cresult change diabetesMed readmitted  \n",
       " 0            >8     Ch         Yes         NO  \n",
       " 1          None     Ch         Yes         NO  \n",
       " 2          None     No         Yes         NO  \n",
       " 3          None     No          No         NO  \n",
       " 4          None     No          No        >30  \n",
       " ...         ...    ...         ...        ...  \n",
       " 81407        >8     No         Yes         NO  \n",
       " 81408      Norm     Ch         Yes        >30  \n",
       " 81409      None     No          No         NO  \n",
       " 81410      None     No         Yes         NO  \n",
       " 81411      None     No         Yes        >30  \n",
       " \n",
       " [81412 rows x 20 columns],\n",
       " 'WGANGP':        encounter_id  patient_nbr  gender      age admission_type_id  \\\n",
       " 0         160291792     30203270  Female  [60-70)                 5   \n",
       " 1         150234576     23529820  Female  [60-70)                 5   \n",
       " 2         157173424     32108070  Female  [60-70)                 5   \n",
       " 3         170411776     42212280    Male  [60-70)                 5   \n",
       " 4         162151744     32820374  Female  [60-70)                 5   \n",
       " ...             ...          ...     ...      ...               ...   \n",
       " 81407     157678000     37311180  Female  [60-70)                 5   \n",
       " 81408     150013616     62489392    Male  [60-70)                 2   \n",
       " 81409     102509624      9322925    Male  [60-70)                 3   \n",
       " 81410     154289120     29546988  Female  [60-70)                 5   \n",
       " 81411     152470064     40726996    Male  [60-70)                 5   \n",
       " \n",
       "       discharge_disposition_id admission_source_id  time_in_hospital  \\\n",
       " 0                            1                   1                 2   \n",
       " 1                            1                   1                 1   \n",
       " 2                            1                   1                 2   \n",
       " 3                            1                   1                 2   \n",
       " 4                            1                   1                 2   \n",
       " ...                        ...                 ...               ...   \n",
       " 81407                        1                   1                 3   \n",
       " 81408                        1                   7                 6   \n",
       " 81409                        1                   1                 3   \n",
       " 81410                        1                   1                 2   \n",
       " 81411                        1                  17                 4   \n",
       " \n",
       "        num_lab_procedures  num_procedures  num_medications  number_outpatient  \\\n",
       " 0                      30               0               15                  1   \n",
       " 1                      24               0               15                  2   \n",
       " 2                      30               1               16                  1   \n",
       " 3                      33               1               15                  0   \n",
       " 4                      34               0               15                  1   \n",
       " ...                   ...             ...              ...                ...   \n",
       " 81407                  35               0               15                  1   \n",
       " 81408                  61               2               19                  0   \n",
       " 81409                  36               1               18                  0   \n",
       " 81410                  27               1               16                  2   \n",
       " 81411                  28               1               16                  0   \n",
       " \n",
       "        number_emergency  number_inpatient  number_diagnoses max_glu_serum  \\\n",
       " 0                     1                 1                 6          None   \n",
       " 1                     2                 2                 5          None   \n",
       " 2                     1                 1                 6          None   \n",
       " 3                     1                 1                 7          None   \n",
       " 4                     1                 1                 6          None   \n",
       " ...                 ...               ...               ...           ...   \n",
       " 81407                 1                 1                 6          None   \n",
       " 81408                 0                 1                 8          None   \n",
       " 81409                 0                 0                 7          None   \n",
       " 81410                 2                 2                 5          None   \n",
       " 81411                 0                 0                 7          None   \n",
       " \n",
       "       A1Cresult change diabetesMed readmitted  \n",
       " 0          None     Ch         Yes        >30  \n",
       " 1          None     Ch         Yes        >30  \n",
       " 2          None     Ch         Yes        >30  \n",
       " 3          None     Ch         Yes         NO  \n",
       " 4          None     Ch         Yes        >30  \n",
       " ...         ...    ...         ...        ...  \n",
       " 81407      None     Ch         Yes        >30  \n",
       " 81408      None     Ch         Yes        <30  \n",
       " 81409      None     Ch         Yes         NO  \n",
       " 81410      None     Ch         Yes        >30  \n",
       " 81411      None     Ch         Yes         NO  \n",
       " \n",
       " [81412 rows x 20 columns]}"
      ]
     },
     "execution_count": 4,
     "metadata": {},
     "output_type": "execute_result"
    }
   ],
   "source": [
    "#iterate over all datasets filepaths and read each dataset\n",
    "for name, path in FILEPATHS.items() :\n",
    "    data[name] = pd.read_csv(path)\n",
    "    for col in categorical_columns :\n",
    "        data[name][col] = data[name][col].astype('category')\n",
    "data"
   ]
  },
  {
   "cell_type": "markdown",
   "metadata": {},
   "source": [
    "## 2. Plot PPC matrixes and calculate matrixes norms"
   ]
  },
  {
   "cell_type": "code",
   "execution_count": 5,
   "metadata": {},
   "outputs": [
    {
     "data": {
      "text/plain": [
       "{'Real': 3.5489, 'GM': 3.4884, 'SDV': 3.552, 'CTGAN': 3.6043, 'WGANGP': 5.3697}"
      ]
     },
     "execution_count": 5,
     "metadata": {},
     "output_type": "execute_result"
    }
   ],
   "source": [
    "#compute correlation matrixes for all datasets\n",
    "cors_numerical = dict()\n",
    "norms_numerical = dict()\n",
    "for name in DATA_TYPES :\n",
    "    cors_numerical[name], norms_numerical[name] = get_numerical_correlations(data[name])\n",
    "norms_numerical"
   ]
  },
  {
   "cell_type": "code",
   "execution_count": 6,
   "metadata": {},
   "outputs": [
    {
     "data": {
      "image/png": "[encoded data removed]",
      "text/plain": [
       "<Figure size 1080x180 with 6 Axes>"
      ]
     },
     "metadata": {
      "needs_background": "light"
     },
     "output_type": "display_data"
    }
   ],
   "source": [
    "fig, axs = plt.subplots(nrows=1, ncols=5, figsize=(15, 2.5))\n",
    "axs_idxs = range(6)\n",
    "idx = dict(zip(DATA_TYPES,axs_idxs))\n",
    "\n",
    "for name_idx, name in enumerate(DATA_TYPES) :\n",
    "    ax = axs[idx[name]]\n",
    "    matrix = cors_numerical[name]\n",
    "    \n",
    "    if name_idx != len(DATA_TYPES) - 1:\n",
    "        plot_correlations(matrix, ax, color_bar=False)\n",
    "    else:\n",
    "        plot_correlations(matrix, ax, color_bar=True)\n",
    "    \n",
    "    if name_idx > 0:\n",
    "        ax.set_yticks([])    \n",
    "    \n",
    "    if name == 'Real' :\n",
    "        ax.set_title(name)\n",
    "    else :\n",
    "        score = compute_mra_score(cors_numerical['Real'], matrix)\n",
    "        ax.set_title(name + ' (' + str(score) + ')')\n",
    "    \n",
    "fig.savefig('MULTIVARIATE RESEMBLANCE RESULTS/PPC_Matrices.svg', bbox_inches='tight')"
   ]
  },
  {
   "cell_type": "markdown",
   "metadata": {},
   "source": [
    "## 3. Plot correlations for categorical variables and calculate matrixes norms"
   ]
  },
  {
   "cell_type": "code",
   "execution_count": 7,
   "metadata": {},
   "outputs": [
    {
     "data": {
      "text/plain": [
       "{'Real': 1.6232,\n",
       " 'GM': 1.5073,\n",
       " 'SDV': 1.4454,\n",
       " 'CTGAN': 1.8627,\n",
       " 'WGANGP': 3.2951}"
      ]
     },
     "execution_count": 7,
     "metadata": {},
     "output_type": "execute_result"
    }
   ],
   "source": [
    "#compute correlation matrixes for all datasets\n",
    "cors_categorical = dict()\n",
    "norms_categorical = dict()\n",
    "for name in DATA_TYPES :\n",
    "    cors_categorical[name], norms_categorical[name] = get_categorical_correlations(data[name])\n",
    "norms_categorical"
   ]
  },
  {
   "cell_type": "code",
   "execution_count": 8,
   "metadata": {},
   "outputs": [
    {
     "data": {
      "image/png": "[encoded data removed]",
      "text/plain": [
       "<Figure size 1080x180 with 6 Axes>"
      ]
     },
     "metadata": {
      "needs_background": "light"
     },
     "output_type": "display_data"
    }
   ],
   "source": [
    "fig, axs = plt.subplots(nrows=1, ncols=5, figsize=(15, 2.5))\n",
    "axs_idxs = range(6)\n",
    "idx = dict(zip(DATA_TYPES,axs_idxs))\n",
    "first = True\n",
    "\n",
    "for name_idx, name in enumerate(DATA_TYPES) :\n",
    "    ax = axs[idx[name]]\n",
    "    matrix = cors_categorical[name]\n",
    "    \n",
    "    if name_idx != len(DATA_TYPES) - 1:\n",
    "        plot_correlations(matrix, ax, color_bar=False)\n",
    "    else:\n",
    "        plot_correlations(matrix, ax, color_bar=True)\n",
    "    \n",
    "    if name_idx > 0:\n",
    "        ax.set_yticks([])    \n",
    "\n",
    "    if name == 'Real' :\n",
    "        ax.set_title(name)\n",
    "    else :\n",
    "        score = compute_mra_score(cors_categorical['Real'], matrix)\n",
    "        ax.set_title(name + ' (' + str(score) + ')')\n",
    "        \n",
    "fig.savefig('MULTIVARIATE RESEMBLANCE RESULTS/Categorical_Matrices.svg', bbox_inches='tight')"
   ]
  },
  {
   "cell_type": "markdown",
   "metadata": {},
   "source": [
    "## 4. Explore the results"
   ]
  },
  {
   "cell_type": "code",
   "execution_count": 9,
   "metadata": {},
   "outputs": [
    {
     "data": {
      "text/plain": [
       "{'Real': 3.5489, 'GM': 3.4884, 'SDV': 3.552, 'CTGAN': 3.6043, 'WGANGP': 5.3697}"
      ]
     },
     "execution_count": 9,
     "metadata": {},
     "output_type": "execute_result"
    }
   ],
   "source": [
    "norms_numerical"
   ]
  },
  {
   "cell_type": "code",
   "execution_count": 10,
   "metadata": {
    "scrolled": true
   },
   "outputs": [
    {
     "data": {
      "text/plain": [
       "{'Real': 1.6232,\n",
       " 'GM': 1.5073,\n",
       " 'SDV': 1.4454,\n",
       " 'CTGAN': 1.8627,\n",
       " 'WGANGP': 3.2951}"
      ]
     },
     "execution_count": 10,
     "metadata": {},
     "output_type": "execute_result"
    }
   ],
   "source": [
    "norms_categorical"
   ]
  },
  {
   "cell_type": "code",
   "execution_count": 11,
   "metadata": {},
   "outputs": [
    {
     "data": {
      "text/html": [
       "<div>\n",
       "<style scoped>\n",
       "    .dataframe tbody tr th:only-of-type {\n",
       "        vertical-align: middle;\n",
       "    }\n",
       "\n",
       "    .dataframe tbody tr th {\n",
       "        vertical-align: top;\n",
       "    }\n",
       "\n",
       "    .dataframe thead th {\n",
       "        text-align: right;\n",
       "    }\n",
       "</style>\n",
       "<table border=\"1\" class=\"dataframe\">\n",
       "  <thead>\n",
       "    <tr style=\"text-align: right;\">\n",
       "      <th></th>\n",
       "      <th>Real</th>\n",
       "      <th>GM</th>\n",
       "      <th>SDV</th>\n",
       "      <th>CTGAN</th>\n",
       "      <th>WGANGP</th>\n",
       "    </tr>\n",
       "  </thead>\n",
       "  <tbody>\n",
       "    <tr>\n",
       "      <th>PPC_MATRIX_NORMS</th>\n",
       "      <td>3.5489</td>\n",
       "      <td>3.4884</td>\n",
       "      <td>3.5520</td>\n",
       "      <td>3.6043</td>\n",
       "      <td>5.3697</td>\n",
       "    </tr>\n",
       "    <tr>\n",
       "      <th>CATEGORICAL_CORS_MATRIX_NORMS</th>\n",
       "      <td>1.6232</td>\n",
       "      <td>1.5073</td>\n",
       "      <td>1.4454</td>\n",
       "      <td>1.8627</td>\n",
       "      <td>3.2951</td>\n",
       "    </tr>\n",
       "  </tbody>\n",
       "</table>\n",
       "</div>"
      ],
      "text/plain": [
       "                                 Real      GM     SDV   CTGAN  WGANGP\n",
       "PPC_MATRIX_NORMS               3.5489  3.4884  3.5520  3.6043  5.3697\n",
       "CATEGORICAL_CORS_MATRIX_NORMS  1.6232  1.5073  1.4454  1.8627  3.2951"
      ]
     },
     "execution_count": 11,
     "metadata": {},
     "output_type": "execute_result"
    }
   ],
   "source": [
    "norms_data = [np.asarray(list(norms_numerical.values())), np.asarray(list(norms_categorical.values()))]\n",
    "df_norms = pd.DataFrame(data=norms_data, columns=DATA_TYPES, index=['PPC_MATRIX_NORMS','CATEGORICAL_CORS_MATRIX_NORMS'])\n",
    "df_norms.to_csv('MULTIVARIATE RESEMBLANCE RESULTS/Correlation_Matrix_Norms.csv')\n",
    "df_norms"
   ]
  },
  {
   "cell_type": "code",
   "execution_count": null,
   "metadata": {},
   "outputs": [],
   "source": []
  }
 ],
 "metadata": {
  "kernelspec": {
   "display_name": "Python 3",
   "language": "python",
   "name": "python3"
  },
  "language_info": {
   "codemirror_mode": {
    "name": "ipython",
    "version": 3
   },
   "file_extension": ".py",
   "mimetype": "text/x-python",
   "name": "python",
   "nbconvert_exporter": "python",
   "pygments_lexer": "ipython3",
   "version": "3.8.5"
  }
 },
 "nbformat": 4,
 "nbformat_minor": 5
}
